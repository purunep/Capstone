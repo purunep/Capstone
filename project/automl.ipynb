{
 "cells": [
  {
   "cell_type": "markdown",
   "metadata": {},
   "source": [
    "# Automated ML\n"
   ]
  },
  {
   "cell_type": "code",
   "execution_count": null,
   "metadata": {
    "gather": {
     "logged": 1609085952213
    },
    "jupyter": {
     "outputs_hidden": false,
     "source_hidden": false
    },
    "nteract": {
     "transient": {
      "deleting": false
     }
    }
   },
   "outputs": [],
   "source": [
    "import logging\n",
    "import os\n",
    "import csv\n",
    "\n",
    "from matplotlib import pyplot as plt\n",
    "import numpy as np\n",
    "import pandas as pd\n",
    "import pkg_resources\n",
    "import azureml.core\n",
    "from azureml.core.experiment import Experiment\n",
    "from azureml.core.workspace import Workspace\n",
    "from azureml.train.automl import AutoMLConfig\n",
    "from azureml.pipeline.steps import AutoMLStep\n",
    "\n"
   ]
  },
  {
   "cell_type": "code",
   "execution_count": null,
   "metadata": {},
   "outputs": [],
   "source": [
    "# Check core SDK version number\n",
    "print(\"SDK version:\", azureml.core.VERSION)"
   ]
  },
  {
   "cell_type": "code",
   "execution_count": null,
   "metadata": {},
   "outputs": [],
   "source": [
    "ws = Workspace.from_config()\n",
    "\n",
    "# choose a name for experiment\n",
    "experiment_name = 'puru-auto-experiment'\n",
    "\n",
    "experiment=Experiment(ws, experiment_name)"
   ]
  },
  {
   "cell_type": "code",
   "execution_count": null,
   "metadata": {},
   "outputs": [],
   "source": [
    "print('Workspace name: ' + ws.name, \n",
    "      'Azure region: ' + ws.location, \n",
    "      'Subscription id: ' + ws.subscription_id, \n",
    "      'Resource group: ' + ws.resource_group, sep = '\\n')"
   ]
  },
  {
   "cell_type": "code",
   "execution_count": null,
   "metadata": {},
   "outputs": [],
   "source": [
    "# create or attach an existing compute cluster\n",
    "from azureml.core.compute import ComputeTarget, AmlCompute\n",
    "from azureml.core.compute_target import ComputeTargetException\n",
    "\n",
    "# set name of CPU cluster\n",
    "cpu_cluster_name = \"puru-compute-new\"\n",
    "\n",
    "# Verify that cluster does not exist already\n",
    "try:\n",
    "    cpu_cluster = ComputeTarget(workspace=ws, name=cpu_cluster_name)\n",
    "    print('Found existing cluster, using it.')\n",
    "except ComputeTargetException:\n",
    "    print('Creating a new compute target...')\n",
    "    compute_config = AmlCompute.provisioning_configuration(vm_size='STANDARD_D2_V2',\n",
    "                                                           max_nodes=4)\n",
    "    cpu_cluster = ComputeTarget.create(ws, cpu_cluster_name, compute_config)\n",
    "\n",
    "# wait for completion\n",
    "cpu_cluster.wait_for_completion(show_output=True)"
   ]
  },
  {
   "cell_type": "markdown",
   "metadata": {},
   "source": [
    "## Dataset\n",
    "\n",
    "### Overview\n",
    "I am using external data source from Kaggle. I have already downloaded the data from Kaggle and uploaded in my github project, so that we can give the data source as url. \n",
    "The objective of the dataset is to diagnostically predict whether or not a patient has diabetes, based on certain diagnostic measurements included in the dataset. The target (label) is \"Outcome\" column with values of 1 means has diabetes and 0 means no diabetes. We will be using all independent varialbles from the datasets like: preganicies the patient has had, their BMI, insulin level, age and so on."
   ]
  },
  {
   "cell_type": "code",
   "execution_count": 5,
   "metadata": {
    "gather": {
     "logged": 1609086014420
    }
   },
   "outputs": [
    {
     "data": {
      "text/html": [
       "<div>\n",
       "<style scoped>\n",
       "    .dataframe tbody tr th:only-of-type {\n",
       "        vertical-align: middle;\n",
       "    }\n",
       "\n",
       "    .dataframe tbody tr th {\n",
       "        vertical-align: top;\n",
       "    }\n",
       "\n",
       "    .dataframe thead th {\n",
       "        text-align: right;\n",
       "    }\n",
       "</style>\n",
       "<table border=\"1\" class=\"dataframe\">\n",
       "  <thead>\n",
       "    <tr style=\"text-align: right;\">\n",
       "      <th></th>\n",
       "      <th>Pregnancies</th>\n",
       "      <th>Glucose</th>\n",
       "      <th>BloodPressure</th>\n",
       "      <th>SkinThickness</th>\n",
       "      <th>Insulin</th>\n",
       "      <th>BMI</th>\n",
       "      <th>DiabetesPedigreeFunction</th>\n",
       "      <th>Age</th>\n",
       "      <th>Outcome</th>\n",
       "    </tr>\n",
       "  </thead>\n",
       "  <tbody>\n",
       "    <tr>\n",
       "      <th>count</th>\n",
       "      <td>768.000000</td>\n",
       "      <td>768.000000</td>\n",
       "      <td>768.000000</td>\n",
       "      <td>768.000000</td>\n",
       "      <td>768.000000</td>\n",
       "      <td>768.000000</td>\n",
       "      <td>768.000000</td>\n",
       "      <td>768.000000</td>\n",
       "      <td>768.000000</td>\n",
       "    </tr>\n",
       "    <tr>\n",
       "      <th>mean</th>\n",
       "      <td>3.845052</td>\n",
       "      <td>120.894531</td>\n",
       "      <td>69.105469</td>\n",
       "      <td>20.536458</td>\n",
       "      <td>79.799479</td>\n",
       "      <td>31.992578</td>\n",
       "      <td>0.471876</td>\n",
       "      <td>33.240885</td>\n",
       "      <td>0.348958</td>\n",
       "    </tr>\n",
       "    <tr>\n",
       "      <th>std</th>\n",
       "      <td>3.369578</td>\n",
       "      <td>31.972618</td>\n",
       "      <td>19.355807</td>\n",
       "      <td>15.952218</td>\n",
       "      <td>115.244002</td>\n",
       "      <td>7.884160</td>\n",
       "      <td>0.331329</td>\n",
       "      <td>11.760232</td>\n",
       "      <td>0.476951</td>\n",
       "    </tr>\n",
       "    <tr>\n",
       "      <th>min</th>\n",
       "      <td>0.000000</td>\n",
       "      <td>0.000000</td>\n",
       "      <td>0.000000</td>\n",
       "      <td>0.000000</td>\n",
       "      <td>0.000000</td>\n",
       "      <td>0.000000</td>\n",
       "      <td>0.078000</td>\n",
       "      <td>21.000000</td>\n",
       "      <td>0.000000</td>\n",
       "    </tr>\n",
       "    <tr>\n",
       "      <th>25%</th>\n",
       "      <td>1.000000</td>\n",
       "      <td>99.000000</td>\n",
       "      <td>62.000000</td>\n",
       "      <td>0.000000</td>\n",
       "      <td>0.000000</td>\n",
       "      <td>27.300000</td>\n",
       "      <td>0.243750</td>\n",
       "      <td>24.000000</td>\n",
       "      <td>0.000000</td>\n",
       "    </tr>\n",
       "    <tr>\n",
       "      <th>50%</th>\n",
       "      <td>3.000000</td>\n",
       "      <td>117.000000</td>\n",
       "      <td>72.000000</td>\n",
       "      <td>23.000000</td>\n",
       "      <td>30.500000</td>\n",
       "      <td>32.000000</td>\n",
       "      <td>0.372500</td>\n",
       "      <td>29.000000</td>\n",
       "      <td>0.000000</td>\n",
       "    </tr>\n",
       "    <tr>\n",
       "      <th>75%</th>\n",
       "      <td>6.000000</td>\n",
       "      <td>140.250000</td>\n",
       "      <td>80.000000</td>\n",
       "      <td>32.000000</td>\n",
       "      <td>127.250000</td>\n",
       "      <td>36.600000</td>\n",
       "      <td>0.626250</td>\n",
       "      <td>41.000000</td>\n",
       "      <td>1.000000</td>\n",
       "    </tr>\n",
       "    <tr>\n",
       "      <th>max</th>\n",
       "      <td>17.000000</td>\n",
       "      <td>199.000000</td>\n",
       "      <td>122.000000</td>\n",
       "      <td>99.000000</td>\n",
       "      <td>846.000000</td>\n",
       "      <td>67.100000</td>\n",
       "      <td>2.420000</td>\n",
       "      <td>81.000000</td>\n",
       "      <td>1.000000</td>\n",
       "    </tr>\n",
       "  </tbody>\n",
       "</table>\n",
       "</div>"
      ],
      "text/plain": [
       "       Pregnancies     Glucose  BloodPressure  SkinThickness     Insulin  \\\n",
       "count   768.000000  768.000000     768.000000     768.000000  768.000000   \n",
       "mean      3.845052  120.894531      69.105469      20.536458   79.799479   \n",
       "std       3.369578   31.972618      19.355807      15.952218  115.244002   \n",
       "min       0.000000    0.000000       0.000000       0.000000    0.000000   \n",
       "25%       1.000000   99.000000      62.000000       0.000000    0.000000   \n",
       "50%       3.000000  117.000000      72.000000      23.000000   30.500000   \n",
       "75%       6.000000  140.250000      80.000000      32.000000  127.250000   \n",
       "max      17.000000  199.000000     122.000000      99.000000  846.000000   \n",
       "\n",
       "              BMI  DiabetesPedigreeFunction         Age     Outcome  \n",
       "count  768.000000                768.000000  768.000000  768.000000  \n",
       "mean    31.992578                  0.471876   33.240885    0.348958  \n",
       "std      7.884160                  0.331329   11.760232    0.476951  \n",
       "min      0.000000                  0.078000   21.000000    0.000000  \n",
       "25%     27.300000                  0.243750   24.000000    0.000000  \n",
       "50%     32.000000                  0.372500   29.000000    0.000000  \n",
       "75%     36.600000                  0.626250   41.000000    1.000000  \n",
       "max     67.100000                  2.420000   81.000000    1.000000  "
      ]
     },
     "execution_count": 5,
     "metadata": {},
     "output_type": "execute_result"
    }
   ],
   "source": [
    "from azureml.data.dataset_factory import TabularDatasetFactory\n",
    "from azureml.core import Dataset\n",
    "# NOTE: update the key to match the dataset name\n",
    "found = False\n",
    "key = \"diabetes-classification\"\n",
    "description_text = \"Diabetes datasets for capstone project\"\n",
    "\n",
    "if key in ws.datasets.keys(): \n",
    "        found = True        \n",
    "        dataset = ws.datasets[key] \n",
    "\n",
    "if not found:\n",
    "        # Create Hyperdrive Dataset and register it into Workspace\n",
    "        url = 'https://raw.githubusercontent.com/purunep/Capstoneproject/main/project/data/diabetes.csv'\n",
    "        dataset = Dataset.Tabular.from_delimited_files(url)        \n",
    "        #Register Dataset in Workspace\n",
    "        dataset = dataset.register(workspace=ws,\n",
    "                                   name=key,\n",
    "                                   description=description_text)\n",
    "\n",
    "\n",
    "df = dataset.to_pandas_dataframe()\n",
    "df.describe()"
   ]
  },
  {
   "cell_type": "code",
   "execution_count": 6,
   "metadata": {
    "gather": {
     "logged": 1609086049040
    }
   },
   "outputs": [
    {
     "data": {
      "text/html": [
       "<div>\n",
       "<style scoped>\n",
       "    .dataframe tbody tr th:only-of-type {\n",
       "        vertical-align: middle;\n",
       "    }\n",
       "\n",
       "    .dataframe tbody tr th {\n",
       "        vertical-align: top;\n",
       "    }\n",
       "\n",
       "    .dataframe thead th {\n",
       "        text-align: right;\n",
       "    }\n",
       "</style>\n",
       "<table border=\"1\" class=\"dataframe\">\n",
       "  <thead>\n",
       "    <tr style=\"text-align: right;\">\n",
       "      <th></th>\n",
       "      <th>Pregnancies</th>\n",
       "      <th>Glucose</th>\n",
       "      <th>BloodPressure</th>\n",
       "      <th>SkinThickness</th>\n",
       "      <th>Insulin</th>\n",
       "      <th>BMI</th>\n",
       "      <th>DiabetesPedigreeFunction</th>\n",
       "      <th>Age</th>\n",
       "      <th>Outcome</th>\n",
       "    </tr>\n",
       "  </thead>\n",
       "  <tbody>\n",
       "    <tr>\n",
       "      <th>603</th>\n",
       "      <td>7</td>\n",
       "      <td>150</td>\n",
       "      <td>78</td>\n",
       "      <td>29</td>\n",
       "      <td>126</td>\n",
       "      <td>35.2</td>\n",
       "      <td>0.692</td>\n",
       "      <td>54</td>\n",
       "      <td>1</td>\n",
       "    </tr>\n",
       "    <tr>\n",
       "      <th>118</th>\n",
       "      <td>4</td>\n",
       "      <td>97</td>\n",
       "      <td>60</td>\n",
       "      <td>23</td>\n",
       "      <td>0</td>\n",
       "      <td>28.2</td>\n",
       "      <td>0.443</td>\n",
       "      <td>22</td>\n",
       "      <td>0</td>\n",
       "    </tr>\n",
       "    <tr>\n",
       "      <th>247</th>\n",
       "      <td>0</td>\n",
       "      <td>165</td>\n",
       "      <td>90</td>\n",
       "      <td>33</td>\n",
       "      <td>680</td>\n",
       "      <td>52.3</td>\n",
       "      <td>0.427</td>\n",
       "      <td>23</td>\n",
       "      <td>0</td>\n",
       "    </tr>\n",
       "    <tr>\n",
       "      <th>157</th>\n",
       "      <td>1</td>\n",
       "      <td>109</td>\n",
       "      <td>56</td>\n",
       "      <td>21</td>\n",
       "      <td>135</td>\n",
       "      <td>25.2</td>\n",
       "      <td>0.833</td>\n",
       "      <td>23</td>\n",
       "      <td>0</td>\n",
       "    </tr>\n",
       "    <tr>\n",
       "      <th>468</th>\n",
       "      <td>8</td>\n",
       "      <td>120</td>\n",
       "      <td>0</td>\n",
       "      <td>0</td>\n",
       "      <td>0</td>\n",
       "      <td>30.0</td>\n",
       "      <td>0.183</td>\n",
       "      <td>38</td>\n",
       "      <td>1</td>\n",
       "    </tr>\n",
       "  </tbody>\n",
       "</table>\n",
       "</div>"
      ],
      "text/plain": [
       "     Pregnancies  Glucose  BloodPressure  SkinThickness  Insulin   BMI  \\\n",
       "603            7      150             78             29      126  35.2   \n",
       "118            4       97             60             23        0  28.2   \n",
       "247            0      165             90             33      680  52.3   \n",
       "157            1      109             56             21      135  25.2   \n",
       "468            8      120              0              0        0  30.0   \n",
       "\n",
       "     DiabetesPedigreeFunction  Age  Outcome  \n",
       "603                     0.692   54        1  \n",
       "118                     0.443   22        0  \n",
       "247                     0.427   23        0  \n",
       "157                     0.833   23        0  \n",
       "468                     0.183   38        1  "
      ]
     },
     "execution_count": 6,
     "metadata": {},
     "output_type": "execute_result"
    }
   ],
   "source": [
    "# prepare dataset for model training\n",
    "from train import clean_data\n",
    "from sklearn.model_selection import train_test_split\n",
    "import pandas as pd\n",
    "\n",
    "# Clean dataset using the clean_data function\n",
    "x, y = clean_data(dataset)\n",
    "\n",
    "# split dataset into train and test sets\n",
    "(x_train, x_test, y_train, y_test) = train_test_split(x, y, test_size= 0.2, random_state = 0)\n",
    "label = 'Outcome'\n",
    "\n",
    "# merge the output x and y dataframes into a single table for AutoML experiment\n",
    "train_data_df = pd.concat([x_train, y_train], axis=1)\n",
    "\n",
    "train_data_df.head()"
   ]
  },
  {
   "cell_type": "code",
   "execution_count": 7,
   "metadata": {
    "gather": {
     "logged": 1609086075784
    }
   },
   "outputs": [
    {
     "name": "stdout",
     "output_type": "stream",
     "text": [
      "Uploading an estimated of 1 files\n",
      "Uploading ./data/train_data.csv\n",
      "Uploaded ./data/train_data.csv, 1 files out of an estimated total of 1\n",
      "Uploaded 1 files\n"
     ]
    }
   ],
   "source": [
    "from azureml.data.dataset_factory import TabularDatasetFactory\n",
    "# save training data in tabular format to allow for remote run\n",
    "if not os.path.isdir('data'):  # create data folder if it does not exist\n",
    "    os.mkdir('data')\n",
    "    \n",
    "if not os.path.exists('project_folder'):  # create project folder if it does not exist\n",
    "    os.makedirs('project_folder')\n",
    "\n",
    "# Save the train data to a csv file to be uploaded to the datastore\n",
    "pd.DataFrame(train_data_df).to_csv(\"data/train_data.csv\", index=False)\n",
    "\n",
    "# Upload the training data as a tabular dataset for access during training on remote compute\n",
    "# upload to data store\n",
    "ds = ws.get_default_datastore()\n",
    "ds.upload(src_dir='./data', target_path='automlclassifier', overwrite=True, show_progress=True)\n",
    "\n",
    " # access datastore during training on remote compute\n",
    "train_data = TabularDatasetFactory.from_delimited_files(path=ds.path('automlclassifier/train_data.csv'))"
   ]
  },
  {
   "cell_type": "markdown",
   "metadata": {},
   "source": [
    "## AutoML Configuration\n",
    "\n",
    "I set enabled early stopping to True, to enable early termination if the score is not improving in the short term. Also set the iteration_timeout_minutes = 5, to set the maximum time in minutes that each iteration can run for before it terminates.Set max_concurrent_iterations = 4, to specify the maximum number of iterations that would be executed in parallel. Set max_cores_per_iteration = -1, to specify the maximum number of threads to use for a given training iteration. -1 means to use all the possible cores per iteration per child-run and set featurization = auto, to specify wherether featurization should be done automically or not, auto is ued to do it automatically"
   ]
  },
  {
   "cell_type": "code",
   "execution_count": 10,
   "metadata": {
    "gather": {
     "logged": 1609086107873
    }
   },
   "outputs": [],
   "source": [
    "project_folder = './puruautoml'\n",
    "automl_settings = {\n",
    "    \"enable_early_stopping\" : True,\n",
    "    \"iteration_timeout_minutes\": 5,\n",
    "    \"max_concurrent_iterations\": 4,\n",
    "    \"max_cores_per_iteration\": -1,    \n",
    "    \"featurization\": 'auto'\n",
    "}\n",
    "\n",
    "# define automl autconfig parameters\n",
    "automl_config = AutoMLConfig(\n",
    "    experiment_timeout_minutes= 30,\n",
    "    task= 'classification',\n",
    "    primary_metric='accuracy',\n",
    "    enable_onnx_compatible_models=True,\n",
    "    compute_target=cpu_cluster, # included to allow for remote compute\n",
    "    training_data= train_data,\n",
    "    label_column_name= label,\n",
    "    path = project_folder,\n",
    "    n_cross_validations=3,\n",
    "    debug_log = \"automl_errors.log\",    \n",
    "    **automl_settings)"
   ]
  },
  {
   "cell_type": "code",
   "execution_count": 11,
   "metadata": {
    "gather": {
     "logged": 1609086121536
    },
    "jupyter": {
     "outputs_hidden": false,
     "source_hidden": false
    },
    "nteract": {
     "transient": {
      "deleting": false
     }
    }
   },
   "outputs": [
    {
     "name": "stdout",
     "output_type": "stream",
     "text": [
      "Running on remote.\n"
     ]
    }
   ],
   "source": [
    "# TODO: Submit your experiment\n",
    "remote_run = experiment.submit(automl_config)"
   ]
  },
  {
   "cell_type": "markdown",
   "metadata": {},
   "source": [
    "## Run Details\n",
    "\n",
    "OPTIONAL: Write about the different models trained and their performance. Why do you think some models did better than others?\n",
    "\n",
    "TODO: In the cell below, use the `RunDetails` widget to show the different experiments."
   ]
  },
  {
   "cell_type": "code",
   "execution_count": 12,
   "metadata": {
    "gather": {
     "logged": 1609087524171
    },
    "jupyter": {
     "outputs_hidden": false,
     "source_hidden": false
    },
    "nteract": {
     "transient": {
      "deleting": false
     }
    }
   },
   "outputs": [
    {
     "data": {
      "application/vnd.jupyter.widget-view+json": {
       "model_id": "5dc8f41a9df0480f8dfcf8c798577804",
       "version_major": 2,
       "version_minor": 0
      },
      "text/plain": [
       "_AutoMLWidget(widget_settings={'childWidgetDisplay': 'popup', 'send_telemetry': False, 'log_level': 'INFO', 's…"
      ]
     },
     "metadata": {},
     "output_type": "display_data"
    },
    {
     "data": {
      "application/aml.mini.widget.v1": "{\"status\": \"Completed\", \"workbench_run_details_uri\": \"https://ml.azure.com/experiments/puru-auto-experiment/runs/AutoML_2a8d0b39-7d5a-4b61-93b2-fc1cfcd64004?wsid=/subscriptions/61c5c3f0-6dc7-4ed9-a7f3-c704b20e3b30/resourcegroups/aml-quickstarts-132551/workspaces/quick-starts-ws-132551\", \"run_id\": \"AutoML_2a8d0b39-7d5a-4b61-93b2-fc1cfcd64004\", \"run_properties\": {\"run_id\": \"AutoML_2a8d0b39-7d5a-4b61-93b2-fc1cfcd64004\", \"created_utc\": \"2020-12-30T21:38:20.296804Z\", \"properties\": {\"num_iterations\": \"1000\", \"training_type\": \"TrainFull\", \"acquisition_function\": \"EI\", \"primary_metric\": \"accuracy\", \"train_split\": \"0\", \"acquisition_parameter\": \"0\", \"num_cross_validation\": \"3\", \"target\": \"puru-compute-new\", \"AMLSettingsJsonString\": \"{\\\"path\\\":null,\\\"name\\\":\\\"puru-auto-experiment\\\",\\\"subscription_id\\\":\\\"61c5c3f0-6dc7-4ed9-a7f3-c704b20e3b30\\\",\\\"resource_group\\\":\\\"aml-quickstarts-132551\\\",\\\"workspace_name\\\":\\\"quick-starts-ws-132551\\\",\\\"region\\\":\\\"southcentralus\\\",\\\"compute_target\\\":\\\"puru-compute-new\\\",\\\"spark_service\\\":null,\\\"azure_service\\\":\\\"remote\\\",\\\"many_models\\\":false,\\\"pipeline_fetch_max_batch_size\\\":1,\\\"iterations\\\":1000,\\\"primary_metric\\\":\\\"accuracy\\\",\\\"task_type\\\":\\\"classification\\\",\\\"data_script\\\":null,\\\"validation_size\\\":0.0,\\\"n_cross_validations\\\":3,\\\"y_min\\\":null,\\\"y_max\\\":null,\\\"num_classes\\\":null,\\\"featurization\\\":\\\"auto\\\",\\\"_ignore_package_version_incompatibilities\\\":false,\\\"is_timeseries\\\":false,\\\"max_cores_per_iteration\\\":-1,\\\"max_concurrent_iterations\\\":4,\\\"iteration_timeout_minutes\\\":5,\\\"mem_in_mb\\\":null,\\\"enforce_time_on_windows\\\":false,\\\"experiment_timeout_minutes\\\":15,\\\"experiment_exit_score\\\":null,\\\"whitelist_models\\\":null,\\\"blacklist_algos\\\":[\\\"TensorFlowLinearClassifier\\\",\\\"TensorFlowDNN\\\"],\\\"supported_models\\\":[\\\"LightGBM\\\",\\\"SVM\\\",\\\"XGBoostClassifier\\\",\\\"DecisionTree\\\",\\\"TensorFlowDNN\\\",\\\"MultinomialNaiveBayes\\\",\\\"SGD\\\",\\\"TensorFlowLinearClassifier\\\",\\\"BernoulliNaiveBayes\\\",\\\"RandomForest\\\",\\\"LinearSVM\\\",\\\"KNN\\\",\\\"AveragedPerceptronClassifier\\\",\\\"ExtremeRandomTrees\\\",\\\"LogisticRegression\\\",\\\"GradientBoosting\\\"],\\\"auto_blacklist\\\":true,\\\"blacklist_samples_reached\\\":false,\\\"exclude_nan_labels\\\":true,\\\"verbosity\\\":20,\\\"_debug_log\\\":\\\"azureml_automl.log\\\",\\\"show_warnings\\\":false,\\\"model_explainability\\\":true,\\\"service_url\\\":null,\\\"sdk_url\\\":null,\\\"sdk_packages\\\":null,\\\"enable_onnx_compatible_models\\\":true,\\\"enable_split_onnx_featurizer_estimator_models\\\":false,\\\"vm_type\\\":\\\"STANDARD_D2_V2\\\",\\\"telemetry_verbosity\\\":20,\\\"send_telemetry\\\":true,\\\"enable_dnn\\\":false,\\\"scenario\\\":\\\"SDK-1.13.0\\\",\\\"environment_label\\\":null,\\\"force_text_dnn\\\":false,\\\"enable_feature_sweeping\\\":false,\\\"enable_early_stopping\\\":true,\\\"early_stopping_n_iters\\\":10,\\\"metrics\\\":null,\\\"enable_ensembling\\\":true,\\\"enable_stack_ensembling\\\":false,\\\"ensemble_iterations\\\":15,\\\"enable_tf\\\":false,\\\"enable_subsampling\\\":null,\\\"subsample_seed\\\":null,\\\"enable_nimbusml\\\":false,\\\"enable_streaming\\\":false,\\\"force_streaming\\\":false,\\\"track_child_runs\\\":true,\\\"allowed_private_models\\\":[],\\\"label_column_name\\\":\\\"Outcome\\\",\\\"weight_column_name\\\":null,\\\"cv_split_column_names\\\":null,\\\"enable_local_managed\\\":false,\\\"_local_managed_run_id\\\":null,\\\"cost_mode\\\":1,\\\"lag_length\\\":0,\\\"metric_operation\\\":\\\"maximize\\\",\\\"preprocess\\\":true}\", \"DataPrepJsonString\": \"{\\\\\\\"training_data\\\\\\\": \\\\\\\"{\\\\\\\\\\\\\\\"blocks\\\\\\\\\\\\\\\": [{\\\\\\\\\\\\\\\"id\\\\\\\\\\\\\\\": \\\\\\\\\\\\\\\"6baf610a-933e-4e1f-b68b-e80d13048a9f\\\\\\\\\\\\\\\", \\\\\\\\\\\\\\\"type\\\\\\\\\\\\\\\": \\\\\\\\\\\\\\\"Microsoft.DPrep.GetDatastoreFilesBlock\\\\\\\\\\\\\\\", \\\\\\\\\\\\\\\"arguments\\\\\\\\\\\\\\\": {\\\\\\\\\\\\\\\"datastores\\\\\\\\\\\\\\\": [{\\\\\\\\\\\\\\\"datastoreName\\\\\\\\\\\\\\\": \\\\\\\\\\\\\\\"workspaceblobstore\\\\\\\\\\\\\\\", \\\\\\\\\\\\\\\"path\\\\\\\\\\\\\\\": \\\\\\\\\\\\\\\"automlclassifier/train_data.csv\\\\\\\\\\\\\\\", \\\\\\\\\\\\\\\"resourceGroup\\\\\\\\\\\\\\\": \\\\\\\\\\\\\\\"aml-quickstarts-132551\\\\\\\\\\\\\\\", \\\\\\\\\\\\\\\"subscription\\\\\\\\\\\\\\\": \\\\\\\\\\\\\\\"61c5c3f0-6dc7-4ed9-a7f3-c704b20e3b30\\\\\\\\\\\\\\\", \\\\\\\\\\\\\\\"workspaceName\\\\\\\\\\\\\\\": \\\\\\\\\\\\\\\"quick-starts-ws-132551\\\\\\\\\\\\\\\"}]}, \\\\\\\\\\\\\\\"localData\\\\\\\\\\\\\\\": {}, \\\\\\\\\\\\\\\"isEnabled\\\\\\\\\\\\\\\": true, \\\\\\\\\\\\\\\"name\\\\\\\\\\\\\\\": null, \\\\\\\\\\\\\\\"annotation\\\\\\\\\\\\\\\": null}, {\\\\\\\\\\\\\\\"id\\\\\\\\\\\\\\\": \\\\\\\\\\\\\\\"bc539478-ee5b-46da-bf10-fdd111ad6bba\\\\\\\\\\\\\\\", \\\\\\\\\\\\\\\"type\\\\\\\\\\\\\\\": \\\\\\\\\\\\\\\"Microsoft.DPrep.ParseDelimitedBlock\\\\\\\\\\\\\\\", \\\\\\\\\\\\\\\"arguments\\\\\\\\\\\\\\\": {\\\\\\\\\\\\\\\"columnHeadersMode\\\\\\\\\\\\\\\": 3, \\\\\\\\\\\\\\\"fileEncoding\\\\\\\\\\\\\\\": 0, \\\\\\\\\\\\\\\"handleQuotedLineBreaks\\\\\\\\\\\\\\\": false, \\\\\\\\\\\\\\\"preview\\\\\\\\\\\\\\\": false, \\\\\\\\\\\\\\\"separator\\\\\\\\\\\\\\\": \\\\\\\\\\\\\\\",\\\\\\\\\\\\\\\", \\\\\\\\\\\\\\\"skipRows\\\\\\\\\\\\\\\": 0, \\\\\\\\\\\\\\\"skipRowsMode\\\\\\\\\\\\\\\": 0}, \\\\\\\\\\\\\\\"localData\\\\\\\\\\\\\\\": {}, \\\\\\\\\\\\\\\"isEnabled\\\\\\\\\\\\\\\": true, \\\\\\\\\\\\\\\"name\\\\\\\\\\\\\\\": null, \\\\\\\\\\\\\\\"annotation\\\\\\\\\\\\\\\": null}, {\\\\\\\\\\\\\\\"id\\\\\\\\\\\\\\\": \\\\\\\\\\\\\\\"abb35b3e-f51f-4ef7-91b8-7996d8b9786b\\\\\\\\\\\\\\\", \\\\\\\\\\\\\\\"type\\\\\\\\\\\\\\\": \\\\\\\\\\\\\\\"Microsoft.DPrep.DropColumnsBlock\\\\\\\\\\\\\\\", \\\\\\\\\\\\\\\"arguments\\\\\\\\\\\\\\\": {\\\\\\\\\\\\\\\"columns\\\\\\\\\\\\\\\": {\\\\\\\\\\\\\\\"type\\\\\\\\\\\\\\\": 0, \\\\\\\\\\\\\\\"details\\\\\\\\\\\\\\\": {\\\\\\\\\\\\\\\"selectedColumns\\\\\\\\\\\\\\\": [\\\\\\\\\\\\\\\"Path\\\\\\\\\\\\\\\"]}}}, \\\\\\\\\\\\\\\"localData\\\\\\\\\\\\\\\": {}, \\\\\\\\\\\\\\\"isEnabled\\\\\\\\\\\\\\\": true, \\\\\\\\\\\\\\\"name\\\\\\\\\\\\\\\": null, \\\\\\\\\\\\\\\"annotation\\\\\\\\\\\\\\\": null}, {\\\\\\\\\\\\\\\"id\\\\\\\\\\\\\\\": \\\\\\\\\\\\\\\"e9f86866-6289-499c-84be-11daa841df81\\\\\\\\\\\\\\\", \\\\\\\\\\\\\\\"type\\\\\\\\\\\\\\\": \\\\\\\\\\\\\\\"Microsoft.DPrep.SetColumnTypesBlock\\\\\\\\\\\\\\\", \\\\\\\\\\\\\\\"arguments\\\\\\\\\\\\\\\": {\\\\\\\\\\\\\\\"columnConversion\\\\\\\\\\\\\\\": [{\\\\\\\\\\\\\\\"column\\\\\\\\\\\\\\\": {\\\\\\\\\\\\\\\"type\\\\\\\\\\\\\\\": 2, \\\\\\\\\\\\\\\"details\\\\\\\\\\\\\\\": {\\\\\\\\\\\\\\\"selectedColumn\\\\\\\\\\\\\\\": \\\\\\\\\\\\\\\"Pregnancies\\\\\\\\\\\\\\\"}}, \\\\\\\\\\\\\\\"typeProperty\\\\\\\\\\\\\\\": 2}, {\\\\\\\\\\\\\\\"column\\\\\\\\\\\\\\\": {\\\\\\\\\\\\\\\"type\\\\\\\\\\\\\\\": 2, \\\\\\\\\\\\\\\"details\\\\\\\\\\\\\\\": {\\\\\\\\\\\\\\\"selectedColumn\\\\\\\\\\\\\\\": \\\\\\\\\\\\\\\"Glucose\\\\\\\\\\\\\\\"}}, \\\\\\\\\\\\\\\"typeProperty\\\\\\\\\\\\\\\": 2}, {\\\\\\\\\\\\\\\"column\\\\\\\\\\\\\\\": {\\\\\\\\\\\\\\\"type\\\\\\\\\\\\\\\": 2, \\\\\\\\\\\\\\\"details\\\\\\\\\\\\\\\": {\\\\\\\\\\\\\\\"selectedColumn\\\\\\\\\\\\\\\": \\\\\\\\\\\\\\\"BloodPressure\\\\\\\\\\\\\\\"}}, \\\\\\\\\\\\\\\"typeProperty\\\\\\\\\\\\\\\": 2}, {\\\\\\\\\\\\\\\"column\\\\\\\\\\\\\\\": {\\\\\\\\\\\\\\\"type\\\\\\\\\\\\\\\": 2, \\\\\\\\\\\\\\\"details\\\\\\\\\\\\\\\": {\\\\\\\\\\\\\\\"selectedColumn\\\\\\\\\\\\\\\": \\\\\\\\\\\\\\\"SkinThickness\\\\\\\\\\\\\\\"}}, \\\\\\\\\\\\\\\"typeProperty\\\\\\\\\\\\\\\": 2}, {\\\\\\\\\\\\\\\"column\\\\\\\\\\\\\\\": {\\\\\\\\\\\\\\\"type\\\\\\\\\\\\\\\": 2, \\\\\\\\\\\\\\\"details\\\\\\\\\\\\\\\": {\\\\\\\\\\\\\\\"selectedColumn\\\\\\\\\\\\\\\": \\\\\\\\\\\\\\\"Insulin\\\\\\\\\\\\\\\"}}, \\\\\\\\\\\\\\\"typeProperty\\\\\\\\\\\\\\\": 2}, {\\\\\\\\\\\\\\\"column\\\\\\\\\\\\\\\": {\\\\\\\\\\\\\\\"type\\\\\\\\\\\\\\\": 2, \\\\\\\\\\\\\\\"details\\\\\\\\\\\\\\\": {\\\\\\\\\\\\\\\"selectedColumn\\\\\\\\\\\\\\\": \\\\\\\\\\\\\\\"BMI\\\\\\\\\\\\\\\"}}, \\\\\\\\\\\\\\\"typeProperty\\\\\\\\\\\\\\\": 3}, {\\\\\\\\\\\\\\\"column\\\\\\\\\\\\\\\": {\\\\\\\\\\\\\\\"type\\\\\\\\\\\\\\\": 2, \\\\\\\\\\\\\\\"details\\\\\\\\\\\\\\\": {\\\\\\\\\\\\\\\"selectedColumn\\\\\\\\\\\\\\\": \\\\\\\\\\\\\\\"DiabetesPedigreeFunction\\\\\\\\\\\\\\\"}}, \\\\\\\\\\\\\\\"typeProperty\\\\\\\\\\\\\\\": 3}, {\\\\\\\\\\\\\\\"column\\\\\\\\\\\\\\\": {\\\\\\\\\\\\\\\"type\\\\\\\\\\\\\\\": 2, \\\\\\\\\\\\\\\"details\\\\\\\\\\\\\\\": {\\\\\\\\\\\\\\\"selectedColumn\\\\\\\\\\\\\\\": \\\\\\\\\\\\\\\"Age\\\\\\\\\\\\\\\"}}, \\\\\\\\\\\\\\\"typeProperty\\\\\\\\\\\\\\\": 2}, {\\\\\\\\\\\\\\\"column\\\\\\\\\\\\\\\": {\\\\\\\\\\\\\\\"type\\\\\\\\\\\\\\\": 2, \\\\\\\\\\\\\\\"details\\\\\\\\\\\\\\\": {\\\\\\\\\\\\\\\"selectedColumn\\\\\\\\\\\\\\\": \\\\\\\\\\\\\\\"Outcome\\\\\\\\\\\\\\\"}}, \\\\\\\\\\\\\\\"typeProperty\\\\\\\\\\\\\\\": 2}]}, \\\\\\\\\\\\\\\"localData\\\\\\\\\\\\\\\": {}, \\\\\\\\\\\\\\\"isEnabled\\\\\\\\\\\\\\\": true, \\\\\\\\\\\\\\\"name\\\\\\\\\\\\\\\": null, \\\\\\\\\\\\\\\"annotation\\\\\\\\\\\\\\\": null}], \\\\\\\\\\\\\\\"inspectors\\\\\\\\\\\\\\\": [], \\\\\\\\\\\\\\\"meta\\\\\\\\\\\\\\\": {\\\\\\\\\\\\\\\"savedDatasetId\\\\\\\\\\\\\\\": \\\\\\\\\\\\\\\"7c7c7913-6b84-4d32-8e9d-ce0a19d38cfe\\\\\\\\\\\\\\\", \\\\\\\\\\\\\\\"datasetType\\\\\\\\\\\\\\\": \\\\\\\\\\\\\\\"tabular\\\\\\\\\\\\\\\", \\\\\\\\\\\\\\\"subscriptionId\\\\\\\\\\\\\\\": \\\\\\\\\\\\\\\"61c5c3f0-6dc7-4ed9-a7f3-c704b20e3b30\\\\\\\\\\\\\\\", \\\\\\\\\\\\\\\"workspaceId\\\\\\\\\\\\\\\": \\\\\\\\\\\\\\\"694a26d0-1cff-4d00-bb6c-7f3e9cc4dd1c\\\\\\\\\\\\\\\", \\\\\\\\\\\\\\\"workspaceLocation\\\\\\\\\\\\\\\": \\\\\\\\\\\\\\\"southcentralus\\\\\\\\\\\\\\\"}}\\\\\\\", \\\\\\\"activities\\\\\\\": 0}\", \"EnableSubsampling\": null, \"runTemplate\": \"AutoML\", \"azureml.runsource\": \"automl\", \"display_task_type\": \"classification\", \"dependencies_versions\": \"{\\\"azureml-widgets\\\": \\\"1.19.0\\\", \\\"azureml-train\\\": \\\"1.19.0\\\", \\\"azureml-train-restclients-hyperdrive\\\": \\\"1.19.0\\\", \\\"azureml-train-core\\\": \\\"1.19.0\\\", \\\"azureml-train-automl\\\": \\\"1.19.0\\\", \\\"azureml-train-automl-runtime\\\": \\\"1.19.0\\\", \\\"azureml-train-automl-client\\\": \\\"1.19.0\\\", \\\"azureml-tensorboard\\\": \\\"1.19.0\\\", \\\"azureml-telemetry\\\": \\\"1.19.0\\\", \\\"azureml-sdk\\\": \\\"1.19.0\\\", \\\"azureml-samples\\\": \\\"0+unknown\\\", \\\"azureml-pipeline\\\": \\\"1.19.0\\\", \\\"azureml-pipeline-steps\\\": \\\"1.19.0\\\", \\\"azureml-pipeline-core\\\": \\\"1.19.0\\\", \\\"azureml-opendatasets\\\": \\\"1.19.0\\\", \\\"azureml-model-management-sdk\\\": \\\"1.0.1b6.post1\\\", \\\"azureml-mlflow\\\": \\\"1.19.0\\\", \\\"azureml-interpret\\\": \\\"1.19.0\\\", \\\"azureml-explain-model\\\": \\\"1.19.0\\\", \\\"azureml-defaults\\\": \\\"1.19.0\\\", \\\"azureml-dataset-runtime\\\": \\\"1.19.0\\\", \\\"azureml-dataprep\\\": \\\"2.6.1\\\", \\\"azureml-dataprep-rslex\\\": \\\"1.4.0\\\", \\\"azureml-dataprep-native\\\": \\\"26.0.0\\\", \\\"azureml-datadrift\\\": \\\"1.19.0\\\", \\\"azureml-core\\\": \\\"1.19.0\\\", \\\"azureml-contrib-services\\\": \\\"1.19.0\\\", \\\"azureml-contrib-server\\\": \\\"1.19.0\\\", \\\"azureml-contrib-reinforcementlearning\\\": \\\"1.19.0\\\", \\\"azureml-contrib-pipeline-steps\\\": \\\"1.19.0\\\", \\\"azureml-contrib-notebook\\\": \\\"1.19.0\\\", \\\"azureml-contrib-interpret\\\": \\\"1.19.0\\\", \\\"azureml-contrib-gbdt\\\": \\\"1.19.0\\\", \\\"azureml-contrib-fairness\\\": \\\"1.19.0\\\", \\\"azureml-contrib-dataset\\\": \\\"1.19.0\\\", \\\"azureml-cli-common\\\": \\\"1.19.0\\\", \\\"azureml-automl-runtime\\\": \\\"1.19.0\\\", \\\"azureml-automl-core\\\": \\\"1.19.0\\\", \\\"azureml-accel-models\\\": \\\"1.19.0\\\"}\", \"_aml_system_scenario_identification\": \"Remote.Parent\", \"ClientType\": \"SDK\", \"environment_cpu_name\": \"AzureML-AutoML\", \"environment_cpu_label\": \"prod\", \"environment_gpu_name\": \"AzureML-AutoML-GPU\", \"environment_gpu_label\": \"prod\", \"root_attribution\": \"automl\", \"attribution\": \"AutoML\", \"Orchestrator\": \"AutoML\", \"CancelUri\": \"https://southcentralus.experiments.azureml.net/jasmine/v1.0/subscriptions/61c5c3f0-6dc7-4ed9-a7f3-c704b20e3b30/resourceGroups/aml-quickstarts-132551/providers/Microsoft.MachineLearningServices/workspaces/quick-starts-ws-132551/experimentids/1bf7d9b9-873e-4e6e-a889-d7ae034f3813/cancel/AutoML_2a8d0b39-7d5a-4b61-93b2-fc1cfcd64004\", \"ClientSdkVersion\": \"1.19.0\", \"snapshotId\": \"00000000-0000-0000-0000-000000000000\", \"SetupRunId\": \"AutoML_2a8d0b39-7d5a-4b61-93b2-fc1cfcd64004_setup\", \"SetupRunContainerId\": \"dcid.AutoML_2a8d0b39-7d5a-4b61-93b2-fc1cfcd64004_setup\", \"FeaturizationRunJsonPath\": \"featurizer_container.json\", \"FeaturizationRunId\": \"AutoML_2a8d0b39-7d5a-4b61-93b2-fc1cfcd64004_featurize\", \"ProblemInfoJsonString\": \"{\\\"dataset_num_categorical\\\": 0, \\\"is_sparse\\\": false, \\\"subsampling\\\": false, \\\"dataset_classes\\\": 2, \\\"dataset_features\\\": 8, \\\"dataset_samples\\\": 614, \\\"single_frequency_class_detected\\\": false}\", \"ModelExplainRunId\": \"AutoML_2a8d0b39-7d5a-4b61-93b2-fc1cfcd64004_ModelExplain\"}, \"tags\": {\"model_explain_run\": \"best_run\", \"_aml_system_azureml.automlComponent\": \"AutoML\", \"pipeline_id\": \"\", \"score\": \"\", \"predicted_cost\": \"\", \"fit_time\": \"\", \"training_percent\": \"\", \"iteration\": \"\", \"run_preprocessor\": \"\", \"run_algorithm\": \"\", \"dynamic_whitelisting_iterations\": \"<25>;<30>;<35>;\", \"automl_best_child_run_id\": \"AutoML_2a8d0b39-7d5a-4b61-93b2-fc1cfcd64004_36\", \"model_explain_best_run_child_id\": \"AutoML_2a8d0b39-7d5a-4b61-93b2-fc1cfcd64004_36\"}, \"end_time_utc\": \"2020-12-30T22:02:11.77985Z\", \"status\": \"Completed\", \"log_files\": {}, \"log_groups\": [], \"run_duration\": \"0:23:51\"}, \"child_runs\": [{\"run_id\": \"AutoML_2a8d0b39-7d5a-4b61-93b2-fc1cfcd64004_0\", \"run_number\": 5, \"metric\": null, \"status\": \"Completed\", \"run_type\": \"azureml.scriptrun\", \"training_percent\": \"100\", \"start_time\": \"2020-12-30T21:46:19.663537Z\", \"end_time\": \"2020-12-30T21:47:16.463448Z\", \"created_time\": \"2020-12-30T21:46:08.736793Z\", \"created_time_dt\": \"2020-12-30T21:46:08.736793Z\", \"duration\": \"0:01:07\", \"iteration\": \"0\", \"goal\": \"accuracy_max\", \"run_name\": \"MaxAbsScaler, LightGBM\", \"run_properties\": \"copy=True\", \"primary_metric\": 0.74595887, \"best_metric\": 0.74595887}, {\"run_id\": \"AutoML_2a8d0b39-7d5a-4b61-93b2-fc1cfcd64004_1\", \"run_number\": 6, \"metric\": null, \"status\": \"Completed\", \"run_type\": \"azureml.scriptrun\", \"training_percent\": \"100\", \"start_time\": \"2020-12-30T21:47:22.239595Z\", \"end_time\": \"2020-12-30T21:48:18.960151Z\", \"created_time\": \"2020-12-30T21:46:08.839392Z\", \"created_time_dt\": \"2020-12-30T21:46:08.839392Z\", \"duration\": \"0:02:10\", \"iteration\": \"1\", \"goal\": \"accuracy_max\", \"run_name\": \"MaxAbsScaler, XGBoostClassifier\", \"run_properties\": \"copy=True\", \"primary_metric\": 0.74430894, \"best_metric\": 0.74595887}, {\"run_id\": \"AutoML_2a8d0b39-7d5a-4b61-93b2-fc1cfcd64004_2\", \"run_number\": 7, \"metric\": null, \"status\": \"Completed\", \"run_type\": \"azureml.scriptrun\", \"training_percent\": \"100\", \"start_time\": \"2020-12-30T21:49:02.252166Z\", \"end_time\": \"2020-12-30T21:52:31.14037Z\", \"created_time\": \"2020-12-30T21:46:08.866172Z\", \"created_time_dt\": \"2020-12-30T21:46:08.866172Z\", \"duration\": \"0:06:22\", \"iteration\": \"2\", \"goal\": \"accuracy_max\", \"run_name\": \"MinMaxScaler, RandomForest\", \"run_properties\": \"copy=True, feature_range=(0, 1\", \"primary_metric\": 0.75569903, \"best_metric\": 0.75569903}, {\"run_id\": \"AutoML_2a8d0b39-7d5a-4b61-93b2-fc1cfcd64004_3\", \"run_number\": 8, \"metric\": null, \"status\": \"Completed\", \"run_type\": \"azureml.scriptrun\", \"training_percent\": \"100\", \"start_time\": \"2020-12-30T21:48:20.700466Z\", \"end_time\": \"2020-12-30T21:49:23.836107Z\", \"created_time\": \"2020-12-30T21:46:08.863383Z\", \"created_time_dt\": \"2020-12-30T21:46:08.863383Z\", \"duration\": \"0:03:14\", \"iteration\": \"3\", \"goal\": \"accuracy_max\", \"run_name\": \"MinMaxScaler, RandomForest\", \"run_properties\": \"copy=True, feature_range=(0, 1\", \"primary_metric\": 0.74591902, \"best_metric\": 0.75569903}, {\"run_id\": \"AutoML_2a8d0b39-7d5a-4b61-93b2-fc1cfcd64004_4\", \"run_number\": 9, \"metric\": null, \"status\": \"Completed\", \"run_type\": \"azureml.scriptrun\", \"training_percent\": \"100\", \"start_time\": \"2020-12-30T21:49:01.721769Z\", \"end_time\": \"2020-12-30T21:52:46.057987Z\", \"created_time\": \"2020-12-30T21:47:19.284415Z\", \"created_time_dt\": \"2020-12-30T21:47:19.284415Z\", \"duration\": \"0:05:26\", \"iteration\": \"4\", \"goal\": \"accuracy_max\", \"run_name\": \"MinMaxScaler, RandomForest\", \"run_properties\": \"copy=True, feature_range=(0, 1\", \"primary_metric\": 0.73946278, \"best_metric\": 0.75569903}, {\"run_id\": \"AutoML_2a8d0b39-7d5a-4b61-93b2-fc1cfcd64004_5\", \"run_number\": 10, \"metric\": null, \"status\": \"Completed\", \"run_type\": \"azureml.scriptrun\", \"training_percent\": \"100\", \"start_time\": \"2020-12-30T21:49:00.62397Z\", \"end_time\": \"2020-12-30T21:52:27.187578Z\", \"created_time\": \"2020-12-30T21:48:20.953128Z\", \"created_time_dt\": \"2020-12-30T21:48:20.953128Z\", \"duration\": \"0:04:06\", \"iteration\": \"5\", \"goal\": \"accuracy_max\", \"run_name\": \"StandardScalerWrapper, XGBoostClassifier\", \"run_properties\": \"<azureml.automl.runtime.shared.model_wrappers.StandardScalerWrapper object at 0x7fd740ac1e80\", \"primary_metric\": 0.71981508, \"best_metric\": 0.75569903}, {\"run_id\": \"AutoML_2a8d0b39-7d5a-4b61-93b2-fc1cfcd64004_6\", \"run_number\": 11, \"metric\": null, \"status\": \"Completed\", \"run_type\": \"azureml.scriptrun\", \"training_percent\": \"100\", \"start_time\": \"2020-12-30T21:49:41.608897Z\", \"end_time\": \"2020-12-30T21:50:38.642775Z\", \"created_time\": \"2020-12-30T21:49:27.872916Z\", \"created_time_dt\": \"2020-12-30T21:49:27.872916Z\", \"duration\": \"0:01:10\", \"iteration\": \"6\", \"goal\": \"accuracy_max\", \"run_name\": \"SparseNormalizer, XGBoostClassifier\", \"run_properties\": \"<azureml.automl.runtime.shared.model_wrappers.SparseNormalizer object at 0x7f04401fe5c0\", \"primary_metric\": 0.65640842, \"best_metric\": 0.75569903}, {\"run_id\": \"AutoML_2a8d0b39-7d5a-4b61-93b2-fc1cfcd64004_7\", \"run_number\": 12, \"metric\": null, \"status\": \"Completed\", \"run_type\": \"azureml.scriptrun\", \"training_percent\": \"100\", \"start_time\": \"2020-12-30T21:50:54.062933Z\", \"end_time\": \"2020-12-30T21:51:50.767383Z\", \"created_time\": \"2020-12-30T21:50:41.688954Z\", \"created_time_dt\": \"2020-12-30T21:50:41.688954Z\", \"duration\": \"0:01:09\", \"iteration\": \"7\", \"goal\": \"accuracy_max\", \"run_name\": \"RobustScaler, RandomForest\", \"run_properties\": \"copy=True, quantile_range=[10, 90], with_centering=True,\\n             with_scaling=True\", \"primary_metric\": 0.74107285, \"best_metric\": 0.75569903}, {\"run_id\": \"AutoML_2a8d0b39-7d5a-4b61-93b2-fc1cfcd64004_8\", \"run_number\": 13, \"metric\": null, \"status\": \"Completed\", \"run_type\": \"azureml.scriptrun\", \"training_percent\": \"100\", \"start_time\": \"2020-12-30T21:52:10.481232Z\", \"end_time\": \"2020-12-30T21:52:59.275031Z\", \"created_time\": \"2020-12-30T21:51:58.189471Z\", \"created_time_dt\": \"2020-12-30T21:51:58.189471Z\", \"duration\": \"0:01:01\", \"iteration\": \"8\", \"goal\": \"accuracy_max\", \"run_name\": \"StandardScalerWrapper, LogisticRegression\", \"run_properties\": \"<azureml.automl.runtime.shared.model_wrappers.StandardScalerWrapper object at 0x7f8cd139f0f0\", \"primary_metric\": 0.76869122, \"best_metric\": 0.76869122}, {\"run_id\": \"AutoML_2a8d0b39-7d5a-4b61-93b2-fc1cfcd64004_9\", \"run_number\": 14, \"metric\": null, \"status\": \"Completed\", \"run_type\": \"azureml.scriptrun\", \"training_percent\": \"100\", \"start_time\": \"2020-12-30T21:52:42.157464Z\", \"end_time\": \"2020-12-30T21:53:30.829094Z\", \"created_time\": \"2020-12-30T21:52:29.446134Z\", \"created_time_dt\": \"2020-12-30T21:52:29.446134Z\", \"duration\": \"0:01:01\", \"iteration\": \"9\", \"goal\": \"accuracy_max\", \"run_name\": \"SparseNormalizer, LightGBM\", \"run_properties\": \"<azureml.automl.runtime.shared.model_wrappers.SparseNormalizer object at 0x7f556b274ef0\", \"primary_metric\": 0.64005261, \"best_metric\": 0.76869122}, {\"run_id\": \"AutoML_2a8d0b39-7d5a-4b61-93b2-fc1cfcd64004_10\", \"run_number\": 15, \"metric\": null, \"status\": \"Completed\", \"run_type\": \"azureml.scriptrun\", \"training_percent\": \"100\", \"start_time\": \"2020-12-30T21:52:46.042727Z\", \"end_time\": \"2020-12-30T21:53:46.938735Z\", \"created_time\": \"2020-12-30T21:52:33.300997Z\", \"created_time_dt\": \"2020-12-30T21:52:33.300997Z\", \"duration\": \"0:01:13\", \"iteration\": \"10\", \"goal\": \"accuracy_max\", \"run_name\": \"MaxAbsScaler, LightGBM\", \"run_properties\": \"copy=True\", \"primary_metric\": 0.75567512, \"best_metric\": 0.76869122}, {\"run_id\": \"AutoML_2a8d0b39-7d5a-4b61-93b2-fc1cfcd64004_11\", \"run_number\": 16, \"metric\": null, \"status\": \"Completed\", \"run_type\": \"azureml.scriptrun\", \"training_percent\": \"100\", \"start_time\": \"2020-12-30T21:52:59.657204Z\", \"end_time\": \"2020-12-30T21:53:56.078205Z\", \"created_time\": \"2020-12-30T21:52:47.862736Z\", \"created_time_dt\": \"2020-12-30T21:52:47.862736Z\", \"duration\": \"0:01:08\", \"iteration\": \"11\", \"goal\": \"accuracy_max\", \"run_name\": \"SparseNormalizer, LightGBM\", \"run_properties\": \"<azureml.automl.runtime.shared.model_wrappers.SparseNormalizer object at 0x7fd198d19d30\", \"primary_metric\": 0.67422286, \"best_metric\": 0.76869122}, {\"run_id\": \"AutoML_2a8d0b39-7d5a-4b61-93b2-fc1cfcd64004_12\", \"run_number\": 17, \"metric\": null, \"status\": \"Completed\", \"run_type\": \"azureml.scriptrun\", \"training_percent\": \"100\", \"start_time\": \"2020-12-30T21:53:14.076763Z\", \"end_time\": \"2020-12-30T21:54:18.862899Z\", \"created_time\": \"2020-12-30T21:53:01.019148Z\", \"created_time_dt\": \"2020-12-30T21:53:01.019148Z\", \"duration\": \"0:01:17\", \"iteration\": \"12\", \"goal\": \"accuracy_max\", \"run_name\": \"StandardScalerWrapper, LightGBM\", \"run_properties\": \"<azureml.automl.runtime.shared.model_wrappers.StandardScalerWrapper object at 0x7f8c9d1f78d0\", \"primary_metric\": 0.74593496, \"best_metric\": 0.76869122}, {\"run_id\": \"AutoML_2a8d0b39-7d5a-4b61-93b2-fc1cfcd64004_13\", \"run_number\": 18, \"metric\": null, \"status\": \"Completed\", \"run_type\": \"azureml.scriptrun\", \"training_percent\": \"100\", \"start_time\": \"2020-12-30T21:53:45.444013Z\", \"end_time\": \"2020-12-30T21:54:46.645375Z\", \"created_time\": \"2020-12-30T21:53:32.485607Z\", \"created_time_dt\": \"2020-12-30T21:53:32.485607Z\", \"duration\": \"0:01:14\", \"iteration\": \"13\", \"goal\": \"accuracy_max\", \"run_name\": \"MaxAbsScaler, RandomForest\", \"run_properties\": \"copy=True\", \"primary_metric\": 0.74757692, \"best_metric\": 0.76869122}, {\"run_id\": \"AutoML_2a8d0b39-7d5a-4b61-93b2-fc1cfcd64004_14\", \"run_number\": 19, \"metric\": null, \"status\": \"Completed\", \"run_type\": \"azureml.scriptrun\", \"training_percent\": \"100\", \"start_time\": \"2020-12-30T21:53:59.715343Z\", \"end_time\": \"2020-12-30T21:54:56.16953Z\", \"created_time\": \"2020-12-30T21:53:48.803008Z\", \"created_time_dt\": \"2020-12-30T21:53:48.803008Z\", \"duration\": \"0:01:07\", \"iteration\": \"14\", \"goal\": \"accuracy_max\", \"run_name\": \"SparseNormalizer, XGBoostClassifier\", \"run_properties\": \"<azureml.automl.runtime.shared.model_wrappers.SparseNormalizer object at 0x7fd44003b828\", \"primary_metric\": 0.67586482, \"best_metric\": 0.76869122}, {\"run_id\": \"AutoML_2a8d0b39-7d5a-4b61-93b2-fc1cfcd64004_15\", \"run_number\": 20, \"metric\": null, \"status\": \"Completed\", \"run_type\": \"azureml.scriptrun\", \"training_percent\": \"100\", \"start_time\": \"2020-12-30T21:54:10.552061Z\", \"end_time\": \"2020-12-30T21:55:08.675649Z\", \"created_time\": \"2020-12-30T21:53:58.656127Z\", \"created_time_dt\": \"2020-12-30T21:53:58.656127Z\", \"duration\": \"0:01:10\", \"iteration\": \"15\", \"goal\": \"accuracy_max\", \"run_name\": \"StandardScalerWrapper, LightGBM\", \"run_properties\": \"<azureml.automl.runtime.shared.model_wrappers.StandardScalerWrapper object at 0x7fee266c0320\", \"primary_metric\": 0.744293, \"best_metric\": 0.76869122}, {\"run_id\": \"AutoML_2a8d0b39-7d5a-4b61-93b2-fc1cfcd64004_16\", \"run_number\": 21, \"metric\": null, \"status\": \"Completed\", \"run_type\": \"azureml.scriptrun\", \"training_percent\": \"100\", \"start_time\": \"2020-12-30T21:54:32.337147Z\", \"end_time\": \"2020-12-30T21:55:26.931315Z\", \"created_time\": \"2020-12-30T21:54:20.859964Z\", \"created_time_dt\": \"2020-12-30T21:54:20.859964Z\", \"duration\": \"0:01:06\", \"iteration\": \"16\", \"goal\": \"accuracy_max\", \"run_name\": \"MaxAbsScaler, ExtremeRandomTrees\", \"run_properties\": \"copy=True\", \"primary_metric\": 0.72145704, \"best_metric\": 0.76869122}, {\"run_id\": \"AutoML_2a8d0b39-7d5a-4b61-93b2-fc1cfcd64004_17\", \"run_number\": 22, \"metric\": null, \"status\": \"Completed\", \"run_type\": \"azureml.scriptrun\", \"training_percent\": \"100\", \"start_time\": \"2020-12-30T21:55:01.385226Z\", \"end_time\": \"2020-12-30T21:55:59.40419Z\", \"created_time\": \"2020-12-30T21:54:48.945823Z\", \"created_time_dt\": \"2020-12-30T21:54:48.945823Z\", \"duration\": \"0:01:10\", \"iteration\": \"17\", \"goal\": \"accuracy_max\", \"run_name\": \"MinMaxScaler, GradientBoosting\", \"run_properties\": \"copy=True, feature_range=(0, 1\", \"primary_metric\": 0.74430894, \"best_metric\": 0.76869122}, {\"run_id\": \"AutoML_2a8d0b39-7d5a-4b61-93b2-fc1cfcd64004_18\", \"run_number\": 23, \"metric\": null, \"status\": \"Completed\", \"run_type\": \"azureml.scriptrun\", \"training_percent\": \"100\", \"start_time\": \"2020-12-30T21:55:10.66652Z\", \"end_time\": \"2020-12-30T21:56:07.685177Z\", \"created_time\": \"2020-12-30T21:54:59.484786Z\", \"created_time_dt\": \"2020-12-30T21:54:59.484786Z\", \"duration\": \"0:01:08\", \"iteration\": \"18\", \"goal\": \"accuracy_max\", \"run_name\": \"MinMaxScaler, RandomForest\", \"run_properties\": \"copy=True, feature_range=(0, 1\", \"primary_metric\": 0.726359, \"best_metric\": 0.76869122}, {\"run_id\": \"AutoML_2a8d0b39-7d5a-4b61-93b2-fc1cfcd64004_19\", \"run_number\": 24, \"metric\": null, \"status\": \"Completed\", \"run_type\": \"azureml.scriptrun\", \"training_percent\": \"100\", \"start_time\": \"2020-12-30T21:55:20.700577Z\", \"end_time\": \"2020-12-30T21:56:11.004611Z\", \"created_time\": \"2020-12-30T21:55:10.526182Z\", \"created_time_dt\": \"2020-12-30T21:55:10.526182Z\", \"duration\": \"0:01:00\", \"iteration\": \"19\", \"goal\": \"accuracy_max\", \"run_name\": \"RobustScaler, LightGBM\", \"run_properties\": \"copy=True, quantile_range=[10, 90], with_centering=False,\\n             with_scaling=True\", \"primary_metric\": 0.74917105, \"best_metric\": 0.76869122}, {\"run_id\": \"AutoML_2a8d0b39-7d5a-4b61-93b2-fc1cfcd64004_20\", \"run_number\": 25, \"metric\": null, \"status\": \"Completed\", \"run_type\": \"azureml.scriptrun\", \"training_percent\": \"100\", \"start_time\": \"2020-12-30T21:55:40.183371Z\", \"end_time\": \"2020-12-30T21:56:37.917066Z\", \"created_time\": \"2020-12-30T21:55:28.720248Z\", \"created_time_dt\": \"2020-12-30T21:55:28.720248Z\", \"duration\": \"0:01:09\", \"iteration\": \"20\", \"goal\": \"accuracy_max\", \"run_name\": \"RobustScaler, KNN\", \"run_properties\": \"copy=True, quantile_range=[25, 75], with_centering=True,\\n             with_scaling=False\", \"primary_metric\": 0.72147298, \"best_metric\": 0.76869122}, {\"run_id\": \"AutoML_2a8d0b39-7d5a-4b61-93b2-fc1cfcd64004_21\", \"run_number\": 26, \"metric\": null, \"status\": \"Completed\", \"run_type\": \"azureml.scriptrun\", \"training_percent\": \"100\", \"start_time\": \"2020-12-30T21:56:14.008577Z\", \"end_time\": \"2020-12-30T21:57:06.823806Z\", \"created_time\": \"2020-12-30T21:56:01.288267Z\", \"created_time_dt\": \"2020-12-30T21:56:01.288267Z\", \"duration\": \"0:01:05\", \"iteration\": \"21\", \"goal\": \"accuracy_max\", \"run_name\": \"MaxAbsScaler, ExtremeRandomTrees\", \"run_properties\": \"copy=True\", \"primary_metric\": 0.75076518, \"best_metric\": 0.76869122}, {\"run_id\": \"AutoML_2a8d0b39-7d5a-4b61-93b2-fc1cfcd64004_22\", \"run_number\": 27, \"metric\": null, \"status\": \"Completed\", \"run_type\": \"azureml.scriptrun\", \"training_percent\": \"100\", \"start_time\": \"2020-12-30T21:56:21.436751Z\", \"end_time\": \"2020-12-30T21:57:13.040351Z\", \"created_time\": \"2020-12-30T21:56:09.331001Z\", \"created_time_dt\": \"2020-12-30T21:56:09.331001Z\", \"duration\": \"0:01:03\", \"iteration\": \"22\", \"goal\": \"accuracy_max\", \"run_name\": \"MaxAbsScaler, ExtremeRandomTrees\", \"run_properties\": \"copy=True\", \"primary_metric\": 0.75241511, \"best_metric\": 0.76869122}, {\"run_id\": \"AutoML_2a8d0b39-7d5a-4b61-93b2-fc1cfcd64004_23\", \"run_number\": 28, \"metric\": null, \"status\": \"Completed\", \"run_type\": \"azureml.scriptrun\", \"training_percent\": \"100\", \"start_time\": \"2020-12-30T21:56:25.225064Z\", \"end_time\": \"2020-12-30T21:57:20.033444Z\", \"created_time\": \"2020-12-30T21:56:12.99569Z\", \"created_time_dt\": \"2020-12-30T21:56:12.99569Z\", \"duration\": \"0:01:07\", \"iteration\": \"23\", \"goal\": \"accuracy_max\", \"run_name\": \"StandardScalerWrapper, LogisticRegression\", \"run_properties\": \"<azureml.automl.runtime.shared.model_wrappers.StandardScalerWrapper object at 0x7fabf455fd68\", \"primary_metric\": 0.7670652, \"best_metric\": 0.76869122}, {\"run_id\": \"AutoML_2a8d0b39-7d5a-4b61-93b2-fc1cfcd64004_24\", \"run_number\": 29, \"metric\": null, \"status\": \"Completed\", \"run_type\": \"azureml.scriptrun\", \"training_percent\": \"100\", \"start_time\": \"2020-12-30T21:56:51.179695Z\", \"end_time\": \"2020-12-30T21:57:45.775036Z\", \"created_time\": \"2020-12-30T21:56:39.81284Z\", \"created_time_dt\": \"2020-12-30T21:56:39.81284Z\", \"duration\": \"0:01:05\", \"iteration\": \"24\", \"goal\": \"accuracy_max\", \"run_name\": \"MaxAbsScaler, LightGBM\", \"run_properties\": \"copy=True\", \"primary_metric\": 0.75247888, \"best_metric\": 0.76869122}, {\"run_id\": \"AutoML_2a8d0b39-7d5a-4b61-93b2-fc1cfcd64004_25\", \"run_number\": 30, \"metric\": null, \"status\": \"Completed\", \"run_type\": \"azureml.scriptrun\", \"training_percent\": \"100\", \"start_time\": \"2020-12-30T21:57:21.427212Z\", \"end_time\": \"2020-12-30T21:58:19.051567Z\", \"created_time\": \"2020-12-30T21:57:09.424257Z\", \"created_time_dt\": \"2020-12-30T21:57:09.424257Z\", \"duration\": \"0:01:09\", \"iteration\": \"25\", \"goal\": \"accuracy_max\", \"run_name\": \"PCA, LogisticRegression\", \"run_properties\": \"copy=True, iterated_power='auto', n_components=0.10894736842105263,\\n    random_state=None, svd_solver='auto', tol=0.0, whiten=True\", \"primary_metric\": 0.64167065, \"best_metric\": 0.76869122}, {\"run_id\": \"AutoML_2a8d0b39-7d5a-4b61-93b2-fc1cfcd64004_26\", \"run_number\": 31, \"metric\": null, \"status\": \"Completed\", \"run_type\": \"azureml.scriptrun\", \"training_percent\": \"100\", \"start_time\": \"2020-12-30T21:57:26.266056Z\", \"end_time\": \"2020-12-30T21:58:20.796219Z\", \"created_time\": \"2020-12-30T21:57:14.898094Z\", \"created_time_dt\": \"2020-12-30T21:57:14.898094Z\", \"duration\": \"0:01:05\", \"iteration\": \"26\", \"goal\": \"accuracy_max\", \"run_name\": \"MaxAbsScaler, ExtremeRandomTrees\", \"run_properties\": \"copy=True\", \"primary_metric\": 0.73294277, \"best_metric\": 0.76869122}, {\"run_id\": \"AutoML_2a8d0b39-7d5a-4b61-93b2-fc1cfcd64004_27\", \"run_number\": 32, \"metric\": null, \"status\": \"Completed\", \"run_type\": \"azureml.scriptrun\", \"training_percent\": \"100\", \"start_time\": \"2020-12-30T21:57:32.229232Z\", \"end_time\": \"2020-12-30T21:58:33.631815Z\", \"created_time\": \"2020-12-30T21:57:21.855717Z\", \"created_time_dt\": \"2020-12-30T21:57:21.855717Z\", \"duration\": \"0:01:11\", \"iteration\": \"27\", \"goal\": \"accuracy_max\", \"run_name\": \"StandardScalerWrapper, RandomForest\", \"run_properties\": \"<azureml.automl.runtime.shared.model_wrappers.StandardScalerWrapper object at 0x7f39d70aa240\", \"primary_metric\": 0.72314682, \"best_metric\": 0.76869122}, {\"run_id\": \"AutoML_2a8d0b39-7d5a-4b61-93b2-fc1cfcd64004_28\", \"run_number\": 33, \"metric\": null, \"status\": \"Completed\", \"run_type\": \"azureml.scriptrun\", \"training_percent\": \"100\", \"start_time\": \"2020-12-30T21:58:15.651809Z\", \"end_time\": \"2020-12-30T21:59:00.402751Z\", \"created_time\": \"2020-12-30T21:57:47.52627Z\", \"created_time_dt\": \"2020-12-30T21:57:47.52627Z\", \"duration\": \"0:01:12\", \"iteration\": \"28\", \"goal\": \"accuracy_max\", \"run_name\": \"MaxAbsScaler, LightGBM\", \"run_properties\": \"copy=True\", \"primary_metric\": 0.73452096, \"best_metric\": 0.76869122}, {\"run_id\": \"AutoML_2a8d0b39-7d5a-4b61-93b2-fc1cfcd64004_29\", \"run_number\": 34, \"metric\": null, \"status\": \"Completed\", \"run_type\": \"azureml.scriptrun\", \"training_percent\": \"100\", \"start_time\": \"2020-12-30T21:58:31.45087Z\", \"end_time\": \"2020-12-30T21:59:28.013152Z\", \"created_time\": \"2020-12-30T21:58:20.927453Z\", \"created_time_dt\": \"2020-12-30T21:58:20.927453Z\", \"duration\": \"0:01:07\", \"iteration\": \"29\", \"goal\": \"accuracy_max\", \"run_name\": \"MinMaxScaler, ExtremeRandomTrees\", \"run_properties\": \"copy=True, feature_range=(0, 1\", \"primary_metric\": 0.7540491, \"best_metric\": 0.76869122}, {\"run_id\": \"AutoML_2a8d0b39-7d5a-4b61-93b2-fc1cfcd64004_30\", \"run_number\": 35, \"metric\": null, \"status\": \"Completed\", \"run_type\": \"azureml.scriptrun\", \"training_percent\": \"100\", \"start_time\": \"2020-12-30T21:58:36.690458Z\", \"end_time\": \"2020-12-30T21:59:37.933928Z\", \"created_time\": \"2020-12-30T21:58:24.683399Z\", \"created_time_dt\": \"2020-12-30T21:58:24.683399Z\", \"duration\": \"0:01:13\", \"iteration\": \"30\", \"goal\": \"accuracy_max\", \"run_name\": \"TruncatedSVDWrapper, LogisticRegression\", \"run_properties\": \"n_components=0.05947368421052632, random_state=None\", \"primary_metric\": 0.72310697, \"best_metric\": 0.76869122}, {\"run_id\": \"AutoML_2a8d0b39-7d5a-4b61-93b2-fc1cfcd64004_31\", \"run_number\": 36, \"metric\": null, \"status\": \"Completed\", \"run_type\": \"azureml.scriptrun\", \"training_percent\": \"100\", \"start_time\": \"2020-12-30T21:58:46.039574Z\", \"end_time\": \"2020-12-30T21:59:34.629418Z\", \"created_time\": \"2020-12-30T21:58:35.362093Z\", \"created_time_dt\": \"2020-12-30T21:58:35.362093Z\", \"duration\": \"0:00:59\", \"iteration\": \"31\", \"goal\": \"accuracy_max\", \"run_name\": \"StandardScalerWrapper, LightGBM\", \"run_properties\": \"<azureml.automl.runtime.shared.model_wrappers.StandardScalerWrapper object at 0x7f096c885898\", \"primary_metric\": 0.74430894, \"best_metric\": 0.76869122}, {\"run_id\": \"AutoML_2a8d0b39-7d5a-4b61-93b2-fc1cfcd64004_32\", \"run_number\": 37, \"metric\": null, \"status\": \"Completed\", \"run_type\": \"azureml.scriptrun\", \"training_percent\": \"100\", \"start_time\": \"2020-12-30T21:59:11.831196Z\", \"end_time\": \"2020-12-30T22:00:12.516929Z\", \"created_time\": \"2020-12-30T21:59:02.137213Z\", \"created_time_dt\": \"2020-12-30T21:59:02.137213Z\", \"duration\": \"0:01:10\", \"iteration\": \"32\", \"goal\": \"accuracy_max\", \"run_name\": \"StandardScalerWrapper, XGBoostClassifier\", \"run_properties\": \"<azureml.automl.runtime.shared.model_wrappers.StandardScalerWrapper object at 0x7fe27d473ac8\", \"primary_metric\": 0.74758489, \"best_metric\": 0.76869122}, {\"run_id\": \"AutoML_2a8d0b39-7d5a-4b61-93b2-fc1cfcd64004_33\", \"run_number\": 38, \"metric\": null, \"status\": \"Canceled\", \"run_type\": \"azureml.scriptrun\", \"training_percent\": \"100\", \"start_time\": \"2020-12-30T21:59:42.798232Z\", \"end_time\": \"2020-12-30T22:00:20.506682Z\", \"created_time\": \"2020-12-30T21:59:29.886733Z\", \"created_time_dt\": \"2020-12-30T21:59:29.886733Z\", \"duration\": \"0:00:50\", \"iteration\": \"33\", \"goal\": null, \"run_name\": \"MaxAbsScaler, LightGBM\", \"run_properties\": null}, {\"run_id\": \"AutoML_2a8d0b39-7d5a-4b61-93b2-fc1cfcd64004_34\", \"run_number\": 39, \"metric\": null, \"status\": \"Canceled\", \"run_type\": \"azureml.scriptrun\", \"training_percent\": \"100\", \"start_time\": \"2020-12-30T21:59:48.072826Z\", \"end_time\": \"2020-12-30T22:00:20.456504Z\", \"created_time\": \"2020-12-30T21:59:37.254468Z\", \"created_time_dt\": \"2020-12-30T21:59:37.254468Z\", \"duration\": \"0:00:43\", \"iteration\": \"34\", \"goal\": null, \"run_name\": \"StandardScalerWrapper, RandomForest\", \"run_properties\": null}, {\"run_id\": \"AutoML_2a8d0b39-7d5a-4b61-93b2-fc1cfcd64004_35\", \"run_number\": 40, \"metric\": null, \"status\": \"Canceled\", \"run_type\": \"azureml.scriptrun\", \"training_percent\": \"100\", \"start_time\": \"2020-12-30T21:59:55.713582Z\", \"end_time\": \"2020-12-30T22:00:19.943208Z\", \"created_time\": \"2020-12-30T21:59:41.536898Z\", \"created_time_dt\": \"2020-12-30T21:59:41.536898Z\", \"duration\": \"0:00:38\", \"iteration\": \"35\", \"goal\": null, \"run_name\": \"RobustScaler, LogisticRegression\", \"run_properties\": null}, {\"run_id\": \"AutoML_2a8d0b39-7d5a-4b61-93b2-fc1cfcd64004_36\", \"run_number\": 41, \"metric\": null, \"status\": \"Completed\", \"run_type\": \"azureml.scriptrun\", \"training_percent\": \"100\", \"start_time\": \"2020-12-30T22:00:32.219631Z\", \"end_time\": \"2020-12-30T22:02:01.39061Z\", \"created_time\": \"2020-12-30T22:00:21.384086Z\", \"created_time_dt\": \"2020-12-30T22:00:21.384086Z\", \"duration\": \"0:01:40\", \"iteration\": \"36\", \"goal\": \"accuracy_max\", \"run_name\": \"VotingEnsemble\", \"run_properties\": \"classification_labels=None,\\n                              estimators=[('8',\\n                                           Pipeline(memory=None,\\n                                                    steps=[('standardscalerwrapper',\\n                                                            <azureml.automl.runtime.shared.model_wrappers.StandardScalerWrapper object at 0x7f22f1465898>\", \"primary_metric\": 0.78014507, \"best_metric\": 0.78014507}], \"children_metrics\": {\"categories\": [0], \"series\": {\"AUC_weighted\": [{\"categories\": [\"0\", \"1\", \"2\", \"3\", \"4\", \"5\", \"6\", \"7\", \"8\", \"9\", \"10\", \"11\", \"12\", \"13\", \"14\", \"15\", \"16\", \"17\", \"18\", \"19\", \"20\", \"21\", \"22\", \"23\", \"24\", \"25\", \"26\", \"27\", \"28\", \"29\", \"30\", \"31\", \"32\", \"36\"], \"mode\": \"markers\", \"name\": \"AUC_weighted\", \"stepped\": false, \"type\": \"scatter\", \"data\": [0.801557560850414, 0.8153530249017112, 0.8189776123212412, 0.8174385834451071, 0.8055750190285234, 0.7868412529749867, 0.6737267365659635, 0.8147812820816029, 0.8170147117313018, 0.6924327192021642, 0.8158500292303783, 0.6905809552664893, 0.8302031391653935, 0.8242450853790014, 0.6789882745361057, 0.8044817148669897, 0.820144113262626, 0.8226646925405632, 0.813732065050382, 0.8234622491354419, 0.7557280473627949, 0.8286813059600812, 0.8181903678315342, 0.8167009817068793, 0.8197782072116753, 0.5968349023555114, 0.8257028676219015, 0.8184196635624114, 0.8219448617516546, 0.828572766386829, 0.773269443461918, 0.8197137288837409, 0.8090132033892327, 0.8322394337616901]}, {\"categories\": [\"0\", \"1\", \"2\", \"3\", \"4\", \"5\", \"6\", \"7\", \"8\", \"9\", \"10\", \"11\", \"12\", \"13\", \"14\", \"15\", \"16\", \"17\", \"18\", \"19\", \"20\", \"21\", \"22\", \"23\", \"24\", \"25\", \"26\", \"27\", \"28\", \"29\", \"30\", \"31\", \"32\", \"36\"], \"mode\": \"lines\", \"name\": \"AUC_weighted_max\", \"stepped\": true, \"type\": \"scatter\", \"data\": [0.801557560850414, 0.8153530249017112, 0.8189776123212412, 0.8189776123212412, 0.8189776123212412, 0.8189776123212412, 0.8189776123212412, 0.8189776123212412, 0.8189776123212412, 0.8189776123212412, 0.8189776123212412, 0.8189776123212412, 0.8302031391653935, 0.8302031391653935, 0.8302031391653935, 0.8302031391653935, 0.8302031391653935, 0.8302031391653935, 0.8302031391653935, 0.8302031391653935, 0.8302031391653935, 0.8302031391653935, 0.8302031391653935, 0.8302031391653935, 0.8302031391653935, 0.8302031391653935, 0.8302031391653935, 0.8302031391653935, 0.8302031391653935, 0.8302031391653935, 0.8302031391653935, 0.8302031391653935, 0.8302031391653935, 0.8322394337616901]}], \"AUC_macro\": [{\"categories\": [\"0\", \"1\", \"2\", \"3\", \"4\", \"5\", \"6\", \"7\", \"8\", \"9\", \"10\", \"11\", \"12\", \"13\", \"14\", \"15\", \"16\", \"17\", \"18\", \"19\", \"20\", \"21\", \"22\", \"23\", \"24\", \"25\", \"26\", \"27\", \"28\", \"29\", \"30\", \"31\", \"32\", \"36\"], \"mode\": \"markers\", \"name\": \"AUC_macro\", \"stepped\": false, \"type\": \"scatter\", \"data\": [0.801557560850414, 0.8153530249017112, 0.8189776123212412, 0.8174385834451071, 0.8055750190285234, 0.7868412529749867, 0.6737267365659636, 0.814781282081603, 0.8170147117313018, 0.6924327192021643, 0.8158500292303783, 0.6905809552664893, 0.8302031391653935, 0.8242450853790014, 0.6789882745361057, 0.8044817148669897, 0.820144113262626, 0.8226646925405632, 0.813732065050382, 0.8234622491354419, 0.7557280473627949, 0.8286813059600812, 0.8181903678315344, 0.8167009817068793, 0.8197782072116753, 0.5968349023555114, 0.8257028676219015, 0.8184196635624114, 0.8219448617516546, 0.828572766386829, 0.7732694434619182, 0.8197137288837409, 0.8090132033892327, 0.8322394337616901]}, {\"categories\": [\"0\", \"1\", \"2\", \"3\", \"4\", \"5\", \"6\", \"7\", \"8\", \"9\", \"10\", \"11\", \"12\", \"13\", \"14\", \"15\", \"16\", \"17\", \"18\", \"19\", \"20\", \"21\", \"22\", \"23\", \"24\", \"25\", \"26\", \"27\", \"28\", \"29\", \"30\", \"31\", \"32\", \"36\"], \"mode\": \"lines\", \"name\": \"AUC_macro_max\", \"stepped\": true, \"type\": \"scatter\", \"data\": [0.801557560850414, 0.8153530249017112, 0.8189776123212412, 0.8189776123212412, 0.8189776123212412, 0.8189776123212412, 0.8189776123212412, 0.8189776123212412, 0.8189776123212412, 0.8189776123212412, 0.8189776123212412, 0.8189776123212412, 0.8302031391653935, 0.8302031391653935, 0.8302031391653935, 0.8302031391653935, 0.8302031391653935, 0.8302031391653935, 0.8302031391653935, 0.8302031391653935, 0.8302031391653935, 0.8302031391653935, 0.8302031391653935, 0.8302031391653935, 0.8302031391653935, 0.8302031391653935, 0.8302031391653935, 0.8302031391653935, 0.8302031391653935, 0.8302031391653935, 0.8302031391653935, 0.8302031391653935, 0.8302031391653935, 0.8322394337616901]}], \"f1_score_micro\": [{\"categories\": [\"0\", \"1\", \"2\", \"3\", \"4\", \"5\", \"6\", \"7\", \"8\", \"9\", \"10\", \"11\", \"12\", \"13\", \"14\", \"15\", \"16\", \"17\", \"18\", \"19\", \"20\", \"21\", \"22\", \"23\", \"24\", \"25\", \"26\", \"27\", \"28\", \"29\", \"30\", \"31\", \"32\", \"36\"], \"mode\": \"markers\", \"name\": \"f1_score_micro\", \"stepped\": false, \"type\": \"scatter\", \"data\": [0.7459588713534194, 0.7443089430894309, 0.755699027578511, 0.7459190180137095, 0.739462776980711, 0.7198150805037461, 0.6564084170253467, 0.7410728519049896, 0.768691216323928, 0.640052606408417, 0.7556751155746851, 0.6742228598756576, 0.7459349593495935, 0.74757691694564, 0.675864817471704, 0.744293001753547, 0.7214570380997927, 0.7443089430894309, 0.7263589988841065, 0.7491710505340348, 0.7214729794356768, 0.7507651841224295, 0.752415112386418, 0.7670652000637653, 0.7524788777299537, 0.6416706520006377, 0.7329427706041766, 0.7231468197034912, 0.7345209628566874, 0.7540490993145226, 0.7231069663637814, 0.7443089430894309, 0.747584887613582, 0.7801450661565439]}, {\"categories\": [\"0\", \"1\", \"2\", \"3\", \"4\", \"5\", \"6\", \"7\", \"8\", \"9\", \"10\", \"11\", \"12\", \"13\", \"14\", \"15\", \"16\", \"17\", \"18\", \"19\", \"20\", \"21\", \"22\", \"23\", \"24\", \"25\", \"26\", \"27\", \"28\", \"29\", \"30\", \"31\", \"32\", \"36\"], \"mode\": \"lines\", \"name\": \"f1_score_micro_max\", \"stepped\": true, \"type\": \"scatter\", \"data\": [0.7459588713534194, 0.7459588713534194, 0.755699027578511, 0.755699027578511, 0.755699027578511, 0.755699027578511, 0.755699027578511, 0.755699027578511, 0.768691216323928, 0.768691216323928, 0.768691216323928, 0.768691216323928, 0.768691216323928, 0.768691216323928, 0.768691216323928, 0.768691216323928, 0.768691216323928, 0.768691216323928, 0.768691216323928, 0.768691216323928, 0.768691216323928, 0.768691216323928, 0.768691216323928, 0.768691216323928, 0.768691216323928, 0.768691216323928, 0.768691216323928, 0.768691216323928, 0.768691216323928, 0.768691216323928, 0.768691216323928, 0.768691216323928, 0.768691216323928, 0.7801450661565439]}], \"average_precision_score_micro\": [{\"categories\": [\"0\", \"1\", \"2\", \"3\", \"4\", \"5\", \"6\", \"7\", \"8\", \"9\", \"10\", \"11\", \"12\", \"13\", \"14\", \"15\", \"16\", \"17\", \"18\", \"19\", \"20\", \"21\", \"22\", \"23\", \"24\", \"25\", \"26\", \"27\", \"28\", \"29\", \"30\", \"31\", \"32\", \"36\"], \"mode\": \"markers\", \"name\": \"average_precision_score_micro\", \"stepped\": false, \"type\": \"scatter\", \"data\": [0.8166117860170772, 0.8275879185031454, 0.8316375641092879, 0.8324730305948834, 0.8157778730685052, 0.8025098591392532, 0.7059366419661743, 0.8283909737995071, 0.8268862505347824, 0.732076513449245, 0.8306178980533575, 0.7236942805928592, 0.8465832017333481, 0.8410139918214492, 0.7128678592457041, 0.8245014054644256, 0.8191035294358538, 0.8413388058484349, 0.8236562709203848, 0.8402637628125209, 0.7744926746210394, 0.8396018709319705, 0.8371061428170344, 0.8259522256694618, 0.8368047154437882, 0.6767236117439728, 0.8203885470997543, 0.8184624472273212, 0.8267290509350188, 0.8414621916771475, 0.788542141500637, 0.8368610099217003, 0.8304034379392758, 0.8470357814835082]}, {\"categories\": [\"0\", \"1\", \"2\", \"3\", \"4\", \"5\", \"6\", \"7\", \"8\", \"9\", \"10\", \"11\", \"12\", \"13\", \"14\", \"15\", \"16\", \"17\", \"18\", \"19\", \"20\", \"21\", \"22\", \"23\", \"24\", \"25\", \"26\", \"27\", \"28\", \"29\", \"30\", \"31\", \"32\", \"36\"], \"mode\": \"lines\", \"name\": \"average_precision_score_micro_max\", \"stepped\": true, \"type\": \"scatter\", \"data\": [0.8166117860170772, 0.8275879185031454, 0.8316375641092879, 0.8324730305948834, 0.8324730305948834, 0.8324730305948834, 0.8324730305948834, 0.8324730305948834, 0.8324730305948834, 0.8324730305948834, 0.8324730305948834, 0.8324730305948834, 0.8465832017333481, 0.8465832017333481, 0.8465832017333481, 0.8465832017333481, 0.8465832017333481, 0.8465832017333481, 0.8465832017333481, 0.8465832017333481, 0.8465832017333481, 0.8465832017333481, 0.8465832017333481, 0.8465832017333481, 0.8465832017333481, 0.8465832017333481, 0.8465832017333481, 0.8465832017333481, 0.8465832017333481, 0.8465832017333481, 0.8465832017333481, 0.8465832017333481, 0.8465832017333481, 0.8470357814835082]}], \"precision_score_weighted\": [{\"categories\": [\"0\", \"1\", \"2\", \"3\", \"4\", \"5\", \"6\", \"7\", \"8\", \"9\", \"10\", \"11\", \"12\", \"13\", \"14\", \"15\", \"16\", \"17\", \"18\", \"19\", \"20\", \"21\", \"22\", \"23\", \"24\", \"25\", \"26\", \"27\", \"28\", \"29\", \"30\", \"31\", \"32\", \"36\"], \"mode\": \"markers\", \"name\": \"precision_score_weighted\", \"stepped\": false, \"type\": \"scatter\", \"data\": [0.7456608668779596, 0.7440636782906588, 0.7552726403245984, 0.7456421004687798, 0.7500747999628447, 0.7191019117300238, 0.6505764660092228, 0.7427876509108201, 0.7692132749594774, 0.6319143595670004, 0.754351076114323, 0.6616679455031014, 0.7447307181281969, 0.7466061958477175, 0.6680399236022101, 0.7430724127093268, 0.7398167771031586, 0.7423699935779727, 0.7264682560129309, 0.7480333841460919, 0.714396331487857, 0.7551744661147661, 0.750296302758087, 0.7676082678678685, 0.7542698811156532, 0.5939695398161512, 0.7649173641677144, 0.7526017850702286, 0.7440235782187354, 0.7531935602160335, 0.720398937756983, 0.741967572796749, 0.7443800263740329, 0.779131357464848]}, {\"categories\": [\"0\", \"1\", \"2\", \"3\", \"4\", \"5\", \"6\", \"7\", \"8\", \"9\", \"10\", \"11\", \"12\", \"13\", \"14\", \"15\", \"16\", \"17\", \"18\", \"19\", \"20\", \"21\", \"22\", \"23\", \"24\", \"25\", \"26\", \"27\", \"28\", \"29\", \"30\", \"31\", \"32\", \"36\"], \"mode\": \"lines\", \"name\": \"precision_score_weighted_max\", \"stepped\": true, \"type\": \"scatter\", \"data\": [0.7456608668779596, 0.7456608668779596, 0.7552726403245984, 0.7552726403245984, 0.7552726403245984, 0.7552726403245984, 0.7552726403245984, 0.7552726403245984, 0.7692132749594774, 0.7692132749594774, 0.7692132749594774, 0.7692132749594774, 0.7692132749594774, 0.7692132749594774, 0.7692132749594774, 0.7692132749594774, 0.7692132749594774, 0.7692132749594774, 0.7692132749594774, 0.7692132749594774, 0.7692132749594774, 0.7692132749594774, 0.7692132749594774, 0.7692132749594774, 0.7692132749594774, 0.7692132749594774, 0.7692132749594774, 0.7692132749594774, 0.7692132749594774, 0.7692132749594774, 0.7692132749594774, 0.7692132749594774, 0.7692132749594774, 0.779131357464848]}], \"f1_score_weighted\": [{\"categories\": [\"0\", \"1\", \"2\", \"3\", \"4\", \"5\", \"6\", \"7\", \"8\", \"9\", \"10\", \"11\", \"12\", \"13\", \"14\", \"15\", \"16\", \"17\", \"18\", \"19\", \"20\", \"21\", \"22\", \"23\", \"24\", \"25\", \"26\", \"27\", \"28\", \"29\", \"30\", \"31\", \"32\", \"36\"], \"mode\": \"markers\", \"name\": \"f1_score_weighted\", \"stepped\": false, \"type\": \"scatter\", \"data\": [0.7437922628335389, 0.7407599038402416, 0.7484207712068999, 0.7353364757645539, 0.7418230068259318, 0.7145522848991489, 0.645230833624566, 0.7376505820920913, 0.7594031690028391, 0.6320581555004668, 0.7453045330231903, 0.6577658903242242, 0.7411806376791296, 0.740399826810203, 0.6647346862553161, 0.739779879263347, 0.6823259042619325, 0.7366930717624315, 0.7051169304536016, 0.7353691154641046, 0.712295533372605, 0.7317202654999954, 0.7466053316354543, 0.7579274671701751, 0.7504495220362631, 0.5344583179517748, 0.7379951690433804, 0.7285837640655647, 0.7080034770967077, 0.7418922262306301, 0.7091333425424929, 0.7366426268155756, 0.7364096182764817, 0.7747622889069805]}, {\"categories\": [\"0\", \"1\", \"2\", \"3\", \"4\", \"5\", \"6\", \"7\", \"8\", \"9\", \"10\", \"11\", \"12\", \"13\", \"14\", \"15\", \"16\", \"17\", \"18\", \"19\", \"20\", \"21\", \"22\", \"23\", \"24\", \"25\", \"26\", \"27\", \"28\", \"29\", \"30\", \"31\", \"32\", \"36\"], \"mode\": \"lines\", \"name\": \"f1_score_weighted_max\", \"stepped\": true, \"type\": \"scatter\", \"data\": [0.7437922628335389, 0.7437922628335389, 0.7484207712068999, 0.7484207712068999, 0.7484207712068999, 0.7484207712068999, 0.7484207712068999, 0.7484207712068999, 0.7594031690028391, 0.7594031690028391, 0.7594031690028391, 0.7594031690028391, 0.7594031690028391, 0.7594031690028391, 0.7594031690028391, 0.7594031690028391, 0.7594031690028391, 0.7594031690028391, 0.7594031690028391, 0.7594031690028391, 0.7594031690028391, 0.7594031690028391, 0.7594031690028391, 0.7594031690028391, 0.7594031690028391, 0.7594031690028391, 0.7594031690028391, 0.7594031690028391, 0.7594031690028391, 0.7594031690028391, 0.7594031690028391, 0.7594031690028391, 0.7594031690028391, 0.7747622889069805]}], \"AUC_micro\": [{\"categories\": [\"0\", \"1\", \"2\", \"3\", \"4\", \"5\", \"6\", \"7\", \"8\", \"9\", \"10\", \"11\", \"12\", \"13\", \"14\", \"15\", \"16\", \"17\", \"18\", \"19\", \"20\", \"21\", \"22\", \"23\", \"24\", \"25\", \"26\", \"27\", \"28\", \"29\", \"30\", \"31\", \"32\", \"36\"], \"mode\": \"markers\", \"name\": \"AUC_micro\", \"stepped\": false, \"type\": \"scatter\", \"data\": [0.8188072049806498, 0.8286293876125527, 0.8323318366317262, 0.8312852305619577, 0.8161098712929628, 0.8041952175534921, 0.7143647730250335, 0.8309361147343152, 0.836243610600508, 0.7301687118996544, 0.8292195946082451, 0.7320572955321643, 0.8449658860367544, 0.8416313591997708, 0.7234172220403948, 0.8245311682468106, 0.8114443444966141, 0.8374055489190502, 0.8197668541508044, 0.8379194585922848, 0.7869766345453705, 0.8362137739622254, 0.8334072661386585, 0.8358376863243694, 0.8384254168476364, 0.6837077176268712, 0.8185059528043447, 0.8162169990141684, 0.8243927810983177, 0.8395046271804883, 0.8060682496161614, 0.8350799763708388, 0.8278039752019598, 0.8467514345868133]}, {\"categories\": [\"0\", \"1\", \"2\", \"3\", \"4\", \"5\", \"6\", \"7\", \"8\", \"9\", \"10\", \"11\", \"12\", \"13\", \"14\", \"15\", \"16\", \"17\", \"18\", \"19\", \"20\", \"21\", \"22\", \"23\", \"24\", \"25\", \"26\", \"27\", \"28\", \"29\", \"30\", \"31\", \"32\", \"36\"], \"mode\": \"lines\", \"name\": \"AUC_micro_max\", \"stepped\": true, \"type\": \"scatter\", \"data\": [0.8188072049806498, 0.8286293876125527, 0.8323318366317262, 0.8323318366317262, 0.8323318366317262, 0.8323318366317262, 0.8323318366317262, 0.8323318366317262, 0.836243610600508, 0.836243610600508, 0.836243610600508, 0.836243610600508, 0.8449658860367544, 0.8449658860367544, 0.8449658860367544, 0.8449658860367544, 0.8449658860367544, 0.8449658860367544, 0.8449658860367544, 0.8449658860367544, 0.8449658860367544, 0.8449658860367544, 0.8449658860367544, 0.8449658860367544, 0.8449658860367544, 0.8449658860367544, 0.8449658860367544, 0.8449658860367544, 0.8449658860367544, 0.8449658860367544, 0.8449658860367544, 0.8449658860367544, 0.8449658860367544, 0.8467514345868133]}], \"accuracy\": [{\"categories\": [\"0\", \"1\", \"2\", \"3\", \"4\", \"5\", \"6\", \"7\", \"8\", \"9\", \"10\", \"11\", \"12\", \"13\", \"14\", \"15\", \"16\", \"17\", \"18\", \"19\", \"20\", \"21\", \"22\", \"23\", \"24\", \"25\", \"26\", \"27\", \"28\", \"29\", \"30\", \"31\", \"32\", \"36\"], \"mode\": \"markers\", \"name\": \"accuracy\", \"stepped\": false, \"type\": \"scatter\", \"data\": [0.7459588713534194, 0.7443089430894309, 0.755699027578511, 0.7459190180137095, 0.739462776980711, 0.7198150805037461, 0.6564084170253467, 0.7410728519049896, 0.768691216323928, 0.640052606408417, 0.7556751155746851, 0.6742228598756576, 0.7459349593495935, 0.74757691694564, 0.675864817471704, 0.744293001753547, 0.7214570380997927, 0.7443089430894309, 0.7263589988841065, 0.7491710505340348, 0.7214729794356768, 0.7507651841224295, 0.752415112386418, 0.7670652000637653, 0.7524788777299537, 0.6416706520006377, 0.7329427706041766, 0.7231468197034912, 0.7345209628566874, 0.7540490993145226, 0.7231069663637814, 0.7443089430894309, 0.747584887613582, 0.7801450661565439]}, {\"categories\": [\"0\", \"1\", \"2\", \"3\", \"4\", \"5\", \"6\", \"7\", \"8\", \"9\", \"10\", \"11\", \"12\", \"13\", \"14\", \"15\", \"16\", \"17\", \"18\", \"19\", \"20\", \"21\", \"22\", \"23\", \"24\", \"25\", \"26\", \"27\", \"28\", \"29\", \"30\", \"31\", \"32\", \"36\"], \"mode\": \"lines\", \"name\": \"accuracy_max\", \"stepped\": true, \"type\": \"scatter\", \"data\": [0.7459588713534194, 0.7459588713534194, 0.755699027578511, 0.755699027578511, 0.755699027578511, 0.755699027578511, 0.755699027578511, 0.755699027578511, 0.768691216323928, 0.768691216323928, 0.768691216323928, 0.768691216323928, 0.768691216323928, 0.768691216323928, 0.768691216323928, 0.768691216323928, 0.768691216323928, 0.768691216323928, 0.768691216323928, 0.768691216323928, 0.768691216323928, 0.768691216323928, 0.768691216323928, 0.768691216323928, 0.768691216323928, 0.768691216323928, 0.768691216323928, 0.768691216323928, 0.768691216323928, 0.768691216323928, 0.768691216323928, 0.768691216323928, 0.768691216323928, 0.7801450661565439]}], \"f1_score_macro\": [{\"categories\": [\"0\", \"1\", \"2\", \"3\", \"4\", \"5\", \"6\", \"7\", \"8\", \"9\", \"10\", \"11\", \"12\", \"13\", \"14\", \"15\", \"16\", \"17\", \"18\", \"19\", \"20\", \"21\", \"22\", \"23\", \"24\", \"25\", \"26\", \"27\", \"28\", \"29\", \"30\", \"31\", \"32\", \"36\"], \"mode\": \"markers\", \"name\": \"f1_score_macro\", \"stepped\": false, \"type\": \"scatter\", \"data\": [0.7197014088315093, 0.7153963252134389, 0.7209620807726888, 0.7047917596322454, 0.7229624728673105, 0.6868814663462556, 0.6063306465042458, 0.7125614194767093, 0.7321107111744772, 0.593883209763263, 0.7158608214538497, 0.6171188744556501, 0.7148471912076423, 0.7122459384699159, 0.6285583892492111, 0.7139114181896282, 0.6321050040443629, 0.7075874818720292, 0.6658584476218343, 0.7021846560168387, 0.6800801271654383, 0.6958960016587911, 0.7200722869176688, 0.7305764807249785, 0.726906329024814, 0.4404787879817431, 0.7252663774043996, 0.7149232860366311, 0.6664532083691674, 0.710332466855809, 0.6738391492437629, 0.7076011594550161, 0.7045547162255984, 0.7504747465519251]}, {\"categories\": [\"0\", \"1\", \"2\", \"3\", \"4\", \"5\", \"6\", \"7\", \"8\", \"9\", \"10\", \"11\", \"12\", \"13\", \"14\", \"15\", \"16\", \"17\", \"18\", \"19\", \"20\", \"21\", \"22\", \"23\", \"24\", \"25\", \"26\", \"27\", \"28\", \"29\", \"30\", \"31\", \"32\", \"36\"], \"mode\": \"lines\", \"name\": \"f1_score_macro_max\", \"stepped\": true, \"type\": \"scatter\", \"data\": [0.7197014088315093, 0.7197014088315093, 0.7209620807726888, 0.7209620807726888, 0.7229624728673105, 0.7229624728673105, 0.7229624728673105, 0.7229624728673105, 0.7321107111744772, 0.7321107111744772, 0.7321107111744772, 0.7321107111744772, 0.7321107111744772, 0.7321107111744772, 0.7321107111744772, 0.7321107111744772, 0.7321107111744772, 0.7321107111744772, 0.7321107111744772, 0.7321107111744772, 0.7321107111744772, 0.7321107111744772, 0.7321107111744772, 0.7321107111744772, 0.7321107111744772, 0.7321107111744772, 0.7321107111744772, 0.7321107111744772, 0.7321107111744772, 0.7321107111744772, 0.7321107111744772, 0.7321107111744772, 0.7321107111744772, 0.7504747465519251]}], \"average_precision_score_weighted\": [{\"categories\": [\"0\", \"1\", \"2\", \"3\", \"4\", \"5\", \"6\", \"7\", \"8\", \"9\", \"10\", \"11\", \"12\", \"13\", \"14\", \"15\", \"16\", \"17\", \"18\", \"19\", \"20\", \"21\", \"22\", \"23\", \"24\", \"25\", \"26\", \"27\", \"28\", \"29\", \"30\", \"31\", \"32\", \"36\"], \"mode\": \"markers\", \"name\": \"average_precision_score_weighted\", \"stepped\": false, \"type\": \"scatter\", \"data\": [0.8002373361791034, 0.8147330219387596, 0.8211568850506868, 0.8198193093827476, 0.811280707950934, 0.7895139896515498, 0.6902537320874594, 0.8188912628264395, 0.8195332710957981, 0.7044833120752765, 0.819865237915427, 0.6965899720833297, 0.837093435348571, 0.8296387291756445, 0.6905403612317403, 0.8116753316133769, 0.8270091841996465, 0.8279268971033239, 0.8199483384017593, 0.830071654443298, 0.7574009698535562, 0.8373018140785174, 0.821815359078366, 0.8190985068454869, 0.8245494583713557, 0.6394770648462987, 0.8320710410145765, 0.8244331752221626, 0.8272040853317733, 0.8332247025492695, 0.7771221476494731, 0.8264229899952799, 0.8188444921916737, 0.8357754651672299]}, {\"categories\": [\"0\", \"1\", \"2\", \"3\", \"4\", \"5\", \"6\", \"7\", \"8\", \"9\", \"10\", \"11\", \"12\", \"13\", \"14\", \"15\", \"16\", \"17\", \"18\", \"19\", \"20\", \"21\", \"22\", \"23\", \"24\", \"25\", \"26\", \"27\", \"28\", \"29\", \"30\", \"31\", \"32\", \"36\"], \"mode\": \"lines\", \"name\": \"average_precision_score_weighted_max\", \"stepped\": true, \"type\": \"scatter\", \"data\": [0.8002373361791034, 0.8147330219387596, 0.8211568850506868, 0.8211568850506868, 0.8211568850506868, 0.8211568850506868, 0.8211568850506868, 0.8211568850506868, 0.8211568850506868, 0.8211568850506868, 0.8211568850506868, 0.8211568850506868, 0.837093435348571, 0.837093435348571, 0.837093435348571, 0.837093435348571, 0.837093435348571, 0.837093435348571, 0.837093435348571, 0.837093435348571, 0.837093435348571, 0.8373018140785174, 0.8373018140785174, 0.8373018140785174, 0.8373018140785174, 0.8373018140785174, 0.8373018140785174, 0.8373018140785174, 0.8373018140785174, 0.8373018140785174, 0.8373018140785174, 0.8373018140785174, 0.8373018140785174, 0.8373018140785174]}], \"recall_score_weighted\": [{\"categories\": [\"0\", \"1\", \"2\", \"3\", \"4\", \"5\", \"6\", \"7\", \"8\", \"9\", \"10\", \"11\", \"12\", \"13\", \"14\", \"15\", \"16\", \"17\", \"18\", \"19\", \"20\", \"21\", \"22\", \"23\", \"24\", \"25\", \"26\", \"27\", \"28\", \"29\", \"30\", \"31\", \"32\", \"36\"], \"mode\": \"markers\", \"name\": \"recall_score_weighted\", \"stepped\": false, \"type\": \"scatter\", \"data\": [0.7459588713534194, 0.7443089430894309, 0.755699027578511, 0.7459190180137095, 0.739462776980711, 0.7198150805037461, 0.6564084170253467, 0.7410728519049896, 0.768691216323928, 0.640052606408417, 0.7556751155746851, 0.6742228598756576, 0.7459349593495935, 0.74757691694564, 0.675864817471704, 0.744293001753547, 0.7214570380997927, 0.7443089430894309, 0.7263589988841065, 0.7491710505340348, 0.7214729794356768, 0.7507651841224295, 0.752415112386418, 0.7670652000637653, 0.7524788777299537, 0.6416706520006377, 0.7329427706041766, 0.7231468197034912, 0.7345209628566874, 0.7540490993145226, 0.7231069663637814, 0.7443089430894309, 0.747584887613582, 0.7801450661565439]}, {\"categories\": [\"0\", \"1\", \"2\", \"3\", \"4\", \"5\", \"6\", \"7\", \"8\", \"9\", \"10\", \"11\", \"12\", \"13\", \"14\", \"15\", \"16\", \"17\", \"18\", \"19\", \"20\", \"21\", \"22\", \"23\", \"24\", \"25\", \"26\", \"27\", \"28\", \"29\", \"30\", \"31\", \"32\", \"36\"], \"mode\": \"lines\", \"name\": \"recall_score_weighted_max\", \"stepped\": true, \"type\": \"scatter\", \"data\": [0.7459588713534194, 0.7459588713534194, 0.755699027578511, 0.755699027578511, 0.755699027578511, 0.755699027578511, 0.755699027578511, 0.755699027578511, 0.768691216323928, 0.768691216323928, 0.768691216323928, 0.768691216323928, 0.768691216323928, 0.768691216323928, 0.768691216323928, 0.768691216323928, 0.768691216323928, 0.768691216323928, 0.768691216323928, 0.768691216323928, 0.768691216323928, 0.768691216323928, 0.768691216323928, 0.768691216323928, 0.768691216323928, 0.768691216323928, 0.768691216323928, 0.768691216323928, 0.768691216323928, 0.768691216323928, 0.768691216323928, 0.768691216323928, 0.768691216323928, 0.7801450661565439]}], \"matthews_correlation\": [{\"categories\": [\"0\", \"1\", \"2\", \"3\", \"4\", \"5\", \"6\", \"7\", \"8\", \"9\", \"10\", \"11\", \"12\", \"13\", \"14\", \"15\", \"16\", \"17\", \"18\", \"19\", \"20\", \"21\", \"22\", \"23\", \"24\", \"25\", \"26\", \"27\", \"28\", \"29\", \"30\", \"31\", \"32\", \"36\"], \"mode\": \"markers\", \"name\": \"matthews_correlation\", \"stepped\": false, \"type\": \"scatter\", \"data\": [0.443721955771977, 0.43811083875512713, 0.45688228010788645, 0.4317189534228434, 0.45236959752136047, 0.38434106711448573, 0.23042188693241564, 0.4342646063569641, 0.484434529993028, 0.1962912941088043, 0.4523479258173553, 0.2562336172946563, 0.43853958984534697, 0.4387113619761185, 0.2727043993909193, 0.43614410960293143, 0.3643292070211915, 0.4292945218653957, 0.3767862159034277, 0.43261488854482105, 0.37230590967451643, 0.43646372108794346, 0.45026551239184504, 0.4810497925080825, 0.46004286592798965, 0.06473373264974358, 0.4737361409898193, 0.44976866872548515, 0.39843758018114567, 0.4456014745949551, 0.37437974143672764, 0.42902643402310153, 0.42980973780756165, 0.5113284196396832]}, {\"categories\": [\"0\", \"1\", \"2\", \"3\", \"4\", \"5\", \"6\", \"7\", \"8\", \"9\", \"10\", \"11\", \"12\", \"13\", \"14\", \"15\", \"16\", \"17\", \"18\", \"19\", \"20\", \"21\", \"22\", \"23\", \"24\", \"25\", \"26\", \"27\", \"28\", \"29\", \"30\", \"31\", \"32\", \"36\"], \"mode\": \"lines\", \"name\": \"matthews_correlation_max\", \"stepped\": true, \"type\": \"scatter\", \"data\": [0.443721955771977, 0.443721955771977, 0.45688228010788645, 0.45688228010788645, 0.45688228010788645, 0.45688228010788645, 0.45688228010788645, 0.45688228010788645, 0.484434529993028, 0.484434529993028, 0.484434529993028, 0.484434529993028, 0.484434529993028, 0.484434529993028, 0.484434529993028, 0.484434529993028, 0.484434529993028, 0.484434529993028, 0.484434529993028, 0.484434529993028, 0.484434529993028, 0.484434529993028, 0.484434529993028, 0.484434529993028, 0.484434529993028, 0.484434529993028, 0.484434529993028, 0.484434529993028, 0.484434529993028, 0.484434529993028, 0.484434529993028, 0.484434529993028, 0.484434529993028, 0.5113284196396832]}], \"precision_score_micro\": [{\"categories\": [\"0\", \"1\", \"2\", \"3\", \"4\", \"5\", \"6\", \"7\", \"8\", \"9\", \"10\", \"11\", \"12\", \"13\", \"14\", \"15\", \"16\", \"17\", \"18\", \"19\", \"20\", \"21\", \"22\", \"23\", \"24\", \"25\", \"26\", \"27\", \"28\", \"29\", \"30\", \"31\", \"32\", \"36\"], \"mode\": \"markers\", \"name\": \"precision_score_micro\", \"stepped\": false, \"type\": \"scatter\", \"data\": [0.7459588713534194, 0.7443089430894309, 0.755699027578511, 0.7459190180137095, 0.739462776980711, 0.7198150805037461, 0.6564084170253467, 0.7410728519049896, 0.768691216323928, 0.640052606408417, 0.7556751155746851, 0.6742228598756576, 0.7459349593495935, 0.74757691694564, 0.675864817471704, 0.744293001753547, 0.7214570380997927, 0.7443089430894309, 0.7263589988841065, 0.7491710505340348, 0.7214729794356768, 0.7507651841224295, 0.752415112386418, 0.7670652000637653, 0.7524788777299537, 0.6416706520006377, 0.7329427706041766, 0.7231468197034912, 0.7345209628566874, 0.7540490993145226, 0.7231069663637814, 0.7443089430894309, 0.747584887613582, 0.7801450661565439]}, {\"categories\": [\"0\", \"1\", \"2\", \"3\", \"4\", \"5\", \"6\", \"7\", \"8\", \"9\", \"10\", \"11\", \"12\", \"13\", \"14\", \"15\", \"16\", \"17\", \"18\", \"19\", \"20\", \"21\", \"22\", \"23\", \"24\", \"25\", \"26\", \"27\", \"28\", \"29\", \"30\", \"31\", \"32\", \"36\"], \"mode\": \"lines\", \"name\": \"precision_score_micro_max\", \"stepped\": true, \"type\": \"scatter\", \"data\": [0.7459588713534194, 0.7459588713534194, 0.755699027578511, 0.755699027578511, 0.755699027578511, 0.755699027578511, 0.755699027578511, 0.755699027578511, 0.768691216323928, 0.768691216323928, 0.768691216323928, 0.768691216323928, 0.768691216323928, 0.768691216323928, 0.768691216323928, 0.768691216323928, 0.768691216323928, 0.768691216323928, 0.768691216323928, 0.768691216323928, 0.768691216323928, 0.768691216323928, 0.768691216323928, 0.768691216323928, 0.768691216323928, 0.768691216323928, 0.768691216323928, 0.768691216323928, 0.768691216323928, 0.768691216323928, 0.768691216323928, 0.768691216323928, 0.768691216323928, 0.7801450661565439]}], \"precision_score_macro\": [{\"categories\": [\"0\", \"1\", \"2\", \"3\", \"4\", \"5\", \"6\", \"7\", \"8\", \"9\", \"10\", \"11\", \"12\", \"13\", \"14\", \"15\", \"16\", \"17\", \"18\", \"19\", \"20\", \"21\", \"22\", \"23\", \"24\", \"25\", \"26\", \"27\", \"28\", \"29\", \"30\", \"31\", \"32\", \"36\"], \"mode\": \"markers\", \"name\": \"precision_score_macro\", \"stepped\": false, \"type\": \"scatter\", \"data\": [0.726476160899086, 0.7260784827613822, 0.7433273882984084, 0.735534578595189, 0.7229889897151461, 0.6978796226197123, 0.6257582858537988, 0.7243829103335427, 0.7614221888510824, 0.6029993155023942, 0.7460361400669195, 0.6403712338614201, 0.7284428902187933, 0.7336580594823325, 0.6444992393823981, 0.7259301920847753, 0.7486218664494123, 0.7289378003944481, 0.7210509291361941, 0.7421403678929678, 0.698769133237632, 0.7535820084354219, 0.7350846287714555, 0.7592156330263474, 0.7354958214809616, 0.5736176469855226, 0.7280922202065265, 0.7160460775172863, 0.7466532742776696, 0.7459766205523284, 0.7075987078757292, 0.7288722740359237, 0.7366069863788067, 0.7694740713989541]}, {\"categories\": [\"0\", \"1\", \"2\", \"3\", \"4\", \"5\", \"6\", \"7\", \"8\", \"9\", \"10\", \"11\", \"12\", \"13\", \"14\", \"15\", \"16\", \"17\", \"18\", \"19\", \"20\", \"21\", \"22\", \"23\", \"24\", \"25\", \"26\", \"27\", \"28\", \"29\", \"30\", \"31\", \"32\", \"36\"], \"mode\": \"lines\", \"name\": \"precision_score_macro_max\", \"stepped\": true, \"type\": \"scatter\", \"data\": [0.726476160899086, 0.726476160899086, 0.7433273882984084, 0.7433273882984084, 0.7433273882984084, 0.7433273882984084, 0.7433273882984084, 0.7433273882984084, 0.7614221888510824, 0.7614221888510824, 0.7614221888510824, 0.7614221888510824, 0.7614221888510824, 0.7614221888510824, 0.7614221888510824, 0.7614221888510824, 0.7614221888510824, 0.7614221888510824, 0.7614221888510824, 0.7614221888510824, 0.7614221888510824, 0.7614221888510824, 0.7614221888510824, 0.7614221888510824, 0.7614221888510824, 0.7614221888510824, 0.7614221888510824, 0.7614221888510824, 0.7614221888510824, 0.7614221888510824, 0.7614221888510824, 0.7614221888510824, 0.7614221888510824, 0.7694740713989541]}], \"recall_score_macro\": [{\"categories\": [\"0\", \"1\", \"2\", \"3\", \"4\", \"5\", \"6\", \"7\", \"8\", \"9\", \"10\", \"11\", \"12\", \"13\", \"14\", \"15\", \"16\", \"17\", \"18\", \"19\", \"20\", \"21\", \"22\", \"23\", \"24\", \"25\", \"26\", \"27\", \"28\", \"29\", \"30\", \"31\", \"32\", \"36\"], \"mode\": \"markers\", \"name\": \"recall_score_macro\", \"stepped\": false, \"type\": \"scatter\", \"data\": [0.7175460053570063, 0.712601758701069, 0.7151532758619972, 0.6985522954837563, 0.7296226823632116, 0.6871404100306613, 0.6059316221537997, 0.710649912484699, 0.7254003103680088, 0.5937656460985282, 0.7085545439329218, 0.6173435862837231, 0.7108307093346884, 0.7063973741799799, 0.6291581030536534, 0.7108883976804948, 0.6350497929247242, 0.7017864815951329, 0.6614944574828435, 0.6937030444656166, 0.6744301370801783, 0.6894405910607372, 0.7160918825263721, 0.7241837653558433, 0.7250659103428001, 0.5143240510291419, 0.7460311964180502, 0.7341302768290646, 0.6619946130309985, 0.7024928646580039, 0.6698948531156527, 0.7014281027414646, 0.6954149106861619, 0.7428078004784876]}, {\"categories\": [\"0\", \"1\", \"2\", \"3\", \"4\", \"5\", \"6\", \"7\", \"8\", \"9\", \"10\", \"11\", \"12\", \"13\", \"14\", \"15\", \"16\", \"17\", \"18\", \"19\", \"20\", \"21\", \"22\", \"23\", \"24\", \"25\", \"26\", \"27\", \"28\", \"29\", \"30\", \"31\", \"32\", \"36\"], \"mode\": \"lines\", \"name\": \"recall_score_macro_max\", \"stepped\": true, \"type\": \"scatter\", \"data\": [0.7175460053570063, 0.7175460053570063, 0.7175460053570063, 0.7175460053570063, 0.7296226823632116, 0.7296226823632116, 0.7296226823632116, 0.7296226823632116, 0.7296226823632116, 0.7296226823632116, 0.7296226823632116, 0.7296226823632116, 0.7296226823632116, 0.7296226823632116, 0.7296226823632116, 0.7296226823632116, 0.7296226823632116, 0.7296226823632116, 0.7296226823632116, 0.7296226823632116, 0.7296226823632116, 0.7296226823632116, 0.7296226823632116, 0.7296226823632116, 0.7296226823632116, 0.7296226823632116, 0.7460311964180502, 0.7460311964180502, 0.7460311964180502, 0.7460311964180502, 0.7460311964180502, 0.7460311964180502, 0.7460311964180502, 0.7460311964180502]}], \"recall_score_micro\": [{\"categories\": [\"0\", \"1\", \"2\", \"3\", \"4\", \"5\", \"6\", \"7\", \"8\", \"9\", \"10\", \"11\", \"12\", \"13\", \"14\", \"15\", \"16\", \"17\", \"18\", \"19\", \"20\", \"21\", \"22\", \"23\", \"24\", \"25\", \"26\", \"27\", \"28\", \"29\", \"30\", \"31\", \"32\", \"36\"], \"mode\": \"markers\", \"name\": \"recall_score_micro\", \"stepped\": false, \"type\": \"scatter\", \"data\": [0.7459588713534194, 0.7443089430894309, 0.755699027578511, 0.7459190180137095, 0.739462776980711, 0.7198150805037461, 0.6564084170253467, 0.7410728519049896, 0.768691216323928, 0.640052606408417, 0.7556751155746851, 0.6742228598756576, 0.7459349593495935, 0.74757691694564, 0.675864817471704, 0.744293001753547, 0.7214570380997927, 0.7443089430894309, 0.7263589988841065, 0.7491710505340348, 0.7214729794356768, 0.7507651841224295, 0.752415112386418, 0.7670652000637653, 0.7524788777299537, 0.6416706520006377, 0.7329427706041766, 0.7231468197034912, 0.7345209628566874, 0.7540490993145226, 0.7231069663637814, 0.7443089430894309, 0.747584887613582, 0.7801450661565439]}, {\"categories\": [\"0\", \"1\", \"2\", \"3\", \"4\", \"5\", \"6\", \"7\", \"8\", \"9\", \"10\", \"11\", \"12\", \"13\", \"14\", \"15\", \"16\", \"17\", \"18\", \"19\", \"20\", \"21\", \"22\", \"23\", \"24\", \"25\", \"26\", \"27\", \"28\", \"29\", \"30\", \"31\", \"32\", \"36\"], \"mode\": \"lines\", \"name\": \"recall_score_micro_max\", \"stepped\": true, \"type\": \"scatter\", \"data\": [0.7459588713534194, 0.7459588713534194, 0.755699027578511, 0.755699027578511, 0.755699027578511, 0.755699027578511, 0.755699027578511, 0.755699027578511, 0.768691216323928, 0.768691216323928, 0.768691216323928, 0.768691216323928, 0.768691216323928, 0.768691216323928, 0.768691216323928, 0.768691216323928, 0.768691216323928, 0.768691216323928, 0.768691216323928, 0.768691216323928, 0.768691216323928, 0.768691216323928, 0.768691216323928, 0.768691216323928, 0.768691216323928, 0.768691216323928, 0.768691216323928, 0.768691216323928, 0.768691216323928, 0.768691216323928, 0.768691216323928, 0.768691216323928, 0.768691216323928, 0.7801450661565439]}], \"balanced_accuracy\": [{\"categories\": [\"0\", \"1\", \"2\", \"3\", \"4\", \"5\", \"6\", \"7\", \"8\", \"9\", \"10\", \"11\", \"12\", \"13\", \"14\", \"15\", \"16\", \"17\", \"18\", \"19\", \"20\", \"21\", \"22\", \"23\", \"24\", \"25\", \"26\", \"27\", \"28\", \"29\", \"30\", \"31\", \"32\", \"36\"], \"mode\": \"markers\", \"name\": \"balanced_accuracy\", \"stepped\": false, \"type\": \"scatter\", \"data\": [0.7175460053570063, 0.712601758701069, 0.7151532758619972, 0.6985522954837563, 0.7296226823632116, 0.6871404100306613, 0.6059316221537997, 0.710649912484699, 0.7254003103680088, 0.5937656460985282, 0.7085545439329218, 0.6173435862837231, 0.7108307093346884, 0.7063973741799799, 0.6291581030536534, 0.7108883976804948, 0.6350497929247242, 0.7017864815951329, 0.6614944574828435, 0.6937030444656166, 0.6744301370801783, 0.6894405910607372, 0.7160918825263721, 0.7241837653558433, 0.7250659103428001, 0.5143240510291419, 0.7460311964180502, 0.7341302768290646, 0.6619946130309985, 0.7024928646580039, 0.6698948531156527, 0.7014281027414646, 0.6954149106861619, 0.7428078004784876]}, {\"categories\": [\"0\", \"1\", \"2\", \"3\", \"4\", \"5\", \"6\", \"7\", \"8\", \"9\", \"10\", \"11\", \"12\", \"13\", \"14\", \"15\", \"16\", \"17\", \"18\", \"19\", \"20\", \"21\", \"22\", \"23\", \"24\", \"25\", \"26\", \"27\", \"28\", \"29\", \"30\", \"31\", \"32\", \"36\"], \"mode\": \"lines\", \"name\": \"balanced_accuracy_max\", \"stepped\": true, \"type\": \"scatter\", \"data\": [0.7175460053570063, 0.7175460053570063, 0.7175460053570063, 0.7175460053570063, 0.7296226823632116, 0.7296226823632116, 0.7296226823632116, 0.7296226823632116, 0.7296226823632116, 0.7296226823632116, 0.7296226823632116, 0.7296226823632116, 0.7296226823632116, 0.7296226823632116, 0.7296226823632116, 0.7296226823632116, 0.7296226823632116, 0.7296226823632116, 0.7296226823632116, 0.7296226823632116, 0.7296226823632116, 0.7296226823632116, 0.7296226823632116, 0.7296226823632116, 0.7296226823632116, 0.7296226823632116, 0.7460311964180502, 0.7460311964180502, 0.7460311964180502, 0.7460311964180502, 0.7460311964180502, 0.7460311964180502, 0.7460311964180502, 0.7460311964180502]}], \"average_precision_score_macro\": [{\"categories\": [\"0\", \"1\", \"2\", \"3\", \"4\", \"5\", \"6\", \"7\", \"8\", \"9\", \"10\", \"11\", \"12\", \"13\", \"14\", \"15\", \"16\", \"17\", \"18\", \"19\", \"20\", \"21\", \"22\", \"23\", \"24\", \"25\", \"26\", \"27\", \"28\", \"29\", \"30\", \"31\", \"32\", \"36\"], \"mode\": \"markers\", \"name\": \"average_precision_score_macro\", \"stepped\": false, \"type\": \"scatter\", \"data\": [0.7692937589625579, 0.785048807722532, 0.7941979139092895, 0.7913458033812221, 0.7845638627574308, 0.7574211583220496, 0.6547700873939082, 0.791339079633944, 0.7954408585871704, 0.6649182075947729, 0.7928534352509901, 0.6597853408901215, 0.8128069318908665, 0.8052185881410135, 0.6559285320097833, 0.7850927064419994, 0.800139807591795, 0.8000456499357406, 0.7927190588060249, 0.8039936648004664, 0.7287543719926454, 0.8130748716596085, 0.7930492355466233, 0.7950759163577045, 0.7988545602110347, 0.601813310831462, 0.8063594842051512, 0.7979811960181046, 0.8018488488104843, 0.8077830714922104, 0.7531051188339729, 0.8005013249635224, 0.792015895868435, 0.8106407736885514]}, {\"categories\": [\"0\", \"1\", \"2\", \"3\", \"4\", \"5\", \"6\", \"7\", \"8\", \"9\", \"10\", \"11\", \"12\", \"13\", \"14\", \"15\", \"16\", \"17\", \"18\", \"19\", \"20\", \"21\", \"22\", \"23\", \"24\", \"25\", \"26\", \"27\", \"28\", \"29\", \"30\", \"31\", \"32\", \"36\"], \"mode\": \"lines\", \"name\": \"average_precision_score_macro_max\", \"stepped\": true, \"type\": \"scatter\", \"data\": [0.7692937589625579, 0.785048807722532, 0.7941979139092895, 0.7941979139092895, 0.7941979139092895, 0.7941979139092895, 0.7941979139092895, 0.7941979139092895, 0.7954408585871704, 0.7954408585871704, 0.7954408585871704, 0.7954408585871704, 0.8128069318908665, 0.8128069318908665, 0.8128069318908665, 0.8128069318908665, 0.8128069318908665, 0.8128069318908665, 0.8128069318908665, 0.8128069318908665, 0.8128069318908665, 0.8130748716596085, 0.8130748716596085, 0.8130748716596085, 0.8130748716596085, 0.8130748716596085, 0.8130748716596085, 0.8130748716596085, 0.8130748716596085, 0.8130748716596085, 0.8130748716596085, 0.8130748716596085, 0.8130748716596085, 0.8130748716596085]}], \"weighted_accuracy\": [{\"categories\": [\"0\", \"1\", \"2\", \"3\", \"4\", \"5\", \"6\", \"7\", \"8\", \"9\", \"10\", \"11\", \"12\", \"13\", \"14\", \"15\", \"16\", \"17\", \"18\", \"19\", \"20\", \"21\", \"22\", \"23\", \"24\", \"25\", \"26\", \"27\", \"28\", \"29\", \"30\", \"31\", \"32\", \"36\"], \"mode\": \"markers\", \"name\": \"weighted_accuracy\", \"stepped\": false, \"type\": \"scatter\", \"data\": [0.7703331923526053, 0.7715615333630267, 0.7903095370107737, 0.7865468615049851, 0.7481878383281698, 0.7482351302103716, 0.6997769794446619, 0.7673708988973527, 0.8055981557071252, 0.6794665180355799, 0.7958954899639066, 0.7229954000896318, 0.7760405605283518, 0.7828858561456897, 0.7161891505812669, 0.773011457170688, 0.7948816005348714, 0.7804830690346599, 0.7817712520911382, 0.7962838915326916, 0.7615343762804007, 0.8029281614892078, 0.7833168106671854, 0.8036460047787847, 0.7758994702865235, 0.7495544811698767, 0.7218991206363979, 0.714063901418343, 0.7964256875309018, 0.7978689193808807, 0.7684661837057961, 0.7809474183851344, 0.7916424365218245, 0.8119696818556582]}, {\"categories\": [\"0\", \"1\", \"2\", \"3\", \"4\", \"5\", \"6\", \"7\", \"8\", \"9\", \"10\", \"11\", \"12\", \"13\", \"14\", \"15\", \"16\", \"17\", \"18\", \"19\", \"20\", \"21\", \"22\", \"23\", \"24\", \"25\", \"26\", \"27\", \"28\", \"29\", \"30\", \"31\", \"32\", \"36\"], \"mode\": \"lines\", \"name\": \"weighted_accuracy_max\", \"stepped\": true, \"type\": \"scatter\", \"data\": [0.7703331923526053, 0.7715615333630267, 0.7903095370107737, 0.7903095370107737, 0.7903095370107737, 0.7903095370107737, 0.7903095370107737, 0.7903095370107737, 0.8055981557071252, 0.8055981557071252, 0.8055981557071252, 0.8055981557071252, 0.8055981557071252, 0.8055981557071252, 0.8055981557071252, 0.8055981557071252, 0.8055981557071252, 0.8055981557071252, 0.8055981557071252, 0.8055981557071252, 0.8055981557071252, 0.8055981557071252, 0.8055981557071252, 0.8055981557071252, 0.8055981557071252, 0.8055981557071252, 0.8055981557071252, 0.8055981557071252, 0.8055981557071252, 0.8055981557071252, 0.8055981557071252, 0.8055981557071252, 0.8055981557071252, 0.8119696818556582]}], \"log_loss\": [{\"categories\": [\"0\", \"1\", \"2\", \"3\", \"4\", \"5\", \"6\", \"7\", \"8\", \"9\", \"10\", \"11\", \"12\", \"13\", \"14\", \"15\", \"16\", \"17\", \"18\", \"19\", \"20\", \"21\", \"22\", \"23\", \"24\", \"25\", \"26\", \"27\", \"28\", \"29\", \"30\", \"31\", \"32\", \"36\"], \"mode\": \"markers\", \"name\": \"log_loss\", \"stepped\": false, \"type\": \"scatter\", \"data\": [0.6201588010501355, 0.5256130569555227, 0.5073367397263768, 0.5050120953818366, 0.5707543558603634, 0.5933576405723864, 0.7151438378695358, 0.6035773091933753, 0.505691266929766, 0.5992097634240436, 0.5211773476496199, 0.6118347317459188, 0.48454918323485874, 0.491038060016507, 0.6276849814341028, 0.5228515569055835, 0.5510715802135085, 0.5006739618039148, 0.5317279323322252, 0.504085667961958, 1.17638394617385, 0.5164726516358877, 0.4960368641150948, 0.5061476419544473, 0.4960387936744368, 0.6471214463875562, 0.5676184087784605, 0.5290968249529626, 0.5350821237539249, 0.5037744429894907, 0.544132765789502, 0.4984641636911195, 0.5614579481426177, 0.4930765525539185]}, {\"categories\": [\"0\", \"1\", \"2\", \"3\", \"4\", \"5\", \"6\", \"7\", \"8\", \"9\", \"10\", \"11\", \"12\", \"13\", \"14\", \"15\", \"16\", \"17\", \"18\", \"19\", \"20\", \"21\", \"22\", \"23\", \"24\", \"25\", \"26\", \"27\", \"28\", \"29\", \"30\", \"31\", \"32\", \"36\"], \"mode\": \"lines\", \"name\": \"log_loss_min\", \"stepped\": true, \"type\": \"scatter\", \"data\": [0.6201588010501355, 0.5256130569555227, 0.5073367397263768, 0.5050120953818366, 0.5050120953818366, 0.5050120953818366, 0.5050120953818366, 0.5050120953818366, 0.5050120953818366, 0.5050120953818366, 0.5050120953818366, 0.5050120953818366, 0.48454918323485874, 0.48454918323485874, 0.48454918323485874, 0.48454918323485874, 0.48454918323485874, 0.48454918323485874, 0.48454918323485874, 0.48454918323485874, 0.48454918323485874, 0.48454918323485874, 0.48454918323485874, 0.48454918323485874, 0.48454918323485874, 0.48454918323485874, 0.48454918323485874, 0.48454918323485874, 0.48454918323485874, 0.48454918323485874, 0.48454918323485874, 0.48454918323485874, 0.48454918323485874, 0.48454918323485874]}], \"norm_macro_recall\": [{\"categories\": [\"0\", \"1\", \"2\", \"3\", \"4\", \"5\", \"6\", \"7\", \"8\", \"9\", \"10\", \"11\", \"12\", \"13\", \"14\", \"15\", \"16\", \"17\", \"18\", \"19\", \"20\", \"21\", \"22\", \"23\", \"24\", \"25\", \"26\", \"27\", \"28\", \"29\", \"30\", \"31\", \"32\", \"36\"], \"mode\": \"markers\", \"name\": \"norm_macro_recall\", \"stepped\": false, \"type\": \"scatter\", \"data\": [0.4350920107140126, 0.42520351740213796, 0.4303065517239943, 0.3971045909675124, 0.45924536472642313, 0.37428082006132257, 0.21186324430759948, 0.421299824969398, 0.45080062073601773, 0.18753129219705636, 0.41710908786584383, 0.23468717256744628, 0.42166141866937684, 0.41279474835996005, 0.25831620610730677, 0.4217767953609896, 0.2700995858494483, 0.40357296319026564, 0.322988914965687, 0.3874060889312332, 0.34886027416035653, 0.37888118212147465, 0.4321837650527444, 0.44836753071168683, 0.4501318206856002, 0.028648102058283758, 0.4920623928361005, 0.46826055365812946, 0.3239892260619969, 0.40498572931600796, 0.3397897062313054, 0.4028562054829293, 0.3908298213723238, 0.48561560095697526]}, {\"categories\": [\"0\", \"1\", \"2\", \"3\", \"4\", \"5\", \"6\", \"7\", \"8\", \"9\", \"10\", \"11\", \"12\", \"13\", \"14\", \"15\", \"16\", \"17\", \"18\", \"19\", \"20\", \"21\", \"22\", \"23\", \"24\", \"25\", \"26\", \"27\", \"28\", \"29\", \"30\", \"31\", \"32\", \"36\"], \"mode\": \"lines\", \"name\": \"norm_macro_recall_max\", \"stepped\": true, \"type\": \"scatter\", \"data\": [0.4350920107140126, 0.4350920107140126, 0.4350920107140126, 0.4350920107140126, 0.45924536472642313, 0.45924536472642313, 0.45924536472642313, 0.45924536472642313, 0.45924536472642313, 0.45924536472642313, 0.45924536472642313, 0.45924536472642313, 0.45924536472642313, 0.45924536472642313, 0.45924536472642313, 0.45924536472642313, 0.45924536472642313, 0.45924536472642313, 0.45924536472642313, 0.45924536472642313, 0.45924536472642313, 0.45924536472642313, 0.45924536472642313, 0.45924536472642313, 0.45924536472642313, 0.45924536472642313, 0.4920623928361005, 0.4920623928361005, 0.4920623928361005, 0.4920623928361005, 0.4920623928361005, 0.4920623928361005, 0.4920623928361005, 0.4920623928361005]}]}, \"metricName\": null, \"primaryMetricName\": \"accuracy\", \"showLegend\": false}, \"run_metrics\": [{\"name\": \"experiment_status\", \"run_id\": \"AutoML_2a8d0b39-7d5a-4b61-93b2-fc1cfcd64004\", \"categories\": [0, 1, 2, 3, 4, 5, 6, 7, 8, 9, 10, 11, 12, 13], \"series\": [{\"data\": [\"DatasetEvaluation\", \"FeaturesGeneration\", \"DatasetFeaturization\", \"DatasetFeaturizationCompleted\", \"DatasetCrossValidationSplit\", \"ModelSelection\", \"BestRunExplainModel\", \"ModelExplanationDataSetSetup\", \"PickSurrogateModel\", \"EngineeredFeatureExplanations\", \"EngineeredFeatureExplanations\", \"RawFeaturesExplanations\", \"RawFeaturesExplanations\", \"BestRunExplainModel\"]}]}, {\"name\": \"experiment_status_description\", \"run_id\": \"AutoML_2a8d0b39-7d5a-4b61-93b2-fc1cfcd64004\", \"categories\": [0, 1, 2, 3, 4, 5, 6, 7, 8, 9, 10, 11, 12, 13], \"series\": [{\"data\": [\"Gathering dataset statistics.\", \"Generating features for the dataset.\", \"Beginning to fit featurizers and featurize the dataset.\", \"Completed fit featurizers and featurizing the dataset.\", \"Generating individually featurized CV splits.\", \"Beginning model selection.\", \"Best run model explanations started\", \"Model explanations data setup completed\", \"Choosing LightGBM as the surrogate model for explanations\", \"Computation of engineered features started\", \"Computation of engineered features completed\", \"Computation of raw features started\", \"Computation of raw features completed\", \"Best run model explanations completed\"]}]}, {\"name\": \"AUC_weighted\", \"run_id\": \"AutoML_2a8d0b39-7d5a-4b61-93b2-fc1cfcd64004\", \"categories\": [0], \"series\": [{\"data\": [0.8322394337616901]}]}, {\"name\": \"precision_score_weighted\", \"run_id\": \"AutoML_2a8d0b39-7d5a-4b61-93b2-fc1cfcd64004\", \"categories\": [0], \"series\": [{\"data\": [0.779131357464848]}]}, {\"name\": \"AUC_micro\", \"run_id\": \"AutoML_2a8d0b39-7d5a-4b61-93b2-fc1cfcd64004\", \"categories\": [0], \"series\": [{\"data\": [0.8467514345868133]}]}, {\"name\": \"precision_score_micro\", \"run_id\": \"AutoML_2a8d0b39-7d5a-4b61-93b2-fc1cfcd64004\", \"categories\": [0], \"series\": [{\"data\": [0.7801450661565439]}]}, {\"name\": \"norm_macro_recall\", \"run_id\": \"AutoML_2a8d0b39-7d5a-4b61-93b2-fc1cfcd64004\", \"categories\": [0], \"series\": [{\"data\": [0.48561560095697526]}]}, {\"name\": \"f1_score_weighted\", \"run_id\": \"AutoML_2a8d0b39-7d5a-4b61-93b2-fc1cfcd64004\", \"categories\": [0], \"series\": [{\"data\": [0.7747622889069805]}]}, {\"name\": \"recall_score_macro\", \"run_id\": \"AutoML_2a8d0b39-7d5a-4b61-93b2-fc1cfcd64004\", \"categories\": [0], \"series\": [{\"data\": [0.7428078004784876]}]}, {\"name\": \"average_precision_score_macro\", \"run_id\": \"AutoML_2a8d0b39-7d5a-4b61-93b2-fc1cfcd64004\", \"categories\": [0], \"series\": [{\"data\": [0.8106407736885514]}]}, {\"name\": \"weighted_accuracy\", \"run_id\": \"AutoML_2a8d0b39-7d5a-4b61-93b2-fc1cfcd64004\", \"categories\": [0], \"series\": [{\"data\": [0.8119696818556582]}]}, {\"name\": \"average_precision_score_weighted\", \"run_id\": \"AutoML_2a8d0b39-7d5a-4b61-93b2-fc1cfcd64004\", \"categories\": [0], \"series\": [{\"data\": [0.8357754651672299]}]}, {\"name\": \"AUC_macro\", \"run_id\": \"AutoML_2a8d0b39-7d5a-4b61-93b2-fc1cfcd64004\", \"categories\": [0], \"series\": [{\"data\": [0.8322394337616901]}]}, {\"name\": \"recall_score_micro\", \"run_id\": \"AutoML_2a8d0b39-7d5a-4b61-93b2-fc1cfcd64004\", \"categories\": [0], \"series\": [{\"data\": [0.7801450661565439]}]}, {\"name\": \"f1_score_micro\", \"run_id\": \"AutoML_2a8d0b39-7d5a-4b61-93b2-fc1cfcd64004\", \"categories\": [0], \"series\": [{\"data\": [0.7801450661565439]}]}, {\"name\": \"average_precision_score_micro\", \"run_id\": \"AutoML_2a8d0b39-7d5a-4b61-93b2-fc1cfcd64004\", \"categories\": [0], \"series\": [{\"data\": [0.8470357814835082]}]}, {\"name\": \"precision_score_macro\", \"run_id\": \"AutoML_2a8d0b39-7d5a-4b61-93b2-fc1cfcd64004\", \"categories\": [0], \"series\": [{\"data\": [0.7694740713989541]}]}, {\"name\": \"log_loss\", \"run_id\": \"AutoML_2a8d0b39-7d5a-4b61-93b2-fc1cfcd64004\", \"categories\": [0], \"series\": [{\"data\": [0.4930765525539185]}]}, {\"name\": \"accuracy\", \"run_id\": \"AutoML_2a8d0b39-7d5a-4b61-93b2-fc1cfcd64004\", \"categories\": [0], \"series\": [{\"data\": [0.7801450661565439]}]}, {\"name\": \"matthews_correlation\", \"run_id\": \"AutoML_2a8d0b39-7d5a-4b61-93b2-fc1cfcd64004\", \"categories\": [0], \"series\": [{\"data\": [0.5113284196396832]}]}, {\"name\": \"balanced_accuracy\", \"run_id\": \"AutoML_2a8d0b39-7d5a-4b61-93b2-fc1cfcd64004\", \"categories\": [0], \"series\": [{\"data\": [0.7428078004784876]}]}, {\"name\": \"f1_score_macro\", \"run_id\": \"AutoML_2a8d0b39-7d5a-4b61-93b2-fc1cfcd64004\", \"categories\": [0], \"series\": [{\"data\": [0.7504747465519251]}]}, {\"name\": \"recall_score_weighted\", \"run_id\": \"AutoML_2a8d0b39-7d5a-4b61-93b2-fc1cfcd64004\", \"categories\": [0], \"series\": [{\"data\": [0.7801450661565439]}]}], \"run_logs\": \"\\nRun is completed.\", \"graph\": {}, \"widget_settings\": {\"childWidgetDisplay\": \"popup\", \"send_telemetry\": false, \"log_level\": \"INFO\", \"sdk_version\": \"1.19.0\"}, \"loading\": false}"
     },
     "metadata": {},
     "output_type": "display_data"
    },
    {
     "name": "stdout",
     "output_type": "stream",
     "text": [
      "\n",
      "Current status: FeaturesGeneration. Generating features for the dataset.\n",
      "Current status: ModelSelection. Beginning model selection.\n",
      "\n",
      "****************************************************************************************************\n",
      "DATA GUARDRAILS: \n",
      "\n",
      "TYPE:         Class balancing detection\n",
      "STATUS:       PASSED\n",
      "DESCRIPTION:  Your inputs were analyzed, and all classes are balanced in your training data.\n",
      "              Learn more about imbalanced data: https://aka.ms/AutomatedMLImbalancedData\n",
      "\n",
      "****************************************************************************************************\n",
      "\n",
      "TYPE:         High cardinality feature detection\n",
      "STATUS:       PASSED\n",
      "DESCRIPTION:  Your inputs were analyzed, and no high cardinality features were detected.\n",
      "              Learn more about high cardinality feature handling: https://aka.ms/AutomatedMLFeaturization\n",
      "\n",
      "****************************************************************************************************\n",
      "\n",
      "****************************************************************************************************\n",
      "ITERATION: The iteration being evaluated.\n",
      "PIPELINE: A summary description of the pipeline being evaluated.\n",
      "DURATION: Time taken for the current iteration.\n",
      "METRIC: The result of computing score on the fitted pipeline.\n",
      "BEST: The best observed score thus far.\n",
      "****************************************************************************************************\n",
      "\n",
      " ITERATION   PIPELINE                                       DURATION      METRIC      BEST\n",
      "         0   MaxAbsScaler LightGBM                          0:00:57       0.7460    0.7460\n",
      "         1   MaxAbsScaler XGBoostClassifier                 0:00:57       0.7443    0.7460\n",
      "         3   MinMaxScaler RandomForest                      0:01:03       0.7459    0.7460\n",
      "         6   SparseNormalizer XGBoostClassifier             0:00:57       0.6564    0.7460\n",
      "         7   RobustScaler RandomForest                      0:00:57       0.7411    0.7460\n",
      "         2   MinMaxScaler RandomForest                      0:03:29       0.7557    0.7557\n",
      "         5   StandardScalerWrapper XGBoostClassifier        0:03:27       0.7198    0.7557\n",
      "         4   MinMaxScaler RandomForest                      0:03:44       0.7395    0.7557\n",
      "         8   StandardScalerWrapper LogisticRegression       0:00:49       0.7687    0.7687\n",
      "         9   SparseNormalizer LightGBM                      0:00:49       0.6401    0.7687\n",
      "        10   MaxAbsScaler LightGBM                          0:01:01       0.7557    0.7687\n",
      "        11   SparseNormalizer LightGBM                      0:00:56       0.6742    0.7687\n",
      "        12   StandardScalerWrapper LightGBM                 0:01:05       0.7459    0.7687\n",
      "        13   MaxAbsScaler RandomForest                      0:01:01       0.7476    0.7687\n",
      "        14   SparseNormalizer XGBoostClassifier             0:00:56       0.6759    0.7687\n",
      "        15   StandardScalerWrapper LightGBM                 0:00:58       0.7443    0.7687\n",
      "        16   MaxAbsScaler ExtremeRandomTrees                0:00:55       0.7215    0.7687\n",
      "        17   MinMaxScaler GradientBoosting                  0:00:58       0.7443    0.7687\n",
      "        18   MinMaxScaler RandomForest                      0:00:57       0.7264    0.7687\n",
      "        19   RobustScaler LightGBM                          0:00:50       0.7492    0.7687\n",
      "        20   RobustScaler KNN                               0:00:58       0.7215    0.7687\n",
      "        21   MaxAbsScaler ExtremeRandomTrees                0:00:53       0.7508    0.7687\n",
      "        22   MaxAbsScaler ExtremeRandomTrees                0:00:52       0.7524    0.7687\n",
      "        23   StandardScalerWrapper LogisticRegression       0:00:55       0.7671    0.7687\n",
      "        24   MaxAbsScaler LightGBM                          0:00:55       0.7525    0.7687\n",
      "        25   PCA LogisticRegression                         0:00:58       0.6417    0.7687\n",
      "        26   MaxAbsScaler ExtremeRandomTrees                0:00:55       0.7329    0.7687\n",
      "        27   StandardScalerWrapper RandomForest             0:01:01       0.7231    0.7687\n",
      "        28   MaxAbsScaler LightGBM                          0:00:45       0.7345    0.7687\n",
      "        29   MinMaxScaler ExtremeRandomTrees                0:00:57       0.7540    0.7687\n",
      "        31   StandardScalerWrapper LightGBM                 0:00:49       0.7443    0.7687\n",
      "        30   TruncatedSVDWrapper LogisticRegression         0:01:01       0.7231    0.7687\n",
      "        32   StandardScalerWrapper XGBoostClassifier        0:01:01       0.7476    0.7687\n",
      "        33   MaxAbsScaler LightGBM                          0:00:38          nan    0.7687\n",
      "        34   StandardScalerWrapper RandomForest             0:00:32          nan    0.7687\n",
      "        35   RobustScaler LogisticRegression                0:00:24          nan    0.7687\n",
      "        36    VotingEnsemble                                0:01:29       0.7801    0.7801\n"
     ]
    },
    {
     "data": {
      "text/plain": [
       "{'runId': 'AutoML_2a8d0b39-7d5a-4b61-93b2-fc1cfcd64004',\n",
       " 'target': 'puru-compute-new',\n",
       " 'status': 'Completed',\n",
       " 'startTimeUtc': '2020-12-30T21:38:39.351135Z',\n",
       " 'endTimeUtc': '2020-12-30T22:02:11.77985Z',\n",
       " 'properties': {'num_iterations': '1000',\n",
       "  'training_type': 'TrainFull',\n",
       "  'acquisition_function': 'EI',\n",
       "  'primary_metric': 'accuracy',\n",
       "  'train_split': '0',\n",
       "  'acquisition_parameter': '0',\n",
       "  'num_cross_validation': '3',\n",
       "  'target': 'puru-compute-new',\n",
       "  'AMLSettingsJsonString': '{\"path\":null,\"name\":\"puru-auto-experiment\",\"subscription_id\":\"61c5c3f0-6dc7-4ed9-a7f3-c704b20e3b30\",\"resource_group\":\"aml-quickstarts-132551\",\"workspace_name\":\"quick-starts-ws-132551\",\"region\":\"southcentralus\",\"compute_target\":\"puru-compute-new\",\"spark_service\":null,\"azure_service\":\"remote\",\"many_models\":false,\"pipeline_fetch_max_batch_size\":1,\"iterations\":1000,\"primary_metric\":\"accuracy\",\"task_type\":\"classification\",\"data_script\":null,\"validation_size\":0.0,\"n_cross_validations\":3,\"y_min\":null,\"y_max\":null,\"num_classes\":null,\"featurization\":\"auto\",\"_ignore_package_version_incompatibilities\":false,\"is_timeseries\":false,\"max_cores_per_iteration\":-1,\"max_concurrent_iterations\":4,\"iteration_timeout_minutes\":5,\"mem_in_mb\":null,\"enforce_time_on_windows\":false,\"experiment_timeout_minutes\":15,\"experiment_exit_score\":null,\"whitelist_models\":null,\"blacklist_algos\":[\"TensorFlowLinearClassifier\",\"TensorFlowDNN\"],\"supported_models\":[\"LightGBM\",\"SVM\",\"XGBoostClassifier\",\"DecisionTree\",\"TensorFlowDNN\",\"MultinomialNaiveBayes\",\"SGD\",\"TensorFlowLinearClassifier\",\"BernoulliNaiveBayes\",\"RandomForest\",\"LinearSVM\",\"KNN\",\"AveragedPerceptronClassifier\",\"ExtremeRandomTrees\",\"LogisticRegression\",\"GradientBoosting\"],\"auto_blacklist\":true,\"blacklist_samples_reached\":false,\"exclude_nan_labels\":true,\"verbosity\":20,\"_debug_log\":\"azureml_automl.log\",\"show_warnings\":false,\"model_explainability\":true,\"service_url\":null,\"sdk_url\":null,\"sdk_packages\":null,\"enable_onnx_compatible_models\":true,\"enable_split_onnx_featurizer_estimator_models\":false,\"vm_type\":\"STANDARD_D2_V2\",\"telemetry_verbosity\":20,\"send_telemetry\":true,\"enable_dnn\":false,\"scenario\":\"SDK-1.13.0\",\"environment_label\":null,\"force_text_dnn\":false,\"enable_feature_sweeping\":false,\"enable_early_stopping\":true,\"early_stopping_n_iters\":10,\"metrics\":null,\"enable_ensembling\":true,\"enable_stack_ensembling\":false,\"ensemble_iterations\":15,\"enable_tf\":false,\"enable_subsampling\":null,\"subsample_seed\":null,\"enable_nimbusml\":false,\"enable_streaming\":false,\"force_streaming\":false,\"track_child_runs\":true,\"allowed_private_models\":[],\"label_column_name\":\"Outcome\",\"weight_column_name\":null,\"cv_split_column_names\":null,\"enable_local_managed\":false,\"_local_managed_run_id\":null,\"cost_mode\":1,\"lag_length\":0,\"metric_operation\":\"maximize\",\"preprocess\":true}',\n",
       "  'DataPrepJsonString': '{\\\\\"training_data\\\\\": \\\\\"{\\\\\\\\\\\\\"blocks\\\\\\\\\\\\\": [{\\\\\\\\\\\\\"id\\\\\\\\\\\\\": \\\\\\\\\\\\\"6baf610a-933e-4e1f-b68b-e80d13048a9f\\\\\\\\\\\\\", \\\\\\\\\\\\\"type\\\\\\\\\\\\\": \\\\\\\\\\\\\"Microsoft.DPrep.GetDatastoreFilesBlock\\\\\\\\\\\\\", \\\\\\\\\\\\\"arguments\\\\\\\\\\\\\": {\\\\\\\\\\\\\"datastores\\\\\\\\\\\\\": [{\\\\\\\\\\\\\"datastoreName\\\\\\\\\\\\\": \\\\\\\\\\\\\"workspaceblobstore\\\\\\\\\\\\\", \\\\\\\\\\\\\"path\\\\\\\\\\\\\": \\\\\\\\\\\\\"automlclassifier/train_data.csv\\\\\\\\\\\\\", \\\\\\\\\\\\\"resourceGroup\\\\\\\\\\\\\": \\\\\\\\\\\\\"aml-quickstarts-132551\\\\\\\\\\\\\", \\\\\\\\\\\\\"subscription\\\\\\\\\\\\\": \\\\\\\\\\\\\"61c5c3f0-6dc7-4ed9-a7f3-c704b20e3b30\\\\\\\\\\\\\", \\\\\\\\\\\\\"workspaceName\\\\\\\\\\\\\": \\\\\\\\\\\\\"quick-starts-ws-132551\\\\\\\\\\\\\"}]}, \\\\\\\\\\\\\"localData\\\\\\\\\\\\\": {}, \\\\\\\\\\\\\"isEnabled\\\\\\\\\\\\\": true, \\\\\\\\\\\\\"name\\\\\\\\\\\\\": null, \\\\\\\\\\\\\"annotation\\\\\\\\\\\\\": null}, {\\\\\\\\\\\\\"id\\\\\\\\\\\\\": \\\\\\\\\\\\\"bc539478-ee5b-46da-bf10-fdd111ad6bba\\\\\\\\\\\\\", \\\\\\\\\\\\\"type\\\\\\\\\\\\\": \\\\\\\\\\\\\"Microsoft.DPrep.ParseDelimitedBlock\\\\\\\\\\\\\", \\\\\\\\\\\\\"arguments\\\\\\\\\\\\\": {\\\\\\\\\\\\\"columnHeadersMode\\\\\\\\\\\\\": 3, \\\\\\\\\\\\\"fileEncoding\\\\\\\\\\\\\": 0, \\\\\\\\\\\\\"handleQuotedLineBreaks\\\\\\\\\\\\\": false, \\\\\\\\\\\\\"preview\\\\\\\\\\\\\": false, \\\\\\\\\\\\\"separator\\\\\\\\\\\\\": \\\\\\\\\\\\\",\\\\\\\\\\\\\", \\\\\\\\\\\\\"skipRows\\\\\\\\\\\\\": 0, \\\\\\\\\\\\\"skipRowsMode\\\\\\\\\\\\\": 0}, \\\\\\\\\\\\\"localData\\\\\\\\\\\\\": {}, \\\\\\\\\\\\\"isEnabled\\\\\\\\\\\\\": true, \\\\\\\\\\\\\"name\\\\\\\\\\\\\": null, \\\\\\\\\\\\\"annotation\\\\\\\\\\\\\": null}, {\\\\\\\\\\\\\"id\\\\\\\\\\\\\": \\\\\\\\\\\\\"abb35b3e-f51f-4ef7-91b8-7996d8b9786b\\\\\\\\\\\\\", \\\\\\\\\\\\\"type\\\\\\\\\\\\\": \\\\\\\\\\\\\"Microsoft.DPrep.DropColumnsBlock\\\\\\\\\\\\\", \\\\\\\\\\\\\"arguments\\\\\\\\\\\\\": {\\\\\\\\\\\\\"columns\\\\\\\\\\\\\": {\\\\\\\\\\\\\"type\\\\\\\\\\\\\": 0, \\\\\\\\\\\\\"details\\\\\\\\\\\\\": {\\\\\\\\\\\\\"selectedColumns\\\\\\\\\\\\\": [\\\\\\\\\\\\\"Path\\\\\\\\\\\\\"]}}}, \\\\\\\\\\\\\"localData\\\\\\\\\\\\\": {}, \\\\\\\\\\\\\"isEnabled\\\\\\\\\\\\\": true, \\\\\\\\\\\\\"name\\\\\\\\\\\\\": null, \\\\\\\\\\\\\"annotation\\\\\\\\\\\\\": null}, {\\\\\\\\\\\\\"id\\\\\\\\\\\\\": \\\\\\\\\\\\\"e9f86866-6289-499c-84be-11daa841df81\\\\\\\\\\\\\", \\\\\\\\\\\\\"type\\\\\\\\\\\\\": \\\\\\\\\\\\\"Microsoft.DPrep.SetColumnTypesBlock\\\\\\\\\\\\\", \\\\\\\\\\\\\"arguments\\\\\\\\\\\\\": {\\\\\\\\\\\\\"columnConversion\\\\\\\\\\\\\": [{\\\\\\\\\\\\\"column\\\\\\\\\\\\\": {\\\\\\\\\\\\\"type\\\\\\\\\\\\\": 2, \\\\\\\\\\\\\"details\\\\\\\\\\\\\": {\\\\\\\\\\\\\"selectedColumn\\\\\\\\\\\\\": \\\\\\\\\\\\\"Pregnancies\\\\\\\\\\\\\"}}, \\\\\\\\\\\\\"typeProperty\\\\\\\\\\\\\": 2}, {\\\\\\\\\\\\\"column\\\\\\\\\\\\\": {\\\\\\\\\\\\\"type\\\\\\\\\\\\\": 2, \\\\\\\\\\\\\"details\\\\\\\\\\\\\": {\\\\\\\\\\\\\"selectedColumn\\\\\\\\\\\\\": \\\\\\\\\\\\\"Glucose\\\\\\\\\\\\\"}}, \\\\\\\\\\\\\"typeProperty\\\\\\\\\\\\\": 2}, {\\\\\\\\\\\\\"column\\\\\\\\\\\\\": {\\\\\\\\\\\\\"type\\\\\\\\\\\\\": 2, \\\\\\\\\\\\\"details\\\\\\\\\\\\\": {\\\\\\\\\\\\\"selectedColumn\\\\\\\\\\\\\": \\\\\\\\\\\\\"BloodPressure\\\\\\\\\\\\\"}}, \\\\\\\\\\\\\"typeProperty\\\\\\\\\\\\\": 2}, {\\\\\\\\\\\\\"column\\\\\\\\\\\\\": {\\\\\\\\\\\\\"type\\\\\\\\\\\\\": 2, \\\\\\\\\\\\\"details\\\\\\\\\\\\\": {\\\\\\\\\\\\\"selectedColumn\\\\\\\\\\\\\": \\\\\\\\\\\\\"SkinThickness\\\\\\\\\\\\\"}}, \\\\\\\\\\\\\"typeProperty\\\\\\\\\\\\\": 2}, {\\\\\\\\\\\\\"column\\\\\\\\\\\\\": {\\\\\\\\\\\\\"type\\\\\\\\\\\\\": 2, \\\\\\\\\\\\\"details\\\\\\\\\\\\\": {\\\\\\\\\\\\\"selectedColumn\\\\\\\\\\\\\": \\\\\\\\\\\\\"Insulin\\\\\\\\\\\\\"}}, \\\\\\\\\\\\\"typeProperty\\\\\\\\\\\\\": 2}, {\\\\\\\\\\\\\"column\\\\\\\\\\\\\": {\\\\\\\\\\\\\"type\\\\\\\\\\\\\": 2, \\\\\\\\\\\\\"details\\\\\\\\\\\\\": {\\\\\\\\\\\\\"selectedColumn\\\\\\\\\\\\\": \\\\\\\\\\\\\"BMI\\\\\\\\\\\\\"}}, \\\\\\\\\\\\\"typeProperty\\\\\\\\\\\\\": 3}, {\\\\\\\\\\\\\"column\\\\\\\\\\\\\": {\\\\\\\\\\\\\"type\\\\\\\\\\\\\": 2, \\\\\\\\\\\\\"details\\\\\\\\\\\\\": {\\\\\\\\\\\\\"selectedColumn\\\\\\\\\\\\\": \\\\\\\\\\\\\"DiabetesPedigreeFunction\\\\\\\\\\\\\"}}, \\\\\\\\\\\\\"typeProperty\\\\\\\\\\\\\": 3}, {\\\\\\\\\\\\\"column\\\\\\\\\\\\\": {\\\\\\\\\\\\\"type\\\\\\\\\\\\\": 2, \\\\\\\\\\\\\"details\\\\\\\\\\\\\": {\\\\\\\\\\\\\"selectedColumn\\\\\\\\\\\\\": \\\\\\\\\\\\\"Age\\\\\\\\\\\\\"}}, \\\\\\\\\\\\\"typeProperty\\\\\\\\\\\\\": 2}, {\\\\\\\\\\\\\"column\\\\\\\\\\\\\": {\\\\\\\\\\\\\"type\\\\\\\\\\\\\": 2, \\\\\\\\\\\\\"details\\\\\\\\\\\\\": {\\\\\\\\\\\\\"selectedColumn\\\\\\\\\\\\\": \\\\\\\\\\\\\"Outcome\\\\\\\\\\\\\"}}, \\\\\\\\\\\\\"typeProperty\\\\\\\\\\\\\": 2}]}, \\\\\\\\\\\\\"localData\\\\\\\\\\\\\": {}, \\\\\\\\\\\\\"isEnabled\\\\\\\\\\\\\": true, \\\\\\\\\\\\\"name\\\\\\\\\\\\\": null, \\\\\\\\\\\\\"annotation\\\\\\\\\\\\\": null}], \\\\\\\\\\\\\"inspectors\\\\\\\\\\\\\": [], \\\\\\\\\\\\\"meta\\\\\\\\\\\\\": {\\\\\\\\\\\\\"savedDatasetId\\\\\\\\\\\\\": \\\\\\\\\\\\\"7c7c7913-6b84-4d32-8e9d-ce0a19d38cfe\\\\\\\\\\\\\", \\\\\\\\\\\\\"datasetType\\\\\\\\\\\\\": \\\\\\\\\\\\\"tabular\\\\\\\\\\\\\", \\\\\\\\\\\\\"subscriptionId\\\\\\\\\\\\\": \\\\\\\\\\\\\"61c5c3f0-6dc7-4ed9-a7f3-c704b20e3b30\\\\\\\\\\\\\", \\\\\\\\\\\\\"workspaceId\\\\\\\\\\\\\": \\\\\\\\\\\\\"694a26d0-1cff-4d00-bb6c-7f3e9cc4dd1c\\\\\\\\\\\\\", \\\\\\\\\\\\\"workspaceLocation\\\\\\\\\\\\\": \\\\\\\\\\\\\"southcentralus\\\\\\\\\\\\\"}}\\\\\", \\\\\"activities\\\\\": 0}',\n",
       "  'EnableSubsampling': None,\n",
       "  'runTemplate': 'AutoML',\n",
       "  'azureml.runsource': 'automl',\n",
       "  'display_task_type': 'classification',\n",
       "  'dependencies_versions': '{\"azureml-widgets\": \"1.19.0\", \"azureml-train\": \"1.19.0\", \"azureml-train-restclients-hyperdrive\": \"1.19.0\", \"azureml-train-core\": \"1.19.0\", \"azureml-train-automl\": \"1.19.0\", \"azureml-train-automl-runtime\": \"1.19.0\", \"azureml-train-automl-client\": \"1.19.0\", \"azureml-tensorboard\": \"1.19.0\", \"azureml-telemetry\": \"1.19.0\", \"azureml-sdk\": \"1.19.0\", \"azureml-samples\": \"0+unknown\", \"azureml-pipeline\": \"1.19.0\", \"azureml-pipeline-steps\": \"1.19.0\", \"azureml-pipeline-core\": \"1.19.0\", \"azureml-opendatasets\": \"1.19.0\", \"azureml-model-management-sdk\": \"1.0.1b6.post1\", \"azureml-mlflow\": \"1.19.0\", \"azureml-interpret\": \"1.19.0\", \"azureml-explain-model\": \"1.19.0\", \"azureml-defaults\": \"1.19.0\", \"azureml-dataset-runtime\": \"1.19.0\", \"azureml-dataprep\": \"2.6.1\", \"azureml-dataprep-rslex\": \"1.4.0\", \"azureml-dataprep-native\": \"26.0.0\", \"azureml-datadrift\": \"1.19.0\", \"azureml-core\": \"1.19.0\", \"azureml-contrib-services\": \"1.19.0\", \"azureml-contrib-server\": \"1.19.0\", \"azureml-contrib-reinforcementlearning\": \"1.19.0\", \"azureml-contrib-pipeline-steps\": \"1.19.0\", \"azureml-contrib-notebook\": \"1.19.0\", \"azureml-contrib-interpret\": \"1.19.0\", \"azureml-contrib-gbdt\": \"1.19.0\", \"azureml-contrib-fairness\": \"1.19.0\", \"azureml-contrib-dataset\": \"1.19.0\", \"azureml-cli-common\": \"1.19.0\", \"azureml-automl-runtime\": \"1.19.0\", \"azureml-automl-core\": \"1.19.0\", \"azureml-accel-models\": \"1.19.0\"}',\n",
       "  '_aml_system_scenario_identification': 'Remote.Parent',\n",
       "  'ClientType': 'SDK',\n",
       "  'environment_cpu_name': 'AzureML-AutoML',\n",
       "  'environment_cpu_label': 'prod',\n",
       "  'environment_gpu_name': 'AzureML-AutoML-GPU',\n",
       "  'environment_gpu_label': 'prod',\n",
       "  'root_attribution': 'automl',\n",
       "  'attribution': 'AutoML',\n",
       "  'Orchestrator': 'AutoML',\n",
       "  'CancelUri': 'https://southcentralus.experiments.azureml.net/jasmine/v1.0/subscriptions/61c5c3f0-6dc7-4ed9-a7f3-c704b20e3b30/resourceGroups/aml-quickstarts-132551/providers/Microsoft.MachineLearningServices/workspaces/quick-starts-ws-132551/experimentids/1bf7d9b9-873e-4e6e-a889-d7ae034f3813/cancel/AutoML_2a8d0b39-7d5a-4b61-93b2-fc1cfcd64004',\n",
       "  'ClientSdkVersion': '1.19.0',\n",
       "  'snapshotId': '00000000-0000-0000-0000-000000000000',\n",
       "  'SetupRunId': 'AutoML_2a8d0b39-7d5a-4b61-93b2-fc1cfcd64004_setup',\n",
       "  'SetupRunContainerId': 'dcid.AutoML_2a8d0b39-7d5a-4b61-93b2-fc1cfcd64004_setup',\n",
       "  'FeaturizationRunJsonPath': 'featurizer_container.json',\n",
       "  'FeaturizationRunId': 'AutoML_2a8d0b39-7d5a-4b61-93b2-fc1cfcd64004_featurize',\n",
       "  'ProblemInfoJsonString': '{\"dataset_num_categorical\": 0, \"is_sparse\": false, \"subsampling\": false, \"dataset_classes\": 2, \"dataset_features\": 8, \"dataset_samples\": 614, \"single_frequency_class_detected\": false}',\n",
       "  'ModelExplainRunId': 'AutoML_2a8d0b39-7d5a-4b61-93b2-fc1cfcd64004_ModelExplain'},\n",
       " 'inputDatasets': [{'dataset': {'id': '7c7c7913-6b84-4d32-8e9d-ce0a19d38cfe'}, 'consumptionDetails': {'type': 'RunInput', 'inputName': 'training_data', 'mechanism': 'Direct'}}],\n",
       " 'outputDatasets': [],\n",
       " 'logFiles': {}}"
      ]
     },
     "execution_count": 12,
     "metadata": {},
     "output_type": "execute_result"
    }
   ],
   "source": [
    "from azureml.widgets import RunDetails\n",
    "RunDetails(remote_run).show()\n",
    "\n",
    "# wait for completion\n",
    "remote_run.wait_for_completion(show_output=True)"
   ]
  },
  {
   "cell_type": "markdown",
   "metadata": {},
   "source": [
    "## Best Model\n",
    "\n",
    "TODO: In the cell below, get the best model from the automl experiments and display all the properties of the model.\n",
    "\n"
   ]
  },
  {
   "cell_type": "code",
   "execution_count": 13,
   "metadata": {
    "gather": {
     "logged": 1609087589251
    },
    "jupyter": {
     "outputs_hidden": false,
     "source_hidden": false
    },
    "nteract": {
     "transient": {
      "deleting": false
     }
    }
   },
   "outputs": [
    {
     "name": "stdout",
     "output_type": "stream",
     "text": [
      "Run(Experiment: puru-auto-experiment,\n",
      "Id: AutoML_2a8d0b39-7d5a-4b61-93b2-fc1cfcd64004_36,\n",
      "Type: azureml.scriptrun,\n",
      "Status: Completed)\n",
      "Best Model: AutoML2a8d0b39736\n"
     ]
    },
    {
     "data": {
      "text/plain": [
       "{'runTemplate': 'automl_child',\n",
       " 'pipeline_id': '__AutoML_Ensemble__',\n",
       " 'pipeline_spec': '{\"pipeline_id\":\"__AutoML_Ensemble__\",\"objects\":[{\"module\":\"azureml.train.automl.ensemble\",\"class_name\":\"Ensemble\",\"spec_class\":\"sklearn\",\"param_args\":[],\"param_kwargs\":{\"automl_settings\":\"{\\'task_type\\':\\'classification\\',\\'primary_metric\\':\\'accuracy\\',\\'verbosity\\':20,\\'ensemble_iterations\\':15,\\'is_timeseries\\':False,\\'name\\':\\'puru-auto-experiment\\',\\'compute_target\\':\\'puru-compute-new\\',\\'subscription_id\\':\\'61c5c3f0-6dc7-4ed9-a7f3-c704b20e3b30\\',\\'region\\':\\'southcentralus\\',\\'spark_service\\':None}\",\"ensemble_run_id\":\"AutoML_2a8d0b39-7d5a-4b61-93b2-fc1cfcd64004_36\",\"experiment_name\":\"puru-auto-experiment\",\"workspace_name\":\"quick-starts-ws-132551\",\"subscription_id\":\"61c5c3f0-6dc7-4ed9-a7f3-c704b20e3b30\",\"resource_group_name\":\"aml-quickstarts-132551\"}}]}',\n",
       " 'training_percent': '100',\n",
       " 'predicted_cost': None,\n",
       " 'iteration': '36',\n",
       " '_aml_system_scenario_identification': 'Remote.Child',\n",
       " '_azureml.ComputeTargetType': 'amlcompute',\n",
       " 'ContentSnapshotId': '9413d4e5-dd01-4e99-9473-84b0954b81c7',\n",
       " 'ProcessInfoFile': 'azureml-logs/process_info.json',\n",
       " 'ProcessStatusFile': 'azureml-logs/process_status.json',\n",
       " 'run_template': 'automl_child',\n",
       " 'run_preprocessor': '',\n",
       " 'run_algorithm': 'VotingEnsemble',\n",
       " 'conda_env_data_location': 'aml://artifact/ExperimentRun/dcid.AutoML_2a8d0b39-7d5a-4b61-93b2-fc1cfcd64004_36/outputs/conda_env_v_1_0_0.yml',\n",
       " 'model_data_location': 'aml://artifact/ExperimentRun/dcid.AutoML_2a8d0b39-7d5a-4b61-93b2-fc1cfcd64004_36/outputs/model.pkl',\n",
       " 'model_size_on_disk': '5020768',\n",
       " 'scoring_data_location': 'aml://artifact/ExperimentRun/dcid.AutoML_2a8d0b39-7d5a-4b61-93b2-fc1cfcd64004_36/outputs/scoring_file_v_1_0_0.py',\n",
       " 'model_exp_support': 'True',\n",
       " 'pipeline_graph_version': '1.0.0',\n",
       " 'model_name': 'AutoML2a8d0b39736',\n",
       " 'staticProperties': '{}',\n",
       " 'score': '0.7801450661565439',\n",
       " 'run_properties': \"classification_labels=None,\\n                              estimators=[('8',\\n                                           Pipeline(memory=None,\\n                                                    steps=[('standardscalerwrapper',\\n                                                            <azureml.automl.runtime.shared.model_wrappers.StandardScalerWrapper object at 0x7f22f1465898>\",\n",
       " 'pipeline_script': '{\"pipeline_id\":\"__AutoML_Ensemble__\",\"objects\":[{\"module\":\"azureml.train.automl.ensemble\",\"class_name\":\"Ensemble\",\"spec_class\":\"sklearn\",\"param_args\":[],\"param_kwargs\":{\"automl_settings\":\"{\\'task_type\\':\\'classification\\',\\'primary_metric\\':\\'accuracy\\',\\'verbosity\\':20,\\'ensemble_iterations\\':15,\\'is_timeseries\\':False,\\'name\\':\\'puru-auto-experiment\\',\\'compute_target\\':\\'puru-compute-new\\',\\'subscription_id\\':\\'61c5c3f0-6dc7-4ed9-a7f3-c704b20e3b30\\',\\'region\\':\\'southcentralus\\',\\'spark_service\\':None}\",\"ensemble_run_id\":\"AutoML_2a8d0b39-7d5a-4b61-93b2-fc1cfcd64004_36\",\"experiment_name\":\"puru-auto-experiment\",\"workspace_name\":\"quick-starts-ws-132551\",\"subscription_id\":\"61c5c3f0-6dc7-4ed9-a7f3-c704b20e3b30\",\"resource_group_name\":\"aml-quickstarts-132551\"}}]}',\n",
       " 'training_type': 'MeanCrossValidation',\n",
       " 'num_classes': '',\n",
       " 'framework': 'sklearn',\n",
       " 'fit_time': '31',\n",
       " 'goal': 'accuracy_max',\n",
       " 'class_labels': '',\n",
       " 'primary_metric': 'accuracy',\n",
       " 'errors': '{}',\n",
       " 'fitted_pipeline': \"Pipeline(memory=None,\\n         steps=[('datatransformer',\\n                 DataTransformer(enable_dnn=None, enable_feature_sweeping=None,\\n                                 feature_sweeping_config=None,\\n                                 feature_sweeping_timeout=None,\\n                                 featurization_config=None, force_text_dnn=None,\\n                                 is_cross_validation=None,\\n                                 is_onnx_compatible=None, logger=None,\\n                                 observer=None, task=None, working_dir=None)),\\n                ('prefittedsoftvotingclassifier',...\\n                                                                                                    random_state=None,\\n                                                                                                    verbose=0,\\n                                                                                                    warm_start=False))],\\n                                                                     verbose=False))],\\n                                               flatten_transform=None,\\n                                               weights=[0.06666666666666667,\\n                                                        0.06666666666666667,\\n                                                        0.13333333333333333,\\n                                                        0.06666666666666667,\\n                                                        0.06666666666666667,\\n                                                        0.06666666666666667,\\n                                                        0.06666666666666667,\\n                                                        0.13333333333333333,\\n                                                        0.13333333333333333,\\n                                                        0.06666666666666667,\\n                                                        0.06666666666666667,\\n                                                        0.06666666666666667]))],\\n         verbose=False)\",\n",
       " 'friendly_errors': '{}',\n",
       " 'onnx_model_resource': \"{'RawColumnNameToOnnxNameMap': {'Pregnancies': 'Pregnancies', 'Glucose': 'Glucose', 'BloodPressure': 'BloodPressure', 'SkinThickness': 'SkinThickness', 'Insulin': 'Insulin', 'BMI': 'BMI', 'DiabetesPedigreeFunction': 'DiabetesPedigreeFunction', 'Age': 'Age'}, 'InputRawColumnSchema': {'Pregnancies': 'floating', 'Glucose': 'floating', 'BloodPressure': 'floating', 'SkinThickness': 'floating', 'Insulin': 'floating', 'BMI': 'floating', 'DiabetesPedigreeFunction': 'floating', 'Age': 'floating'}, 'InputOnnxColumnSchema': {'Pregnancies': 'FloatTensorType', 'Glucose': 'FloatTensorType', 'BloodPressure': 'FloatTensorType', 'SkinThickness': 'FloatTensorType', 'Insulin': 'FloatTensorType', 'BMI': 'FloatTensorType', 'DiabetesPedigreeFunction': 'FloatTensorType', 'Age': 'FloatTensorType'}, 'CanEnableBatchMode': True}\",\n",
       " 'error_code': '',\n",
       " 'failure_reason': '',\n",
       " 'feature_skus': 'automatedml_sdk_guardrails',\n",
       " 'dependencies_versions': '{\"azureml-train-automl-runtime\": \"1.19.0\", \"azureml-train-automl-client\": \"1.19.0\", \"azureml-telemetry\": \"1.19.0\", \"azureml-pipeline-core\": \"1.19.0\", \"azureml-model-management-sdk\": \"1.0.1b6.post1\", \"azureml-interpret\": \"1.19.0\", \"azureml-defaults\": \"1.19.0\", \"azureml-dataset-runtime\": \"1.19.0\", \"azureml-dataprep\": \"2.6.1\", \"azureml-dataprep-rslex\": \"1.4.0\", \"azureml-dataprep-native\": \"26.0.0\", \"azureml-core\": \"1.19.0\", \"azureml-automl-runtime\": \"1.19.0\", \"azureml-automl-core\": \"1.19.0\"}',\n",
       " 'num_cores': '2',\n",
       " 'num_logical_cores': '2',\n",
       " 'peak_memory_usage': '656164',\n",
       " 'vm_configuration': 'Intel(R) Xeon(R) Platinum 8171M CPU @ 2.60GHz',\n",
       " 'core_hours': '0.007233244166666666'}"
      ]
     },
     "execution_count": 13,
     "metadata": {},
     "output_type": "execute_result"
    }
   ],
   "source": [
    "# Retrieve the best automl run model\n",
    "best_automl_run, fitted_automl_model = remote_run.get_output()\n",
    "print(best_automl_run)\n",
    "\n",
    "# get best model and display properties\n",
    "model_name = best_automl_run.properties['model_name']\n",
    "print(\"Best Model:\", model_name)\n",
    "\n",
    "# display all the properties of the best model\n",
    "#best_automl_run #.properties\n",
    "best_automl_run.get_properties()"
   ]
  },
  {
   "cell_type": "code",
   "execution_count": 14,
   "metadata": {},
   "outputs": [
    {
     "data": {
      "text/plain": [
       "['automlmodel.pkl']"
      ]
     },
     "execution_count": 14,
     "metadata": {},
     "output_type": "execute_result"
    }
   ],
   "source": [
    "import joblib\n",
    "joblib.dump(fitted_automl_model, 'automlmodel.pkl')"
   ]
  },
  {
   "cell_type": "code",
   "execution_count": 32,
   "metadata": {},
   "outputs": [
    {
     "name": "stdout",
     "output_type": "stream",
     "text": [
      "Registering model automlmodel\n",
      "automlmodel\tautomlmodel:2\t2\n"
     ]
    }
   ],
   "source": [
    "# register best autoML model for future deployment\n",
    "from azureml.core.model import Model\n",
    "model= Model.register(workspace = ws, model_name='automlmodel', model_path='automlmodel.pkl')\n",
    "print(model.name, model.id, model.version, sep='\\t')"
   ]
  },
  {
   "cell_type": "code",
   "execution_count": 33,
   "metadata": {},
   "outputs": [],
   "source": [
    "#TODO: Save the best model\n",
    "os.makedirs('outputs', exist_ok=True)\n",
    "best_automl_run.download_file('outputs/model.pkl', 'outputs/automlmodel.pkl')\n",
    "best_automl_run.download_file('outputs/scoring_file_v_1_0_0.py', 'outputs/score_aml.py')\n",
    "best_automl_run.download_file('automl_driver.py', 'outputs/automl_driver.py')"
   ]
  },
  {
   "cell_type": "code",
   "execution_count": 34,
   "metadata": {},
   "outputs": [],
   "source": [
    "import pickle\n",
    "file = open(\"outputs/automlmodel.pkl\",'rb')\n",
    "aml_model = pickle.load(file)\n",
    "file.close()"
   ]
  },
  {
   "cell_type": "code",
   "execution_count": 37,
   "metadata": {},
   "outputs": [
    {
     "name": "stdout",
     "output_type": "stream",
     "text": [
      "0.8619791666666666\n"
     ]
    }
   ],
   "source": [
    "from train import clean_data\n",
    "from sklearn.metrics import accuracy_score\n",
    "import pandas as pd\n",
    "\n",
    "\n",
    "factory = TabularDatasetFactory()\n",
    "test_data_path = \"https://raw.githubusercontent.com/purunep/Capstoneproject/main/project/data/diabetes.csv\"\n",
    "test_ds = pd.read_csv(test_data_path)\n",
    "y_test = test_ds[['Outcome']]\n",
    "print(accuracy_score(aml_model.predict(test_ds.drop(columns=['Outcome'])), y_test))"
   ]
  },
  {
   "cell_type": "code",
   "execution_count": 38,
   "metadata": {},
   "outputs": [
    {
     "name": "stdout",
     "output_type": "stream",
     "text": [
      "              precision    recall  f1-score   support\n",
      "\n",
      "           0       0.87      0.92      0.90       500\n",
      "           1       0.84      0.75      0.79       268\n",
      "\n",
      "    accuracy                           0.86       768\n",
      "   macro avg       0.86      0.84      0.84       768\n",
      "weighted avg       0.86      0.86      0.86       768\n",
      "\n"
     ]
    }
   ],
   "source": [
    "from sklearn.metrics import classification_report\n",
    "print(classification_report(y_test, aml_model.predict(test_ds.drop(columns=['Outcome']))))"
   ]
  },
  {
   "cell_type": "code",
   "execution_count": 39,
   "metadata": {},
   "outputs": [
    {
     "name": "stdout",
     "output_type": "stream",
     "text": [
      "Registering model automl_puru\n"
     ]
    }
   ],
   "source": [
    "from azureml.core.model import Model\n",
    "\n",
    "model = Model.register(workspace = ws,\n",
    "                        model_path =\"automlmodel.pkl\",\n",
    "                        model_name = \"automl_puru\")"
   ]
  },
  {
   "cell_type": "code",
   "execution_count": 40,
   "metadata": {},
   "outputs": [
    {
     "name": "stdout",
     "output_type": "stream",
     "text": [
      "automl_puru\n"
     ]
    }
   ],
   "source": [
    "\n",
    "print(model.name)"
   ]
  },
  {
   "cell_type": "markdown",
   "metadata": {},
   "source": [
    "## Model Deployment\n",
    "\n",
    "Remember you have to deploy only one of the two models you trained.. Perform the steps in the rest of this notebook only if you wish to deploy this model.\n",
    "\n",
    "TODO: In the cell below, register the model, create an inference config and deploy the model as a web service."
   ]
  },
  {
   "cell_type": "code",
   "execution_count": 16,
   "metadata": {},
   "outputs": [],
   "source": [
    "from azureml.core.environment import Environment\n",
    "from azureml.core.model import InferenceConfig\n",
    "from azureml.core.webservice import AciWebservice\n",
    "from azureml.core.model import Model"
   ]
  },
  {
   "cell_type": "code",
   "execution_count": 57,
   "metadata": {},
   "outputs": [
    {
     "name": "stdout",
     "output_type": "stream",
     "text": [
      "Overwriting score.py\n"
     ]
    }
   ],
   "source": [
    "%%writefile score.py\n",
    "import json\n",
    "import numpy as np\n",
    "import os\n",
    "import pickle\n",
    "import joblib\n",
    "from azureml.core.model import Model\n",
    "\n",
    "def init():\n",
    "    global model\n",
    "    # AZUREML_MODEL_DIR is an environment variable created during deployment.\n",
    "    # It is the path to the model folder (./azureml-models/$MODEL_NAME/$VERSION)\n",
    "    # For multiple models, it points to the folder containing all deployed models (./azureml-models)\n",
    "    #mypath = os.getenv('AZUREML_MODEL_DIR')\n",
    "    #print('puru my path: ' + mypath)\n",
    "    model_path = os.path.join(os.getenv('AZUREML_MODEL_DIR'), 'automlmodel.pkl')\n",
    "    \n",
    "    model = joblib.load(model_path)\n",
    "    #model_path = os.path.join(os.getenv('AZUREML_MODEL_DIR'), 'model.pkl')\n",
    "    #model_path = Model.get_model_path('automlbestmodel')\n",
    "    #print('puru: ' + model_path)\n",
    "    #model = joblib.load(model_path + model_path + '/automlbestmodel.pkl')\n",
    "    \n",
    "\n",
    "def run(raw_data):\n",
    "    data = np.array(json.loads(raw_data)['data'])\n",
    "    # make prediction\n",
    "    y_hat = model.predict(data)\n",
    "    # you can return any data type as long as it is JSON-serializable\n",
    "    return y_hat.tolist()"
   ]
  },
  {
   "cell_type": "code",
   "execution_count": 42,
   "metadata": {},
   "outputs": [],
   "source": [
    "from azureml.core.webservice import AciWebservice\n",
    "\n",
    "aciconfig = AciWebservice.deploy_configuration(cpu_cores=1, \n",
    "                                               memory_gb=1, \n",
    "                                               enable_app_insights=True, auth_enabled=True,\n",
    "                                               tags={\"data\": \"health\",  \"method\" : \"automl\"}, \n",
    "                                               description='Predict diabetec with AutoML')"
   ]
  },
  {
   "cell_type": "code",
   "execution_count": 43,
   "metadata": {},
   "outputs": [
    {
     "data": {
      "text/plain": [
       "{\n",
       "    \"databricks\": {\n",
       "        \"eggLibraries\": [],\n",
       "        \"jarLibraries\": [],\n",
       "        \"mavenLibraries\": [],\n",
       "        \"pypiLibraries\": [],\n",
       "        \"rcranLibraries\": []\n",
       "    },\n",
       "    \"docker\": {\n",
       "        \"arguments\": [],\n",
       "        \"baseDockerfile\": null,\n",
       "        \"baseImage\": \"mcr.microsoft.com/azureml/intelmpi2018.3-ubuntu16.04:20200821.v1\",\n",
       "        \"baseImageRegistry\": {\n",
       "            \"address\": null,\n",
       "            \"password\": null,\n",
       "            \"registryIdentity\": null,\n",
       "            \"username\": null\n",
       "        },\n",
       "        \"enabled\": false,\n",
       "        \"platform\": {\n",
       "            \"architecture\": \"amd64\",\n",
       "            \"os\": \"Linux\"\n",
       "        },\n",
       "        \"sharedVolumes\": true,\n",
       "        \"shmSize\": null\n",
       "    },\n",
       "    \"environmentVariables\": {\n",
       "        \"EXAMPLE_ENV_VAR\": \"EXAMPLE_VALUE\"\n",
       "    },\n",
       "    \"inferencingStackVersion\": null,\n",
       "    \"name\": \"tutorial-env\",\n",
       "    \"python\": {\n",
       "        \"baseCondaEnvironment\": null,\n",
       "        \"condaDependencies\": {\n",
       "            \"channels\": [\n",
       "                \"anaconda\",\n",
       "                \"conda-forge\"\n",
       "            ],\n",
       "            \"dependencies\": [\n",
       "                \"python=3.6.2\",\n",
       "                {\n",
       "                    \"pip\": [\n",
       "                        \"azureml-dataset-runtime[pandas,fuse]~=1.19.0\",\n",
       "                        \"azureml-defaults~=1.19.0\"\n",
       "                    ]\n",
       "                },\n",
       "                \"scikit-learn==0.22.1\"\n",
       "            ],\n",
       "            \"name\": \"azureml_e9628e39691fa30b1f8588e7375b026c\"\n",
       "        },\n",
       "        \"condaDependenciesFile\": null,\n",
       "        \"interpreterPath\": \"python\",\n",
       "        \"userManagedDependencies\": false\n",
       "    },\n",
       "    \"r\": null,\n",
       "    \"spark\": {\n",
       "        \"packages\": [],\n",
       "        \"precachePackages\": true,\n",
       "        \"repositories\": []\n",
       "    },\n",
       "    \"version\": \"1\"\n",
       "}"
      ]
     },
     "execution_count": 43,
     "metadata": {},
     "output_type": "execute_result"
    }
   ],
   "source": [
    "from azureml.core.environment import Environment\n",
    "from azureml.core.conda_dependencies import CondaDependencies\n",
    "\n",
    "# to install required packages\n",
    "env = Environment('tutorial-env')\n",
    "cd = CondaDependencies.create(pip_packages=['azureml-dataset-runtime[pandas,fuse]', 'azureml-defaults'], conda_packages = ['scikit-learn==0.22.1'])\n",
    "\n",
    "env.python.conda_dependencies = cd\n",
    "\n",
    "# Register environment to re-use later\n",
    "env.register(workspace = ws)"
   ]
  },
  {
   "cell_type": "code",
   "execution_count": 55,
   "metadata": {},
   "outputs": [
    {
     "name": "stdout",
     "output_type": "stream",
     "text": [
      "Writing env.yml\n"
     ]
    }
   ],
   "source": [
    "%%writefile env.yml\n",
    "channels:\n",
    "- anaconda\n",
    "- conda-forge\n",
    "dependencies:\n",
    "- pip\n",
    "- python=3.6.2\n",
    "- pip:\n",
    "  - azureml-core==1.19.0\n",
    "  - azureml-defaults==1.19.0\n",
    "  - azureml-telemetry==1.19.0\n",
    "  - azureml-train-restclients-hyperdrive==1.19.0\n",
    "  - azureml-train-core==1.19.0\n",
    "  - azureml-widgets==1.19.0\n",
    "  - azureml-pipeline-core==1.19.0\n",
    "  - azureml-pipeline-steps==1.19.0\n",
    "  - azureml-opendatasets==1.19.0\n",
    "  - azureml-automl-core==1.19.0\n",
    "  - azureml-automl-runtime==1.19.0\n",
    "  - azureml-train-automl-client==1.19.0\n",
    "  - azureml-train-automl-runtime==1.19.0\n",
    "  - azureml-train-automl==1.19.0\n",
    "  - azureml-train==1.19.0\n",
    "  - azureml-sdk==1.19.0\n",
    "  - azureml-interpret==1.19.0\n",
    "  - azureml-tensorboard==1.19.0\n",
    "  - azureml-mlflow==1.19.0\n",
    "  - mlflow\n",
    "  - sklearn-pandas\n",
    "  - scikit-learn\n",
    "- pandas\n",
    "- numpy\n",
    "- tqdm\n",
    "- py-xgboost\n",
    "- joblib\n",
    "- xgboost\n",
    "- scikit-learn\n",
    "- matplotlib\n",
    "name: azureml_b1836710baabf05d37337a101fa8d6d1"
   ]
  },
  {
   "cell_type": "code",
   "execution_count": 59,
   "metadata": {},
   "outputs": [],
   "source": [
    "from azureml.core.environment import Environment\n",
    "from azureml.core.model import InferenceConfig\n",
    "\n",
    "\n",
    "env = Environment.from_conda_specification(name='myenv',file_path = 'env.yml')\n",
    "\n",
    "# for pip_package in [\"scikit-learn\", \"py-xgboost\", \"xgboost\"]:\n",
    "#     env.python.conda_dependencies.add_pip_package(pip_package)\n",
    "\n",
    "# env.python.conda_dependencies(\"xgboost\")\n",
    "\n",
    "inference_config = InferenceConfig(entry_script='./score.py',\n",
    "                                    environment=env)"
   ]
  },
  {
   "cell_type": "code",
   "execution_count": 60,
   "metadata": {},
   "outputs": [
    {
     "name": "stdout",
     "output_type": "stream",
     "text": [
      "packages channels:\n",
      "- anaconda\n",
      "- conda-forge\n",
      "dependencies:\n",
      "- pip\n",
      "- python=3.6.2\n",
      "- pip:\n",
      "  - azureml-core==1.19.0\n",
      "  - azureml-defaults==1.19.0\n",
      "  - azureml-telemetry==1.19.0\n",
      "  - azureml-train-restclients-hyperdrive==1.19.0\n",
      "  - azureml-train-core==1.19.0\n",
      "  - azureml-widgets==1.19.0\n",
      "  - azureml-pipeline-core==1.19.0\n",
      "  - azureml-pipeline-steps==1.19.0\n",
      "  - azureml-opendatasets==1.19.0\n",
      "  - azureml-automl-core==1.19.0\n",
      "  - azureml-automl-runtime==1.19.0\n",
      "  - azureml-train-automl-client==1.19.0\n",
      "  - azureml-train-automl-runtime==1.19.0\n",
      "  - azureml-train-automl==1.19.0\n",
      "  - azureml-train==1.19.0\n",
      "  - azureml-sdk==1.19.0\n",
      "  - azureml-interpret==1.19.0\n",
      "  - azureml-tensorboard==1.19.0\n",
      "  - azureml-mlflow==1.19.0\n",
      "  - mlflow\n",
      "  - sklearn-pandas\n",
      "  - scikit-learn\n",
      "- pandas\n",
      "- numpy\n",
      "- tqdm\n",
      "- py-xgboost\n",
      "- joblib\n",
      "- xgboost\n",
      "- scikit-learn\n",
      "- matplotlib\n",
      "name: azureml_b1836710baabf05d37337a101fa8d6d1\n",
      "\n"
     ]
    }
   ],
   "source": [
    "f = open(\"envnew.yml\", \"w\")\n",
    "f.write(env.python.conda_dependencies.serialize_to_string())\n",
    "f.close()\n",
    "\n",
    "print(\"packages\", env.python.conda_dependencies.serialize_to_string())"
   ]
  },
  {
   "cell_type": "code",
   "execution_count": 61,
   "metadata": {},
   "outputs": [
    {
     "name": "stdout",
     "output_type": "stream",
     "text": [
      "Tips: You can try get_logs(): https://aka.ms/debugimage#dockerlog or local deployment: https://aka.ms/debugimage#debug-locally to debug if deployment takes longer than 10 minutes.\n",
      "Running...................................................................................................................................................................................................\n",
      "Succeeded\n",
      "ACI service creation operation finished, operation \"Succeeded\"\n",
      "Healthy\n"
     ]
    }
   ],
   "source": [
    "from azureml.core.webservice import AciWebservice,Webservice\n",
    "from azureml.core.model import Model\n",
    "\n",
    "deployment_config = AciWebservice.deploy_configuration(cpu_cores = 1, memory_gb = 1,enable_app_insights = True)\n",
    "service = Model.deploy(ws, \"autodeploy1\", [model], inference_config, deployment_config)\n",
    "service.wait_for_deployment(show_output = True)\n",
    "print(service.state)"
   ]
  },
  {
   "cell_type": "code",
   "execution_count": 52,
   "metadata": {},
   "outputs": [
    {
     "name": "stdout",
     "output_type": "stream",
     "text": [
      "Model(workspace=Workspace.create(name='quick-starts-ws-132551', subscription_id='61c5c3f0-6dc7-4ed9-a7f3-c704b20e3b30', resource_group='aml-quickstarts-132551'), name=automl_puru, id=automl_puru:1, version=1, tags={}, properties={})\n",
      "Tips: You can try get_logs(): https://aka.ms/debugimage#dockerlog or local deployment: https://aka.ms/debugimage#debug-locally to debug if deployment takes longer than 10 minutes.\n",
      "Running..................................................................................................................................................................................................................................................................................................................................................................\n",
      "TimedOut\n"
     ]
    },
    {
     "name": "stderr",
     "output_type": "stream",
     "text": [
      "ERROR:azureml.core.webservice.webservice:Service deployment polling reached non-successful terminal state, current service state: Transitioning\n",
      "Operation ID: 32f20b85-4082-4346-9fdb-3b0bd41ee147\n",
      "More information can be found using '.get_logs()'\n",
      "Error:\n",
      "{\n",
      "  \"code\": \"DeploymentTimedOut\",\n",
      "  \"statusCode\": 504,\n",
      "  \"message\": \"The deployment operation polling has TimedOut. The service creation is taking longer than our normal time. We are still trying to achieve the desired state for the web service. Please check the webservice state for the current webservice health. You can run print(service.state) from the python SDK to retrieve the current state of the webservice. \\nPlease refer to https://aka.ms/debugimage#dockerlog for more information.\"\n",
      "}\n",
      "\n"
     ]
    },
    {
     "ename": "WebserviceException",
     "evalue": "WebserviceException:\n\tMessage: Service deployment polling reached non-successful terminal state, current service state: Transitioning\nOperation ID: 32f20b85-4082-4346-9fdb-3b0bd41ee147\nMore information can be found using '.get_logs()'\nError:\n{\n  \"code\": \"DeploymentTimedOut\",\n  \"statusCode\": 504,\n  \"message\": \"The deployment operation polling has TimedOut. The service creation is taking longer than our normal time. We are still trying to achieve the desired state for the web service. Please check the webservice state for the current webservice health. You can run print(service.state) from the python SDK to retrieve the current state of the webservice. \\nPlease refer to https://aka.ms/debugimage#dockerlog for more information.\"\n}\n\tInnerException None\n\tErrorResponse \n{\n    \"error\": {\n        \"message\": \"Service deployment polling reached non-successful terminal state, current service state: Transitioning\\nOperation ID: 32f20b85-4082-4346-9fdb-3b0bd41ee147\\nMore information can be found using '.get_logs()'\\nError:\\n{\\n  \\\"code\\\": \\\"DeploymentTimedOut\\\",\\n  \\\"statusCode\\\": 504,\\n  \\\"message\\\": \\\"The deployment operation polling has TimedOut. The service creation is taking longer than our normal time. We are still trying to achieve the desired state for the web service. Please check the webservice state for the current webservice health. You can run print(service.state) from the python SDK to retrieve the current state of the webservice. \\\\nPlease refer to https://aka.ms/debugimage#dockerlog for more information.\\\"\\n}\"\n    }\n}",
     "output_type": "error",
     "traceback": [
      "\u001b[0;31m---------------------------------------------------------------------------\u001b[0m",
      "\u001b[0;31mWebserviceException\u001b[0m                       Traceback (most recent call last)",
      "\u001b[0;32m<timed exec>\u001b[0m in \u001b[0;36m<module>\u001b[0;34m\u001b[0m\n",
      "\u001b[0;32m/anaconda/envs/azureml_py36/lib/python3.6/site-packages/azureml/core/webservice/webservice.py\u001b[0m in \u001b[0;36mwait_for_deployment\u001b[0;34m(self, show_output, timeout_sec)\u001b[0m\n\u001b[1;32m    913\u001b[0m                                           \u001b[0;34m'Error:\\n'\u001b[0m\u001b[0;34m\u001b[0m\u001b[0;34m\u001b[0m\u001b[0m\n\u001b[1;32m    914\u001b[0m                                           '{}'.format(self.state, self._operation_endpoint.split('/')[-1],\n\u001b[0;32m--> 915\u001b[0;31m                                                       logs_response, error_response), logger=module_logger)\n\u001b[0m\u001b[1;32m    916\u001b[0m             print('{} service creation operation finished, operation \"{}\"'.format(self._webservice_type,\n\u001b[1;32m    917\u001b[0m                                                                                   operation_state))\n",
      "\u001b[0;31mWebserviceException\u001b[0m: WebserviceException:\n\tMessage: Service deployment polling reached non-successful terminal state, current service state: Transitioning\nOperation ID: 32f20b85-4082-4346-9fdb-3b0bd41ee147\nMore information can be found using '.get_logs()'\nError:\n{\n  \"code\": \"DeploymentTimedOut\",\n  \"statusCode\": 504,\n  \"message\": \"The deployment operation polling has TimedOut. The service creation is taking longer than our normal time. We are still trying to achieve the desired state for the web service. Please check the webservice state for the current webservice health. You can run print(service.state) from the python SDK to retrieve the current state of the webservice. \\nPlease refer to https://aka.ms/debugimage#dockerlog for more information.\"\n}\n\tInnerException None\n\tErrorResponse \n{\n    \"error\": {\n        \"message\": \"Service deployment polling reached non-successful terminal state, current service state: Transitioning\\nOperation ID: 32f20b85-4082-4346-9fdb-3b0bd41ee147\\nMore information can be found using '.get_logs()'\\nError:\\n{\\n  \\\"code\\\": \\\"DeploymentTimedOut\\\",\\n  \\\"statusCode\\\": 504,\\n  \\\"message\\\": \\\"The deployment operation polling has TimedOut. The service creation is taking longer than our normal time. We are still trying to achieve the desired state for the web service. Please check the webservice state for the current webservice health. You can run print(service.state) from the python SDK to retrieve the current state of the webservice. \\\\nPlease refer to https://aka.ms/debugimage#dockerlog for more information.\\\"\\n}\"\n    }\n}"
     ]
    }
   ],
   "source": [
    "%%time\n",
    "import uuid\n",
    "from azureml.core.webservice import Webservice\n",
    "from azureml.core.model import InferenceConfig\n",
    "from azureml.core.environment import Environment\n",
    "from azureml.core import Workspace\n",
    "from azureml.core.model import Model\n",
    "\n",
    "ws = Workspace.from_config()\n",
    "model = Model(ws, 'automl_puru')\n",
    "print(model)\n",
    "\n",
    "myenv = Environment.get(workspace=ws, name=\"tutorial-env\", version=\"1\")\n",
    "inference_config = InferenceConfig(entry_script=\"autoscore.py\", environment=myenv)\n",
    "\n",
    "service_name = 'automlsvctwo'\n",
    "service = Model.deploy(workspace=ws, \n",
    "                       name=service_name, \n",
    "                       models=[model], \n",
    "                       inference_config=inference_config, \n",
    "                       deployment_config=aciconfig)\n",
    "\n",
    "service.wait_for_deployment(show_output=True)"
   ]
  },
  {
   "cell_type": "code",
   "execution_count": 62,
   "metadata": {},
   "outputs": [
    {
     "name": "stdout",
     "output_type": "stream",
     "text": [
      "2020-12-30T23:50:39,532005000+00:00 - gunicorn/run \n",
      "2020-12-30T23:50:39,531502100+00:00 - iot-server/run \n",
      "2020-12-30T23:50:39,533414800+00:00 - nginx/run \n",
      "/usr/sbin/nginx: /azureml-envs/azureml_afca42347aeb1ef9abd9ee384fe31fec/lib/libcrypto.so.1.0.0: no version information available (required by /usr/sbin/nginx)\n",
      "/usr/sbin/nginx: /azureml-envs/azureml_afca42347aeb1ef9abd9ee384fe31fec/lib/libcrypto.so.1.0.0: no version information available (required by /usr/sbin/nginx)\n",
      "/usr/sbin/nginx: /azureml-envs/azureml_afca42347aeb1ef9abd9ee384fe31fec/lib/libssl.so.1.0.0: no version information available (required by /usr/sbin/nginx)\n",
      "/usr/sbin/nginx: /azureml-envs/azureml_afca42347aeb1ef9abd9ee384fe31fec/lib/libssl.so.1.0.0: no version information available (required by /usr/sbin/nginx)\n",
      "2020-12-30T23:50:39,545084000+00:00 - rsyslog/run \n",
      "/usr/sbin/nginx: /azureml-envs/azureml_afca42347aeb1ef9abd9ee384fe31fec/lib/libssl.so.1.0.0: no version information available (required by /usr/sbin/nginx)\n",
      "rsyslogd: /azureml-envs/azureml_afca42347aeb1ef9abd9ee384fe31fec/lib/libuuid.so.1: no version information available (required by rsyslogd)\n",
      "EdgeHubConnectionString and IOTEDGE_IOTHUBHOSTNAME are not set. Exiting...\n",
      "2020-12-30T23:50:41,398099100+00:00 - iot-server/finish 1 0\n",
      "2020-12-30T23:50:41,403631700+00:00 - Exit code 1 is normal. Not restarting iot-server.\n",
      "Starting gunicorn 19.9.0\n",
      "Listening at: http://127.0.0.1:31311 (67)\n",
      "Using worker: sync\n",
      "worker timeout is set to 300\n",
      "Booting worker with pid: 96\n",
      "SPARK_HOME not set. Skipping PySpark Initialization.\n",
      "Failure while loading azureml_run_type_providers. Failed to load entrypoint automl = azureml.train.automl.run:AutoMLRun._from_run_dto with exception (pyarrow 2.0.0 (/azureml-envs/azureml_afca42347aeb1ef9abd9ee384fe31fec/lib/python3.6/site-packages), Requirement.parse('pyarrow<2.0.0,>=0.17.0'), {'azureml-dataset-runtime'}).\n",
      "Initializing logger\n",
      "2020-12-30 23:50:46,815 | root | INFO | Starting up app insights client\n",
      "Starting up app insights client\n",
      "2020-12-30 23:50:46,817 | root | INFO | Starting up request id generator\n",
      "Starting up request id generator\n",
      "2020-12-30 23:50:46,818 | root | INFO | Starting up app insight hooks\n",
      "Starting up app insight hooks\n",
      "2020-12-30 23:50:46,819 | root | INFO | Invoking user's init function\n",
      "Invoking user's init function\n",
      "2020-12-30 23:50:57,638 | root | INFO | Users's init has completed successfully\n",
      "Users's init has completed successfully\n",
      "2020-12-30 23:50:57,645 | root | INFO | Skipping middleware: dbg_model_info as it's not enabled.\n",
      "Skipping middleware: dbg_model_info as it's not enabled.\n",
      "2020-12-30 23:50:57,646 | root | INFO | Skipping middleware: dbg_resource_usage as it's not enabled.\n",
      "Skipping middleware: dbg_resource_usage as it's not enabled.\n",
      "2020-12-30 23:50:57,647 | root | INFO | Scoring timeout is found from os.environ: 60000 ms\n",
      "Scoring timeout is found from os.environ: 60000 ms\n",
      "2020-12-30 23:50:57,699 | root | INFO | Swagger file not present\n",
      "Swagger file not present\n",
      "2020-12-30 23:50:57,700 | root | INFO | 404\n",
      "404\n",
      "127.0.0.1 - - [30/Dec/2020:23:50:57 +0000] \"GET /swagger.json HTTP/1.0\" 404 19 \"-\" \"Go-http-client/1.1\"\n",
      "2020-12-30 23:51:03,775 | root | INFO | Swagger file not present\n",
      "Swagger file not present\n",
      "2020-12-30 23:51:03,776 | root | INFO | 404\n",
      "404\n",
      "127.0.0.1 - - [30/Dec/2020:23:51:03 +0000] \"GET /swagger.json HTTP/1.0\" 404 19 \"-\" \"Go-http-client/1.1\"\n",
      "2020-12-30 23:57:49,188 | root | INFO | Swagger file not present\n",
      "Swagger file not present\n",
      "2020-12-30 23:57:49,189 | root | INFO | 404\n",
      "404\n",
      "127.0.0.1 - - [30/Dec/2020:23:57:49 +0000] \"GET /swagger.json HTTP/1.0\" 404 19 \"-\" \"Go-http-client/1.1\"\n",
      "\n"
     ]
    }
   ],
   "source": [
    "servicelogs = service.get_logs()\n",
    "print(servicelogs)\n",
    "#for line in servicelogs.split('\\n'):\n",
    "    #print(line)"
   ]
  },
  {
   "cell_type": "markdown",
   "metadata": {
    "collapsed": true,
    "gather": {
     "logged": 1598431657736
    },
    "jupyter": {
     "outputs_hidden": false,
     "source_hidden": false
    },
    "nteract": {
     "transient": {
      "deleting": false
     }
    }
   },
   "source": [
    "TODO: In the cell below, send a request to the web service you deployed to test it."
   ]
  },
  {
   "cell_type": "code",
   "execution_count": null,
   "metadata": {},
   "outputs": [],
   "source": [
    "print(service.state)\n",
    "print(\"scoring URI: \" + service.scoring_uri)\n",
    "\n",
    "print(\"Swagger URI: \" + service.swagger_uri)\n",
    "\n",
    "print(\"Authetication Key: \" + service.get_keys())"
   ]
  },
  {
   "cell_type": "markdown",
   "metadata": {
    "collapsed": true,
    "gather": {
     "logged": 1598432765711
    },
    "jupyter": {
     "outputs_hidden": false,
     "source_hidden": false
    },
    "nteract": {
     "transient": {
      "deleting": false
     }
    }
   },
   "source": [
    "TODO: In the cell below, print the logs of the web service and delete the service"
   ]
  },
  {
   "cell_type": "code",
   "execution_count": null,
   "metadata": {},
   "outputs": [],
   "source": [
    "import json\n",
    "\n",
    "input_payload = json.dumps({\n",
    "    'data': dataset_x[0:2].tolist(),\n",
    "    'method': 'predict'  # If you have a classification model, you can get probabilities by changing this to 'predict_proba'.\n",
    "})\n",
    "\n",
    "output = service.run(input_payload)\n",
    "\n",
    "print(output)"
   ]
  }
 ],
 "metadata": {
  "kernel_info": {
   "name": "python3"
  },
  "kernelspec": {
   "display_name": "Python 3",
   "language": "python",
   "name": "python3"
  },
  "language_info": {
   "codemirror_mode": {
    "name": "ipython",
    "version": 3
   },
   "file_extension": ".py",
   "mimetype": "text/x-python",
   "name": "python",
   "nbconvert_exporter": "python",
   "pygments_lexer": "ipython3",
   "version": "3.6.9"
  },
  "nteract": {
   "version": "nteract-front-end@1.0.0"
  }
 },
 "nbformat": 4,
 "nbformat_minor": 2
}
