{
 "cells": [
  {
   "cell_type": "markdown",
   "metadata": {},
   "source": [
    "# Automated ML\n"
   ]
  },
  {
   "cell_type": "code",
   "execution_count": 63,
   "metadata": {
    "gather": {
     "logged": 1609085952213
    },
    "jupyter": {
     "outputs_hidden": false,
     "source_hidden": false
    },
    "nteract": {
     "transient": {
      "deleting": false
     }
    }
   },
   "outputs": [],
   "source": [
    "import logging\n",
    "import os\n",
    "import csv\n",
    "\n",
    "from matplotlib import pyplot as plt\n",
    "import numpy as np\n",
    "import pandas as pd\n",
    "import pkg_resources\n",
    "import azureml.core\n",
    "from azureml.core.experiment import Experiment\n",
    "from azureml.core.workspace import Workspace\n",
    "from azureml.train.automl import AutoMLConfig\n",
    "from azureml.pipeline.steps import AutoMLStep"
   ]
  },
  {
   "cell_type": "code",
   "execution_count": 64,
   "metadata": {},
   "outputs": [
    {
     "name": "stdout",
     "output_type": "stream",
     "text": [
      "SDK version: 1.19.0\n"
     ]
    }
   ],
   "source": [
    "# Check core SDK version number\n",
    "print(\"SDK version:\", azureml.core.VERSION)"
   ]
  },
  {
   "cell_type": "code",
   "execution_count": 65,
   "metadata": {},
   "outputs": [],
   "source": [
    "ws = Workspace.from_config()\n",
    "\n",
    "# choose a name for experiment\n",
    "experiment_name = 'puru-auto-experiment'\n",
    "\n",
    "experiment=Experiment(ws, experiment_name)"
   ]
  },
  {
   "cell_type": "code",
   "execution_count": 66,
   "metadata": {},
   "outputs": [
    {
     "name": "stdout",
     "output_type": "stream",
     "text": [
      "Workspace name: quick-starts-ws-132551\n",
      "Azure region: southcentralus\n",
      "Subscription id: 61c5c3f0-6dc7-4ed9-a7f3-c704b20e3b30\n",
      "Resource group: aml-quickstarts-132551\n"
     ]
    }
   ],
   "source": [
    "print('Workspace name: ' + ws.name, \n",
    "      'Azure region: ' + ws.location, \n",
    "      'Subscription id: ' + ws.subscription_id, \n",
    "      'Resource group: ' + ws.resource_group, sep = '\\n')"
   ]
  },
  {
   "cell_type": "code",
   "execution_count": 67,
   "metadata": {},
   "outputs": [
    {
     "name": "stdout",
     "output_type": "stream",
     "text": [
      "Found existing cluster, using it.\n",
      "Succeeded\n",
      "AmlCompute wait for completion finished\n",
      "\n",
      "Minimum number of nodes requested have been provisioned\n"
     ]
    }
   ],
   "source": [
    "# create or attach an existing compute cluster\n",
    "from azureml.core.compute import ComputeTarget, AmlCompute\n",
    "from azureml.core.compute_target import ComputeTargetException\n",
    "\n",
    "# set name of CPU cluster\n",
    "cpu_cluster_name = \"puru-compute-new\"\n",
    "\n",
    "# Verify that cluster does not exist already\n",
    "try:\n",
    "    cpu_cluster = ComputeTarget(workspace=ws, name=cpu_cluster_name)\n",
    "    print('Found existing cluster, using it.')\n",
    "except ComputeTargetException:\n",
    "    print('Creating a new compute target...')\n",
    "    compute_config = AmlCompute.provisioning_configuration(vm_size='STANDARD_D2_V2',\n",
    "                                                           max_nodes=4)\n",
    "    cpu_cluster = ComputeTarget.create(ws, cpu_cluster_name, compute_config)\n",
    "\n",
    "# wait for completion\n",
    "cpu_cluster.wait_for_completion(show_output=True)"
   ]
  },
  {
   "cell_type": "markdown",
   "metadata": {},
   "source": [
    "## Dataset\n",
    "\n",
    "### Overview\n",
    "I am using external data source from Kaggle. I have already downloaded the data from Kaggle and uploaded in my github project, so that we can give the data source as url. \n",
    "The objective of the dataset is to diagnostically predict whether or not a patient has diabetes, based on certain diagnostic measurements included in the dataset. The target (label) is \"Outcome\" column with values of 1 means has diabetes and 0 means no diabetes. We will be using all independent varialbles from the datasets like: preganicies the patient has had, their BMI, insulin level, age and so on."
   ]
  },
  {
   "cell_type": "code",
   "execution_count": 68,
   "metadata": {
    "gather": {
     "logged": 1609086014420
    }
   },
   "outputs": [
    {
     "data": {
      "text/html": [
       "<div>\n",
       "<style scoped>\n",
       "    .dataframe tbody tr th:only-of-type {\n",
       "        vertical-align: middle;\n",
       "    }\n",
       "\n",
       "    .dataframe tbody tr th {\n",
       "        vertical-align: top;\n",
       "    }\n",
       "\n",
       "    .dataframe thead th {\n",
       "        text-align: right;\n",
       "    }\n",
       "</style>\n",
       "<table border=\"1\" class=\"dataframe\">\n",
       "  <thead>\n",
       "    <tr style=\"text-align: right;\">\n",
       "      <th></th>\n",
       "      <th>Pregnancies</th>\n",
       "      <th>Glucose</th>\n",
       "      <th>BloodPressure</th>\n",
       "      <th>SkinThickness</th>\n",
       "      <th>Insulin</th>\n",
       "      <th>BMI</th>\n",
       "      <th>DiabetesPedigreeFunction</th>\n",
       "      <th>Age</th>\n",
       "      <th>Outcome</th>\n",
       "    </tr>\n",
       "  </thead>\n",
       "  <tbody>\n",
       "    <tr>\n",
       "      <th>count</th>\n",
       "      <td>768.00</td>\n",
       "      <td>768.00</td>\n",
       "      <td>768.00</td>\n",
       "      <td>768.00</td>\n",
       "      <td>768.00</td>\n",
       "      <td>768.00</td>\n",
       "      <td>768.00</td>\n",
       "      <td>768.00</td>\n",
       "      <td>768.00</td>\n",
       "    </tr>\n",
       "    <tr>\n",
       "      <th>mean</th>\n",
       "      <td>3.85</td>\n",
       "      <td>120.89</td>\n",
       "      <td>69.11</td>\n",
       "      <td>20.54</td>\n",
       "      <td>79.80</td>\n",
       "      <td>31.99</td>\n",
       "      <td>0.47</td>\n",
       "      <td>33.24</td>\n",
       "      <td>0.35</td>\n",
       "    </tr>\n",
       "    <tr>\n",
       "      <th>std</th>\n",
       "      <td>3.37</td>\n",
       "      <td>31.97</td>\n",
       "      <td>19.36</td>\n",
       "      <td>15.95</td>\n",
       "      <td>115.24</td>\n",
       "      <td>7.88</td>\n",
       "      <td>0.33</td>\n",
       "      <td>11.76</td>\n",
       "      <td>0.48</td>\n",
       "    </tr>\n",
       "    <tr>\n",
       "      <th>min</th>\n",
       "      <td>0.00</td>\n",
       "      <td>0.00</td>\n",
       "      <td>0.00</td>\n",
       "      <td>0.00</td>\n",
       "      <td>0.00</td>\n",
       "      <td>0.00</td>\n",
       "      <td>0.08</td>\n",
       "      <td>21.00</td>\n",
       "      <td>0.00</td>\n",
       "    </tr>\n",
       "    <tr>\n",
       "      <th>25%</th>\n",
       "      <td>1.00</td>\n",
       "      <td>99.00</td>\n",
       "      <td>62.00</td>\n",
       "      <td>0.00</td>\n",
       "      <td>0.00</td>\n",
       "      <td>27.30</td>\n",
       "      <td>0.24</td>\n",
       "      <td>24.00</td>\n",
       "      <td>0.00</td>\n",
       "    </tr>\n",
       "    <tr>\n",
       "      <th>50%</th>\n",
       "      <td>3.00</td>\n",
       "      <td>117.00</td>\n",
       "      <td>72.00</td>\n",
       "      <td>23.00</td>\n",
       "      <td>30.50</td>\n",
       "      <td>32.00</td>\n",
       "      <td>0.37</td>\n",
       "      <td>29.00</td>\n",
       "      <td>0.00</td>\n",
       "    </tr>\n",
       "    <tr>\n",
       "      <th>75%</th>\n",
       "      <td>6.00</td>\n",
       "      <td>140.25</td>\n",
       "      <td>80.00</td>\n",
       "      <td>32.00</td>\n",
       "      <td>127.25</td>\n",
       "      <td>36.60</td>\n",
       "      <td>0.63</td>\n",
       "      <td>41.00</td>\n",
       "      <td>1.00</td>\n",
       "    </tr>\n",
       "    <tr>\n",
       "      <th>max</th>\n",
       "      <td>17.00</td>\n",
       "      <td>199.00</td>\n",
       "      <td>122.00</td>\n",
       "      <td>99.00</td>\n",
       "      <td>846.00</td>\n",
       "      <td>67.10</td>\n",
       "      <td>2.42</td>\n",
       "      <td>81.00</td>\n",
       "      <td>1.00</td>\n",
       "    </tr>\n",
       "  </tbody>\n",
       "</table>\n",
       "</div>"
      ],
      "text/plain": [
       "       Pregnancies  Glucose  BloodPressure  SkinThickness  Insulin    BMI  \\\n",
       "count       768.00   768.00         768.00         768.00   768.00 768.00   \n",
       "mean          3.85   120.89          69.11          20.54    79.80  31.99   \n",
       "std           3.37    31.97          19.36          15.95   115.24   7.88   \n",
       "min           0.00     0.00           0.00           0.00     0.00   0.00   \n",
       "25%           1.00    99.00          62.00           0.00     0.00  27.30   \n",
       "50%           3.00   117.00          72.00          23.00    30.50  32.00   \n",
       "75%           6.00   140.25          80.00          32.00   127.25  36.60   \n",
       "max          17.00   199.00         122.00          99.00   846.00  67.10   \n",
       "\n",
       "       DiabetesPedigreeFunction    Age  Outcome  \n",
       "count                    768.00 768.00   768.00  \n",
       "mean                       0.47  33.24     0.35  \n",
       "std                        0.33  11.76     0.48  \n",
       "min                        0.08  21.00     0.00  \n",
       "25%                        0.24  24.00     0.00  \n",
       "50%                        0.37  29.00     0.00  \n",
       "75%                        0.63  41.00     1.00  \n",
       "max                        2.42  81.00     1.00  "
      ]
     },
     "execution_count": 68,
     "metadata": {},
     "output_type": "execute_result"
    }
   ],
   "source": [
    "from azureml.data.dataset_factory import TabularDatasetFactory\n",
    "from azureml.core import Dataset\n",
    "# NOTE: update the key to match the dataset name\n",
    "found = False\n",
    "key = \"diabetes-classification\"\n",
    "description_text = \"Diabetes datasets for capstone project\"\n",
    "\n",
    "if key in ws.datasets.keys(): \n",
    "        found = True        \n",
    "        dataset = ws.datasets[key] \n",
    "\n",
    "if not found:\n",
    "        # Create Hyperdrive Dataset and register it into Workspace\n",
    "        url = 'https://raw.githubusercontent.com/purunep/Capstoneproject/main/project/data/diabetes.csv'\n",
    "        dataset = Dataset.Tabular.from_delimited_files(url)        \n",
    "        #Register Dataset in Workspace\n",
    "        dataset = dataset.register(workspace=ws,\n",
    "                                   name=key,\n",
    "                                   description=description_text)\n",
    "\n",
    "\n",
    "df = dataset.to_pandas_dataframe()\n",
    "df.describe()"
   ]
  },
  {
   "cell_type": "code",
   "execution_count": 69,
   "metadata": {
    "gather": {
     "logged": 1609086049040
    }
   },
   "outputs": [
    {
     "data": {
      "text/html": [
       "<div>\n",
       "<style scoped>\n",
       "    .dataframe tbody tr th:only-of-type {\n",
       "        vertical-align: middle;\n",
       "    }\n",
       "\n",
       "    .dataframe tbody tr th {\n",
       "        vertical-align: top;\n",
       "    }\n",
       "\n",
       "    .dataframe thead th {\n",
       "        text-align: right;\n",
       "    }\n",
       "</style>\n",
       "<table border=\"1\" class=\"dataframe\">\n",
       "  <thead>\n",
       "    <tr style=\"text-align: right;\">\n",
       "      <th></th>\n",
       "      <th>Pregnancies</th>\n",
       "      <th>Glucose</th>\n",
       "      <th>BloodPressure</th>\n",
       "      <th>SkinThickness</th>\n",
       "      <th>Insulin</th>\n",
       "      <th>BMI</th>\n",
       "      <th>DiabetesPedigreeFunction</th>\n",
       "      <th>Age</th>\n",
       "      <th>Outcome</th>\n",
       "    </tr>\n",
       "  </thead>\n",
       "  <tbody>\n",
       "    <tr>\n",
       "      <th>603</th>\n",
       "      <td>7</td>\n",
       "      <td>150</td>\n",
       "      <td>78</td>\n",
       "      <td>29</td>\n",
       "      <td>126</td>\n",
       "      <td>35.20</td>\n",
       "      <td>0.69</td>\n",
       "      <td>54</td>\n",
       "      <td>1</td>\n",
       "    </tr>\n",
       "    <tr>\n",
       "      <th>118</th>\n",
       "      <td>4</td>\n",
       "      <td>97</td>\n",
       "      <td>60</td>\n",
       "      <td>23</td>\n",
       "      <td>0</td>\n",
       "      <td>28.20</td>\n",
       "      <td>0.44</td>\n",
       "      <td>22</td>\n",
       "      <td>0</td>\n",
       "    </tr>\n",
       "    <tr>\n",
       "      <th>247</th>\n",
       "      <td>0</td>\n",
       "      <td>165</td>\n",
       "      <td>90</td>\n",
       "      <td>33</td>\n",
       "      <td>680</td>\n",
       "      <td>52.30</td>\n",
       "      <td>0.43</td>\n",
       "      <td>23</td>\n",
       "      <td>0</td>\n",
       "    </tr>\n",
       "    <tr>\n",
       "      <th>157</th>\n",
       "      <td>1</td>\n",
       "      <td>109</td>\n",
       "      <td>56</td>\n",
       "      <td>21</td>\n",
       "      <td>135</td>\n",
       "      <td>25.20</td>\n",
       "      <td>0.83</td>\n",
       "      <td>23</td>\n",
       "      <td>0</td>\n",
       "    </tr>\n",
       "    <tr>\n",
       "      <th>468</th>\n",
       "      <td>8</td>\n",
       "      <td>120</td>\n",
       "      <td>0</td>\n",
       "      <td>0</td>\n",
       "      <td>0</td>\n",
       "      <td>30.00</td>\n",
       "      <td>0.18</td>\n",
       "      <td>38</td>\n",
       "      <td>1</td>\n",
       "    </tr>\n",
       "  </tbody>\n",
       "</table>\n",
       "</div>"
      ],
      "text/plain": [
       "     Pregnancies  Glucose  BloodPressure  SkinThickness  Insulin   BMI  \\\n",
       "603            7      150             78             29      126 35.20   \n",
       "118            4       97             60             23        0 28.20   \n",
       "247            0      165             90             33      680 52.30   \n",
       "157            1      109             56             21      135 25.20   \n",
       "468            8      120              0              0        0 30.00   \n",
       "\n",
       "     DiabetesPedigreeFunction  Age  Outcome  \n",
       "603                      0.69   54        1  \n",
       "118                      0.44   22        0  \n",
       "247                      0.43   23        0  \n",
       "157                      0.83   23        0  \n",
       "468                      0.18   38        1  "
      ]
     },
     "execution_count": 69,
     "metadata": {},
     "output_type": "execute_result"
    }
   ],
   "source": [
    "# prepare dataset for model training\n",
    "from train import clean_data\n",
    "from sklearn.model_selection import train_test_split\n",
    "import pandas as pd\n",
    "\n",
    "# Clean dataset using the clean_data function\n",
    "x, y = clean_data(dataset)\n",
    "\n",
    "# split dataset into train and test sets\n",
    "(x_train, x_test, y_train, y_test) = train_test_split(x, y, test_size= 0.2, random_state = 0)\n",
    "label = 'Outcome'\n",
    "\n",
    "# merge the output x and y dataframes into a single table for AutoML experiment\n",
    "train_data_df = pd.concat([x_train, y_train], axis=1)\n",
    "\n",
    "train_data_df.head()"
   ]
  },
  {
   "cell_type": "code",
   "execution_count": 70,
   "metadata": {
    "gather": {
     "logged": 1609086075784
    }
   },
   "outputs": [
    {
     "name": "stdout",
     "output_type": "stream",
     "text": [
      "Uploading an estimated of 1 files\n",
      "Uploading ./data/train_data.csv\n",
      "Uploaded ./data/train_data.csv, 1 files out of an estimated total of 1\n",
      "Uploaded 1 files\n"
     ]
    }
   ],
   "source": [
    "from azureml.data.dataset_factory import TabularDatasetFactory\n",
    "# save training data in tabular format to allow for remote run\n",
    "if not os.path.isdir('data'):  # create data folder if it does not exist\n",
    "    os.mkdir('data')\n",
    "    \n",
    "if not os.path.exists('project_folder'):  # create project folder if it does not exist\n",
    "    os.makedirs('project_folder')\n",
    "\n",
    "# Save the train data to a csv file to be uploaded to the datastore\n",
    "pd.DataFrame(train_data_df).to_csv(\"data/train_data.csv\", index=False)\n",
    "\n",
    "# Upload the training data as a tabular dataset for access during training on remote compute\n",
    "# upload to data store\n",
    "ds = ws.get_default_datastore()\n",
    "ds.upload(src_dir='./data', target_path='automlclassifier', overwrite=True, show_progress=True)\n",
    "\n",
    " # access datastore during training on remote compute\n",
    "train_data = TabularDatasetFactory.from_delimited_files(path=ds.path('automlclassifier/train_data.csv'))"
   ]
  },
  {
   "cell_type": "markdown",
   "metadata": {},
   "source": [
    "## AutoML Configuration\n",
    "\n",
    "I set enabled early stopping to True, to enable early termination if the score is not improving in the short term. Also set the iteration_timeout_minutes = 5, to set the maximum time in minutes that each iteration can run for before it terminates.Set max_concurrent_iterations = 4, to specify the maximum number of iterations that would be executed in parallel. Set max_cores_per_iteration = -1, to specify the maximum number of threads to use for a given training iteration. -1 means to use all the possible cores per iteration per child-run and set featurization = auto, to specify wherether featurization should be done automically or not, auto is ued to do it automatically"
   ]
  },
  {
   "cell_type": "code",
   "execution_count": 71,
   "metadata": {
    "gather": {
     "logged": 1609086107873
    }
   },
   "outputs": [],
   "source": [
    "project_folder = './puruautoml'\n",
    "automl_settings = {\n",
    "    \"enable_early_stopping\" : True,\n",
    "    \"iteration_timeout_minutes\": 5,\n",
    "    \"max_concurrent_iterations\": 4,\n",
    "    \"max_cores_per_iteration\": -1,    \n",
    "    \"featurization\": 'auto'\n",
    "}\n",
    "\n",
    "# define automl autconfig parameters\n",
    "automl_config = AutoMLConfig(\n",
    "    experiment_timeout_minutes= 30,\n",
    "    task= 'classification',\n",
    "    primary_metric='accuracy',\n",
    "    enable_onnx_compatible_models=True,\n",
    "    compute_target=cpu_cluster, # included to allow for remote compute\n",
    "    training_data= train_data,\n",
    "    label_column_name= label,\n",
    "    path = project_folder,\n",
    "    n_cross_validations=3,\n",
    "    debug_log = \"automl_errors.log\",    \n",
    "    **automl_settings)"
   ]
  },
  {
   "cell_type": "code",
   "execution_count": 72,
   "metadata": {
    "gather": {
     "logged": 1609086121536
    },
    "jupyter": {
     "outputs_hidden": false,
     "source_hidden": false
    },
    "nteract": {
     "transient": {
      "deleting": false
     }
    }
   },
   "outputs": [
    {
     "name": "stdout",
     "output_type": "stream",
     "text": [
      "Running on remote.\n"
     ]
    }
   ],
   "source": [
    "remote_run = experiment.submit(automl_config)"
   ]
  },
  {
   "cell_type": "markdown",
   "metadata": {},
   "source": [
    "## Run Details"
   ]
  },
  {
   "cell_type": "code",
   "execution_count": 73,
   "metadata": {
    "gather": {
     "logged": 1609087524171
    },
    "jupyter": {
     "outputs_hidden": false,
     "source_hidden": false
    },
    "nteract": {
     "transient": {
      "deleting": false
     }
    }
   },
   "outputs": [
    {
     "data": {
      "application/vnd.jupyter.widget-view+json": {
       "model_id": "40bde5611fab4848a778c93746140ebf",
       "version_major": 2,
       "version_minor": 0
      },
      "text/plain": [
       "_AutoMLWidget(widget_settings={'childWidgetDisplay': 'popup', 'send_telemetry': False, 'log_level': 'INFO', 's…"
      ]
     },
     "metadata": {},
     "output_type": "display_data"
    },
    {
     "data": {
      "application/aml.mini.widget.v1": "{\"status\": \"Completed\", \"workbench_run_details_uri\": \"https://ml.azure.com/experiments/puru-auto-experiment/runs/AutoML_54122130-bfd5-4d79-a46b-f5733880b4a7?wsid=/subscriptions/61c5c3f0-6dc7-4ed9-a7f3-c704b20e3b30/resourcegroups/aml-quickstarts-132551/workspaces/quick-starts-ws-132551\", \"run_id\": \"AutoML_54122130-bfd5-4d79-a46b-f5733880b4a7\", \"run_properties\": {\"run_id\": \"AutoML_54122130-bfd5-4d79-a46b-f5733880b4a7\", \"created_utc\": \"2020-12-31T00:36:38.677052Z\", \"properties\": {\"num_iterations\": \"1000\", \"training_type\": \"TrainFull\", \"acquisition_function\": \"EI\", \"primary_metric\": \"accuracy\", \"train_split\": \"0\", \"acquisition_parameter\": \"0\", \"num_cross_validation\": \"3\", \"target\": \"puru-compute-new\", \"AMLSettingsJsonString\": \"{\\\"path\\\":null,\\\"name\\\":\\\"puru-auto-experiment\\\",\\\"subscription_id\\\":\\\"61c5c3f0-6dc7-4ed9-a7f3-c704b20e3b30\\\",\\\"resource_group\\\":\\\"aml-quickstarts-132551\\\",\\\"workspace_name\\\":\\\"quick-starts-ws-132551\\\",\\\"region\\\":\\\"southcentralus\\\",\\\"compute_target\\\":\\\"puru-compute-new\\\",\\\"spark_service\\\":null,\\\"azure_service\\\":\\\"remote\\\",\\\"many_models\\\":false,\\\"pipeline_fetch_max_batch_size\\\":1,\\\"iterations\\\":1000,\\\"primary_metric\\\":\\\"accuracy\\\",\\\"task_type\\\":\\\"classification\\\",\\\"data_script\\\":null,\\\"validation_size\\\":0.0,\\\"n_cross_validations\\\":3,\\\"y_min\\\":null,\\\"y_max\\\":null,\\\"num_classes\\\":null,\\\"featurization\\\":\\\"auto\\\",\\\"_ignore_package_version_incompatibilities\\\":false,\\\"is_timeseries\\\":false,\\\"max_cores_per_iteration\\\":-1,\\\"max_concurrent_iterations\\\":4,\\\"iteration_timeout_minutes\\\":5,\\\"mem_in_mb\\\":null,\\\"enforce_time_on_windows\\\":false,\\\"experiment_timeout_minutes\\\":30,\\\"experiment_exit_score\\\":null,\\\"whitelist_models\\\":null,\\\"blacklist_algos\\\":[\\\"TensorFlowLinearClassifier\\\",\\\"TensorFlowDNN\\\"],\\\"supported_models\\\":[\\\"LightGBM\\\",\\\"SVM\\\",\\\"XGBoostClassifier\\\",\\\"DecisionTree\\\",\\\"TensorFlowDNN\\\",\\\"MultinomialNaiveBayes\\\",\\\"SGD\\\",\\\"TensorFlowLinearClassifier\\\",\\\"BernoulliNaiveBayes\\\",\\\"RandomForest\\\",\\\"LinearSVM\\\",\\\"KNN\\\",\\\"AveragedPerceptronClassifier\\\",\\\"ExtremeRandomTrees\\\",\\\"LogisticRegression\\\",\\\"GradientBoosting\\\"],\\\"auto_blacklist\\\":true,\\\"blacklist_samples_reached\\\":false,\\\"exclude_nan_labels\\\":true,\\\"verbosity\\\":20,\\\"_debug_log\\\":\\\"azureml_automl.log\\\",\\\"show_warnings\\\":false,\\\"model_explainability\\\":true,\\\"service_url\\\":null,\\\"sdk_url\\\":null,\\\"sdk_packages\\\":null,\\\"enable_onnx_compatible_models\\\":true,\\\"enable_split_onnx_featurizer_estimator_models\\\":false,\\\"vm_type\\\":\\\"STANDARD_D2_V2\\\",\\\"telemetry_verbosity\\\":20,\\\"send_telemetry\\\":true,\\\"enable_dnn\\\":false,\\\"scenario\\\":\\\"SDK-1.13.0\\\",\\\"environment_label\\\":null,\\\"force_text_dnn\\\":false,\\\"enable_feature_sweeping\\\":false,\\\"enable_early_stopping\\\":true,\\\"early_stopping_n_iters\\\":10,\\\"metrics\\\":null,\\\"enable_ensembling\\\":true,\\\"enable_stack_ensembling\\\":false,\\\"ensemble_iterations\\\":15,\\\"enable_tf\\\":false,\\\"enable_subsampling\\\":null,\\\"subsample_seed\\\":null,\\\"enable_nimbusml\\\":false,\\\"enable_streaming\\\":false,\\\"force_streaming\\\":false,\\\"track_child_runs\\\":true,\\\"allowed_private_models\\\":[],\\\"label_column_name\\\":\\\"Outcome\\\",\\\"weight_column_name\\\":null,\\\"cv_split_column_names\\\":null,\\\"enable_local_managed\\\":false,\\\"_local_managed_run_id\\\":null,\\\"cost_mode\\\":1,\\\"lag_length\\\":0,\\\"metric_operation\\\":\\\"maximize\\\",\\\"preprocess\\\":true}\", \"DataPrepJsonString\": \"{\\\\\\\"training_data\\\\\\\": \\\\\\\"{\\\\\\\\\\\\\\\"blocks\\\\\\\\\\\\\\\": [{\\\\\\\\\\\\\\\"id\\\\\\\\\\\\\\\": \\\\\\\\\\\\\\\"6ff0ae9d-697e-4097-bb42-625129bc2d75\\\\\\\\\\\\\\\", \\\\\\\\\\\\\\\"type\\\\\\\\\\\\\\\": \\\\\\\\\\\\\\\"Microsoft.DPrep.GetDatastoreFilesBlock\\\\\\\\\\\\\\\", \\\\\\\\\\\\\\\"arguments\\\\\\\\\\\\\\\": {\\\\\\\\\\\\\\\"datastores\\\\\\\\\\\\\\\": [{\\\\\\\\\\\\\\\"datastoreName\\\\\\\\\\\\\\\": \\\\\\\\\\\\\\\"workspaceblobstore\\\\\\\\\\\\\\\", \\\\\\\\\\\\\\\"path\\\\\\\\\\\\\\\": \\\\\\\\\\\\\\\"automlclassifier/train_data.csv\\\\\\\\\\\\\\\", \\\\\\\\\\\\\\\"resourceGroup\\\\\\\\\\\\\\\": \\\\\\\\\\\\\\\"aml-quickstarts-132551\\\\\\\\\\\\\\\", \\\\\\\\\\\\\\\"subscription\\\\\\\\\\\\\\\": \\\\\\\\\\\\\\\"61c5c3f0-6dc7-4ed9-a7f3-c704b20e3b30\\\\\\\\\\\\\\\", \\\\\\\\\\\\\\\"workspaceName\\\\\\\\\\\\\\\": \\\\\\\\\\\\\\\"quick-starts-ws-132551\\\\\\\\\\\\\\\"}]}, \\\\\\\\\\\\\\\"localData\\\\\\\\\\\\\\\": {}, \\\\\\\\\\\\\\\"isEnabled\\\\\\\\\\\\\\\": true, \\\\\\\\\\\\\\\"name\\\\\\\\\\\\\\\": null, \\\\\\\\\\\\\\\"annotation\\\\\\\\\\\\\\\": null}, {\\\\\\\\\\\\\\\"id\\\\\\\\\\\\\\\": \\\\\\\\\\\\\\\"6f9666f0-6de8-426c-8242-b26304a2e3c8\\\\\\\\\\\\\\\", \\\\\\\\\\\\\\\"type\\\\\\\\\\\\\\\": \\\\\\\\\\\\\\\"Microsoft.DPrep.ParseDelimitedBlock\\\\\\\\\\\\\\\", \\\\\\\\\\\\\\\"arguments\\\\\\\\\\\\\\\": {\\\\\\\\\\\\\\\"columnHeadersMode\\\\\\\\\\\\\\\": 3, \\\\\\\\\\\\\\\"fileEncoding\\\\\\\\\\\\\\\": 0, \\\\\\\\\\\\\\\"handleQuotedLineBreaks\\\\\\\\\\\\\\\": false, \\\\\\\\\\\\\\\"preview\\\\\\\\\\\\\\\": false, \\\\\\\\\\\\\\\"separator\\\\\\\\\\\\\\\": \\\\\\\\\\\\\\\",\\\\\\\\\\\\\\\", \\\\\\\\\\\\\\\"skipRows\\\\\\\\\\\\\\\": 0, \\\\\\\\\\\\\\\"skipRowsMode\\\\\\\\\\\\\\\": 0}, \\\\\\\\\\\\\\\"localData\\\\\\\\\\\\\\\": {}, \\\\\\\\\\\\\\\"isEnabled\\\\\\\\\\\\\\\": true, \\\\\\\\\\\\\\\"name\\\\\\\\\\\\\\\": null, \\\\\\\\\\\\\\\"annotation\\\\\\\\\\\\\\\": null}, {\\\\\\\\\\\\\\\"id\\\\\\\\\\\\\\\": \\\\\\\\\\\\\\\"a4f452c7-1d4b-4627-a14b-e0452c94106a\\\\\\\\\\\\\\\", \\\\\\\\\\\\\\\"type\\\\\\\\\\\\\\\": \\\\\\\\\\\\\\\"Microsoft.DPrep.DropColumnsBlock\\\\\\\\\\\\\\\", \\\\\\\\\\\\\\\"arguments\\\\\\\\\\\\\\\": {\\\\\\\\\\\\\\\"columns\\\\\\\\\\\\\\\": {\\\\\\\\\\\\\\\"type\\\\\\\\\\\\\\\": 0, \\\\\\\\\\\\\\\"details\\\\\\\\\\\\\\\": {\\\\\\\\\\\\\\\"selectedColumns\\\\\\\\\\\\\\\": [\\\\\\\\\\\\\\\"Path\\\\\\\\\\\\\\\"]}}}, \\\\\\\\\\\\\\\"localData\\\\\\\\\\\\\\\": {}, \\\\\\\\\\\\\\\"isEnabled\\\\\\\\\\\\\\\": true, \\\\\\\\\\\\\\\"name\\\\\\\\\\\\\\\": null, \\\\\\\\\\\\\\\"annotation\\\\\\\\\\\\\\\": null}, {\\\\\\\\\\\\\\\"id\\\\\\\\\\\\\\\": \\\\\\\\\\\\\\\"6a0edcf5-f035-4de5-9216-5d043b89f598\\\\\\\\\\\\\\\", \\\\\\\\\\\\\\\"type\\\\\\\\\\\\\\\": \\\\\\\\\\\\\\\"Microsoft.DPrep.SetColumnTypesBlock\\\\\\\\\\\\\\\", \\\\\\\\\\\\\\\"arguments\\\\\\\\\\\\\\\": {\\\\\\\\\\\\\\\"columnConversion\\\\\\\\\\\\\\\": [{\\\\\\\\\\\\\\\"column\\\\\\\\\\\\\\\": {\\\\\\\\\\\\\\\"type\\\\\\\\\\\\\\\": 2, \\\\\\\\\\\\\\\"details\\\\\\\\\\\\\\\": {\\\\\\\\\\\\\\\"selectedColumn\\\\\\\\\\\\\\\": \\\\\\\\\\\\\\\"Pregnancies\\\\\\\\\\\\\\\"}}, \\\\\\\\\\\\\\\"typeProperty\\\\\\\\\\\\\\\": 2}, {\\\\\\\\\\\\\\\"column\\\\\\\\\\\\\\\": {\\\\\\\\\\\\\\\"type\\\\\\\\\\\\\\\": 2, \\\\\\\\\\\\\\\"details\\\\\\\\\\\\\\\": {\\\\\\\\\\\\\\\"selectedColumn\\\\\\\\\\\\\\\": \\\\\\\\\\\\\\\"Glucose\\\\\\\\\\\\\\\"}}, \\\\\\\\\\\\\\\"typeProperty\\\\\\\\\\\\\\\": 2}, {\\\\\\\\\\\\\\\"column\\\\\\\\\\\\\\\": {\\\\\\\\\\\\\\\"type\\\\\\\\\\\\\\\": 2, \\\\\\\\\\\\\\\"details\\\\\\\\\\\\\\\": {\\\\\\\\\\\\\\\"selectedColumn\\\\\\\\\\\\\\\": \\\\\\\\\\\\\\\"BloodPressure\\\\\\\\\\\\\\\"}}, \\\\\\\\\\\\\\\"typeProperty\\\\\\\\\\\\\\\": 2}, {\\\\\\\\\\\\\\\"column\\\\\\\\\\\\\\\": {\\\\\\\\\\\\\\\"type\\\\\\\\\\\\\\\": 2, \\\\\\\\\\\\\\\"details\\\\\\\\\\\\\\\": {\\\\\\\\\\\\\\\"selectedColumn\\\\\\\\\\\\\\\": \\\\\\\\\\\\\\\"SkinThickness\\\\\\\\\\\\\\\"}}, \\\\\\\\\\\\\\\"typeProperty\\\\\\\\\\\\\\\": 2}, {\\\\\\\\\\\\\\\"column\\\\\\\\\\\\\\\": {\\\\\\\\\\\\\\\"type\\\\\\\\\\\\\\\": 2, \\\\\\\\\\\\\\\"details\\\\\\\\\\\\\\\": {\\\\\\\\\\\\\\\"selectedColumn\\\\\\\\\\\\\\\": \\\\\\\\\\\\\\\"Insulin\\\\\\\\\\\\\\\"}}, \\\\\\\\\\\\\\\"typeProperty\\\\\\\\\\\\\\\": 2}, {\\\\\\\\\\\\\\\"column\\\\\\\\\\\\\\\": {\\\\\\\\\\\\\\\"type\\\\\\\\\\\\\\\": 2, \\\\\\\\\\\\\\\"details\\\\\\\\\\\\\\\": {\\\\\\\\\\\\\\\"selectedColumn\\\\\\\\\\\\\\\": \\\\\\\\\\\\\\\"BMI\\\\\\\\\\\\\\\"}}, \\\\\\\\\\\\\\\"typeProperty\\\\\\\\\\\\\\\": 3}, {\\\\\\\\\\\\\\\"column\\\\\\\\\\\\\\\": {\\\\\\\\\\\\\\\"type\\\\\\\\\\\\\\\": 2, \\\\\\\\\\\\\\\"details\\\\\\\\\\\\\\\": {\\\\\\\\\\\\\\\"selectedColumn\\\\\\\\\\\\\\\": \\\\\\\\\\\\\\\"DiabetesPedigreeFunction\\\\\\\\\\\\\\\"}}, \\\\\\\\\\\\\\\"typeProperty\\\\\\\\\\\\\\\": 3}, {\\\\\\\\\\\\\\\"column\\\\\\\\\\\\\\\": {\\\\\\\\\\\\\\\"type\\\\\\\\\\\\\\\": 2, \\\\\\\\\\\\\\\"details\\\\\\\\\\\\\\\": {\\\\\\\\\\\\\\\"selectedColumn\\\\\\\\\\\\\\\": \\\\\\\\\\\\\\\"Age\\\\\\\\\\\\\\\"}}, \\\\\\\\\\\\\\\"typeProperty\\\\\\\\\\\\\\\": 2}, {\\\\\\\\\\\\\\\"column\\\\\\\\\\\\\\\": {\\\\\\\\\\\\\\\"type\\\\\\\\\\\\\\\": 2, \\\\\\\\\\\\\\\"details\\\\\\\\\\\\\\\": {\\\\\\\\\\\\\\\"selectedColumn\\\\\\\\\\\\\\\": \\\\\\\\\\\\\\\"Outcome\\\\\\\\\\\\\\\"}}, \\\\\\\\\\\\\\\"typeProperty\\\\\\\\\\\\\\\": 2}]}, \\\\\\\\\\\\\\\"localData\\\\\\\\\\\\\\\": {}, \\\\\\\\\\\\\\\"isEnabled\\\\\\\\\\\\\\\": true, \\\\\\\\\\\\\\\"name\\\\\\\\\\\\\\\": null, \\\\\\\\\\\\\\\"annotation\\\\\\\\\\\\\\\": null}], \\\\\\\\\\\\\\\"inspectors\\\\\\\\\\\\\\\": [], \\\\\\\\\\\\\\\"meta\\\\\\\\\\\\\\\": {\\\\\\\\\\\\\\\"savedDatasetId\\\\\\\\\\\\\\\": \\\\\\\\\\\\\\\"7c7c7913-6b84-4d32-8e9d-ce0a19d38cfe\\\\\\\\\\\\\\\", \\\\\\\\\\\\\\\"datasetType\\\\\\\\\\\\\\\": \\\\\\\\\\\\\\\"tabular\\\\\\\\\\\\\\\", \\\\\\\\\\\\\\\"subscriptionId\\\\\\\\\\\\\\\": \\\\\\\\\\\\\\\"61c5c3f0-6dc7-4ed9-a7f3-c704b20e3b30\\\\\\\\\\\\\\\", \\\\\\\\\\\\\\\"workspaceId\\\\\\\\\\\\\\\": \\\\\\\\\\\\\\\"694a26d0-1cff-4d00-bb6c-7f3e9cc4dd1c\\\\\\\\\\\\\\\", \\\\\\\\\\\\\\\"workspaceLocation\\\\\\\\\\\\\\\": \\\\\\\\\\\\\\\"southcentralus\\\\\\\\\\\\\\\"}}\\\\\\\", \\\\\\\"activities\\\\\\\": 0}\", \"EnableSubsampling\": null, \"runTemplate\": \"AutoML\", \"azureml.runsource\": \"automl\", \"display_task_type\": \"classification\", \"dependencies_versions\": \"{\\\"azureml-widgets\\\": \\\"1.19.0\\\", \\\"azureml-train\\\": \\\"1.19.0\\\", \\\"azureml-train-restclients-hyperdrive\\\": \\\"1.19.0\\\", \\\"azureml-train-core\\\": \\\"1.19.0\\\", \\\"azureml-train-automl\\\": \\\"1.19.0\\\", \\\"azureml-train-automl-runtime\\\": \\\"1.19.0\\\", \\\"azureml-train-automl-client\\\": \\\"1.19.0\\\", \\\"azureml-tensorboard\\\": \\\"1.19.0\\\", \\\"azureml-telemetry\\\": \\\"1.19.0\\\", \\\"azureml-sdk\\\": \\\"1.19.0\\\", \\\"azureml-samples\\\": \\\"0+unknown\\\", \\\"azureml-pipeline\\\": \\\"1.19.0\\\", \\\"azureml-pipeline-steps\\\": \\\"1.19.0\\\", \\\"azureml-pipeline-core\\\": \\\"1.19.0\\\", \\\"azureml-opendatasets\\\": \\\"1.19.0\\\", \\\"azureml-model-management-sdk\\\": \\\"1.0.1b6.post1\\\", \\\"azureml-mlflow\\\": \\\"1.19.0\\\", \\\"azureml-interpret\\\": \\\"1.19.0\\\", \\\"azureml-explain-model\\\": \\\"1.19.0\\\", \\\"azureml-defaults\\\": \\\"1.19.0\\\", \\\"azureml-dataset-runtime\\\": \\\"1.19.0\\\", \\\"azureml-dataprep\\\": \\\"2.6.1\\\", \\\"azureml-dataprep-rslex\\\": \\\"1.4.0\\\", \\\"azureml-dataprep-native\\\": \\\"26.0.0\\\", \\\"azureml-datadrift\\\": \\\"1.19.0\\\", \\\"azureml-core\\\": \\\"1.19.0\\\", \\\"azureml-contrib-services\\\": \\\"1.19.0\\\", \\\"azureml-contrib-server\\\": \\\"1.19.0\\\", \\\"azureml-contrib-reinforcementlearning\\\": \\\"1.19.0\\\", \\\"azureml-contrib-pipeline-steps\\\": \\\"1.19.0\\\", \\\"azureml-contrib-notebook\\\": \\\"1.19.0\\\", \\\"azureml-contrib-interpret\\\": \\\"1.19.0\\\", \\\"azureml-contrib-gbdt\\\": \\\"1.19.0\\\", \\\"azureml-contrib-fairness\\\": \\\"1.19.0\\\", \\\"azureml-contrib-dataset\\\": \\\"1.19.0\\\", \\\"azureml-cli-common\\\": \\\"1.19.0\\\", \\\"azureml-automl-runtime\\\": \\\"1.19.0\\\", \\\"azureml-automl-core\\\": \\\"1.19.0\\\", \\\"azureml-accel-models\\\": \\\"1.19.0\\\"}\", \"_aml_system_scenario_identification\": \"Remote.Parent\", \"ClientType\": \"SDK\", \"environment_cpu_name\": \"AzureML-AutoML\", \"environment_cpu_label\": \"prod\", \"environment_gpu_name\": \"AzureML-AutoML-GPU\", \"environment_gpu_label\": \"prod\", \"root_attribution\": \"automl\", \"attribution\": \"AutoML\", \"Orchestrator\": \"AutoML\", \"CancelUri\": \"https://southcentralus.experiments.azureml.net/jasmine/v1.0/subscriptions/61c5c3f0-6dc7-4ed9-a7f3-c704b20e3b30/resourceGroups/aml-quickstarts-132551/providers/Microsoft.MachineLearningServices/workspaces/quick-starts-ws-132551/experimentids/1bf7d9b9-873e-4e6e-a889-d7ae034f3813/cancel/AutoML_54122130-bfd5-4d79-a46b-f5733880b4a7\", \"ClientSdkVersion\": \"1.19.0\", \"snapshotId\": \"00000000-0000-0000-0000-000000000000\", \"SetupRunId\": \"AutoML_54122130-bfd5-4d79-a46b-f5733880b4a7_setup\", \"SetupRunContainerId\": \"dcid.AutoML_54122130-bfd5-4d79-a46b-f5733880b4a7_setup\", \"FeaturizationRunJsonPath\": \"featurizer_container.json\", \"FeaturizationRunId\": \"AutoML_54122130-bfd5-4d79-a46b-f5733880b4a7_featurize\", \"ProblemInfoJsonString\": \"{\\\"dataset_num_categorical\\\": 0, \\\"is_sparse\\\": false, \\\"subsampling\\\": false, \\\"dataset_classes\\\": 2, \\\"dataset_features\\\": 8, \\\"dataset_samples\\\": 614, \\\"single_frequency_class_detected\\\": false}\", \"ModelExplainRunId\": \"AutoML_54122130-bfd5-4d79-a46b-f5733880b4a7_ModelExplain\"}, \"tags\": {\"model_explain_run\": \"best_run\", \"_aml_system_azureml.automlComponent\": \"AutoML\", \"pipeline_id\": \"\", \"score\": \"\", \"predicted_cost\": \"\", \"fit_time\": \"\", \"training_percent\": \"\", \"iteration\": \"\", \"run_preprocessor\": \"\", \"run_algorithm\": \"\", \"dynamic_whitelisting_iterations\": \"<25>;<30>;<35>;\", \"automl_best_child_run_id\": \"AutoML_54122130-bfd5-4d79-a46b-f5733880b4a7_36\", \"model_explain_best_run_child_id\": \"AutoML_54122130-bfd5-4d79-a46b-f5733880b4a7_36\"}, \"end_time_utc\": \"2020-12-31T00:55:34.219313Z\", \"status\": \"Completed\", \"log_files\": {}, \"log_groups\": [], \"run_duration\": \"0:18:55\"}, \"child_runs\": [{\"run_id\": \"AutoML_54122130-bfd5-4d79-a46b-f5733880b4a7_1\", \"run_number\": 47, \"metric\": null, \"status\": \"Completed\", \"run_type\": \"azureml.scriptrun\", \"training_percent\": \"100\", \"start_time\": \"2020-12-31T00:42:15.596911Z\", \"end_time\": \"2020-12-31T00:43:09.764848Z\", \"created_time\": \"2020-12-31T00:39:01.109458Z\", \"created_time_dt\": \"2020-12-31T00:39:01.109458Z\", \"duration\": \"0:04:08\", \"iteration\": \"1\", \"goal\": \"accuracy_max\", \"run_name\": \"MaxAbsScaler, XGBoostClassifier\", \"run_properties\": \"copy=True\", \"primary_metric\": 0.74430894, \"best_metric\": 0.74595887}, {\"run_id\": \"AutoML_54122130-bfd5-4d79-a46b-f5733880b4a7_3\", \"run_number\": 48, \"metric\": null, \"status\": \"Completed\", \"run_type\": \"azureml.scriptrun\", \"training_percent\": \"100\", \"start_time\": \"2020-12-31T00:40:08.424187Z\", \"end_time\": \"2020-12-31T00:41:07.764056Z\", \"created_time\": \"2020-12-31T00:39:01.172991Z\", \"created_time_dt\": \"2020-12-31T00:39:01.172991Z\", \"duration\": \"0:02:06\", \"iteration\": \"3\", \"goal\": \"accuracy_max\", \"run_name\": \"MinMaxScaler, RandomForest\", \"run_properties\": \"copy=True, feature_range=(0, 1\", \"primary_metric\": 0.73942292, \"best_metric\": 0.74595887}, {\"run_id\": \"AutoML_54122130-bfd5-4d79-a46b-f5733880b4a7_2\", \"run_number\": 49, \"metric\": null, \"status\": \"Completed\", \"run_type\": \"azureml.scriptrun\", \"training_percent\": \"100\", \"start_time\": \"2020-12-31T00:39:11.94693Z\", \"end_time\": \"2020-12-31T00:40:05.487566Z\", \"created_time\": \"2020-12-31T00:39:01.173981Z\", \"created_time_dt\": \"2020-12-31T00:39:01.173981Z\", \"duration\": \"0:01:04\", \"iteration\": \"2\", \"goal\": \"accuracy_max\", \"run_name\": \"MinMaxScaler, RandomForest\", \"run_properties\": \"copy=True, feature_range=(0, 1\", \"primary_metric\": 0.73457676, \"best_metric\": 0.74595887}, {\"run_id\": \"AutoML_54122130-bfd5-4d79-a46b-f5733880b4a7_0\", \"run_number\": 50, \"metric\": null, \"status\": \"Completed\", \"run_type\": \"azureml.scriptrun\", \"training_percent\": \"100\", \"start_time\": \"2020-12-31T00:41:11.990345Z\", \"end_time\": \"2020-12-31T00:42:14.842914Z\", \"created_time\": \"2020-12-31T00:39:01.328433Z\", \"created_time_dt\": \"2020-12-31T00:39:01.328433Z\", \"duration\": \"0:03:13\", \"iteration\": \"0\", \"goal\": \"accuracy_max\", \"run_name\": \"MaxAbsScaler, LightGBM\", \"run_properties\": \"copy=True\", \"primary_metric\": 0.74595887, \"best_metric\": 0.74595887}, {\"run_id\": \"AutoML_54122130-bfd5-4d79-a46b-f5733880b4a7_4\", \"run_number\": 51, \"metric\": null, \"status\": \"Completed\", \"run_type\": \"azureml.scriptrun\", \"training_percent\": \"100\", \"start_time\": \"2020-12-31T00:42:55.038477Z\", \"end_time\": \"2020-12-31T00:46:34.677592Z\", \"created_time\": \"2020-12-31T00:40:10.199684Z\", \"created_time_dt\": \"2020-12-31T00:40:10.199684Z\", \"duration\": \"0:06:24\", \"iteration\": \"4\", \"goal\": \"accuracy_max\", \"run_name\": \"MinMaxScaler, RandomForest\", \"run_properties\": \"copy=True, feature_range=(0, 1\", \"primary_metric\": 0.75735693, \"best_metric\": 0.75735693}, {\"run_id\": \"AutoML_54122130-bfd5-4d79-a46b-f5733880b4a7_5\", \"run_number\": 52, \"metric\": null, \"status\": \"Completed\", \"run_type\": \"azureml.scriptrun\", \"training_percent\": \"100\", \"start_time\": \"2020-12-31T00:42:58.296165Z\", \"end_time\": \"2020-12-31T00:46:32.071576Z\", \"created_time\": \"2020-12-31T00:41:11.520624Z\", \"created_time_dt\": \"2020-12-31T00:41:11.520624Z\", \"duration\": \"0:05:20\", \"iteration\": \"5\", \"goal\": \"accuracy_max\", \"run_name\": \"MinMaxScaler, SVM\", \"run_properties\": \"copy=True, feature_range=(0, 1\", \"primary_metric\": 0.70191296, \"best_metric\": 0.75735693}, {\"run_id\": \"AutoML_54122130-bfd5-4d79-a46b-f5733880b4a7_6\", \"run_number\": 53, \"metric\": null, \"status\": \"Completed\", \"run_type\": \"azureml.scriptrun\", \"training_percent\": \"100\", \"start_time\": \"2020-12-31T00:42:58.152419Z\", \"end_time\": \"2020-12-31T00:46:36.343121Z\", \"created_time\": \"2020-12-31T00:42:18.717292Z\", \"created_time_dt\": \"2020-12-31T00:42:18.717292Z\", \"duration\": \"0:04:17\", \"iteration\": \"6\", \"goal\": \"accuracy_max\", \"run_name\": \"MinMaxScaler, SVM\", \"run_properties\": \"copy=True, feature_range=(0, 1\", \"primary_metric\": 0.68567671, \"best_metric\": 0.75735693}, {\"run_id\": \"AutoML_54122130-bfd5-4d79-a46b-f5733880b4a7_7\", \"run_number\": 54, \"metric\": null, \"status\": \"Completed\", \"run_type\": \"azureml.scriptrun\", \"training_percent\": \"100\", \"start_time\": \"2020-12-31T00:43:25.312757Z\", \"end_time\": \"2020-12-31T00:44:15.418442Z\", \"created_time\": \"2020-12-31T00:43:13.635397Z\", \"created_time_dt\": \"2020-12-31T00:43:13.635397Z\", \"duration\": \"0:01:01\", \"iteration\": \"7\", \"goal\": \"accuracy_max\", \"run_name\": \"SparseNormalizer, XGBoostClassifier\", \"run_properties\": \"<azureml.automl.runtime.shared.model_wrappers.SparseNormalizer object at 0x7fa92430c4a8\", \"primary_metric\": 0.66616451, \"best_metric\": 0.75735693}, {\"run_id\": \"AutoML_54122130-bfd5-4d79-a46b-f5733880b4a7_8\", \"run_number\": 55, \"metric\": null, \"status\": \"Completed\", \"run_type\": \"azureml.scriptrun\", \"training_percent\": \"100\", \"start_time\": \"2020-12-31T00:44:29.135933Z\", \"end_time\": \"2020-12-31T00:45:22.432787Z\", \"created_time\": \"2020-12-31T00:44:19.229128Z\", \"created_time_dt\": \"2020-12-31T00:44:19.229128Z\", \"duration\": \"0:01:03\", \"iteration\": \"8\", \"goal\": \"accuracy_max\", \"run_name\": \"MinMaxScaler, LogisticRegression\", \"run_properties\": \"copy=True, feature_range=(0, 1\", \"primary_metric\": 0.76381317, \"best_metric\": 0.76381317}, {\"run_id\": \"AutoML_54122130-bfd5-4d79-a46b-f5733880b4a7_9\", \"run_number\": 56, \"metric\": null, \"status\": \"Completed\", \"run_type\": \"azureml.scriptrun\", \"training_percent\": \"100\", \"start_time\": \"2020-12-31T00:45:37.451115Z\", \"end_time\": \"2020-12-31T00:46:32.19201Z\", \"created_time\": \"2020-12-31T00:45:24.821717Z\", \"created_time_dt\": \"2020-12-31T00:45:24.821717Z\", \"duration\": \"0:01:07\", \"iteration\": \"9\", \"goal\": \"accuracy_max\", \"run_name\": \"StandardScalerWrapper, RandomForest\", \"run_properties\": \"<azureml.automl.runtime.shared.model_wrappers.StandardScalerWrapper object at 0x7fa423cbc198\", \"primary_metric\": 0.73291089, \"best_metric\": 0.76381317}, {\"run_id\": \"AutoML_54122130-bfd5-4d79-a46b-f5733880b4a7_10\", \"run_number\": 57, \"metric\": null, \"status\": \"Completed\", \"run_type\": \"azureml.scriptrun\", \"training_percent\": \"100\", \"start_time\": \"2020-12-31T00:46:46.153882Z\", \"end_time\": \"2020-12-31T00:47:48.709931Z\", \"created_time\": \"2020-12-31T00:46:35.250202Z\", \"created_time_dt\": \"2020-12-31T00:46:35.250202Z\", \"duration\": \"0:01:13\", \"iteration\": \"10\", \"goal\": \"accuracy_max\", \"run_name\": \"MaxAbsScaler, ExtremeRandomTrees\", \"run_properties\": \"copy=True\", \"primary_metric\": 0.73938307, \"best_metric\": 0.76381317}, {\"run_id\": \"AutoML_54122130-bfd5-4d79-a46b-f5733880b4a7_11\", \"run_number\": 58, \"metric\": null, \"status\": \"Completed\", \"run_type\": \"azureml.scriptrun\", \"training_percent\": \"100\", \"start_time\": \"2020-12-31T00:46:45.825032Z\", \"end_time\": \"2020-12-31T00:47:48.456335Z\", \"created_time\": \"2020-12-31T00:46:35.312208Z\", \"created_time_dt\": \"2020-12-31T00:46:35.312208Z\", \"duration\": \"0:01:13\", \"iteration\": \"11\", \"goal\": \"accuracy_max\", \"run_name\": \"StandardScalerWrapper, LightGBM\", \"run_properties\": \"<azureml.automl.runtime.shared.model_wrappers.StandardScalerWrapper object at 0x7f84289fe908\", \"primary_metric\": 0.7426909, \"best_metric\": 0.76381317}, {\"run_id\": \"AutoML_54122130-bfd5-4d79-a46b-f5733880b4a7_13\", \"run_number\": 59, \"metric\": null, \"status\": \"Completed\", \"run_type\": \"azureml.scriptrun\", \"training_percent\": \"100\", \"start_time\": \"2020-12-31T00:46:51.10772Z\", \"end_time\": \"2020-12-31T00:47:51.914264Z\", \"created_time\": \"2020-12-31T00:46:39.243164Z\", \"created_time_dt\": \"2020-12-31T00:46:39.243164Z\", \"duration\": \"0:01:12\", \"iteration\": \"13\", \"goal\": \"accuracy_max\", \"run_name\": \"StandardScalerWrapper, LightGBM\", \"run_properties\": \"<azureml.automl.runtime.shared.model_wrappers.StandardScalerWrapper object at 0x7f953a8802b0\", \"primary_metric\": 0.74918699, \"best_metric\": 0.76381317}, {\"run_id\": \"AutoML_54122130-bfd5-4d79-a46b-f5733880b4a7_12\", \"run_number\": 60, \"metric\": null, \"status\": \"Completed\", \"run_type\": \"azureml.scriptrun\", \"training_percent\": \"100\", \"start_time\": \"2020-12-31T00:46:50.551853Z\", \"end_time\": \"2020-12-31T00:47:47.04738Z\", \"created_time\": \"2020-12-31T00:46:39.246776Z\", \"created_time_dt\": \"2020-12-31T00:46:39.246776Z\", \"duration\": \"0:01:07\", \"iteration\": \"12\", \"goal\": \"accuracy_max\", \"run_name\": \"SparseNormalizer, XGBoostClassifier\", \"run_properties\": \"<azureml.automl.runtime.shared.model_wrappers.SparseNormalizer object at 0x7f5c7e1b9048\", \"primary_metric\": 0.65793879, \"best_metric\": 0.76381317}, {\"run_id\": \"AutoML_54122130-bfd5-4d79-a46b-f5733880b4a7_14\", \"run_number\": 61, \"metric\": null, \"status\": \"Completed\", \"run_type\": \"azureml.scriptrun\", \"training_percent\": \"100\", \"start_time\": \"2020-12-31T00:48:00.793393Z\", \"end_time\": \"2020-12-31T00:49:09.372585Z\", \"created_time\": \"2020-12-31T00:47:49.085254Z\", \"created_time_dt\": \"2020-12-31T00:47:49.085254Z\", \"duration\": \"0:01:20\", \"iteration\": \"14\", \"goal\": \"accuracy_max\", \"run_name\": \"MinMaxScaler, LightGBM\", \"run_properties\": \"copy=True, feature_range=(0, 1\", \"primary_metric\": 0.758967, \"best_metric\": 0.76381317}, {\"run_id\": \"AutoML_54122130-bfd5-4d79-a46b-f5733880b4a7_15\", \"run_number\": 62, \"metric\": null, \"status\": \"Completed\", \"run_type\": \"azureml.scriptrun\", \"training_percent\": \"100\", \"start_time\": \"2020-12-31T00:48:07.179822Z\", \"end_time\": \"2020-12-31T00:49:01.760822Z\", \"created_time\": \"2020-12-31T00:47:53.398851Z\", \"created_time_dt\": \"2020-12-31T00:47:53.398851Z\", \"duration\": \"0:01:08\", \"iteration\": \"15\", \"goal\": \"accuracy_max\", \"run_name\": \"MaxAbsScaler, LightGBM\", \"run_properties\": \"copy=True\", \"primary_metric\": 0.73941495, \"best_metric\": 0.76381317}, {\"run_id\": \"AutoML_54122130-bfd5-4d79-a46b-f5733880b4a7_16\", \"run_number\": 63, \"metric\": null, \"status\": \"Completed\", \"run_type\": \"azureml.scriptrun\", \"training_percent\": \"100\", \"start_time\": \"2020-12-31T00:48:03.730867Z\", \"end_time\": \"2020-12-31T00:48:57.399416Z\", \"created_time\": \"2020-12-31T00:47:53.404592Z\", \"created_time_dt\": \"2020-12-31T00:47:53.404592Z\", \"duration\": \"0:01:03\", \"iteration\": \"16\", \"goal\": \"accuracy_max\", \"run_name\": \"RobustScaler, RandomForest\", \"run_properties\": \"copy=True, quantile_range=[25, 75], with_centering=True,\\n             with_scaling=True\", \"primary_metric\": 0.74758489, \"best_metric\": 0.76381317}, {\"run_id\": \"AutoML_54122130-bfd5-4d79-a46b-f5733880b4a7_17\", \"run_number\": 64, \"metric\": null, \"status\": \"Completed\", \"run_type\": \"azureml.scriptrun\", \"training_percent\": \"100\", \"start_time\": \"2020-12-31T00:48:09.972044Z\", \"end_time\": \"2020-12-31T00:49:05.773544Z\", \"created_time\": \"2020-12-31T00:47:58.68003Z\", \"created_time_dt\": \"2020-12-31T00:47:58.68003Z\", \"duration\": \"0:01:07\", \"iteration\": \"17\", \"goal\": \"accuracy_max\", \"run_name\": \"StandardScalerWrapper, LightGBM\", \"run_properties\": \"<azureml.automl.runtime.shared.model_wrappers.StandardScalerWrapper object at 0x7f748c3f8d30\", \"primary_metric\": 0.75084489, \"best_metric\": 0.76381317}, {\"run_id\": \"AutoML_54122130-bfd5-4d79-a46b-f5733880b4a7_18\", \"run_number\": 65, \"metric\": null, \"status\": \"Completed\", \"run_type\": \"azureml.scriptrun\", \"training_percent\": \"100\", \"start_time\": \"2020-12-31T00:49:11.817466Z\", \"end_time\": \"2020-12-31T00:50:00.578638Z\", \"created_time\": \"2020-12-31T00:48:59.322397Z\", \"created_time_dt\": \"2020-12-31T00:48:59.322397Z\", \"duration\": \"0:01:01\", \"iteration\": \"18\", \"goal\": \"accuracy_max\", \"run_name\": \"StandardScalerWrapper, LightGBM\", \"run_properties\": \"<azureml.automl.runtime.shared.model_wrappers.StandardScalerWrapper object at 0x7f2afb0e3ef0\", \"primary_metric\": 0.72965088, \"best_metric\": 0.76381317}, {\"run_id\": \"AutoML_54122130-bfd5-4d79-a46b-f5733880b4a7_19\", \"run_number\": 66, \"metric\": null, \"status\": \"Completed\", \"run_type\": \"azureml.scriptrun\", \"training_percent\": \"100\", \"start_time\": \"2020-12-31T00:49:17.142727Z\", \"end_time\": \"2020-12-31T00:50:08.826532Z\", \"created_time\": \"2020-12-31T00:49:03.794377Z\", \"created_time_dt\": \"2020-12-31T00:49:03.794377Z\", \"duration\": \"0:01:05\", \"iteration\": \"19\", \"goal\": \"accuracy_max\", \"run_name\": \"SparseNormalizer, XGBoostClassifier\", \"run_properties\": \"<azureml.automl.runtime.shared.model_wrappers.SparseNormalizer object at 0x7f5f595dd630\", \"primary_metric\": 0.66936075, \"best_metric\": 0.76381317}, {\"run_id\": \"AutoML_54122130-bfd5-4d79-a46b-f5733880b4a7_20\", \"run_number\": 67, \"metric\": null, \"status\": \"Completed\", \"run_type\": \"azureml.scriptrun\", \"training_percent\": \"100\", \"start_time\": \"2020-12-31T00:49:17.585808Z\", \"end_time\": \"2020-12-31T00:50:13.90192Z\", \"created_time\": \"2020-12-31T00:49:08.132389Z\", \"created_time_dt\": \"2020-12-31T00:49:08.132389Z\", \"duration\": \"0:01:05\", \"iteration\": \"20\", \"goal\": \"accuracy_max\", \"run_name\": \"MinMaxScaler, LightGBM\", \"run_properties\": \"copy=True, feature_range=(0, 1\", \"primary_metric\": 0.74269887, \"best_metric\": 0.76381317}, {\"run_id\": \"AutoML_54122130-bfd5-4d79-a46b-f5733880b4a7_21\", \"run_number\": 68, \"metric\": null, \"status\": \"Completed\", \"run_type\": \"azureml.scriptrun\", \"training_percent\": \"100\", \"start_time\": \"2020-12-31T00:49:24.364896Z\", \"end_time\": \"2020-12-31T00:50:15.993154Z\", \"created_time\": \"2020-12-31T00:49:11.068424Z\", \"created_time_dt\": \"2020-12-31T00:49:11.068424Z\", \"duration\": \"0:01:04\", \"iteration\": \"21\", \"goal\": \"accuracy_max\", \"run_name\": \"MaxAbsScaler, LightGBM\", \"run_properties\": \"copy=True\", \"primary_metric\": 0.73452096, \"best_metric\": 0.76381317}, {\"run_id\": \"AutoML_54122130-bfd5-4d79-a46b-f5733880b4a7_22\", \"run_number\": 69, \"metric\": null, \"status\": \"Completed\", \"run_type\": \"azureml.scriptrun\", \"training_percent\": \"100\", \"start_time\": \"2020-12-31T00:50:13.840533Z\", \"end_time\": \"2020-12-31T00:51:07.394144Z\", \"created_time\": \"2020-12-31T00:50:02.320863Z\", \"created_time_dt\": \"2020-12-31T00:50:02.320863Z\", \"duration\": \"0:01:05\", \"iteration\": \"22\", \"goal\": \"accuracy_max\", \"run_name\": \"RobustScaler, LightGBM\", \"run_properties\": \"copy=True, quantile_range=[10, 90], with_centering=True,\\n             with_scaling=True\", \"primary_metric\": 0.72798502, \"best_metric\": 0.76381317}, {\"run_id\": \"AutoML_54122130-bfd5-4d79-a46b-f5733880b4a7_23\", \"run_number\": 70, \"metric\": null, \"status\": \"Completed\", \"run_type\": \"azureml.scriptrun\", \"training_percent\": \"100\", \"start_time\": \"2020-12-31T00:50:22.620962Z\", \"end_time\": \"2020-12-31T00:51:12.944409Z\", \"created_time\": \"2020-12-31T00:50:10.550724Z\", \"created_time_dt\": \"2020-12-31T00:50:10.550724Z\", \"duration\": \"0:01:02\", \"iteration\": \"23\", \"goal\": \"accuracy_max\", \"run_name\": \"SparseNormalizer, XGBoostClassifier\", \"run_properties\": \"<azureml.automl.runtime.shared.model_wrappers.SparseNormalizer object at 0x7f601c49c668\", \"primary_metric\": 0.65145066, \"best_metric\": 0.76381317}, {\"run_id\": \"AutoML_54122130-bfd5-4d79-a46b-f5733880b4a7_24\", \"run_number\": 71, \"metric\": null, \"status\": \"Completed\", \"run_type\": \"azureml.scriptrun\", \"training_percent\": \"100\", \"start_time\": \"2020-12-31T00:50:26.993466Z\", \"end_time\": \"2020-12-31T00:51:18.328469Z\", \"created_time\": \"2020-12-31T00:50:15.499728Z\", \"created_time_dt\": \"2020-12-31T00:50:15.499728Z\", \"duration\": \"0:01:02\", \"iteration\": \"24\", \"goal\": \"accuracy_max\", \"run_name\": \"StandardScalerWrapper, LightGBM\", \"run_properties\": \"<azureml.automl.runtime.shared.model_wrappers.StandardScalerWrapper object at 0x7f230b2d7208\", \"primary_metric\": 0.74101706, \"best_metric\": 0.76381317}, {\"run_id\": \"AutoML_54122130-bfd5-4d79-a46b-f5733880b4a7_25\", \"run_number\": 72, \"metric\": null, \"status\": \"Completed\", \"run_type\": \"azureml.scriptrun\", \"training_percent\": \"100\", \"start_time\": \"2020-12-31T00:50:30.397943Z\", \"end_time\": \"2020-12-31T00:51:26.792424Z\", \"created_time\": \"2020-12-31T00:50:19.690505Z\", \"created_time_dt\": \"2020-12-31T00:50:19.690505Z\", \"duration\": \"0:01:07\", \"iteration\": \"25\", \"goal\": \"accuracy_max\", \"run_name\": \"StandardScalerWrapper, LogisticRegression\", \"run_properties\": \"<azureml.automl.runtime.shared.model_wrappers.StandardScalerWrapper object at 0x7f51d934ee10\", \"primary_metric\": 0.64003667, \"best_metric\": 0.76381317}, {\"run_id\": \"AutoML_54122130-bfd5-4d79-a46b-f5733880b4a7_26\", \"run_number\": 73, \"metric\": null, \"status\": \"Completed\", \"run_type\": \"azureml.scriptrun\", \"training_percent\": \"100\", \"start_time\": \"2020-12-31T00:51:21.286526Z\", \"end_time\": \"2020-12-31T00:52:20.614529Z\", \"created_time\": \"2020-12-31T00:51:09.55834Z\", \"created_time_dt\": \"2020-12-31T00:51:09.55834Z\", \"duration\": \"0:01:11\", \"iteration\": \"26\", \"goal\": \"accuracy_max\", \"run_name\": \"MaxAbsScaler, ExtremeRandomTrees\", \"run_properties\": \"copy=True\", \"primary_metric\": 0.72807269, \"best_metric\": 0.76381317}, {\"run_id\": \"AutoML_54122130-bfd5-4d79-a46b-f5733880b4a7_27\", \"run_number\": 74, \"metric\": null, \"status\": \"Completed\", \"run_type\": \"azureml.scriptrun\", \"training_percent\": \"100\", \"start_time\": \"2020-12-31T00:51:24.635787Z\", \"end_time\": \"2020-12-31T00:52:17.893343Z\", \"created_time\": \"2020-12-31T00:51:14.672709Z\", \"created_time_dt\": \"2020-12-31T00:51:14.672709Z\", \"duration\": \"0:01:03\", \"iteration\": \"27\", \"goal\": \"accuracy_max\", \"run_name\": \"MaxAbsScaler, ExtremeRandomTrees\", \"run_properties\": \"copy=True\", \"primary_metric\": 0.73943886, \"best_metric\": 0.76381317}, {\"run_id\": \"AutoML_54122130-bfd5-4d79-a46b-f5733880b4a7_28\", \"run_number\": 75, \"metric\": null, \"status\": \"Completed\", \"run_type\": \"azureml.scriptrun\", \"training_percent\": \"100\", \"start_time\": \"2020-12-31T00:51:32.074942Z\", \"end_time\": \"2020-12-31T00:52:22.983841Z\", \"created_time\": \"2020-12-31T00:51:20.281465Z\", \"created_time_dt\": \"2020-12-31T00:51:20.281465Z\", \"duration\": \"0:01:02\", \"iteration\": \"28\", \"goal\": \"accuracy_max\", \"run_name\": \"SparseNormalizer, LightGBM\", \"run_properties\": \"<azureml.automl.runtime.shared.model_wrappers.SparseNormalizer object at 0x7fb7adbc6b70\", \"primary_metric\": 0.64978479, \"best_metric\": 0.76381317}, {\"run_id\": \"AutoML_54122130-bfd5-4d79-a46b-f5733880b4a7_29\", \"run_number\": 76, \"metric\": null, \"status\": \"Completed\", \"run_type\": \"azureml.scriptrun\", \"training_percent\": \"100\", \"start_time\": \"2020-12-31T00:51:42.847306Z\", \"end_time\": \"2020-12-31T00:52:34.809766Z\", \"created_time\": \"2020-12-31T00:51:28.6537Z\", \"created_time_dt\": \"2020-12-31T00:51:28.6537Z\", \"duration\": \"0:01:06\", \"iteration\": \"29\", \"goal\": \"accuracy_max\", \"run_name\": \"MaxAbsScaler, LightGBM\", \"run_properties\": \"copy=True\", \"primary_metric\": 0.7132871, \"best_metric\": 0.76381317}, {\"run_id\": \"AutoML_54122130-bfd5-4d79-a46b-f5733880b4a7_30\", \"run_number\": 77, \"metric\": null, \"status\": \"Completed\", \"run_type\": \"azureml.scriptrun\", \"training_percent\": \"100\", \"start_time\": \"2020-12-31T00:52:32.513629Z\", \"end_time\": \"2020-12-31T00:53:33.402511Z\", \"created_time\": \"2020-12-31T00:52:20.750852Z\", \"created_time_dt\": \"2020-12-31T00:52:20.750852Z\", \"duration\": \"0:01:12\", \"iteration\": \"30\", \"goal\": \"accuracy_max\", \"run_name\": \"PCA, LogisticRegression\", \"run_properties\": \"copy=True, iterated_power='auto', n_components=0.7521052631578947,\\n    random_state=None, svd_solver='auto', tol=0.0, whiten=True\", \"primary_metric\": 0.64003667, \"best_metric\": 0.76381317}, {\"run_id\": \"AutoML_54122130-bfd5-4d79-a46b-f5733880b4a7_31\", \"run_number\": 78, \"metric\": null, \"status\": \"Completed\", \"run_type\": \"azureml.scriptrun\", \"training_percent\": \"100\", \"start_time\": \"2020-12-31T00:52:35.686648Z\", \"end_time\": \"2020-12-31T00:53:24.510416Z\", \"created_time\": \"2020-12-31T00:52:24.037534Z\", \"created_time_dt\": \"2020-12-31T00:52:24.037534Z\", \"duration\": \"0:01:00\", \"iteration\": \"31\", \"goal\": \"accuracy_max\", \"run_name\": \"MaxAbsScaler, LightGBM\", \"run_properties\": \"copy=True\", \"primary_metric\": 0.73942292, \"best_metric\": 0.76381317}, {\"run_id\": \"AutoML_54122130-bfd5-4d79-a46b-f5733880b4a7_32\", \"run_number\": 79, \"metric\": null, \"status\": \"Completed\", \"run_type\": \"azureml.scriptrun\", \"training_percent\": \"100\", \"start_time\": \"2020-12-31T00:52:39.085496Z\", \"end_time\": \"2020-12-31T00:53:37.159206Z\", \"created_time\": \"2020-12-31T00:52:27.392917Z\", \"created_time_dt\": \"2020-12-31T00:52:27.392917Z\", \"duration\": \"0:01:09\", \"iteration\": \"32\", \"goal\": \"accuracy_max\", \"run_name\": \"StandardScalerWrapper, LightGBM\", \"run_properties\": \"<azureml.automl.runtime.shared.model_wrappers.StandardScalerWrapper object at 0x7f6200975898\", \"primary_metric\": 0.7345369, \"best_metric\": 0.76381317}, {\"run_id\": \"AutoML_54122130-bfd5-4d79-a46b-f5733880b4a7_33\", \"run_number\": 80, \"metric\": null, \"status\": \"Canceled\", \"run_type\": \"azureml.scriptrun\", \"training_percent\": \"100\", \"start_time\": \"2020-12-31T00:52:48.234203Z\", \"end_time\": \"2020-12-31T00:53:40.188762Z\", \"created_time\": \"2020-12-31T00:52:36.54563Z\", \"created_time_dt\": \"2020-12-31T00:52:36.54563Z\", \"duration\": \"0:01:03\", \"iteration\": \"33\", \"goal\": \"accuracy_max\", \"run_name\": \"StandardScalerWrapper, KNN\", \"run_properties\": \"<azureml.automl.runtime.shared.model_wrappers.StandardScalerWrapper object at 0x7fab7091c6d8\", \"primary_metric\": 0.73126096, \"best_metric\": 0.76381317}, {\"run_id\": \"AutoML_54122130-bfd5-4d79-a46b-f5733880b4a7_34\", \"run_number\": 81, \"metric\": null, \"status\": \"Canceled\", \"run_type\": \"azureml.scriptrun\", \"training_percent\": \"100\", \"start_time\": \"2020-12-31T00:53:36.948131Z\", \"end_time\": \"2020-12-31T00:53:44.417957Z\", \"created_time\": \"2020-12-31T00:53:26.452612Z\", \"created_time_dt\": \"2020-12-31T00:53:26.452612Z\", \"duration\": \"0:00:17\", \"iteration\": \"34\", \"goal\": null, \"run_name\": \"Canceled\", \"run_properties\": null}, {\"run_id\": \"AutoML_54122130-bfd5-4d79-a46b-f5733880b4a7_35\", \"run_number\": 82, \"metric\": null, \"status\": \"Canceled\", \"run_type\": \"azureml.scriptrun\", \"training_percent\": \"100\", \"start_time\": \"2020-12-31T00:53:36.401416Z\", \"end_time\": \"2020-12-31T00:53:51.96891Z\", \"created_time\": \"2020-12-31T00:53:36.401416Z\", \"created_time_dt\": \"2020-12-31T00:53:36.401416Z\", \"duration\": \"0:00:15\", \"iteration\": \"35\", \"goal\": null, \"run_name\": \"Canceled\", \"run_properties\": null}, {\"run_id\": \"AutoML_54122130-bfd5-4d79-a46b-f5733880b4a7_36\", \"run_number\": 83, \"metric\": null, \"status\": \"Completed\", \"run_type\": \"azureml.scriptrun\", \"training_percent\": \"100\", \"start_time\": \"2020-12-31T00:54:05.101364Z\", \"end_time\": \"2020-12-31T00:55:25.575Z\", \"created_time\": \"2020-12-31T00:53:52.758817Z\", \"created_time_dt\": \"2020-12-31T00:53:52.758817Z\", \"duration\": \"0:01:32\", \"iteration\": \"36\", \"goal\": \"accuracy_max\", \"run_name\": \"VotingEnsemble\", \"run_properties\": \"classification_labels=None,\\n                              estimators=[('8',\\n                                           Pipeline(memory=None,\\n                                                    steps=[('minmaxscaler',\\n                                                            MinMaxScaler(copy=True,\\n                                                                         feature_range=(0,\\n                                                                                        1\", \"primary_metric\": 0.77851108, \"best_metric\": 0.77851108}], \"children_metrics\": {\"categories\": [0], \"series\": {\"AUC_micro\": [{\"categories\": [\"0\", \"1\", \"2\", \"3\", \"4\", \"5\", \"6\", \"7\", \"8\", \"9\", \"10\", \"11\", \"12\", \"13\", \"14\", \"15\", \"16\", \"17\", \"18\", \"19\", \"20\", \"21\", \"22\", \"23\", \"24\", \"25\", \"26\", \"27\", \"28\", \"29\", \"30\", \"31\", \"32\", \"33\", \"36\"], \"mode\": \"markers\", \"name\": \"AUC_micro\", \"stepped\": false, \"type\": \"scatter\", \"data\": [0.8188072049806498, 0.8286293876125527, 0.8253444586475572, 0.8205836722677858, 0.8330509589845668, 0.7802459875444114, 0.7573315435924636, 0.7357307453859133, 0.8367423777200047, 0.8316132790108108, 0.8281568524148685, 0.8401968556763239, 0.7251972164719819, 0.8399074527689323, 0.8353138569623804, 0.833234169799852, 0.8437414483042908, 0.8374074003554056, 0.8142238799381832, 0.7391623830520805, 0.8310591452912869, 0.8243927810983177, 0.8108152192185268, 0.7156272913764387, 0.8256472700786309, 0.6691526549109416, 0.8215347843227215, 0.822479251676642, 0.7219992057158876, 0.8052518797777788, 0.6843367453205014, 0.8243475289747694, 0.8234946183315603, 0.7973305779447083, 0.8411727772452564]}, {\"categories\": [\"0\", \"1\", \"2\", \"3\", \"4\", \"5\", \"6\", \"7\", \"8\", \"9\", \"10\", \"11\", \"12\", \"13\", \"14\", \"15\", \"16\", \"17\", \"18\", \"19\", \"20\", \"21\", \"22\", \"23\", \"24\", \"25\", \"26\", \"27\", \"28\", \"29\", \"30\", \"31\", \"32\", \"33\", \"36\"], \"mode\": \"lines\", \"name\": \"AUC_micro_max\", \"stepped\": true, \"type\": \"scatter\", \"data\": [0.8188072049806498, 0.8286293876125527, 0.8286293876125527, 0.8286293876125527, 0.8330509589845668, 0.8330509589845668, 0.8330509589845668, 0.8330509589845668, 0.8367423777200047, 0.8367423777200047, 0.8367423777200047, 0.8401968556763239, 0.8401968556763239, 0.8401968556763239, 0.8401968556763239, 0.8401968556763239, 0.8437414483042908, 0.8437414483042908, 0.8437414483042908, 0.8437414483042908, 0.8437414483042908, 0.8437414483042908, 0.8437414483042908, 0.8437414483042908, 0.8437414483042908, 0.8437414483042908, 0.8437414483042908, 0.8437414483042908, 0.8437414483042908, 0.8437414483042908, 0.8437414483042908, 0.8437414483042908, 0.8437414483042908, 0.8437414483042908, 0.8437414483042908]}], \"AUC_macro\": [{\"categories\": [\"0\", \"1\", \"2\", \"3\", \"4\", \"5\", \"6\", \"7\", \"8\", \"9\", \"10\", \"11\", \"12\", \"13\", \"14\", \"15\", \"16\", \"17\", \"18\", \"19\", \"20\", \"21\", \"22\", \"23\", \"24\", \"25\", \"26\", \"27\", \"28\", \"29\", \"30\", \"31\", \"32\", \"33\", \"36\"], \"mode\": \"markers\", \"name\": \"AUC_macro\", \"stepped\": false, \"type\": \"scatter\", \"data\": [0.801557560850414, 0.8153530249017112, 0.8073977696084217, 0.8028471962496467, 0.8199045264031337, 0.7544927962602568, 0.7261579824789108, 0.6964688945750915, 0.8183184437422337, 0.8222816193401298, 0.8237868106279445, 0.8252688249182798, 0.6787966309732155, 0.8248018413843915, 0.8177429715578991, 0.8156523061340021, 0.8272323285773138, 0.8191180260635417, 0.8174740433162512, 0.6983885115048302, 0.8128743512952182, 0.8219448617516546, 0.818279756738009, 0.6558421418200523, 0.8186777034306413, 0.7006697861069617, 0.8279492851525267, 0.8261390599459751, 0.6770054331462555, 0.7809032081856397, 0.5968349023555114, 0.8015600062975626, 0.8131606448100478, 0.7703724904775445, 0.8249380978587766]}, {\"categories\": [\"0\", \"1\", \"2\", \"3\", \"4\", \"5\", \"6\", \"7\", \"8\", \"9\", \"10\", \"11\", \"12\", \"13\", \"14\", \"15\", \"16\", \"17\", \"18\", \"19\", \"20\", \"21\", \"22\", \"23\", \"24\", \"25\", \"26\", \"27\", \"28\", \"29\", \"30\", \"31\", \"32\", \"33\", \"36\"], \"mode\": \"lines\", \"name\": \"AUC_macro_max\", \"stepped\": true, \"type\": \"scatter\", \"data\": [0.801557560850414, 0.8153530249017112, 0.8153530249017112, 0.8153530249017112, 0.8199045264031337, 0.8199045264031337, 0.8199045264031337, 0.8199045264031337, 0.8199045264031337, 0.8222816193401298, 0.8237868106279445, 0.8252688249182798, 0.8252688249182798, 0.8252688249182798, 0.8252688249182798, 0.8252688249182798, 0.8272323285773138, 0.8272323285773138, 0.8272323285773138, 0.8272323285773138, 0.8272323285773138, 0.8272323285773138, 0.8272323285773138, 0.8272323285773138, 0.8272323285773138, 0.8272323285773138, 0.8279492851525267, 0.8279492851525267, 0.8279492851525267, 0.8279492851525267, 0.8279492851525267, 0.8279492851525267, 0.8279492851525267, 0.8279492851525267, 0.8279492851525267]}], \"average_precision_score_micro\": [{\"categories\": [\"0\", \"1\", \"2\", \"3\", \"4\", \"5\", \"6\", \"7\", \"8\", \"9\", \"10\", \"11\", \"12\", \"13\", \"14\", \"15\", \"16\", \"17\", \"18\", \"19\", \"20\", \"21\", \"22\", \"23\", \"24\", \"25\", \"26\", \"27\", \"28\", \"29\", \"30\", \"31\", \"32\", \"33\", \"36\"], \"mode\": \"markers\", \"name\": \"average_precision_score_micro\", \"stepped\": false, \"type\": \"scatter\", \"data\": [0.8166117860170772, 0.8275879185031454, 0.8245811394809343, 0.8227804195672893, 0.830404132305211, 0.7660231892911381, 0.745933018922015, 0.7347457142184837, 0.8270040399321106, 0.8345590081805178, 0.8333674020821679, 0.8423482849102558, 0.7183103262799211, 0.8425566836042128, 0.8344920918116362, 0.8344928816458186, 0.8456021611767528, 0.8351900313032212, 0.8175547512510782, 0.7385110921231127, 0.8323804216341957, 0.8267290509350188, 0.8144795517787146, 0.7103529973193036, 0.8282227402029148, 0.642809342223434, 0.823459891661288, 0.8235685844391631, 0.7231145813915685, 0.8036871551941639, 0.6787993858855393, 0.8265159333660831, 0.8266950121651355, 0.782265226446445, 0.8411308691512475]}, {\"categories\": [\"0\", \"1\", \"2\", \"3\", \"4\", \"5\", \"6\", \"7\", \"8\", \"9\", \"10\", \"11\", \"12\", \"13\", \"14\", \"15\", \"16\", \"17\", \"18\", \"19\", \"20\", \"21\", \"22\", \"23\", \"24\", \"25\", \"26\", \"27\", \"28\", \"29\", \"30\", \"31\", \"32\", \"33\", \"36\"], \"mode\": \"lines\", \"name\": \"average_precision_score_micro_max\", \"stepped\": true, \"type\": \"scatter\", \"data\": [0.8166117860170772, 0.8275879185031454, 0.8275879185031454, 0.8275879185031454, 0.830404132305211, 0.830404132305211, 0.830404132305211, 0.830404132305211, 0.830404132305211, 0.8345590081805178, 0.8345590081805178, 0.8423482849102558, 0.8423482849102558, 0.8425566836042128, 0.8425566836042128, 0.8425566836042128, 0.8456021611767528, 0.8456021611767528, 0.8456021611767528, 0.8456021611767528, 0.8456021611767528, 0.8456021611767528, 0.8456021611767528, 0.8456021611767528, 0.8456021611767528, 0.8456021611767528, 0.8456021611767528, 0.8456021611767528, 0.8456021611767528, 0.8456021611767528, 0.8456021611767528, 0.8456021611767528, 0.8456021611767528, 0.8456021611767528, 0.8456021611767528]}], \"AUC_weighted\": [{\"categories\": [\"0\", \"1\", \"2\", \"3\", \"4\", \"5\", \"6\", \"7\", \"8\", \"9\", \"10\", \"11\", \"12\", \"13\", \"14\", \"15\", \"16\", \"17\", \"18\", \"19\", \"20\", \"21\", \"22\", \"23\", \"24\", \"25\", \"26\", \"27\", \"28\", \"29\", \"30\", \"31\", \"32\", \"33\", \"36\"], \"mode\": \"markers\", \"name\": \"AUC_weighted\", \"stepped\": false, \"type\": \"scatter\", \"data\": [0.801557560850414, 0.8153530249017112, 0.8073977696084217, 0.8028471962496467, 0.8199045264031337, 0.7544927962602568, 0.7261579824789108, 0.6964688945750913, 0.8183184437422338, 0.8222816193401298, 0.8237868106279445, 0.8252688249182798, 0.6787966309732155, 0.8248018413843917, 0.8177429715578991, 0.8156523061340021, 0.8272323285773138, 0.8191180260635416, 0.8174740433162513, 0.6983885115048302, 0.8128743512952181, 0.8219448617516546, 0.818279756738009, 0.6558421418200523, 0.8186777034306414, 0.7006697861069618, 0.8279492851525269, 0.8261390599459751, 0.6770054331462555, 0.7809032081856397, 0.5968349023555114, 0.8015600062975626, 0.8131606448100478, 0.7703724904775445, 0.8249380978587766]}, {\"categories\": [\"0\", \"1\", \"2\", \"3\", \"4\", \"5\", \"6\", \"7\", \"8\", \"9\", \"10\", \"11\", \"12\", \"13\", \"14\", \"15\", \"16\", \"17\", \"18\", \"19\", \"20\", \"21\", \"22\", \"23\", \"24\", \"25\", \"26\", \"27\", \"28\", \"29\", \"30\", \"31\", \"32\", \"33\", \"36\"], \"mode\": \"lines\", \"name\": \"AUC_weighted_max\", \"stepped\": true, \"type\": \"scatter\", \"data\": [0.801557560850414, 0.8153530249017112, 0.8153530249017112, 0.8153530249017112, 0.8199045264031337, 0.8199045264031337, 0.8199045264031337, 0.8199045264031337, 0.8199045264031337, 0.8222816193401298, 0.8237868106279445, 0.8252688249182798, 0.8252688249182798, 0.8252688249182798, 0.8252688249182798, 0.8252688249182798, 0.8272323285773138, 0.8272323285773138, 0.8272323285773138, 0.8272323285773138, 0.8272323285773138, 0.8272323285773138, 0.8272323285773138, 0.8272323285773138, 0.8272323285773138, 0.8272323285773138, 0.8279492851525269, 0.8279492851525269, 0.8279492851525269, 0.8279492851525269, 0.8279492851525269, 0.8279492851525269, 0.8279492851525269, 0.8279492851525269, 0.8279492851525269]}], \"average_precision_score_weighted\": [{\"categories\": [\"0\", \"1\", \"2\", \"3\", \"4\", \"5\", \"6\", \"7\", \"8\", \"9\", \"10\", \"11\", \"12\", \"13\", \"14\", \"15\", \"16\", \"17\", \"18\", \"19\", \"20\", \"21\", \"22\", \"23\", \"24\", \"25\", \"26\", \"27\", \"28\", \"29\", \"30\", \"31\", \"32\", \"33\", \"36\"], \"mode\": \"markers\", \"name\": \"average_precision_score_weighted\", \"stepped\": false, \"type\": \"scatter\", \"data\": [0.8002373361791034, 0.8147330219387596, 0.8118290229653362, 0.809893879337463, 0.820843434384456, 0.7558031386745737, 0.7343560092009787, 0.7126411212707939, 0.8200174932822226, 0.8221465899066346, 0.8310568257802763, 0.8325791159991959, 0.6917851714353606, 0.831162320224286, 0.8217282820827346, 0.8224347282147654, 0.8337452502863155, 0.8270645587294311, 0.8222168851353787, 0.7171507731184011, 0.8212234183736212, 0.8272040853317733, 0.8222884072448998, 0.6795805562807451, 0.8247361315773588, 0.7019169405170042, 0.833384841970101, 0.8303492732453769, 0.6927678682841233, 0.792523199636145, 0.6394770648462987, 0.8154747738455378, 0.820691144507934, 0.7663301225319122, 0.8289015405661234]}, {\"categories\": [\"0\", \"1\", \"2\", \"3\", \"4\", \"5\", \"6\", \"7\", \"8\", \"9\", \"10\", \"11\", \"12\", \"13\", \"14\", \"15\", \"16\", \"17\", \"18\", \"19\", \"20\", \"21\", \"22\", \"23\", \"24\", \"25\", \"26\", \"27\", \"28\", \"29\", \"30\", \"31\", \"32\", \"33\", \"36\"], \"mode\": \"lines\", \"name\": \"average_precision_score_weighted_max\", \"stepped\": true, \"type\": \"scatter\", \"data\": [0.8002373361791034, 0.8147330219387596, 0.8147330219387596, 0.8147330219387596, 0.820843434384456, 0.820843434384456, 0.820843434384456, 0.820843434384456, 0.820843434384456, 0.8221465899066346, 0.8310568257802763, 0.8325791159991959, 0.8325791159991959, 0.8325791159991959, 0.8325791159991959, 0.8325791159991959, 0.8337452502863155, 0.8337452502863155, 0.8337452502863155, 0.8337452502863155, 0.8337452502863155, 0.8337452502863155, 0.8337452502863155, 0.8337452502863155, 0.8337452502863155, 0.8337452502863155, 0.8337452502863155, 0.8337452502863155, 0.8337452502863155, 0.8337452502863155, 0.8337452502863155, 0.8337452502863155, 0.8337452502863155, 0.8337452502863155, 0.8337452502863155]}], \"f1_score_weighted\": [{\"categories\": [\"0\", \"1\", \"2\", \"3\", \"4\", \"5\", \"6\", \"7\", \"8\", \"9\", \"10\", \"11\", \"12\", \"13\", \"14\", \"15\", \"16\", \"17\", \"18\", \"19\", \"20\", \"21\", \"22\", \"23\", \"24\", \"25\", \"26\", \"27\", \"28\", \"29\", \"30\", \"31\", \"32\", \"33\", \"36\"], \"mode\": \"markers\", \"name\": \"f1_score_weighted\", \"stepped\": false, \"type\": \"scatter\", \"data\": [0.7437922628335389, 0.7407599038402416, 0.7297171197555214, 0.7308822278331061, 0.758290611843328, 0.6727191943161032, 0.6505646954768304, 0.6530759341688741, 0.7537023572349505, 0.7211044026476321, 0.717666960565207, 0.7349452106648795, 0.6428338079626865, 0.7400866321538562, 0.7496050839991462, 0.7317326068366151, 0.739201848452561, 0.7451470903020438, 0.6972563971871776, 0.6590298759823163, 0.7375527035543742, 0.7080034770967077, 0.688787430977901, 0.6142181822524758, 0.7182257214942417, 0.6469177735047114, 0.7329969604711155, 0.7438658488577584, 0.619892394366191, 0.7074895523017578, 0.502633016450143, 0.7344625315981572, 0.7096197358945836, 0.7209233471758084, 0.7728393751898391]}, {\"categories\": [\"0\", \"1\", \"2\", \"3\", \"4\", \"5\", \"6\", \"7\", \"8\", \"9\", \"10\", \"11\", \"12\", \"13\", \"14\", \"15\", \"16\", \"17\", \"18\", \"19\", \"20\", \"21\", \"22\", \"23\", \"24\", \"25\", \"26\", \"27\", \"28\", \"29\", \"30\", \"31\", \"32\", \"33\", \"36\"], \"mode\": \"lines\", \"name\": \"f1_score_weighted_max\", \"stepped\": true, \"type\": \"scatter\", \"data\": [0.7437922628335389, 0.7437922628335389, 0.7437922628335389, 0.7437922628335389, 0.758290611843328, 0.758290611843328, 0.758290611843328, 0.758290611843328, 0.758290611843328, 0.758290611843328, 0.758290611843328, 0.758290611843328, 0.758290611843328, 0.758290611843328, 0.758290611843328, 0.758290611843328, 0.758290611843328, 0.758290611843328, 0.758290611843328, 0.758290611843328, 0.758290611843328, 0.758290611843328, 0.758290611843328, 0.758290611843328, 0.758290611843328, 0.758290611843328, 0.758290611843328, 0.758290611843328, 0.758290611843328, 0.758290611843328, 0.758290611843328, 0.758290611843328, 0.758290611843328, 0.758290611843328, 0.7728393751898391]}], \"matthews_correlation\": [{\"categories\": [\"0\", \"1\", \"2\", \"3\", \"4\", \"5\", \"6\", \"7\", \"8\", \"9\", \"10\", \"11\", \"12\", \"13\", \"14\", \"15\", \"16\", \"17\", \"18\", \"19\", \"20\", \"21\", \"22\", \"23\", \"24\", \"25\", \"26\", \"27\", \"28\", \"29\", \"30\", \"31\", \"32\", \"33\", \"36\"], \"mode\": \"markers\", \"name\": \"matthews_correlation\", \"stepped\": false, \"type\": \"scatter\", \"data\": [0.443721955771977, 0.43811083875512713, 0.41261860543628587, 0.42446628966353916, 0.4801744657918133, 0.3107455006874959, 0.27355085400506435, 0.24296190962735786, 0.47382657288711466, 0.39738509137216643, 0.4085192339035899, 0.42301397358324727, 0.2197898227954219, 0.43831337946616206, 0.4575276045999835, 0.41817403056116015, 0.435822226780775, 0.44542397593479754, 0.384641533100722, 0.25221285170494284, 0.43078343289554, 0.39843758018114567, 0.38325755182516846, 0.1681790820161737, 0.4123373098698007, 0.30489611136406175, 0.45772804952071616, 0.4777606200885068, 0.17755106184050304, 0.36205281692046, 0.008385150154308898, 0.4205458591964532, 0.39503819000123097, 0.39445723443688746, 0.5080849569207356]}, {\"categories\": [\"0\", \"1\", \"2\", \"3\", \"4\", \"5\", \"6\", \"7\", \"8\", \"9\", \"10\", \"11\", \"12\", \"13\", \"14\", \"15\", \"16\", \"17\", \"18\", \"19\", \"20\", \"21\", \"22\", \"23\", \"24\", \"25\", \"26\", \"27\", \"28\", \"29\", \"30\", \"31\", \"32\", \"33\", \"36\"], \"mode\": \"lines\", \"name\": \"matthews_correlation_max\", \"stepped\": true, \"type\": \"scatter\", \"data\": [0.443721955771977, 0.443721955771977, 0.443721955771977, 0.443721955771977, 0.4801744657918133, 0.4801744657918133, 0.4801744657918133, 0.4801744657918133, 0.4801744657918133, 0.4801744657918133, 0.4801744657918133, 0.4801744657918133, 0.4801744657918133, 0.4801744657918133, 0.4801744657918133, 0.4801744657918133, 0.4801744657918133, 0.4801744657918133, 0.4801744657918133, 0.4801744657918133, 0.4801744657918133, 0.4801744657918133, 0.4801744657918133, 0.4801744657918133, 0.4801744657918133, 0.4801744657918133, 0.4801744657918133, 0.4801744657918133, 0.4801744657918133, 0.4801744657918133, 0.4801744657918133, 0.4801744657918133, 0.4801744657918133, 0.4801744657918133, 0.5080849569207356]}], \"log_loss\": [{\"categories\": [\"0\", \"1\", \"2\", \"3\", \"4\", \"5\", \"6\", \"7\", \"8\", \"9\", \"10\", \"11\", \"12\", \"13\", \"14\", \"15\", \"16\", \"17\", \"18\", \"19\", \"20\", \"21\", \"22\", \"23\", \"24\", \"25\", \"26\", \"27\", \"28\", \"29\", \"30\", \"31\", \"32\", \"33\", \"36\"], \"mode\": \"markers\", \"name\": \"log_loss\", \"stepped\": false, \"type\": \"scatter\", \"data\": [0.6201588010501355, 0.5256130569555227, 0.5571808948443451, 0.5159049988728347, 0.5531491733859176, 0.5682576622918503, 0.5894086799308408, 0.6405331070504899, 0.5034721269410246, 0.5134102193368064, 0.5272354730197701, 0.49185623052007216, 0.6125436688912074, 0.4927683283999098, 0.512231455130597, 0.5007908058225848, 0.49356860006528097, 0.5061125294590676, 0.5480841801734698, 0.5978338441074872, 0.5073300696040599, 0.5350821237539249, 0.5524654899925568, 0.6171853607092538, 0.5281785941803506, 0.6736871917183667, 0.5712952240033095, 0.5364867320332732, 0.6077307696033448, 0.5756912098675183, 0.6495876126972778, 0.5119710210159479, 0.5366804398011756, 1.0621482050036468, 0.49983197586969014]}, {\"categories\": [\"0\", \"1\", \"2\", \"3\", \"4\", \"5\", \"6\", \"7\", \"8\", \"9\", \"10\", \"11\", \"12\", \"13\", \"14\", \"15\", \"16\", \"17\", \"18\", \"19\", \"20\", \"21\", \"22\", \"23\", \"24\", \"25\", \"26\", \"27\", \"28\", \"29\", \"30\", \"31\", \"32\", \"33\", \"36\"], \"mode\": \"lines\", \"name\": \"log_loss_min\", \"stepped\": true, \"type\": \"scatter\", \"data\": [0.6201588010501355, 0.5256130569555227, 0.5256130569555227, 0.5159049988728347, 0.5159049988728347, 0.5159049988728347, 0.5159049988728347, 0.5159049988728347, 0.5034721269410246, 0.5034721269410246, 0.5034721269410246, 0.49185623052007216, 0.49185623052007216, 0.49185623052007216, 0.49185623052007216, 0.49185623052007216, 0.49185623052007216, 0.49185623052007216, 0.49185623052007216, 0.49185623052007216, 0.49185623052007216, 0.49185623052007216, 0.49185623052007216, 0.49185623052007216, 0.49185623052007216, 0.49185623052007216, 0.49185623052007216, 0.49185623052007216, 0.49185623052007216, 0.49185623052007216, 0.49185623052007216, 0.49185623052007216, 0.49185623052007216, 0.49185623052007216, 0.49185623052007216]}], \"f1_score_micro\": [{\"categories\": [\"0\", \"1\", \"2\", \"3\", \"4\", \"5\", \"6\", \"7\", \"8\", \"9\", \"10\", \"11\", \"12\", \"13\", \"14\", \"15\", \"16\", \"17\", \"18\", \"19\", \"20\", \"21\", \"22\", \"23\", \"24\", \"25\", \"26\", \"27\", \"28\", \"29\", \"30\", \"31\", \"32\", \"33\", \"36\"], \"mode\": \"markers\", \"name\": \"f1_score_micro\", \"stepped\": false, \"type\": \"scatter\", \"data\": [0.7459588713534194, 0.7443089430894309, 0.7345767575322811, 0.7394229236410009, 0.7573569265104415, 0.7019129603060735, 0.6856767097082734, 0.6661645145863223, 0.7638131675434402, 0.7329108879324088, 0.7393830703012912, 0.7426908974972103, 0.6579387852702057, 0.7491869918699187, 0.7589670014347204, 0.7394149529730591, 0.747584887613582, 0.7508448908018491, 0.7296508847441415, 0.6693607524310536, 0.7426988681651522, 0.7345209628566874, 0.7279850151442692, 0.6514506615654393, 0.7410170572293958, 0.6400366650725331, 0.7280726924916308, 0.739438864976885, 0.6497847919655667, 0.7132871034592698, 0.6400366650725331, 0.7394229236410009, 0.7345369041925713, 0.7312609596684202, 0.7785110792284393]}, {\"categories\": [\"0\", \"1\", \"2\", \"3\", \"4\", \"5\", \"6\", \"7\", \"8\", \"9\", \"10\", \"11\", \"12\", \"13\", \"14\", \"15\", \"16\", \"17\", \"18\", \"19\", \"20\", \"21\", \"22\", \"23\", \"24\", \"25\", \"26\", \"27\", \"28\", \"29\", \"30\", \"31\", \"32\", \"33\", \"36\"], \"mode\": \"lines\", \"name\": \"f1_score_micro_max\", \"stepped\": true, \"type\": \"scatter\", \"data\": [0.7459588713534194, 0.7459588713534194, 0.7459588713534194, 0.7459588713534194, 0.7573569265104415, 0.7573569265104415, 0.7573569265104415, 0.7573569265104415, 0.7638131675434402, 0.7638131675434402, 0.7638131675434402, 0.7638131675434402, 0.7638131675434402, 0.7638131675434402, 0.7638131675434402, 0.7638131675434402, 0.7638131675434402, 0.7638131675434402, 0.7638131675434402, 0.7638131675434402, 0.7638131675434402, 0.7638131675434402, 0.7638131675434402, 0.7638131675434402, 0.7638131675434402, 0.7638131675434402, 0.7638131675434402, 0.7638131675434402, 0.7638131675434402, 0.7638131675434402, 0.7638131675434402, 0.7638131675434402, 0.7638131675434402, 0.7638131675434402, 0.7785110792284393]}], \"f1_score_macro\": [{\"categories\": [\"0\", \"1\", \"2\", \"3\", \"4\", \"5\", \"6\", \"7\", \"8\", \"9\", \"10\", \"11\", \"12\", \"13\", \"14\", \"15\", \"16\", \"17\", \"18\", \"19\", \"20\", \"21\", \"22\", \"23\", \"24\", \"25\", \"26\", \"27\", \"28\", \"29\", \"30\", \"31\", \"32\", \"33\", \"36\"], \"mode\": \"markers\", \"name\": \"f1_score_macro\", \"stepped\": false, \"type\": \"scatter\", \"data\": [0.7197014088315093, 0.7153963252134389, 0.7022122718893465, 0.7017337842394896, 0.7386842961733104, 0.6266399408826758, 0.6001987192765306, 0.6135338534042808, 0.7254809864249511, 0.6878071541550256, 0.6790518953237248, 0.7055562728709571, 0.6009034373888509, 0.7104735628198525, 0.7202044497744294, 0.7023312016089838, 0.7094756097943534, 0.7183847812006338, 0.650594786318259, 0.6211602394419603, 0.7104519871608047, 0.6664532083691674, 0.6387026616231916, 0.5564921449761581, 0.6790425322391558, 0.6343169915390874, 0.7189761050410218, 0.7297962940124548, 0.5678424673328161, 0.6777753769674586, 0.39414976382805783, 0.7070198423301832, 0.6678451831321589, 0.6886953525407344, 0.7483951344862616]}, {\"categories\": [\"0\", \"1\", \"2\", \"3\", \"4\", \"5\", \"6\", \"7\", \"8\", \"9\", \"10\", \"11\", \"12\", \"13\", \"14\", \"15\", \"16\", \"17\", \"18\", \"19\", \"20\", \"21\", \"22\", \"23\", \"24\", \"25\", \"26\", \"27\", \"28\", \"29\", \"30\", \"31\", \"32\", \"33\", \"36\"], \"mode\": \"lines\", \"name\": \"f1_score_macro_max\", \"stepped\": true, \"type\": \"scatter\", \"data\": [0.7197014088315093, 0.7197014088315093, 0.7197014088315093, 0.7197014088315093, 0.7386842961733104, 0.7386842961733104, 0.7386842961733104, 0.7386842961733104, 0.7386842961733104, 0.7386842961733104, 0.7386842961733104, 0.7386842961733104, 0.7386842961733104, 0.7386842961733104, 0.7386842961733104, 0.7386842961733104, 0.7386842961733104, 0.7386842961733104, 0.7386842961733104, 0.7386842961733104, 0.7386842961733104, 0.7386842961733104, 0.7386842961733104, 0.7386842961733104, 0.7386842961733104, 0.7386842961733104, 0.7386842961733104, 0.7386842961733104, 0.7386842961733104, 0.7386842961733104, 0.7386842961733104, 0.7386842961733104, 0.7386842961733104, 0.7386842961733104, 0.7483951344862616]}], \"recall_score_micro\": [{\"categories\": [\"0\", \"1\", \"2\", \"3\", \"4\", \"5\", \"6\", \"7\", \"8\", \"9\", \"10\", \"11\", \"12\", \"13\", \"14\", \"15\", \"16\", \"17\", \"18\", \"19\", \"20\", \"21\", \"22\", \"23\", \"24\", \"25\", \"26\", \"27\", \"28\", \"29\", \"30\", \"31\", \"32\", \"33\", \"36\"], \"mode\": \"markers\", \"name\": \"recall_score_micro\", \"stepped\": false, \"type\": \"scatter\", \"data\": [0.7459588713534194, 0.7443089430894309, 0.7345767575322811, 0.7394229236410012, 0.7573569265104415, 0.7019129603060735, 0.6856767097082734, 0.6661645145863223, 0.7638131675434402, 0.7329108879324088, 0.7393830703012912, 0.7426908974972103, 0.6579387852702057, 0.7491869918699187, 0.7589670014347202, 0.7394149529730591, 0.747584887613582, 0.7508448908018491, 0.7296508847441415, 0.6693607524310536, 0.7426988681651522, 0.7345209628566874, 0.7279850151442692, 0.6514506615654393, 0.7410170572293958, 0.6400366650725331, 0.7280726924916308, 0.739438864976885, 0.6497847919655667, 0.7132871034592698, 0.6400366650725331, 0.7394229236410012, 0.7345369041925713, 0.7312609596684202, 0.7785110792284393]}, {\"categories\": [\"0\", \"1\", \"2\", \"3\", \"4\", \"5\", \"6\", \"7\", \"8\", \"9\", \"10\", \"11\", \"12\", \"13\", \"14\", \"15\", \"16\", \"17\", \"18\", \"19\", \"20\", \"21\", \"22\", \"23\", \"24\", \"25\", \"26\", \"27\", \"28\", \"29\", \"30\", \"31\", \"32\", \"33\", \"36\"], \"mode\": \"lines\", \"name\": \"recall_score_micro_max\", \"stepped\": true, \"type\": \"scatter\", \"data\": [0.7459588713534194, 0.7459588713534194, 0.7459588713534194, 0.7459588713534194, 0.7573569265104415, 0.7573569265104415, 0.7573569265104415, 0.7573569265104415, 0.7638131675434402, 0.7638131675434402, 0.7638131675434402, 0.7638131675434402, 0.7638131675434402, 0.7638131675434402, 0.7638131675434402, 0.7638131675434402, 0.7638131675434402, 0.7638131675434402, 0.7638131675434402, 0.7638131675434402, 0.7638131675434402, 0.7638131675434402, 0.7638131675434402, 0.7638131675434402, 0.7638131675434402, 0.7638131675434402, 0.7638131675434402, 0.7638131675434402, 0.7638131675434402, 0.7638131675434402, 0.7638131675434402, 0.7638131675434402, 0.7638131675434402, 0.7638131675434402, 0.7785110792284393]}], \"norm_macro_recall\": [{\"categories\": [\"0\", \"1\", \"2\", \"3\", \"4\", \"5\", \"6\", \"7\", \"8\", \"9\", \"10\", \"11\", \"12\", \"13\", \"14\", \"15\", \"16\", \"17\", \"18\", \"19\", \"20\", \"21\", \"22\", \"23\", \"24\", \"25\", \"26\", \"27\", \"28\", \"29\", \"30\", \"31\", \"32\", \"33\", \"36\"], \"mode\": \"markers\", \"name\": \"norm_macro_recall\", \"stepped\": false, \"type\": \"scatter\", \"data\": [0.4350920107140126, 0.42520351740213796, 0.39562550728118273, 0.3962187259420631, 0.48300185298936277, 0.2573361674603943, 0.21667102407644334, 0.2246355654866942, 0.43789126847413157, 0.36207219969379584, 0.34571055697552694, 0.39719607372887983, 0.2012641803760836, 0.4068000468626473, 0.4222994777065218, 0.39346943921358357, 0.40479626870258106, 0.4247738605006514, 0.2956303648243748, 0.2373013058623766, 0.41178799297260515, 0.3239892260619969, 0.2795977362364132, 0.1332693271819155, 0.3444827152483507, 0.3169976937196646, 0.47376886548759245, 0.49435195136798077, 0.14962929377904918, 0.34933028995501875, 0.0017043324129937993, 0.4043497753225463, 0.3228487686444384, 0.36477546295568525, 0.481802592500004]}, {\"categories\": [\"0\", \"1\", \"2\", \"3\", \"4\", \"5\", \"6\", \"7\", \"8\", \"9\", \"10\", \"11\", \"12\", \"13\", \"14\", \"15\", \"16\", \"17\", \"18\", \"19\", \"20\", \"21\", \"22\", \"23\", \"24\", \"25\", \"26\", \"27\", \"28\", \"29\", \"30\", \"31\", \"32\", \"33\", \"36\"], \"mode\": \"lines\", \"name\": \"norm_macro_recall_max\", \"stepped\": true, \"type\": \"scatter\", \"data\": [0.4350920107140126, 0.4350920107140126, 0.4350920107140126, 0.4350920107140126, 0.48300185298936277, 0.48300185298936277, 0.48300185298936277, 0.48300185298936277, 0.48300185298936277, 0.48300185298936277, 0.48300185298936277, 0.48300185298936277, 0.48300185298936277, 0.48300185298936277, 0.48300185298936277, 0.48300185298936277, 0.48300185298936277, 0.48300185298936277, 0.48300185298936277, 0.48300185298936277, 0.48300185298936277, 0.48300185298936277, 0.48300185298936277, 0.48300185298936277, 0.48300185298936277, 0.48300185298936277, 0.48300185298936277, 0.49435195136798077, 0.49435195136798077, 0.49435195136798077, 0.49435195136798077, 0.49435195136798077, 0.49435195136798077, 0.49435195136798077, 0.49435195136798077]}], \"precision_score_micro\": [{\"categories\": [\"0\", \"1\", \"2\", \"3\", \"4\", \"5\", \"6\", \"7\", \"8\", \"9\", \"10\", \"11\", \"12\", \"13\", \"14\", \"15\", \"16\", \"17\", \"18\", \"19\", \"20\", \"21\", \"22\", \"23\", \"24\", \"25\", \"26\", \"27\", \"28\", \"29\", \"30\", \"31\", \"32\", \"33\", \"36\"], \"mode\": \"markers\", \"name\": \"precision_score_micro\", \"stepped\": false, \"type\": \"scatter\", \"data\": [0.7459588713534194, 0.7443089430894309, 0.7345767575322811, 0.7394229236410012, 0.7573569265104415, 0.7019129603060735, 0.6856767097082734, 0.6661645145863223, 0.7638131675434402, 0.7329108879324088, 0.7393830703012912, 0.7426908974972103, 0.6579387852702057, 0.7491869918699187, 0.7589670014347202, 0.7394149529730591, 0.747584887613582, 0.7508448908018491, 0.7296508847441415, 0.6693607524310536, 0.7426988681651522, 0.7345209628566874, 0.7279850151442692, 0.6514506615654393, 0.7410170572293958, 0.6400366650725331, 0.7280726924916308, 0.739438864976885, 0.6497847919655667, 0.7132871034592698, 0.6400366650725331, 0.7394229236410012, 0.7345369041925713, 0.7312609596684202, 0.7785110792284393]}, {\"categories\": [\"0\", \"1\", \"2\", \"3\", \"4\", \"5\", \"6\", \"7\", \"8\", \"9\", \"10\", \"11\", \"12\", \"13\", \"14\", \"15\", \"16\", \"17\", \"18\", \"19\", \"20\", \"21\", \"22\", \"23\", \"24\", \"25\", \"26\", \"27\", \"28\", \"29\", \"30\", \"31\", \"32\", \"33\", \"36\"], \"mode\": \"lines\", \"name\": \"precision_score_micro_max\", \"stepped\": true, \"type\": \"scatter\", \"data\": [0.7459588713534194, 0.7459588713534194, 0.7459588713534194, 0.7459588713534194, 0.7573569265104415, 0.7573569265104415, 0.7573569265104415, 0.7573569265104415, 0.7638131675434402, 0.7638131675434402, 0.7638131675434402, 0.7638131675434402, 0.7638131675434402, 0.7638131675434402, 0.7638131675434402, 0.7638131675434402, 0.7638131675434402, 0.7638131675434402, 0.7638131675434402, 0.7638131675434402, 0.7638131675434402, 0.7638131675434402, 0.7638131675434402, 0.7638131675434402, 0.7638131675434402, 0.7638131675434402, 0.7638131675434402, 0.7638131675434402, 0.7638131675434402, 0.7638131675434402, 0.7638131675434402, 0.7638131675434402, 0.7638131675434402, 0.7638131675434402, 0.7785110792284393]}], \"balanced_accuracy\": [{\"categories\": [\"0\", \"1\", \"2\", \"3\", \"4\", \"5\", \"6\", \"7\", \"8\", \"9\", \"10\", \"11\", \"12\", \"13\", \"14\", \"15\", \"16\", \"17\", \"18\", \"19\", \"20\", \"21\", \"22\", \"23\", \"24\", \"25\", \"26\", \"27\", \"28\", \"29\", \"30\", \"31\", \"32\", \"33\", \"36\"], \"mode\": \"markers\", \"name\": \"balanced_accuracy\", \"stepped\": false, \"type\": \"scatter\", \"data\": [0.7175460053570063, 0.712601758701069, 0.6978127536405913, 0.6981093629710315, 0.7415009264946814, 0.6286680837301971, 0.6083355120382217, 0.6123177827433471, 0.7189456342370658, 0.681036099846898, 0.6728552784877634, 0.69859803686444, 0.6006320901880419, 0.7034000234313237, 0.7111497388532609, 0.6967347196067918, 0.7023981343512906, 0.7123869302503257, 0.6478151824121874, 0.6186506529311883, 0.7058939964863026, 0.6619946130309985, 0.6397988681182065, 0.5666346635909577, 0.6722413576241753, 0.6584988468598323, 0.7368844327437962, 0.7471759756839903, 0.5748146468895245, 0.6746651449775093, 0.500852166206497, 0.7021748876612731, 0.6614243843222192, 0.6823877314778426, 0.740901296250002]}, {\"categories\": [\"0\", \"1\", \"2\", \"3\", \"4\", \"5\", \"6\", \"7\", \"8\", \"9\", \"10\", \"11\", \"12\", \"13\", \"14\", \"15\", \"16\", \"17\", \"18\", \"19\", \"20\", \"21\", \"22\", \"23\", \"24\", \"25\", \"26\", \"27\", \"28\", \"29\", \"30\", \"31\", \"32\", \"33\", \"36\"], \"mode\": \"lines\", \"name\": \"balanced_accuracy_max\", \"stepped\": true, \"type\": \"scatter\", \"data\": [0.7175460053570063, 0.7175460053570063, 0.7175460053570063, 0.7175460053570063, 0.7415009264946814, 0.7415009264946814, 0.7415009264946814, 0.7415009264946814, 0.7415009264946814, 0.7415009264946814, 0.7415009264946814, 0.7415009264946814, 0.7415009264946814, 0.7415009264946814, 0.7415009264946814, 0.7415009264946814, 0.7415009264946814, 0.7415009264946814, 0.7415009264946814, 0.7415009264946814, 0.7415009264946814, 0.7415009264946814, 0.7415009264946814, 0.7415009264946814, 0.7415009264946814, 0.7415009264946814, 0.7415009264946814, 0.7471759756839903, 0.7471759756839903, 0.7471759756839903, 0.7471759756839903, 0.7471759756839903, 0.7471759756839903, 0.7471759756839903, 0.7471759756839903]}], \"precision_score_weighted\": [{\"categories\": [\"0\", \"1\", \"2\", \"3\", \"4\", \"5\", \"6\", \"7\", \"8\", \"9\", \"10\", \"11\", \"12\", \"13\", \"14\", \"15\", \"16\", \"17\", \"18\", \"19\", \"20\", \"21\", \"22\", \"23\", \"24\", \"25\", \"26\", \"27\", \"28\", \"29\", \"30\", \"31\", \"32\", \"33\", \"36\"], \"mode\": \"markers\", \"name\": \"precision_score_weighted\", \"stepped\": false, \"type\": \"scatter\", \"data\": [0.7456608668779596, 0.7440636782906588, 0.7325567554210674, 0.7423577115861071, 0.7618266840771842, 0.6978430252564701, 0.6856660899068378, 0.654759700332507, 0.7652884850779076, 0.7297289819235572, 0.7437464419649152, 0.7383078745684816, 0.6443319096264956, 0.7473097768387408, 0.7562125858290015, 0.7367398763180223, 0.7467367896505084, 0.7475569037626411, 0.7443324327727739, 0.6578274097858322, 0.7417134209573675, 0.7440235782187354, 0.7512248725322267, 0.6274623374714084, 0.7467379425185127, 0.6885483518973542, 0.7564504481916159, 0.7652464937758007, 0.6284588642992134, 0.7077462642394022, 0.47321394674023165, 0.7355859657582862, 0.7405915345157879, 0.7265254812821818, 0.7777911915790686]}, {\"categories\": [\"0\", \"1\", \"2\", \"3\", \"4\", \"5\", \"6\", \"7\", \"8\", \"9\", \"10\", \"11\", \"12\", \"13\", \"14\", \"15\", \"16\", \"17\", \"18\", \"19\", \"20\", \"21\", \"22\", \"23\", \"24\", \"25\", \"26\", \"27\", \"28\", \"29\", \"30\", \"31\", \"32\", \"33\", \"36\"], \"mode\": \"lines\", \"name\": \"precision_score_weighted_max\", \"stepped\": true, \"type\": \"scatter\", \"data\": [0.7456608668779596, 0.7456608668779596, 0.7456608668779596, 0.7456608668779596, 0.7618266840771842, 0.7618266840771842, 0.7618266840771842, 0.7618266840771842, 0.7652884850779076, 0.7652884850779076, 0.7652884850779076, 0.7652884850779076, 0.7652884850779076, 0.7652884850779076, 0.7652884850779076, 0.7652884850779076, 0.7652884850779076, 0.7652884850779076, 0.7652884850779076, 0.7652884850779076, 0.7652884850779076, 0.7652884850779076, 0.7652884850779076, 0.7652884850779076, 0.7652884850779076, 0.7652884850779076, 0.7652884850779076, 0.7652884850779076, 0.7652884850779076, 0.7652884850779076, 0.7652884850779076, 0.7652884850779076, 0.7652884850779076, 0.7652884850779076, 0.7777911915790686]}], \"precision_score_macro\": [{\"categories\": [\"0\", \"1\", \"2\", \"3\", \"4\", \"5\", \"6\", \"7\", \"8\", \"9\", \"10\", \"11\", \"12\", \"13\", \"14\", \"15\", \"16\", \"17\", \"18\", \"19\", \"20\", \"21\", \"22\", \"23\", \"24\", \"25\", \"26\", \"27\", \"28\", \"29\", \"30\", \"31\", \"32\", \"33\", \"36\"], \"mode\": \"markers\", \"name\": \"precision_score_macro\", \"stepped\": false, \"type\": \"scatter\", \"data\": [0.726476160899086, 0.7260784827613822, 0.7154858382297924, 0.7290489701015508, 0.7387998189086632, 0.689691422998442, 0.6765392199894041, 0.6317169403267585, 0.7577376561265154, 0.7186712503446374, 0.7429114824163537, 0.7254311651098139, 0.6203140916381805, 0.7366076377735474, 0.7479982780995861, 0.7226493399074044, 0.7352185918602349, 0.733729716608706, 0.7508648164881587, 0.6340945988228279, 0.7258077876947203, 0.7466532742776696, 0.7637316645862963, 0.6062255662553138, 0.7478124599767663, 0.6466579103615823, 0.721192529199968, 0.7309555926823119, 0.6059896982261802, 0.6877671905253133, 0.4035538919745633, 0.7188232167305145, 0.7422010569708779, 0.7135393617613434, 0.7682377447331364]}, {\"categories\": [\"0\", \"1\", \"2\", \"3\", \"4\", \"5\", \"6\", \"7\", \"8\", \"9\", \"10\", \"11\", \"12\", \"13\", \"14\", \"15\", \"16\", \"17\", \"18\", \"19\", \"20\", \"21\", \"22\", \"23\", \"24\", \"25\", \"26\", \"27\", \"28\", \"29\", \"30\", \"31\", \"32\", \"33\", \"36\"], \"mode\": \"lines\", \"name\": \"precision_score_macro_max\", \"stepped\": true, \"type\": \"scatter\", \"data\": [0.726476160899086, 0.726476160899086, 0.726476160899086, 0.7290489701015508, 0.7387998189086632, 0.7387998189086632, 0.7387998189086632, 0.7387998189086632, 0.7577376561265154, 0.7577376561265154, 0.7577376561265154, 0.7577376561265154, 0.7577376561265154, 0.7577376561265154, 0.7577376561265154, 0.7577376561265154, 0.7577376561265154, 0.7577376561265154, 0.7577376561265154, 0.7577376561265154, 0.7577376561265154, 0.7577376561265154, 0.7637316645862963, 0.7637316645862963, 0.7637316645862963, 0.7637316645862963, 0.7637316645862963, 0.7637316645862963, 0.7637316645862963, 0.7637316645862963, 0.7637316645862963, 0.7637316645862963, 0.7637316645862963, 0.7637316645862963, 0.7682377447331364]}], \"average_precision_score_macro\": [{\"categories\": [\"0\", \"1\", \"2\", \"3\", \"4\", \"5\", \"6\", \"7\", \"8\", \"9\", \"10\", \"11\", \"12\", \"13\", \"14\", \"15\", \"16\", \"17\", \"18\", \"19\", \"20\", \"21\", \"22\", \"23\", \"24\", \"25\", \"26\", \"27\", \"28\", \"29\", \"30\", \"31\", \"32\", \"33\", \"36\"], \"mode\": \"markers\", \"name\": \"average_precision_score_macro\", \"stepped\": false, \"type\": \"scatter\", \"data\": [0.7692937589625579, 0.785048807722532, 0.7841462491627035, 0.781654702881951, 0.794187628558924, 0.7256800387234904, 0.7022470375821284, 0.6762743655940903, 0.7960741373010608, 0.792708242835903, 0.8048590645004609, 0.8074874155924322, 0.6564803307021253, 0.8047444932403128, 0.7954088074071987, 0.7964394264579656, 0.808382398506585, 0.8041437164060964, 0.7957127642634881, 0.6823347174589989, 0.7950575124686342, 0.8018488488104843, 0.7965286423802646, 0.641723546509204, 0.7986602896710507, 0.6727394991873531, 0.8076137185134264, 0.8035077881345973, 0.6524462103258969, 0.765896349016549, 0.601813310831462, 0.7901791334987552, 0.7942329737457973, 0.7378033512961429, 0.8029833674302971]}, {\"categories\": [\"0\", \"1\", \"2\", \"3\", \"4\", \"5\", \"6\", \"7\", \"8\", \"9\", \"10\", \"11\", \"12\", \"13\", \"14\", \"15\", \"16\", \"17\", \"18\", \"19\", \"20\", \"21\", \"22\", \"23\", \"24\", \"25\", \"26\", \"27\", \"28\", \"29\", \"30\", \"31\", \"32\", \"33\", \"36\"], \"mode\": \"lines\", \"name\": \"average_precision_score_macro_max\", \"stepped\": true, \"type\": \"scatter\", \"data\": [0.7692937589625579, 0.785048807722532, 0.785048807722532, 0.785048807722532, 0.794187628558924, 0.794187628558924, 0.794187628558924, 0.794187628558924, 0.7960741373010608, 0.7960741373010608, 0.8048590645004609, 0.8074874155924322, 0.8074874155924322, 0.8074874155924322, 0.8074874155924322, 0.8074874155924322, 0.808382398506585, 0.808382398506585, 0.808382398506585, 0.808382398506585, 0.808382398506585, 0.808382398506585, 0.808382398506585, 0.808382398506585, 0.808382398506585, 0.808382398506585, 0.808382398506585, 0.808382398506585, 0.808382398506585, 0.808382398506585, 0.808382398506585, 0.808382398506585, 0.808382398506585, 0.808382398506585, 0.808382398506585]}], \"accuracy\": [{\"categories\": [\"0\", \"1\", \"2\", \"3\", \"4\", \"5\", \"6\", \"7\", \"8\", \"9\", \"10\", \"11\", \"12\", \"13\", \"14\", \"15\", \"16\", \"17\", \"18\", \"19\", \"20\", \"21\", \"22\", \"23\", \"24\", \"25\", \"26\", \"27\", \"28\", \"29\", \"30\", \"31\", \"32\", \"33\", \"36\"], \"mode\": \"markers\", \"name\": \"accuracy\", \"stepped\": false, \"type\": \"scatter\", \"data\": [0.7459588713534194, 0.7443089430894309, 0.7345767575322811, 0.7394229236410012, 0.7573569265104415, 0.7019129603060735, 0.6856767097082734, 0.6661645145863223, 0.7638131675434402, 0.7329108879324088, 0.7393830703012912, 0.7426908974972103, 0.6579387852702057, 0.7491869918699187, 0.7589670014347202, 0.7394149529730591, 0.747584887613582, 0.7508448908018491, 0.7296508847441415, 0.6693607524310536, 0.7426988681651522, 0.7345209628566874, 0.7279850151442692, 0.6514506615654393, 0.7410170572293958, 0.6400366650725331, 0.7280726924916308, 0.739438864976885, 0.6497847919655667, 0.7132871034592698, 0.6400366650725331, 0.7394229236410012, 0.7345369041925713, 0.7312609596684202, 0.7785110792284393]}, {\"categories\": [\"0\", \"1\", \"2\", \"3\", \"4\", \"5\", \"6\", \"7\", \"8\", \"9\", \"10\", \"11\", \"12\", \"13\", \"14\", \"15\", \"16\", \"17\", \"18\", \"19\", \"20\", \"21\", \"22\", \"23\", \"24\", \"25\", \"26\", \"27\", \"28\", \"29\", \"30\", \"31\", \"32\", \"33\", \"36\"], \"mode\": \"lines\", \"name\": \"accuracy_max\", \"stepped\": true, \"type\": \"scatter\", \"data\": [0.7459588713534194, 0.7459588713534194, 0.7459588713534194, 0.7459588713534194, 0.7573569265104415, 0.7573569265104415, 0.7573569265104415, 0.7573569265104415, 0.7638131675434402, 0.7638131675434402, 0.7638131675434402, 0.7638131675434402, 0.7638131675434402, 0.7638131675434402, 0.7638131675434402, 0.7638131675434402, 0.7638131675434402, 0.7638131675434402, 0.7638131675434402, 0.7638131675434402, 0.7638131675434402, 0.7638131675434402, 0.7638131675434402, 0.7638131675434402, 0.7638131675434402, 0.7638131675434402, 0.7638131675434402, 0.7638131675434402, 0.7638131675434402, 0.7638131675434402, 0.7638131675434402, 0.7638131675434402, 0.7638131675434402, 0.7638131675434402, 0.7785110792284393]}], \"weighted_accuracy\": [{\"categories\": [\"0\", \"1\", \"2\", \"3\", \"4\", \"5\", \"6\", \"7\", \"8\", \"9\", \"10\", \"11\", \"12\", \"13\", \"14\", \"15\", \"16\", \"17\", \"18\", \"19\", \"20\", \"21\", \"22\", \"23\", \"24\", \"25\", \"26\", \"27\", \"28\", \"29\", \"30\", \"31\", \"32\", \"33\", \"36\"], \"mode\": \"markers\", \"name\": \"weighted_accuracy\", \"stepped\": false, \"type\": \"scatter\", \"data\": [0.7703331923526053, 0.7715615333630267, 0.7660287323350373, 0.7748342106802149, 0.7708660905864693, 0.7644417845625643, 0.7520247689207542, 0.712193436464306, 0.8021413991032387, 0.7769986738847589, 0.7960006985533349, 0.7801803357952924, 0.7068489930067106, 0.7883135834663597, 0.7995932696081391, 0.7759124856996085, 0.7860583036292624, 0.7836765980695338, 0.7991220320929019, 0.7124696841004111, 0.7741386140559382, 0.7964256875309018, 0.8028499694581227, 0.7233852986727176, 0.799562538499226, 0.6241582776849081, 0.7208358358190278, 0.7331876482526161, 0.7137323877623167, 0.7463624687726625, 0.757871438644892, 0.7711863262855649, 0.7965767956288564, 0.7729810090585704, 0.810644938965038]}, {\"categories\": [\"0\", \"1\", \"2\", \"3\", \"4\", \"5\", \"6\", \"7\", \"8\", \"9\", \"10\", \"11\", \"12\", \"13\", \"14\", \"15\", \"16\", \"17\", \"18\", \"19\", \"20\", \"21\", \"22\", \"23\", \"24\", \"25\", \"26\", \"27\", \"28\", \"29\", \"30\", \"31\", \"32\", \"33\", \"36\"], \"mode\": \"lines\", \"name\": \"weighted_accuracy_max\", \"stepped\": true, \"type\": \"scatter\", \"data\": [0.7703331923526053, 0.7715615333630267, 0.7715615333630267, 0.7748342106802149, 0.7748342106802149, 0.7748342106802149, 0.7748342106802149, 0.7748342106802149, 0.8021413991032387, 0.8021413991032387, 0.8021413991032387, 0.8021413991032387, 0.8021413991032387, 0.8021413991032387, 0.8021413991032387, 0.8021413991032387, 0.8021413991032387, 0.8021413991032387, 0.8021413991032387, 0.8021413991032387, 0.8021413991032387, 0.8021413991032387, 0.8028499694581227, 0.8028499694581227, 0.8028499694581227, 0.8028499694581227, 0.8028499694581227, 0.8028499694581227, 0.8028499694581227, 0.8028499694581227, 0.8028499694581227, 0.8028499694581227, 0.8028499694581227, 0.8028499694581227, 0.810644938965038]}], \"recall_score_macro\": [{\"categories\": [\"0\", \"1\", \"2\", \"3\", \"4\", \"5\", \"6\", \"7\", \"8\", \"9\", \"10\", \"11\", \"12\", \"13\", \"14\", \"15\", \"16\", \"17\", \"18\", \"19\", \"20\", \"21\", \"22\", \"23\", \"24\", \"25\", \"26\", \"27\", \"28\", \"29\", \"30\", \"31\", \"32\", \"33\", \"36\"], \"mode\": \"markers\", \"name\": \"recall_score_macro\", \"stepped\": false, \"type\": \"scatter\", \"data\": [0.7175460053570063, 0.712601758701069, 0.6978127536405913, 0.6981093629710315, 0.7415009264946814, 0.6286680837301971, 0.6083355120382217, 0.6123177827433471, 0.7189456342370658, 0.681036099846898, 0.6728552784877634, 0.69859803686444, 0.6006320901880419, 0.7034000234313237, 0.7111497388532609, 0.6967347196067918, 0.7023981343512906, 0.7123869302503257, 0.6478151824121874, 0.6186506529311883, 0.7058939964863026, 0.6619946130309985, 0.6397988681182065, 0.5666346635909577, 0.6722413576241753, 0.6584988468598323, 0.7368844327437962, 0.7471759756839903, 0.5748146468895245, 0.6746651449775093, 0.500852166206497, 0.7021748876612731, 0.6614243843222192, 0.6823877314778426, 0.740901296250002]}, {\"categories\": [\"0\", \"1\", \"2\", \"3\", \"4\", \"5\", \"6\", \"7\", \"8\", \"9\", \"10\", \"11\", \"12\", \"13\", \"14\", \"15\", \"16\", \"17\", \"18\", \"19\", \"20\", \"21\", \"22\", \"23\", \"24\", \"25\", \"26\", \"27\", \"28\", \"29\", \"30\", \"31\", \"32\", \"33\", \"36\"], \"mode\": \"lines\", \"name\": \"recall_score_macro_max\", \"stepped\": true, \"type\": \"scatter\", \"data\": [0.7175460053570063, 0.7175460053570063, 0.7175460053570063, 0.7175460053570063, 0.7415009264946814, 0.7415009264946814, 0.7415009264946814, 0.7415009264946814, 0.7415009264946814, 0.7415009264946814, 0.7415009264946814, 0.7415009264946814, 0.7415009264946814, 0.7415009264946814, 0.7415009264946814, 0.7415009264946814, 0.7415009264946814, 0.7415009264946814, 0.7415009264946814, 0.7415009264946814, 0.7415009264946814, 0.7415009264946814, 0.7415009264946814, 0.7415009264946814, 0.7415009264946814, 0.7415009264946814, 0.7415009264946814, 0.7471759756839903, 0.7471759756839903, 0.7471759756839903, 0.7471759756839903, 0.7471759756839903, 0.7471759756839903, 0.7471759756839903, 0.7471759756839903]}], \"recall_score_weighted\": [{\"categories\": [\"0\", \"1\", \"2\", \"3\", \"4\", \"5\", \"6\", \"7\", \"8\", \"9\", \"10\", \"11\", \"12\", \"13\", \"14\", \"15\", \"16\", \"17\", \"18\", \"19\", \"20\", \"21\", \"22\", \"23\", \"24\", \"25\", \"26\", \"27\", \"28\", \"29\", \"30\", \"31\", \"32\", \"33\", \"36\"], \"mode\": \"markers\", \"name\": \"recall_score_weighted\", \"stepped\": false, \"type\": \"scatter\", \"data\": [0.7459588713534194, 0.7443089430894309, 0.7345767575322811, 0.7394229236410012, 0.7573569265104415, 0.7019129603060735, 0.6856767097082734, 0.6661645145863223, 0.7638131675434402, 0.7329108879324088, 0.7393830703012912, 0.7426908974972103, 0.6579387852702057, 0.7491869918699187, 0.7589670014347202, 0.7394149529730591, 0.747584887613582, 0.7508448908018491, 0.7296508847441415, 0.6693607524310536, 0.7426988681651522, 0.7345209628566874, 0.7279850151442692, 0.6514506615654393, 0.7410170572293958, 0.6400366650725331, 0.7280726924916308, 0.739438864976885, 0.6497847919655667, 0.7132871034592698, 0.6400366650725331, 0.7394229236410012, 0.7345369041925713, 0.7312609596684202, 0.7785110792284393]}, {\"categories\": [\"0\", \"1\", \"2\", \"3\", \"4\", \"5\", \"6\", \"7\", \"8\", \"9\", \"10\", \"11\", \"12\", \"13\", \"14\", \"15\", \"16\", \"17\", \"18\", \"19\", \"20\", \"21\", \"22\", \"23\", \"24\", \"25\", \"26\", \"27\", \"28\", \"29\", \"30\", \"31\", \"32\", \"33\", \"36\"], \"mode\": \"lines\", \"name\": \"recall_score_weighted_max\", \"stepped\": true, \"type\": \"scatter\", \"data\": [0.7459588713534194, 0.7459588713534194, 0.7459588713534194, 0.7459588713534194, 0.7573569265104415, 0.7573569265104415, 0.7573569265104415, 0.7573569265104415, 0.7638131675434402, 0.7638131675434402, 0.7638131675434402, 0.7638131675434402, 0.7638131675434402, 0.7638131675434402, 0.7638131675434402, 0.7638131675434402, 0.7638131675434402, 0.7638131675434402, 0.7638131675434402, 0.7638131675434402, 0.7638131675434402, 0.7638131675434402, 0.7638131675434402, 0.7638131675434402, 0.7638131675434402, 0.7638131675434402, 0.7638131675434402, 0.7638131675434402, 0.7638131675434402, 0.7638131675434402, 0.7638131675434402, 0.7638131675434402, 0.7638131675434402, 0.7638131675434402, 0.7785110792284393]}]}, \"metricName\": null, \"primaryMetricName\": \"accuracy\", \"showLegend\": false}, \"run_metrics\": [{\"name\": \"experiment_status\", \"run_id\": \"AutoML_54122130-bfd5-4d79-a46b-f5733880b4a7\", \"categories\": [0, 1, 2, 3, 4, 5, 6, 7, 8, 9, 10, 11, 12, 13], \"series\": [{\"data\": [\"DatasetEvaluation\", \"FeaturesGeneration\", \"DatasetFeaturization\", \"DatasetFeaturizationCompleted\", \"DatasetCrossValidationSplit\", \"ModelSelection\", \"BestRunExplainModel\", \"ModelExplanationDataSetSetup\", \"PickSurrogateModel\", \"EngineeredFeatureExplanations\", \"EngineeredFeatureExplanations\", \"RawFeaturesExplanations\", \"RawFeaturesExplanations\", \"BestRunExplainModel\"]}]}, {\"name\": \"experiment_status_description\", \"run_id\": \"AutoML_54122130-bfd5-4d79-a46b-f5733880b4a7\", \"categories\": [0, 1, 2, 3, 4, 5, 6, 7, 8, 9, 10, 11, 12, 13], \"series\": [{\"data\": [\"Gathering dataset statistics.\", \"Generating features for the dataset.\", \"Beginning to fit featurizers and featurize the dataset.\", \"Completed fit featurizers and featurizing the dataset.\", \"Generating individually featurized CV splits.\", \"Beginning model selection.\", \"Best run model explanations started\", \"Model explanations data setup completed\", \"Choosing LightGBM as the surrogate model for explanations\", \"Computation of engineered features started\", \"Computation of engineered features completed\", \"Computation of raw features started\", \"Computation of raw features completed\", \"Best run model explanations completed\"]}]}, {\"name\": \"weighted_accuracy\", \"run_id\": \"AutoML_54122130-bfd5-4d79-a46b-f5733880b4a7\", \"categories\": [0], \"series\": [{\"data\": [0.810644938965038]}]}, {\"name\": \"recall_score_weighted\", \"run_id\": \"AutoML_54122130-bfd5-4d79-a46b-f5733880b4a7\", \"categories\": [0], \"series\": [{\"data\": [0.7785110792284393]}]}, {\"name\": \"balanced_accuracy\", \"run_id\": \"AutoML_54122130-bfd5-4d79-a46b-f5733880b4a7\", \"categories\": [0], \"series\": [{\"data\": [0.740901296250002]}]}, {\"name\": \"precision_score_weighted\", \"run_id\": \"AutoML_54122130-bfd5-4d79-a46b-f5733880b4a7\", \"categories\": [0], \"series\": [{\"data\": [0.7777911915790686]}]}, {\"name\": \"average_precision_score_weighted\", \"run_id\": \"AutoML_54122130-bfd5-4d79-a46b-f5733880b4a7\", \"categories\": [0], \"series\": [{\"data\": [0.8289015405661234]}]}, {\"name\": \"accuracy\", \"run_id\": \"AutoML_54122130-bfd5-4d79-a46b-f5733880b4a7\", \"categories\": [0], \"series\": [{\"data\": [0.7785110792284393]}]}, {\"name\": \"f1_score_macro\", \"run_id\": \"AutoML_54122130-bfd5-4d79-a46b-f5733880b4a7\", \"categories\": [0], \"series\": [{\"data\": [0.7483951344862616]}]}, {\"name\": \"AUC_macro\", \"run_id\": \"AutoML_54122130-bfd5-4d79-a46b-f5733880b4a7\", \"categories\": [0], \"series\": [{\"data\": [0.8249380978587766]}]}, {\"name\": \"f1_score_micro\", \"run_id\": \"AutoML_54122130-bfd5-4d79-a46b-f5733880b4a7\", \"categories\": [0], \"series\": [{\"data\": [0.7785110792284393]}]}, {\"name\": \"AUC_weighted\", \"run_id\": \"AutoML_54122130-bfd5-4d79-a46b-f5733880b4a7\", \"categories\": [0], \"series\": [{\"data\": [0.8249380978587766]}]}, {\"name\": \"matthews_correlation\", \"run_id\": \"AutoML_54122130-bfd5-4d79-a46b-f5733880b4a7\", \"categories\": [0], \"series\": [{\"data\": [0.5080849569207356]}]}, {\"name\": \"log_loss\", \"run_id\": \"AutoML_54122130-bfd5-4d79-a46b-f5733880b4a7\", \"categories\": [0], \"series\": [{\"data\": [0.49983197586969014]}]}, {\"name\": \"AUC_micro\", \"run_id\": \"AutoML_54122130-bfd5-4d79-a46b-f5733880b4a7\", \"categories\": [0], \"series\": [{\"data\": [0.8411727772452564]}]}, {\"name\": \"precision_score_micro\", \"run_id\": \"AutoML_54122130-bfd5-4d79-a46b-f5733880b4a7\", \"categories\": [0], \"series\": [{\"data\": [0.7785110792284393]}]}, {\"name\": \"average_precision_score_macro\", \"run_id\": \"AutoML_54122130-bfd5-4d79-a46b-f5733880b4a7\", \"categories\": [0], \"series\": [{\"data\": [0.8029833674302971]}]}, {\"name\": \"norm_macro_recall\", \"run_id\": \"AutoML_54122130-bfd5-4d79-a46b-f5733880b4a7\", \"categories\": [0], \"series\": [{\"data\": [0.481802592500004]}]}, {\"name\": \"precision_score_macro\", \"run_id\": \"AutoML_54122130-bfd5-4d79-a46b-f5733880b4a7\", \"categories\": [0], \"series\": [{\"data\": [0.7682377447331364]}]}, {\"name\": \"average_precision_score_micro\", \"run_id\": \"AutoML_54122130-bfd5-4d79-a46b-f5733880b4a7\", \"categories\": [0], \"series\": [{\"data\": [0.8411308691512475]}]}, {\"name\": \"recall_score_macro\", \"run_id\": \"AutoML_54122130-bfd5-4d79-a46b-f5733880b4a7\", \"categories\": [0], \"series\": [{\"data\": [0.740901296250002]}]}, {\"name\": \"recall_score_micro\", \"run_id\": \"AutoML_54122130-bfd5-4d79-a46b-f5733880b4a7\", \"categories\": [0], \"series\": [{\"data\": [0.7785110792284393]}]}, {\"name\": \"f1_score_weighted\", \"run_id\": \"AutoML_54122130-bfd5-4d79-a46b-f5733880b4a7\", \"categories\": [0], \"series\": [{\"data\": [0.7728393751898391]}]}], \"run_logs\": \"\\nRun is completed.\", \"graph\": {}, \"widget_settings\": {\"childWidgetDisplay\": \"popup\", \"send_telemetry\": false, \"log_level\": \"INFO\", \"sdk_version\": \"1.19.0\"}, \"loading\": false}"
     },
     "metadata": {},
     "output_type": "display_data"
    },
    {
     "name": "stdout",
     "output_type": "stream",
     "text": [
      "\n",
      "Current status: FeaturesGeneration. Generating features for the dataset.\n",
      "Current status: DatasetCrossValidationSplit. Generating individually featurized CV splits.\n",
      "Current status: ModelSelection. Beginning model selection.\n",
      "\n",
      "****************************************************************************************************\n",
      "DATA GUARDRAILS: \n",
      "\n",
      "TYPE:         Class balancing detection\n",
      "STATUS:       PASSED\n",
      "DESCRIPTION:  Your inputs were analyzed, and all classes are balanced in your training data.\n",
      "              Learn more about imbalanced data: https://aka.ms/AutomatedMLImbalancedData\n",
      "\n",
      "****************************************************************************************************\n",
      "\n",
      "TYPE:         High cardinality feature detection\n",
      "STATUS:       PASSED\n",
      "DESCRIPTION:  Your inputs were analyzed, and no high cardinality features were detected.\n",
      "              Learn more about high cardinality feature handling: https://aka.ms/AutomatedMLFeaturization\n",
      "\n",
      "****************************************************************************************************\n",
      "\n",
      "****************************************************************************************************\n",
      "ITERATION: The iteration being evaluated.\n",
      "PIPELINE: A summary description of the pipeline being evaluated.\n",
      "DURATION: Time taken for the current iteration.\n",
      "METRIC: The result of computing score on the fitted pipeline.\n",
      "BEST: The best observed score thus far.\n",
      "****************************************************************************************************\n",
      "\n",
      " ITERATION   PIPELINE                                       DURATION      METRIC      BEST\n",
      "         2   MinMaxScaler RandomForest                      0:00:54       0.7346    0.7346\n",
      "         3   MinMaxScaler RandomForest                      0:00:59       0.7394    0.7394\n",
      "         0   MaxAbsScaler LightGBM                          0:01:03       0.7460    0.7460\n",
      "         1   MaxAbsScaler XGBoostClassifier                 0:00:54       0.7443    0.7460\n",
      "         7   SparseNormalizer XGBoostClassifier             0:00:50       0.6662    0.7460\n",
      "         8   MinMaxScaler LogisticRegression                0:00:53       0.7638    0.7638\n",
      "         5   MinMaxScaler SVM                               0:03:34       0.7019    0.7638\n",
      "         9   StandardScalerWrapper RandomForest             0:00:55       0.7329    0.7638\n",
      "         4   MinMaxScaler RandomForest                      0:03:40       0.7574    0.7638\n",
      "         6   MinMaxScaler SVM                               0:03:38       0.6857    0.7638\n",
      "        10   MaxAbsScaler ExtremeRandomTrees                0:01:03       0.7394    0.7638\n",
      "        11   StandardScalerWrapper LightGBM                 0:01:03       0.7427    0.7638\n",
      "        12   SparseNormalizer XGBoostClassifier             0:00:56       0.6579    0.7638\n",
      "        13   StandardScalerWrapper LightGBM                 0:01:01       0.7492    0.7638\n",
      "        15   MaxAbsScaler LightGBM                          0:00:55       0.7394    0.7638\n",
      "        16   RobustScaler RandomForest                      0:00:54       0.7476    0.7638\n",
      "        14   MinMaxScaler LightGBM                          0:01:09       0.7590    0.7638\n",
      "        17   StandardScalerWrapper LightGBM                 0:00:56       0.7508    0.7638\n",
      "        18   StandardScalerWrapper LightGBM                 0:00:49       0.7297    0.7638\n",
      "        19   SparseNormalizer XGBoostClassifier             0:00:52       0.6694    0.7638\n",
      "        20   MinMaxScaler LightGBM                          0:00:56       0.7427    0.7638\n",
      "        21   MaxAbsScaler LightGBM                          0:00:52       0.7345    0.7638\n",
      "        22   RobustScaler LightGBM                          0:00:54       0.7280    0.7638\n",
      "        23   SparseNormalizer XGBoostClassifier             0:00:50       0.6515    0.7638\n",
      "        24   StandardScalerWrapper LightGBM                 0:00:51       0.7410    0.7638\n",
      "        25   StandardScalerWrapper LogisticRegression       0:00:56       0.6400    0.7638\n",
      "        26   MaxAbsScaler ExtremeRandomTrees                0:00:59       0.7281    0.7638\n",
      "        27   MaxAbsScaler ExtremeRandomTrees                0:00:53       0.7394    0.7638\n",
      "        28   SparseNormalizer LightGBM                      0:00:51       0.6498    0.7638\n",
      "        29   MaxAbsScaler LightGBM                          0:00:52       0.7133    0.7638\n",
      "        31   MaxAbsScaler LightGBM                          0:00:49       0.7394    0.7638\n",
      "        30   PCA LogisticRegression                         0:01:01       0.6400    0.7638\n",
      "        32   StandardScalerWrapper LightGBM                 0:00:58       0.7345    0.7638\n",
      "        33   StandardScalerWrapper KNN                      0:00:52       0.7313    0.7638\n",
      "        34                                                  0:00:07          nan    0.7638\n",
      "        35                                                  0:00:16          nan    0.7638\n",
      "        36    VotingEnsemble                                0:01:20       0.7785    0.7785\n"
     ]
    },
    {
     "data": {
      "text/plain": [
       "{'runId': 'AutoML_54122130-bfd5-4d79-a46b-f5733880b4a7',\n",
       " 'target': 'puru-compute-new',\n",
       " 'status': 'Completed',\n",
       " 'startTimeUtc': '2020-12-31T00:36:55.867164Z',\n",
       " 'endTimeUtc': '2020-12-31T00:55:34.219313Z',\n",
       " 'properties': {'num_iterations': '1000',\n",
       "  'training_type': 'TrainFull',\n",
       "  'acquisition_function': 'EI',\n",
       "  'primary_metric': 'accuracy',\n",
       "  'train_split': '0',\n",
       "  'acquisition_parameter': '0',\n",
       "  'num_cross_validation': '3',\n",
       "  'target': 'puru-compute-new',\n",
       "  'AMLSettingsJsonString': '{\"path\":null,\"name\":\"puru-auto-experiment\",\"subscription_id\":\"61c5c3f0-6dc7-4ed9-a7f3-c704b20e3b30\",\"resource_group\":\"aml-quickstarts-132551\",\"workspace_name\":\"quick-starts-ws-132551\",\"region\":\"southcentralus\",\"compute_target\":\"puru-compute-new\",\"spark_service\":null,\"azure_service\":\"remote\",\"many_models\":false,\"pipeline_fetch_max_batch_size\":1,\"iterations\":1000,\"primary_metric\":\"accuracy\",\"task_type\":\"classification\",\"data_script\":null,\"validation_size\":0.0,\"n_cross_validations\":3,\"y_min\":null,\"y_max\":null,\"num_classes\":null,\"featurization\":\"auto\",\"_ignore_package_version_incompatibilities\":false,\"is_timeseries\":false,\"max_cores_per_iteration\":-1,\"max_concurrent_iterations\":4,\"iteration_timeout_minutes\":5,\"mem_in_mb\":null,\"enforce_time_on_windows\":false,\"experiment_timeout_minutes\":30,\"experiment_exit_score\":null,\"whitelist_models\":null,\"blacklist_algos\":[\"TensorFlowLinearClassifier\",\"TensorFlowDNN\"],\"supported_models\":[\"LightGBM\",\"SVM\",\"XGBoostClassifier\",\"DecisionTree\",\"TensorFlowDNN\",\"MultinomialNaiveBayes\",\"SGD\",\"TensorFlowLinearClassifier\",\"BernoulliNaiveBayes\",\"RandomForest\",\"LinearSVM\",\"KNN\",\"AveragedPerceptronClassifier\",\"ExtremeRandomTrees\",\"LogisticRegression\",\"GradientBoosting\"],\"auto_blacklist\":true,\"blacklist_samples_reached\":false,\"exclude_nan_labels\":true,\"verbosity\":20,\"_debug_log\":\"azureml_automl.log\",\"show_warnings\":false,\"model_explainability\":true,\"service_url\":null,\"sdk_url\":null,\"sdk_packages\":null,\"enable_onnx_compatible_models\":true,\"enable_split_onnx_featurizer_estimator_models\":false,\"vm_type\":\"STANDARD_D2_V2\",\"telemetry_verbosity\":20,\"send_telemetry\":true,\"enable_dnn\":false,\"scenario\":\"SDK-1.13.0\",\"environment_label\":null,\"force_text_dnn\":false,\"enable_feature_sweeping\":false,\"enable_early_stopping\":true,\"early_stopping_n_iters\":10,\"metrics\":null,\"enable_ensembling\":true,\"enable_stack_ensembling\":false,\"ensemble_iterations\":15,\"enable_tf\":false,\"enable_subsampling\":null,\"subsample_seed\":null,\"enable_nimbusml\":false,\"enable_streaming\":false,\"force_streaming\":false,\"track_child_runs\":true,\"allowed_private_models\":[],\"label_column_name\":\"Outcome\",\"weight_column_name\":null,\"cv_split_column_names\":null,\"enable_local_managed\":false,\"_local_managed_run_id\":null,\"cost_mode\":1,\"lag_length\":0,\"metric_operation\":\"maximize\",\"preprocess\":true}',\n",
       "  'DataPrepJsonString': '{\\\\\"training_data\\\\\": \\\\\"{\\\\\\\\\\\\\"blocks\\\\\\\\\\\\\": [{\\\\\\\\\\\\\"id\\\\\\\\\\\\\": \\\\\\\\\\\\\"6ff0ae9d-697e-4097-bb42-625129bc2d75\\\\\\\\\\\\\", \\\\\\\\\\\\\"type\\\\\\\\\\\\\": \\\\\\\\\\\\\"Microsoft.DPrep.GetDatastoreFilesBlock\\\\\\\\\\\\\", \\\\\\\\\\\\\"arguments\\\\\\\\\\\\\": {\\\\\\\\\\\\\"datastores\\\\\\\\\\\\\": [{\\\\\\\\\\\\\"datastoreName\\\\\\\\\\\\\": \\\\\\\\\\\\\"workspaceblobstore\\\\\\\\\\\\\", \\\\\\\\\\\\\"path\\\\\\\\\\\\\": \\\\\\\\\\\\\"automlclassifier/train_data.csv\\\\\\\\\\\\\", \\\\\\\\\\\\\"resourceGroup\\\\\\\\\\\\\": \\\\\\\\\\\\\"aml-quickstarts-132551\\\\\\\\\\\\\", \\\\\\\\\\\\\"subscription\\\\\\\\\\\\\": \\\\\\\\\\\\\"61c5c3f0-6dc7-4ed9-a7f3-c704b20e3b30\\\\\\\\\\\\\", \\\\\\\\\\\\\"workspaceName\\\\\\\\\\\\\": \\\\\\\\\\\\\"quick-starts-ws-132551\\\\\\\\\\\\\"}]}, \\\\\\\\\\\\\"localData\\\\\\\\\\\\\": {}, \\\\\\\\\\\\\"isEnabled\\\\\\\\\\\\\": true, \\\\\\\\\\\\\"name\\\\\\\\\\\\\": null, \\\\\\\\\\\\\"annotation\\\\\\\\\\\\\": null}, {\\\\\\\\\\\\\"id\\\\\\\\\\\\\": \\\\\\\\\\\\\"6f9666f0-6de8-426c-8242-b26304a2e3c8\\\\\\\\\\\\\", \\\\\\\\\\\\\"type\\\\\\\\\\\\\": \\\\\\\\\\\\\"Microsoft.DPrep.ParseDelimitedBlock\\\\\\\\\\\\\", \\\\\\\\\\\\\"arguments\\\\\\\\\\\\\": {\\\\\\\\\\\\\"columnHeadersMode\\\\\\\\\\\\\": 3, \\\\\\\\\\\\\"fileEncoding\\\\\\\\\\\\\": 0, \\\\\\\\\\\\\"handleQuotedLineBreaks\\\\\\\\\\\\\": false, \\\\\\\\\\\\\"preview\\\\\\\\\\\\\": false, \\\\\\\\\\\\\"separator\\\\\\\\\\\\\": \\\\\\\\\\\\\",\\\\\\\\\\\\\", \\\\\\\\\\\\\"skipRows\\\\\\\\\\\\\": 0, \\\\\\\\\\\\\"skipRowsMode\\\\\\\\\\\\\": 0}, \\\\\\\\\\\\\"localData\\\\\\\\\\\\\": {}, \\\\\\\\\\\\\"isEnabled\\\\\\\\\\\\\": true, \\\\\\\\\\\\\"name\\\\\\\\\\\\\": null, \\\\\\\\\\\\\"annotation\\\\\\\\\\\\\": null}, {\\\\\\\\\\\\\"id\\\\\\\\\\\\\": \\\\\\\\\\\\\"a4f452c7-1d4b-4627-a14b-e0452c94106a\\\\\\\\\\\\\", \\\\\\\\\\\\\"type\\\\\\\\\\\\\": \\\\\\\\\\\\\"Microsoft.DPrep.DropColumnsBlock\\\\\\\\\\\\\", \\\\\\\\\\\\\"arguments\\\\\\\\\\\\\": {\\\\\\\\\\\\\"columns\\\\\\\\\\\\\": {\\\\\\\\\\\\\"type\\\\\\\\\\\\\": 0, \\\\\\\\\\\\\"details\\\\\\\\\\\\\": {\\\\\\\\\\\\\"selectedColumns\\\\\\\\\\\\\": [\\\\\\\\\\\\\"Path\\\\\\\\\\\\\"]}}}, \\\\\\\\\\\\\"localData\\\\\\\\\\\\\": {}, \\\\\\\\\\\\\"isEnabled\\\\\\\\\\\\\": true, \\\\\\\\\\\\\"name\\\\\\\\\\\\\": null, \\\\\\\\\\\\\"annotation\\\\\\\\\\\\\": null}, {\\\\\\\\\\\\\"id\\\\\\\\\\\\\": \\\\\\\\\\\\\"6a0edcf5-f035-4de5-9216-5d043b89f598\\\\\\\\\\\\\", \\\\\\\\\\\\\"type\\\\\\\\\\\\\": \\\\\\\\\\\\\"Microsoft.DPrep.SetColumnTypesBlock\\\\\\\\\\\\\", \\\\\\\\\\\\\"arguments\\\\\\\\\\\\\": {\\\\\\\\\\\\\"columnConversion\\\\\\\\\\\\\": [{\\\\\\\\\\\\\"column\\\\\\\\\\\\\": {\\\\\\\\\\\\\"type\\\\\\\\\\\\\": 2, \\\\\\\\\\\\\"details\\\\\\\\\\\\\": {\\\\\\\\\\\\\"selectedColumn\\\\\\\\\\\\\": \\\\\\\\\\\\\"Pregnancies\\\\\\\\\\\\\"}}, \\\\\\\\\\\\\"typeProperty\\\\\\\\\\\\\": 2}, {\\\\\\\\\\\\\"column\\\\\\\\\\\\\": {\\\\\\\\\\\\\"type\\\\\\\\\\\\\": 2, \\\\\\\\\\\\\"details\\\\\\\\\\\\\": {\\\\\\\\\\\\\"selectedColumn\\\\\\\\\\\\\": \\\\\\\\\\\\\"Glucose\\\\\\\\\\\\\"}}, \\\\\\\\\\\\\"typeProperty\\\\\\\\\\\\\": 2}, {\\\\\\\\\\\\\"column\\\\\\\\\\\\\": {\\\\\\\\\\\\\"type\\\\\\\\\\\\\": 2, \\\\\\\\\\\\\"details\\\\\\\\\\\\\": {\\\\\\\\\\\\\"selectedColumn\\\\\\\\\\\\\": \\\\\\\\\\\\\"BloodPressure\\\\\\\\\\\\\"}}, \\\\\\\\\\\\\"typeProperty\\\\\\\\\\\\\": 2}, {\\\\\\\\\\\\\"column\\\\\\\\\\\\\": {\\\\\\\\\\\\\"type\\\\\\\\\\\\\": 2, \\\\\\\\\\\\\"details\\\\\\\\\\\\\": {\\\\\\\\\\\\\"selectedColumn\\\\\\\\\\\\\": \\\\\\\\\\\\\"SkinThickness\\\\\\\\\\\\\"}}, \\\\\\\\\\\\\"typeProperty\\\\\\\\\\\\\": 2}, {\\\\\\\\\\\\\"column\\\\\\\\\\\\\": {\\\\\\\\\\\\\"type\\\\\\\\\\\\\": 2, \\\\\\\\\\\\\"details\\\\\\\\\\\\\": {\\\\\\\\\\\\\"selectedColumn\\\\\\\\\\\\\": \\\\\\\\\\\\\"Insulin\\\\\\\\\\\\\"}}, \\\\\\\\\\\\\"typeProperty\\\\\\\\\\\\\": 2}, {\\\\\\\\\\\\\"column\\\\\\\\\\\\\": {\\\\\\\\\\\\\"type\\\\\\\\\\\\\": 2, \\\\\\\\\\\\\"details\\\\\\\\\\\\\": {\\\\\\\\\\\\\"selectedColumn\\\\\\\\\\\\\": \\\\\\\\\\\\\"BMI\\\\\\\\\\\\\"}}, \\\\\\\\\\\\\"typeProperty\\\\\\\\\\\\\": 3}, {\\\\\\\\\\\\\"column\\\\\\\\\\\\\": {\\\\\\\\\\\\\"type\\\\\\\\\\\\\": 2, \\\\\\\\\\\\\"details\\\\\\\\\\\\\": {\\\\\\\\\\\\\"selectedColumn\\\\\\\\\\\\\": \\\\\\\\\\\\\"DiabetesPedigreeFunction\\\\\\\\\\\\\"}}, \\\\\\\\\\\\\"typeProperty\\\\\\\\\\\\\": 3}, {\\\\\\\\\\\\\"column\\\\\\\\\\\\\": {\\\\\\\\\\\\\"type\\\\\\\\\\\\\": 2, \\\\\\\\\\\\\"details\\\\\\\\\\\\\": {\\\\\\\\\\\\\"selectedColumn\\\\\\\\\\\\\": \\\\\\\\\\\\\"Age\\\\\\\\\\\\\"}}, \\\\\\\\\\\\\"typeProperty\\\\\\\\\\\\\": 2}, {\\\\\\\\\\\\\"column\\\\\\\\\\\\\": {\\\\\\\\\\\\\"type\\\\\\\\\\\\\": 2, \\\\\\\\\\\\\"details\\\\\\\\\\\\\": {\\\\\\\\\\\\\"selectedColumn\\\\\\\\\\\\\": \\\\\\\\\\\\\"Outcome\\\\\\\\\\\\\"}}, \\\\\\\\\\\\\"typeProperty\\\\\\\\\\\\\": 2}]}, \\\\\\\\\\\\\"localData\\\\\\\\\\\\\": {}, \\\\\\\\\\\\\"isEnabled\\\\\\\\\\\\\": true, \\\\\\\\\\\\\"name\\\\\\\\\\\\\": null, \\\\\\\\\\\\\"annotation\\\\\\\\\\\\\": null}], \\\\\\\\\\\\\"inspectors\\\\\\\\\\\\\": [], \\\\\\\\\\\\\"meta\\\\\\\\\\\\\": {\\\\\\\\\\\\\"savedDatasetId\\\\\\\\\\\\\": \\\\\\\\\\\\\"7c7c7913-6b84-4d32-8e9d-ce0a19d38cfe\\\\\\\\\\\\\", \\\\\\\\\\\\\"datasetType\\\\\\\\\\\\\": \\\\\\\\\\\\\"tabular\\\\\\\\\\\\\", \\\\\\\\\\\\\"subscriptionId\\\\\\\\\\\\\": \\\\\\\\\\\\\"61c5c3f0-6dc7-4ed9-a7f3-c704b20e3b30\\\\\\\\\\\\\", \\\\\\\\\\\\\"workspaceId\\\\\\\\\\\\\": \\\\\\\\\\\\\"694a26d0-1cff-4d00-bb6c-7f3e9cc4dd1c\\\\\\\\\\\\\", \\\\\\\\\\\\\"workspaceLocation\\\\\\\\\\\\\": \\\\\\\\\\\\\"southcentralus\\\\\\\\\\\\\"}}\\\\\", \\\\\"activities\\\\\": 0}',\n",
       "  'EnableSubsampling': None,\n",
       "  'runTemplate': 'AutoML',\n",
       "  'azureml.runsource': 'automl',\n",
       "  'display_task_type': 'classification',\n",
       "  'dependencies_versions': '{\"azureml-widgets\": \"1.19.0\", \"azureml-train\": \"1.19.0\", \"azureml-train-restclients-hyperdrive\": \"1.19.0\", \"azureml-train-core\": \"1.19.0\", \"azureml-train-automl\": \"1.19.0\", \"azureml-train-automl-runtime\": \"1.19.0\", \"azureml-train-automl-client\": \"1.19.0\", \"azureml-tensorboard\": \"1.19.0\", \"azureml-telemetry\": \"1.19.0\", \"azureml-sdk\": \"1.19.0\", \"azureml-samples\": \"0+unknown\", \"azureml-pipeline\": \"1.19.0\", \"azureml-pipeline-steps\": \"1.19.0\", \"azureml-pipeline-core\": \"1.19.0\", \"azureml-opendatasets\": \"1.19.0\", \"azureml-model-management-sdk\": \"1.0.1b6.post1\", \"azureml-mlflow\": \"1.19.0\", \"azureml-interpret\": \"1.19.0\", \"azureml-explain-model\": \"1.19.0\", \"azureml-defaults\": \"1.19.0\", \"azureml-dataset-runtime\": \"1.19.0\", \"azureml-dataprep\": \"2.6.1\", \"azureml-dataprep-rslex\": \"1.4.0\", \"azureml-dataprep-native\": \"26.0.0\", \"azureml-datadrift\": \"1.19.0\", \"azureml-core\": \"1.19.0\", \"azureml-contrib-services\": \"1.19.0\", \"azureml-contrib-server\": \"1.19.0\", \"azureml-contrib-reinforcementlearning\": \"1.19.0\", \"azureml-contrib-pipeline-steps\": \"1.19.0\", \"azureml-contrib-notebook\": \"1.19.0\", \"azureml-contrib-interpret\": \"1.19.0\", \"azureml-contrib-gbdt\": \"1.19.0\", \"azureml-contrib-fairness\": \"1.19.0\", \"azureml-contrib-dataset\": \"1.19.0\", \"azureml-cli-common\": \"1.19.0\", \"azureml-automl-runtime\": \"1.19.0\", \"azureml-automl-core\": \"1.19.0\", \"azureml-accel-models\": \"1.19.0\"}',\n",
       "  '_aml_system_scenario_identification': 'Remote.Parent',\n",
       "  'ClientType': 'SDK',\n",
       "  'environment_cpu_name': 'AzureML-AutoML',\n",
       "  'environment_cpu_label': 'prod',\n",
       "  'environment_gpu_name': 'AzureML-AutoML-GPU',\n",
       "  'environment_gpu_label': 'prod',\n",
       "  'root_attribution': 'automl',\n",
       "  'attribution': 'AutoML',\n",
       "  'Orchestrator': 'AutoML',\n",
       "  'CancelUri': 'https://southcentralus.experiments.azureml.net/jasmine/v1.0/subscriptions/61c5c3f0-6dc7-4ed9-a7f3-c704b20e3b30/resourceGroups/aml-quickstarts-132551/providers/Microsoft.MachineLearningServices/workspaces/quick-starts-ws-132551/experimentids/1bf7d9b9-873e-4e6e-a889-d7ae034f3813/cancel/AutoML_54122130-bfd5-4d79-a46b-f5733880b4a7',\n",
       "  'ClientSdkVersion': '1.19.0',\n",
       "  'snapshotId': '00000000-0000-0000-0000-000000000000',\n",
       "  'SetupRunId': 'AutoML_54122130-bfd5-4d79-a46b-f5733880b4a7_setup',\n",
       "  'SetupRunContainerId': 'dcid.AutoML_54122130-bfd5-4d79-a46b-f5733880b4a7_setup',\n",
       "  'FeaturizationRunJsonPath': 'featurizer_container.json',\n",
       "  'FeaturizationRunId': 'AutoML_54122130-bfd5-4d79-a46b-f5733880b4a7_featurize',\n",
       "  'ProblemInfoJsonString': '{\"dataset_num_categorical\": 0, \"is_sparse\": false, \"subsampling\": false, \"dataset_classes\": 2, \"dataset_features\": 8, \"dataset_samples\": 614, \"single_frequency_class_detected\": false}',\n",
       "  'ModelExplainRunId': 'AutoML_54122130-bfd5-4d79-a46b-f5733880b4a7_ModelExplain'},\n",
       " 'inputDatasets': [{'dataset': {'id': '7c7c7913-6b84-4d32-8e9d-ce0a19d38cfe'}, 'consumptionDetails': {'type': 'RunInput', 'inputName': 'training_data', 'mechanism': 'Direct'}}],\n",
       " 'outputDatasets': [],\n",
       " 'logFiles': {}}"
      ]
     },
     "execution_count": 73,
     "metadata": {},
     "output_type": "execute_result"
    }
   ],
   "source": [
    "from azureml.widgets import RunDetails\n",
    "RunDetails(remote_run).show()\n",
    "\n",
    "# wait for completion\n",
    "remote_run.wait_for_completion(show_output=True)"
   ]
  },
  {
   "cell_type": "markdown",
   "metadata": {},
   "source": [
    "## Best Model\n",
    "\n"
   ]
  },
  {
   "cell_type": "code",
   "execution_count": 74,
   "metadata": {
    "gather": {
     "logged": 1609087589251
    },
    "jupyter": {
     "outputs_hidden": false,
     "source_hidden": false
    },
    "nteract": {
     "transient": {
      "deleting": false
     }
    }
   },
   "outputs": [
    {
     "name": "stdout",
     "output_type": "stream",
     "text": [
      "Run(Experiment: puru-auto-experiment,\n",
      "Id: AutoML_54122130-bfd5-4d79-a46b-f5733880b4a7_36,\n",
      "Type: azureml.scriptrun,\n",
      "Status: Completed)\n",
      "Best Model: AutoML54122130b36\n"
     ]
    },
    {
     "data": {
      "text/plain": [
       "{'runTemplate': 'automl_child',\n",
       " 'pipeline_id': '__AutoML_Ensemble__',\n",
       " 'pipeline_spec': '{\"pipeline_id\":\"__AutoML_Ensemble__\",\"objects\":[{\"module\":\"azureml.train.automl.ensemble\",\"class_name\":\"Ensemble\",\"spec_class\":\"sklearn\",\"param_args\":[],\"param_kwargs\":{\"automl_settings\":\"{\\'task_type\\':\\'classification\\',\\'primary_metric\\':\\'accuracy\\',\\'verbosity\\':20,\\'ensemble_iterations\\':15,\\'is_timeseries\\':False,\\'name\\':\\'puru-auto-experiment\\',\\'compute_target\\':\\'puru-compute-new\\',\\'subscription_id\\':\\'61c5c3f0-6dc7-4ed9-a7f3-c704b20e3b30\\',\\'region\\':\\'southcentralus\\',\\'spark_service\\':None}\",\"ensemble_run_id\":\"AutoML_54122130-bfd5-4d79-a46b-f5733880b4a7_36\",\"experiment_name\":\"puru-auto-experiment\",\"workspace_name\":\"quick-starts-ws-132551\",\"subscription_id\":\"61c5c3f0-6dc7-4ed9-a7f3-c704b20e3b30\",\"resource_group_name\":\"aml-quickstarts-132551\"}}]}',\n",
       " 'training_percent': '100',\n",
       " 'predicted_cost': None,\n",
       " 'iteration': '36',\n",
       " '_aml_system_scenario_identification': 'Remote.Child',\n",
       " '_azureml.ComputeTargetType': 'amlcompute',\n",
       " 'ContentSnapshotId': '68a9eda6-d063-416b-b4ee-fef757ee42b6',\n",
       " 'ProcessInfoFile': 'azureml-logs/process_info.json',\n",
       " 'ProcessStatusFile': 'azureml-logs/process_status.json',\n",
       " 'run_template': 'automl_child',\n",
       " 'run_preprocessor': '',\n",
       " 'run_algorithm': 'VotingEnsemble',\n",
       " 'conda_env_data_location': 'aml://artifact/ExperimentRun/dcid.AutoML_54122130-bfd5-4d79-a46b-f5733880b4a7_36/outputs/conda_env_v_1_0_0.yml',\n",
       " 'model_data_location': 'aml://artifact/ExperimentRun/dcid.AutoML_54122130-bfd5-4d79-a46b-f5733880b4a7_36/outputs/model.pkl',\n",
       " 'model_size_on_disk': '1351186',\n",
       " 'scoring_data_location': 'aml://artifact/ExperimentRun/dcid.AutoML_54122130-bfd5-4d79-a46b-f5733880b4a7_36/outputs/scoring_file_v_1_0_0.py',\n",
       " 'model_exp_support': 'True',\n",
       " 'pipeline_graph_version': '1.0.0',\n",
       " 'model_name': 'AutoML54122130b36',\n",
       " 'staticProperties': '{}',\n",
       " 'score': '0.7785110792284393',\n",
       " 'run_properties': \"classification_labels=None,\\n                              estimators=[('8',\\n                                           Pipeline(memory=None,\\n                                                    steps=[('minmaxscaler',\\n                                                            MinMaxScaler(copy=True,\\n                                                                         feature_range=(0,\\n                                                                                        1\",\n",
       " 'pipeline_script': '{\"pipeline_id\":\"__AutoML_Ensemble__\",\"objects\":[{\"module\":\"azureml.train.automl.ensemble\",\"class_name\":\"Ensemble\",\"spec_class\":\"sklearn\",\"param_args\":[],\"param_kwargs\":{\"automl_settings\":\"{\\'task_type\\':\\'classification\\',\\'primary_metric\\':\\'accuracy\\',\\'verbosity\\':20,\\'ensemble_iterations\\':15,\\'is_timeseries\\':False,\\'name\\':\\'puru-auto-experiment\\',\\'compute_target\\':\\'puru-compute-new\\',\\'subscription_id\\':\\'61c5c3f0-6dc7-4ed9-a7f3-c704b20e3b30\\',\\'region\\':\\'southcentralus\\',\\'spark_service\\':None}\",\"ensemble_run_id\":\"AutoML_54122130-bfd5-4d79-a46b-f5733880b4a7_36\",\"experiment_name\":\"puru-auto-experiment\",\"workspace_name\":\"quick-starts-ws-132551\",\"subscription_id\":\"61c5c3f0-6dc7-4ed9-a7f3-c704b20e3b30\",\"resource_group_name\":\"aml-quickstarts-132551\"}}]}',\n",
       " 'training_type': 'MeanCrossValidation',\n",
       " 'num_classes': '',\n",
       " 'framework': 'sklearn',\n",
       " 'fit_time': '26',\n",
       " 'goal': 'accuracy_max',\n",
       " 'class_labels': '',\n",
       " 'primary_metric': 'accuracy',\n",
       " 'errors': '{}',\n",
       " 'fitted_pipeline': \"Pipeline(memory=None,\\n         steps=[('datatransformer',\\n                 DataTransformer(enable_dnn=None, enable_feature_sweeping=None,\\n                                 feature_sweeping_config=None,\\n                                 feature_sweeping_timeout=None,\\n                                 featurization_config=None, force_text_dnn=None,\\n                                 is_cross_validation=None,\\n                                 is_onnx_compatible=None, logger=None,\\n                                 observer=None, task=None, working_dir=None)),\\n                ('prefittedsoftvotingclassifier',...\\n                                                                                                subsample=1,\\n                                                                                                subsample_for_bin=200000,\\n                                                                                                subsample_freq=0,\\n                                                                                                verbose=-10))],\\n                                                                     verbose=False))],\\n                                               flatten_transform=None,\\n                                               weights=[0.14285714285714285,\\n                                                        0.07142857142857142,\\n                                                        0.07142857142857142,\\n                                                        0.07142857142857142,\\n                                                        0.07142857142857142,\\n                                                        0.07142857142857142,\\n                                                        0.21428571428571427,\\n                                                        0.07142857142857142,\\n                                                        0.07142857142857142,\\n                                                        0.07142857142857142,\\n                                                        0.07142857142857142]))],\\n         verbose=False)\",\n",
       " 'friendly_errors': '{}',\n",
       " 'onnx_model_resource': \"{'RawColumnNameToOnnxNameMap': {'Pregnancies': 'Pregnancies', 'Glucose': 'Glucose', 'BloodPressure': 'BloodPressure', 'SkinThickness': 'SkinThickness', 'Insulin': 'Insulin', 'BMI': 'BMI', 'DiabetesPedigreeFunction': 'DiabetesPedigreeFunction', 'Age': 'Age'}, 'InputRawColumnSchema': {'Pregnancies': 'floating', 'Glucose': 'floating', 'BloodPressure': 'floating', 'SkinThickness': 'floating', 'Insulin': 'floating', 'BMI': 'floating', 'DiabetesPedigreeFunction': 'floating', 'Age': 'floating'}, 'InputOnnxColumnSchema': {'Pregnancies': 'FloatTensorType', 'Glucose': 'FloatTensorType', 'BloodPressure': 'FloatTensorType', 'SkinThickness': 'FloatTensorType', 'Insulin': 'FloatTensorType', 'BMI': 'FloatTensorType', 'DiabetesPedigreeFunction': 'FloatTensorType', 'Age': 'FloatTensorType'}, 'CanEnableBatchMode': False}\",\n",
       " 'error_code': '',\n",
       " 'failure_reason': '',\n",
       " 'feature_skus': 'automatedml_sdk_guardrails',\n",
       " 'dependencies_versions': '{\"azureml-train-automl-runtime\": \"1.19.0\", \"azureml-train-automl-client\": \"1.19.0\", \"azureml-telemetry\": \"1.19.0\", \"azureml-pipeline-core\": \"1.19.0\", \"azureml-model-management-sdk\": \"1.0.1b6.post1\", \"azureml-interpret\": \"1.19.0\", \"azureml-defaults\": \"1.19.0\", \"azureml-dataset-runtime\": \"1.19.0\", \"azureml-dataprep\": \"2.6.1\", \"azureml-dataprep-rslex\": \"1.4.0\", \"azureml-dataprep-native\": \"26.0.0\", \"azureml-core\": \"1.19.0\", \"azureml-automl-runtime\": \"1.19.0\", \"azureml-automl-core\": \"1.19.0\"}',\n",
       " 'num_cores': '2',\n",
       " 'num_logical_cores': '2',\n",
       " 'peak_memory_usage': '577508',\n",
       " 'vm_configuration': 'Intel(R) Xeon(R) Platinum 8171M CPU @ 2.60GHz',\n",
       " 'core_hours': '0.0060832916666666665'}"
      ]
     },
     "execution_count": 74,
     "metadata": {},
     "output_type": "execute_result"
    }
   ],
   "source": [
    "# Retrieve the best automl run model\n",
    "best_automl_run, fitted_automl_model = remote_run.get_output()\n",
    "print(best_automl_run)\n",
    "\n",
    "# get best model and display properties\n",
    "model_name = best_automl_run.properties['model_name']\n",
    "print(\"Best Model:\", model_name)\n",
    "\n",
    "# display all the properties of the best model\n",
    "#best_automl_run #.properties\n",
    "best_automl_run.get_properties()"
   ]
  },
  {
   "cell_type": "code",
   "execution_count": 14,
   "metadata": {},
   "outputs": [
    {
     "data": {
      "text/plain": [
       "['automlmodel.pkl']"
      ]
     },
     "execution_count": 14,
     "metadata": {},
     "output_type": "execute_result"
    }
   ],
   "source": [
    "#import joblib\n",
    "#joblib.dump(fitted_automl_model, 'automlmodel.pkl')"
   ]
  },
  {
   "cell_type": "code",
   "execution_count": 78,
   "metadata": {},
   "outputs": [
    {
     "name": "stdout",
     "output_type": "stream",
     "text": [
      "Registering model automlmodel\n",
      "automlmodel\tautomlmodel:3\t3\n"
     ]
    }
   ],
   "source": [
    "import sklearn\n",
    "# register best autoML model for future deployment\n",
    "from azureml.core.model import Model\n",
    "model= Model.register(workspace = ws, model_name='automlmodel', model_path='automlmodel.pkl', model_framework=Model.Framework.SCIKITLEARN,\n",
    "model_framework_version=sklearn.__version__)\n",
    "print(model.name, model.id, model.version, sep='\\t')"
   ]
  },
  {
   "cell_type": "code",
   "execution_count": 79,
   "metadata": {},
   "outputs": [],
   "source": [
    "# Save the best model\n",
    "os.makedirs('outputs', exist_ok=True)\n",
    "best_automl_run.download_file('outputs/model.pkl', 'outputs/automlmodel.pkl')\n",
    "best_automl_run.download_file('outputs/scoring_file_v_1_0_0.py', 'outputs/score_aml.py')\n",
    "best_automl_run.download_file('automl_driver.py', 'outputs/automl_driver.py')"
   ]
  },
  {
   "cell_type": "code",
   "execution_count": 80,
   "metadata": {},
   "outputs": [],
   "source": [
    "import pickle\n",
    "file = open(\"outputs/automlmodel.pkl\",'rb')\n",
    "aml_model = pickle.load(file)\n",
    "file.close()"
   ]
  },
  {
   "cell_type": "code",
   "execution_count": 81,
   "metadata": {},
   "outputs": [
    {
     "name": "stdout",
     "output_type": "stream",
     "text": [
      "0.91796875\n"
     ]
    }
   ],
   "source": [
    "from train import clean_data\n",
    "from sklearn.metrics import accuracy_score\n",
    "import pandas as pd\n",
    "\n",
    "\n",
    "factory = TabularDatasetFactory()\n",
    "test_data_path = \"https://raw.githubusercontent.com/purunep/Capstoneproject/main/project/data/diabetes.csv\"\n",
    "test_ds = pd.read_csv(test_data_path)\n",
    "y_test = test_ds[['Outcome']]\n",
    "print(accuracy_score(aml_model.predict(test_ds.drop(columns=['Outcome'])), y_test))"
   ]
  },
  {
   "cell_type": "code",
   "execution_count": 82,
   "metadata": {},
   "outputs": [
    {
     "name": "stdout",
     "output_type": "stream",
     "text": [
      "              precision    recall  f1-score   support\n",
      "\n",
      "           0       0.92      0.96      0.94       500\n",
      "           1       0.92      0.84      0.88       268\n",
      "\n",
      "    accuracy                           0.92       768\n",
      "   macro avg       0.92      0.90      0.91       768\n",
      "weighted avg       0.92      0.92      0.92       768\n",
      "\n"
     ]
    }
   ],
   "source": [
    "from sklearn.metrics import classification_report\n",
    "print(classification_report(y_test, aml_model.predict(test_ds.drop(columns=['Outcome']))))"
   ]
  },
  {
   "cell_type": "code",
   "execution_count": 39,
   "metadata": {},
   "outputs": [
    {
     "name": "stdout",
     "output_type": "stream",
     "text": [
      "Registering model automl_puru\n"
     ]
    }
   ],
   "source": [
    "#from azureml.core.model import Model\n",
    "\n",
    "#model = Model.register(workspace = ws,\n",
    "                        #model_path =\"automlmodel.pkl\",\n",
    "                        #model_name = \"automl_puru\")"
   ]
  },
  {
   "cell_type": "code",
   "execution_count": 83,
   "metadata": {},
   "outputs": [
    {
     "name": "stdout",
     "output_type": "stream",
     "text": [
      "automlmodel\n"
     ]
    }
   ],
   "source": [
    "\n",
    "print(model.name)"
   ]
  },
  {
   "cell_type": "markdown",
   "metadata": {},
   "source": [
    "## Model Deployment"
   ]
  },
  {
   "cell_type": "code",
   "execution_count": 84,
   "metadata": {},
   "outputs": [],
   "source": [
    "from azureml.core.environment import Environment\n",
    "from azureml.core.model import InferenceConfig\n",
    "from azureml.core.webservice import AciWebservice\n",
    "from azureml.core.model import Model"
   ]
  },
  {
   "cell_type": "code",
   "execution_count": 85,
   "metadata": {},
   "outputs": [
    {
     "name": "stdout",
     "output_type": "stream",
     "text": [
      "Overwriting autoscore.py\n"
     ]
    }
   ],
   "source": [
    "%%writefile autoscore.py\n",
    "import json\n",
    "import numpy as np\n",
    "import os\n",
    "import pickle\n",
    "import joblib\n",
    "from azureml.core.model import Model\n",
    "\n",
    "def init():\n",
    "    global model\n",
    "    model_path = os.path.join(os.getenv('AZUREML_MODEL_DIR'), 'automlmodel.pkl')\n",
    "    model = joblib.load(model_path)\n",
    "    \n",
    "\n",
    "def run(raw_data):\n",
    "    data = np.array(json.loads(raw_data)['data'])\n",
    "    # make prediction\n",
    "    y_hat = model.predict(data)\n",
    "    # you can return any data type as long as it is JSON-serializable\n",
    "    return y_hat.tolist()"
   ]
  },
  {
   "cell_type": "code",
   "execution_count": 86,
   "metadata": {},
   "outputs": [
    {
     "name": "stdout",
     "output_type": "stream",
     "text": [
      "Overwriting env.yml\n"
     ]
    }
   ],
   "source": [
    "%%writefile env.yml\n",
    "channels:\n",
    "- anaconda\n",
    "- conda-forge\n",
    "dependencies:\n",
    "- pip\n",
    "- python=3.6.2\n",
    "- pip:\n",
    "  - azureml-core==1.19.0\n",
    "  - azureml-defaults==1.19.0\n",
    "  - azureml-telemetry==1.19.0\n",
    "  - azureml-train-restclients-hyperdrive==1.19.0\n",
    "  - azureml-train-core==1.19.0\n",
    "  - azureml-widgets==1.19.0\n",
    "  - azureml-pipeline-core==1.19.0\n",
    "  - azureml-pipeline-steps==1.19.0\n",
    "  - azureml-opendatasets==1.19.0\n",
    "  - azureml-automl-core==1.19.0\n",
    "  - azureml-automl-runtime==1.19.0\n",
    "  - azureml-train-automl-client==1.19.0\n",
    "  - azureml-train-automl-runtime==1.19.0\n",
    "  - azureml-train-automl==1.19.0\n",
    "  - azureml-train==1.19.0\n",
    "  - azureml-sdk==1.19.0\n",
    "  - azureml-interpret==1.19.0\n",
    "  - azureml-tensorboard==1.19.0\n",
    "  - azureml-mlflow==1.19.0\n",
    "  - mlflow\n",
    "  - sklearn-pandas\n",
    "  - scikit-learn\n",
    "- pandas\n",
    "- numpy\n",
    "- tqdm\n",
    "- py-xgboost\n",
    "- joblib\n",
    "- xgboost\n",
    "- scikit-learn\n",
    "- matplotlib\n",
    "name: azureml_b1836710baabf05d37337a101fa8d6d1"
   ]
  },
  {
   "cell_type": "code",
   "execution_count": 87,
   "metadata": {},
   "outputs": [],
   "source": [
    "from azureml.core.environment import Environment\n",
    "from azureml.core.model import InferenceConfig\n",
    "\n",
    "\n",
    "env = Environment.from_conda_specification(name='puruenv',file_path = 'env.yml')\n",
    "inference_config = InferenceConfig(entry_script='./autoscore.py',\n",
    "                                    environment=env)"
   ]
  },
  {
   "cell_type": "code",
   "execution_count": 88,
   "metadata": {},
   "outputs": [
    {
     "name": "stdout",
     "output_type": "stream",
     "text": [
      "Tips: You can try get_logs(): https://aka.ms/debugimage#dockerlog or local deployment: https://aka.ms/debugimage#debug-locally to debug if deployment takes longer than 10 minutes.\n",
      "Running................................................\n",
      "Succeeded\n",
      "ACI service creation operation finished, operation \"Succeeded\"\n",
      "Healthy\n"
     ]
    }
   ],
   "source": [
    "from azureml.core.webservice import AciWebservice,Webservice\n",
    "from azureml.core.model import Model\n",
    "\n",
    "deployment_config = AciWebservice.deploy_configuration(cpu_cores = 1, memory_gb = 1,enable_app_insights = True, auth_enabled=True)\n",
    "service = Model.deploy(ws, \"puruautoservice\", [model], inference_config, deployment_config)\n",
    "service.wait_for_deployment(show_output = True)\n",
    "print(service.state)"
   ]
  },
  {
   "cell_type": "code",
   "execution_count": 89,
   "metadata": {},
   "outputs": [
    {
     "name": "stdout",
     "output_type": "stream",
     "text": [
      "2020-12-31T01:12:07,671663303+00:00 - nginx/run \n",
      "/usr/sbin/nginx: /azureml-envs/azureml_afca42347aeb1ef9abd9ee384fe31fec/lib/libcrypto.so.1.0.0: no version information available (required by /usr/sbin/nginx)\n",
      "/usr/sbin/nginx: /azureml-envs/azureml_afca42347aeb1ef9abd9ee384fe31fec/lib/libcrypto.so.1.0.0: no version information available (required by /usr/sbin/nginx)\n",
      "/usr/sbin/nginx: /azureml-envs/azureml_afca42347aeb1ef9abd9ee384fe31fec/lib/libssl.so.1.0.0: no version information available (required by /usr/sbin/nginx)\n",
      "/usr/sbin/nginx: /azureml-envs/azureml_afca42347aeb1ef9abd9ee384fe31fec/lib/libssl.so.1.0.0: no version information available (required by /usr/sbin/nginx)\n",
      "/usr/sbin/nginx: /azureml-envs/azureml_afca42347aeb1ef9abd9ee384fe31fec/lib/libssl.so.1.0.0: no version information available (required by /usr/sbin/nginx)\n",
      "2020-12-31T01:12:07,716705696+00:00 - iot-server/run \n",
      "2020-12-31T01:12:07,716846797+00:00 - rsyslog/run \n",
      "2020-12-31T01:12:07,717559301+00:00 - gunicorn/run \n",
      "rsyslogd: /azureml-envs/azureml_afca42347aeb1ef9abd9ee384fe31fec/lib/libuuid.so.1: no version information available (required by rsyslogd)\n",
      "EdgeHubConnectionString and IOTEDGE_IOTHUBHOSTNAME are not set. Exiting...\n",
      "2020-12-31T01:12:07,886320997+00:00 - iot-server/finish 1 0\n",
      "2020-12-31T01:12:07,887721206+00:00 - Exit code 1 is normal. Not restarting iot-server.\n",
      "Starting gunicorn 19.9.0\n",
      "Listening at: http://127.0.0.1:31311 (17)\n",
      "Using worker: sync\n",
      "worker timeout is set to 300\n",
      "Booting worker with pid: 43\n",
      "SPARK_HOME not set. Skipping PySpark Initialization.\n",
      "Failure while loading azureml_run_type_providers. Failed to load entrypoint automl = azureml.train.automl.run:AutoMLRun._from_run_dto with exception (pyarrow 2.0.0 (/azureml-envs/azureml_afca42347aeb1ef9abd9ee384fe31fec/lib/python3.6/site-packages), Requirement.parse('pyarrow<2.0.0,>=0.17.0'), {'azureml-dataset-runtime'}).\n",
      "Initializing logger\n",
      "2020-12-31 01:12:09,411 | root | INFO | Starting up app insights client\n",
      "Starting up app insights client\n",
      "2020-12-31 01:12:09,411 | root | INFO | Starting up request id generator\n",
      "Starting up request id generator\n",
      "2020-12-31 01:12:09,411 | root | INFO | Starting up app insight hooks\n",
      "Starting up app insight hooks\n",
      "2020-12-31 01:12:09,412 | root | INFO | Invoking user's init function\n",
      "Invoking user's init function\n",
      "2020-12-31 01:12:13,039 | root | INFO | Users's init has completed successfully\n",
      "Users's init has completed successfully\n",
      "2020-12-31 01:12:13,042 | root | INFO | Skipping middleware: dbg_model_info as it's not enabled.\n",
      "Skipping middleware: dbg_model_info as it's not enabled.\n",
      "2020-12-31 01:12:13,042 | root | INFO | Skipping middleware: dbg_resource_usage as it's not enabled.\n",
      "Skipping middleware: dbg_resource_usage as it's not enabled.\n",
      "2020-12-31 01:12:13,043 | root | INFO | Scoring timeout is found from os.environ: 60000 ms\n",
      "Scoring timeout is found from os.environ: 60000 ms\n",
      "2020-12-31 01:12:19,629 | root | INFO | Swagger file not present\n",
      "Swagger file not present\n",
      "2020-12-31 01:12:19,630 | root | INFO | 404\n",
      "404\n",
      "127.0.0.1 - - [31/Dec/2020:01:12:19 +0000] \"GET /swagger.json HTTP/1.0\" 404 19 \"-\" \"Go-http-client/1.1\"\n",
      "2020-12-31 01:12:24,946 | root | INFO | Swagger file not present\n",
      "Swagger file not present\n",
      "2020-12-31 01:12:24,947 | root | INFO | 404\n",
      "404\n",
      "127.0.0.1 - - [31/Dec/2020:01:12:24 +0000] \"GET /swagger.json HTTP/1.0\" 404 19 \"-\" \"Go-http-client/1.1\"\n",
      "2020-12-31 01:15:15,489 | root | INFO | Swagger file not present\n",
      "Swagger file not present\n",
      "2020-12-31 01:15:15,490 | root | INFO | 404\n",
      "404\n",
      "127.0.0.1 - - [31/Dec/2020:01:15:15 +0000] \"GET /swagger.json HTTP/1.0\" 404 19 \"-\" \"Go-http-client/1.1\"\n",
      "\n"
     ]
    }
   ],
   "source": [
    "servicelogs = service.get_logs()\n",
    "print(servicelogs)"
   ]
  },
  {
   "cell_type": "markdown",
   "metadata": {
    "collapsed": true,
    "gather": {
     "logged": 1598431657736
    },
    "jupyter": {
     "outputs_hidden": false,
     "source_hidden": false
    },
    "nteract": {
     "transient": {
      "deleting": false
     }
    }
   },
   "source": [
    "TODO: In the cell below, send a request to the web service you deployed to test it."
   ]
  },
  {
   "cell_type": "code",
   "execution_count": 91,
   "metadata": {},
   "outputs": [
    {
     "name": "stdout",
     "output_type": "stream",
     "text": [
      "scoring URI: http://a3b73bd0-5dc7-450f-aa0a-aecf5a2ff791.southcentralus.azurecontainer.io/score\n",
      "Swagger URI: http://a3b73bd0-5dc7-450f-aa0a-aecf5a2ff791.southcentralus.azurecontainer.io/swagger.json\n",
      "Authetication Key: suiBiWrdaXkCpv24lwyL9xajJEx88exH\n"
     ]
    }
   ],
   "source": [
    "\n",
    "print(\"scoring URI: \" + service.scoring_uri)\n",
    "\n",
    "print(\"Swagger URI: \" + service.swagger_uri)\n",
    "\n",
    "print(\"Authetication Key: \" + service.get_keys()[0])"
   ]
  },
  {
   "cell_type": "markdown",
   "metadata": {
    "collapsed": true,
    "gather": {
     "logged": 1598432765711
    },
    "jupyter": {
     "outputs_hidden": false,
     "source_hidden": false
    },
    "nteract": {
     "transient": {
      "deleting": false
     }
    }
   },
   "source": [
    "TODO: In the cell below, print the logs of the web service and delete the service"
   ]
  },
  {
   "cell_type": "code",
   "execution_count": null,
   "metadata": {},
   "outputs": [],
   "source": [
    "import json\n",
    "\n",
    "input_payload = json.dumps({\n",
    "    'data': dataset_x[0:2].tolist(),\n",
    "    'method': 'predict'  # If you have a classification model, you can get probabilities by changing this to 'predict_proba'.\n",
    "})\n",
    "\n",
    "output = service.run(input_payload)\n",
    "\n",
    "print(output)"
   ]
  },
  {
   "cell_type": "code",
   "execution_count": 92,
   "metadata": {},
   "outputs": [
    {
     "name": "stderr",
     "output_type": "stream",
     "text": [
      "ERROR:azureml.core.webservice.aci:Received bad response from service. More information can be found by calling `.get_logs()` on the webservice object.\n",
      "Response Code: 502\n",
      "Headers: {'Connection': 'keep-alive', 'Content-Length': '833', 'Content-Type': 'text/html; charset=utf-8', 'Date': 'Thu, 31 Dec 2020 01:16:34 GMT', 'Server': 'nginx/1.10.3 (Ubuntu)', 'X-Ms-Request-Id': '82a3faa0-212e-40b1-bec0-3ba65f03bad5', 'X-Ms-Run-Function-Failed': 'True'}\n",
      "Content: b'DataException:\\n\\tMessage: The number of features in [fitted data](8) does not match with those in [input data](1). Please inspect your data, and make sure that features are aligned in both the Datasets.\\n\\tInnerException: None\\n\\tErrorResponse \\n{\\n    \"error\": {\\n        \"code\": \"UserError\",\\n        \"message\": \"The number of features in [fitted data](8) does not match with those in [input data](1). Please inspect your data, and make sure that features are aligned in both the Datasets.\",\\n        \"target\": \"X\",\\n        \"inner_error\": {\\n            \"code\": \"BadData\",\\n            \"inner_error\": {\\n                \"code\": \"InvalidDimension\",\\n                \"inner_error\": {\\n                    \"code\": \"DataShapeMismatch\"\\n                }\\n            }\\n        },\\n        \"reference_code\": \"c402b6c2-3870-45a7-8745-c063bd385962\"\\n    }\\n}'\n",
      "\n"
     ]
    },
    {
     "ename": "WebserviceException",
     "evalue": "WebserviceException:\n\tMessage: Received bad response from service. More information can be found by calling `.get_logs()` on the webservice object.\nResponse Code: 502\nHeaders: {'Connection': 'keep-alive', 'Content-Length': '833', 'Content-Type': 'text/html; charset=utf-8', 'Date': 'Thu, 31 Dec 2020 01:16:34 GMT', 'Server': 'nginx/1.10.3 (Ubuntu)', 'X-Ms-Request-Id': '82a3faa0-212e-40b1-bec0-3ba65f03bad5', 'X-Ms-Run-Function-Failed': 'True'}\nContent: b'DataException:\\n\\tMessage: The number of features in [fitted data](8) does not match with those in [input data](1). Please inspect your data, and make sure that features are aligned in both the Datasets.\\n\\tInnerException: None\\n\\tErrorResponse \\n{\\n    \"error\": {\\n        \"code\": \"UserError\",\\n        \"message\": \"The number of features in [fitted data](8) does not match with those in [input data](1). Please inspect your data, and make sure that features are aligned in both the Datasets.\",\\n        \"target\": \"X\",\\n        \"inner_error\": {\\n            \"code\": \"BadData\",\\n            \"inner_error\": {\\n                \"code\": \"InvalidDimension\",\\n                \"inner_error\": {\\n                    \"code\": \"DataShapeMismatch\"\\n                }\\n            }\\n        },\\n        \"reference_code\": \"c402b6c2-3870-45a7-8745-c063bd385962\"\\n    }\\n}'\n\tInnerException None\n\tErrorResponse \n{\n    \"error\": {\n        \"message\": \"Received bad response from service. More information can be found by calling `.get_logs()` on the webservice object.\\nResponse Code: 502\\nHeaders: {'Connection': 'keep-alive', 'Content-Length': '833', 'Content-Type': 'text/html; charset=utf-8', 'Date': 'Thu, 31 Dec 2020 01:16:34 GMT', 'Server': 'nginx/1.10.3 (Ubuntu)', 'X-Ms-Request-Id': '82a3faa0-212e-40b1-bec0-3ba65f03bad5', 'X-Ms-Run-Function-Failed': 'True'}\\nContent: b'DataException:\\\\n\\\\tMessage: The number of features in [fitted data](8) does not match with those in [input data](1). Please inspect your data, and make sure that features are aligned in both the Datasets.\\\\n\\\\tInnerException: None\\\\n\\\\tErrorResponse \\\\n{\\\\n    \\\"error\\\": {\\\\n        \\\"code\\\": \\\"UserError\\\",\\\\n        \\\"message\\\": \\\"The number of features in [fitted data](8) does not match with those in [input data](1). Please inspect your data, and make sure that features are aligned in both the Datasets.\\\",\\\\n        \\\"target\\\": \\\"X\\\",\\\\n        \\\"inner_error\\\": {\\\\n            \\\"code\\\": \\\"BadData\\\",\\\\n            \\\"inner_error\\\": {\\\\n                \\\"code\\\": \\\"InvalidDimension\\\",\\\\n                \\\"inner_error\\\": {\\\\n                    \\\"code\\\": \\\"DataShapeMismatch\\\"\\\\n                }\\\\n            }\\\\n        },\\\\n        \\\"reference_code\\\": \\\"c402b6c2-3870-45a7-8745-c063bd385962\\\"\\\\n    }\\\\n}'\"\n    }\n}",
     "output_type": "error",
     "traceback": [
      "\u001b[0;31m---------------------------------------------------------------------------\u001b[0m",
      "\u001b[0;31mWebserviceException\u001b[0m                       Traceback (most recent call last)",
      "\u001b[0;32m<ipython-input-92-b1c9e375519b>\u001b[0m in \u001b[0;36m<module>\u001b[0;34m\u001b[0m\n\u001b[1;32m     30\u001b[0m })\n\u001b[1;32m     31\u001b[0m \u001b[0;34m\u001b[0m\u001b[0m\n\u001b[0;32m---> 32\u001b[0;31m \u001b[0moutput\u001b[0m \u001b[0;34m=\u001b[0m \u001b[0mservice\u001b[0m\u001b[0;34m.\u001b[0m\u001b[0mrun\u001b[0m\u001b[0;34m(\u001b[0m\u001b[0mpayload\u001b[0m\u001b[0;34m)\u001b[0m\u001b[0;34m\u001b[0m\u001b[0;34m\u001b[0m\u001b[0m\n\u001b[0m",
      "\u001b[0;32m/anaconda/envs/azureml_py36/lib/python3.6/site-packages/azureml/core/webservice/aci.py\u001b[0m in \u001b[0;36mrun\u001b[0;34m(self, input_data)\u001b[0m\n\u001b[1;32m    403\u001b[0m                                       \u001b[0;34m'Headers: {}\\n'\u001b[0m\u001b[0;34m\u001b[0m\u001b[0;34m\u001b[0m\u001b[0m\n\u001b[1;32m    404\u001b[0m                                       \u001b[0;34m'Content: {}'\u001b[0m\u001b[0;34m.\u001b[0m\u001b[0mformat\u001b[0m\u001b[0;34m(\u001b[0m\u001b[0mresp\u001b[0m\u001b[0;34m.\u001b[0m\u001b[0mstatus_code\u001b[0m\u001b[0;34m,\u001b[0m \u001b[0mresp\u001b[0m\u001b[0;34m.\u001b[0m\u001b[0mheaders\u001b[0m\u001b[0;34m,\u001b[0m \u001b[0mresp\u001b[0m\u001b[0;34m.\u001b[0m\u001b[0mcontent\u001b[0m\u001b[0;34m)\u001b[0m\u001b[0;34m,\u001b[0m\u001b[0;34m\u001b[0m\u001b[0;34m\u001b[0m\u001b[0m\n\u001b[0;32m--> 405\u001b[0;31m                                       logger=module_logger)\n\u001b[0m\u001b[1;32m    406\u001b[0m \u001b[0;34m\u001b[0m\u001b[0m\n\u001b[1;32m    407\u001b[0m     def update(self, image=None, tags=None, properties=None, description=None, auth_enabled=None, ssl_enabled=None,\n",
      "\u001b[0;31mWebserviceException\u001b[0m: WebserviceException:\n\tMessage: Received bad response from service. More information can be found by calling `.get_logs()` on the webservice object.\nResponse Code: 502\nHeaders: {'Connection': 'keep-alive', 'Content-Length': '833', 'Content-Type': 'text/html; charset=utf-8', 'Date': 'Thu, 31 Dec 2020 01:16:34 GMT', 'Server': 'nginx/1.10.3 (Ubuntu)', 'X-Ms-Request-Id': '82a3faa0-212e-40b1-bec0-3ba65f03bad5', 'X-Ms-Run-Function-Failed': 'True'}\nContent: b'DataException:\\n\\tMessage: The number of features in [fitted data](8) does not match with those in [input data](1). Please inspect your data, and make sure that features are aligned in both the Datasets.\\n\\tInnerException: None\\n\\tErrorResponse \\n{\\n    \"error\": {\\n        \"code\": \"UserError\",\\n        \"message\": \"The number of features in [fitted data](8) does not match with those in [input data](1). Please inspect your data, and make sure that features are aligned in both the Datasets.\",\\n        \"target\": \"X\",\\n        \"inner_error\": {\\n            \"code\": \"BadData\",\\n            \"inner_error\": {\\n                \"code\": \"InvalidDimension\",\\n                \"inner_error\": {\\n                    \"code\": \"DataShapeMismatch\"\\n                }\\n            }\\n        },\\n        \"reference_code\": \"c402b6c2-3870-45a7-8745-c063bd385962\"\\n    }\\n}'\n\tInnerException None\n\tErrorResponse \n{\n    \"error\": {\n        \"message\": \"Received bad response from service. More information can be found by calling `.get_logs()` on the webservice object.\\nResponse Code: 502\\nHeaders: {'Connection': 'keep-alive', 'Content-Length': '833', 'Content-Type': 'text/html; charset=utf-8', 'Date': 'Thu, 31 Dec 2020 01:16:34 GMT', 'Server': 'nginx/1.10.3 (Ubuntu)', 'X-Ms-Request-Id': '82a3faa0-212e-40b1-bec0-3ba65f03bad5', 'X-Ms-Run-Function-Failed': 'True'}\\nContent: b'DataException:\\\\n\\\\tMessage: The number of features in [fitted data](8) does not match with those in [input data](1). Please inspect your data, and make sure that features are aligned in both the Datasets.\\\\n\\\\tInnerException: None\\\\n\\\\tErrorResponse \\\\n{\\\\n    \\\"error\\\": {\\\\n        \\\"code\\\": \\\"UserError\\\",\\\\n        \\\"message\\\": \\\"The number of features in [fitted data](8) does not match with those in [input data](1). Please inspect your data, and make sure that features are aligned in both the Datasets.\\\",\\\\n        \\\"target\\\": \\\"X\\\",\\\\n        \\\"inner_error\\\": {\\\\n            \\\"code\\\": \\\"BadData\\\",\\\\n            \\\"inner_error\\\": {\\\\n                \\\"code\\\": \\\"InvalidDimension\\\",\\\\n                \\\"inner_error\\\": {\\\\n                    \\\"code\\\": \\\"DataShapeMismatch\\\"\\\\n                }\\\\n            }\\\\n        },\\\\n        \\\"reference_code\\\": \\\"c402b6c2-3870-45a7-8745-c063bd385962\\\"\\\\n    }\\\\n}'\"\n    }\n}"
     ]
    }
   ],
   "source": [
    "import json\n",
    "\n",
    "\n",
    "payload = json.dumps({\n",
    "    'data':\n",
    "           [\n",
    "               {\n",
    "                   'Pregnancies': 6,\n",
    "                   'Glucose': 148,\n",
    "                   'BloodPressure': 72,\n",
    "                   'SkinThickness': 35,\n",
    "                   'Insulin': 0,\n",
    "                   'BMI': 33.6,\n",
    "                   'DiabetesPedigreeFunction': 0.627,\n",
    "                   'Age': 50\n",
    "\n",
    "               },\n",
    "               {\n",
    "                   'Pregnancies': 1,\n",
    "                   'Glucose': 85,\n",
    "                   'BloodPressure': 66,\n",
    "                   'SkinThickness': 29,\n",
    "                   'Insulin': 0,\n",
    "                   'BMI': 26.6,\n",
    "                   'DiabetesPedigreeFunction': 0.351,\n",
    "                   'Age': 31,  \n",
    "               }\n",
    "           ],\n",
    "    'method': 'predict_proba'  # If you have a classification model, you can get probabilities by changing this to 'predict_proba'.\n",
    "})\n",
    "\n",
    "output = service.run(payload)\n"
   ]
  },
  {
   "cell_type": "code",
   "execution_count": 93,
   "metadata": {},
   "outputs": [],
   "source": [
    "import requests\n",
    "import json\n",
    "scoringuri = service.scoring_uri\n",
    "key = service.get_keys()[0]\n",
    "data= { \"data\":\n",
    "       [\n",
    "           {\n",
    "               'Pregnancies': 6,\n",
    "               'Glucose': 148,\n",
    "               'BloodPressure': 72,\n",
    "               'SkinThickness': 35,\n",
    "               'Insulin': 0,\n",
    "               'BMI': 33.6,\n",
    "               'DiabetesPedigreeFunction': 0.627,\n",
    "               'Age': 50\n",
    "               \n",
    "           },\n",
    "           {\n",
    "               'Pregnancies': 1,\n",
    "               'Glucose': 85,\n",
    "               'BloodPressure': 66,\n",
    "               'SkinThickness': 29,\n",
    "               'Insulin': 0,\n",
    "               'BMI': 26.6,\n",
    "               'DiabetesPedigreeFunction': 0.351,\n",
    "               'Age': 31,  \n",
    "           }\n",
    "       ]\n",
    "    }\n",
    "input_data = json.dumps(data)\n",
    "\n",
    "headers = {'Content-Type': 'application/json'}\n",
    "headers['Authorization'] = f'Bearer {key}'\n",
    "\n",
    "response = requests.post(scoringuri, input_data, headers = headers)"
   ]
  },
  {
   "cell_type": "code",
   "execution_count": 94,
   "metadata": {},
   "outputs": [
    {
     "name": "stdout",
     "output_type": "stream",
     "text": [
      "DataException:\n",
      "\tMessage: The number of features in [fitted data](8) does not match with those in [input data](1). Please inspect your data, and make sure that features are aligned in both the Datasets.\n",
      "\tInnerException: None\n",
      "\tErrorResponse \n",
      "{\n",
      "    \"error\": {\n",
      "        \"code\": \"UserError\",\n",
      "        \"message\": \"The number of features in [fitted data](8) does not match with those in [input data](1). Please inspect your data, and make sure that features are aligned in both the Datasets.\",\n",
      "        \"target\": \"X\",\n",
      "        \"inner_error\": {\n",
      "            \"code\": \"BadData\",\n",
      "            \"inner_error\": {\n",
      "                \"code\": \"InvalidDimension\",\n",
      "                \"inner_error\": {\n",
      "                    \"code\": \"DataShapeMismatch\"\n",
      "                }\n",
      "            }\n",
      "        },\n",
      "        \"reference_code\": \"c402b6c2-3870-45a7-8745-c063bd385962\"\n",
      "    }\n",
      "}\n"
     ]
    }
   ],
   "source": [
    "print(response.text)"
   ]
  },
  {
   "cell_type": "code",
   "execution_count": null,
   "metadata": {},
   "outputs": [],
   "source": [
    "service.delete()"
   ]
  }
 ],
 "metadata": {
  "kernel_info": {
   "name": "python3"
  },
  "kernelspec": {
   "display_name": "Python 3",
   "language": "python",
   "name": "python3"
  },
  "language_info": {
   "codemirror_mode": {
    "name": "ipython",
    "version": 3
   },
   "file_extension": ".py",
   "mimetype": "text/x-python",
   "name": "python",
   "nbconvert_exporter": "python",
   "pygments_lexer": "ipython3",
   "version": "3.6.9"
  },
  "nteract": {
   "version": "nteract-front-end@1.0.0"
  }
 },
 "nbformat": 4,
 "nbformat_minor": 2
}
