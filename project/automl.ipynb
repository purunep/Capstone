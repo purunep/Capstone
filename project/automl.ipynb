{
 "cells": [
  {
   "cell_type": "markdown",
   "metadata": {},
   "source": [
    "# Automated ML\n"
   ]
  },
  {
   "cell_type": "code",
   "execution_count": 1,
   "metadata": {
    "gather": {
     "logged": 1609085952213
    },
    "jupyter": {
     "outputs_hidden": false,
     "source_hidden": false
    },
    "nteract": {
     "transient": {
      "deleting": false
     }
    }
   },
   "outputs": [],
   "source": [
    "import logging\n",
    "import os\n",
    "import csv\n",
    "\n",
    "from matplotlib import pyplot as plt\n",
    "import numpy as np\n",
    "import pandas as pd\n",
    "import pkg_resources\n",
    "import azureml.core\n",
    "from azureml.core.experiment import Experiment\n",
    "from azureml.core.workspace import Workspace\n",
    "from azureml.train.automl import AutoMLConfig\n",
    "from azureml.pipeline.steps import AutoMLStep"
   ]
  },
  {
   "cell_type": "code",
   "execution_count": 2,
   "metadata": {},
   "outputs": [
    {
     "name": "stdout",
     "output_type": "stream",
     "text": [
      "SDK version: 1.19.0\n"
     ]
    }
   ],
   "source": [
    "# Check core SDK version number\n",
    "print(\"SDK version:\", azureml.core.VERSION)"
   ]
  },
  {
   "cell_type": "code",
   "execution_count": 3,
   "metadata": {},
   "outputs": [],
   "source": [
    "ws = Workspace.from_config()\n",
    "\n",
    "# choose a name for experiment\n",
    "experiment_name = 'puru-auto-experiment'\n",
    "\n",
    "experiment=Experiment(ws, experiment_name)"
   ]
  },
  {
   "cell_type": "code",
   "execution_count": 4,
   "metadata": {},
   "outputs": [
    {
     "name": "stdout",
     "output_type": "stream",
     "text": [
      "Workspace name: quick-starts-ws-132677\n",
      "Azure region: southcentralus\n",
      "Subscription id: 6971f5ac-8af1-446e-8034-05acea24681f\n",
      "Resource group: aml-quickstarts-132677\n"
     ]
    }
   ],
   "source": [
    "print('Workspace name: ' + ws.name, \n",
    "      'Azure region: ' + ws.location, \n",
    "      'Subscription id: ' + ws.subscription_id, \n",
    "      'Resource group: ' + ws.resource_group, sep = '\\n')"
   ]
  },
  {
   "cell_type": "code",
   "execution_count": 5,
   "metadata": {},
   "outputs": [
    {
     "name": "stdout",
     "output_type": "stream",
     "text": [
      "Creating a new compute target...\n",
      "Creating\n",
      "Succeeded\n",
      "AmlCompute wait for completion finished\n",
      "\n",
      "Minimum number of nodes requested have been provisioned\n"
     ]
    }
   ],
   "source": [
    "# create or attach an existing compute cluster\n",
    "from azureml.core.compute import ComputeTarget, AmlCompute\n",
    "from azureml.core.compute_target import ComputeTargetException\n",
    "\n",
    "# set name of CPU cluster\n",
    "cpu_cluster_name = \"puru-compute-new\"\n",
    "\n",
    "# Verify that cluster does not exist already\n",
    "try:\n",
    "    cpu_cluster = ComputeTarget(workspace=ws, name=cpu_cluster_name)\n",
    "    print('Found existing cluster, using it.')\n",
    "except ComputeTargetException:\n",
    "    print('Creating a new compute target...')\n",
    "    compute_config = AmlCompute.provisioning_configuration(vm_size='STANDARD_D2_V2',\n",
    "                                                           max_nodes=4)\n",
    "    cpu_cluster = ComputeTarget.create(ws, cpu_cluster_name, compute_config)\n",
    "\n",
    "# wait for completion\n",
    "cpu_cluster.wait_for_completion(show_output=True)"
   ]
  },
  {
   "cell_type": "markdown",
   "metadata": {},
   "source": [
    "## Dataset\n",
    "\n",
    "### Overview\n",
    "I am using external data source from Kaggle. I have already downloaded the data from Kaggle and uploaded in my github project, so that we can give the data source as url. \n",
    "The objective of the dataset is to diagnostically predict whether or not a patient has diabetes, based on certain diagnostic measurements included in the dataset. The target (label) is \"Outcome\" column with values of 1 means has diabetes and 0 means no diabetes. We will be using all independent varialbles from the datasets like: preganicies the patient has had, their BMI, insulin level, age and so on."
   ]
  },
  {
   "cell_type": "code",
   "execution_count": 6,
   "metadata": {
    "gather": {
     "logged": 1609086014420
    }
   },
   "outputs": [
    {
     "data": {
      "text/html": [
       "<div>\n",
       "<style scoped>\n",
       "    .dataframe tbody tr th:only-of-type {\n",
       "        vertical-align: middle;\n",
       "    }\n",
       "\n",
       "    .dataframe tbody tr th {\n",
       "        vertical-align: top;\n",
       "    }\n",
       "\n",
       "    .dataframe thead th {\n",
       "        text-align: right;\n",
       "    }\n",
       "</style>\n",
       "<table border=\"1\" class=\"dataframe\">\n",
       "  <thead>\n",
       "    <tr style=\"text-align: right;\">\n",
       "      <th></th>\n",
       "      <th>Pregnancies</th>\n",
       "      <th>Glucose</th>\n",
       "      <th>BloodPressure</th>\n",
       "      <th>SkinThickness</th>\n",
       "      <th>Insulin</th>\n",
       "      <th>BMI</th>\n",
       "      <th>DiabetesPedigreeFunction</th>\n",
       "      <th>Age</th>\n",
       "      <th>Outcome</th>\n",
       "    </tr>\n",
       "  </thead>\n",
       "  <tbody>\n",
       "    <tr>\n",
       "      <th>count</th>\n",
       "      <td>768.000000</td>\n",
       "      <td>768.000000</td>\n",
       "      <td>768.000000</td>\n",
       "      <td>768.000000</td>\n",
       "      <td>768.000000</td>\n",
       "      <td>768.000000</td>\n",
       "      <td>768.000000</td>\n",
       "      <td>768.000000</td>\n",
       "      <td>768.000000</td>\n",
       "    </tr>\n",
       "    <tr>\n",
       "      <th>mean</th>\n",
       "      <td>3.845052</td>\n",
       "      <td>120.894531</td>\n",
       "      <td>69.105469</td>\n",
       "      <td>20.536458</td>\n",
       "      <td>79.799479</td>\n",
       "      <td>31.992578</td>\n",
       "      <td>0.471876</td>\n",
       "      <td>33.240885</td>\n",
       "      <td>0.348958</td>\n",
       "    </tr>\n",
       "    <tr>\n",
       "      <th>std</th>\n",
       "      <td>3.369578</td>\n",
       "      <td>31.972618</td>\n",
       "      <td>19.355807</td>\n",
       "      <td>15.952218</td>\n",
       "      <td>115.244002</td>\n",
       "      <td>7.884160</td>\n",
       "      <td>0.331329</td>\n",
       "      <td>11.760232</td>\n",
       "      <td>0.476951</td>\n",
       "    </tr>\n",
       "    <tr>\n",
       "      <th>min</th>\n",
       "      <td>0.000000</td>\n",
       "      <td>0.000000</td>\n",
       "      <td>0.000000</td>\n",
       "      <td>0.000000</td>\n",
       "      <td>0.000000</td>\n",
       "      <td>0.000000</td>\n",
       "      <td>0.078000</td>\n",
       "      <td>21.000000</td>\n",
       "      <td>0.000000</td>\n",
       "    </tr>\n",
       "    <tr>\n",
       "      <th>25%</th>\n",
       "      <td>1.000000</td>\n",
       "      <td>99.000000</td>\n",
       "      <td>62.000000</td>\n",
       "      <td>0.000000</td>\n",
       "      <td>0.000000</td>\n",
       "      <td>27.300000</td>\n",
       "      <td>0.243750</td>\n",
       "      <td>24.000000</td>\n",
       "      <td>0.000000</td>\n",
       "    </tr>\n",
       "    <tr>\n",
       "      <th>50%</th>\n",
       "      <td>3.000000</td>\n",
       "      <td>117.000000</td>\n",
       "      <td>72.000000</td>\n",
       "      <td>23.000000</td>\n",
       "      <td>30.500000</td>\n",
       "      <td>32.000000</td>\n",
       "      <td>0.372500</td>\n",
       "      <td>29.000000</td>\n",
       "      <td>0.000000</td>\n",
       "    </tr>\n",
       "    <tr>\n",
       "      <th>75%</th>\n",
       "      <td>6.000000</td>\n",
       "      <td>140.250000</td>\n",
       "      <td>80.000000</td>\n",
       "      <td>32.000000</td>\n",
       "      <td>127.250000</td>\n",
       "      <td>36.600000</td>\n",
       "      <td>0.626250</td>\n",
       "      <td>41.000000</td>\n",
       "      <td>1.000000</td>\n",
       "    </tr>\n",
       "    <tr>\n",
       "      <th>max</th>\n",
       "      <td>17.000000</td>\n",
       "      <td>199.000000</td>\n",
       "      <td>122.000000</td>\n",
       "      <td>99.000000</td>\n",
       "      <td>846.000000</td>\n",
       "      <td>67.100000</td>\n",
       "      <td>2.420000</td>\n",
       "      <td>81.000000</td>\n",
       "      <td>1.000000</td>\n",
       "    </tr>\n",
       "  </tbody>\n",
       "</table>\n",
       "</div>"
      ],
      "text/plain": [
       "       Pregnancies     Glucose  BloodPressure  SkinThickness     Insulin  \\\n",
       "count   768.000000  768.000000     768.000000     768.000000  768.000000   \n",
       "mean      3.845052  120.894531      69.105469      20.536458   79.799479   \n",
       "std       3.369578   31.972618      19.355807      15.952218  115.244002   \n",
       "min       0.000000    0.000000       0.000000       0.000000    0.000000   \n",
       "25%       1.000000   99.000000      62.000000       0.000000    0.000000   \n",
       "50%       3.000000  117.000000      72.000000      23.000000   30.500000   \n",
       "75%       6.000000  140.250000      80.000000      32.000000  127.250000   \n",
       "max      17.000000  199.000000     122.000000      99.000000  846.000000   \n",
       "\n",
       "              BMI  DiabetesPedigreeFunction         Age     Outcome  \n",
       "count  768.000000                768.000000  768.000000  768.000000  \n",
       "mean    31.992578                  0.471876   33.240885    0.348958  \n",
       "std      7.884160                  0.331329   11.760232    0.476951  \n",
       "min      0.000000                  0.078000   21.000000    0.000000  \n",
       "25%     27.300000                  0.243750   24.000000    0.000000  \n",
       "50%     32.000000                  0.372500   29.000000    0.000000  \n",
       "75%     36.600000                  0.626250   41.000000    1.000000  \n",
       "max     67.100000                  2.420000   81.000000    1.000000  "
      ]
     },
     "execution_count": 6,
     "metadata": {},
     "output_type": "execute_result"
    }
   ],
   "source": [
    "from azureml.data.dataset_factory import TabularDatasetFactory\n",
    "from azureml.core import Dataset\n",
    "# NOTE: update the key to match the dataset name\n",
    "found = False\n",
    "key = \"diabetes-classification\"\n",
    "description_text = \"Diabetes datasets for capstone project\"\n",
    "\n",
    "if key in ws.datasets.keys(): \n",
    "        found = True        \n",
    "        dataset = ws.datasets[key] \n",
    "\n",
    "if not found:\n",
    "        # Create Hyperdrive Dataset and register it into Workspace\n",
    "        url = 'https://raw.githubusercontent.com/purunep/Capstoneproject/main/project/data/diabetes.csv'\n",
    "        dataset = Dataset.Tabular.from_delimited_files(url)        \n",
    "        #Register Dataset in Workspace\n",
    "        dataset = dataset.register(workspace=ws,\n",
    "                                   name=key,\n",
    "                                   description=description_text)\n",
    "\n",
    "\n",
    "df = dataset.to_pandas_dataframe()\n",
    "df.describe()"
   ]
  },
  {
   "cell_type": "code",
   "execution_count": 7,
   "metadata": {
    "gather": {
     "logged": 1609086049040
    }
   },
   "outputs": [
    {
     "data": {
      "text/html": [
       "<div>\n",
       "<style scoped>\n",
       "    .dataframe tbody tr th:only-of-type {\n",
       "        vertical-align: middle;\n",
       "    }\n",
       "\n",
       "    .dataframe tbody tr th {\n",
       "        vertical-align: top;\n",
       "    }\n",
       "\n",
       "    .dataframe thead th {\n",
       "        text-align: right;\n",
       "    }\n",
       "</style>\n",
       "<table border=\"1\" class=\"dataframe\">\n",
       "  <thead>\n",
       "    <tr style=\"text-align: right;\">\n",
       "      <th></th>\n",
       "      <th>Pregnancies</th>\n",
       "      <th>Glucose</th>\n",
       "      <th>BloodPressure</th>\n",
       "      <th>SkinThickness</th>\n",
       "      <th>Insulin</th>\n",
       "      <th>BMI</th>\n",
       "      <th>DiabetesPedigreeFunction</th>\n",
       "      <th>Age</th>\n",
       "      <th>Outcome</th>\n",
       "    </tr>\n",
       "  </thead>\n",
       "  <tbody>\n",
       "    <tr>\n",
       "      <th>603</th>\n",
       "      <td>7</td>\n",
       "      <td>150</td>\n",
       "      <td>78</td>\n",
       "      <td>29</td>\n",
       "      <td>126</td>\n",
       "      <td>35.2</td>\n",
       "      <td>0.692</td>\n",
       "      <td>54</td>\n",
       "      <td>1</td>\n",
       "    </tr>\n",
       "    <tr>\n",
       "      <th>118</th>\n",
       "      <td>4</td>\n",
       "      <td>97</td>\n",
       "      <td>60</td>\n",
       "      <td>23</td>\n",
       "      <td>0</td>\n",
       "      <td>28.2</td>\n",
       "      <td>0.443</td>\n",
       "      <td>22</td>\n",
       "      <td>0</td>\n",
       "    </tr>\n",
       "    <tr>\n",
       "      <th>247</th>\n",
       "      <td>0</td>\n",
       "      <td>165</td>\n",
       "      <td>90</td>\n",
       "      <td>33</td>\n",
       "      <td>680</td>\n",
       "      <td>52.3</td>\n",
       "      <td>0.427</td>\n",
       "      <td>23</td>\n",
       "      <td>0</td>\n",
       "    </tr>\n",
       "    <tr>\n",
       "      <th>157</th>\n",
       "      <td>1</td>\n",
       "      <td>109</td>\n",
       "      <td>56</td>\n",
       "      <td>21</td>\n",
       "      <td>135</td>\n",
       "      <td>25.2</td>\n",
       "      <td>0.833</td>\n",
       "      <td>23</td>\n",
       "      <td>0</td>\n",
       "    </tr>\n",
       "    <tr>\n",
       "      <th>468</th>\n",
       "      <td>8</td>\n",
       "      <td>120</td>\n",
       "      <td>0</td>\n",
       "      <td>0</td>\n",
       "      <td>0</td>\n",
       "      <td>30.0</td>\n",
       "      <td>0.183</td>\n",
       "      <td>38</td>\n",
       "      <td>1</td>\n",
       "    </tr>\n",
       "  </tbody>\n",
       "</table>\n",
       "</div>"
      ],
      "text/plain": [
       "     Pregnancies  Glucose  BloodPressure  SkinThickness  Insulin   BMI  \\\n",
       "603            7      150             78             29      126  35.2   \n",
       "118            4       97             60             23        0  28.2   \n",
       "247            0      165             90             33      680  52.3   \n",
       "157            1      109             56             21      135  25.2   \n",
       "468            8      120              0              0        0  30.0   \n",
       "\n",
       "     DiabetesPedigreeFunction  Age  Outcome  \n",
       "603                     0.692   54        1  \n",
       "118                     0.443   22        0  \n",
       "247                     0.427   23        0  \n",
       "157                     0.833   23        0  \n",
       "468                     0.183   38        1  "
      ]
     },
     "execution_count": 7,
     "metadata": {},
     "output_type": "execute_result"
    }
   ],
   "source": [
    "# prepare dataset for model training\n",
    "from train import clean_data\n",
    "from sklearn.model_selection import train_test_split\n",
    "import pandas as pd\n",
    "\n",
    "# Clean dataset using the clean_data function\n",
    "x, y = clean_data(dataset)\n",
    "\n",
    "# split dataset into train and test sets\n",
    "(x_train, x_test, y_train, y_test) = train_test_split(x, y, test_size= 0.2, random_state = 0)\n",
    "label = 'Outcome'\n",
    "\n",
    "# merge the output x and y dataframes into a single table for AutoML experiment\n",
    "train_data_df = pd.concat([x_train, y_train], axis=1)\n",
    "\n",
    "train_data_df.head()"
   ]
  },
  {
   "cell_type": "code",
   "execution_count": 8,
   "metadata": {
    "gather": {
     "logged": 1609086075784
    }
   },
   "outputs": [
    {
     "name": "stdout",
     "output_type": "stream",
     "text": [
      "Uploading an estimated of 1 files\n",
      "Uploading ./data/train_data.csv\n",
      "Uploaded ./data/train_data.csv, 1 files out of an estimated total of 1\n",
      "Uploaded 1 files\n"
     ]
    }
   ],
   "source": [
    "from azureml.data.dataset_factory import TabularDatasetFactory\n",
    "# save training data in tabular format to allow for remote run\n",
    "if not os.path.isdir('data'):  # create data folder if it does not exist\n",
    "    os.mkdir('data')\n",
    "    \n",
    "if not os.path.exists('project_folder'):  # create project folder if it does not exist\n",
    "    os.makedirs('project_folder')\n",
    "\n",
    "# Save the train data to a csv file to be uploaded to the datastore\n",
    "pd.DataFrame(train_data_df).to_csv(\"data/train_data.csv\", index=False)\n",
    "\n",
    "# Upload the training data as a tabular dataset for access during training on remote compute\n",
    "# upload to data store\n",
    "ds = ws.get_default_datastore()\n",
    "ds.upload(src_dir='./data', target_path='automlclassifier', overwrite=True, show_progress=True)\n",
    "\n",
    " # access datastore during training on remote compute\n",
    "train_data = TabularDatasetFactory.from_delimited_files(path=ds.path('automlclassifier/train_data.csv'))"
   ]
  },
  {
   "cell_type": "markdown",
   "metadata": {},
   "source": [
    "## AutoML Configuration\n",
    "\n",
    "I set enabled early stopping to True, to enable early termination if the score is not improving in the short term. Also set the iteration_timeout_minutes = 5, to set the maximum time in minutes that each iteration can run for before it terminates.Set max_concurrent_iterations = 4, to specify the maximum number of iterations that would be executed in parallel. Set max_cores_per_iteration = -1, to specify the maximum number of threads to use for a given training iteration. -1 means to use all the possible cores per iteration per child-run and set featurization = auto, to specify wherether featurization should be done automically or not, auto is ued to do it automatically"
   ]
  },
  {
   "cell_type": "code",
   "execution_count": 9,
   "metadata": {
    "gather": {
     "logged": 1609086107873
    }
   },
   "outputs": [],
   "source": [
    "project_folder = './puruautoml'\n",
    "automl_settings = {\n",
    "    \"enable_early_stopping\" : True,\n",
    "    \"iteration_timeout_minutes\": 5,\n",
    "    \"max_concurrent_iterations\": 4,\n",
    "    \"max_cores_per_iteration\": -1,    \n",
    "    \"featurization\": 'auto'\n",
    "}\n",
    "\n",
    "# define automl autconfig parameters\n",
    "automl_config = AutoMLConfig(\n",
    "    experiment_timeout_minutes= 30,\n",
    "    task= 'classification',\n",
    "    primary_metric='accuracy',\n",
    "    enable_onnx_compatible_models=True,\n",
    "    compute_target=cpu_cluster, # included to allow for remote compute\n",
    "    training_data= train_data,\n",
    "    label_column_name= label,\n",
    "    path = project_folder,\n",
    "    n_cross_validations=3,\n",
    "    debug_log = \"automl_errors.log\",    \n",
    "    **automl_settings)"
   ]
  },
  {
   "cell_type": "code",
   "execution_count": 10,
   "metadata": {
    "gather": {
     "logged": 1609086121536
    },
    "jupyter": {
     "outputs_hidden": false,
     "source_hidden": false
    },
    "nteract": {
     "transient": {
      "deleting": false
     }
    }
   },
   "outputs": [
    {
     "name": "stdout",
     "output_type": "stream",
     "text": [
      "Running on remote.\n"
     ]
    }
   ],
   "source": [
    "remote_run = experiment.submit(automl_config)"
   ]
  },
  {
   "cell_type": "markdown",
   "metadata": {},
   "source": [
    "## Run Details"
   ]
  },
  {
   "cell_type": "code",
   "execution_count": 11,
   "metadata": {
    "gather": {
     "logged": 1609087524171
    },
    "jupyter": {
     "outputs_hidden": false,
     "source_hidden": false
    },
    "nteract": {
     "transient": {
      "deleting": false
     }
    }
   },
   "outputs": [
    {
     "data": {
      "application/vnd.jupyter.widget-view+json": {
       "model_id": "c4f1f2169ab84482bc2614ff4bd747f5",
       "version_major": 2,
       "version_minor": 0
      },
      "text/plain": [
       "_AutoMLWidget(widget_settings={'childWidgetDisplay': 'popup', 'send_telemetry': False, 'log_level': 'INFO', 's…"
      ]
     },
     "metadata": {},
     "output_type": "display_data"
    },
    {
     "data": {
      "application/aml.mini.widget.v1": "{\"status\": \"Completed\", \"workbench_run_details_uri\": \"https://ml.azure.com/experiments/puru-auto-experiment/runs/AutoML_ceb5a17f-97e5-4896-83ac-c5e4c567d2c1?wsid=/subscriptions/6971f5ac-8af1-446e-8034-05acea24681f/resourcegroups/aml-quickstarts-132677/workspaces/quick-starts-ws-132677\", \"run_id\": \"AutoML_ceb5a17f-97e5-4896-83ac-c5e4c567d2c1\", \"run_properties\": {\"run_id\": \"AutoML_ceb5a17f-97e5-4896-83ac-c5e4c567d2c1\", \"created_utc\": \"2020-12-31T18:13:09.796857Z\", \"properties\": {\"num_iterations\": \"1000\", \"training_type\": \"TrainFull\", \"acquisition_function\": \"EI\", \"primary_metric\": \"accuracy\", \"train_split\": \"0\", \"acquisition_parameter\": \"0\", \"num_cross_validation\": \"3\", \"target\": \"puru-compute-new\", \"AMLSettingsJsonString\": \"{\\\"path\\\":null,\\\"name\\\":\\\"puru-auto-experiment\\\",\\\"subscription_id\\\":\\\"6971f5ac-8af1-446e-8034-05acea24681f\\\",\\\"resource_group\\\":\\\"aml-quickstarts-132677\\\",\\\"workspace_name\\\":\\\"quick-starts-ws-132677\\\",\\\"region\\\":\\\"southcentralus\\\",\\\"compute_target\\\":\\\"puru-compute-new\\\",\\\"spark_service\\\":null,\\\"azure_service\\\":\\\"remote\\\",\\\"many_models\\\":false,\\\"pipeline_fetch_max_batch_size\\\":1,\\\"iterations\\\":1000,\\\"primary_metric\\\":\\\"accuracy\\\",\\\"task_type\\\":\\\"classification\\\",\\\"data_script\\\":null,\\\"validation_size\\\":0.0,\\\"n_cross_validations\\\":3,\\\"y_min\\\":null,\\\"y_max\\\":null,\\\"num_classes\\\":null,\\\"featurization\\\":\\\"auto\\\",\\\"_ignore_package_version_incompatibilities\\\":false,\\\"is_timeseries\\\":false,\\\"max_cores_per_iteration\\\":-1,\\\"max_concurrent_iterations\\\":4,\\\"iteration_timeout_minutes\\\":5,\\\"mem_in_mb\\\":null,\\\"enforce_time_on_windows\\\":false,\\\"experiment_timeout_minutes\\\":30,\\\"experiment_exit_score\\\":null,\\\"whitelist_models\\\":null,\\\"blacklist_algos\\\":[\\\"TensorFlowLinearClassifier\\\",\\\"TensorFlowDNN\\\"],\\\"supported_models\\\":[\\\"GradientBoosting\\\",\\\"LogisticRegression\\\",\\\"TensorFlowDNN\\\",\\\"AveragedPerceptronClassifier\\\",\\\"RandomForest\\\",\\\"LightGBM\\\",\\\"SVM\\\",\\\"ExtremeRandomTrees\\\",\\\"DecisionTree\\\",\\\"MultinomialNaiveBayes\\\",\\\"TensorFlowLinearClassifier\\\",\\\"XGBoostClassifier\\\",\\\"BernoulliNaiveBayes\\\",\\\"KNN\\\",\\\"LinearSVM\\\",\\\"SGD\\\"],\\\"auto_blacklist\\\":true,\\\"blacklist_samples_reached\\\":false,\\\"exclude_nan_labels\\\":true,\\\"verbosity\\\":20,\\\"_debug_log\\\":\\\"azureml_automl.log\\\",\\\"show_warnings\\\":false,\\\"model_explainability\\\":true,\\\"service_url\\\":null,\\\"sdk_url\\\":null,\\\"sdk_packages\\\":null,\\\"enable_onnx_compatible_models\\\":true,\\\"enable_split_onnx_featurizer_estimator_models\\\":false,\\\"vm_type\\\":\\\"STANDARD_D2_V2\\\",\\\"telemetry_verbosity\\\":20,\\\"send_telemetry\\\":true,\\\"enable_dnn\\\":false,\\\"scenario\\\":\\\"SDK-1.13.0\\\",\\\"environment_label\\\":null,\\\"force_text_dnn\\\":false,\\\"enable_feature_sweeping\\\":false,\\\"enable_early_stopping\\\":true,\\\"early_stopping_n_iters\\\":10,\\\"metrics\\\":null,\\\"enable_ensembling\\\":true,\\\"enable_stack_ensembling\\\":false,\\\"ensemble_iterations\\\":15,\\\"enable_tf\\\":false,\\\"enable_subsampling\\\":null,\\\"subsample_seed\\\":null,\\\"enable_nimbusml\\\":false,\\\"enable_streaming\\\":false,\\\"force_streaming\\\":false,\\\"track_child_runs\\\":true,\\\"allowed_private_models\\\":[],\\\"label_column_name\\\":\\\"Outcome\\\",\\\"weight_column_name\\\":null,\\\"cv_split_column_names\\\":null,\\\"enable_local_managed\\\":false,\\\"_local_managed_run_id\\\":null,\\\"cost_mode\\\":1,\\\"lag_length\\\":0,\\\"metric_operation\\\":\\\"maximize\\\",\\\"preprocess\\\":true}\", \"DataPrepJsonString\": \"{\\\\\\\"training_data\\\\\\\": \\\\\\\"{\\\\\\\\\\\\\\\"blocks\\\\\\\\\\\\\\\": [{\\\\\\\\\\\\\\\"id\\\\\\\\\\\\\\\": \\\\\\\\\\\\\\\"fdf819fb-9aee-48ad-ae73-e5acfb17849d\\\\\\\\\\\\\\\", \\\\\\\\\\\\\\\"type\\\\\\\\\\\\\\\": \\\\\\\\\\\\\\\"Microsoft.DPrep.GetDatastoreFilesBlock\\\\\\\\\\\\\\\", \\\\\\\\\\\\\\\"arguments\\\\\\\\\\\\\\\": {\\\\\\\\\\\\\\\"datastores\\\\\\\\\\\\\\\": [{\\\\\\\\\\\\\\\"datastoreName\\\\\\\\\\\\\\\": \\\\\\\\\\\\\\\"workspaceblobstore\\\\\\\\\\\\\\\", \\\\\\\\\\\\\\\"path\\\\\\\\\\\\\\\": \\\\\\\\\\\\\\\"automlclassifier/train_data.csv\\\\\\\\\\\\\\\", \\\\\\\\\\\\\\\"resourceGroup\\\\\\\\\\\\\\\": \\\\\\\\\\\\\\\"aml-quickstarts-132677\\\\\\\\\\\\\\\", \\\\\\\\\\\\\\\"subscription\\\\\\\\\\\\\\\": \\\\\\\\\\\\\\\"6971f5ac-8af1-446e-8034-05acea24681f\\\\\\\\\\\\\\\", \\\\\\\\\\\\\\\"workspaceName\\\\\\\\\\\\\\\": \\\\\\\\\\\\\\\"quick-starts-ws-132677\\\\\\\\\\\\\\\"}]}, \\\\\\\\\\\\\\\"localData\\\\\\\\\\\\\\\": {}, \\\\\\\\\\\\\\\"isEnabled\\\\\\\\\\\\\\\": true, \\\\\\\\\\\\\\\"name\\\\\\\\\\\\\\\": null, \\\\\\\\\\\\\\\"annotation\\\\\\\\\\\\\\\": null}, {\\\\\\\\\\\\\\\"id\\\\\\\\\\\\\\\": \\\\\\\\\\\\\\\"e8fe19c5-f4e6-4bce-8805-a92f4c59e546\\\\\\\\\\\\\\\", \\\\\\\\\\\\\\\"type\\\\\\\\\\\\\\\": \\\\\\\\\\\\\\\"Microsoft.DPrep.ParseDelimitedBlock\\\\\\\\\\\\\\\", \\\\\\\\\\\\\\\"arguments\\\\\\\\\\\\\\\": {\\\\\\\\\\\\\\\"columnHeadersMode\\\\\\\\\\\\\\\": 3, \\\\\\\\\\\\\\\"fileEncoding\\\\\\\\\\\\\\\": 0, \\\\\\\\\\\\\\\"handleQuotedLineBreaks\\\\\\\\\\\\\\\": false, \\\\\\\\\\\\\\\"preview\\\\\\\\\\\\\\\": false, \\\\\\\\\\\\\\\"separator\\\\\\\\\\\\\\\": \\\\\\\\\\\\\\\",\\\\\\\\\\\\\\\", \\\\\\\\\\\\\\\"skipRows\\\\\\\\\\\\\\\": 0, \\\\\\\\\\\\\\\"skipRowsMode\\\\\\\\\\\\\\\": 0}, \\\\\\\\\\\\\\\"localData\\\\\\\\\\\\\\\": {}, \\\\\\\\\\\\\\\"isEnabled\\\\\\\\\\\\\\\": true, \\\\\\\\\\\\\\\"name\\\\\\\\\\\\\\\": null, \\\\\\\\\\\\\\\"annotation\\\\\\\\\\\\\\\": null}, {\\\\\\\\\\\\\\\"id\\\\\\\\\\\\\\\": \\\\\\\\\\\\\\\"260dcf12-e9e2-440b-9d32-c7a6a527b390\\\\\\\\\\\\\\\", \\\\\\\\\\\\\\\"type\\\\\\\\\\\\\\\": \\\\\\\\\\\\\\\"Microsoft.DPrep.DropColumnsBlock\\\\\\\\\\\\\\\", \\\\\\\\\\\\\\\"arguments\\\\\\\\\\\\\\\": {\\\\\\\\\\\\\\\"columns\\\\\\\\\\\\\\\": {\\\\\\\\\\\\\\\"type\\\\\\\\\\\\\\\": 0, \\\\\\\\\\\\\\\"details\\\\\\\\\\\\\\\": {\\\\\\\\\\\\\\\"selectedColumns\\\\\\\\\\\\\\\": [\\\\\\\\\\\\\\\"Path\\\\\\\\\\\\\\\"]}}}, \\\\\\\\\\\\\\\"localData\\\\\\\\\\\\\\\": {}, \\\\\\\\\\\\\\\"isEnabled\\\\\\\\\\\\\\\": true, \\\\\\\\\\\\\\\"name\\\\\\\\\\\\\\\": null, \\\\\\\\\\\\\\\"annotation\\\\\\\\\\\\\\\": null}, {\\\\\\\\\\\\\\\"id\\\\\\\\\\\\\\\": \\\\\\\\\\\\\\\"92b530ed-7c9d-4baf-ae3e-59b4ae70f48f\\\\\\\\\\\\\\\", \\\\\\\\\\\\\\\"type\\\\\\\\\\\\\\\": \\\\\\\\\\\\\\\"Microsoft.DPrep.SetColumnTypesBlock\\\\\\\\\\\\\\\", \\\\\\\\\\\\\\\"arguments\\\\\\\\\\\\\\\": {\\\\\\\\\\\\\\\"columnConversion\\\\\\\\\\\\\\\": [{\\\\\\\\\\\\\\\"column\\\\\\\\\\\\\\\": {\\\\\\\\\\\\\\\"type\\\\\\\\\\\\\\\": 2, \\\\\\\\\\\\\\\"details\\\\\\\\\\\\\\\": {\\\\\\\\\\\\\\\"selectedColumn\\\\\\\\\\\\\\\": \\\\\\\\\\\\\\\"Pregnancies\\\\\\\\\\\\\\\"}}, \\\\\\\\\\\\\\\"typeProperty\\\\\\\\\\\\\\\": 2}, {\\\\\\\\\\\\\\\"column\\\\\\\\\\\\\\\": {\\\\\\\\\\\\\\\"type\\\\\\\\\\\\\\\": 2, \\\\\\\\\\\\\\\"details\\\\\\\\\\\\\\\": {\\\\\\\\\\\\\\\"selectedColumn\\\\\\\\\\\\\\\": \\\\\\\\\\\\\\\"Glucose\\\\\\\\\\\\\\\"}}, \\\\\\\\\\\\\\\"typeProperty\\\\\\\\\\\\\\\": 2}, {\\\\\\\\\\\\\\\"column\\\\\\\\\\\\\\\": {\\\\\\\\\\\\\\\"type\\\\\\\\\\\\\\\": 2, \\\\\\\\\\\\\\\"details\\\\\\\\\\\\\\\": {\\\\\\\\\\\\\\\"selectedColumn\\\\\\\\\\\\\\\": \\\\\\\\\\\\\\\"BloodPressure\\\\\\\\\\\\\\\"}}, \\\\\\\\\\\\\\\"typeProperty\\\\\\\\\\\\\\\": 2}, {\\\\\\\\\\\\\\\"column\\\\\\\\\\\\\\\": {\\\\\\\\\\\\\\\"type\\\\\\\\\\\\\\\": 2, \\\\\\\\\\\\\\\"details\\\\\\\\\\\\\\\": {\\\\\\\\\\\\\\\"selectedColumn\\\\\\\\\\\\\\\": \\\\\\\\\\\\\\\"SkinThickness\\\\\\\\\\\\\\\"}}, \\\\\\\\\\\\\\\"typeProperty\\\\\\\\\\\\\\\": 2}, {\\\\\\\\\\\\\\\"column\\\\\\\\\\\\\\\": {\\\\\\\\\\\\\\\"type\\\\\\\\\\\\\\\": 2, \\\\\\\\\\\\\\\"details\\\\\\\\\\\\\\\": {\\\\\\\\\\\\\\\"selectedColumn\\\\\\\\\\\\\\\": \\\\\\\\\\\\\\\"Insulin\\\\\\\\\\\\\\\"}}, \\\\\\\\\\\\\\\"typeProperty\\\\\\\\\\\\\\\": 2}, {\\\\\\\\\\\\\\\"column\\\\\\\\\\\\\\\": {\\\\\\\\\\\\\\\"type\\\\\\\\\\\\\\\": 2, \\\\\\\\\\\\\\\"details\\\\\\\\\\\\\\\": {\\\\\\\\\\\\\\\"selectedColumn\\\\\\\\\\\\\\\": \\\\\\\\\\\\\\\"BMI\\\\\\\\\\\\\\\"}}, \\\\\\\\\\\\\\\"typeProperty\\\\\\\\\\\\\\\": 3}, {\\\\\\\\\\\\\\\"column\\\\\\\\\\\\\\\": {\\\\\\\\\\\\\\\"type\\\\\\\\\\\\\\\": 2, \\\\\\\\\\\\\\\"details\\\\\\\\\\\\\\\": {\\\\\\\\\\\\\\\"selectedColumn\\\\\\\\\\\\\\\": \\\\\\\\\\\\\\\"DiabetesPedigreeFunction\\\\\\\\\\\\\\\"}}, \\\\\\\\\\\\\\\"typeProperty\\\\\\\\\\\\\\\": 3}, {\\\\\\\\\\\\\\\"column\\\\\\\\\\\\\\\": {\\\\\\\\\\\\\\\"type\\\\\\\\\\\\\\\": 2, \\\\\\\\\\\\\\\"details\\\\\\\\\\\\\\\": {\\\\\\\\\\\\\\\"selectedColumn\\\\\\\\\\\\\\\": \\\\\\\\\\\\\\\"Age\\\\\\\\\\\\\\\"}}, \\\\\\\\\\\\\\\"typeProperty\\\\\\\\\\\\\\\": 2}, {\\\\\\\\\\\\\\\"column\\\\\\\\\\\\\\\": {\\\\\\\\\\\\\\\"type\\\\\\\\\\\\\\\": 2, \\\\\\\\\\\\\\\"details\\\\\\\\\\\\\\\": {\\\\\\\\\\\\\\\"selectedColumn\\\\\\\\\\\\\\\": \\\\\\\\\\\\\\\"Outcome\\\\\\\\\\\\\\\"}}, \\\\\\\\\\\\\\\"typeProperty\\\\\\\\\\\\\\\": 2}]}, \\\\\\\\\\\\\\\"localData\\\\\\\\\\\\\\\": {}, \\\\\\\\\\\\\\\"isEnabled\\\\\\\\\\\\\\\": true, \\\\\\\\\\\\\\\"name\\\\\\\\\\\\\\\": null, \\\\\\\\\\\\\\\"annotation\\\\\\\\\\\\\\\": null}], \\\\\\\\\\\\\\\"inspectors\\\\\\\\\\\\\\\": [], \\\\\\\\\\\\\\\"meta\\\\\\\\\\\\\\\": {\\\\\\\\\\\\\\\"savedDatasetId\\\\\\\\\\\\\\\": \\\\\\\\\\\\\\\"bc80df4a-1a5f-4bb2-b3fc-b23b5c72546c\\\\\\\\\\\\\\\", \\\\\\\\\\\\\\\"datasetType\\\\\\\\\\\\\\\": \\\\\\\\\\\\\\\"tabular\\\\\\\\\\\\\\\", \\\\\\\\\\\\\\\"subscriptionId\\\\\\\\\\\\\\\": \\\\\\\\\\\\\\\"6971f5ac-8af1-446e-8034-05acea24681f\\\\\\\\\\\\\\\", \\\\\\\\\\\\\\\"workspaceId\\\\\\\\\\\\\\\": \\\\\\\\\\\\\\\"1a5f1c26-f3f9-4d44-8d1c-db8b06d4c321\\\\\\\\\\\\\\\", \\\\\\\\\\\\\\\"workspaceLocation\\\\\\\\\\\\\\\": \\\\\\\\\\\\\\\"southcentralus\\\\\\\\\\\\\\\"}}\\\\\\\", \\\\\\\"activities\\\\\\\": 0}\", \"EnableSubsampling\": null, \"runTemplate\": \"AutoML\", \"azureml.runsource\": \"automl\", \"display_task_type\": \"classification\", \"dependencies_versions\": \"{\\\"azureml-widgets\\\": \\\"1.19.0\\\", \\\"azureml-train\\\": \\\"1.19.0\\\", \\\"azureml-train-restclients-hyperdrive\\\": \\\"1.19.0\\\", \\\"azureml-train-core\\\": \\\"1.19.0\\\", \\\"azureml-train-automl\\\": \\\"1.19.0\\\", \\\"azureml-train-automl-runtime\\\": \\\"1.19.0\\\", \\\"azureml-train-automl-client\\\": \\\"1.19.0\\\", \\\"azureml-tensorboard\\\": \\\"1.19.0\\\", \\\"azureml-telemetry\\\": \\\"1.19.0\\\", \\\"azureml-sdk\\\": \\\"1.19.0\\\", \\\"azureml-samples\\\": \\\"0+unknown\\\", \\\"azureml-pipeline\\\": \\\"1.19.0\\\", \\\"azureml-pipeline-steps\\\": \\\"1.19.0\\\", \\\"azureml-pipeline-core\\\": \\\"1.19.0\\\", \\\"azureml-opendatasets\\\": \\\"1.19.0\\\", \\\"azureml-model-management-sdk\\\": \\\"1.0.1b6.post1\\\", \\\"azureml-mlflow\\\": \\\"1.19.0\\\", \\\"azureml-interpret\\\": \\\"1.19.0\\\", \\\"azureml-explain-model\\\": \\\"1.19.0\\\", \\\"azureml-defaults\\\": \\\"1.19.0\\\", \\\"azureml-dataset-runtime\\\": \\\"1.19.0\\\", \\\"azureml-dataprep\\\": \\\"2.6.1\\\", \\\"azureml-dataprep-rslex\\\": \\\"1.4.0\\\", \\\"azureml-dataprep-native\\\": \\\"26.0.0\\\", \\\"azureml-datadrift\\\": \\\"1.19.0\\\", \\\"azureml-core\\\": \\\"1.19.0\\\", \\\"azureml-contrib-services\\\": \\\"1.19.0\\\", \\\"azureml-contrib-server\\\": \\\"1.19.0\\\", \\\"azureml-contrib-reinforcementlearning\\\": \\\"1.19.0\\\", \\\"azureml-contrib-pipeline-steps\\\": \\\"1.19.0\\\", \\\"azureml-contrib-notebook\\\": \\\"1.19.0\\\", \\\"azureml-contrib-interpret\\\": \\\"1.19.0\\\", \\\"azureml-contrib-gbdt\\\": \\\"1.19.0\\\", \\\"azureml-contrib-fairness\\\": \\\"1.19.0\\\", \\\"azureml-contrib-dataset\\\": \\\"1.19.0\\\", \\\"azureml-cli-common\\\": \\\"1.19.0\\\", \\\"azureml-automl-runtime\\\": \\\"1.19.0\\\", \\\"azureml-automl-core\\\": \\\"1.19.0\\\", \\\"azureml-accel-models\\\": \\\"1.19.0\\\"}\", \"_aml_system_scenario_identification\": \"Remote.Parent\", \"ClientType\": \"SDK\", \"environment_cpu_name\": \"AzureML-AutoML\", \"environment_cpu_label\": \"prod\", \"environment_gpu_name\": \"AzureML-AutoML-GPU\", \"environment_gpu_label\": \"prod\", \"root_attribution\": \"automl\", \"attribution\": \"AutoML\", \"Orchestrator\": \"AutoML\", \"CancelUri\": \"https://southcentralus.experiments.azureml.net/jasmine/v1.0/subscriptions/6971f5ac-8af1-446e-8034-05acea24681f/resourceGroups/aml-quickstarts-132677/providers/Microsoft.MachineLearningServices/workspaces/quick-starts-ws-132677/experimentids/feae42d3-e41c-4f0e-99b0-fd4d13f86af9/cancel/AutoML_ceb5a17f-97e5-4896-83ac-c5e4c567d2c1\", \"ClientSdkVersion\": \"1.19.0\", \"snapshotId\": \"00000000-0000-0000-0000-000000000000\", \"SetupRunId\": \"AutoML_ceb5a17f-97e5-4896-83ac-c5e4c567d2c1_setup\", \"SetupRunContainerId\": \"dcid.AutoML_ceb5a17f-97e5-4896-83ac-c5e4c567d2c1_setup\", \"FeaturizationRunJsonPath\": \"featurizer_container.json\", \"FeaturizationRunId\": \"AutoML_ceb5a17f-97e5-4896-83ac-c5e4c567d2c1_featurize\", \"ProblemInfoJsonString\": \"{\\\"dataset_num_categorical\\\": 0, \\\"is_sparse\\\": false, \\\"subsampling\\\": false, \\\"dataset_classes\\\": 2, \\\"dataset_features\\\": 8, \\\"dataset_samples\\\": 614, \\\"single_frequency_class_detected\\\": false}\", \"ModelExplainRunId\": \"AutoML_ceb5a17f-97e5-4896-83ac-c5e4c567d2c1_ModelExplain\"}, \"tags\": {\"model_explain_run\": \"best_run\", \"_aml_system_azureml.automlComponent\": \"AutoML\", \"pipeline_id\": \"\", \"score\": \"\", \"predicted_cost\": \"\", \"fit_time\": \"\", \"training_percent\": \"\", \"iteration\": \"\", \"run_preprocessor\": \"\", \"run_algorithm\": \"\", \"dynamic_whitelisting_iterations\": \"<25>;<30>;<35>;\", \"automl_best_child_run_id\": \"AutoML_ceb5a17f-97e5-4896-83ac-c5e4c567d2c1_36\", \"model_explain_best_run_child_id\": \"AutoML_ceb5a17f-97e5-4896-83ac-c5e4c567d2c1_36\"}, \"end_time_utc\": \"2020-12-31T18:36:54.312723Z\", \"status\": \"Completed\", \"log_files\": {}, \"log_groups\": [], \"run_duration\": \"0:23:44\"}, \"child_runs\": [{\"run_id\": \"AutoML_ceb5a17f-97e5-4896-83ac-c5e4c567d2c1_0\", \"run_number\": 5, \"metric\": null, \"status\": \"Completed\", \"run_type\": \"azureml.scriptrun\", \"training_percent\": \"100\", \"start_time\": \"2020-12-31T18:21:40.208329Z\", \"end_time\": \"2020-12-31T18:22:34.510366Z\", \"created_time\": \"2020-12-31T18:21:28.110375Z\", \"created_time_dt\": \"2020-12-31T18:21:28.110375Z\", \"duration\": \"0:01:06\", \"iteration\": \"0\", \"goal\": \"accuracy_max\", \"run_name\": \"MaxAbsScaler, LightGBM\", \"run_properties\": \"copy=True\", \"primary_metric\": 0.74595887, \"best_metric\": 0.74595887}, {\"run_id\": \"AutoML_ceb5a17f-97e5-4896-83ac-c5e4c567d2c1_1\", \"run_number\": 6, \"metric\": null, \"status\": \"Completed\", \"run_type\": \"azureml.scriptrun\", \"training_percent\": \"100\", \"start_time\": \"2020-12-31T18:23:41.88724Z\", \"end_time\": \"2020-12-31T18:24:40.574606Z\", \"created_time\": \"2020-12-31T18:21:28.261602Z\", \"created_time_dt\": \"2020-12-31T18:21:28.261602Z\", \"duration\": \"0:03:12\", \"iteration\": \"1\", \"goal\": \"accuracy_max\", \"run_name\": \"MaxAbsScaler, XGBoostClassifier\", \"run_properties\": \"copy=True\", \"primary_metric\": 0.74430894, \"best_metric\": 0.74595887}, {\"run_id\": \"AutoML_ceb5a17f-97e5-4896-83ac-c5e4c567d2c1_3\", \"run_number\": 7, \"metric\": null, \"status\": \"Completed\", \"run_type\": \"azureml.scriptrun\", \"training_percent\": \"100\", \"start_time\": \"2020-12-31T18:22:37.214476Z\", \"end_time\": \"2020-12-31T18:23:36.109915Z\", \"created_time\": \"2020-12-31T18:21:28.270573Z\", \"created_time_dt\": \"2020-12-31T18:21:28.270573Z\", \"duration\": \"0:02:07\", \"iteration\": \"3\", \"goal\": \"accuracy_max\", \"run_name\": \"MinMaxScaler, RandomForest\", \"run_properties\": \"copy=True, feature_range=(0, 1\", \"primary_metric\": 0.73782082, \"best_metric\": 0.74595887}, {\"run_id\": \"AutoML_ceb5a17f-97e5-4896-83ac-c5e4c567d2c1_2\", \"run_number\": 8, \"metric\": null, \"status\": \"Completed\", \"run_type\": \"azureml.scriptrun\", \"training_percent\": \"100\", \"start_time\": \"2020-12-31T18:24:09.508756Z\", \"end_time\": \"2020-12-31T18:27:39.366208Z\", \"created_time\": \"2020-12-31T18:21:28.288239Z\", \"created_time_dt\": \"2020-12-31T18:21:28.288239Z\", \"duration\": \"0:06:11\", \"iteration\": \"2\", \"goal\": \"accuracy_max\", \"run_name\": \"MinMaxScaler, RandomForest\", \"run_properties\": \"copy=True, feature_range=(0, 1\", \"primary_metric\": 0.73940698, \"best_metric\": 0.74595887}, {\"run_id\": \"AutoML_ceb5a17f-97e5-4896-83ac-c5e4c567d2c1_4\", \"run_number\": 9, \"metric\": null, \"status\": \"Completed\", \"run_type\": \"azureml.scriptrun\", \"training_percent\": \"100\", \"start_time\": \"2020-12-31T18:24:07.652733Z\", \"end_time\": \"2020-12-31T18:27:41.967345Z\", \"created_time\": \"2020-12-31T18:22:36.534288Z\", \"created_time_dt\": \"2020-12-31T18:22:36.534288Z\", \"duration\": \"0:05:05\", \"iteration\": \"4\", \"goal\": \"accuracy_max\", \"run_name\": \"MinMaxScaler, RandomForest\", \"run_properties\": \"copy=True, feature_range=(0, 1\", \"primary_metric\": 0.74757692, \"best_metric\": 0.74757692}, {\"run_id\": \"AutoML_ceb5a17f-97e5-4896-83ac-c5e4c567d2c1_5\", \"run_number\": 10, \"metric\": null, \"status\": \"Completed\", \"run_type\": \"azureml.scriptrun\", \"training_percent\": \"100\", \"start_time\": \"2020-12-31T18:24:08.356955Z\", \"end_time\": \"2020-12-31T18:27:36.332503Z\", \"created_time\": \"2020-12-31T18:23:39.550475Z\", \"created_time_dt\": \"2020-12-31T18:23:39.550475Z\", \"duration\": \"0:03:56\", \"iteration\": \"5\", \"goal\": \"accuracy_max\", \"run_name\": \"StandardScalerWrapper, GradientBoosting\", \"run_properties\": \"<azureml.automl.runtime.shared.model_wrappers.StandardScalerWrapper object at 0x7f2a00fce5c0\", \"primary_metric\": 0.74752909, \"best_metric\": 0.74757692}, {\"run_id\": \"AutoML_ceb5a17f-97e5-4896-83ac-c5e4c567d2c1_6\", \"run_number\": 11, \"metric\": null, \"status\": \"Completed\", \"run_type\": \"azureml.scriptrun\", \"training_percent\": \"100\", \"start_time\": \"2020-12-31T18:24:58.12344Z\", \"end_time\": \"2020-12-31T18:25:55.762797Z\", \"created_time\": \"2020-12-31T18:24:44.0686Z\", \"created_time_dt\": \"2020-12-31T18:24:44.0686Z\", \"duration\": \"0:01:11\", \"iteration\": \"6\", \"goal\": \"accuracy_max\", \"run_name\": \"MinMaxScaler, LightGBM\", \"run_properties\": \"copy=True, feature_range=(0, 1\", \"primary_metric\": 0.74593496, \"best_metric\": 0.74757692}, {\"run_id\": \"AutoML_ceb5a17f-97e5-4896-83ac-c5e4c567d2c1_7\", \"run_number\": 12, \"metric\": null, \"status\": \"Completed\", \"run_type\": \"azureml.scriptrun\", \"training_percent\": \"100\", \"start_time\": \"2020-12-31T18:26:09.772052Z\", \"end_time\": \"2020-12-31T18:27:00.186878Z\", \"created_time\": \"2020-12-31T18:25:58.550033Z\", \"created_time_dt\": \"2020-12-31T18:25:58.550033Z\", \"duration\": \"0:01:01\", \"iteration\": \"7\", \"goal\": \"accuracy_max\", \"run_name\": \"MinMaxScaler, SVM\", \"run_properties\": \"copy=True, feature_range=(0, 1\", \"primary_metric\": 0.70844094, \"best_metric\": 0.74757692}, {\"run_id\": \"AutoML_ceb5a17f-97e5-4896-83ac-c5e4c567d2c1_8\", \"run_number\": 13, \"metric\": null, \"status\": \"Completed\", \"run_type\": \"azureml.scriptrun\", \"training_percent\": \"100\", \"start_time\": \"2020-12-31T18:27:14.077492Z\", \"end_time\": \"2020-12-31T18:28:02.236355Z\", \"created_time\": \"2020-12-31T18:27:03.066194Z\", \"created_time_dt\": \"2020-12-31T18:27:03.066194Z\", \"duration\": \"0:00:59\", \"iteration\": \"8\", \"goal\": \"accuracy_max\", \"run_name\": \"MaxAbsScaler, LightGBM\", \"run_properties\": \"copy=True\", \"primary_metric\": 0.76386896, \"best_metric\": 0.76386896}, {\"run_id\": \"AutoML_ceb5a17f-97e5-4896-83ac-c5e4c567d2c1_9\", \"run_number\": 14, \"metric\": null, \"status\": \"Completed\", \"run_type\": \"azureml.scriptrun\", \"training_percent\": \"100\", \"start_time\": \"2020-12-31T18:27:51.381705Z\", \"end_time\": \"2020-12-31T18:28:39.96761Z\", \"created_time\": \"2020-12-31T18:27:39.057877Z\", \"created_time_dt\": \"2020-12-31T18:27:39.057877Z\", \"duration\": \"0:01:00\", \"iteration\": \"9\", \"goal\": \"accuracy_max\", \"run_name\": \"RobustScaler, RandomForest\", \"run_properties\": \"copy=True, quantile_range=[25, 75], with_centering=False,\\n             with_scaling=True\", \"primary_metric\": 0.74920293, \"best_metric\": 0.76386896}, {\"run_id\": \"AutoML_ceb5a17f-97e5-4896-83ac-c5e4c567d2c1_10\", \"run_number\": 15, \"metric\": null, \"status\": \"Completed\", \"run_type\": \"azureml.scriptrun\", \"training_percent\": \"100\", \"start_time\": \"2020-12-31T18:27:55.748637Z\", \"end_time\": \"2020-12-31T18:28:47.372948Z\", \"created_time\": \"2020-12-31T18:27:43.610588Z\", \"created_time_dt\": \"2020-12-31T18:27:43.610588Z\", \"duration\": \"0:01:03\", \"iteration\": \"10\", \"goal\": \"accuracy_max\", \"run_name\": \"SparseNormalizer, XGBoostClassifier\", \"run_properties\": \"<azureml.automl.runtime.shared.model_wrappers.SparseNormalizer object at 0x7fee08f83048\", \"primary_metric\": 0.66614857, \"best_metric\": 0.76386896}, {\"run_id\": \"AutoML_ceb5a17f-97e5-4896-83ac-c5e4c567d2c1_11\", \"run_number\": 16, \"metric\": null, \"status\": \"Completed\", \"run_type\": \"azureml.scriptrun\", \"training_percent\": \"100\", \"start_time\": \"2020-12-31T18:28:00.79006Z\", \"end_time\": \"2020-12-31T18:28:58.675057Z\", \"created_time\": \"2020-12-31T18:27:48.025315Z\", \"created_time_dt\": \"2020-12-31T18:27:48.025315Z\", \"duration\": \"0:01:10\", \"iteration\": \"11\", \"goal\": \"accuracy_max\", \"run_name\": \"StandardScalerWrapper, RandomForest\", \"run_properties\": \"<azureml.automl.runtime.shared.model_wrappers.StandardScalerWrapper object at 0x7f7714993e80\", \"primary_metric\": 0.73286306, \"best_metric\": 0.76386896}, {\"run_id\": \"AutoML_ceb5a17f-97e5-4896-83ac-c5e4c567d2c1_12\", \"run_number\": 17, \"metric\": null, \"status\": \"Completed\", \"run_type\": \"azureml.scriptrun\", \"training_percent\": \"100\", \"start_time\": \"2020-12-31T18:28:18.734635Z\", \"end_time\": \"2020-12-31T18:29:10.220772Z\", \"created_time\": \"2020-12-31T18:28:06.345146Z\", \"created_time_dt\": \"2020-12-31T18:28:06.345146Z\", \"duration\": \"0:01:03\", \"iteration\": \"12\", \"goal\": \"accuracy_max\", \"run_name\": \"SparseNormalizer, XGBoostClassifier\", \"run_properties\": \"<azureml.automl.runtime.shared.model_wrappers.SparseNormalizer object at 0x7f7ed3b50f98\", \"primary_metric\": 0.66767097, \"best_metric\": 0.76386896}, {\"run_id\": \"AutoML_ceb5a17f-97e5-4896-83ac-c5e4c567d2c1_13\", \"run_number\": 18, \"metric\": null, \"status\": \"Completed\", \"run_type\": \"azureml.scriptrun\", \"training_percent\": \"100\", \"start_time\": \"2020-12-31T18:28:53.358834Z\", \"end_time\": \"2020-12-31T18:29:40.972919Z\", \"created_time\": \"2020-12-31T18:28:42.268655Z\", \"created_time_dt\": \"2020-12-31T18:28:42.268655Z\", \"duration\": \"0:00:58\", \"iteration\": \"13\", \"goal\": \"accuracy_max\", \"run_name\": \"StandardScalerWrapper, XGBoostClassifier\", \"run_properties\": \"<azureml.automl.runtime.shared.model_wrappers.StandardScalerWrapper object at 0x7fe558a8a2e8\", \"primary_metric\": 0.74756895, \"best_metric\": 0.76386896}, {\"run_id\": \"AutoML_ceb5a17f-97e5-4896-83ac-c5e4c567d2c1_14\", \"run_number\": 19, \"metric\": null, \"status\": \"Completed\", \"run_type\": \"azureml.scriptrun\", \"training_percent\": \"100\", \"start_time\": \"2020-12-31T18:29:00.723912Z\", \"end_time\": \"2020-12-31T18:29:59.802092Z\", \"created_time\": \"2020-12-31T18:28:50.265351Z\", \"created_time_dt\": \"2020-12-31T18:28:50.265351Z\", \"duration\": \"0:01:09\", \"iteration\": \"14\", \"goal\": \"accuracy_max\", \"run_name\": \"SparseNormalizer, XGBoostClassifier\", \"run_properties\": \"<azureml.automl.runtime.shared.model_wrappers.SparseNormalizer object at 0x7f28b8b08be0\", \"primary_metric\": 0.64495457, \"best_metric\": 0.76386896}, {\"run_id\": \"AutoML_ceb5a17f-97e5-4896-83ac-c5e4c567d2c1_15\", \"run_number\": 20, \"metric\": null, \"status\": \"Completed\", \"run_type\": \"azureml.scriptrun\", \"training_percent\": \"100\", \"start_time\": \"2020-12-31T18:29:10.849489Z\", \"end_time\": \"2020-12-31T18:30:01.193941Z\", \"created_time\": \"2020-12-31T18:29:00.805996Z\", \"created_time_dt\": \"2020-12-31T18:29:00.805996Z\", \"duration\": \"0:01:00\", \"iteration\": \"15\", \"goal\": \"accuracy_max\", \"run_name\": \"StandardScalerWrapper, RandomForest\", \"run_properties\": \"<azureml.automl.runtime.shared.model_wrappers.StandardScalerWrapper object at 0x7f9eec049470\", \"primary_metric\": 0.76059302, \"best_metric\": 0.76386896}, {\"run_id\": \"AutoML_ceb5a17f-97e5-4896-83ac-c5e4c567d2c1_16\", \"run_number\": 21, \"metric\": null, \"status\": \"Completed\", \"run_type\": \"azureml.scriptrun\", \"training_percent\": \"100\", \"start_time\": \"2020-12-31T18:29:23.457004Z\", \"end_time\": \"2020-12-31T18:30:17.332586Z\", \"created_time\": \"2020-12-31T18:29:12.629208Z\", \"created_time_dt\": \"2020-12-31T18:29:12.629208Z\", \"duration\": \"0:01:04\", \"iteration\": \"16\", \"goal\": \"accuracy_max\", \"run_name\": \"SparseNormalizer, XGBoostClassifier\", \"run_properties\": \"<azureml.automl.runtime.shared.model_wrappers.SparseNormalizer object at 0x7f712ea079e8\", \"primary_metric\": 0.65306871, \"best_metric\": 0.76386896}, {\"run_id\": \"AutoML_ceb5a17f-97e5-4896-83ac-c5e4c567d2c1_17\", \"run_number\": 22, \"metric\": null, \"status\": \"Completed\", \"run_type\": \"azureml.scriptrun\", \"training_percent\": \"100\", \"start_time\": \"2020-12-31T18:29:55.742653Z\", \"end_time\": \"2020-12-31T18:30:50.623568Z\", \"created_time\": \"2020-12-31T18:29:43.234524Z\", \"created_time_dt\": \"2020-12-31T18:29:43.234524Z\", \"duration\": \"0:01:07\", \"iteration\": \"17\", \"goal\": \"accuracy_max\", \"run_name\": \"MinMaxScaler, LightGBM\", \"run_properties\": \"copy=True, feature_range=(0, 1\", \"primary_metric\": 0.74428503, \"best_metric\": 0.76386896}, {\"run_id\": \"AutoML_ceb5a17f-97e5-4896-83ac-c5e4c567d2c1_18\", \"run_number\": 23, \"metric\": null, \"status\": \"Completed\", \"run_type\": \"azureml.scriptrun\", \"training_percent\": \"100\", \"start_time\": \"2020-12-31T18:30:15.195997Z\", \"end_time\": \"2020-12-31T18:31:04.182852Z\", \"created_time\": \"2020-12-31T18:30:02.168445Z\", \"created_time_dt\": \"2020-12-31T18:30:02.168445Z\", \"duration\": \"0:01:02\", \"iteration\": \"18\", \"goal\": \"accuracy_max\", \"run_name\": \"MaxAbsScaler, LightGBM\", \"run_properties\": \"copy=True\", \"primary_metric\": 0.75567512, \"best_metric\": 0.76386896}, {\"run_id\": \"AutoML_ceb5a17f-97e5-4896-83ac-c5e4c567d2c1_19\", \"run_number\": 24, \"metric\": null, \"status\": \"Completed\", \"run_type\": \"azureml.scriptrun\", \"training_percent\": \"100\", \"start_time\": \"2020-12-31T18:30:18.073078Z\", \"end_time\": \"2020-12-31T18:31:06.727661Z\", \"created_time\": \"2020-12-31T18:30:06.228308Z\", \"created_time_dt\": \"2020-12-31T18:30:06.228308Z\", \"duration\": \"0:01:00\", \"iteration\": \"19\", \"goal\": \"accuracy_max\", \"run_name\": \"StandardScalerWrapper, LightGBM\", \"run_properties\": \"<azureml.automl.runtime.shared.model_wrappers.StandardScalerWrapper object at 0x7f4e6f34c748\", \"primary_metric\": 0.71819703, \"best_metric\": 0.76386896}, {\"run_id\": \"AutoML_ceb5a17f-97e5-4896-83ac-c5e4c567d2c1_20\", \"run_number\": 25, \"metric\": null, \"status\": \"Completed\", \"run_type\": \"azureml.scriptrun\", \"training_percent\": \"100\", \"start_time\": \"2020-12-31T18:30:32.5125Z\", \"end_time\": \"2020-12-31T18:31:22.987714Z\", \"created_time\": \"2020-12-31T18:30:21.906575Z\", \"created_time_dt\": \"2020-12-31T18:30:21.906575Z\", \"duration\": \"0:01:01\", \"iteration\": \"20\", \"goal\": \"accuracy_max\", \"run_name\": \"MinMaxScaler, LightGBM\", \"run_properties\": \"copy=True, feature_range=(0, 1\", \"primary_metric\": 0.723099, \"best_metric\": 0.76386896}, {\"run_id\": \"AutoML_ceb5a17f-97e5-4896-83ac-c5e4c567d2c1_21\", \"run_number\": 26, \"metric\": null, \"status\": \"Completed\", \"run_type\": \"azureml.scriptrun\", \"training_percent\": \"100\", \"start_time\": \"2020-12-31T18:31:04.867614Z\", \"end_time\": \"2020-12-31T18:32:05.549663Z\", \"created_time\": \"2020-12-31T18:30:53.227763Z\", \"created_time_dt\": \"2020-12-31T18:30:53.227763Z\", \"duration\": \"0:01:12\", \"iteration\": \"21\", \"goal\": \"accuracy_max\", \"run_name\": \"MinMaxScaler, LightGBM\", \"run_properties\": \"copy=True, feature_range=(0, 1\", \"primary_metric\": 0.74265104, \"best_metric\": 0.76386896}, {\"run_id\": \"AutoML_ceb5a17f-97e5-4896-83ac-c5e4c567d2c1_22\", \"run_number\": 27, \"metric\": null, \"status\": \"Completed\", \"run_type\": \"azureml.scriptrun\", \"training_percent\": \"100\", \"start_time\": \"2020-12-31T18:31:18.146265Z\", \"end_time\": \"2020-12-31T18:32:09.554086Z\", \"created_time\": \"2020-12-31T18:31:06.357182Z\", \"created_time_dt\": \"2020-12-31T18:31:06.357182Z\", \"duration\": \"0:01:03\", \"iteration\": \"22\", \"goal\": \"accuracy_max\", \"run_name\": \"MaxAbsScaler, LightGBM\", \"run_properties\": \"copy=True\", \"primary_metric\": 0.73612307, \"best_metric\": 0.76386896}, {\"run_id\": \"AutoML_ceb5a17f-97e5-4896-83ac-c5e4c567d2c1_23\", \"run_number\": 28, \"metric\": null, \"status\": \"Completed\", \"run_type\": \"azureml.scriptrun\", \"training_percent\": \"100\", \"start_time\": \"2020-12-31T18:31:22.382825Z\", \"end_time\": \"2020-12-31T18:32:13.842119Z\", \"created_time\": \"2020-12-31T18:31:10.574637Z\", \"created_time_dt\": \"2020-12-31T18:31:10.574637Z\", \"duration\": \"0:01:03\", \"iteration\": \"23\", \"goal\": \"accuracy_max\", \"run_name\": \"MaxAbsScaler, LightGBM\", \"run_properties\": \"copy=True\", \"primary_metric\": 0.747553, \"best_metric\": 0.76386896}, {\"run_id\": \"AutoML_ceb5a17f-97e5-4896-83ac-c5e4c567d2c1_24\", \"run_number\": 29, \"metric\": null, \"status\": \"Completed\", \"run_type\": \"azureml.scriptrun\", \"training_percent\": \"100\", \"start_time\": \"2020-12-31T18:31:36.83151Z\", \"end_time\": \"2020-12-31T18:32:31.753611Z\", \"created_time\": \"2020-12-31T18:31:25.743409Z\", \"created_time_dt\": \"2020-12-31T18:31:25.743409Z\", \"duration\": \"0:01:06\", \"iteration\": \"24\", \"goal\": \"accuracy_max\", \"run_name\": \"StandardScalerWrapper, LightGBM\", \"run_properties\": \"<azureml.automl.runtime.shared.model_wrappers.StandardScalerWrapper object at 0x7f878807d6a0\", \"primary_metric\": 0.74918699, \"best_metric\": 0.76386896}, {\"run_id\": \"AutoML_ceb5a17f-97e5-4896-83ac-c5e4c567d2c1_25\", \"run_number\": 30, \"metric\": null, \"status\": \"Completed\", \"run_type\": \"azureml.scriptrun\", \"training_percent\": \"100\", \"start_time\": \"2020-12-31T18:32:20.440861Z\", \"end_time\": \"2020-12-31T18:33:22.294148Z\", \"created_time\": \"2020-12-31T18:32:09.382978Z\", \"created_time_dt\": \"2020-12-31T18:32:09.382978Z\", \"duration\": \"0:01:12\", \"iteration\": \"25\", \"goal\": \"accuracy_max\", \"run_name\": \"MaxAbsScaler, LightGBM\", \"run_properties\": \"copy=True\", \"primary_metric\": 0.66284075, \"best_metric\": 0.76386896}, {\"run_id\": \"AutoML_ceb5a17f-97e5-4896-83ac-c5e4c567d2c1_26\", \"run_number\": 31, \"metric\": null, \"status\": \"Completed\", \"run_type\": \"azureml.scriptrun\", \"training_percent\": \"100\", \"start_time\": \"2020-12-31T18:32:23.098829Z\", \"end_time\": \"2020-12-31T18:33:13.466115Z\", \"created_time\": \"2020-12-31T18:32:13.365484Z\", \"created_time_dt\": \"2020-12-31T18:32:13.365484Z\", \"duration\": \"0:01:00\", \"iteration\": \"26\", \"goal\": \"accuracy_max\", \"run_name\": \"RobustScaler, LightGBM\", \"run_properties\": \"copy=True, quantile_range=[25, 75], with_centering=False,\\n             with_scaling=True\", \"primary_metric\": 0.74265104, \"best_metric\": 0.76386896}, {\"run_id\": \"AutoML_ceb5a17f-97e5-4896-83ac-c5e4c567d2c1_27\", \"run_number\": 32, \"metric\": null, \"status\": \"Completed\", \"run_type\": \"azureml.scriptrun\", \"training_percent\": \"100\", \"start_time\": \"2020-12-31T18:32:27.390958Z\", \"end_time\": \"2020-12-31T18:33:26.755951Z\", \"created_time\": \"2020-12-31T18:32:17.190004Z\", \"created_time_dt\": \"2020-12-31T18:32:17.190004Z\", \"duration\": \"0:01:09\", \"iteration\": \"27\", \"goal\": \"accuracy_max\", \"run_name\": \"SparseNormalizer, LightGBM\", \"run_properties\": \"<azureml.automl.runtime.shared.model_wrappers.SparseNormalizer object at 0x7f4bb242d828\", \"primary_metric\": 0.65144269, \"best_metric\": 0.76386896}, {\"run_id\": \"AutoML_ceb5a17f-97e5-4896-83ac-c5e4c567d2c1_28\", \"run_number\": 33, \"metric\": null, \"status\": \"Completed\", \"run_type\": \"azureml.scriptrun\", \"training_percent\": \"100\", \"start_time\": \"2020-12-31T18:32:45.779826Z\", \"end_time\": \"2020-12-31T18:33:43.262884Z\", \"created_time\": \"2020-12-31T18:32:34.200068Z\", \"created_time_dt\": \"2020-12-31T18:32:34.200068Z\", \"duration\": \"0:01:09\", \"iteration\": \"28\", \"goal\": \"accuracy_max\", \"run_name\": \"RobustScaler, ExtremeRandomTrees\", \"run_properties\": \"copy=True, quantile_range=[10, 90], with_centering=True,\\n             with_scaling=False\", \"primary_metric\": 0.66607684, \"best_metric\": 0.76386896}, {\"run_id\": \"AutoML_ceb5a17f-97e5-4896-83ac-c5e4c567d2c1_29\", \"run_number\": 34, \"metric\": null, \"status\": \"Completed\", \"run_type\": \"azureml.scriptrun\", \"training_percent\": \"100\", \"start_time\": \"2020-12-31T18:33:27.36589Z\", \"end_time\": \"2020-12-31T18:34:16.501471Z\", \"created_time\": \"2020-12-31T18:33:15.51689Z\", \"created_time_dt\": \"2020-12-31T18:33:15.51689Z\", \"duration\": \"0:01:00\", \"iteration\": \"29\", \"goal\": \"accuracy_max\", \"run_name\": \"TruncatedSVDWrapper, XGBoostClassifier\", \"run_properties\": \"n_components=0.8510526315789474, random_state=None\", \"primary_metric\": 0.72963494, \"best_metric\": 0.76386896}, {\"run_id\": \"AutoML_ceb5a17f-97e5-4896-83ac-c5e4c567d2c1_30\", \"run_number\": 35, \"metric\": null, \"status\": \"Completed\", \"run_type\": \"azureml.scriptrun\", \"training_percent\": \"100\", \"start_time\": \"2020-12-31T18:33:38.103215Z\", \"end_time\": \"2020-12-31T18:34:39.660139Z\", \"created_time\": \"2020-12-31T18:33:25.564476Z\", \"created_time_dt\": \"2020-12-31T18:33:25.564476Z\", \"duration\": \"0:01:14\", \"iteration\": \"30\", \"goal\": \"accuracy_max\", \"run_name\": \"MaxAbsScaler, LightGBM\", \"run_properties\": \"copy=True\", \"primary_metric\": 0.75733301, \"best_metric\": 0.76386896}, {\"run_id\": \"AutoML_ceb5a17f-97e5-4896-83ac-c5e4c567d2c1_31\", \"run_number\": 36, \"metric\": null, \"status\": \"Completed\", \"run_type\": \"azureml.scriptrun\", \"training_percent\": \"100\", \"start_time\": \"2020-12-31T18:33:42.382567Z\", \"end_time\": \"2020-12-31T18:34:33.939819Z\", \"created_time\": \"2020-12-31T18:33:29.991378Z\", \"created_time_dt\": \"2020-12-31T18:33:29.991378Z\", \"duration\": \"0:01:03\", \"iteration\": \"31\", \"goal\": \"accuracy_max\", \"run_name\": \"MaxAbsScaler, LightGBM\", \"run_properties\": \"copy=True\", \"primary_metric\": 0.73939901, \"best_metric\": 0.76386896}, {\"run_id\": \"AutoML_ceb5a17f-97e5-4896-83ac-c5e4c567d2c1_32\", \"run_number\": 37, \"metric\": null, \"status\": \"Completed\", \"run_type\": \"azureml.scriptrun\", \"training_percent\": \"100\", \"start_time\": \"2020-12-31T18:33:55.866051Z\", \"end_time\": \"2020-12-31T18:34:52.062533Z\", \"created_time\": \"2020-12-31T18:33:45.429351Z\", \"created_time_dt\": \"2020-12-31T18:33:45.429351Z\", \"duration\": \"0:01:06\", \"iteration\": \"32\", \"goal\": \"accuracy_max\", \"run_name\": \"StandardScalerWrapper, RandomForest\", \"run_properties\": \"<azureml.automl.runtime.shared.model_wrappers.StandardScalerWrapper object at 0x7f2702f9e128\", \"primary_metric\": 0.7215208, \"best_metric\": 0.76386896}, {\"run_id\": \"AutoML_ceb5a17f-97e5-4896-83ac-c5e4c567d2c1_33\", \"run_number\": 38, \"metric\": null, \"status\": \"Canceled\", \"run_type\": \"azureml.scriptrun\", \"training_percent\": \"100\", \"start_time\": \"2020-12-31T18:34:29.383364Z\", \"end_time\": \"2020-12-31T18:35:00.792996Z\", \"created_time\": \"2020-12-31T18:34:19.018049Z\", \"created_time_dt\": \"2020-12-31T18:34:19.018049Z\", \"duration\": \"0:00:41\", \"iteration\": \"33\", \"goal\": null, \"run_name\": \"MaxAbsScaler, ExtremeRandomTrees\", \"run_properties\": null}, {\"run_id\": \"AutoML_ceb5a17f-97e5-4896-83ac-c5e4c567d2c1_34\", \"run_number\": 39, \"metric\": null, \"status\": \"Canceled\", \"run_type\": \"azureml.scriptrun\", \"training_percent\": \"100\", \"start_time\": \"2020-12-31T18:34:47.867322Z\", \"end_time\": \"2020-12-31T18:34:59.788849Z\", \"created_time\": \"2020-12-31T18:34:36.289181Z\", \"created_time_dt\": \"2020-12-31T18:34:36.289181Z\", \"duration\": \"0:00:23\", \"iteration\": \"34\", \"goal\": null, \"run_name\": \"Canceled\", \"run_properties\": null}, {\"run_id\": \"AutoML_ceb5a17f-97e5-4896-83ac-c5e4c567d2c1_35\", \"run_number\": 40, \"metric\": null, \"status\": \"Canceled\", \"run_type\": \"azureml.scriptrun\", \"training_percent\": \"100\", \"start_time\": \"2020-12-31T18:34:42.823017Z\", \"end_time\": \"2020-12-31T18:35:01.263238Z\", \"created_time\": \"2020-12-31T18:34:42.823017Z\", \"created_time_dt\": \"2020-12-31T18:34:42.823017Z\", \"duration\": \"0:00:18\", \"iteration\": \"35\", \"goal\": null, \"run_name\": \"Canceled\", \"run_properties\": null}, {\"run_id\": \"AutoML_ceb5a17f-97e5-4896-83ac-c5e4c567d2c1_36\", \"run_number\": 41, \"metric\": null, \"status\": \"Completed\", \"run_type\": \"azureml.scriptrun\", \"training_percent\": \"100\", \"start_time\": \"2020-12-31T18:35:14.965075Z\", \"end_time\": \"2020-12-31T18:36:42.645206Z\", \"created_time\": \"2020-12-31T18:35:02.79216Z\", \"created_time_dt\": \"2020-12-31T18:35:02.79216Z\", \"duration\": \"0:01:39\", \"iteration\": \"36\", \"goal\": \"accuracy_max\", \"run_name\": \"VotingEnsemble\", \"run_properties\": \"classification_labels=None,\\n                              estimators=[('8',\\n                                           Pipeline(memory=None,\\n                                                    steps=[('maxabsscaler',\\n                                                            MaxAbsScaler(copy=True\", \"primary_metric\": 0.76710505, \"best_metric\": 0.76710505}], \"children_metrics\": {\"categories\": [0], \"series\": {\"average_precision_score_micro\": [{\"categories\": [\"0\", \"1\", \"2\", \"3\", \"4\", \"5\", \"6\", \"7\", \"8\", \"9\", \"10\", \"11\", \"12\", \"13\", \"14\", \"15\", \"16\", \"17\", \"18\", \"19\", \"20\", \"21\", \"22\", \"23\", \"24\", \"25\", \"26\", \"27\", \"28\", \"29\", \"30\", \"31\", \"32\", \"36\"], \"mode\": \"markers\", \"name\": \"average_precision_score_micro\", \"stepped\": false, \"type\": \"scatter\", \"data\": [0.8166117860170772, 0.8275879185031454, 0.8330740722782185, 0.8257053476721233, 0.8264073654044254, 0.829205310304938, 0.8247819388238377, 0.7659188633296198, 0.8403628576381518, 0.8442158889421578, 0.7229086446037835, 0.8309549891061403, 0.722091905570093, 0.8293355960410013, 0.7018342993958994, 0.8390293800008403, 0.7154571774648731, 0.83268450547219, 0.8306178980533575, 0.8158364460199334, 0.8181899400229452, 0.838075281348185, 0.8065416099105437, 0.835775960391877, 0.8433247387663995, 0.790436219256151, 0.8200666918298234, 0.7205056312312941, 0.8020852607010598, 0.7961589192950194, 0.843995124049736, 0.8238793892401496, 0.8185704248446433, 0.8432738975880921]}, {\"categories\": [\"0\", \"1\", \"2\", \"3\", \"4\", \"5\", \"6\", \"7\", \"8\", \"9\", \"10\", \"11\", \"12\", \"13\", \"14\", \"15\", \"16\", \"17\", \"18\", \"19\", \"20\", \"21\", \"22\", \"23\", \"24\", \"25\", \"26\", \"27\", \"28\", \"29\", \"30\", \"31\", \"32\", \"36\"], \"mode\": \"lines\", \"name\": \"average_precision_score_micro_max\", \"stepped\": true, \"type\": \"scatter\", \"data\": [0.8166117860170772, 0.8275879185031454, 0.8330740722782185, 0.8330740722782185, 0.8330740722782185, 0.8330740722782185, 0.8330740722782185, 0.8330740722782185, 0.8403628576381518, 0.8442158889421578, 0.8442158889421578, 0.8442158889421578, 0.8442158889421578, 0.8442158889421578, 0.8442158889421578, 0.8442158889421578, 0.8442158889421578, 0.8442158889421578, 0.8442158889421578, 0.8442158889421578, 0.8442158889421578, 0.8442158889421578, 0.8442158889421578, 0.8442158889421578, 0.8442158889421578, 0.8442158889421578, 0.8442158889421578, 0.8442158889421578, 0.8442158889421578, 0.8442158889421578, 0.8442158889421578, 0.8442158889421578, 0.8442158889421578, 0.8442158889421578]}], \"matthews_correlation\": [{\"categories\": [\"0\", \"1\", \"2\", \"3\", \"4\", \"5\", \"6\", \"7\", \"8\", \"9\", \"10\", \"11\", \"12\", \"13\", \"14\", \"15\", \"16\", \"17\", \"18\", \"19\", \"20\", \"21\", \"22\", \"23\", \"24\", \"25\", \"26\", \"27\", \"28\", \"29\", \"30\", \"31\", \"32\", \"36\"], \"mode\": \"markers\", \"name\": \"matthews_correlation\", \"stepped\": false, \"type\": \"scatter\", \"data\": [0.443721955771977, 0.43811083875512713, 0.41750129911258466, 0.41440149555843436, 0.46807210090691803, 0.4443250488103246, 0.4416016395586349, 0.33155202898629926, 0.47022220128056286, 0.4368402422939485, 0.20828504938516093, 0.3986489594065576, 0.2610481415737899, 0.42752573515003817, 0.19530173249502092, 0.4652866873654548, 0.20662042858657523, 0.4221431193635339, 0.4523479258173553, 0.36395903660490947, 0.3681202426345836, 0.4265753169872332, 0.4028619003838419, 0.43231154569470237, 0.44725799035691294, 0.19323678006380673, 0.4195227067450926, 0.13537824566676565, 0.1965279846156921, 0.40161115330067326, 0.46176136958962366, 0.42443934335930283, 0.45068418205288824, 0.478945592283251]}, {\"categories\": [\"0\", \"1\", \"2\", \"3\", \"4\", \"5\", \"6\", \"7\", \"8\", \"9\", \"10\", \"11\", \"12\", \"13\", \"14\", \"15\", \"16\", \"17\", \"18\", \"19\", \"20\", \"21\", \"22\", \"23\", \"24\", \"25\", \"26\", \"27\", \"28\", \"29\", \"30\", \"31\", \"32\", \"36\"], \"mode\": \"lines\", \"name\": \"matthews_correlation_max\", \"stepped\": true, \"type\": \"scatter\", \"data\": [0.443721955771977, 0.443721955771977, 0.443721955771977, 0.443721955771977, 0.46807210090691803, 0.46807210090691803, 0.46807210090691803, 0.46807210090691803, 0.47022220128056286, 0.47022220128056286, 0.47022220128056286, 0.47022220128056286, 0.47022220128056286, 0.47022220128056286, 0.47022220128056286, 0.47022220128056286, 0.47022220128056286, 0.47022220128056286, 0.47022220128056286, 0.47022220128056286, 0.47022220128056286, 0.47022220128056286, 0.47022220128056286, 0.47022220128056286, 0.47022220128056286, 0.47022220128056286, 0.47022220128056286, 0.47022220128056286, 0.47022220128056286, 0.47022220128056286, 0.47022220128056286, 0.47022220128056286, 0.47022220128056286, 0.478945592283251]}], \"recall_score_macro\": [{\"categories\": [\"0\", \"1\", \"2\", \"3\", \"4\", \"5\", \"6\", \"7\", \"8\", \"9\", \"10\", \"11\", \"12\", \"13\", \"14\", \"15\", \"16\", \"17\", \"18\", \"19\", \"20\", \"21\", \"22\", \"23\", \"24\", \"25\", \"26\", \"27\", \"28\", \"29\", \"30\", \"31\", \"32\", \"36\"], \"mode\": \"markers\", \"name\": \"recall_score_macro\", \"stepped\": false, \"type\": \"scatter\", \"data\": [0.7175460053570063, 0.712601758701069, 0.6956846997361814, 0.6951513014059655, 0.7387304816131871, 0.7157984924625241, 0.7157685173708571, 0.6400814413758433, 0.7177408985178889, 0.7007138473231694, 0.5867206690282999, 0.684870916612201, 0.6261592459019162, 0.694490387911555, 0.5907805338557647, 0.7191642930161285, 0.5951182339157531, 0.6847298054678815, 0.7085545439329218, 0.6684713794688489, 0.6523140471186527, 0.7032470840835412, 0.6558384323060391, 0.7011628043614344, 0.7148805039125051, 0.5339847707799056, 0.6683036720475775, 0.5340504663609241, 0.542006731177959, 0.6952957934258573, 0.7203319904714017, 0.7070010819132883, 0.7347423354673711, 0.7200456680948668]}, {\"categories\": [\"0\", \"1\", \"2\", \"3\", \"4\", \"5\", \"6\", \"7\", \"8\", \"9\", \"10\", \"11\", \"12\", \"13\", \"14\", \"15\", \"16\", \"17\", \"18\", \"19\", \"20\", \"21\", \"22\", \"23\", \"24\", \"25\", \"26\", \"27\", \"28\", \"29\", \"30\", \"31\", \"32\", \"36\"], \"mode\": \"lines\", \"name\": \"recall_score_macro_max\", \"stepped\": true, \"type\": \"scatter\", \"data\": [0.7175460053570063, 0.7175460053570063, 0.7175460053570063, 0.7175460053570063, 0.7387304816131871, 0.7387304816131871, 0.7387304816131871, 0.7387304816131871, 0.7387304816131871, 0.7387304816131871, 0.7387304816131871, 0.7387304816131871, 0.7387304816131871, 0.7387304816131871, 0.7387304816131871, 0.7387304816131871, 0.7387304816131871, 0.7387304816131871, 0.7387304816131871, 0.7387304816131871, 0.7387304816131871, 0.7387304816131871, 0.7387304816131871, 0.7387304816131871, 0.7387304816131871, 0.7387304816131871, 0.7387304816131871, 0.7387304816131871, 0.7387304816131871, 0.7387304816131871, 0.7387304816131871, 0.7387304816131871, 0.7387304816131871, 0.7387304816131871]}], \"f1_score_micro\": [{\"categories\": [\"0\", \"1\", \"2\", \"3\", \"4\", \"5\", \"6\", \"7\", \"8\", \"9\", \"10\", \"11\", \"12\", \"13\", \"14\", \"15\", \"16\", \"17\", \"18\", \"19\", \"20\", \"21\", \"22\", \"23\", \"24\", \"25\", \"26\", \"27\", \"28\", \"29\", \"30\", \"31\", \"32\", \"36\"], \"mode\": \"markers\", \"name\": \"f1_score_micro\", \"stepped\": false, \"type\": \"scatter\", \"data\": [0.7459588713534194, 0.7443089430894309, 0.7394069823051171, 0.7378208193846644, 0.74757691694564, 0.7475290929379882, 0.7459349593495935, 0.7084409373505499, 0.7638689622190341, 0.7492029332058027, 0.6661485732504384, 0.732863063924757, 0.6676709708273553, 0.7475689462776981, 0.6449545671927308, 0.7605930176948829, 0.6530687071576599, 0.744285031085605, 0.7556751155746851, 0.7181970349115255, 0.7230989956958394, 0.7426510441575004, 0.7361230671130241, 0.7475530049418141, 0.7491869918699187, 0.6628407460545193, 0.7426510441575004, 0.6514426908974972, 0.6660768372389606, 0.7296349434082576, 0.7573330145066156, 0.7393990116371753, 0.7215208034433286, 0.7671050534034752]}, {\"categories\": [\"0\", \"1\", \"2\", \"3\", \"4\", \"5\", \"6\", \"7\", \"8\", \"9\", \"10\", \"11\", \"12\", \"13\", \"14\", \"15\", \"16\", \"17\", \"18\", \"19\", \"20\", \"21\", \"22\", \"23\", \"24\", \"25\", \"26\", \"27\", \"28\", \"29\", \"30\", \"31\", \"32\", \"36\"], \"mode\": \"lines\", \"name\": \"f1_score_micro_max\", \"stepped\": true, \"type\": \"scatter\", \"data\": [0.7459588713534194, 0.7459588713534194, 0.7459588713534194, 0.7459588713534194, 0.74757691694564, 0.74757691694564, 0.74757691694564, 0.74757691694564, 0.7638689622190341, 0.7638689622190341, 0.7638689622190341, 0.7638689622190341, 0.7638689622190341, 0.7638689622190341, 0.7638689622190341, 0.7638689622190341, 0.7638689622190341, 0.7638689622190341, 0.7638689622190341, 0.7638689622190341, 0.7638689622190341, 0.7638689622190341, 0.7638689622190341, 0.7638689622190341, 0.7638689622190341, 0.7638689622190341, 0.7638689622190341, 0.7638689622190341, 0.7638689622190341, 0.7638689622190341, 0.7638689622190341, 0.7638689622190341, 0.7638689622190341, 0.7671050534034752]}], \"norm_macro_recall\": [{\"categories\": [\"0\", \"1\", \"2\", \"3\", \"4\", \"5\", \"6\", \"7\", \"8\", \"9\", \"10\", \"11\", \"12\", \"13\", \"14\", \"15\", \"16\", \"17\", \"18\", \"19\", \"20\", \"21\", \"22\", \"23\", \"24\", \"25\", \"26\", \"27\", \"28\", \"29\", \"30\", \"31\", \"32\", \"36\"], \"mode\": \"markers\", \"name\": \"norm_macro_recall\", \"stepped\": false, \"type\": \"scatter\", \"data\": [0.4350920107140126, 0.42520351740213796, 0.39136939947236277, 0.39030260281193074, 0.47746096322637427, 0.4315969849250483, 0.43153703474171423, 0.2801628827516866, 0.43548179703577783, 0.4014276946463389, 0.17344133805659986, 0.36974183322440207, 0.25231849180383237, 0.38898077582311014, 0.1815610677115295, 0.4383285860322573, 0.1902364678315062, 0.36945961093576307, 0.41710908786584383, 0.3369427589376978, 0.30462809423730547, 0.40649416816708256, 0.3116768646120782, 0.4023256087228688, 0.4297610078250105, 0.06796954155981123, 0.33660734409515486, 0.0681009327218484, 0.08401346235591789, 0.39059158685171474, 0.4406639809428035, 0.4140021638265765, 0.46948467093474217, 0.44009133618973356]}, {\"categories\": [\"0\", \"1\", \"2\", \"3\", \"4\", \"5\", \"6\", \"7\", \"8\", \"9\", \"10\", \"11\", \"12\", \"13\", \"14\", \"15\", \"16\", \"17\", \"18\", \"19\", \"20\", \"21\", \"22\", \"23\", \"24\", \"25\", \"26\", \"27\", \"28\", \"29\", \"30\", \"31\", \"32\", \"36\"], \"mode\": \"lines\", \"name\": \"norm_macro_recall_max\", \"stepped\": true, \"type\": \"scatter\", \"data\": [0.4350920107140126, 0.4350920107140126, 0.4350920107140126, 0.4350920107140126, 0.47746096322637427, 0.47746096322637427, 0.47746096322637427, 0.47746096322637427, 0.47746096322637427, 0.47746096322637427, 0.47746096322637427, 0.47746096322637427, 0.47746096322637427, 0.47746096322637427, 0.47746096322637427, 0.47746096322637427, 0.47746096322637427, 0.47746096322637427, 0.47746096322637427, 0.47746096322637427, 0.47746096322637427, 0.47746096322637427, 0.47746096322637427, 0.47746096322637427, 0.47746096322637427, 0.47746096322637427, 0.47746096322637427, 0.47746096322637427, 0.47746096322637427, 0.47746096322637427, 0.47746096322637427, 0.47746096322637427, 0.47746096322637427, 0.47746096322637427]}], \"accuracy\": [{\"categories\": [\"0\", \"1\", \"2\", \"3\", \"4\", \"5\", \"6\", \"7\", \"8\", \"9\", \"10\", \"11\", \"12\", \"13\", \"14\", \"15\", \"16\", \"17\", \"18\", \"19\", \"20\", \"21\", \"22\", \"23\", \"24\", \"25\", \"26\", \"27\", \"28\", \"29\", \"30\", \"31\", \"32\", \"36\"], \"mode\": \"markers\", \"name\": \"accuracy\", \"stepped\": false, \"type\": \"scatter\", \"data\": [0.7459588713534194, 0.7443089430894309, 0.7394069823051171, 0.7378208193846644, 0.74757691694564, 0.7475290929379882, 0.7459349593495935, 0.7084409373505499, 0.7638689622190339, 0.7492029332058027, 0.6661485732504384, 0.732863063924757, 0.6676709708273553, 0.7475689462776981, 0.6449545671927308, 0.7605930176948829, 0.6530687071576599, 0.744285031085605, 0.7556751155746851, 0.7181970349115255, 0.7230989956958394, 0.7426510441575004, 0.7361230671130241, 0.7475530049418141, 0.7491869918699187, 0.6628407460545193, 0.7426510441575004, 0.6514426908974972, 0.6660768372389606, 0.7296349434082576, 0.7573330145066156, 0.7393990116371753, 0.7215208034433286, 0.7671050534034752]}, {\"categories\": [\"0\", \"1\", \"2\", \"3\", \"4\", \"5\", \"6\", \"7\", \"8\", \"9\", \"10\", \"11\", \"12\", \"13\", \"14\", \"15\", \"16\", \"17\", \"18\", \"19\", \"20\", \"21\", \"22\", \"23\", \"24\", \"25\", \"26\", \"27\", \"28\", \"29\", \"30\", \"31\", \"32\", \"36\"], \"mode\": \"lines\", \"name\": \"accuracy_max\", \"stepped\": true, \"type\": \"scatter\", \"data\": [0.7459588713534194, 0.7459588713534194, 0.7459588713534194, 0.7459588713534194, 0.74757691694564, 0.74757691694564, 0.74757691694564, 0.74757691694564, 0.7638689622190339, 0.7638689622190339, 0.7638689622190339, 0.7638689622190339, 0.7638689622190339, 0.7638689622190339, 0.7638689622190339, 0.7638689622190339, 0.7638689622190339, 0.7638689622190339, 0.7638689622190339, 0.7638689622190339, 0.7638689622190339, 0.7638689622190339, 0.7638689622190339, 0.7638689622190339, 0.7638689622190339, 0.7638689622190339, 0.7638689622190339, 0.7638689622190339, 0.7638689622190339, 0.7638689622190339, 0.7638689622190339, 0.7638689622190339, 0.7638689622190339, 0.7671050534034752]}], \"AUC_weighted\": [{\"categories\": [\"0\", \"1\", \"2\", \"3\", \"4\", \"5\", \"6\", \"7\", \"8\", \"9\", \"10\", \"11\", \"12\", \"13\", \"14\", \"15\", \"16\", \"17\", \"18\", \"19\", \"20\", \"21\", \"22\", \"23\", \"24\", \"25\", \"26\", \"27\", \"28\", \"29\", \"30\", \"31\", \"32\", \"36\"], \"mode\": \"markers\", \"name\": \"AUC_weighted\", \"stepped\": false, \"type\": \"scatter\", \"data\": [0.801557560850414, 0.8153530249017112, 0.8179212927532448, 0.8043847512814087, 0.8165199059245953, 0.817702122744233, 0.8085551661264136, 0.7546144668197391, 0.8238730386749559, 0.8280759904580265, 0.6756217640481408, 0.8146633195612139, 0.6878595551922787, 0.8142923920221041, 0.667610274617425, 0.819632251362088, 0.6849568297242413, 0.8225045557319182, 0.8158500292303783, 0.7911336528606238, 0.8075059898055215, 0.8215331520628721, 0.809142277581891, 0.817159272032673, 0.8261362847571814, 0.7978480834355887, 0.815446305884597, 0.6796538800435008, 0.8142796946608493, 0.7741756074524818, 0.8279678555398133, 0.8048957367301682, 0.8196133588383989, 0.8290809784702914]}, {\"categories\": [\"0\", \"1\", \"2\", \"3\", \"4\", \"5\", \"6\", \"7\", \"8\", \"9\", \"10\", \"11\", \"12\", \"13\", \"14\", \"15\", \"16\", \"17\", \"18\", \"19\", \"20\", \"21\", \"22\", \"23\", \"24\", \"25\", \"26\", \"27\", \"28\", \"29\", \"30\", \"31\", \"32\", \"36\"], \"mode\": \"lines\", \"name\": \"AUC_weighted_max\", \"stepped\": true, \"type\": \"scatter\", \"data\": [0.801557560850414, 0.8153530249017112, 0.8179212927532448, 0.8179212927532448, 0.8179212927532448, 0.8179212927532448, 0.8179212927532448, 0.8179212927532448, 0.8238730386749559, 0.8280759904580265, 0.8280759904580265, 0.8280759904580265, 0.8280759904580265, 0.8280759904580265, 0.8280759904580265, 0.8280759904580265, 0.8280759904580265, 0.8280759904580265, 0.8280759904580265, 0.8280759904580265, 0.8280759904580265, 0.8280759904580265, 0.8280759904580265, 0.8280759904580265, 0.8280759904580265, 0.8280759904580265, 0.8280759904580265, 0.8280759904580265, 0.8280759904580265, 0.8280759904580265, 0.8280759904580265, 0.8280759904580265, 0.8280759904580265, 0.8290809784702914]}], \"AUC_micro\": [{\"categories\": [\"0\", \"1\", \"2\", \"3\", \"4\", \"5\", \"6\", \"7\", \"8\", \"9\", \"10\", \"11\", \"12\", \"13\", \"14\", \"15\", \"16\", \"17\", \"18\", \"19\", \"20\", \"21\", \"22\", \"23\", \"24\", \"25\", \"26\", \"27\", \"28\", \"29\", \"30\", \"31\", \"32\", \"36\"], \"mode\": \"markers\", \"name\": \"AUC_micro\", \"stepped\": false, \"type\": \"scatter\", \"data\": [0.8188072049806498, 0.8286293876125527, 0.8339188953469977, 0.8226199391118731, 0.8265812522494933, 0.8313129430229514, 0.8256426510174742, 0.7802991129420396, 0.8395975089051535, 0.8421063115187092, 0.7276395631174362, 0.8277468547500341, 0.7273204798593685, 0.8312986188826077, 0.7104825048222351, 0.838706517643003, 0.7249580154309997, 0.8329103893368243, 0.8292195946082451, 0.8083761852985508, 0.8143488982066799, 0.8370657487857406, 0.8106120914537134, 0.8361822414128155, 0.8414943361371329, 0.7786684097690276, 0.8175592644510573, 0.7248680959282656, 0.7878782466939643, 0.7999444816866376, 0.8421049278016058, 0.8255198352606644, 0.8166449842389666, 0.842353911874984]}, {\"categories\": [\"0\", \"1\", \"2\", \"3\", \"4\", \"5\", \"6\", \"7\", \"8\", \"9\", \"10\", \"11\", \"12\", \"13\", \"14\", \"15\", \"16\", \"17\", \"18\", \"19\", \"20\", \"21\", \"22\", \"23\", \"24\", \"25\", \"26\", \"27\", \"28\", \"29\", \"30\", \"31\", \"32\", \"36\"], \"mode\": \"lines\", \"name\": \"AUC_micro_max\", \"stepped\": true, \"type\": \"scatter\", \"data\": [0.8188072049806498, 0.8286293876125527, 0.8339188953469977, 0.8339188953469977, 0.8339188953469977, 0.8339188953469977, 0.8339188953469977, 0.8339188953469977, 0.8395975089051535, 0.8421063115187092, 0.8421063115187092, 0.8421063115187092, 0.8421063115187092, 0.8421063115187092, 0.8421063115187092, 0.8421063115187092, 0.8421063115187092, 0.8421063115187092, 0.8421063115187092, 0.8421063115187092, 0.8421063115187092, 0.8421063115187092, 0.8421063115187092, 0.8421063115187092, 0.8421063115187092, 0.8421063115187092, 0.8421063115187092, 0.8421063115187092, 0.8421063115187092, 0.8421063115187092, 0.8421063115187092, 0.8421063115187092, 0.8421063115187092, 0.842353911874984]}], \"f1_score_weighted\": [{\"categories\": [\"0\", \"1\", \"2\", \"3\", \"4\", \"5\", \"6\", \"7\", \"8\", \"9\", \"10\", \"11\", \"12\", \"13\", \"14\", \"15\", \"16\", \"17\", \"18\", \"19\", \"20\", \"21\", \"22\", \"23\", \"24\", \"25\", \"26\", \"27\", \"28\", \"29\", \"30\", \"31\", \"32\", \"36\"], \"mode\": \"markers\", \"name\": \"f1_score_weighted\", \"stepped\": false, \"type\": \"scatter\", \"data\": [0.7437922628335389, 0.7407599038402416, 0.7308948063314117, 0.7305912466441479, 0.7501940669208934, 0.7431366195768095, 0.7429499326050211, 0.6832608764945691, 0.7553254426629912, 0.7392261386837854, 0.6349922193398827, 0.7218534858690205, 0.6614101435928877, 0.73589844357751, 0.6302498242301656, 0.753463770739153, 0.635660746469887, 0.7274636034945287, 0.7453045330231903, 0.705875524880733, 0.6971519945184613, 0.7360832448220601, 0.7037959372183522, 0.7385240224359504, 0.7442152668238403, 0.5543728271439591, 0.715019069332019, 0.5625560730271082, 0.5669606976687454, 0.7259965767783952, 0.7518429046189548, 0.7360199161383031, 0.7271289711333911, 0.757568650192156]}, {\"categories\": [\"0\", \"1\", \"2\", \"3\", \"4\", \"5\", \"6\", \"7\", \"8\", \"9\", \"10\", \"11\", \"12\", \"13\", \"14\", \"15\", \"16\", \"17\", \"18\", \"19\", \"20\", \"21\", \"22\", \"23\", \"24\", \"25\", \"26\", \"27\", \"28\", \"29\", \"30\", \"31\", \"32\", \"36\"], \"mode\": \"lines\", \"name\": \"f1_score_weighted_max\", \"stepped\": true, \"type\": \"scatter\", \"data\": [0.7437922628335389, 0.7437922628335389, 0.7437922628335389, 0.7437922628335389, 0.7501940669208934, 0.7501940669208934, 0.7501940669208934, 0.7501940669208934, 0.7553254426629912, 0.7553254426629912, 0.7553254426629912, 0.7553254426629912, 0.7553254426629912, 0.7553254426629912, 0.7553254426629912, 0.7553254426629912, 0.7553254426629912, 0.7553254426629912, 0.7553254426629912, 0.7553254426629912, 0.7553254426629912, 0.7553254426629912, 0.7553254426629912, 0.7553254426629912, 0.7553254426629912, 0.7553254426629912, 0.7553254426629912, 0.7553254426629912, 0.7553254426629912, 0.7553254426629912, 0.7553254426629912, 0.7553254426629912, 0.7553254426629912, 0.757568650192156]}], \"log_loss\": [{\"categories\": [\"0\", \"1\", \"2\", \"3\", \"4\", \"5\", \"6\", \"7\", \"8\", \"9\", \"10\", \"11\", \"12\", \"13\", \"14\", \"15\", \"16\", \"17\", \"18\", \"19\", \"20\", \"21\", \"22\", \"23\", \"24\", \"25\", \"26\", \"27\", \"28\", \"29\", \"30\", \"31\", \"32\", \"36\"], \"mode\": \"markers\", \"name\": \"log_loss\", \"stepped\": false, \"type\": \"scatter\", \"data\": [0.6201588010501355, 0.5256130569555227, 0.5484648084850287, 0.5176237323331678, 0.5574642107809883, 0.5220260071901827, 0.5159036715908746, 0.5691050604432174, 0.5116671301431491, 0.5017352811716621, 0.621280118026173, 0.5160629703897253, 0.6118807442555819, 0.5552368897695773, 0.6584305433314482, 0.5441719137111269, 0.6483870333500867, 0.5128753220256419, 0.5211773476496199, 0.5324475217022471, 0.539869111509634, 0.4978307126176105, 0.5566116474811905, 0.5038256166029664, 0.490757730798864, 0.5882892389782, 0.5448864509597788, 0.6155525946651145, 0.5813842942211146, 0.5497809211936476, 0.4890941656210062, 0.5148505851956223, 0.5286497314064841, 0.5048993694081944]}, {\"categories\": [\"0\", \"1\", \"2\", \"3\", \"4\", \"5\", \"6\", \"7\", \"8\", \"9\", \"10\", \"11\", \"12\", \"13\", \"14\", \"15\", \"16\", \"17\", \"18\", \"19\", \"20\", \"21\", \"22\", \"23\", \"24\", \"25\", \"26\", \"27\", \"28\", \"29\", \"30\", \"31\", \"32\", \"36\"], \"mode\": \"lines\", \"name\": \"log_loss_min\", \"stepped\": true, \"type\": \"scatter\", \"data\": [0.6201588010501355, 0.5256130569555227, 0.5256130569555227, 0.5176237323331678, 0.5176237323331678, 0.5176237323331678, 0.5159036715908746, 0.5159036715908746, 0.5116671301431491, 0.5017352811716621, 0.5017352811716621, 0.5017352811716621, 0.5017352811716621, 0.5017352811716621, 0.5017352811716621, 0.5017352811716621, 0.5017352811716621, 0.5017352811716621, 0.5017352811716621, 0.5017352811716621, 0.5017352811716621, 0.4978307126176105, 0.4978307126176105, 0.4978307126176105, 0.490757730798864, 0.490757730798864, 0.490757730798864, 0.490757730798864, 0.490757730798864, 0.490757730798864, 0.4890941656210062, 0.4890941656210062, 0.4890941656210062, 0.4890941656210062]}], \"precision_score_micro\": [{\"categories\": [\"0\", \"1\", \"2\", \"3\", \"4\", \"5\", \"6\", \"7\", \"8\", \"9\", \"10\", \"11\", \"12\", \"13\", \"14\", \"15\", \"16\", \"17\", \"18\", \"19\", \"20\", \"21\", \"22\", \"23\", \"24\", \"25\", \"26\", \"27\", \"28\", \"29\", \"30\", \"31\", \"32\", \"36\"], \"mode\": \"markers\", \"name\": \"precision_score_micro\", \"stepped\": false, \"type\": \"scatter\", \"data\": [0.7459588713534194, 0.7443089430894309, 0.7394069823051171, 0.7378208193846644, 0.74757691694564, 0.7475290929379882, 0.7459349593495935, 0.7084409373505499, 0.7638689622190339, 0.7492029332058027, 0.6661485732504384, 0.732863063924757, 0.6676709708273553, 0.7475689462776981, 0.6449545671927308, 0.7605930176948829, 0.6530687071576599, 0.744285031085605, 0.7556751155746851, 0.7181970349115255, 0.7230989956958394, 0.7426510441575004, 0.7361230671130241, 0.7475530049418141, 0.7491869918699187, 0.6628407460545193, 0.7426510441575004, 0.6514426908974972, 0.6660768372389606, 0.7296349434082576, 0.7573330145066156, 0.7393990116371753, 0.7215208034433286, 0.7671050534034752]}, {\"categories\": [\"0\", \"1\", \"2\", \"3\", \"4\", \"5\", \"6\", \"7\", \"8\", \"9\", \"10\", \"11\", \"12\", \"13\", \"14\", \"15\", \"16\", \"17\", \"18\", \"19\", \"20\", \"21\", \"22\", \"23\", \"24\", \"25\", \"26\", \"27\", \"28\", \"29\", \"30\", \"31\", \"32\", \"36\"], \"mode\": \"lines\", \"name\": \"precision_score_micro_max\", \"stepped\": true, \"type\": \"scatter\", \"data\": [0.7459588713534194, 0.7459588713534194, 0.7459588713534194, 0.7459588713534194, 0.74757691694564, 0.74757691694564, 0.74757691694564, 0.74757691694564, 0.7638689622190339, 0.7638689622190339, 0.7638689622190339, 0.7638689622190339, 0.7638689622190339, 0.7638689622190339, 0.7638689622190339, 0.7638689622190339, 0.7638689622190339, 0.7638689622190339, 0.7638689622190339, 0.7638689622190339, 0.7638689622190339, 0.7638689622190339, 0.7638689622190339, 0.7638689622190339, 0.7638689622190339, 0.7638689622190339, 0.7638689622190339, 0.7638689622190339, 0.7638689622190339, 0.7638689622190339, 0.7638689622190339, 0.7638689622190339, 0.7638689622190339, 0.7671050534034752]}], \"recall_score_micro\": [{\"categories\": [\"0\", \"1\", \"2\", \"3\", \"4\", \"5\", \"6\", \"7\", \"8\", \"9\", \"10\", \"11\", \"12\", \"13\", \"14\", \"15\", \"16\", \"17\", \"18\", \"19\", \"20\", \"21\", \"22\", \"23\", \"24\", \"25\", \"26\", \"27\", \"28\", \"29\", \"30\", \"31\", \"32\", \"36\"], \"mode\": \"markers\", \"name\": \"recall_score_micro\", \"stepped\": false, \"type\": \"scatter\", \"data\": [0.7459588713534194, 0.7443089430894309, 0.7394069823051171, 0.7378208193846644, 0.74757691694564, 0.7475290929379882, 0.7459349593495935, 0.7084409373505499, 0.7638689622190339, 0.7492029332058027, 0.6661485732504384, 0.732863063924757, 0.6676709708273553, 0.7475689462776981, 0.6449545671927308, 0.7605930176948829, 0.6530687071576599, 0.744285031085605, 0.7556751155746851, 0.7181970349115255, 0.7230989956958394, 0.7426510441575004, 0.7361230671130241, 0.7475530049418141, 0.7491869918699187, 0.6628407460545193, 0.7426510441575004, 0.6514426908974972, 0.6660768372389606, 0.7296349434082576, 0.7573330145066156, 0.7393990116371753, 0.7215208034433286, 0.7671050534034752]}, {\"categories\": [\"0\", \"1\", \"2\", \"3\", \"4\", \"5\", \"6\", \"7\", \"8\", \"9\", \"10\", \"11\", \"12\", \"13\", \"14\", \"15\", \"16\", \"17\", \"18\", \"19\", \"20\", \"21\", \"22\", \"23\", \"24\", \"25\", \"26\", \"27\", \"28\", \"29\", \"30\", \"31\", \"32\", \"36\"], \"mode\": \"lines\", \"name\": \"recall_score_micro_max\", \"stepped\": true, \"type\": \"scatter\", \"data\": [0.7459588713534194, 0.7459588713534194, 0.7459588713534194, 0.7459588713534194, 0.74757691694564, 0.74757691694564, 0.74757691694564, 0.74757691694564, 0.7638689622190339, 0.7638689622190339, 0.7638689622190339, 0.7638689622190339, 0.7638689622190339, 0.7638689622190339, 0.7638689622190339, 0.7638689622190339, 0.7638689622190339, 0.7638689622190339, 0.7638689622190339, 0.7638689622190339, 0.7638689622190339, 0.7638689622190339, 0.7638689622190339, 0.7638689622190339, 0.7638689622190339, 0.7638689622190339, 0.7638689622190339, 0.7638689622190339, 0.7638689622190339, 0.7638689622190339, 0.7638689622190339, 0.7638689622190339, 0.7638689622190339, 0.7671050534034752]}], \"average_precision_score_macro\": [{\"categories\": [\"0\", \"1\", \"2\", \"3\", \"4\", \"5\", \"6\", \"7\", \"8\", \"9\", \"10\", \"11\", \"12\", \"13\", \"14\", \"15\", \"16\", \"17\", \"18\", \"19\", \"20\", \"21\", \"22\", \"23\", \"24\", \"25\", \"26\", \"27\", \"28\", \"29\", \"30\", \"31\", \"32\", \"36\"], \"mode\": \"markers\", \"name\": \"average_precision_score_macro\", \"stepped\": false, \"type\": \"scatter\", \"data\": [0.7692937589625579, 0.785048807722532, 0.7988755584945081, 0.7873592927596335, 0.7916079266060473, 0.7917530601770467, 0.7784740438643127, 0.7257739496761739, 0.8092351236616612, 0.8121242663997549, 0.6519038523515547, 0.7930859387210099, 0.6728372812764424, 0.7867380914362497, 0.6398318743629122, 0.8041195408694173, 0.656773255081894, 0.8022671154827871, 0.7928534352509901, 0.7692102626612204, 0.7820510355120094, 0.797835958822942, 0.7899438453389864, 0.79971276171084, 0.8057741113204777, 0.7795599209322938, 0.7963958499661623, 0.6550308640535119, 0.7924476875826549, 0.7463723509286971, 0.805026986429133, 0.7869291009063106, 0.7998597229257952, 0.8103992851988696]}, {\"categories\": [\"0\", \"1\", \"2\", \"3\", \"4\", \"5\", \"6\", \"7\", \"8\", \"9\", \"10\", \"11\", \"12\", \"13\", \"14\", \"15\", \"16\", \"17\", \"18\", \"19\", \"20\", \"21\", \"22\", \"23\", \"24\", \"25\", \"26\", \"27\", \"28\", \"29\", \"30\", \"31\", \"32\", \"36\"], \"mode\": \"lines\", \"name\": \"average_precision_score_macro_max\", \"stepped\": true, \"type\": \"scatter\", \"data\": [0.7692937589625579, 0.785048807722532, 0.7988755584945081, 0.7988755584945081, 0.7988755584945081, 0.7988755584945081, 0.7988755584945081, 0.7988755584945081, 0.8092351236616612, 0.8121242663997549, 0.8121242663997549, 0.8121242663997549, 0.8121242663997549, 0.8121242663997549, 0.8121242663997549, 0.8121242663997549, 0.8121242663997549, 0.8121242663997549, 0.8121242663997549, 0.8121242663997549, 0.8121242663997549, 0.8121242663997549, 0.8121242663997549, 0.8121242663997549, 0.8121242663997549, 0.8121242663997549, 0.8121242663997549, 0.8121242663997549, 0.8121242663997549, 0.8121242663997549, 0.8121242663997549, 0.8121242663997549, 0.8121242663997549, 0.8121242663997549]}], \"recall_score_weighted\": [{\"categories\": [\"0\", \"1\", \"2\", \"3\", \"4\", \"5\", \"6\", \"7\", \"8\", \"9\", \"10\", \"11\", \"12\", \"13\", \"14\", \"15\", \"16\", \"17\", \"18\", \"19\", \"20\", \"21\", \"22\", \"23\", \"24\", \"25\", \"26\", \"27\", \"28\", \"29\", \"30\", \"31\", \"32\", \"36\"], \"mode\": \"markers\", \"name\": \"recall_score_weighted\", \"stepped\": false, \"type\": \"scatter\", \"data\": [0.7459588713534194, 0.7443089430894309, 0.7394069823051171, 0.7378208193846644, 0.74757691694564, 0.7475290929379882, 0.7459349593495935, 0.7084409373505499, 0.7638689622190339, 0.7492029332058027, 0.6661485732504384, 0.732863063924757, 0.6676709708273553, 0.7475689462776981, 0.6449545671927308, 0.7605930176948829, 0.6530687071576599, 0.744285031085605, 0.7556751155746851, 0.7181970349115255, 0.7230989956958394, 0.7426510441575004, 0.7361230671130241, 0.7475530049418141, 0.7491869918699187, 0.6628407460545193, 0.7426510441575004, 0.6514426908974972, 0.6660768372389606, 0.7296349434082576, 0.7573330145066156, 0.7393990116371753, 0.7215208034433286, 0.7671050534034752]}, {\"categories\": [\"0\", \"1\", \"2\", \"3\", \"4\", \"5\", \"6\", \"7\", \"8\", \"9\", \"10\", \"11\", \"12\", \"13\", \"14\", \"15\", \"16\", \"17\", \"18\", \"19\", \"20\", \"21\", \"22\", \"23\", \"24\", \"25\", \"26\", \"27\", \"28\", \"29\", \"30\", \"31\", \"32\", \"36\"], \"mode\": \"lines\", \"name\": \"recall_score_weighted_max\", \"stepped\": true, \"type\": \"scatter\", \"data\": [0.7459588713534194, 0.7459588713534194, 0.7459588713534194, 0.7459588713534194, 0.74757691694564, 0.74757691694564, 0.74757691694564, 0.74757691694564, 0.7638689622190339, 0.7638689622190339, 0.7638689622190339, 0.7638689622190339, 0.7638689622190339, 0.7638689622190339, 0.7638689622190339, 0.7638689622190339, 0.7638689622190339, 0.7638689622190339, 0.7638689622190339, 0.7638689622190339, 0.7638689622190339, 0.7638689622190339, 0.7638689622190339, 0.7638689622190339, 0.7638689622190339, 0.7638689622190339, 0.7638689622190339, 0.7638689622190339, 0.7638689622190339, 0.7638689622190339, 0.7638689622190339, 0.7638689622190339, 0.7638689622190339, 0.7671050534034752]}], \"weighted_accuracy\": [{\"categories\": [\"0\", \"1\", \"2\", \"3\", \"4\", \"5\", \"6\", \"7\", \"8\", \"9\", \"10\", \"11\", \"12\", \"13\", \"14\", \"15\", \"16\", \"17\", \"18\", \"19\", \"20\", \"21\", \"22\", \"23\", \"24\", \"25\", \"26\", \"27\", \"28\", \"29\", \"30\", \"31\", \"32\", \"36\"], \"mode\": \"markers\", \"name\": \"weighted_accuracy\", \"stepped\": false, \"type\": \"scatter\", \"data\": [0.7703331923526053, 0.7715615333630267, 0.7767364567013777, 0.7741976986248673, 0.7551475733100856, 0.7749148588749296, 0.7717568319485276, 0.7669351321728747, 0.8030190493851782, 0.7904431189064769, 0.7332030017220753, 0.7738523575175611, 0.7032264358148269, 0.7924552813244273, 0.6915423437432485, 0.7959757277740463, 0.7028122745720906, 0.7950321829391004, 0.7958954899639066, 0.7608905211758259, 0.7833720853455576, 0.7763401389458314, 0.8044472230944817, 0.7869457600642367, 0.778734045943859, 0.7720388579267158, 0.806084550658047, 0.7511948792097308, 0.7713489109494297, 0.7588822182288223, 0.7889448045385459, 0.7670152610837797, 0.7105341105174272, 0.8072217109878256]}, {\"categories\": [\"0\", \"1\", \"2\", \"3\", \"4\", \"5\", \"6\", \"7\", \"8\", \"9\", \"10\", \"11\", \"12\", \"13\", \"14\", \"15\", \"16\", \"17\", \"18\", \"19\", \"20\", \"21\", \"22\", \"23\", \"24\", \"25\", \"26\", \"27\", \"28\", \"29\", \"30\", \"31\", \"32\", \"36\"], \"mode\": \"lines\", \"name\": \"weighted_accuracy_max\", \"stepped\": true, \"type\": \"scatter\", \"data\": [0.7703331923526053, 0.7715615333630267, 0.7767364567013777, 0.7767364567013777, 0.7767364567013777, 0.7767364567013777, 0.7767364567013777, 0.7767364567013777, 0.8030190493851782, 0.8030190493851782, 0.8030190493851782, 0.8030190493851782, 0.8030190493851782, 0.8030190493851782, 0.8030190493851782, 0.8030190493851782, 0.8030190493851782, 0.8030190493851782, 0.8030190493851782, 0.8030190493851782, 0.8030190493851782, 0.8030190493851782, 0.8044472230944817, 0.8044472230944817, 0.8044472230944817, 0.8044472230944817, 0.806084550658047, 0.806084550658047, 0.806084550658047, 0.806084550658047, 0.806084550658047, 0.806084550658047, 0.806084550658047, 0.8072217109878256]}], \"precision_score_macro\": [{\"categories\": [\"0\", \"1\", \"2\", \"3\", \"4\", \"5\", \"6\", \"7\", \"8\", \"9\", \"10\", \"11\", \"12\", \"13\", \"14\", \"15\", \"16\", \"17\", \"18\", \"19\", \"20\", \"21\", \"22\", \"23\", \"24\", \"25\", \"26\", \"27\", \"28\", \"29\", \"30\", \"31\", \"32\", \"36\"], \"mode\": \"markers\", \"name\": \"precision_score_macro\", \"stepped\": false, \"type\": \"scatter\", \"data\": [0.726476160899086, 0.7260784827613822, 0.7233084703488002, 0.7202876038217223, 0.7294999977283926, 0.7291830249184358, 0.7261262809646943, 0.6981310662527062, 0.7541325927085832, 0.7382208594341133, 0.6253424282270436, 0.7156045920828582, 0.6351878403654506, 0.7351044884650985, 0.6055301501380682, 0.7471981602845398, 0.6127020582036505, 0.742235092524191, 0.7460361400669195, 0.697148333790737, 0.7251945998582863, 0.7241815422996792, 0.7615750839620897, 0.732611183301855, 0.7333059738538067, 0.7764586520867929, 0.7628690641809083, 0.647176727756711, 0.7365694101098548, 0.706558892442002, 0.7423800040653576, 0.7177158886634484, 0.7163587930323989, 0.7611716788639177]}, {\"categories\": [\"0\", \"1\", \"2\", \"3\", \"4\", \"5\", \"6\", \"7\", \"8\", \"9\", \"10\", \"11\", \"12\", \"13\", \"14\", \"15\", \"16\", \"17\", \"18\", \"19\", \"20\", \"21\", \"22\", \"23\", \"24\", \"25\", \"26\", \"27\", \"28\", \"29\", \"30\", \"31\", \"32\", \"36\"], \"mode\": \"lines\", \"name\": \"precision_score_macro_max\", \"stepped\": true, \"type\": \"scatter\", \"data\": [0.726476160899086, 0.726476160899086, 0.726476160899086, 0.726476160899086, 0.7294999977283926, 0.7294999977283926, 0.7294999977283926, 0.7294999977283926, 0.7541325927085832, 0.7541325927085832, 0.7541325927085832, 0.7541325927085832, 0.7541325927085832, 0.7541325927085832, 0.7541325927085832, 0.7541325927085832, 0.7541325927085832, 0.7541325927085832, 0.7541325927085832, 0.7541325927085832, 0.7541325927085832, 0.7541325927085832, 0.7615750839620897, 0.7615750839620897, 0.7615750839620897, 0.7764586520867929, 0.7764586520867929, 0.7764586520867929, 0.7764586520867929, 0.7764586520867929, 0.7764586520867929, 0.7764586520867929, 0.7764586520867929, 0.7764586520867929]}], \"AUC_macro\": [{\"categories\": [\"0\", \"1\", \"2\", \"3\", \"4\", \"5\", \"6\", \"7\", \"8\", \"9\", \"10\", \"11\", \"12\", \"13\", \"14\", \"15\", \"16\", \"17\", \"18\", \"19\", \"20\", \"21\", \"22\", \"23\", \"24\", \"25\", \"26\", \"27\", \"28\", \"29\", \"30\", \"31\", \"32\", \"36\"], \"mode\": \"markers\", \"name\": \"AUC_macro\", \"stepped\": false, \"type\": \"scatter\", \"data\": [0.801557560850414, 0.8153530249017112, 0.8179212927532445, 0.8043847512814088, 0.8165199059245953, 0.817702122744233, 0.8085551661264138, 0.7546144668197391, 0.823873038674956, 0.8280759904580265, 0.6756217640481407, 0.8146633195612139, 0.6878595551922787, 0.8142923920221041, 0.667610274617425, 0.819632251362088, 0.6849568297242413, 0.8225045557319182, 0.8158500292303783, 0.791133652860624, 0.8075059898055215, 0.8215331520628721, 0.809142277581891, 0.817159272032673, 0.8261362847571814, 0.7978480834355887, 0.815446305884597, 0.6796538800435008, 0.8142796946608493, 0.7741756074524818, 0.8279678555398133, 0.8048957367301682, 0.8196133588383989, 0.8290809784702914]}, {\"categories\": [\"0\", \"1\", \"2\", \"3\", \"4\", \"5\", \"6\", \"7\", \"8\", \"9\", \"10\", \"11\", \"12\", \"13\", \"14\", \"15\", \"16\", \"17\", \"18\", \"19\", \"20\", \"21\", \"22\", \"23\", \"24\", \"25\", \"26\", \"27\", \"28\", \"29\", \"30\", \"31\", \"32\", \"36\"], \"mode\": \"lines\", \"name\": \"AUC_macro_max\", \"stepped\": true, \"type\": \"scatter\", \"data\": [0.801557560850414, 0.8153530249017112, 0.8179212927532445, 0.8179212927532445, 0.8179212927532445, 0.8179212927532445, 0.8179212927532445, 0.8179212927532445, 0.823873038674956, 0.8280759904580265, 0.8280759904580265, 0.8280759904580265, 0.8280759904580265, 0.8280759904580265, 0.8280759904580265, 0.8280759904580265, 0.8280759904580265, 0.8280759904580265, 0.8280759904580265, 0.8280759904580265, 0.8280759904580265, 0.8280759904580265, 0.8280759904580265, 0.8280759904580265, 0.8280759904580265, 0.8280759904580265, 0.8280759904580265, 0.8280759904580265, 0.8280759904580265, 0.8280759904580265, 0.8280759904580265, 0.8280759904580265, 0.8280759904580265, 0.8290809784702914]}], \"average_precision_score_weighted\": [{\"categories\": [\"0\", \"1\", \"2\", \"3\", \"4\", \"5\", \"6\", \"7\", \"8\", \"9\", \"10\", \"11\", \"12\", \"13\", \"14\", \"15\", \"16\", \"17\", \"18\", \"19\", \"20\", \"21\", \"22\", \"23\", \"24\", \"25\", \"26\", \"27\", \"28\", \"29\", \"30\", \"31\", \"32\", \"36\"], \"mode\": \"markers\", \"name\": \"average_precision_score_weighted\", \"stepped\": false, \"type\": \"scatter\", \"data\": [0.8002373361791034, 0.8147330219387596, 0.824209191301986, 0.8140408551293606, 0.8197449579129827, 0.8197151774423382, 0.8082546632120443, 0.7558871242638753, 0.8329493056015324, 0.8359371630967768, 0.6904583988626674, 0.820333831781078, 0.704954380658303, 0.814428593517816, 0.6795449091452711, 0.8281731164010019, 0.6932963777161114, 0.8270587619204711, 0.819865237915427, 0.8001883076527344, 0.8113707456084773, 0.8247079807338276, 0.8125865121211838, 0.8246390729385227, 0.8318421099150113, 0.8078027326024331, 0.8218222178986153, 0.6924592216498983, 0.8211461834415762, 0.7774292560871271, 0.8314784778340037, 0.813113398513798, 0.8259534708030811, 0.8346694426625603]}, {\"categories\": [\"0\", \"1\", \"2\", \"3\", \"4\", \"5\", \"6\", \"7\", \"8\", \"9\", \"10\", \"11\", \"12\", \"13\", \"14\", \"15\", \"16\", \"17\", \"18\", \"19\", \"20\", \"21\", \"22\", \"23\", \"24\", \"25\", \"26\", \"27\", \"28\", \"29\", \"30\", \"31\", \"32\", \"36\"], \"mode\": \"lines\", \"name\": \"average_precision_score_weighted_max\", \"stepped\": true, \"type\": \"scatter\", \"data\": [0.8002373361791034, 0.8147330219387596, 0.824209191301986, 0.824209191301986, 0.824209191301986, 0.824209191301986, 0.824209191301986, 0.824209191301986, 0.8329493056015324, 0.8359371630967768, 0.8359371630967768, 0.8359371630967768, 0.8359371630967768, 0.8359371630967768, 0.8359371630967768, 0.8359371630967768, 0.8359371630967768, 0.8359371630967768, 0.8359371630967768, 0.8359371630967768, 0.8359371630967768, 0.8359371630967768, 0.8359371630967768, 0.8359371630967768, 0.8359371630967768, 0.8359371630967768, 0.8359371630967768, 0.8359371630967768, 0.8359371630967768, 0.8359371630967768, 0.8359371630967768, 0.8359371630967768, 0.8359371630967768, 0.8359371630967768]}], \"f1_score_macro\": [{\"categories\": [\"0\", \"1\", \"2\", \"3\", \"4\", \"5\", \"6\", \"7\", \"8\", \"9\", \"10\", \"11\", \"12\", \"13\", \"14\", \"15\", \"16\", \"17\", \"18\", \"19\", \"20\", \"21\", \"22\", \"23\", \"24\", \"25\", \"26\", \"27\", \"28\", \"29\", \"30\", \"31\", \"32\", \"36\"], \"mode\": \"markers\", \"name\": \"f1_score_macro\", \"stepped\": false, \"type\": \"scatter\", \"data\": [0.7197014088315093, 0.7153963252134389, 0.7011477951322119, 0.7013366436847307, 0.7318788692393076, 0.7179576471053103, 0.7187199237896432, 0.6403084764490394, 0.7268889318859785, 0.7086238691044873, 0.5816302940034769, 0.6898846164089981, 0.6272808118525374, 0.703346448318315, 0.5884090261639382, 0.7264958306876598, 0.5926345112829076, 0.692375162706122, 0.7158608214538497, 0.6720776315869177, 0.6544298281696355, 0.7081182650730256, 0.6591047856644979, 0.7084352449287126, 0.7183632845410649, 0.4625786077840634, 0.6736393972362663, 0.4797576563128371, 0.4806026540850414, 0.6988353119121595, 0.7257129731449087, 0.7100989792741336, 0.7140197914416806, 0.7291472957463663]}, {\"categories\": [\"0\", \"1\", \"2\", \"3\", \"4\", \"5\", \"6\", \"7\", \"8\", \"9\", \"10\", \"11\", \"12\", \"13\", \"14\", \"15\", \"16\", \"17\", \"18\", \"19\", \"20\", \"21\", \"22\", \"23\", \"24\", \"25\", \"26\", \"27\", \"28\", \"29\", \"30\", \"31\", \"32\", \"36\"], \"mode\": \"lines\", \"name\": \"f1_score_macro_max\", \"stepped\": true, \"type\": \"scatter\", \"data\": [0.7197014088315093, 0.7197014088315093, 0.7197014088315093, 0.7197014088315093, 0.7318788692393076, 0.7318788692393076, 0.7318788692393076, 0.7318788692393076, 0.7318788692393076, 0.7318788692393076, 0.7318788692393076, 0.7318788692393076, 0.7318788692393076, 0.7318788692393076, 0.7318788692393076, 0.7318788692393076, 0.7318788692393076, 0.7318788692393076, 0.7318788692393076, 0.7318788692393076, 0.7318788692393076, 0.7318788692393076, 0.7318788692393076, 0.7318788692393076, 0.7318788692393076, 0.7318788692393076, 0.7318788692393076, 0.7318788692393076, 0.7318788692393076, 0.7318788692393076, 0.7318788692393076, 0.7318788692393076, 0.7318788692393076, 0.7318788692393076]}], \"precision_score_weighted\": [{\"categories\": [\"0\", \"1\", \"2\", \"3\", \"4\", \"5\", \"6\", \"7\", \"8\", \"9\", \"10\", \"11\", \"12\", \"13\", \"14\", \"15\", \"16\", \"17\", \"18\", \"19\", \"20\", \"21\", \"22\", \"23\", \"24\", \"25\", \"26\", \"27\", \"28\", \"29\", \"30\", \"31\", \"32\", \"36\"], \"mode\": \"markers\", \"name\": \"precision_score_weighted\", \"stepped\": false, \"type\": \"scatter\", \"data\": [0.7456608668779596, 0.7440636782906588, 0.7366874678131944, 0.7343617178681253, 0.7567757786764036, 0.7466150078838631, 0.7438679332396617, 0.7063386810593335, 0.7621655006882561, 0.7476709282479317, 0.6446783548572811, 0.7285576898586319, 0.6611623655720972, 0.7435436031397732, 0.6326012950172056, 0.7578519835730039, 0.6379290246097947, 0.7459686642972071, 0.754351076114323, 0.7120507997383491, 0.7279830686036576, 0.7392097185258755, 0.752166634738364, 0.7439302658210404, 0.749137198798406, 0.7439348609460287, 0.7563417224410794, 0.6518979322130659, 0.7164680038230898, 0.7260307899380095, 0.7560823718819999, 0.7366122944349881, 0.7539193864024418, 0.7674838673777109]}, {\"categories\": [\"0\", \"1\", \"2\", \"3\", \"4\", \"5\", \"6\", \"7\", \"8\", \"9\", \"10\", \"11\", \"12\", \"13\", \"14\", \"15\", \"16\", \"17\", \"18\", \"19\", \"20\", \"21\", \"22\", \"23\", \"24\", \"25\", \"26\", \"27\", \"28\", \"29\", \"30\", \"31\", \"32\", \"36\"], \"mode\": \"lines\", \"name\": \"precision_score_weighted_max\", \"stepped\": true, \"type\": \"scatter\", \"data\": [0.7456608668779596, 0.7456608668779596, 0.7456608668779596, 0.7456608668779596, 0.7567757786764036, 0.7567757786764036, 0.7567757786764036, 0.7567757786764036, 0.7621655006882561, 0.7621655006882561, 0.7621655006882561, 0.7621655006882561, 0.7621655006882561, 0.7621655006882561, 0.7621655006882561, 0.7621655006882561, 0.7621655006882561, 0.7621655006882561, 0.7621655006882561, 0.7621655006882561, 0.7621655006882561, 0.7621655006882561, 0.7621655006882561, 0.7621655006882561, 0.7621655006882561, 0.7621655006882561, 0.7621655006882561, 0.7621655006882561, 0.7621655006882561, 0.7621655006882561, 0.7621655006882561, 0.7621655006882561, 0.7621655006882561, 0.7674838673777109]}], \"balanced_accuracy\": [{\"categories\": [\"0\", \"1\", \"2\", \"3\", \"4\", \"5\", \"6\", \"7\", \"8\", \"9\", \"10\", \"11\", \"12\", \"13\", \"14\", \"15\", \"16\", \"17\", \"18\", \"19\", \"20\", \"21\", \"22\", \"23\", \"24\", \"25\", \"26\", \"27\", \"28\", \"29\", \"30\", \"31\", \"32\", \"36\"], \"mode\": \"markers\", \"name\": \"balanced_accuracy\", \"stepped\": false, \"type\": \"scatter\", \"data\": [0.7175460053570063, 0.712601758701069, 0.6956846997361814, 0.6951513014059655, 0.7387304816131871, 0.7157984924625241, 0.7157685173708571, 0.6400814413758433, 0.7177408985178889, 0.7007138473231694, 0.5867206690282999, 0.684870916612201, 0.6261592459019162, 0.694490387911555, 0.5907805338557647, 0.7191642930161285, 0.5951182339157531, 0.6847298054678815, 0.7085545439329218, 0.6684713794688489, 0.6523140471186527, 0.7032470840835412, 0.6558384323060391, 0.7011628043614344, 0.7148805039125051, 0.5339847707799056, 0.6683036720475775, 0.5340504663609241, 0.542006731177959, 0.6952957934258573, 0.7203319904714017, 0.7070010819132883, 0.7347423354673711, 0.7200456680948668]}, {\"categories\": [\"0\", \"1\", \"2\", \"3\", \"4\", \"5\", \"6\", \"7\", \"8\", \"9\", \"10\", \"11\", \"12\", \"13\", \"14\", \"15\", \"16\", \"17\", \"18\", \"19\", \"20\", \"21\", \"22\", \"23\", \"24\", \"25\", \"26\", \"27\", \"28\", \"29\", \"30\", \"31\", \"32\", \"36\"], \"mode\": \"lines\", \"name\": \"balanced_accuracy_max\", \"stepped\": true, \"type\": \"scatter\", \"data\": [0.7175460053570063, 0.7175460053570063, 0.7175460053570063, 0.7175460053570063, 0.7387304816131871, 0.7387304816131871, 0.7387304816131871, 0.7387304816131871, 0.7387304816131871, 0.7387304816131871, 0.7387304816131871, 0.7387304816131871, 0.7387304816131871, 0.7387304816131871, 0.7387304816131871, 0.7387304816131871, 0.7387304816131871, 0.7387304816131871, 0.7387304816131871, 0.7387304816131871, 0.7387304816131871, 0.7387304816131871, 0.7387304816131871, 0.7387304816131871, 0.7387304816131871, 0.7387304816131871, 0.7387304816131871, 0.7387304816131871, 0.7387304816131871, 0.7387304816131871, 0.7387304816131871, 0.7387304816131871, 0.7387304816131871, 0.7387304816131871]}]}, \"metricName\": null, \"primaryMetricName\": \"accuracy\", \"showLegend\": false}, \"run_metrics\": [{\"name\": \"experiment_status\", \"run_id\": \"AutoML_ceb5a17f-97e5-4896-83ac-c5e4c567d2c1\", \"categories\": [0, 1, 2, 3, 4, 5, 6, 7, 8, 9, 10, 11, 12, 13], \"series\": [{\"data\": [\"DatasetEvaluation\", \"FeaturesGeneration\", \"DatasetFeaturization\", \"DatasetFeaturizationCompleted\", \"DatasetCrossValidationSplit\", \"ModelSelection\", \"BestRunExplainModel\", \"ModelExplanationDataSetSetup\", \"PickSurrogateModel\", \"EngineeredFeatureExplanations\", \"EngineeredFeatureExplanations\", \"RawFeaturesExplanations\", \"RawFeaturesExplanations\", \"BestRunExplainModel\"]}]}, {\"name\": \"experiment_status_description\", \"run_id\": \"AutoML_ceb5a17f-97e5-4896-83ac-c5e4c567d2c1\", \"categories\": [0, 1, 2, 3, 4, 5, 6, 7, 8, 9, 10, 11, 12, 13], \"series\": [{\"data\": [\"Gathering dataset statistics.\", \"Generating features for the dataset.\", \"Beginning to fit featurizers and featurize the dataset.\", \"Completed fit featurizers and featurizing the dataset.\", \"Generating individually featurized CV splits.\", \"Beginning model selection.\", \"Best run model explanations started\", \"Model explanations data setup completed\", \"Choosing LightGBM as the surrogate model for explanations\", \"Computation of engineered features started\", \"Computation of engineered features completed\", \"Computation of raw features started\", \"Computation of raw features completed\", \"Best run model explanations completed\"]}]}, {\"name\": \"f1_score_macro\", \"run_id\": \"AutoML_ceb5a17f-97e5-4896-83ac-c5e4c567d2c1\", \"categories\": [0], \"series\": [{\"data\": [0.7291472957463663]}]}, {\"name\": \"AUC_weighted\", \"run_id\": \"AutoML_ceb5a17f-97e5-4896-83ac-c5e4c567d2c1\", \"categories\": [0], \"series\": [{\"data\": [0.8290809784702914]}]}, {\"name\": \"balanced_accuracy\", \"run_id\": \"AutoML_ceb5a17f-97e5-4896-83ac-c5e4c567d2c1\", \"categories\": [0], \"series\": [{\"data\": [0.7200456680948668]}]}, {\"name\": \"accuracy\", \"run_id\": \"AutoML_ceb5a17f-97e5-4896-83ac-c5e4c567d2c1\", \"categories\": [0], \"series\": [{\"data\": [0.7671050534034752]}]}, {\"name\": \"matthews_correlation\", \"run_id\": \"AutoML_ceb5a17f-97e5-4896-83ac-c5e4c567d2c1\", \"categories\": [0], \"series\": [{\"data\": [0.478945592283251]}]}, {\"name\": \"precision_score_weighted\", \"run_id\": \"AutoML_ceb5a17f-97e5-4896-83ac-c5e4c567d2c1\", \"categories\": [0], \"series\": [{\"data\": [0.7674838673777109]}]}, {\"name\": \"average_precision_score_macro\", \"run_id\": \"AutoML_ceb5a17f-97e5-4896-83ac-c5e4c567d2c1\", \"categories\": [0], \"series\": [{\"data\": [0.8103992851988696]}]}, {\"name\": \"weighted_accuracy\", \"run_id\": \"AutoML_ceb5a17f-97e5-4896-83ac-c5e4c567d2c1\", \"categories\": [0], \"series\": [{\"data\": [0.8072217109878256]}]}, {\"name\": \"f1_score_micro\", \"run_id\": \"AutoML_ceb5a17f-97e5-4896-83ac-c5e4c567d2c1\", \"categories\": [0], \"series\": [{\"data\": [0.7671050534034752]}]}, {\"name\": \"log_loss\", \"run_id\": \"AutoML_ceb5a17f-97e5-4896-83ac-c5e4c567d2c1\", \"categories\": [0], \"series\": [{\"data\": [0.5048993694081944]}]}, {\"name\": \"f1_score_weighted\", \"run_id\": \"AutoML_ceb5a17f-97e5-4896-83ac-c5e4c567d2c1\", \"categories\": [0], \"series\": [{\"data\": [0.757568650192156]}]}, {\"name\": \"precision_score_micro\", \"run_id\": \"AutoML_ceb5a17f-97e5-4896-83ac-c5e4c567d2c1\", \"categories\": [0], \"series\": [{\"data\": [0.7671050534034752]}]}, {\"name\": \"recall_score_weighted\", \"run_id\": \"AutoML_ceb5a17f-97e5-4896-83ac-c5e4c567d2c1\", \"categories\": [0], \"series\": [{\"data\": [0.7671050534034752]}]}, {\"name\": \"AUC_micro\", \"run_id\": \"AutoML_ceb5a17f-97e5-4896-83ac-c5e4c567d2c1\", \"categories\": [0], \"series\": [{\"data\": [0.842353911874984]}]}, {\"name\": \"recall_score_micro\", \"run_id\": \"AutoML_ceb5a17f-97e5-4896-83ac-c5e4c567d2c1\", \"categories\": [0], \"series\": [{\"data\": [0.7671050534034752]}]}, {\"name\": \"AUC_macro\", \"run_id\": \"AutoML_ceb5a17f-97e5-4896-83ac-c5e4c567d2c1\", \"categories\": [0], \"series\": [{\"data\": [0.8290809784702914]}]}, {\"name\": \"norm_macro_recall\", \"run_id\": \"AutoML_ceb5a17f-97e5-4896-83ac-c5e4c567d2c1\", \"categories\": [0], \"series\": [{\"data\": [0.44009133618973356]}]}, {\"name\": \"precision_score_macro\", \"run_id\": \"AutoML_ceb5a17f-97e5-4896-83ac-c5e4c567d2c1\", \"categories\": [0], \"series\": [{\"data\": [0.7611716788639177]}]}, {\"name\": \"average_precision_score_weighted\", \"run_id\": \"AutoML_ceb5a17f-97e5-4896-83ac-c5e4c567d2c1\", \"categories\": [0], \"series\": [{\"data\": [0.8346694426625603]}]}, {\"name\": \"average_precision_score_micro\", \"run_id\": \"AutoML_ceb5a17f-97e5-4896-83ac-c5e4c567d2c1\", \"categories\": [0], \"series\": [{\"data\": [0.8432738975880921]}]}, {\"name\": \"recall_score_macro\", \"run_id\": \"AutoML_ceb5a17f-97e5-4896-83ac-c5e4c567d2c1\", \"categories\": [0], \"series\": [{\"data\": [0.7200456680948668]}]}], \"run_logs\": \"\\nRun is completed.\", \"graph\": {}, \"widget_settings\": {\"childWidgetDisplay\": \"popup\", \"send_telemetry\": false, \"log_level\": \"INFO\", \"sdk_version\": \"1.19.0\"}, \"loading\": false}"
     },
     "metadata": {},
     "output_type": "display_data"
    },
    {
     "name": "stdout",
     "output_type": "stream",
     "text": [
      "\n",
      "Current status: FeaturesGeneration. Generating features for the dataset.\n",
      "Current status: ModelSelection. Beginning model selection.\n",
      "\n",
      "****************************************************************************************************\n",
      "DATA GUARDRAILS: \n",
      "\n",
      "TYPE:         Class balancing detection\n",
      "STATUS:       PASSED\n",
      "DESCRIPTION:  Your inputs were analyzed, and all classes are balanced in your training data.\n",
      "              Learn more about imbalanced data: https://aka.ms/AutomatedMLImbalancedData\n",
      "\n",
      "****************************************************************************************************\n",
      "\n",
      "TYPE:         High cardinality feature detection\n",
      "STATUS:       PASSED\n",
      "DESCRIPTION:  Your inputs were analyzed, and no high cardinality features were detected.\n",
      "              Learn more about high cardinality feature handling: https://aka.ms/AutomatedMLFeaturization\n",
      "\n",
      "****************************************************************************************************\n",
      "\n",
      "****************************************************************************************************\n",
      "ITERATION: The iteration being evaluated.\n",
      "PIPELINE: A summary description of the pipeline being evaluated.\n",
      "DURATION: Time taken for the current iteration.\n",
      "METRIC: The result of computing score on the fitted pipeline.\n",
      "BEST: The best observed score thus far.\n",
      "****************************************************************************************************\n",
      "\n",
      " ITERATION   PIPELINE                                       DURATION      METRIC      BEST\n",
      "         0   MaxAbsScaler LightGBM                          0:00:54       0.7460    0.7460\n",
      "         3   MinMaxScaler RandomForest                      0:00:59       0.7378    0.7460\n",
      "         1   MaxAbsScaler XGBoostClassifier                 0:00:59       0.7443    0.7460\n",
      "         6   MinMaxScaler LightGBM                          0:00:58       0.7459    0.7460\n",
      "         7   MinMaxScaler SVM                               0:00:50       0.7084    0.7460\n",
      "         5   StandardScalerWrapper GradientBoosting         0:03:28       0.7475    0.7475\n",
      "         2   MinMaxScaler RandomForest                      0:03:30       0.7394    0.7475\n",
      "         4   MinMaxScaler RandomForest                      0:03:34       0.7476    0.7476\n",
      "         8   MaxAbsScaler LightGBM                          0:00:48       0.7639    0.7639\n",
      "         9   RobustScaler RandomForest                      0:00:49       0.7492    0.7639\n",
      "        10   SparseNormalizer XGBoostClassifier             0:00:52       0.6661    0.7639\n",
      "        11   StandardScalerWrapper RandomForest             0:00:58       0.7329    0.7639\n",
      "        12   SparseNormalizer XGBoostClassifier             0:00:51       0.6677    0.7639\n",
      "        13   StandardScalerWrapper XGBoostClassifier        0:00:48       0.7476    0.7639\n",
      "        14   SparseNormalizer XGBoostClassifier             0:00:59       0.6450    0.7639\n",
      "        15   StandardScalerWrapper RandomForest             0:00:50       0.7606    0.7639\n",
      "        16   SparseNormalizer XGBoostClassifier             0:00:54       0.6531    0.7639\n",
      "        17   MinMaxScaler LightGBM                          0:00:55       0.7443    0.7639\n",
      "        18   MaxAbsScaler LightGBM                          0:00:49       0.7557    0.7639\n",
      "        19   StandardScalerWrapper LightGBM                 0:00:49       0.7182    0.7639\n",
      "        20   MinMaxScaler LightGBM                          0:00:50       0.7231    0.7639\n",
      "        21   MinMaxScaler LightGBM                          0:01:01       0.7427    0.7639\n",
      "        22   MaxAbsScaler LightGBM                          0:00:51       0.7361    0.7639\n",
      "        23   MaxAbsScaler LightGBM                          0:00:51       0.7476    0.7639\n",
      "        24   StandardScalerWrapper LightGBM                 0:00:55       0.7492    0.7639\n",
      "        26   RobustScaler LightGBM                          0:00:50       0.7427    0.7639\n",
      "        25   MaxAbsScaler LightGBM                          0:01:02       0.6628    0.7639\n",
      "        27   SparseNormalizer LightGBM                      0:00:59       0.6514    0.7639\n",
      "        28   RobustScaler ExtremeRandomTrees                0:00:57       0.6661    0.7639\n",
      "        29   TruncatedSVDWrapper XGBoostClassifier          0:00:49       0.7296    0.7639\n",
      "        30   MaxAbsScaler LightGBM                          0:01:02       0.7573    0.7639\n",
      "        31   MaxAbsScaler LightGBM                          0:00:52       0.7394    0.7639\n",
      "        32   StandardScalerWrapper RandomForest             0:00:56       0.7215    0.7639\n",
      "        33   MaxAbsScaler ExtremeRandomTrees                0:00:31          nan    0.7639\n",
      "        34                                                  0:00:12          nan    0.7639\n",
      "        35                                                  0:00:18          nan    0.7639\n",
      "        36    VotingEnsemble                                0:01:28       0.7671    0.7671\n"
     ]
    },
    {
     "data": {
      "text/plain": [
       "{'runId': 'AutoML_ceb5a17f-97e5-4896-83ac-c5e4c567d2c1',\n",
       " 'target': 'puru-compute-new',\n",
       " 'status': 'Completed',\n",
       " 'startTimeUtc': '2020-12-31T18:13:26.043787Z',\n",
       " 'endTimeUtc': '2020-12-31T18:36:54.312723Z',\n",
       " 'properties': {'num_iterations': '1000',\n",
       "  'training_type': 'TrainFull',\n",
       "  'acquisition_function': 'EI',\n",
       "  'primary_metric': 'accuracy',\n",
       "  'train_split': '0',\n",
       "  'acquisition_parameter': '0',\n",
       "  'num_cross_validation': '3',\n",
       "  'target': 'puru-compute-new',\n",
       "  'AMLSettingsJsonString': '{\"path\":null,\"name\":\"puru-auto-experiment\",\"subscription_id\":\"6971f5ac-8af1-446e-8034-05acea24681f\",\"resource_group\":\"aml-quickstarts-132677\",\"workspace_name\":\"quick-starts-ws-132677\",\"region\":\"southcentralus\",\"compute_target\":\"puru-compute-new\",\"spark_service\":null,\"azure_service\":\"remote\",\"many_models\":false,\"pipeline_fetch_max_batch_size\":1,\"iterations\":1000,\"primary_metric\":\"accuracy\",\"task_type\":\"classification\",\"data_script\":null,\"validation_size\":0.0,\"n_cross_validations\":3,\"y_min\":null,\"y_max\":null,\"num_classes\":null,\"featurization\":\"auto\",\"_ignore_package_version_incompatibilities\":false,\"is_timeseries\":false,\"max_cores_per_iteration\":-1,\"max_concurrent_iterations\":4,\"iteration_timeout_minutes\":5,\"mem_in_mb\":null,\"enforce_time_on_windows\":false,\"experiment_timeout_minutes\":30,\"experiment_exit_score\":null,\"whitelist_models\":null,\"blacklist_algos\":[\"TensorFlowLinearClassifier\",\"TensorFlowDNN\"],\"supported_models\":[\"GradientBoosting\",\"LogisticRegression\",\"TensorFlowDNN\",\"AveragedPerceptronClassifier\",\"RandomForest\",\"LightGBM\",\"SVM\",\"ExtremeRandomTrees\",\"DecisionTree\",\"MultinomialNaiveBayes\",\"TensorFlowLinearClassifier\",\"XGBoostClassifier\",\"BernoulliNaiveBayes\",\"KNN\",\"LinearSVM\",\"SGD\"],\"auto_blacklist\":true,\"blacklist_samples_reached\":false,\"exclude_nan_labels\":true,\"verbosity\":20,\"_debug_log\":\"azureml_automl.log\",\"show_warnings\":false,\"model_explainability\":true,\"service_url\":null,\"sdk_url\":null,\"sdk_packages\":null,\"enable_onnx_compatible_models\":true,\"enable_split_onnx_featurizer_estimator_models\":false,\"vm_type\":\"STANDARD_D2_V2\",\"telemetry_verbosity\":20,\"send_telemetry\":true,\"enable_dnn\":false,\"scenario\":\"SDK-1.13.0\",\"environment_label\":null,\"force_text_dnn\":false,\"enable_feature_sweeping\":false,\"enable_early_stopping\":true,\"early_stopping_n_iters\":10,\"metrics\":null,\"enable_ensembling\":true,\"enable_stack_ensembling\":false,\"ensemble_iterations\":15,\"enable_tf\":false,\"enable_subsampling\":null,\"subsample_seed\":null,\"enable_nimbusml\":false,\"enable_streaming\":false,\"force_streaming\":false,\"track_child_runs\":true,\"allowed_private_models\":[],\"label_column_name\":\"Outcome\",\"weight_column_name\":null,\"cv_split_column_names\":null,\"enable_local_managed\":false,\"_local_managed_run_id\":null,\"cost_mode\":1,\"lag_length\":0,\"metric_operation\":\"maximize\",\"preprocess\":true}',\n",
       "  'DataPrepJsonString': '{\\\\\"training_data\\\\\": \\\\\"{\\\\\\\\\\\\\"blocks\\\\\\\\\\\\\": [{\\\\\\\\\\\\\"id\\\\\\\\\\\\\": \\\\\\\\\\\\\"fdf819fb-9aee-48ad-ae73-e5acfb17849d\\\\\\\\\\\\\", \\\\\\\\\\\\\"type\\\\\\\\\\\\\": \\\\\\\\\\\\\"Microsoft.DPrep.GetDatastoreFilesBlock\\\\\\\\\\\\\", \\\\\\\\\\\\\"arguments\\\\\\\\\\\\\": {\\\\\\\\\\\\\"datastores\\\\\\\\\\\\\": [{\\\\\\\\\\\\\"datastoreName\\\\\\\\\\\\\": \\\\\\\\\\\\\"workspaceblobstore\\\\\\\\\\\\\", \\\\\\\\\\\\\"path\\\\\\\\\\\\\": \\\\\\\\\\\\\"automlclassifier/train_data.csv\\\\\\\\\\\\\", \\\\\\\\\\\\\"resourceGroup\\\\\\\\\\\\\": \\\\\\\\\\\\\"aml-quickstarts-132677\\\\\\\\\\\\\", \\\\\\\\\\\\\"subscription\\\\\\\\\\\\\": \\\\\\\\\\\\\"6971f5ac-8af1-446e-8034-05acea24681f\\\\\\\\\\\\\", \\\\\\\\\\\\\"workspaceName\\\\\\\\\\\\\": \\\\\\\\\\\\\"quick-starts-ws-132677\\\\\\\\\\\\\"}]}, \\\\\\\\\\\\\"localData\\\\\\\\\\\\\": {}, \\\\\\\\\\\\\"isEnabled\\\\\\\\\\\\\": true, \\\\\\\\\\\\\"name\\\\\\\\\\\\\": null, \\\\\\\\\\\\\"annotation\\\\\\\\\\\\\": null}, {\\\\\\\\\\\\\"id\\\\\\\\\\\\\": \\\\\\\\\\\\\"e8fe19c5-f4e6-4bce-8805-a92f4c59e546\\\\\\\\\\\\\", \\\\\\\\\\\\\"type\\\\\\\\\\\\\": \\\\\\\\\\\\\"Microsoft.DPrep.ParseDelimitedBlock\\\\\\\\\\\\\", \\\\\\\\\\\\\"arguments\\\\\\\\\\\\\": {\\\\\\\\\\\\\"columnHeadersMode\\\\\\\\\\\\\": 3, \\\\\\\\\\\\\"fileEncoding\\\\\\\\\\\\\": 0, \\\\\\\\\\\\\"handleQuotedLineBreaks\\\\\\\\\\\\\": false, \\\\\\\\\\\\\"preview\\\\\\\\\\\\\": false, \\\\\\\\\\\\\"separator\\\\\\\\\\\\\": \\\\\\\\\\\\\",\\\\\\\\\\\\\", \\\\\\\\\\\\\"skipRows\\\\\\\\\\\\\": 0, \\\\\\\\\\\\\"skipRowsMode\\\\\\\\\\\\\": 0}, \\\\\\\\\\\\\"localData\\\\\\\\\\\\\": {}, \\\\\\\\\\\\\"isEnabled\\\\\\\\\\\\\": true, \\\\\\\\\\\\\"name\\\\\\\\\\\\\": null, \\\\\\\\\\\\\"annotation\\\\\\\\\\\\\": null}, {\\\\\\\\\\\\\"id\\\\\\\\\\\\\": \\\\\\\\\\\\\"260dcf12-e9e2-440b-9d32-c7a6a527b390\\\\\\\\\\\\\", \\\\\\\\\\\\\"type\\\\\\\\\\\\\": \\\\\\\\\\\\\"Microsoft.DPrep.DropColumnsBlock\\\\\\\\\\\\\", \\\\\\\\\\\\\"arguments\\\\\\\\\\\\\": {\\\\\\\\\\\\\"columns\\\\\\\\\\\\\": {\\\\\\\\\\\\\"type\\\\\\\\\\\\\": 0, \\\\\\\\\\\\\"details\\\\\\\\\\\\\": {\\\\\\\\\\\\\"selectedColumns\\\\\\\\\\\\\": [\\\\\\\\\\\\\"Path\\\\\\\\\\\\\"]}}}, \\\\\\\\\\\\\"localData\\\\\\\\\\\\\": {}, \\\\\\\\\\\\\"isEnabled\\\\\\\\\\\\\": true, \\\\\\\\\\\\\"name\\\\\\\\\\\\\": null, \\\\\\\\\\\\\"annotation\\\\\\\\\\\\\": null}, {\\\\\\\\\\\\\"id\\\\\\\\\\\\\": \\\\\\\\\\\\\"92b530ed-7c9d-4baf-ae3e-59b4ae70f48f\\\\\\\\\\\\\", \\\\\\\\\\\\\"type\\\\\\\\\\\\\": \\\\\\\\\\\\\"Microsoft.DPrep.SetColumnTypesBlock\\\\\\\\\\\\\", \\\\\\\\\\\\\"arguments\\\\\\\\\\\\\": {\\\\\\\\\\\\\"columnConversion\\\\\\\\\\\\\": [{\\\\\\\\\\\\\"column\\\\\\\\\\\\\": {\\\\\\\\\\\\\"type\\\\\\\\\\\\\": 2, \\\\\\\\\\\\\"details\\\\\\\\\\\\\": {\\\\\\\\\\\\\"selectedColumn\\\\\\\\\\\\\": \\\\\\\\\\\\\"Pregnancies\\\\\\\\\\\\\"}}, \\\\\\\\\\\\\"typeProperty\\\\\\\\\\\\\": 2}, {\\\\\\\\\\\\\"column\\\\\\\\\\\\\": {\\\\\\\\\\\\\"type\\\\\\\\\\\\\": 2, \\\\\\\\\\\\\"details\\\\\\\\\\\\\": {\\\\\\\\\\\\\"selectedColumn\\\\\\\\\\\\\": \\\\\\\\\\\\\"Glucose\\\\\\\\\\\\\"}}, \\\\\\\\\\\\\"typeProperty\\\\\\\\\\\\\": 2}, {\\\\\\\\\\\\\"column\\\\\\\\\\\\\": {\\\\\\\\\\\\\"type\\\\\\\\\\\\\": 2, \\\\\\\\\\\\\"details\\\\\\\\\\\\\": {\\\\\\\\\\\\\"selectedColumn\\\\\\\\\\\\\": \\\\\\\\\\\\\"BloodPressure\\\\\\\\\\\\\"}}, \\\\\\\\\\\\\"typeProperty\\\\\\\\\\\\\": 2}, {\\\\\\\\\\\\\"column\\\\\\\\\\\\\": {\\\\\\\\\\\\\"type\\\\\\\\\\\\\": 2, \\\\\\\\\\\\\"details\\\\\\\\\\\\\": {\\\\\\\\\\\\\"selectedColumn\\\\\\\\\\\\\": \\\\\\\\\\\\\"SkinThickness\\\\\\\\\\\\\"}}, \\\\\\\\\\\\\"typeProperty\\\\\\\\\\\\\": 2}, {\\\\\\\\\\\\\"column\\\\\\\\\\\\\": {\\\\\\\\\\\\\"type\\\\\\\\\\\\\": 2, \\\\\\\\\\\\\"details\\\\\\\\\\\\\": {\\\\\\\\\\\\\"selectedColumn\\\\\\\\\\\\\": \\\\\\\\\\\\\"Insulin\\\\\\\\\\\\\"}}, \\\\\\\\\\\\\"typeProperty\\\\\\\\\\\\\": 2}, {\\\\\\\\\\\\\"column\\\\\\\\\\\\\": {\\\\\\\\\\\\\"type\\\\\\\\\\\\\": 2, \\\\\\\\\\\\\"details\\\\\\\\\\\\\": {\\\\\\\\\\\\\"selectedColumn\\\\\\\\\\\\\": \\\\\\\\\\\\\"BMI\\\\\\\\\\\\\"}}, \\\\\\\\\\\\\"typeProperty\\\\\\\\\\\\\": 3}, {\\\\\\\\\\\\\"column\\\\\\\\\\\\\": {\\\\\\\\\\\\\"type\\\\\\\\\\\\\": 2, \\\\\\\\\\\\\"details\\\\\\\\\\\\\": {\\\\\\\\\\\\\"selectedColumn\\\\\\\\\\\\\": \\\\\\\\\\\\\"DiabetesPedigreeFunction\\\\\\\\\\\\\"}}, \\\\\\\\\\\\\"typeProperty\\\\\\\\\\\\\": 3}, {\\\\\\\\\\\\\"column\\\\\\\\\\\\\": {\\\\\\\\\\\\\"type\\\\\\\\\\\\\": 2, \\\\\\\\\\\\\"details\\\\\\\\\\\\\": {\\\\\\\\\\\\\"selectedColumn\\\\\\\\\\\\\": \\\\\\\\\\\\\"Age\\\\\\\\\\\\\"}}, \\\\\\\\\\\\\"typeProperty\\\\\\\\\\\\\": 2}, {\\\\\\\\\\\\\"column\\\\\\\\\\\\\": {\\\\\\\\\\\\\"type\\\\\\\\\\\\\": 2, \\\\\\\\\\\\\"details\\\\\\\\\\\\\": {\\\\\\\\\\\\\"selectedColumn\\\\\\\\\\\\\": \\\\\\\\\\\\\"Outcome\\\\\\\\\\\\\"}}, \\\\\\\\\\\\\"typeProperty\\\\\\\\\\\\\": 2}]}, \\\\\\\\\\\\\"localData\\\\\\\\\\\\\": {}, \\\\\\\\\\\\\"isEnabled\\\\\\\\\\\\\": true, \\\\\\\\\\\\\"name\\\\\\\\\\\\\": null, \\\\\\\\\\\\\"annotation\\\\\\\\\\\\\": null}], \\\\\\\\\\\\\"inspectors\\\\\\\\\\\\\": [], \\\\\\\\\\\\\"meta\\\\\\\\\\\\\": {\\\\\\\\\\\\\"savedDatasetId\\\\\\\\\\\\\": \\\\\\\\\\\\\"bc80df4a-1a5f-4bb2-b3fc-b23b5c72546c\\\\\\\\\\\\\", \\\\\\\\\\\\\"datasetType\\\\\\\\\\\\\": \\\\\\\\\\\\\"tabular\\\\\\\\\\\\\", \\\\\\\\\\\\\"subscriptionId\\\\\\\\\\\\\": \\\\\\\\\\\\\"6971f5ac-8af1-446e-8034-05acea24681f\\\\\\\\\\\\\", \\\\\\\\\\\\\"workspaceId\\\\\\\\\\\\\": \\\\\\\\\\\\\"1a5f1c26-f3f9-4d44-8d1c-db8b06d4c321\\\\\\\\\\\\\", \\\\\\\\\\\\\"workspaceLocation\\\\\\\\\\\\\": \\\\\\\\\\\\\"southcentralus\\\\\\\\\\\\\"}}\\\\\", \\\\\"activities\\\\\": 0}',\n",
       "  'EnableSubsampling': None,\n",
       "  'runTemplate': 'AutoML',\n",
       "  'azureml.runsource': 'automl',\n",
       "  'display_task_type': 'classification',\n",
       "  'dependencies_versions': '{\"azureml-widgets\": \"1.19.0\", \"azureml-train\": \"1.19.0\", \"azureml-train-restclients-hyperdrive\": \"1.19.0\", \"azureml-train-core\": \"1.19.0\", \"azureml-train-automl\": \"1.19.0\", \"azureml-train-automl-runtime\": \"1.19.0\", \"azureml-train-automl-client\": \"1.19.0\", \"azureml-tensorboard\": \"1.19.0\", \"azureml-telemetry\": \"1.19.0\", \"azureml-sdk\": \"1.19.0\", \"azureml-samples\": \"0+unknown\", \"azureml-pipeline\": \"1.19.0\", \"azureml-pipeline-steps\": \"1.19.0\", \"azureml-pipeline-core\": \"1.19.0\", \"azureml-opendatasets\": \"1.19.0\", \"azureml-model-management-sdk\": \"1.0.1b6.post1\", \"azureml-mlflow\": \"1.19.0\", \"azureml-interpret\": \"1.19.0\", \"azureml-explain-model\": \"1.19.0\", \"azureml-defaults\": \"1.19.0\", \"azureml-dataset-runtime\": \"1.19.0\", \"azureml-dataprep\": \"2.6.1\", \"azureml-dataprep-rslex\": \"1.4.0\", \"azureml-dataprep-native\": \"26.0.0\", \"azureml-datadrift\": \"1.19.0\", \"azureml-core\": \"1.19.0\", \"azureml-contrib-services\": \"1.19.0\", \"azureml-contrib-server\": \"1.19.0\", \"azureml-contrib-reinforcementlearning\": \"1.19.0\", \"azureml-contrib-pipeline-steps\": \"1.19.0\", \"azureml-contrib-notebook\": \"1.19.0\", \"azureml-contrib-interpret\": \"1.19.0\", \"azureml-contrib-gbdt\": \"1.19.0\", \"azureml-contrib-fairness\": \"1.19.0\", \"azureml-contrib-dataset\": \"1.19.0\", \"azureml-cli-common\": \"1.19.0\", \"azureml-automl-runtime\": \"1.19.0\", \"azureml-automl-core\": \"1.19.0\", \"azureml-accel-models\": \"1.19.0\"}',\n",
       "  '_aml_system_scenario_identification': 'Remote.Parent',\n",
       "  'ClientType': 'SDK',\n",
       "  'environment_cpu_name': 'AzureML-AutoML',\n",
       "  'environment_cpu_label': 'prod',\n",
       "  'environment_gpu_name': 'AzureML-AutoML-GPU',\n",
       "  'environment_gpu_label': 'prod',\n",
       "  'root_attribution': 'automl',\n",
       "  'attribution': 'AutoML',\n",
       "  'Orchestrator': 'AutoML',\n",
       "  'CancelUri': 'https://southcentralus.experiments.azureml.net/jasmine/v1.0/subscriptions/6971f5ac-8af1-446e-8034-05acea24681f/resourceGroups/aml-quickstarts-132677/providers/Microsoft.MachineLearningServices/workspaces/quick-starts-ws-132677/experimentids/feae42d3-e41c-4f0e-99b0-fd4d13f86af9/cancel/AutoML_ceb5a17f-97e5-4896-83ac-c5e4c567d2c1',\n",
       "  'ClientSdkVersion': '1.19.0',\n",
       "  'snapshotId': '00000000-0000-0000-0000-000000000000',\n",
       "  'SetupRunId': 'AutoML_ceb5a17f-97e5-4896-83ac-c5e4c567d2c1_setup',\n",
       "  'SetupRunContainerId': 'dcid.AutoML_ceb5a17f-97e5-4896-83ac-c5e4c567d2c1_setup',\n",
       "  'FeaturizationRunJsonPath': 'featurizer_container.json',\n",
       "  'FeaturizationRunId': 'AutoML_ceb5a17f-97e5-4896-83ac-c5e4c567d2c1_featurize',\n",
       "  'ProblemInfoJsonString': '{\"dataset_num_categorical\": 0, \"is_sparse\": false, \"subsampling\": false, \"dataset_classes\": 2, \"dataset_features\": 8, \"dataset_samples\": 614, \"single_frequency_class_detected\": false}',\n",
       "  'ModelExplainRunId': 'AutoML_ceb5a17f-97e5-4896-83ac-c5e4c567d2c1_ModelExplain'},\n",
       " 'inputDatasets': [{'dataset': {'id': 'bc80df4a-1a5f-4bb2-b3fc-b23b5c72546c'}, 'consumptionDetails': {'type': 'RunInput', 'inputName': 'training_data', 'mechanism': 'Direct'}}],\n",
       " 'outputDatasets': [],\n",
       " 'logFiles': {}}"
      ]
     },
     "execution_count": 11,
     "metadata": {},
     "output_type": "execute_result"
    }
   ],
   "source": [
    "from azureml.widgets import RunDetails\n",
    "RunDetails(remote_run).show()\n",
    "\n",
    "# wait for completion\n",
    "remote_run.wait_for_completion(show_output=True)"
   ]
  },
  {
   "cell_type": "markdown",
   "metadata": {},
   "source": [
    "## Best Model\n",
    "\n"
   ]
  },
  {
   "cell_type": "code",
   "execution_count": 12,
   "metadata": {
    "gather": {
     "logged": 1609087589251
    },
    "jupyter": {
     "outputs_hidden": false,
     "source_hidden": false
    },
    "nteract": {
     "transient": {
      "deleting": false
     }
    }
   },
   "outputs": [
    {
     "name": "stdout",
     "output_type": "stream",
     "text": [
      "Run(Experiment: puru-auto-experiment,\n",
      "Id: AutoML_ceb5a17f-97e5-4896-83ac-c5e4c567d2c1_36,\n",
      "Type: azureml.scriptrun,\n",
      "Status: Completed)\n",
      "Best Model: AutoMLceb5a17f936\n"
     ]
    },
    {
     "data": {
      "text/plain": [
       "{'runTemplate': 'automl_child',\n",
       " 'pipeline_id': '__AutoML_Ensemble__',\n",
       " 'pipeline_spec': '{\"pipeline_id\":\"__AutoML_Ensemble__\",\"objects\":[{\"module\":\"azureml.train.automl.ensemble\",\"class_name\":\"Ensemble\",\"spec_class\":\"sklearn\",\"param_args\":[],\"param_kwargs\":{\"automl_settings\":\"{\\'task_type\\':\\'classification\\',\\'primary_metric\\':\\'accuracy\\',\\'verbosity\\':20,\\'ensemble_iterations\\':15,\\'is_timeseries\\':False,\\'name\\':\\'puru-auto-experiment\\',\\'compute_target\\':\\'puru-compute-new\\',\\'subscription_id\\':\\'6971f5ac-8af1-446e-8034-05acea24681f\\',\\'region\\':\\'southcentralus\\',\\'spark_service\\':None}\",\"ensemble_run_id\":\"AutoML_ceb5a17f-97e5-4896-83ac-c5e4c567d2c1_36\",\"experiment_name\":\"puru-auto-experiment\",\"workspace_name\":\"quick-starts-ws-132677\",\"subscription_id\":\"6971f5ac-8af1-446e-8034-05acea24681f\",\"resource_group_name\":\"aml-quickstarts-132677\"}}]}',\n",
       " 'training_percent': '100',\n",
       " 'predicted_cost': None,\n",
       " 'iteration': '36',\n",
       " '_aml_system_scenario_identification': 'Remote.Child',\n",
       " '_azureml.ComputeTargetType': 'amlcompute',\n",
       " 'ContentSnapshotId': '06815c65-b679-47b5-b047-e56662813c87',\n",
       " 'ProcessInfoFile': 'azureml-logs/process_info.json',\n",
       " 'ProcessStatusFile': 'azureml-logs/process_status.json',\n",
       " 'run_template': 'automl_child',\n",
       " 'run_preprocessor': '',\n",
       " 'run_algorithm': 'VotingEnsemble',\n",
       " 'conda_env_data_location': 'aml://artifact/ExperimentRun/dcid.AutoML_ceb5a17f-97e5-4896-83ac-c5e4c567d2c1_36/outputs/conda_env_v_1_0_0.yml',\n",
       " 'model_data_location': 'aml://artifact/ExperimentRun/dcid.AutoML_ceb5a17f-97e5-4896-83ac-c5e4c567d2c1_36/outputs/model.pkl',\n",
       " 'model_size_on_disk': '447720',\n",
       " 'scoring_data_location': 'aml://artifact/ExperimentRun/dcid.AutoML_ceb5a17f-97e5-4896-83ac-c5e4c567d2c1_36/outputs/scoring_file_v_1_0_0.py',\n",
       " 'model_exp_support': 'True',\n",
       " 'pipeline_graph_version': '1.0.0',\n",
       " 'model_name': 'AutoMLceb5a17f936',\n",
       " 'staticProperties': '{}',\n",
       " 'score': '0.7671050534034752',\n",
       " 'run_properties': \"classification_labels=None,\\n                              estimators=[('8',\\n                                           Pipeline(memory=None,\\n                                                    steps=[('maxabsscaler',\\n                                                            MaxAbsScaler(copy=True\",\n",
       " 'pipeline_script': '{\"pipeline_id\":\"__AutoML_Ensemble__\",\"objects\":[{\"module\":\"azureml.train.automl.ensemble\",\"class_name\":\"Ensemble\",\"spec_class\":\"sklearn\",\"param_args\":[],\"param_kwargs\":{\"automl_settings\":\"{\\'task_type\\':\\'classification\\',\\'primary_metric\\':\\'accuracy\\',\\'verbosity\\':20,\\'ensemble_iterations\\':15,\\'is_timeseries\\':False,\\'name\\':\\'puru-auto-experiment\\',\\'compute_target\\':\\'puru-compute-new\\',\\'subscription_id\\':\\'6971f5ac-8af1-446e-8034-05acea24681f\\',\\'region\\':\\'southcentralus\\',\\'spark_service\\':None}\",\"ensemble_run_id\":\"AutoML_ceb5a17f-97e5-4896-83ac-c5e4c567d2c1_36\",\"experiment_name\":\"puru-auto-experiment\",\"workspace_name\":\"quick-starts-ws-132677\",\"subscription_id\":\"6971f5ac-8af1-446e-8034-05acea24681f\",\"resource_group_name\":\"aml-quickstarts-132677\"}}]}',\n",
       " 'training_type': 'MeanCrossValidation',\n",
       " 'num_classes': '',\n",
       " 'framework': 'sklearn',\n",
       " 'fit_time': '28',\n",
       " 'goal': 'accuracy_max',\n",
       " 'class_labels': '',\n",
       " 'primary_metric': 'accuracy',\n",
       " 'errors': '{}',\n",
       " 'fitted_pipeline': \"Pipeline(memory=None,\\n         steps=[('datatransformer',\\n                 DataTransformer(enable_dnn=None, enable_feature_sweeping=None,\\n                                 feature_sweeping_config=None,\\n                                 feature_sweeping_timeout=None,\\n                                 featurization_config=None, force_text_dnn=None,\\n                                 is_cross_validation=None,\\n                                 is_onnx_compatible=None, logger=None,\\n                                 observer=None, task=None, working_dir=None)),\\n                ('prefittedsoftvotingclassifier',...\\n                                                                                               reg_alpha=0,\\n                                                                                               reg_lambda=0.625,\\n                                                                                               scale_pos_weight=1,\\n                                                                                               seed=None,\\n                                                                                               silent=None,\\n                                                                                               subsample=1,\\n                                                                                               tree_method='auto',\\n                                                                                               verbose=-10,\\n                                                                                               verbosity=0))],\\n                                                                     verbose=False))],\\n                                               flatten_transform=None,\\n                                               weights=[0.2857142857142857,\\n                                                        0.14285714285714285,\\n                                                        0.14285714285714285,\\n                                                        0.07142857142857142,\\n                                                        0.14285714285714285,\\n                                                        0.07142857142857142,\\n                                                        0.07142857142857142,\\n                                                        0.07142857142857142]))],\\n         verbose=False)\",\n",
       " 'friendly_errors': '{}',\n",
       " 'onnx_model_resource': \"{'RawColumnNameToOnnxNameMap': {'Pregnancies': 'Pregnancies', 'Glucose': 'Glucose', 'BloodPressure': 'BloodPressure', 'SkinThickness': 'SkinThickness', 'Insulin': 'Insulin', 'BMI': 'BMI', 'DiabetesPedigreeFunction': 'DiabetesPedigreeFunction', 'Age': 'Age'}, 'InputRawColumnSchema': {'Pregnancies': 'floating', 'Glucose': 'floating', 'BloodPressure': 'floating', 'SkinThickness': 'floating', 'Insulin': 'floating', 'BMI': 'floating', 'DiabetesPedigreeFunction': 'floating', 'Age': 'floating'}, 'InputOnnxColumnSchema': {'Pregnancies': 'FloatTensorType', 'Glucose': 'FloatTensorType', 'BloodPressure': 'FloatTensorType', 'SkinThickness': 'FloatTensorType', 'Insulin': 'FloatTensorType', 'BMI': 'FloatTensorType', 'DiabetesPedigreeFunction': 'FloatTensorType', 'Age': 'FloatTensorType'}, 'CanEnableBatchMode': True}\",\n",
       " 'error_code': '',\n",
       " 'failure_reason': '',\n",
       " 'feature_skus': 'automatedml_sdk_guardrails',\n",
       " 'dependencies_versions': '{\"azureml-train-automl-runtime\": \"1.19.0\", \"azureml-train-automl-client\": \"1.19.0\", \"azureml-telemetry\": \"1.19.0\", \"azureml-pipeline-core\": \"1.19.0\", \"azureml-model-management-sdk\": \"1.0.1b6.post1\", \"azureml-interpret\": \"1.19.0\", \"azureml-defaults\": \"1.19.0\", \"azureml-dataset-runtime\": \"1.19.0\", \"azureml-dataprep\": \"2.6.1\", \"azureml-dataprep-rslex\": \"1.4.0\", \"azureml-dataprep-native\": \"26.0.0\", \"azureml-core\": \"1.19.0\", \"azureml-automl-runtime\": \"1.19.0\", \"azureml-automl-core\": \"1.19.0\"}',\n",
       " 'num_cores': '2',\n",
       " 'num_logical_cores': '2',\n",
       " 'peak_memory_usage': '576888',\n",
       " 'vm_configuration': 'Intel(R) Xeon(R) Platinum 8171M CPU @ 2.60GHz',\n",
       " 'core_hours': '0.005693704722222222'}"
      ]
     },
     "execution_count": 12,
     "metadata": {},
     "output_type": "execute_result"
    }
   ],
   "source": [
    "# Retrieve the best automl run model\n",
    "best_automl_run, fitted_automl_model = remote_run.get_output()\n",
    "print(best_automl_run)\n",
    "\n",
    "# get best model and display properties\n",
    "model_name = best_automl_run.properties['model_name']\n",
    "print(\"Best Model:\", model_name)\n",
    "\n",
    "# display all the properties of the best model\n",
    "#best_automl_run #.properties\n",
    "best_automl_run.get_properties()"
   ]
  },
  {
   "cell_type": "code",
   "execution_count": 13,
   "metadata": {},
   "outputs": [],
   "source": [
    "# Save the best model\n",
    "os.makedirs('outputs', exist_ok=True)\n",
    "best_automl_run.download_file('outputs/model.pkl', 'outputs/automlmodel.pkl')\n",
    "best_automl_run.download_file('outputs/scoring_file_v_1_0_0.py', 'outputs/score_aml.py')\n",
    "best_automl_run.download_file('automl_driver.py', 'outputs/automl_driver.py')"
   ]
  },
  {
   "cell_type": "code",
   "execution_count": 15,
   "metadata": {},
   "outputs": [
    {
     "name": "stdout",
     "output_type": "stream",
     "text": [
      "Registering model automl_puru\n"
     ]
    }
   ],
   "source": [
    "from azureml.core.model import Model\n",
    "\n",
    "model = Model.register(workspace = ws,\n",
    "                        model_path =\"outputs/automlmodel.pkl\",\n",
    "                        model_name = \"automl_puru\")"
   ]
  },
  {
   "cell_type": "code",
   "execution_count": 17,
   "metadata": {},
   "outputs": [
    {
     "name": "stdout",
     "output_type": "stream",
     "text": [
      "automl_puru\n"
     ]
    }
   ],
   "source": [
    "\n",
    "print(model.name)"
   ]
  },
  {
   "cell_type": "markdown",
   "metadata": {},
   "source": [
    "## Model Deployment"
   ]
  },
  {
   "cell_type": "code",
   "execution_count": 18,
   "metadata": {},
   "outputs": [],
   "source": [
    "from azureml.core.environment import Environment\n",
    "from azureml.core.model import InferenceConfig\n",
    "from azureml.core.webservice import AciWebservice\n",
    "from azureml.core.model import Model"
   ]
  },
  {
   "cell_type": "code",
   "execution_count": 19,
   "metadata": {},
   "outputs": [
    {
     "name": "stdout",
     "output_type": "stream",
     "text": [
      "Overwriting autoscore.py\n"
     ]
    }
   ],
   "source": [
    "%%writefile autoscore.py\n",
    "import json\n",
    "import numpy as np\n",
    "import os\n",
    "import pickle\n",
    "import joblib\n",
    "from azureml.core.model import Model\n",
    "import pandas as pd\n",
    "\n",
    "def init():\n",
    "    global model\n",
    "    model_path = os.path.join(os.getenv('AZUREML_MODEL_DIR'), 'automlmodel.pkl')\n",
    "    model = joblib.load(model_path)\n",
    "    \n",
    "\n",
    "def run(raw_data):\n",
    "    try:\n",
    "        data = json.loads(raw_data)['data']\n",
    "        data = pd.DataFrame.from_dict(data)\n",
    "        # make prediction\n",
    "        mypredict = model.predict(data)\n",
    "        return mypredict.tolist()\n",
    "    except Exception as ex:\n",
    "        error = str(ex)\n",
    "        return error"
   ]
  },
  {
   "cell_type": "code",
   "execution_count": 20,
   "metadata": {},
   "outputs": [],
   "source": [
    "from azureml.core.environment import Environment\n",
    "from azureml.core.model import InferenceConfig\n",
    "\n",
    "\n",
    "#env = Environment.from_conda_specification(name='puruenv',file_path = 'env.yml')\n",
    "env = Environment.get(workspace=ws, name=\"AzureML-AutoML\")\n",
    "inference_config = InferenceConfig(entry_script='./autoscore.py',\n",
    "                                    environment=env)"
   ]
  },
  {
   "cell_type": "code",
   "execution_count": 21,
   "metadata": {},
   "outputs": [
    {
     "name": "stdout",
     "output_type": "stream",
     "text": [
      "Tips: You can try get_logs(): https://aka.ms/debugimage#dockerlog or local deployment: https://aka.ms/debugimage#debug-locally to debug if deployment takes longer than 10 minutes.\n",
      "Running...............................................\n",
      "Succeeded\n",
      "ACI service creation operation finished, operation \"Succeeded\"\n",
      "Healthy\n"
     ]
    }
   ],
   "source": [
    "from azureml.core.webservice import AciWebservice,Webservice\n",
    "from azureml.core.model import Model\n",
    "\n",
    "deployment_config = AciWebservice.deploy_configuration(cpu_cores = 1, memory_gb = 1,enable_app_insights = True, auth_enabled=True)\n",
    "service = Model.deploy(ws, \"puruautoservice\", [model], inference_config, deployment_config)\n",
    "service.wait_for_deployment(show_output = True)\n",
    "print(service.state)"
   ]
  },
  {
   "cell_type": "code",
   "execution_count": 22,
   "metadata": {},
   "outputs": [
    {
     "name": "stdout",
     "output_type": "stream",
     "text": [
      "2020-12-31T18:50:25,498644502+00:00 - gunicorn/run \n",
      "2020-12-31T18:50:25,498873918+00:00 - rsyslog/run \n",
      "2020-12-31T18:50:25,498873918+00:00 - iot-server/run \n",
      "2020-12-31T18:50:25,536924303+00:00 - nginx/run \n",
      "/usr/sbin/nginx: /azureml-envs/azureml_8eff28b157f42edcd2424a5aae6c8074/lib/libcrypto.so.1.0.0: no version information available (required by /usr/sbin/nginx)\n",
      "/usr/sbin/nginx: /azureml-envs/azureml_8eff28b157f42edcd2424a5aae6c8074/lib/libcrypto.so.1.0.0: no version information available (required by /usr/sbin/nginx)\n",
      "/usr/sbin/nginx: /azureml-envs/azureml_8eff28b157f42edcd2424a5aae6c8074/lib/libssl.so.1.0.0: no version information available (required by /usr/sbin/nginx)\n",
      "/usr/sbin/nginx: /azureml-envs/azureml_8eff28b157f42edcd2424a5aae6c8074/lib/libssl.so.1.0.0: no version information available (required by /usr/sbin/nginx)\n",
      "/usr/sbin/nginx: /azureml-envs/azureml_8eff28b157f42edcd2424a5aae6c8074/lib/libssl.so.1.0.0: no version information available (required by /usr/sbin/nginx)\n",
      "EdgeHubConnectionString and IOTEDGE_IOTHUBHOSTNAME are not set. Exiting...\n",
      "2020-12-31T18:50:25,707704106+00:00 - iot-server/finish 1 0\n",
      "rsyslogd: /azureml-envs/azureml_8eff28b157f42edcd2424a5aae6c8074/lib/libuuid.so.1: no version information available (required by rsyslogd)\n",
      "2020-12-31T18:50:25,709292514+00:00 - Exit code 1 is normal. Not restarting iot-server.\n",
      "Starting gunicorn 19.9.0\n",
      "Listening at: http://127.0.0.1:31311 (10)\n",
      "Using worker: sync\n",
      "worker timeout is set to 300\n",
      "Booting worker with pid: 41\n",
      "SPARK_HOME not set. Skipping PySpark Initialization.\n",
      "Generating new fontManager, this may take some time...\n",
      "Initializing logger\n",
      "2020-12-31 18:50:29,059 | root | INFO | Starting up app insights client\n",
      "Starting up app insights client\n",
      "2020-12-31 18:50:29,059 | root | INFO | Starting up request id generator\n",
      "Starting up request id generator\n",
      "2020-12-31 18:50:29,059 | root | INFO | Starting up app insight hooks\n",
      "Starting up app insight hooks\n",
      "2020-12-31 18:50:29,059 | root | INFO | Invoking user's init function\n",
      "Invoking user's init function\n",
      "2020-12-31 18:50:30,097 | root | INFO | Users's init has completed successfully\n",
      "Users's init has completed successfully\n",
      "2020-12-31 18:50:30,101 | root | INFO | Skipping middleware: dbg_model_info as it's not enabled.\n",
      "Skipping middleware: dbg_model_info as it's not enabled.\n",
      "2020-12-31 18:50:30,101 | root | INFO | Skipping middleware: dbg_resource_usage as it's not enabled.\n",
      "Skipping middleware: dbg_resource_usage as it's not enabled.\n",
      "2020-12-31 18:50:30,102 | root | INFO | Scoring timeout is found from os.environ: 60000 ms\n",
      "Scoring timeout is found from os.environ: 60000 ms\n",
      "2020-12-31 18:50:34,296 | root | INFO | Swagger file not present\n",
      "Swagger file not present\n",
      "2020-12-31 18:50:34,297 | root | INFO | 404\n",
      "404\n",
      "127.0.0.1 - - [31/Dec/2020:18:50:34 +0000] \"GET /swagger.json HTTP/1.0\" 404 19 \"-\" \"Go-http-client/1.1\"\n",
      "2020-12-31 18:50:38,792 | root | INFO | Swagger file not present\n",
      "Swagger file not present\n",
      "2020-12-31 18:50:38,792 | root | INFO | 404\n",
      "404\n",
      "127.0.0.1 - - [31/Dec/2020:18:50:38 +0000] \"GET /swagger.json HTTP/1.0\" 404 19 \"-\" \"Go-http-client/1.1\"\n",
      "\n"
     ]
    }
   ],
   "source": [
    "servicelogs = service.get_logs()\n",
    "print(servicelogs)"
   ]
  },
  {
   "cell_type": "code",
   "execution_count": 23,
   "metadata": {},
   "outputs": [
    {
     "name": "stdout",
     "output_type": "stream",
     "text": [
      "scoring URI: http://7949d0dc-6cf5-49c5-ba5d-80823b6ea794.southcentralus.azurecontainer.io/score\n",
      "Swagger URI: http://7949d0dc-6cf5-49c5-ba5d-80823b6ea794.southcentralus.azurecontainer.io/swagger.json\n",
      "Authetication Key: kdrlEKVBpaU7nI2Ocdg6ZSWYIdfDvhaX\n"
     ]
    }
   ],
   "source": [
    "\n",
    "print(\"scoring URI: \" + service.scoring_uri)\n",
    "\n",
    "print(\"Swagger URI: \" + service.swagger_uri)\n",
    "\n",
    "print(\"Authetication Key: \" + service.get_keys()[0])"
   ]
  },
  {
   "cell_type": "code",
   "execution_count": 26,
   "metadata": {},
   "outputs": [
    {
     "name": "stdout",
     "output_type": "stream",
     "text": [
      "[[6.0, 148.0, 72.0, 35.0, 0.0, 33.6, 0.627, 50.0], [1.0, 85.0, 66.0, 29.0, 0.0, 26.6, 0.351, 31.0]]\n"
     ]
    }
   ],
   "source": [
    "from train import clean_data\n",
    "[x_data, y_data] = clean_data(dataset)\n",
    "print(x_data[0:2].values.tolist())"
   ]
  },
  {
   "cell_type": "code",
   "execution_count": 28,
   "metadata": {},
   "outputs": [
    {
     "name": "stdout",
     "output_type": "stream",
     "text": [
      "[1, 0]\n"
     ]
    }
   ],
   "source": [
    "import json\n",
    "\n",
    "input_payload = json.dumps({\n",
    "    'data': x_data[0:2].to_dict(orient='records'),\n",
    "    'method': 'predict'  # If you have a classification model, you can get probabilities by changing this to 'predict_proba'.\n",
    "})\n",
    "\n",
    "output = service.run(input_payload)\n",
    "\n",
    "print(output)"
   ]
  },
  {
   "cell_type": "code",
   "execution_count": 24,
   "metadata": {},
   "outputs": [
    {
     "name": "stdout",
     "output_type": "stream",
     "text": [
      "[1, 0]\n"
     ]
    }
   ],
   "source": [
    "import json\n",
    "\n",
    "\n",
    "payload = json.dumps({\n",
    "    'data':\n",
    "           [\n",
    "               {\n",
    "                   'Pregnancies': 6,\n",
    "                   'Glucose': 148,\n",
    "                   'BloodPressure': 72,\n",
    "                   'SkinThickness': 35,\n",
    "                   'Insulin': 0,\n",
    "                   'BMI': 33.6,\n",
    "                   'DiabetesPedigreeFunction': 0.627,\n",
    "                   'Age': 50\n",
    "\n",
    "               },\n",
    "               {\n",
    "                   'Pregnancies': 1,\n",
    "                   'Glucose': 85,\n",
    "                   'BloodPressure': 66,\n",
    "                   'SkinThickness': 29,\n",
    "                   'Insulin': 0,\n",
    "                   'BMI': 26.6,\n",
    "                   'DiabetesPedigreeFunction': 0.351,\n",
    "                   'Age': 31,  \n",
    "               }\n",
    "           ],\n",
    "    'method': 'predict_proba'  # If you have a classification model, you can get probabilities by changing this to 'predict_proba'.\n",
    "})\n",
    "\n",
    "output = service.run(payload)\n",
    "print(output)\n"
   ]
  },
  {
   "cell_type": "code",
   "execution_count": 25,
   "metadata": {},
   "outputs": [
    {
     "name": "stdout",
     "output_type": "stream",
     "text": [
      "[1, 0]\n"
     ]
    }
   ],
   "source": [
    "import requests\n",
    "import json\n",
    "scoringuri = service.scoring_uri\n",
    "key = service.get_keys()[0]\n",
    "data= { \"data\":\n",
    "       [\n",
    "           {\n",
    "               'Pregnancies': 6,\n",
    "               'Glucose': 148,\n",
    "               'BloodPressure': 72,\n",
    "               'SkinThickness': 35,\n",
    "               'Insulin': 0,\n",
    "               'BMI': 33.6,\n",
    "               'DiabetesPedigreeFunction': 0.627,\n",
    "               'Age': 50\n",
    "               \n",
    "           },\n",
    "           {\n",
    "               'Pregnancies': 1,\n",
    "               'Glucose': 85,\n",
    "               'BloodPressure': 66,\n",
    "               'SkinThickness': 29,\n",
    "               'Insulin': 0,\n",
    "               'BMI': 26.6,\n",
    "               'DiabetesPedigreeFunction': 0.351,\n",
    "               'Age': 31\n",
    "           }\n",
    "       ]\n",
    "    }\n",
    "input_data = json.dumps(data)\n",
    "\n",
    "headers = {'Content-Type': 'application/json'}\n",
    "headers['Authorization'] = f'Bearer {key}'\n",
    "\n",
    "response = requests.post(scoringuri, input_data, headers = headers)\n",
    "print(response.text)"
   ]
  },
  {
   "cell_type": "code",
   "execution_count": null,
   "metadata": {},
   "outputs": [],
   "source": [
    "service.delete()"
   ]
  },
  {
   "cell_type": "code",
   "execution_count": null,
   "metadata": {},
   "outputs": [],
   "source": [
    "cpu_cluster.delete()"
   ]
  }
 ],
 "metadata": {
  "kernel_info": {
   "name": "python3"
  },
  "kernelspec": {
   "display_name": "Python 3",
   "language": "python",
   "name": "python3"
  },
  "language_info": {
   "codemirror_mode": {
    "name": "ipython",
    "version": 3
   },
   "file_extension": ".py",
   "mimetype": "text/x-python",
   "name": "python",
   "nbconvert_exporter": "python",
   "pygments_lexer": "ipython3",
   "version": "3.6.9"
  },
  "nteract": {
   "version": "nteract-front-end@1.0.0"
  }
 },
 "nbformat": 4,
 "nbformat_minor": 2
}
