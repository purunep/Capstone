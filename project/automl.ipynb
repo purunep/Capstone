{
 "cells": [
  {
   "cell_type": "markdown",
   "metadata": {},
   "source": [
    "# Automated ML\n",
    "\n",
    "TODO: Import Dependencies. In the cell below, import all the dependencies that you will need to complete the project."
   ]
  },
  {
   "cell_type": "code",
   "execution_count": 1,
   "metadata": {
    "gather": {
     "logged": 1598423888013
    },
    "jupyter": {
     "outputs_hidden": false,
     "source_hidden": false
    },
    "nteract": {
     "transient": {
      "deleting": false
     }
    }
   },
   "outputs": [
    {
     "name": "stdout",
     "output_type": "stream",
     "text": [
      "SDK version: 1.19.0\n"
     ]
    }
   ],
   "source": [
    "import logging\n",
    "import os\n",
    "import csv\n",
    "\n",
    "from matplotlib import pyplot as plt\n",
    "import numpy as np\n",
    "import pandas as pd\n",
    "#from sklearn import datasets\n",
    "import pkg_resources\n",
    "\n",
    "import azureml.core\n",
    "from azureml.core.experiment import Experiment\n",
    "from azureml.core.workspace import Workspace\n",
    "from azureml.train.automl import AutoMLConfig\n",
    "#from azureml.core.dataset import Dataset\n",
    "\n",
    "from azureml.pipeline.steps import AutoMLStep\n",
    "\n",
    "# Check core SDK version number\n",
    "print(\"SDK version:\", azureml.core.VERSION)"
   ]
  },
  {
   "cell_type": "markdown",
   "metadata": {},
   "source": [
    "## Dataset\n",
    "\n",
    "### Overview\n",
    "TODO: In this markdown cell, give an overview of the dataset you are using. Also mention the task you will be performing.\n",
    "\n",
    "\n",
    "TODO: Get data. In the cell below, write code to access the data you will be using in this project. Remember that the dataset needs to be external."
   ]
  },
  {
   "cell_type": "code",
   "execution_count": 2,
   "metadata": {
    "gather": {
     "logged": 1598423890461
    },
    "jupyter": {
     "outputs_hidden": false,
     "source_hidden": false
    },
    "nteract": {
     "transient": {
      "deleting": false
     }
    }
   },
   "outputs": [],
   "source": [
    "ws = Workspace.from_config()\n",
    "\n",
    "# choose a name for experiment\n",
    "experiment_name = 'puru-auto-experiment'\n",
    "\n",
    "experiment=Experiment(ws, experiment_name)"
   ]
  },
  {
   "cell_type": "code",
   "execution_count": 3,
   "metadata": {},
   "outputs": [
    {
     "name": "stdout",
     "output_type": "stream",
     "text": [
      "Workspace name: quick-starts-ws-131753\n",
      "Azure region: southcentralus\n",
      "Subscription id: 9b72f9e6-56c5-4c16-991b-19c652994860\n",
      "Resource group: aml-quickstarts-131753\n"
     ]
    }
   ],
   "source": [
    "print('Workspace name: ' + ws.name, \n",
    "      'Azure region: ' + ws.location, \n",
    "      'Subscription id: ' + ws.subscription_id, \n",
    "      'Resource group: ' + ws.resource_group, sep = '\\n')"
   ]
  },
  {
   "cell_type": "code",
   "execution_count": 4,
   "metadata": {},
   "outputs": [
    {
     "name": "stdout",
     "output_type": "stream",
     "text": [
      "Found existing cluster, using it.\n",
      "\n",
      "Running\n"
     ]
    }
   ],
   "source": [
    "# create or attach an existing compute cluster\n",
    "from azureml.core.compute import ComputeTarget, AmlCompute\n",
    "from azureml.core.compute_target import ComputeTargetException\n",
    "\n",
    "# set name of CPU cluster\n",
    "cpu_cluster_name = \"puru-compute\"\n",
    "\n",
    "# Verify that cluster does not exist already\n",
    "try:\n",
    "    cpu_cluster = ComputeTarget(workspace=ws, name=cpu_cluster_name)\n",
    "    print('Found existing cluster, using it.')\n",
    "except ComputeTargetException:\n",
    "    print('Creating a new compute target...')\n",
    "    compute_config = AmlCompute.provisioning_configuration(vm_size='STANDARD_D2_V2',\n",
    "                                                           max_nodes=4)\n",
    "    cpu_cluster = ComputeTarget.create(ws, cpu_cluster_name, compute_config)\n",
    "\n",
    "# wait for completion\n",
    "cpu_cluster.wait_for_completion(show_output=True)"
   ]
  },
  {
   "cell_type": "code",
   "execution_count": 5,
   "metadata": {},
   "outputs": [],
   "source": [
    "# NOTE: update the key to match the dataset name\n",
    "found = False\n",
    "key = \"diabetes-classification\"\n",
    "description_text = \"Diabetes datasets for capstone project\"\n",
    "\n",
    "if key in ws.datasets.keys(): \n",
    "        found = True        \n",
    "        dataset = ws.datasets[key] \n",
    "\n",
    "if not found:\n",
    "        # Create Hyperdrive Dataset and register it into Workspace\n",
    "        url = 'https://raw.githubusercontent.com/purunep/Capstone/main/project/data/diabetes.csv'\n",
    "        dataset = Dataset.Tabular.from_delimited_files(url)        \n",
    "        #Register Dataset in Workspace\n",
    "        dataset = dataset.register(workspace=ws,\n",
    "                                   name=key,\n",
    "                                   description=description_text)\n",
    "\n",
    "\n",
    "df = dataset.to_pandas_dataframe()\n",
    "df.describe()\n",
    "\n",
    "from train import clean_data\n",
    "[x_data, y_data] = clean_data(dataset)"
   ]
  },
  {
   "cell_type": "code",
   "execution_count": 7,
   "metadata": {},
   "outputs": [
    {
     "data": {
      "text/html": [
       "<div>\n",
       "<style scoped>\n",
       "    .dataframe tbody tr th:only-of-type {\n",
       "        vertical-align: middle;\n",
       "    }\n",
       "\n",
       "    .dataframe tbody tr th {\n",
       "        vertical-align: top;\n",
       "    }\n",
       "\n",
       "    .dataframe thead th {\n",
       "        text-align: right;\n",
       "    }\n",
       "</style>\n",
       "<table border=\"1\" class=\"dataframe\">\n",
       "  <thead>\n",
       "    <tr style=\"text-align: right;\">\n",
       "      <th></th>\n",
       "      <th>Pregnancies</th>\n",
       "      <th>Glucose</th>\n",
       "      <th>BloodPressure</th>\n",
       "      <th>SkinThickness</th>\n",
       "      <th>Insulin</th>\n",
       "      <th>BMI</th>\n",
       "      <th>DiabetesPedigreeFunction</th>\n",
       "      <th>Age</th>\n",
       "      <th>Outcome</th>\n",
       "    </tr>\n",
       "  </thead>\n",
       "  <tbody>\n",
       "    <tr>\n",
       "      <th>0</th>\n",
       "      <td>6</td>\n",
       "      <td>148</td>\n",
       "      <td>72</td>\n",
       "      <td>35</td>\n",
       "      <td>0</td>\n",
       "      <td>33.6</td>\n",
       "      <td>0.627</td>\n",
       "      <td>50</td>\n",
       "      <td>1</td>\n",
       "    </tr>\n",
       "    <tr>\n",
       "      <th>1</th>\n",
       "      <td>1</td>\n",
       "      <td>85</td>\n",
       "      <td>66</td>\n",
       "      <td>29</td>\n",
       "      <td>0</td>\n",
       "      <td>26.6</td>\n",
       "      <td>0.351</td>\n",
       "      <td>31</td>\n",
       "      <td>0</td>\n",
       "    </tr>\n",
       "    <tr>\n",
       "      <th>2</th>\n",
       "      <td>8</td>\n",
       "      <td>183</td>\n",
       "      <td>64</td>\n",
       "      <td>0</td>\n",
       "      <td>0</td>\n",
       "      <td>23.3</td>\n",
       "      <td>0.672</td>\n",
       "      <td>32</td>\n",
       "      <td>1</td>\n",
       "    </tr>\n",
       "    <tr>\n",
       "      <th>3</th>\n",
       "      <td>1</td>\n",
       "      <td>89</td>\n",
       "      <td>66</td>\n",
       "      <td>23</td>\n",
       "      <td>94</td>\n",
       "      <td>28.1</td>\n",
       "      <td>0.167</td>\n",
       "      <td>21</td>\n",
       "      <td>0</td>\n",
       "    </tr>\n",
       "    <tr>\n",
       "      <th>4</th>\n",
       "      <td>0</td>\n",
       "      <td>137</td>\n",
       "      <td>40</td>\n",
       "      <td>35</td>\n",
       "      <td>168</td>\n",
       "      <td>43.1</td>\n",
       "      <td>2.288</td>\n",
       "      <td>33</td>\n",
       "      <td>1</td>\n",
       "    </tr>\n",
       "  </tbody>\n",
       "</table>\n",
       "</div>"
      ],
      "text/plain": [
       "   Pregnancies  Glucose  BloodPressure  SkinThickness  Insulin   BMI  \\\n",
       "0            6      148             72             35        0  33.6   \n",
       "1            1       85             66             29        0  26.6   \n",
       "2            8      183             64              0        0  23.3   \n",
       "3            1       89             66             23       94  28.1   \n",
       "4            0      137             40             35      168  43.1   \n",
       "\n",
       "   DiabetesPedigreeFunction  Age  Outcome  \n",
       "0                     0.627   50        1  \n",
       "1                     0.351   31        0  \n",
       "2                     0.672   32        1  \n",
       "3                     0.167   21        0  \n",
       "4                     2.288   33        1  "
      ]
     },
     "execution_count": 7,
     "metadata": {},
     "output_type": "execute_result"
    }
   ],
   "source": [
    "dataset.to_pandas_dataframe().head()"
   ]
  },
  {
   "cell_type": "code",
   "execution_count": 8,
   "metadata": {},
   "outputs": [
    {
     "data": {
      "text/html": [
       "<div>\n",
       "<style scoped>\n",
       "    .dataframe tbody tr th:only-of-type {\n",
       "        vertical-align: middle;\n",
       "    }\n",
       "\n",
       "    .dataframe tbody tr th {\n",
       "        vertical-align: top;\n",
       "    }\n",
       "\n",
       "    .dataframe thead th {\n",
       "        text-align: right;\n",
       "    }\n",
       "</style>\n",
       "<table border=\"1\" class=\"dataframe\">\n",
       "  <thead>\n",
       "    <tr style=\"text-align: right;\">\n",
       "      <th></th>\n",
       "      <th>Pregnancies</th>\n",
       "      <th>Glucose</th>\n",
       "      <th>BloodPressure</th>\n",
       "      <th>SkinThickness</th>\n",
       "      <th>Insulin</th>\n",
       "      <th>BMI</th>\n",
       "      <th>DiabetesPedigreeFunction</th>\n",
       "      <th>Age</th>\n",
       "      <th>Outcome</th>\n",
       "    </tr>\n",
       "  </thead>\n",
       "  <tbody>\n",
       "    <tr>\n",
       "      <th>count</th>\n",
       "      <td>768.000000</td>\n",
       "      <td>768.000000</td>\n",
       "      <td>768.000000</td>\n",
       "      <td>768.000000</td>\n",
       "      <td>768.000000</td>\n",
       "      <td>768.000000</td>\n",
       "      <td>768.000000</td>\n",
       "      <td>768.000000</td>\n",
       "      <td>768.000000</td>\n",
       "    </tr>\n",
       "    <tr>\n",
       "      <th>mean</th>\n",
       "      <td>3.845052</td>\n",
       "      <td>120.894531</td>\n",
       "      <td>69.105469</td>\n",
       "      <td>20.536458</td>\n",
       "      <td>79.799479</td>\n",
       "      <td>31.992578</td>\n",
       "      <td>0.471876</td>\n",
       "      <td>33.240885</td>\n",
       "      <td>0.348958</td>\n",
       "    </tr>\n",
       "    <tr>\n",
       "      <th>std</th>\n",
       "      <td>3.369578</td>\n",
       "      <td>31.972618</td>\n",
       "      <td>19.355807</td>\n",
       "      <td>15.952218</td>\n",
       "      <td>115.244002</td>\n",
       "      <td>7.884160</td>\n",
       "      <td>0.331329</td>\n",
       "      <td>11.760232</td>\n",
       "      <td>0.476951</td>\n",
       "    </tr>\n",
       "    <tr>\n",
       "      <th>min</th>\n",
       "      <td>0.000000</td>\n",
       "      <td>0.000000</td>\n",
       "      <td>0.000000</td>\n",
       "      <td>0.000000</td>\n",
       "      <td>0.000000</td>\n",
       "      <td>0.000000</td>\n",
       "      <td>0.078000</td>\n",
       "      <td>21.000000</td>\n",
       "      <td>0.000000</td>\n",
       "    </tr>\n",
       "    <tr>\n",
       "      <th>25%</th>\n",
       "      <td>1.000000</td>\n",
       "      <td>99.000000</td>\n",
       "      <td>62.000000</td>\n",
       "      <td>0.000000</td>\n",
       "      <td>0.000000</td>\n",
       "      <td>27.300000</td>\n",
       "      <td>0.243750</td>\n",
       "      <td>24.000000</td>\n",
       "      <td>0.000000</td>\n",
       "    </tr>\n",
       "    <tr>\n",
       "      <th>50%</th>\n",
       "      <td>3.000000</td>\n",
       "      <td>117.000000</td>\n",
       "      <td>72.000000</td>\n",
       "      <td>23.000000</td>\n",
       "      <td>30.500000</td>\n",
       "      <td>32.000000</td>\n",
       "      <td>0.372500</td>\n",
       "      <td>29.000000</td>\n",
       "      <td>0.000000</td>\n",
       "    </tr>\n",
       "    <tr>\n",
       "      <th>75%</th>\n",
       "      <td>6.000000</td>\n",
       "      <td>140.250000</td>\n",
       "      <td>80.000000</td>\n",
       "      <td>32.000000</td>\n",
       "      <td>127.250000</td>\n",
       "      <td>36.600000</td>\n",
       "      <td>0.626250</td>\n",
       "      <td>41.000000</td>\n",
       "      <td>1.000000</td>\n",
       "    </tr>\n",
       "    <tr>\n",
       "      <th>max</th>\n",
       "      <td>17.000000</td>\n",
       "      <td>199.000000</td>\n",
       "      <td>122.000000</td>\n",
       "      <td>99.000000</td>\n",
       "      <td>846.000000</td>\n",
       "      <td>67.100000</td>\n",
       "      <td>2.420000</td>\n",
       "      <td>81.000000</td>\n",
       "      <td>1.000000</td>\n",
       "    </tr>\n",
       "  </tbody>\n",
       "</table>\n",
       "</div>"
      ],
      "text/plain": [
       "       Pregnancies     Glucose  BloodPressure  SkinThickness     Insulin  \\\n",
       "count   768.000000  768.000000     768.000000     768.000000  768.000000   \n",
       "mean      3.845052  120.894531      69.105469      20.536458   79.799479   \n",
       "std       3.369578   31.972618      19.355807      15.952218  115.244002   \n",
       "min       0.000000    0.000000       0.000000       0.000000    0.000000   \n",
       "25%       1.000000   99.000000      62.000000       0.000000    0.000000   \n",
       "50%       3.000000  117.000000      72.000000      23.000000   30.500000   \n",
       "75%       6.000000  140.250000      80.000000      32.000000  127.250000   \n",
       "max      17.000000  199.000000     122.000000      99.000000  846.000000   \n",
       "\n",
       "              BMI  DiabetesPedigreeFunction         Age     Outcome  \n",
       "count  768.000000                768.000000  768.000000  768.000000  \n",
       "mean    31.992578                  0.471876   33.240885    0.348958  \n",
       "std      7.884160                  0.331329   11.760232    0.476951  \n",
       "min      0.000000                  0.078000   21.000000    0.000000  \n",
       "25%     27.300000                  0.243750   24.000000    0.000000  \n",
       "50%     32.000000                  0.372500   29.000000    0.000000  \n",
       "75%     36.600000                  0.626250   41.000000    1.000000  \n",
       "max     67.100000                  2.420000   81.000000    1.000000  "
      ]
     },
     "execution_count": 8,
     "metadata": {},
     "output_type": "execute_result"
    }
   ],
   "source": [
    "df = dataset.to_pandas_dataframe()\n",
    "df.describe()"
   ]
  },
  {
   "cell_type": "code",
   "execution_count": 10,
   "metadata": {},
   "outputs": [
    {
     "data": {
      "text/html": [
       "<div>\n",
       "<style scoped>\n",
       "    .dataframe tbody tr th:only-of-type {\n",
       "        vertical-align: middle;\n",
       "    }\n",
       "\n",
       "    .dataframe tbody tr th {\n",
       "        vertical-align: top;\n",
       "    }\n",
       "\n",
       "    .dataframe thead th {\n",
       "        text-align: right;\n",
       "    }\n",
       "</style>\n",
       "<table border=\"1\" class=\"dataframe\">\n",
       "  <thead>\n",
       "    <tr style=\"text-align: right;\">\n",
       "      <th></th>\n",
       "      <th>Pregnancies</th>\n",
       "      <th>Glucose</th>\n",
       "      <th>BloodPressure</th>\n",
       "      <th>SkinThickness</th>\n",
       "      <th>Insulin</th>\n",
       "      <th>BMI</th>\n",
       "      <th>DiabetesPedigreeFunction</th>\n",
       "      <th>Age</th>\n",
       "      <th>Outcome</th>\n",
       "    </tr>\n",
       "  </thead>\n",
       "  <tbody>\n",
       "    <tr>\n",
       "      <th>580</th>\n",
       "      <td>0</td>\n",
       "      <td>151</td>\n",
       "      <td>90</td>\n",
       "      <td>46</td>\n",
       "      <td>0</td>\n",
       "      <td>42.1</td>\n",
       "      <td>0.371</td>\n",
       "      <td>21</td>\n",
       "      <td>1</td>\n",
       "    </tr>\n",
       "    <tr>\n",
       "      <th>418</th>\n",
       "      <td>1</td>\n",
       "      <td>83</td>\n",
       "      <td>68</td>\n",
       "      <td>0</td>\n",
       "      <td>0</td>\n",
       "      <td>18.2</td>\n",
       "      <td>0.624</td>\n",
       "      <td>27</td>\n",
       "      <td>0</td>\n",
       "    </tr>\n",
       "    <tr>\n",
       "      <th>764</th>\n",
       "      <td>2</td>\n",
       "      <td>122</td>\n",
       "      <td>70</td>\n",
       "      <td>27</td>\n",
       "      <td>0</td>\n",
       "      <td>36.8</td>\n",
       "      <td>0.340</td>\n",
       "      <td>27</td>\n",
       "      <td>0</td>\n",
       "    </tr>\n",
       "    <tr>\n",
       "      <th>363</th>\n",
       "      <td>4</td>\n",
       "      <td>146</td>\n",
       "      <td>78</td>\n",
       "      <td>0</td>\n",
       "      <td>0</td>\n",
       "      <td>38.5</td>\n",
       "      <td>0.520</td>\n",
       "      <td>67</td>\n",
       "      <td>1</td>\n",
       "    </tr>\n",
       "    <tr>\n",
       "      <th>757</th>\n",
       "      <td>0</td>\n",
       "      <td>123</td>\n",
       "      <td>72</td>\n",
       "      <td>0</td>\n",
       "      <td>0</td>\n",
       "      <td>36.3</td>\n",
       "      <td>0.258</td>\n",
       "      <td>52</td>\n",
       "      <td>1</td>\n",
       "    </tr>\n",
       "  </tbody>\n",
       "</table>\n",
       "</div>"
      ],
      "text/plain": [
       "     Pregnancies  Glucose  BloodPressure  SkinThickness  Insulin   BMI  \\\n",
       "580            0      151             90             46        0  42.1   \n",
       "418            1       83             68              0        0  18.2   \n",
       "764            2      122             70             27        0  36.8   \n",
       "363            4      146             78              0        0  38.5   \n",
       "757            0      123             72              0        0  36.3   \n",
       "\n",
       "     DiabetesPedigreeFunction  Age  Outcome  \n",
       "580                     0.371   21        1  \n",
       "418                     0.624   27        0  \n",
       "764                     0.340   27        0  \n",
       "363                     0.520   67        1  \n",
       "757                     0.258   52        1  "
      ]
     },
     "execution_count": 10,
     "metadata": {},
     "output_type": "execute_result"
    }
   ],
   "source": [
    "# prepare dataset for model training\n",
    "#import sys\n",
    "#sys.path.insert(0,./training)\n",
    "\n",
    "from train import clean_data\n",
    "from sklearn.model_selection import train_test_split\n",
    "import pandas as pd\n",
    "\n",
    "# Clean dataset using the clean_data function\n",
    "x, y = clean_data(dataset)\n",
    "\n",
    "# split dataset into train and test sets\n",
    "(x_train, x_test, y_train, y_test) = train_test_split(x, y, test_size= 0.3, random_state = 0)\n",
    "label = 'Outcome'\n",
    "\n",
    "# merge the output x and y dataframes into a single table for AutoML experiment\n",
    "train_data_df = pd.concat([x_train, y_train], axis=1)\n",
    "\n",
    "train_data_df.head()"
   ]
  },
  {
   "cell_type": "code",
   "execution_count": 12,
   "metadata": {},
   "outputs": [
    {
     "name": "stdout",
     "output_type": "stream",
     "text": [
      "Uploading an estimated of 1 files\n",
      "Uploading ./data/train_data.csv\n",
      "Uploaded ./data/train_data.csv, 1 files out of an estimated total of 1\n",
      "Uploaded 1 files\n"
     ]
    }
   ],
   "source": [
    "from azureml.data.dataset_factory import TabularDatasetFactory\n",
    "# save training data in tabular format to allow for remote run\n",
    "if not os.path.isdir('data'):  # create data folder if it does not exist\n",
    "    os.mkdir('data')\n",
    "    \n",
    "if not os.path.exists('project_folder'):  # create project folder if it does not exist\n",
    "    os.makedirs('project_folder')\n",
    "\n",
    "# Save the train data to a csv file to be uploaded to the datastore\n",
    "pd.DataFrame(train_data_df).to_csv(\"data/train_data.csv\", index=False)\n",
    "\n",
    "# Upload the training data as a tabular dataset for access during training on remote compute\n",
    "# upload to data store\n",
    "ds = ws.get_default_datastore()\n",
    "ds.upload(src_dir='./data', target_path='automlclassifier', overwrite=True, show_progress=True)\n",
    "\n",
    " # access datastore during training on remote compute\n",
    "train_data = TabularDatasetFactory.from_delimited_files(path=ds.path('automlclassifier/train_data.csv'))"
   ]
  },
  {
   "cell_type": "markdown",
   "metadata": {},
   "source": [
    "## AutoML Configuration\n",
    "\n",
    "TODO: Explain why you chose the automl settings and cofiguration you used below."
   ]
  },
  {
   "cell_type": "code",
   "execution_count": null,
   "metadata": {
    "gather": {
     "logged": 1598429217746
    },
    "jupyter": {
     "outputs_hidden": false,
     "source_hidden": false
    },
    "nteract": {
     "transient": {
      "deleting": false
     }
    }
   },
   "outputs": [],
   "source": [
    "# TODO: Put your automl settings here\n",
    "automl_settings = {}\n",
    "\n",
    "# TODO: Put your automl config here\n",
    "automl_config = AutoMLConfig()"
   ]
  },
  {
   "cell_type": "code",
   "execution_count": 14,
   "metadata": {},
   "outputs": [],
   "source": [
    "project_folder = './puruautoml'\n",
    "automl_settings = {\n",
    "    \"enable_early_stopping\" : True,\n",
    "    \"iteration_timeout_minutes\": 5,\n",
    "    \"max_concurrent_iterations\": 4,\n",
    "    \"max_cores_per_iteration\": -1,    \n",
    "    \"featurization\": 'auto',\n",
    "    \"verbosity\": logging.INFO,\n",
    "}\n",
    "\n",
    "# define automl autconfig parameters\n",
    "automl_config = AutoMLConfig(\n",
    "    experiment_timeout_minutes=30,\n",
    "    task= 'classification',\n",
    "    primary_metric='accuracy',\n",
    "    enable_onnx_compatible_models=True,\n",
    "    compute_target=cpu_cluster, # included to allow for remote compute\n",
    "    training_data= train_data,\n",
    "    label_column_name= label,\n",
    "    path = project_folder,\n",
    "    n_cross_validations=3,\n",
    "    debug_log = \"automl_errors.log\",    \n",
    "    **automl_settings)"
   ]
  },
  {
   "cell_type": "code",
   "execution_count": 15,
   "metadata": {
    "gather": {
     "logged": 1598431107951
    },
    "jupyter": {
     "outputs_hidden": false,
     "source_hidden": false
    },
    "nteract": {
     "transient": {
      "deleting": false
     }
    }
   },
   "outputs": [
    {
     "name": "stdout",
     "output_type": "stream",
     "text": [
      "Running on remote.\n"
     ]
    }
   ],
   "source": [
    "# TODO: Submit your experiment\n",
    "remote_run = experiment.submit(automl_config)"
   ]
  },
  {
   "cell_type": "markdown",
   "metadata": {},
   "source": [
    "## Run Details\n",
    "\n",
    "OPTIONAL: Write about the different models trained and their performance. Why do you think some models did better than others?\n",
    "\n",
    "TODO: In the cell below, use the `RunDetails` widget to show the different experiments."
   ]
  },
  {
   "cell_type": "code",
   "execution_count": 18,
   "metadata": {
    "gather": {
     "logged": 1598431121770
    },
    "jupyter": {
     "outputs_hidden": false,
     "source_hidden": false
    },
    "nteract": {
     "transient": {
      "deleting": false
     }
    }
   },
   "outputs": [
    {
     "data": {
      "application/vnd.jupyter.widget-view+json": {
       "model_id": "d1afbe2e816f44d6bb7936245b435e8c",
       "version_major": 2,
       "version_minor": 0
      },
      "text/plain": [
       "_AutoMLWidget(widget_settings={'childWidgetDisplay': 'popup', 'send_telemetry': False, 'log_level': 'INFO', 's…"
      ]
     },
     "metadata": {},
     "output_type": "display_data"
    },
    {
     "data": {
      "application/aml.mini.widget.v1": "{\"status\": \"Completed\", \"workbench_run_details_uri\": \"https://ml.azure.com/experiments/puru-auto-experiment/runs/AutoML_bc2e3412-0fa5-4deb-a995-cba4daef2ede?wsid=/subscriptions/9b72f9e6-56c5-4c16-991b-19c652994860/resourcegroups/aml-quickstarts-131753/workspaces/quick-starts-ws-131753\", \"run_id\": \"AutoML_bc2e3412-0fa5-4deb-a995-cba4daef2ede\", \"run_properties\": {\"run_id\": \"AutoML_bc2e3412-0fa5-4deb-a995-cba4daef2ede\", \"created_utc\": \"2020-12-25T19:55:44.349611Z\", \"properties\": {\"num_iterations\": \"1000\", \"training_type\": \"TrainFull\", \"acquisition_function\": \"EI\", \"primary_metric\": \"accuracy\", \"train_split\": \"0\", \"acquisition_parameter\": \"0\", \"num_cross_validation\": \"3\", \"target\": \"puru-compute\", \"AMLSettingsJsonString\": \"{\\\"path\\\":null,\\\"name\\\":\\\"puru-auto-experiment\\\",\\\"subscription_id\\\":\\\"9b72f9e6-56c5-4c16-991b-19c652994860\\\",\\\"resource_group\\\":\\\"aml-quickstarts-131753\\\",\\\"workspace_name\\\":\\\"quick-starts-ws-131753\\\",\\\"region\\\":\\\"southcentralus\\\",\\\"compute_target\\\":\\\"puru-compute\\\",\\\"spark_service\\\":null,\\\"azure_service\\\":\\\"remote\\\",\\\"many_models\\\":false,\\\"pipeline_fetch_max_batch_size\\\":1,\\\"iterations\\\":1000,\\\"primary_metric\\\":\\\"accuracy\\\",\\\"task_type\\\":\\\"classification\\\",\\\"data_script\\\":null,\\\"validation_size\\\":0.0,\\\"n_cross_validations\\\":3,\\\"y_min\\\":null,\\\"y_max\\\":null,\\\"num_classes\\\":null,\\\"featurization\\\":\\\"auto\\\",\\\"_ignore_package_version_incompatibilities\\\":false,\\\"is_timeseries\\\":false,\\\"max_cores_per_iteration\\\":-1,\\\"max_concurrent_iterations\\\":4,\\\"iteration_timeout_minutes\\\":5,\\\"mem_in_mb\\\":null,\\\"enforce_time_on_windows\\\":false,\\\"experiment_timeout_minutes\\\":30,\\\"experiment_exit_score\\\":null,\\\"whitelist_models\\\":null,\\\"blacklist_algos\\\":[\\\"TensorFlowLinearClassifier\\\",\\\"TensorFlowDNN\\\"],\\\"supported_models\\\":[\\\"SGD\\\",\\\"BernoulliNaiveBayes\\\",\\\"KNN\\\",\\\"LogisticRegression\\\",\\\"SVM\\\",\\\"LightGBM\\\",\\\"DecisionTree\\\",\\\"XGBoostClassifier\\\",\\\"AveragedPerceptronClassifier\\\",\\\"RandomForest\\\",\\\"MultinomialNaiveBayes\\\",\\\"GradientBoosting\\\",\\\"TensorFlowDNN\\\",\\\"TensorFlowLinearClassifier\\\",\\\"LinearSVM\\\",\\\"ExtremeRandomTrees\\\"],\\\"auto_blacklist\\\":true,\\\"blacklist_samples_reached\\\":false,\\\"exclude_nan_labels\\\":true,\\\"verbosity\\\":20,\\\"_debug_log\\\":\\\"azureml_automl.log\\\",\\\"show_warnings\\\":false,\\\"model_explainability\\\":true,\\\"service_url\\\":null,\\\"sdk_url\\\":null,\\\"sdk_packages\\\":null,\\\"enable_onnx_compatible_models\\\":true,\\\"enable_split_onnx_featurizer_estimator_models\\\":false,\\\"vm_type\\\":\\\"STANDARD_DS3_V2\\\",\\\"telemetry_verbosity\\\":20,\\\"send_telemetry\\\":true,\\\"enable_dnn\\\":false,\\\"scenario\\\":\\\"SDK-1.13.0\\\",\\\"environment_label\\\":null,\\\"force_text_dnn\\\":false,\\\"enable_feature_sweeping\\\":false,\\\"enable_early_stopping\\\":true,\\\"early_stopping_n_iters\\\":10,\\\"metrics\\\":null,\\\"enable_ensembling\\\":true,\\\"enable_stack_ensembling\\\":false,\\\"ensemble_iterations\\\":15,\\\"enable_tf\\\":false,\\\"enable_subsampling\\\":null,\\\"subsample_seed\\\":null,\\\"enable_nimbusml\\\":false,\\\"enable_streaming\\\":false,\\\"force_streaming\\\":false,\\\"track_child_runs\\\":true,\\\"allowed_private_models\\\":[],\\\"label_column_name\\\":\\\"Outcome\\\",\\\"weight_column_name\\\":null,\\\"cv_split_column_names\\\":null,\\\"enable_local_managed\\\":false,\\\"_local_managed_run_id\\\":null,\\\"cost_mode\\\":1,\\\"lag_length\\\":0,\\\"metric_operation\\\":\\\"maximize\\\",\\\"preprocess\\\":true}\", \"DataPrepJsonString\": \"{\\\\\\\"training_data\\\\\\\": \\\\\\\"{\\\\\\\\\\\\\\\"blocks\\\\\\\\\\\\\\\": [{\\\\\\\\\\\\\\\"id\\\\\\\\\\\\\\\": \\\\\\\\\\\\\\\"7cb8110a-6c82-4b11-9a28-1fa18b4419ae\\\\\\\\\\\\\\\", \\\\\\\\\\\\\\\"type\\\\\\\\\\\\\\\": \\\\\\\\\\\\\\\"Microsoft.DPrep.GetDatastoreFilesBlock\\\\\\\\\\\\\\\", \\\\\\\\\\\\\\\"arguments\\\\\\\\\\\\\\\": {\\\\\\\\\\\\\\\"datastores\\\\\\\\\\\\\\\": [{\\\\\\\\\\\\\\\"datastoreName\\\\\\\\\\\\\\\": \\\\\\\\\\\\\\\"workspaceblobstore\\\\\\\\\\\\\\\", \\\\\\\\\\\\\\\"path\\\\\\\\\\\\\\\": \\\\\\\\\\\\\\\"automlclassifier/train_data.csv\\\\\\\\\\\\\\\", \\\\\\\\\\\\\\\"resourceGroup\\\\\\\\\\\\\\\": \\\\\\\\\\\\\\\"aml-quickstarts-131753\\\\\\\\\\\\\\\", \\\\\\\\\\\\\\\"subscription\\\\\\\\\\\\\\\": \\\\\\\\\\\\\\\"9b72f9e6-56c5-4c16-991b-19c652994860\\\\\\\\\\\\\\\", \\\\\\\\\\\\\\\"workspaceName\\\\\\\\\\\\\\\": \\\\\\\\\\\\\\\"quick-starts-ws-131753\\\\\\\\\\\\\\\"}]}, \\\\\\\\\\\\\\\"localData\\\\\\\\\\\\\\\": {}, \\\\\\\\\\\\\\\"isEnabled\\\\\\\\\\\\\\\": true, \\\\\\\\\\\\\\\"name\\\\\\\\\\\\\\\": null, \\\\\\\\\\\\\\\"annotation\\\\\\\\\\\\\\\": null}, {\\\\\\\\\\\\\\\"id\\\\\\\\\\\\\\\": \\\\\\\\\\\\\\\"20d544f5-81ae-4cfd-bfe3-5a39f24d498f\\\\\\\\\\\\\\\", \\\\\\\\\\\\\\\"type\\\\\\\\\\\\\\\": \\\\\\\\\\\\\\\"Microsoft.DPrep.ParseDelimitedBlock\\\\\\\\\\\\\\\", \\\\\\\\\\\\\\\"arguments\\\\\\\\\\\\\\\": {\\\\\\\\\\\\\\\"columnHeadersMode\\\\\\\\\\\\\\\": 3, \\\\\\\\\\\\\\\"fileEncoding\\\\\\\\\\\\\\\": 0, \\\\\\\\\\\\\\\"handleQuotedLineBreaks\\\\\\\\\\\\\\\": false, \\\\\\\\\\\\\\\"preview\\\\\\\\\\\\\\\": false, \\\\\\\\\\\\\\\"separator\\\\\\\\\\\\\\\": \\\\\\\\\\\\\\\",\\\\\\\\\\\\\\\", \\\\\\\\\\\\\\\"skipRows\\\\\\\\\\\\\\\": 0, \\\\\\\\\\\\\\\"skipRowsMode\\\\\\\\\\\\\\\": 0}, \\\\\\\\\\\\\\\"localData\\\\\\\\\\\\\\\": {}, \\\\\\\\\\\\\\\"isEnabled\\\\\\\\\\\\\\\": true, \\\\\\\\\\\\\\\"name\\\\\\\\\\\\\\\": null, \\\\\\\\\\\\\\\"annotation\\\\\\\\\\\\\\\": null}, {\\\\\\\\\\\\\\\"id\\\\\\\\\\\\\\\": \\\\\\\\\\\\\\\"9c334a9f-a49d-415d-8ba0-b87679433559\\\\\\\\\\\\\\\", \\\\\\\\\\\\\\\"type\\\\\\\\\\\\\\\": \\\\\\\\\\\\\\\"Microsoft.DPrep.DropColumnsBlock\\\\\\\\\\\\\\\", \\\\\\\\\\\\\\\"arguments\\\\\\\\\\\\\\\": {\\\\\\\\\\\\\\\"columns\\\\\\\\\\\\\\\": {\\\\\\\\\\\\\\\"type\\\\\\\\\\\\\\\": 0, \\\\\\\\\\\\\\\"details\\\\\\\\\\\\\\\": {\\\\\\\\\\\\\\\"selectedColumns\\\\\\\\\\\\\\\": [\\\\\\\\\\\\\\\"Path\\\\\\\\\\\\\\\"]}}}, \\\\\\\\\\\\\\\"localData\\\\\\\\\\\\\\\": {}, \\\\\\\\\\\\\\\"isEnabled\\\\\\\\\\\\\\\": true, \\\\\\\\\\\\\\\"name\\\\\\\\\\\\\\\": null, \\\\\\\\\\\\\\\"annotation\\\\\\\\\\\\\\\": null}, {\\\\\\\\\\\\\\\"id\\\\\\\\\\\\\\\": \\\\\\\\\\\\\\\"8af3dc78-132f-46bc-b74c-8edf33960a01\\\\\\\\\\\\\\\", \\\\\\\\\\\\\\\"type\\\\\\\\\\\\\\\": \\\\\\\\\\\\\\\"Microsoft.DPrep.SetColumnTypesBlock\\\\\\\\\\\\\\\", \\\\\\\\\\\\\\\"arguments\\\\\\\\\\\\\\\": {\\\\\\\\\\\\\\\"columnConversion\\\\\\\\\\\\\\\": [{\\\\\\\\\\\\\\\"column\\\\\\\\\\\\\\\": {\\\\\\\\\\\\\\\"type\\\\\\\\\\\\\\\": 2, \\\\\\\\\\\\\\\"details\\\\\\\\\\\\\\\": {\\\\\\\\\\\\\\\"selectedColumn\\\\\\\\\\\\\\\": \\\\\\\\\\\\\\\"Pregnancies\\\\\\\\\\\\\\\"}}, \\\\\\\\\\\\\\\"typeProperty\\\\\\\\\\\\\\\": 2}, {\\\\\\\\\\\\\\\"column\\\\\\\\\\\\\\\": {\\\\\\\\\\\\\\\"type\\\\\\\\\\\\\\\": 2, \\\\\\\\\\\\\\\"details\\\\\\\\\\\\\\\": {\\\\\\\\\\\\\\\"selectedColumn\\\\\\\\\\\\\\\": \\\\\\\\\\\\\\\"Glucose\\\\\\\\\\\\\\\"}}, \\\\\\\\\\\\\\\"typeProperty\\\\\\\\\\\\\\\": 2}, {\\\\\\\\\\\\\\\"column\\\\\\\\\\\\\\\": {\\\\\\\\\\\\\\\"type\\\\\\\\\\\\\\\": 2, \\\\\\\\\\\\\\\"details\\\\\\\\\\\\\\\": {\\\\\\\\\\\\\\\"selectedColumn\\\\\\\\\\\\\\\": \\\\\\\\\\\\\\\"BloodPressure\\\\\\\\\\\\\\\"}}, \\\\\\\\\\\\\\\"typeProperty\\\\\\\\\\\\\\\": 2}, {\\\\\\\\\\\\\\\"column\\\\\\\\\\\\\\\": {\\\\\\\\\\\\\\\"type\\\\\\\\\\\\\\\": 2, \\\\\\\\\\\\\\\"details\\\\\\\\\\\\\\\": {\\\\\\\\\\\\\\\"selectedColumn\\\\\\\\\\\\\\\": \\\\\\\\\\\\\\\"SkinThickness\\\\\\\\\\\\\\\"}}, \\\\\\\\\\\\\\\"typeProperty\\\\\\\\\\\\\\\": 2}, {\\\\\\\\\\\\\\\"column\\\\\\\\\\\\\\\": {\\\\\\\\\\\\\\\"type\\\\\\\\\\\\\\\": 2, \\\\\\\\\\\\\\\"details\\\\\\\\\\\\\\\": {\\\\\\\\\\\\\\\"selectedColumn\\\\\\\\\\\\\\\": \\\\\\\\\\\\\\\"Insulin\\\\\\\\\\\\\\\"}}, \\\\\\\\\\\\\\\"typeProperty\\\\\\\\\\\\\\\": 2}, {\\\\\\\\\\\\\\\"column\\\\\\\\\\\\\\\": {\\\\\\\\\\\\\\\"type\\\\\\\\\\\\\\\": 2, \\\\\\\\\\\\\\\"details\\\\\\\\\\\\\\\": {\\\\\\\\\\\\\\\"selectedColumn\\\\\\\\\\\\\\\": \\\\\\\\\\\\\\\"BMI\\\\\\\\\\\\\\\"}}, \\\\\\\\\\\\\\\"typeProperty\\\\\\\\\\\\\\\": 3}, {\\\\\\\\\\\\\\\"column\\\\\\\\\\\\\\\": {\\\\\\\\\\\\\\\"type\\\\\\\\\\\\\\\": 2, \\\\\\\\\\\\\\\"details\\\\\\\\\\\\\\\": {\\\\\\\\\\\\\\\"selectedColumn\\\\\\\\\\\\\\\": \\\\\\\\\\\\\\\"DiabetesPedigreeFunction\\\\\\\\\\\\\\\"}}, \\\\\\\\\\\\\\\"typeProperty\\\\\\\\\\\\\\\": 3}, {\\\\\\\\\\\\\\\"column\\\\\\\\\\\\\\\": {\\\\\\\\\\\\\\\"type\\\\\\\\\\\\\\\": 2, \\\\\\\\\\\\\\\"details\\\\\\\\\\\\\\\": {\\\\\\\\\\\\\\\"selectedColumn\\\\\\\\\\\\\\\": \\\\\\\\\\\\\\\"Age\\\\\\\\\\\\\\\"}}, \\\\\\\\\\\\\\\"typeProperty\\\\\\\\\\\\\\\": 2}, {\\\\\\\\\\\\\\\"column\\\\\\\\\\\\\\\": {\\\\\\\\\\\\\\\"type\\\\\\\\\\\\\\\": 2, \\\\\\\\\\\\\\\"details\\\\\\\\\\\\\\\": {\\\\\\\\\\\\\\\"selectedColumn\\\\\\\\\\\\\\\": \\\\\\\\\\\\\\\"Outcome\\\\\\\\\\\\\\\"}}, \\\\\\\\\\\\\\\"typeProperty\\\\\\\\\\\\\\\": 2}]}, \\\\\\\\\\\\\\\"localData\\\\\\\\\\\\\\\": {}, \\\\\\\\\\\\\\\"isEnabled\\\\\\\\\\\\\\\": true, \\\\\\\\\\\\\\\"name\\\\\\\\\\\\\\\": null, \\\\\\\\\\\\\\\"annotation\\\\\\\\\\\\\\\": null}], \\\\\\\\\\\\\\\"inspectors\\\\\\\\\\\\\\\": [], \\\\\\\\\\\\\\\"meta\\\\\\\\\\\\\\\": {\\\\\\\\\\\\\\\"savedDatasetId\\\\\\\\\\\\\\\": \\\\\\\\\\\\\\\"d0d52fd0-dd2f-460f-a6bc-206ad093ae51\\\\\\\\\\\\\\\", \\\\\\\\\\\\\\\"datasetType\\\\\\\\\\\\\\\": \\\\\\\\\\\\\\\"tabular\\\\\\\\\\\\\\\", \\\\\\\\\\\\\\\"subscriptionId\\\\\\\\\\\\\\\": \\\\\\\\\\\\\\\"9b72f9e6-56c5-4c16-991b-19c652994860\\\\\\\\\\\\\\\", \\\\\\\\\\\\\\\"workspaceId\\\\\\\\\\\\\\\": \\\\\\\\\\\\\\\"2d00efa9-743d-4abb-ae0a-7e2f2a0a211f\\\\\\\\\\\\\\\", \\\\\\\\\\\\\\\"workspaceLocation\\\\\\\\\\\\\\\": \\\\\\\\\\\\\\\"southcentralus\\\\\\\\\\\\\\\"}}\\\\\\\", \\\\\\\"activities\\\\\\\": 0}\", \"EnableSubsampling\": null, \"runTemplate\": \"AutoML\", \"azureml.runsource\": \"automl\", \"display_task_type\": \"classification\", \"dependencies_versions\": \"{\\\"azureml-widgets\\\": \\\"1.19.0\\\", \\\"azureml-train\\\": \\\"1.19.0\\\", \\\"azureml-train-restclients-hyperdrive\\\": \\\"1.19.0\\\", \\\"azureml-train-core\\\": \\\"1.19.0\\\", \\\"azureml-train-automl\\\": \\\"1.19.0\\\", \\\"azureml-train-automl-runtime\\\": \\\"1.19.0\\\", \\\"azureml-train-automl-client\\\": \\\"1.19.0\\\", \\\"azureml-tensorboard\\\": \\\"1.19.0\\\", \\\"azureml-telemetry\\\": \\\"1.19.0\\\", \\\"azureml-sdk\\\": \\\"1.19.0\\\", \\\"azureml-samples\\\": \\\"0+unknown\\\", \\\"azureml-pipeline\\\": \\\"1.19.0\\\", \\\"azureml-pipeline-steps\\\": \\\"1.19.0\\\", \\\"azureml-pipeline-core\\\": \\\"1.19.0\\\", \\\"azureml-opendatasets\\\": \\\"1.19.0\\\", \\\"azureml-model-management-sdk\\\": \\\"1.0.1b6.post1\\\", \\\"azureml-mlflow\\\": \\\"1.19.0\\\", \\\"azureml-interpret\\\": \\\"1.19.0\\\", \\\"azureml-explain-model\\\": \\\"1.19.0\\\", \\\"azureml-defaults\\\": \\\"1.19.0\\\", \\\"azureml-dataset-runtime\\\": \\\"1.19.0\\\", \\\"azureml-dataprep\\\": \\\"2.6.1\\\", \\\"azureml-dataprep-rslex\\\": \\\"1.4.0\\\", \\\"azureml-dataprep-native\\\": \\\"26.0.0\\\", \\\"azureml-datadrift\\\": \\\"1.19.0\\\", \\\"azureml-core\\\": \\\"1.19.0\\\", \\\"azureml-contrib-services\\\": \\\"1.19.0\\\", \\\"azureml-contrib-server\\\": \\\"1.19.0\\\", \\\"azureml-contrib-reinforcementlearning\\\": \\\"1.19.0\\\", \\\"azureml-contrib-pipeline-steps\\\": \\\"1.19.0\\\", \\\"azureml-contrib-notebook\\\": \\\"1.19.0\\\", \\\"azureml-contrib-interpret\\\": \\\"1.19.0\\\", \\\"azureml-contrib-gbdt\\\": \\\"1.19.0\\\", \\\"azureml-contrib-fairness\\\": \\\"1.19.0\\\", \\\"azureml-contrib-dataset\\\": \\\"1.19.0\\\", \\\"azureml-cli-common\\\": \\\"1.19.0\\\", \\\"azureml-automl-runtime\\\": \\\"1.19.0\\\", \\\"azureml-automl-core\\\": \\\"1.19.0\\\", \\\"azureml-accel-models\\\": \\\"1.19.0\\\"}\", \"_aml_system_scenario_identification\": \"Remote.Parent\", \"ClientType\": \"SDK\", \"environment_cpu_name\": \"AzureML-AutoML\", \"environment_cpu_label\": \"prod\", \"environment_gpu_name\": \"AzureML-AutoML-GPU\", \"environment_gpu_label\": \"prod\", \"root_attribution\": \"automl\", \"attribution\": \"AutoML\", \"Orchestrator\": \"AutoML\", \"CancelUri\": \"https://southcentralus.experiments.azureml.net/jasmine/v1.0/subscriptions/9b72f9e6-56c5-4c16-991b-19c652994860/resourceGroups/aml-quickstarts-131753/providers/Microsoft.MachineLearningServices/workspaces/quick-starts-ws-131753/experimentids/4fb98858-5092-42f3-ae31-bd8c1a9d6ce7/cancel/AutoML_bc2e3412-0fa5-4deb-a995-cba4daef2ede\", \"ClientSdkVersion\": \"1.19.0\", \"snapshotId\": \"00000000-0000-0000-0000-000000000000\", \"SetupRunId\": \"AutoML_bc2e3412-0fa5-4deb-a995-cba4daef2ede_setup\", \"SetupRunContainerId\": \"dcid.AutoML_bc2e3412-0fa5-4deb-a995-cba4daef2ede_setup\", \"FeaturizationRunJsonPath\": \"featurizer_container.json\", \"FeaturizationRunId\": \"AutoML_bc2e3412-0fa5-4deb-a995-cba4daef2ede_featurize\", \"ProblemInfoJsonString\": \"{\\\"dataset_num_categorical\\\": 0, \\\"is_sparse\\\": false, \\\"subsampling\\\": false, \\\"dataset_classes\\\": 2, \\\"dataset_features\\\": 8, \\\"dataset_samples\\\": 537, \\\"single_frequency_class_detected\\\": false}\", \"ModelExplainRunId\": \"AutoML_bc2e3412-0fa5-4deb-a995-cba4daef2ede_ModelExplain\"}, \"tags\": {\"model_explain_run\": \"best_run\", \"_aml_system_azureml.automlComponent\": \"AutoML\", \"pipeline_id\": \"\", \"score\": \"\", \"predicted_cost\": \"\", \"fit_time\": \"\", \"training_percent\": \"\", \"iteration\": \"\", \"run_preprocessor\": \"\", \"run_algorithm\": \"\", \"dynamic_whitelisting_iterations\": \"<25>;<30>;<35>;\", \"automl_best_child_run_id\": \"AutoML_bc2e3412-0fa5-4deb-a995-cba4daef2ede_36\"}, \"end_time_utc\": \"2020-12-25T20:12:59.528726Z\", \"status\": \"Completed\", \"log_files\": {}, \"log_groups\": [], \"run_duration\": \"0:17:15\"}, \"child_runs\": [{\"run_id\": \"AutoML_bc2e3412-0fa5-4deb-a995-cba4daef2ede_2\", \"run_number\": 5, \"metric\": null, \"status\": \"Completed\", \"run_type\": \"azureml.scriptrun\", \"training_percent\": \"100\", \"start_time\": \"2020-12-25T20:00:02.291654Z\", \"end_time\": \"2020-12-25T20:01:47.010056Z\", \"created_time\": \"2020-12-25T19:59:47.047392Z\", \"created_time_dt\": \"2020-12-25T19:59:47.047392Z\", \"duration\": \"0:01:59\", \"iteration\": \"2\", \"goal\": \"accuracy_max\", \"run_name\": \"MinMaxScaler, RandomForest\", \"run_properties\": \"copy=True, feature_range=(0, 1\", \"primary_metric\": 0.75605214, \"best_metric\": 0.75605214}, {\"run_id\": \"AutoML_bc2e3412-0fa5-4deb-a995-cba4daef2ede_0\", \"run_number\": 6, \"metric\": null, \"status\": \"Completed\", \"run_type\": \"azureml.scriptrun\", \"training_percent\": \"100\", \"start_time\": \"2020-12-25T20:00:03.357604Z\", \"end_time\": \"2020-12-25T20:01:05.808922Z\", \"created_time\": \"2020-12-25T19:59:47.033171Z\", \"created_time_dt\": \"2020-12-25T19:59:47.033171Z\", \"duration\": \"0:01:18\", \"iteration\": \"0\", \"goal\": \"accuracy_max\", \"run_name\": \"MaxAbsScaler, LightGBM\", \"run_properties\": \"copy=True\", \"primary_metric\": 0.74860335, \"best_metric\": 0.74860335}, {\"run_id\": \"AutoML_bc2e3412-0fa5-4deb-a995-cba4daef2ede_3\", \"run_number\": 7, \"metric\": null, \"status\": \"Completed\", \"run_type\": \"azureml.scriptrun\", \"training_percent\": \"100\", \"start_time\": \"2020-12-25T20:00:01.52748Z\", \"end_time\": \"2020-12-25T20:01:01.889229Z\", \"created_time\": \"2020-12-25T19:59:47.070413Z\", \"created_time_dt\": \"2020-12-25T19:59:47.070413Z\", \"duration\": \"0:01:14\", \"iteration\": \"3\", \"goal\": \"accuracy_max\", \"run_name\": \"MinMaxScaler, RandomForest\", \"run_properties\": \"copy=True, feature_range=(0, 1\", \"primary_metric\": 0.75791434, \"best_metric\": 0.75791434}, {\"run_id\": \"AutoML_bc2e3412-0fa5-4deb-a995-cba4daef2ede_1\", \"run_number\": 8, \"metric\": null, \"status\": \"Completed\", \"run_type\": \"azureml.scriptrun\", \"training_percent\": \"100\", \"start_time\": \"2020-12-25T20:00:01.562965Z\", \"end_time\": \"2020-12-25T20:01:13.234178Z\", \"created_time\": \"2020-12-25T19:59:47.081559Z\", \"created_time_dt\": \"2020-12-25T19:59:47.081559Z\", \"duration\": \"0:01:26\", \"iteration\": \"1\", \"goal\": \"accuracy_max\", \"run_name\": \"MaxAbsScaler, XGBoostClassifier\", \"run_properties\": \"copy=True\", \"primary_metric\": 0.75232775, \"best_metric\": 0.75232775}, {\"run_id\": \"AutoML_bc2e3412-0fa5-4deb-a995-cba4daef2ede_4\", \"run_number\": 9, \"metric\": null, \"status\": \"Completed\", \"run_type\": \"azureml.scriptrun\", \"training_percent\": \"100\", \"start_time\": \"2020-12-25T20:01:20.713342Z\", \"end_time\": \"2020-12-25T20:02:15.847457Z\", \"created_time\": \"2020-12-25T20:01:06.331253Z\", \"created_time_dt\": \"2020-12-25T20:01:06.331253Z\", \"duration\": \"0:01:09\", \"iteration\": \"4\", \"goal\": \"accuracy_max\", \"run_name\": \"MinMaxScaler, RandomForest\", \"run_properties\": \"copy=True, feature_range=(0, 1\", \"primary_metric\": 0.78212291, \"best_metric\": 0.78212291}, {\"run_id\": \"AutoML_bc2e3412-0fa5-4deb-a995-cba4daef2ede_5\", \"run_number\": 10, \"metric\": null, \"status\": \"Completed\", \"run_type\": \"azureml.scriptrun\", \"training_percent\": \"100\", \"start_time\": \"2020-12-25T20:01:26.458574Z\", \"end_time\": \"2020-12-25T20:02:21.164851Z\", \"created_time\": \"2020-12-25T20:01:13.750764Z\", \"created_time_dt\": \"2020-12-25T20:01:13.750764Z\", \"duration\": \"0:01:07\", \"iteration\": \"5\", \"goal\": \"accuracy_max\", \"run_name\": \"StandardScalerWrapper, XGBoostClassifier\", \"run_properties\": \"<azureml.automl.runtime.shared.model_wrappers.StandardScalerWrapper object at 0x7f271fa6c978\", \"primary_metric\": 0.69832402, \"best_metric\": 0.78212291}, {\"run_id\": \"AutoML_bc2e3412-0fa5-4deb-a995-cba4daef2ede_6\", \"run_number\": 11, \"metric\": null, \"status\": \"Completed\", \"run_type\": \"azureml.scriptrun\", \"training_percent\": \"100\", \"start_time\": \"2020-12-25T20:01:34.175978Z\", \"end_time\": \"2020-12-25T20:03:02.943388Z\", \"created_time\": \"2020-12-25T20:01:21.614794Z\", \"created_time_dt\": \"2020-12-25T20:01:21.614794Z\", \"duration\": \"0:01:41\", \"iteration\": \"6\", \"goal\": \"accuracy_max\", \"run_name\": \"StandardScalerWrapper, GradientBoosting\", \"run_properties\": \"<azureml.automl.runtime.shared.model_wrappers.StandardScalerWrapper object at 0x7f9475408a58\", \"primary_metric\": 0.76350093, \"best_metric\": 0.78212291}, {\"run_id\": \"AutoML_bc2e3412-0fa5-4deb-a995-cba4daef2ede_7\", \"run_number\": 12, \"metric\": null, \"status\": \"Completed\", \"run_type\": \"azureml.scriptrun\", \"training_percent\": \"100\", \"start_time\": \"2020-12-25T20:02:04.794747Z\", \"end_time\": \"2020-12-25T20:03:06.435416Z\", \"created_time\": \"2020-12-25T20:01:50.804132Z\", \"created_time_dt\": \"2020-12-25T20:01:50.804132Z\", \"duration\": \"0:01:15\", \"iteration\": \"7\", \"goal\": \"accuracy_max\", \"run_name\": \"MinMaxScaler, SVM\", \"run_properties\": \"copy=True, feature_range=(0, 1\", \"primary_metric\": 0.73184358, \"best_metric\": 0.78212291}, {\"run_id\": \"AutoML_bc2e3412-0fa5-4deb-a995-cba4daef2ede_8\", \"run_number\": 13, \"metric\": null, \"status\": \"Completed\", \"run_type\": \"azureml.scriptrun\", \"training_percent\": \"100\", \"start_time\": \"2020-12-25T20:02:37.128294Z\", \"end_time\": \"2020-12-25T20:03:29.549975Z\", \"created_time\": \"2020-12-25T20:02:19.438837Z\", \"created_time_dt\": \"2020-12-25T20:02:19.438837Z\", \"duration\": \"0:01:10\", \"iteration\": \"8\", \"goal\": \"accuracy_max\", \"run_name\": \"SparseNormalizer, XGBoostClassifier\", \"run_properties\": \"<azureml.automl.runtime.shared.model_wrappers.SparseNormalizer object at 0x7ff588506b70\", \"primary_metric\": 0.68715084, \"best_metric\": 0.78212291}, {\"run_id\": \"AutoML_bc2e3412-0fa5-4deb-a995-cba4daef2ede_9\", \"run_number\": 14, \"metric\": null, \"status\": \"Completed\", \"run_type\": \"azureml.scriptrun\", \"training_percent\": \"100\", \"start_time\": \"2020-12-25T20:02:42.568117Z\", \"end_time\": \"2020-12-25T20:03:29.720382Z\", \"created_time\": \"2020-12-25T20:02:27.732909Z\", \"created_time_dt\": \"2020-12-25T20:02:27.732909Z\", \"duration\": \"0:01:01\", \"iteration\": \"9\", \"goal\": \"accuracy_max\", \"run_name\": \"SparseNormalizer, XGBoostClassifier\", \"run_properties\": \"<azureml.automl.runtime.shared.model_wrappers.SparseNormalizer object at 0x7f8e9543cb00\", \"primary_metric\": 0.67783985, \"best_metric\": 0.78212291}, {\"run_id\": \"AutoML_bc2e3412-0fa5-4deb-a995-cba4daef2ede_10\", \"run_number\": 15, \"metric\": null, \"status\": \"Completed\", \"run_type\": \"azureml.scriptrun\", \"training_percent\": \"100\", \"start_time\": \"2020-12-25T20:03:18.997694Z\", \"end_time\": \"2020-12-25T20:04:11.01322Z\", \"created_time\": \"2020-12-25T20:03:06.031306Z\", \"created_time_dt\": \"2020-12-25T20:03:06.031306Z\", \"duration\": \"0:01:04\", \"iteration\": \"10\", \"goal\": \"accuracy_max\", \"run_name\": \"StandardScalerWrapper, RandomForest\", \"run_properties\": \"<azureml.automl.runtime.shared.model_wrappers.StandardScalerWrapper object at 0x7fe307374c18\", \"primary_metric\": 0.75046555, \"best_metric\": 0.78212291}, {\"run_id\": \"AutoML_bc2e3412-0fa5-4deb-a995-cba4daef2ede_11\", \"run_number\": 16, \"metric\": null, \"status\": \"Completed\", \"run_type\": \"azureml.scriptrun\", \"training_percent\": \"100\", \"start_time\": \"2020-12-25T20:03:25.839816Z\", \"end_time\": \"2020-12-25T20:04:14.736271Z\", \"created_time\": \"2020-12-25T20:03:11.585357Z\", \"created_time_dt\": \"2020-12-25T20:03:11.585357Z\", \"duration\": \"0:01:03\", \"iteration\": \"11\", \"goal\": \"accuracy_max\", \"run_name\": \"StandardScalerWrapper, LightGBM\", \"run_properties\": \"<azureml.automl.runtime.shared.model_wrappers.StandardScalerWrapper object at 0x7f90a33406d8\", \"primary_metric\": 0.75418994, \"best_metric\": 0.78212291}, {\"run_id\": \"AutoML_bc2e3412-0fa5-4deb-a995-cba4daef2ede_12\", \"run_number\": 17, \"metric\": null, \"status\": \"Completed\", \"run_type\": \"azureml.scriptrun\", \"training_percent\": \"100\", \"start_time\": \"2020-12-25T20:03:44.052573Z\", \"end_time\": \"2020-12-25T20:04:34.765906Z\", \"created_time\": \"2020-12-25T20:03:32.101849Z\", \"created_time_dt\": \"2020-12-25T20:03:32.101849Z\", \"duration\": \"0:01:02\", \"iteration\": \"12\", \"goal\": \"accuracy_max\", \"run_name\": \"MaxAbsScaler, LightGBM\", \"run_properties\": \"copy=True\", \"primary_metric\": 0.73929236, \"best_metric\": 0.78212291}, {\"run_id\": \"AutoML_bc2e3412-0fa5-4deb-a995-cba4daef2ede_13\", \"run_number\": 18, \"metric\": null, \"status\": \"Completed\", \"run_type\": \"azureml.scriptrun\", \"training_percent\": \"100\", \"start_time\": \"2020-12-25T20:03:43.802389Z\", \"end_time\": \"2020-12-25T20:04:46.354058Z\", \"created_time\": \"2020-12-25T20:03:32.52033Z\", \"created_time_dt\": \"2020-12-25T20:03:32.52033Z\", \"duration\": \"0:01:13\", \"iteration\": \"13\", \"goal\": \"accuracy_max\", \"run_name\": \"MinMaxScaler, LightGBM\", \"run_properties\": \"copy=True, feature_range=(0, 1\", \"primary_metric\": 0.75232775, \"best_metric\": 0.78212291}, {\"run_id\": \"AutoML_bc2e3412-0fa5-4deb-a995-cba4daef2ede_14\", \"run_number\": 19, \"metric\": null, \"status\": \"Completed\", \"run_type\": \"azureml.scriptrun\", \"training_percent\": \"100\", \"start_time\": \"2020-12-25T20:04:30.507695Z\", \"end_time\": \"2020-12-25T20:05:25.403346Z\", \"created_time\": \"2020-12-25T20:04:15.10709Z\", \"created_time_dt\": \"2020-12-25T20:04:15.10709Z\", \"duration\": \"0:01:10\", \"iteration\": \"14\", \"goal\": \"accuracy_max\", \"run_name\": \"RobustScaler, ExtremeRandomTrees\", \"run_properties\": \"copy=True, quantile_range=[10, 90], with_centering=True,\\n             with_scaling=False\", \"primary_metric\": 0.75232775, \"best_metric\": 0.78212291}, {\"run_id\": \"AutoML_bc2e3412-0fa5-4deb-a995-cba4daef2ede_15\", \"run_number\": 20, \"metric\": null, \"status\": \"Completed\", \"run_type\": \"azureml.scriptrun\", \"training_percent\": \"100\", \"start_time\": \"2020-12-25T20:04:34.70054Z\", \"end_time\": \"2020-12-25T20:05:38.051037Z\", \"created_time\": \"2020-12-25T20:04:21.713143Z\", \"created_time_dt\": \"2020-12-25T20:04:21.713143Z\", \"duration\": \"0:01:16\", \"iteration\": \"15\", \"goal\": \"accuracy_max\", \"run_name\": \"MaxAbsScaler, ExtremeRandomTrees\", \"run_properties\": \"copy=True\", \"primary_metric\": 0.75046555, \"best_metric\": 0.78212291}, {\"run_id\": \"AutoML_bc2e3412-0fa5-4deb-a995-cba4daef2ede_16\", \"run_number\": 21, \"metric\": null, \"status\": \"Completed\", \"run_type\": \"azureml.scriptrun\", \"training_percent\": \"100\", \"start_time\": \"2020-12-25T20:04:52.000395Z\", \"end_time\": \"2020-12-25T20:05:43.650717Z\", \"created_time\": \"2020-12-25T20:04:38.196912Z\", \"created_time_dt\": \"2020-12-25T20:04:38.196912Z\", \"duration\": \"0:01:05\", \"iteration\": \"16\", \"goal\": \"accuracy_max\", \"run_name\": \"MaxAbsScaler, LightGBM\", \"run_properties\": \"copy=True\", \"primary_metric\": 0.74674115, \"best_metric\": 0.78212291}, {\"run_id\": \"AutoML_bc2e3412-0fa5-4deb-a995-cba4daef2ede_17\", \"run_number\": 22, \"metric\": null, \"status\": \"Completed\", \"run_type\": \"azureml.scriptrun\", \"training_percent\": \"100\", \"start_time\": \"2020-12-25T20:05:02.677549Z\", \"end_time\": \"2020-12-25T20:06:30.010608Z\", \"created_time\": \"2020-12-25T20:04:49.488793Z\", \"created_time_dt\": \"2020-12-25T20:04:49.488793Z\", \"duration\": \"0:01:40\", \"iteration\": \"17\", \"goal\": \"accuracy_max\", \"run_name\": \"MaxAbsScaler, LightGBM\", \"run_properties\": \"copy=True\", \"primary_metric\": 0.74301676, \"best_metric\": 0.78212291}, {\"run_id\": \"AutoML_bc2e3412-0fa5-4deb-a995-cba4daef2ede_18\", \"run_number\": 23, \"metric\": null, \"status\": \"Completed\", \"run_type\": \"azureml.scriptrun\", \"training_percent\": \"100\", \"start_time\": \"2020-12-25T20:05:41.656506Z\", \"end_time\": \"2020-12-25T20:06:35.483687Z\", \"created_time\": \"2020-12-25T20:05:28.975575Z\", \"created_time_dt\": \"2020-12-25T20:05:28.975575Z\", \"duration\": \"0:01:06\", \"iteration\": \"18\", \"goal\": \"accuracy_max\", \"run_name\": \"MaxAbsScaler, GradientBoosting\", \"run_properties\": \"copy=True\", \"primary_metric\": 0.75232775, \"best_metric\": 0.78212291}, {\"run_id\": \"AutoML_bc2e3412-0fa5-4deb-a995-cba4daef2ede_19\", \"run_number\": 24, \"metric\": null, \"status\": \"Completed\", \"run_type\": \"azureml.scriptrun\", \"training_percent\": \"100\", \"start_time\": \"2020-12-25T20:05:55.122746Z\", \"end_time\": \"2020-12-25T20:06:58.887936Z\", \"created_time\": \"2020-12-25T20:05:41.969882Z\", \"created_time_dt\": \"2020-12-25T20:05:41.969882Z\", \"duration\": \"0:01:16\", \"iteration\": \"19\", \"goal\": \"accuracy_max\", \"run_name\": \"SparseNormalizer, XGBoostClassifier\", \"run_properties\": \"<azureml.automl.runtime.shared.model_wrappers.SparseNormalizer object at 0x7f56fc5d2cf8\", \"primary_metric\": 0.67970205, \"best_metric\": 0.78212291}, {\"run_id\": \"AutoML_bc2e3412-0fa5-4deb-a995-cba4daef2ede_20\", \"run_number\": 25, \"metric\": null, \"status\": \"Completed\", \"run_type\": \"azureml.scriptrun\", \"training_percent\": \"100\", \"start_time\": \"2020-12-25T20:06:02.068817Z\", \"end_time\": \"2020-12-25T20:06:58.567549Z\", \"created_time\": \"2020-12-25T20:05:48.902876Z\", \"created_time_dt\": \"2020-12-25T20:05:48.902876Z\", \"duration\": \"0:01:09\", \"iteration\": \"20\", \"goal\": \"accuracy_max\", \"run_name\": \"MaxAbsScaler, LightGBM\", \"run_properties\": \"copy=True\", \"primary_metric\": 0.74674115, \"best_metric\": 0.78212291}, {\"run_id\": \"AutoML_bc2e3412-0fa5-4deb-a995-cba4daef2ede_21\", \"run_number\": 26, \"metric\": null, \"status\": \"Completed\", \"run_type\": \"azureml.scriptrun\", \"training_percent\": \"100\", \"start_time\": \"2020-12-25T20:06:50.738852Z\", \"end_time\": \"2020-12-25T20:07:53.663371Z\", \"created_time\": \"2020-12-25T20:06:33.716958Z\", \"created_time_dt\": \"2020-12-25T20:06:33.716958Z\", \"duration\": \"0:01:19\", \"iteration\": \"21\", \"goal\": \"accuracy_max\", \"run_name\": \"SparseNormalizer, XGBoostClassifier\", \"run_properties\": \"<azureml.automl.runtime.shared.model_wrappers.SparseNormalizer object at 0x7fc382fc8908\", \"primary_metric\": 0.67225326, \"best_metric\": 0.78212291}, {\"run_id\": \"AutoML_bc2e3412-0fa5-4deb-a995-cba4daef2ede_22\", \"run_number\": 27, \"metric\": null, \"status\": \"Completed\", \"run_type\": \"azureml.scriptrun\", \"training_percent\": \"100\", \"start_time\": \"2020-12-25T20:06:54.161018Z\", \"end_time\": \"2020-12-25T20:07:50.967595Z\", \"created_time\": \"2020-12-25T20:06:41.126812Z\", \"created_time_dt\": \"2020-12-25T20:06:41.126812Z\", \"duration\": \"0:01:09\", \"iteration\": \"22\", \"goal\": \"accuracy_max\", \"run_name\": \"SparseNormalizer, XGBoostClassifier\", \"run_properties\": \"<azureml.automl.runtime.shared.model_wrappers.SparseNormalizer object at 0x7f54185f1f60\", \"primary_metric\": 0.67783985, \"best_metric\": 0.78212291}, {\"run_id\": \"AutoML_bc2e3412-0fa5-4deb-a995-cba4daef2ede_24\", \"run_number\": 28, \"metric\": null, \"status\": \"Completed\", \"run_type\": \"azureml.scriptrun\", \"training_percent\": \"100\", \"start_time\": \"2020-12-25T20:07:15.343675Z\", \"end_time\": \"2020-12-25T20:08:15.586005Z\", \"created_time\": \"2020-12-25T20:07:02.529307Z\", \"created_time_dt\": \"2020-12-25T20:07:02.529307Z\", \"duration\": \"0:01:13\", \"iteration\": \"24\", \"goal\": \"accuracy_max\", \"run_name\": \"StandardScalerWrapper, LightGBM\", \"run_properties\": \"<azureml.automl.runtime.shared.model_wrappers.StandardScalerWrapper object at 0x7f455a2f6a58\", \"primary_metric\": 0.76350093, \"best_metric\": 0.78212291}, {\"run_id\": \"AutoML_bc2e3412-0fa5-4deb-a995-cba4daef2ede_23\", \"run_number\": 29, \"metric\": null, \"status\": \"Completed\", \"run_type\": \"azureml.scriptrun\", \"training_percent\": \"100\", \"start_time\": \"2020-12-25T20:07:29.898829Z\", \"end_time\": \"2020-12-25T20:08:13.201365Z\", \"created_time\": \"2020-12-25T20:07:02.584821Z\", \"created_time_dt\": \"2020-12-25T20:07:02.584821Z\", \"duration\": \"0:01:10\", \"iteration\": \"23\", \"goal\": \"accuracy_max\", \"run_name\": \"StandardScalerWrapper, SVM\", \"run_properties\": \"<azureml.automl.runtime.shared.model_wrappers.StandardScalerWrapper object at 0x7fecb0e63cf8\", \"primary_metric\": 0.69646182, \"best_metric\": 0.78212291}, {\"run_id\": \"AutoML_bc2e3412-0fa5-4deb-a995-cba4daef2ede_25\", \"run_number\": 30, \"metric\": null, \"status\": \"Completed\", \"run_type\": \"azureml.scriptrun\", \"training_percent\": \"100\", \"start_time\": \"2020-12-25T20:08:09.876817Z\", \"end_time\": \"2020-12-25T20:09:10.461296Z\", \"created_time\": \"2020-12-25T20:07:55.310483Z\", \"created_time_dt\": \"2020-12-25T20:07:55.310483Z\", \"duration\": \"0:01:15\", \"iteration\": \"25\", \"goal\": \"accuracy_max\", \"run_name\": \"MaxAbsScaler, RandomForest\", \"run_properties\": \"copy=True\", \"primary_metric\": 0.74301676, \"best_metric\": 0.78212291}, {\"run_id\": \"AutoML_bc2e3412-0fa5-4deb-a995-cba4daef2ede_26\", \"run_number\": 31, \"metric\": null, \"status\": \"Completed\", \"run_type\": \"azureml.scriptrun\", \"training_percent\": \"100\", \"start_time\": \"2020-12-25T20:08:14.178935Z\", \"end_time\": \"2020-12-25T20:09:06.826758Z\", \"created_time\": \"2020-12-25T20:08:01.369979Z\", \"created_time_dt\": \"2020-12-25T20:08:01.369979Z\", \"duration\": \"0:01:05\", \"iteration\": \"26\", \"goal\": \"accuracy_max\", \"run_name\": \"MaxAbsScaler, RandomForest\", \"run_properties\": \"copy=True\", \"primary_metric\": 0.75418994, \"best_metric\": 0.78212291}, {\"run_id\": \"AutoML_bc2e3412-0fa5-4deb-a995-cba4daef2ede_27\", \"run_number\": 32, \"metric\": null, \"status\": \"Completed\", \"run_type\": \"azureml.scriptrun\", \"training_percent\": \"100\", \"start_time\": \"2020-12-25T20:08:29.112067Z\", \"end_time\": \"2020-12-25T20:09:26.617694Z\", \"created_time\": \"2020-12-25T20:08:16.088061Z\", \"created_time_dt\": \"2020-12-25T20:08:16.088061Z\", \"duration\": \"0:01:10\", \"iteration\": \"27\", \"goal\": \"accuracy_max\", \"run_name\": \"StandardScalerWrapper, ExtremeRandomTrees\", \"run_properties\": \"<azureml.automl.runtime.shared.model_wrappers.StandardScalerWrapper object at 0x7f512f012208\", \"primary_metric\": 0.75418994, \"best_metric\": 0.78212291}, {\"run_id\": \"AutoML_bc2e3412-0fa5-4deb-a995-cba4daef2ede_28\", \"run_number\": 33, \"metric\": null, \"status\": \"Completed\", \"run_type\": \"azureml.scriptrun\", \"training_percent\": \"100\", \"start_time\": \"2020-12-25T20:08:33.981245Z\", \"end_time\": \"2020-12-25T20:09:25.164862Z\", \"created_time\": \"2020-12-25T20:08:21.479018Z\", \"created_time_dt\": \"2020-12-25T20:08:21.479018Z\", \"duration\": \"0:01:03\", \"iteration\": \"28\", \"goal\": \"accuracy_max\", \"run_name\": \"MaxAbsScaler, LightGBM\", \"run_properties\": \"copy=True\", \"primary_metric\": 0.75232775, \"best_metric\": 0.78212291}, {\"run_id\": \"AutoML_bc2e3412-0fa5-4deb-a995-cba4daef2ede_29\", \"run_number\": 34, \"metric\": null, \"status\": \"Completed\", \"run_type\": \"azureml.scriptrun\", \"training_percent\": \"100\", \"start_time\": \"2020-12-25T20:09:27.932769Z\", \"end_time\": \"2020-12-25T20:10:33.702065Z\", \"created_time\": \"2020-12-25T20:09:09.270918Z\", \"created_time_dt\": \"2020-12-25T20:09:09.270918Z\", \"duration\": \"0:01:24\", \"iteration\": \"29\", \"goal\": \"accuracy_max\", \"run_name\": \"StandardScalerWrapper, LightGBM\", \"run_properties\": \"<azureml.automl.runtime.shared.model_wrappers.StandardScalerWrapper object at 0x7f89b03854e0\", \"primary_metric\": 0.75232775, \"best_metric\": 0.78212291}, {\"run_id\": \"AutoML_bc2e3412-0fa5-4deb-a995-cba4daef2ede_30\", \"run_number\": 35, \"metric\": null, \"status\": \"Completed\", \"run_type\": \"azureml.scriptrun\", \"training_percent\": \"100\", \"start_time\": \"2020-12-25T20:09:28.190616Z\", \"end_time\": \"2020-12-25T20:10:21.461077Z\", \"created_time\": \"2020-12-25T20:09:15.875646Z\", \"created_time_dt\": \"2020-12-25T20:09:15.875646Z\", \"duration\": \"0:01:05\", \"iteration\": \"30\", \"goal\": \"accuracy_max\", \"run_name\": \"MinMaxScaler, RandomForest\", \"run_properties\": \"copy=True, feature_range=(0, 1\", \"primary_metric\": 0.7132216, \"best_metric\": 0.78212291}, {\"run_id\": \"AutoML_bc2e3412-0fa5-4deb-a995-cba4daef2ede_31\", \"run_number\": 36, \"metric\": null, \"status\": \"Completed\", \"run_type\": \"azureml.scriptrun\", \"training_percent\": \"100\", \"start_time\": \"2020-12-25T20:09:40.451062Z\", \"end_time\": \"2020-12-25T20:10:38.012561Z\", \"created_time\": \"2020-12-25T20:09:27.68864Z\", \"created_time_dt\": \"2020-12-25T20:09:27.68864Z\", \"duration\": \"0:01:10\", \"iteration\": \"31\", \"goal\": \"accuracy_max\", \"run_name\": \"MaxAbsScaler, LogisticRegression\", \"run_properties\": \"copy=True\", \"primary_metric\": 0.75418994, \"best_metric\": 0.78212291}, {\"run_id\": \"AutoML_bc2e3412-0fa5-4deb-a995-cba4daef2ede_32\", \"run_number\": 37, \"metric\": null, \"status\": \"Completed\", \"run_type\": \"azureml.scriptrun\", \"training_percent\": \"100\", \"start_time\": \"2020-12-25T20:09:45.951405Z\", \"end_time\": \"2020-12-25T20:11:06.565889Z\", \"created_time\": \"2020-12-25T20:09:32.958552Z\", \"created_time_dt\": \"2020-12-25T20:09:32.958552Z\", \"duration\": \"0:01:33\", \"iteration\": \"32\", \"goal\": \"accuracy_max\", \"run_name\": \"MaxAbsScaler, LightGBM\", \"run_properties\": \"copy=True\", \"primary_metric\": 0.74674115, \"best_metric\": 0.78212291}, {\"run_id\": \"AutoML_bc2e3412-0fa5-4deb-a995-cba4daef2ede_33\", \"run_number\": 38, \"metric\": null, \"status\": \"Canceled\", \"run_type\": \"azureml.scriptrun\", \"training_percent\": \"100\", \"start_time\": \"2020-12-25T20:10:41.074089Z\", \"end_time\": \"2020-12-25T20:11:15.564154Z\", \"created_time\": \"2020-12-25T20:10:24.277751Z\", \"created_time_dt\": \"2020-12-25T20:10:24.277751Z\", \"duration\": \"0:00:51\", \"iteration\": \"33\", \"goal\": null, \"run_name\": \"RobustScaler, LightGBM\", \"run_properties\": null}, {\"run_id\": \"AutoML_bc2e3412-0fa5-4deb-a995-cba4daef2ede_34\", \"run_number\": 39, \"metric\": null, \"status\": \"Canceled\", \"run_type\": \"azureml.scriptrun\", \"training_percent\": \"100\", \"start_time\": \"2020-12-25T20:10:47.279132Z\", \"end_time\": \"2020-12-25T20:11:13.325864Z\", \"created_time\": \"2020-12-25T20:10:36.12759Z\", \"created_time_dt\": \"2020-12-25T20:10:36.12759Z\", \"duration\": \"0:00:37\", \"iteration\": \"34\", \"goal\": null, \"run_name\": \"StandardScalerWrapper, XGBoostClassifier\", \"run_properties\": null}, {\"run_id\": \"AutoML_bc2e3412-0fa5-4deb-a995-cba4daef2ede_35\", \"run_number\": 40, \"metric\": null, \"status\": \"Canceled\", \"run_type\": \"azureml.scriptrun\", \"training_percent\": \"100\", \"start_time\": \"2020-12-25T20:10:53.007342Z\", \"end_time\": \"2020-12-25T20:11:14.200538Z\", \"created_time\": \"2020-12-25T20:10:41.705067Z\", \"created_time_dt\": \"2020-12-25T20:10:41.705067Z\", \"duration\": \"0:00:32\", \"iteration\": \"35\", \"goal\": null, \"run_name\": \"Canceled\", \"run_properties\": null}, {\"run_id\": \"AutoML_bc2e3412-0fa5-4deb-a995-cba4daef2ede_36\", \"run_number\": 41, \"metric\": null, \"status\": \"Completed\", \"run_type\": \"azureml.scriptrun\", \"training_percent\": \"100\", \"start_time\": \"2020-12-25T20:11:33.240998Z\", \"end_time\": \"2020-12-25T20:12:52.129193Z\", \"created_time\": \"2020-12-25T20:11:17.308547Z\", \"created_time_dt\": \"2020-12-25T20:11:17.308547Z\", \"duration\": \"0:01:34\", \"iteration\": \"36\", \"goal\": \"accuracy_max\", \"run_name\": \"VotingEnsemble\", \"run_properties\": \"classification_labels=None,\\n                              estimators=[('4',\\n                                           Pipeline(memory=None,\\n                                                    steps=[('minmaxscaler',\\n                                                            MinMaxScaler(copy=True,\\n                                                                         feature_range=(0,\\n                                                                                        1\", \"primary_metric\": 0.78212291, \"best_metric\": 0.78212291}], \"children_metrics\": {\"categories\": [0], \"series\": {\"average_precision_score_micro\": [{\"categories\": [\"0\", \"1\", \"2\", \"3\", \"4\", \"5\", \"6\", \"7\", \"8\", \"9\", \"10\", \"11\", \"12\", \"13\", \"14\", \"15\", \"16\", \"17\", \"18\", \"19\", \"20\", \"21\", \"22\", \"23\", \"24\", \"25\", \"26\", \"27\", \"28\", \"29\", \"30\", \"31\", \"32\", \"36\"], \"mode\": \"markers\", \"name\": \"average_precision_score_micro\", \"stepped\": false, \"type\": \"scatter\", \"data\": [0.8288030240058578, 0.8440569969220637, 0.8433585814481086, 0.8382319564623968, 0.8356640219779631, 0.7937071673339026, 0.8498373080158711, 0.7881401143009334, 0.7498334718737344, 0.7158666234906713, 0.8392896881908422, 0.846461704574741, 0.8400544435358793, 0.8434220982673448, 0.8466710541344368, 0.8461727993382268, 0.829275439565178, 0.8238378010127864, 0.8456274323236223, 0.730911258547414, 0.8096736491319678, 0.7565940542650057, 0.7394063211205472, 0.7100293994655106, 0.8468701075083018, 0.79302334117692, 0.8413857795764166, 0.8313101927428937, 0.843255214990874, 0.8231014604947301, 0.805527822083259, 0.8165097592888747, 0.8323222054291826, 0.8507277651459367]}, {\"categories\": [\"0\", \"1\", \"2\", \"3\", \"4\", \"5\", \"6\", \"7\", \"8\", \"9\", \"10\", \"11\", \"12\", \"13\", \"14\", \"15\", \"16\", \"17\", \"18\", \"19\", \"20\", \"21\", \"22\", \"23\", \"24\", \"25\", \"26\", \"27\", \"28\", \"29\", \"30\", \"31\", \"32\", \"36\"], \"mode\": \"lines\", \"name\": \"average_precision_score_micro_max\", \"stepped\": true, \"type\": \"scatter\", \"data\": [0.8288030240058578, 0.8440569969220637, 0.8440569969220637, 0.8440569969220637, 0.8440569969220637, 0.8440569969220637, 0.8498373080158711, 0.8498373080158711, 0.8498373080158711, 0.8498373080158711, 0.8498373080158711, 0.8498373080158711, 0.8498373080158711, 0.8498373080158711, 0.8498373080158711, 0.8498373080158711, 0.8498373080158711, 0.8498373080158711, 0.8498373080158711, 0.8498373080158711, 0.8498373080158711, 0.8498373080158711, 0.8498373080158711, 0.8498373080158711, 0.8498373080158711, 0.8498373080158711, 0.8498373080158711, 0.8498373080158711, 0.8498373080158711, 0.8498373080158711, 0.8498373080158711, 0.8498373080158711, 0.8498373080158711, 0.8507277651459367]}], \"matthews_correlation\": [{\"categories\": [\"0\", \"1\", \"2\", \"3\", \"4\", \"5\", \"6\", \"7\", \"8\", \"9\", \"10\", \"11\", \"12\", \"13\", \"14\", \"15\", \"16\", \"17\", \"18\", \"19\", \"20\", \"21\", \"22\", \"23\", \"24\", \"25\", \"26\", \"27\", \"28\", \"29\", \"30\", \"31\", \"32\", \"36\"], \"mode\": \"markers\", \"name\": \"matthews_correlation\", \"stepped\": false, \"type\": \"scatter\", \"data\": [0.45217853291147136, 0.45681296423652235, 0.46369370888694644, 0.4609620902540162, 0.5319711637013257, 0.35298950337366897, 0.4772359373237524, 0.38978790170687966, 0.3070224378034631, 0.2855244524311364, 0.4420523451957666, 0.4494465116175472, 0.4139056972983787, 0.4428213259309875, 0.4460848308974629, 0.43661584541610915, 0.4308945093313525, 0.41994172558194814, 0.444754010679617, 0.28081764723111863, 0.4330000172122653, 0.26426905722907673, 0.2845418717897941, 0.29961632885007344, 0.47640389693089263, 0.4516307270850055, 0.45132874319298466, 0.5010391753193948, 0.44190462598569297, 0.4493789365817548, 0.3447638753371685, 0.483737720836825, 0.44312564177871017, 0.5190502931684798]}, {\"categories\": [\"0\", \"1\", \"2\", \"3\", \"4\", \"5\", \"6\", \"7\", \"8\", \"9\", \"10\", \"11\", \"12\", \"13\", \"14\", \"15\", \"16\", \"17\", \"18\", \"19\", \"20\", \"21\", \"22\", \"23\", \"24\", \"25\", \"26\", \"27\", \"28\", \"29\", \"30\", \"31\", \"32\", \"36\"], \"mode\": \"lines\", \"name\": \"matthews_correlation_max\", \"stepped\": true, \"type\": \"scatter\", \"data\": [0.45217853291147136, 0.45681296423652235, 0.46369370888694644, 0.46369370888694644, 0.5319711637013257, 0.5319711637013257, 0.5319711637013257, 0.5319711637013257, 0.5319711637013257, 0.5319711637013257, 0.5319711637013257, 0.5319711637013257, 0.5319711637013257, 0.5319711637013257, 0.5319711637013257, 0.5319711637013257, 0.5319711637013257, 0.5319711637013257, 0.5319711637013257, 0.5319711637013257, 0.5319711637013257, 0.5319711637013257, 0.5319711637013257, 0.5319711637013257, 0.5319711637013257, 0.5319711637013257, 0.5319711637013257, 0.5319711637013257, 0.5319711637013257, 0.5319711637013257, 0.5319711637013257, 0.5319711637013257, 0.5319711637013257, 0.5319711637013257]}], \"AUC_weighted\": [{\"categories\": [\"0\", \"1\", \"2\", \"3\", \"4\", \"5\", \"6\", \"7\", \"8\", \"9\", \"10\", \"11\", \"12\", \"13\", \"14\", \"15\", \"16\", \"17\", \"18\", \"19\", \"20\", \"21\", \"22\", \"23\", \"24\", \"25\", \"26\", \"27\", \"28\", \"29\", \"30\", \"31\", \"32\", \"36\"], \"mode\": \"markers\", \"name\": \"AUC_weighted\", \"stepped\": false, \"type\": \"scatter\", \"data\": [0.8112573523556597, 0.8298666012926837, 0.828321622441431, 0.8199226269928573, 0.828165605284808, 0.7714061222306287, 0.8324964407446732, 0.7838531792004031, 0.7186892047460808, 0.6969958294060935, 0.8238143884147736, 0.8306860255085491, 0.8202403979777722, 0.8290087759727043, 0.8320451407675516, 0.8407330465064926, 0.8243192756916056, 0.8059818943605656, 0.8301606324135338, 0.7068220097792103, 0.8151555016821215, 0.7198573540821341, 0.711452002185094, 0.6988936206695563, 0.8315940228231488, 0.8083534609050599, 0.8254742439637152, 0.8368333799398974, 0.8261390341566709, 0.8018503208174547, 0.8044316924465734, 0.8308494806410577, 0.814328206936156, 0.836385560371636]}, {\"categories\": [\"0\", \"1\", \"2\", \"3\", \"4\", \"5\", \"6\", \"7\", \"8\", \"9\", \"10\", \"11\", \"12\", \"13\", \"14\", \"15\", \"16\", \"17\", \"18\", \"19\", \"20\", \"21\", \"22\", \"23\", \"24\", \"25\", \"26\", \"27\", \"28\", \"29\", \"30\", \"31\", \"32\", \"36\"], \"mode\": \"lines\", \"name\": \"AUC_weighted_max\", \"stepped\": true, \"type\": \"scatter\", \"data\": [0.8112573523556597, 0.8298666012926837, 0.8298666012926837, 0.8298666012926837, 0.8298666012926837, 0.8298666012926837, 0.8324964407446732, 0.8324964407446732, 0.8324964407446732, 0.8324964407446732, 0.8324964407446732, 0.8324964407446732, 0.8324964407446732, 0.8324964407446732, 0.8324964407446732, 0.8407330465064926, 0.8407330465064926, 0.8407330465064926, 0.8407330465064926, 0.8407330465064926, 0.8407330465064926, 0.8407330465064926, 0.8407330465064926, 0.8407330465064926, 0.8407330465064926, 0.8407330465064926, 0.8407330465064926, 0.8407330465064926, 0.8407330465064926, 0.8407330465064926, 0.8407330465064926, 0.8407330465064926, 0.8407330465064926, 0.8407330465064926]}], \"weighted_accuracy\": [{\"categories\": [\"0\", \"1\", \"2\", \"3\", \"4\", \"5\", \"6\", \"7\", \"8\", \"9\", \"10\", \"11\", \"12\", \"13\", \"14\", \"15\", \"16\", \"17\", \"18\", \"19\", \"20\", \"21\", \"22\", \"23\", \"24\", \"25\", \"26\", \"27\", \"28\", \"29\", \"30\", \"31\", \"32\", \"36\"], \"mode\": \"markers\", \"name\": \"weighted_accuracy\", \"stepped\": false, \"type\": \"scatter\", \"data\": [0.7698479164447316, 0.7777459753369683, 0.7860021668698698, 0.7953369043541486, 0.7951580172864013, 0.718206905834533, 0.7930942211176671, 0.7892860962971748, 0.7199130873158935, 0.7135774981306847, 0.790283815857372, 0.7936072186277888, 0.7826904956160875, 0.7973883731671688, 0.7915182765450156, 0.8055620651182956, 0.8047214647949948, 0.7916632601558251, 0.792576003696289, 0.721642123068121, 0.8057523275544908, 0.7129051434575578, 0.7165904631580334, 0.7533656557219354, 0.7930091081640799, 0.7549189870678118, 0.7938132175474056, 0.7507897002873579, 0.7944408260090524, 0.7855329434504662, 0.7849990702302149, 0.7604089814651113, 0.7723480914721964, 0.8115431465470194]}, {\"categories\": [\"0\", \"1\", \"2\", \"3\", \"4\", \"5\", \"6\", \"7\", \"8\", \"9\", \"10\", \"11\", \"12\", \"13\", \"14\", \"15\", \"16\", \"17\", \"18\", \"19\", \"20\", \"21\", \"22\", \"23\", \"24\", \"25\", \"26\", \"27\", \"28\", \"29\", \"30\", \"31\", \"32\", \"36\"], \"mode\": \"lines\", \"name\": \"weighted_accuracy_max\", \"stepped\": true, \"type\": \"scatter\", \"data\": [0.7698479164447316, 0.7777459753369683, 0.7860021668698698, 0.7953369043541486, 0.7953369043541486, 0.7953369043541486, 0.7953369043541486, 0.7953369043541486, 0.7953369043541486, 0.7953369043541486, 0.7953369043541486, 0.7953369043541486, 0.7953369043541486, 0.7973883731671688, 0.7973883731671688, 0.8055620651182956, 0.8055620651182956, 0.8055620651182956, 0.8055620651182956, 0.8055620651182956, 0.8057523275544908, 0.8057523275544908, 0.8057523275544908, 0.8057523275544908, 0.8057523275544908, 0.8057523275544908, 0.8057523275544908, 0.8057523275544908, 0.8057523275544908, 0.8057523275544908, 0.8057523275544908, 0.8057523275544908, 0.8057523275544908, 0.8115431465470194]}], \"norm_macro_recall\": [{\"categories\": [\"0\", \"1\", \"2\", \"3\", \"4\", \"5\", \"6\", \"7\", \"8\", \"9\", \"10\", \"11\", \"12\", \"13\", \"14\", \"15\", \"16\", \"17\", \"18\", \"19\", \"20\", \"21\", \"22\", \"23\", \"24\", \"25\", \"26\", \"27\", \"28\", \"29\", \"30\", \"31\", \"32\", \"36\"], \"mode\": \"markers\", \"name\": \"norm_macro_recall\", \"stepped\": false, \"type\": \"scatter\", \"data\": [0.4475436757599796, 0.4454619553886588, 0.44237069780236804, 0.42822675129424487, 0.5338442944051363, 0.35061438853028437, 0.45793460896912225, 0.3292532588059411, 0.2975623497127817, 0.2721364158403284, 0.40773982390433244, 0.41628515032463037, 0.37710358943666095, 0.39915574952508276, 0.41301216787653444, 0.37195762322653336, 0.3579836135435685, 0.3724249049544262, 0.41038353213523626, 0.26130526860134334, 0.35550848617455316, 0.24916578826855532, 0.2657915064688498, 0.2595507314151994, 0.4581564271818434, 0.45804388700044124, 0.41559608055091163, 0.5161720725536831, 0.4060438125578257, 0.42720599173637464, 0.25863214919451133, 0.4937272222536268, 0.43363962787726823, 0.4954436827586994]}, {\"categories\": [\"0\", \"1\", \"2\", \"3\", \"4\", \"5\", \"6\", \"7\", \"8\", \"9\", \"10\", \"11\", \"12\", \"13\", \"14\", \"15\", \"16\", \"17\", \"18\", \"19\", \"20\", \"21\", \"22\", \"23\", \"24\", \"25\", \"26\", \"27\", \"28\", \"29\", \"30\", \"31\", \"32\", \"36\"], \"mode\": \"lines\", \"name\": \"norm_macro_recall_max\", \"stepped\": true, \"type\": \"scatter\", \"data\": [0.4475436757599796, 0.4475436757599796, 0.4475436757599796, 0.4475436757599796, 0.5338442944051363, 0.5338442944051363, 0.5338442944051363, 0.5338442944051363, 0.5338442944051363, 0.5338442944051363, 0.5338442944051363, 0.5338442944051363, 0.5338442944051363, 0.5338442944051363, 0.5338442944051363, 0.5338442944051363, 0.5338442944051363, 0.5338442944051363, 0.5338442944051363, 0.5338442944051363, 0.5338442944051363, 0.5338442944051363, 0.5338442944051363, 0.5338442944051363, 0.5338442944051363, 0.5338442944051363, 0.5338442944051363, 0.5338442944051363, 0.5338442944051363, 0.5338442944051363, 0.5338442944051363, 0.5338442944051363, 0.5338442944051363, 0.5338442944051363]}], \"balanced_accuracy\": [{\"categories\": [\"0\", \"1\", \"2\", \"3\", \"4\", \"5\", \"6\", \"7\", \"8\", \"9\", \"10\", \"11\", \"12\", \"13\", \"14\", \"15\", \"16\", \"17\", \"18\", \"19\", \"20\", \"21\", \"22\", \"23\", \"24\", \"25\", \"26\", \"27\", \"28\", \"29\", \"30\", \"31\", \"32\", \"36\"], \"mode\": \"markers\", \"name\": \"balanced_accuracy\", \"stepped\": false, \"type\": \"scatter\", \"data\": [0.7237718378799899, 0.7227309776943294, 0.721185348901184, 0.7141133756471225, 0.7669221472025681, 0.6753071942651422, 0.728967304484561, 0.6646266294029705, 0.6487811748563909, 0.6360682079201642, 0.7038699119521663, 0.7081425751623153, 0.6885517947183305, 0.6995778747625413, 0.7065060839382672, 0.6859788116132667, 0.6789918067717843, 0.686212452477213, 0.705191766067618, 0.6306526343006716, 0.6777542430872766, 0.6245828941342776, 0.6328957532344249, 0.6297753657075997, 0.7290782135909217, 0.7290219435002206, 0.7077980402754559, 0.7580860362768416, 0.7030219062789129, 0.7136029958681873, 0.6293160745972556, 0.7468636111268134, 0.716819813938634, 0.7477218413793496]}, {\"categories\": [\"0\", \"1\", \"2\", \"3\", \"4\", \"5\", \"6\", \"7\", \"8\", \"9\", \"10\", \"11\", \"12\", \"13\", \"14\", \"15\", \"16\", \"17\", \"18\", \"19\", \"20\", \"21\", \"22\", \"23\", \"24\", \"25\", \"26\", \"27\", \"28\", \"29\", \"30\", \"31\", \"32\", \"36\"], \"mode\": \"lines\", \"name\": \"balanced_accuracy_max\", \"stepped\": true, \"type\": \"scatter\", \"data\": [0.7237718378799899, 0.7237718378799899, 0.7237718378799899, 0.7237718378799899, 0.7669221472025681, 0.7669221472025681, 0.7669221472025681, 0.7669221472025681, 0.7669221472025681, 0.7669221472025681, 0.7669221472025681, 0.7669221472025681, 0.7669221472025681, 0.7669221472025681, 0.7669221472025681, 0.7669221472025681, 0.7669221472025681, 0.7669221472025681, 0.7669221472025681, 0.7669221472025681, 0.7669221472025681, 0.7669221472025681, 0.7669221472025681, 0.7669221472025681, 0.7669221472025681, 0.7669221472025681, 0.7669221472025681, 0.7669221472025681, 0.7669221472025681, 0.7669221472025681, 0.7669221472025681, 0.7669221472025681, 0.7669221472025681, 0.7669221472025681]}], \"AUC_micro\": [{\"categories\": [\"0\", \"1\", \"2\", \"3\", \"4\", \"5\", \"6\", \"7\", \"8\", \"9\", \"10\", \"11\", \"12\", \"13\", \"14\", \"15\", \"16\", \"17\", \"18\", \"19\", \"20\", \"21\", \"22\", \"23\", \"24\", \"25\", \"26\", \"27\", \"28\", \"29\", \"30\", \"31\", \"32\", \"36\"], \"mode\": \"markers\", \"name\": \"AUC_micro\", \"stepped\": false, \"type\": \"scatter\", \"data\": [0.8299990636996348, 0.8450943062534461, 0.8437418723926635, 0.8378327767547828, 0.8398718308833474, 0.7884169241492671, 0.8471229570446198, 0.8059777576646588, 0.7515891097864196, 0.7354639368309354, 0.8382072969008458, 0.8437834857422262, 0.8353359757810305, 0.8420669350727713, 0.8453751963629932, 0.8428055720275064, 0.8257961153938184, 0.8210105801941262, 0.8451463229403992, 0.7458048541972264, 0.8122093567616492, 0.7548349510522976, 0.74618977768068, 0.7417163426027069, 0.8482465174828085, 0.8080896351549577, 0.840620871175473, 0.8330056282055284, 0.8413387014554269, 0.8204071866254695, 0.7989763116007614, 0.8293436534440248, 0.8319652944664648, 0.8518044588704057]}, {\"categories\": [\"0\", \"1\", \"2\", \"3\", \"4\", \"5\", \"6\", \"7\", \"8\", \"9\", \"10\", \"11\", \"12\", \"13\", \"14\", \"15\", \"16\", \"17\", \"18\", \"19\", \"20\", \"21\", \"22\", \"23\", \"24\", \"25\", \"26\", \"27\", \"28\", \"29\", \"30\", \"31\", \"32\", \"36\"], \"mode\": \"lines\", \"name\": \"AUC_micro_max\", \"stepped\": true, \"type\": \"scatter\", \"data\": [0.8299990636996348, 0.8450943062534461, 0.8450943062534461, 0.8450943062534461, 0.8450943062534461, 0.8450943062534461, 0.8471229570446198, 0.8471229570446198, 0.8471229570446198, 0.8471229570446198, 0.8471229570446198, 0.8471229570446198, 0.8471229570446198, 0.8471229570446198, 0.8471229570446198, 0.8471229570446198, 0.8471229570446198, 0.8471229570446198, 0.8471229570446198, 0.8471229570446198, 0.8471229570446198, 0.8471229570446198, 0.8471229570446198, 0.8471229570446198, 0.8482465174828085, 0.8482465174828085, 0.8482465174828085, 0.8482465174828085, 0.8482465174828085, 0.8482465174828085, 0.8482465174828085, 0.8482465174828085, 0.8482465174828085, 0.8518044588704057]}], \"average_precision_score_weighted\": [{\"categories\": [\"0\", \"1\", \"2\", \"3\", \"4\", \"5\", \"6\", \"7\", \"8\", \"9\", \"10\", \"11\", \"12\", \"13\", \"14\", \"15\", \"16\", \"17\", \"18\", \"19\", \"20\", \"21\", \"22\", \"23\", \"24\", \"25\", \"26\", \"27\", \"28\", \"29\", \"30\", \"31\", \"32\", \"36\"], \"mode\": \"markers\", \"name\": \"average_precision_score_weighted\", \"stepped\": false, \"type\": \"scatter\", \"data\": [0.821702876698874, 0.8352477889824002, 0.8298682095254756, 0.8253597453541127, 0.8288276725853566, 0.7860944993464757, 0.8418079262339327, 0.7822785309782954, 0.7320102782147334, 0.6988630225542303, 0.8305242197476558, 0.8340948579437999, 0.8286130949974583, 0.8331509202943569, 0.8413450780494959, 0.8457672923857268, 0.82809730281241, 0.8117517508785266, 0.837115221089562, 0.7152827325002341, 0.8150859956980963, 0.7351226393750956, 0.7263603576628253, 0.6955357847203926, 0.8380366378238872, 0.8053508437644696, 0.8281714272615739, 0.8413833961173784, 0.8293439880872779, 0.8060303506765966, 0.8110856261909687, 0.8284373567440223, 0.8226899884479458, 0.8360094514505017]}, {\"categories\": [\"0\", \"1\", \"2\", \"3\", \"4\", \"5\", \"6\", \"7\", \"8\", \"9\", \"10\", \"11\", \"12\", \"13\", \"14\", \"15\", \"16\", \"17\", \"18\", \"19\", \"20\", \"21\", \"22\", \"23\", \"24\", \"25\", \"26\", \"27\", \"28\", \"29\", \"30\", \"31\", \"32\", \"36\"], \"mode\": \"lines\", \"name\": \"average_precision_score_weighted_max\", \"stepped\": true, \"type\": \"scatter\", \"data\": [0.821702876698874, 0.8352477889824002, 0.8352477889824002, 0.8352477889824002, 0.8352477889824002, 0.8352477889824002, 0.8418079262339327, 0.8418079262339327, 0.8418079262339327, 0.8418079262339327, 0.8418079262339327, 0.8418079262339327, 0.8418079262339327, 0.8418079262339327, 0.8418079262339327, 0.8457672923857268, 0.8457672923857268, 0.8457672923857268, 0.8457672923857268, 0.8457672923857268, 0.8457672923857268, 0.8457672923857268, 0.8457672923857268, 0.8457672923857268, 0.8457672923857268, 0.8457672923857268, 0.8457672923857268, 0.8457672923857268, 0.8457672923857268, 0.8457672923857268, 0.8457672923857268, 0.8457672923857268, 0.8457672923857268, 0.8457672923857268]}], \"precision_score_micro\": [{\"categories\": [\"0\", \"1\", \"2\", \"3\", \"4\", \"5\", \"6\", \"7\", \"8\", \"9\", \"10\", \"11\", \"12\", \"13\", \"14\", \"15\", \"16\", \"17\", \"18\", \"19\", \"20\", \"21\", \"22\", \"23\", \"24\", \"25\", \"26\", \"27\", \"28\", \"29\", \"30\", \"31\", \"32\", \"36\"], \"mode\": \"markers\", \"name\": \"precision_score_micro\", \"stepped\": false, \"type\": \"scatter\", \"data\": [0.7486033519553073, 0.7523277467411545, 0.756052141527002, 0.7579143389199254, 0.7821229050279329, 0.6983240223463687, 0.7635009310986964, 0.7318435754189944, 0.6871508379888267, 0.6778398510242085, 0.750465549348231, 0.7541899441340781, 0.7392923649906891, 0.7523277467411545, 0.7523277467411545, 0.750465549348231, 0.7467411545623835, 0.7430167597765363, 0.7523277467411545, 0.6797020484171322, 0.7467411545623838, 0.6722532588454376, 0.6778398510242085, 0.696461824953445, 0.7635009310986964, 0.7430167597765364, 0.7541899441340781, 0.7541899441340781, 0.7523277467411545, 0.7523277467411545, 0.7132216014897579, 0.7541899441340782, 0.7467411545623835, 0.7821229050279329]}, {\"categories\": [\"0\", \"1\", \"2\", \"3\", \"4\", \"5\", \"6\", \"7\", \"8\", \"9\", \"10\", \"11\", \"12\", \"13\", \"14\", \"15\", \"16\", \"17\", \"18\", \"19\", \"20\", \"21\", \"22\", \"23\", \"24\", \"25\", \"26\", \"27\", \"28\", \"29\", \"30\", \"31\", \"32\", \"36\"], \"mode\": \"lines\", \"name\": \"precision_score_micro_max\", \"stepped\": true, \"type\": \"scatter\", \"data\": [0.7486033519553073, 0.7523277467411545, 0.756052141527002, 0.7579143389199254, 0.7821229050279329, 0.7821229050279329, 0.7821229050279329, 0.7821229050279329, 0.7821229050279329, 0.7821229050279329, 0.7821229050279329, 0.7821229050279329, 0.7821229050279329, 0.7821229050279329, 0.7821229050279329, 0.7821229050279329, 0.7821229050279329, 0.7821229050279329, 0.7821229050279329, 0.7821229050279329, 0.7821229050279329, 0.7821229050279329, 0.7821229050279329, 0.7821229050279329, 0.7821229050279329, 0.7821229050279329, 0.7821229050279329, 0.7821229050279329, 0.7821229050279329, 0.7821229050279329, 0.7821229050279329, 0.7821229050279329, 0.7821229050279329, 0.7821229050279329]}], \"recall_score_weighted\": [{\"categories\": [\"0\", \"1\", \"2\", \"3\", \"4\", \"5\", \"6\", \"7\", \"8\", \"9\", \"10\", \"11\", \"12\", \"13\", \"14\", \"15\", \"16\", \"17\", \"18\", \"19\", \"20\", \"21\", \"22\", \"23\", \"24\", \"25\", \"26\", \"27\", \"28\", \"29\", \"30\", \"31\", \"32\", \"36\"], \"mode\": \"markers\", \"name\": \"recall_score_weighted\", \"stepped\": false, \"type\": \"scatter\", \"data\": [0.7486033519553073, 0.7523277467411545, 0.756052141527002, 0.7579143389199254, 0.7821229050279329, 0.6983240223463687, 0.7635009310986964, 0.7318435754189944, 0.6871508379888267, 0.6778398510242085, 0.750465549348231, 0.7541899441340781, 0.7392923649906891, 0.7523277467411545, 0.7523277467411545, 0.750465549348231, 0.7467411545623835, 0.7430167597765363, 0.7523277467411545, 0.6797020484171322, 0.7467411545623838, 0.6722532588454376, 0.6778398510242085, 0.696461824953445, 0.7635009310986964, 0.7430167597765364, 0.7541899441340781, 0.7541899441340781, 0.7523277467411545, 0.7523277467411545, 0.7132216014897579, 0.7541899441340782, 0.7467411545623835, 0.7821229050279329]}, {\"categories\": [\"0\", \"1\", \"2\", \"3\", \"4\", \"5\", \"6\", \"7\", \"8\", \"9\", \"10\", \"11\", \"12\", \"13\", \"14\", \"15\", \"16\", \"17\", \"18\", \"19\", \"20\", \"21\", \"22\", \"23\", \"24\", \"25\", \"26\", \"27\", \"28\", \"29\", \"30\", \"31\", \"32\", \"36\"], \"mode\": \"lines\", \"name\": \"recall_score_weighted_max\", \"stepped\": true, \"type\": \"scatter\", \"data\": [0.7486033519553073, 0.7523277467411545, 0.756052141527002, 0.7579143389199254, 0.7821229050279329, 0.7821229050279329, 0.7821229050279329, 0.7821229050279329, 0.7821229050279329, 0.7821229050279329, 0.7821229050279329, 0.7821229050279329, 0.7821229050279329, 0.7821229050279329, 0.7821229050279329, 0.7821229050279329, 0.7821229050279329, 0.7821229050279329, 0.7821229050279329, 0.7821229050279329, 0.7821229050279329, 0.7821229050279329, 0.7821229050279329, 0.7821229050279329, 0.7821229050279329, 0.7821229050279329, 0.7821229050279329, 0.7821229050279329, 0.7821229050279329, 0.7821229050279329, 0.7821229050279329, 0.7821229050279329, 0.7821229050279329, 0.7821229050279329]}], \"f1_score_micro\": [{\"categories\": [\"0\", \"1\", \"2\", \"3\", \"4\", \"5\", \"6\", \"7\", \"8\", \"9\", \"10\", \"11\", \"12\", \"13\", \"14\", \"15\", \"16\", \"17\", \"18\", \"19\", \"20\", \"21\", \"22\", \"23\", \"24\", \"25\", \"26\", \"27\", \"28\", \"29\", \"30\", \"31\", \"32\", \"36\"], \"mode\": \"markers\", \"name\": \"f1_score_micro\", \"stepped\": false, \"type\": \"scatter\", \"data\": [0.7486033519553073, 0.7523277467411545, 0.756052141527002, 0.7579143389199254, 0.7821229050279329, 0.6983240223463687, 0.7635009310986964, 0.7318435754189946, 0.6871508379888267, 0.6778398510242085, 0.750465549348231, 0.7541899441340782, 0.7392923649906891, 0.7523277467411545, 0.7523277467411545, 0.750465549348231, 0.7467411545623835, 0.7430167597765363, 0.7523277467411545, 0.6797020484171322, 0.7467411545623838, 0.6722532588454376, 0.6778398510242085, 0.696461824953445, 0.7635009310986964, 0.7430167597765364, 0.7541899441340781, 0.7541899441340781, 0.7523277467411545, 0.7523277467411545, 0.7132216014897579, 0.7541899441340782, 0.7467411545623835, 0.7821229050279329]}, {\"categories\": [\"0\", \"1\", \"2\", \"3\", \"4\", \"5\", \"6\", \"7\", \"8\", \"9\", \"10\", \"11\", \"12\", \"13\", \"14\", \"15\", \"16\", \"17\", \"18\", \"19\", \"20\", \"21\", \"22\", \"23\", \"24\", \"25\", \"26\", \"27\", \"28\", \"29\", \"30\", \"31\", \"32\", \"36\"], \"mode\": \"lines\", \"name\": \"f1_score_micro_max\", \"stepped\": true, \"type\": \"scatter\", \"data\": [0.7486033519553073, 0.7523277467411545, 0.756052141527002, 0.7579143389199254, 0.7821229050279329, 0.7821229050279329, 0.7821229050279329, 0.7821229050279329, 0.7821229050279329, 0.7821229050279329, 0.7821229050279329, 0.7821229050279329, 0.7821229050279329, 0.7821229050279329, 0.7821229050279329, 0.7821229050279329, 0.7821229050279329, 0.7821229050279329, 0.7821229050279329, 0.7821229050279329, 0.7821229050279329, 0.7821229050279329, 0.7821229050279329, 0.7821229050279329, 0.7821229050279329, 0.7821229050279329, 0.7821229050279329, 0.7821229050279329, 0.7821229050279329, 0.7821229050279329, 0.7821229050279329, 0.7821229050279329, 0.7821229050279329, 0.7821229050279329]}], \"precision_score_weighted\": [{\"categories\": [\"0\", \"1\", \"2\", \"3\", \"4\", \"5\", \"6\", \"7\", \"8\", \"9\", \"10\", \"11\", \"12\", \"13\", \"14\", \"15\", \"16\", \"17\", \"18\", \"19\", \"20\", \"21\", \"22\", \"23\", \"24\", \"25\", \"26\", \"27\", \"28\", \"29\", \"30\", \"31\", \"32\", \"36\"], \"mode\": \"markers\", \"name\": \"precision_score_weighted\", \"stepped\": false, \"type\": \"scatter\", \"data\": [0.7478814077570247, 0.750678171671661, 0.7565023335089646, 0.7570067226255898, 0.7847179803652664, 0.703626974449523, 0.7613389809962999, 0.7332035657394399, 0.6811937665459323, 0.6724191349102099, 0.7483456874772497, 0.7512651905883354, 0.7361455256507621, 0.7512663430605487, 0.749861996331961, 0.7547141128602144, 0.7563718308957054, 0.7421862747898866, 0.7492423229840807, 0.671894180749169, 0.7594574845713944, 0.6624150823966742, 0.6743454453441169, 0.6863414215768566, 0.7604809194423101, 0.7477149210212582, 0.7532750072091136, 0.7739017566714962, 0.7478211523614626, 0.7492682662988895, 0.727577815579176, 0.7634030652033914, 0.744128377555621, 0.7815432553095345]}, {\"categories\": [\"0\", \"1\", \"2\", \"3\", \"4\", \"5\", \"6\", \"7\", \"8\", \"9\", \"10\", \"11\", \"12\", \"13\", \"14\", \"15\", \"16\", \"17\", \"18\", \"19\", \"20\", \"21\", \"22\", \"23\", \"24\", \"25\", \"26\", \"27\", \"28\", \"29\", \"30\", \"31\", \"32\", \"36\"], \"mode\": \"lines\", \"name\": \"precision_score_weighted_max\", \"stepped\": true, \"type\": \"scatter\", \"data\": [0.7478814077570247, 0.750678171671661, 0.7565023335089646, 0.7570067226255898, 0.7847179803652664, 0.7847179803652664, 0.7847179803652664, 0.7847179803652664, 0.7847179803652664, 0.7847179803652664, 0.7847179803652664, 0.7847179803652664, 0.7847179803652664, 0.7847179803652664, 0.7847179803652664, 0.7847179803652664, 0.7847179803652664, 0.7847179803652664, 0.7847179803652664, 0.7847179803652664, 0.7847179803652664, 0.7847179803652664, 0.7847179803652664, 0.7847179803652664, 0.7847179803652664, 0.7847179803652664, 0.7847179803652664, 0.7847179803652664, 0.7847179803652664, 0.7847179803652664, 0.7847179803652664, 0.7847179803652664, 0.7847179803652664, 0.7847179803652664]}], \"AUC_macro\": [{\"categories\": [\"0\", \"1\", \"2\", \"3\", \"4\", \"5\", \"6\", \"7\", \"8\", \"9\", \"10\", \"11\", \"12\", \"13\", \"14\", \"15\", \"16\", \"17\", \"18\", \"19\", \"20\", \"21\", \"22\", \"23\", \"24\", \"25\", \"26\", \"27\", \"28\", \"29\", \"30\", \"31\", \"32\", \"36\"], \"mode\": \"markers\", \"name\": \"AUC_macro\", \"stepped\": false, \"type\": \"scatter\", \"data\": [0.8112573523556597, 0.829866601292684, 0.828321622441431, 0.8199226269928573, 0.8281600216705568, 0.7714061222306287, 0.8324964407446732, 0.7838531792004032, 0.7186892047460809, 0.6969958294060934, 0.8238143884147737, 0.8306860255085492, 0.8202403979777722, 0.8290087759727042, 0.8320451407675516, 0.8407330465064926, 0.8243192756916056, 0.8059818943605656, 0.8301606324135339, 0.7068220097792102, 0.8151555016821215, 0.7198573540821341, 0.711452002185094, 0.6988936206695563, 0.8315940228231488, 0.8083534609050598, 0.8254742439637152, 0.8368333799398974, 0.8261390341566708, 0.8018503208174547, 0.8044316924465734, 0.8308494806410577, 0.8143282069361563, 0.836385560371636]}, {\"categories\": [\"0\", \"1\", \"2\", \"3\", \"4\", \"5\", \"6\", \"7\", \"8\", \"9\", \"10\", \"11\", \"12\", \"13\", \"14\", \"15\", \"16\", \"17\", \"18\", \"19\", \"20\", \"21\", \"22\", \"23\", \"24\", \"25\", \"26\", \"27\", \"28\", \"29\", \"30\", \"31\", \"32\", \"36\"], \"mode\": \"lines\", \"name\": \"AUC_macro_max\", \"stepped\": true, \"type\": \"scatter\", \"data\": [0.8112573523556597, 0.829866601292684, 0.829866601292684, 0.829866601292684, 0.829866601292684, 0.829866601292684, 0.8324964407446732, 0.8324964407446732, 0.8324964407446732, 0.8324964407446732, 0.8324964407446732, 0.8324964407446732, 0.8324964407446732, 0.8324964407446732, 0.8324964407446732, 0.8407330465064926, 0.8407330465064926, 0.8407330465064926, 0.8407330465064926, 0.8407330465064926, 0.8407330465064926, 0.8407330465064926, 0.8407330465064926, 0.8407330465064926, 0.8407330465064926, 0.8407330465064926, 0.8407330465064926, 0.8407330465064926, 0.8407330465064926, 0.8407330465064926, 0.8407330465064926, 0.8407330465064926, 0.8407330465064926, 0.8407330465064926]}], \"f1_score_macro\": [{\"categories\": [\"0\", \"1\", \"2\", \"3\", \"4\", \"5\", \"6\", \"7\", \"8\", \"9\", \"10\", \"11\", \"12\", \"13\", \"14\", \"15\", \"16\", \"17\", \"18\", \"19\", \"20\", \"21\", \"22\", \"23\", \"24\", \"25\", \"26\", \"27\", \"28\", \"29\", \"30\", \"31\", \"32\", \"36\"], \"mode\": \"markers\", \"name\": \"f1_score_macro\", \"stepped\": false, \"type\": \"scatter\", \"data\": [0.7254593420594242, 0.726490883446656, 0.7266751394662215, 0.7225755391460721, 0.7652478684508913, 0.6723711069112737, 0.7352420961233296, 0.671797872104913, 0.6513301026928834, 0.6389830503885459, 0.7126151802436546, 0.7170769437718589, 0.6970221961848099, 0.7093297814206682, 0.7154695994403765, 0.6958326166367802, 0.6876008918068405, 0.6946704951927649, 0.7143037010883188, 0.633802192487673, 0.6862960082198685, 0.627562705310688, 0.633862533989025, 0.6323508612084217, 0.7351639711290544, 0.7251692623153975, 0.7165292671199741, 0.7440246434073868, 0.7124791655525762, 0.7200159865785456, 0.6255693406956216, 0.739772179890255, 0.7201154000433685, 0.7552676932139821]}, {\"categories\": [\"0\", \"1\", \"2\", \"3\", \"4\", \"5\", \"6\", \"7\", \"8\", \"9\", \"10\", \"11\", \"12\", \"13\", \"14\", \"15\", \"16\", \"17\", \"18\", \"19\", \"20\", \"21\", \"22\", \"23\", \"24\", \"25\", \"26\", \"27\", \"28\", \"29\", \"30\", \"31\", \"32\", \"36\"], \"mode\": \"lines\", \"name\": \"f1_score_macro_max\", \"stepped\": true, \"type\": \"scatter\", \"data\": [0.7254593420594242, 0.726490883446656, 0.7266751394662215, 0.7266751394662215, 0.7652478684508913, 0.7652478684508913, 0.7652478684508913, 0.7652478684508913, 0.7652478684508913, 0.7652478684508913, 0.7652478684508913, 0.7652478684508913, 0.7652478684508913, 0.7652478684508913, 0.7652478684508913, 0.7652478684508913, 0.7652478684508913, 0.7652478684508913, 0.7652478684508913, 0.7652478684508913, 0.7652478684508913, 0.7652478684508913, 0.7652478684508913, 0.7652478684508913, 0.7652478684508913, 0.7652478684508913, 0.7652478684508913, 0.7652478684508913, 0.7652478684508913, 0.7652478684508913, 0.7652478684508913, 0.7652478684508913, 0.7652478684508913, 0.7652478684508913]}], \"recall_score_micro\": [{\"categories\": [\"0\", \"1\", \"2\", \"3\", \"4\", \"5\", \"6\", \"7\", \"8\", \"9\", \"10\", \"11\", \"12\", \"13\", \"14\", \"15\", \"16\", \"17\", \"18\", \"19\", \"20\", \"21\", \"22\", \"23\", \"24\", \"25\", \"26\", \"27\", \"28\", \"29\", \"30\", \"31\", \"32\", \"36\"], \"mode\": \"markers\", \"name\": \"recall_score_micro\", \"stepped\": false, \"type\": \"scatter\", \"data\": [0.7486033519553073, 0.7523277467411545, 0.756052141527002, 0.7579143389199254, 0.7821229050279329, 0.6983240223463687, 0.7635009310986964, 0.7318435754189944, 0.6871508379888267, 0.6778398510242085, 0.750465549348231, 0.7541899441340781, 0.7392923649906891, 0.7523277467411545, 0.7523277467411545, 0.750465549348231, 0.7467411545623835, 0.7430167597765363, 0.7523277467411545, 0.6797020484171322, 0.7467411545623838, 0.6722532588454376, 0.6778398510242085, 0.696461824953445, 0.7635009310986964, 0.7430167597765364, 0.7541899441340781, 0.7541899441340781, 0.7523277467411545, 0.7523277467411545, 0.7132216014897579, 0.7541899441340782, 0.7467411545623835, 0.7821229050279329]}, {\"categories\": [\"0\", \"1\", \"2\", \"3\", \"4\", \"5\", \"6\", \"7\", \"8\", \"9\", \"10\", \"11\", \"12\", \"13\", \"14\", \"15\", \"16\", \"17\", \"18\", \"19\", \"20\", \"21\", \"22\", \"23\", \"24\", \"25\", \"26\", \"27\", \"28\", \"29\", \"30\", \"31\", \"32\", \"36\"], \"mode\": \"lines\", \"name\": \"recall_score_micro_max\", \"stepped\": true, \"type\": \"scatter\", \"data\": [0.7486033519553073, 0.7523277467411545, 0.756052141527002, 0.7579143389199254, 0.7821229050279329, 0.7821229050279329, 0.7821229050279329, 0.7821229050279329, 0.7821229050279329, 0.7821229050279329, 0.7821229050279329, 0.7821229050279329, 0.7821229050279329, 0.7821229050279329, 0.7821229050279329, 0.7821229050279329, 0.7821229050279329, 0.7821229050279329, 0.7821229050279329, 0.7821229050279329, 0.7821229050279329, 0.7821229050279329, 0.7821229050279329, 0.7821229050279329, 0.7821229050279329, 0.7821229050279329, 0.7821229050279329, 0.7821229050279329, 0.7821229050279329, 0.7821229050279329, 0.7821229050279329, 0.7821229050279329, 0.7821229050279329, 0.7821229050279329]}], \"precision_score_macro\": [{\"categories\": [\"0\", \"1\", \"2\", \"3\", \"4\", \"5\", \"6\", \"7\", \"8\", \"9\", \"10\", \"11\", \"12\", \"13\", \"14\", \"15\", \"16\", \"17\", \"18\", \"19\", \"20\", \"21\", \"22\", \"23\", \"24\", \"25\", \"26\", \"27\", \"28\", \"29\", \"30\", \"31\", \"32\", \"36\"], \"mode\": \"markers\", \"name\": \"precision_score_macro\", \"stepped\": false, \"type\": \"scatter\", \"data\": [0.7284828586002629, 0.7343769005414581, 0.7435984062113681, 0.7485450807480273, 0.7651176939970318, 0.6780871101129758, 0.7488587385024593, 0.7312944330936562, 0.6584919803375893, 0.649984635700138, 0.7399434477292678, 0.7427941749286538, 0.7274315574895841, 0.7459713574728853, 0.74110013614278, 0.7567645714527865, 0.76060344860911, 0.7373820595138425, 0.7411853318973861, 0.6512416331553363, 0.7652920359635594, 0.6403153115007078, 0.6533418449110991, 0.673395387681102, 0.7478175314841384, 0.7226601199769828, 0.7455427180321008, 0.7431877387628253, 0.7404878615237912, 0.7366067281673224, 0.7335417491653948, 0.7369988367056323, 0.7265005636502941, 0.7721544130945562]}, {\"categories\": [\"0\", \"1\", \"2\", \"3\", \"4\", \"5\", \"6\", \"7\", \"8\", \"9\", \"10\", \"11\", \"12\", \"13\", \"14\", \"15\", \"16\", \"17\", \"18\", \"19\", \"20\", \"21\", \"22\", \"23\", \"24\", \"25\", \"26\", \"27\", \"28\", \"29\", \"30\", \"31\", \"32\", \"36\"], \"mode\": \"lines\", \"name\": \"precision_score_macro_max\", \"stepped\": true, \"type\": \"scatter\", \"data\": [0.7284828586002629, 0.7343769005414581, 0.7435984062113681, 0.7485450807480273, 0.7651176939970318, 0.7651176939970318, 0.7651176939970318, 0.7651176939970318, 0.7651176939970318, 0.7651176939970318, 0.7651176939970318, 0.7651176939970318, 0.7651176939970318, 0.7651176939970318, 0.7651176939970318, 0.7651176939970318, 0.7651176939970318, 0.7651176939970318, 0.7651176939970318, 0.7651176939970318, 0.7652920359635594, 0.7652920359635594, 0.7652920359635594, 0.7652920359635594, 0.7652920359635594, 0.7652920359635594, 0.7652920359635594, 0.7652920359635594, 0.7652920359635594, 0.7652920359635594, 0.7652920359635594, 0.7652920359635594, 0.7652920359635594, 0.7721544130945562]}], \"recall_score_macro\": [{\"categories\": [\"0\", \"1\", \"2\", \"3\", \"4\", \"5\", \"6\", \"7\", \"8\", \"9\", \"10\", \"11\", \"12\", \"13\", \"14\", \"15\", \"16\", \"17\", \"18\", \"19\", \"20\", \"21\", \"22\", \"23\", \"24\", \"25\", \"26\", \"27\", \"28\", \"29\", \"30\", \"31\", \"32\", \"36\"], \"mode\": \"markers\", \"name\": \"recall_score_macro\", \"stepped\": false, \"type\": \"scatter\", \"data\": [0.7237718378799899, 0.7227309776943294, 0.721185348901184, 0.7141133756471225, 0.7669221472025681, 0.6753071942651422, 0.728967304484561, 0.6646266294029705, 0.6487811748563909, 0.6360682079201642, 0.7038699119521663, 0.7081425751623153, 0.6885517947183305, 0.6995778747625413, 0.7065060839382672, 0.6859788116132667, 0.6789918067717843, 0.686212452477213, 0.705191766067618, 0.6306526343006716, 0.6777542430872766, 0.6245828941342776, 0.6328957532344249, 0.6297753657075997, 0.7290782135909217, 0.7290219435002206, 0.7077980402754559, 0.7580860362768416, 0.7030219062789129, 0.7136029958681873, 0.6293160745972556, 0.7468636111268134, 0.716819813938634, 0.7477218413793496]}, {\"categories\": [\"0\", \"1\", \"2\", \"3\", \"4\", \"5\", \"6\", \"7\", \"8\", \"9\", \"10\", \"11\", \"12\", \"13\", \"14\", \"15\", \"16\", \"17\", \"18\", \"19\", \"20\", \"21\", \"22\", \"23\", \"24\", \"25\", \"26\", \"27\", \"28\", \"29\", \"30\", \"31\", \"32\", \"36\"], \"mode\": \"lines\", \"name\": \"recall_score_macro_max\", \"stepped\": true, \"type\": \"scatter\", \"data\": [0.7237718378799899, 0.7237718378799899, 0.7237718378799899, 0.7237718378799899, 0.7669221472025681, 0.7669221472025681, 0.7669221472025681, 0.7669221472025681, 0.7669221472025681, 0.7669221472025681, 0.7669221472025681, 0.7669221472025681, 0.7669221472025681, 0.7669221472025681, 0.7669221472025681, 0.7669221472025681, 0.7669221472025681, 0.7669221472025681, 0.7669221472025681, 0.7669221472025681, 0.7669221472025681, 0.7669221472025681, 0.7669221472025681, 0.7669221472025681, 0.7669221472025681, 0.7669221472025681, 0.7669221472025681, 0.7669221472025681, 0.7669221472025681, 0.7669221472025681, 0.7669221472025681, 0.7669221472025681, 0.7669221472025681, 0.7669221472025681]}], \"log_loss\": [{\"categories\": [\"0\", \"1\", \"2\", \"3\", \"4\", \"5\", \"6\", \"7\", \"8\", \"9\", \"10\", \"11\", \"12\", \"13\", \"14\", \"15\", \"16\", \"17\", \"18\", \"19\", \"20\", \"21\", \"22\", \"23\", \"24\", \"25\", \"26\", \"27\", \"28\", \"29\", \"30\", \"31\", \"32\", \"36\"], \"mode\": \"markers\", \"name\": \"log_loss\", \"stepped\": false, \"type\": \"scatter\", \"data\": [0.6134590347669496, 0.5035496742611344, 0.4912288750408795, 0.4998528351921898, 0.4973845841894475, 0.6232331252130875, 0.4870238142470977, 0.5499276695057433, 0.5998119161504625, 0.6092994112371066, 0.5059097585098933, 0.4959575881940113, 0.5028070268075219, 0.5096575237918305, 0.4938132332152813, 0.5142483951772469, 0.5361286100903713, 0.5258806095555003, 0.493993603959737, 0.6060698916288418, 0.5528314966996328, 0.5858472627642306, 0.6098758024217121, 0.6126861964087015, 0.48690763804741355, 0.5770453350253667, 0.4966945686584305, 0.630497311426104, 0.4938028853888328, 0.52282801455734, 0.5612201114209842, 0.5222854418917434, 0.5088889431486034, 0.4981765954320286]}, {\"categories\": [\"0\", \"1\", \"2\", \"3\", \"4\", \"5\", \"6\", \"7\", \"8\", \"9\", \"10\", \"11\", \"12\", \"13\", \"14\", \"15\", \"16\", \"17\", \"18\", \"19\", \"20\", \"21\", \"22\", \"23\", \"24\", \"25\", \"26\", \"27\", \"28\", \"29\", \"30\", \"31\", \"32\", \"36\"], \"mode\": \"lines\", \"name\": \"log_loss_min\", \"stepped\": true, \"type\": \"scatter\", \"data\": [0.6134590347669496, 0.5035496742611344, 0.4912288750408795, 0.4912288750408795, 0.4912288750408795, 0.4912288750408795, 0.4870238142470977, 0.4870238142470977, 0.4870238142470977, 0.4870238142470977, 0.4870238142470977, 0.4870238142470977, 0.4870238142470977, 0.4870238142470977, 0.4870238142470977, 0.4870238142470977, 0.4870238142470977, 0.4870238142470977, 0.4870238142470977, 0.4870238142470977, 0.4870238142470977, 0.4870238142470977, 0.4870238142470977, 0.4870238142470977, 0.48690763804741355, 0.48690763804741355, 0.48690763804741355, 0.48690763804741355, 0.48690763804741355, 0.48690763804741355, 0.48690763804741355, 0.48690763804741355, 0.48690763804741355, 0.48690763804741355]}], \"average_precision_score_macro\": [{\"categories\": [\"0\", \"1\", \"2\", \"3\", \"4\", \"5\", \"6\", \"7\", \"8\", \"9\", \"10\", \"11\", \"12\", \"13\", \"14\", \"15\", \"16\", \"17\", \"18\", \"19\", \"20\", \"21\", \"22\", \"23\", \"24\", \"25\", \"26\", \"27\", \"28\", \"29\", \"30\", \"31\", \"32\", \"36\"], \"mode\": \"markers\", \"name\": \"average_precision_score_macro\", \"stepped\": false, \"type\": \"scatter\", \"data\": [0.7989915115040144, 0.8119986094520685, 0.8042450960395934, 0.799933650984133, 0.8039148820238683, 0.7567850131128754, 0.8189694351879727, 0.7593218014300134, 0.6994696975882203, 0.6671863540107857, 0.8059825256167142, 0.8081830838131618, 0.8025788317567799, 0.8080802866636932, 0.8191818027693415, 0.8224779745155884, 0.8025299368049704, 0.7838131866464675, 0.8139588287639196, 0.6853400192811855, 0.7912426042258324, 0.7013060470913919, 0.6967417397014327, 0.6674670020883545, 0.8160486177825753, 0.7789062132567803, 0.8023458687617367, 0.8166955665053459, 0.8028209695635269, 0.7762120232623954, 0.7835755888078006, 0.8055958068035912, 0.7972167364485868, 0.8111872939334838]}, {\"categories\": [\"0\", \"1\", \"2\", \"3\", \"4\", \"5\", \"6\", \"7\", \"8\", \"9\", \"10\", \"11\", \"12\", \"13\", \"14\", \"15\", \"16\", \"17\", \"18\", \"19\", \"20\", \"21\", \"22\", \"23\", \"24\", \"25\", \"26\", \"27\", \"28\", \"29\", \"30\", \"31\", \"32\", \"36\"], \"mode\": \"lines\", \"name\": \"average_precision_score_macro_max\", \"stepped\": true, \"type\": \"scatter\", \"data\": [0.7989915115040144, 0.8119986094520685, 0.8119986094520685, 0.8119986094520685, 0.8119986094520685, 0.8119986094520685, 0.8189694351879727, 0.8189694351879727, 0.8189694351879727, 0.8189694351879727, 0.8189694351879727, 0.8189694351879727, 0.8189694351879727, 0.8189694351879727, 0.8191818027693415, 0.8224779745155884, 0.8224779745155884, 0.8224779745155884, 0.8224779745155884, 0.8224779745155884, 0.8224779745155884, 0.8224779745155884, 0.8224779745155884, 0.8224779745155884, 0.8224779745155884, 0.8224779745155884, 0.8224779745155884, 0.8224779745155884, 0.8224779745155884, 0.8224779745155884, 0.8224779745155884, 0.8224779745155884, 0.8224779745155884, 0.8224779745155884]}], \"f1_score_weighted\": [{\"categories\": [\"0\", \"1\", \"2\", \"3\", \"4\", \"5\", \"6\", \"7\", \"8\", \"9\", \"10\", \"11\", \"12\", \"13\", \"14\", \"15\", \"16\", \"17\", \"18\", \"19\", \"20\", \"21\", \"22\", \"23\", \"24\", \"25\", \"26\", \"27\", \"28\", \"29\", \"30\", \"31\", \"32\", \"36\"], \"mode\": \"markers\", \"name\": \"f1_score_weighted\", \"stepped\": false, \"type\": \"scatter\", \"data\": [0.7476539677744695, 0.7497114601402141, 0.7514103941054185, 0.7500937029506614, 0.782735063938754, 0.6971281991425099, 0.7592663627494448, 0.7109073486625337, 0.6821705783603976, 0.6716294599510265, 0.7415872339474383, 0.7456065160669191, 0.7284750020520819, 0.740546907154247, 0.7440388966688093, 0.7316067241143692, 0.7251724751858043, 0.7282794154852845, 0.743313747541825, 0.6696772995133747, 0.7243711307275715, 0.663172157606363, 0.6682119366897069, 0.6752820845630927, 0.7591597981741245, 0.7447678704704007, 0.7452293188682608, 0.7579070874457096, 0.7422632181072523, 0.7464313040264168, 0.6753559676828136, 0.7568431940747625, 0.7440867739231828, 0.7778580815734392]}, {\"categories\": [\"0\", \"1\", \"2\", \"3\", \"4\", \"5\", \"6\", \"7\", \"8\", \"9\", \"10\", \"11\", \"12\", \"13\", \"14\", \"15\", \"16\", \"17\", \"18\", \"19\", \"20\", \"21\", \"22\", \"23\", \"24\", \"25\", \"26\", \"27\", \"28\", \"29\", \"30\", \"31\", \"32\", \"36\"], \"mode\": \"lines\", \"name\": \"f1_score_weighted_max\", \"stepped\": true, \"type\": \"scatter\", \"data\": [0.7476539677744695, 0.7497114601402141, 0.7514103941054185, 0.7514103941054185, 0.782735063938754, 0.782735063938754, 0.782735063938754, 0.782735063938754, 0.782735063938754, 0.782735063938754, 0.782735063938754, 0.782735063938754, 0.782735063938754, 0.782735063938754, 0.782735063938754, 0.782735063938754, 0.782735063938754, 0.782735063938754, 0.782735063938754, 0.782735063938754, 0.782735063938754, 0.782735063938754, 0.782735063938754, 0.782735063938754, 0.782735063938754, 0.782735063938754, 0.782735063938754, 0.782735063938754, 0.782735063938754, 0.782735063938754, 0.782735063938754, 0.782735063938754, 0.782735063938754, 0.782735063938754]}], \"accuracy\": [{\"categories\": [\"0\", \"1\", \"2\", \"3\", \"4\", \"5\", \"6\", \"7\", \"8\", \"9\", \"10\", \"11\", \"12\", \"13\", \"14\", \"15\", \"16\", \"17\", \"18\", \"19\", \"20\", \"21\", \"22\", \"23\", \"24\", \"25\", \"26\", \"27\", \"28\", \"29\", \"30\", \"31\", \"32\", \"36\"], \"mode\": \"markers\", \"name\": \"accuracy\", \"stepped\": false, \"type\": \"scatter\", \"data\": [0.7486033519553073, 0.7523277467411545, 0.756052141527002, 0.7579143389199254, 0.7821229050279329, 0.6983240223463687, 0.7635009310986964, 0.7318435754189944, 0.6871508379888267, 0.6778398510242085, 0.750465549348231, 0.7541899441340781, 0.7392923649906891, 0.7523277467411545, 0.7523277467411545, 0.750465549348231, 0.7467411545623835, 0.7430167597765363, 0.7523277467411545, 0.6797020484171322, 0.7467411545623838, 0.6722532588454376, 0.6778398510242085, 0.696461824953445, 0.7635009310986964, 0.7430167597765364, 0.7541899441340781, 0.7541899441340781, 0.7523277467411545, 0.7523277467411545, 0.7132216014897579, 0.7541899441340782, 0.7467411545623835, 0.7821229050279329]}, {\"categories\": [\"0\", \"1\", \"2\", \"3\", \"4\", \"5\", \"6\", \"7\", \"8\", \"9\", \"10\", \"11\", \"12\", \"13\", \"14\", \"15\", \"16\", \"17\", \"18\", \"19\", \"20\", \"21\", \"22\", \"23\", \"24\", \"25\", \"26\", \"27\", \"28\", \"29\", \"30\", \"31\", \"32\", \"36\"], \"mode\": \"lines\", \"name\": \"accuracy_max\", \"stepped\": true, \"type\": \"scatter\", \"data\": [0.7486033519553073, 0.7523277467411545, 0.756052141527002, 0.7579143389199254, 0.7821229050279329, 0.7821229050279329, 0.7821229050279329, 0.7821229050279329, 0.7821229050279329, 0.7821229050279329, 0.7821229050279329, 0.7821229050279329, 0.7821229050279329, 0.7821229050279329, 0.7821229050279329, 0.7821229050279329, 0.7821229050279329, 0.7821229050279329, 0.7821229050279329, 0.7821229050279329, 0.7821229050279329, 0.7821229050279329, 0.7821229050279329, 0.7821229050279329, 0.7821229050279329, 0.7821229050279329, 0.7821229050279329, 0.7821229050279329, 0.7821229050279329, 0.7821229050279329, 0.7821229050279329, 0.7821229050279329, 0.7821229050279329, 0.7821229050279329]}]}, \"metricName\": null, \"primaryMetricName\": \"accuracy\", \"showLegend\": false}, \"run_metrics\": [{\"name\": \"experiment_status\", \"run_id\": \"AutoML_bc2e3412-0fa5-4deb-a995-cba4daef2ede\", \"categories\": [0, 1, 2, 3, 4, 5], \"series\": [{\"data\": [\"DatasetEvaluation\", \"FeaturesGeneration\", \"DatasetFeaturization\", \"DatasetFeaturizationCompleted\", \"DatasetCrossValidationSplit\", \"ModelSelection\"]}]}, {\"name\": \"experiment_status_description\", \"run_id\": \"AutoML_bc2e3412-0fa5-4deb-a995-cba4daef2ede\", \"categories\": [0, 1, 2, 3, 4, 5], \"series\": [{\"data\": [\"Gathering dataset statistics.\", \"Generating features for the dataset.\", \"Beginning to fit featurizers and featurize the dataset.\", \"Completed fit featurizers and featurizing the dataset.\", \"Generating individually featurized CV splits.\", \"Beginning model selection.\"]}]}, {\"name\": \"AUC_micro\", \"run_id\": \"AutoML_bc2e3412-0fa5-4deb-a995-cba4daef2ede\", \"categories\": [0], \"series\": [{\"data\": [0.8518044588704057]}]}, {\"name\": \"f1_score_weighted\", \"run_id\": \"AutoML_bc2e3412-0fa5-4deb-a995-cba4daef2ede\", \"categories\": [0], \"series\": [{\"data\": [0.7778580815734392]}]}, {\"name\": \"AUC_weighted\", \"run_id\": \"AutoML_bc2e3412-0fa5-4deb-a995-cba4daef2ede\", \"categories\": [0], \"series\": [{\"data\": [0.836385560371636]}]}, {\"name\": \"average_precision_score_micro\", \"run_id\": \"AutoML_bc2e3412-0fa5-4deb-a995-cba4daef2ede\", \"categories\": [0], \"series\": [{\"data\": [0.8507277651459367]}]}, {\"name\": \"recall_score_weighted\", \"run_id\": \"AutoML_bc2e3412-0fa5-4deb-a995-cba4daef2ede\", \"categories\": [0], \"series\": [{\"data\": [0.7821229050279329]}]}, {\"name\": \"weighted_accuracy\", \"run_id\": \"AutoML_bc2e3412-0fa5-4deb-a995-cba4daef2ede\", \"categories\": [0], \"series\": [{\"data\": [0.8115431465470194]}]}, {\"name\": \"precision_score_weighted\", \"run_id\": \"AutoML_bc2e3412-0fa5-4deb-a995-cba4daef2ede\", \"categories\": [0], \"series\": [{\"data\": [0.7815432553095345]}]}, {\"name\": \"f1_score_macro\", \"run_id\": \"AutoML_bc2e3412-0fa5-4deb-a995-cba4daef2ede\", \"categories\": [0], \"series\": [{\"data\": [0.7552676932139821]}]}, {\"name\": \"recall_score_macro\", \"run_id\": \"AutoML_bc2e3412-0fa5-4deb-a995-cba4daef2ede\", \"categories\": [0], \"series\": [{\"data\": [0.7477218413793496]}]}, {\"name\": \"matthews_correlation\", \"run_id\": \"AutoML_bc2e3412-0fa5-4deb-a995-cba4daef2ede\", \"categories\": [0], \"series\": [{\"data\": [0.5190502931684798]}]}, {\"name\": \"average_precision_score_weighted\", \"run_id\": \"AutoML_bc2e3412-0fa5-4deb-a995-cba4daef2ede\", \"categories\": [0], \"series\": [{\"data\": [0.8360094514505017]}]}, {\"name\": \"balanced_accuracy\", \"run_id\": \"AutoML_bc2e3412-0fa5-4deb-a995-cba4daef2ede\", \"categories\": [0], \"series\": [{\"data\": [0.7477218413793496]}]}, {\"name\": \"accuracy\", \"run_id\": \"AutoML_bc2e3412-0fa5-4deb-a995-cba4daef2ede\", \"categories\": [0], \"series\": [{\"data\": [0.7821229050279329]}]}, {\"name\": \"precision_score_macro\", \"run_id\": \"AutoML_bc2e3412-0fa5-4deb-a995-cba4daef2ede\", \"categories\": [0], \"series\": [{\"data\": [0.7721544130945562]}]}, {\"name\": \"norm_macro_recall\", \"run_id\": \"AutoML_bc2e3412-0fa5-4deb-a995-cba4daef2ede\", \"categories\": [0], \"series\": [{\"data\": [0.4954436827586994]}]}, {\"name\": \"log_loss\", \"run_id\": \"AutoML_bc2e3412-0fa5-4deb-a995-cba4daef2ede\", \"categories\": [0], \"series\": [{\"data\": [0.4981765954320286]}]}, {\"name\": \"average_precision_score_macro\", \"run_id\": \"AutoML_bc2e3412-0fa5-4deb-a995-cba4daef2ede\", \"categories\": [0], \"series\": [{\"data\": [0.8111872939334838]}]}, {\"name\": \"precision_score_micro\", \"run_id\": \"AutoML_bc2e3412-0fa5-4deb-a995-cba4daef2ede\", \"categories\": [0], \"series\": [{\"data\": [0.7821229050279329]}]}, {\"name\": \"AUC_macro\", \"run_id\": \"AutoML_bc2e3412-0fa5-4deb-a995-cba4daef2ede\", \"categories\": [0], \"series\": [{\"data\": [0.836385560371636]}]}, {\"name\": \"f1_score_micro\", \"run_id\": \"AutoML_bc2e3412-0fa5-4deb-a995-cba4daef2ede\", \"categories\": [0], \"series\": [{\"data\": [0.7821229050279329]}]}, {\"name\": \"recall_score_micro\", \"run_id\": \"AutoML_bc2e3412-0fa5-4deb-a995-cba4daef2ede\", \"categories\": [0], \"series\": [{\"data\": [0.7821229050279329]}]}], \"run_logs\": \"\\nRun is completed.\", \"graph\": {}, \"widget_settings\": {\"childWidgetDisplay\": \"popup\", \"send_telemetry\": false, \"log_level\": \"INFO\", \"sdk_version\": \"1.19.0\"}, \"loading\": false}"
     },
     "metadata": {},
     "output_type": "display_data"
    },
    {
     "name": "stdout",
     "output_type": "stream",
     "text": [
      "\n",
      "Current status: FeaturesGeneration. Generating features for the dataset.\n",
      "Current status: ModelSelection. Beginning model selection.\n",
      "\n",
      "****************************************************************************************************\n",
      "DATA GUARDRAILS: \n",
      "\n",
      "TYPE:         Class balancing detection\n",
      "STATUS:       PASSED\n",
      "DESCRIPTION:  Your inputs were analyzed, and all classes are balanced in your training data.\n",
      "              Learn more about imbalanced data: https://aka.ms/AutomatedMLImbalancedData\n",
      "\n",
      "****************************************************************************************************\n",
      "\n",
      "TYPE:         High cardinality feature detection\n",
      "STATUS:       PASSED\n",
      "DESCRIPTION:  Your inputs were analyzed, and no high cardinality features were detected.\n",
      "              Learn more about high cardinality feature handling: https://aka.ms/AutomatedMLFeaturization\n",
      "\n",
      "****************************************************************************************************\n",
      "\n",
      "****************************************************************************************************\n",
      "ITERATION: The iteration being evaluated.\n",
      "PIPELINE: A summary description of the pipeline being evaluated.\n",
      "DURATION: Time taken for the current iteration.\n",
      "METRIC: The result of computing score on the fitted pipeline.\n",
      "BEST: The best observed score thus far.\n",
      "****************************************************************************************************\n",
      "\n",
      " ITERATION   PIPELINE                                       DURATION      METRIC      BEST\n",
      "         3   MinMaxScaler RandomForest                      0:01:00       0.7579    0.7579\n",
      "         0   MaxAbsScaler LightGBM                          0:01:02       0.7486    0.7579\n",
      "         1   MaxAbsScaler XGBoostClassifier                 0:01:12       0.7523    0.7579\n",
      "         2   MinMaxScaler RandomForest                      0:01:45       0.7561    0.7579\n",
      "         4   MinMaxScaler RandomForest                      0:00:55       0.7821    0.7821\n",
      "         5   StandardScalerWrapper XGBoostClassifier        0:00:55       0.6983    0.7821\n",
      "         6   StandardScalerWrapper GradientBoosting         0:01:29       0.7635    0.7821\n",
      "         7   MinMaxScaler SVM                               0:01:02       0.7318    0.7821\n",
      "         8   SparseNormalizer XGBoostClassifier             0:00:52       0.6872    0.7821\n",
      "         9   SparseNormalizer XGBoostClassifier             0:00:47       0.6778    0.7821\n",
      "        10   StandardScalerWrapper RandomForest             0:00:52       0.7505    0.7821\n",
      "        11   StandardScalerWrapper LightGBM                 0:00:49       0.7542    0.7821\n",
      "        12   MaxAbsScaler LightGBM                          0:00:51       0.7393    0.7821\n",
      "        13   MinMaxScaler LightGBM                          0:01:03       0.7523    0.7821\n",
      "        14   RobustScaler ExtremeRandomTrees                0:00:55       0.7523    0.7821\n",
      "        15   MaxAbsScaler ExtremeRandomTrees                0:01:03       0.7505    0.7821\n",
      "        16   MaxAbsScaler LightGBM                          0:00:52       0.7467    0.7821\n",
      "        17   MaxAbsScaler LightGBM                          0:01:27       0.7430    0.7821\n",
      "        18   MaxAbsScaler GradientBoosting                  0:00:54       0.7523    0.7821\n",
      "        19   SparseNormalizer XGBoostClassifier             0:01:04       0.6797    0.7821\n",
      "        20   MaxAbsScaler LightGBM                          0:00:56       0.7467    0.7821\n",
      "        21   SparseNormalizer XGBoostClassifier             0:01:03       0.6723    0.7821\n",
      "        22   SparseNormalizer XGBoostClassifier             0:00:57       0.6778    0.7821\n",
      "        23   StandardScalerWrapper SVM                      0:00:43       0.6965    0.7821\n",
      "        24   StandardScalerWrapper LightGBM                 0:01:00       0.7635    0.7821\n",
      "        25   MaxAbsScaler RandomForest                      0:01:01       0.7430    0.7821\n",
      "        26   MaxAbsScaler RandomForest                      0:00:53       0.7542    0.7821\n",
      "        27   StandardScalerWrapper ExtremeRandomTrees       0:00:58       0.7542    0.7821\n",
      "        28   MaxAbsScaler LightGBM                          0:00:51       0.7523    0.7821\n",
      "        30   MinMaxScaler RandomForest                      0:00:53       0.7132    0.7821\n",
      "        29   StandardScalerWrapper LightGBM                 0:01:06       0.7523    0.7821\n",
      "        31   MaxAbsScaler LogisticRegression                0:00:58       0.7542    0.7821\n",
      "        32   MaxAbsScaler LightGBM                          0:01:21       0.7467    0.7821\n",
      "        33   RobustScaler LightGBM                          0:00:34          nan    0.7821\n",
      "        34   StandardScalerWrapper XGBoostClassifier        0:00:26          nan    0.7821\n",
      "        35                                                  0:00:21          nan    0.7821\n",
      "        36    VotingEnsemble                                0:01:19       0.7821    0.7821\n"
     ]
    },
    {
     "data": {
      "text/plain": [
       "{'runId': 'AutoML_bc2e3412-0fa5-4deb-a995-cba4daef2ede',\n",
       " 'target': 'puru-compute',\n",
       " 'status': 'Completed',\n",
       " 'startTimeUtc': '2020-12-25T19:55:59.624389Z',\n",
       " 'endTimeUtc': '2020-12-25T20:12:59.528726Z',\n",
       " 'properties': {'num_iterations': '1000',\n",
       "  'training_type': 'TrainFull',\n",
       "  'acquisition_function': 'EI',\n",
       "  'primary_metric': 'accuracy',\n",
       "  'train_split': '0',\n",
       "  'acquisition_parameter': '0',\n",
       "  'num_cross_validation': '3',\n",
       "  'target': 'puru-compute',\n",
       "  'AMLSettingsJsonString': '{\"path\":null,\"name\":\"puru-auto-experiment\",\"subscription_id\":\"9b72f9e6-56c5-4c16-991b-19c652994860\",\"resource_group\":\"aml-quickstarts-131753\",\"workspace_name\":\"quick-starts-ws-131753\",\"region\":\"southcentralus\",\"compute_target\":\"puru-compute\",\"spark_service\":null,\"azure_service\":\"remote\",\"many_models\":false,\"pipeline_fetch_max_batch_size\":1,\"iterations\":1000,\"primary_metric\":\"accuracy\",\"task_type\":\"classification\",\"data_script\":null,\"validation_size\":0.0,\"n_cross_validations\":3,\"y_min\":null,\"y_max\":null,\"num_classes\":null,\"featurization\":\"auto\",\"_ignore_package_version_incompatibilities\":false,\"is_timeseries\":false,\"max_cores_per_iteration\":-1,\"max_concurrent_iterations\":4,\"iteration_timeout_minutes\":5,\"mem_in_mb\":null,\"enforce_time_on_windows\":false,\"experiment_timeout_minutes\":30,\"experiment_exit_score\":null,\"whitelist_models\":null,\"blacklist_algos\":[\"TensorFlowLinearClassifier\",\"TensorFlowDNN\"],\"supported_models\":[\"SGD\",\"BernoulliNaiveBayes\",\"KNN\",\"LogisticRegression\",\"SVM\",\"LightGBM\",\"DecisionTree\",\"XGBoostClassifier\",\"AveragedPerceptronClassifier\",\"RandomForest\",\"MultinomialNaiveBayes\",\"GradientBoosting\",\"TensorFlowDNN\",\"TensorFlowLinearClassifier\",\"LinearSVM\",\"ExtremeRandomTrees\"],\"auto_blacklist\":true,\"blacklist_samples_reached\":false,\"exclude_nan_labels\":true,\"verbosity\":20,\"_debug_log\":\"azureml_automl.log\",\"show_warnings\":false,\"model_explainability\":true,\"service_url\":null,\"sdk_url\":null,\"sdk_packages\":null,\"enable_onnx_compatible_models\":true,\"enable_split_onnx_featurizer_estimator_models\":false,\"vm_type\":\"STANDARD_DS3_V2\",\"telemetry_verbosity\":20,\"send_telemetry\":true,\"enable_dnn\":false,\"scenario\":\"SDK-1.13.0\",\"environment_label\":null,\"force_text_dnn\":false,\"enable_feature_sweeping\":false,\"enable_early_stopping\":true,\"early_stopping_n_iters\":10,\"metrics\":null,\"enable_ensembling\":true,\"enable_stack_ensembling\":false,\"ensemble_iterations\":15,\"enable_tf\":false,\"enable_subsampling\":null,\"subsample_seed\":null,\"enable_nimbusml\":false,\"enable_streaming\":false,\"force_streaming\":false,\"track_child_runs\":true,\"allowed_private_models\":[],\"label_column_name\":\"Outcome\",\"weight_column_name\":null,\"cv_split_column_names\":null,\"enable_local_managed\":false,\"_local_managed_run_id\":null,\"cost_mode\":1,\"lag_length\":0,\"metric_operation\":\"maximize\",\"preprocess\":true}',\n",
       "  'DataPrepJsonString': '{\\\\\"training_data\\\\\": \\\\\"{\\\\\\\\\\\\\"blocks\\\\\\\\\\\\\": [{\\\\\\\\\\\\\"id\\\\\\\\\\\\\": \\\\\\\\\\\\\"7cb8110a-6c82-4b11-9a28-1fa18b4419ae\\\\\\\\\\\\\", \\\\\\\\\\\\\"type\\\\\\\\\\\\\": \\\\\\\\\\\\\"Microsoft.DPrep.GetDatastoreFilesBlock\\\\\\\\\\\\\", \\\\\\\\\\\\\"arguments\\\\\\\\\\\\\": {\\\\\\\\\\\\\"datastores\\\\\\\\\\\\\": [{\\\\\\\\\\\\\"datastoreName\\\\\\\\\\\\\": \\\\\\\\\\\\\"workspaceblobstore\\\\\\\\\\\\\", \\\\\\\\\\\\\"path\\\\\\\\\\\\\": \\\\\\\\\\\\\"automlclassifier/train_data.csv\\\\\\\\\\\\\", \\\\\\\\\\\\\"resourceGroup\\\\\\\\\\\\\": \\\\\\\\\\\\\"aml-quickstarts-131753\\\\\\\\\\\\\", \\\\\\\\\\\\\"subscription\\\\\\\\\\\\\": \\\\\\\\\\\\\"9b72f9e6-56c5-4c16-991b-19c652994860\\\\\\\\\\\\\", \\\\\\\\\\\\\"workspaceName\\\\\\\\\\\\\": \\\\\\\\\\\\\"quick-starts-ws-131753\\\\\\\\\\\\\"}]}, \\\\\\\\\\\\\"localData\\\\\\\\\\\\\": {}, \\\\\\\\\\\\\"isEnabled\\\\\\\\\\\\\": true, \\\\\\\\\\\\\"name\\\\\\\\\\\\\": null, \\\\\\\\\\\\\"annotation\\\\\\\\\\\\\": null}, {\\\\\\\\\\\\\"id\\\\\\\\\\\\\": \\\\\\\\\\\\\"20d544f5-81ae-4cfd-bfe3-5a39f24d498f\\\\\\\\\\\\\", \\\\\\\\\\\\\"type\\\\\\\\\\\\\": \\\\\\\\\\\\\"Microsoft.DPrep.ParseDelimitedBlock\\\\\\\\\\\\\", \\\\\\\\\\\\\"arguments\\\\\\\\\\\\\": {\\\\\\\\\\\\\"columnHeadersMode\\\\\\\\\\\\\": 3, \\\\\\\\\\\\\"fileEncoding\\\\\\\\\\\\\": 0, \\\\\\\\\\\\\"handleQuotedLineBreaks\\\\\\\\\\\\\": false, \\\\\\\\\\\\\"preview\\\\\\\\\\\\\": false, \\\\\\\\\\\\\"separator\\\\\\\\\\\\\": \\\\\\\\\\\\\",\\\\\\\\\\\\\", \\\\\\\\\\\\\"skipRows\\\\\\\\\\\\\": 0, \\\\\\\\\\\\\"skipRowsMode\\\\\\\\\\\\\": 0}, \\\\\\\\\\\\\"localData\\\\\\\\\\\\\": {}, \\\\\\\\\\\\\"isEnabled\\\\\\\\\\\\\": true, \\\\\\\\\\\\\"name\\\\\\\\\\\\\": null, \\\\\\\\\\\\\"annotation\\\\\\\\\\\\\": null}, {\\\\\\\\\\\\\"id\\\\\\\\\\\\\": \\\\\\\\\\\\\"9c334a9f-a49d-415d-8ba0-b87679433559\\\\\\\\\\\\\", \\\\\\\\\\\\\"type\\\\\\\\\\\\\": \\\\\\\\\\\\\"Microsoft.DPrep.DropColumnsBlock\\\\\\\\\\\\\", \\\\\\\\\\\\\"arguments\\\\\\\\\\\\\": {\\\\\\\\\\\\\"columns\\\\\\\\\\\\\": {\\\\\\\\\\\\\"type\\\\\\\\\\\\\": 0, \\\\\\\\\\\\\"details\\\\\\\\\\\\\": {\\\\\\\\\\\\\"selectedColumns\\\\\\\\\\\\\": [\\\\\\\\\\\\\"Path\\\\\\\\\\\\\"]}}}, \\\\\\\\\\\\\"localData\\\\\\\\\\\\\": {}, \\\\\\\\\\\\\"isEnabled\\\\\\\\\\\\\": true, \\\\\\\\\\\\\"name\\\\\\\\\\\\\": null, \\\\\\\\\\\\\"annotation\\\\\\\\\\\\\": null}, {\\\\\\\\\\\\\"id\\\\\\\\\\\\\": \\\\\\\\\\\\\"8af3dc78-132f-46bc-b74c-8edf33960a01\\\\\\\\\\\\\", \\\\\\\\\\\\\"type\\\\\\\\\\\\\": \\\\\\\\\\\\\"Microsoft.DPrep.SetColumnTypesBlock\\\\\\\\\\\\\", \\\\\\\\\\\\\"arguments\\\\\\\\\\\\\": {\\\\\\\\\\\\\"columnConversion\\\\\\\\\\\\\": [{\\\\\\\\\\\\\"column\\\\\\\\\\\\\": {\\\\\\\\\\\\\"type\\\\\\\\\\\\\": 2, \\\\\\\\\\\\\"details\\\\\\\\\\\\\": {\\\\\\\\\\\\\"selectedColumn\\\\\\\\\\\\\": \\\\\\\\\\\\\"Pregnancies\\\\\\\\\\\\\"}}, \\\\\\\\\\\\\"typeProperty\\\\\\\\\\\\\": 2}, {\\\\\\\\\\\\\"column\\\\\\\\\\\\\": {\\\\\\\\\\\\\"type\\\\\\\\\\\\\": 2, \\\\\\\\\\\\\"details\\\\\\\\\\\\\": {\\\\\\\\\\\\\"selectedColumn\\\\\\\\\\\\\": \\\\\\\\\\\\\"Glucose\\\\\\\\\\\\\"}}, \\\\\\\\\\\\\"typeProperty\\\\\\\\\\\\\": 2}, {\\\\\\\\\\\\\"column\\\\\\\\\\\\\": {\\\\\\\\\\\\\"type\\\\\\\\\\\\\": 2, \\\\\\\\\\\\\"details\\\\\\\\\\\\\": {\\\\\\\\\\\\\"selectedColumn\\\\\\\\\\\\\": \\\\\\\\\\\\\"BloodPressure\\\\\\\\\\\\\"}}, \\\\\\\\\\\\\"typeProperty\\\\\\\\\\\\\": 2}, {\\\\\\\\\\\\\"column\\\\\\\\\\\\\": {\\\\\\\\\\\\\"type\\\\\\\\\\\\\": 2, \\\\\\\\\\\\\"details\\\\\\\\\\\\\": {\\\\\\\\\\\\\"selectedColumn\\\\\\\\\\\\\": \\\\\\\\\\\\\"SkinThickness\\\\\\\\\\\\\"}}, \\\\\\\\\\\\\"typeProperty\\\\\\\\\\\\\": 2}, {\\\\\\\\\\\\\"column\\\\\\\\\\\\\": {\\\\\\\\\\\\\"type\\\\\\\\\\\\\": 2, \\\\\\\\\\\\\"details\\\\\\\\\\\\\": {\\\\\\\\\\\\\"selectedColumn\\\\\\\\\\\\\": \\\\\\\\\\\\\"Insulin\\\\\\\\\\\\\"}}, \\\\\\\\\\\\\"typeProperty\\\\\\\\\\\\\": 2}, {\\\\\\\\\\\\\"column\\\\\\\\\\\\\": {\\\\\\\\\\\\\"type\\\\\\\\\\\\\": 2, \\\\\\\\\\\\\"details\\\\\\\\\\\\\": {\\\\\\\\\\\\\"selectedColumn\\\\\\\\\\\\\": \\\\\\\\\\\\\"BMI\\\\\\\\\\\\\"}}, \\\\\\\\\\\\\"typeProperty\\\\\\\\\\\\\": 3}, {\\\\\\\\\\\\\"column\\\\\\\\\\\\\": {\\\\\\\\\\\\\"type\\\\\\\\\\\\\": 2, \\\\\\\\\\\\\"details\\\\\\\\\\\\\": {\\\\\\\\\\\\\"selectedColumn\\\\\\\\\\\\\": \\\\\\\\\\\\\"DiabetesPedigreeFunction\\\\\\\\\\\\\"}}, \\\\\\\\\\\\\"typeProperty\\\\\\\\\\\\\": 3}, {\\\\\\\\\\\\\"column\\\\\\\\\\\\\": {\\\\\\\\\\\\\"type\\\\\\\\\\\\\": 2, \\\\\\\\\\\\\"details\\\\\\\\\\\\\": {\\\\\\\\\\\\\"selectedColumn\\\\\\\\\\\\\": \\\\\\\\\\\\\"Age\\\\\\\\\\\\\"}}, \\\\\\\\\\\\\"typeProperty\\\\\\\\\\\\\": 2}, {\\\\\\\\\\\\\"column\\\\\\\\\\\\\": {\\\\\\\\\\\\\"type\\\\\\\\\\\\\": 2, \\\\\\\\\\\\\"details\\\\\\\\\\\\\": {\\\\\\\\\\\\\"selectedColumn\\\\\\\\\\\\\": \\\\\\\\\\\\\"Outcome\\\\\\\\\\\\\"}}, \\\\\\\\\\\\\"typeProperty\\\\\\\\\\\\\": 2}]}, \\\\\\\\\\\\\"localData\\\\\\\\\\\\\": {}, \\\\\\\\\\\\\"isEnabled\\\\\\\\\\\\\": true, \\\\\\\\\\\\\"name\\\\\\\\\\\\\": null, \\\\\\\\\\\\\"annotation\\\\\\\\\\\\\": null}], \\\\\\\\\\\\\"inspectors\\\\\\\\\\\\\": [], \\\\\\\\\\\\\"meta\\\\\\\\\\\\\": {\\\\\\\\\\\\\"savedDatasetId\\\\\\\\\\\\\": \\\\\\\\\\\\\"d0d52fd0-dd2f-460f-a6bc-206ad093ae51\\\\\\\\\\\\\", \\\\\\\\\\\\\"datasetType\\\\\\\\\\\\\": \\\\\\\\\\\\\"tabular\\\\\\\\\\\\\", \\\\\\\\\\\\\"subscriptionId\\\\\\\\\\\\\": \\\\\\\\\\\\\"9b72f9e6-56c5-4c16-991b-19c652994860\\\\\\\\\\\\\", \\\\\\\\\\\\\"workspaceId\\\\\\\\\\\\\": \\\\\\\\\\\\\"2d00efa9-743d-4abb-ae0a-7e2f2a0a211f\\\\\\\\\\\\\", \\\\\\\\\\\\\"workspaceLocation\\\\\\\\\\\\\": \\\\\\\\\\\\\"southcentralus\\\\\\\\\\\\\"}}\\\\\", \\\\\"activities\\\\\": 0}',\n",
       "  'EnableSubsampling': None,\n",
       "  'runTemplate': 'AutoML',\n",
       "  'azureml.runsource': 'automl',\n",
       "  'display_task_type': 'classification',\n",
       "  'dependencies_versions': '{\"azureml-widgets\": \"1.19.0\", \"azureml-train\": \"1.19.0\", \"azureml-train-restclients-hyperdrive\": \"1.19.0\", \"azureml-train-core\": \"1.19.0\", \"azureml-train-automl\": \"1.19.0\", \"azureml-train-automl-runtime\": \"1.19.0\", \"azureml-train-automl-client\": \"1.19.0\", \"azureml-tensorboard\": \"1.19.0\", \"azureml-telemetry\": \"1.19.0\", \"azureml-sdk\": \"1.19.0\", \"azureml-samples\": \"0+unknown\", \"azureml-pipeline\": \"1.19.0\", \"azureml-pipeline-steps\": \"1.19.0\", \"azureml-pipeline-core\": \"1.19.0\", \"azureml-opendatasets\": \"1.19.0\", \"azureml-model-management-sdk\": \"1.0.1b6.post1\", \"azureml-mlflow\": \"1.19.0\", \"azureml-interpret\": \"1.19.0\", \"azureml-explain-model\": \"1.19.0\", \"azureml-defaults\": \"1.19.0\", \"azureml-dataset-runtime\": \"1.19.0\", \"azureml-dataprep\": \"2.6.1\", \"azureml-dataprep-rslex\": \"1.4.0\", \"azureml-dataprep-native\": \"26.0.0\", \"azureml-datadrift\": \"1.19.0\", \"azureml-core\": \"1.19.0\", \"azureml-contrib-services\": \"1.19.0\", \"azureml-contrib-server\": \"1.19.0\", \"azureml-contrib-reinforcementlearning\": \"1.19.0\", \"azureml-contrib-pipeline-steps\": \"1.19.0\", \"azureml-contrib-notebook\": \"1.19.0\", \"azureml-contrib-interpret\": \"1.19.0\", \"azureml-contrib-gbdt\": \"1.19.0\", \"azureml-contrib-fairness\": \"1.19.0\", \"azureml-contrib-dataset\": \"1.19.0\", \"azureml-cli-common\": \"1.19.0\", \"azureml-automl-runtime\": \"1.19.0\", \"azureml-automl-core\": \"1.19.0\", \"azureml-accel-models\": \"1.19.0\"}',\n",
       "  '_aml_system_scenario_identification': 'Remote.Parent',\n",
       "  'ClientType': 'SDK',\n",
       "  'environment_cpu_name': 'AzureML-AutoML',\n",
       "  'environment_cpu_label': 'prod',\n",
       "  'environment_gpu_name': 'AzureML-AutoML-GPU',\n",
       "  'environment_gpu_label': 'prod',\n",
       "  'root_attribution': 'automl',\n",
       "  'attribution': 'AutoML',\n",
       "  'Orchestrator': 'AutoML',\n",
       "  'CancelUri': 'https://southcentralus.experiments.azureml.net/jasmine/v1.0/subscriptions/9b72f9e6-56c5-4c16-991b-19c652994860/resourceGroups/aml-quickstarts-131753/providers/Microsoft.MachineLearningServices/workspaces/quick-starts-ws-131753/experimentids/4fb98858-5092-42f3-ae31-bd8c1a9d6ce7/cancel/AutoML_bc2e3412-0fa5-4deb-a995-cba4daef2ede',\n",
       "  'ClientSdkVersion': '1.19.0',\n",
       "  'snapshotId': '00000000-0000-0000-0000-000000000000',\n",
       "  'SetupRunId': 'AutoML_bc2e3412-0fa5-4deb-a995-cba4daef2ede_setup',\n",
       "  'SetupRunContainerId': 'dcid.AutoML_bc2e3412-0fa5-4deb-a995-cba4daef2ede_setup',\n",
       "  'FeaturizationRunJsonPath': 'featurizer_container.json',\n",
       "  'FeaturizationRunId': 'AutoML_bc2e3412-0fa5-4deb-a995-cba4daef2ede_featurize',\n",
       "  'ProblemInfoJsonString': '{\"dataset_num_categorical\": 0, \"is_sparse\": false, \"subsampling\": false, \"dataset_classes\": 2, \"dataset_features\": 8, \"dataset_samples\": 537, \"single_frequency_class_detected\": false}',\n",
       "  'ModelExplainRunId': 'AutoML_bc2e3412-0fa5-4deb-a995-cba4daef2ede_ModelExplain'},\n",
       " 'inputDatasets': [{'dataset': {'id': 'd0d52fd0-dd2f-460f-a6bc-206ad093ae51'}, 'consumptionDetails': {'type': 'RunInput', 'inputName': 'training_data', 'mechanism': 'Direct'}}],\n",
       " 'outputDatasets': [],\n",
       " 'logFiles': {}}"
      ]
     },
     "execution_count": 18,
     "metadata": {},
     "output_type": "execute_result"
    }
   ],
   "source": [
    "from azureml.widgets import RunDetails\n",
    "RunDetails(remote_run).show()\n",
    "\n",
    "# wait for completion\n",
    "remote_run.wait_for_completion(show_output=True)"
   ]
  },
  {
   "cell_type": "markdown",
   "metadata": {},
   "source": [
    "## Best Model\n",
    "\n",
    "TODO: In the cell below, get the best model from the automl experiments and display all the properties of the model.\n",
    "\n"
   ]
  },
  {
   "cell_type": "code",
   "execution_count": 20,
   "metadata": {
    "gather": {
     "logged": 1598431425670
    },
    "jupyter": {
     "outputs_hidden": false,
     "source_hidden": false
    },
    "nteract": {
     "transient": {
      "deleting": false
     }
    }
   },
   "outputs": [
    {
     "name": "stdout",
     "output_type": "stream",
     "text": [
      "Run(Experiment: puru-auto-experiment,\n",
      "Id: AutoML_bc2e3412-0fa5-4deb-a995-cba4daef2ede_36,\n",
      "Type: azureml.scriptrun,\n",
      "Status: Completed)\n",
      "Best Model: AutoMLbc2e3412036\n"
     ]
    },
    {
     "data": {
      "text/plain": [
       "{'runTemplate': 'automl_child',\n",
       " 'pipeline_id': '__AutoML_Ensemble__',\n",
       " 'pipeline_spec': '{\"pipeline_id\":\"__AutoML_Ensemble__\",\"objects\":[{\"module\":\"azureml.train.automl.ensemble\",\"class_name\":\"Ensemble\",\"spec_class\":\"sklearn\",\"param_args\":[],\"param_kwargs\":{\"automl_settings\":\"{\\'task_type\\':\\'classification\\',\\'primary_metric\\':\\'accuracy\\',\\'verbosity\\':20,\\'ensemble_iterations\\':15,\\'is_timeseries\\':False,\\'name\\':\\'puru-auto-experiment\\',\\'compute_target\\':\\'puru-compute\\',\\'subscription_id\\':\\'9b72f9e6-56c5-4c16-991b-19c652994860\\',\\'region\\':\\'southcentralus\\',\\'spark_service\\':None}\",\"ensemble_run_id\":\"AutoML_bc2e3412-0fa5-4deb-a995-cba4daef2ede_36\",\"experiment_name\":\"puru-auto-experiment\",\"workspace_name\":\"quick-starts-ws-131753\",\"subscription_id\":\"9b72f9e6-56c5-4c16-991b-19c652994860\",\"resource_group_name\":\"aml-quickstarts-131753\"}}]}',\n",
       " 'training_percent': '100',\n",
       " 'predicted_cost': None,\n",
       " 'iteration': '36',\n",
       " '_aml_system_scenario_identification': 'Remote.Child',\n",
       " '_azureml.ComputeTargetType': 'amlcompute',\n",
       " 'ContentSnapshotId': '6b28f1e7-be64-41f0-83ad-f68350a1ae06',\n",
       " 'ProcessInfoFile': 'azureml-logs/process_info.json',\n",
       " 'ProcessStatusFile': 'azureml-logs/process_status.json',\n",
       " 'run_template': 'automl_child',\n",
       " 'run_preprocessor': '',\n",
       " 'run_algorithm': 'VotingEnsemble',\n",
       " 'conda_env_data_location': 'aml://artifact/ExperimentRun/dcid.AutoML_bc2e3412-0fa5-4deb-a995-cba4daef2ede_36/outputs/conda_env_v_1_0_0.yml',\n",
       " 'model_data_location': 'aml://artifact/ExperimentRun/dcid.AutoML_bc2e3412-0fa5-4deb-a995-cba4daef2ede_36/outputs/model.pkl',\n",
       " 'model_size_on_disk': '1055867',\n",
       " 'scoring_data_location': 'aml://artifact/ExperimentRun/dcid.AutoML_bc2e3412-0fa5-4deb-a995-cba4daef2ede_36/outputs/scoring_file_v_1_0_0.py',\n",
       " 'model_exp_support': 'True',\n",
       " 'pipeline_graph_version': '1.0.0',\n",
       " 'model_name': 'AutoMLbc2e3412036',\n",
       " 'staticProperties': '{}',\n",
       " 'score': '0.7821229050279329',\n",
       " 'run_properties': \"classification_labels=None,\\n                              estimators=[('4',\\n                                           Pipeline(memory=None,\\n                                                    steps=[('minmaxscaler',\\n                                                            MinMaxScaler(copy=True,\\n                                                                         feature_range=(0,\\n                                                                                        1\",\n",
       " 'pipeline_script': '{\"pipeline_id\":\"__AutoML_Ensemble__\",\"objects\":[{\"module\":\"azureml.train.automl.ensemble\",\"class_name\":\"Ensemble\",\"spec_class\":\"sklearn\",\"param_args\":[],\"param_kwargs\":{\"automl_settings\":\"{\\'task_type\\':\\'classification\\',\\'primary_metric\\':\\'accuracy\\',\\'verbosity\\':20,\\'ensemble_iterations\\':15,\\'is_timeseries\\':False,\\'name\\':\\'puru-auto-experiment\\',\\'compute_target\\':\\'puru-compute\\',\\'subscription_id\\':\\'9b72f9e6-56c5-4c16-991b-19c652994860\\',\\'region\\':\\'southcentralus\\',\\'spark_service\\':None}\",\"ensemble_run_id\":\"AutoML_bc2e3412-0fa5-4deb-a995-cba4daef2ede_36\",\"experiment_name\":\"puru-auto-experiment\",\"workspace_name\":\"quick-starts-ws-131753\",\"subscription_id\":\"9b72f9e6-56c5-4c16-991b-19c652994860\",\"resource_group_name\":\"aml-quickstarts-131753\"}}]}',\n",
       " 'training_type': 'MeanCrossValidation',\n",
       " 'num_classes': '',\n",
       " 'framework': 'sklearn',\n",
       " 'fit_time': '24',\n",
       " 'goal': 'accuracy_max',\n",
       " 'class_labels': '',\n",
       " 'primary_metric': 'accuracy',\n",
       " 'errors': '{}',\n",
       " 'fitted_pipeline': \"Pipeline(memory=None,\\n         steps=[('datatransformer',\\n                 DataTransformer(enable_dnn=None, enable_feature_sweeping=None,\\n                                 feature_sweeping_config=None,\\n                                 feature_sweeping_timeout=None,\\n                                 featurization_config=None, force_text_dnn=None,\\n                                 is_cross_validation=None,\\n                                 is_onnx_compatible=None, logger=None,\\n                                 observer=None, task=None, working_dir=None)),\\n                ('prefittedsoftvotingclassifier',...\\n                                                                                        shrinking=True,\\n                                                                                        tol=0.001,\\n                                                                                        verbose=False))],\\n                                                                     verbose=False))],\\n                                               flatten_transform=None,\\n                                               weights=[0.06666666666666667,\\n                                                        0.06666666666666667,\\n                                                        0.06666666666666667,\\n                                                        0.06666666666666667,\\n                                                        0.2,\\n                                                        0.06666666666666667,\\n                                                        0.06666666666666667,\\n                                                        0.06666666666666667,\\n                                                        0.06666666666666667,\\n                                                        0.06666666666666667,\\n                                                        0.06666666666666667,\\n                                                        0.06666666666666667,\\n                                                        0.06666666666666667]))],\\n         verbose=False)\",\n",
       " 'friendly_errors': '{}',\n",
       " 'onnx_model_resource': \"{'RawColumnNameToOnnxNameMap': {'Pregnancies': 'Pregnancies', 'Glucose': 'Glucose', 'BloodPressure': 'BloodPressure', 'SkinThickness': 'SkinThickness', 'Insulin': 'Insulin', 'BMI': 'BMI', 'DiabetesPedigreeFunction': 'DiabetesPedigreeFunction', 'Age': 'Age'}, 'InputRawColumnSchema': {'Pregnancies': 'floating', 'Glucose': 'floating', 'BloodPressure': 'floating', 'SkinThickness': 'floating', 'Insulin': 'floating', 'BMI': 'floating', 'DiabetesPedigreeFunction': 'floating', 'Age': 'floating'}, 'InputOnnxColumnSchema': {'Pregnancies': 'FloatTensorType', 'Glucose': 'FloatTensorType', 'BloodPressure': 'FloatTensorType', 'SkinThickness': 'FloatTensorType', 'Insulin': 'FloatTensorType', 'BMI': 'FloatTensorType', 'DiabetesPedigreeFunction': 'FloatTensorType', 'Age': 'FloatTensorType'}, 'CanEnableBatchMode': True}\",\n",
       " 'error_code': '',\n",
       " 'failure_reason': '',\n",
       " 'feature_skus': 'automatedml_sdk_guardrails',\n",
       " 'dependencies_versions': '{\"azureml-train-automl-runtime\": \"1.19.0\", \"azureml-train-automl-client\": \"1.19.0\", \"azureml-telemetry\": \"1.19.0\", \"azureml-pipeline-core\": \"1.19.0\", \"azureml-model-management-sdk\": \"1.0.1b6.post1\", \"azureml-interpret\": \"1.19.0\", \"azureml-defaults\": \"1.19.0\", \"azureml-dataset-runtime\": \"1.19.0\", \"azureml-dataprep\": \"2.6.1\", \"azureml-dataprep-rslex\": \"1.4.0\", \"azureml-dataprep-native\": \"26.0.0\", \"azureml-core\": \"1.19.0\", \"azureml-automl-runtime\": \"1.19.0\", \"azureml-automl-core\": \"1.19.0\"}',\n",
       " 'num_cores': '4',\n",
       " 'num_logical_cores': '4',\n",
       " 'peak_memory_usage': '596892',\n",
       " 'vm_configuration': 'Intel(R) Xeon(R) Platinum 8171M CPU @ 2.60GHz',\n",
       " 'core_hours': '0.010669966388888891'}"
      ]
     },
     "execution_count": 20,
     "metadata": {},
     "output_type": "execute_result"
    }
   ],
   "source": [
    "# Retrieve the best automl run model\n",
    "best_automl_run, fitted_automl_model = remote_run.get_output()\n",
    "print(best_automl_run)\n",
    "\n",
    "# get best model and display properties\n",
    "model_name = best_automl_run.properties['model_name']\n",
    "print(\"Best Model:\", model_name)\n",
    "\n",
    "# display all the properties of the best model\n",
    "#best_automl_run #.properties\n",
    "best_automl_run.get_properties()"
   ]
  },
  {
   "cell_type": "code",
   "execution_count": 21,
   "metadata": {
    "gather": {
     "logged": 1598431426111
    },
    "jupyter": {
     "outputs_hidden": false,
     "source_hidden": false
    },
    "nteract": {
     "transient": {
      "deleting": false
     }
    }
   },
   "outputs": [
    {
     "name": "stdout",
     "output_type": "stream",
     "text": [
      "RunID: \tAutoML_bc2e3412-0fa5-4deb-a995-cba4daef2ede\n"
     ]
    }
   ],
   "source": [
    "# register best autoML model for future deployment\n",
    "os.makedirs('outputs', exist_ok=True)\n",
    "\n",
    "description = 'Diabetec'\n",
    "tags = {'area': 'health', 'type': 'classification'}\n",
    "automl_model = remote_run.register_model(model_name = 'automl-best-model', description = description, tags = tags)\n",
    "\n",
    "print(\"RunID: \", remote_run.id, sep='\\t')"
   ]
  },
  {
   "cell_type": "markdown",
   "metadata": {},
   "source": [
    "## Model Deployment\n",
    "\n",
    "Remember you have to deploy only one of the two models you trained.. Perform the steps in the rest of this notebook only if you wish to deploy this model.\n",
    "\n",
    "TODO: In the cell below, register the model, create an inference config and deploy the model as a web service."
   ]
  },
  {
   "cell_type": "code",
   "execution_count": null,
   "metadata": {
    "gather": {
     "logged": 1598431435189
    },
    "jupyter": {
     "outputs_hidden": false,
     "source_hidden": false
    },
    "nteract": {
     "transient": {
      "deleting": false
     }
    }
   },
   "outputs": [
    {
     "name": "stdout",
     "output_type": "stream",
     "text": [
      "Tips: You can try get_logs(): https://aka.ms/debugimage#dockerlog or local deployment: https://aka.ms/debugimage#debug-locally to debug if deployment takes longer than 10 minutes.\n",
      "Running......................................................................................"
     ]
    }
   ],
   "source": [
    "# deploy model as a web service\n",
    "from azureml.core.model import InferenceConfig\n",
    "from azureml.core.webservice import AciWebservice\n",
    "from azureml.core import Environment\n",
    "from azureml.core.model import Model\n",
    "\n",
    "service_name = 'puru-automl-service'\n",
    "env = Environment.get(workspace=ws, name=\"AzureML-Tutorial\")  \n",
    "env.python.conda_dependencies.add_pip_package(\"scikit-learn\")\n",
    "\n",
    "inference_config = InferenceConfig(entry_script='score.py', environment=env)\n",
    "aci_config = AciWebservice.deploy_configuration(cpu_cores=1, memory_gb=4, enable_app_insights=True, auth_enabled=True)\n",
    "\n",
    "model = Model(ws,name='automl-best-model')\n",
    "service = Model.deploy(workspace=ws,\n",
    "                       name=service_name,\n",
    "                       models=[model],\n",
    "                       inference_config=inference_config,\n",
    "                       deployment_config=aci_config,\n",
    "                       overwrite=True)\n",
    "\n",
    "service.wait_for_deployment(show_output=True)"
   ]
  },
  {
   "cell_type": "markdown",
   "metadata": {
    "collapsed": true,
    "gather": {
     "logged": 1598431657736
    },
    "jupyter": {
     "outputs_hidden": false,
     "source_hidden": false
    },
    "nteract": {
     "transient": {
      "deleting": false
     }
    }
   },
   "source": [
    "TODO: In the cell below, send a request to the web service you deployed to test it."
   ]
  },
  {
   "cell_type": "code",
   "execution_count": null,
   "metadata": {
    "gather": {
     "logged": 1598432707604
    },
    "jupyter": {
     "outputs_hidden": false,
     "source_hidden": false
    },
    "nteract": {
     "transient": {
      "deleting": false
     }
    }
   },
   "outputs": [],
   "source": [
    "print(service.get_logs())\n"
   ]
  },
  {
   "cell_type": "markdown",
   "metadata": {
    "collapsed": true,
    "gather": {
     "logged": 1598432765711
    },
    "jupyter": {
     "outputs_hidden": false,
     "source_hidden": false
    },
    "nteract": {
     "transient": {
      "deleting": false
     }
    }
   },
   "source": [
    "TODO: In the cell below, print the logs of the web service and delete the service"
   ]
  },
  {
   "cell_type": "code",
   "execution_count": null,
   "metadata": {
    "jupyter": {
     "outputs_hidden": false,
     "source_hidden": false
    },
    "nteract": {
     "transient": {
      "deleting": false
     }
    }
   },
   "outputs": [],
   "source": [
    "print(service.state)\n",
    "print(\"scoring URI: \" + service.scoring_uri)\n",
    "\n",
    "print(\"Swagger URI: \" + service.swagger_uri)\n",
    "\n",
    "print(\"Authetication Key: \" + service.get_keys())"
   ]
  },
  {
   "cell_type": "code",
   "execution_count": null,
   "metadata": {},
   "outputs": [],
   "source": [
    "import json\n",
    "\n",
    "input_payload = json.dumps({\n",
    "    'data': dataset_x[0:2].tolist(),\n",
    "    'method': 'predict'  # If you have a classification model, you can get probabilities by changing this to 'predict_proba'.\n",
    "})\n",
    "\n",
    "output = service.run(input_payload)\n",
    "\n",
    "print(output)"
   ]
  }
 ],
 "metadata": {
  "kernel_info": {
   "name": "python3-azureml"
  },
  "kernelspec": {
   "display_name": "Python 3",
   "language": "python",
   "name": "python3"
  },
  "language_info": {
   "codemirror_mode": {
    "name": "ipython",
    "version": 3
   },
   "file_extension": ".py",
   "mimetype": "text/x-python",
   "name": "python",
   "nbconvert_exporter": "python",
   "pygments_lexer": "ipython3",
   "version": "3.6.9"
  },
  "nteract": {
   "version": "nteract-front-end@1.0.0"
  }
 },
 "nbformat": 4,
 "nbformat_minor": 2
}
