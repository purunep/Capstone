{
 "cells": [
  {
   "cell_type": "markdown",
   "metadata": {},
   "source": [
    "# Automated ML\n",
    "\n",
    "TODO: Import Dependencies. In the cell below, import all the dependencies that you will need to complete the project."
   ]
  },
  {
   "cell_type": "code",
   "execution_count": 2,
   "metadata": {
    "gather": {
     "logged": 1609085952213
    },
    "jupyter": {
     "outputs_hidden": false,
     "source_hidden": false
    },
    "nteract": {
     "transient": {
      "deleting": false
     }
    }
   },
   "outputs": [
    {
     "name": "stdout",
     "output_type": "stream",
     "text": [
      "SDK version: 1.19.0\n"
     ]
    }
   ],
   "source": [
    "import logging\n",
    "import os\n",
    "import csv\n",
    "\n",
    "from matplotlib import pyplot as plt\n",
    "import numpy as np\n",
    "import pandas as pd\n",
    "#from sklearn import datasets\n",
    "import pkg_resources\n",
    "\n",
    "import azureml.core\n",
    "from azureml.core.experiment import Experiment\n",
    "from azureml.core.workspace import Workspace\n",
    "from azureml.train.automl import AutoMLConfig\n",
    "#from azureml.core.dataset import Dataset\n",
    "\n",
    "from azureml.pipeline.steps import AutoMLStep\n",
    "\n",
    "# Check core SDK version number\n",
    "print(\"SDK version:\", azureml.core.VERSION)"
   ]
  },
  {
   "cell_type": "code",
   "execution_count": 30,
   "metadata": {
    "collapsed": true,
    "gather": {
     "logged": 1609107555128
    },
    "jupyter": {
     "outputs_hidden": false,
     "source_hidden": false
    },
    "nteract": {
     "transient": {
      "deleting": false
     }
    }
   },
   "outputs": [],
   "source": [
    "##writefile score.py\n",
    "import pickle\n",
    "import json\n",
    "import numpy \n",
    "from sklearn.externals import joblib\n",
    "from sklearn.tree import DecisionTreeClassifier\n",
    "from azureml.core.model import Model\n",
    "import time\n",
    "\n",
    "def init():\n",
    "    global model\n",
    "    \n",
    "    model_path = Model.get_model_path('automl-best-model')\n",
    "    print('puru you are here')\n",
    "    model = joblib.load(model_path)\n",
    "\n",
    "\n",
    "def run(data):\n",
    "    try:\n",
    "        data = np.array(json.loads(data))\n",
    "        result = model.predict(data)\n",
    "# You can return any data type, as long as it is JSON serializable.\n",
    "        return result.tolist()\n",
    "    except Exception as e:\n",
    "        error = str(e)\n",
    "        return error"
   ]
  },
  {
   "cell_type": "markdown",
   "metadata": {},
   "source": [
    "## Dataset\n",
    "\n",
    "### Overview\n",
    "TODO: In this markdown cell, give an overview of the dataset you are using. Also mention the task you will be performing.\n",
    "\n",
    "\n",
    "TODO: Get data. In the cell below, write code to access the data you will be using in this project. Remember that the dataset needs to be external."
   ]
  },
  {
   "cell_type": "code",
   "execution_count": 3,
   "metadata": {
    "gather": {
     "logged": 1609085965307
    },
    "jupyter": {
     "outputs_hidden": false,
     "source_hidden": false
    },
    "nteract": {
     "transient": {
      "deleting": false
     }
    }
   },
   "outputs": [],
   "source": [
    "ws = Workspace.from_config()\n",
    "\n",
    "# choose a name for experiment\n",
    "experiment_name = 'puru-auto-experiment'\n",
    "\n",
    "experiment=Experiment(ws, experiment_name)"
   ]
  },
  {
   "cell_type": "code",
   "execution_count": 4,
   "metadata": {
    "gather": {
     "logged": 1609085971002
    }
   },
   "outputs": [
    {
     "name": "stdout",
     "output_type": "stream",
     "text": [
      "Workspace name: quick-starts-ws-132071\n",
      "Azure region: southcentralus\n",
      "Subscription id: d7f39349-a66b-446e-aba6-0053c2cf1c11\n",
      "Resource group: aml-quickstarts-132071\n"
     ]
    }
   ],
   "source": [
    "print('Workspace name: ' + ws.name, \n",
    "      'Azure region: ' + ws.location, \n",
    "      'Subscription id: ' + ws.subscription_id, \n",
    "      'Resource group: ' + ws.resource_group, sep = '\\n')"
   ]
  },
  {
   "cell_type": "code",
   "execution_count": 5,
   "metadata": {
    "gather": {
     "logged": 1609085988405
    }
   },
   "outputs": [
    {
     "name": "stdout",
     "output_type": "stream",
     "text": [
      "Creating a new compute target...\n",
      "Creating\n",
      "Succeeded\n",
      "AmlCompute wait for completion finished\n",
      "\n",
      "Minimum number of nodes requested have been provisioned\n"
     ]
    }
   ],
   "source": [
    "# create or attach an existing compute cluster\n",
    "from azureml.core.compute import ComputeTarget, AmlCompute\n",
    "from azureml.core.compute_target import ComputeTargetException\n",
    "\n",
    "# set name of CPU cluster\n",
    "cpu_cluster_name = \"puru-compute-new\"\n",
    "\n",
    "# Verify that cluster does not exist already\n",
    "try:\n",
    "    cpu_cluster = ComputeTarget(workspace=ws, name=cpu_cluster_name)\n",
    "    print('Found existing cluster, using it.')\n",
    "except ComputeTargetException:\n",
    "    print('Creating a new compute target...')\n",
    "    compute_config = AmlCompute.provisioning_configuration(vm_size='STANDARD_D2_V2',\n",
    "                                                           max_nodes=4)\n",
    "    cpu_cluster = ComputeTarget.create(ws, cpu_cluster_name, compute_config)\n",
    "\n",
    "# wait for completion\n",
    "cpu_cluster.wait_for_completion(show_output=True)"
   ]
  },
  {
   "cell_type": "code",
   "execution_count": 7,
   "metadata": {
    "gather": {
     "logged": 1609086014420
    }
   },
   "outputs": [],
   "source": [
    "from azureml.data.dataset_factory import TabularDatasetFactory\n",
    "from azureml.core import Dataset\n",
    "# NOTE: update the key to match the dataset name\n",
    "found = False\n",
    "key = \"diabetes-classification\"\n",
    "description_text = \"Diabetes datasets for capstone project\"\n",
    "\n",
    "if key in ws.datasets.keys(): \n",
    "        found = True        \n",
    "        dataset = ws.datasets[key] \n",
    "\n",
    "if not found:\n",
    "        # Create Hyperdrive Dataset and register it into Workspace\n",
    "        url = 'https://raw.githubusercontent.com/purunep/Capstone/main/project/data/diabetes.csv'\n",
    "        dataset = Dataset.Tabular.from_delimited_files(url)        \n",
    "        #Register Dataset in Workspace\n",
    "        dataset = dataset.register(workspace=ws,\n",
    "                                   name=key,\n",
    "                                   description=description_text)\n",
    "\n",
    "\n",
    "df = dataset.to_pandas_dataframe()\n",
    "df.describe()\n",
    "\n",
    "from train import clean_data\n",
    "[x_data, y_data] = clean_data(dataset)"
   ]
  },
  {
   "cell_type": "code",
   "execution_count": 8,
   "metadata": {
    "gather": {
     "logged": 1609086021916
    }
   },
   "outputs": [
    {
     "data": {
      "text/html": [
       "<div>\n",
       "<style scoped>\n",
       "    .dataframe tbody tr th:only-of-type {\n",
       "        vertical-align: middle;\n",
       "    }\n",
       "\n",
       "    .dataframe tbody tr th {\n",
       "        vertical-align: top;\n",
       "    }\n",
       "\n",
       "    .dataframe thead th {\n",
       "        text-align: right;\n",
       "    }\n",
       "</style>\n",
       "<table border=\"1\" class=\"dataframe\">\n",
       "  <thead>\n",
       "    <tr style=\"text-align: right;\">\n",
       "      <th></th>\n",
       "      <th>Pregnancies</th>\n",
       "      <th>Glucose</th>\n",
       "      <th>BloodPressure</th>\n",
       "      <th>SkinThickness</th>\n",
       "      <th>Insulin</th>\n",
       "      <th>BMI</th>\n",
       "      <th>DiabetesPedigreeFunction</th>\n",
       "      <th>Age</th>\n",
       "      <th>Outcome</th>\n",
       "    </tr>\n",
       "  </thead>\n",
       "  <tbody>\n",
       "    <tr>\n",
       "      <th>0</th>\n",
       "      <td>6</td>\n",
       "      <td>148</td>\n",
       "      <td>72</td>\n",
       "      <td>35</td>\n",
       "      <td>0</td>\n",
       "      <td>33.6</td>\n",
       "      <td>0.627</td>\n",
       "      <td>50</td>\n",
       "      <td>1</td>\n",
       "    </tr>\n",
       "    <tr>\n",
       "      <th>1</th>\n",
       "      <td>1</td>\n",
       "      <td>85</td>\n",
       "      <td>66</td>\n",
       "      <td>29</td>\n",
       "      <td>0</td>\n",
       "      <td>26.6</td>\n",
       "      <td>0.351</td>\n",
       "      <td>31</td>\n",
       "      <td>0</td>\n",
       "    </tr>\n",
       "    <tr>\n",
       "      <th>2</th>\n",
       "      <td>8</td>\n",
       "      <td>183</td>\n",
       "      <td>64</td>\n",
       "      <td>0</td>\n",
       "      <td>0</td>\n",
       "      <td>23.3</td>\n",
       "      <td>0.672</td>\n",
       "      <td>32</td>\n",
       "      <td>1</td>\n",
       "    </tr>\n",
       "    <tr>\n",
       "      <th>3</th>\n",
       "      <td>1</td>\n",
       "      <td>89</td>\n",
       "      <td>66</td>\n",
       "      <td>23</td>\n",
       "      <td>94</td>\n",
       "      <td>28.1</td>\n",
       "      <td>0.167</td>\n",
       "      <td>21</td>\n",
       "      <td>0</td>\n",
       "    </tr>\n",
       "    <tr>\n",
       "      <th>4</th>\n",
       "      <td>0</td>\n",
       "      <td>137</td>\n",
       "      <td>40</td>\n",
       "      <td>35</td>\n",
       "      <td>168</td>\n",
       "      <td>43.1</td>\n",
       "      <td>2.288</td>\n",
       "      <td>33</td>\n",
       "      <td>1</td>\n",
       "    </tr>\n",
       "  </tbody>\n",
       "</table>\n",
       "</div>"
      ],
      "text/plain": [
       "   Pregnancies  Glucose  BloodPressure  SkinThickness  Insulin   BMI  \\\n",
       "0            6      148             72             35        0  33.6   \n",
       "1            1       85             66             29        0  26.6   \n",
       "2            8      183             64              0        0  23.3   \n",
       "3            1       89             66             23       94  28.1   \n",
       "4            0      137             40             35      168  43.1   \n",
       "\n",
       "   DiabetesPedigreeFunction  Age  Outcome  \n",
       "0                     0.627   50        1  \n",
       "1                     0.351   31        0  \n",
       "2                     0.672   32        1  \n",
       "3                     0.167   21        0  \n",
       "4                     2.288   33        1  "
      ]
     },
     "execution_count": 8,
     "metadata": {},
     "output_type": "execute_result"
    }
   ],
   "source": [
    "dataset.to_pandas_dataframe().head()"
   ]
  },
  {
   "cell_type": "code",
   "execution_count": 9,
   "metadata": {},
   "outputs": [
    {
     "data": {
      "text/html": [
       "<div>\n",
       "<style scoped>\n",
       "    .dataframe tbody tr th:only-of-type {\n",
       "        vertical-align: middle;\n",
       "    }\n",
       "\n",
       "    .dataframe tbody tr th {\n",
       "        vertical-align: top;\n",
       "    }\n",
       "\n",
       "    .dataframe thead th {\n",
       "        text-align: right;\n",
       "    }\n",
       "</style>\n",
       "<table border=\"1\" class=\"dataframe\">\n",
       "  <thead>\n",
       "    <tr style=\"text-align: right;\">\n",
       "      <th></th>\n",
       "      <th>Pregnancies</th>\n",
       "      <th>Glucose</th>\n",
       "      <th>BloodPressure</th>\n",
       "      <th>SkinThickness</th>\n",
       "      <th>Insulin</th>\n",
       "      <th>BMI</th>\n",
       "      <th>DiabetesPedigreeFunction</th>\n",
       "      <th>Age</th>\n",
       "      <th>Outcome</th>\n",
       "    </tr>\n",
       "  </thead>\n",
       "  <tbody>\n",
       "    <tr>\n",
       "      <th>count</th>\n",
       "      <td>768.000000</td>\n",
       "      <td>768.000000</td>\n",
       "      <td>768.000000</td>\n",
       "      <td>768.000000</td>\n",
       "      <td>768.000000</td>\n",
       "      <td>768.000000</td>\n",
       "      <td>768.000000</td>\n",
       "      <td>768.000000</td>\n",
       "      <td>768.000000</td>\n",
       "    </tr>\n",
       "    <tr>\n",
       "      <th>mean</th>\n",
       "      <td>3.845052</td>\n",
       "      <td>120.894531</td>\n",
       "      <td>69.105469</td>\n",
       "      <td>20.536458</td>\n",
       "      <td>79.799479</td>\n",
       "      <td>31.992578</td>\n",
       "      <td>0.471876</td>\n",
       "      <td>33.240885</td>\n",
       "      <td>0.348958</td>\n",
       "    </tr>\n",
       "    <tr>\n",
       "      <th>std</th>\n",
       "      <td>3.369578</td>\n",
       "      <td>31.972618</td>\n",
       "      <td>19.355807</td>\n",
       "      <td>15.952218</td>\n",
       "      <td>115.244002</td>\n",
       "      <td>7.884160</td>\n",
       "      <td>0.331329</td>\n",
       "      <td>11.760232</td>\n",
       "      <td>0.476951</td>\n",
       "    </tr>\n",
       "    <tr>\n",
       "      <th>min</th>\n",
       "      <td>0.000000</td>\n",
       "      <td>0.000000</td>\n",
       "      <td>0.000000</td>\n",
       "      <td>0.000000</td>\n",
       "      <td>0.000000</td>\n",
       "      <td>0.000000</td>\n",
       "      <td>0.078000</td>\n",
       "      <td>21.000000</td>\n",
       "      <td>0.000000</td>\n",
       "    </tr>\n",
       "    <tr>\n",
       "      <th>25%</th>\n",
       "      <td>1.000000</td>\n",
       "      <td>99.000000</td>\n",
       "      <td>62.000000</td>\n",
       "      <td>0.000000</td>\n",
       "      <td>0.000000</td>\n",
       "      <td>27.300000</td>\n",
       "      <td>0.243750</td>\n",
       "      <td>24.000000</td>\n",
       "      <td>0.000000</td>\n",
       "    </tr>\n",
       "    <tr>\n",
       "      <th>50%</th>\n",
       "      <td>3.000000</td>\n",
       "      <td>117.000000</td>\n",
       "      <td>72.000000</td>\n",
       "      <td>23.000000</td>\n",
       "      <td>30.500000</td>\n",
       "      <td>32.000000</td>\n",
       "      <td>0.372500</td>\n",
       "      <td>29.000000</td>\n",
       "      <td>0.000000</td>\n",
       "    </tr>\n",
       "    <tr>\n",
       "      <th>75%</th>\n",
       "      <td>6.000000</td>\n",
       "      <td>140.250000</td>\n",
       "      <td>80.000000</td>\n",
       "      <td>32.000000</td>\n",
       "      <td>127.250000</td>\n",
       "      <td>36.600000</td>\n",
       "      <td>0.626250</td>\n",
       "      <td>41.000000</td>\n",
       "      <td>1.000000</td>\n",
       "    </tr>\n",
       "    <tr>\n",
       "      <th>max</th>\n",
       "      <td>17.000000</td>\n",
       "      <td>199.000000</td>\n",
       "      <td>122.000000</td>\n",
       "      <td>99.000000</td>\n",
       "      <td>846.000000</td>\n",
       "      <td>67.100000</td>\n",
       "      <td>2.420000</td>\n",
       "      <td>81.000000</td>\n",
       "      <td>1.000000</td>\n",
       "    </tr>\n",
       "  </tbody>\n",
       "</table>\n",
       "</div>"
      ],
      "text/plain": [
       "       Pregnancies     Glucose  BloodPressure  SkinThickness     Insulin  \\\n",
       "count   768.000000  768.000000     768.000000     768.000000  768.000000   \n",
       "mean      3.845052  120.894531      69.105469      20.536458   79.799479   \n",
       "std       3.369578   31.972618      19.355807      15.952218  115.244002   \n",
       "min       0.000000    0.000000       0.000000       0.000000    0.000000   \n",
       "25%       1.000000   99.000000      62.000000       0.000000    0.000000   \n",
       "50%       3.000000  117.000000      72.000000      23.000000   30.500000   \n",
       "75%       6.000000  140.250000      80.000000      32.000000  127.250000   \n",
       "max      17.000000  199.000000     122.000000      99.000000  846.000000   \n",
       "\n",
       "              BMI  DiabetesPedigreeFunction         Age     Outcome  \n",
       "count  768.000000                768.000000  768.000000  768.000000  \n",
       "mean    31.992578                  0.471876   33.240885    0.348958  \n",
       "std      7.884160                  0.331329   11.760232    0.476951  \n",
       "min      0.000000                  0.078000   21.000000    0.000000  \n",
       "25%     27.300000                  0.243750   24.000000    0.000000  \n",
       "50%     32.000000                  0.372500   29.000000    0.000000  \n",
       "75%     36.600000                  0.626250   41.000000    1.000000  \n",
       "max     67.100000                  2.420000   81.000000    1.000000  "
      ]
     },
     "execution_count": 9,
     "metadata": {},
     "output_type": "execute_result"
    }
   ],
   "source": [
    "df = dataset.to_pandas_dataframe()\n",
    "df.describe()"
   ]
  },
  {
   "cell_type": "code",
   "execution_count": 10,
   "metadata": {
    "gather": {
     "logged": 1609086049040
    }
   },
   "outputs": [
    {
     "data": {
      "text/html": [
       "<div>\n",
       "<style scoped>\n",
       "    .dataframe tbody tr th:only-of-type {\n",
       "        vertical-align: middle;\n",
       "    }\n",
       "\n",
       "    .dataframe tbody tr th {\n",
       "        vertical-align: top;\n",
       "    }\n",
       "\n",
       "    .dataframe thead th {\n",
       "        text-align: right;\n",
       "    }\n",
       "</style>\n",
       "<table border=\"1\" class=\"dataframe\">\n",
       "  <thead>\n",
       "    <tr style=\"text-align: right;\">\n",
       "      <th></th>\n",
       "      <th>Pregnancies</th>\n",
       "      <th>Glucose</th>\n",
       "      <th>BloodPressure</th>\n",
       "      <th>SkinThickness</th>\n",
       "      <th>Insulin</th>\n",
       "      <th>BMI</th>\n",
       "      <th>DiabetesPedigreeFunction</th>\n",
       "      <th>Age</th>\n",
       "      <th>Outcome</th>\n",
       "    </tr>\n",
       "  </thead>\n",
       "  <tbody>\n",
       "    <tr>\n",
       "      <th>603</th>\n",
       "      <td>7</td>\n",
       "      <td>150</td>\n",
       "      <td>78</td>\n",
       "      <td>29</td>\n",
       "      <td>126</td>\n",
       "      <td>35.2</td>\n",
       "      <td>0.692</td>\n",
       "      <td>54</td>\n",
       "      <td>1</td>\n",
       "    </tr>\n",
       "    <tr>\n",
       "      <th>118</th>\n",
       "      <td>4</td>\n",
       "      <td>97</td>\n",
       "      <td>60</td>\n",
       "      <td>23</td>\n",
       "      <td>0</td>\n",
       "      <td>28.2</td>\n",
       "      <td>0.443</td>\n",
       "      <td>22</td>\n",
       "      <td>0</td>\n",
       "    </tr>\n",
       "    <tr>\n",
       "      <th>247</th>\n",
       "      <td>0</td>\n",
       "      <td>165</td>\n",
       "      <td>90</td>\n",
       "      <td>33</td>\n",
       "      <td>680</td>\n",
       "      <td>52.3</td>\n",
       "      <td>0.427</td>\n",
       "      <td>23</td>\n",
       "      <td>0</td>\n",
       "    </tr>\n",
       "    <tr>\n",
       "      <th>157</th>\n",
       "      <td>1</td>\n",
       "      <td>109</td>\n",
       "      <td>56</td>\n",
       "      <td>21</td>\n",
       "      <td>135</td>\n",
       "      <td>25.2</td>\n",
       "      <td>0.833</td>\n",
       "      <td>23</td>\n",
       "      <td>0</td>\n",
       "    </tr>\n",
       "    <tr>\n",
       "      <th>468</th>\n",
       "      <td>8</td>\n",
       "      <td>120</td>\n",
       "      <td>0</td>\n",
       "      <td>0</td>\n",
       "      <td>0</td>\n",
       "      <td>30.0</td>\n",
       "      <td>0.183</td>\n",
       "      <td>38</td>\n",
       "      <td>1</td>\n",
       "    </tr>\n",
       "  </tbody>\n",
       "</table>\n",
       "</div>"
      ],
      "text/plain": [
       "     Pregnancies  Glucose  BloodPressure  SkinThickness  Insulin   BMI  \\\n",
       "603            7      150             78             29      126  35.2   \n",
       "118            4       97             60             23        0  28.2   \n",
       "247            0      165             90             33      680  52.3   \n",
       "157            1      109             56             21      135  25.2   \n",
       "468            8      120              0              0        0  30.0   \n",
       "\n",
       "     DiabetesPedigreeFunction  Age  Outcome  \n",
       "603                     0.692   54        1  \n",
       "118                     0.443   22        0  \n",
       "247                     0.427   23        0  \n",
       "157                     0.833   23        0  \n",
       "468                     0.183   38        1  "
      ]
     },
     "execution_count": 10,
     "metadata": {},
     "output_type": "execute_result"
    }
   ],
   "source": [
    "# prepare dataset for model training\n",
    "#import sys\n",
    "#sys.path.insert(0,./training)\n",
    "\n",
    "from train import clean_data\n",
    "from sklearn.model_selection import train_test_split\n",
    "import pandas as pd\n",
    "\n",
    "# Clean dataset using the clean_data function\n",
    "x, y = clean_data(dataset)\n",
    "\n",
    "# split dataset into train and test sets\n",
    "(x_train, x_test, y_train, y_test) = train_test_split(x, y, test_size= 0.2, random_state = 0)\n",
    "label = 'Outcome'\n",
    "\n",
    "# merge the output x and y dataframes into a single table for AutoML experiment\n",
    "train_data_df = pd.concat([x_train, y_train], axis=1)\n",
    "\n",
    "train_data_df.head()"
   ]
  },
  {
   "cell_type": "code",
   "execution_count": 11,
   "metadata": {
    "gather": {
     "logged": 1609086075784
    }
   },
   "outputs": [
    {
     "name": "stdout",
     "output_type": "stream",
     "text": [
      "Uploading an estimated of 1 files\n",
      "Uploading ./data/train_data.csv\n",
      "Uploaded ./data/train_data.csv, 1 files out of an estimated total of 1\n",
      "Uploaded 1 files\n"
     ]
    }
   ],
   "source": [
    "from azureml.data.dataset_factory import TabularDatasetFactory\n",
    "# save training data in tabular format to allow for remote run\n",
    "if not os.path.isdir('data'):  # create data folder if it does not exist\n",
    "    os.mkdir('data')\n",
    "    \n",
    "if not os.path.exists('project_folder'):  # create project folder if it does not exist\n",
    "    os.makedirs('project_folder')\n",
    "\n",
    "# Save the train data to a csv file to be uploaded to the datastore\n",
    "pd.DataFrame(train_data_df).to_csv(\"data/train_data.csv\", index=False)\n",
    "\n",
    "# Upload the training data as a tabular dataset for access during training on remote compute\n",
    "# upload to data store\n",
    "ds = ws.get_default_datastore()\n",
    "ds.upload(src_dir='./data', target_path='automlclassifier', overwrite=True, show_progress=True)\n",
    "\n",
    " # access datastore during training on remote compute\n",
    "train_data = TabularDatasetFactory.from_delimited_files(path=ds.path('automlclassifier/train_data.csv'))"
   ]
  },
  {
   "cell_type": "markdown",
   "metadata": {},
   "source": [
    "## AutoML Configuration\n",
    "\n",
    "TODO: Explain why you chose the automl settings and cofiguration you used below."
   ]
  },
  {
   "cell_type": "code",
   "execution_count": 12,
   "metadata": {
    "gather": {
     "logged": 1609086107873
    }
   },
   "outputs": [],
   "source": [
    "project_folder = './puruautoml'\n",
    "automl_settings = {\n",
    "    \"enable_early_stopping\" : True,\n",
    "    \"iteration_timeout_minutes\": 5,\n",
    "    \"max_concurrent_iterations\": 4,\n",
    "    \"max_cores_per_iteration\": -1,    \n",
    "    \"featurization\": 'auto',\n",
    "    \"verbosity\": logging.INFO,\n",
    "}\n",
    "\n",
    "# define automl autconfig parameters\n",
    "automl_config = AutoMLConfig(\n",
    "    experiment_timeout_minutes=30,\n",
    "    task= 'classification',\n",
    "    primary_metric='accuracy',\n",
    "    enable_onnx_compatible_models=True,\n",
    "    compute_target=cpu_cluster, # included to allow for remote compute\n",
    "    training_data= train_data,\n",
    "    label_column_name= label,\n",
    "    path = project_folder,\n",
    "    n_cross_validations=3,\n",
    "    debug_log = \"automl_errors.log\",    \n",
    "    **automl_settings)"
   ]
  },
  {
   "cell_type": "code",
   "execution_count": 13,
   "metadata": {
    "gather": {
     "logged": 1609086121536
    },
    "jupyter": {
     "outputs_hidden": false,
     "source_hidden": false
    },
    "nteract": {
     "transient": {
      "deleting": false
     }
    }
   },
   "outputs": [
    {
     "name": "stdout",
     "output_type": "stream",
     "text": [
      "Running on remote.\n"
     ]
    }
   ],
   "source": [
    "# TODO: Submit your experiment\n",
    "remote_run = experiment.submit(automl_config)"
   ]
  },
  {
   "cell_type": "markdown",
   "metadata": {},
   "source": [
    "## Run Details\n",
    "\n",
    "OPTIONAL: Write about the different models trained and their performance. Why do you think some models did better than others?\n",
    "\n",
    "TODO: In the cell below, use the `RunDetails` widget to show the different experiments."
   ]
  },
  {
   "cell_type": "code",
   "execution_count": 14,
   "metadata": {
    "gather": {
     "logged": 1609087524171
    },
    "jupyter": {
     "outputs_hidden": false,
     "source_hidden": false
    },
    "nteract": {
     "transient": {
      "deleting": false
     }
    }
   },
   "outputs": [
    {
     "data": {
      "application/vnd.jupyter.widget-view+json": {
       "model_id": "b89d8dd3f06e4d42a05dd1cfe11210aa",
       "version_major": 2,
       "version_minor": 0
      },
      "text/plain": [
       "_AutoMLWidget(widget_settings={'childWidgetDisplay': 'popup', 'send_telemetry': False, 'log_level': 'INFO', 's…"
      ]
     },
     "metadata": {},
     "output_type": "display_data"
    },
    {
     "data": {
      "application/aml.mini.widget.v1": "{\"status\": \"Completed\", \"workbench_run_details_uri\": \"https://ml.azure.com/experiments/puru-auto-experiment/runs/AutoML_ea437d3c-8ed3-4c01-bf40-48b32154600f?wsid=/subscriptions/d7f39349-a66b-446e-aba6-0053c2cf1c11/resourcegroups/aml-quickstarts-132071/workspaces/quick-starts-ws-132071\", \"run_id\": \"AutoML_ea437d3c-8ed3-4c01-bf40-48b32154600f\", \"run_properties\": {\"run_id\": \"AutoML_ea437d3c-8ed3-4c01-bf40-48b32154600f\", \"created_utc\": \"2020-12-27T21:20:58.157837Z\", \"properties\": {\"num_iterations\": \"1000\", \"training_type\": \"TrainFull\", \"acquisition_function\": \"EI\", \"primary_metric\": \"accuracy\", \"train_split\": \"0\", \"acquisition_parameter\": \"0\", \"num_cross_validation\": \"3\", \"target\": \"puru-compute-new\", \"AMLSettingsJsonString\": \"{\\\"path\\\":null,\\\"name\\\":\\\"puru-auto-experiment\\\",\\\"subscription_id\\\":\\\"d7f39349-a66b-446e-aba6-0053c2cf1c11\\\",\\\"resource_group\\\":\\\"aml-quickstarts-132071\\\",\\\"workspace_name\\\":\\\"quick-starts-ws-132071\\\",\\\"region\\\":\\\"southcentralus\\\",\\\"compute_target\\\":\\\"puru-compute-new\\\",\\\"spark_service\\\":null,\\\"azure_service\\\":\\\"remote\\\",\\\"many_models\\\":false,\\\"pipeline_fetch_max_batch_size\\\":1,\\\"iterations\\\":1000,\\\"primary_metric\\\":\\\"accuracy\\\",\\\"task_type\\\":\\\"classification\\\",\\\"data_script\\\":null,\\\"validation_size\\\":0.0,\\\"n_cross_validations\\\":3,\\\"y_min\\\":null,\\\"y_max\\\":null,\\\"num_classes\\\":null,\\\"featurization\\\":\\\"auto\\\",\\\"_ignore_package_version_incompatibilities\\\":false,\\\"is_timeseries\\\":false,\\\"max_cores_per_iteration\\\":-1,\\\"max_concurrent_iterations\\\":4,\\\"iteration_timeout_minutes\\\":5,\\\"mem_in_mb\\\":null,\\\"enforce_time_on_windows\\\":false,\\\"experiment_timeout_minutes\\\":30,\\\"experiment_exit_score\\\":null,\\\"whitelist_models\\\":null,\\\"blacklist_algos\\\":[\\\"TensorFlowLinearClassifier\\\",\\\"TensorFlowDNN\\\"],\\\"supported_models\\\":[\\\"SVM\\\",\\\"RandomForest\\\",\\\"TensorFlowDNN\\\",\\\"TensorFlowLinearClassifier\\\",\\\"BernoulliNaiveBayes\\\",\\\"LinearSVM\\\",\\\"ExtremeRandomTrees\\\",\\\"MultinomialNaiveBayes\\\",\\\"XGBoostClassifier\\\",\\\"LogisticRegression\\\",\\\"KNN\\\",\\\"DecisionTree\\\",\\\"SGD\\\",\\\"GradientBoosting\\\",\\\"LightGBM\\\",\\\"AveragedPerceptronClassifier\\\"],\\\"auto_blacklist\\\":true,\\\"blacklist_samples_reached\\\":false,\\\"exclude_nan_labels\\\":true,\\\"verbosity\\\":20,\\\"_debug_log\\\":\\\"azureml_automl.log\\\",\\\"show_warnings\\\":false,\\\"model_explainability\\\":true,\\\"service_url\\\":null,\\\"sdk_url\\\":null,\\\"sdk_packages\\\":null,\\\"enable_onnx_compatible_models\\\":true,\\\"enable_split_onnx_featurizer_estimator_models\\\":false,\\\"vm_type\\\":\\\"STANDARD_D2_V2\\\",\\\"telemetry_verbosity\\\":20,\\\"send_telemetry\\\":true,\\\"enable_dnn\\\":false,\\\"scenario\\\":\\\"SDK-1.13.0\\\",\\\"environment_label\\\":null,\\\"force_text_dnn\\\":false,\\\"enable_feature_sweeping\\\":false,\\\"enable_early_stopping\\\":true,\\\"early_stopping_n_iters\\\":10,\\\"metrics\\\":null,\\\"enable_ensembling\\\":true,\\\"enable_stack_ensembling\\\":false,\\\"ensemble_iterations\\\":15,\\\"enable_tf\\\":false,\\\"enable_subsampling\\\":null,\\\"subsample_seed\\\":null,\\\"enable_nimbusml\\\":false,\\\"enable_streaming\\\":false,\\\"force_streaming\\\":false,\\\"track_child_runs\\\":true,\\\"allowed_private_models\\\":[],\\\"label_column_name\\\":\\\"Outcome\\\",\\\"weight_column_name\\\":null,\\\"cv_split_column_names\\\":null,\\\"enable_local_managed\\\":false,\\\"_local_managed_run_id\\\":null,\\\"cost_mode\\\":1,\\\"lag_length\\\":0,\\\"metric_operation\\\":\\\"maximize\\\",\\\"preprocess\\\":true}\", \"DataPrepJsonString\": \"{\\\\\\\"training_data\\\\\\\": \\\\\\\"{\\\\\\\\\\\\\\\"blocks\\\\\\\\\\\\\\\": [{\\\\\\\\\\\\\\\"id\\\\\\\\\\\\\\\": \\\\\\\\\\\\\\\"61c3af4b-8702-4d16-840d-6be6c2073a36\\\\\\\\\\\\\\\", \\\\\\\\\\\\\\\"type\\\\\\\\\\\\\\\": \\\\\\\\\\\\\\\"Microsoft.DPrep.GetDatastoreFilesBlock\\\\\\\\\\\\\\\", \\\\\\\\\\\\\\\"arguments\\\\\\\\\\\\\\\": {\\\\\\\\\\\\\\\"datastores\\\\\\\\\\\\\\\": [{\\\\\\\\\\\\\\\"datastoreName\\\\\\\\\\\\\\\": \\\\\\\\\\\\\\\"workspaceblobstore\\\\\\\\\\\\\\\", \\\\\\\\\\\\\\\"path\\\\\\\\\\\\\\\": \\\\\\\\\\\\\\\"automlclassifier/train_data.csv\\\\\\\\\\\\\\\", \\\\\\\\\\\\\\\"resourceGroup\\\\\\\\\\\\\\\": \\\\\\\\\\\\\\\"aml-quickstarts-132071\\\\\\\\\\\\\\\", \\\\\\\\\\\\\\\"subscription\\\\\\\\\\\\\\\": \\\\\\\\\\\\\\\"d7f39349-a66b-446e-aba6-0053c2cf1c11\\\\\\\\\\\\\\\", \\\\\\\\\\\\\\\"workspaceName\\\\\\\\\\\\\\\": \\\\\\\\\\\\\\\"quick-starts-ws-132071\\\\\\\\\\\\\\\"}]}, \\\\\\\\\\\\\\\"localData\\\\\\\\\\\\\\\": {}, \\\\\\\\\\\\\\\"isEnabled\\\\\\\\\\\\\\\": true, \\\\\\\\\\\\\\\"name\\\\\\\\\\\\\\\": null, \\\\\\\\\\\\\\\"annotation\\\\\\\\\\\\\\\": null}, {\\\\\\\\\\\\\\\"id\\\\\\\\\\\\\\\": \\\\\\\\\\\\\\\"68fe2412-512d-4da9-937f-2d4252864ba6\\\\\\\\\\\\\\\", \\\\\\\\\\\\\\\"type\\\\\\\\\\\\\\\": \\\\\\\\\\\\\\\"Microsoft.DPrep.ParseDelimitedBlock\\\\\\\\\\\\\\\", \\\\\\\\\\\\\\\"arguments\\\\\\\\\\\\\\\": {\\\\\\\\\\\\\\\"columnHeadersMode\\\\\\\\\\\\\\\": 3, \\\\\\\\\\\\\\\"fileEncoding\\\\\\\\\\\\\\\": 0, \\\\\\\\\\\\\\\"handleQuotedLineBreaks\\\\\\\\\\\\\\\": false, \\\\\\\\\\\\\\\"preview\\\\\\\\\\\\\\\": false, \\\\\\\\\\\\\\\"separator\\\\\\\\\\\\\\\": \\\\\\\\\\\\\\\",\\\\\\\\\\\\\\\", \\\\\\\\\\\\\\\"skipRows\\\\\\\\\\\\\\\": 0, \\\\\\\\\\\\\\\"skipRowsMode\\\\\\\\\\\\\\\": 0}, \\\\\\\\\\\\\\\"localData\\\\\\\\\\\\\\\": {}, \\\\\\\\\\\\\\\"isEnabled\\\\\\\\\\\\\\\": true, \\\\\\\\\\\\\\\"name\\\\\\\\\\\\\\\": null, \\\\\\\\\\\\\\\"annotation\\\\\\\\\\\\\\\": null}, {\\\\\\\\\\\\\\\"id\\\\\\\\\\\\\\\": \\\\\\\\\\\\\\\"0ee1495b-b297-4141-bb9a-a2a4925ab11f\\\\\\\\\\\\\\\", \\\\\\\\\\\\\\\"type\\\\\\\\\\\\\\\": \\\\\\\\\\\\\\\"Microsoft.DPrep.DropColumnsBlock\\\\\\\\\\\\\\\", \\\\\\\\\\\\\\\"arguments\\\\\\\\\\\\\\\": {\\\\\\\\\\\\\\\"columns\\\\\\\\\\\\\\\": {\\\\\\\\\\\\\\\"type\\\\\\\\\\\\\\\": 0, \\\\\\\\\\\\\\\"details\\\\\\\\\\\\\\\": {\\\\\\\\\\\\\\\"selectedColumns\\\\\\\\\\\\\\\": [\\\\\\\\\\\\\\\"Path\\\\\\\\\\\\\\\"]}}}, \\\\\\\\\\\\\\\"localData\\\\\\\\\\\\\\\": {}, \\\\\\\\\\\\\\\"isEnabled\\\\\\\\\\\\\\\": true, \\\\\\\\\\\\\\\"name\\\\\\\\\\\\\\\": null, \\\\\\\\\\\\\\\"annotation\\\\\\\\\\\\\\\": null}, {\\\\\\\\\\\\\\\"id\\\\\\\\\\\\\\\": \\\\\\\\\\\\\\\"31ada98c-6bea-4d88-b8d2-8e7cfb8d830b\\\\\\\\\\\\\\\", \\\\\\\\\\\\\\\"type\\\\\\\\\\\\\\\": \\\\\\\\\\\\\\\"Microsoft.DPrep.SetColumnTypesBlock\\\\\\\\\\\\\\\", \\\\\\\\\\\\\\\"arguments\\\\\\\\\\\\\\\": {\\\\\\\\\\\\\\\"columnConversion\\\\\\\\\\\\\\\": [{\\\\\\\\\\\\\\\"column\\\\\\\\\\\\\\\": {\\\\\\\\\\\\\\\"type\\\\\\\\\\\\\\\": 2, \\\\\\\\\\\\\\\"details\\\\\\\\\\\\\\\": {\\\\\\\\\\\\\\\"selectedColumn\\\\\\\\\\\\\\\": \\\\\\\\\\\\\\\"Pregnancies\\\\\\\\\\\\\\\"}}, \\\\\\\\\\\\\\\"typeProperty\\\\\\\\\\\\\\\": 2}, {\\\\\\\\\\\\\\\"column\\\\\\\\\\\\\\\": {\\\\\\\\\\\\\\\"type\\\\\\\\\\\\\\\": 2, \\\\\\\\\\\\\\\"details\\\\\\\\\\\\\\\": {\\\\\\\\\\\\\\\"selectedColumn\\\\\\\\\\\\\\\": \\\\\\\\\\\\\\\"Glucose\\\\\\\\\\\\\\\"}}, \\\\\\\\\\\\\\\"typeProperty\\\\\\\\\\\\\\\": 2}, {\\\\\\\\\\\\\\\"column\\\\\\\\\\\\\\\": {\\\\\\\\\\\\\\\"type\\\\\\\\\\\\\\\": 2, \\\\\\\\\\\\\\\"details\\\\\\\\\\\\\\\": {\\\\\\\\\\\\\\\"selectedColumn\\\\\\\\\\\\\\\": \\\\\\\\\\\\\\\"BloodPressure\\\\\\\\\\\\\\\"}}, \\\\\\\\\\\\\\\"typeProperty\\\\\\\\\\\\\\\": 2}, {\\\\\\\\\\\\\\\"column\\\\\\\\\\\\\\\": {\\\\\\\\\\\\\\\"type\\\\\\\\\\\\\\\": 2, \\\\\\\\\\\\\\\"details\\\\\\\\\\\\\\\": {\\\\\\\\\\\\\\\"selectedColumn\\\\\\\\\\\\\\\": \\\\\\\\\\\\\\\"SkinThickness\\\\\\\\\\\\\\\"}}, \\\\\\\\\\\\\\\"typeProperty\\\\\\\\\\\\\\\": 2}, {\\\\\\\\\\\\\\\"column\\\\\\\\\\\\\\\": {\\\\\\\\\\\\\\\"type\\\\\\\\\\\\\\\": 2, \\\\\\\\\\\\\\\"details\\\\\\\\\\\\\\\": {\\\\\\\\\\\\\\\"selectedColumn\\\\\\\\\\\\\\\": \\\\\\\\\\\\\\\"Insulin\\\\\\\\\\\\\\\"}}, \\\\\\\\\\\\\\\"typeProperty\\\\\\\\\\\\\\\": 2}, {\\\\\\\\\\\\\\\"column\\\\\\\\\\\\\\\": {\\\\\\\\\\\\\\\"type\\\\\\\\\\\\\\\": 2, \\\\\\\\\\\\\\\"details\\\\\\\\\\\\\\\": {\\\\\\\\\\\\\\\"selectedColumn\\\\\\\\\\\\\\\": \\\\\\\\\\\\\\\"BMI\\\\\\\\\\\\\\\"}}, \\\\\\\\\\\\\\\"typeProperty\\\\\\\\\\\\\\\": 3}, {\\\\\\\\\\\\\\\"column\\\\\\\\\\\\\\\": {\\\\\\\\\\\\\\\"type\\\\\\\\\\\\\\\": 2, \\\\\\\\\\\\\\\"details\\\\\\\\\\\\\\\": {\\\\\\\\\\\\\\\"selectedColumn\\\\\\\\\\\\\\\": \\\\\\\\\\\\\\\"DiabetesPedigreeFunction\\\\\\\\\\\\\\\"}}, \\\\\\\\\\\\\\\"typeProperty\\\\\\\\\\\\\\\": 3}, {\\\\\\\\\\\\\\\"column\\\\\\\\\\\\\\\": {\\\\\\\\\\\\\\\"type\\\\\\\\\\\\\\\": 2, \\\\\\\\\\\\\\\"details\\\\\\\\\\\\\\\": {\\\\\\\\\\\\\\\"selectedColumn\\\\\\\\\\\\\\\": \\\\\\\\\\\\\\\"Age\\\\\\\\\\\\\\\"}}, \\\\\\\\\\\\\\\"typeProperty\\\\\\\\\\\\\\\": 2}, {\\\\\\\\\\\\\\\"column\\\\\\\\\\\\\\\": {\\\\\\\\\\\\\\\"type\\\\\\\\\\\\\\\": 2, \\\\\\\\\\\\\\\"details\\\\\\\\\\\\\\\": {\\\\\\\\\\\\\\\"selectedColumn\\\\\\\\\\\\\\\": \\\\\\\\\\\\\\\"Outcome\\\\\\\\\\\\\\\"}}, \\\\\\\\\\\\\\\"typeProperty\\\\\\\\\\\\\\\": 2}]}, \\\\\\\\\\\\\\\"localData\\\\\\\\\\\\\\\": {}, \\\\\\\\\\\\\\\"isEnabled\\\\\\\\\\\\\\\": true, \\\\\\\\\\\\\\\"name\\\\\\\\\\\\\\\": null, \\\\\\\\\\\\\\\"annotation\\\\\\\\\\\\\\\": null}], \\\\\\\\\\\\\\\"inspectors\\\\\\\\\\\\\\\": [], \\\\\\\\\\\\\\\"meta\\\\\\\\\\\\\\\": {\\\\\\\\\\\\\\\"savedDatasetId\\\\\\\\\\\\\\\": \\\\\\\\\\\\\\\"dfb2bd00-829e-43ca-98d0-9297d098c57f\\\\\\\\\\\\\\\", \\\\\\\\\\\\\\\"datasetType\\\\\\\\\\\\\\\": \\\\\\\\\\\\\\\"tabular\\\\\\\\\\\\\\\", \\\\\\\\\\\\\\\"subscriptionId\\\\\\\\\\\\\\\": \\\\\\\\\\\\\\\"d7f39349-a66b-446e-aba6-0053c2cf1c11\\\\\\\\\\\\\\\", \\\\\\\\\\\\\\\"workspaceId\\\\\\\\\\\\\\\": \\\\\\\\\\\\\\\"9e2b4f9c-1e33-42c2-879a-c7c9188f8895\\\\\\\\\\\\\\\", \\\\\\\\\\\\\\\"workspaceLocation\\\\\\\\\\\\\\\": \\\\\\\\\\\\\\\"southcentralus\\\\\\\\\\\\\\\"}}\\\\\\\", \\\\\\\"activities\\\\\\\": 0}\", \"EnableSubsampling\": null, \"runTemplate\": \"AutoML\", \"azureml.runsource\": \"automl\", \"display_task_type\": \"classification\", \"dependencies_versions\": \"{\\\"azureml-widgets\\\": \\\"1.19.0\\\", \\\"azureml-train\\\": \\\"1.19.0\\\", \\\"azureml-train-restclients-hyperdrive\\\": \\\"1.19.0\\\", \\\"azureml-train-core\\\": \\\"1.19.0\\\", \\\"azureml-train-automl\\\": \\\"1.19.0\\\", \\\"azureml-train-automl-runtime\\\": \\\"1.19.0\\\", \\\"azureml-train-automl-client\\\": \\\"1.19.0\\\", \\\"azureml-tensorboard\\\": \\\"1.19.0\\\", \\\"azureml-telemetry\\\": \\\"1.19.0\\\", \\\"azureml-sdk\\\": \\\"1.19.0\\\", \\\"azureml-samples\\\": \\\"0+unknown\\\", \\\"azureml-pipeline\\\": \\\"1.19.0\\\", \\\"azureml-pipeline-steps\\\": \\\"1.19.0\\\", \\\"azureml-pipeline-core\\\": \\\"1.19.0\\\", \\\"azureml-opendatasets\\\": \\\"1.19.0\\\", \\\"azureml-model-management-sdk\\\": \\\"1.0.1b6.post1\\\", \\\"azureml-mlflow\\\": \\\"1.19.0\\\", \\\"azureml-interpret\\\": \\\"1.19.0\\\", \\\"azureml-explain-model\\\": \\\"1.19.0\\\", \\\"azureml-defaults\\\": \\\"1.19.0\\\", \\\"azureml-dataset-runtime\\\": \\\"1.19.0\\\", \\\"azureml-dataprep\\\": \\\"2.6.1\\\", \\\"azureml-dataprep-rslex\\\": \\\"1.4.0\\\", \\\"azureml-dataprep-native\\\": \\\"26.0.0\\\", \\\"azureml-datadrift\\\": \\\"1.19.0\\\", \\\"azureml-core\\\": \\\"1.19.0\\\", \\\"azureml-contrib-services\\\": \\\"1.19.0\\\", \\\"azureml-contrib-server\\\": \\\"1.19.0\\\", \\\"azureml-contrib-reinforcementlearning\\\": \\\"1.19.0\\\", \\\"azureml-contrib-pipeline-steps\\\": \\\"1.19.0\\\", \\\"azureml-contrib-notebook\\\": \\\"1.19.0\\\", \\\"azureml-contrib-interpret\\\": \\\"1.19.0\\\", \\\"azureml-contrib-gbdt\\\": \\\"1.19.0\\\", \\\"azureml-contrib-fairness\\\": \\\"1.19.0\\\", \\\"azureml-contrib-dataset\\\": \\\"1.19.0\\\", \\\"azureml-cli-common\\\": \\\"1.19.0\\\", \\\"azureml-automl-runtime\\\": \\\"1.19.0\\\", \\\"azureml-automl-core\\\": \\\"1.19.0\\\", \\\"azureml-accel-models\\\": \\\"1.19.0\\\"}\", \"_aml_system_scenario_identification\": \"Remote.Parent\", \"ClientType\": \"SDK\", \"environment_cpu_name\": \"AzureML-AutoML\", \"environment_cpu_label\": \"prod\", \"environment_gpu_name\": \"AzureML-AutoML-GPU\", \"environment_gpu_label\": \"prod\", \"root_attribution\": \"automl\", \"attribution\": \"AutoML\", \"Orchestrator\": \"AutoML\", \"CancelUri\": \"https://southcentralus.experiments.azureml.net/jasmine/v1.0/subscriptions/d7f39349-a66b-446e-aba6-0053c2cf1c11/resourceGroups/aml-quickstarts-132071/providers/Microsoft.MachineLearningServices/workspaces/quick-starts-ws-132071/experimentids/b143e2df-65d3-4e0c-8ad4-6cd3df531b27/cancel/AutoML_ea437d3c-8ed3-4c01-bf40-48b32154600f\", \"ClientSdkVersion\": \"1.19.0\", \"snapshotId\": \"00000000-0000-0000-0000-000000000000\", \"SetupRunId\": \"AutoML_ea437d3c-8ed3-4c01-bf40-48b32154600f_setup\", \"SetupRunContainerId\": \"dcid.AutoML_ea437d3c-8ed3-4c01-bf40-48b32154600f_setup\", \"FeaturizationRunJsonPath\": \"featurizer_container.json\", \"FeaturizationRunId\": \"AutoML_ea437d3c-8ed3-4c01-bf40-48b32154600f_featurize\", \"ProblemInfoJsonString\": \"{\\\"dataset_num_categorical\\\": 0, \\\"is_sparse\\\": false, \\\"subsampling\\\": false, \\\"dataset_classes\\\": 2, \\\"dataset_features\\\": 8, \\\"dataset_samples\\\": 614, \\\"single_frequency_class_detected\\\": false}\", \"ModelExplainRunId\": \"AutoML_ea437d3c-8ed3-4c01-bf40-48b32154600f_ModelExplain\"}, \"tags\": {\"model_explain_run\": \"best_run\", \"_aml_system_azureml.automlComponent\": \"AutoML\", \"pipeline_id\": \"\", \"score\": \"\", \"predicted_cost\": \"\", \"fit_time\": \"\", \"training_percent\": \"\", \"iteration\": \"\", \"run_preprocessor\": \"\", \"run_algorithm\": \"\", \"dynamic_whitelisting_iterations\": \"<25>;<30>;<35>;\", \"automl_best_child_run_id\": \"AutoML_ea437d3c-8ed3-4c01-bf40-48b32154600f_40\", \"model_explain_best_run_child_id\": \"AutoML_ea437d3c-8ed3-4c01-bf40-48b32154600f_40\"}, \"end_time_utc\": \"2020-12-27T21:46:48.729919Z\", \"status\": \"Completed\", \"log_files\": {}, \"log_groups\": [], \"run_duration\": \"0:25:50\"}, \"child_runs\": [{\"run_id\": \"AutoML_ea437d3c-8ed3-4c01-bf40-48b32154600f_2\", \"run_number\": 5, \"metric\": null, \"status\": \"Completed\", \"run_type\": \"azureml.scriptrun\", \"training_percent\": \"100\", \"start_time\": \"2020-12-27T21:29:59.817281Z\", \"end_time\": \"2020-12-27T21:30:56.081418Z\", \"created_time\": \"2020-12-27T21:29:48.866378Z\", \"created_time_dt\": \"2020-12-27T21:29:48.866378Z\", \"duration\": \"0:01:07\", \"iteration\": \"2\", \"goal\": \"accuracy_max\", \"run_name\": \"MinMaxScaler, RandomForest\", \"run_properties\": \"copy=True, feature_range=(0, 1\", \"primary_metric\": 0.73614698, \"best_metric\": 0.74595887}, {\"run_id\": \"AutoML_ea437d3c-8ed3-4c01-bf40-48b32154600f_1\", \"run_number\": 6, \"metric\": null, \"status\": \"Completed\", \"run_type\": \"azureml.scriptrun\", \"training_percent\": \"100\", \"start_time\": \"2020-12-27T21:32:26.206638Z\", \"end_time\": \"2020-12-27T21:35:58.005248Z\", \"created_time\": \"2020-12-27T21:29:48.887338Z\", \"created_time_dt\": \"2020-12-27T21:29:48.887338Z\", \"duration\": \"0:06:09\", \"iteration\": \"1\", \"goal\": \"accuracy_max\", \"run_name\": \"MaxAbsScaler, XGBoostClassifier\", \"run_properties\": \"copy=True\", \"primary_metric\": 0.74430894, \"best_metric\": 0.74595887}, {\"run_id\": \"AutoML_ea437d3c-8ed3-4c01-bf40-48b32154600f_0\", \"run_number\": 7, \"metric\": null, \"status\": \"Completed\", \"run_type\": \"azureml.scriptrun\", \"training_percent\": \"100\", \"start_time\": \"2020-12-27T21:32:07.193762Z\", \"end_time\": \"2020-12-27T21:33:01.382211Z\", \"created_time\": \"2020-12-27T21:29:48.969437Z\", \"created_time_dt\": \"2020-12-27T21:29:48.969437Z\", \"duration\": \"0:03:12\", \"iteration\": \"0\", \"goal\": \"accuracy_max\", \"run_name\": \"MaxAbsScaler, LightGBM\", \"run_properties\": \"copy=True\", \"primary_metric\": 0.74595887, \"best_metric\": 0.74595887}, {\"run_id\": \"AutoML_ea437d3c-8ed3-4c01-bf40-48b32154600f_3\", \"run_number\": 8, \"metric\": null, \"status\": \"Completed\", \"run_type\": \"azureml.scriptrun\", \"training_percent\": \"100\", \"start_time\": \"2020-12-27T21:31:02.353735Z\", \"end_time\": \"2020-12-27T21:32:02.977318Z\", \"created_time\": \"2020-12-27T21:29:49.150231Z\", \"created_time_dt\": \"2020-12-27T21:29:49.150231Z\", \"duration\": \"0:02:13\", \"iteration\": \"3\", \"goal\": \"accuracy_max\", \"run_name\": \"MinMaxScaler, RandomForest\", \"run_properties\": \"copy=True, feature_range=(0, 1\", \"primary_metric\": 0.72640682, \"best_metric\": 0.74595887}, {\"run_id\": \"AutoML_ea437d3c-8ed3-4c01-bf40-48b32154600f_4\", \"run_number\": 9, \"metric\": null, \"status\": \"Completed\", \"run_type\": \"azureml.scriptrun\", \"training_percent\": \"100\", \"start_time\": \"2020-12-27T21:32:23.430294Z\", \"end_time\": \"2020-12-27T21:35:44.632902Z\", \"created_time\": \"2020-12-27T21:30:58.967076Z\", \"created_time_dt\": \"2020-12-27T21:30:58.967076Z\", \"duration\": \"0:04:45\", \"iteration\": \"4\", \"goal\": \"accuracy_max\", \"run_name\": \"MinMaxScaler, RandomForest\", \"run_properties\": \"copy=True, feature_range=(0, 1\", \"primary_metric\": 0.74925873, \"best_metric\": 0.74925873}, {\"run_id\": \"AutoML_ea437d3c-8ed3-4c01-bf40-48b32154600f_5\", \"run_number\": 10, \"metric\": null, \"status\": \"Completed\", \"run_type\": \"azureml.scriptrun\", \"training_percent\": \"100\", \"start_time\": \"2020-12-27T21:32:26.390095Z\", \"end_time\": \"2020-12-27T21:36:05.978278Z\", \"created_time\": \"2020-12-27T21:32:05.000142Z\", \"created_time_dt\": \"2020-12-27T21:32:05.000142Z\", \"duration\": \"0:04:00\", \"iteration\": \"5\", \"goal\": \"accuracy_max\", \"run_name\": \"MinMaxScaler, SVM\", \"run_properties\": \"copy=True, feature_range=(0, 1\", \"primary_metric\": 0.70353898, \"best_metric\": 0.74925873}, {\"run_id\": \"AutoML_ea437d3c-8ed3-4c01-bf40-48b32154600f_6\", \"run_number\": 11, \"metric\": null, \"status\": \"Completed\", \"run_type\": \"azureml.scriptrun\", \"training_percent\": \"100\", \"start_time\": \"2020-12-27T21:33:17.026476Z\", \"end_time\": \"2020-12-27T21:34:07.438287Z\", \"created_time\": \"2020-12-27T21:33:05.17678Z\", \"created_time_dt\": \"2020-12-27T21:33:05.17678Z\", \"duration\": \"0:01:02\", \"iteration\": \"6\", \"goal\": \"accuracy_max\", \"run_name\": \"MinMaxScaler, SVM\", \"run_properties\": \"copy=True, feature_range=(0, 1\", \"primary_metric\": 0.6873107, \"best_metric\": 0.74925873}, {\"run_id\": \"AutoML_ea437d3c-8ed3-4c01-bf40-48b32154600f_7\", \"run_number\": 12, \"metric\": null, \"status\": \"Completed\", \"run_type\": \"azureml.scriptrun\", \"training_percent\": \"100\", \"start_time\": \"2020-12-27T21:34:23.302315Z\", \"end_time\": \"2020-12-27T21:35:13.87921Z\", \"created_time\": \"2020-12-27T21:34:11.235454Z\", \"created_time_dt\": \"2020-12-27T21:34:11.235454Z\", \"duration\": \"0:01:02\", \"iteration\": \"7\", \"goal\": \"accuracy_max\", \"run_name\": \"MaxAbsScaler, GradientBoosting\", \"run_properties\": \"copy=True\", \"primary_metric\": 0.75895106, \"best_metric\": 0.75895106}, {\"run_id\": \"AutoML_ea437d3c-8ed3-4c01-bf40-48b32154600f_8\", \"run_number\": 13, \"metric\": null, \"status\": \"Completed\", \"run_type\": \"azureml.scriptrun\", \"training_percent\": \"100\", \"start_time\": \"2020-12-27T21:35:28.716923Z\", \"end_time\": \"2020-12-27T21:36:23.808157Z\", \"created_time\": \"2020-12-27T21:35:16.696892Z\", \"created_time_dt\": \"2020-12-27T21:35:16.696892Z\", \"duration\": \"0:01:07\", \"iteration\": \"8\", \"goal\": \"accuracy_max\", \"run_name\": \"SparseNormalizer, XGBoostClassifier\", \"run_properties\": \"<azureml.automl.runtime.shared.model_wrappers.SparseNormalizer object at 0x7fb73d059160\", \"primary_metric\": 0.67586482, \"best_metric\": 0.75895106}, {\"run_id\": \"AutoML_ea437d3c-8ed3-4c01-bf40-48b32154600f_9\", \"run_number\": 14, \"metric\": null, \"status\": \"Completed\", \"run_type\": \"azureml.scriptrun\", \"training_percent\": \"100\", \"start_time\": \"2020-12-27T21:35:59.689011Z\", \"end_time\": \"2020-12-27T21:36:51.289292Z\", \"created_time\": \"2020-12-27T21:35:46.810041Z\", \"created_time_dt\": \"2020-12-27T21:35:46.810041Z\", \"duration\": \"0:01:04\", \"iteration\": \"9\", \"goal\": \"accuracy_max\", \"run_name\": \"MaxAbsScaler, LightGBM\", \"run_properties\": \"copy=True\", \"primary_metric\": 0.72961103, \"best_metric\": 0.75895106}, {\"run_id\": \"AutoML_ea437d3c-8ed3-4c01-bf40-48b32154600f_10\", \"run_number\": 15, \"metric\": null, \"status\": \"Completed\", \"run_type\": \"azureml.scriptrun\", \"training_percent\": \"100\", \"start_time\": \"2020-12-27T21:36:13.525345Z\", \"end_time\": \"2020-12-27T21:37:04.122317Z\", \"created_time\": \"2020-12-27T21:36:00.979822Z\", \"created_time_dt\": \"2020-12-27T21:36:00.979822Z\", \"duration\": \"0:01:03\", \"iteration\": \"10\", \"goal\": \"accuracy_max\", \"run_name\": \"MinMaxScaler, LightGBM\", \"run_properties\": \"copy=True, feature_range=(0, 1\", \"primary_metric\": 0.74428503, \"best_metric\": 0.75895106}, {\"run_id\": \"AutoML_ea437d3c-8ed3-4c01-bf40-48b32154600f_11\", \"run_number\": 16, \"metric\": null, \"status\": \"Completed\", \"run_type\": \"azureml.scriptrun\", \"training_percent\": \"100\", \"start_time\": \"2020-12-27T21:36:22.065525Z\", \"end_time\": \"2020-12-27T21:37:19.825487Z\", \"created_time\": \"2020-12-27T21:36:08.723471Z\", \"created_time_dt\": \"2020-12-27T21:36:08.723471Z\", \"duration\": \"0:01:11\", \"iteration\": \"11\", \"goal\": \"accuracy_max\", \"run_name\": \"SparseNormalizer, XGBoostClassifier\", \"run_properties\": \"<azureml.automl.runtime.shared.model_wrappers.SparseNormalizer object at 0x7ff75063a940\", \"primary_metric\": 0.66767097, \"best_metric\": 0.75895106}, {\"run_id\": \"AutoML_ea437d3c-8ed3-4c01-bf40-48b32154600f_12\", \"run_number\": 17, \"metric\": null, \"status\": \"Completed\", \"run_type\": \"azureml.scriptrun\", \"training_percent\": \"100\", \"start_time\": \"2020-12-27T21:36:39.029795Z\", \"end_time\": \"2020-12-27T21:37:36.803088Z\", \"created_time\": \"2020-12-27T21:36:25.957045Z\", \"created_time_dt\": \"2020-12-27T21:36:25.957045Z\", \"duration\": \"0:01:10\", \"iteration\": \"12\", \"goal\": \"accuracy_max\", \"run_name\": \"RobustScaler, ExtremeRandomTrees\", \"run_properties\": \"copy=True, quantile_range=[25, 75], with_centering=True,\\n             with_scaling=False\", \"primary_metric\": 0.7573091, \"best_metric\": 0.75895106}, {\"run_id\": \"AutoML_ea437d3c-8ed3-4c01-bf40-48b32154600f_13\", \"run_number\": 18, \"metric\": null, \"status\": \"Completed\", \"run_type\": \"azureml.scriptrun\", \"training_percent\": \"100\", \"start_time\": \"2020-12-27T21:37:04.200779Z\", \"end_time\": \"2020-12-27T21:38:00.540191Z\", \"created_time\": \"2020-12-27T21:36:53.699071Z\", \"created_time_dt\": \"2020-12-27T21:36:53.699071Z\", \"duration\": \"0:01:06\", \"iteration\": \"13\", \"goal\": \"accuracy_max\", \"run_name\": \"MaxAbsScaler, LightGBM\", \"run_properties\": \"copy=True\", \"primary_metric\": 0.75567512, \"best_metric\": 0.75895106}, {\"run_id\": \"AutoML_ea437d3c-8ed3-4c01-bf40-48b32154600f_14\", \"run_number\": 19, \"metric\": null, \"status\": \"Completed\", \"run_type\": \"azureml.scriptrun\", \"training_percent\": \"100\", \"start_time\": \"2020-12-27T21:37:17.331586Z\", \"end_time\": \"2020-12-27T21:38:13.763751Z\", \"created_time\": \"2020-12-27T21:37:06.227195Z\", \"created_time_dt\": \"2020-12-27T21:37:06.227195Z\", \"duration\": \"0:01:07\", \"iteration\": \"14\", \"goal\": \"accuracy_max\", \"run_name\": \"StandardScalerWrapper, ExtremeRandomTrees\", \"run_properties\": \"<azureml.automl.runtime.shared.model_wrappers.StandardScalerWrapper object at 0x7f07fb30ef28\", \"primary_metric\": 0.70359477, \"best_metric\": 0.75895106}, {\"run_id\": \"AutoML_ea437d3c-8ed3-4c01-bf40-48b32154600f_15\", \"run_number\": 20, \"metric\": null, \"status\": \"Completed\", \"run_type\": \"azureml.scriptrun\", \"training_percent\": \"100\", \"start_time\": \"2020-12-27T21:37:31.943758Z\", \"end_time\": \"2020-12-27T21:38:26.015521Z\", \"created_time\": \"2020-12-27T21:37:21.900539Z\", \"created_time_dt\": \"2020-12-27T21:37:21.900539Z\", \"duration\": \"0:01:04\", \"iteration\": \"15\", \"goal\": \"accuracy_max\", \"run_name\": \"StandardScalerWrapper, LightGBM\", \"run_properties\": \"<azureml.automl.runtime.shared.model_wrappers.StandardScalerWrapper object at 0x7f83f73b2048\", \"primary_metric\": 0.72965088, \"best_metric\": 0.75895106}, {\"run_id\": \"AutoML_ea437d3c-8ed3-4c01-bf40-48b32154600f_16\", \"run_number\": 21, \"metric\": null, \"status\": \"Completed\", \"run_type\": \"azureml.scriptrun\", \"training_percent\": \"100\", \"start_time\": \"2020-12-27T21:37:50.900379Z\", \"end_time\": \"2020-12-27T21:38:41.519157Z\", \"created_time\": \"2020-12-27T21:37:39.119176Z\", \"created_time_dt\": \"2020-12-27T21:37:39.119176Z\", \"duration\": \"0:01:02\", \"iteration\": \"16\", \"goal\": \"accuracy_max\", \"run_name\": \"SparseNormalizer, XGBoostClassifier\", \"run_properties\": \"<azureml.automl.runtime.shared.model_wrappers.SparseNormalizer object at 0x7f2ad8b9c1d0\", \"primary_metric\": 0.6596206, \"best_metric\": 0.75895106}, {\"run_id\": \"AutoML_ea437d3c-8ed3-4c01-bf40-48b32154600f_17\", \"run_number\": 22, \"metric\": null, \"status\": \"Completed\", \"run_type\": \"azureml.scriptrun\", \"training_percent\": \"100\", \"start_time\": \"2020-12-27T21:38:16.156668Z\", \"end_time\": \"2020-12-27T21:39:11.843831Z\", \"created_time\": \"2020-12-27T21:38:02.780285Z\", \"created_time_dt\": \"2020-12-27T21:38:02.780285Z\", \"duration\": \"0:01:09\", \"iteration\": \"17\", \"goal\": \"accuracy_max\", \"run_name\": \"StandardScalerWrapper, RandomForest\", \"run_properties\": \"<azureml.automl.runtime.shared.model_wrappers.StandardScalerWrapper object at 0x7fefac2fe3c8\", \"primary_metric\": 0.71174079, \"best_metric\": 0.75895106}, {\"run_id\": \"AutoML_ea437d3c-8ed3-4c01-bf40-48b32154600f_18\", \"run_number\": 23, \"metric\": null, \"status\": \"Completed\", \"run_type\": \"azureml.scriptrun\", \"training_percent\": \"100\", \"start_time\": \"2020-12-27T21:38:29.290092Z\", \"end_time\": \"2020-12-27T21:39:33.88237Z\", \"created_time\": \"2020-12-27T21:38:16.026561Z\", \"created_time_dt\": \"2020-12-27T21:38:16.026561Z\", \"duration\": \"0:01:17\", \"iteration\": \"18\", \"goal\": \"accuracy_max\", \"run_name\": \"StandardScalerWrapper, GradientBoosting\", \"run_properties\": \"<azureml.automl.runtime.shared.model_wrappers.StandardScalerWrapper object at 0x7fefcc966a58\", \"primary_metric\": 0.74759286, \"best_metric\": 0.75895106}, {\"run_id\": \"AutoML_ea437d3c-8ed3-4c01-bf40-48b32154600f_19\", \"run_number\": 24, \"metric\": null, \"status\": \"Completed\", \"run_type\": \"azureml.scriptrun\", \"training_percent\": \"100\", \"start_time\": \"2020-12-27T21:38:38.69761Z\", \"end_time\": \"2020-12-27T21:39:44.193421Z\", \"created_time\": \"2020-12-27T21:38:28.195407Z\", \"created_time_dt\": \"2020-12-27T21:38:28.195407Z\", \"duration\": \"0:01:15\", \"iteration\": \"19\", \"goal\": \"accuracy_max\", \"run_name\": \"StandardScalerWrapper, LightGBM\", \"run_properties\": \"<azureml.automl.runtime.shared.model_wrappers.StandardScalerWrapper object at 0x7f62a21a4da0\", \"primary_metric\": 0.71819703, \"best_metric\": 0.75895106}, {\"run_id\": \"AutoML_ea437d3c-8ed3-4c01-bf40-48b32154600f_20\", \"run_number\": 25, \"metric\": null, \"status\": \"Completed\", \"run_type\": \"azureml.scriptrun\", \"training_percent\": \"100\", \"start_time\": \"2020-12-27T21:38:55.179272Z\", \"end_time\": \"2020-12-27T21:39:45.613749Z\", \"created_time\": \"2020-12-27T21:38:43.778329Z\", \"created_time_dt\": \"2020-12-27T21:38:43.778329Z\", \"duration\": \"0:01:01\", \"iteration\": \"20\", \"goal\": \"accuracy_max\", \"run_name\": \"TruncatedSVDWrapper, XGBoostClassifier\", \"run_properties\": \"n_components=0.6036842105263158, random_state=None\", \"primary_metric\": 0.70843297, \"best_metric\": 0.75895106}, {\"run_id\": \"AutoML_ea437d3c-8ed3-4c01-bf40-48b32154600f_21\", \"run_number\": 26, \"metric\": null, \"status\": \"Completed\", \"run_type\": \"azureml.scriptrun\", \"training_percent\": \"100\", \"start_time\": \"2020-12-27T21:39:26.674213Z\", \"end_time\": \"2020-12-27T21:40:21.407374Z\", \"created_time\": \"2020-12-27T21:39:14.114702Z\", \"created_time_dt\": \"2020-12-27T21:39:14.114702Z\", \"duration\": \"0:01:07\", \"iteration\": \"21\", \"goal\": \"accuracy_max\", \"run_name\": \"StandardScalerWrapper, LightGBM\", \"run_properties\": \"<azureml.automl.runtime.shared.model_wrappers.StandardScalerWrapper object at 0x7f40454e5dd8\", \"primary_metric\": 0.75572294, \"best_metric\": 0.75895106}, {\"run_id\": \"AutoML_ea437d3c-8ed3-4c01-bf40-48b32154600f_22\", \"run_number\": 27, \"metric\": null, \"status\": \"Completed\", \"run_type\": \"azureml.scriptrun\", \"training_percent\": \"100\", \"start_time\": \"2020-12-27T21:39:48.236089Z\", \"end_time\": \"2020-12-27T21:40:42.737681Z\", \"created_time\": \"2020-12-27T21:39:36.05524Z\", \"created_time_dt\": \"2020-12-27T21:39:36.05524Z\", \"duration\": \"0:01:06\", \"iteration\": \"22\", \"goal\": \"accuracy_max\", \"run_name\": \"MaxAbsScaler, LightGBM\", \"run_properties\": \"copy=True\", \"primary_metric\": 0.747553, \"best_metric\": 0.75895106}, {\"run_id\": \"AutoML_ea437d3c-8ed3-4c01-bf40-48b32154600f_23\", \"run_number\": 28, \"metric\": null, \"status\": \"Completed\", \"run_type\": \"azureml.scriptrun\", \"training_percent\": \"100\", \"start_time\": \"2020-12-27T21:39:57.475605Z\", \"end_time\": \"2020-12-27T21:40:48.298756Z\", \"created_time\": \"2020-12-27T21:39:46.378298Z\", \"created_time_dt\": \"2020-12-27T21:39:46.378298Z\", \"duration\": \"0:01:01\", \"iteration\": \"23\", \"goal\": \"accuracy_max\", \"run_name\": \"StandardScalerWrapper, LogisticRegression\", \"run_properties\": \"<azureml.automl.runtime.shared.model_wrappers.StandardScalerWrapper object at 0x7f395f0c2128\", \"primary_metric\": 0.76544715, \"best_metric\": 0.76544715}, {\"run_id\": \"AutoML_ea437d3c-8ed3-4c01-bf40-48b32154600f_24\", \"run_number\": 29, \"metric\": null, \"status\": \"Completed\", \"run_type\": \"azureml.scriptrun\", \"training_percent\": \"100\", \"start_time\": \"2020-12-27T21:40:02.486393Z\", \"end_time\": \"2020-12-27T21:40:50.99361Z\", \"created_time\": \"2020-12-27T21:39:50.660805Z\", \"created_time_dt\": \"2020-12-27T21:39:50.660805Z\", \"duration\": \"0:01:00\", \"iteration\": \"24\", \"goal\": \"accuracy_max\", \"run_name\": \"MaxAbsScaler, LightGBM\", \"run_properties\": \"copy=True\", \"primary_metric\": 0.747553, \"best_metric\": 0.76544715}, {\"run_id\": \"AutoML_ea437d3c-8ed3-4c01-bf40-48b32154600f_25\", \"run_number\": 30, \"metric\": null, \"status\": \"Completed\", \"run_type\": \"azureml.scriptrun\", \"training_percent\": \"100\", \"start_time\": \"2020-12-27T21:40:36.286058Z\", \"end_time\": \"2020-12-27T21:41:29.717582Z\", \"created_time\": \"2020-12-27T21:40:25.263859Z\", \"created_time_dt\": \"2020-12-27T21:40:25.263859Z\", \"duration\": \"0:01:04\", \"iteration\": \"25\", \"goal\": \"accuracy_max\", \"run_name\": \"TruncatedSVDWrapper, GradientBoosting\", \"run_properties\": \"n_components=0.15842105263157896, random_state=None\", \"primary_metric\": 0.68404272, \"best_metric\": 0.76544715}, {\"run_id\": \"AutoML_ea437d3c-8ed3-4c01-bf40-48b32154600f_26\", \"run_number\": 31, \"metric\": null, \"status\": \"Completed\", \"run_type\": \"azureml.scriptrun\", \"training_percent\": \"100\", \"start_time\": \"2020-12-27T21:40:57.090865Z\", \"end_time\": \"2020-12-27T21:41:56.810645Z\", \"created_time\": \"2020-12-27T21:40:44.876583Z\", \"created_time_dt\": \"2020-12-27T21:40:44.876583Z\", \"duration\": \"0:01:11\", \"iteration\": \"26\", \"goal\": \"accuracy_max\", \"run_name\": \"StandardScalerWrapper, RandomForest\", \"run_properties\": \"<azureml.automl.runtime.shared.model_wrappers.StandardScalerWrapper object at 0x7f6eb1097f28\", \"primary_metric\": 0.74757692, \"best_metric\": 0.76544715}, {\"run_id\": \"AutoML_ea437d3c-8ed3-4c01-bf40-48b32154600f_27\", \"run_number\": 32, \"metric\": null, \"status\": \"Completed\", \"run_type\": \"azureml.scriptrun\", \"training_percent\": \"100\", \"start_time\": \"2020-12-27T21:41:06.014657Z\", \"end_time\": \"2020-12-27T21:41:55.634171Z\", \"created_time\": \"2020-12-27T21:40:52.240869Z\", \"created_time_dt\": \"2020-12-27T21:40:52.240869Z\", \"duration\": \"0:01:03\", \"iteration\": \"27\", \"goal\": \"accuracy_max\", \"run_name\": \"StandardScalerWrapper, LightGBM\", \"run_properties\": \"<azureml.automl.runtime.shared.model_wrappers.StandardScalerWrapper object at 0x7febfbc58588\", \"primary_metric\": 0.76221903, \"best_metric\": 0.76544715}, {\"run_id\": \"AutoML_ea437d3c-8ed3-4c01-bf40-48b32154600f_28\", \"run_number\": 33, \"metric\": null, \"status\": \"Completed\", \"run_type\": \"azureml.scriptrun\", \"training_percent\": \"100\", \"start_time\": \"2020-12-27T21:41:10.357832Z\", \"end_time\": \"2020-12-27T21:42:08.040026Z\", \"created_time\": \"2020-12-27T21:40:58.212562Z\", \"created_time_dt\": \"2020-12-27T21:40:58.212562Z\", \"duration\": \"0:01:09\", \"iteration\": \"28\", \"goal\": \"accuracy_max\", \"run_name\": \"SparseNormalizer, LightGBM\", \"run_properties\": \"<azureml.automl.runtime.shared.model_wrappers.SparseNormalizer object at 0x7f26bd16c470\", \"primary_metric\": 0.65144269, \"best_metric\": 0.76544715}, {\"run_id\": \"AutoML_ea437d3c-8ed3-4c01-bf40-48b32154600f_29\", \"run_number\": 34, \"metric\": null, \"status\": \"Completed\", \"run_type\": \"azureml.scriptrun\", \"training_percent\": \"100\", \"start_time\": \"2020-12-27T21:41:44.347974Z\", \"end_time\": \"2020-12-27T21:42:45.029654Z\", \"created_time\": \"2020-12-27T21:41:32.718021Z\", \"created_time_dt\": \"2020-12-27T21:41:32.718021Z\", \"duration\": \"0:01:12\", \"iteration\": \"29\", \"goal\": \"accuracy_max\", \"run_name\": \"StandardScalerWrapper, LightGBM\", \"run_properties\": \"<azureml.automl.runtime.shared.model_wrappers.StandardScalerWrapper object at 0x7f0e55fe63c8\", \"primary_metric\": 0.75081301, \"best_metric\": 0.76544715}, {\"run_id\": \"AutoML_ea437d3c-8ed3-4c01-bf40-48b32154600f_30\", \"run_number\": 35, \"metric\": null, \"status\": \"Completed\", \"run_type\": \"azureml.scriptrun\", \"training_percent\": \"100\", \"start_time\": \"2020-12-27T21:42:11.460458Z\", \"end_time\": \"2020-12-27T21:42:59.418526Z\", \"created_time\": \"2020-12-27T21:42:00.143607Z\", \"created_time_dt\": \"2020-12-27T21:42:00.143607Z\", \"duration\": \"0:00:59\", \"iteration\": \"30\", \"goal\": \"accuracy_max\", \"run_name\": \"TruncatedSVDWrapper, LogisticRegression\", \"run_properties\": \"n_components=0.7026315789473684, random_state=None\", \"primary_metric\": 0.66610872, \"best_metric\": 0.76544715}, {\"run_id\": \"AutoML_ea437d3c-8ed3-4c01-bf40-48b32154600f_31\", \"run_number\": 36, \"metric\": null, \"status\": \"Completed\", \"run_type\": \"azureml.scriptrun\", \"training_percent\": \"100\", \"start_time\": \"2020-12-27T21:42:10.990378Z\", \"end_time\": \"2020-12-27T21:43:04.324113Z\", \"created_time\": \"2020-12-27T21:42:00.172781Z\", \"created_time_dt\": \"2020-12-27T21:42:00.172781Z\", \"duration\": \"0:01:04\", \"iteration\": \"31\", \"goal\": \"accuracy_max\", \"run_name\": \"MaxAbsScaler, RandomForest\", \"run_properties\": \"copy=True\", \"primary_metric\": 0.73448908, \"best_metric\": 0.76544715}, {\"run_id\": \"AutoML_ea437d3c-8ed3-4c01-bf40-48b32154600f_32\", \"run_number\": 37, \"metric\": null, \"status\": \"Completed\", \"run_type\": \"azureml.scriptrun\", \"training_percent\": \"100\", \"start_time\": \"2020-12-27T21:42:23.35585Z\", \"end_time\": \"2020-12-27T21:43:33.188125Z\", \"created_time\": \"2020-12-27T21:42:10.893495Z\", \"created_time_dt\": \"2020-12-27T21:42:10.893495Z\", \"duration\": \"0:01:22\", \"iteration\": \"32\", \"goal\": \"accuracy_max\", \"run_name\": \"SparseNormalizer, ExtremeRandomTrees\", \"run_properties\": \"<azureml.automl.runtime.shared.model_wrappers.SparseNormalizer object at 0x7f742283da58\", \"primary_metric\": 0.6514666, \"best_metric\": 0.76544715}, {\"run_id\": \"AutoML_ea437d3c-8ed3-4c01-bf40-48b32154600f_33\", \"run_number\": 38, \"metric\": null, \"status\": \"Completed\", \"run_type\": \"azureml.scriptrun\", \"training_percent\": \"100\", \"start_time\": \"2020-12-27T21:43:02.923177Z\", \"end_time\": \"2020-12-27T21:44:01.603654Z\", \"created_time\": \"2020-12-27T21:42:48.067301Z\", \"created_time_dt\": \"2020-12-27T21:42:48.067301Z\", \"duration\": \"0:01:13\", \"iteration\": \"33\", \"goal\": \"accuracy_max\", \"run_name\": \"StandardScalerWrapper, RandomForest\", \"run_properties\": \"<azureml.automl.runtime.shared.model_wrappers.StandardScalerWrapper object at 0x7f7b39a61358\", \"primary_metric\": 0.71500877, \"best_metric\": 0.76544715}, {\"run_id\": \"AutoML_ea437d3c-8ed3-4c01-bf40-48b32154600f_34\", \"run_number\": 39, \"metric\": null, \"status\": \"Completed\", \"run_type\": \"azureml.scriptrun\", \"training_percent\": \"100\", \"start_time\": \"2020-12-27T21:43:16.462932Z\", \"end_time\": \"2020-12-27T21:44:21.032909Z\", \"created_time\": \"2020-12-27T21:43:02.983161Z\", \"created_time_dt\": \"2020-12-27T21:43:02.983161Z\", \"duration\": \"0:01:18\", \"iteration\": \"34\", \"goal\": \"accuracy_max\", \"run_name\": \"MaxAbsScaler, RandomForest\", \"run_properties\": \"copy=True\", \"primary_metric\": 0.71822892, \"best_metric\": 0.76544715}, {\"run_id\": \"AutoML_ea437d3c-8ed3-4c01-bf40-48b32154600f_35\", \"run_number\": 40, \"metric\": null, \"status\": \"Completed\", \"run_type\": \"azureml.scriptrun\", \"training_percent\": \"100\", \"start_time\": \"2020-12-27T21:43:20.820939Z\", \"end_time\": \"2020-12-27T21:44:11.785312Z\", \"created_time\": \"2020-12-27T21:43:09.1139Z\", \"created_time_dt\": \"2020-12-27T21:43:09.1139Z\", \"duration\": \"0:01:02\", \"iteration\": \"35\", \"goal\": \"accuracy_max\", \"run_name\": \"MaxAbsScaler, LogisticRegression\", \"run_properties\": \"copy=True\", \"primary_metric\": 0.47215846, \"best_metric\": 0.76544715}, {\"run_id\": \"AutoML_ea437d3c-8ed3-4c01-bf40-48b32154600f_36\", \"run_number\": 41, \"metric\": null, \"status\": \"Completed\", \"run_type\": \"azureml.scriptrun\", \"training_percent\": \"100\", \"start_time\": \"2020-12-27T21:43:49.402652Z\", \"end_time\": \"2020-12-27T21:44:46.323312Z\", \"created_time\": \"2020-12-27T21:43:36.22823Z\", \"created_time_dt\": \"2020-12-27T21:43:36.22823Z\", \"duration\": \"0:01:10\", \"iteration\": \"36\", \"goal\": \"accuracy_max\", \"run_name\": \"MinMaxScaler, RandomForest\", \"run_properties\": \"copy=True, feature_range=(0, 1\", \"primary_metric\": 0.73122908, \"best_metric\": 0.76544715}, {\"run_id\": \"AutoML_ea437d3c-8ed3-4c01-bf40-48b32154600f_37\", \"run_number\": 42, \"metric\": null, \"status\": \"Canceled\", \"run_type\": \"azureml.scriptrun\", \"training_percent\": \"100\", \"start_time\": \"2020-12-27T21:44:18.612118Z\", \"end_time\": \"2020-12-27T21:44:55.336672Z\", \"created_time\": \"2020-12-27T21:44:04.866387Z\", \"created_time_dt\": \"2020-12-27T21:44:04.866387Z\", \"duration\": \"0:00:50\", \"iteration\": \"37\", \"goal\": null, \"run_name\": \"MaxAbsScaler, LightGBM\", \"run_properties\": null, \"primary_metric\": 0.74920293, \"best_metric\": 0.76544715}, {\"run_id\": \"AutoML_ea437d3c-8ed3-4c01-bf40-48b32154600f_38\", \"run_number\": 43, \"metric\": null, \"status\": \"Canceled\", \"run_type\": \"azureml.scriptrun\", \"training_percent\": \"100\", \"start_time\": \"2020-12-27T21:44:42.820079Z\", \"end_time\": \"2020-12-27T21:44:55.78443Z\", \"created_time\": \"2020-12-27T21:44:15.099395Z\", \"created_time_dt\": \"2020-12-27T21:44:15.099395Z\", \"duration\": \"0:00:40\", \"iteration\": \"38\", \"goal\": null, \"run_name\": \"MaxAbsScaler, RandomForest\", \"run_properties\": null}, {\"run_id\": \"AutoML_ea437d3c-8ed3-4c01-bf40-48b32154600f_39\", \"run_number\": 44, \"metric\": null, \"status\": \"Canceled\", \"run_type\": \"azureml.scriptrun\", \"training_percent\": \"100\", \"start_time\": \"2020-12-27T21:44:36.551359Z\", \"end_time\": \"2020-12-27T21:44:55.797741Z\", \"created_time\": \"2020-12-27T21:44:23.433351Z\", \"created_time_dt\": \"2020-12-27T21:44:23.433351Z\", \"duration\": \"0:00:32\", \"iteration\": \"39\", \"goal\": null, \"run_name\": \"SparseNormalizer, RandomForest\", \"run_properties\": null}, {\"run_id\": \"AutoML_ea437d3c-8ed3-4c01-bf40-48b32154600f_40\", \"run_number\": 45, \"metric\": null, \"status\": \"Completed\", \"run_type\": \"azureml.scriptrun\", \"training_percent\": \"100\", \"start_time\": \"2020-12-27T21:45:08.817882Z\", \"end_time\": \"2020-12-27T21:46:35.264041Z\", \"created_time\": \"2020-12-27T21:44:56.70689Z\", \"created_time_dt\": \"2020-12-27T21:44:56.70689Z\", \"duration\": \"0:01:38\", \"iteration\": \"40\", \"goal\": \"accuracy_max\", \"run_name\": \"VotingEnsemble\", \"run_properties\": \"classification_labels=None,\\n                              estimators=[('23',\\n                                           Pipeline(memory=None,\\n                                                    steps=[('standardscalerwrapper',\\n                                                            <azureml.automl.runtime.shared.model_wrappers.StandardScalerWrapper object at 0x7fe84cd0aac8>\", \"primary_metric\": 0.78340507, \"best_metric\": 0.78340507}], \"children_metrics\": {\"categories\": [0], \"series\": {\"recall_score_micro\": [{\"categories\": [\"0\", \"1\", \"2\", \"3\", \"4\", \"5\", \"6\", \"7\", \"8\", \"9\", \"10\", \"11\", \"12\", \"13\", \"14\", \"15\", \"16\", \"17\", \"18\", \"19\", \"20\", \"21\", \"22\", \"23\", \"24\", \"25\", \"26\", \"27\", \"28\", \"29\", \"30\", \"31\", \"32\", \"33\", \"34\", \"35\", \"36\", \"37\", \"40\"], \"mode\": \"markers\", \"name\": \"recall_score_micro\", \"stepped\": false, \"type\": \"scatter\", \"data\": [0.7459588713534194, 0.7443089430894309, 0.73614697911685, 0.7264068228917583, 0.7492587278813964, 0.7035389765662362, 0.687310696636378, 0.7589510600988363, 0.675864817471704, 0.7296110314044317, 0.744285031085605, 0.6676709708273553, 0.7573091025027897, 0.7556751155746851, 0.7035947712418301, 0.7296508847441415, 0.6596205962059621, 0.7117407938785271, 0.747592858281524, 0.7181970349115255, 0.7084329666826079, 0.7557229395823369, 0.7475530049418141, 0.7654471544715448, 0.7475530049418141, 0.6840427227801689, 0.74757691694564, 0.7622190339550454, 0.6514426908974972, 0.7508130081300813, 0.6661087199107284, 0.7344890801849195, 0.6514666029013231, 0.7150087677347362, 0.7182289175832935, 0.47215845687868646, 0.7312290769966524, 0.7492029332058027, 0.783405069344811]}, {\"categories\": [\"0\", \"1\", \"2\", \"3\", \"4\", \"5\", \"6\", \"7\", \"8\", \"9\", \"10\", \"11\", \"12\", \"13\", \"14\", \"15\", \"16\", \"17\", \"18\", \"19\", \"20\", \"21\", \"22\", \"23\", \"24\", \"25\", \"26\", \"27\", \"28\", \"29\", \"30\", \"31\", \"32\", \"33\", \"34\", \"35\", \"36\", \"37\", \"40\"], \"mode\": \"lines\", \"name\": \"recall_score_micro_max\", \"stepped\": true, \"type\": \"scatter\", \"data\": [0.7459588713534194, 0.7459588713534194, 0.7459588713534194, 0.7459588713534194, 0.7492587278813964, 0.7492587278813964, 0.7492587278813964, 0.7589510600988363, 0.7589510600988363, 0.7589510600988363, 0.7589510600988363, 0.7589510600988363, 0.7589510600988363, 0.7589510600988363, 0.7589510600988363, 0.7589510600988363, 0.7589510600988363, 0.7589510600988363, 0.7589510600988363, 0.7589510600988363, 0.7589510600988363, 0.7589510600988363, 0.7589510600988363, 0.7654471544715448, 0.7654471544715448, 0.7654471544715448, 0.7654471544715448, 0.7654471544715448, 0.7654471544715448, 0.7654471544715448, 0.7654471544715448, 0.7654471544715448, 0.7654471544715448, 0.7654471544715448, 0.7654471544715448, 0.7654471544715448, 0.7654471544715448, 0.7654471544715448, 0.783405069344811]}], \"norm_macro_recall\": [{\"categories\": [\"0\", \"1\", \"2\", \"3\", \"4\", \"5\", \"6\", \"7\", \"8\", \"9\", \"10\", \"11\", \"12\", \"13\", \"14\", \"15\", \"16\", \"17\", \"18\", \"19\", \"20\", \"21\", \"22\", \"23\", \"24\", \"25\", \"26\", \"27\", \"28\", \"29\", \"30\", \"31\", \"32\", \"33\", \"34\", \"35\", \"36\", \"37\", \"40\"], \"mode\": \"markers\", \"name\": \"norm_macro_recall\", \"stepped\": false, \"type\": \"scatter\", \"data\": [0.4350920107140126, 0.42520351740213796, 0.3892965041640372, 0.3595168203235859, 0.47261467155526554, 0.26485788830852525, 0.20470550779122543, 0.4346756468227441, 0.25831620610730677, 0.3050395678627598, 0.36945961093576307, 0.25231849180383237, 0.40875750154426704, 0.41710908786584383, 0.24554938684990132, 0.2956303648243748, 0.19344425360188175, 0.31454433216402905, 0.43657276312747073, 0.3369427589376978, 0.3390949442576054, 0.43668554622906336, 0.41752830626614573, 0.44587748010407946, 0.4023256087228688, 0.2479221467571895, 0.41252729496288304, 0.424574767408898, 0.0681009327218484, 0.40416792028764953, 0.1608204220719159, 0.3740880174330307, 0.3170767205162546, 0.4524504397803992, 0.4593121225356899, 0.0, 0.33565344920318047, 0.44117912147173005, 0.49124259490206273]}, {\"categories\": [\"0\", \"1\", \"2\", \"3\", \"4\", \"5\", \"6\", \"7\", \"8\", \"9\", \"10\", \"11\", \"12\", \"13\", \"14\", \"15\", \"16\", \"17\", \"18\", \"19\", \"20\", \"21\", \"22\", \"23\", \"24\", \"25\", \"26\", \"27\", \"28\", \"29\", \"30\", \"31\", \"32\", \"33\", \"34\", \"35\", \"36\", \"37\", \"40\"], \"mode\": \"lines\", \"name\": \"norm_macro_recall_max\", \"stepped\": true, \"type\": \"scatter\", \"data\": [0.4350920107140126, 0.4350920107140126, 0.4350920107140126, 0.4350920107140126, 0.47261467155526554, 0.47261467155526554, 0.47261467155526554, 0.47261467155526554, 0.47261467155526554, 0.47261467155526554, 0.47261467155526554, 0.47261467155526554, 0.47261467155526554, 0.47261467155526554, 0.47261467155526554, 0.47261467155526554, 0.47261467155526554, 0.47261467155526554, 0.47261467155526554, 0.47261467155526554, 0.47261467155526554, 0.47261467155526554, 0.47261467155526554, 0.47261467155526554, 0.47261467155526554, 0.47261467155526554, 0.47261467155526554, 0.47261467155526554, 0.47261467155526554, 0.47261467155526554, 0.47261467155526554, 0.47261467155526554, 0.47261467155526554, 0.47261467155526554, 0.47261467155526554, 0.47261467155526554, 0.47261467155526554, 0.47261467155526554, 0.49124259490206273]}], \"average_precision_score_micro\": [{\"categories\": [\"0\", \"1\", \"2\", \"3\", \"4\", \"5\", \"6\", \"7\", \"8\", \"9\", \"10\", \"11\", \"12\", \"13\", \"14\", \"15\", \"16\", \"17\", \"18\", \"19\", \"20\", \"21\", \"22\", \"23\", \"24\", \"25\", \"26\", \"27\", \"28\", \"29\", \"30\", \"31\", \"32\", \"33\", \"34\", \"35\", \"36\", \"37\", \"40\"], \"mode\": \"markers\", \"name\": \"average_precision_score_micro\", \"stepped\": false, \"type\": \"scatter\", \"data\": [0.8166117860170772, 0.8275879185031454, 0.8238236099425468, 0.8208890199332554, 0.8274250624361575, 0.7656917548762122, 0.7475297726881133, 0.8473660138518276, 0.7128678592457041, 0.8259359986049946, 0.83268450547219, 0.722091905570093, 0.8357450314743943, 0.8306178980533575, 0.8100856384147318, 0.8175547512510782, 0.7220905798153904, 0.8222067800815708, 0.8330941419639474, 0.8158364460199334, 0.7855066327381247, 0.8331479169066706, 0.8180079754342181, 0.8261825882871432, 0.835775960391877, 0.7448615717162609, 0.8435863523822947, 0.8335338061699713, 0.7205056312312941, 0.8332596884249467, 0.6708041336391606, 0.8317400304383229, 0.6839485181281004, 0.8090919074523294, 0.8129537584258021, 0.5060962220482474, 0.8253039645912859, 0.8194753285972237, 0.842623170723213]}, {\"categories\": [\"0\", \"1\", \"2\", \"3\", \"4\", \"5\", \"6\", \"7\", \"8\", \"9\", \"10\", \"11\", \"12\", \"13\", \"14\", \"15\", \"16\", \"17\", \"18\", \"19\", \"20\", \"21\", \"22\", \"23\", \"24\", \"25\", \"26\", \"27\", \"28\", \"29\", \"30\", \"31\", \"32\", \"33\", \"34\", \"35\", \"36\", \"37\", \"40\"], \"mode\": \"lines\", \"name\": \"average_precision_score_micro_max\", \"stepped\": true, \"type\": \"scatter\", \"data\": [0.8166117860170772, 0.8275879185031454, 0.8275879185031454, 0.8275879185031454, 0.8275879185031454, 0.8275879185031454, 0.8275879185031454, 0.8473660138518276, 0.8473660138518276, 0.8473660138518276, 0.8473660138518276, 0.8473660138518276, 0.8473660138518276, 0.8473660138518276, 0.8473660138518276, 0.8473660138518276, 0.8473660138518276, 0.8473660138518276, 0.8473660138518276, 0.8473660138518276, 0.8473660138518276, 0.8473660138518276, 0.8473660138518276, 0.8473660138518276, 0.8473660138518276, 0.8473660138518276, 0.8473660138518276, 0.8473660138518276, 0.8473660138518276, 0.8473660138518276, 0.8473660138518276, 0.8473660138518276, 0.8473660138518276, 0.8473660138518276, 0.8473660138518276, 0.8473660138518276, 0.8473660138518276, 0.8473660138518276, 0.8473660138518276]}], \"weighted_accuracy\": [{\"categories\": [\"0\", \"1\", \"2\", \"3\", \"4\", \"5\", \"6\", \"7\", \"8\", \"9\", \"10\", \"11\", \"12\", \"13\", \"14\", \"15\", \"16\", \"17\", \"18\", \"19\", \"20\", \"21\", \"22\", \"23\", \"24\", \"25\", \"26\", \"27\", \"28\", \"29\", \"30\", \"31\", \"32\", \"33\", \"34\", \"35\", \"36\", \"37\", \"40\"], \"mode\": \"markers\", \"name\": \"weighted_accuracy\", \"stepped\": false, \"type\": \"scatter\", \"data\": [0.7703331923526053, 0.7715615333630267, 0.7717207790158062, 0.7662787433032069, 0.7604158416115946, 0.7643935714475295, 0.759779534221961, 0.7943467837565409, 0.7161891505812669, 0.795459315875858, 0.7950321829391004, 0.7032264358148269, 0.8023672015461601, 0.7958954899639066, 0.7727677508960756, 0.7991220320929019, 0.7134673410362916, 0.7584342775104037, 0.7728157616086572, 0.7608905211758259, 0.7414194683532944, 0.7874823862346126, 0.780652992144145, 0.801727358127248, 0.7869457600642367, 0.7353549134839216, 0.782980527595182, 0.8047796674224453, 0.7511948792097308, 0.7927692186986443, 0.7389131856288381, 0.7751938967079449, 0.6455939002650181, 0.7058783358469425, 0.7088337844529137, 0.44292899862302465, 0.7852624320945921, 0.7738759373111751, 0.8156784164187357]}, {\"categories\": [\"0\", \"1\", \"2\", \"3\", \"4\", \"5\", \"6\", \"7\", \"8\", \"9\", \"10\", \"11\", \"12\", \"13\", \"14\", \"15\", \"16\", \"17\", \"18\", \"19\", \"20\", \"21\", \"22\", \"23\", \"24\", \"25\", \"26\", \"27\", \"28\", \"29\", \"30\", \"31\", \"32\", \"33\", \"34\", \"35\", \"36\", \"37\", \"40\"], \"mode\": \"lines\", \"name\": \"weighted_accuracy_max\", \"stepped\": true, \"type\": \"scatter\", \"data\": [0.7703331923526053, 0.7715615333630267, 0.7717207790158062, 0.7717207790158062, 0.7717207790158062, 0.7717207790158062, 0.7717207790158062, 0.7943467837565409, 0.7943467837565409, 0.795459315875858, 0.795459315875858, 0.795459315875858, 0.8023672015461601, 0.8023672015461601, 0.8023672015461601, 0.8023672015461601, 0.8023672015461601, 0.8023672015461601, 0.8023672015461601, 0.8023672015461601, 0.8023672015461601, 0.8023672015461601, 0.8023672015461601, 0.8023672015461601, 0.8023672015461601, 0.8023672015461601, 0.8023672015461601, 0.8047796674224453, 0.8047796674224453, 0.8047796674224453, 0.8047796674224453, 0.8047796674224453, 0.8047796674224453, 0.8047796674224453, 0.8047796674224453, 0.8047796674224453, 0.8047796674224453, 0.8047796674224453, 0.8156784164187357]}], \"accuracy\": [{\"categories\": [\"0\", \"1\", \"2\", \"3\", \"4\", \"5\", \"6\", \"7\", \"8\", \"9\", \"10\", \"11\", \"12\", \"13\", \"14\", \"15\", \"16\", \"17\", \"18\", \"19\", \"20\", \"21\", \"22\", \"23\", \"24\", \"25\", \"26\", \"27\", \"28\", \"29\", \"30\", \"31\", \"32\", \"33\", \"34\", \"35\", \"36\", \"37\", \"40\"], \"mode\": \"markers\", \"name\": \"accuracy\", \"stepped\": false, \"type\": \"scatter\", \"data\": [0.7459588713534194, 0.7443089430894309, 0.73614697911685, 0.7264068228917583, 0.7492587278813964, 0.7035389765662362, 0.687310696636378, 0.7589510600988363, 0.675864817471704, 0.7296110314044317, 0.744285031085605, 0.6676709708273553, 0.7573091025027897, 0.7556751155746851, 0.7035947712418301, 0.7296508847441415, 0.6596205962059621, 0.7117407938785271, 0.747592858281524, 0.7181970349115255, 0.7084329666826079, 0.7557229395823369, 0.7475530049418141, 0.7654471544715448, 0.7475530049418141, 0.6840427227801689, 0.74757691694564, 0.7622190339550454, 0.6514426908974972, 0.7508130081300813, 0.6661087199107284, 0.7344890801849195, 0.6514666029013231, 0.7150087677347362, 0.7182289175832935, 0.47215845687868646, 0.7312290769966524, 0.7492029332058027, 0.783405069344811]}, {\"categories\": [\"0\", \"1\", \"2\", \"3\", \"4\", \"5\", \"6\", \"7\", \"8\", \"9\", \"10\", \"11\", \"12\", \"13\", \"14\", \"15\", \"16\", \"17\", \"18\", \"19\", \"20\", \"21\", \"22\", \"23\", \"24\", \"25\", \"26\", \"27\", \"28\", \"29\", \"30\", \"31\", \"32\", \"33\", \"34\", \"35\", \"36\", \"37\", \"40\"], \"mode\": \"lines\", \"name\": \"accuracy_max\", \"stepped\": true, \"type\": \"scatter\", \"data\": [0.7459588713534194, 0.7459588713534194, 0.7459588713534194, 0.7459588713534194, 0.7492587278813964, 0.7492587278813964, 0.7492587278813964, 0.7589510600988363, 0.7589510600988363, 0.7589510600988363, 0.7589510600988363, 0.7589510600988363, 0.7589510600988363, 0.7589510600988363, 0.7589510600988363, 0.7589510600988363, 0.7589510600988363, 0.7589510600988363, 0.7589510600988363, 0.7589510600988363, 0.7589510600988363, 0.7589510600988363, 0.7589510600988363, 0.7654471544715448, 0.7654471544715448, 0.7654471544715448, 0.7654471544715448, 0.7654471544715448, 0.7654471544715448, 0.7654471544715448, 0.7654471544715448, 0.7654471544715448, 0.7654471544715448, 0.7654471544715448, 0.7654471544715448, 0.7654471544715448, 0.7654471544715448, 0.7654471544715448, 0.783405069344811]}], \"precision_score_weighted\": [{\"categories\": [\"0\", \"1\", \"2\", \"3\", \"4\", \"5\", \"6\", \"7\", \"8\", \"9\", \"10\", \"11\", \"12\", \"13\", \"14\", \"15\", \"16\", \"17\", \"18\", \"19\", \"20\", \"21\", \"22\", \"23\", \"24\", \"25\", \"26\", \"27\", \"28\", \"29\", \"30\", \"31\", \"32\", \"33\", \"34\", \"35\", \"36\", \"37\", \"40\"], \"mode\": \"markers\", \"name\": \"precision_score_weighted\", \"stepped\": false, \"type\": \"scatter\", \"data\": [0.7456608668779596, 0.7440636782906588, 0.733633144151611, 0.7220546806225112, 0.7558606390995788, 0.7005291515843869, 0.6818933199827502, 0.7561947736536169, 0.6680399236022101, 0.741389567412655, 0.7459686642972071, 0.6611623655720972, 0.7579770998418879, 0.754351076114323, 0.7107366499402729, 0.7443324327727739, 0.6471610960121364, 0.7073959537662574, 0.749467895625551, 0.7120507997383491, 0.7022011097996592, 0.7529396602190706, 0.7438934152350124, 0.7658356377466454, 0.7439302658210404, 0.6838625349735611, 0.747614498337834, 0.7619483466403114, 0.6518979322130659, 0.7537112044175069, 0.6533517303983533, 0.7302198071376433, 0.6852191286046526, 0.746228975007576, 0.7485965811742564, 0.24217545048759068, 0.7297629611328825, 0.7504795763124691, 0.7826921922421269]}, {\"categories\": [\"0\", \"1\", \"2\", \"3\", \"4\", \"5\", \"6\", \"7\", \"8\", \"9\", \"10\", \"11\", \"12\", \"13\", \"14\", \"15\", \"16\", \"17\", \"18\", \"19\", \"20\", \"21\", \"22\", \"23\", \"24\", \"25\", \"26\", \"27\", \"28\", \"29\", \"30\", \"31\", \"32\", \"33\", \"34\", \"35\", \"36\", \"37\", \"40\"], \"mode\": \"lines\", \"name\": \"precision_score_weighted_max\", \"stepped\": true, \"type\": \"scatter\", \"data\": [0.7456608668779596, 0.7456608668779596, 0.7456608668779596, 0.7456608668779596, 0.7558606390995788, 0.7558606390995788, 0.7558606390995788, 0.7561947736536169, 0.7561947736536169, 0.7561947736536169, 0.7561947736536169, 0.7561947736536169, 0.7579770998418879, 0.7579770998418879, 0.7579770998418879, 0.7579770998418879, 0.7579770998418879, 0.7579770998418879, 0.7579770998418879, 0.7579770998418879, 0.7579770998418879, 0.7579770998418879, 0.7579770998418879, 0.7658356377466454, 0.7658356377466454, 0.7658356377466454, 0.7658356377466454, 0.7658356377466454, 0.7658356377466454, 0.7658356377466454, 0.7658356377466454, 0.7658356377466454, 0.7658356377466454, 0.7658356377466454, 0.7658356377466454, 0.7658356377466454, 0.7658356377466454, 0.7658356377466454, 0.7826921922421269]}], \"recall_score_macro\": [{\"categories\": [\"0\", \"1\", \"2\", \"3\", \"4\", \"5\", \"6\", \"7\", \"8\", \"9\", \"10\", \"11\", \"12\", \"13\", \"14\", \"15\", \"16\", \"17\", \"18\", \"19\", \"20\", \"21\", \"22\", \"23\", \"24\", \"25\", \"26\", \"27\", \"28\", \"29\", \"30\", \"31\", \"32\", \"33\", \"34\", \"35\", \"36\", \"37\", \"40\"], \"mode\": \"markers\", \"name\": \"recall_score_macro\", \"stepped\": false, \"type\": \"scatter\", \"data\": [0.7175460053570063, 0.712601758701069, 0.6946482520820186, 0.679758410161793, 0.7363073357776327, 0.6324289441542627, 0.6023527538956127, 0.717337823411372, 0.6291581030536534, 0.65251978393138, 0.6847298054678815, 0.6261592459019162, 0.7043787507721335, 0.7085545439329218, 0.6227746934249506, 0.6478151824121874, 0.5967221268009409, 0.6572721660820146, 0.7182863815637354, 0.6684713794688489, 0.6695474721288027, 0.7183427731145317, 0.7087641531330728, 0.7229387400520397, 0.7011628043614344, 0.6239610733785947, 0.7062636474814415, 0.712287383704449, 0.5340504663609241, 0.7020839601438248, 0.580410211035958, 0.6870440087165154, 0.6585383602581273, 0.7262252198901996, 0.7296560612678449, 0.5, 0.6678267246015902, 0.7205895607358651, 0.7456212974510313]}, {\"categories\": [\"0\", \"1\", \"2\", \"3\", \"4\", \"5\", \"6\", \"7\", \"8\", \"9\", \"10\", \"11\", \"12\", \"13\", \"14\", \"15\", \"16\", \"17\", \"18\", \"19\", \"20\", \"21\", \"22\", \"23\", \"24\", \"25\", \"26\", \"27\", \"28\", \"29\", \"30\", \"31\", \"32\", \"33\", \"34\", \"35\", \"36\", \"37\", \"40\"], \"mode\": \"lines\", \"name\": \"recall_score_macro_max\", \"stepped\": true, \"type\": \"scatter\", \"data\": [0.7175460053570063, 0.7175460053570063, 0.7175460053570063, 0.7175460053570063, 0.7363073357776327, 0.7363073357776327, 0.7363073357776327, 0.7363073357776327, 0.7363073357776327, 0.7363073357776327, 0.7363073357776327, 0.7363073357776327, 0.7363073357776327, 0.7363073357776327, 0.7363073357776327, 0.7363073357776327, 0.7363073357776327, 0.7363073357776327, 0.7363073357776327, 0.7363073357776327, 0.7363073357776327, 0.7363073357776327, 0.7363073357776327, 0.7363073357776327, 0.7363073357776327, 0.7363073357776327, 0.7363073357776327, 0.7363073357776327, 0.7363073357776327, 0.7363073357776327, 0.7363073357776327, 0.7363073357776327, 0.7363073357776327, 0.7363073357776327, 0.7363073357776327, 0.7363073357776327, 0.7363073357776327, 0.7363073357776327, 0.7456212974510313]}], \"precision_score_macro\": [{\"categories\": [\"0\", \"1\", \"2\", \"3\", \"4\", \"5\", \"6\", \"7\", \"8\", \"9\", \"10\", \"11\", \"12\", \"13\", \"14\", \"15\", \"16\", \"17\", \"18\", \"19\", \"20\", \"21\", \"22\", \"23\", \"24\", \"25\", \"26\", \"27\", \"28\", \"29\", \"30\", \"31\", \"32\", \"33\", \"34\", \"35\", \"36\", \"37\", \"40\"], \"mode\": \"markers\", \"name\": \"precision_score_macro\", \"stepped\": false, \"type\": \"scatter\", \"data\": [0.726476160899086, 0.7260784827613822, 0.7187879316926079, 0.7074652749723866, 0.7303716203441103, 0.6920357469543245, 0.6742068033013493, 0.7452835014815719, 0.6444992393823981, 0.745504953709288, 0.742235092524191, 0.6351878403654506, 0.7527116941686179, 0.7460361400669195, 0.7085918149864678, 0.7508648164881587, 0.6250089476250033, 0.693656418935778, 0.7317050199926913, 0.697148333790737, 0.6813347471380032, 0.7387412197556339, 0.7294063110452069, 0.7569494163346135, 0.732611183301855, 0.6680380430068599, 0.7348072711753009, 0.7560313618451578, 0.647176727756711, 0.74596803418452, 0.6385291221817758, 0.7179123689621466, 0.6469402665343925, 0.7091202425771588, 0.7116489665197623, 0.23607922843934323, 0.7246467686351332, 0.7321217979112715, 0.7739586300490124]}, {\"categories\": [\"0\", \"1\", \"2\", \"3\", \"4\", \"5\", \"6\", \"7\", \"8\", \"9\", \"10\", \"11\", \"12\", \"13\", \"14\", \"15\", \"16\", \"17\", \"18\", \"19\", \"20\", \"21\", \"22\", \"23\", \"24\", \"25\", \"26\", \"27\", \"28\", \"29\", \"30\", \"31\", \"32\", \"33\", \"34\", \"35\", \"36\", \"37\", \"40\"], \"mode\": \"lines\", \"name\": \"precision_score_macro_max\", \"stepped\": true, \"type\": \"scatter\", \"data\": [0.726476160899086, 0.726476160899086, 0.726476160899086, 0.726476160899086, 0.7303716203441103, 0.7303716203441103, 0.7303716203441103, 0.7452835014815719, 0.7452835014815719, 0.745504953709288, 0.745504953709288, 0.745504953709288, 0.7527116941686179, 0.7527116941686179, 0.7527116941686179, 0.7527116941686179, 0.7527116941686179, 0.7527116941686179, 0.7527116941686179, 0.7527116941686179, 0.7527116941686179, 0.7527116941686179, 0.7527116941686179, 0.7569494163346135, 0.7569494163346135, 0.7569494163346135, 0.7569494163346135, 0.7569494163346135, 0.7569494163346135, 0.7569494163346135, 0.7569494163346135, 0.7569494163346135, 0.7569494163346135, 0.7569494163346135, 0.7569494163346135, 0.7569494163346135, 0.7569494163346135, 0.7569494163346135, 0.7739586300490124]}], \"f1_score_macro\": [{\"categories\": [\"0\", \"1\", \"2\", \"3\", \"4\", \"5\", \"6\", \"7\", \"8\", \"9\", \"10\", \"11\", \"12\", \"13\", \"14\", \"15\", \"16\", \"17\", \"18\", \"19\", \"20\", \"21\", \"22\", \"23\", \"24\", \"25\", \"26\", \"27\", \"28\", \"29\", \"30\", \"31\", \"32\", \"33\", \"34\", \"35\", \"36\", \"37\", \"40\"], \"mode\": \"markers\", \"name\": \"f1_score_macro\", \"stepped\": false, \"type\": \"scatter\", \"data\": [0.7197014088315093, 0.7153963252134389, 0.6991093871874661, 0.6853221037667993, 0.7319094936481877, 0.6302687809266757, 0.5933916055791091, 0.7244987500261294, 0.6285583892492111, 0.6540263703291245, 0.692375162706122, 0.6272808118525374, 0.7129178788880998, 0.7158608214538497, 0.6167187486677788, 0.650594786318259, 0.5944718723966945, 0.6610094973453584, 0.7204487357134625, 0.6720776315869177, 0.6733630271170581, 0.7243284988386985, 0.7143497113226394, 0.7294700098809587, 0.7084352449287126, 0.6166697479508154, 0.71205822658809, 0.7217143791779866, 0.4797576563128371, 0.7083361785707742, 0.5711203376452375, 0.69175674880649, 0.6422328878399862, 0.7067356811308746, 0.7100233660705455, 0.3150229270289207, 0.6732437562692265, 0.7224068753506595, 0.7537315793784565]}, {\"categories\": [\"0\", \"1\", \"2\", \"3\", \"4\", \"5\", \"6\", \"7\", \"8\", \"9\", \"10\", \"11\", \"12\", \"13\", \"14\", \"15\", \"16\", \"17\", \"18\", \"19\", \"20\", \"21\", \"22\", \"23\", \"24\", \"25\", \"26\", \"27\", \"28\", \"29\", \"30\", \"31\", \"32\", \"33\", \"34\", \"35\", \"36\", \"37\", \"40\"], \"mode\": \"lines\", \"name\": \"f1_score_macro_max\", \"stepped\": true, \"type\": \"scatter\", \"data\": [0.7197014088315093, 0.7197014088315093, 0.7197014088315093, 0.7197014088315093, 0.7319094936481877, 0.7319094936481877, 0.7319094936481877, 0.7319094936481877, 0.7319094936481877, 0.7319094936481877, 0.7319094936481877, 0.7319094936481877, 0.7319094936481877, 0.7319094936481877, 0.7319094936481877, 0.7319094936481877, 0.7319094936481877, 0.7319094936481877, 0.7319094936481877, 0.7319094936481877, 0.7319094936481877, 0.7319094936481877, 0.7319094936481877, 0.7319094936481877, 0.7319094936481877, 0.7319094936481877, 0.7319094936481877, 0.7319094936481877, 0.7319094936481877, 0.7319094936481877, 0.7319094936481877, 0.7319094936481877, 0.7319094936481877, 0.7319094936481877, 0.7319094936481877, 0.7319094936481877, 0.7319094936481877, 0.7319094936481877, 0.7537315793784565]}], \"f1_score_weighted\": [{\"categories\": [\"0\", \"1\", \"2\", \"3\", \"4\", \"5\", \"6\", \"7\", \"8\", \"9\", \"10\", \"11\", \"12\", \"13\", \"14\", \"15\", \"16\", \"17\", \"18\", \"19\", \"20\", \"21\", \"22\", \"23\", \"24\", \"25\", \"26\", \"27\", \"28\", \"29\", \"30\", \"31\", \"32\", \"33\", \"34\", \"35\", \"36\", \"37\", \"40\"], \"mode\": \"markers\", \"name\": \"f1_score_weighted\", \"stepped\": false, \"type\": \"scatter\", \"data\": [0.7437922628335389, 0.7407599038402416, 0.7283421853960373, 0.7170851221140686, 0.7513235105009142, 0.6752998230507267, 0.6473837731394236, 0.7517420215673841, 0.6647346862553161, 0.6984853657516661, 0.7274636034945287, 0.6614101435928877, 0.7444834346984962, 0.7453045330231903, 0.666782498347982, 0.6972563971871776, 0.6393193974816899, 0.6972304363945913, 0.7446111080429269, 0.705875524880733, 0.7034888125532369, 0.7506840418565739, 0.7416122755916147, 0.7567626771311483, 0.7385240224359504, 0.6599565444947658, 0.7403341466533844, 0.7515181287572833, 0.5625560730271082, 0.7389632521071842, 0.6278036900771924, 0.723166649338774, 0.6585619347562436, 0.7205823969849777, 0.7236876277472035, 0.31427105969953156, 0.711254377157238, 0.7464214477067026, 0.7778305771143822]}, {\"categories\": [\"0\", \"1\", \"2\", \"3\", \"4\", \"5\", \"6\", \"7\", \"8\", \"9\", \"10\", \"11\", \"12\", \"13\", \"14\", \"15\", \"16\", \"17\", \"18\", \"19\", \"20\", \"21\", \"22\", \"23\", \"24\", \"25\", \"26\", \"27\", \"28\", \"29\", \"30\", \"31\", \"32\", \"33\", \"34\", \"35\", \"36\", \"37\", \"40\"], \"mode\": \"lines\", \"name\": \"f1_score_weighted_max\", \"stepped\": true, \"type\": \"scatter\", \"data\": [0.7437922628335389, 0.7437922628335389, 0.7437922628335389, 0.7437922628335389, 0.7513235105009142, 0.7513235105009142, 0.7513235105009142, 0.7517420215673841, 0.7517420215673841, 0.7517420215673841, 0.7517420215673841, 0.7517420215673841, 0.7517420215673841, 0.7517420215673841, 0.7517420215673841, 0.7517420215673841, 0.7517420215673841, 0.7517420215673841, 0.7517420215673841, 0.7517420215673841, 0.7517420215673841, 0.7517420215673841, 0.7517420215673841, 0.7567626771311483, 0.7567626771311483, 0.7567626771311483, 0.7567626771311483, 0.7567626771311483, 0.7567626771311483, 0.7567626771311483, 0.7567626771311483, 0.7567626771311483, 0.7567626771311483, 0.7567626771311483, 0.7567626771311483, 0.7567626771311483, 0.7567626771311483, 0.7567626771311483, 0.7778305771143822]}], \"matthews_correlation\": [{\"categories\": [\"0\", \"1\", \"2\", \"3\", \"4\", \"5\", \"6\", \"7\", \"8\", \"9\", \"10\", \"11\", \"12\", \"13\", \"14\", \"15\", \"16\", \"17\", \"18\", \"19\", \"20\", \"21\", \"22\", \"23\", \"24\", \"25\", \"26\", \"27\", \"28\", \"29\", \"30\", \"31\", \"32\", \"33\", \"34\", \"35\", \"36\", \"37\", \"40\"], \"mode\": \"markers\", \"name\": \"matthews_correlation\", \"stepped\": false, \"type\": \"scatter\", \"data\": [0.443721955771977, 0.43811083875512713, 0.4121404093417651, 0.3858992055198063, 0.466559362548278, 0.316940080556344, 0.26588760642845033, 0.461456286285034, 0.2727043993909193, 0.3854609093355128, 0.4221431193635339, 0.2610481415737899, 0.4537530160470112, 0.4523479258173553, 0.3176654897901675, 0.384641533100722, 0.21914909050860196, 0.3482710686725008, 0.4492363597061393, 0.36395903660490947, 0.35066772775570126, 0.4564401780036495, 0.43748098065137625, 0.477715063519949, 0.43231154569470237, 0.28308809302550214, 0.43950269953638715, 0.4659440142166891, 0.13537824566676565, 0.44476214178294077, 0.21056727674750766, 0.40308986625648896, 0.30523311545079806, 0.43496258946470673, 0.44089134448913025, 0.0, 0.3874320878677137, 0.4521241958696743, 0.5185803071137983]}, {\"categories\": [\"0\", \"1\", \"2\", \"3\", \"4\", \"5\", \"6\", \"7\", \"8\", \"9\", \"10\", \"11\", \"12\", \"13\", \"14\", \"15\", \"16\", \"17\", \"18\", \"19\", \"20\", \"21\", \"22\", \"23\", \"24\", \"25\", \"26\", \"27\", \"28\", \"29\", \"30\", \"31\", \"32\", \"33\", \"34\", \"35\", \"36\", \"37\", \"40\"], \"mode\": \"lines\", \"name\": \"matthews_correlation_max\", \"stepped\": true, \"type\": \"scatter\", \"data\": [0.443721955771977, 0.443721955771977, 0.443721955771977, 0.443721955771977, 0.466559362548278, 0.466559362548278, 0.466559362548278, 0.466559362548278, 0.466559362548278, 0.466559362548278, 0.466559362548278, 0.466559362548278, 0.466559362548278, 0.466559362548278, 0.466559362548278, 0.466559362548278, 0.466559362548278, 0.466559362548278, 0.466559362548278, 0.466559362548278, 0.466559362548278, 0.466559362548278, 0.466559362548278, 0.477715063519949, 0.477715063519949, 0.477715063519949, 0.477715063519949, 0.477715063519949, 0.477715063519949, 0.477715063519949, 0.477715063519949, 0.477715063519949, 0.477715063519949, 0.477715063519949, 0.477715063519949, 0.477715063519949, 0.477715063519949, 0.477715063519949, 0.5185803071137983]}], \"precision_score_micro\": [{\"categories\": [\"0\", \"1\", \"2\", \"3\", \"4\", \"5\", \"6\", \"7\", \"8\", \"9\", \"10\", \"11\", \"12\", \"13\", \"14\", \"15\", \"16\", \"17\", \"18\", \"19\", \"20\", \"21\", \"22\", \"23\", \"24\", \"25\", \"26\", \"27\", \"28\", \"29\", \"30\", \"31\", \"32\", \"33\", \"34\", \"35\", \"36\", \"37\", \"40\"], \"mode\": \"markers\", \"name\": \"precision_score_micro\", \"stepped\": false, \"type\": \"scatter\", \"data\": [0.7459588713534194, 0.7443089430894309, 0.73614697911685, 0.7264068228917583, 0.7492587278813964, 0.7035389765662362, 0.687310696636378, 0.7589510600988363, 0.675864817471704, 0.7296110314044317, 0.744285031085605, 0.6676709708273553, 0.7573091025027897, 0.7556751155746851, 0.7035947712418301, 0.7296508847441415, 0.6596205962059621, 0.7117407938785271, 0.747592858281524, 0.7181970349115255, 0.7084329666826079, 0.7557229395823369, 0.7475530049418141, 0.7654471544715448, 0.7475530049418141, 0.6840427227801689, 0.74757691694564, 0.7622190339550454, 0.6514426908974972, 0.7508130081300813, 0.6661087199107284, 0.7344890801849195, 0.6514666029013231, 0.7150087677347362, 0.7182289175832935, 0.47215845687868646, 0.7312290769966524, 0.7492029332058027, 0.783405069344811]}, {\"categories\": [\"0\", \"1\", \"2\", \"3\", \"4\", \"5\", \"6\", \"7\", \"8\", \"9\", \"10\", \"11\", \"12\", \"13\", \"14\", \"15\", \"16\", \"17\", \"18\", \"19\", \"20\", \"21\", \"22\", \"23\", \"24\", \"25\", \"26\", \"27\", \"28\", \"29\", \"30\", \"31\", \"32\", \"33\", \"34\", \"35\", \"36\", \"37\", \"40\"], \"mode\": \"lines\", \"name\": \"precision_score_micro_max\", \"stepped\": true, \"type\": \"scatter\", \"data\": [0.7459588713534194, 0.7459588713534194, 0.7459588713534194, 0.7459588713534194, 0.7492587278813964, 0.7492587278813964, 0.7492587278813964, 0.7589510600988363, 0.7589510600988363, 0.7589510600988363, 0.7589510600988363, 0.7589510600988363, 0.7589510600988363, 0.7589510600988363, 0.7589510600988363, 0.7589510600988363, 0.7589510600988363, 0.7589510600988363, 0.7589510600988363, 0.7589510600988363, 0.7589510600988363, 0.7589510600988363, 0.7589510600988363, 0.7654471544715448, 0.7654471544715448, 0.7654471544715448, 0.7654471544715448, 0.7654471544715448, 0.7654471544715448, 0.7654471544715448, 0.7654471544715448, 0.7654471544715448, 0.7654471544715448, 0.7654471544715448, 0.7654471544715448, 0.7654471544715448, 0.7654471544715448, 0.7654471544715448, 0.783405069344811]}], \"log_loss\": [{\"categories\": [\"0\", \"1\", \"2\", \"3\", \"4\", \"5\", \"6\", \"7\", \"8\", \"9\", \"10\", \"11\", \"12\", \"13\", \"14\", \"15\", \"16\", \"17\", \"18\", \"19\", \"20\", \"21\", \"22\", \"23\", \"24\", \"25\", \"26\", \"27\", \"28\", \"29\", \"30\", \"31\", \"32\", \"33\", \"34\", \"35\", \"36\", \"37\", \"40\"], \"mode\": \"markers\", \"name\": \"log_loss\", \"stepped\": false, \"type\": \"scatter\", \"data\": [0.6201588010501355, 0.5256130569555227, 0.5627587402480639, 0.5186506297611684, 0.5592763445763339, 0.5704653879556923, 0.5898534048933591, 0.48653872415328214, 0.6276849814341028, 0.53935155107084, 0.5128753220256419, 0.6118807442555819, 0.5176821811435328, 0.5211773476496199, 0.5513768447749818, 0.5480841801734698, 0.6194825180713467, 0.5214215785984809, 0.5045500642031155, 0.5324475217022471, 0.5519130736014058, 0.5055088229760499, 0.5237431619422591, 0.5053074351469706, 0.5038256166029664, 0.5755006029943064, 0.4899001871377677, 0.5192984274779334, 0.6155525946651145, 0.5153102197666063, 0.6426604734724065, 0.5122016808218451, 0.6442186638903807, 0.545975130974332, 0.570481751626883, 0.7003409215768981, 0.5293572645495265, 0.532932748629544, 0.5010958111261435]}, {\"categories\": [\"0\", \"1\", \"2\", \"3\", \"4\", \"5\", \"6\", \"7\", \"8\", \"9\", \"10\", \"11\", \"12\", \"13\", \"14\", \"15\", \"16\", \"17\", \"18\", \"19\", \"20\", \"21\", \"22\", \"23\", \"24\", \"25\", \"26\", \"27\", \"28\", \"29\", \"30\", \"31\", \"32\", \"33\", \"34\", \"35\", \"36\", \"37\", \"40\"], \"mode\": \"lines\", \"name\": \"log_loss_min\", \"stepped\": true, \"type\": \"scatter\", \"data\": [0.6201588010501355, 0.5256130569555227, 0.5256130569555227, 0.5186506297611684, 0.5186506297611684, 0.5186506297611684, 0.5186506297611684, 0.48653872415328214, 0.48653872415328214, 0.48653872415328214, 0.48653872415328214, 0.48653872415328214, 0.48653872415328214, 0.48653872415328214, 0.48653872415328214, 0.48653872415328214, 0.48653872415328214, 0.48653872415328214, 0.48653872415328214, 0.48653872415328214, 0.48653872415328214, 0.48653872415328214, 0.48653872415328214, 0.48653872415328214, 0.48653872415328214, 0.48653872415328214, 0.48653872415328214, 0.48653872415328214, 0.48653872415328214, 0.48653872415328214, 0.48653872415328214, 0.48653872415328214, 0.48653872415328214, 0.48653872415328214, 0.48653872415328214, 0.48653872415328214, 0.48653872415328214, 0.48653872415328214, 0.48653872415328214]}], \"AUC_micro\": [{\"categories\": [\"0\", \"1\", \"2\", \"3\", \"4\", \"5\", \"6\", \"7\", \"8\", \"9\", \"10\", \"11\", \"12\", \"13\", \"14\", \"15\", \"16\", \"17\", \"18\", \"19\", \"20\", \"21\", \"22\", \"23\", \"24\", \"25\", \"26\", \"27\", \"28\", \"29\", \"30\", \"31\", \"32\", \"33\", \"34\", \"35\", \"36\", \"37\", \"40\"], \"mode\": \"markers\", \"name\": \"AUC_micro\", \"stepped\": false, \"type\": \"scatter\", \"data\": [0.8188072049806498, 0.8286293876125527, 0.8231402992701825, 0.8189420455440383, 0.826571994877121, 0.7796785919637826, 0.7581646344894118, 0.8448302857631216, 0.7234172220403948, 0.8235269300318683, 0.8329103893368243, 0.7273204798593685, 0.8341016969555861, 0.8292195946082451, 0.8034560608448239, 0.8142238799381832, 0.730229827405878, 0.8184891736144131, 0.8336064567899456, 0.8083761852985508, 0.7937394081792394, 0.8326160751866892, 0.8175112448933025, 0.8357505146245937, 0.8361822414128155, 0.7636107026667925, 0.8432323717299962, 0.8320936297323982, 0.7248680959282656, 0.8348621934027877, 0.702577670938045, 0.8298740743104114, 0.6884679192622798, 0.8059158106870684, 0.8087546304015379, 0.47215845687868646, 0.8220130308794578, 0.8215648942737211, 0.8435686250876069]}, {\"categories\": [\"0\", \"1\", \"2\", \"3\", \"4\", \"5\", \"6\", \"7\", \"8\", \"9\", \"10\", \"11\", \"12\", \"13\", \"14\", \"15\", \"16\", \"17\", \"18\", \"19\", \"20\", \"21\", \"22\", \"23\", \"24\", \"25\", \"26\", \"27\", \"28\", \"29\", \"30\", \"31\", \"32\", \"33\", \"34\", \"35\", \"36\", \"37\", \"40\"], \"mode\": \"lines\", \"name\": \"AUC_micro_max\", \"stepped\": true, \"type\": \"scatter\", \"data\": [0.8188072049806498, 0.8286293876125527, 0.8286293876125527, 0.8286293876125527, 0.8286293876125527, 0.8286293876125527, 0.8286293876125527, 0.8448302857631216, 0.8448302857631216, 0.8448302857631216, 0.8448302857631216, 0.8448302857631216, 0.8448302857631216, 0.8448302857631216, 0.8448302857631216, 0.8448302857631216, 0.8448302857631216, 0.8448302857631216, 0.8448302857631216, 0.8448302857631216, 0.8448302857631216, 0.8448302857631216, 0.8448302857631216, 0.8448302857631216, 0.8448302857631216, 0.8448302857631216, 0.8448302857631216, 0.8448302857631216, 0.8448302857631216, 0.8448302857631216, 0.8448302857631216, 0.8448302857631216, 0.8448302857631216, 0.8448302857631216, 0.8448302857631216, 0.8448302857631216, 0.8448302857631216, 0.8448302857631216, 0.8448302857631216]}], \"average_precision_score_weighted\": [{\"categories\": [\"0\", \"1\", \"2\", \"3\", \"4\", \"5\", \"6\", \"7\", \"8\", \"9\", \"10\", \"11\", \"12\", \"13\", \"14\", \"15\", \"16\", \"17\", \"18\", \"19\", \"20\", \"21\", \"22\", \"23\", \"24\", \"25\", \"26\", \"27\", \"28\", \"29\", \"30\", \"31\", \"32\", \"33\", \"34\", \"35\", \"36\", \"37\", \"40\"], \"mode\": \"markers\", \"name\": \"average_precision_score_weighted\", \"stepped\": false, \"type\": \"scatter\", \"data\": [0.8002373361791034, 0.8147330219387596, 0.8152186908172555, 0.8053400412192738, 0.8231479336699502, 0.7558323850445801, 0.7341422735565034, 0.8366787540787491, 0.6905403612317403, 0.8272712171366576, 0.8270587619204711, 0.704954380658303, 0.8302707813944439, 0.819865237915427, 0.8103205700346788, 0.8222168851353787, 0.6991691243006001, 0.8066203970080847, 0.8240009976693671, 0.8001883076527344, 0.771330561914079, 0.8189400433094759, 0.8056094325199985, 0.818829256111501, 0.8246390729385227, 0.7154250251443788, 0.833137537411322, 0.824123145856181, 0.6924592216498983, 0.827020027833998, 0.6616022838730156, 0.8198831628621425, 0.7022892027970014, 0.8197880072752727, 0.8163504950990194, 0.5400339872178085, 0.8205820573395529, 0.8080579288294993, 0.8328143521230417]}, {\"categories\": [\"0\", \"1\", \"2\", \"3\", \"4\", \"5\", \"6\", \"7\", \"8\", \"9\", \"10\", \"11\", \"12\", \"13\", \"14\", \"15\", \"16\", \"17\", \"18\", \"19\", \"20\", \"21\", \"22\", \"23\", \"24\", \"25\", \"26\", \"27\", \"28\", \"29\", \"30\", \"31\", \"32\", \"33\", \"34\", \"35\", \"36\", \"37\", \"40\"], \"mode\": \"lines\", \"name\": \"average_precision_score_weighted_max\", \"stepped\": true, \"type\": \"scatter\", \"data\": [0.8002373361791034, 0.8147330219387596, 0.8152186908172555, 0.8152186908172555, 0.8231479336699502, 0.8231479336699502, 0.8231479336699502, 0.8366787540787491, 0.8366787540787491, 0.8366787540787491, 0.8366787540787491, 0.8366787540787491, 0.8366787540787491, 0.8366787540787491, 0.8366787540787491, 0.8366787540787491, 0.8366787540787491, 0.8366787540787491, 0.8366787540787491, 0.8366787540787491, 0.8366787540787491, 0.8366787540787491, 0.8366787540787491, 0.8366787540787491, 0.8366787540787491, 0.8366787540787491, 0.8366787540787491, 0.8366787540787491, 0.8366787540787491, 0.8366787540787491, 0.8366787540787491, 0.8366787540787491, 0.8366787540787491, 0.8366787540787491, 0.8366787540787491, 0.8366787540787491, 0.8366787540787491, 0.8366787540787491, 0.8366787540787491]}], \"f1_score_micro\": [{\"categories\": [\"0\", \"1\", \"2\", \"3\", \"4\", \"5\", \"6\", \"7\", \"8\", \"9\", \"10\", \"11\", \"12\", \"13\", \"14\", \"15\", \"16\", \"17\", \"18\", \"19\", \"20\", \"21\", \"22\", \"23\", \"24\", \"25\", \"26\", \"27\", \"28\", \"29\", \"30\", \"31\", \"32\", \"33\", \"34\", \"35\", \"36\", \"37\", \"40\"], \"mode\": \"markers\", \"name\": \"f1_score_micro\", \"stepped\": false, \"type\": \"scatter\", \"data\": [0.7459588713534194, 0.7443089430894309, 0.73614697911685, 0.7264068228917583, 0.7492587278813964, 0.7035389765662362, 0.6873106966363781, 0.7589510600988363, 0.675864817471704, 0.7296110314044317, 0.744285031085605, 0.6676709708273553, 0.7573091025027897, 0.7556751155746851, 0.7035947712418301, 0.7296508847441415, 0.6596205962059621, 0.7117407938785271, 0.747592858281524, 0.7181970349115255, 0.7084329666826079, 0.7557229395823369, 0.7475530049418141, 0.7654471544715448, 0.7475530049418141, 0.6840427227801689, 0.74757691694564, 0.7622190339550454, 0.6514426908974972, 0.7508130081300814, 0.6661087199107284, 0.7344890801849195, 0.6514666029013231, 0.7150087677347362, 0.7182289175832935, 0.47215845687868646, 0.7312290769966524, 0.7492029332058027, 0.783405069344811]}, {\"categories\": [\"0\", \"1\", \"2\", \"3\", \"4\", \"5\", \"6\", \"7\", \"8\", \"9\", \"10\", \"11\", \"12\", \"13\", \"14\", \"15\", \"16\", \"17\", \"18\", \"19\", \"20\", \"21\", \"22\", \"23\", \"24\", \"25\", \"26\", \"27\", \"28\", \"29\", \"30\", \"31\", \"32\", \"33\", \"34\", \"35\", \"36\", \"37\", \"40\"], \"mode\": \"lines\", \"name\": \"f1_score_micro_max\", \"stepped\": true, \"type\": \"scatter\", \"data\": [0.7459588713534194, 0.7459588713534194, 0.7459588713534194, 0.7459588713534194, 0.7492587278813964, 0.7492587278813964, 0.7492587278813964, 0.7589510600988363, 0.7589510600988363, 0.7589510600988363, 0.7589510600988363, 0.7589510600988363, 0.7589510600988363, 0.7589510600988363, 0.7589510600988363, 0.7589510600988363, 0.7589510600988363, 0.7589510600988363, 0.7589510600988363, 0.7589510600988363, 0.7589510600988363, 0.7589510600988363, 0.7589510600988363, 0.7654471544715448, 0.7654471544715448, 0.7654471544715448, 0.7654471544715448, 0.7654471544715448, 0.7654471544715448, 0.7654471544715448, 0.7654471544715448, 0.7654471544715448, 0.7654471544715448, 0.7654471544715448, 0.7654471544715448, 0.7654471544715448, 0.7654471544715448, 0.7654471544715448, 0.783405069344811]}], \"average_precision_score_macro\": [{\"categories\": [\"0\", \"1\", \"2\", \"3\", \"4\", \"5\", \"6\", \"7\", \"8\", \"9\", \"10\", \"11\", \"12\", \"13\", \"14\", \"15\", \"16\", \"17\", \"18\", \"19\", \"20\", \"21\", \"22\", \"23\", \"24\", \"25\", \"26\", \"27\", \"28\", \"29\", \"30\", \"31\", \"32\", \"33\", \"34\", \"35\", \"36\", \"37\", \"40\"], \"mode\": \"markers\", \"name\": \"average_precision_score_macro\", \"stepped\": false, \"type\": \"scatter\", \"data\": [0.7692937589625579, 0.785048807722532, 0.7907461069113756, 0.7754441174084277, 0.797214346837317, 0.7257062663427005, 0.7019681870134903, 0.8110366915817551, 0.6559285320097833, 0.8019961333513553, 0.8022671154827871, 0.6728372812764424, 0.8047456094335494, 0.7928534352509901, 0.7811981727529332, 0.7957127642634881, 0.6640294014063076, 0.7760184119158376, 0.7974303719877781, 0.7692102626612204, 0.7440400860384114, 0.7922250093563781, 0.7784371919560255, 0.7947893694062556, 0.79971276171084, 0.6816242715377138, 0.8085163480634737, 0.7977562141020081, 0.6550308640535119, 0.8038641230320346, 0.6317411834191832, 0.7924667410891768, 0.6643221241721943, 0.7930941585714999, 0.787700915089219, 0.5, 0.7938563318826896, 0.7801441386632275, 0.8093942161602717]}, {\"categories\": [\"0\", \"1\", \"2\", \"3\", \"4\", \"5\", \"6\", \"7\", \"8\", \"9\", \"10\", \"11\", \"12\", \"13\", \"14\", \"15\", \"16\", \"17\", \"18\", \"19\", \"20\", \"21\", \"22\", \"23\", \"24\", \"25\", \"26\", \"27\", \"28\", \"29\", \"30\", \"31\", \"32\", \"33\", \"34\", \"35\", \"36\", \"37\", \"40\"], \"mode\": \"lines\", \"name\": \"average_precision_score_macro_max\", \"stepped\": true, \"type\": \"scatter\", \"data\": [0.7692937589625579, 0.785048807722532, 0.7907461069113756, 0.7907461069113756, 0.797214346837317, 0.797214346837317, 0.797214346837317, 0.8110366915817551, 0.8110366915817551, 0.8110366915817551, 0.8110366915817551, 0.8110366915817551, 0.8110366915817551, 0.8110366915817551, 0.8110366915817551, 0.8110366915817551, 0.8110366915817551, 0.8110366915817551, 0.8110366915817551, 0.8110366915817551, 0.8110366915817551, 0.8110366915817551, 0.8110366915817551, 0.8110366915817551, 0.8110366915817551, 0.8110366915817551, 0.8110366915817551, 0.8110366915817551, 0.8110366915817551, 0.8110366915817551, 0.8110366915817551, 0.8110366915817551, 0.8110366915817551, 0.8110366915817551, 0.8110366915817551, 0.8110366915817551, 0.8110366915817551, 0.8110366915817551, 0.8110366915817551]}], \"AUC_weighted\": [{\"categories\": [\"0\", \"1\", \"2\", \"3\", \"4\", \"5\", \"6\", \"7\", \"8\", \"9\", \"10\", \"11\", \"12\", \"13\", \"14\", \"15\", \"16\", \"17\", \"18\", \"19\", \"20\", \"21\", \"22\", \"23\", \"24\", \"25\", \"26\", \"27\", \"28\", \"29\", \"30\", \"31\", \"32\", \"33\", \"34\", \"35\", \"36\", \"37\", \"40\"], \"mode\": \"markers\", \"name\": \"AUC_weighted\", \"stepped\": false, \"type\": \"scatter\", \"data\": [0.801557560850414, 0.8153530249017112, 0.8038048783374889, 0.8030238075716274, 0.8174460696864899, 0.7545786860840872, 0.7261408956946521, 0.8308599300487755, 0.6789882745361057, 0.8214298881043979, 0.8225045557319182, 0.6878595551922787, 0.8246060822693386, 0.8158500292303783, 0.8027656706550079, 0.8174740433162513, 0.6857956310793782, 0.8041165752384902, 0.8184789632552874, 0.7911336528606238, 0.7653066574669177, 0.8142364219573035, 0.7952497453705006, 0.8163865137178995, 0.817159272032673, 0.7277196431441815, 0.8282700850624604, 0.8169760958165768, 0.6796538800435008, 0.8191943804357891, 0.6544770767450127, 0.817520179912785, 0.6886473932297849, 0.8124933518494147, 0.8101645222315704, 0.5, 0.8141934655001837, 0.8040482837348985, 0.8267335322500067]}, {\"categories\": [\"0\", \"1\", \"2\", \"3\", \"4\", \"5\", \"6\", \"7\", \"8\", \"9\", \"10\", \"11\", \"12\", \"13\", \"14\", \"15\", \"16\", \"17\", \"18\", \"19\", \"20\", \"21\", \"22\", \"23\", \"24\", \"25\", \"26\", \"27\", \"28\", \"29\", \"30\", \"31\", \"32\", \"33\", \"34\", \"35\", \"36\", \"37\", \"40\"], \"mode\": \"lines\", \"name\": \"AUC_weighted_max\", \"stepped\": true, \"type\": \"scatter\", \"data\": [0.801557560850414, 0.8153530249017112, 0.8153530249017112, 0.8153530249017112, 0.8174460696864899, 0.8174460696864899, 0.8174460696864899, 0.8308599300487755, 0.8308599300487755, 0.8308599300487755, 0.8308599300487755, 0.8308599300487755, 0.8308599300487755, 0.8308599300487755, 0.8308599300487755, 0.8308599300487755, 0.8308599300487755, 0.8308599300487755, 0.8308599300487755, 0.8308599300487755, 0.8308599300487755, 0.8308599300487755, 0.8308599300487755, 0.8308599300487755, 0.8308599300487755, 0.8308599300487755, 0.8308599300487755, 0.8308599300487755, 0.8308599300487755, 0.8308599300487755, 0.8308599300487755, 0.8308599300487755, 0.8308599300487755, 0.8308599300487755, 0.8308599300487755, 0.8308599300487755, 0.8308599300487755, 0.8308599300487755, 0.8308599300487755]}], \"balanced_accuracy\": [{\"categories\": [\"0\", \"1\", \"2\", \"3\", \"4\", \"5\", \"6\", \"7\", \"8\", \"9\", \"10\", \"11\", \"12\", \"13\", \"14\", \"15\", \"16\", \"17\", \"18\", \"19\", \"20\", \"21\", \"22\", \"23\", \"24\", \"25\", \"26\", \"27\", \"28\", \"29\", \"30\", \"31\", \"32\", \"33\", \"34\", \"35\", \"36\", \"37\", \"40\"], \"mode\": \"markers\", \"name\": \"balanced_accuracy\", \"stepped\": false, \"type\": \"scatter\", \"data\": [0.7175460053570063, 0.712601758701069, 0.6946482520820186, 0.679758410161793, 0.7363073357776327, 0.6324289441542627, 0.6023527538956127, 0.717337823411372, 0.6291581030536534, 0.65251978393138, 0.6847298054678815, 0.6261592459019162, 0.7043787507721335, 0.7085545439329218, 0.6227746934249506, 0.6478151824121874, 0.5967221268009409, 0.6572721660820146, 0.7182863815637354, 0.6684713794688489, 0.6695474721288027, 0.7183427731145317, 0.7087641531330728, 0.7229387400520397, 0.7011628043614344, 0.6239610733785947, 0.7062636474814415, 0.712287383704449, 0.5340504663609241, 0.7020839601438248, 0.580410211035958, 0.6870440087165154, 0.6585383602581273, 0.7262252198901996, 0.7296560612678449, 0.5, 0.6678267246015902, 0.7205895607358651, 0.7456212974510313]}, {\"categories\": [\"0\", \"1\", \"2\", \"3\", \"4\", \"5\", \"6\", \"7\", \"8\", \"9\", \"10\", \"11\", \"12\", \"13\", \"14\", \"15\", \"16\", \"17\", \"18\", \"19\", \"20\", \"21\", \"22\", \"23\", \"24\", \"25\", \"26\", \"27\", \"28\", \"29\", \"30\", \"31\", \"32\", \"33\", \"34\", \"35\", \"36\", \"37\", \"40\"], \"mode\": \"lines\", \"name\": \"balanced_accuracy_max\", \"stepped\": true, \"type\": \"scatter\", \"data\": [0.7175460053570063, 0.7175460053570063, 0.7175460053570063, 0.7175460053570063, 0.7363073357776327, 0.7363073357776327, 0.7363073357776327, 0.7363073357776327, 0.7363073357776327, 0.7363073357776327, 0.7363073357776327, 0.7363073357776327, 0.7363073357776327, 0.7363073357776327, 0.7363073357776327, 0.7363073357776327, 0.7363073357776327, 0.7363073357776327, 0.7363073357776327, 0.7363073357776327, 0.7363073357776327, 0.7363073357776327, 0.7363073357776327, 0.7363073357776327, 0.7363073357776327, 0.7363073357776327, 0.7363073357776327, 0.7363073357776327, 0.7363073357776327, 0.7363073357776327, 0.7363073357776327, 0.7363073357776327, 0.7363073357776327, 0.7363073357776327, 0.7363073357776327, 0.7363073357776327, 0.7363073357776327, 0.7363073357776327, 0.7456212974510313]}], \"AUC_macro\": [{\"categories\": [\"0\", \"1\", \"2\", \"3\", \"4\", \"5\", \"6\", \"7\", \"8\", \"9\", \"10\", \"11\", \"12\", \"13\", \"14\", \"15\", \"16\", \"17\", \"18\", \"19\", \"20\", \"21\", \"22\", \"23\", \"24\", \"25\", \"26\", \"27\", \"28\", \"29\", \"30\", \"31\", \"32\", \"33\", \"34\", \"35\", \"36\", \"37\", \"40\"], \"mode\": \"markers\", \"name\": \"AUC_macro\", \"stepped\": false, \"type\": \"scatter\", \"data\": [0.801557560850414, 0.8153530249017112, 0.803804878337489, 0.8030238075716275, 0.8174460696864899, 0.7545786860840872, 0.7261408956946521, 0.8308599300487755, 0.6789882745361057, 0.8214298881043978, 0.8225045557319182, 0.6878595551922787, 0.8246060822693386, 0.8158500292303783, 0.8027656706550079, 0.8174740433162512, 0.6857956310793782, 0.8041165752384902, 0.8184789632552874, 0.791133652860624, 0.7653066574669177, 0.8142364219573035, 0.7952497453705005, 0.8163865137178995, 0.817159272032673, 0.7277196431441815, 0.8282700850624604, 0.8169760958165768, 0.6796538800435008, 0.819194380435789, 0.6544770767450125, 0.817520179912785, 0.6886473932297849, 0.8124933518494147, 0.8101645222315704, 0.5, 0.8141934655001837, 0.8040482837348985, 0.8267335322500067]}, {\"categories\": [\"0\", \"1\", \"2\", \"3\", \"4\", \"5\", \"6\", \"7\", \"8\", \"9\", \"10\", \"11\", \"12\", \"13\", \"14\", \"15\", \"16\", \"17\", \"18\", \"19\", \"20\", \"21\", \"22\", \"23\", \"24\", \"25\", \"26\", \"27\", \"28\", \"29\", \"30\", \"31\", \"32\", \"33\", \"34\", \"35\", \"36\", \"37\", \"40\"], \"mode\": \"lines\", \"name\": \"AUC_macro_max\", \"stepped\": true, \"type\": \"scatter\", \"data\": [0.801557560850414, 0.8153530249017112, 0.8153530249017112, 0.8153530249017112, 0.8174460696864899, 0.8174460696864899, 0.8174460696864899, 0.8308599300487755, 0.8308599300487755, 0.8308599300487755, 0.8308599300487755, 0.8308599300487755, 0.8308599300487755, 0.8308599300487755, 0.8308599300487755, 0.8308599300487755, 0.8308599300487755, 0.8308599300487755, 0.8308599300487755, 0.8308599300487755, 0.8308599300487755, 0.8308599300487755, 0.8308599300487755, 0.8308599300487755, 0.8308599300487755, 0.8308599300487755, 0.8308599300487755, 0.8308599300487755, 0.8308599300487755, 0.8308599300487755, 0.8308599300487755, 0.8308599300487755, 0.8308599300487755, 0.8308599300487755, 0.8308599300487755, 0.8308599300487755, 0.8308599300487755, 0.8308599300487755, 0.8308599300487755]}], \"recall_score_weighted\": [{\"categories\": [\"0\", \"1\", \"2\", \"3\", \"4\", \"5\", \"6\", \"7\", \"8\", \"9\", \"10\", \"11\", \"12\", \"13\", \"14\", \"15\", \"16\", \"17\", \"18\", \"19\", \"20\", \"21\", \"22\", \"23\", \"24\", \"25\", \"26\", \"27\", \"28\", \"29\", \"30\", \"31\", \"32\", \"33\", \"34\", \"35\", \"36\", \"37\", \"40\"], \"mode\": \"markers\", \"name\": \"recall_score_weighted\", \"stepped\": false, \"type\": \"scatter\", \"data\": [0.7459588713534194, 0.7443089430894309, 0.73614697911685, 0.7264068228917583, 0.7492587278813964, 0.7035389765662362, 0.687310696636378, 0.7589510600988363, 0.675864817471704, 0.7296110314044317, 0.744285031085605, 0.6676709708273553, 0.7573091025027897, 0.7556751155746851, 0.7035947712418301, 0.7296508847441415, 0.6596205962059621, 0.7117407938785271, 0.747592858281524, 0.7181970349115255, 0.7084329666826079, 0.7557229395823369, 0.7475530049418141, 0.7654471544715448, 0.7475530049418141, 0.6840427227801689, 0.74757691694564, 0.7622190339550454, 0.6514426908974972, 0.7508130081300813, 0.6661087199107284, 0.7344890801849195, 0.6514666029013231, 0.7150087677347362, 0.7182289175832935, 0.47215845687868646, 0.7312290769966524, 0.7492029332058027, 0.783405069344811]}, {\"categories\": [\"0\", \"1\", \"2\", \"3\", \"4\", \"5\", \"6\", \"7\", \"8\", \"9\", \"10\", \"11\", \"12\", \"13\", \"14\", \"15\", \"16\", \"17\", \"18\", \"19\", \"20\", \"21\", \"22\", \"23\", \"24\", \"25\", \"26\", \"27\", \"28\", \"29\", \"30\", \"31\", \"32\", \"33\", \"34\", \"35\", \"36\", \"37\", \"40\"], \"mode\": \"lines\", \"name\": \"recall_score_weighted_max\", \"stepped\": true, \"type\": \"scatter\", \"data\": [0.7459588713534194, 0.7459588713534194, 0.7459588713534194, 0.7459588713534194, 0.7492587278813964, 0.7492587278813964, 0.7492587278813964, 0.7589510600988363, 0.7589510600988363, 0.7589510600988363, 0.7589510600988363, 0.7589510600988363, 0.7589510600988363, 0.7589510600988363, 0.7589510600988363, 0.7589510600988363, 0.7589510600988363, 0.7589510600988363, 0.7589510600988363, 0.7589510600988363, 0.7589510600988363, 0.7589510600988363, 0.7589510600988363, 0.7654471544715448, 0.7654471544715448, 0.7654471544715448, 0.7654471544715448, 0.7654471544715448, 0.7654471544715448, 0.7654471544715448, 0.7654471544715448, 0.7654471544715448, 0.7654471544715448, 0.7654471544715448, 0.7654471544715448, 0.7654471544715448, 0.7654471544715448, 0.7654471544715448, 0.783405069344811]}]}, \"metricName\": null, \"primaryMetricName\": \"accuracy\", \"showLegend\": false}, \"run_metrics\": [{\"name\": \"experiment_status\", \"run_id\": \"AutoML_ea437d3c-8ed3-4c01-bf40-48b32154600f\", \"categories\": [0, 1, 2, 3, 4, 5, 6, 7, 8, 9, 10, 11, 12, 13], \"series\": [{\"data\": [\"DatasetEvaluation\", \"FeaturesGeneration\", \"DatasetFeaturization\", \"DatasetFeaturizationCompleted\", \"DatasetCrossValidationSplit\", \"ModelSelection\", \"BestRunExplainModel\", \"ModelExplanationDataSetSetup\", \"PickSurrogateModel\", \"EngineeredFeatureExplanations\", \"EngineeredFeatureExplanations\", \"RawFeaturesExplanations\", \"RawFeaturesExplanations\", \"BestRunExplainModel\"]}]}, {\"name\": \"experiment_status_description\", \"run_id\": \"AutoML_ea437d3c-8ed3-4c01-bf40-48b32154600f\", \"categories\": [0, 1, 2, 3, 4, 5, 6, 7, 8, 9, 10, 11, 12, 13], \"series\": [{\"data\": [\"Gathering dataset statistics.\", \"Generating features for the dataset.\", \"Beginning to fit featurizers and featurize the dataset.\", \"Completed fit featurizers and featurizing the dataset.\", \"Generating individually featurized CV splits.\", \"Beginning model selection.\", \"Best run model explanations started\", \"Model explanations data setup completed\", \"Choosing LightGBM as the surrogate model for explanations\", \"Computation of engineered features started\", \"Computation of engineered features completed\", \"Computation of raw features started\", \"Computation of raw features completed\", \"Best run model explanations completed\"]}]}, {\"name\": \"precision_score_micro\", \"run_id\": \"AutoML_ea437d3c-8ed3-4c01-bf40-48b32154600f\", \"categories\": [0], \"series\": [{\"data\": [0.783405069344811]}]}, {\"name\": \"AUC_micro\", \"run_id\": \"AutoML_ea437d3c-8ed3-4c01-bf40-48b32154600f\", \"categories\": [0], \"series\": [{\"data\": [0.8435686250876069]}]}, {\"name\": \"AUC_weighted\", \"run_id\": \"AutoML_ea437d3c-8ed3-4c01-bf40-48b32154600f\", \"categories\": [0], \"series\": [{\"data\": [0.8267335322500067]}]}, {\"name\": \"accuracy\", \"run_id\": \"AutoML_ea437d3c-8ed3-4c01-bf40-48b32154600f\", \"categories\": [0], \"series\": [{\"data\": [0.783405069344811]}]}, {\"name\": \"AUC_macro\", \"run_id\": \"AutoML_ea437d3c-8ed3-4c01-bf40-48b32154600f\", \"categories\": [0], \"series\": [{\"data\": [0.8267335322500067]}]}, {\"name\": \"recall_score_micro\", \"run_id\": \"AutoML_ea437d3c-8ed3-4c01-bf40-48b32154600f\", \"categories\": [0], \"series\": [{\"data\": [0.783405069344811]}]}, {\"name\": \"precision_score_weighted\", \"run_id\": \"AutoML_ea437d3c-8ed3-4c01-bf40-48b32154600f\", \"categories\": [0], \"series\": [{\"data\": [0.7826921922421269]}]}, {\"name\": \"average_precision_score_weighted\", \"run_id\": \"AutoML_ea437d3c-8ed3-4c01-bf40-48b32154600f\", \"categories\": [0], \"series\": [{\"data\": [0.8328143521230417]}]}, {\"name\": \"balanced_accuracy\", \"run_id\": \"AutoML_ea437d3c-8ed3-4c01-bf40-48b32154600f\", \"categories\": [0], \"series\": [{\"data\": [0.7456212974510313]}]}, {\"name\": \"precision_score_macro\", \"run_id\": \"AutoML_ea437d3c-8ed3-4c01-bf40-48b32154600f\", \"categories\": [0], \"series\": [{\"data\": [0.7739586300490124]}]}, {\"name\": \"norm_macro_recall\", \"run_id\": \"AutoML_ea437d3c-8ed3-4c01-bf40-48b32154600f\", \"categories\": [0], \"series\": [{\"data\": [0.49124259490206273]}]}, {\"name\": \"average_precision_score_macro\", \"run_id\": \"AutoML_ea437d3c-8ed3-4c01-bf40-48b32154600f\", \"categories\": [0], \"series\": [{\"data\": [0.8093942161602717]}]}, {\"name\": \"recall_score_macro\", \"run_id\": \"AutoML_ea437d3c-8ed3-4c01-bf40-48b32154600f\", \"categories\": [0], \"series\": [{\"data\": [0.7456212974510313]}]}, {\"name\": \"matthews_correlation\", \"run_id\": \"AutoML_ea437d3c-8ed3-4c01-bf40-48b32154600f\", \"categories\": [0], \"series\": [{\"data\": [0.5185803071137983]}]}, {\"name\": \"average_precision_score_micro\", \"run_id\": \"AutoML_ea437d3c-8ed3-4c01-bf40-48b32154600f\", \"categories\": [0], \"series\": [{\"data\": [0.842623170723213]}]}, {\"name\": \"f1_score_micro\", \"run_id\": \"AutoML_ea437d3c-8ed3-4c01-bf40-48b32154600f\", \"categories\": [0], \"series\": [{\"data\": [0.783405069344811]}]}, {\"name\": \"recall_score_weighted\", \"run_id\": \"AutoML_ea437d3c-8ed3-4c01-bf40-48b32154600f\", \"categories\": [0], \"series\": [{\"data\": [0.783405069344811]}]}, {\"name\": \"f1_score_macro\", \"run_id\": \"AutoML_ea437d3c-8ed3-4c01-bf40-48b32154600f\", \"categories\": [0], \"series\": [{\"data\": [0.7537315793784565]}]}, {\"name\": \"weighted_accuracy\", \"run_id\": \"AutoML_ea437d3c-8ed3-4c01-bf40-48b32154600f\", \"categories\": [0], \"series\": [{\"data\": [0.8156784164187357]}]}, {\"name\": \"f1_score_weighted\", \"run_id\": \"AutoML_ea437d3c-8ed3-4c01-bf40-48b32154600f\", \"categories\": [0], \"series\": [{\"data\": [0.7778305771143822]}]}, {\"name\": \"log_loss\", \"run_id\": \"AutoML_ea437d3c-8ed3-4c01-bf40-48b32154600f\", \"categories\": [0], \"series\": [{\"data\": [0.5010958111261435]}]}], \"run_logs\": \"\\nRun is completed.\", \"graph\": {}, \"widget_settings\": {\"childWidgetDisplay\": \"popup\", \"send_telemetry\": false, \"log_level\": \"INFO\", \"sdk_version\": \"1.19.0\"}, \"loading\": false}"
     },
     "metadata": {},
     "output_type": "display_data"
    },
    {
     "name": "stdout",
     "output_type": "stream",
     "text": [
      "\n",
      "Current status: FeaturesGeneration. Generating features for the dataset.\n",
      "Current status: DatasetCrossValidationSplit. Generating individually featurized CV splits.\n",
      "Current status: ModelSelection. Beginning model selection.\n",
      "\n",
      "****************************************************************************************************\n",
      "DATA GUARDRAILS: \n",
      "\n",
      "TYPE:         Class balancing detection\n",
      "STATUS:       PASSED\n",
      "DESCRIPTION:  Your inputs were analyzed, and all classes are balanced in your training data.\n",
      "              Learn more about imbalanced data: https://aka.ms/AutomatedMLImbalancedData\n",
      "\n",
      "****************************************************************************************************\n",
      "\n",
      "TYPE:         High cardinality feature detection\n",
      "STATUS:       PASSED\n",
      "DESCRIPTION:  Your inputs were analyzed, and no high cardinality features were detected.\n",
      "              Learn more about high cardinality feature handling: https://aka.ms/AutomatedMLFeaturization\n",
      "\n",
      "****************************************************************************************************\n",
      "\n",
      "****************************************************************************************************\n",
      "ITERATION: The iteration being evaluated.\n",
      "PIPELINE: A summary description of the pipeline being evaluated.\n",
      "DURATION: Time taken for the current iteration.\n",
      "METRIC: The result of computing score on the fitted pipeline.\n",
      "BEST: The best observed score thus far.\n",
      "****************************************************************************************************\n",
      "\n",
      " ITERATION   PIPELINE                                       DURATION      METRIC      BEST\n",
      "         2   MinMaxScaler RandomForest                      0:00:56       0.7361    0.7361\n",
      "         3   MinMaxScaler RandomForest                      0:01:01       0.7264    0.7361\n",
      "         0   MaxAbsScaler LightGBM                          0:00:54       0.7460    0.7460\n",
      "         6   MinMaxScaler SVM                               0:00:50       0.6873    0.7460\n",
      "         7   MaxAbsScaler GradientBoosting                  0:00:51       0.7590    0.7590\n",
      "         4   MinMaxScaler RandomForest                      0:03:21       0.7493    0.7590\n",
      "         1   MaxAbsScaler XGBoostClassifier                 0:03:32       0.7443    0.7590\n",
      "         5   MinMaxScaler SVM                               0:03:40       0.7035    0.7590\n",
      "         8   SparseNormalizer XGBoostClassifier             0:00:55       0.6759    0.7590\n",
      "         9   MaxAbsScaler LightGBM                          0:00:52       0.7296    0.7590\n",
      "        10   MinMaxScaler LightGBM                          0:00:51       0.7443    0.7590\n",
      "        11   SparseNormalizer XGBoostClassifier             0:00:58       0.6677    0.7590\n",
      "        12   RobustScaler ExtremeRandomTrees                0:00:58       0.7573    0.7590\n",
      "        13   MaxAbsScaler LightGBM                          0:00:56       0.7557    0.7590\n",
      "        14   StandardScalerWrapper ExtremeRandomTrees       0:00:56       0.7036    0.7590\n",
      "        15   StandardScalerWrapper LightGBM                 0:00:54       0.7297    0.7590\n",
      "        16   SparseNormalizer XGBoostClassifier             0:00:51       0.6596    0.7590\n",
      "        17   StandardScalerWrapper RandomForest             0:00:56       0.7117    0.7590\n",
      "        18   StandardScalerWrapper GradientBoosting         0:01:05       0.7476    0.7590\n",
      "        19   StandardScalerWrapper LightGBM                 0:01:05       0.7182    0.7590\n",
      "        20   TruncatedSVDWrapper XGBoostClassifier          0:00:50       0.7084    0.7590\n",
      "        21   StandardScalerWrapper LightGBM                 0:00:55       0.7557    0.7590\n",
      "        22   MaxAbsScaler LightGBM                          0:00:55       0.7476    0.7590\n",
      "        23   StandardScalerWrapper LogisticRegression       0:00:51       0.7654    0.7654\n",
      "        24   MaxAbsScaler LightGBM                          0:00:49       0.7476    0.7654\n",
      "        25   TruncatedSVDWrapper GradientBoosting           0:00:53       0.6840    0.7654\n",
      "        26   StandardScalerWrapper RandomForest             0:01:00       0.7476    0.7654\n",
      "        27   StandardScalerWrapper LightGBM                 0:00:50       0.7622    0.7654\n",
      "        28   SparseNormalizer LightGBM                      0:00:58       0.6514    0.7654\n",
      "        29   StandardScalerWrapper LightGBM                 0:01:01       0.7508    0.7654\n",
      "        30   TruncatedSVDWrapper LogisticRegression         0:00:48       0.6661    0.7654\n",
      "        31   MaxAbsScaler RandomForest                      0:00:53       0.7345    0.7654\n",
      "        32   SparseNormalizer ExtremeRandomTrees            0:01:10       0.6515    0.7654\n",
      "        33   StandardScalerWrapper RandomForest             0:00:59       0.7150    0.7654\n",
      "        35   MaxAbsScaler LogisticRegression                0:00:51       0.4722    0.7654\n",
      "        34   MaxAbsScaler RandomForest                      0:01:05       0.7182    0.7654\n",
      "        36   MinMaxScaler RandomForest                      0:00:57       0.7312    0.7654\n",
      "        37   MaxAbsScaler LightGBM                          0:00:37       0.7492    0.7654\n",
      "        38   MaxAbsScaler RandomForest                      0:00:13          nan    0.7654\n",
      "        39   SparseNormalizer RandomForest                  0:00:19          nan    0.7654\n",
      "        40    VotingEnsemble                                0:01:26       0.7834    0.7834\n"
     ]
    },
    {
     "data": {
      "text/plain": [
       "{'runId': 'AutoML_ea437d3c-8ed3-4c01-bf40-48b32154600f',\n",
       " 'target': 'puru-compute-new',\n",
       " 'status': 'Completed',\n",
       " 'startTimeUtc': '2020-12-27T21:21:12.241377Z',\n",
       " 'endTimeUtc': '2020-12-27T21:46:48.729919Z',\n",
       " 'properties': {'num_iterations': '1000',\n",
       "  'training_type': 'TrainFull',\n",
       "  'acquisition_function': 'EI',\n",
       "  'primary_metric': 'accuracy',\n",
       "  'train_split': '0',\n",
       "  'acquisition_parameter': '0',\n",
       "  'num_cross_validation': '3',\n",
       "  'target': 'puru-compute-new',\n",
       "  'AMLSettingsJsonString': '{\"path\":null,\"name\":\"puru-auto-experiment\",\"subscription_id\":\"d7f39349-a66b-446e-aba6-0053c2cf1c11\",\"resource_group\":\"aml-quickstarts-132071\",\"workspace_name\":\"quick-starts-ws-132071\",\"region\":\"southcentralus\",\"compute_target\":\"puru-compute-new\",\"spark_service\":null,\"azure_service\":\"remote\",\"many_models\":false,\"pipeline_fetch_max_batch_size\":1,\"iterations\":1000,\"primary_metric\":\"accuracy\",\"task_type\":\"classification\",\"data_script\":null,\"validation_size\":0.0,\"n_cross_validations\":3,\"y_min\":null,\"y_max\":null,\"num_classes\":null,\"featurization\":\"auto\",\"_ignore_package_version_incompatibilities\":false,\"is_timeseries\":false,\"max_cores_per_iteration\":-1,\"max_concurrent_iterations\":4,\"iteration_timeout_minutes\":5,\"mem_in_mb\":null,\"enforce_time_on_windows\":false,\"experiment_timeout_minutes\":30,\"experiment_exit_score\":null,\"whitelist_models\":null,\"blacklist_algos\":[\"TensorFlowLinearClassifier\",\"TensorFlowDNN\"],\"supported_models\":[\"SVM\",\"RandomForest\",\"TensorFlowDNN\",\"TensorFlowLinearClassifier\",\"BernoulliNaiveBayes\",\"LinearSVM\",\"ExtremeRandomTrees\",\"MultinomialNaiveBayes\",\"XGBoostClassifier\",\"LogisticRegression\",\"KNN\",\"DecisionTree\",\"SGD\",\"GradientBoosting\",\"LightGBM\",\"AveragedPerceptronClassifier\"],\"auto_blacklist\":true,\"blacklist_samples_reached\":false,\"exclude_nan_labels\":true,\"verbosity\":20,\"_debug_log\":\"azureml_automl.log\",\"show_warnings\":false,\"model_explainability\":true,\"service_url\":null,\"sdk_url\":null,\"sdk_packages\":null,\"enable_onnx_compatible_models\":true,\"enable_split_onnx_featurizer_estimator_models\":false,\"vm_type\":\"STANDARD_D2_V2\",\"telemetry_verbosity\":20,\"send_telemetry\":true,\"enable_dnn\":false,\"scenario\":\"SDK-1.13.0\",\"environment_label\":null,\"force_text_dnn\":false,\"enable_feature_sweeping\":false,\"enable_early_stopping\":true,\"early_stopping_n_iters\":10,\"metrics\":null,\"enable_ensembling\":true,\"enable_stack_ensembling\":false,\"ensemble_iterations\":15,\"enable_tf\":false,\"enable_subsampling\":null,\"subsample_seed\":null,\"enable_nimbusml\":false,\"enable_streaming\":false,\"force_streaming\":false,\"track_child_runs\":true,\"allowed_private_models\":[],\"label_column_name\":\"Outcome\",\"weight_column_name\":null,\"cv_split_column_names\":null,\"enable_local_managed\":false,\"_local_managed_run_id\":null,\"cost_mode\":1,\"lag_length\":0,\"metric_operation\":\"maximize\",\"preprocess\":true}',\n",
       "  'DataPrepJsonString': '{\\\\\"training_data\\\\\": \\\\\"{\\\\\\\\\\\\\"blocks\\\\\\\\\\\\\": [{\\\\\\\\\\\\\"id\\\\\\\\\\\\\": \\\\\\\\\\\\\"61c3af4b-8702-4d16-840d-6be6c2073a36\\\\\\\\\\\\\", \\\\\\\\\\\\\"type\\\\\\\\\\\\\": \\\\\\\\\\\\\"Microsoft.DPrep.GetDatastoreFilesBlock\\\\\\\\\\\\\", \\\\\\\\\\\\\"arguments\\\\\\\\\\\\\": {\\\\\\\\\\\\\"datastores\\\\\\\\\\\\\": [{\\\\\\\\\\\\\"datastoreName\\\\\\\\\\\\\": \\\\\\\\\\\\\"workspaceblobstore\\\\\\\\\\\\\", \\\\\\\\\\\\\"path\\\\\\\\\\\\\": \\\\\\\\\\\\\"automlclassifier/train_data.csv\\\\\\\\\\\\\", \\\\\\\\\\\\\"resourceGroup\\\\\\\\\\\\\": \\\\\\\\\\\\\"aml-quickstarts-132071\\\\\\\\\\\\\", \\\\\\\\\\\\\"subscription\\\\\\\\\\\\\": \\\\\\\\\\\\\"d7f39349-a66b-446e-aba6-0053c2cf1c11\\\\\\\\\\\\\", \\\\\\\\\\\\\"workspaceName\\\\\\\\\\\\\": \\\\\\\\\\\\\"quick-starts-ws-132071\\\\\\\\\\\\\"}]}, \\\\\\\\\\\\\"localData\\\\\\\\\\\\\": {}, \\\\\\\\\\\\\"isEnabled\\\\\\\\\\\\\": true, \\\\\\\\\\\\\"name\\\\\\\\\\\\\": null, \\\\\\\\\\\\\"annotation\\\\\\\\\\\\\": null}, {\\\\\\\\\\\\\"id\\\\\\\\\\\\\": \\\\\\\\\\\\\"68fe2412-512d-4da9-937f-2d4252864ba6\\\\\\\\\\\\\", \\\\\\\\\\\\\"type\\\\\\\\\\\\\": \\\\\\\\\\\\\"Microsoft.DPrep.ParseDelimitedBlock\\\\\\\\\\\\\", \\\\\\\\\\\\\"arguments\\\\\\\\\\\\\": {\\\\\\\\\\\\\"columnHeadersMode\\\\\\\\\\\\\": 3, \\\\\\\\\\\\\"fileEncoding\\\\\\\\\\\\\": 0, \\\\\\\\\\\\\"handleQuotedLineBreaks\\\\\\\\\\\\\": false, \\\\\\\\\\\\\"preview\\\\\\\\\\\\\": false, \\\\\\\\\\\\\"separator\\\\\\\\\\\\\": \\\\\\\\\\\\\",\\\\\\\\\\\\\", \\\\\\\\\\\\\"skipRows\\\\\\\\\\\\\": 0, \\\\\\\\\\\\\"skipRowsMode\\\\\\\\\\\\\": 0}, \\\\\\\\\\\\\"localData\\\\\\\\\\\\\": {}, \\\\\\\\\\\\\"isEnabled\\\\\\\\\\\\\": true, \\\\\\\\\\\\\"name\\\\\\\\\\\\\": null, \\\\\\\\\\\\\"annotation\\\\\\\\\\\\\": null}, {\\\\\\\\\\\\\"id\\\\\\\\\\\\\": \\\\\\\\\\\\\"0ee1495b-b297-4141-bb9a-a2a4925ab11f\\\\\\\\\\\\\", \\\\\\\\\\\\\"type\\\\\\\\\\\\\": \\\\\\\\\\\\\"Microsoft.DPrep.DropColumnsBlock\\\\\\\\\\\\\", \\\\\\\\\\\\\"arguments\\\\\\\\\\\\\": {\\\\\\\\\\\\\"columns\\\\\\\\\\\\\": {\\\\\\\\\\\\\"type\\\\\\\\\\\\\": 0, \\\\\\\\\\\\\"details\\\\\\\\\\\\\": {\\\\\\\\\\\\\"selectedColumns\\\\\\\\\\\\\": [\\\\\\\\\\\\\"Path\\\\\\\\\\\\\"]}}}, \\\\\\\\\\\\\"localData\\\\\\\\\\\\\": {}, \\\\\\\\\\\\\"isEnabled\\\\\\\\\\\\\": true, \\\\\\\\\\\\\"name\\\\\\\\\\\\\": null, \\\\\\\\\\\\\"annotation\\\\\\\\\\\\\": null}, {\\\\\\\\\\\\\"id\\\\\\\\\\\\\": \\\\\\\\\\\\\"31ada98c-6bea-4d88-b8d2-8e7cfb8d830b\\\\\\\\\\\\\", \\\\\\\\\\\\\"type\\\\\\\\\\\\\": \\\\\\\\\\\\\"Microsoft.DPrep.SetColumnTypesBlock\\\\\\\\\\\\\", \\\\\\\\\\\\\"arguments\\\\\\\\\\\\\": {\\\\\\\\\\\\\"columnConversion\\\\\\\\\\\\\": [{\\\\\\\\\\\\\"column\\\\\\\\\\\\\": {\\\\\\\\\\\\\"type\\\\\\\\\\\\\": 2, \\\\\\\\\\\\\"details\\\\\\\\\\\\\": {\\\\\\\\\\\\\"selectedColumn\\\\\\\\\\\\\": \\\\\\\\\\\\\"Pregnancies\\\\\\\\\\\\\"}}, \\\\\\\\\\\\\"typeProperty\\\\\\\\\\\\\": 2}, {\\\\\\\\\\\\\"column\\\\\\\\\\\\\": {\\\\\\\\\\\\\"type\\\\\\\\\\\\\": 2, \\\\\\\\\\\\\"details\\\\\\\\\\\\\": {\\\\\\\\\\\\\"selectedColumn\\\\\\\\\\\\\": \\\\\\\\\\\\\"Glucose\\\\\\\\\\\\\"}}, \\\\\\\\\\\\\"typeProperty\\\\\\\\\\\\\": 2}, {\\\\\\\\\\\\\"column\\\\\\\\\\\\\": {\\\\\\\\\\\\\"type\\\\\\\\\\\\\": 2, \\\\\\\\\\\\\"details\\\\\\\\\\\\\": {\\\\\\\\\\\\\"selectedColumn\\\\\\\\\\\\\": \\\\\\\\\\\\\"BloodPressure\\\\\\\\\\\\\"}}, \\\\\\\\\\\\\"typeProperty\\\\\\\\\\\\\": 2}, {\\\\\\\\\\\\\"column\\\\\\\\\\\\\": {\\\\\\\\\\\\\"type\\\\\\\\\\\\\": 2, \\\\\\\\\\\\\"details\\\\\\\\\\\\\": {\\\\\\\\\\\\\"selectedColumn\\\\\\\\\\\\\": \\\\\\\\\\\\\"SkinThickness\\\\\\\\\\\\\"}}, \\\\\\\\\\\\\"typeProperty\\\\\\\\\\\\\": 2}, {\\\\\\\\\\\\\"column\\\\\\\\\\\\\": {\\\\\\\\\\\\\"type\\\\\\\\\\\\\": 2, \\\\\\\\\\\\\"details\\\\\\\\\\\\\": {\\\\\\\\\\\\\"selectedColumn\\\\\\\\\\\\\": \\\\\\\\\\\\\"Insulin\\\\\\\\\\\\\"}}, \\\\\\\\\\\\\"typeProperty\\\\\\\\\\\\\": 2}, {\\\\\\\\\\\\\"column\\\\\\\\\\\\\": {\\\\\\\\\\\\\"type\\\\\\\\\\\\\": 2, \\\\\\\\\\\\\"details\\\\\\\\\\\\\": {\\\\\\\\\\\\\"selectedColumn\\\\\\\\\\\\\": \\\\\\\\\\\\\"BMI\\\\\\\\\\\\\"}}, \\\\\\\\\\\\\"typeProperty\\\\\\\\\\\\\": 3}, {\\\\\\\\\\\\\"column\\\\\\\\\\\\\": {\\\\\\\\\\\\\"type\\\\\\\\\\\\\": 2, \\\\\\\\\\\\\"details\\\\\\\\\\\\\": {\\\\\\\\\\\\\"selectedColumn\\\\\\\\\\\\\": \\\\\\\\\\\\\"DiabetesPedigreeFunction\\\\\\\\\\\\\"}}, \\\\\\\\\\\\\"typeProperty\\\\\\\\\\\\\": 3}, {\\\\\\\\\\\\\"column\\\\\\\\\\\\\": {\\\\\\\\\\\\\"type\\\\\\\\\\\\\": 2, \\\\\\\\\\\\\"details\\\\\\\\\\\\\": {\\\\\\\\\\\\\"selectedColumn\\\\\\\\\\\\\": \\\\\\\\\\\\\"Age\\\\\\\\\\\\\"}}, \\\\\\\\\\\\\"typeProperty\\\\\\\\\\\\\": 2}, {\\\\\\\\\\\\\"column\\\\\\\\\\\\\": {\\\\\\\\\\\\\"type\\\\\\\\\\\\\": 2, \\\\\\\\\\\\\"details\\\\\\\\\\\\\": {\\\\\\\\\\\\\"selectedColumn\\\\\\\\\\\\\": \\\\\\\\\\\\\"Outcome\\\\\\\\\\\\\"}}, \\\\\\\\\\\\\"typeProperty\\\\\\\\\\\\\": 2}]}, \\\\\\\\\\\\\"localData\\\\\\\\\\\\\": {}, \\\\\\\\\\\\\"isEnabled\\\\\\\\\\\\\": true, \\\\\\\\\\\\\"name\\\\\\\\\\\\\": null, \\\\\\\\\\\\\"annotation\\\\\\\\\\\\\": null}], \\\\\\\\\\\\\"inspectors\\\\\\\\\\\\\": [], \\\\\\\\\\\\\"meta\\\\\\\\\\\\\": {\\\\\\\\\\\\\"savedDatasetId\\\\\\\\\\\\\": \\\\\\\\\\\\\"dfb2bd00-829e-43ca-98d0-9297d098c57f\\\\\\\\\\\\\", \\\\\\\\\\\\\"datasetType\\\\\\\\\\\\\": \\\\\\\\\\\\\"tabular\\\\\\\\\\\\\", \\\\\\\\\\\\\"subscriptionId\\\\\\\\\\\\\": \\\\\\\\\\\\\"d7f39349-a66b-446e-aba6-0053c2cf1c11\\\\\\\\\\\\\", \\\\\\\\\\\\\"workspaceId\\\\\\\\\\\\\": \\\\\\\\\\\\\"9e2b4f9c-1e33-42c2-879a-c7c9188f8895\\\\\\\\\\\\\", \\\\\\\\\\\\\"workspaceLocation\\\\\\\\\\\\\": \\\\\\\\\\\\\"southcentralus\\\\\\\\\\\\\"}}\\\\\", \\\\\"activities\\\\\": 0}',\n",
       "  'EnableSubsampling': None,\n",
       "  'runTemplate': 'AutoML',\n",
       "  'azureml.runsource': 'automl',\n",
       "  'display_task_type': 'classification',\n",
       "  'dependencies_versions': '{\"azureml-widgets\": \"1.19.0\", \"azureml-train\": \"1.19.0\", \"azureml-train-restclients-hyperdrive\": \"1.19.0\", \"azureml-train-core\": \"1.19.0\", \"azureml-train-automl\": \"1.19.0\", \"azureml-train-automl-runtime\": \"1.19.0\", \"azureml-train-automl-client\": \"1.19.0\", \"azureml-tensorboard\": \"1.19.0\", \"azureml-telemetry\": \"1.19.0\", \"azureml-sdk\": \"1.19.0\", \"azureml-samples\": \"0+unknown\", \"azureml-pipeline\": \"1.19.0\", \"azureml-pipeline-steps\": \"1.19.0\", \"azureml-pipeline-core\": \"1.19.0\", \"azureml-opendatasets\": \"1.19.0\", \"azureml-model-management-sdk\": \"1.0.1b6.post1\", \"azureml-mlflow\": \"1.19.0\", \"azureml-interpret\": \"1.19.0\", \"azureml-explain-model\": \"1.19.0\", \"azureml-defaults\": \"1.19.0\", \"azureml-dataset-runtime\": \"1.19.0\", \"azureml-dataprep\": \"2.6.1\", \"azureml-dataprep-rslex\": \"1.4.0\", \"azureml-dataprep-native\": \"26.0.0\", \"azureml-datadrift\": \"1.19.0\", \"azureml-core\": \"1.19.0\", \"azureml-contrib-services\": \"1.19.0\", \"azureml-contrib-server\": \"1.19.0\", \"azureml-contrib-reinforcementlearning\": \"1.19.0\", \"azureml-contrib-pipeline-steps\": \"1.19.0\", \"azureml-contrib-notebook\": \"1.19.0\", \"azureml-contrib-interpret\": \"1.19.0\", \"azureml-contrib-gbdt\": \"1.19.0\", \"azureml-contrib-fairness\": \"1.19.0\", \"azureml-contrib-dataset\": \"1.19.0\", \"azureml-cli-common\": \"1.19.0\", \"azureml-automl-runtime\": \"1.19.0\", \"azureml-automl-core\": \"1.19.0\", \"azureml-accel-models\": \"1.19.0\"}',\n",
       "  '_aml_system_scenario_identification': 'Remote.Parent',\n",
       "  'ClientType': 'SDK',\n",
       "  'environment_cpu_name': 'AzureML-AutoML',\n",
       "  'environment_cpu_label': 'prod',\n",
       "  'environment_gpu_name': 'AzureML-AutoML-GPU',\n",
       "  'environment_gpu_label': 'prod',\n",
       "  'root_attribution': 'automl',\n",
       "  'attribution': 'AutoML',\n",
       "  'Orchestrator': 'AutoML',\n",
       "  'CancelUri': 'https://southcentralus.experiments.azureml.net/jasmine/v1.0/subscriptions/d7f39349-a66b-446e-aba6-0053c2cf1c11/resourceGroups/aml-quickstarts-132071/providers/Microsoft.MachineLearningServices/workspaces/quick-starts-ws-132071/experimentids/b143e2df-65d3-4e0c-8ad4-6cd3df531b27/cancel/AutoML_ea437d3c-8ed3-4c01-bf40-48b32154600f',\n",
       "  'ClientSdkVersion': '1.19.0',\n",
       "  'snapshotId': '00000000-0000-0000-0000-000000000000',\n",
       "  'SetupRunId': 'AutoML_ea437d3c-8ed3-4c01-bf40-48b32154600f_setup',\n",
       "  'SetupRunContainerId': 'dcid.AutoML_ea437d3c-8ed3-4c01-bf40-48b32154600f_setup',\n",
       "  'FeaturizationRunJsonPath': 'featurizer_container.json',\n",
       "  'FeaturizationRunId': 'AutoML_ea437d3c-8ed3-4c01-bf40-48b32154600f_featurize',\n",
       "  'ProblemInfoJsonString': '{\"dataset_num_categorical\": 0, \"is_sparse\": false, \"subsampling\": false, \"dataset_classes\": 2, \"dataset_features\": 8, \"dataset_samples\": 614, \"single_frequency_class_detected\": false}',\n",
       "  'ModelExplainRunId': 'AutoML_ea437d3c-8ed3-4c01-bf40-48b32154600f_ModelExplain'},\n",
       " 'inputDatasets': [{'dataset': {'id': 'dfb2bd00-829e-43ca-98d0-9297d098c57f'}, 'consumptionDetails': {'type': 'RunInput', 'inputName': 'training_data', 'mechanism': 'Direct'}}],\n",
       " 'outputDatasets': [],\n",
       " 'logFiles': {}}"
      ]
     },
     "execution_count": 14,
     "metadata": {},
     "output_type": "execute_result"
    }
   ],
   "source": [
    "from azureml.widgets import RunDetails\n",
    "RunDetails(remote_run).show()\n",
    "\n",
    "# wait for completion\n",
    "remote_run.wait_for_completion(show_output=True)"
   ]
  },
  {
   "cell_type": "markdown",
   "metadata": {},
   "source": [
    "## Best Model\n",
    "\n",
    "TODO: In the cell below, get the best model from the automl experiments and display all the properties of the model.\n",
    "\n"
   ]
  },
  {
   "cell_type": "code",
   "execution_count": 16,
   "metadata": {
    "gather": {
     "logged": 1609087589251
    },
    "jupyter": {
     "outputs_hidden": false,
     "source_hidden": false
    },
    "nteract": {
     "transient": {
      "deleting": false
     }
    }
   },
   "outputs": [
    {
     "name": "stdout",
     "output_type": "stream",
     "text": [
      "Run(Experiment: puru-auto-experiment,\n",
      "Id: AutoML_ea437d3c-8ed3-4c01-bf40-48b32154600f_40,\n",
      "Type: azureml.scriptrun,\n",
      "Status: Completed)\n",
      "Best Model: AutoMLea437d3c840\n"
     ]
    },
    {
     "data": {
      "text/plain": [
       "{'runTemplate': 'automl_child',\n",
       " 'pipeline_id': '__AutoML_Ensemble__',\n",
       " 'pipeline_spec': '{\"pipeline_id\":\"__AutoML_Ensemble__\",\"objects\":[{\"module\":\"azureml.train.automl.ensemble\",\"class_name\":\"Ensemble\",\"spec_class\":\"sklearn\",\"param_args\":[],\"param_kwargs\":{\"automl_settings\":\"{\\'task_type\\':\\'classification\\',\\'primary_metric\\':\\'accuracy\\',\\'verbosity\\':20,\\'ensemble_iterations\\':15,\\'is_timeseries\\':False,\\'name\\':\\'puru-auto-experiment\\',\\'compute_target\\':\\'puru-compute-new\\',\\'subscription_id\\':\\'d7f39349-a66b-446e-aba6-0053c2cf1c11\\',\\'region\\':\\'southcentralus\\',\\'spark_service\\':None}\",\"ensemble_run_id\":\"AutoML_ea437d3c-8ed3-4c01-bf40-48b32154600f_40\",\"experiment_name\":\"puru-auto-experiment\",\"workspace_name\":\"quick-starts-ws-132071\",\"subscription_id\":\"d7f39349-a66b-446e-aba6-0053c2cf1c11\",\"resource_group_name\":\"aml-quickstarts-132071\"}}]}',\n",
       " 'training_percent': '100',\n",
       " 'predicted_cost': None,\n",
       " 'iteration': '40',\n",
       " '_aml_system_scenario_identification': 'Remote.Child',\n",
       " '_azureml.ComputeTargetType': 'amlcompute',\n",
       " 'ContentSnapshotId': '3cb3fcb9-bd72-460c-9888-9c58cd66235c',\n",
       " 'ProcessInfoFile': 'azureml-logs/process_info.json',\n",
       " 'ProcessStatusFile': 'azureml-logs/process_status.json',\n",
       " 'run_template': 'automl_child',\n",
       " 'run_preprocessor': '',\n",
       " 'run_algorithm': 'VotingEnsemble',\n",
       " 'conda_env_data_location': 'aml://artifact/ExperimentRun/dcid.AutoML_ea437d3c-8ed3-4c01-bf40-48b32154600f_40/outputs/conda_env_v_1_0_0.yml',\n",
       " 'model_data_location': 'aml://artifact/ExperimentRun/dcid.AutoML_ea437d3c-8ed3-4c01-bf40-48b32154600f_40/outputs/model.pkl',\n",
       " 'model_size_on_disk': '3531748',\n",
       " 'scoring_data_location': 'aml://artifact/ExperimentRun/dcid.AutoML_ea437d3c-8ed3-4c01-bf40-48b32154600f_40/outputs/scoring_file_v_1_0_0.py',\n",
       " 'model_exp_support': 'True',\n",
       " 'pipeline_graph_version': '1.0.0',\n",
       " 'model_name': 'AutoMLea437d3c840',\n",
       " 'staticProperties': '{}',\n",
       " 'score': '0.783405069344811',\n",
       " 'run_properties': \"classification_labels=None,\\n                              estimators=[('23',\\n                                           Pipeline(memory=None,\\n                                                    steps=[('standardscalerwrapper',\\n                                                            <azureml.automl.runtime.shared.model_wrappers.StandardScalerWrapper object at 0x7fe84cd0aac8>\",\n",
       " 'pipeline_script': '{\"pipeline_id\":\"__AutoML_Ensemble__\",\"objects\":[{\"module\":\"azureml.train.automl.ensemble\",\"class_name\":\"Ensemble\",\"spec_class\":\"sklearn\",\"param_args\":[],\"param_kwargs\":{\"automl_settings\":\"{\\'task_type\\':\\'classification\\',\\'primary_metric\\':\\'accuracy\\',\\'verbosity\\':20,\\'ensemble_iterations\\':15,\\'is_timeseries\\':False,\\'name\\':\\'puru-auto-experiment\\',\\'compute_target\\':\\'puru-compute-new\\',\\'subscription_id\\':\\'d7f39349-a66b-446e-aba6-0053c2cf1c11\\',\\'region\\':\\'southcentralus\\',\\'spark_service\\':None}\",\"ensemble_run_id\":\"AutoML_ea437d3c-8ed3-4c01-bf40-48b32154600f_40\",\"experiment_name\":\"puru-auto-experiment\",\"workspace_name\":\"quick-starts-ws-132071\",\"subscription_id\":\"d7f39349-a66b-446e-aba6-0053c2cf1c11\",\"resource_group_name\":\"aml-quickstarts-132071\"}}]}',\n",
       " 'training_type': 'MeanCrossValidation',\n",
       " 'num_classes': '',\n",
       " 'framework': 'sklearn',\n",
       " 'fit_time': '29',\n",
       " 'goal': 'accuracy_max',\n",
       " 'class_labels': '',\n",
       " 'primary_metric': 'accuracy',\n",
       " 'errors': '{}',\n",
       " 'fitted_pipeline': \"Pipeline(memory=None,\\n         steps=[('datatransformer',\\n                 DataTransformer(enable_dnn=None, enable_feature_sweeping=None,\\n                                 feature_sweeping_config=None,\\n                                 feature_sweeping_timeout=None,\\n                                 featurization_config=None, force_text_dnn=None,\\n                                 is_cross_validation=None,\\n                                 is_onnx_compatible=None, logger=None,\\n                                 observer=None, task=None, working_dir=None)),\\n                ('prefittedsoftvotingclassifier',...\\n                                                                                                        random_state=None,\\n                                                                                                        subsample=1,\\n                                                                                                        tol=0.0001,\\n                                                                                                        validation_fraction=0.1,\\n                                                                                                        verbose=0,\\n                                                                                                        warm_start=False))],\\n                                                                     verbose=False))],\\n                                               flatten_transform=None,\\n                                               weights=[0.08333333333333333,\\n                                                        0.16666666666666666,\\n                                                        0.08333333333333333,\\n                                                        0.08333333333333333,\\n                                                        0.08333333333333333,\\n                                                        0.08333333333333333,\\n                                                        0.08333333333333333,\\n                                                        0.16666666666666666,\\n                                                        0.08333333333333333,\\n                                                        0.08333333333333333]))],\\n         verbose=False)\",\n",
       " 'friendly_errors': '{}',\n",
       " 'onnx_model_resource': \"{'RawColumnNameToOnnxNameMap': {'Pregnancies': 'Pregnancies', 'Glucose': 'Glucose', 'BloodPressure': 'BloodPressure', 'SkinThickness': 'SkinThickness', 'Insulin': 'Insulin', 'BMI': 'BMI', 'DiabetesPedigreeFunction': 'DiabetesPedigreeFunction', 'Age': 'Age'}, 'InputRawColumnSchema': {'Pregnancies': 'floating', 'Glucose': 'floating', 'BloodPressure': 'floating', 'SkinThickness': 'floating', 'Insulin': 'floating', 'BMI': 'floating', 'DiabetesPedigreeFunction': 'floating', 'Age': 'floating'}, 'InputOnnxColumnSchema': {'Pregnancies': 'FloatTensorType', 'Glucose': 'FloatTensorType', 'BloodPressure': 'FloatTensorType', 'SkinThickness': 'FloatTensorType', 'Insulin': 'FloatTensorType', 'BMI': 'FloatTensorType', 'DiabetesPedigreeFunction': 'FloatTensorType', 'Age': 'FloatTensorType'}, 'CanEnableBatchMode': True}\",\n",
       " 'error_code': '',\n",
       " 'failure_reason': '',\n",
       " 'feature_skus': 'automatedml_sdk_guardrails',\n",
       " 'dependencies_versions': '{\"azureml-train-automl-runtime\": \"1.19.0\", \"azureml-train-automl-client\": \"1.19.0\", \"azureml-telemetry\": \"1.19.0\", \"azureml-pipeline-core\": \"1.19.0\", \"azureml-model-management-sdk\": \"1.0.1b6.post1\", \"azureml-interpret\": \"1.19.0\", \"azureml-defaults\": \"1.19.0\", \"azureml-dataset-runtime\": \"1.19.0\", \"azureml-dataprep\": \"2.6.1\", \"azureml-dataprep-rslex\": \"1.4.0\", \"azureml-dataprep-native\": \"26.0.0\", \"azureml-core\": \"1.19.0\", \"azureml-automl-runtime\": \"1.19.0\", \"azureml-automl-core\": \"1.19.0\"}',\n",
       " 'num_cores': '2',\n",
       " 'num_logical_cores': '2',\n",
       " 'peak_memory_usage': '629024',\n",
       " 'vm_configuration': 'Intel(R) Xeon(R) Platinum 8171M CPU @ 2.60GHz',\n",
       " 'core_hours': '0.007025130555555556'}"
      ]
     },
     "execution_count": 16,
     "metadata": {},
     "output_type": "execute_result"
    }
   ],
   "source": [
    "# Retrieve the best automl run model\n",
    "best_automl_run, fitted_automl_model = remote_run.get_output()\n",
    "print(best_automl_run)\n",
    "\n",
    "# get best model and display properties\n",
    "model_name = best_automl_run.properties['model_name']\n",
    "print(\"Best Model:\", model_name)\n",
    "\n",
    "# display all the properties of the best model\n",
    "#best_automl_run #.properties\n",
    "best_automl_run.get_properties()"
   ]
  },
  {
   "cell_type": "code",
   "execution_count": 18,
   "metadata": {
    "gather": {
     "logged": 1609087817089
    },
    "jupyter": {
     "outputs_hidden": false,
     "source_hidden": false
    },
    "nteract": {
     "transient": {
      "deleting": false
     }
    }
   },
   "outputs": [
    {
     "name": "stdout",
     "output_type": "stream",
     "text": [
      "RunID: \tAutoML_ea437d3c-8ed3-4c01-bf40-48b32154600f\n"
     ]
    }
   ],
   "source": [
    "# register best autoML model for future deployment\n",
    "os.makedirs('outputs', exist_ok=True)\n",
    "\n",
    "description = 'Diabetec'\n",
    "tags = {'area': 'health', 'type': 'classification'}\n",
    "automl_model = remote_run.register_model(model_name = 'automl-best-model', description = description, tags = tags)\n",
    "\n",
    "print(\"RunID: \", remote_run.id, sep='\\t')"
   ]
  },
  {
   "cell_type": "markdown",
   "metadata": {},
   "source": [
    "## Model Deployment\n",
    "\n",
    "Remember you have to deploy only one of the two models you trained.. Perform the steps in the rest of this notebook only if you wish to deploy this model.\n",
    "\n",
    "TODO: In the cell below, register the model, create an inference config and deploy the model as a web service."
   ]
  },
  {
   "cell_type": "code",
   "execution_count": 31,
   "metadata": {
    "gather": {
     "logged": 1598431435189
    },
    "jupyter": {
     "outputs_hidden": false,
     "source_hidden": false
    },
    "nteract": {
     "transient": {
      "deleting": false
     }
    }
   },
   "outputs": [
    {
     "name": "stdout",
     "output_type": "stream",
     "text": [
      "Tips: You can try get_logs(): https://aka.ms/debugimage#dockerlog or local deployment: https://aka.ms/debugimage#debug-locally to debug if deployment takes longer than 10 minutes.\n",
      "Running....................................................................."
     ]
    }
   ],
   "source": [
    "# deploy model as a web service\n",
    "from azureml.core.model import InferenceConfig\n",
    "from azureml.core.webservice import AciWebservice\n",
    "from azureml.core import Environment\n",
    "from azureml.core.model import Model\n",
    "\n",
    "service_name = 'p-automl-service'\n",
    "env = Environment.get(workspace=ws, name=\"AzureML-Tutorial\")\n",
    "for pip_package in [\"scikit-learn\"]:\n",
    "    env.python.conda_dependencies.add_pip_package(pip_package)\n",
    "##env.python.conda_dependencies.add_pip_package(\"scikit-learn\")\n",
    "\n",
    "inference_config = InferenceConfig(entry_script='score.py', environment=env)\n",
    "aci_config = AciWebservice.deploy_configuration(cpu_cores=1, memory_gb=4, enable_app_insights=True, auth_enabled=True)\n",
    "\n",
    "model = Model(ws,name='automl-best-model')\n",
    "service = Model.deploy(workspace=ws,\n",
    "                       name=service_name,\n",
    "                       models=[model],\n",
    "                       inference_config=inference_config,\n",
    "                       deployment_config=aci_config,\n",
    "                       overwrite=True)\n",
    "\n",
    "service.wait_for_deployment(show_output=True)"
   ]
  },
  {
   "cell_type": "markdown",
   "metadata": {
    "collapsed": true,
    "gather": {
     "logged": 1598431657736
    },
    "jupyter": {
     "outputs_hidden": false,
     "source_hidden": false
    },
    "nteract": {
     "transient": {
      "deleting": false
     }
    }
   },
   "source": [
    "TODO: In the cell below, send a request to the web service you deployed to test it."
   ]
  },
  {
   "cell_type": "code",
   "execution_count": 37,
   "metadata": {
    "gather": {
     "logged": 1609109007970
    },
    "jupyter": {
     "outputs_hidden": false,
     "source_hidden": false
    },
    "nteract": {
     "transient": {
      "deleting": false
     }
    }
   },
   "outputs": [
    {
     "name": "stdout",
     "output_type": "stream",
     "text": [
      "2020-12-27T22:43:26,967274300+00:00 - rsyslog/run \n",
      "2020-12-27T22:43:26,976031800+00:00 - iot-server/run \n",
      "2020-12-27T22:43:26,975998700+00:00 - nginx/run \n",
      "2020-12-27T22:43:26,978521500+00:00 - gunicorn/run \n",
      "/usr/sbin/nginx: /azureml-envs/azureml_a1736710baabf05d37337a101fa8d6d1/lib/libcrypto.so.1.0.0: no version information available (required by /usr/sbin/nginx)\n",
      "/usr/sbin/nginx: /azureml-envs/azureml_a1736710baabf05d37337a101fa8d6d1/lib/libcrypto.so.1.0.0: no version information available (required by /usr/sbin/nginx)\n",
      "/usr/sbin/nginx: /azureml-envs/azureml_a1736710baabf05d37337a101fa8d6d1/lib/libssl.so.1.0.0: no version information available (required by /usr/sbin/nginx)\n",
      "/usr/sbin/nginx: /azureml-envs/azureml_a1736710baabf05d37337a101fa8d6d1/lib/libssl.so.1.0.0: no version information available (required by /usr/sbin/nginx)\n",
      "/usr/sbin/nginx: /azureml-envs/azureml_a1736710baabf05d37337a101fa8d6d1/lib/libssl.so.1.0.0: no version information available (required by /usr/sbin/nginx)\n",
      "rsyslogd: /azureml-envs/azureml_a1736710baabf05d37337a101fa8d6d1/lib/libuuid.so.1: no version information available (required by rsyslogd)\n",
      "EdgeHubConnectionString and IOTEDGE_IOTHUBHOSTNAME are not set. Exiting...\n",
      "2020-12-27T22:43:27,201448200+00:00 - iot-server/finish 1 0\n",
      "2020-12-27T22:43:27,202695400+00:00 - Exit code 1 is normal. Not restarting iot-server.\n",
      "Starting gunicorn 19.9.0\n",
      "Listening at: http://127.0.0.1:31311 (1009)\n",
      "Using worker: sync\n",
      "worker timeout is set to 300\n",
      "Booting worker with pid: 1038\n",
      "\n"
     ]
    }
   ],
   "source": [
    "print(service.get_logs())\n"
   ]
  },
  {
   "cell_type": "markdown",
   "metadata": {
    "collapsed": true,
    "gather": {
     "logged": 1598432765711
    },
    "jupyter": {
     "outputs_hidden": false,
     "source_hidden": false
    },
    "nteract": {
     "transient": {
      "deleting": false
     }
    }
   },
   "source": [
    "TODO: In the cell below, print the logs of the web service and delete the service"
   ]
  },
  {
   "cell_type": "code",
   "execution_count": 39,
   "metadata": {
    "jupyter": {
     "outputs_hidden": false,
     "source_hidden": false
    },
    "nteract": {
     "transient": {
      "deleting": false
     }
    }
   },
   "outputs": [
    {
     "name": "stdout",
     "output_type": "stream",
     "text": [
      "Failed\n"
     ]
    },
    {
     "ename": "TypeError",
     "evalue": "must be str, not NoneType",
     "output_type": "error",
     "traceback": [
      "\u001b[0;31m---------------------------------------------------------------------------\u001b[0m",
      "\u001b[0;31mTypeError\u001b[0m                                 Traceback (most recent call last)",
      "\u001b[0;32m<ipython-input-39-af4d722d8b9e>\u001b[0m in \u001b[0;36m<module>\u001b[0;34m\u001b[0m\n\u001b[1;32m      1\u001b[0m \u001b[0mprint\u001b[0m\u001b[0;34m(\u001b[0m\u001b[0mservice\u001b[0m\u001b[0;34m.\u001b[0m\u001b[0mstate\u001b[0m\u001b[0;34m)\u001b[0m\u001b[0;34m\u001b[0m\u001b[0;34m\u001b[0m\u001b[0m\n\u001b[0;32m----> 2\u001b[0;31m \u001b[0mprint\u001b[0m\u001b[0;34m(\u001b[0m\u001b[0;34m\"scoring URI: \"\u001b[0m \u001b[0;34m+\u001b[0m \u001b[0mservice\u001b[0m\u001b[0;34m.\u001b[0m\u001b[0mscoring_uri\u001b[0m\u001b[0;34m)\u001b[0m\u001b[0;34m\u001b[0m\u001b[0;34m\u001b[0m\u001b[0m\n\u001b[0m\u001b[1;32m      3\u001b[0m \u001b[0;34m\u001b[0m\u001b[0m\n\u001b[1;32m      4\u001b[0m \u001b[0mprint\u001b[0m\u001b[0;34m(\u001b[0m\u001b[0;34m\"Swagger URI: \"\u001b[0m \u001b[0;34m+\u001b[0m \u001b[0mservice\u001b[0m\u001b[0;34m.\u001b[0m\u001b[0mswagger_uri\u001b[0m\u001b[0;34m)\u001b[0m\u001b[0;34m\u001b[0m\u001b[0;34m\u001b[0m\u001b[0m\n\u001b[1;32m      5\u001b[0m \u001b[0;34m\u001b[0m\u001b[0m\n",
      "\u001b[0;31mTypeError\u001b[0m: must be str, not NoneType"
     ]
    }
   ],
   "source": [
    "print(service.state)\n",
    "print(\"scoring URI: \" + service.scoring_uri)\n",
    "\n",
    "print(\"Swagger URI: \" + service.swagger_uri)\n",
    "\n",
    "print(\"Authetication Key: \" + service.get_keys())"
   ]
  },
  {
   "cell_type": "code",
   "execution_count": null,
   "metadata": {},
   "outputs": [],
   "source": [
    "import json\n",
    "\n",
    "input_payload = json.dumps({\n",
    "    'data': dataset_x[0:2].tolist(),\n",
    "    'method': 'predict'  # If you have a classification model, you can get probabilities by changing this to 'predict_proba'.\n",
    "})\n",
    "\n",
    "output = service.run(input_payload)\n",
    "\n",
    "print(output)"
   ]
  }
 ],
 "metadata": {
  "kernel_info": {
   "name": "python3"
  },
  "kernelspec": {
   "display_name": "Python 3",
   "language": "python",
   "name": "python3"
  },
  "language_info": {
   "codemirror_mode": {
    "name": "ipython",
    "version": 3
   },
   "file_extension": ".py",
   "mimetype": "text/x-python",
   "name": "python",
   "nbconvert_exporter": "python",
   "pygments_lexer": "ipython3",
   "version": "3.6.9"
  },
  "nteract": {
   "version": "nteract-front-end@1.0.0"
  }
 },
 "nbformat": 4,
 "nbformat_minor": 2
}
