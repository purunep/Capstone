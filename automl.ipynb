{
 "cells": [
  {
   "cell_type": "markdown",
   "metadata": {},
   "source": [
    "# Automated ML\n",
    "\n",
    "TODO: Import Dependencies. In the cell below, import all the dependencies that you will need to complete the project."
   ]
  },
  {
   "cell_type": "code",
   "execution_count": 8,
   "metadata": {
    "gather": {
     "logged": 1598423888013
    },
    "jupyter": {
     "outputs_hidden": false,
     "source_hidden": false
    },
    "nteract": {
     "transient": {
      "deleting": false
     }
    }
   },
   "outputs": [
    {
     "name": "stdout",
     "output_type": "stream",
     "text": [
      "SDK version: 1.19.0\n"
     ]
    }
   ],
   "source": [
    "import logging\n",
    "import os\n",
    "import csv\n",
    "\n",
    "from matplotlib import pyplot as plt\n",
    "import numpy as np\n",
    "import pandas as pd\n",
    "#from sklearn import datasets\n",
    "import pkg_resources\n",
    "\n",
    "import azureml.core\n",
    "from azureml.core.experiment import Experiment\n",
    "from azureml.core.workspace import Workspace\n",
    "from azureml.train.automl import AutoMLConfig\n",
    "#from azureml.core.dataset import Dataset\n",
    "\n",
    "from azureml.pipeline.steps import AutoMLStep\n",
    "from azureml.core.dataset import Dataset\n",
    "\n",
    "# Check core SDK version number\n",
    "print(\"SDK version:\", azureml.core.VERSION)"
   ]
  },
  {
   "cell_type": "markdown",
   "metadata": {},
   "source": [
    "## Dataset\n",
    "\n",
    "### Overview\n",
    "TODO: In this markdown cell, give an overview of the dataset you are using. Also mention the task you will be performing.\n",
    "\n",
    "\n",
    "TODO: Get data. In the cell below, write code to access the data you will be using in this project. Remember that the dataset needs to be external."
   ]
  },
  {
   "cell_type": "code",
   "execution_count": 3,
   "metadata": {
    "gather": {
     "logged": 1598423890461
    },
    "jupyter": {
     "outputs_hidden": false,
     "source_hidden": false
    },
    "nteract": {
     "transient": {
      "deleting": false
     }
    }
   },
   "outputs": [],
   "source": [
    "ws = Workspace.from_config()\n",
    "\n",
    "# choose a name for experiment\n",
    "experiment_name = 'puru-auto-experiment'\n",
    "\n",
    "experiment=Experiment(ws, experiment_name)"
   ]
  },
  {
   "cell_type": "code",
   "execution_count": 4,
   "metadata": {},
   "outputs": [
    {
     "name": "stdout",
     "output_type": "stream",
     "text": [
      "Workspace name: quick-starts-ws-131799\n",
      "Azure region: southcentralus\n",
      "Subscription id: 9b72f9e6-56c5-4c16-991b-19c652994860\n",
      "Resource group: aml-quickstarts-131799\n"
     ]
    }
   ],
   "source": [
    "print('Workspace name: ' + ws.name, \n",
    "      'Azure region: ' + ws.location, \n",
    "      'Subscription id: ' + ws.subscription_id, \n",
    "      'Resource group: ' + ws.resource_group, sep = '\\n')"
   ]
  },
  {
   "cell_type": "code",
   "execution_count": 5,
   "metadata": {},
   "outputs": [
    {
     "name": "stdout",
     "output_type": "stream",
     "text": [
      "Found existing cluster, using it.\n",
      "\n",
      "Running\n"
     ]
    }
   ],
   "source": [
    "# create or attach an existing compute cluster\n",
    "from azureml.core.compute import ComputeTarget, AmlCompute\n",
    "from azureml.core.compute_target import ComputeTargetException\n",
    "\n",
    "# set name of CPU cluster\n",
    "cpu_cluster_name = \"puru-compute\"\n",
    "\n",
    "# Verify that cluster does not exist already\n",
    "try:\n",
    "    cpu_cluster = ComputeTarget(workspace=ws, name=cpu_cluster_name)\n",
    "    print('Found existing cluster, using it.')\n",
    "except ComputeTargetException:\n",
    "    print('Creating a new compute target...')\n",
    "    compute_config = AmlCompute.provisioning_configuration(vm_size='STANDARD_D2_V2',\n",
    "                                                           max_nodes=4)\n",
    "    cpu_cluster = ComputeTarget.create(ws, cpu_cluster_name, compute_config)\n",
    "\n",
    "# wait for completion\n",
    "cpu_cluster.wait_for_completion(show_output=True)"
   ]
  },
  {
   "cell_type": "code",
   "execution_count": 13,
   "metadata": {},
   "outputs": [],
   "source": [
    "# NOTE: update the key to match the dataset name\n",
    "found = False\n",
    "key = \"diabetes-classification\"\n",
    "description_text = \"Diabetes datasets for capstone project\"\n",
    "\n",
    "if key in ws.datasets.keys(): \n",
    "        found = True        \n",
    "        dataset = ws.datasets[key] \n",
    "\n",
    "if not found:\n",
    "        # Create Hyperdrive Dataset and register it into Workspace\n",
    "        url = 'https://raw.githubusercontent.com/purunep/Capstoneproject/main/project/data/diabetes.csv'\n",
    "        dataset = Dataset.Tabular.from_delimited_files(url)        \n",
    "        #Register Dataset in Workspace\n",
    "        dataset = dataset.register(workspace=ws,\n",
    "                                   name=key,\n",
    "                                   description=description_text)\n",
    "\n",
    "\n",
    "df = dataset.to_pandas_dataframe()\n",
    "df.describe()\n",
    "\n",
    "from train import clean_data\n",
    "[x_data, y_data] = clean_data(dataset)"
   ]
  },
  {
   "cell_type": "code",
   "execution_count": 14,
   "metadata": {},
   "outputs": [
    {
     "data": {
      "text/html": [
       "<div>\n",
       "<style scoped>\n",
       "    .dataframe tbody tr th:only-of-type {\n",
       "        vertical-align: middle;\n",
       "    }\n",
       "\n",
       "    .dataframe tbody tr th {\n",
       "        vertical-align: top;\n",
       "    }\n",
       "\n",
       "    .dataframe thead th {\n",
       "        text-align: right;\n",
       "    }\n",
       "</style>\n",
       "<table border=\"1\" class=\"dataframe\">\n",
       "  <thead>\n",
       "    <tr style=\"text-align: right;\">\n",
       "      <th></th>\n",
       "      <th>Pregnancies</th>\n",
       "      <th>Glucose</th>\n",
       "      <th>BloodPressure</th>\n",
       "      <th>SkinThickness</th>\n",
       "      <th>Insulin</th>\n",
       "      <th>BMI</th>\n",
       "      <th>DiabetesPedigreeFunction</th>\n",
       "      <th>Age</th>\n",
       "      <th>Outcome</th>\n",
       "    </tr>\n",
       "  </thead>\n",
       "  <tbody>\n",
       "    <tr>\n",
       "      <th>0</th>\n",
       "      <td>6</td>\n",
       "      <td>148</td>\n",
       "      <td>72</td>\n",
       "      <td>35</td>\n",
       "      <td>0</td>\n",
       "      <td>33.6</td>\n",
       "      <td>0.627</td>\n",
       "      <td>50</td>\n",
       "      <td>1</td>\n",
       "    </tr>\n",
       "    <tr>\n",
       "      <th>1</th>\n",
       "      <td>1</td>\n",
       "      <td>85</td>\n",
       "      <td>66</td>\n",
       "      <td>29</td>\n",
       "      <td>0</td>\n",
       "      <td>26.6</td>\n",
       "      <td>0.351</td>\n",
       "      <td>31</td>\n",
       "      <td>0</td>\n",
       "    </tr>\n",
       "    <tr>\n",
       "      <th>2</th>\n",
       "      <td>8</td>\n",
       "      <td>183</td>\n",
       "      <td>64</td>\n",
       "      <td>0</td>\n",
       "      <td>0</td>\n",
       "      <td>23.3</td>\n",
       "      <td>0.672</td>\n",
       "      <td>32</td>\n",
       "      <td>1</td>\n",
       "    </tr>\n",
       "    <tr>\n",
       "      <th>3</th>\n",
       "      <td>1</td>\n",
       "      <td>89</td>\n",
       "      <td>66</td>\n",
       "      <td>23</td>\n",
       "      <td>94</td>\n",
       "      <td>28.1</td>\n",
       "      <td>0.167</td>\n",
       "      <td>21</td>\n",
       "      <td>0</td>\n",
       "    </tr>\n",
       "    <tr>\n",
       "      <th>4</th>\n",
       "      <td>0</td>\n",
       "      <td>137</td>\n",
       "      <td>40</td>\n",
       "      <td>35</td>\n",
       "      <td>168</td>\n",
       "      <td>43.1</td>\n",
       "      <td>2.288</td>\n",
       "      <td>33</td>\n",
       "      <td>1</td>\n",
       "    </tr>\n",
       "  </tbody>\n",
       "</table>\n",
       "</div>"
      ],
      "text/plain": [
       "   Pregnancies  Glucose  BloodPressure  SkinThickness  Insulin   BMI  \\\n",
       "0            6      148             72             35        0  33.6   \n",
       "1            1       85             66             29        0  26.6   \n",
       "2            8      183             64              0        0  23.3   \n",
       "3            1       89             66             23       94  28.1   \n",
       "4            0      137             40             35      168  43.1   \n",
       "\n",
       "   DiabetesPedigreeFunction  Age  Outcome  \n",
       "0                     0.627   50        1  \n",
       "1                     0.351   31        0  \n",
       "2                     0.672   32        1  \n",
       "3                     0.167   21        0  \n",
       "4                     2.288   33        1  "
      ]
     },
     "execution_count": 14,
     "metadata": {},
     "output_type": "execute_result"
    }
   ],
   "source": [
    "dataset.to_pandas_dataframe().head()"
   ]
  },
  {
   "cell_type": "code",
   "execution_count": 15,
   "metadata": {},
   "outputs": [
    {
     "data": {
      "text/html": [
       "<div>\n",
       "<style scoped>\n",
       "    .dataframe tbody tr th:only-of-type {\n",
       "        vertical-align: middle;\n",
       "    }\n",
       "\n",
       "    .dataframe tbody tr th {\n",
       "        vertical-align: top;\n",
       "    }\n",
       "\n",
       "    .dataframe thead th {\n",
       "        text-align: right;\n",
       "    }\n",
       "</style>\n",
       "<table border=\"1\" class=\"dataframe\">\n",
       "  <thead>\n",
       "    <tr style=\"text-align: right;\">\n",
       "      <th></th>\n",
       "      <th>Pregnancies</th>\n",
       "      <th>Glucose</th>\n",
       "      <th>BloodPressure</th>\n",
       "      <th>SkinThickness</th>\n",
       "      <th>Insulin</th>\n",
       "      <th>BMI</th>\n",
       "      <th>DiabetesPedigreeFunction</th>\n",
       "      <th>Age</th>\n",
       "      <th>Outcome</th>\n",
       "    </tr>\n",
       "  </thead>\n",
       "  <tbody>\n",
       "    <tr>\n",
       "      <th>count</th>\n",
       "      <td>768.000000</td>\n",
       "      <td>768.000000</td>\n",
       "      <td>768.000000</td>\n",
       "      <td>768.000000</td>\n",
       "      <td>768.000000</td>\n",
       "      <td>768.000000</td>\n",
       "      <td>768.000000</td>\n",
       "      <td>768.000000</td>\n",
       "      <td>768.000000</td>\n",
       "    </tr>\n",
       "    <tr>\n",
       "      <th>mean</th>\n",
       "      <td>3.845052</td>\n",
       "      <td>120.894531</td>\n",
       "      <td>69.105469</td>\n",
       "      <td>20.536458</td>\n",
       "      <td>79.799479</td>\n",
       "      <td>31.992578</td>\n",
       "      <td>0.471876</td>\n",
       "      <td>33.240885</td>\n",
       "      <td>0.348958</td>\n",
       "    </tr>\n",
       "    <tr>\n",
       "      <th>std</th>\n",
       "      <td>3.369578</td>\n",
       "      <td>31.972618</td>\n",
       "      <td>19.355807</td>\n",
       "      <td>15.952218</td>\n",
       "      <td>115.244002</td>\n",
       "      <td>7.884160</td>\n",
       "      <td>0.331329</td>\n",
       "      <td>11.760232</td>\n",
       "      <td>0.476951</td>\n",
       "    </tr>\n",
       "    <tr>\n",
       "      <th>min</th>\n",
       "      <td>0.000000</td>\n",
       "      <td>0.000000</td>\n",
       "      <td>0.000000</td>\n",
       "      <td>0.000000</td>\n",
       "      <td>0.000000</td>\n",
       "      <td>0.000000</td>\n",
       "      <td>0.078000</td>\n",
       "      <td>21.000000</td>\n",
       "      <td>0.000000</td>\n",
       "    </tr>\n",
       "    <tr>\n",
       "      <th>25%</th>\n",
       "      <td>1.000000</td>\n",
       "      <td>99.000000</td>\n",
       "      <td>62.000000</td>\n",
       "      <td>0.000000</td>\n",
       "      <td>0.000000</td>\n",
       "      <td>27.300000</td>\n",
       "      <td>0.243750</td>\n",
       "      <td>24.000000</td>\n",
       "      <td>0.000000</td>\n",
       "    </tr>\n",
       "    <tr>\n",
       "      <th>50%</th>\n",
       "      <td>3.000000</td>\n",
       "      <td>117.000000</td>\n",
       "      <td>72.000000</td>\n",
       "      <td>23.000000</td>\n",
       "      <td>30.500000</td>\n",
       "      <td>32.000000</td>\n",
       "      <td>0.372500</td>\n",
       "      <td>29.000000</td>\n",
       "      <td>0.000000</td>\n",
       "    </tr>\n",
       "    <tr>\n",
       "      <th>75%</th>\n",
       "      <td>6.000000</td>\n",
       "      <td>140.250000</td>\n",
       "      <td>80.000000</td>\n",
       "      <td>32.000000</td>\n",
       "      <td>127.250000</td>\n",
       "      <td>36.600000</td>\n",
       "      <td>0.626250</td>\n",
       "      <td>41.000000</td>\n",
       "      <td>1.000000</td>\n",
       "    </tr>\n",
       "    <tr>\n",
       "      <th>max</th>\n",
       "      <td>17.000000</td>\n",
       "      <td>199.000000</td>\n",
       "      <td>122.000000</td>\n",
       "      <td>99.000000</td>\n",
       "      <td>846.000000</td>\n",
       "      <td>67.100000</td>\n",
       "      <td>2.420000</td>\n",
       "      <td>81.000000</td>\n",
       "      <td>1.000000</td>\n",
       "    </tr>\n",
       "  </tbody>\n",
       "</table>\n",
       "</div>"
      ],
      "text/plain": [
       "       Pregnancies     Glucose  BloodPressure  SkinThickness     Insulin  \\\n",
       "count   768.000000  768.000000     768.000000     768.000000  768.000000   \n",
       "mean      3.845052  120.894531      69.105469      20.536458   79.799479   \n",
       "std       3.369578   31.972618      19.355807      15.952218  115.244002   \n",
       "min       0.000000    0.000000       0.000000       0.000000    0.000000   \n",
       "25%       1.000000   99.000000      62.000000       0.000000    0.000000   \n",
       "50%       3.000000  117.000000      72.000000      23.000000   30.500000   \n",
       "75%       6.000000  140.250000      80.000000      32.000000  127.250000   \n",
       "max      17.000000  199.000000     122.000000      99.000000  846.000000   \n",
       "\n",
       "              BMI  DiabetesPedigreeFunction         Age     Outcome  \n",
       "count  768.000000                768.000000  768.000000  768.000000  \n",
       "mean    31.992578                  0.471876   33.240885    0.348958  \n",
       "std      7.884160                  0.331329   11.760232    0.476951  \n",
       "min      0.000000                  0.078000   21.000000    0.000000  \n",
       "25%     27.300000                  0.243750   24.000000    0.000000  \n",
       "50%     32.000000                  0.372500   29.000000    0.000000  \n",
       "75%     36.600000                  0.626250   41.000000    1.000000  \n",
       "max     67.100000                  2.420000   81.000000    1.000000  "
      ]
     },
     "execution_count": 15,
     "metadata": {},
     "output_type": "execute_result"
    }
   ],
   "source": [
    "df = dataset.to_pandas_dataframe()\n",
    "df.describe()"
   ]
  },
  {
   "cell_type": "code",
   "execution_count": 16,
   "metadata": {},
   "outputs": [
    {
     "data": {
      "text/html": [
       "<div>\n",
       "<style scoped>\n",
       "    .dataframe tbody tr th:only-of-type {\n",
       "        vertical-align: middle;\n",
       "    }\n",
       "\n",
       "    .dataframe tbody tr th {\n",
       "        vertical-align: top;\n",
       "    }\n",
       "\n",
       "    .dataframe thead th {\n",
       "        text-align: right;\n",
       "    }\n",
       "</style>\n",
       "<table border=\"1\" class=\"dataframe\">\n",
       "  <thead>\n",
       "    <tr style=\"text-align: right;\">\n",
       "      <th></th>\n",
       "      <th>Pregnancies</th>\n",
       "      <th>Glucose</th>\n",
       "      <th>BloodPressure</th>\n",
       "      <th>SkinThickness</th>\n",
       "      <th>Insulin</th>\n",
       "      <th>BMI</th>\n",
       "      <th>DiabetesPedigreeFunction</th>\n",
       "      <th>Age</th>\n",
       "      <th>Outcome</th>\n",
       "    </tr>\n",
       "  </thead>\n",
       "  <tbody>\n",
       "    <tr>\n",
       "      <th>603</th>\n",
       "      <td>7</td>\n",
       "      <td>150</td>\n",
       "      <td>78</td>\n",
       "      <td>29</td>\n",
       "      <td>126</td>\n",
       "      <td>35.2</td>\n",
       "      <td>0.692</td>\n",
       "      <td>54</td>\n",
       "      <td>1</td>\n",
       "    </tr>\n",
       "    <tr>\n",
       "      <th>118</th>\n",
       "      <td>4</td>\n",
       "      <td>97</td>\n",
       "      <td>60</td>\n",
       "      <td>23</td>\n",
       "      <td>0</td>\n",
       "      <td>28.2</td>\n",
       "      <td>0.443</td>\n",
       "      <td>22</td>\n",
       "      <td>0</td>\n",
       "    </tr>\n",
       "    <tr>\n",
       "      <th>247</th>\n",
       "      <td>0</td>\n",
       "      <td>165</td>\n",
       "      <td>90</td>\n",
       "      <td>33</td>\n",
       "      <td>680</td>\n",
       "      <td>52.3</td>\n",
       "      <td>0.427</td>\n",
       "      <td>23</td>\n",
       "      <td>0</td>\n",
       "    </tr>\n",
       "    <tr>\n",
       "      <th>157</th>\n",
       "      <td>1</td>\n",
       "      <td>109</td>\n",
       "      <td>56</td>\n",
       "      <td>21</td>\n",
       "      <td>135</td>\n",
       "      <td>25.2</td>\n",
       "      <td>0.833</td>\n",
       "      <td>23</td>\n",
       "      <td>0</td>\n",
       "    </tr>\n",
       "    <tr>\n",
       "      <th>468</th>\n",
       "      <td>8</td>\n",
       "      <td>120</td>\n",
       "      <td>0</td>\n",
       "      <td>0</td>\n",
       "      <td>0</td>\n",
       "      <td>30.0</td>\n",
       "      <td>0.183</td>\n",
       "      <td>38</td>\n",
       "      <td>1</td>\n",
       "    </tr>\n",
       "  </tbody>\n",
       "</table>\n",
       "</div>"
      ],
      "text/plain": [
       "     Pregnancies  Glucose  BloodPressure  SkinThickness  Insulin   BMI  \\\n",
       "603            7      150             78             29      126  35.2   \n",
       "118            4       97             60             23        0  28.2   \n",
       "247            0      165             90             33      680  52.3   \n",
       "157            1      109             56             21      135  25.2   \n",
       "468            8      120              0              0        0  30.0   \n",
       "\n",
       "     DiabetesPedigreeFunction  Age  Outcome  \n",
       "603                     0.692   54        1  \n",
       "118                     0.443   22        0  \n",
       "247                     0.427   23        0  \n",
       "157                     0.833   23        0  \n",
       "468                     0.183   38        1  "
      ]
     },
     "execution_count": 16,
     "metadata": {},
     "output_type": "execute_result"
    }
   ],
   "source": [
    "# prepare dataset for model training\n",
    "#import sys\n",
    "#sys.path.insert(0,./training)\n",
    "\n",
    "from train import clean_data\n",
    "from sklearn.model_selection import train_test_split\n",
    "import pandas as pd\n",
    "\n",
    "# Clean dataset using the clean_data function\n",
    "x, y = clean_data(dataset)\n",
    "\n",
    "# split dataset into train and test sets\n",
    "(x_train, x_test, y_train, y_test) = train_test_split(x, y, test_size= 0.2, random_state = 0)\n",
    "label = 'Outcome'\n",
    "\n",
    "# merge the output x and y dataframes into a single table for AutoML experiment\n",
    "train_data_df = pd.concat([x_train, y_train], axis=1)\n",
    "\n",
    "train_data_df.head()"
   ]
  },
  {
   "cell_type": "code",
   "execution_count": 17,
   "metadata": {},
   "outputs": [
    {
     "name": "stdout",
     "output_type": "stream",
     "text": [
      "Uploading an estimated of 1 files\n",
      "Uploading ./data/train_data.csv\n",
      "Uploaded ./data/train_data.csv, 1 files out of an estimated total of 1\n",
      "Uploaded 1 files\n"
     ]
    }
   ],
   "source": [
    "from azureml.data.dataset_factory import TabularDatasetFactory\n",
    "# save training data in tabular format to allow for remote run\n",
    "if not os.path.isdir('data'):  # create data folder if it does not exist\n",
    "    os.mkdir('data')\n",
    "    \n",
    "if not os.path.exists('project_folder'):  # create project folder if it does not exist\n",
    "    os.makedirs('project_folder')\n",
    "\n",
    "# Save the train data to a csv file to be uploaded to the datastore\n",
    "pd.DataFrame(train_data_df).to_csv(\"data/train_data.csv\", index=False)\n",
    "\n",
    "# Upload the training data as a tabular dataset for access during training on remote compute\n",
    "# upload to data store\n",
    "ds = ws.get_default_datastore()\n",
    "ds.upload(src_dir='./data', target_path='automlclassifier', overwrite=True, show_progress=True)\n",
    "\n",
    " # access datastore during training on remote compute\n",
    "train_data = TabularDatasetFactory.from_delimited_files(path=ds.path('automlclassifier/train_data.csv'))"
   ]
  },
  {
   "cell_type": "markdown",
   "metadata": {},
   "source": [
    "## AutoML Configuration\n",
    "\n",
    "TODO: Explain why you chose the automl settings and cofiguration you used below."
   ]
  },
  {
   "cell_type": "code",
   "execution_count": null,
   "metadata": {
    "gather": {
     "logged": 1598429217746
    },
    "jupyter": {
     "outputs_hidden": false,
     "source_hidden": false
    },
    "nteract": {
     "transient": {
      "deleting": false
     }
    }
   },
   "outputs": [],
   "source": [
    "# TODO: Put your automl settings here\n",
    "automl_settings = {}\n",
    "\n",
    "# TODO: Put your automl config here\n",
    "automl_config = AutoMLConfig()"
   ]
  },
  {
   "cell_type": "code",
   "execution_count": 18,
   "metadata": {},
   "outputs": [],
   "source": [
    "project_folder = './puruautoml'\n",
    "automl_settings = {\n",
    "    \"enable_early_stopping\" : True,\n",
    "    \"iteration_timeout_minutes\": 5,\n",
    "    \"max_concurrent_iterations\": 4,\n",
    "    \"max_cores_per_iteration\": -1,    \n",
    "    \"featurization\": 'auto',\n",
    "    \"verbosity\": logging.INFO,\n",
    "}\n",
    "\n",
    "# define automl autconfig parameters\n",
    "automl_config = AutoMLConfig(\n",
    "    experiment_timeout_minutes=30,\n",
    "    task= 'classification',\n",
    "    primary_metric='accuracy',\n",
    "    enable_onnx_compatible_models=True,\n",
    "    compute_target=cpu_cluster, # included to allow for remote compute\n",
    "    training_data= train_data,\n",
    "    label_column_name= label,\n",
    "    path = project_folder,\n",
    "    n_cross_validations=3,\n",
    "    debug_log = \"automl_errors.log\",    \n",
    "    **automl_settings)"
   ]
  },
  {
   "cell_type": "code",
   "execution_count": 19,
   "metadata": {
    "gather": {
     "logged": 1598431107951
    },
    "jupyter": {
     "outputs_hidden": false,
     "source_hidden": false
    },
    "nteract": {
     "transient": {
      "deleting": false
     }
    }
   },
   "outputs": [
    {
     "name": "stdout",
     "output_type": "stream",
     "text": [
      "Running on remote.\n"
     ]
    }
   ],
   "source": [
    "# TODO: Submit your experiment\n",
    "remote_run = experiment.submit(automl_config)"
   ]
  },
  {
   "cell_type": "markdown",
   "metadata": {},
   "source": [
    "## Run Details\n",
    "\n",
    "OPTIONAL: Write about the different models trained and their performance. Why do you think some models did better than others?\n",
    "\n",
    "TODO: In the cell below, use the `RunDetails` widget to show the different experiments."
   ]
  },
  {
   "cell_type": "code",
   "execution_count": 20,
   "metadata": {
    "gather": {
     "logged": 1598431121770
    },
    "jupyter": {
     "outputs_hidden": false,
     "source_hidden": false
    },
    "nteract": {
     "transient": {
      "deleting": false
     }
    }
   },
   "outputs": [
    {
     "data": {
      "application/vnd.jupyter.widget-view+json": {
       "model_id": "b89a4c567d43412d927cbe9746ac20a3",
       "version_major": 2,
       "version_minor": 0
      },
      "text/plain": [
       "_AutoMLWidget(widget_settings={'childWidgetDisplay': 'popup', 'send_telemetry': False, 'log_level': 'INFO', 's…"
      ]
     },
     "metadata": {},
     "output_type": "display_data"
    },
    {
     "data": {
      "application/aml.mini.widget.v1": "{\"status\": \"Completed\", \"workbench_run_details_uri\": \"https://ml.azure.com/experiments/puru-auto-experiment/runs/AutoML_cf2ad60a-ed5e-41a5-86e3-7e219a593a08?wsid=/subscriptions/9b72f9e6-56c5-4c16-991b-19c652994860/resourcegroups/aml-quickstarts-131799/workspaces/quick-starts-ws-131799\", \"run_id\": \"AutoML_cf2ad60a-ed5e-41a5-86e3-7e219a593a08\", \"run_properties\": {\"run_id\": \"AutoML_cf2ad60a-ed5e-41a5-86e3-7e219a593a08\", \"created_utc\": \"2020-12-26T01:34:19.609296Z\", \"properties\": {\"num_iterations\": \"1000\", \"training_type\": \"TrainFull\", \"acquisition_function\": \"EI\", \"primary_metric\": \"accuracy\", \"train_split\": \"0\", \"acquisition_parameter\": \"0\", \"num_cross_validation\": \"3\", \"target\": \"puru-compute\", \"AMLSettingsJsonString\": \"{\\\"path\\\":null,\\\"name\\\":\\\"puru-auto-experiment\\\",\\\"subscription_id\\\":\\\"9b72f9e6-56c5-4c16-991b-19c652994860\\\",\\\"resource_group\\\":\\\"aml-quickstarts-131799\\\",\\\"workspace_name\\\":\\\"quick-starts-ws-131799\\\",\\\"region\\\":\\\"southcentralus\\\",\\\"compute_target\\\":\\\"puru-compute\\\",\\\"spark_service\\\":null,\\\"azure_service\\\":\\\"remote\\\",\\\"many_models\\\":false,\\\"pipeline_fetch_max_batch_size\\\":1,\\\"iterations\\\":1000,\\\"primary_metric\\\":\\\"accuracy\\\",\\\"task_type\\\":\\\"classification\\\",\\\"data_script\\\":null,\\\"validation_size\\\":0.0,\\\"n_cross_validations\\\":3,\\\"y_min\\\":null,\\\"y_max\\\":null,\\\"num_classes\\\":null,\\\"featurization\\\":\\\"auto\\\",\\\"_ignore_package_version_incompatibilities\\\":false,\\\"is_timeseries\\\":false,\\\"max_cores_per_iteration\\\":-1,\\\"max_concurrent_iterations\\\":4,\\\"iteration_timeout_minutes\\\":5,\\\"mem_in_mb\\\":null,\\\"enforce_time_on_windows\\\":false,\\\"experiment_timeout_minutes\\\":30,\\\"experiment_exit_score\\\":null,\\\"whitelist_models\\\":null,\\\"blacklist_algos\\\":[\\\"TensorFlowLinearClassifier\\\",\\\"TensorFlowDNN\\\"],\\\"supported_models\\\":[\\\"DecisionTree\\\",\\\"AveragedPerceptronClassifier\\\",\\\"SGD\\\",\\\"KNN\\\",\\\"BernoulliNaiveBayes\\\",\\\"ExtremeRandomTrees\\\",\\\"LinearSVM\\\",\\\"LightGBM\\\",\\\"TensorFlowDNN\\\",\\\"TensorFlowLinearClassifier\\\",\\\"SVM\\\",\\\"GradientBoosting\\\",\\\"LogisticRegression\\\",\\\"MultinomialNaiveBayes\\\",\\\"RandomForest\\\",\\\"XGBoostClassifier\\\"],\\\"auto_blacklist\\\":true,\\\"blacklist_samples_reached\\\":false,\\\"exclude_nan_labels\\\":true,\\\"verbosity\\\":20,\\\"_debug_log\\\":\\\"azureml_automl.log\\\",\\\"show_warnings\\\":false,\\\"model_explainability\\\":true,\\\"service_url\\\":null,\\\"sdk_url\\\":null,\\\"sdk_packages\\\":null,\\\"enable_onnx_compatible_models\\\":true,\\\"enable_split_onnx_featurizer_estimator_models\\\":false,\\\"vm_type\\\":\\\"STANDARD_DS3_V2\\\",\\\"telemetry_verbosity\\\":20,\\\"send_telemetry\\\":true,\\\"enable_dnn\\\":false,\\\"scenario\\\":\\\"SDK-1.13.0\\\",\\\"environment_label\\\":null,\\\"force_text_dnn\\\":false,\\\"enable_feature_sweeping\\\":false,\\\"enable_early_stopping\\\":true,\\\"early_stopping_n_iters\\\":10,\\\"metrics\\\":null,\\\"enable_ensembling\\\":true,\\\"enable_stack_ensembling\\\":false,\\\"ensemble_iterations\\\":15,\\\"enable_tf\\\":false,\\\"enable_subsampling\\\":null,\\\"subsample_seed\\\":null,\\\"enable_nimbusml\\\":false,\\\"enable_streaming\\\":false,\\\"force_streaming\\\":false,\\\"track_child_runs\\\":true,\\\"allowed_private_models\\\":[],\\\"label_column_name\\\":\\\"Outcome\\\",\\\"weight_column_name\\\":null,\\\"cv_split_column_names\\\":null,\\\"enable_local_managed\\\":false,\\\"_local_managed_run_id\\\":null,\\\"cost_mode\\\":1,\\\"lag_length\\\":0,\\\"metric_operation\\\":\\\"maximize\\\",\\\"preprocess\\\":true}\", \"DataPrepJsonString\": \"{\\\\\\\"training_data\\\\\\\": \\\\\\\"{\\\\\\\\\\\\\\\"blocks\\\\\\\\\\\\\\\": [{\\\\\\\\\\\\\\\"id\\\\\\\\\\\\\\\": \\\\\\\\\\\\\\\"a4af40be-0acb-4555-93ca-2a156863d223\\\\\\\\\\\\\\\", \\\\\\\\\\\\\\\"type\\\\\\\\\\\\\\\": \\\\\\\\\\\\\\\"Microsoft.DPrep.GetDatastoreFilesBlock\\\\\\\\\\\\\\\", \\\\\\\\\\\\\\\"arguments\\\\\\\\\\\\\\\": {\\\\\\\\\\\\\\\"datastores\\\\\\\\\\\\\\\": [{\\\\\\\\\\\\\\\"datastoreName\\\\\\\\\\\\\\\": \\\\\\\\\\\\\\\"workspaceblobstore\\\\\\\\\\\\\\\", \\\\\\\\\\\\\\\"path\\\\\\\\\\\\\\\": \\\\\\\\\\\\\\\"automlclassifier/train_data.csv\\\\\\\\\\\\\\\", \\\\\\\\\\\\\\\"resourceGroup\\\\\\\\\\\\\\\": \\\\\\\\\\\\\\\"aml-quickstarts-131799\\\\\\\\\\\\\\\", \\\\\\\\\\\\\\\"subscription\\\\\\\\\\\\\\\": \\\\\\\\\\\\\\\"9b72f9e6-56c5-4c16-991b-19c652994860\\\\\\\\\\\\\\\", \\\\\\\\\\\\\\\"workspaceName\\\\\\\\\\\\\\\": \\\\\\\\\\\\\\\"quick-starts-ws-131799\\\\\\\\\\\\\\\"}]}, \\\\\\\\\\\\\\\"localData\\\\\\\\\\\\\\\": {}, \\\\\\\\\\\\\\\"isEnabled\\\\\\\\\\\\\\\": true, \\\\\\\\\\\\\\\"name\\\\\\\\\\\\\\\": null, \\\\\\\\\\\\\\\"annotation\\\\\\\\\\\\\\\": null}, {\\\\\\\\\\\\\\\"id\\\\\\\\\\\\\\\": \\\\\\\\\\\\\\\"cc6ef54b-c84a-4a62-98e7-1a8565e1f203\\\\\\\\\\\\\\\", \\\\\\\\\\\\\\\"type\\\\\\\\\\\\\\\": \\\\\\\\\\\\\\\"Microsoft.DPrep.ParseDelimitedBlock\\\\\\\\\\\\\\\", \\\\\\\\\\\\\\\"arguments\\\\\\\\\\\\\\\": {\\\\\\\\\\\\\\\"columnHeadersMode\\\\\\\\\\\\\\\": 3, \\\\\\\\\\\\\\\"fileEncoding\\\\\\\\\\\\\\\": 0, \\\\\\\\\\\\\\\"handleQuotedLineBreaks\\\\\\\\\\\\\\\": false, \\\\\\\\\\\\\\\"preview\\\\\\\\\\\\\\\": false, \\\\\\\\\\\\\\\"separator\\\\\\\\\\\\\\\": \\\\\\\\\\\\\\\",\\\\\\\\\\\\\\\", \\\\\\\\\\\\\\\"skipRows\\\\\\\\\\\\\\\": 0, \\\\\\\\\\\\\\\"skipRowsMode\\\\\\\\\\\\\\\": 0}, \\\\\\\\\\\\\\\"localData\\\\\\\\\\\\\\\": {}, \\\\\\\\\\\\\\\"isEnabled\\\\\\\\\\\\\\\": true, \\\\\\\\\\\\\\\"name\\\\\\\\\\\\\\\": null, \\\\\\\\\\\\\\\"annotation\\\\\\\\\\\\\\\": null}, {\\\\\\\\\\\\\\\"id\\\\\\\\\\\\\\\": \\\\\\\\\\\\\\\"3e7995f7-7b9f-4342-8d11-e646aa7f7386\\\\\\\\\\\\\\\", \\\\\\\\\\\\\\\"type\\\\\\\\\\\\\\\": \\\\\\\\\\\\\\\"Microsoft.DPrep.DropColumnsBlock\\\\\\\\\\\\\\\", \\\\\\\\\\\\\\\"arguments\\\\\\\\\\\\\\\": {\\\\\\\\\\\\\\\"columns\\\\\\\\\\\\\\\": {\\\\\\\\\\\\\\\"type\\\\\\\\\\\\\\\": 0, \\\\\\\\\\\\\\\"details\\\\\\\\\\\\\\\": {\\\\\\\\\\\\\\\"selectedColumns\\\\\\\\\\\\\\\": [\\\\\\\\\\\\\\\"Path\\\\\\\\\\\\\\\"]}}}, \\\\\\\\\\\\\\\"localData\\\\\\\\\\\\\\\": {}, \\\\\\\\\\\\\\\"isEnabled\\\\\\\\\\\\\\\": true, \\\\\\\\\\\\\\\"name\\\\\\\\\\\\\\\": null, \\\\\\\\\\\\\\\"annotation\\\\\\\\\\\\\\\": null}, {\\\\\\\\\\\\\\\"id\\\\\\\\\\\\\\\": \\\\\\\\\\\\\\\"cd6afdc8-a7c9-4a59-b122-23fc9e35372a\\\\\\\\\\\\\\\", \\\\\\\\\\\\\\\"type\\\\\\\\\\\\\\\": \\\\\\\\\\\\\\\"Microsoft.DPrep.SetColumnTypesBlock\\\\\\\\\\\\\\\", \\\\\\\\\\\\\\\"arguments\\\\\\\\\\\\\\\": {\\\\\\\\\\\\\\\"columnConversion\\\\\\\\\\\\\\\": [{\\\\\\\\\\\\\\\"column\\\\\\\\\\\\\\\": {\\\\\\\\\\\\\\\"type\\\\\\\\\\\\\\\": 2, \\\\\\\\\\\\\\\"details\\\\\\\\\\\\\\\": {\\\\\\\\\\\\\\\"selectedColumn\\\\\\\\\\\\\\\": \\\\\\\\\\\\\\\"Pregnancies\\\\\\\\\\\\\\\"}}, \\\\\\\\\\\\\\\"typeProperty\\\\\\\\\\\\\\\": 2}, {\\\\\\\\\\\\\\\"column\\\\\\\\\\\\\\\": {\\\\\\\\\\\\\\\"type\\\\\\\\\\\\\\\": 2, \\\\\\\\\\\\\\\"details\\\\\\\\\\\\\\\": {\\\\\\\\\\\\\\\"selectedColumn\\\\\\\\\\\\\\\": \\\\\\\\\\\\\\\"Glucose\\\\\\\\\\\\\\\"}}, \\\\\\\\\\\\\\\"typeProperty\\\\\\\\\\\\\\\": 2}, {\\\\\\\\\\\\\\\"column\\\\\\\\\\\\\\\": {\\\\\\\\\\\\\\\"type\\\\\\\\\\\\\\\": 2, \\\\\\\\\\\\\\\"details\\\\\\\\\\\\\\\": {\\\\\\\\\\\\\\\"selectedColumn\\\\\\\\\\\\\\\": \\\\\\\\\\\\\\\"BloodPressure\\\\\\\\\\\\\\\"}}, \\\\\\\\\\\\\\\"typeProperty\\\\\\\\\\\\\\\": 2}, {\\\\\\\\\\\\\\\"column\\\\\\\\\\\\\\\": {\\\\\\\\\\\\\\\"type\\\\\\\\\\\\\\\": 2, \\\\\\\\\\\\\\\"details\\\\\\\\\\\\\\\": {\\\\\\\\\\\\\\\"selectedColumn\\\\\\\\\\\\\\\": \\\\\\\\\\\\\\\"SkinThickness\\\\\\\\\\\\\\\"}}, \\\\\\\\\\\\\\\"typeProperty\\\\\\\\\\\\\\\": 2}, {\\\\\\\\\\\\\\\"column\\\\\\\\\\\\\\\": {\\\\\\\\\\\\\\\"type\\\\\\\\\\\\\\\": 2, \\\\\\\\\\\\\\\"details\\\\\\\\\\\\\\\": {\\\\\\\\\\\\\\\"selectedColumn\\\\\\\\\\\\\\\": \\\\\\\\\\\\\\\"Insulin\\\\\\\\\\\\\\\"}}, \\\\\\\\\\\\\\\"typeProperty\\\\\\\\\\\\\\\": 2}, {\\\\\\\\\\\\\\\"column\\\\\\\\\\\\\\\": {\\\\\\\\\\\\\\\"type\\\\\\\\\\\\\\\": 2, \\\\\\\\\\\\\\\"details\\\\\\\\\\\\\\\": {\\\\\\\\\\\\\\\"selectedColumn\\\\\\\\\\\\\\\": \\\\\\\\\\\\\\\"BMI\\\\\\\\\\\\\\\"}}, \\\\\\\\\\\\\\\"typeProperty\\\\\\\\\\\\\\\": 3}, {\\\\\\\\\\\\\\\"column\\\\\\\\\\\\\\\": {\\\\\\\\\\\\\\\"type\\\\\\\\\\\\\\\": 2, \\\\\\\\\\\\\\\"details\\\\\\\\\\\\\\\": {\\\\\\\\\\\\\\\"selectedColumn\\\\\\\\\\\\\\\": \\\\\\\\\\\\\\\"DiabetesPedigreeFunction\\\\\\\\\\\\\\\"}}, \\\\\\\\\\\\\\\"typeProperty\\\\\\\\\\\\\\\": 3}, {\\\\\\\\\\\\\\\"column\\\\\\\\\\\\\\\": {\\\\\\\\\\\\\\\"type\\\\\\\\\\\\\\\": 2, \\\\\\\\\\\\\\\"details\\\\\\\\\\\\\\\": {\\\\\\\\\\\\\\\"selectedColumn\\\\\\\\\\\\\\\": \\\\\\\\\\\\\\\"Age\\\\\\\\\\\\\\\"}}, \\\\\\\\\\\\\\\"typeProperty\\\\\\\\\\\\\\\": 2}, {\\\\\\\\\\\\\\\"column\\\\\\\\\\\\\\\": {\\\\\\\\\\\\\\\"type\\\\\\\\\\\\\\\": 2, \\\\\\\\\\\\\\\"details\\\\\\\\\\\\\\\": {\\\\\\\\\\\\\\\"selectedColumn\\\\\\\\\\\\\\\": \\\\\\\\\\\\\\\"Outcome\\\\\\\\\\\\\\\"}}, \\\\\\\\\\\\\\\"typeProperty\\\\\\\\\\\\\\\": 2}]}, \\\\\\\\\\\\\\\"localData\\\\\\\\\\\\\\\": {}, \\\\\\\\\\\\\\\"isEnabled\\\\\\\\\\\\\\\": true, \\\\\\\\\\\\\\\"name\\\\\\\\\\\\\\\": null, \\\\\\\\\\\\\\\"annotation\\\\\\\\\\\\\\\": null}], \\\\\\\\\\\\\\\"inspectors\\\\\\\\\\\\\\\": [], \\\\\\\\\\\\\\\"meta\\\\\\\\\\\\\\\": {\\\\\\\\\\\\\\\"savedDatasetId\\\\\\\\\\\\\\\": \\\\\\\\\\\\\\\"c3c9e660-a2bc-4d0b-a2da-7573d3968c8b\\\\\\\\\\\\\\\", \\\\\\\\\\\\\\\"datasetType\\\\\\\\\\\\\\\": \\\\\\\\\\\\\\\"tabular\\\\\\\\\\\\\\\", \\\\\\\\\\\\\\\"subscriptionId\\\\\\\\\\\\\\\": \\\\\\\\\\\\\\\"9b72f9e6-56c5-4c16-991b-19c652994860\\\\\\\\\\\\\\\", \\\\\\\\\\\\\\\"workspaceId\\\\\\\\\\\\\\\": \\\\\\\\\\\\\\\"2d76a167-fd39-489c-acc3-ca9df45e3bea\\\\\\\\\\\\\\\", \\\\\\\\\\\\\\\"workspaceLocation\\\\\\\\\\\\\\\": \\\\\\\\\\\\\\\"southcentralus\\\\\\\\\\\\\\\"}}\\\\\\\", \\\\\\\"activities\\\\\\\": 0}\", \"EnableSubsampling\": null, \"runTemplate\": \"AutoML\", \"azureml.runsource\": \"automl\", \"display_task_type\": \"classification\", \"dependencies_versions\": \"{\\\"azureml-widgets\\\": \\\"1.19.0\\\", \\\"azureml-train\\\": \\\"1.19.0\\\", \\\"azureml-train-restclients-hyperdrive\\\": \\\"1.19.0\\\", \\\"azureml-train-core\\\": \\\"1.19.0\\\", \\\"azureml-train-automl\\\": \\\"1.19.0\\\", \\\"azureml-train-automl-runtime\\\": \\\"1.19.0\\\", \\\"azureml-train-automl-client\\\": \\\"1.19.0\\\", \\\"azureml-tensorboard\\\": \\\"1.19.0\\\", \\\"azureml-telemetry\\\": \\\"1.19.0\\\", \\\"azureml-sdk\\\": \\\"1.19.0\\\", \\\"azureml-samples\\\": \\\"0+unknown\\\", \\\"azureml-pipeline\\\": \\\"1.19.0\\\", \\\"azureml-pipeline-steps\\\": \\\"1.19.0\\\", \\\"azureml-pipeline-core\\\": \\\"1.19.0\\\", \\\"azureml-opendatasets\\\": \\\"1.19.0\\\", \\\"azureml-model-management-sdk\\\": \\\"1.0.1b6.post1\\\", \\\"azureml-mlflow\\\": \\\"1.19.0\\\", \\\"azureml-interpret\\\": \\\"1.19.0\\\", \\\"azureml-explain-model\\\": \\\"1.19.0\\\", \\\"azureml-defaults\\\": \\\"1.19.0\\\", \\\"azureml-dataset-runtime\\\": \\\"1.19.0\\\", \\\"azureml-dataprep\\\": \\\"2.6.1\\\", \\\"azureml-dataprep-rslex\\\": \\\"1.4.0\\\", \\\"azureml-dataprep-native\\\": \\\"26.0.0\\\", \\\"azureml-datadrift\\\": \\\"1.19.0\\\", \\\"azureml-core\\\": \\\"1.19.0\\\", \\\"azureml-contrib-services\\\": \\\"1.19.0\\\", \\\"azureml-contrib-server\\\": \\\"1.19.0\\\", \\\"azureml-contrib-reinforcementlearning\\\": \\\"1.19.0\\\", \\\"azureml-contrib-pipeline-steps\\\": \\\"1.19.0\\\", \\\"azureml-contrib-notebook\\\": \\\"1.19.0\\\", \\\"azureml-contrib-interpret\\\": \\\"1.19.0\\\", \\\"azureml-contrib-gbdt\\\": \\\"1.19.0\\\", \\\"azureml-contrib-fairness\\\": \\\"1.19.0\\\", \\\"azureml-contrib-dataset\\\": \\\"1.19.0\\\", \\\"azureml-cli-common\\\": \\\"1.19.0\\\", \\\"azureml-automl-runtime\\\": \\\"1.19.0\\\", \\\"azureml-automl-core\\\": \\\"1.19.0\\\", \\\"azureml-accel-models\\\": \\\"1.19.0\\\"}\", \"_aml_system_scenario_identification\": \"Remote.Parent\", \"ClientType\": \"SDK\", \"environment_cpu_name\": \"AzureML-AutoML\", \"environment_cpu_label\": \"prod\", \"environment_gpu_name\": \"AzureML-AutoML-GPU\", \"environment_gpu_label\": \"prod\", \"root_attribution\": \"automl\", \"attribution\": \"AutoML\", \"Orchestrator\": \"AutoML\", \"CancelUri\": \"https://southcentralus.experiments.azureml.net/jasmine/v1.0/subscriptions/9b72f9e6-56c5-4c16-991b-19c652994860/resourceGroups/aml-quickstarts-131799/providers/Microsoft.MachineLearningServices/workspaces/quick-starts-ws-131799/experimentids/d2b09386-6ecb-40ff-b57e-1b605b1f8c3c/cancel/AutoML_cf2ad60a-ed5e-41a5-86e3-7e219a593a08\", \"ClientSdkVersion\": \"1.19.0\", \"snapshotId\": \"00000000-0000-0000-0000-000000000000\", \"SetupRunId\": \"AutoML_cf2ad60a-ed5e-41a5-86e3-7e219a593a08_setup\", \"SetupRunContainerId\": \"dcid.AutoML_cf2ad60a-ed5e-41a5-86e3-7e219a593a08_setup\", \"FeaturizationRunJsonPath\": \"featurizer_container.json\", \"FeaturizationRunId\": \"AutoML_cf2ad60a-ed5e-41a5-86e3-7e219a593a08_featurize\", \"ProblemInfoJsonString\": \"{\\\"dataset_num_categorical\\\": 0, \\\"is_sparse\\\": false, \\\"subsampling\\\": false, \\\"dataset_classes\\\": 2, \\\"dataset_features\\\": 8, \\\"dataset_samples\\\": 614, \\\"single_frequency_class_detected\\\": false}\", \"ModelExplainRunId\": \"AutoML_cf2ad60a-ed5e-41a5-86e3-7e219a593a08_ModelExplain\"}, \"tags\": {\"model_explain_run\": \"best_run\", \"_aml_system_azureml.automlComponent\": \"AutoML\", \"pipeline_id\": \"\", \"score\": \"\", \"predicted_cost\": \"\", \"fit_time\": \"\", \"training_percent\": \"\", \"iteration\": \"\", \"run_preprocessor\": \"\", \"run_algorithm\": \"\", \"dynamic_whitelisting_iterations\": \"<25>;<30>;<34>;<40>;\", \"automl_best_child_run_id\": \"AutoML_cf2ad60a-ed5e-41a5-86e3-7e219a593a08_43\", \"model_explain_best_run_child_id\": \"AutoML_cf2ad60a-ed5e-41a5-86e3-7e219a593a08_43\"}, \"end_time_utc\": \"2020-12-26T01:54:03.750359Z\", \"status\": \"Completed\", \"log_files\": {}, \"log_groups\": [], \"run_duration\": \"0:19:44\"}, \"child_runs\": [{\"run_id\": \"AutoML_cf2ad60a-ed5e-41a5-86e3-7e219a593a08_1\", \"run_number\": 5, \"metric\": null, \"status\": \"Completed\", \"run_type\": \"azureml.scriptrun\", \"training_percent\": \"100\", \"start_time\": \"2020-12-26T01:39:03.41929Z\", \"end_time\": \"2020-12-26T01:39:56.939611Z\", \"created_time\": \"2020-12-26T01:38:52.470089Z\", \"created_time_dt\": \"2020-12-26T01:38:52.470089Z\", \"duration\": \"0:01:04\", \"iteration\": \"1\", \"goal\": \"accuracy_max\", \"run_name\": \"MaxAbsScaler, XGBoostClassifier\", \"run_properties\": \"copy=True\", \"primary_metric\": 0.74430894, \"best_metric\": 0.74595887}, {\"run_id\": \"AutoML_cf2ad60a-ed5e-41a5-86e3-7e219a593a08_2\", \"run_number\": 6, \"metric\": null, \"status\": \"Completed\", \"run_type\": \"azureml.scriptrun\", \"training_percent\": \"100\", \"start_time\": \"2020-12-26T01:39:03.743713Z\", \"end_time\": \"2020-12-26T01:40:03.164654Z\", \"created_time\": \"2020-12-26T01:38:52.488261Z\", \"created_time_dt\": \"2020-12-26T01:38:52.488261Z\", \"duration\": \"0:01:10\", \"iteration\": \"2\", \"goal\": \"accuracy_max\", \"run_name\": \"MinMaxScaler, RandomForest\", \"run_properties\": \"copy=True, feature_range=(0, 1\", \"primary_metric\": 0.72800096, \"best_metric\": 0.74595887}, {\"run_id\": \"AutoML_cf2ad60a-ed5e-41a5-86e3-7e219a593a08_3\", \"run_number\": 7, \"metric\": null, \"status\": \"Completed\", \"run_type\": \"azureml.scriptrun\", \"training_percent\": \"100\", \"start_time\": \"2020-12-26T01:39:04.26104Z\", \"end_time\": \"2020-12-26T01:39:58.170528Z\", \"created_time\": \"2020-12-26T01:38:52.486085Z\", \"created_time_dt\": \"2020-12-26T01:38:52.486085Z\", \"duration\": \"0:01:05\", \"iteration\": \"3\", \"goal\": \"accuracy_max\", \"run_name\": \"MinMaxScaler, RandomForest\", \"run_properties\": \"copy=True, feature_range=(0, 1\", \"primary_metric\": 0.72474095, \"best_metric\": 0.74595887}, {\"run_id\": \"AutoML_cf2ad60a-ed5e-41a5-86e3-7e219a593a08_0\", \"run_number\": 8, \"metric\": null, \"status\": \"Completed\", \"run_type\": \"azureml.scriptrun\", \"training_percent\": \"100\", \"start_time\": \"2020-12-26T01:39:03.39757Z\", \"end_time\": \"2020-12-26T01:40:06.350884Z\", \"created_time\": \"2020-12-26T01:38:52.671949Z\", \"created_time_dt\": \"2020-12-26T01:38:52.671949Z\", \"duration\": \"0:01:13\", \"iteration\": \"0\", \"goal\": \"accuracy_max\", \"run_name\": \"MaxAbsScaler, LightGBM\", \"run_properties\": \"copy=True\", \"primary_metric\": 0.74595887, \"best_metric\": 0.74595887}, {\"run_id\": \"AutoML_cf2ad60a-ed5e-41a5-86e3-7e219a593a08_4\", \"run_number\": 9, \"metric\": null, \"status\": \"Completed\", \"run_type\": \"azureml.scriptrun\", \"training_percent\": \"100\", \"start_time\": \"2020-12-26T01:40:13.459049Z\", \"end_time\": \"2020-12-26T01:41:08.197207Z\", \"created_time\": \"2020-12-26T01:39:58.635338Z\", \"created_time_dt\": \"2020-12-26T01:39:58.635338Z\", \"duration\": \"0:01:09\", \"iteration\": \"4\", \"goal\": \"accuracy_max\", \"run_name\": \"MinMaxScaler, RandomForest\", \"run_properties\": \"copy=True, feature_range=(0, 1\", \"primary_metric\": 0.72970668, \"best_metric\": 0.74595887}, {\"run_id\": \"AutoML_cf2ad60a-ed5e-41a5-86e3-7e219a593a08_5\", \"run_number\": 10, \"metric\": null, \"status\": \"Completed\", \"run_type\": \"azureml.scriptrun\", \"training_percent\": \"100\", \"start_time\": \"2020-12-26T01:40:16.918861Z\", \"end_time\": \"2020-12-26T01:41:16.385687Z\", \"created_time\": \"2020-12-26T01:40:05.760254Z\", \"created_time_dt\": \"2020-12-26T01:40:05.760254Z\", \"duration\": \"0:01:10\", \"iteration\": \"5\", \"goal\": \"accuracy_max\", \"run_name\": \"StandardScalerWrapper, XGBoostClassifier\", \"run_properties\": \"<azureml.automl.runtime.shared.model_wrappers.StandardScalerWrapper object at 0x7fb808c34208\", \"primary_metric\": 0.72802487, \"best_metric\": 0.74595887}, {\"run_id\": \"AutoML_cf2ad60a-ed5e-41a5-86e3-7e219a593a08_7\", \"run_number\": 11, \"metric\": null, \"status\": \"Completed\", \"run_type\": \"azureml.scriptrun\", \"training_percent\": \"100\", \"start_time\": \"2020-12-26T01:40:24.657955Z\", \"end_time\": \"2020-12-26T01:41:53.712032Z\", \"created_time\": \"2020-12-26T01:40:10.721859Z\", \"created_time_dt\": \"2020-12-26T01:40:10.721859Z\", \"duration\": \"0:01:42\", \"iteration\": \"7\", \"goal\": \"accuracy_max\", \"run_name\": \"MinMaxScaler, SVM\", \"run_properties\": \"copy=True, feature_range=(0, 1\", \"primary_metric\": 0.68401881, \"best_metric\": 0.74595887}, {\"run_id\": \"AutoML_cf2ad60a-ed5e-41a5-86e3-7e219a593a08_6\", \"run_number\": 12, \"metric\": null, \"status\": \"Completed\", \"run_type\": \"azureml.scriptrun\", \"training_percent\": \"100\", \"start_time\": \"2020-12-26T01:40:24.28328Z\", \"end_time\": \"2020-12-26T01:41:55.221406Z\", \"created_time\": \"2020-12-26T01:40:10.721539Z\", \"created_time_dt\": \"2020-12-26T01:40:10.721539Z\", \"duration\": \"0:01:44\", \"iteration\": \"6\", \"goal\": \"accuracy_max\", \"run_name\": \"MinMaxScaler, SVM\", \"run_properties\": \"copy=True, feature_range=(0, 1\", \"primary_metric\": 0.71171688, \"best_metric\": 0.74595887}, {\"run_id\": \"AutoML_cf2ad60a-ed5e-41a5-86e3-7e219a593a08_8\", \"run_number\": 13, \"metric\": null, \"status\": \"Completed\", \"run_type\": \"azureml.scriptrun\", \"training_percent\": \"100\", \"start_time\": \"2020-12-26T01:41:28.335722Z\", \"end_time\": \"2020-12-26T01:42:26.603895Z\", \"created_time\": \"2020-12-26T01:41:10.196582Z\", \"created_time_dt\": \"2020-12-26T01:41:10.196582Z\", \"duration\": \"0:01:16\", \"iteration\": \"8\", \"goal\": \"accuracy_max\", \"run_name\": \"SparseNormalizer, XGBoostClassifier\", \"run_properties\": \"<azureml.automl.runtime.shared.model_wrappers.SparseNormalizer object at 0x7f77f91dd668\", \"primary_metric\": 0.66937669, \"best_metric\": 0.74595887}, {\"run_id\": \"AutoML_cf2ad60a-ed5e-41a5-86e3-7e219a593a08_9\", \"run_number\": 14, \"metric\": null, \"status\": \"Completed\", \"run_type\": \"azureml.scriptrun\", \"training_percent\": \"100\", \"start_time\": \"2020-12-26T01:41:30.350935Z\", \"end_time\": \"2020-12-26T01:42:24.332616Z\", \"created_time\": \"2020-12-26T01:41:18.36975Z\", \"created_time_dt\": \"2020-12-26T01:41:18.36975Z\", \"duration\": \"0:01:05\", \"iteration\": \"9\", \"goal\": \"accuracy_max\", \"run_name\": \"SparseNormalizer, LightGBM\", \"run_properties\": \"<azureml.automl.runtime.shared.model_wrappers.SparseNormalizer object at 0x7fdc86464cc0\", \"primary_metric\": 0.66777459, \"best_metric\": 0.74595887}, {\"run_id\": \"AutoML_cf2ad60a-ed5e-41a5-86e3-7e219a593a08_10\", \"run_number\": 15, \"metric\": null, \"status\": \"Completed\", \"run_type\": \"azureml.scriptrun\", \"training_percent\": \"100\", \"start_time\": \"2020-12-26T01:42:08.447654Z\", \"end_time\": \"2020-12-26T01:43:12.411323Z\", \"created_time\": \"2020-12-26T01:41:55.87809Z\", \"created_time_dt\": \"2020-12-26T01:41:55.87809Z\", \"duration\": \"0:01:16\", \"iteration\": \"10\", \"goal\": \"accuracy_max\", \"run_name\": \"SparseNormalizer, XGBoostClassifier\", \"run_properties\": \"<azureml.automl.runtime.shared.model_wrappers.SparseNormalizer object at 0x7f42f3ffda90\", \"primary_metric\": 0.66767097, \"best_metric\": 0.74595887}, {\"run_id\": \"AutoML_cf2ad60a-ed5e-41a5-86e3-7e219a593a08_11\", \"run_number\": 16, \"metric\": null, \"status\": \"Completed\", \"run_type\": \"azureml.scriptrun\", \"training_percent\": \"100\", \"start_time\": \"2020-12-26T01:42:13.61423Z\", \"end_time\": \"2020-12-26T01:43:13.247899Z\", \"created_time\": \"2020-12-26T01:42:02.706403Z\", \"created_time_dt\": \"2020-12-26T01:42:02.706403Z\", \"duration\": \"0:01:10\", \"iteration\": \"11\", \"goal\": \"accuracy_max\", \"run_name\": \"MaxAbsScaler, GradientBoosting\", \"run_properties\": \"copy=True\", \"primary_metric\": 0.75571497, \"best_metric\": 0.75571497}, {\"run_id\": \"AutoML_cf2ad60a-ed5e-41a5-86e3-7e219a593a08_12\", \"run_number\": 17, \"metric\": null, \"status\": \"Completed\", \"run_type\": \"azureml.scriptrun\", \"training_percent\": \"100\", \"start_time\": \"2020-12-26T01:42:39.127604Z\", \"end_time\": \"2020-12-26T01:43:39.52994Z\", \"created_time\": \"2020-12-26T01:42:26.954824Z\", \"created_time_dt\": \"2020-12-26T01:42:26.954824Z\", \"duration\": \"0:01:12\", \"iteration\": \"12\", \"goal\": \"accuracy_max\", \"run_name\": \"StandardScalerWrapper, LightGBM\", \"run_properties\": \"<azureml.automl.runtime.shared.model_wrappers.StandardScalerWrapper object at 0x7f217807fc50\", \"primary_metric\": 0.7426909, \"best_metric\": 0.75571497}, {\"run_id\": \"AutoML_cf2ad60a-ed5e-41a5-86e3-7e219a593a08_13\", \"run_number\": 18, \"metric\": null, \"status\": \"Completed\", \"run_type\": \"azureml.scriptrun\", \"training_percent\": \"100\", \"start_time\": \"2020-12-26T01:42:49.202034Z\", \"end_time\": \"2020-12-26T01:43:40.899587Z\", \"created_time\": \"2020-12-26T01:42:36.060259Z\", \"created_time_dt\": \"2020-12-26T01:42:36.060259Z\", \"duration\": \"0:01:04\", \"iteration\": \"13\", \"goal\": \"accuracy_max\", \"run_name\": \"MaxAbsScaler, LightGBM\", \"run_properties\": \"copy=True\", \"primary_metric\": 0.73287901, \"best_metric\": 0.75571497}, {\"run_id\": \"AutoML_cf2ad60a-ed5e-41a5-86e3-7e219a593a08_14\", \"run_number\": 19, \"metric\": null, \"status\": \"Completed\", \"run_type\": \"azureml.scriptrun\", \"training_percent\": \"100\", \"start_time\": \"2020-12-26T01:43:24.973121Z\", \"end_time\": \"2020-12-26T01:44:27.779151Z\", \"created_time\": \"2020-12-26T01:43:14.553587Z\", \"created_time_dt\": \"2020-12-26T01:43:14.553587Z\", \"duration\": \"0:01:13\", \"iteration\": \"14\", \"goal\": \"accuracy_max\", \"run_name\": \"MaxAbsScaler, ExtremeRandomTrees\", \"run_properties\": \"copy=True\", \"primary_metric\": 0.74426909, \"best_metric\": 0.75571497}, {\"run_id\": \"AutoML_cf2ad60a-ed5e-41a5-86e3-7e219a593a08_15\", \"run_number\": 20, \"metric\": null, \"status\": \"Completed\", \"run_type\": \"azureml.scriptrun\", \"training_percent\": \"100\", \"start_time\": \"2020-12-26T01:43:30.905035Z\", \"end_time\": \"2020-12-26T01:44:23.322967Z\", \"created_time\": \"2020-12-26T01:43:18.115987Z\", \"created_time_dt\": \"2020-12-26T01:43:18.115987Z\", \"duration\": \"0:01:05\", \"iteration\": \"15\", \"goal\": \"accuracy_max\", \"run_name\": \"MaxAbsScaler, LightGBM\", \"run_properties\": \"copy=True\", \"primary_metric\": 0.72961103, \"best_metric\": 0.75571497}, {\"run_id\": \"AutoML_cf2ad60a-ed5e-41a5-86e3-7e219a593a08_16\", \"run_number\": 21, \"metric\": null, \"status\": \"Completed\", \"run_type\": \"azureml.scriptrun\", \"training_percent\": \"100\", \"start_time\": \"2020-12-26T01:44:01.301027Z\", \"end_time\": \"2020-12-26T01:45:00.930444Z\", \"created_time\": \"2020-12-26T01:43:41.889087Z\", \"created_time_dt\": \"2020-12-26T01:43:41.889087Z\", \"duration\": \"0:01:19\", \"iteration\": \"16\", \"goal\": \"accuracy_max\", \"run_name\": \"MinMaxScaler, LightGBM\", \"run_properties\": \"copy=True, feature_range=(0, 1\", \"primary_metric\": 0.74428503, \"best_metric\": 0.75571497}, {\"run_id\": \"AutoML_cf2ad60a-ed5e-41a5-86e3-7e219a593a08_17\", \"run_number\": 22, \"metric\": null, \"status\": \"Completed\", \"run_type\": \"azureml.scriptrun\", \"training_percent\": \"100\", \"start_time\": \"2020-12-26T01:43:58.769117Z\", \"end_time\": \"2020-12-26T01:44:59.363983Z\", \"created_time\": \"2020-12-26T01:43:46.591428Z\", \"created_time_dt\": \"2020-12-26T01:43:46.591428Z\", \"duration\": \"0:01:12\", \"iteration\": \"17\", \"goal\": \"accuracy_max\", \"run_name\": \"StandardScalerWrapper, RandomForest\", \"run_properties\": \"<azureml.automl.runtime.shared.model_wrappers.StandardScalerWrapper object at 0x7fd885ca9f60\", \"primary_metric\": 0.72638291, \"best_metric\": 0.75571497}, {\"run_id\": \"AutoML_cf2ad60a-ed5e-41a5-86e3-7e219a593a08_18\", \"run_number\": 23, \"metric\": null, \"status\": \"Completed\", \"run_type\": \"azureml.scriptrun\", \"training_percent\": \"100\", \"start_time\": \"2020-12-26T01:44:40.402464Z\", \"end_time\": \"2020-12-26T01:45:36.029828Z\", \"created_time\": \"2020-12-26T01:44:25.420004Z\", \"created_time_dt\": \"2020-12-26T01:44:25.420004Z\", \"duration\": \"0:01:10\", \"iteration\": \"18\", \"goal\": \"accuracy_max\", \"run_name\": \"RobustScaler, LightGBM\", \"run_properties\": \"copy=True, quantile_range=[10, 90], with_centering=True,\\n             with_scaling=False\", \"primary_metric\": 0.74101706, \"best_metric\": 0.75571497}, {\"run_id\": \"AutoML_cf2ad60a-ed5e-41a5-86e3-7e219a593a08_19\", \"run_number\": 24, \"metric\": null, \"status\": \"Completed\", \"run_type\": \"azureml.scriptrun\", \"training_percent\": \"100\", \"start_time\": \"2020-12-26T01:44:41.74557Z\", \"end_time\": \"2020-12-26T01:45:48.938931Z\", \"created_time\": \"2020-12-26T01:44:29.959927Z\", \"created_time_dt\": \"2020-12-26T01:44:29.959927Z\", \"duration\": \"0:01:18\", \"iteration\": \"19\", \"goal\": \"accuracy_max\", \"run_name\": \"MaxAbsScaler, LightGBM\", \"run_properties\": \"copy=True\", \"primary_metric\": 0.73612307, \"best_metric\": 0.75571497}, {\"run_id\": \"AutoML_cf2ad60a-ed5e-41a5-86e3-7e219a593a08_20\", \"run_number\": 25, \"metric\": null, \"status\": \"Completed\", \"run_type\": \"azureml.scriptrun\", \"training_percent\": \"100\", \"start_time\": \"2020-12-26T01:45:12.681512Z\", \"end_time\": \"2020-12-26T01:46:12.0312Z\", \"created_time\": \"2020-12-26T01:45:01.114398Z\", \"created_time_dt\": \"2020-12-26T01:45:01.114398Z\", \"duration\": \"0:01:10\", \"iteration\": \"20\", \"goal\": \"accuracy_max\", \"run_name\": \"SparseNormalizer, XGBoostClassifier\", \"run_properties\": \"<azureml.automl.runtime.shared.model_wrappers.SparseNormalizer object at 0x7f70a9db0f60\", \"primary_metric\": 0.67586482, \"best_metric\": 0.75571497}, {\"run_id\": \"AutoML_cf2ad60a-ed5e-41a5-86e3-7e219a593a08_21\", \"run_number\": 26, \"metric\": null, \"status\": \"Completed\", \"run_type\": \"azureml.scriptrun\", \"training_percent\": \"100\", \"start_time\": \"2020-12-26T01:45:16.477754Z\", \"end_time\": \"2020-12-26T01:46:13.221568Z\", \"created_time\": \"2020-12-26T01:45:04.889779Z\", \"created_time_dt\": \"2020-12-26T01:45:04.889779Z\", \"duration\": \"0:01:08\", \"iteration\": \"21\", \"goal\": \"accuracy_max\", \"run_name\": \"MinMaxScaler, LightGBM\", \"run_properties\": \"copy=True, feature_range=(0, 1\", \"primary_metric\": 0.75731707, \"best_metric\": 0.75731707}, {\"run_id\": \"AutoML_cf2ad60a-ed5e-41a5-86e3-7e219a593a08_22\", \"run_number\": 27, \"metric\": null, \"status\": \"Completed\", \"run_type\": \"azureml.scriptrun\", \"training_percent\": \"100\", \"start_time\": \"2020-12-26T01:45:49.908201Z\", \"end_time\": \"2020-12-26T01:46:52.573458Z\", \"created_time\": \"2020-12-26T01:45:38.020351Z\", \"created_time_dt\": \"2020-12-26T01:45:38.020351Z\", \"duration\": \"0:01:14\", \"iteration\": \"22\", \"goal\": \"accuracy_max\", \"run_name\": \"SparseNormalizer, XGBoostClassifier\", \"run_properties\": \"<azureml.automl.runtime.shared.model_wrappers.SparseNormalizer object at 0x7f599b386cc0\", \"primary_metric\": 0.67096286, \"best_metric\": 0.75731707}, {\"run_id\": \"AutoML_cf2ad60a-ed5e-41a5-86e3-7e219a593a08_23\", \"run_number\": 28, \"metric\": null, \"status\": \"Completed\", \"run_type\": \"azureml.scriptrun\", \"training_percent\": \"100\", \"start_time\": \"2020-12-26T01:46:03.261926Z\", \"end_time\": \"2020-12-26T01:46:50.917031Z\", \"created_time\": \"2020-12-26T01:45:51.408006Z\", \"created_time_dt\": \"2020-12-26T01:45:51.408006Z\", \"duration\": \"0:00:59\", \"iteration\": \"23\", \"goal\": \"accuracy_max\", \"run_name\": \"RobustScaler, RandomForest\", \"run_properties\": \"copy=True, quantile_range=[10, 90], with_centering=True,\\n             with_scaling=False\", \"primary_metric\": 0.73943089, \"best_metric\": 0.75731707}, {\"run_id\": \"AutoML_cf2ad60a-ed5e-41a5-86e3-7e219a593a08_24\", \"run_number\": 29, \"metric\": null, \"status\": \"Completed\", \"run_type\": \"azureml.scriptrun\", \"training_percent\": \"100\", \"start_time\": \"2020-12-26T01:46:26.191083Z\", \"end_time\": \"2020-12-26T01:47:23.846439Z\", \"created_time\": \"2020-12-26T01:46:13.961325Z\", \"created_time_dt\": \"2020-12-26T01:46:13.961325Z\", \"duration\": \"0:01:09\", \"iteration\": \"24\", \"goal\": \"accuracy_max\", \"run_name\": \"StandardScalerWrapper, LightGBM\", \"run_properties\": \"<azureml.automl.runtime.shared.model_wrappers.StandardScalerWrapper object at 0x7f301f2705f8\", \"primary_metric\": 0.74754503, \"best_metric\": 0.75731707}, {\"run_id\": \"AutoML_cf2ad60a-ed5e-41a5-86e3-7e219a593a08_25\", \"run_number\": 30, \"metric\": null, \"status\": \"Completed\", \"run_type\": \"azureml.scriptrun\", \"training_percent\": \"100\", \"start_time\": \"2020-12-26T01:46:32.381483Z\", \"end_time\": \"2020-12-26T01:47:35.448878Z\", \"created_time\": \"2020-12-26T01:46:18.927965Z\", \"created_time_dt\": \"2020-12-26T01:46:18.927965Z\", \"duration\": \"0:01:16\", \"iteration\": \"25\", \"goal\": \"accuracy_max\", \"run_name\": \"PCA, LightGBM\", \"run_properties\": \"copy=True, iterated_power='auto', n_components=0.9005263157894737,\\n    random_state=None, svd_solver='auto', tol=0.0, whiten=True\", \"primary_metric\": 0.73290292, \"best_metric\": 0.75731707}, {\"run_id\": \"AutoML_cf2ad60a-ed5e-41a5-86e3-7e219a593a08_26\", \"run_number\": 31, \"metric\": null, \"status\": \"Completed\", \"run_type\": \"azureml.scriptrun\", \"training_percent\": \"100\", \"start_time\": \"2020-12-26T01:47:06.239153Z\", \"end_time\": \"2020-12-26T01:48:08.491815Z\", \"created_time\": \"2020-12-26T01:46:52.733195Z\", \"created_time_dt\": \"2020-12-26T01:46:52.733195Z\", \"duration\": \"0:01:15\", \"iteration\": \"26\", \"goal\": \"accuracy_max\", \"run_name\": \"MaxAbsScaler, LightGBM\", \"run_properties\": \"copy=True\", \"primary_metric\": 0.71498486, \"best_metric\": 0.75731707}, {\"run_id\": \"AutoML_cf2ad60a-ed5e-41a5-86e3-7e219a593a08_27\", \"run_number\": 32, \"metric\": null, \"status\": \"Completed\", \"run_type\": \"azureml.scriptrun\", \"training_percent\": \"100\", \"start_time\": \"2020-12-26T01:47:08.50308Z\", \"end_time\": \"2020-12-26T01:48:01.84892Z\", \"created_time\": \"2020-12-26T01:46:57.051256Z\", \"created_time_dt\": \"2020-12-26T01:46:57.051256Z\", \"duration\": \"0:01:04\", \"iteration\": \"27\", \"goal\": \"accuracy_max\", \"run_name\": \"MaxAbsScaler, ExtremeRandomTrees\", \"run_properties\": \"copy=True\", \"primary_metric\": 0.75732504, \"best_metric\": 0.75732504}, {\"run_id\": \"AutoML_cf2ad60a-ed5e-41a5-86e3-7e219a593a08_28\", \"run_number\": 33, \"metric\": null, \"status\": \"Completed\", \"run_type\": \"azureml.scriptrun\", \"training_percent\": \"100\", \"start_time\": \"2020-12-26T01:47:37.308075Z\", \"end_time\": \"2020-12-26T01:48:36.610705Z\", \"created_time\": \"2020-12-26T01:47:25.85883Z\", \"created_time_dt\": \"2020-12-26T01:47:25.85883Z\", \"duration\": \"0:01:10\", \"iteration\": \"28\", \"goal\": \"accuracy_max\", \"run_name\": \"StandardScalerWrapper, LightGBM\", \"run_properties\": \"<azureml.automl.runtime.shared.model_wrappers.StandardScalerWrapper object at 0x7f3bbc8a9748\", \"primary_metric\": 0.75408098, \"best_metric\": 0.75732504}, {\"run_id\": \"AutoML_cf2ad60a-ed5e-41a5-86e3-7e219a593a08_29\", \"run_number\": 34, \"metric\": null, \"status\": \"Completed\", \"run_type\": \"azureml.scriptrun\", \"training_percent\": \"100\", \"start_time\": \"2020-12-26T01:47:49.913271Z\", \"end_time\": \"2020-12-26T01:49:17.7881Z\", \"created_time\": \"2020-12-26T01:47:37.859958Z\", \"created_time_dt\": \"2020-12-26T01:47:37.859958Z\", \"duration\": \"0:01:39\", \"iteration\": \"29\", \"goal\": \"accuracy_max\", \"run_name\": \"MaxAbsScaler, ExtremeRandomTrees\", \"run_properties\": \"copy=True\", \"primary_metric\": 0.73131675, \"best_metric\": 0.75732504}, {\"run_id\": \"AutoML_cf2ad60a-ed5e-41a5-86e3-7e219a593a08_30\", \"run_number\": 35, \"metric\": null, \"status\": \"Completed\", \"run_type\": \"azureml.scriptrun\", \"training_percent\": \"100\", \"start_time\": \"2020-12-26T01:48:15.019269Z\", \"end_time\": \"2020-12-26T01:49:15.183624Z\", \"created_time\": \"2020-12-26T01:48:04.608827Z\", \"created_time_dt\": \"2020-12-26T01:48:04.608827Z\", \"duration\": \"0:01:10\", \"iteration\": \"30\", \"goal\": \"accuracy_max\", \"run_name\": \"SparseNormalizer, ExtremeRandomTrees\", \"run_properties\": \"<azureml.automl.runtime.shared.model_wrappers.SparseNormalizer object at 0x7f16697c1ac8\", \"primary_metric\": 0.41688985, \"best_metric\": 0.75732504}, {\"run_id\": \"AutoML_cf2ad60a-ed5e-41a5-86e3-7e219a593a08_31\", \"run_number\": 36, \"metric\": null, \"status\": \"Completed\", \"run_type\": \"azureml.scriptrun\", \"training_percent\": \"100\", \"start_time\": \"2020-12-26T01:48:21.960754Z\", \"end_time\": \"2020-12-26T01:49:18.26061Z\", \"created_time\": \"2020-12-26T01:48:10.967208Z\", \"created_time_dt\": \"2020-12-26T01:48:10.967208Z\", \"duration\": \"0:01:07\", \"iteration\": \"31\", \"goal\": \"accuracy_max\", \"run_name\": \"SparseNormalizer, LightGBM\", \"run_properties\": \"<azureml.automl.runtime.shared.model_wrappers.SparseNormalizer object at 0x7fb6a118c8d0\", \"primary_metric\": 0.66449864, \"best_metric\": 0.75732504}, {\"run_id\": \"AutoML_cf2ad60a-ed5e-41a5-86e3-7e219a593a08_32\", \"run_number\": 37, \"metric\": null, \"status\": \"Completed\", \"run_type\": \"azureml.scriptrun\", \"training_percent\": \"100\", \"start_time\": \"2020-12-26T01:48:50.454427Z\", \"end_time\": \"2020-12-26T01:49:52.208993Z\", \"created_time\": \"2020-12-26T01:48:38.44181Z\", \"created_time_dt\": \"2020-12-26T01:48:38.44181Z\", \"duration\": \"0:01:13\", \"iteration\": \"32\", \"goal\": \"accuracy_max\", \"run_name\": \"SparseNormalizer, ExtremeRandomTrees\", \"run_properties\": \"<azureml.automl.runtime.shared.model_wrappers.SparseNormalizer object at 0x7feb1eac9358\", \"primary_metric\": 0.65471864, \"best_metric\": 0.75732504}, {\"run_id\": \"AutoML_cf2ad60a-ed5e-41a5-86e3-7e219a593a08_33\", \"run_number\": 38, \"metric\": null, \"status\": \"Completed\", \"run_type\": \"azureml.scriptrun\", \"training_percent\": \"100\", \"start_time\": \"2020-12-26T01:49:33.223457Z\", \"end_time\": \"2020-12-26T01:50:36.904562Z\", \"created_time\": \"2020-12-26T01:49:16.918334Z\", \"created_time_dt\": \"2020-12-26T01:49:16.918334Z\", \"duration\": \"0:01:19\", \"iteration\": \"33\", \"goal\": \"accuracy_max\", \"run_name\": \"MinMaxScaler, LightGBM\", \"run_properties\": \"copy=True, feature_range=(0, 1\", \"primary_metric\": 0.75405707, \"best_metric\": 0.75732504}, {\"run_id\": \"AutoML_cf2ad60a-ed5e-41a5-86e3-7e219a593a08_34\", \"run_number\": 39, \"metric\": null, \"status\": \"Completed\", \"run_type\": \"azureml.scriptrun\", \"training_percent\": \"100\", \"start_time\": \"2020-12-26T01:49:33.098583Z\", \"end_time\": \"2020-12-26T01:50:48.722696Z\", \"created_time\": \"2020-12-26T01:49:21.608111Z\", \"created_time_dt\": \"2020-12-26T01:49:21.608111Z\", \"duration\": \"0:01:27\", \"iteration\": \"34\", \"goal\": \"accuracy_max\", \"run_name\": \"SparseNormalizer, ExtremeRandomTrees\", \"run_properties\": \"<azureml.automl.runtime.shared.model_wrappers.SparseNormalizer object at 0x7f02bd2a6cf8\", \"primary_metric\": 0.64003667, \"best_metric\": 0.75732504}, {\"run_id\": \"AutoML_cf2ad60a-ed5e-41a5-86e3-7e219a593a08_35\", \"run_number\": 40, \"metric\": null, \"status\": \"Completed\", \"run_type\": \"azureml.scriptrun\", \"training_percent\": \"100\", \"start_time\": \"2020-12-26T01:49:34.082093Z\", \"end_time\": \"2020-12-26T01:50:41.693957Z\", \"created_time\": \"2020-12-26T01:49:21.625697Z\", \"created_time_dt\": \"2020-12-26T01:49:21.625697Z\", \"duration\": \"0:01:20\", \"iteration\": \"35\", \"goal\": \"accuracy_max\", \"run_name\": \"MaxAbsScaler, LightGBM\", \"run_properties\": \"copy=True\", \"primary_metric\": 0.72309103, \"best_metric\": 0.75732504}, {\"run_id\": \"AutoML_cf2ad60a-ed5e-41a5-86e3-7e219a593a08_36\", \"run_number\": 41, \"metric\": null, \"status\": \"Completed\", \"run_type\": \"azureml.scriptrun\", \"training_percent\": \"100\", \"start_time\": \"2020-12-26T01:50:11.632466Z\", \"end_time\": \"2020-12-26T01:51:08.41507Z\", \"created_time\": \"2020-12-26T01:49:54.796226Z\", \"created_time_dt\": \"2020-12-26T01:49:54.796226Z\", \"duration\": \"0:01:13\", \"iteration\": \"36\", \"goal\": \"accuracy_max\", \"run_name\": \"StandardScalerWrapper, LightGBM\", \"run_properties\": \"<azureml.automl.runtime.shared.model_wrappers.StandardScalerWrapper object at 0x7fbe65af1390\", \"primary_metric\": 0.73617089, \"best_metric\": 0.75732504}, {\"run_id\": \"AutoML_cf2ad60a-ed5e-41a5-86e3-7e219a593a08_37\", \"run_number\": 42, \"metric\": null, \"status\": \"Completed\", \"run_type\": \"azureml.scriptrun\", \"training_percent\": \"100\", \"start_time\": \"2020-12-26T01:50:54.069887Z\", \"end_time\": \"2020-12-26T01:51:48.675751Z\", \"created_time\": \"2020-12-26T01:50:39.692111Z\", \"created_time_dt\": \"2020-12-26T01:50:39.692111Z\", \"duration\": \"0:01:08\", \"iteration\": \"37\", \"goal\": \"accuracy_max\", \"run_name\": \"MaxAbsScaler, ExtremeRandomTrees\", \"run_properties\": \"copy=True\", \"primary_metric\": 0.73774111, \"best_metric\": 0.75732504}, {\"run_id\": \"AutoML_cf2ad60a-ed5e-41a5-86e3-7e219a593a08_38\", \"run_number\": 43, \"metric\": null, \"status\": \"Completed\", \"run_type\": \"azureml.scriptrun\", \"training_percent\": \"100\", \"start_time\": \"2020-12-26T01:50:57.493837Z\", \"end_time\": \"2020-12-26T01:51:52.233189Z\", \"created_time\": \"2020-12-26T01:50:44.672676Z\", \"created_time_dt\": \"2020-12-26T01:50:44.672676Z\", \"duration\": \"0:01:07\", \"iteration\": \"38\", \"goal\": \"accuracy_max\", \"run_name\": \"RobustScaler, KNN\", \"run_properties\": \"copy=True, quantile_range=[25, 75], with_centering=True,\\n             with_scaling=False\", \"primary_metric\": 0.72147298, \"best_metric\": 0.75732504}, {\"run_id\": \"AutoML_cf2ad60a-ed5e-41a5-86e3-7e219a593a08_39\", \"run_number\": 44, \"metric\": null, \"status\": \"Completed\", \"run_type\": \"azureml.scriptrun\", \"training_percent\": \"100\", \"start_time\": \"2020-12-26T01:51:02.962712Z\", \"end_time\": \"2020-12-26T01:51:56.003178Z\", \"created_time\": \"2020-12-26T01:50:50.511842Z\", \"created_time_dt\": \"2020-12-26T01:50:50.511842Z\", \"duration\": \"0:01:05\", \"iteration\": \"39\", \"goal\": \"accuracy_max\", \"run_name\": \"MaxAbsScaler, LightGBM\", \"run_properties\": \"copy=True\", \"primary_metric\": 0.75568309, \"best_metric\": 0.75732504}, {\"run_id\": \"AutoML_cf2ad60a-ed5e-41a5-86e3-7e219a593a08_40\", \"run_number\": 45, \"metric\": null, \"status\": \"Canceled\", \"run_type\": \"azureml.scriptrun\", \"training_percent\": \"100\", \"start_time\": \"2020-12-26T01:51:21.534716Z\", \"end_time\": \"2020-12-26T01:52:06.10373Z\", \"created_time\": \"2020-12-26T01:51:11.058457Z\", \"created_time_dt\": \"2020-12-26T01:51:11.058457Z\", \"duration\": \"0:00:55\", \"iteration\": \"40\", \"goal\": null, \"run_name\": \"TruncatedSVDWrapper, ExtremeRandomTrees\", \"run_properties\": null}, {\"run_id\": \"AutoML_cf2ad60a-ed5e-41a5-86e3-7e219a593a08_41\", \"run_number\": 46, \"metric\": null, \"status\": \"Canceled\", \"run_type\": \"azureml.scriptrun\", \"training_percent\": \"100\", \"start_time\": \"2020-12-26T01:51:50.615515Z\", \"end_time\": \"2020-12-26T01:52:09.057547Z\", \"created_time\": \"2020-12-26T01:51:50.615515Z\", \"created_time_dt\": \"2020-12-26T01:51:50.615515Z\", \"duration\": \"0:00:18\", \"iteration\": \"41\", \"goal\": null, \"run_name\": \"Canceled\", \"run_properties\": null}, {\"run_id\": \"AutoML_cf2ad60a-ed5e-41a5-86e3-7e219a593a08_42\", \"run_number\": 47, \"metric\": null, \"status\": \"Canceled\", \"run_type\": \"azureml.scriptrun\", \"training_percent\": \"100\", \"start_time\": \"2020-12-26T01:51:55.02677Z\", \"end_time\": \"2020-12-26T01:52:10.858014Z\", \"created_time\": \"2020-12-26T01:51:55.02677Z\", \"created_time_dt\": \"2020-12-26T01:51:55.02677Z\", \"duration\": \"0:00:15\", \"iteration\": \"42\", \"goal\": null, \"run_name\": \"Canceled\", \"run_properties\": null}, {\"run_id\": \"AutoML_cf2ad60a-ed5e-41a5-86e3-7e219a593a08_43\", \"run_number\": 48, \"metric\": null, \"status\": \"Completed\", \"run_type\": \"azureml.scriptrun\", \"training_percent\": \"100\", \"start_time\": \"2020-12-26T01:52:24.072413Z\", \"end_time\": \"2020-12-26T01:53:55.736414Z\", \"created_time\": \"2020-12-26T01:52:11.666525Z\", \"created_time_dt\": \"2020-12-26T01:52:11.666525Z\", \"duration\": \"0:01:44\", \"iteration\": \"43\", \"goal\": \"accuracy_max\", \"run_name\": \"VotingEnsemble\", \"run_properties\": \"classification_labels=None,\\n                              estimators=[('27',\\n                                           Pipeline(memory=None,\\n                                                    steps=[('maxabsscaler',\\n                                                            MaxAbsScaler(copy=True\", \"primary_metric\": 0.77360115, \"best_metric\": 0.77360115}], \"children_metrics\": {\"categories\": [0], \"series\": {\"accuracy\": [{\"categories\": [\"0\", \"1\", \"2\", \"3\", \"4\", \"5\", \"6\", \"7\", \"8\", \"9\", \"10\", \"11\", \"12\", \"13\", \"14\", \"15\", \"16\", \"17\", \"18\", \"19\", \"20\", \"21\", \"22\", \"23\", \"24\", \"25\", \"26\", \"27\", \"28\", \"29\", \"30\", \"31\", \"32\", \"33\", \"34\", \"35\", \"36\", \"37\", \"38\", \"39\", \"43\"], \"mode\": \"markers\", \"name\": \"accuracy\", \"stepped\": false, \"type\": \"scatter\", \"data\": [0.7459588713534194, 0.7443089430894309, 0.7280009564801531, 0.7247409532918859, 0.7297066794197353, 0.728024868483979, 0.7117168818747012, 0.684018810776343, 0.6693766937669375, 0.667774589510601, 0.6676709708273553, 0.755714968914395, 0.7426908974972103, 0.7328790052606409, 0.7442690897497211, 0.7296110314044317, 0.744285031085605, 0.7263829108879324, 0.7410170572293958, 0.7361230671130241, 0.675864817471704, 0.7573170731707317, 0.6709628566873903, 0.739430894308943, 0.7475450342738722, 0.7329029172644668, 0.7149848557309103, 0.7573250438386737, 0.7540809819862905, 0.731316754344014, 0.41688984536904194, 0.66449864498645, 0.6547186354216482, 0.7540570699824646, 0.6400366650725331, 0.7230910250278972, 0.7361708911206759, 0.7377411127052448, 0.7214729794356768, 0.7556830862426271, 0.7736011477761836]}, {\"categories\": [\"0\", \"1\", \"2\", \"3\", \"4\", \"5\", \"6\", \"7\", \"8\", \"9\", \"10\", \"11\", \"12\", \"13\", \"14\", \"15\", \"16\", \"17\", \"18\", \"19\", \"20\", \"21\", \"22\", \"23\", \"24\", \"25\", \"26\", \"27\", \"28\", \"29\", \"30\", \"31\", \"32\", \"33\", \"34\", \"35\", \"36\", \"37\", \"38\", \"39\", \"43\"], \"mode\": \"lines\", \"name\": \"accuracy_max\", \"stepped\": true, \"type\": \"scatter\", \"data\": [0.7459588713534194, 0.7459588713534194, 0.7459588713534194, 0.7459588713534194, 0.7459588713534194, 0.7459588713534194, 0.7459588713534194, 0.7459588713534194, 0.7459588713534194, 0.7459588713534194, 0.7459588713534194, 0.755714968914395, 0.755714968914395, 0.755714968914395, 0.755714968914395, 0.755714968914395, 0.755714968914395, 0.755714968914395, 0.755714968914395, 0.755714968914395, 0.755714968914395, 0.7573170731707317, 0.7573170731707317, 0.7573170731707317, 0.7573170731707317, 0.7573170731707317, 0.7573170731707317, 0.7573250438386737, 0.7573250438386737, 0.7573250438386737, 0.7573250438386737, 0.7573250438386737, 0.7573250438386737, 0.7573250438386737, 0.7573250438386737, 0.7573250438386737, 0.7573250438386737, 0.7573250438386737, 0.7573250438386737, 0.7573250438386737, 0.7736011477761836]}], \"AUC_macro\": [{\"categories\": [\"0\", \"1\", \"2\", \"3\", \"4\", \"5\", \"6\", \"7\", \"8\", \"9\", \"10\", \"11\", \"12\", \"13\", \"14\", \"15\", \"16\", \"17\", \"18\", \"19\", \"20\", \"21\", \"22\", \"23\", \"24\", \"25\", \"26\", \"27\", \"28\", \"29\", \"30\", \"31\", \"32\", \"33\", \"34\", \"35\", \"36\", \"37\", \"38\", \"39\", \"43\"], \"mode\": \"markers\", \"name\": \"AUC_macro\", \"stepped\": false, \"type\": \"scatter\", \"data\": [0.801557560850414, 0.8153530249017112, 0.810497961813683, 0.808169815107665, 0.8126840490085655, 0.8172021474542867, 0.7545786860840872, 0.7261587860624781, 0.6885423791809986, 0.69394546198612, 0.6878595551922787, 0.8301046709367829, 0.8252688249182798, 0.8171101081950196, 0.8254544735853981, 0.8214298881043978, 0.8225045557319182, 0.8075428082959014, 0.8070590699414827, 0.809142277581891, 0.6789882745361057, 0.824670864562154, 0.6849014989394622, 0.815009572782912, 0.812912648474963, 0.786841307676902, 0.7985680556354339, 0.8109343757452269, 0.8226957833823082, 0.8281218216065488, 0.5378295203048485, 0.672091670330844, 0.6881985156938857, 0.8250795623180824, 0.6355990463563815, 0.809153545435196, 0.8049493351423354, 0.8199206124459897, 0.7557280473627949, 0.828271031057163, 0.830460947242786]}, {\"categories\": [\"0\", \"1\", \"2\", \"3\", \"4\", \"5\", \"6\", \"7\", \"8\", \"9\", \"10\", \"11\", \"12\", \"13\", \"14\", \"15\", \"16\", \"17\", \"18\", \"19\", \"20\", \"21\", \"22\", \"23\", \"24\", \"25\", \"26\", \"27\", \"28\", \"29\", \"30\", \"31\", \"32\", \"33\", \"34\", \"35\", \"36\", \"37\", \"38\", \"39\", \"43\"], \"mode\": \"lines\", \"name\": \"AUC_macro_max\", \"stepped\": true, \"type\": \"scatter\", \"data\": [0.801557560850414, 0.8153530249017112, 0.8153530249017112, 0.8153530249017112, 0.8153530249017112, 0.8172021474542867, 0.8172021474542867, 0.8172021474542867, 0.8172021474542867, 0.8172021474542867, 0.8172021474542867, 0.8301046709367829, 0.8301046709367829, 0.8301046709367829, 0.8301046709367829, 0.8301046709367829, 0.8301046709367829, 0.8301046709367829, 0.8301046709367829, 0.8301046709367829, 0.8301046709367829, 0.8301046709367829, 0.8301046709367829, 0.8301046709367829, 0.8301046709367829, 0.8301046709367829, 0.8301046709367829, 0.8301046709367829, 0.8301046709367829, 0.8301046709367829, 0.8301046709367829, 0.8301046709367829, 0.8301046709367829, 0.8301046709367829, 0.8301046709367829, 0.8301046709367829, 0.8301046709367829, 0.8301046709367829, 0.8301046709367829, 0.8301046709367829, 0.830460947242786]}], \"recall_score_weighted\": [{\"categories\": [\"0\", \"1\", \"2\", \"3\", \"4\", \"5\", \"6\", \"7\", \"8\", \"9\", \"10\", \"11\", \"12\", \"13\", \"14\", \"15\", \"16\", \"17\", \"18\", \"19\", \"20\", \"21\", \"22\", \"23\", \"24\", \"25\", \"26\", \"27\", \"28\", \"29\", \"30\", \"31\", \"32\", \"33\", \"34\", \"35\", \"36\", \"37\", \"38\", \"39\", \"43\"], \"mode\": \"markers\", \"name\": \"recall_score_weighted\", \"stepped\": false, \"type\": \"scatter\", \"data\": [0.7459588713534194, 0.7443089430894309, 0.7280009564801531, 0.7247409532918859, 0.7297066794197353, 0.728024868483979, 0.7117168818747012, 0.684018810776343, 0.6693766937669375, 0.667774589510601, 0.6676709708273553, 0.755714968914395, 0.7426908974972103, 0.7328790052606409, 0.7442690897497211, 0.7296110314044317, 0.744285031085605, 0.7263829108879324, 0.7410170572293958, 0.7361230671130241, 0.675864817471704, 0.7573170731707317, 0.6709628566873903, 0.739430894308943, 0.7475450342738722, 0.7329029172644668, 0.7149848557309103, 0.7573250438386737, 0.7540809819862905, 0.731316754344014, 0.41688984536904194, 0.66449864498645, 0.6547186354216482, 0.7540570699824646, 0.6400366650725331, 0.7230910250278972, 0.7361708911206759, 0.7377411127052448, 0.7214729794356768, 0.7556830862426271, 0.7736011477761836]}, {\"categories\": [\"0\", \"1\", \"2\", \"3\", \"4\", \"5\", \"6\", \"7\", \"8\", \"9\", \"10\", \"11\", \"12\", \"13\", \"14\", \"15\", \"16\", \"17\", \"18\", \"19\", \"20\", \"21\", \"22\", \"23\", \"24\", \"25\", \"26\", \"27\", \"28\", \"29\", \"30\", \"31\", \"32\", \"33\", \"34\", \"35\", \"36\", \"37\", \"38\", \"39\", \"43\"], \"mode\": \"lines\", \"name\": \"recall_score_weighted_max\", \"stepped\": true, \"type\": \"scatter\", \"data\": [0.7459588713534194, 0.7459588713534194, 0.7459588713534194, 0.7459588713534194, 0.7459588713534194, 0.7459588713534194, 0.7459588713534194, 0.7459588713534194, 0.7459588713534194, 0.7459588713534194, 0.7459588713534194, 0.755714968914395, 0.755714968914395, 0.755714968914395, 0.755714968914395, 0.755714968914395, 0.755714968914395, 0.755714968914395, 0.755714968914395, 0.755714968914395, 0.755714968914395, 0.7573170731707317, 0.7573170731707317, 0.7573170731707317, 0.7573170731707317, 0.7573170731707317, 0.7573170731707317, 0.7573250438386737, 0.7573250438386737, 0.7573250438386737, 0.7573250438386737, 0.7573250438386737, 0.7573250438386737, 0.7573250438386737, 0.7573250438386737, 0.7573250438386737, 0.7573250438386737, 0.7573250438386737, 0.7573250438386737, 0.7573250438386737, 0.7736011477761836]}], \"precision_score_macro\": [{\"categories\": [\"0\", \"1\", \"2\", \"3\", \"4\", \"5\", \"6\", \"7\", \"8\", \"9\", \"10\", \"11\", \"12\", \"13\", \"14\", \"15\", \"16\", \"17\", \"18\", \"19\", \"20\", \"21\", \"22\", \"23\", \"24\", \"25\", \"26\", \"27\", \"28\", \"29\", \"30\", \"31\", \"32\", \"33\", \"34\", \"35\", \"36\", \"37\", \"38\", \"39\", \"43\"], \"mode\": \"markers\", \"name\": \"precision_score_macro\", \"stepped\": false, \"type\": \"scatter\", \"data\": [0.726476160899086, 0.7260784827613822, 0.7076316649734903, 0.7016023614950928, 0.7136217035263718, 0.7093216058922756, 0.7027087921824764, 0.6747049784829322, 0.6343969413628269, 0.6319602965819758, 0.6351878403654506, 0.7418800432025145, 0.7254311651098139, 0.7281263438064173, 0.7502222161146954, 0.745504953709288, 0.742235092524191, 0.7125036751944727, 0.7541408464168865, 0.7615750839620897, 0.6444992393823981, 0.7464187319756134, 0.6373199719502148, 0.7249976481487371, 0.7406312653193314, 0.7171184171432218, 0.6922233126827374, 0.7448347990474139, 0.7361738890387793, 0.7265330206976586, 0.47359726450426526, 0.6265325517208788, 0.6507299793021524, 0.7385969125133691, 0.32001833253626655, 0.7186941874357479, 0.7170178729736012, 0.7454042932101886, 0.698769133237632, 0.746813184867048, 0.7606961264086181]}, {\"categories\": [\"0\", \"1\", \"2\", \"3\", \"4\", \"5\", \"6\", \"7\", \"8\", \"9\", \"10\", \"11\", \"12\", \"13\", \"14\", \"15\", \"16\", \"17\", \"18\", \"19\", \"20\", \"21\", \"22\", \"23\", \"24\", \"25\", \"26\", \"27\", \"28\", \"29\", \"30\", \"31\", \"32\", \"33\", \"34\", \"35\", \"36\", \"37\", \"38\", \"39\", \"43\"], \"mode\": \"lines\", \"name\": \"precision_score_macro_max\", \"stepped\": true, \"type\": \"scatter\", \"data\": [0.726476160899086, 0.726476160899086, 0.726476160899086, 0.726476160899086, 0.726476160899086, 0.726476160899086, 0.726476160899086, 0.726476160899086, 0.726476160899086, 0.726476160899086, 0.726476160899086, 0.7418800432025145, 0.7418800432025145, 0.7418800432025145, 0.7502222161146954, 0.7502222161146954, 0.7502222161146954, 0.7502222161146954, 0.7541408464168865, 0.7615750839620897, 0.7615750839620897, 0.7615750839620897, 0.7615750839620897, 0.7615750839620897, 0.7615750839620897, 0.7615750839620897, 0.7615750839620897, 0.7615750839620897, 0.7615750839620897, 0.7615750839620897, 0.7615750839620897, 0.7615750839620897, 0.7615750839620897, 0.7615750839620897, 0.7615750839620897, 0.7615750839620897, 0.7615750839620897, 0.7615750839620897, 0.7615750839620897, 0.7615750839620897, 0.7615750839620897]}], \"precision_score_micro\": [{\"categories\": [\"0\", \"1\", \"2\", \"3\", \"4\", \"5\", \"6\", \"7\", \"8\", \"9\", \"10\", \"11\", \"12\", \"13\", \"14\", \"15\", \"16\", \"17\", \"18\", \"19\", \"20\", \"21\", \"22\", \"23\", \"24\", \"25\", \"26\", \"27\", \"28\", \"29\", \"30\", \"31\", \"32\", \"33\", \"34\", \"35\", \"36\", \"37\", \"38\", \"39\", \"43\"], \"mode\": \"markers\", \"name\": \"precision_score_micro\", \"stepped\": false, \"type\": \"scatter\", \"data\": [0.7459588713534194, 0.7443089430894309, 0.7280009564801531, 0.7247409532918859, 0.7297066794197353, 0.728024868483979, 0.7117168818747012, 0.684018810776343, 0.6693766937669375, 0.667774589510601, 0.6676709708273553, 0.755714968914395, 0.7426908974972103, 0.7328790052606409, 0.7442690897497211, 0.7296110314044317, 0.744285031085605, 0.7263829108879324, 0.7410170572293958, 0.7361230671130241, 0.675864817471704, 0.7573170731707317, 0.6709628566873903, 0.739430894308943, 0.7475450342738722, 0.7329029172644668, 0.7149848557309103, 0.7573250438386737, 0.7540809819862905, 0.731316754344014, 0.41688984536904194, 0.66449864498645, 0.6547186354216482, 0.7540570699824646, 0.6400366650725331, 0.7230910250278972, 0.7361708911206759, 0.7377411127052448, 0.7214729794356768, 0.7556830862426271, 0.7736011477761836]}, {\"categories\": [\"0\", \"1\", \"2\", \"3\", \"4\", \"5\", \"6\", \"7\", \"8\", \"9\", \"10\", \"11\", \"12\", \"13\", \"14\", \"15\", \"16\", \"17\", \"18\", \"19\", \"20\", \"21\", \"22\", \"23\", \"24\", \"25\", \"26\", \"27\", \"28\", \"29\", \"30\", \"31\", \"32\", \"33\", \"34\", \"35\", \"36\", \"37\", \"38\", \"39\", \"43\"], \"mode\": \"lines\", \"name\": \"precision_score_micro_max\", \"stepped\": true, \"type\": \"scatter\", \"data\": [0.7459588713534194, 0.7459588713534194, 0.7459588713534194, 0.7459588713534194, 0.7459588713534194, 0.7459588713534194, 0.7459588713534194, 0.7459588713534194, 0.7459588713534194, 0.7459588713534194, 0.7459588713534194, 0.755714968914395, 0.755714968914395, 0.755714968914395, 0.755714968914395, 0.755714968914395, 0.755714968914395, 0.755714968914395, 0.755714968914395, 0.755714968914395, 0.755714968914395, 0.7573170731707317, 0.7573170731707317, 0.7573170731707317, 0.7573170731707317, 0.7573170731707317, 0.7573170731707317, 0.7573250438386737, 0.7573250438386737, 0.7573250438386737, 0.7573250438386737, 0.7573250438386737, 0.7573250438386737, 0.7573250438386737, 0.7573250438386737, 0.7573250438386737, 0.7573250438386737, 0.7573250438386737, 0.7573250438386737, 0.7573250438386737, 0.7736011477761836]}], \"norm_macro_recall\": [{\"categories\": [\"0\", \"1\", \"2\", \"3\", \"4\", \"5\", \"6\", \"7\", \"8\", \"9\", \"10\", \"11\", \"12\", \"13\", \"14\", \"15\", \"16\", \"17\", \"18\", \"19\", \"20\", \"21\", \"22\", \"23\", \"24\", \"25\", \"26\", \"27\", \"28\", \"29\", \"30\", \"31\", \"32\", \"33\", \"34\", \"35\", \"36\", \"37\", \"38\", \"39\", \"43\"], \"mode\": \"markers\", \"name\": \"norm_macro_recall\", \"stepped\": false, \"type\": \"scatter\", \"data\": [0.4350920107140126, 0.42520351740213796, 0.3742655640699799, 0.37700388739296686, 0.43053944674175654, 0.38573237024054524, 0.29086769501820314, 0.21251290149726812, 0.2430506456944297, 0.20410041528721581, 0.25231849180383237, 0.42747521732250277, 0.39719607372887983, 0.3427867074358742, 0.3555726265290606, 0.3050395678627598, 0.36945961093576307, 0.34094436132243705, 0.34055805455033, 0.3116768646120782, 0.25831620610730677, 0.42498846638104654, 0.23616037595988204, 0.37790427802879806, 0.39037350016618794, 0.378434591877415, 0.3486765314055596, 0.4315068881689559, 0.4417919005733548, 0.4838782901144521, 0.0361638994352842, 0.1924700835420592, 0.3247135499325682, 0.4344341504569326, 0.0, 0.31006004996358016, 0.38882929929959936, 0.33222991536573515, 0.34886027416035653, 0.4129321602423037, 0.47640117196251874]}, {\"categories\": [\"0\", \"1\", \"2\", \"3\", \"4\", \"5\", \"6\", \"7\", \"8\", \"9\", \"10\", \"11\", \"12\", \"13\", \"14\", \"15\", \"16\", \"17\", \"18\", \"19\", \"20\", \"21\", \"22\", \"23\", \"24\", \"25\", \"26\", \"27\", \"28\", \"29\", \"30\", \"31\", \"32\", \"33\", \"34\", \"35\", \"36\", \"37\", \"38\", \"39\", \"43\"], \"mode\": \"lines\", \"name\": \"norm_macro_recall_max\", \"stepped\": true, \"type\": \"scatter\", \"data\": [0.4350920107140126, 0.4350920107140126, 0.4350920107140126, 0.4350920107140126, 0.4350920107140126, 0.4350920107140126, 0.4350920107140126, 0.4350920107140126, 0.4350920107140126, 0.4350920107140126, 0.4350920107140126, 0.4350920107140126, 0.4350920107140126, 0.4350920107140126, 0.4350920107140126, 0.4350920107140126, 0.4350920107140126, 0.4350920107140126, 0.4350920107140126, 0.4350920107140126, 0.4350920107140126, 0.4350920107140126, 0.4350920107140126, 0.4350920107140126, 0.4350920107140126, 0.4350920107140126, 0.4350920107140126, 0.4350920107140126, 0.4417919005733548, 0.4838782901144521, 0.4838782901144521, 0.4838782901144521, 0.4838782901144521, 0.4838782901144521, 0.4838782901144521, 0.4838782901144521, 0.4838782901144521, 0.4838782901144521, 0.4838782901144521, 0.4838782901144521, 0.4838782901144521]}], \"precision_score_weighted\": [{\"categories\": [\"0\", \"1\", \"2\", \"3\", \"4\", \"5\", \"6\", \"7\", \"8\", \"9\", \"10\", \"11\", \"12\", \"13\", \"14\", \"15\", \"16\", \"17\", \"18\", \"19\", \"20\", \"21\", \"22\", \"23\", \"24\", \"25\", \"26\", \"27\", \"28\", \"29\", \"30\", \"31\", \"32\", \"33\", \"34\", \"35\", \"36\", \"37\", \"38\", \"39\", \"43\"], \"mode\": \"markers\", \"name\": \"precision_score_weighted\", \"stepped\": false, \"type\": \"scatter\", \"data\": [0.7456608668779596, 0.7440636782906588, 0.7251148296041442, 0.7213130403365358, 0.7394846929247215, 0.7277823365057704, 0.7109382214091621, 0.6840108980923315, 0.6586639444933337, 0.6530070785132831, 0.6611623655720972, 0.7533271124255925, 0.7383078745684816, 0.7336094790950912, 0.7495935371645022, 0.741389567412655, 0.7459686642972071, 0.722804177025758, 0.7511395110325912, 0.752166634738364, 0.6680399236022101, 0.7557491915581815, 0.6602548172845624, 0.7360036092981458, 0.7477773452240403, 0.7324981353947133, 0.7108914198550456, 0.7560492221892096, 0.7521900567650764, 0.7623234230907245, 0.5032301624476584, 0.6480805174062955, 0.6888682926275157, 0.7528763352679143, 0.41005365868143734, 0.7233236502972388, 0.7319535127954703, 0.7436603122923122, 0.714396331487857, 0.7542044136435901, 0.772260833043097]}, {\"categories\": [\"0\", \"1\", \"2\", \"3\", \"4\", \"5\", \"6\", \"7\", \"8\", \"9\", \"10\", \"11\", \"12\", \"13\", \"14\", \"15\", \"16\", \"17\", \"18\", \"19\", \"20\", \"21\", \"22\", \"23\", \"24\", \"25\", \"26\", \"27\", \"28\", \"29\", \"30\", \"31\", \"32\", \"33\", \"34\", \"35\", \"36\", \"37\", \"38\", \"39\", \"43\"], \"mode\": \"lines\", \"name\": \"precision_score_weighted_max\", \"stepped\": true, \"type\": \"scatter\", \"data\": [0.7456608668779596, 0.7456608668779596, 0.7456608668779596, 0.7456608668779596, 0.7456608668779596, 0.7456608668779596, 0.7456608668779596, 0.7456608668779596, 0.7456608668779596, 0.7456608668779596, 0.7456608668779596, 0.7533271124255925, 0.7533271124255925, 0.7533271124255925, 0.7533271124255925, 0.7533271124255925, 0.7533271124255925, 0.7533271124255925, 0.7533271124255925, 0.7533271124255925, 0.7533271124255925, 0.7557491915581815, 0.7557491915581815, 0.7557491915581815, 0.7557491915581815, 0.7557491915581815, 0.7557491915581815, 0.7560492221892096, 0.7560492221892096, 0.7623234230907245, 0.7623234230907245, 0.7623234230907245, 0.7623234230907245, 0.7623234230907245, 0.7623234230907245, 0.7623234230907245, 0.7623234230907245, 0.7623234230907245, 0.7623234230907245, 0.7623234230907245, 0.772260833043097]}], \"log_loss\": [{\"categories\": [\"0\", \"1\", \"2\", \"3\", \"4\", \"5\", \"6\", \"7\", \"8\", \"9\", \"10\", \"11\", \"12\", \"13\", \"14\", \"15\", \"16\", \"17\", \"18\", \"19\", \"20\", \"21\", \"22\", \"23\", \"24\", \"25\", \"26\", \"27\", \"28\", \"29\", \"30\", \"31\", \"32\", \"33\", \"34\", \"35\", \"36\", \"37\", \"38\", \"39\", \"43\"], \"mode\": \"markers\", \"name\": \"log_loss\", \"stepped\": false, \"type\": \"scatter\", \"data\": [0.6201588010501355, 0.5256130569555227, 0.5120597642105343, 0.509667634545588, 0.5621568812704009, 0.5028146450704803, 0.5692197953993184, 0.5897799686130963, 0.6171037533005803, 0.5995113352281405, 0.6118807442555819, 0.4867168986512276, 0.49185623052007216, 0.5239961699914062, 0.5275261745276109, 0.53935155107084, 0.5128753220256419, 0.5231583858272254, 0.5473171547531942, 0.5566116474811905, 0.6276849814341028, 0.510525863137961, 0.6218101085955553, 0.5058780303662984, 0.5233017595071114, 0.5323590741314663, 0.5216028244648435, 0.5073826200638056, 0.49292950152737186, 0.5620213067262784, 0.6977877601061485, 0.6145467331400383, 0.6451055743973443, 0.49103849121370446, 0.6514893078205078, 0.5288298709533155, 0.5159071434878343, 0.5329255156219577, 1.17638394617385, 0.4943054143058519, 0.5139348203260415]}, {\"categories\": [\"0\", \"1\", \"2\", \"3\", \"4\", \"5\", \"6\", \"7\", \"8\", \"9\", \"10\", \"11\", \"12\", \"13\", \"14\", \"15\", \"16\", \"17\", \"18\", \"19\", \"20\", \"21\", \"22\", \"23\", \"24\", \"25\", \"26\", \"27\", \"28\", \"29\", \"30\", \"31\", \"32\", \"33\", \"34\", \"35\", \"36\", \"37\", \"38\", \"39\", \"43\"], \"mode\": \"lines\", \"name\": \"log_loss_min\", \"stepped\": true, \"type\": \"scatter\", \"data\": [0.6201588010501355, 0.5256130569555227, 0.5120597642105343, 0.509667634545588, 0.509667634545588, 0.5028146450704803, 0.5028146450704803, 0.5028146450704803, 0.5028146450704803, 0.5028146450704803, 0.5028146450704803, 0.4867168986512276, 0.4867168986512276, 0.4867168986512276, 0.4867168986512276, 0.4867168986512276, 0.4867168986512276, 0.4867168986512276, 0.4867168986512276, 0.4867168986512276, 0.4867168986512276, 0.4867168986512276, 0.4867168986512276, 0.4867168986512276, 0.4867168986512276, 0.4867168986512276, 0.4867168986512276, 0.4867168986512276, 0.4867168986512276, 0.4867168986512276, 0.4867168986512276, 0.4867168986512276, 0.4867168986512276, 0.4867168986512276, 0.4867168986512276, 0.4867168986512276, 0.4867168986512276, 0.4867168986512276, 0.4867168986512276, 0.4867168986512276, 0.4867168986512276]}], \"matthews_correlation\": [{\"categories\": [\"0\", \"1\", \"2\", \"3\", \"4\", \"5\", \"6\", \"7\", \"8\", \"9\", \"10\", \"11\", \"12\", \"13\", \"14\", \"15\", \"16\", \"17\", \"18\", \"19\", \"20\", \"21\", \"22\", \"23\", \"24\", \"25\", \"26\", \"27\", \"28\", \"29\", \"30\", \"31\", \"32\", \"33\", \"34\", \"35\", \"36\", \"37\", \"38\", \"39\", \"43\"], \"mode\": \"markers\", \"name\": \"matthews_correlation\", \"stepped\": false, \"type\": \"scatter\", \"data\": [0.443721955771977, 0.43811083875512713, 0.39361380427757786, 0.38961345139837517, 0.4285574542309914, 0.4012262594018665, 0.34207909963840755, 0.2683292252330771, 0.25548372961472915, 0.2319736762588801, 0.2610481415737899, 0.45442136571290487, 0.42301397358324727, 0.39404561482312017, 0.4207786065038226, 0.3854609093355128, 0.4221431193635339, 0.3800225830414385, 0.4144029645930271, 0.4028619003838419, 0.2727043993909193, 0.45720451566184117, 0.25438170024491596, 0.41211263824179634, 0.4324716931362434, 0.4041582232772265, 0.36570500912557335, 0.4591734002693361, 0.4565949829797373, 0.46810957027379246, 0.05622316649435862, 0.2206487120726964, 0.31284278221708317, 0.4548119990140511, 0.0, 0.36708350872439094, 0.41057697551911576, 0.40248552606126625, 0.37230590967451643, 0.4509847712353772, 0.49801884082726117]}, {\"categories\": [\"0\", \"1\", \"2\", \"3\", \"4\", \"5\", \"6\", \"7\", \"8\", \"9\", \"10\", \"11\", \"12\", \"13\", \"14\", \"15\", \"16\", \"17\", \"18\", \"19\", \"20\", \"21\", \"22\", \"23\", \"24\", \"25\", \"26\", \"27\", \"28\", \"29\", \"30\", \"31\", \"32\", \"33\", \"34\", \"35\", \"36\", \"37\", \"38\", \"39\", \"43\"], \"mode\": \"lines\", \"name\": \"matthews_correlation_max\", \"stepped\": true, \"type\": \"scatter\", \"data\": [0.443721955771977, 0.443721955771977, 0.443721955771977, 0.443721955771977, 0.443721955771977, 0.443721955771977, 0.443721955771977, 0.443721955771977, 0.443721955771977, 0.443721955771977, 0.443721955771977, 0.45442136571290487, 0.45442136571290487, 0.45442136571290487, 0.45442136571290487, 0.45442136571290487, 0.45442136571290487, 0.45442136571290487, 0.45442136571290487, 0.45442136571290487, 0.45442136571290487, 0.45720451566184117, 0.45720451566184117, 0.45720451566184117, 0.45720451566184117, 0.45720451566184117, 0.45720451566184117, 0.4591734002693361, 0.4591734002693361, 0.46810957027379246, 0.46810957027379246, 0.46810957027379246, 0.46810957027379246, 0.46810957027379246, 0.46810957027379246, 0.46810957027379246, 0.46810957027379246, 0.46810957027379246, 0.46810957027379246, 0.46810957027379246, 0.49801884082726117]}], \"AUC_micro\": [{\"categories\": [\"0\", \"1\", \"2\", \"3\", \"4\", \"5\", \"6\", \"7\", \"8\", \"9\", \"10\", \"11\", \"12\", \"13\", \"14\", \"15\", \"16\", \"17\", \"18\", \"19\", \"20\", \"21\", \"22\", \"23\", \"24\", \"25\", \"26\", \"27\", \"28\", \"29\", \"30\", \"31\", \"32\", \"33\", \"34\", \"35\", \"36\", \"37\", \"38\", \"39\", \"43\"], \"mode\": \"markers\", \"name\": \"AUC_micro\", \"stepped\": false, \"type\": \"scatter\", \"data\": [0.8188072049806498, 0.8286293876125527, 0.8274658120860332, 0.8255401814293272, 0.8243865831511439, 0.8334467299029193, 0.7807045499629751, 0.7565449520704028, 0.7282697212278899, 0.7356557734585983, 0.7273204798593685, 0.8448444732471069, 0.8401968556763239, 0.8268234740249616, 0.8299356967983836, 0.8235269300318683, 0.8329103893368243, 0.8206200958569069, 0.8157894822710007, 0.8106120914537134, 0.7234172220403948, 0.8403963390809817, 0.7273284114554089, 0.8327167133509183, 0.8261502075994963, 0.8130620780854052, 0.8171074838663541, 0.8288150151679027, 0.8393724955387513, 0.8191947904308986, 0.419629156764322, 0.7246390869357816, 0.6879862435267388, 0.8411261414046048, 0.7027378661161073, 0.8206248513838276, 0.822730691752581, 0.8249279527474712, 0.7869766345453705, 0.8431475191858286, 0.8460172668835023]}, {\"categories\": [\"0\", \"1\", \"2\", \"3\", \"4\", \"5\", \"6\", \"7\", \"8\", \"9\", \"10\", \"11\", \"12\", \"13\", \"14\", \"15\", \"16\", \"17\", \"18\", \"19\", \"20\", \"21\", \"22\", \"23\", \"24\", \"25\", \"26\", \"27\", \"28\", \"29\", \"30\", \"31\", \"32\", \"33\", \"34\", \"35\", \"36\", \"37\", \"38\", \"39\", \"43\"], \"mode\": \"lines\", \"name\": \"AUC_micro_max\", \"stepped\": true, \"type\": \"scatter\", \"data\": [0.8188072049806498, 0.8286293876125527, 0.8286293876125527, 0.8286293876125527, 0.8286293876125527, 0.8334467299029193, 0.8334467299029193, 0.8334467299029193, 0.8334467299029193, 0.8334467299029193, 0.8334467299029193, 0.8448444732471069, 0.8448444732471069, 0.8448444732471069, 0.8448444732471069, 0.8448444732471069, 0.8448444732471069, 0.8448444732471069, 0.8448444732471069, 0.8448444732471069, 0.8448444732471069, 0.8448444732471069, 0.8448444732471069, 0.8448444732471069, 0.8448444732471069, 0.8448444732471069, 0.8448444732471069, 0.8448444732471069, 0.8448444732471069, 0.8448444732471069, 0.8448444732471069, 0.8448444732471069, 0.8448444732471069, 0.8448444732471069, 0.8448444732471069, 0.8448444732471069, 0.8448444732471069, 0.8448444732471069, 0.8448444732471069, 0.8448444732471069, 0.8460172668835023]}], \"f1_score_weighted\": [{\"categories\": [\"0\", \"1\", \"2\", \"3\", \"4\", \"5\", \"6\", \"7\", \"8\", \"9\", \"10\", \"11\", \"12\", \"13\", \"14\", \"15\", \"16\", \"17\", \"18\", \"19\", \"20\", \"21\", \"22\", \"23\", \"24\", \"25\", \"26\", \"27\", \"28\", \"29\", \"30\", \"31\", \"32\", \"33\", \"34\", \"35\", \"36\", \"37\", \"38\", \"39\", \"43\"], \"mode\": \"markers\", \"name\": \"f1_score_weighted\", \"stepped\": false, \"type\": \"scatter\", \"data\": [0.7437922628335389, 0.7407599038402416, 0.7207147232545182, 0.7198860738838367, 0.7312117577414211, 0.7226302013396596, 0.6889225900494264, 0.6470117494469331, 0.6598352919189169, 0.648176905234002, 0.6614101435928877, 0.7486035574280375, 0.7349452106648795, 0.7143014678067791, 0.7228679892680798, 0.6984853657516661, 0.7274636034945287, 0.7119415688624408, 0.716328863503736, 0.7037959372183522, 0.6647346862553161, 0.7480344336001892, 0.6580292710401222, 0.7288227613865144, 0.7346239471521298, 0.7236677521781122, 0.7078583745779553, 0.7498416213008158, 0.7501717398593483, 0.7359179132054551, 0.30824410375882333, 0.6432336197165069, 0.6616489218758317, 0.7482555997714512, 0.49974123625436845, 0.6992721855039363, 0.7293509494289964, 0.7124712438185093, 0.712295533372605, 0.7447473453178485, 0.7683649289109568]}, {\"categories\": [\"0\", \"1\", \"2\", \"3\", \"4\", \"5\", \"6\", \"7\", \"8\", \"9\", \"10\", \"11\", \"12\", \"13\", \"14\", \"15\", \"16\", \"17\", \"18\", \"19\", \"20\", \"21\", \"22\", \"23\", \"24\", \"25\", \"26\", \"27\", \"28\", \"29\", \"30\", \"31\", \"32\", \"33\", \"34\", \"35\", \"36\", \"37\", \"38\", \"39\", \"43\"], \"mode\": \"lines\", \"name\": \"f1_score_weighted_max\", \"stepped\": true, \"type\": \"scatter\", \"data\": [0.7437922628335389, 0.7437922628335389, 0.7437922628335389, 0.7437922628335389, 0.7437922628335389, 0.7437922628335389, 0.7437922628335389, 0.7437922628335389, 0.7437922628335389, 0.7437922628335389, 0.7437922628335389, 0.7486035574280375, 0.7486035574280375, 0.7486035574280375, 0.7486035574280375, 0.7486035574280375, 0.7486035574280375, 0.7486035574280375, 0.7486035574280375, 0.7486035574280375, 0.7486035574280375, 0.7486035574280375, 0.7486035574280375, 0.7486035574280375, 0.7486035574280375, 0.7486035574280375, 0.7486035574280375, 0.7498416213008158, 0.7501717398593483, 0.7501717398593483, 0.7501717398593483, 0.7501717398593483, 0.7501717398593483, 0.7501717398593483, 0.7501717398593483, 0.7501717398593483, 0.7501717398593483, 0.7501717398593483, 0.7501717398593483, 0.7501717398593483, 0.7683649289109568]}], \"average_precision_score_macro\": [{\"categories\": [\"0\", \"1\", \"2\", \"3\", \"4\", \"5\", \"6\", \"7\", \"8\", \"9\", \"10\", \"11\", \"12\", \"13\", \"14\", \"15\", \"16\", \"17\", \"18\", \"19\", \"20\", \"21\", \"22\", \"23\", \"24\", \"25\", \"26\", \"27\", \"28\", \"29\", \"30\", \"31\", \"32\", \"33\", \"34\", \"35\", \"36\", \"37\", \"38\", \"39\", \"43\"], \"mode\": \"markers\", \"name\": \"average_precision_score_macro\", \"stepped\": false, \"type\": \"scatter\", \"data\": [0.7692937589625579, 0.785048807722532, 0.7873801219575648, 0.790813213231711, 0.7952223715811236, 0.7964904152627815, 0.7257546388778205, 0.7021675919707867, 0.6669791455884789, 0.663659409286376, 0.6728372812764424, 0.8081200290483364, 0.8074874155924322, 0.7923604659596098, 0.806189850974817, 0.8019961333513553, 0.8022671154827871, 0.7809527739464605, 0.7870513543267577, 0.7899438453389864, 0.6559285320097833, 0.8040647294122271, 0.6582277182404835, 0.7904451277398922, 0.7924961714499764, 0.7634110260056541, 0.7777382629078105, 0.7918418323430028, 0.7989755828349967, 0.809888158619528, 0.5245324244573794, 0.6439784242941029, 0.6618654473871156, 0.8037355824726989, 0.6141775602427729, 0.7894981105509201, 0.7815326160029775, 0.7989365082566847, 0.7287543719926454, 0.8030497334618903, 0.8037363404078923]}, {\"categories\": [\"0\", \"1\", \"2\", \"3\", \"4\", \"5\", \"6\", \"7\", \"8\", \"9\", \"10\", \"11\", \"12\", \"13\", \"14\", \"15\", \"16\", \"17\", \"18\", \"19\", \"20\", \"21\", \"22\", \"23\", \"24\", \"25\", \"26\", \"27\", \"28\", \"29\", \"30\", \"31\", \"32\", \"33\", \"34\", \"35\", \"36\", \"37\", \"38\", \"39\", \"43\"], \"mode\": \"lines\", \"name\": \"average_precision_score_macro_max\", \"stepped\": true, \"type\": \"scatter\", \"data\": [0.7692937589625579, 0.785048807722532, 0.7873801219575648, 0.790813213231711, 0.7952223715811236, 0.7964904152627815, 0.7964904152627815, 0.7964904152627815, 0.7964904152627815, 0.7964904152627815, 0.7964904152627815, 0.8081200290483364, 0.8081200290483364, 0.8081200290483364, 0.8081200290483364, 0.8081200290483364, 0.8081200290483364, 0.8081200290483364, 0.8081200290483364, 0.8081200290483364, 0.8081200290483364, 0.8081200290483364, 0.8081200290483364, 0.8081200290483364, 0.8081200290483364, 0.8081200290483364, 0.8081200290483364, 0.8081200290483364, 0.8081200290483364, 0.809888158619528, 0.809888158619528, 0.809888158619528, 0.809888158619528, 0.809888158619528, 0.809888158619528, 0.809888158619528, 0.809888158619528, 0.809888158619528, 0.809888158619528, 0.809888158619528, 0.809888158619528]}], \"balanced_accuracy\": [{\"categories\": [\"0\", \"1\", \"2\", \"3\", \"4\", \"5\", \"6\", \"7\", \"8\", \"9\", \"10\", \"11\", \"12\", \"13\", \"14\", \"15\", \"16\", \"17\", \"18\", \"19\", \"20\", \"21\", \"22\", \"23\", \"24\", \"25\", \"26\", \"27\", \"28\", \"29\", \"30\", \"31\", \"32\", \"33\", \"34\", \"35\", \"36\", \"37\", \"38\", \"39\", \"43\"], \"mode\": \"markers\", \"name\": \"balanced_accuracy\", \"stepped\": false, \"type\": \"scatter\", \"data\": [0.7175460053570063, 0.712601758701069, 0.6871327820349898, 0.6885019436964835, 0.7152697233708784, 0.6928661851202725, 0.6454338475091016, 0.6062564507486341, 0.6215253228472148, 0.602050207643608, 0.6261592459019162, 0.7137376086612514, 0.69859803686444, 0.6713933537179372, 0.6777863132645304, 0.65251978393138, 0.6847298054678815, 0.6704721806612186, 0.6702790272751651, 0.6558384323060391, 0.6291581030536534, 0.7124942331905233, 0.618080187979941, 0.688952139014399, 0.6951867500830939, 0.6892172959387075, 0.6743382657027798, 0.7157534440844779, 0.7208959502866774, 0.7419391450572261, 0.5180819497176421, 0.5962350417710295, 0.6623567749662841, 0.7172170752284663, 0.5, 0.6550300249817901, 0.6944146496497997, 0.6661149576828675, 0.6744301370801783, 0.7064660801211519, 0.7382005859812594]}, {\"categories\": [\"0\", \"1\", \"2\", \"3\", \"4\", \"5\", \"6\", \"7\", \"8\", \"9\", \"10\", \"11\", \"12\", \"13\", \"14\", \"15\", \"16\", \"17\", \"18\", \"19\", \"20\", \"21\", \"22\", \"23\", \"24\", \"25\", \"26\", \"27\", \"28\", \"29\", \"30\", \"31\", \"32\", \"33\", \"34\", \"35\", \"36\", \"37\", \"38\", \"39\", \"43\"], \"mode\": \"lines\", \"name\": \"balanced_accuracy_max\", \"stepped\": true, \"type\": \"scatter\", \"data\": [0.7175460053570063, 0.7175460053570063, 0.7175460053570063, 0.7175460053570063, 0.7175460053570063, 0.7175460053570063, 0.7175460053570063, 0.7175460053570063, 0.7175460053570063, 0.7175460053570063, 0.7175460053570063, 0.7175460053570063, 0.7175460053570063, 0.7175460053570063, 0.7175460053570063, 0.7175460053570063, 0.7175460053570063, 0.7175460053570063, 0.7175460053570063, 0.7175460053570063, 0.7175460053570063, 0.7175460053570063, 0.7175460053570063, 0.7175460053570063, 0.7175460053570063, 0.7175460053570063, 0.7175460053570063, 0.7175460053570063, 0.7208959502866774, 0.7419391450572261, 0.7419391450572261, 0.7419391450572261, 0.7419391450572261, 0.7419391450572261, 0.7419391450572261, 0.7419391450572261, 0.7419391450572261, 0.7419391450572261, 0.7419391450572261, 0.7419391450572261, 0.7419391450572261]}], \"average_precision_score_micro\": [{\"categories\": [\"0\", \"1\", \"2\", \"3\", \"4\", \"5\", \"6\", \"7\", \"8\", \"9\", \"10\", \"11\", \"12\", \"13\", \"14\", \"15\", \"16\", \"17\", \"18\", \"19\", \"20\", \"21\", \"22\", \"23\", \"24\", \"25\", \"26\", \"27\", \"28\", \"29\", \"30\", \"31\", \"32\", \"33\", \"34\", \"35\", \"36\", \"37\", \"38\", \"39\", \"43\"], \"mode\": \"markers\", \"name\": \"average_precision_score_micro\", \"stepped\": false, \"type\": \"scatter\", \"data\": [0.8166117860170772, 0.8275879185031454, 0.8273696612798812, 0.8298370865674842, 0.8234323657130297, 0.837070662066587, 0.7662598804629223, 0.7454135566612852, 0.7271376825480219, 0.7361302315023776, 0.722091905570093, 0.84601754237296, 0.8423482849102558, 0.830632227551574, 0.8343304072372821, 0.8259359986049946, 0.83268450547219, 0.8222419142941856, 0.8182668523752152, 0.8065416099105437, 0.7128678592457041, 0.839179814620619, 0.7231197814078975, 0.8329775157163924, 0.8293113775315925, 0.7986751844999164, 0.8221491058566189, 0.8288980710103416, 0.8407439647406862, 0.8220623021750132, 0.4634741604548926, 0.7081938055725595, 0.6828096171441058, 0.8438020667044279, 0.6977092472624139, 0.8228545807771726, 0.8253568698557773, 0.8282454248128972, 0.7744926746210394, 0.8419413817263023, 0.8449326906137743]}, {\"categories\": [\"0\", \"1\", \"2\", \"3\", \"4\", \"5\", \"6\", \"7\", \"8\", \"9\", \"10\", \"11\", \"12\", \"13\", \"14\", \"15\", \"16\", \"17\", \"18\", \"19\", \"20\", \"21\", \"22\", \"23\", \"24\", \"25\", \"26\", \"27\", \"28\", \"29\", \"30\", \"31\", \"32\", \"33\", \"34\", \"35\", \"36\", \"37\", \"38\", \"39\", \"43\"], \"mode\": \"lines\", \"name\": \"average_precision_score_micro_max\", \"stepped\": true, \"type\": \"scatter\", \"data\": [0.8166117860170772, 0.8275879185031454, 0.8275879185031454, 0.8298370865674842, 0.8298370865674842, 0.837070662066587, 0.837070662066587, 0.837070662066587, 0.837070662066587, 0.837070662066587, 0.837070662066587, 0.84601754237296, 0.84601754237296, 0.84601754237296, 0.84601754237296, 0.84601754237296, 0.84601754237296, 0.84601754237296, 0.84601754237296, 0.84601754237296, 0.84601754237296, 0.84601754237296, 0.84601754237296, 0.84601754237296, 0.84601754237296, 0.84601754237296, 0.84601754237296, 0.84601754237296, 0.84601754237296, 0.84601754237296, 0.84601754237296, 0.84601754237296, 0.84601754237296, 0.84601754237296, 0.84601754237296, 0.84601754237296, 0.84601754237296, 0.84601754237296, 0.84601754237296, 0.84601754237296, 0.84601754237296]}], \"recall_score_micro\": [{\"categories\": [\"0\", \"1\", \"2\", \"3\", \"4\", \"5\", \"6\", \"7\", \"8\", \"9\", \"10\", \"11\", \"12\", \"13\", \"14\", \"15\", \"16\", \"17\", \"18\", \"19\", \"20\", \"21\", \"22\", \"23\", \"24\", \"25\", \"26\", \"27\", \"28\", \"29\", \"30\", \"31\", \"32\", \"33\", \"34\", \"35\", \"36\", \"37\", \"38\", \"39\", \"43\"], \"mode\": \"markers\", \"name\": \"recall_score_micro\", \"stepped\": false, \"type\": \"scatter\", \"data\": [0.7459588713534194, 0.7443089430894309, 0.7280009564801531, 0.7247409532918859, 0.7297066794197353, 0.728024868483979, 0.7117168818747012, 0.684018810776343, 0.6693766937669375, 0.667774589510601, 0.6676709708273553, 0.755714968914395, 0.7426908974972103, 0.7328790052606409, 0.7442690897497211, 0.7296110314044317, 0.744285031085605, 0.7263829108879324, 0.7410170572293958, 0.7361230671130241, 0.675864817471704, 0.7573170731707317, 0.6709628566873903, 0.739430894308943, 0.7475450342738722, 0.7329029172644668, 0.7149848557309103, 0.7573250438386737, 0.7540809819862905, 0.731316754344014, 0.41688984536904194, 0.66449864498645, 0.6547186354216482, 0.7540570699824646, 0.6400366650725331, 0.7230910250278972, 0.7361708911206759, 0.7377411127052448, 0.7214729794356768, 0.7556830862426271, 0.7736011477761836]}, {\"categories\": [\"0\", \"1\", \"2\", \"3\", \"4\", \"5\", \"6\", \"7\", \"8\", \"9\", \"10\", \"11\", \"12\", \"13\", \"14\", \"15\", \"16\", \"17\", \"18\", \"19\", \"20\", \"21\", \"22\", \"23\", \"24\", \"25\", \"26\", \"27\", \"28\", \"29\", \"30\", \"31\", \"32\", \"33\", \"34\", \"35\", \"36\", \"37\", \"38\", \"39\", \"43\"], \"mode\": \"lines\", \"name\": \"recall_score_micro_max\", \"stepped\": true, \"type\": \"scatter\", \"data\": [0.7459588713534194, 0.7459588713534194, 0.7459588713534194, 0.7459588713534194, 0.7459588713534194, 0.7459588713534194, 0.7459588713534194, 0.7459588713534194, 0.7459588713534194, 0.7459588713534194, 0.7459588713534194, 0.755714968914395, 0.755714968914395, 0.755714968914395, 0.755714968914395, 0.755714968914395, 0.755714968914395, 0.755714968914395, 0.755714968914395, 0.755714968914395, 0.755714968914395, 0.7573170731707317, 0.7573170731707317, 0.7573170731707317, 0.7573170731707317, 0.7573170731707317, 0.7573170731707317, 0.7573250438386737, 0.7573250438386737, 0.7573250438386737, 0.7573250438386737, 0.7573250438386737, 0.7573250438386737, 0.7573250438386737, 0.7573250438386737, 0.7573250438386737, 0.7573250438386737, 0.7573250438386737, 0.7573250438386737, 0.7573250438386737, 0.7736011477761836]}], \"average_precision_score_weighted\": [{\"categories\": [\"0\", \"1\", \"2\", \"3\", \"4\", \"5\", \"6\", \"7\", \"8\", \"9\", \"10\", \"11\", \"12\", \"13\", \"14\", \"15\", \"16\", \"17\", \"18\", \"19\", \"20\", \"21\", \"22\", \"23\", \"24\", \"25\", \"26\", \"27\", \"28\", \"29\", \"30\", \"31\", \"32\", \"33\", \"34\", \"35\", \"36\", \"37\", \"38\", \"39\", \"43\"], \"mode\": \"markers\", \"name\": \"average_precision_score_weighted\", \"stepped\": false, \"type\": \"scatter\", \"data\": [0.8002373361791034, 0.8147330219387596, 0.8150663287429744, 0.8183623673641801, 0.8200353193490941, 0.8239754105462064, 0.7558714674026619, 0.7342941205062399, 0.704266567044269, 0.7044466838528832, 0.704954380658303, 0.8339289791926543, 0.8325791159991959, 0.8207852882392137, 0.831921081398968, 0.8272712171366576, 0.8270587619204711, 0.8102072294555063, 0.8139580514422334, 0.8125865121211838, 0.6905403612317403, 0.8288352650801266, 0.6963030147839175, 0.8181417956778491, 0.8199000836586793, 0.7871959902683047, 0.8069155190724319, 0.8186712938731603, 0.8262434375113378, 0.8337020115228041, 0.5658032621492887, 0.6795271730029285, 0.700068273553391, 0.8304261986849267, 0.6563844768729891, 0.8160170474117144, 0.8101320947432371, 0.8252828154353646, 0.7574009698535562, 0.8289161852667464, 0.8300193649941211]}, {\"categories\": [\"0\", \"1\", \"2\", \"3\", \"4\", \"5\", \"6\", \"7\", \"8\", \"9\", \"10\", \"11\", \"12\", \"13\", \"14\", \"15\", \"16\", \"17\", \"18\", \"19\", \"20\", \"21\", \"22\", \"23\", \"24\", \"25\", \"26\", \"27\", \"28\", \"29\", \"30\", \"31\", \"32\", \"33\", \"34\", \"35\", \"36\", \"37\", \"38\", \"39\", \"43\"], \"mode\": \"lines\", \"name\": \"average_precision_score_weighted_max\", \"stepped\": true, \"type\": \"scatter\", \"data\": [0.8002373361791034, 0.8147330219387596, 0.8150663287429744, 0.8183623673641801, 0.8200353193490941, 0.8239754105462064, 0.8239754105462064, 0.8239754105462064, 0.8239754105462064, 0.8239754105462064, 0.8239754105462064, 0.8339289791926543, 0.8339289791926543, 0.8339289791926543, 0.8339289791926543, 0.8339289791926543, 0.8339289791926543, 0.8339289791926543, 0.8339289791926543, 0.8339289791926543, 0.8339289791926543, 0.8339289791926543, 0.8339289791926543, 0.8339289791926543, 0.8339289791926543, 0.8339289791926543, 0.8339289791926543, 0.8339289791926543, 0.8339289791926543, 0.8339289791926543, 0.8339289791926543, 0.8339289791926543, 0.8339289791926543, 0.8339289791926543, 0.8339289791926543, 0.8339289791926543, 0.8339289791926543, 0.8339289791926543, 0.8339289791926543, 0.8339289791926543, 0.8339289791926543]}], \"weighted_accuracy\": [{\"categories\": [\"0\", \"1\", \"2\", \"3\", \"4\", \"5\", \"6\", \"7\", \"8\", \"9\", \"10\", \"11\", \"12\", \"13\", \"14\", \"15\", \"16\", \"17\", \"18\", \"19\", \"20\", \"21\", \"22\", \"23\", \"24\", \"25\", \"26\", \"27\", \"28\", \"29\", \"30\", \"31\", \"32\", \"33\", \"34\", \"35\", \"36\", \"37\", \"38\", \"39\", \"43\"], \"mode\": \"markers\", \"name\": \"weighted_accuracy\", \"stepped\": false, \"type\": \"scatter\", \"data\": [0.7703331923526053, 0.7715615333630267, 0.7627991715734034, 0.7555846702721548, 0.7423861605106694, 0.7583902360936642, 0.768439814396103, 0.7507606570937585, 0.7102509151244139, 0.7235384328767736, 0.7032264358148269, 0.791426218111519, 0.7801803357952924, 0.7851401616412073, 0.800873491674379, 0.795459315875858, 0.7950321829391004, 0.7739879307541564, 0.8012348499212937, 0.8044472230944817, 0.7161891505812669, 0.795784194882973, 0.7162246017990679, 0.7823387346178508, 0.7922056517369541, 0.7698976268158852, 0.7498658016375792, 0.7928871811836243, 0.7824854274399314, 0.722673760749172, 0.32929632579942225, 0.7223531279779601, 0.648447074342733, 0.7856334107723355, 0.7586270224089081, 0.7812153465709373, 0.7716510312788644, 0.7985412879581043, 0.7615343762804007, 0.797666322875493, 0.803872141535665]}, {\"categories\": [\"0\", \"1\", \"2\", \"3\", \"4\", \"5\", \"6\", \"7\", \"8\", \"9\", \"10\", \"11\", \"12\", \"13\", \"14\", \"15\", \"16\", \"17\", \"18\", \"19\", \"20\", \"21\", \"22\", \"23\", \"24\", \"25\", \"26\", \"27\", \"28\", \"29\", \"30\", \"31\", \"32\", \"33\", \"34\", \"35\", \"36\", \"37\", \"38\", \"39\", \"43\"], \"mode\": \"lines\", \"name\": \"weighted_accuracy_max\", \"stepped\": true, \"type\": \"scatter\", \"data\": [0.7703331923526053, 0.7715615333630267, 0.7715615333630267, 0.7715615333630267, 0.7715615333630267, 0.7715615333630267, 0.7715615333630267, 0.7715615333630267, 0.7715615333630267, 0.7715615333630267, 0.7715615333630267, 0.791426218111519, 0.791426218111519, 0.791426218111519, 0.800873491674379, 0.800873491674379, 0.800873491674379, 0.800873491674379, 0.8012348499212937, 0.8044472230944817, 0.8044472230944817, 0.8044472230944817, 0.8044472230944817, 0.8044472230944817, 0.8044472230944817, 0.8044472230944817, 0.8044472230944817, 0.8044472230944817, 0.8044472230944817, 0.8044472230944817, 0.8044472230944817, 0.8044472230944817, 0.8044472230944817, 0.8044472230944817, 0.8044472230944817, 0.8044472230944817, 0.8044472230944817, 0.8044472230944817, 0.8044472230944817, 0.8044472230944817, 0.8044472230944817]}], \"AUC_weighted\": [{\"categories\": [\"0\", \"1\", \"2\", \"3\", \"4\", \"5\", \"6\", \"7\", \"8\", \"9\", \"10\", \"11\", \"12\", \"13\", \"14\", \"15\", \"16\", \"17\", \"18\", \"19\", \"20\", \"21\", \"22\", \"23\", \"24\", \"25\", \"26\", \"27\", \"28\", \"29\", \"30\", \"31\", \"32\", \"33\", \"34\", \"35\", \"36\", \"37\", \"38\", \"39\", \"43\"], \"mode\": \"markers\", \"name\": \"AUC_weighted\", \"stepped\": false, \"type\": \"scatter\", \"data\": [0.801557560850414, 0.8153530249017112, 0.810497961813683, 0.8081698151076652, 0.8126840490085655, 0.8172021474542867, 0.7545786860840872, 0.726158786062478, 0.6885423791809986, 0.69394546198612, 0.6878595551922787, 0.8301046709367829, 0.8252688249182798, 0.8171101081950196, 0.8254544735853981, 0.8214298881043979, 0.8225045557319182, 0.8075428082959014, 0.8070590699414827, 0.809142277581891, 0.6789882745361057, 0.824670864562154, 0.6849014989394622, 0.8150095727829118, 0.8129126484749629, 0.786841307676902, 0.7985680556354339, 0.8109343757452269, 0.8226957833823082, 0.8281218216065488, 0.5378295203048484, 0.6720916703308438, 0.6881985156938857, 0.8250795623180824, 0.6355990463563814, 0.8091535454351962, 0.8049493351423354, 0.8199206124459897, 0.7557280473627949, 0.828271031057163, 0.830460947242786]}, {\"categories\": [\"0\", \"1\", \"2\", \"3\", \"4\", \"5\", \"6\", \"7\", \"8\", \"9\", \"10\", \"11\", \"12\", \"13\", \"14\", \"15\", \"16\", \"17\", \"18\", \"19\", \"20\", \"21\", \"22\", \"23\", \"24\", \"25\", \"26\", \"27\", \"28\", \"29\", \"30\", \"31\", \"32\", \"33\", \"34\", \"35\", \"36\", \"37\", \"38\", \"39\", \"43\"], \"mode\": \"lines\", \"name\": \"AUC_weighted_max\", \"stepped\": true, \"type\": \"scatter\", \"data\": [0.801557560850414, 0.8153530249017112, 0.8153530249017112, 0.8153530249017112, 0.8153530249017112, 0.8172021474542867, 0.8172021474542867, 0.8172021474542867, 0.8172021474542867, 0.8172021474542867, 0.8172021474542867, 0.8301046709367829, 0.8301046709367829, 0.8301046709367829, 0.8301046709367829, 0.8301046709367829, 0.8301046709367829, 0.8301046709367829, 0.8301046709367829, 0.8301046709367829, 0.8301046709367829, 0.8301046709367829, 0.8301046709367829, 0.8301046709367829, 0.8301046709367829, 0.8301046709367829, 0.8301046709367829, 0.8301046709367829, 0.8301046709367829, 0.8301046709367829, 0.8301046709367829, 0.8301046709367829, 0.8301046709367829, 0.8301046709367829, 0.8301046709367829, 0.8301046709367829, 0.8301046709367829, 0.8301046709367829, 0.8301046709367829, 0.8301046709367829, 0.830460947242786]}], \"f1_score_macro\": [{\"categories\": [\"0\", \"1\", \"2\", \"3\", \"4\", \"5\", \"6\", \"7\", \"8\", \"9\", \"10\", \"11\", \"12\", \"13\", \"14\", \"15\", \"16\", \"17\", \"18\", \"19\", \"20\", \"21\", \"22\", \"23\", \"24\", \"25\", \"26\", \"27\", \"28\", \"29\", \"30\", \"31\", \"32\", \"33\", \"34\", \"35\", \"36\", \"37\", \"38\", \"39\", \"43\"], \"mode\": \"markers\", \"name\": \"f1_score_macro\", \"stepped\": false, \"type\": \"scatter\", \"data\": [0.7197014088315093, 0.7153963252134389, 0.6905893745448143, 0.6914517587586467, 0.7105981533733532, 0.6949887390549385, 0.6473809525031295, 0.5958663458867989, 0.6232202401827268, 0.6027641686599786, 0.6272808118525374, 0.7209024050312601, 0.7055562728709571, 0.6770022127986004, 0.6849683203000052, 0.6540263703291245, 0.692375162706122, 0.6765360968810451, 0.6760817574688934, 0.6591047856644979, 0.6285583892492111, 0.7195439624717119, 0.6190101944665144, 0.6965537478786229, 0.7024488364108397, 0.6925090155833994, 0.677430628870701, 0.7223159751683687, 0.7251365507359383, 0.7224506942244501, 0.3514443749614464, 0.596141035109475, 0.6456602914373969, 0.7218667433322147, 0.3901660469453489, 0.6582145370988003, 0.7002465977679115, 0.6713769934477701, 0.6800801271654383, 0.7146346176751699, 0.7441549744477097]}, {\"categories\": [\"0\", \"1\", \"2\", \"3\", \"4\", \"5\", \"6\", \"7\", \"8\", \"9\", \"10\", \"11\", \"12\", \"13\", \"14\", \"15\", \"16\", \"17\", \"18\", \"19\", \"20\", \"21\", \"22\", \"23\", \"24\", \"25\", \"26\", \"27\", \"28\", \"29\", \"30\", \"31\", \"32\", \"33\", \"34\", \"35\", \"36\", \"37\", \"38\", \"39\", \"43\"], \"mode\": \"lines\", \"name\": \"f1_score_macro_max\", \"stepped\": true, \"type\": \"scatter\", \"data\": [0.7197014088315093, 0.7197014088315093, 0.7197014088315093, 0.7197014088315093, 0.7197014088315093, 0.7197014088315093, 0.7197014088315093, 0.7197014088315093, 0.7197014088315093, 0.7197014088315093, 0.7197014088315093, 0.7209024050312601, 0.7209024050312601, 0.7209024050312601, 0.7209024050312601, 0.7209024050312601, 0.7209024050312601, 0.7209024050312601, 0.7209024050312601, 0.7209024050312601, 0.7209024050312601, 0.7209024050312601, 0.7209024050312601, 0.7209024050312601, 0.7209024050312601, 0.7209024050312601, 0.7209024050312601, 0.7223159751683687, 0.7251365507359383, 0.7251365507359383, 0.7251365507359383, 0.7251365507359383, 0.7251365507359383, 0.7251365507359383, 0.7251365507359383, 0.7251365507359383, 0.7251365507359383, 0.7251365507359383, 0.7251365507359383, 0.7251365507359383, 0.7441549744477097]}], \"recall_score_macro\": [{\"categories\": [\"0\", \"1\", \"2\", \"3\", \"4\", \"5\", \"6\", \"7\", \"8\", \"9\", \"10\", \"11\", \"12\", \"13\", \"14\", \"15\", \"16\", \"17\", \"18\", \"19\", \"20\", \"21\", \"22\", \"23\", \"24\", \"25\", \"26\", \"27\", \"28\", \"29\", \"30\", \"31\", \"32\", \"33\", \"34\", \"35\", \"36\", \"37\", \"38\", \"39\", \"43\"], \"mode\": \"markers\", \"name\": \"recall_score_macro\", \"stepped\": false, \"type\": \"scatter\", \"data\": [0.7175460053570063, 0.712601758701069, 0.6871327820349898, 0.6885019436964835, 0.7152697233708784, 0.6928661851202725, 0.6454338475091016, 0.6062564507486341, 0.6215253228472148, 0.602050207643608, 0.6261592459019162, 0.7137376086612514, 0.69859803686444, 0.6713933537179372, 0.6777863132645304, 0.65251978393138, 0.6847298054678815, 0.6704721806612186, 0.6702790272751651, 0.6558384323060391, 0.6291581030536534, 0.7124942331905233, 0.618080187979941, 0.688952139014399, 0.6951867500830939, 0.6892172959387075, 0.6743382657027798, 0.7157534440844779, 0.7208959502866774, 0.7419391450572261, 0.5180819497176421, 0.5962350417710295, 0.6623567749662841, 0.7172170752284663, 0.5, 0.6550300249817901, 0.6944146496497997, 0.6661149576828675, 0.6744301370801783, 0.7064660801211519, 0.7382005859812594]}, {\"categories\": [\"0\", \"1\", \"2\", \"3\", \"4\", \"5\", \"6\", \"7\", \"8\", \"9\", \"10\", \"11\", \"12\", \"13\", \"14\", \"15\", \"16\", \"17\", \"18\", \"19\", \"20\", \"21\", \"22\", \"23\", \"24\", \"25\", \"26\", \"27\", \"28\", \"29\", \"30\", \"31\", \"32\", \"33\", \"34\", \"35\", \"36\", \"37\", \"38\", \"39\", \"43\"], \"mode\": \"lines\", \"name\": \"recall_score_macro_max\", \"stepped\": true, \"type\": \"scatter\", \"data\": [0.7175460053570063, 0.7175460053570063, 0.7175460053570063, 0.7175460053570063, 0.7175460053570063, 0.7175460053570063, 0.7175460053570063, 0.7175460053570063, 0.7175460053570063, 0.7175460053570063, 0.7175460053570063, 0.7175460053570063, 0.7175460053570063, 0.7175460053570063, 0.7175460053570063, 0.7175460053570063, 0.7175460053570063, 0.7175460053570063, 0.7175460053570063, 0.7175460053570063, 0.7175460053570063, 0.7175460053570063, 0.7175460053570063, 0.7175460053570063, 0.7175460053570063, 0.7175460053570063, 0.7175460053570063, 0.7175460053570063, 0.7208959502866774, 0.7419391450572261, 0.7419391450572261, 0.7419391450572261, 0.7419391450572261, 0.7419391450572261, 0.7419391450572261, 0.7419391450572261, 0.7419391450572261, 0.7419391450572261, 0.7419391450572261, 0.7419391450572261, 0.7419391450572261]}], \"f1_score_micro\": [{\"categories\": [\"0\", \"1\", \"2\", \"3\", \"4\", \"5\", \"6\", \"7\", \"8\", \"9\", \"10\", \"11\", \"12\", \"13\", \"14\", \"15\", \"16\", \"17\", \"18\", \"19\", \"20\", \"21\", \"22\", \"23\", \"24\", \"25\", \"26\", \"27\", \"28\", \"29\", \"30\", \"31\", \"32\", \"33\", \"34\", \"35\", \"36\", \"37\", \"38\", \"39\", \"43\"], \"mode\": \"markers\", \"name\": \"f1_score_micro\", \"stepped\": false, \"type\": \"scatter\", \"data\": [0.7459588713534194, 0.7443089430894309, 0.7280009564801531, 0.7247409532918859, 0.7297066794197353, 0.728024868483979, 0.7117168818747012, 0.684018810776343, 0.6693766937669375, 0.667774589510601, 0.6676709708273553, 0.7557149689143952, 0.7426908974972103, 0.7328790052606409, 0.7442690897497211, 0.7296110314044317, 0.744285031085605, 0.7263829108879323, 0.7410170572293958, 0.7361230671130241, 0.675864817471704, 0.7573170731707317, 0.6709628566873903, 0.739430894308943, 0.7475450342738723, 0.7329029172644668, 0.7149848557309103, 0.7573250438386737, 0.7540809819862905, 0.7313167543440139, 0.41688984536904194, 0.66449864498645, 0.6547186354216482, 0.7540570699824646, 0.6400366650725331, 0.7230910250278972, 0.7361708911206759, 0.7377411127052448, 0.7214729794356768, 0.7556830862426271, 0.7736011477761836]}, {\"categories\": [\"0\", \"1\", \"2\", \"3\", \"4\", \"5\", \"6\", \"7\", \"8\", \"9\", \"10\", \"11\", \"12\", \"13\", \"14\", \"15\", \"16\", \"17\", \"18\", \"19\", \"20\", \"21\", \"22\", \"23\", \"24\", \"25\", \"26\", \"27\", \"28\", \"29\", \"30\", \"31\", \"32\", \"33\", \"34\", \"35\", \"36\", \"37\", \"38\", \"39\", \"43\"], \"mode\": \"lines\", \"name\": \"f1_score_micro_max\", \"stepped\": true, \"type\": \"scatter\", \"data\": [0.7459588713534194, 0.7459588713534194, 0.7459588713534194, 0.7459588713534194, 0.7459588713534194, 0.7459588713534194, 0.7459588713534194, 0.7459588713534194, 0.7459588713534194, 0.7459588713534194, 0.7459588713534194, 0.7557149689143952, 0.7557149689143952, 0.7557149689143952, 0.7557149689143952, 0.7557149689143952, 0.7557149689143952, 0.7557149689143952, 0.7557149689143952, 0.7557149689143952, 0.7557149689143952, 0.7573170731707317, 0.7573170731707317, 0.7573170731707317, 0.7573170731707317, 0.7573170731707317, 0.7573170731707317, 0.7573250438386737, 0.7573250438386737, 0.7573250438386737, 0.7573250438386737, 0.7573250438386737, 0.7573250438386737, 0.7573250438386737, 0.7573250438386737, 0.7573250438386737, 0.7573250438386737, 0.7573250438386737, 0.7573250438386737, 0.7573250438386737, 0.7736011477761836]}]}, \"metricName\": null, \"primaryMetricName\": \"accuracy\", \"showLegend\": false}, \"run_metrics\": [{\"name\": \"experiment_status\", \"run_id\": \"AutoML_cf2ad60a-ed5e-41a5-86e3-7e219a593a08\", \"categories\": [0, 1, 2, 3, 4, 5, 6, 7, 8, 9, 10, 11, 12, 13], \"series\": [{\"data\": [\"DatasetEvaluation\", \"FeaturesGeneration\", \"DatasetFeaturization\", \"DatasetFeaturizationCompleted\", \"DatasetCrossValidationSplit\", \"ModelSelection\", \"BestRunExplainModel\", \"ModelExplanationDataSetSetup\", \"PickSurrogateModel\", \"EngineeredFeatureExplanations\", \"EngineeredFeatureExplanations\", \"RawFeaturesExplanations\", \"RawFeaturesExplanations\", \"BestRunExplainModel\"]}]}, {\"name\": \"experiment_status_description\", \"run_id\": \"AutoML_cf2ad60a-ed5e-41a5-86e3-7e219a593a08\", \"categories\": [0, 1, 2, 3, 4, 5, 6, 7, 8, 9, 10, 11, 12, 13], \"series\": [{\"data\": [\"Gathering dataset statistics.\", \"Generating features for the dataset.\", \"Beginning to fit featurizers and featurize the dataset.\", \"Completed fit featurizers and featurizing the dataset.\", \"Generating individually featurized CV splits.\", \"Beginning model selection.\", \"Best run model explanations started\", \"Model explanations data setup completed\", \"Choosing LightGBM as the surrogate model for explanations\", \"Computation of engineered features started\", \"Computation of engineered features completed\", \"Computation of raw features started\", \"Computation of raw features completed\", \"Best run model explanations completed\"]}]}, {\"name\": \"weighted_accuracy\", \"run_id\": \"AutoML_cf2ad60a-ed5e-41a5-86e3-7e219a593a08\", \"categories\": [0], \"series\": [{\"data\": [0.803872141535665]}]}, {\"name\": \"norm_macro_recall\", \"run_id\": \"AutoML_cf2ad60a-ed5e-41a5-86e3-7e219a593a08\", \"categories\": [0], \"series\": [{\"data\": [0.47640117196251874]}]}, {\"name\": \"f1_score_macro\", \"run_id\": \"AutoML_cf2ad60a-ed5e-41a5-86e3-7e219a593a08\", \"categories\": [0], \"series\": [{\"data\": [0.7441549744477097]}]}, {\"name\": \"precision_score_micro\", \"run_id\": \"AutoML_cf2ad60a-ed5e-41a5-86e3-7e219a593a08\", \"categories\": [0], \"series\": [{\"data\": [0.7736011477761836]}]}, {\"name\": \"average_precision_score_weighted\", \"run_id\": \"AutoML_cf2ad60a-ed5e-41a5-86e3-7e219a593a08\", \"categories\": [0], \"series\": [{\"data\": [0.8300193649941211]}]}, {\"name\": \"recall_score_micro\", \"run_id\": \"AutoML_cf2ad60a-ed5e-41a5-86e3-7e219a593a08\", \"categories\": [0], \"series\": [{\"data\": [0.7736011477761836]}]}, {\"name\": \"matthews_correlation\", \"run_id\": \"AutoML_cf2ad60a-ed5e-41a5-86e3-7e219a593a08\", \"categories\": [0], \"series\": [{\"data\": [0.49801884082726117]}]}, {\"name\": \"precision_score_macro\", \"run_id\": \"AutoML_cf2ad60a-ed5e-41a5-86e3-7e219a593a08\", \"categories\": [0], \"series\": [{\"data\": [0.7606961264086181]}]}, {\"name\": \"AUC_macro\", \"run_id\": \"AutoML_cf2ad60a-ed5e-41a5-86e3-7e219a593a08\", \"categories\": [0], \"series\": [{\"data\": [0.830460947242786]}]}, {\"name\": \"AUC_weighted\", \"run_id\": \"AutoML_cf2ad60a-ed5e-41a5-86e3-7e219a593a08\", \"categories\": [0], \"series\": [{\"data\": [0.830460947242786]}]}, {\"name\": \"log_loss\", \"run_id\": \"AutoML_cf2ad60a-ed5e-41a5-86e3-7e219a593a08\", \"categories\": [0], \"series\": [{\"data\": [0.5139348203260415]}]}, {\"name\": \"average_precision_score_micro\", \"run_id\": \"AutoML_cf2ad60a-ed5e-41a5-86e3-7e219a593a08\", \"categories\": [0], \"series\": [{\"data\": [0.8449326906137743]}]}, {\"name\": \"f1_score_weighted\", \"run_id\": \"AutoML_cf2ad60a-ed5e-41a5-86e3-7e219a593a08\", \"categories\": [0], \"series\": [{\"data\": [0.7683649289109568]}]}, {\"name\": \"balanced_accuracy\", \"run_id\": \"AutoML_cf2ad60a-ed5e-41a5-86e3-7e219a593a08\", \"categories\": [0], \"series\": [{\"data\": [0.7382005859812594]}]}, {\"name\": \"precision_score_weighted\", \"run_id\": \"AutoML_cf2ad60a-ed5e-41a5-86e3-7e219a593a08\", \"categories\": [0], \"series\": [{\"data\": [0.772260833043097]}]}, {\"name\": \"recall_score_weighted\", \"run_id\": \"AutoML_cf2ad60a-ed5e-41a5-86e3-7e219a593a08\", \"categories\": [0], \"series\": [{\"data\": [0.7736011477761836]}]}, {\"name\": \"accuracy\", \"run_id\": \"AutoML_cf2ad60a-ed5e-41a5-86e3-7e219a593a08\", \"categories\": [0], \"series\": [{\"data\": [0.7736011477761836]}]}, {\"name\": \"average_precision_score_macro\", \"run_id\": \"AutoML_cf2ad60a-ed5e-41a5-86e3-7e219a593a08\", \"categories\": [0], \"series\": [{\"data\": [0.8037363404078923]}]}, {\"name\": \"recall_score_macro\", \"run_id\": \"AutoML_cf2ad60a-ed5e-41a5-86e3-7e219a593a08\", \"categories\": [0], \"series\": [{\"data\": [0.7382005859812594]}]}, {\"name\": \"AUC_micro\", \"run_id\": \"AutoML_cf2ad60a-ed5e-41a5-86e3-7e219a593a08\", \"categories\": [0], \"series\": [{\"data\": [0.8460172668835023]}]}, {\"name\": \"f1_score_micro\", \"run_id\": \"AutoML_cf2ad60a-ed5e-41a5-86e3-7e219a593a08\", \"categories\": [0], \"series\": [{\"data\": [0.7736011477761836]}]}], \"run_logs\": \"\\nRun is completed.\", \"graph\": {}, \"widget_settings\": {\"childWidgetDisplay\": \"popup\", \"send_telemetry\": false, \"log_level\": \"INFO\", \"sdk_version\": \"1.19.0\"}, \"loading\": false}"
     },
     "metadata": {},
     "output_type": "display_data"
    },
    {
     "name": "stdout",
     "output_type": "stream",
     "text": [
      "\n",
      "Current status: FeaturesGeneration. Generating features for the dataset.\n",
      "Current status: DatasetCrossValidationSplit. Generating individually featurized CV splits.\n",
      "Current status: ModelSelection. Beginning model selection.\n",
      "\n",
      "****************************************************************************************************\n",
      "DATA GUARDRAILS: \n",
      "\n",
      "TYPE:         Class balancing detection\n",
      "STATUS:       PASSED\n",
      "DESCRIPTION:  Your inputs were analyzed, and all classes are balanced in your training data.\n",
      "              Learn more about imbalanced data: https://aka.ms/AutomatedMLImbalancedData\n",
      "\n",
      "****************************************************************************************************\n",
      "\n",
      "TYPE:         High cardinality feature detection\n",
      "STATUS:       PASSED\n",
      "DESCRIPTION:  Your inputs were analyzed, and no high cardinality features were detected.\n",
      "              Learn more about high cardinality feature handling: https://aka.ms/AutomatedMLFeaturization\n",
      "\n",
      "****************************************************************************************************\n",
      "\n",
      "****************************************************************************************************\n",
      "ITERATION: The iteration being evaluated.\n",
      "PIPELINE: A summary description of the pipeline being evaluated.\n",
      "DURATION: Time taken for the current iteration.\n",
      "METRIC: The result of computing score on the fitted pipeline.\n",
      "BEST: The best observed score thus far.\n",
      "****************************************************************************************************\n",
      "\n",
      " ITERATION   PIPELINE                                       DURATION      METRIC      BEST\n",
      "         0   MaxAbsScaler LightGBM                          0:01:03       0.7460    0.7460\n",
      "         1   MaxAbsScaler XGBoostClassifier                 0:00:54       0.7443    0.7460\n",
      "         2   MinMaxScaler RandomForest                      0:00:59       0.7280    0.7460\n",
      "         3   MinMaxScaler RandomForest                      0:00:54       0.7247    0.7460\n",
      "         4   MinMaxScaler RandomForest                      0:00:55       0.7297    0.7460\n",
      "         5   StandardScalerWrapper XGBoostClassifier        0:00:59       0.7280    0.7460\n",
      "         6   MinMaxScaler SVM                               0:01:31       0.7117    0.7460\n",
      "         7   MinMaxScaler SVM                               0:01:29       0.6840    0.7460\n",
      "         8   SparseNormalizer XGBoostClassifier             0:00:58       0.6694    0.7460\n",
      "         9   SparseNormalizer LightGBM                      0:00:54       0.6678    0.7460\n",
      "        10   SparseNormalizer XGBoostClassifier             0:01:04       0.6677    0.7460\n",
      "        11   MaxAbsScaler GradientBoosting                  0:01:00       0.7557    0.7557\n",
      "        12   StandardScalerWrapper LightGBM                 0:01:00       0.7427    0.7557\n",
      "        13   MaxAbsScaler LightGBM                          0:00:52       0.7329    0.7557\n",
      "        14   MaxAbsScaler ExtremeRandomTrees                0:01:03       0.7443    0.7557\n",
      "        15   MaxAbsScaler LightGBM                          0:00:52       0.7296    0.7557\n",
      "        16   MinMaxScaler LightGBM                          0:01:00       0.7443    0.7557\n",
      "        17   StandardScalerWrapper RandomForest             0:01:01       0.7264    0.7557\n",
      "        18   RobustScaler LightGBM                          0:00:56       0.7410    0.7557\n",
      "        19   MaxAbsScaler LightGBM                          0:01:07       0.7361    0.7557\n",
      "        20   SparseNormalizer XGBoostClassifier             0:00:59       0.6759    0.7557\n",
      "        21   MinMaxScaler LightGBM                          0:00:57       0.7573    0.7573\n",
      "        23   RobustScaler RandomForest                      0:00:48       0.7394    0.7573\n",
      "        22   SparseNormalizer XGBoostClassifier             0:01:03       0.6710    0.7573\n",
      "        24   StandardScalerWrapper LightGBM                 0:00:58       0.7475    0.7573\n",
      "        25   PCA LightGBM                                   0:01:03       0.7329    0.7573\n",
      "        27   MaxAbsScaler ExtremeRandomTrees                0:00:53       0.7573    0.7573\n",
      "        26   MaxAbsScaler LightGBM                          0:01:02       0.7150    0.7573\n",
      "        28   StandardScalerWrapper LightGBM                 0:00:59       0.7541    0.7573\n",
      "        29   MaxAbsScaler ExtremeRandomTrees                0:01:28       0.7313    0.7573\n",
      "        30   SparseNormalizer ExtremeRandomTrees            0:01:00       0.4169    0.7573\n",
      "        31   SparseNormalizer LightGBM                      0:00:56       0.6645    0.7573\n",
      "        32   SparseNormalizer ExtremeRandomTrees            0:01:02       0.6547    0.7573\n",
      "        33   MinMaxScaler LightGBM                          0:01:04       0.7541    0.7573\n",
      "        35   MaxAbsScaler LightGBM                          0:01:08       0.7231    0.7573\n",
      "        34   SparseNormalizer ExtremeRandomTrees            0:01:16       0.6400    0.7573\n",
      "        36   StandardScalerWrapper LightGBM                 0:00:57       0.7362    0.7573\n",
      "        37   MaxAbsScaler ExtremeRandomTrees                0:00:55       0.7377    0.7573\n",
      "        38   RobustScaler KNN                               0:00:55       0.7215    0.7573\n",
      "        39   MaxAbsScaler LightGBM                          0:00:53       0.7557    0.7573\n",
      "        40   TruncatedSVDWrapper ExtremeRandomTrees         0:00:45          nan    0.7573\n",
      "        41                                                  0:00:18          nan    0.7573\n",
      "        42                                                  0:00:16          nan    0.7573\n",
      "        43    VotingEnsemble                                0:01:32       0.7736    0.7736\n"
     ]
    },
    {
     "data": {
      "text/plain": [
       "{'runId': 'AutoML_cf2ad60a-ed5e-41a5-86e3-7e219a593a08',\n",
       " 'target': 'puru-compute',\n",
       " 'status': 'Completed',\n",
       " 'startTimeUtc': '2020-12-26T01:34:36.691933Z',\n",
       " 'endTimeUtc': '2020-12-26T01:54:03.750359Z',\n",
       " 'properties': {'num_iterations': '1000',\n",
       "  'training_type': 'TrainFull',\n",
       "  'acquisition_function': 'EI',\n",
       "  'primary_metric': 'accuracy',\n",
       "  'train_split': '0',\n",
       "  'acquisition_parameter': '0',\n",
       "  'num_cross_validation': '3',\n",
       "  'target': 'puru-compute',\n",
       "  'AMLSettingsJsonString': '{\"path\":null,\"name\":\"puru-auto-experiment\",\"subscription_id\":\"9b72f9e6-56c5-4c16-991b-19c652994860\",\"resource_group\":\"aml-quickstarts-131799\",\"workspace_name\":\"quick-starts-ws-131799\",\"region\":\"southcentralus\",\"compute_target\":\"puru-compute\",\"spark_service\":null,\"azure_service\":\"remote\",\"many_models\":false,\"pipeline_fetch_max_batch_size\":1,\"iterations\":1000,\"primary_metric\":\"accuracy\",\"task_type\":\"classification\",\"data_script\":null,\"validation_size\":0.0,\"n_cross_validations\":3,\"y_min\":null,\"y_max\":null,\"num_classes\":null,\"featurization\":\"auto\",\"_ignore_package_version_incompatibilities\":false,\"is_timeseries\":false,\"max_cores_per_iteration\":-1,\"max_concurrent_iterations\":4,\"iteration_timeout_minutes\":5,\"mem_in_mb\":null,\"enforce_time_on_windows\":false,\"experiment_timeout_minutes\":30,\"experiment_exit_score\":null,\"whitelist_models\":null,\"blacklist_algos\":[\"TensorFlowLinearClassifier\",\"TensorFlowDNN\"],\"supported_models\":[\"DecisionTree\",\"AveragedPerceptronClassifier\",\"SGD\",\"KNN\",\"BernoulliNaiveBayes\",\"ExtremeRandomTrees\",\"LinearSVM\",\"LightGBM\",\"TensorFlowDNN\",\"TensorFlowLinearClassifier\",\"SVM\",\"GradientBoosting\",\"LogisticRegression\",\"MultinomialNaiveBayes\",\"RandomForest\",\"XGBoostClassifier\"],\"auto_blacklist\":true,\"blacklist_samples_reached\":false,\"exclude_nan_labels\":true,\"verbosity\":20,\"_debug_log\":\"azureml_automl.log\",\"show_warnings\":false,\"model_explainability\":true,\"service_url\":null,\"sdk_url\":null,\"sdk_packages\":null,\"enable_onnx_compatible_models\":true,\"enable_split_onnx_featurizer_estimator_models\":false,\"vm_type\":\"STANDARD_DS3_V2\",\"telemetry_verbosity\":20,\"send_telemetry\":true,\"enable_dnn\":false,\"scenario\":\"SDK-1.13.0\",\"environment_label\":null,\"force_text_dnn\":false,\"enable_feature_sweeping\":false,\"enable_early_stopping\":true,\"early_stopping_n_iters\":10,\"metrics\":null,\"enable_ensembling\":true,\"enable_stack_ensembling\":false,\"ensemble_iterations\":15,\"enable_tf\":false,\"enable_subsampling\":null,\"subsample_seed\":null,\"enable_nimbusml\":false,\"enable_streaming\":false,\"force_streaming\":false,\"track_child_runs\":true,\"allowed_private_models\":[],\"label_column_name\":\"Outcome\",\"weight_column_name\":null,\"cv_split_column_names\":null,\"enable_local_managed\":false,\"_local_managed_run_id\":null,\"cost_mode\":1,\"lag_length\":0,\"metric_operation\":\"maximize\",\"preprocess\":true}',\n",
       "  'DataPrepJsonString': '{\\\\\"training_data\\\\\": \\\\\"{\\\\\\\\\\\\\"blocks\\\\\\\\\\\\\": [{\\\\\\\\\\\\\"id\\\\\\\\\\\\\": \\\\\\\\\\\\\"a4af40be-0acb-4555-93ca-2a156863d223\\\\\\\\\\\\\", \\\\\\\\\\\\\"type\\\\\\\\\\\\\": \\\\\\\\\\\\\"Microsoft.DPrep.GetDatastoreFilesBlock\\\\\\\\\\\\\", \\\\\\\\\\\\\"arguments\\\\\\\\\\\\\": {\\\\\\\\\\\\\"datastores\\\\\\\\\\\\\": [{\\\\\\\\\\\\\"datastoreName\\\\\\\\\\\\\": \\\\\\\\\\\\\"workspaceblobstore\\\\\\\\\\\\\", \\\\\\\\\\\\\"path\\\\\\\\\\\\\": \\\\\\\\\\\\\"automlclassifier/train_data.csv\\\\\\\\\\\\\", \\\\\\\\\\\\\"resourceGroup\\\\\\\\\\\\\": \\\\\\\\\\\\\"aml-quickstarts-131799\\\\\\\\\\\\\", \\\\\\\\\\\\\"subscription\\\\\\\\\\\\\": \\\\\\\\\\\\\"9b72f9e6-56c5-4c16-991b-19c652994860\\\\\\\\\\\\\", \\\\\\\\\\\\\"workspaceName\\\\\\\\\\\\\": \\\\\\\\\\\\\"quick-starts-ws-131799\\\\\\\\\\\\\"}]}, \\\\\\\\\\\\\"localData\\\\\\\\\\\\\": {}, \\\\\\\\\\\\\"isEnabled\\\\\\\\\\\\\": true, \\\\\\\\\\\\\"name\\\\\\\\\\\\\": null, \\\\\\\\\\\\\"annotation\\\\\\\\\\\\\": null}, {\\\\\\\\\\\\\"id\\\\\\\\\\\\\": \\\\\\\\\\\\\"cc6ef54b-c84a-4a62-98e7-1a8565e1f203\\\\\\\\\\\\\", \\\\\\\\\\\\\"type\\\\\\\\\\\\\": \\\\\\\\\\\\\"Microsoft.DPrep.ParseDelimitedBlock\\\\\\\\\\\\\", \\\\\\\\\\\\\"arguments\\\\\\\\\\\\\": {\\\\\\\\\\\\\"columnHeadersMode\\\\\\\\\\\\\": 3, \\\\\\\\\\\\\"fileEncoding\\\\\\\\\\\\\": 0, \\\\\\\\\\\\\"handleQuotedLineBreaks\\\\\\\\\\\\\": false, \\\\\\\\\\\\\"preview\\\\\\\\\\\\\": false, \\\\\\\\\\\\\"separator\\\\\\\\\\\\\": \\\\\\\\\\\\\",\\\\\\\\\\\\\", \\\\\\\\\\\\\"skipRows\\\\\\\\\\\\\": 0, \\\\\\\\\\\\\"skipRowsMode\\\\\\\\\\\\\": 0}, \\\\\\\\\\\\\"localData\\\\\\\\\\\\\": {}, \\\\\\\\\\\\\"isEnabled\\\\\\\\\\\\\": true, \\\\\\\\\\\\\"name\\\\\\\\\\\\\": null, \\\\\\\\\\\\\"annotation\\\\\\\\\\\\\": null}, {\\\\\\\\\\\\\"id\\\\\\\\\\\\\": \\\\\\\\\\\\\"3e7995f7-7b9f-4342-8d11-e646aa7f7386\\\\\\\\\\\\\", \\\\\\\\\\\\\"type\\\\\\\\\\\\\": \\\\\\\\\\\\\"Microsoft.DPrep.DropColumnsBlock\\\\\\\\\\\\\", \\\\\\\\\\\\\"arguments\\\\\\\\\\\\\": {\\\\\\\\\\\\\"columns\\\\\\\\\\\\\": {\\\\\\\\\\\\\"type\\\\\\\\\\\\\": 0, \\\\\\\\\\\\\"details\\\\\\\\\\\\\": {\\\\\\\\\\\\\"selectedColumns\\\\\\\\\\\\\": [\\\\\\\\\\\\\"Path\\\\\\\\\\\\\"]}}}, \\\\\\\\\\\\\"localData\\\\\\\\\\\\\": {}, \\\\\\\\\\\\\"isEnabled\\\\\\\\\\\\\": true, \\\\\\\\\\\\\"name\\\\\\\\\\\\\": null, \\\\\\\\\\\\\"annotation\\\\\\\\\\\\\": null}, {\\\\\\\\\\\\\"id\\\\\\\\\\\\\": \\\\\\\\\\\\\"cd6afdc8-a7c9-4a59-b122-23fc9e35372a\\\\\\\\\\\\\", \\\\\\\\\\\\\"type\\\\\\\\\\\\\": \\\\\\\\\\\\\"Microsoft.DPrep.SetColumnTypesBlock\\\\\\\\\\\\\", \\\\\\\\\\\\\"arguments\\\\\\\\\\\\\": {\\\\\\\\\\\\\"columnConversion\\\\\\\\\\\\\": [{\\\\\\\\\\\\\"column\\\\\\\\\\\\\": {\\\\\\\\\\\\\"type\\\\\\\\\\\\\": 2, \\\\\\\\\\\\\"details\\\\\\\\\\\\\": {\\\\\\\\\\\\\"selectedColumn\\\\\\\\\\\\\": \\\\\\\\\\\\\"Pregnancies\\\\\\\\\\\\\"}}, \\\\\\\\\\\\\"typeProperty\\\\\\\\\\\\\": 2}, {\\\\\\\\\\\\\"column\\\\\\\\\\\\\": {\\\\\\\\\\\\\"type\\\\\\\\\\\\\": 2, \\\\\\\\\\\\\"details\\\\\\\\\\\\\": {\\\\\\\\\\\\\"selectedColumn\\\\\\\\\\\\\": \\\\\\\\\\\\\"Glucose\\\\\\\\\\\\\"}}, \\\\\\\\\\\\\"typeProperty\\\\\\\\\\\\\": 2}, {\\\\\\\\\\\\\"column\\\\\\\\\\\\\": {\\\\\\\\\\\\\"type\\\\\\\\\\\\\": 2, \\\\\\\\\\\\\"details\\\\\\\\\\\\\": {\\\\\\\\\\\\\"selectedColumn\\\\\\\\\\\\\": \\\\\\\\\\\\\"BloodPressure\\\\\\\\\\\\\"}}, \\\\\\\\\\\\\"typeProperty\\\\\\\\\\\\\": 2}, {\\\\\\\\\\\\\"column\\\\\\\\\\\\\": {\\\\\\\\\\\\\"type\\\\\\\\\\\\\": 2, \\\\\\\\\\\\\"details\\\\\\\\\\\\\": {\\\\\\\\\\\\\"selectedColumn\\\\\\\\\\\\\": \\\\\\\\\\\\\"SkinThickness\\\\\\\\\\\\\"}}, \\\\\\\\\\\\\"typeProperty\\\\\\\\\\\\\": 2}, {\\\\\\\\\\\\\"column\\\\\\\\\\\\\": {\\\\\\\\\\\\\"type\\\\\\\\\\\\\": 2, \\\\\\\\\\\\\"details\\\\\\\\\\\\\": {\\\\\\\\\\\\\"selectedColumn\\\\\\\\\\\\\": \\\\\\\\\\\\\"Insulin\\\\\\\\\\\\\"}}, \\\\\\\\\\\\\"typeProperty\\\\\\\\\\\\\": 2}, {\\\\\\\\\\\\\"column\\\\\\\\\\\\\": {\\\\\\\\\\\\\"type\\\\\\\\\\\\\": 2, \\\\\\\\\\\\\"details\\\\\\\\\\\\\": {\\\\\\\\\\\\\"selectedColumn\\\\\\\\\\\\\": \\\\\\\\\\\\\"BMI\\\\\\\\\\\\\"}}, \\\\\\\\\\\\\"typeProperty\\\\\\\\\\\\\": 3}, {\\\\\\\\\\\\\"column\\\\\\\\\\\\\": {\\\\\\\\\\\\\"type\\\\\\\\\\\\\": 2, \\\\\\\\\\\\\"details\\\\\\\\\\\\\": {\\\\\\\\\\\\\"selectedColumn\\\\\\\\\\\\\": \\\\\\\\\\\\\"DiabetesPedigreeFunction\\\\\\\\\\\\\"}}, \\\\\\\\\\\\\"typeProperty\\\\\\\\\\\\\": 3}, {\\\\\\\\\\\\\"column\\\\\\\\\\\\\": {\\\\\\\\\\\\\"type\\\\\\\\\\\\\": 2, \\\\\\\\\\\\\"details\\\\\\\\\\\\\": {\\\\\\\\\\\\\"selectedColumn\\\\\\\\\\\\\": \\\\\\\\\\\\\"Age\\\\\\\\\\\\\"}}, \\\\\\\\\\\\\"typeProperty\\\\\\\\\\\\\": 2}, {\\\\\\\\\\\\\"column\\\\\\\\\\\\\": {\\\\\\\\\\\\\"type\\\\\\\\\\\\\": 2, \\\\\\\\\\\\\"details\\\\\\\\\\\\\": {\\\\\\\\\\\\\"selectedColumn\\\\\\\\\\\\\": \\\\\\\\\\\\\"Outcome\\\\\\\\\\\\\"}}, \\\\\\\\\\\\\"typeProperty\\\\\\\\\\\\\": 2}]}, \\\\\\\\\\\\\"localData\\\\\\\\\\\\\": {}, \\\\\\\\\\\\\"isEnabled\\\\\\\\\\\\\": true, \\\\\\\\\\\\\"name\\\\\\\\\\\\\": null, \\\\\\\\\\\\\"annotation\\\\\\\\\\\\\": null}], \\\\\\\\\\\\\"inspectors\\\\\\\\\\\\\": [], \\\\\\\\\\\\\"meta\\\\\\\\\\\\\": {\\\\\\\\\\\\\"savedDatasetId\\\\\\\\\\\\\": \\\\\\\\\\\\\"c3c9e660-a2bc-4d0b-a2da-7573d3968c8b\\\\\\\\\\\\\", \\\\\\\\\\\\\"datasetType\\\\\\\\\\\\\": \\\\\\\\\\\\\"tabular\\\\\\\\\\\\\", \\\\\\\\\\\\\"subscriptionId\\\\\\\\\\\\\": \\\\\\\\\\\\\"9b72f9e6-56c5-4c16-991b-19c652994860\\\\\\\\\\\\\", \\\\\\\\\\\\\"workspaceId\\\\\\\\\\\\\": \\\\\\\\\\\\\"2d76a167-fd39-489c-acc3-ca9df45e3bea\\\\\\\\\\\\\", \\\\\\\\\\\\\"workspaceLocation\\\\\\\\\\\\\": \\\\\\\\\\\\\"southcentralus\\\\\\\\\\\\\"}}\\\\\", \\\\\"activities\\\\\": 0}',\n",
       "  'EnableSubsampling': None,\n",
       "  'runTemplate': 'AutoML',\n",
       "  'azureml.runsource': 'automl',\n",
       "  'display_task_type': 'classification',\n",
       "  'dependencies_versions': '{\"azureml-widgets\": \"1.19.0\", \"azureml-train\": \"1.19.0\", \"azureml-train-restclients-hyperdrive\": \"1.19.0\", \"azureml-train-core\": \"1.19.0\", \"azureml-train-automl\": \"1.19.0\", \"azureml-train-automl-runtime\": \"1.19.0\", \"azureml-train-automl-client\": \"1.19.0\", \"azureml-tensorboard\": \"1.19.0\", \"azureml-telemetry\": \"1.19.0\", \"azureml-sdk\": \"1.19.0\", \"azureml-samples\": \"0+unknown\", \"azureml-pipeline\": \"1.19.0\", \"azureml-pipeline-steps\": \"1.19.0\", \"azureml-pipeline-core\": \"1.19.0\", \"azureml-opendatasets\": \"1.19.0\", \"azureml-model-management-sdk\": \"1.0.1b6.post1\", \"azureml-mlflow\": \"1.19.0\", \"azureml-interpret\": \"1.19.0\", \"azureml-explain-model\": \"1.19.0\", \"azureml-defaults\": \"1.19.0\", \"azureml-dataset-runtime\": \"1.19.0\", \"azureml-dataprep\": \"2.6.1\", \"azureml-dataprep-rslex\": \"1.4.0\", \"azureml-dataprep-native\": \"26.0.0\", \"azureml-datadrift\": \"1.19.0\", \"azureml-core\": \"1.19.0\", \"azureml-contrib-services\": \"1.19.0\", \"azureml-contrib-server\": \"1.19.0\", \"azureml-contrib-reinforcementlearning\": \"1.19.0\", \"azureml-contrib-pipeline-steps\": \"1.19.0\", \"azureml-contrib-notebook\": \"1.19.0\", \"azureml-contrib-interpret\": \"1.19.0\", \"azureml-contrib-gbdt\": \"1.19.0\", \"azureml-contrib-fairness\": \"1.19.0\", \"azureml-contrib-dataset\": \"1.19.0\", \"azureml-cli-common\": \"1.19.0\", \"azureml-automl-runtime\": \"1.19.0\", \"azureml-automl-core\": \"1.19.0\", \"azureml-accel-models\": \"1.19.0\"}',\n",
       "  '_aml_system_scenario_identification': 'Remote.Parent',\n",
       "  'ClientType': 'SDK',\n",
       "  'environment_cpu_name': 'AzureML-AutoML',\n",
       "  'environment_cpu_label': 'prod',\n",
       "  'environment_gpu_name': 'AzureML-AutoML-GPU',\n",
       "  'environment_gpu_label': 'prod',\n",
       "  'root_attribution': 'automl',\n",
       "  'attribution': 'AutoML',\n",
       "  'Orchestrator': 'AutoML',\n",
       "  'CancelUri': 'https://southcentralus.experiments.azureml.net/jasmine/v1.0/subscriptions/9b72f9e6-56c5-4c16-991b-19c652994860/resourceGroups/aml-quickstarts-131799/providers/Microsoft.MachineLearningServices/workspaces/quick-starts-ws-131799/experimentids/d2b09386-6ecb-40ff-b57e-1b605b1f8c3c/cancel/AutoML_cf2ad60a-ed5e-41a5-86e3-7e219a593a08',\n",
       "  'ClientSdkVersion': '1.19.0',\n",
       "  'snapshotId': '00000000-0000-0000-0000-000000000000',\n",
       "  'SetupRunId': 'AutoML_cf2ad60a-ed5e-41a5-86e3-7e219a593a08_setup',\n",
       "  'SetupRunContainerId': 'dcid.AutoML_cf2ad60a-ed5e-41a5-86e3-7e219a593a08_setup',\n",
       "  'FeaturizationRunJsonPath': 'featurizer_container.json',\n",
       "  'FeaturizationRunId': 'AutoML_cf2ad60a-ed5e-41a5-86e3-7e219a593a08_featurize',\n",
       "  'ProblemInfoJsonString': '{\"dataset_num_categorical\": 0, \"is_sparse\": false, \"subsampling\": false, \"dataset_classes\": 2, \"dataset_features\": 8, \"dataset_samples\": 614, \"single_frequency_class_detected\": false}',\n",
       "  'ModelExplainRunId': 'AutoML_cf2ad60a-ed5e-41a5-86e3-7e219a593a08_ModelExplain'},\n",
       " 'inputDatasets': [{'dataset': {'id': 'c3c9e660-a2bc-4d0b-a2da-7573d3968c8b'}, 'consumptionDetails': {'type': 'RunInput', 'inputName': 'training_data', 'mechanism': 'Direct'}}],\n",
       " 'outputDatasets': [],\n",
       " 'logFiles': {}}"
      ]
     },
     "execution_count": 20,
     "metadata": {},
     "output_type": "execute_result"
    }
   ],
   "source": [
    "from azureml.widgets import RunDetails\n",
    "RunDetails(remote_run).show()\n",
    "\n",
    "# wait for completion\n",
    "remote_run.wait_for_completion(show_output=True)"
   ]
  },
  {
   "cell_type": "markdown",
   "metadata": {},
   "source": [
    "## Best Model\n",
    "\n",
    "TODO: In the cell below, get the best model from the automl experiments and display all the properties of the model.\n",
    "\n"
   ]
  },
  {
   "cell_type": "code",
   "execution_count": 21,
   "metadata": {
    "gather": {
     "logged": 1598431425670
    },
    "jupyter": {
     "outputs_hidden": false,
     "source_hidden": false
    },
    "nteract": {
     "transient": {
      "deleting": false
     }
    }
   },
   "outputs": [
    {
     "name": "stdout",
     "output_type": "stream",
     "text": [
      "Run(Experiment: puru-auto-experiment,\n",
      "Id: AutoML_cf2ad60a-ed5e-41a5-86e3-7e219a593a08_43,\n",
      "Type: azureml.scriptrun,\n",
      "Status: Completed)\n",
      "Best Model: AutoMLcf2ad60ae43\n"
     ]
    },
    {
     "data": {
      "text/plain": [
       "{'runTemplate': 'automl_child',\n",
       " 'pipeline_id': '__AutoML_Ensemble__',\n",
       " 'pipeline_spec': '{\"pipeline_id\":\"__AutoML_Ensemble__\",\"objects\":[{\"module\":\"azureml.train.automl.ensemble\",\"class_name\":\"Ensemble\",\"spec_class\":\"sklearn\",\"param_args\":[],\"param_kwargs\":{\"automl_settings\":\"{\\'task_type\\':\\'classification\\',\\'primary_metric\\':\\'accuracy\\',\\'verbosity\\':20,\\'ensemble_iterations\\':15,\\'is_timeseries\\':False,\\'name\\':\\'puru-auto-experiment\\',\\'compute_target\\':\\'puru-compute\\',\\'subscription_id\\':\\'9b72f9e6-56c5-4c16-991b-19c652994860\\',\\'region\\':\\'southcentralus\\',\\'spark_service\\':None}\",\"ensemble_run_id\":\"AutoML_cf2ad60a-ed5e-41a5-86e3-7e219a593a08_43\",\"experiment_name\":\"puru-auto-experiment\",\"workspace_name\":\"quick-starts-ws-131799\",\"subscription_id\":\"9b72f9e6-56c5-4c16-991b-19c652994860\",\"resource_group_name\":\"aml-quickstarts-131799\"}}]}',\n",
       " 'training_percent': '100',\n",
       " 'predicted_cost': None,\n",
       " 'iteration': '43',\n",
       " '_aml_system_scenario_identification': 'Remote.Child',\n",
       " '_azureml.ComputeTargetType': 'amlcompute',\n",
       " 'ContentSnapshotId': '117a800e-3699-44e8-8be1-551f1b7a3f8e',\n",
       " 'ProcessInfoFile': 'azureml-logs/process_info.json',\n",
       " 'ProcessStatusFile': 'azureml-logs/process_status.json',\n",
       " 'run_template': 'automl_child',\n",
       " 'run_preprocessor': '',\n",
       " 'run_algorithm': 'VotingEnsemble',\n",
       " 'conda_env_data_location': 'aml://artifact/ExperimentRun/dcid.AutoML_cf2ad60a-ed5e-41a5-86e3-7e219a593a08_43/outputs/conda_env_v_1_0_0.yml',\n",
       " 'model_data_location': 'aml://artifact/ExperimentRun/dcid.AutoML_cf2ad60a-ed5e-41a5-86e3-7e219a593a08_43/outputs/model.pkl',\n",
       " 'model_size_on_disk': '1158856',\n",
       " 'scoring_data_location': 'aml://artifact/ExperimentRun/dcid.AutoML_cf2ad60a-ed5e-41a5-86e3-7e219a593a08_43/outputs/scoring_file_v_1_0_0.py',\n",
       " 'model_exp_support': 'True',\n",
       " 'pipeline_graph_version': '1.0.0',\n",
       " 'model_name': 'AutoMLcf2ad60ae43',\n",
       " 'staticProperties': '{}',\n",
       " 'score': '0.7736011477761836',\n",
       " 'run_properties': \"classification_labels=None,\\n                              estimators=[('27',\\n                                           Pipeline(memory=None,\\n                                                    steps=[('maxabsscaler',\\n                                                            MaxAbsScaler(copy=True\",\n",
       " 'pipeline_script': '{\"pipeline_id\":\"__AutoML_Ensemble__\",\"objects\":[{\"module\":\"azureml.train.automl.ensemble\",\"class_name\":\"Ensemble\",\"spec_class\":\"sklearn\",\"param_args\":[],\"param_kwargs\":{\"automl_settings\":\"{\\'task_type\\':\\'classification\\',\\'primary_metric\\':\\'accuracy\\',\\'verbosity\\':20,\\'ensemble_iterations\\':15,\\'is_timeseries\\':False,\\'name\\':\\'puru-auto-experiment\\',\\'compute_target\\':\\'puru-compute\\',\\'subscription_id\\':\\'9b72f9e6-56c5-4c16-991b-19c652994860\\',\\'region\\':\\'southcentralus\\',\\'spark_service\\':None}\",\"ensemble_run_id\":\"AutoML_cf2ad60a-ed5e-41a5-86e3-7e219a593a08_43\",\"experiment_name\":\"puru-auto-experiment\",\"workspace_name\":\"quick-starts-ws-131799\",\"subscription_id\":\"9b72f9e6-56c5-4c16-991b-19c652994860\",\"resource_group_name\":\"aml-quickstarts-131799\"}}]}',\n",
       " 'training_type': 'MeanCrossValidation',\n",
       " 'num_classes': '',\n",
       " 'framework': 'sklearn',\n",
       " 'fit_time': '34',\n",
       " 'goal': 'accuracy_max',\n",
       " 'class_labels': '',\n",
       " 'primary_metric': 'accuracy',\n",
       " 'errors': '{}',\n",
       " 'fitted_pipeline': \"Pipeline(memory=None,\\n         steps=[('datatransformer',\\n                 DataTransformer(enable_dnn=None, enable_feature_sweeping=None,\\n                                 feature_sweeping_config=None,\\n                                 feature_sweeping_timeout=None,\\n                                 featurization_config=None, force_text_dnn=None,\\n                                 is_cross_validation=None,\\n                                 is_onnx_compatible=None, logger=None,\\n                                 observer=None, task=None, working_dir=None)),\\n                ('prefittedsoftvotingclassifier',...\\n                                                                             KNeighborsClassifier(algorithm='auto',\\n                                                                                                  leaf_size=30,\\n                                                                                                  metric='l1',\\n                                                                                                  metric_params=None,\\n                                                                                                  n_jobs=1,\\n                                                                                                  n_neighbors=8,\\n                                                                                                  p=2,\\n                                                                                                  weights='distance'))],\\n                                                                     verbose=False))],\\n                                               flatten_transform=None,\\n                                               weights=[0.08333333333333333,\\n                                                        0.08333333333333333,\\n                                                        0.16666666666666666,\\n                                                        0.08333333333333333,\\n                                                        0.08333333333333333,\\n                                                        0.08333333333333333,\\n                                                        0.08333333333333333,\\n                                                        0.25,\\n                                                        0.08333333333333333]))],\\n         verbose=False)\",\n",
       " 'friendly_errors': '{}',\n",
       " 'onnx_model_resource': \"{'RawColumnNameToOnnxNameMap': {'Pregnancies': 'Pregnancies', 'Glucose': 'Glucose', 'BloodPressure': 'BloodPressure', 'SkinThickness': 'SkinThickness', 'Insulin': 'Insulin', 'BMI': 'BMI', 'DiabetesPedigreeFunction': 'DiabetesPedigreeFunction', 'Age': 'Age'}, 'InputRawColumnSchema': {'Pregnancies': 'floating', 'Glucose': 'floating', 'BloodPressure': 'floating', 'SkinThickness': 'floating', 'Insulin': 'floating', 'BMI': 'floating', 'DiabetesPedigreeFunction': 'floating', 'Age': 'floating'}, 'InputOnnxColumnSchema': {'Pregnancies': 'FloatTensorType', 'Glucose': 'FloatTensorType', 'BloodPressure': 'FloatTensorType', 'SkinThickness': 'FloatTensorType', 'Insulin': 'FloatTensorType', 'BMI': 'FloatTensorType', 'DiabetesPedigreeFunction': 'FloatTensorType', 'Age': 'FloatTensorType'}, 'CanEnableBatchMode': False}\",\n",
       " 'error_code': '',\n",
       " 'failure_reason': '',\n",
       " 'feature_skus': 'automatedml_sdk_guardrails',\n",
       " 'dependencies_versions': '{\"azureml-train-automl-runtime\": \"1.19.0\", \"azureml-train-automl-client\": \"1.19.0\", \"azureml-telemetry\": \"1.19.0\", \"azureml-pipeline-core\": \"1.19.0\", \"azureml-model-management-sdk\": \"1.0.1b6.post1\", \"azureml-interpret\": \"1.19.0\", \"azureml-defaults\": \"1.19.0\", \"azureml-dataset-runtime\": \"1.19.0\", \"azureml-dataprep\": \"2.6.1\", \"azureml-dataprep-rslex\": \"1.4.0\", \"azureml-dataprep-native\": \"26.0.0\", \"azureml-core\": \"1.19.0\", \"azureml-automl-runtime\": \"1.19.0\", \"azureml-automl-core\": \"1.19.0\"}',\n",
       " 'num_cores': '4',\n",
       " 'num_logical_cores': '4',\n",
       " 'peak_memory_usage': '609984',\n",
       " 'vm_configuration': 'Intel(R) Xeon(R) CPU E5-2673 v4 @ 2.30GHz',\n",
       " 'core_hours': '0.011926912777777778'}"
      ]
     },
     "execution_count": 21,
     "metadata": {},
     "output_type": "execute_result"
    }
   ],
   "source": [
    "# Retrieve the best automl run model\n",
    "best_automl_run, fitted_automl_model = remote_run.get_output()\n",
    "print(best_automl_run)\n",
    "\n",
    "# get best model and display properties\n",
    "model_name = best_automl_run.properties['model_name']\n",
    "print(\"Best Model:\", model_name)\n",
    "\n",
    "# display all the properties of the best model\n",
    "#best_automl_run #.properties\n",
    "best_automl_run.get_properties()"
   ]
  },
  {
   "cell_type": "code",
   "execution_count": 22,
   "metadata": {
    "gather": {
     "logged": 1598431426111
    },
    "jupyter": {
     "outputs_hidden": false,
     "source_hidden": false
    },
    "nteract": {
     "transient": {
      "deleting": false
     }
    }
   },
   "outputs": [
    {
     "name": "stdout",
     "output_type": "stream",
     "text": [
      "RunID: \tAutoML_cf2ad60a-ed5e-41a5-86e3-7e219a593a08\n"
     ]
    }
   ],
   "source": [
    "# register best autoML model for future deployment\n",
    "os.makedirs('outputs', exist_ok=True)\n",
    "\n",
    "description = 'Diabetec'\n",
    "tags = {'area': 'health', 'type': 'classification'}\n",
    "automl_model = remote_run.register_model(model_name = 'puru-model', description = description, tags = tags)\n",
    "\n",
    "print(\"RunID: \", remote_run.id, sep='\\t')"
   ]
  },
  {
   "cell_type": "markdown",
   "metadata": {},
   "source": [
    "## Model Deployment\n",
    "\n",
    "Remember you have to deploy only one of the two models you trained.. Perform the steps in the rest of this notebook only if you wish to deploy this model.\n",
    "\n",
    "TODO: In the cell below, register the model, create an inference config and deploy the model as a web service."
   ]
  },
  {
   "cell_type": "code",
   "execution_count": 24,
   "metadata": {
    "gather": {
     "logged": 1598431435189
    },
    "jupyter": {
     "outputs_hidden": false,
     "source_hidden": false
    },
    "nteract": {
     "transient": {
      "deleting": false
     }
    }
   },
   "outputs": [
    {
     "name": "stdout",
     "output_type": "stream",
     "text": [
      "Tips: You can try get_logs(): https://aka.ms/debugimage#dockerlog or local deployment: https://aka.ms/debugimage#debug-locally to debug if deployment takes longer than 10 minutes.\n",
      "Running..........................................................................................\n",
      "Failed\n"
     ]
    },
    {
     "name": "stderr",
     "output_type": "stream",
     "text": [
      "ERROR:azureml.core.webservice.webservice:Service deployment polling reached non-successful terminal state, current service state: Failed\n",
      "Operation ID: 8443a186-641e-4ddd-b2c7-cba94c94adcd\n",
      "More information can be found using '.get_logs()'\n",
      "Error:\n",
      "{\n",
      "  \"code\": \"AciDeploymentFailed\",\n",
      "  \"message\": \"Aci Deployment failed with exception: Your container application crashed. This may be caused by errors in your scoring file's init() function.\\nPlease check the logs for your container instance: puru-automl-service. From the AML SDK, you can run print(service.get_logs()) if you have service object to fetch the logs. \\nYou can interactively debug your scoring file locally. Please refer to https://docs.microsoft.com/azure/machine-learning/how-to-debug-visual-studio-code#debug-and-troubleshoot-deployments for more information.\\nYou can also try to run image viennaglobal.azurecr.io/azureml/azureml_d97f122bdcaea8212b2eadb5cef56a6d locally. Please refer to https://aka.ms/debugimage#service-launch-fails for more information.\",\n",
      "  \"details\": [\n",
      "    {\n",
      "      \"code\": \"CrashLoopBackOff\",\n",
      "      \"message\": \"Your container application crashed. This may be caused by errors in your scoring file's init() function.\\nPlease check the logs for your container instance: puru-automl-service. From the AML SDK, you can run print(service.get_logs()) if you have service object to fetch the logs. \\nYou can interactively debug your scoring file locally. Please refer to https://docs.microsoft.com/azure/machine-learning/how-to-debug-visual-studio-code#debug-and-troubleshoot-deployments for more information.\\nYou can also try to run image viennaglobal.azurecr.io/azureml/azureml_d97f122bdcaea8212b2eadb5cef56a6d locally. Please refer to https://aka.ms/debugimage#service-launch-fails for more information.\"\n",
      "    },\n",
      "    {\n",
      "      \"code\": \"AciDeploymentFailed\",\n",
      "      \"message\": \"Your container application crashed. Please follow the steps to debug:\\n1. From the AML SDK, you can run print(service.get_logs()) if you have service object to fetch the logs. Please refer to https://aka.ms/debugimage#dockerlog for more information.\\n2. If your container application crashed. This may be caused by errors in your scoring file's init() function. You can try debugging locally first. Please refer to https://aka.ms/debugimage#debug-locally for more information.\\n3. You can also interactively debug your scoring file locally. Please refer to https://docs.microsoft.com/azure/machine-learning/how-to-debug-visual-studio-code#debug-and-troubleshoot-deployments for more information.\\n4. View the diagnostic events to check status of container, it may help you to debug the issue. {\\\"restartCount\\\":5,\\\"currentState\\\":{\\\"state\\\":\\\"Waiting\\\",\\\"startTime\\\":null,\\\"exitCode\\\":null,\\\"finishTime\\\":null,\\\"detailStatus\\\":\\\"CrashLoopBackOff: Back-off restarting failed\\\"},\\\"previousState\\\":{\\\"state\\\":\\\"Terminated\\\",\\\"startTime\\\":\\\"2020-12-26T02:16:43.202Z\\\",\\\"exitCode\\\":111,\\\"finishTime\\\":\\\"2020-12-26T02:16:48.681Z\\\",\\\"detailStatus\\\":\\\"Error\\\"},\\\"events\\\":[{\\\"count\\\":1,\\\"firstTimestamp\\\":\\\"2020-12-26T02:10:04Z\\\",\\\"lastTimestamp\\\":\\\"2020-12-26T02:10:04Z\\\",\\\"name\\\":\\\"Pulling\\\",\\\"message\\\":\\\"pulling image \\\\\\\"viennaglobal.azurecr.io/azureml/azureml_d97f122bdcaea8212b2eadb5cef56a6d:latest\\\\\\\"\\\",\\\"type\\\":\\\"Normal\\\"},{\\\"count\\\":1,\\\"firstTimestamp\\\":\\\"2020-12-26T02:12:35Z\\\",\\\"lastTimestamp\\\":\\\"2020-12-26T02:12:35Z\\\",\\\"name\\\":\\\"Pulled\\\",\\\"message\\\":\\\"Successfully pulled image \\\\\\\"viennaglobal.azurecr.io/azureml/azureml_d97f122bdcaea8212b2eadb5cef56a6d:latest\\\\\\\"\\\",\\\"type\\\":\\\"Normal\\\"},{\\\"count\\\":6,\\\"firstTimestamp\\\":\\\"2020-12-26T02:13:02Z\\\",\\\"lastTimestamp\\\":\\\"2020-12-26T02:16:43Z\\\",\\\"name\\\":\\\"Started\\\",\\\"message\\\":\\\"Started container\\\",\\\"type\\\":\\\"Normal\\\"},{\\\"count\\\":6,\\\"firstTimestamp\\\":\\\"2020-12-26T02:13:11Z\\\",\\\"lastTimestamp\\\":\\\"2020-12-26T02:16:48Z\\\",\\\"name\\\":\\\"Killing\\\",\\\"message\\\":\\\"Killing container with id 0802508a4d997b7bb0a4c3ae71b3b274a42a18b3bc3e6ad6d9d6955b50eaae75.\\\",\\\"type\\\":\\\"Normal\\\"}]}\"\n",
      "    }\n",
      "  ]\n",
      "}\n",
      "\n"
     ]
    },
    {
     "ename": "WebserviceException",
     "evalue": "WebserviceException:\n\tMessage: Service deployment polling reached non-successful terminal state, current service state: Failed\nOperation ID: 8443a186-641e-4ddd-b2c7-cba94c94adcd\nMore information can be found using '.get_logs()'\nError:\n{\n  \"code\": \"AciDeploymentFailed\",\n  \"message\": \"Aci Deployment failed with exception: Your container application crashed. This may be caused by errors in your scoring file's init() function.\\nPlease check the logs for your container instance: puru-automl-service. From the AML SDK, you can run print(service.get_logs()) if you have service object to fetch the logs. \\nYou can interactively debug your scoring file locally. Please refer to https://docs.microsoft.com/azure/machine-learning/how-to-debug-visual-studio-code#debug-and-troubleshoot-deployments for more information.\\nYou can also try to run image viennaglobal.azurecr.io/azureml/azureml_d97f122bdcaea8212b2eadb5cef56a6d locally. Please refer to https://aka.ms/debugimage#service-launch-fails for more information.\",\n  \"details\": [\n    {\n      \"code\": \"CrashLoopBackOff\",\n      \"message\": \"Your container application crashed. This may be caused by errors in your scoring file's init() function.\\nPlease check the logs for your container instance: puru-automl-service. From the AML SDK, you can run print(service.get_logs()) if you have service object to fetch the logs. \\nYou can interactively debug your scoring file locally. Please refer to https://docs.microsoft.com/azure/machine-learning/how-to-debug-visual-studio-code#debug-and-troubleshoot-deployments for more information.\\nYou can also try to run image viennaglobal.azurecr.io/azureml/azureml_d97f122bdcaea8212b2eadb5cef56a6d locally. Please refer to https://aka.ms/debugimage#service-launch-fails for more information.\"\n    },\n    {\n      \"code\": \"AciDeploymentFailed\",\n      \"message\": \"Your container application crashed. Please follow the steps to debug:\\n1. From the AML SDK, you can run print(service.get_logs()) if you have service object to fetch the logs. Please refer to https://aka.ms/debugimage#dockerlog for more information.\\n2. If your container application crashed. This may be caused by errors in your scoring file's init() function. You can try debugging locally first. Please refer to https://aka.ms/debugimage#debug-locally for more information.\\n3. You can also interactively debug your scoring file locally. Please refer to https://docs.microsoft.com/azure/machine-learning/how-to-debug-visual-studio-code#debug-and-troubleshoot-deployments for more information.\\n4. View the diagnostic events to check status of container, it may help you to debug the issue. {\\\"restartCount\\\":5,\\\"currentState\\\":{\\\"state\\\":\\\"Waiting\\\",\\\"startTime\\\":null,\\\"exitCode\\\":null,\\\"finishTime\\\":null,\\\"detailStatus\\\":\\\"CrashLoopBackOff: Back-off restarting failed\\\"},\\\"previousState\\\":{\\\"state\\\":\\\"Terminated\\\",\\\"startTime\\\":\\\"2020-12-26T02:16:43.202Z\\\",\\\"exitCode\\\":111,\\\"finishTime\\\":\\\"2020-12-26T02:16:48.681Z\\\",\\\"detailStatus\\\":\\\"Error\\\"},\\\"events\\\":[{\\\"count\\\":1,\\\"firstTimestamp\\\":\\\"2020-12-26T02:10:04Z\\\",\\\"lastTimestamp\\\":\\\"2020-12-26T02:10:04Z\\\",\\\"name\\\":\\\"Pulling\\\",\\\"message\\\":\\\"pulling image \\\\\\\"viennaglobal.azurecr.io/azureml/azureml_d97f122bdcaea8212b2eadb5cef56a6d:latest\\\\\\\"\\\",\\\"type\\\":\\\"Normal\\\"},{\\\"count\\\":1,\\\"firstTimestamp\\\":\\\"2020-12-26T02:12:35Z\\\",\\\"lastTimestamp\\\":\\\"2020-12-26T02:12:35Z\\\",\\\"name\\\":\\\"Pulled\\\",\\\"message\\\":\\\"Successfully pulled image \\\\\\\"viennaglobal.azurecr.io/azureml/azureml_d97f122bdcaea8212b2eadb5cef56a6d:latest\\\\\\\"\\\",\\\"type\\\":\\\"Normal\\\"},{\\\"count\\\":6,\\\"firstTimestamp\\\":\\\"2020-12-26T02:13:02Z\\\",\\\"lastTimestamp\\\":\\\"2020-12-26T02:16:43Z\\\",\\\"name\\\":\\\"Started\\\",\\\"message\\\":\\\"Started container\\\",\\\"type\\\":\\\"Normal\\\"},{\\\"count\\\":6,\\\"firstTimestamp\\\":\\\"2020-12-26T02:13:11Z\\\",\\\"lastTimestamp\\\":\\\"2020-12-26T02:16:48Z\\\",\\\"name\\\":\\\"Killing\\\",\\\"message\\\":\\\"Killing container with id 0802508a4d997b7bb0a4c3ae71b3b274a42a18b3bc3e6ad6d9d6955b50eaae75.\\\",\\\"type\\\":\\\"Normal\\\"}]}\"\n    }\n  ]\n}\n\tInnerException None\n\tErrorResponse \n{\n    \"error\": {\n        \"message\": \"Service deployment polling reached non-successful terminal state, current service state: Failed\\nOperation ID: 8443a186-641e-4ddd-b2c7-cba94c94adcd\\nMore information can be found using '.get_logs()'\\nError:\\n{\\n  \\\"code\\\": \\\"AciDeploymentFailed\\\",\\n  \\\"message\\\": \\\"Aci Deployment failed with exception: Your container application crashed. This may be caused by errors in your scoring file's init() function.\\\\nPlease check the logs for your container instance: puru-automl-service. From the AML SDK, you can run print(service.get_logs()) if you have service object to fetch the logs. \\\\nYou can interactively debug your scoring file locally. Please refer to https://docs.microsoft.com/azure/machine-learning/how-to-debug-visual-studio-code#debug-and-troubleshoot-deployments for more information.\\\\nYou can also try to run image viennaglobal.azurecr.io/azureml/azureml_d97f122bdcaea8212b2eadb5cef56a6d locally. Please refer to https://aka.ms/debugimage#service-launch-fails for more information.\\\",\\n  \\\"details\\\": [\\n    {\\n      \\\"code\\\": \\\"CrashLoopBackOff\\\",\\n      \\\"message\\\": \\\"Your container application crashed. This may be caused by errors in your scoring file's init() function.\\\\nPlease check the logs for your container instance: puru-automl-service. From the AML SDK, you can run print(service.get_logs()) if you have service object to fetch the logs. \\\\nYou can interactively debug your scoring file locally. Please refer to https://docs.microsoft.com/azure/machine-learning/how-to-debug-visual-studio-code#debug-and-troubleshoot-deployments for more information.\\\\nYou can also try to run image viennaglobal.azurecr.io/azureml/azureml_d97f122bdcaea8212b2eadb5cef56a6d locally. Please refer to https://aka.ms/debugimage#service-launch-fails for more information.\\\"\\n    },\\n    {\\n      \\\"code\\\": \\\"AciDeploymentFailed\\\",\\n      \\\"message\\\": \\\"Your container application crashed. Please follow the steps to debug:\\\\n1. From the AML SDK, you can run print(service.get_logs()) if you have service object to fetch the logs. Please refer to https://aka.ms/debugimage#dockerlog for more information.\\\\n2. If your container application crashed. This may be caused by errors in your scoring file's init() function. You can try debugging locally first. Please refer to https://aka.ms/debugimage#debug-locally for more information.\\\\n3. You can also interactively debug your scoring file locally. Please refer to https://docs.microsoft.com/azure/machine-learning/how-to-debug-visual-studio-code#debug-and-troubleshoot-deployments for more information.\\\\n4. View the diagnostic events to check status of container, it may help you to debug the issue. {\\\\\\\"restartCount\\\\\\\":5,\\\\\\\"currentState\\\\\\\":{\\\\\\\"state\\\\\\\":\\\\\\\"Waiting\\\\\\\",\\\\\\\"startTime\\\\\\\":null,\\\\\\\"exitCode\\\\\\\":null,\\\\\\\"finishTime\\\\\\\":null,\\\\\\\"detailStatus\\\\\\\":\\\\\\\"CrashLoopBackOff: Back-off restarting failed\\\\\\\"},\\\\\\\"previousState\\\\\\\":{\\\\\\\"state\\\\\\\":\\\\\\\"Terminated\\\\\\\",\\\\\\\"startTime\\\\\\\":\\\\\\\"2020-12-26T02:16:43.202Z\\\\\\\",\\\\\\\"exitCode\\\\\\\":111,\\\\\\\"finishTime\\\\\\\":\\\\\\\"2020-12-26T02:16:48.681Z\\\\\\\",\\\\\\\"detailStatus\\\\\\\":\\\\\\\"Error\\\\\\\"},\\\\\\\"events\\\\\\\":[{\\\\\\\"count\\\\\\\":1,\\\\\\\"firstTimestamp\\\\\\\":\\\\\\\"2020-12-26T02:10:04Z\\\\\\\",\\\\\\\"lastTimestamp\\\\\\\":\\\\\\\"2020-12-26T02:10:04Z\\\\\\\",\\\\\\\"name\\\\\\\":\\\\\\\"Pulling\\\\\\\",\\\\\\\"message\\\\\\\":\\\\\\\"pulling image \\\\\\\\\\\\\\\"viennaglobal.azurecr.io/azureml/azureml_d97f122bdcaea8212b2eadb5cef56a6d:latest\\\\\\\\\\\\\\\"\\\\\\\",\\\\\\\"type\\\\\\\":\\\\\\\"Normal\\\\\\\"},{\\\\\\\"count\\\\\\\":1,\\\\\\\"firstTimestamp\\\\\\\":\\\\\\\"2020-12-26T02:12:35Z\\\\\\\",\\\\\\\"lastTimestamp\\\\\\\":\\\\\\\"2020-12-26T02:12:35Z\\\\\\\",\\\\\\\"name\\\\\\\":\\\\\\\"Pulled\\\\\\\",\\\\\\\"message\\\\\\\":\\\\\\\"Successfully pulled image \\\\\\\\\\\\\\\"viennaglobal.azurecr.io/azureml/azureml_d97f122bdcaea8212b2eadb5cef56a6d:latest\\\\\\\\\\\\\\\"\\\\\\\",\\\\\\\"type\\\\\\\":\\\\\\\"Normal\\\\\\\"},{\\\\\\\"count\\\\\\\":6,\\\\\\\"firstTimestamp\\\\\\\":\\\\\\\"2020-12-26T02:13:02Z\\\\\\\",\\\\\\\"lastTimestamp\\\\\\\":\\\\\\\"2020-12-26T02:16:43Z\\\\\\\",\\\\\\\"name\\\\\\\":\\\\\\\"Started\\\\\\\",\\\\\\\"message\\\\\\\":\\\\\\\"Started container\\\\\\\",\\\\\\\"type\\\\\\\":\\\\\\\"Normal\\\\\\\"},{\\\\\\\"count\\\\\\\":6,\\\\\\\"firstTimestamp\\\\\\\":\\\\\\\"2020-12-26T02:13:11Z\\\\\\\",\\\\\\\"lastTimestamp\\\\\\\":\\\\\\\"2020-12-26T02:16:48Z\\\\\\\",\\\\\\\"name\\\\\\\":\\\\\\\"Killing\\\\\\\",\\\\\\\"message\\\\\\\":\\\\\\\"Killing container with id 0802508a4d997b7bb0a4c3ae71b3b274a42a18b3bc3e6ad6d9d6955b50eaae75.\\\\\\\",\\\\\\\"type\\\\\\\":\\\\\\\"Normal\\\\\\\"}]}\\\"\\n    }\\n  ]\\n}\"\n    }\n}",
     "output_type": "error",
     "traceback": [
      "\u001b[0;31m---------------------------------------------------------------------------\u001b[0m",
      "\u001b[0;31mWebserviceException\u001b[0m                       Traceback (most recent call last)",
      "\u001b[0;32m<ipython-input-24-aa1ac609971b>\u001b[0m in \u001b[0;36m<module>\u001b[0;34m\u001b[0m\n\u001b[1;32m     20\u001b[0m                        overwrite=True)\n\u001b[1;32m     21\u001b[0m \u001b[0;34m\u001b[0m\u001b[0m\n\u001b[0;32m---> 22\u001b[0;31m \u001b[0mservice\u001b[0m\u001b[0;34m.\u001b[0m\u001b[0mwait_for_deployment\u001b[0m\u001b[0;34m(\u001b[0m\u001b[0mshow_output\u001b[0m\u001b[0;34m=\u001b[0m\u001b[0;32mTrue\u001b[0m\u001b[0;34m)\u001b[0m\u001b[0;34m\u001b[0m\u001b[0;34m\u001b[0m\u001b[0m\n\u001b[0m",
      "\u001b[0;32m/anaconda/envs/azureml_py36/lib/python3.6/site-packages/azureml/core/webservice/webservice.py\u001b[0m in \u001b[0;36mwait_for_deployment\u001b[0;34m(self, show_output, timeout_sec)\u001b[0m\n\u001b[1;32m    913\u001b[0m                                           \u001b[0;34m'Error:\\n'\u001b[0m\u001b[0;34m\u001b[0m\u001b[0;34m\u001b[0m\u001b[0m\n\u001b[1;32m    914\u001b[0m                                           '{}'.format(self.state, self._operation_endpoint.split('/')[-1],\n\u001b[0;32m--> 915\u001b[0;31m                                                       logs_response, error_response), logger=module_logger)\n\u001b[0m\u001b[1;32m    916\u001b[0m             print('{} service creation operation finished, operation \"{}\"'.format(self._webservice_type,\n\u001b[1;32m    917\u001b[0m                                                                                   operation_state))\n",
      "\u001b[0;31mWebserviceException\u001b[0m: WebserviceException:\n\tMessage: Service deployment polling reached non-successful terminal state, current service state: Failed\nOperation ID: 8443a186-641e-4ddd-b2c7-cba94c94adcd\nMore information can be found using '.get_logs()'\nError:\n{\n  \"code\": \"AciDeploymentFailed\",\n  \"message\": \"Aci Deployment failed with exception: Your container application crashed. This may be caused by errors in your scoring file's init() function.\\nPlease check the logs for your container instance: puru-automl-service. From the AML SDK, you can run print(service.get_logs()) if you have service object to fetch the logs. \\nYou can interactively debug your scoring file locally. Please refer to https://docs.microsoft.com/azure/machine-learning/how-to-debug-visual-studio-code#debug-and-troubleshoot-deployments for more information.\\nYou can also try to run image viennaglobal.azurecr.io/azureml/azureml_d97f122bdcaea8212b2eadb5cef56a6d locally. Please refer to https://aka.ms/debugimage#service-launch-fails for more information.\",\n  \"details\": [\n    {\n      \"code\": \"CrashLoopBackOff\",\n      \"message\": \"Your container application crashed. This may be caused by errors in your scoring file's init() function.\\nPlease check the logs for your container instance: puru-automl-service. From the AML SDK, you can run print(service.get_logs()) if you have service object to fetch the logs. \\nYou can interactively debug your scoring file locally. Please refer to https://docs.microsoft.com/azure/machine-learning/how-to-debug-visual-studio-code#debug-and-troubleshoot-deployments for more information.\\nYou can also try to run image viennaglobal.azurecr.io/azureml/azureml_d97f122bdcaea8212b2eadb5cef56a6d locally. Please refer to https://aka.ms/debugimage#service-launch-fails for more information.\"\n    },\n    {\n      \"code\": \"AciDeploymentFailed\",\n      \"message\": \"Your container application crashed. Please follow the steps to debug:\\n1. From the AML SDK, you can run print(service.get_logs()) if you have service object to fetch the logs. Please refer to https://aka.ms/debugimage#dockerlog for more information.\\n2. If your container application crashed. This may be caused by errors in your scoring file's init() function. You can try debugging locally first. Please refer to https://aka.ms/debugimage#debug-locally for more information.\\n3. You can also interactively debug your scoring file locally. Please refer to https://docs.microsoft.com/azure/machine-learning/how-to-debug-visual-studio-code#debug-and-troubleshoot-deployments for more information.\\n4. View the diagnostic events to check status of container, it may help you to debug the issue. {\\\"restartCount\\\":5,\\\"currentState\\\":{\\\"state\\\":\\\"Waiting\\\",\\\"startTime\\\":null,\\\"exitCode\\\":null,\\\"finishTime\\\":null,\\\"detailStatus\\\":\\\"CrashLoopBackOff: Back-off restarting failed\\\"},\\\"previousState\\\":{\\\"state\\\":\\\"Terminated\\\",\\\"startTime\\\":\\\"2020-12-26T02:16:43.202Z\\\",\\\"exitCode\\\":111,\\\"finishTime\\\":\\\"2020-12-26T02:16:48.681Z\\\",\\\"detailStatus\\\":\\\"Error\\\"},\\\"events\\\":[{\\\"count\\\":1,\\\"firstTimestamp\\\":\\\"2020-12-26T02:10:04Z\\\",\\\"lastTimestamp\\\":\\\"2020-12-26T02:10:04Z\\\",\\\"name\\\":\\\"Pulling\\\",\\\"message\\\":\\\"pulling image \\\\\\\"viennaglobal.azurecr.io/azureml/azureml_d97f122bdcaea8212b2eadb5cef56a6d:latest\\\\\\\"\\\",\\\"type\\\":\\\"Normal\\\"},{\\\"count\\\":1,\\\"firstTimestamp\\\":\\\"2020-12-26T02:12:35Z\\\",\\\"lastTimestamp\\\":\\\"2020-12-26T02:12:35Z\\\",\\\"name\\\":\\\"Pulled\\\",\\\"message\\\":\\\"Successfully pulled image \\\\\\\"viennaglobal.azurecr.io/azureml/azureml_d97f122bdcaea8212b2eadb5cef56a6d:latest\\\\\\\"\\\",\\\"type\\\":\\\"Normal\\\"},{\\\"count\\\":6,\\\"firstTimestamp\\\":\\\"2020-12-26T02:13:02Z\\\",\\\"lastTimestamp\\\":\\\"2020-12-26T02:16:43Z\\\",\\\"name\\\":\\\"Started\\\",\\\"message\\\":\\\"Started container\\\",\\\"type\\\":\\\"Normal\\\"},{\\\"count\\\":6,\\\"firstTimestamp\\\":\\\"2020-12-26T02:13:11Z\\\",\\\"lastTimestamp\\\":\\\"2020-12-26T02:16:48Z\\\",\\\"name\\\":\\\"Killing\\\",\\\"message\\\":\\\"Killing container with id 0802508a4d997b7bb0a4c3ae71b3b274a42a18b3bc3e6ad6d9d6955b50eaae75.\\\",\\\"type\\\":\\\"Normal\\\"}]}\"\n    }\n  ]\n}\n\tInnerException None\n\tErrorResponse \n{\n    \"error\": {\n        \"message\": \"Service deployment polling reached non-successful terminal state, current service state: Failed\\nOperation ID: 8443a186-641e-4ddd-b2c7-cba94c94adcd\\nMore information can be found using '.get_logs()'\\nError:\\n{\\n  \\\"code\\\": \\\"AciDeploymentFailed\\\",\\n  \\\"message\\\": \\\"Aci Deployment failed with exception: Your container application crashed. This may be caused by errors in your scoring file's init() function.\\\\nPlease check the logs for your container instance: puru-automl-service. From the AML SDK, you can run print(service.get_logs()) if you have service object to fetch the logs. \\\\nYou can interactively debug your scoring file locally. Please refer to https://docs.microsoft.com/azure/machine-learning/how-to-debug-visual-studio-code#debug-and-troubleshoot-deployments for more information.\\\\nYou can also try to run image viennaglobal.azurecr.io/azureml/azureml_d97f122bdcaea8212b2eadb5cef56a6d locally. Please refer to https://aka.ms/debugimage#service-launch-fails for more information.\\\",\\n  \\\"details\\\": [\\n    {\\n      \\\"code\\\": \\\"CrashLoopBackOff\\\",\\n      \\\"message\\\": \\\"Your container application crashed. This may be caused by errors in your scoring file's init() function.\\\\nPlease check the logs for your container instance: puru-automl-service. From the AML SDK, you can run print(service.get_logs()) if you have service object to fetch the logs. \\\\nYou can interactively debug your scoring file locally. Please refer to https://docs.microsoft.com/azure/machine-learning/how-to-debug-visual-studio-code#debug-and-troubleshoot-deployments for more information.\\\\nYou can also try to run image viennaglobal.azurecr.io/azureml/azureml_d97f122bdcaea8212b2eadb5cef56a6d locally. Please refer to https://aka.ms/debugimage#service-launch-fails for more information.\\\"\\n    },\\n    {\\n      \\\"code\\\": \\\"AciDeploymentFailed\\\",\\n      \\\"message\\\": \\\"Your container application crashed. Please follow the steps to debug:\\\\n1. From the AML SDK, you can run print(service.get_logs()) if you have service object to fetch the logs. Please refer to https://aka.ms/debugimage#dockerlog for more information.\\\\n2. If your container application crashed. This may be caused by errors in your scoring file's init() function. You can try debugging locally first. Please refer to https://aka.ms/debugimage#debug-locally for more information.\\\\n3. You can also interactively debug your scoring file locally. Please refer to https://docs.microsoft.com/azure/machine-learning/how-to-debug-visual-studio-code#debug-and-troubleshoot-deployments for more information.\\\\n4. View the diagnostic events to check status of container, it may help you to debug the issue. {\\\\\\\"restartCount\\\\\\\":5,\\\\\\\"currentState\\\\\\\":{\\\\\\\"state\\\\\\\":\\\\\\\"Waiting\\\\\\\",\\\\\\\"startTime\\\\\\\":null,\\\\\\\"exitCode\\\\\\\":null,\\\\\\\"finishTime\\\\\\\":null,\\\\\\\"detailStatus\\\\\\\":\\\\\\\"CrashLoopBackOff: Back-off restarting failed\\\\\\\"},\\\\\\\"previousState\\\\\\\":{\\\\\\\"state\\\\\\\":\\\\\\\"Terminated\\\\\\\",\\\\\\\"startTime\\\\\\\":\\\\\\\"2020-12-26T02:16:43.202Z\\\\\\\",\\\\\\\"exitCode\\\\\\\":111,\\\\\\\"finishTime\\\\\\\":\\\\\\\"2020-12-26T02:16:48.681Z\\\\\\\",\\\\\\\"detailStatus\\\\\\\":\\\\\\\"Error\\\\\\\"},\\\\\\\"events\\\\\\\":[{\\\\\\\"count\\\\\\\":1,\\\\\\\"firstTimestamp\\\\\\\":\\\\\\\"2020-12-26T02:10:04Z\\\\\\\",\\\\\\\"lastTimestamp\\\\\\\":\\\\\\\"2020-12-26T02:10:04Z\\\\\\\",\\\\\\\"name\\\\\\\":\\\\\\\"Pulling\\\\\\\",\\\\\\\"message\\\\\\\":\\\\\\\"pulling image \\\\\\\\\\\\\\\"viennaglobal.azurecr.io/azureml/azureml_d97f122bdcaea8212b2eadb5cef56a6d:latest\\\\\\\\\\\\\\\"\\\\\\\",\\\\\\\"type\\\\\\\":\\\\\\\"Normal\\\\\\\"},{\\\\\\\"count\\\\\\\":1,\\\\\\\"firstTimestamp\\\\\\\":\\\\\\\"2020-12-26T02:12:35Z\\\\\\\",\\\\\\\"lastTimestamp\\\\\\\":\\\\\\\"2020-12-26T02:12:35Z\\\\\\\",\\\\\\\"name\\\\\\\":\\\\\\\"Pulled\\\\\\\",\\\\\\\"message\\\\\\\":\\\\\\\"Successfully pulled image \\\\\\\\\\\\\\\"viennaglobal.azurecr.io/azureml/azureml_d97f122bdcaea8212b2eadb5cef56a6d:latest\\\\\\\\\\\\\\\"\\\\\\\",\\\\\\\"type\\\\\\\":\\\\\\\"Normal\\\\\\\"},{\\\\\\\"count\\\\\\\":6,\\\\\\\"firstTimestamp\\\\\\\":\\\\\\\"2020-12-26T02:13:02Z\\\\\\\",\\\\\\\"lastTimestamp\\\\\\\":\\\\\\\"2020-12-26T02:16:43Z\\\\\\\",\\\\\\\"name\\\\\\\":\\\\\\\"Started\\\\\\\",\\\\\\\"message\\\\\\\":\\\\\\\"Started container\\\\\\\",\\\\\\\"type\\\\\\\":\\\\\\\"Normal\\\\\\\"},{\\\\\\\"count\\\\\\\":6,\\\\\\\"firstTimestamp\\\\\\\":\\\\\\\"2020-12-26T02:13:11Z\\\\\\\",\\\\\\\"lastTimestamp\\\\\\\":\\\\\\\"2020-12-26T02:16:48Z\\\\\\\",\\\\\\\"name\\\\\\\":\\\\\\\"Killing\\\\\\\",\\\\\\\"message\\\\\\\":\\\\\\\"Killing container with id 0802508a4d997b7bb0a4c3ae71b3b274a42a18b3bc3e6ad6d9d6955b50eaae75.\\\\\\\",\\\\\\\"type\\\\\\\":\\\\\\\"Normal\\\\\\\"}]}\\\"\\n    }\\n  ]\\n}\"\n    }\n}"
     ]
    }
   ],
   "source": [
    "# deploy model as a web service\n",
    "from azureml.core.model import InferenceConfig\n",
    "from azureml.core.webservice import AciWebservice\n",
    "from azureml.core import Environment\n",
    "from azureml.core.model import Model\n",
    "\n",
    "service_name = 'puru-automl-service'\n",
    "env = Environment.get(workspace=ws, name=\"AzureML-Tutorial\")  \n",
    "env.python.conda_dependencies.add_pip_package(\"scikit-learn\")\n",
    "\n",
    "inference_config = InferenceConfig(entry_script='score.py', environment=env)\n",
    "aci_config = AciWebservice.deploy_configuration(cpu_cores=1, memory_gb=4, enable_app_insights=True, auth_enabled=True)\n",
    "\n",
    "model = Model(ws,name='puru-model')\n",
    "service = Model.deploy(workspace=ws,\n",
    "                       name=service_name,\n",
    "                       models=[model],\n",
    "                       inference_config=inference_config,\n",
    "                       deployment_config=aci_config,\n",
    "                       overwrite=True)\n",
    "\n",
    "service.wait_for_deployment(show_output=True)"
   ]
  },
  {
   "cell_type": "code",
   "execution_count": 30,
   "metadata": {},
   "outputs": [
    {
     "ename": "ModelNotFoundException",
     "evalue": "ModelNotFoundException:\n\tMessage: Model puru-model not found in cache at azureml-models or in current working directory /mnt/batch/tasks/shared/LS_root/mounts/clusters/puru-compute/code/Users/odl_user_131799. For more info, set logging level to DEBUG.\n\tInnerException None\n\tErrorResponse \n{\n    \"error\": {\n        \"message\": \"Model puru-model not found in cache at azureml-models or in current working directory /mnt/batch/tasks/shared/LS_root/mounts/clusters/puru-compute/code/Users/odl_user_131799. For more info, set logging level to DEBUG.\"\n    }\n}",
     "output_type": "error",
     "traceback": [
      "\u001b[0;31m---------------------------------------------------------------------------\u001b[0m",
      "\u001b[0;31mModelNotFoundException\u001b[0m                    Traceback (most recent call last)",
      "\u001b[0;32m<ipython-input-30-ec030959cd4f>\u001b[0m in \u001b[0;36m<module>\u001b[0;34m\u001b[0m\n\u001b[1;32m      1\u001b[0m \u001b[0;32mglobal\u001b[0m \u001b[0mmodel\u001b[0m\u001b[0;34m\u001b[0m\u001b[0;34m\u001b[0m\u001b[0m\n\u001b[0;32m----> 2\u001b[0;31m \u001b[0mmodel_path\u001b[0m \u001b[0;34m=\u001b[0m \u001b[0mModel\u001b[0m\u001b[0;34m.\u001b[0m\u001b[0mget_model_path\u001b[0m\u001b[0;34m(\u001b[0m\u001b[0;34m'puru-model'\u001b[0m\u001b[0;34m)\u001b[0m\u001b[0;34m\u001b[0m\u001b[0;34m\u001b[0m\u001b[0m\n\u001b[0m\u001b[1;32m      3\u001b[0m \u001b[0mprint\u001b[0m\u001b[0;34m(\u001b[0m\u001b[0;34m'model_path'\u001b[0m \u001b[0;34m+\u001b[0m \u001b[0mmodel_path\u001b[0m\u001b[0;34m)\u001b[0m\u001b[0;34m\u001b[0m\u001b[0;34m\u001b[0m\u001b[0m\n\u001b[1;32m      4\u001b[0m \u001b[0;31m#model_path_mod = os.path.join(os.getenv('AZUREML_MODEL_DIR'), 'model.pkl')\u001b[0m\u001b[0;34m\u001b[0m\u001b[0;34m\u001b[0m\u001b[0;34m\u001b[0m\u001b[0m\n\u001b[1;32m      5\u001b[0m \u001b[0;31m#print('model_path model' + model_path_mod)\u001b[0m\u001b[0;34m\u001b[0m\u001b[0;34m\u001b[0m\u001b[0;34m\u001b[0m\u001b[0m\n",
      "\u001b[0;32m/anaconda/envs/azureml_py36/lib/python3.6/site-packages/azureml/core/model.py\u001b[0m in \u001b[0;36mget_model_path\u001b[0;34m(model_name, version, _workspace)\u001b[0m\n\u001b[1;32m    790\u001b[0m                 \u001b[0;32mreturn\u001b[0m \u001b[0mModel\u001b[0m\u001b[0;34m.\u001b[0m\u001b[0m_get_model_path_remote\u001b[0m\u001b[0;34m(\u001b[0m\u001b[0mmodel_name\u001b[0m\u001b[0;34m,\u001b[0m \u001b[0mversion\u001b[0m\u001b[0;34m,\u001b[0m \u001b[0mactive_workspace\u001b[0m\u001b[0;34m)\u001b[0m\u001b[0;34m\u001b[0m\u001b[0;34m\u001b[0m\u001b[0m\n\u001b[1;32m    791\u001b[0m             \u001b[0;32melse\u001b[0m\u001b[0;34m:\u001b[0m\u001b[0;34m\u001b[0m\u001b[0;34m\u001b[0m\u001b[0m\n\u001b[0;32m--> 792\u001b[0;31m                 \u001b[0;32mreturn\u001b[0m \u001b[0mModel\u001b[0m\u001b[0;34m.\u001b[0m\u001b[0m_get_model_path_local\u001b[0m\u001b[0;34m(\u001b[0m\u001b[0mmodel_name\u001b[0m\u001b[0;34m,\u001b[0m \u001b[0mversion\u001b[0m\u001b[0;34m)\u001b[0m\u001b[0;34m\u001b[0m\u001b[0;34m\u001b[0m\u001b[0m\n\u001b[0m\u001b[1;32m    793\u001b[0m \u001b[0;34m\u001b[0m\u001b[0m\n\u001b[1;32m    794\u001b[0m     \u001b[0;34m@\u001b[0m\u001b[0mstaticmethod\u001b[0m\u001b[0;34m\u001b[0m\u001b[0;34m\u001b[0m\u001b[0m\n",
      "\u001b[0;32m/anaconda/envs/azureml_py36/lib/python3.6/site-packages/azureml/core/model.py\u001b[0m in \u001b[0;36m_get_model_path_local\u001b[0;34m(model_name, version)\u001b[0m\n\u001b[1;32m    811\u001b[0m         \u001b[0;31m# Probing azureml-models/<name>\u001b[0m\u001b[0;34m\u001b[0m\u001b[0;34m\u001b[0m\u001b[0;34m\u001b[0m\u001b[0m\n\u001b[1;32m    812\u001b[0m         \u001b[0;32mif\u001b[0m \u001b[0;32mnot\u001b[0m \u001b[0mos\u001b[0m\u001b[0;34m.\u001b[0m\u001b[0mpath\u001b[0m\u001b[0;34m.\u001b[0m\u001b[0mexists\u001b[0m\u001b[0;34m(\u001b[0m\u001b[0mcandidate_model_path\u001b[0m\u001b[0;34m)\u001b[0m\u001b[0;34m:\u001b[0m\u001b[0;34m\u001b[0m\u001b[0;34m\u001b[0m\u001b[0m\n\u001b[0;32m--> 813\u001b[0;31m             \u001b[0;32mreturn\u001b[0m \u001b[0mModel\u001b[0m\u001b[0;34m.\u001b[0m\u001b[0m_get_model_path_local_from_root\u001b[0m\u001b[0;34m(\u001b[0m\u001b[0mmodel_name\u001b[0m\u001b[0;34m)\u001b[0m\u001b[0;34m\u001b[0m\u001b[0;34m\u001b[0m\u001b[0m\n\u001b[0m\u001b[1;32m    814\u001b[0m         \u001b[0;32melse\u001b[0m\u001b[0;34m:\u001b[0m\u001b[0;34m\u001b[0m\u001b[0;34m\u001b[0m\u001b[0m\n\u001b[1;32m    815\u001b[0m             \u001b[0;31m# Probing azureml-models/<name> exists, probing version\u001b[0m\u001b[0;34m\u001b[0m\u001b[0;34m\u001b[0m\u001b[0;34m\u001b[0m\u001b[0m\n",
      "\u001b[0;32m/anaconda/envs/azureml_py36/lib/python3.6/site-packages/azureml/core/model.py\u001b[0m in \u001b[0;36m_get_model_path_local_from_root\u001b[0;34m(model_name)\u001b[0m\n\u001b[1;32m    855\u001b[0m         raise ModelNotFoundException(\"Model {} not found in cache at {} or in current working directory {}. \"\n\u001b[1;32m    856\u001b[0m                                      \"For more info, set logging level to DEBUG.\".format(model_name, MODELS_DIR,\n\u001b[0;32m--> 857\u001b[0;31m                                                                                          os.getcwd()))\n\u001b[0m\u001b[1;32m    858\u001b[0m \u001b[0;34m\u001b[0m\u001b[0m\n\u001b[1;32m    859\u001b[0m     \u001b[0;34m@\u001b[0m\u001b[0mstaticmethod\u001b[0m\u001b[0;34m\u001b[0m\u001b[0;34m\u001b[0m\u001b[0m\n",
      "\u001b[0;31mModelNotFoundException\u001b[0m: ModelNotFoundException:\n\tMessage: Model puru-model not found in cache at azureml-models or in current working directory /mnt/batch/tasks/shared/LS_root/mounts/clusters/puru-compute/code/Users/odl_user_131799. For more info, set logging level to DEBUG.\n\tInnerException None\n\tErrorResponse \n{\n    \"error\": {\n        \"message\": \"Model puru-model not found in cache at azureml-models or in current working directory /mnt/batch/tasks/shared/LS_root/mounts/clusters/puru-compute/code/Users/odl_user_131799. For more info, set logging level to DEBUG.\"\n    }\n}"
     ]
    }
   ],
   "source": [
    "global model\n",
    "model_path = Model.get_model_path('puru-model')\n",
    "print('model_path' + model_path)\n",
    "#model_path_mod = os.path.join(os.getenv('AZUREML_MODEL_DIR'), 'model.pkl')\n",
    "#print('model_path model' + model_path_mod)\n",
    "model = joblib.load(model_path)"
   ]
  },
  {
   "cell_type": "markdown",
   "metadata": {
    "collapsed": true,
    "gather": {
     "logged": 1598431657736
    },
    "jupyter": {
     "outputs_hidden": false,
     "source_hidden": false
    },
    "nteract": {
     "transient": {
      "deleting": false
     }
    }
   },
   "source": [
    "TODO: In the cell below, send a request to the web service you deployed to test it."
   ]
  },
  {
   "cell_type": "code",
   "execution_count": null,
   "metadata": {
    "gather": {
     "logged": 1598432707604
    },
    "jupyter": {
     "outputs_hidden": false,
     "source_hidden": false
    },
    "nteract": {
     "transient": {
      "deleting": false
     }
    }
   },
   "outputs": [],
   "source": [
    "print(service.get_logs())\n"
   ]
  },
  {
   "cell_type": "markdown",
   "metadata": {
    "collapsed": true,
    "gather": {
     "logged": 1598432765711
    },
    "jupyter": {
     "outputs_hidden": false,
     "source_hidden": false
    },
    "nteract": {
     "transient": {
      "deleting": false
     }
    }
   },
   "source": [
    "TODO: In the cell below, print the logs of the web service and delete the service"
   ]
  },
  {
   "cell_type": "code",
   "execution_count": null,
   "metadata": {
    "jupyter": {
     "outputs_hidden": false,
     "source_hidden": false
    },
    "nteract": {
     "transient": {
      "deleting": false
     }
    }
   },
   "outputs": [],
   "source": [
    "print(service.state)\n",
    "print(\"scoring URI: \" + service.scoring_uri)\n",
    "\n",
    "print(\"Swagger URI: \" + service.swagger_uri)\n",
    "\n",
    "print(\"Authetication Key: \" + service.get_keys())"
   ]
  },
  {
   "cell_type": "code",
   "execution_count": null,
   "metadata": {},
   "outputs": [],
   "source": [
    "import json\n",
    "\n",
    "input_payload = json.dumps({\n",
    "    'data': x_test[0:2].tolist(),\n",
    "    'method': 'predict'  # If you have a classification model, you can get probabilities by changing this to 'predict_proba'.\n",
    "})\n",
    "\n",
    "output = service.run(input_payload)\n",
    "\n",
    "print(output)"
   ]
  }
 ],
 "metadata": {
  "kernel_info": {
   "name": "python3-azureml"
  },
  "kernelspec": {
   "display_name": "Python 3",
   "language": "python",
   "name": "python3"
  },
  "language_info": {
   "codemirror_mode": {
    "name": "ipython",
    "version": 3
   },
   "file_extension": ".py",
   "mimetype": "text/x-python",
   "name": "python",
   "nbconvert_exporter": "python",
   "pygments_lexer": "ipython3",
   "version": "3.6.9"
  },
  "nteract": {
   "version": "nteract-front-end@1.0.0"
  }
 },
 "nbformat": 4,
 "nbformat_minor": 2
}
