{
 "cells": [
  {
   "cell_type": "markdown",
   "metadata": {},
   "source": [
    "# Automated ML\n",
    "\n",
    "TODO: Import Dependencies. In the cell below, import all the dependencies that you will need to complete the project."
   ]
  },
  {
   "cell_type": "code",
   "execution_count": 1,
   "metadata": {
    "gather": {
     "logged": 1609085952213
    },
    "jupyter": {
     "outputs_hidden": false,
     "source_hidden": false
    },
    "nteract": {
     "transient": {
      "deleting": false
     }
    }
   },
   "outputs": [
    {
     "name": "stdout",
     "output_type": "stream",
     "text": [
      "SDK version: 1.19.0\n"
     ]
    }
   ],
   "source": [
    "import logging\n",
    "import os\n",
    "import csv\n",
    "\n",
    "from matplotlib import pyplot as plt\n",
    "import numpy as np\n",
    "import pandas as pd\n",
    "#from sklearn import datasets\n",
    "import pkg_resources\n",
    "\n",
    "import azureml.core\n",
    "from azureml.core.experiment import Experiment\n",
    "from azureml.core.workspace import Workspace\n",
    "from azureml.train.automl import AutoMLConfig\n",
    "#from azureml.core.dataset import Dataset\n",
    "\n",
    "from azureml.pipeline.steps import AutoMLStep\n",
    "\n",
    "# Check core SDK version number\n",
    "print(\"SDK version:\", azureml.core.VERSION)"
   ]
  },
  {
   "cell_type": "markdown",
   "metadata": {},
   "source": [
    "## Dataset\n",
    "\n",
    "### Overview\n",
    "TODO: In this markdown cell, give an overview of the dataset you are using. Also mention the task you will be performing.\n",
    "\n",
    "\n",
    "TODO: Get data. In the cell below, write code to access the data you will be using in this project. Remember that the dataset needs to be external."
   ]
  },
  {
   "cell_type": "code",
   "execution_count": 2,
   "metadata": {
    "gather": {
     "logged": 1609085965307
    },
    "jupyter": {
     "outputs_hidden": false,
     "source_hidden": false
    },
    "nteract": {
     "transient": {
      "deleting": false
     }
    }
   },
   "outputs": [],
   "source": [
    "ws = Workspace.from_config()\n",
    "\n",
    "# choose a name for experiment\n",
    "experiment_name = 'puru-auto-experiment'\n",
    "\n",
    "experiment=Experiment(ws, experiment_name)"
   ]
  },
  {
   "cell_type": "code",
   "execution_count": 3,
   "metadata": {
    "gather": {
     "logged": 1609085971002
    }
   },
   "outputs": [
    {
     "name": "stdout",
     "output_type": "stream",
     "text": [
      "Workspace name: quick-starts-ws-132034\n",
      "Azure region: southcentralus\n",
      "Subscription id: 610d6e37-4747-4a20-80eb-3aad70a55f43\n",
      "Resource group: aml-quickstarts-132034\n"
     ]
    }
   ],
   "source": [
    "print('Workspace name: ' + ws.name, \n",
    "      'Azure region: ' + ws.location, \n",
    "      'Subscription id: ' + ws.subscription_id, \n",
    "      'Resource group: ' + ws.resource_group, sep = '\\n')"
   ]
  },
  {
   "cell_type": "code",
   "execution_count": 4,
   "metadata": {
    "gather": {
     "logged": 1609085988405
    }
   },
   "outputs": [
    {
     "name": "stdout",
     "output_type": "stream",
     "text": [
      "Found existing cluster, using it.\n",
      "Succeeded\n",
      "AmlCompute wait for completion finished\n",
      "\n",
      "Minimum number of nodes requested have been provisioned\n"
     ]
    }
   ],
   "source": [
    "# create or attach an existing compute cluster\n",
    "from azureml.core.compute import ComputeTarget, AmlCompute\n",
    "from azureml.core.compute_target import ComputeTargetException\n",
    "\n",
    "# set name of CPU cluster\n",
    "cpu_cluster_name = \"puru-compute-new\"\n",
    "\n",
    "# Verify that cluster does not exist already\n",
    "try:\n",
    "    cpu_cluster = ComputeTarget(workspace=ws, name=cpu_cluster_name)\n",
    "    print('Found existing cluster, using it.')\n",
    "except ComputeTargetException:\n",
    "    print('Creating a new compute target...')\n",
    "    compute_config = AmlCompute.provisioning_configuration(vm_size='STANDARD_D2_V2',\n",
    "                                                           max_nodes=4)\n",
    "    cpu_cluster = ComputeTarget.create(ws, cpu_cluster_name, compute_config)\n",
    "\n",
    "# wait for completion\n",
    "cpu_cluster.wait_for_completion(show_output=True)"
   ]
  },
  {
   "cell_type": "code",
   "execution_count": 5,
   "metadata": {
    "gather": {
     "logged": 1609086014420
    }
   },
   "outputs": [],
   "source": [
    "# NOTE: update the key to match the dataset name\n",
    "found = False\n",
    "key = \"diabetes-classification\"\n",
    "description_text = \"Diabetes datasets for capstone project\"\n",
    "\n",
    "if key in ws.datasets.keys(): \n",
    "        found = True        \n",
    "        dataset = ws.datasets[key] \n",
    "\n",
    "if not found:\n",
    "        # Create Hyperdrive Dataset and register it into Workspace\n",
    "        url = 'https://raw.githubusercontent.com/purunep/Capstone/main/project/data/diabetes.csv'\n",
    "        dataset = Dataset.Tabular.from_delimited_files(url)        \n",
    "        #Register Dataset in Workspace\n",
    "        dataset = dataset.register(workspace=ws,\n",
    "                                   name=key,\n",
    "                                   description=description_text)\n",
    "\n",
    "\n",
    "df = dataset.to_pandas_dataframe()\n",
    "df.describe()\n",
    "\n",
    "from train import clean_data\n",
    "[x_data, y_data] = clean_data(dataset)"
   ]
  },
  {
   "cell_type": "code",
   "execution_count": 6,
   "metadata": {
    "gather": {
     "logged": 1609086021916
    }
   },
   "outputs": [
    {
     "data": {
      "text/html": [
       "<div>\n",
       "<style scoped>\n",
       "    .dataframe tbody tr th:only-of-type {\n",
       "        vertical-align: middle;\n",
       "    }\n",
       "\n",
       "    .dataframe tbody tr th {\n",
       "        vertical-align: top;\n",
       "    }\n",
       "\n",
       "    .dataframe thead th {\n",
       "        text-align: right;\n",
       "    }\n",
       "</style>\n",
       "<table border=\"1\" class=\"dataframe\">\n",
       "  <thead>\n",
       "    <tr style=\"text-align: right;\">\n",
       "      <th></th>\n",
       "      <th>Pregnancies</th>\n",
       "      <th>Glucose</th>\n",
       "      <th>BloodPressure</th>\n",
       "      <th>SkinThickness</th>\n",
       "      <th>Insulin</th>\n",
       "      <th>BMI</th>\n",
       "      <th>DiabetesPedigreeFunction</th>\n",
       "      <th>Age</th>\n",
       "      <th>Outcome</th>\n",
       "    </tr>\n",
       "  </thead>\n",
       "  <tbody>\n",
       "    <tr>\n",
       "      <th>0</th>\n",
       "      <td>6</td>\n",
       "      <td>148</td>\n",
       "      <td>72</td>\n",
       "      <td>35</td>\n",
       "      <td>0</td>\n",
       "      <td>33.6</td>\n",
       "      <td>0.627</td>\n",
       "      <td>50</td>\n",
       "      <td>1</td>\n",
       "    </tr>\n",
       "    <tr>\n",
       "      <th>1</th>\n",
       "      <td>1</td>\n",
       "      <td>85</td>\n",
       "      <td>66</td>\n",
       "      <td>29</td>\n",
       "      <td>0</td>\n",
       "      <td>26.6</td>\n",
       "      <td>0.351</td>\n",
       "      <td>31</td>\n",
       "      <td>0</td>\n",
       "    </tr>\n",
       "    <tr>\n",
       "      <th>2</th>\n",
       "      <td>8</td>\n",
       "      <td>183</td>\n",
       "      <td>64</td>\n",
       "      <td>0</td>\n",
       "      <td>0</td>\n",
       "      <td>23.3</td>\n",
       "      <td>0.672</td>\n",
       "      <td>32</td>\n",
       "      <td>1</td>\n",
       "    </tr>\n",
       "    <tr>\n",
       "      <th>3</th>\n",
       "      <td>1</td>\n",
       "      <td>89</td>\n",
       "      <td>66</td>\n",
       "      <td>23</td>\n",
       "      <td>94</td>\n",
       "      <td>28.1</td>\n",
       "      <td>0.167</td>\n",
       "      <td>21</td>\n",
       "      <td>0</td>\n",
       "    </tr>\n",
       "    <tr>\n",
       "      <th>4</th>\n",
       "      <td>0</td>\n",
       "      <td>137</td>\n",
       "      <td>40</td>\n",
       "      <td>35</td>\n",
       "      <td>168</td>\n",
       "      <td>43.1</td>\n",
       "      <td>2.288</td>\n",
       "      <td>33</td>\n",
       "      <td>1</td>\n",
       "    </tr>\n",
       "  </tbody>\n",
       "</table>\n",
       "</div>"
      ],
      "text/plain": [
       "   Pregnancies  Glucose  BloodPressure  SkinThickness  Insulin   BMI  \\\n",
       "0            6      148             72             35        0  33.6   \n",
       "1            1       85             66             29        0  26.6   \n",
       "2            8      183             64              0        0  23.3   \n",
       "3            1       89             66             23       94  28.1   \n",
       "4            0      137             40             35      168  43.1   \n",
       "\n",
       "   DiabetesPedigreeFunction  Age  Outcome  \n",
       "0                     0.627   50        1  \n",
       "1                     0.351   31        0  \n",
       "2                     0.672   32        1  \n",
       "3                     0.167   21        0  \n",
       "4                     2.288   33        1  "
      ]
     },
     "execution_count": 6,
     "metadata": {},
     "output_type": "execute_result"
    }
   ],
   "source": [
    "dataset.to_pandas_dataframe().head()"
   ]
  },
  {
   "cell_type": "code",
   "execution_count": 8,
   "metadata": {},
   "outputs": [
    {
     "data": {
      "text/html": [
       "<div>\n",
       "<style scoped>\n",
       "    .dataframe tbody tr th:only-of-type {\n",
       "        vertical-align: middle;\n",
       "    }\n",
       "\n",
       "    .dataframe tbody tr th {\n",
       "        vertical-align: top;\n",
       "    }\n",
       "\n",
       "    .dataframe thead th {\n",
       "        text-align: right;\n",
       "    }\n",
       "</style>\n",
       "<table border=\"1\" class=\"dataframe\">\n",
       "  <thead>\n",
       "    <tr style=\"text-align: right;\">\n",
       "      <th></th>\n",
       "      <th>Pregnancies</th>\n",
       "      <th>Glucose</th>\n",
       "      <th>BloodPressure</th>\n",
       "      <th>SkinThickness</th>\n",
       "      <th>Insulin</th>\n",
       "      <th>BMI</th>\n",
       "      <th>DiabetesPedigreeFunction</th>\n",
       "      <th>Age</th>\n",
       "      <th>Outcome</th>\n",
       "    </tr>\n",
       "  </thead>\n",
       "  <tbody>\n",
       "    <tr>\n",
       "      <th>count</th>\n",
       "      <td>768.000000</td>\n",
       "      <td>768.000000</td>\n",
       "      <td>768.000000</td>\n",
       "      <td>768.000000</td>\n",
       "      <td>768.000000</td>\n",
       "      <td>768.000000</td>\n",
       "      <td>768.000000</td>\n",
       "      <td>768.000000</td>\n",
       "      <td>768.000000</td>\n",
       "    </tr>\n",
       "    <tr>\n",
       "      <th>mean</th>\n",
       "      <td>3.845052</td>\n",
       "      <td>120.894531</td>\n",
       "      <td>69.105469</td>\n",
       "      <td>20.536458</td>\n",
       "      <td>79.799479</td>\n",
       "      <td>31.992578</td>\n",
       "      <td>0.471876</td>\n",
       "      <td>33.240885</td>\n",
       "      <td>0.348958</td>\n",
       "    </tr>\n",
       "    <tr>\n",
       "      <th>std</th>\n",
       "      <td>3.369578</td>\n",
       "      <td>31.972618</td>\n",
       "      <td>19.355807</td>\n",
       "      <td>15.952218</td>\n",
       "      <td>115.244002</td>\n",
       "      <td>7.884160</td>\n",
       "      <td>0.331329</td>\n",
       "      <td>11.760232</td>\n",
       "      <td>0.476951</td>\n",
       "    </tr>\n",
       "    <tr>\n",
       "      <th>min</th>\n",
       "      <td>0.000000</td>\n",
       "      <td>0.000000</td>\n",
       "      <td>0.000000</td>\n",
       "      <td>0.000000</td>\n",
       "      <td>0.000000</td>\n",
       "      <td>0.000000</td>\n",
       "      <td>0.078000</td>\n",
       "      <td>21.000000</td>\n",
       "      <td>0.000000</td>\n",
       "    </tr>\n",
       "    <tr>\n",
       "      <th>25%</th>\n",
       "      <td>1.000000</td>\n",
       "      <td>99.000000</td>\n",
       "      <td>62.000000</td>\n",
       "      <td>0.000000</td>\n",
       "      <td>0.000000</td>\n",
       "      <td>27.300000</td>\n",
       "      <td>0.243750</td>\n",
       "      <td>24.000000</td>\n",
       "      <td>0.000000</td>\n",
       "    </tr>\n",
       "    <tr>\n",
       "      <th>50%</th>\n",
       "      <td>3.000000</td>\n",
       "      <td>117.000000</td>\n",
       "      <td>72.000000</td>\n",
       "      <td>23.000000</td>\n",
       "      <td>30.500000</td>\n",
       "      <td>32.000000</td>\n",
       "      <td>0.372500</td>\n",
       "      <td>29.000000</td>\n",
       "      <td>0.000000</td>\n",
       "    </tr>\n",
       "    <tr>\n",
       "      <th>75%</th>\n",
       "      <td>6.000000</td>\n",
       "      <td>140.250000</td>\n",
       "      <td>80.000000</td>\n",
       "      <td>32.000000</td>\n",
       "      <td>127.250000</td>\n",
       "      <td>36.600000</td>\n",
       "      <td>0.626250</td>\n",
       "      <td>41.000000</td>\n",
       "      <td>1.000000</td>\n",
       "    </tr>\n",
       "    <tr>\n",
       "      <th>max</th>\n",
       "      <td>17.000000</td>\n",
       "      <td>199.000000</td>\n",
       "      <td>122.000000</td>\n",
       "      <td>99.000000</td>\n",
       "      <td>846.000000</td>\n",
       "      <td>67.100000</td>\n",
       "      <td>2.420000</td>\n",
       "      <td>81.000000</td>\n",
       "      <td>1.000000</td>\n",
       "    </tr>\n",
       "  </tbody>\n",
       "</table>\n",
       "</div>"
      ],
      "text/plain": [
       "       Pregnancies     Glucose  BloodPressure  SkinThickness     Insulin  \\\n",
       "count   768.000000  768.000000     768.000000     768.000000  768.000000   \n",
       "mean      3.845052  120.894531      69.105469      20.536458   79.799479   \n",
       "std       3.369578   31.972618      19.355807      15.952218  115.244002   \n",
       "min       0.000000    0.000000       0.000000       0.000000    0.000000   \n",
       "25%       1.000000   99.000000      62.000000       0.000000    0.000000   \n",
       "50%       3.000000  117.000000      72.000000      23.000000   30.500000   \n",
       "75%       6.000000  140.250000      80.000000      32.000000  127.250000   \n",
       "max      17.000000  199.000000     122.000000      99.000000  846.000000   \n",
       "\n",
       "              BMI  DiabetesPedigreeFunction         Age     Outcome  \n",
       "count  768.000000                768.000000  768.000000  768.000000  \n",
       "mean    31.992578                  0.471876   33.240885    0.348958  \n",
       "std      7.884160                  0.331329   11.760232    0.476951  \n",
       "min      0.000000                  0.078000   21.000000    0.000000  \n",
       "25%     27.300000                  0.243750   24.000000    0.000000  \n",
       "50%     32.000000                  0.372500   29.000000    0.000000  \n",
       "75%     36.600000                  0.626250   41.000000    1.000000  \n",
       "max     67.100000                  2.420000   81.000000    1.000000  "
      ]
     },
     "execution_count": 8,
     "metadata": {},
     "output_type": "execute_result"
    }
   ],
   "source": [
    "df = dataset.to_pandas_dataframe()\n",
    "df.describe()"
   ]
  },
  {
   "cell_type": "code",
   "execution_count": 7,
   "metadata": {
    "gather": {
     "logged": 1609086049040
    }
   },
   "outputs": [
    {
     "data": {
      "text/html": [
       "<div>\n",
       "<style scoped>\n",
       "    .dataframe tbody tr th:only-of-type {\n",
       "        vertical-align: middle;\n",
       "    }\n",
       "\n",
       "    .dataframe tbody tr th {\n",
       "        vertical-align: top;\n",
       "    }\n",
       "\n",
       "    .dataframe thead th {\n",
       "        text-align: right;\n",
       "    }\n",
       "</style>\n",
       "<table border=\"1\" class=\"dataframe\">\n",
       "  <thead>\n",
       "    <tr style=\"text-align: right;\">\n",
       "      <th></th>\n",
       "      <th>Pregnancies</th>\n",
       "      <th>Glucose</th>\n",
       "      <th>BloodPressure</th>\n",
       "      <th>SkinThickness</th>\n",
       "      <th>Insulin</th>\n",
       "      <th>BMI</th>\n",
       "      <th>DiabetesPedigreeFunction</th>\n",
       "      <th>Age</th>\n",
       "      <th>Outcome</th>\n",
       "    </tr>\n",
       "  </thead>\n",
       "  <tbody>\n",
       "    <tr>\n",
       "      <th>580</th>\n",
       "      <td>0</td>\n",
       "      <td>151</td>\n",
       "      <td>90</td>\n",
       "      <td>46</td>\n",
       "      <td>0</td>\n",
       "      <td>42.1</td>\n",
       "      <td>0.371</td>\n",
       "      <td>21</td>\n",
       "      <td>1</td>\n",
       "    </tr>\n",
       "    <tr>\n",
       "      <th>418</th>\n",
       "      <td>1</td>\n",
       "      <td>83</td>\n",
       "      <td>68</td>\n",
       "      <td>0</td>\n",
       "      <td>0</td>\n",
       "      <td>18.2</td>\n",
       "      <td>0.624</td>\n",
       "      <td>27</td>\n",
       "      <td>0</td>\n",
       "    </tr>\n",
       "    <tr>\n",
       "      <th>764</th>\n",
       "      <td>2</td>\n",
       "      <td>122</td>\n",
       "      <td>70</td>\n",
       "      <td>27</td>\n",
       "      <td>0</td>\n",
       "      <td>36.8</td>\n",
       "      <td>0.340</td>\n",
       "      <td>27</td>\n",
       "      <td>0</td>\n",
       "    </tr>\n",
       "    <tr>\n",
       "      <th>363</th>\n",
       "      <td>4</td>\n",
       "      <td>146</td>\n",
       "      <td>78</td>\n",
       "      <td>0</td>\n",
       "      <td>0</td>\n",
       "      <td>38.5</td>\n",
       "      <td>0.520</td>\n",
       "      <td>67</td>\n",
       "      <td>1</td>\n",
       "    </tr>\n",
       "    <tr>\n",
       "      <th>757</th>\n",
       "      <td>0</td>\n",
       "      <td>123</td>\n",
       "      <td>72</td>\n",
       "      <td>0</td>\n",
       "      <td>0</td>\n",
       "      <td>36.3</td>\n",
       "      <td>0.258</td>\n",
       "      <td>52</td>\n",
       "      <td>1</td>\n",
       "    </tr>\n",
       "  </tbody>\n",
       "</table>\n",
       "</div>"
      ],
      "text/plain": [
       "     Pregnancies  Glucose  BloodPressure  SkinThickness  Insulin   BMI  \\\n",
       "580            0      151             90             46        0  42.1   \n",
       "418            1       83             68              0        0  18.2   \n",
       "764            2      122             70             27        0  36.8   \n",
       "363            4      146             78              0        0  38.5   \n",
       "757            0      123             72              0        0  36.3   \n",
       "\n",
       "     DiabetesPedigreeFunction  Age  Outcome  \n",
       "580                     0.371   21        1  \n",
       "418                     0.624   27        0  \n",
       "764                     0.340   27        0  \n",
       "363                     0.520   67        1  \n",
       "757                     0.258   52        1  "
      ]
     },
     "execution_count": 7,
     "metadata": {},
     "output_type": "execute_result"
    }
   ],
   "source": [
    "# prepare dataset for model training\n",
    "#import sys\n",
    "#sys.path.insert(0,./training)\n",
    "\n",
    "from train import clean_data\n",
    "from sklearn.model_selection import train_test_split\n",
    "import pandas as pd\n",
    "\n",
    "# Clean dataset using the clean_data function\n",
    "x, y = clean_data(dataset)\n",
    "\n",
    "# split dataset into train and test sets\n",
    "(x_train, x_test, y_train, y_test) = train_test_split(x, y, test_size= 0.3, random_state = 0)\n",
    "label = 'Outcome'\n",
    "\n",
    "# merge the output x and y dataframes into a single table for AutoML experiment\n",
    "train_data_df = pd.concat([x_train, y_train], axis=1)\n",
    "\n",
    "train_data_df.head()"
   ]
  },
  {
   "cell_type": "code",
   "execution_count": 8,
   "metadata": {
    "gather": {
     "logged": 1609086075784
    }
   },
   "outputs": [
    {
     "name": "stdout",
     "output_type": "stream",
     "text": [
      "Uploading an estimated of 1 files\n",
      "Uploading ./data/train_data.csv\n",
      "Uploaded ./data/train_data.csv, 1 files out of an estimated total of 1\n",
      "Uploaded 1 files\n"
     ]
    }
   ],
   "source": [
    "from azureml.data.dataset_factory import TabularDatasetFactory\n",
    "# save training data in tabular format to allow for remote run\n",
    "if not os.path.isdir('data'):  # create data folder if it does not exist\n",
    "    os.mkdir('data')\n",
    "    \n",
    "if not os.path.exists('project_folder'):  # create project folder if it does not exist\n",
    "    os.makedirs('project_folder')\n",
    "\n",
    "# Save the train data to a csv file to be uploaded to the datastore\n",
    "pd.DataFrame(train_data_df).to_csv(\"data/train_data.csv\", index=False)\n",
    "\n",
    "# Upload the training data as a tabular dataset for access during training on remote compute\n",
    "# upload to data store\n",
    "ds = ws.get_default_datastore()\n",
    "ds.upload(src_dir='./data', target_path='automlclassifier', overwrite=True, show_progress=True)\n",
    "\n",
    " # access datastore during training on remote compute\n",
    "train_data = TabularDatasetFactory.from_delimited_files(path=ds.path('automlclassifier/train_data.csv'))"
   ]
  },
  {
   "cell_type": "markdown",
   "metadata": {},
   "source": [
    "## AutoML Configuration\n",
    "\n",
    "TODO: Explain why you chose the automl settings and cofiguration you used below."
   ]
  },
  {
   "cell_type": "code",
   "execution_count": null,
   "metadata": {
    "gather": {
     "logged": 1598429217746
    },
    "jupyter": {
     "outputs_hidden": false,
     "source_hidden": false
    },
    "nteract": {
     "transient": {
      "deleting": false
     }
    }
   },
   "outputs": [],
   "source": [
    "# TODO: Put your automl settings here\n",
    "automl_settings = {}\n",
    "\n",
    "# TODO: Put your automl config here\n",
    "automl_config = AutoMLConfig()"
   ]
  },
  {
   "cell_type": "code",
   "execution_count": 9,
   "metadata": {
    "gather": {
     "logged": 1609086107873
    }
   },
   "outputs": [],
   "source": [
    "project_folder = './puruautoml'\n",
    "automl_settings = {\n",
    "    \"enable_early_stopping\" : True,\n",
    "    \"iteration_timeout_minutes\": 5,\n",
    "    \"max_concurrent_iterations\": 4,\n",
    "    \"max_cores_per_iteration\": -1,    \n",
    "    \"featurization\": 'auto',\n",
    "    \"verbosity\": logging.INFO,\n",
    "}\n",
    "\n",
    "# define automl autconfig parameters\n",
    "automl_config = AutoMLConfig(\n",
    "    experiment_timeout_minutes=30,\n",
    "    task= 'classification',\n",
    "    primary_metric='accuracy',\n",
    "    enable_onnx_compatible_models=True,\n",
    "    compute_target=cpu_cluster, # included to allow for remote compute\n",
    "    training_data= train_data,\n",
    "    label_column_name= label,\n",
    "    path = project_folder,\n",
    "    n_cross_validations=3,\n",
    "    debug_log = \"automl_errors.log\",    \n",
    "    **automl_settings)"
   ]
  },
  {
   "cell_type": "code",
   "execution_count": 10,
   "metadata": {
    "gather": {
     "logged": 1609086121536
    },
    "jupyter": {
     "outputs_hidden": false,
     "source_hidden": false
    },
    "nteract": {
     "transient": {
      "deleting": false
     }
    }
   },
   "outputs": [
    {
     "name": "stdout",
     "output_type": "stream",
     "text": [
      "Running on remote.\n"
     ]
    }
   ],
   "source": [
    "# TODO: Submit your experiment\n",
    "remote_run = experiment.submit(automl_config)"
   ]
  },
  {
   "cell_type": "markdown",
   "metadata": {},
   "source": [
    "## Run Details\n",
    "\n",
    "OPTIONAL: Write about the different models trained and their performance. Why do you think some models did better than others?\n",
    "\n",
    "TODO: In the cell below, use the `RunDetails` widget to show the different experiments."
   ]
  },
  {
   "cell_type": "code",
   "execution_count": 11,
   "metadata": {
    "gather": {
     "logged": 1609087524171
    },
    "jupyter": {
     "outputs_hidden": false,
     "source_hidden": false
    },
    "nteract": {
     "transient": {
      "deleting": false
     }
    }
   },
   "outputs": [
    {
     "data": {
      "application/vnd.jupyter.widget-view+json": {
       "model_id": "1c99e970f01449d498838ae99c5855b4",
       "version_major": 2,
       "version_minor": 0
      },
      "text/plain": [
       "_AutoMLWidget(widget_settings={'childWidgetDisplay': 'popup', 'send_telemetry': False, 'log_level': 'INFO', 's…"
      ]
     },
     "metadata": {},
     "output_type": "display_data"
    },
    {
     "data": {
      "application/aml.mini.widget.v1": "{\"status\": \"Completed\", \"workbench_run_details_uri\": \"https://ml.azure.com/experiments/puru-auto-experiment/runs/AutoML_9c657d87-738e-486e-8000-132a529f9873?wsid=/subscriptions/610d6e37-4747-4a20-80eb-3aad70a55f43/resourcegroups/aml-quickstarts-132034/workspaces/quick-starts-ws-132034\", \"run_id\": \"AutoML_9c657d87-738e-486e-8000-132a529f9873\", \"run_properties\": {\"run_id\": \"AutoML_9c657d87-738e-486e-8000-132a529f9873\", \"created_utc\": \"2020-12-27T16:21:59.807742Z\", \"properties\": {\"num_iterations\": \"1000\", \"training_type\": \"TrainFull\", \"acquisition_function\": \"EI\", \"primary_metric\": \"accuracy\", \"train_split\": \"0\", \"acquisition_parameter\": \"0\", \"num_cross_validation\": \"3\", \"target\": \"puru-compute-new\", \"AMLSettingsJsonString\": \"{\\\"path\\\":null,\\\"name\\\":\\\"puru-auto-experiment\\\",\\\"subscription_id\\\":\\\"610d6e37-4747-4a20-80eb-3aad70a55f43\\\",\\\"resource_group\\\":\\\"aml-quickstarts-132034\\\",\\\"workspace_name\\\":\\\"quick-starts-ws-132034\\\",\\\"region\\\":\\\"southcentralus\\\",\\\"compute_target\\\":\\\"puru-compute-new\\\",\\\"spark_service\\\":null,\\\"azure_service\\\":\\\"remote\\\",\\\"many_models\\\":false,\\\"pipeline_fetch_max_batch_size\\\":1,\\\"iterations\\\":1000,\\\"primary_metric\\\":\\\"accuracy\\\",\\\"task_type\\\":\\\"classification\\\",\\\"data_script\\\":null,\\\"validation_size\\\":0.0,\\\"n_cross_validations\\\":3,\\\"y_min\\\":null,\\\"y_max\\\":null,\\\"num_classes\\\":null,\\\"featurization\\\":\\\"auto\\\",\\\"_ignore_package_version_incompatibilities\\\":false,\\\"is_timeseries\\\":false,\\\"max_cores_per_iteration\\\":-1,\\\"max_concurrent_iterations\\\":4,\\\"iteration_timeout_minutes\\\":5,\\\"mem_in_mb\\\":null,\\\"enforce_time_on_windows\\\":false,\\\"experiment_timeout_minutes\\\":30,\\\"experiment_exit_score\\\":null,\\\"whitelist_models\\\":null,\\\"blacklist_algos\\\":[\\\"TensorFlowLinearClassifier\\\",\\\"TensorFlowDNN\\\"],\\\"supported_models\\\":[\\\"RandomForest\\\",\\\"DecisionTree\\\",\\\"BernoulliNaiveBayes\\\",\\\"TensorFlowDNN\\\",\\\"XGBoostClassifier\\\",\\\"TensorFlowLinearClassifier\\\",\\\"GradientBoosting\\\",\\\"ExtremeRandomTrees\\\",\\\"LogisticRegression\\\",\\\"MultinomialNaiveBayes\\\",\\\"LightGBM\\\",\\\"KNN\\\",\\\"SGD\\\",\\\"AveragedPerceptronClassifier\\\",\\\"LinearSVM\\\",\\\"SVM\\\"],\\\"auto_blacklist\\\":true,\\\"blacklist_samples_reached\\\":false,\\\"exclude_nan_labels\\\":true,\\\"verbosity\\\":20,\\\"_debug_log\\\":\\\"azureml_automl.log\\\",\\\"show_warnings\\\":false,\\\"model_explainability\\\":true,\\\"service_url\\\":null,\\\"sdk_url\\\":null,\\\"sdk_packages\\\":null,\\\"enable_onnx_compatible_models\\\":true,\\\"enable_split_onnx_featurizer_estimator_models\\\":false,\\\"vm_type\\\":\\\"STANDARD_D12_V2\\\",\\\"telemetry_verbosity\\\":20,\\\"send_telemetry\\\":true,\\\"enable_dnn\\\":false,\\\"scenario\\\":\\\"SDK-1.13.0\\\",\\\"environment_label\\\":null,\\\"force_text_dnn\\\":false,\\\"enable_feature_sweeping\\\":false,\\\"enable_early_stopping\\\":true,\\\"early_stopping_n_iters\\\":10,\\\"metrics\\\":null,\\\"enable_ensembling\\\":true,\\\"enable_stack_ensembling\\\":false,\\\"ensemble_iterations\\\":15,\\\"enable_tf\\\":false,\\\"enable_subsampling\\\":null,\\\"subsample_seed\\\":null,\\\"enable_nimbusml\\\":false,\\\"enable_streaming\\\":false,\\\"force_streaming\\\":false,\\\"track_child_runs\\\":true,\\\"allowed_private_models\\\":[],\\\"label_column_name\\\":\\\"Outcome\\\",\\\"weight_column_name\\\":null,\\\"cv_split_column_names\\\":null,\\\"enable_local_managed\\\":false,\\\"_local_managed_run_id\\\":null,\\\"cost_mode\\\":1,\\\"lag_length\\\":0,\\\"metric_operation\\\":\\\"maximize\\\",\\\"preprocess\\\":true}\", \"DataPrepJsonString\": \"{\\\\\\\"training_data\\\\\\\": \\\\\\\"{\\\\\\\\\\\\\\\"blocks\\\\\\\\\\\\\\\": [{\\\\\\\\\\\\\\\"id\\\\\\\\\\\\\\\": \\\\\\\\\\\\\\\"4b249441-93de-4ee5-a03a-3a4ad617707f\\\\\\\\\\\\\\\", \\\\\\\\\\\\\\\"type\\\\\\\\\\\\\\\": \\\\\\\\\\\\\\\"Microsoft.DPrep.GetDatastoreFilesBlock\\\\\\\\\\\\\\\", \\\\\\\\\\\\\\\"arguments\\\\\\\\\\\\\\\": {\\\\\\\\\\\\\\\"datastores\\\\\\\\\\\\\\\": [{\\\\\\\\\\\\\\\"datastoreName\\\\\\\\\\\\\\\": \\\\\\\\\\\\\\\"workspaceblobstore\\\\\\\\\\\\\\\", \\\\\\\\\\\\\\\"path\\\\\\\\\\\\\\\": \\\\\\\\\\\\\\\"automlclassifier/train_data.csv\\\\\\\\\\\\\\\", \\\\\\\\\\\\\\\"resourceGroup\\\\\\\\\\\\\\\": \\\\\\\\\\\\\\\"aml-quickstarts-132034\\\\\\\\\\\\\\\", \\\\\\\\\\\\\\\"subscription\\\\\\\\\\\\\\\": \\\\\\\\\\\\\\\"610d6e37-4747-4a20-80eb-3aad70a55f43\\\\\\\\\\\\\\\", \\\\\\\\\\\\\\\"workspaceName\\\\\\\\\\\\\\\": \\\\\\\\\\\\\\\"quick-starts-ws-132034\\\\\\\\\\\\\\\"}]}, \\\\\\\\\\\\\\\"localData\\\\\\\\\\\\\\\": {}, \\\\\\\\\\\\\\\"isEnabled\\\\\\\\\\\\\\\": true, \\\\\\\\\\\\\\\"name\\\\\\\\\\\\\\\": null, \\\\\\\\\\\\\\\"annotation\\\\\\\\\\\\\\\": null}, {\\\\\\\\\\\\\\\"id\\\\\\\\\\\\\\\": \\\\\\\\\\\\\\\"35d1161f-f1c9-4181-ac46-e8ff162ab1d4\\\\\\\\\\\\\\\", \\\\\\\\\\\\\\\"type\\\\\\\\\\\\\\\": \\\\\\\\\\\\\\\"Microsoft.DPrep.ParseDelimitedBlock\\\\\\\\\\\\\\\", \\\\\\\\\\\\\\\"arguments\\\\\\\\\\\\\\\": {\\\\\\\\\\\\\\\"columnHeadersMode\\\\\\\\\\\\\\\": 3, \\\\\\\\\\\\\\\"fileEncoding\\\\\\\\\\\\\\\": 0, \\\\\\\\\\\\\\\"handleQuotedLineBreaks\\\\\\\\\\\\\\\": false, \\\\\\\\\\\\\\\"preview\\\\\\\\\\\\\\\": false, \\\\\\\\\\\\\\\"separator\\\\\\\\\\\\\\\": \\\\\\\\\\\\\\\",\\\\\\\\\\\\\\\", \\\\\\\\\\\\\\\"skipRows\\\\\\\\\\\\\\\": 0, \\\\\\\\\\\\\\\"skipRowsMode\\\\\\\\\\\\\\\": 0}, \\\\\\\\\\\\\\\"localData\\\\\\\\\\\\\\\": {}, \\\\\\\\\\\\\\\"isEnabled\\\\\\\\\\\\\\\": true, \\\\\\\\\\\\\\\"name\\\\\\\\\\\\\\\": null, \\\\\\\\\\\\\\\"annotation\\\\\\\\\\\\\\\": null}, {\\\\\\\\\\\\\\\"id\\\\\\\\\\\\\\\": \\\\\\\\\\\\\\\"55f2dae0-31e3-4398-ba97-b874aa70f7a9\\\\\\\\\\\\\\\", \\\\\\\\\\\\\\\"type\\\\\\\\\\\\\\\": \\\\\\\\\\\\\\\"Microsoft.DPrep.DropColumnsBlock\\\\\\\\\\\\\\\", \\\\\\\\\\\\\\\"arguments\\\\\\\\\\\\\\\": {\\\\\\\\\\\\\\\"columns\\\\\\\\\\\\\\\": {\\\\\\\\\\\\\\\"type\\\\\\\\\\\\\\\": 0, \\\\\\\\\\\\\\\"details\\\\\\\\\\\\\\\": {\\\\\\\\\\\\\\\"selectedColumns\\\\\\\\\\\\\\\": [\\\\\\\\\\\\\\\"Path\\\\\\\\\\\\\\\"]}}}, \\\\\\\\\\\\\\\"localData\\\\\\\\\\\\\\\": {}, \\\\\\\\\\\\\\\"isEnabled\\\\\\\\\\\\\\\": true, \\\\\\\\\\\\\\\"name\\\\\\\\\\\\\\\": null, \\\\\\\\\\\\\\\"annotation\\\\\\\\\\\\\\\": null}, {\\\\\\\\\\\\\\\"id\\\\\\\\\\\\\\\": \\\\\\\\\\\\\\\"a23f2250-04c3-4567-97e1-7f50e80285f2\\\\\\\\\\\\\\\", \\\\\\\\\\\\\\\"type\\\\\\\\\\\\\\\": \\\\\\\\\\\\\\\"Microsoft.DPrep.SetColumnTypesBlock\\\\\\\\\\\\\\\", \\\\\\\\\\\\\\\"arguments\\\\\\\\\\\\\\\": {\\\\\\\\\\\\\\\"columnConversion\\\\\\\\\\\\\\\": [{\\\\\\\\\\\\\\\"column\\\\\\\\\\\\\\\": {\\\\\\\\\\\\\\\"type\\\\\\\\\\\\\\\": 2, \\\\\\\\\\\\\\\"details\\\\\\\\\\\\\\\": {\\\\\\\\\\\\\\\"selectedColumn\\\\\\\\\\\\\\\": \\\\\\\\\\\\\\\"Pregnancies\\\\\\\\\\\\\\\"}}, \\\\\\\\\\\\\\\"typeProperty\\\\\\\\\\\\\\\": 2}, {\\\\\\\\\\\\\\\"column\\\\\\\\\\\\\\\": {\\\\\\\\\\\\\\\"type\\\\\\\\\\\\\\\": 2, \\\\\\\\\\\\\\\"details\\\\\\\\\\\\\\\": {\\\\\\\\\\\\\\\"selectedColumn\\\\\\\\\\\\\\\": \\\\\\\\\\\\\\\"Glucose\\\\\\\\\\\\\\\"}}, \\\\\\\\\\\\\\\"typeProperty\\\\\\\\\\\\\\\": 2}, {\\\\\\\\\\\\\\\"column\\\\\\\\\\\\\\\": {\\\\\\\\\\\\\\\"type\\\\\\\\\\\\\\\": 2, \\\\\\\\\\\\\\\"details\\\\\\\\\\\\\\\": {\\\\\\\\\\\\\\\"selectedColumn\\\\\\\\\\\\\\\": \\\\\\\\\\\\\\\"BloodPressure\\\\\\\\\\\\\\\"}}, \\\\\\\\\\\\\\\"typeProperty\\\\\\\\\\\\\\\": 2}, {\\\\\\\\\\\\\\\"column\\\\\\\\\\\\\\\": {\\\\\\\\\\\\\\\"type\\\\\\\\\\\\\\\": 2, \\\\\\\\\\\\\\\"details\\\\\\\\\\\\\\\": {\\\\\\\\\\\\\\\"selectedColumn\\\\\\\\\\\\\\\": \\\\\\\\\\\\\\\"SkinThickness\\\\\\\\\\\\\\\"}}, \\\\\\\\\\\\\\\"typeProperty\\\\\\\\\\\\\\\": 2}, {\\\\\\\\\\\\\\\"column\\\\\\\\\\\\\\\": {\\\\\\\\\\\\\\\"type\\\\\\\\\\\\\\\": 2, \\\\\\\\\\\\\\\"details\\\\\\\\\\\\\\\": {\\\\\\\\\\\\\\\"selectedColumn\\\\\\\\\\\\\\\": \\\\\\\\\\\\\\\"Insulin\\\\\\\\\\\\\\\"}}, \\\\\\\\\\\\\\\"typeProperty\\\\\\\\\\\\\\\": 2}, {\\\\\\\\\\\\\\\"column\\\\\\\\\\\\\\\": {\\\\\\\\\\\\\\\"type\\\\\\\\\\\\\\\": 2, \\\\\\\\\\\\\\\"details\\\\\\\\\\\\\\\": {\\\\\\\\\\\\\\\"selectedColumn\\\\\\\\\\\\\\\": \\\\\\\\\\\\\\\"BMI\\\\\\\\\\\\\\\"}}, \\\\\\\\\\\\\\\"typeProperty\\\\\\\\\\\\\\\": 3}, {\\\\\\\\\\\\\\\"column\\\\\\\\\\\\\\\": {\\\\\\\\\\\\\\\"type\\\\\\\\\\\\\\\": 2, \\\\\\\\\\\\\\\"details\\\\\\\\\\\\\\\": {\\\\\\\\\\\\\\\"selectedColumn\\\\\\\\\\\\\\\": \\\\\\\\\\\\\\\"DiabetesPedigreeFunction\\\\\\\\\\\\\\\"}}, \\\\\\\\\\\\\\\"typeProperty\\\\\\\\\\\\\\\": 3}, {\\\\\\\\\\\\\\\"column\\\\\\\\\\\\\\\": {\\\\\\\\\\\\\\\"type\\\\\\\\\\\\\\\": 2, \\\\\\\\\\\\\\\"details\\\\\\\\\\\\\\\": {\\\\\\\\\\\\\\\"selectedColumn\\\\\\\\\\\\\\\": \\\\\\\\\\\\\\\"Age\\\\\\\\\\\\\\\"}}, \\\\\\\\\\\\\\\"typeProperty\\\\\\\\\\\\\\\": 2}, {\\\\\\\\\\\\\\\"column\\\\\\\\\\\\\\\": {\\\\\\\\\\\\\\\"type\\\\\\\\\\\\\\\": 2, \\\\\\\\\\\\\\\"details\\\\\\\\\\\\\\\": {\\\\\\\\\\\\\\\"selectedColumn\\\\\\\\\\\\\\\": \\\\\\\\\\\\\\\"Outcome\\\\\\\\\\\\\\\"}}, \\\\\\\\\\\\\\\"typeProperty\\\\\\\\\\\\\\\": 2}]}, \\\\\\\\\\\\\\\"localData\\\\\\\\\\\\\\\": {}, \\\\\\\\\\\\\\\"isEnabled\\\\\\\\\\\\\\\": true, \\\\\\\\\\\\\\\"name\\\\\\\\\\\\\\\": null, \\\\\\\\\\\\\\\"annotation\\\\\\\\\\\\\\\": null}], \\\\\\\\\\\\\\\"inspectors\\\\\\\\\\\\\\\": [], \\\\\\\\\\\\\\\"meta\\\\\\\\\\\\\\\": {\\\\\\\\\\\\\\\"savedDatasetId\\\\\\\\\\\\\\\": \\\\\\\\\\\\\\\"3e511d9f-8722-46d0-8acf-5f13c7af94ef\\\\\\\\\\\\\\\", \\\\\\\\\\\\\\\"datasetType\\\\\\\\\\\\\\\": \\\\\\\\\\\\\\\"tabular\\\\\\\\\\\\\\\", \\\\\\\\\\\\\\\"subscriptionId\\\\\\\\\\\\\\\": \\\\\\\\\\\\\\\"610d6e37-4747-4a20-80eb-3aad70a55f43\\\\\\\\\\\\\\\", \\\\\\\\\\\\\\\"workspaceId\\\\\\\\\\\\\\\": \\\\\\\\\\\\\\\"46684fa8-eece-412f-97cd-fd0ffa503bce\\\\\\\\\\\\\\\", \\\\\\\\\\\\\\\"workspaceLocation\\\\\\\\\\\\\\\": \\\\\\\\\\\\\\\"southcentralus\\\\\\\\\\\\\\\"}}\\\\\\\", \\\\\\\"activities\\\\\\\": 0}\", \"EnableSubsampling\": null, \"runTemplate\": \"AutoML\", \"azureml.runsource\": \"automl\", \"display_task_type\": \"classification\", \"dependencies_versions\": \"{\\\"azureml-widgets\\\": \\\"1.19.0\\\", \\\"azureml-train\\\": \\\"1.19.0\\\", \\\"azureml-train-restclients-hyperdrive\\\": \\\"1.19.0\\\", \\\"azureml-train-core\\\": \\\"1.19.0\\\", \\\"azureml-train-automl\\\": \\\"1.19.0\\\", \\\"azureml-train-automl-runtime\\\": \\\"1.19.0\\\", \\\"azureml-train-automl-client\\\": \\\"1.19.0\\\", \\\"azureml-tensorboard\\\": \\\"1.19.0\\\", \\\"azureml-telemetry\\\": \\\"1.19.0\\\", \\\"azureml-sdk\\\": \\\"1.19.0\\\", \\\"azureml-samples\\\": \\\"0+unknown\\\", \\\"azureml-pipeline\\\": \\\"1.19.0\\\", \\\"azureml-pipeline-steps\\\": \\\"1.19.0\\\", \\\"azureml-pipeline-core\\\": \\\"1.19.0\\\", \\\"azureml-opendatasets\\\": \\\"1.19.0\\\", \\\"azureml-model-management-sdk\\\": \\\"1.0.1b6.post1\\\", \\\"azureml-mlflow\\\": \\\"1.19.0\\\", \\\"azureml-interpret\\\": \\\"1.19.0\\\", \\\"azureml-explain-model\\\": \\\"1.19.0\\\", \\\"azureml-defaults\\\": \\\"1.19.0\\\", \\\"azureml-dataset-runtime\\\": \\\"1.19.0\\\", \\\"azureml-dataprep\\\": \\\"2.6.1\\\", \\\"azureml-dataprep-rslex\\\": \\\"1.4.0\\\", \\\"azureml-dataprep-native\\\": \\\"26.0.0\\\", \\\"azureml-datadrift\\\": \\\"1.19.0\\\", \\\"azureml-core\\\": \\\"1.19.0\\\", \\\"azureml-contrib-services\\\": \\\"1.19.0\\\", \\\"azureml-contrib-server\\\": \\\"1.19.0\\\", \\\"azureml-contrib-reinforcementlearning\\\": \\\"1.19.0\\\", \\\"azureml-contrib-pipeline-steps\\\": \\\"1.19.0\\\", \\\"azureml-contrib-notebook\\\": \\\"1.19.0\\\", \\\"azureml-contrib-interpret\\\": \\\"1.19.0\\\", \\\"azureml-contrib-gbdt\\\": \\\"1.19.0\\\", \\\"azureml-contrib-fairness\\\": \\\"1.19.0\\\", \\\"azureml-contrib-dataset\\\": \\\"1.19.0\\\", \\\"azureml-cli-common\\\": \\\"1.19.0\\\", \\\"azureml-automl-runtime\\\": \\\"1.19.0\\\", \\\"azureml-automl-core\\\": \\\"1.19.0\\\", \\\"azureml-accel-models\\\": \\\"1.19.0\\\"}\", \"_aml_system_scenario_identification\": \"Remote.Parent\", \"ClientType\": \"SDK\", \"environment_cpu_name\": \"AzureML-AutoML\", \"environment_cpu_label\": \"prod\", \"environment_gpu_name\": \"AzureML-AutoML-GPU\", \"environment_gpu_label\": \"prod\", \"root_attribution\": \"automl\", \"attribution\": \"AutoML\", \"Orchestrator\": \"AutoML\", \"CancelUri\": \"https://southcentralus.experiments.azureml.net/jasmine/v1.0/subscriptions/610d6e37-4747-4a20-80eb-3aad70a55f43/resourceGroups/aml-quickstarts-132034/providers/Microsoft.MachineLearningServices/workspaces/quick-starts-ws-132034/experimentids/8204c92b-a134-44d8-a46a-6f70c77a13a6/cancel/AutoML_9c657d87-738e-486e-8000-132a529f9873\", \"ClientSdkVersion\": \"1.19.0\", \"snapshotId\": \"00000000-0000-0000-0000-000000000000\", \"SetupRunId\": \"AutoML_9c657d87-738e-486e-8000-132a529f9873_setup\", \"SetupRunContainerId\": \"dcid.AutoML_9c657d87-738e-486e-8000-132a529f9873_setup\", \"FeaturizationRunJsonPath\": \"featurizer_container.json\", \"FeaturizationRunId\": \"AutoML_9c657d87-738e-486e-8000-132a529f9873_featurize\", \"ProblemInfoJsonString\": \"{\\\"dataset_num_categorical\\\": 0, \\\"is_sparse\\\": false, \\\"subsampling\\\": false, \\\"dataset_classes\\\": 2, \\\"dataset_features\\\": 8, \\\"dataset_samples\\\": 537, \\\"single_frequency_class_detected\\\": false}\", \"ModelExplainRunId\": \"AutoML_9c657d87-738e-486e-8000-132a529f9873_ModelExplain\"}, \"tags\": {\"model_explain_run\": \"best_run\", \"_aml_system_azureml.automlComponent\": \"AutoML\", \"pipeline_id\": \"\", \"score\": \"\", \"predicted_cost\": \"\", \"fit_time\": \"\", \"training_percent\": \"\", \"iteration\": \"\", \"run_preprocessor\": \"\", \"run_algorithm\": \"\", \"dynamic_whitelisting_iterations\": \"<25>;<30>;<35>;\", \"automl_best_child_run_id\": \"AutoML_9c657d87-738e-486e-8000-132a529f9873_36\"}, \"end_time_utc\": \"2020-12-27T16:45:20.957114Z\", \"status\": \"Completed\", \"log_files\": {}, \"log_groups\": [], \"run_duration\": \"0:23:21\"}, \"child_runs\": [{\"run_id\": \"AutoML_9c657d87-738e-486e-8000-132a529f9873_0\", \"run_number\": 5, \"metric\": null, \"status\": \"Completed\", \"run_type\": \"azureml.scriptrun\", \"training_percent\": \"100\", \"start_time\": \"2020-12-27T16:32:36.736068Z\", \"end_time\": \"2020-12-27T16:33:34.960383Z\", \"created_time\": \"2020-12-27T16:29:01.175671Z\", \"created_time_dt\": \"2020-12-27T16:29:01.175671Z\", \"duration\": \"0:04:33\", \"iteration\": \"0\", \"goal\": \"accuracy_max\", \"run_name\": \"MaxAbsScaler, LightGBM\", \"run_properties\": \"copy=True\", \"primary_metric\": 0.74860335, \"best_metric\": 0.74860335}, {\"run_id\": \"AutoML_9c657d87-738e-486e-8000-132a529f9873_3\", \"run_number\": 6, \"metric\": null, \"status\": \"Completed\", \"run_type\": \"azureml.scriptrun\", \"training_percent\": \"100\", \"start_time\": \"2020-12-27T16:30:30.294757Z\", \"end_time\": \"2020-12-27T16:31:31.779424Z\", \"created_time\": \"2020-12-27T16:29:01.218862Z\", \"created_time_dt\": \"2020-12-27T16:29:01.218862Z\", \"duration\": \"0:02:30\", \"iteration\": \"3\", \"goal\": \"accuracy_max\", \"run_name\": \"MinMaxScaler, RandomForest\", \"run_properties\": \"copy=True, feature_range=(0, 1\", \"primary_metric\": 0.76722533, \"best_metric\": 0.76722533}, {\"run_id\": \"AutoML_9c657d87-738e-486e-8000-132a529f9873_2\", \"run_number\": 7, \"metric\": null, \"status\": \"Completed\", \"run_type\": \"azureml.scriptrun\", \"training_percent\": \"100\", \"start_time\": \"2020-12-27T16:29:11.852449Z\", \"end_time\": \"2020-12-27T16:30:26.942146Z\", \"created_time\": \"2020-12-27T16:29:01.287595Z\", \"created_time_dt\": \"2020-12-27T16:29:01.287595Z\", \"duration\": \"0:01:25\", \"iteration\": \"2\", \"goal\": \"accuracy_max\", \"run_name\": \"MinMaxScaler, RandomForest\", \"run_properties\": \"copy=True, feature_range=(0, 1\", \"primary_metric\": 0.75046555, \"best_metric\": 0.75232775}, {\"run_id\": \"AutoML_9c657d87-738e-486e-8000-132a529f9873_1\", \"run_number\": 8, \"metric\": null, \"status\": \"Completed\", \"run_type\": \"azureml.scriptrun\", \"training_percent\": \"100\", \"start_time\": \"2020-12-27T16:31:35.573923Z\", \"end_time\": \"2020-12-27T16:32:34.110057Z\", \"created_time\": \"2020-12-27T16:29:01.604799Z\", \"created_time_dt\": \"2020-12-27T16:29:01.604799Z\", \"duration\": \"0:03:32\", \"iteration\": \"1\", \"goal\": \"accuracy_max\", \"run_name\": \"MaxAbsScaler, XGBoostClassifier\", \"run_properties\": \"copy=True\", \"primary_metric\": 0.75232775, \"best_metric\": 0.75232775}, {\"run_id\": \"AutoML_9c657d87-738e-486e-8000-132a529f9873_4\", \"run_number\": 9, \"metric\": null, \"status\": \"Completed\", \"run_type\": \"azureml.scriptrun\", \"training_percent\": \"100\", \"start_time\": \"2020-12-27T16:33:11.713569Z\", \"end_time\": \"2020-12-27T16:35:34.021428Z\", \"created_time\": \"2020-12-27T16:30:31.582216Z\", \"created_time_dt\": \"2020-12-27T16:30:31.582216Z\", \"duration\": \"0:05:02\", \"iteration\": \"4\", \"goal\": \"accuracy_max\", \"run_name\": \"MinMaxScaler, RandomForest\", \"run_properties\": \"copy=True, feature_range=(0, 1\", \"primary_metric\": 0.77281192, \"best_metric\": 0.77281192}, {\"run_id\": \"AutoML_9c657d87-738e-486e-8000-132a529f9873_5\", \"run_number\": 10, \"metric\": null, \"status\": \"Completed\", \"run_type\": \"azureml.scriptrun\", \"training_percent\": \"100\", \"start_time\": \"2020-12-27T16:33:12.644218Z\", \"end_time\": \"2020-12-27T16:35:43.551987Z\", \"created_time\": \"2020-12-27T16:31:35.551012Z\", \"created_time_dt\": \"2020-12-27T16:31:35.551012Z\", \"duration\": \"0:04:08\", \"iteration\": \"5\", \"goal\": \"accuracy_max\", \"run_name\": \"MinMaxScaler, SVM\", \"run_properties\": \"copy=True, feature_range=(0, 1\", \"primary_metric\": 0.74115456, \"best_metric\": 0.77281192}, {\"run_id\": \"AutoML_9c657d87-738e-486e-8000-132a529f9873_6\", \"run_number\": 11, \"metric\": null, \"status\": \"Completed\", \"run_type\": \"azureml.scriptrun\", \"training_percent\": \"100\", \"start_time\": \"2020-12-27T16:33:11.958593Z\", \"end_time\": \"2020-12-27T16:35:32.144934Z\", \"created_time\": \"2020-12-27T16:32:37.998117Z\", \"created_time_dt\": \"2020-12-27T16:32:37.998117Z\", \"duration\": \"0:02:54\", \"iteration\": \"6\", \"goal\": \"accuracy_max\", \"run_name\": \"MinMaxScaler, SVM\", \"run_properties\": \"copy=True, feature_range=(0, 1\", \"primary_metric\": 0.70577281, \"best_metric\": 0.77281192}, {\"run_id\": \"AutoML_9c657d87-738e-486e-8000-132a529f9873_7\", \"run_number\": 12, \"metric\": null, \"status\": \"Completed\", \"run_type\": \"azureml.scriptrun\", \"training_percent\": \"100\", \"start_time\": \"2020-12-27T16:33:51.317892Z\", \"end_time\": \"2020-12-27T16:34:41.854447Z\", \"created_time\": \"2020-12-27T16:33:38.99837Z\", \"created_time_dt\": \"2020-12-27T16:33:38.99837Z\", \"duration\": \"0:01:02\", \"iteration\": \"7\", \"goal\": \"accuracy_max\", \"run_name\": \"MinMaxScaler, SVM\", \"run_properties\": \"copy=True, feature_range=(0, 1\", \"primary_metric\": 0.70949721, \"best_metric\": 0.77281192}, {\"run_id\": \"AutoML_9c657d87-738e-486e-8000-132a529f9873_8\", \"run_number\": 13, \"metric\": null, \"status\": \"Completed\", \"run_type\": \"azureml.scriptrun\", \"training_percent\": \"100\", \"start_time\": \"2020-12-27T16:34:56.344783Z\", \"end_time\": \"2020-12-27T16:35:55.638112Z\", \"created_time\": \"2020-12-27T16:34:45.848973Z\", \"created_time_dt\": \"2020-12-27T16:34:45.848973Z\", \"duration\": \"0:01:09\", \"iteration\": \"8\", \"goal\": \"accuracy_max\", \"run_name\": \"SparseNormalizer, XGBoostClassifier\", \"run_properties\": \"<azureml.automl.runtime.shared.model_wrappers.SparseNormalizer object at 0x7f6219ea4d68\", \"primary_metric\": 0.67783985, \"best_metric\": 0.77281192}, {\"run_id\": \"AutoML_9c657d87-738e-486e-8000-132a529f9873_9\", \"run_number\": 14, \"metric\": null, \"status\": \"Completed\", \"run_type\": \"azureml.scriptrun\", \"training_percent\": \"100\", \"start_time\": \"2020-12-27T16:35:46.673766Z\", \"end_time\": \"2020-12-27T16:36:40.068785Z\", \"created_time\": \"2020-12-27T16:35:35.554379Z\", \"created_time_dt\": \"2020-12-27T16:35:35.554379Z\", \"duration\": \"0:01:04\", \"iteration\": \"9\", \"goal\": \"accuracy_max\", \"run_name\": \"StandardScalerWrapper, LightGBM\", \"run_properties\": \"<azureml.automl.runtime.shared.model_wrappers.StandardScalerWrapper object at 0x7f008a6a1ef0\", \"primary_metric\": 0.74487896, \"best_metric\": 0.77281192}, {\"run_id\": \"AutoML_9c657d87-738e-486e-8000-132a529f9873_10\", \"run_number\": 15, \"metric\": null, \"status\": \"Completed\", \"run_type\": \"azureml.scriptrun\", \"training_percent\": \"100\", \"start_time\": \"2020-12-27T16:35:52.929185Z\", \"end_time\": \"2020-12-27T16:36:41.537599Z\", \"created_time\": \"2020-12-27T16:35:40.922042Z\", \"created_time_dt\": \"2020-12-27T16:35:40.922042Z\", \"duration\": \"0:01:00\", \"iteration\": \"10\", \"goal\": \"accuracy_max\", \"run_name\": \"MaxAbsScaler, GradientBoosting\", \"run_properties\": \"copy=True\", \"primary_metric\": 0.76908752, \"best_metric\": 0.77281192}, {\"run_id\": \"AutoML_9c657d87-738e-486e-8000-132a529f9873_11\", \"run_number\": 16, \"metric\": null, \"status\": \"Completed\", \"run_type\": \"azureml.scriptrun\", \"training_percent\": \"100\", \"start_time\": \"2020-12-27T16:35:59.867812Z\", \"end_time\": \"2020-12-27T16:36:51.510973Z\", \"created_time\": \"2020-12-27T16:35:46.906245Z\", \"created_time_dt\": \"2020-12-27T16:35:46.906245Z\", \"duration\": \"0:01:04\", \"iteration\": \"11\", \"goal\": \"accuracy_max\", \"run_name\": \"StandardScalerWrapper, LightGBM\", \"run_properties\": \"<azureml.automl.runtime.shared.model_wrappers.StandardScalerWrapper object at 0x7fd5ac325898\", \"primary_metric\": 0.75977654, \"best_metric\": 0.77281192}, {\"run_id\": \"AutoML_9c657d87-738e-486e-8000-132a529f9873_12\", \"run_number\": 17, \"metric\": null, \"status\": \"Completed\", \"run_type\": \"azureml.scriptrun\", \"training_percent\": \"100\", \"start_time\": \"2020-12-27T16:36:08.567382Z\", \"end_time\": \"2020-12-27T16:36:59.060349Z\", \"created_time\": \"2020-12-27T16:35:58.575765Z\", \"created_time_dt\": \"2020-12-27T16:35:58.575765Z\", \"duration\": \"0:01:00\", \"iteration\": \"12\", \"goal\": \"accuracy_max\", \"run_name\": \"StandardScalerWrapper, RandomForest\", \"run_properties\": \"<azureml.automl.runtime.shared.model_wrappers.StandardScalerWrapper object at 0x7f7c9a15e7f0\", \"primary_metric\": 0.74301676, \"best_metric\": 0.77281192}, {\"run_id\": \"AutoML_9c657d87-738e-486e-8000-132a529f9873_13\", \"run_number\": 18, \"metric\": null, \"status\": \"Completed\", \"run_type\": \"azureml.scriptrun\", \"training_percent\": \"100\", \"start_time\": \"2020-12-27T16:36:54.835009Z\", \"end_time\": \"2020-12-27T16:37:53.468012Z\", \"created_time\": \"2020-12-27T16:36:43.19226Z\", \"created_time_dt\": \"2020-12-27T16:36:43.19226Z\", \"duration\": \"0:01:10\", \"iteration\": \"13\", \"goal\": \"accuracy_max\", \"run_name\": \"RobustScaler, ExtremeRandomTrees\", \"run_properties\": \"copy=True, quantile_range=[25, 75], with_centering=True,\\n             with_scaling=False\", \"primary_metric\": 0.75232775, \"best_metric\": 0.77281192}, {\"run_id\": \"AutoML_9c657d87-738e-486e-8000-132a529f9873_14\", \"run_number\": 19, \"metric\": null, \"status\": \"Completed\", \"run_type\": \"azureml.scriptrun\", \"training_percent\": \"100\", \"start_time\": \"2020-12-27T16:37:00.993406Z\", \"end_time\": \"2020-12-27T16:37:59.329665Z\", \"created_time\": \"2020-12-27T16:36:48.391951Z\", \"created_time_dt\": \"2020-12-27T16:36:48.391951Z\", \"duration\": \"0:01:10\", \"iteration\": \"14\", \"goal\": \"accuracy_max\", \"run_name\": \"StandardScalerWrapper, LightGBM\", \"run_properties\": \"<azureml.automl.runtime.shared.model_wrappers.StandardScalerWrapper object at 0x7f11aa4b7c50\", \"primary_metric\": 0.75418994, \"best_metric\": 0.77281192}, {\"run_id\": \"AutoML_9c657d87-738e-486e-8000-132a529f9873_15\", \"run_number\": 20, \"metric\": null, \"status\": \"Completed\", \"run_type\": \"azureml.scriptrun\", \"training_percent\": \"100\", \"start_time\": \"2020-12-27T16:37:05.493Z\", \"end_time\": \"2020-12-27T16:37:54.27482Z\", \"created_time\": \"2020-12-27T16:36:53.292479Z\", \"created_time_dt\": \"2020-12-27T16:36:53.292479Z\", \"duration\": \"0:01:00\", \"iteration\": \"15\", \"goal\": \"accuracy_max\", \"run_name\": \"StandardScalerWrapper, GradientBoosting\", \"run_properties\": \"<azureml.automl.runtime.shared.model_wrappers.StandardScalerWrapper object at 0x7f9e2f0ddb70\", \"primary_metric\": 0.76722533, \"best_metric\": 0.77281192}, {\"run_id\": \"AutoML_9c657d87-738e-486e-8000-132a529f9873_16\", \"run_number\": 21, \"metric\": null, \"status\": \"Completed\", \"run_type\": \"azureml.scriptrun\", \"training_percent\": \"100\", \"start_time\": \"2020-12-27T16:37:10.766312Z\", \"end_time\": \"2020-12-27T16:38:13.251492Z\", \"created_time\": \"2020-12-27T16:37:00.771144Z\", \"created_time_dt\": \"2020-12-27T16:37:00.771144Z\", \"duration\": \"0:01:12\", \"iteration\": \"16\", \"goal\": \"accuracy_max\", \"run_name\": \"MaxAbsScaler, LightGBM\", \"run_properties\": \"copy=True\", \"primary_metric\": 0.75791434, \"best_metric\": 0.77281192}, {\"run_id\": \"AutoML_9c657d87-738e-486e-8000-132a529f9873_17\", \"run_number\": 22, \"metric\": null, \"status\": \"Completed\", \"run_type\": \"azureml.scriptrun\", \"training_percent\": \"100\", \"start_time\": \"2020-12-27T16:38:05.124358Z\", \"end_time\": \"2020-12-27T16:38:58.550323Z\", \"created_time\": \"2020-12-27T16:37:55.522733Z\", \"created_time_dt\": \"2020-12-27T16:37:55.522733Z\", \"duration\": \"0:01:03\", \"iteration\": \"17\", \"goal\": \"accuracy_max\", \"run_name\": \"SparseNormalizer, XGBoostClassifier\", \"run_properties\": \"<azureml.automl.runtime.shared.model_wrappers.SparseNormalizer object at 0x7f51d9439208\", \"primary_metric\": 0.66294227, \"best_metric\": 0.77281192}, {\"run_id\": \"AutoML_9c657d87-738e-486e-8000-132a529f9873_18\", \"run_number\": 23, \"metric\": null, \"status\": \"Completed\", \"run_type\": \"azureml.scriptrun\", \"training_percent\": \"100\", \"start_time\": \"2020-12-27T16:38:09.015501Z\", \"end_time\": \"2020-12-27T16:38:59.398564Z\", \"created_time\": \"2020-12-27T16:37:58.468285Z\", \"created_time_dt\": \"2020-12-27T16:37:58.468285Z\", \"duration\": \"0:01:00\", \"iteration\": \"18\", \"goal\": \"accuracy_max\", \"run_name\": \"MinMaxScaler, LightGBM\", \"run_properties\": \"copy=True, feature_range=(0, 1\", \"primary_metric\": 0.75605214, \"best_metric\": 0.77281192}, {\"run_id\": \"AutoML_9c657d87-738e-486e-8000-132a529f9873_19\", \"run_number\": 24, \"metric\": null, \"status\": \"Completed\", \"run_type\": \"azureml.scriptrun\", \"training_percent\": \"100\", \"start_time\": \"2020-12-27T16:38:11.728248Z\", \"end_time\": \"2020-12-27T16:39:02.113725Z\", \"created_time\": \"2020-12-27T16:38:01.540334Z\", \"created_time_dt\": \"2020-12-27T16:38:01.540334Z\", \"duration\": \"0:01:00\", \"iteration\": \"19\", \"goal\": \"accuracy_max\", \"run_name\": \"StandardScalerWrapper, LightGBM\", \"run_properties\": \"<azureml.automl.runtime.shared.model_wrappers.StandardScalerWrapper object at 0x7fd20dc83e10\", \"primary_metric\": 0.74674115, \"best_metric\": 0.77281192}, {\"run_id\": \"AutoML_9c657d87-738e-486e-8000-132a529f9873_20\", \"run_number\": 25, \"metric\": null, \"status\": \"Completed\", \"run_type\": \"azureml.scriptrun\", \"training_percent\": \"100\", \"start_time\": \"2020-12-27T16:38:25.484184Z\", \"end_time\": \"2020-12-27T16:39:18.820365Z\", \"created_time\": \"2020-12-27T16:38:15.003035Z\", \"created_time_dt\": \"2020-12-27T16:38:15.003035Z\", \"duration\": \"0:01:03\", \"iteration\": \"20\", \"goal\": \"accuracy_max\", \"run_name\": \"StandardScalerWrapper, LightGBM\", \"run_properties\": \"<azureml.automl.runtime.shared.model_wrappers.StandardScalerWrapper object at 0x7f9d400a4ef0\", \"primary_metric\": 0.74674115, \"best_metric\": 0.77281192}, {\"run_id\": \"AutoML_9c657d87-738e-486e-8000-132a529f9873_21\", \"run_number\": 26, \"metric\": null, \"status\": \"Completed\", \"run_type\": \"azureml.scriptrun\", \"training_percent\": \"100\", \"start_time\": \"2020-12-27T16:39:12.758204Z\", \"end_time\": \"2020-12-27T16:40:04.369199Z\", \"created_time\": \"2020-12-27T16:39:00.400563Z\", \"created_time_dt\": \"2020-12-27T16:39:00.400563Z\", \"duration\": \"0:01:03\", \"iteration\": \"21\", \"goal\": \"accuracy_max\", \"run_name\": \"TruncatedSVDWrapper, XGBoostClassifier\", \"run_properties\": \"n_components=0.6036842105263158, random_state=None\", \"primary_metric\": 0.70763501, \"best_metric\": 0.77281192}, {\"run_id\": \"AutoML_9c657d87-738e-486e-8000-132a529f9873_22\", \"run_number\": 27, \"metric\": null, \"status\": \"Completed\", \"run_type\": \"azureml.scriptrun\", \"training_percent\": \"100\", \"start_time\": \"2020-12-27T16:39:14.182929Z\", \"end_time\": \"2020-12-27T16:40:13.496111Z\", \"created_time\": \"2020-12-27T16:39:04.209873Z\", \"created_time_dt\": \"2020-12-27T16:39:04.209873Z\", \"duration\": \"0:01:09\", \"iteration\": \"22\", \"goal\": \"accuracy_max\", \"run_name\": \"RobustScaler, KNN\", \"run_properties\": \"copy=True, quantile_range=[25, 75], with_centering=True,\\n             with_scaling=False\", \"primary_metric\": 0.74487896, \"best_metric\": 0.77281192}, {\"run_id\": \"AutoML_9c657d87-738e-486e-8000-132a529f9873_23\", \"run_number\": 28, \"metric\": null, \"status\": \"Completed\", \"run_type\": \"azureml.scriptrun\", \"training_percent\": \"100\", \"start_time\": \"2020-12-27T16:39:16.352586Z\", \"end_time\": \"2020-12-27T16:40:02.791477Z\", \"created_time\": \"2020-12-27T16:39:04.230863Z\", \"created_time_dt\": \"2020-12-27T16:39:04.230863Z\", \"duration\": \"0:00:58\", \"iteration\": \"23\", \"goal\": \"accuracy_max\", \"run_name\": \"MinMaxScaler, LogisticRegression\", \"run_properties\": \"copy=True, feature_range=(0, 1\", \"primary_metric\": 0.75605214, \"best_metric\": 0.77281192}, {\"run_id\": \"AutoML_9c657d87-738e-486e-8000-132a529f9873_24\", \"run_number\": 29, \"metric\": null, \"status\": \"Completed\", \"run_type\": \"azureml.scriptrun\", \"training_percent\": \"100\", \"start_time\": \"2020-12-27T16:39:30.875151Z\", \"end_time\": \"2020-12-27T16:40:27.187958Z\", \"created_time\": \"2020-12-27T16:39:20.514954Z\", \"created_time_dt\": \"2020-12-27T16:39:20.514954Z\", \"duration\": \"0:01:06\", \"iteration\": \"24\", \"goal\": \"accuracy_max\", \"run_name\": \"StandardScalerWrapper, LightGBM\", \"run_properties\": \"<azureml.automl.runtime.shared.model_wrappers.StandardScalerWrapper object at 0x7f3fa87255f8\", \"primary_metric\": 0.73556797, \"best_metric\": 0.77281192}, {\"run_id\": \"AutoML_9c657d87-738e-486e-8000-132a529f9873_25\", \"run_number\": 30, \"metric\": null, \"status\": \"Completed\", \"run_type\": \"azureml.scriptrun\", \"training_percent\": \"100\", \"start_time\": \"2020-12-27T16:40:16.90835Z\", \"end_time\": \"2020-12-27T16:41:13.358114Z\", \"created_time\": \"2020-12-27T16:40:05.371684Z\", \"created_time_dt\": \"2020-12-27T16:40:05.371684Z\", \"duration\": \"0:01:07\", \"iteration\": \"25\", \"goal\": \"accuracy_max\", \"run_name\": \"StandardScalerWrapper, RandomForest\", \"run_properties\": \"<azureml.automl.runtime.shared.model_wrappers.StandardScalerWrapper object at 0x7f854fb658d0\", \"primary_metric\": 0.63873371, \"best_metric\": 0.77281192}, {\"run_id\": \"AutoML_9c657d87-738e-486e-8000-132a529f9873_26\", \"run_number\": 31, \"metric\": null, \"status\": \"Completed\", \"run_type\": \"azureml.scriptrun\", \"training_percent\": \"100\", \"start_time\": \"2020-12-27T16:40:21.124879Z\", \"end_time\": \"2020-12-27T16:41:17.803655Z\", \"created_time\": \"2020-12-27T16:40:08.687556Z\", \"created_time_dt\": \"2020-12-27T16:40:08.687556Z\", \"duration\": \"0:01:09\", \"iteration\": \"26\", \"goal\": \"accuracy_max\", \"run_name\": \"StandardScalerWrapper, RandomForest\", \"run_properties\": \"<azureml.automl.runtime.shared.model_wrappers.StandardScalerWrapper object at 0x7f64012c1278\", \"primary_metric\": 0.74487896, \"best_metric\": 0.77281192}, {\"run_id\": \"AutoML_9c657d87-738e-486e-8000-132a529f9873_27\", \"run_number\": 32, \"metric\": null, \"status\": \"Completed\", \"run_type\": \"azureml.scriptrun\", \"training_percent\": \"100\", \"start_time\": \"2020-12-27T16:40:28.051932Z\", \"end_time\": \"2020-12-27T16:41:48.943855Z\", \"created_time\": \"2020-12-27T16:40:15.153547Z\", \"created_time_dt\": \"2020-12-27T16:40:15.153547Z\", \"duration\": \"0:01:33\", \"iteration\": \"27\", \"goal\": \"accuracy_max\", \"run_name\": \"StandardScalerWrapper, ExtremeRandomTrees\", \"run_properties\": \"<azureml.automl.runtime.shared.model_wrappers.StandardScalerWrapper object at 0x7fd1646b79e8\", \"primary_metric\": 0.75977654, \"best_metric\": 0.77281192}, {\"run_id\": \"AutoML_9c657d87-738e-486e-8000-132a529f9873_28\", \"run_number\": 33, \"metric\": null, \"status\": \"Completed\", \"run_type\": \"azureml.scriptrun\", \"training_percent\": \"100\", \"start_time\": \"2020-12-27T16:40:40.691408Z\", \"end_time\": \"2020-12-27T16:41:46.929397Z\", \"created_time\": \"2020-12-27T16:40:28.913144Z\", \"created_time_dt\": \"2020-12-27T16:40:28.913144Z\", \"duration\": \"0:01:18\", \"iteration\": \"28\", \"goal\": \"accuracy_max\", \"run_name\": \"SparseNormalizer, ExtremeRandomTrees\", \"run_properties\": \"<azureml.automl.runtime.shared.model_wrappers.SparseNormalizer object at 0x7f0137ebee80\", \"primary_metric\": 0.65549348, \"best_metric\": 0.77281192}, {\"run_id\": \"AutoML_9c657d87-738e-486e-8000-132a529f9873_29\", \"run_number\": 34, \"metric\": null, \"status\": \"Completed\", \"run_type\": \"azureml.scriptrun\", \"training_percent\": \"100\", \"start_time\": \"2020-12-27T16:41:26.798659Z\", \"end_time\": \"2020-12-27T16:42:15.331389Z\", \"created_time\": \"2020-12-27T16:41:15.089071Z\", \"created_time_dt\": \"2020-12-27T16:41:15.089071Z\", \"duration\": \"0:01:00\", \"iteration\": \"29\", \"goal\": \"accuracy_max\", \"run_name\": \"StandardScalerWrapper, LightGBM\", \"run_properties\": \"<azureml.automl.runtime.shared.model_wrappers.StandardScalerWrapper object at 0x7f06e5544e48\", \"primary_metric\": 0.77094972, \"best_metric\": 0.77281192}, {\"run_id\": \"AutoML_9c657d87-738e-486e-8000-132a529f9873_30\", \"run_number\": 35, \"metric\": null, \"status\": \"Completed\", \"run_type\": \"azureml.scriptrun\", \"training_percent\": \"100\", \"start_time\": \"2020-12-27T16:41:33.308032Z\", \"end_time\": \"2020-12-27T16:42:28.028103Z\", \"created_time\": \"2020-12-27T16:41:20.485775Z\", \"created_time_dt\": \"2020-12-27T16:41:20.485775Z\", \"duration\": \"0:01:07\", \"iteration\": \"30\", \"goal\": \"accuracy_max\", \"run_name\": \"MaxAbsScaler, RandomForest\", \"run_properties\": \"copy=True\", \"primary_metric\": 0.65735568, \"best_metric\": 0.77281192}, {\"run_id\": \"AutoML_9c657d87-738e-486e-8000-132a529f9873_31\", \"run_number\": 36, \"metric\": null, \"status\": \"Canceled\", \"run_type\": \"azureml.scriptrun\", \"training_percent\": \"100\", \"start_time\": \"2020-12-27T16:42:14.212921Z\", \"end_time\": \"2020-12-27T16:43:32.851083Z\", \"created_time\": \"2020-12-27T16:41:48.913973Z\", \"created_time_dt\": \"2020-12-27T16:41:48.913973Z\", \"duration\": \"0:01:43\", \"iteration\": \"31\", \"goal\": \"accuracy_max\", \"run_name\": \"StandardScalerWrapper, XGBoostClassifier\", \"run_properties\": \"<azureml.automl.runtime.shared.model_wrappers.StandardScalerWrapper object at 0x7fa8b6776668\", \"primary_metric\": 0.75605214, \"best_metric\": 0.77281192}, {\"run_id\": \"AutoML_9c657d87-738e-486e-8000-132a529f9873_32\", \"run_number\": 37, \"metric\": null, \"status\": \"Completed\", \"run_type\": \"azureml.scriptrun\", \"training_percent\": \"100\", \"start_time\": \"2020-12-27T16:42:03.589263Z\", \"end_time\": \"2020-12-27T16:43:01.296105Z\", \"created_time\": \"2020-12-27T16:41:51.84857Z\", \"created_time_dt\": \"2020-12-27T16:41:51.84857Z\", \"duration\": \"0:01:09\", \"iteration\": \"32\", \"goal\": \"accuracy_max\", \"run_name\": \"MinMaxScaler, RandomForest\", \"run_properties\": \"copy=True, feature_range=(0, 1\", \"primary_metric\": 0.76722533, \"best_metric\": 0.77281192}, {\"run_id\": \"AutoML_9c657d87-738e-486e-8000-132a529f9873_33\", \"run_number\": 38, \"metric\": null, \"status\": \"Completed\", \"run_type\": \"azureml.scriptrun\", \"training_percent\": \"100\", \"start_time\": \"2020-12-27T16:42:27.447159Z\", \"end_time\": \"2020-12-27T16:43:23.814111Z\", \"created_time\": \"2020-12-27T16:42:17.211863Z\", \"created_time_dt\": \"2020-12-27T16:42:17.211863Z\", \"duration\": \"0:01:06\", \"iteration\": \"33\", \"goal\": \"accuracy_max\", \"run_name\": \"MinMaxScaler, ExtremeRandomTrees\", \"run_properties\": \"copy=True, feature_range=(0, 1\", \"primary_metric\": 0.76722533, \"best_metric\": 0.77281192}, {\"run_id\": \"AutoML_9c657d87-738e-486e-8000-132a529f9873_34\", \"run_number\": 39, \"metric\": null, \"status\": \"Canceled\", \"run_type\": \"azureml.scriptrun\", \"training_percent\": \"100\", \"start_time\": \"2020-12-27T16:42:42.162297Z\", \"end_time\": \"2020-12-27T16:43:32.665191Z\", \"created_time\": \"2020-12-27T16:42:29.89735Z\", \"created_time_dt\": \"2020-12-27T16:42:29.89735Z\", \"duration\": \"0:01:02\", \"iteration\": \"34\", \"goal\": \"accuracy_max\", \"run_name\": \"StandardScalerWrapper, XGBoostClassifier\", \"run_properties\": \"<azureml.automl.runtime.shared.model_wrappers.StandardScalerWrapper object at 0x7f12f7c51320\", \"primary_metric\": 0.76536313, \"best_metric\": 0.77281192}, {\"run_id\": \"AutoML_9c657d87-738e-486e-8000-132a529f9873_35\", \"run_number\": 40, \"metric\": null, \"status\": \"Canceled\", \"run_type\": \"azureml.scriptrun\", \"training_percent\": \"100\", \"start_time\": \"2020-12-27T16:43:14.924895Z\", \"end_time\": \"2020-12-27T16:43:31.715315Z\", \"created_time\": \"2020-12-27T16:43:04.160257Z\", \"created_time_dt\": \"2020-12-27T16:43:04.160257Z\", \"duration\": \"0:00:27\", \"iteration\": \"35\", \"goal\": null, \"run_name\": \"Canceled\", \"run_properties\": null}, {\"run_id\": \"AutoML_9c657d87-738e-486e-8000-132a529f9873_36\", \"run_number\": 41, \"metric\": null, \"status\": \"Completed\", \"run_type\": \"azureml.scriptrun\", \"training_percent\": \"100\", \"start_time\": \"2020-12-27T16:43:46.495563Z\", \"end_time\": \"2020-12-27T16:45:08.863544Z\", \"created_time\": \"2020-12-27T16:43:33.857911Z\", \"created_time_dt\": \"2020-12-27T16:43:33.857911Z\", \"duration\": \"0:01:35\", \"iteration\": \"36\", \"goal\": \"accuracy_max\", \"run_name\": \"VotingEnsemble\", \"run_properties\": \"classification_labels=None,\\n                              estimators=[('4',\\n                                           Pipeline(memory=None,\\n                                                    steps=[('minmaxscaler',\\n                                                            MinMaxScaler(copy=True,\\n                                                                         feature_range=(0,\\n                                                                                        1\", \"primary_metric\": 0.78212291, \"best_metric\": 0.78212291}], \"children_metrics\": {\"categories\": [0], \"series\": {\"f1_score_macro\": [{\"categories\": [\"0\", \"1\", \"2\", \"3\", \"4\", \"5\", \"6\", \"7\", \"8\", \"9\", \"10\", \"11\", \"12\", \"13\", \"14\", \"15\", \"16\", \"17\", \"18\", \"19\", \"20\", \"21\", \"22\", \"23\", \"24\", \"25\", \"26\", \"27\", \"28\", \"29\", \"30\", \"31\", \"32\", \"33\", \"34\", \"36\"], \"mode\": \"markers\", \"name\": \"f1_score_macro\", \"stepped\": false, \"type\": \"scatter\", \"data\": [0.7254593420594242, 0.726490883446656, 0.7203532801357918, 0.7406992114610264, 0.7551066103473314, 0.6897076440909439, 0.6134588003830886, 0.6250013733191662, 0.6389830503885459, 0.7171775300870799, 0.7388332177425444, 0.7286001053099932, 0.7047811471422971, 0.7066686544131571, 0.6806232909887614, 0.7360994833486938, 0.7205609626061024, 0.6153446246093678, 0.7161463427731665, 0.7104693182941068, 0.7102004122674321, 0.6734180954817927, 0.7083243325139712, 0.7209142707152191, 0.7026946906811505, 0.6314801081020393, 0.7381496257850438, 0.7500827131429318, 0.6509183631325732, 0.7358850192676991, 0.4542632673819214, 0.722584567152022, 0.7344202875865813, 0.7279989558705834, 0.7355198630873083, 0.7548791302819593]}, {\"categories\": [\"0\", \"1\", \"2\", \"3\", \"4\", \"5\", \"6\", \"7\", \"8\", \"9\", \"10\", \"11\", \"12\", \"13\", \"14\", \"15\", \"16\", \"17\", \"18\", \"19\", \"20\", \"21\", \"22\", \"23\", \"24\", \"25\", \"26\", \"27\", \"28\", \"29\", \"30\", \"31\", \"32\", \"33\", \"34\", \"36\"], \"mode\": \"lines\", \"name\": \"f1_score_macro_max\", \"stepped\": true, \"type\": \"scatter\", \"data\": [0.7254593420594242, 0.726490883446656, 0.726490883446656, 0.7406992114610264, 0.7551066103473314, 0.7551066103473314, 0.7551066103473314, 0.7551066103473314, 0.7551066103473314, 0.7551066103473314, 0.7551066103473314, 0.7551066103473314, 0.7551066103473314, 0.7551066103473314, 0.7551066103473314, 0.7551066103473314, 0.7551066103473314, 0.7551066103473314, 0.7551066103473314, 0.7551066103473314, 0.7551066103473314, 0.7551066103473314, 0.7551066103473314, 0.7551066103473314, 0.7551066103473314, 0.7551066103473314, 0.7551066103473314, 0.7551066103473314, 0.7551066103473314, 0.7551066103473314, 0.7551066103473314, 0.7551066103473314, 0.7551066103473314, 0.7551066103473314, 0.7551066103473314, 0.7551066103473314]}], \"precision_score_weighted\": [{\"categories\": [\"0\", \"1\", \"2\", \"3\", \"4\", \"5\", \"6\", \"7\", \"8\", \"9\", \"10\", \"11\", \"12\", \"13\", \"14\", \"15\", \"16\", \"17\", \"18\", \"19\", \"20\", \"21\", \"22\", \"23\", \"24\", \"25\", \"26\", \"27\", \"28\", \"29\", \"30\", \"31\", \"32\", \"33\", \"34\", \"36\"], \"mode\": \"markers\", \"name\": \"precision_score_weighted\", \"stepped\": false, \"type\": \"scatter\", \"data\": [0.7478814077570247, 0.750678171671661, 0.7502591042677421, 0.7645938096441295, 0.7756803463595071, 0.7414043687982539, 0.7163015101702097, 0.71173003927, 0.6724191349102099, 0.7420571448757851, 0.7668042028801206, 0.7563068304711343, 0.7407552253617452, 0.7514419065985232, 0.7846292751912367, 0.7651043138697444, 0.755168653370787, 0.6546228131007855, 0.7558333641580016, 0.7442998048037497, 0.7426962991520414, 0.7061456462522487, 0.741573365112263, 0.7546790184772224, 0.7302307139628749, 0.6807878885096633, 0.7761627625873934, 0.7787631321458433, 0.7055361874883096, 0.7706864761691478, 0.6064911491384866, 0.752230149884476, 0.7653944938829502, 0.7669485077149734, 0.7626316387760744, 0.7816021326958054]}, {\"categories\": [\"0\", \"1\", \"2\", \"3\", \"4\", \"5\", \"6\", \"7\", \"8\", \"9\", \"10\", \"11\", \"12\", \"13\", \"14\", \"15\", \"16\", \"17\", \"18\", \"19\", \"20\", \"21\", \"22\", \"23\", \"24\", \"25\", \"26\", \"27\", \"28\", \"29\", \"30\", \"31\", \"32\", \"33\", \"34\", \"36\"], \"mode\": \"lines\", \"name\": \"precision_score_weighted_max\", \"stepped\": true, \"type\": \"scatter\", \"data\": [0.7478814077570247, 0.750678171671661, 0.750678171671661, 0.7645938096441295, 0.7756803463595071, 0.7756803463595071, 0.7756803463595071, 0.7756803463595071, 0.7756803463595071, 0.7756803463595071, 0.7756803463595071, 0.7756803463595071, 0.7756803463595071, 0.7756803463595071, 0.7846292751912367, 0.7846292751912367, 0.7846292751912367, 0.7846292751912367, 0.7846292751912367, 0.7846292751912367, 0.7846292751912367, 0.7846292751912367, 0.7846292751912367, 0.7846292751912367, 0.7846292751912367, 0.7846292751912367, 0.7846292751912367, 0.7846292751912367, 0.7846292751912367, 0.7846292751912367, 0.7846292751912367, 0.7846292751912367, 0.7846292751912367, 0.7846292751912367, 0.7846292751912367, 0.7846292751912367]}], \"recall_score_micro\": [{\"categories\": [\"0\", \"1\", \"2\", \"3\", \"4\", \"5\", \"6\", \"7\", \"8\", \"9\", \"10\", \"11\", \"12\", \"13\", \"14\", \"15\", \"16\", \"17\", \"18\", \"19\", \"20\", \"21\", \"22\", \"23\", \"24\", \"25\", \"26\", \"27\", \"28\", \"29\", \"30\", \"31\", \"32\", \"33\", \"34\", \"36\"], \"mode\": \"markers\", \"name\": \"recall_score_micro\", \"stepped\": false, \"type\": \"scatter\", \"data\": [0.7486033519553073, 0.7523277467411545, 0.750465549348231, 0.7672253258845437, 0.7728119180633147, 0.7411545623836125, 0.7057728119180634, 0.7094972067039106, 0.6778398510242085, 0.7448789571694601, 0.7690875232774674, 0.7597765363128491, 0.7430167597765363, 0.7523277467411544, 0.7541899441340782, 0.7672253258845437, 0.7579143389199255, 0.6629422718808193, 0.7560521415270017, 0.7467411545623835, 0.7467411545623835, 0.707635009310987, 0.74487895716946, 0.7560521415270017, 0.7355679702048418, 0.638733705772812, 0.74487895716946, 0.7597765363128491, 0.6554934823091246, 0.7709497206703911, 0.6573556797020484, 0.7560521415270017, 0.7672253258845437, 0.7672253258845437, 0.7653631284916201, 0.7821229050279329]}, {\"categories\": [\"0\", \"1\", \"2\", \"3\", \"4\", \"5\", \"6\", \"7\", \"8\", \"9\", \"10\", \"11\", \"12\", \"13\", \"14\", \"15\", \"16\", \"17\", \"18\", \"19\", \"20\", \"21\", \"22\", \"23\", \"24\", \"25\", \"26\", \"27\", \"28\", \"29\", \"30\", \"31\", \"32\", \"33\", \"34\", \"36\"], \"mode\": \"lines\", \"name\": \"recall_score_micro_max\", \"stepped\": true, \"type\": \"scatter\", \"data\": [0.7486033519553073, 0.7523277467411545, 0.7523277467411545, 0.7672253258845437, 0.7728119180633147, 0.7728119180633147, 0.7728119180633147, 0.7728119180633147, 0.7728119180633147, 0.7728119180633147, 0.7728119180633147, 0.7728119180633147, 0.7728119180633147, 0.7728119180633147, 0.7728119180633147, 0.7728119180633147, 0.7728119180633147, 0.7728119180633147, 0.7728119180633147, 0.7728119180633147, 0.7728119180633147, 0.7728119180633147, 0.7728119180633147, 0.7728119180633147, 0.7728119180633147, 0.7728119180633147, 0.7728119180633147, 0.7728119180633147, 0.7728119180633147, 0.7728119180633147, 0.7728119180633147, 0.7728119180633147, 0.7728119180633147, 0.7728119180633147, 0.7728119180633147, 0.7821229050279329]}], \"weighted_accuracy\": [{\"categories\": [\"0\", \"1\", \"2\", \"3\", \"4\", \"5\", \"6\", \"7\", \"8\", \"9\", \"10\", \"11\", \"12\", \"13\", \"14\", \"15\", \"16\", \"17\", \"18\", \"19\", \"20\", \"21\", \"22\", \"23\", \"24\", \"25\", \"26\", \"27\", \"28\", \"29\", \"30\", \"31\", \"32\", \"33\", \"34\", \"36\"], \"mode\": \"markers\", \"name\": \"weighted_accuracy\", \"stepped\": false, \"type\": \"scatter\", \"data\": [0.7698479164447316, 0.7777459753369683, 0.7815974583337799, 0.7944886285750804, 0.7863074952279195, 0.7926784270837605, 0.7801427924506901, 0.7803733393485134, 0.7135774981306847, 0.7720591449347974, 0.8018083244439191, 0.7927811853654075, 0.7814894255878341, 0.8001693762935296, 0.8229060080061531, 0.8008301359658864, 0.7979765482355575, 0.7053172104038957, 0.7987206584577264, 0.784630566481491, 0.7848924835478321, 0.7398316505348719, 0.7807660562386939, 0.7930126300151112, 0.7678507664400208, 0.6274861797559077, 0.7329397430409078, 0.7561894985705014, 0.6366677708468479, 0.8095638817370382, 0.7663727009229923, 0.7910981396165627, 0.8027386579999677, 0.810252606426388, 0.797333172947977, 0.8122974948367427]}, {\"categories\": [\"0\", \"1\", \"2\", \"3\", \"4\", \"5\", \"6\", \"7\", \"8\", \"9\", \"10\", \"11\", \"12\", \"13\", \"14\", \"15\", \"16\", \"17\", \"18\", \"19\", \"20\", \"21\", \"22\", \"23\", \"24\", \"25\", \"26\", \"27\", \"28\", \"29\", \"30\", \"31\", \"32\", \"33\", \"34\", \"36\"], \"mode\": \"lines\", \"name\": \"weighted_accuracy_max\", \"stepped\": true, \"type\": \"scatter\", \"data\": [0.7698479164447316, 0.7777459753369683, 0.7815974583337799, 0.7944886285750804, 0.7944886285750804, 0.7944886285750804, 0.7944886285750804, 0.7944886285750804, 0.7944886285750804, 0.7944886285750804, 0.8018083244439191, 0.8018083244439191, 0.8018083244439191, 0.8018083244439191, 0.8229060080061531, 0.8229060080061531, 0.8229060080061531, 0.8229060080061531, 0.8229060080061531, 0.8229060080061531, 0.8229060080061531, 0.8229060080061531, 0.8229060080061531, 0.8229060080061531, 0.8229060080061531, 0.8229060080061531, 0.8229060080061531, 0.8229060080061531, 0.8229060080061531, 0.8229060080061531, 0.8229060080061531, 0.8229060080061531, 0.8229060080061531, 0.8229060080061531, 0.8229060080061531, 0.8229060080061531]}], \"AUC_micro\": [{\"categories\": [\"0\", \"1\", \"2\", \"3\", \"4\", \"5\", \"6\", \"7\", \"8\", \"9\", \"10\", \"11\", \"12\", \"13\", \"14\", \"15\", \"16\", \"17\", \"18\", \"19\", \"20\", \"21\", \"22\", \"23\", \"24\", \"25\", \"26\", \"27\", \"28\", \"29\", \"30\", \"31\", \"32\", \"33\", \"34\", \"36\"], \"mode\": \"markers\", \"name\": \"AUC_micro\", \"stepped\": false, \"type\": \"scatter\", \"data\": [0.8299990636996348, 0.8450943062534461, 0.8367716363409382, 0.8420877417475526, 0.8460514132933845, 0.8080740301488717, 0.7815871331523153, 0.7853427379503345, 0.7354639368309354, 0.8424830685683967, 0.8542596464945955, 0.847549493877636, 0.8398094108590035, 0.8476015105645892, 0.8259105521051152, 0.8536562529259387, 0.8400694942937695, 0.7507984561447313, 0.8356168658905778, 0.8424414552188342, 0.8421813717840684, 0.7908929184482382, 0.8147997877719172, 0.8456456831351499, 0.8239755313504573, 0.7060328953528292, 0.8144980909875889, 0.8369068797270165, 0.6940274440040365, 0.835720899264484, 0.7818628215931671, 0.8379888268156425, 0.8532817327798757, 0.8431280754866162, 0.8435754189944135, 0.8513467120252177]}, {\"categories\": [\"0\", \"1\", \"2\", \"3\", \"4\", \"5\", \"6\", \"7\", \"8\", \"9\", \"10\", \"11\", \"12\", \"13\", \"14\", \"15\", \"16\", \"17\", \"18\", \"19\", \"20\", \"21\", \"22\", \"23\", \"24\", \"25\", \"26\", \"27\", \"28\", \"29\", \"30\", \"31\", \"32\", \"33\", \"34\", \"36\"], \"mode\": \"lines\", \"name\": \"AUC_micro_max\", \"stepped\": true, \"type\": \"scatter\", \"data\": [0.8299990636996348, 0.8450943062534461, 0.8450943062534461, 0.8450943062534461, 0.8460514132933845, 0.8460514132933845, 0.8460514132933845, 0.8460514132933845, 0.8460514132933845, 0.8460514132933845, 0.8542596464945955, 0.8542596464945955, 0.8542596464945955, 0.8542596464945955, 0.8542596464945955, 0.8542596464945955, 0.8542596464945955, 0.8542596464945955, 0.8542596464945955, 0.8542596464945955, 0.8542596464945955, 0.8542596464945955, 0.8542596464945955, 0.8542596464945955, 0.8542596464945955, 0.8542596464945955, 0.8542596464945955, 0.8542596464945955, 0.8542596464945955, 0.8542596464945955, 0.8542596464945955, 0.8542596464945955, 0.8542596464945955, 0.8542596464945955, 0.8542596464945955, 0.8542596464945955]}], \"average_precision_score_micro\": [{\"categories\": [\"0\", \"1\", \"2\", \"3\", \"4\", \"5\", \"6\", \"7\", \"8\", \"9\", \"10\", \"11\", \"12\", \"13\", \"14\", \"15\", \"16\", \"17\", \"18\", \"19\", \"20\", \"21\", \"22\", \"23\", \"24\", \"25\", \"26\", \"27\", \"28\", \"29\", \"30\", \"31\", \"32\", \"33\", \"34\", \"36\"], \"mode\": \"markers\", \"name\": \"average_precision_score_micro\", \"stepped\": false, \"type\": \"scatter\", \"data\": [0.8288030240058578, 0.8440569969220637, 0.8397677803624544, 0.8400810646845708, 0.8416557067143603, 0.789895549732487, 0.7559999342906473, 0.7591670369352226, 0.7158666234906713, 0.8440552914255314, 0.857075881871244, 0.8498958201827701, 0.8427309759569855, 0.8497007727639637, 0.8314074207060758, 0.8562390460081849, 0.8446965982420279, 0.7409660489723592, 0.8386607488668568, 0.8437894081635751, 0.8417296167655502, 0.7904617369151147, 0.7910633412226327, 0.8357989829897757, 0.8211080437117251, 0.6778468289839962, 0.8171170381462379, 0.8352458724043825, 0.6852933596276851, 0.8370509269659333, 0.7940383049833512, 0.8382685779935425, 0.8545343672176632, 0.8430104110060269, 0.8421685576243504, 0.8511701054386819]}, {\"categories\": [\"0\", \"1\", \"2\", \"3\", \"4\", \"5\", \"6\", \"7\", \"8\", \"9\", \"10\", \"11\", \"12\", \"13\", \"14\", \"15\", \"16\", \"17\", \"18\", \"19\", \"20\", \"21\", \"22\", \"23\", \"24\", \"25\", \"26\", \"27\", \"28\", \"29\", \"30\", \"31\", \"32\", \"33\", \"34\", \"36\"], \"mode\": \"lines\", \"name\": \"average_precision_score_micro_max\", \"stepped\": true, \"type\": \"scatter\", \"data\": [0.8288030240058578, 0.8440569969220637, 0.8440569969220637, 0.8440569969220637, 0.8440569969220637, 0.8440569969220637, 0.8440569969220637, 0.8440569969220637, 0.8440569969220637, 0.8440569969220637, 0.857075881871244, 0.857075881871244, 0.857075881871244, 0.857075881871244, 0.857075881871244, 0.857075881871244, 0.857075881871244, 0.857075881871244, 0.857075881871244, 0.857075881871244, 0.857075881871244, 0.857075881871244, 0.857075881871244, 0.857075881871244, 0.857075881871244, 0.857075881871244, 0.857075881871244, 0.857075881871244, 0.857075881871244, 0.857075881871244, 0.857075881871244, 0.857075881871244, 0.857075881871244, 0.857075881871244, 0.857075881871244, 0.857075881871244]}], \"precision_score_micro\": [{\"categories\": [\"0\", \"1\", \"2\", \"3\", \"4\", \"5\", \"6\", \"7\", \"8\", \"9\", \"10\", \"11\", \"12\", \"13\", \"14\", \"15\", \"16\", \"17\", \"18\", \"19\", \"20\", \"21\", \"22\", \"23\", \"24\", \"25\", \"26\", \"27\", \"28\", \"29\", \"30\", \"31\", \"32\", \"33\", \"34\", \"36\"], \"mode\": \"markers\", \"name\": \"precision_score_micro\", \"stepped\": false, \"type\": \"scatter\", \"data\": [0.7486033519553073, 0.7523277467411545, 0.750465549348231, 0.7672253258845437, 0.7728119180633147, 0.7411545623836125, 0.7057728119180634, 0.7094972067039106, 0.6778398510242085, 0.7448789571694601, 0.7690875232774674, 0.7597765363128491, 0.7430167597765363, 0.7523277467411544, 0.7541899441340782, 0.7672253258845437, 0.7579143389199255, 0.6629422718808193, 0.7560521415270017, 0.7467411545623835, 0.7467411545623835, 0.707635009310987, 0.74487895716946, 0.7560521415270017, 0.7355679702048418, 0.638733705772812, 0.74487895716946, 0.7597765363128491, 0.6554934823091246, 0.7709497206703911, 0.6573556797020484, 0.7560521415270017, 0.7672253258845437, 0.7672253258845437, 0.7653631284916201, 0.7821229050279329]}, {\"categories\": [\"0\", \"1\", \"2\", \"3\", \"4\", \"5\", \"6\", \"7\", \"8\", \"9\", \"10\", \"11\", \"12\", \"13\", \"14\", \"15\", \"16\", \"17\", \"18\", \"19\", \"20\", \"21\", \"22\", \"23\", \"24\", \"25\", \"26\", \"27\", \"28\", \"29\", \"30\", \"31\", \"32\", \"33\", \"34\", \"36\"], \"mode\": \"lines\", \"name\": \"precision_score_micro_max\", \"stepped\": true, \"type\": \"scatter\", \"data\": [0.7486033519553073, 0.7523277467411545, 0.7523277467411545, 0.7672253258845437, 0.7728119180633147, 0.7728119180633147, 0.7728119180633147, 0.7728119180633147, 0.7728119180633147, 0.7728119180633147, 0.7728119180633147, 0.7728119180633147, 0.7728119180633147, 0.7728119180633147, 0.7728119180633147, 0.7728119180633147, 0.7728119180633147, 0.7728119180633147, 0.7728119180633147, 0.7728119180633147, 0.7728119180633147, 0.7728119180633147, 0.7728119180633147, 0.7728119180633147, 0.7728119180633147, 0.7728119180633147, 0.7728119180633147, 0.7728119180633147, 0.7728119180633147, 0.7728119180633147, 0.7728119180633147, 0.7728119180633147, 0.7728119180633147, 0.7728119180633147, 0.7728119180633147, 0.7821229050279329]}], \"average_precision_score_weighted\": [{\"categories\": [\"0\", \"1\", \"2\", \"3\", \"4\", \"5\", \"6\", \"7\", \"8\", \"9\", \"10\", \"11\", \"12\", \"13\", \"14\", \"15\", \"16\", \"17\", \"18\", \"19\", \"20\", \"21\", \"22\", \"23\", \"24\", \"25\", \"26\", \"27\", \"28\", \"29\", \"30\", \"31\", \"32\", \"33\", \"34\", \"36\"], \"mode\": \"markers\", \"name\": \"average_precision_score_weighted\", \"stepped\": false, \"type\": \"scatter\", \"data\": [0.821702876698874, 0.8352477889824002, 0.8268390820451202, 0.8276828721444227, 0.8370263340164747, 0.7823291686717613, 0.7489170420458838, 0.7529343439301576, 0.6988630225542303, 0.8326161802812075, 0.8483063057335368, 0.8398985863277124, 0.8314705624139447, 0.8446276649057444, 0.8415042233888327, 0.8485188316663831, 0.8360851965341162, 0.7219641881692459, 0.8293848416921561, 0.833262689153686, 0.8323560845495349, 0.7768055780124957, 0.7847232775166723, 0.829409000639321, 0.8079169529391251, 0.6483169395657539, 0.8255188780649497, 0.8383905329338868, 0.7014144682586322, 0.8235885562551303, 0.8124238877330049, 0.8203805761497424, 0.8436217113243999, 0.8361153765027546, 0.8325293789527987, 0.8399940562768693]}, {\"categories\": [\"0\", \"1\", \"2\", \"3\", \"4\", \"5\", \"6\", \"7\", \"8\", \"9\", \"10\", \"11\", \"12\", \"13\", \"14\", \"15\", \"16\", \"17\", \"18\", \"19\", \"20\", \"21\", \"22\", \"23\", \"24\", \"25\", \"26\", \"27\", \"28\", \"29\", \"30\", \"31\", \"32\", \"33\", \"34\", \"36\"], \"mode\": \"lines\", \"name\": \"average_precision_score_weighted_max\", \"stepped\": true, \"type\": \"scatter\", \"data\": [0.821702876698874, 0.8352477889824002, 0.8352477889824002, 0.8352477889824002, 0.8370263340164747, 0.8370263340164747, 0.8370263340164747, 0.8370263340164747, 0.8370263340164747, 0.8370263340164747, 0.8483063057335368, 0.8483063057335368, 0.8483063057335368, 0.8483063057335368, 0.8483063057335368, 0.8485188316663831, 0.8485188316663831, 0.8485188316663831, 0.8485188316663831, 0.8485188316663831, 0.8485188316663831, 0.8485188316663831, 0.8485188316663831, 0.8485188316663831, 0.8485188316663831, 0.8485188316663831, 0.8485188316663831, 0.8485188316663831, 0.8485188316663831, 0.8485188316663831, 0.8485188316663831, 0.8485188316663831, 0.8485188316663831, 0.8485188316663831, 0.8485188316663831, 0.8485188316663831]}], \"precision_score_macro\": [{\"categories\": [\"0\", \"1\", \"2\", \"3\", \"4\", \"5\", \"6\", \"7\", \"8\", \"9\", \"10\", \"11\", \"12\", \"13\", \"14\", \"15\", \"16\", \"17\", \"18\", \"19\", \"20\", \"21\", \"22\", \"23\", \"24\", \"25\", \"26\", \"27\", \"28\", \"29\", \"30\", \"31\", \"32\", \"33\", \"34\", \"36\"], \"mode\": \"markers\", \"name\": \"precision_score_macro\", \"stepped\": false, \"type\": \"scatter\", \"data\": [0.7284828586002629, 0.7343769005414581, 0.7374297102433438, 0.7510217270557575, 0.7551942439843783, 0.7376441377414297, 0.7200356606849393, 0.7117880446051027, 0.649984635700138, 0.7252951408644606, 0.7571506968171885, 0.7450860794899355, 0.7298377364034133, 0.7481960312743526, 0.8031094056542369, 0.7560351205771466, 0.7479303187465134, 0.6316811366065714, 0.7501369663440737, 0.7340235038749858, 0.7318232702933241, 0.6869263025362313, 0.7291819985886595, 0.7456139036658161, 0.7142500003402397, 0.6414381826669416, 0.7403737663429096, 0.748196604639518, 0.664609077052813, 0.7651841460189702, 0.5937314431785158, 0.7412133544096351, 0.7574258208416239, 0.763982608132863, 0.751693478898893, 0.7729648174307521]}, {\"categories\": [\"0\", \"1\", \"2\", \"3\", \"4\", \"5\", \"6\", \"7\", \"8\", \"9\", \"10\", \"11\", \"12\", \"13\", \"14\", \"15\", \"16\", \"17\", \"18\", \"19\", \"20\", \"21\", \"22\", \"23\", \"24\", \"25\", \"26\", \"27\", \"28\", \"29\", \"30\", \"31\", \"32\", \"33\", \"34\", \"36\"], \"mode\": \"lines\", \"name\": \"precision_score_macro_max\", \"stepped\": true, \"type\": \"scatter\", \"data\": [0.7284828586002629, 0.7343769005414581, 0.7374297102433438, 0.7510217270557575, 0.7551942439843783, 0.7551942439843783, 0.7551942439843783, 0.7551942439843783, 0.7551942439843783, 0.7551942439843783, 0.7571506968171885, 0.7571506968171885, 0.7571506968171885, 0.7571506968171885, 0.8031094056542369, 0.8031094056542369, 0.8031094056542369, 0.8031094056542369, 0.8031094056542369, 0.8031094056542369, 0.8031094056542369, 0.8031094056542369, 0.8031094056542369, 0.8031094056542369, 0.8031094056542369, 0.8031094056542369, 0.8031094056542369, 0.8031094056542369, 0.8031094056542369, 0.8031094056542369, 0.8031094056542369, 0.8031094056542369, 0.8031094056542369, 0.8031094056542369, 0.8031094056542369, 0.8031094056542369]}], \"AUC_macro\": [{\"categories\": [\"0\", \"1\", \"2\", \"3\", \"4\", \"5\", \"6\", \"7\", \"8\", \"9\", \"10\", \"11\", \"12\", \"13\", \"14\", \"15\", \"16\", \"17\", \"18\", \"19\", \"20\", \"21\", \"22\", \"23\", \"24\", \"25\", \"26\", \"27\", \"28\", \"29\", \"30\", \"31\", \"32\", \"33\", \"34\", \"36\"], \"mode\": \"markers\", \"name\": \"AUC_macro\", \"stepped\": false, \"type\": \"scatter\", \"data\": [0.8112573523556597, 0.829866601292684, 0.8211716559669072, 0.8261049272585396, 0.8355961165707004, 0.7838751876264863, 0.750805141028895, 0.7578055855445435, 0.6969958294060934, 0.8264129738029341, 0.840524433529907, 0.8329665802057663, 0.8288633560670026, 0.8374736252381135, 0.8321653626781215, 0.8400879823690431, 0.8277421688518792, 0.7092006124297447, 0.8230495517761437, 0.8269924116644463, 0.8281776071012189, 0.763067819416963, 0.7870839805292648, 0.8306748839329993, 0.803405678627722, 0.6634661577351566, 0.8199586133917026, 0.8365515155533654, 0.7004799850848681, 0.820553242347708, 0.8064120248478064, 0.82188068881253, 0.838408550567725, 0.8261476673033069, 0.8274745246757004, 0.8360217922196864]}, {\"categories\": [\"0\", \"1\", \"2\", \"3\", \"4\", \"5\", \"6\", \"7\", \"8\", \"9\", \"10\", \"11\", \"12\", \"13\", \"14\", \"15\", \"16\", \"17\", \"18\", \"19\", \"20\", \"21\", \"22\", \"23\", \"24\", \"25\", \"26\", \"27\", \"28\", \"29\", \"30\", \"31\", \"32\", \"33\", \"34\", \"36\"], \"mode\": \"lines\", \"name\": \"AUC_macro_max\", \"stepped\": true, \"type\": \"scatter\", \"data\": [0.8112573523556597, 0.829866601292684, 0.829866601292684, 0.829866601292684, 0.8355961165707004, 0.8355961165707004, 0.8355961165707004, 0.8355961165707004, 0.8355961165707004, 0.8355961165707004, 0.840524433529907, 0.840524433529907, 0.840524433529907, 0.840524433529907, 0.840524433529907, 0.840524433529907, 0.840524433529907, 0.840524433529907, 0.840524433529907, 0.840524433529907, 0.840524433529907, 0.840524433529907, 0.840524433529907, 0.840524433529907, 0.840524433529907, 0.840524433529907, 0.840524433529907, 0.840524433529907, 0.840524433529907, 0.840524433529907, 0.840524433529907, 0.840524433529907, 0.840524433529907, 0.840524433529907, 0.840524433529907, 0.840524433529907]}], \"recall_score_weighted\": [{\"categories\": [\"0\", \"1\", \"2\", \"3\", \"4\", \"5\", \"6\", \"7\", \"8\", \"9\", \"10\", \"11\", \"12\", \"13\", \"14\", \"15\", \"16\", \"17\", \"18\", \"19\", \"20\", \"21\", \"22\", \"23\", \"24\", \"25\", \"26\", \"27\", \"28\", \"29\", \"30\", \"31\", \"32\", \"33\", \"34\", \"36\"], \"mode\": \"markers\", \"name\": \"recall_score_weighted\", \"stepped\": false, \"type\": \"scatter\", \"data\": [0.7486033519553073, 0.7523277467411545, 0.750465549348231, 0.7672253258845437, 0.7728119180633147, 0.7411545623836125, 0.7057728119180634, 0.7094972067039106, 0.6778398510242085, 0.7448789571694601, 0.7690875232774674, 0.7597765363128491, 0.7430167597765363, 0.7523277467411544, 0.7541899441340782, 0.7672253258845437, 0.7579143389199255, 0.6629422718808193, 0.7560521415270017, 0.7467411545623835, 0.7467411545623835, 0.707635009310987, 0.74487895716946, 0.7560521415270017, 0.7355679702048418, 0.638733705772812, 0.74487895716946, 0.7597765363128491, 0.6554934823091246, 0.7709497206703911, 0.6573556797020484, 0.7560521415270017, 0.7672253258845437, 0.7672253258845437, 0.7653631284916201, 0.7821229050279329]}, {\"categories\": [\"0\", \"1\", \"2\", \"3\", \"4\", \"5\", \"6\", \"7\", \"8\", \"9\", \"10\", \"11\", \"12\", \"13\", \"14\", \"15\", \"16\", \"17\", \"18\", \"19\", \"20\", \"21\", \"22\", \"23\", \"24\", \"25\", \"26\", \"27\", \"28\", \"29\", \"30\", \"31\", \"32\", \"33\", \"34\", \"36\"], \"mode\": \"lines\", \"name\": \"recall_score_weighted_max\", \"stepped\": true, \"type\": \"scatter\", \"data\": [0.7486033519553073, 0.7523277467411545, 0.7523277467411545, 0.7672253258845437, 0.7728119180633147, 0.7728119180633147, 0.7728119180633147, 0.7728119180633147, 0.7728119180633147, 0.7728119180633147, 0.7728119180633147, 0.7728119180633147, 0.7728119180633147, 0.7728119180633147, 0.7728119180633147, 0.7728119180633147, 0.7728119180633147, 0.7728119180633147, 0.7728119180633147, 0.7728119180633147, 0.7728119180633147, 0.7728119180633147, 0.7728119180633147, 0.7728119180633147, 0.7728119180633147, 0.7728119180633147, 0.7728119180633147, 0.7728119180633147, 0.7728119180633147, 0.7728119180633147, 0.7728119180633147, 0.7728119180633147, 0.7728119180633147, 0.7728119180633147, 0.7728119180633147, 0.7821229050279329]}], \"average_precision_score_macro\": [{\"categories\": [\"0\", \"1\", \"2\", \"3\", \"4\", \"5\", \"6\", \"7\", \"8\", \"9\", \"10\", \"11\", \"12\", \"13\", \"14\", \"15\", \"16\", \"17\", \"18\", \"19\", \"20\", \"21\", \"22\", \"23\", \"24\", \"25\", \"26\", \"27\", \"28\", \"29\", \"30\", \"31\", \"32\", \"33\", \"34\", \"36\"], \"mode\": \"markers\", \"name\": \"average_precision_score_macro\", \"stepped\": false, \"type\": \"scatter\", \"data\": [0.7989915115040144, 0.8119986094520685, 0.7997880329849343, 0.803352455170259, 0.8141882210943684, 0.759388411333083, 0.7262705434790918, 0.730357847200182, 0.6671863540107857, 0.8083140789588111, 0.8255849110328249, 0.8160937782461998, 0.8048411786444475, 0.8219500702726265, 0.8183621726957327, 0.8260552499210005, 0.8108521998802122, 0.6931171283859761, 0.8034452686518457, 0.8091648326357878, 0.8082875852247188, 0.7490734612707494, 0.7654045231860932, 0.8071901781984842, 0.7822251979181184, 0.6107172129205057, 0.7988003508917444, 0.813550939707807, 0.6622444859017034, 0.7965691137660164, 0.784684613728054, 0.7919309624678036, 0.8204904410480078, 0.813772352485462, 0.8085313011390197, 0.8165950569043906]}, {\"categories\": [\"0\", \"1\", \"2\", \"3\", \"4\", \"5\", \"6\", \"7\", \"8\", \"9\", \"10\", \"11\", \"12\", \"13\", \"14\", \"15\", \"16\", \"17\", \"18\", \"19\", \"20\", \"21\", \"22\", \"23\", \"24\", \"25\", \"26\", \"27\", \"28\", \"29\", \"30\", \"31\", \"32\", \"33\", \"34\", \"36\"], \"mode\": \"lines\", \"name\": \"average_precision_score_macro_max\", \"stepped\": true, \"type\": \"scatter\", \"data\": [0.7989915115040144, 0.8119986094520685, 0.8119986094520685, 0.8119986094520685, 0.8141882210943684, 0.8141882210943684, 0.8141882210943684, 0.8141882210943684, 0.8141882210943684, 0.8141882210943684, 0.8255849110328249, 0.8255849110328249, 0.8255849110328249, 0.8255849110328249, 0.8255849110328249, 0.8260552499210005, 0.8260552499210005, 0.8260552499210005, 0.8260552499210005, 0.8260552499210005, 0.8260552499210005, 0.8260552499210005, 0.8260552499210005, 0.8260552499210005, 0.8260552499210005, 0.8260552499210005, 0.8260552499210005, 0.8260552499210005, 0.8260552499210005, 0.8260552499210005, 0.8260552499210005, 0.8260552499210005, 0.8260552499210005, 0.8260552499210005, 0.8260552499210005, 0.8260552499210005]}], \"balanced_accuracy\": [{\"categories\": [\"0\", \"1\", \"2\", \"3\", \"4\", \"5\", \"6\", \"7\", \"8\", \"9\", \"10\", \"11\", \"12\", \"13\", \"14\", \"15\", \"16\", \"17\", \"18\", \"19\", \"20\", \"21\", \"22\", \"23\", \"24\", \"25\", \"26\", \"27\", \"28\", \"29\", \"30\", \"31\", \"32\", \"33\", \"34\", \"36\"], \"mode\": \"markers\", \"name\": \"balanced_accuracy\", \"stepped\": false, \"type\": \"scatter\", \"data\": [0.7237718378799899, 0.7227309776943294, 0.7140814751221969, 0.7354785649460408, 0.7569460679777622, 0.6808844634749597, 0.6188099587671655, 0.6264083712242431, 0.6360682079201642, 0.71310473028934, 0.7308145482142328, 0.7211240948268354, 0.6979757673532538, 0.6963335742636924, 0.6739420292544422, 0.7277871987444878, 0.7111156474902263, 0.6134888399530279, 0.7062049429056182, 0.7025327186794891, 0.7021428789171674, 0.6702508674374726, 0.7032604671830023, 0.7128258902629833, 0.6977365779721785, 0.6521876505218497, 0.7589202014687597, 0.7640750630454592, 0.6773724236581851, 0.7258852102861049, 0.5299774111319103, 0.7150743008440409, 0.725561548054611, 0.7168274257295936, 0.7280130744690902, 0.7469069195726128]}, {\"categories\": [\"0\", \"1\", \"2\", \"3\", \"4\", \"5\", \"6\", \"7\", \"8\", \"9\", \"10\", \"11\", \"12\", \"13\", \"14\", \"15\", \"16\", \"17\", \"18\", \"19\", \"20\", \"21\", \"22\", \"23\", \"24\", \"25\", \"26\", \"27\", \"28\", \"29\", \"30\", \"31\", \"32\", \"33\", \"34\", \"36\"], \"mode\": \"lines\", \"name\": \"balanced_accuracy_max\", \"stepped\": true, \"type\": \"scatter\", \"data\": [0.7237718378799899, 0.7237718378799899, 0.7237718378799899, 0.7354785649460408, 0.7569460679777622, 0.7569460679777622, 0.7569460679777622, 0.7569460679777622, 0.7569460679777622, 0.7569460679777622, 0.7569460679777622, 0.7569460679777622, 0.7569460679777622, 0.7569460679777622, 0.7569460679777622, 0.7569460679777622, 0.7569460679777622, 0.7569460679777622, 0.7569460679777622, 0.7569460679777622, 0.7569460679777622, 0.7569460679777622, 0.7569460679777622, 0.7569460679777622, 0.7569460679777622, 0.7569460679777622, 0.7589202014687597, 0.7640750630454592, 0.7640750630454592, 0.7640750630454592, 0.7640750630454592, 0.7640750630454592, 0.7640750630454592, 0.7640750630454592, 0.7640750630454592, 0.7640750630454592]}], \"recall_score_macro\": [{\"categories\": [\"0\", \"1\", \"2\", \"3\", \"4\", \"5\", \"6\", \"7\", \"8\", \"9\", \"10\", \"11\", \"12\", \"13\", \"14\", \"15\", \"16\", \"17\", \"18\", \"19\", \"20\", \"21\", \"22\", \"23\", \"24\", \"25\", \"26\", \"27\", \"28\", \"29\", \"30\", \"31\", \"32\", \"33\", \"34\", \"36\"], \"mode\": \"markers\", \"name\": \"recall_score_macro\", \"stepped\": false, \"type\": \"scatter\", \"data\": [0.7237718378799899, 0.7227309776943294, 0.7140814751221969, 0.7354785649460408, 0.7569460679777622, 0.6808844634749597, 0.6188099587671655, 0.6264083712242431, 0.6360682079201642, 0.71310473028934, 0.7308145482142328, 0.7211240948268354, 0.6979757673532538, 0.6963335742636924, 0.6739420292544422, 0.7277871987444878, 0.7111156474902263, 0.6134888399530279, 0.7062049429056182, 0.7025327186794891, 0.7021428789171674, 0.6702508674374726, 0.7032604671830023, 0.7128258902629833, 0.6977365779721785, 0.6521876505218497, 0.7589202014687597, 0.7640750630454592, 0.6773724236581851, 0.7258852102861049, 0.5299774111319103, 0.7150743008440409, 0.725561548054611, 0.7168274257295936, 0.7280130744690902, 0.7469069195726128]}, {\"categories\": [\"0\", \"1\", \"2\", \"3\", \"4\", \"5\", \"6\", \"7\", \"8\", \"9\", \"10\", \"11\", \"12\", \"13\", \"14\", \"15\", \"16\", \"17\", \"18\", \"19\", \"20\", \"21\", \"22\", \"23\", \"24\", \"25\", \"26\", \"27\", \"28\", \"29\", \"30\", \"31\", \"32\", \"33\", \"34\", \"36\"], \"mode\": \"lines\", \"name\": \"recall_score_macro_max\", \"stepped\": true, \"type\": \"scatter\", \"data\": [0.7237718378799899, 0.7237718378799899, 0.7237718378799899, 0.7354785649460408, 0.7569460679777622, 0.7569460679777622, 0.7569460679777622, 0.7569460679777622, 0.7569460679777622, 0.7569460679777622, 0.7569460679777622, 0.7569460679777622, 0.7569460679777622, 0.7569460679777622, 0.7569460679777622, 0.7569460679777622, 0.7569460679777622, 0.7569460679777622, 0.7569460679777622, 0.7569460679777622, 0.7569460679777622, 0.7569460679777622, 0.7569460679777622, 0.7569460679777622, 0.7569460679777622, 0.7569460679777622, 0.7589202014687597, 0.7640750630454592, 0.7640750630454592, 0.7640750630454592, 0.7640750630454592, 0.7640750630454592, 0.7640750630454592, 0.7640750630454592, 0.7640750630454592, 0.7640750630454592]}], \"accuracy\": [{\"categories\": [\"0\", \"1\", \"2\", \"3\", \"4\", \"5\", \"6\", \"7\", \"8\", \"9\", \"10\", \"11\", \"12\", \"13\", \"14\", \"15\", \"16\", \"17\", \"18\", \"19\", \"20\", \"21\", \"22\", \"23\", \"24\", \"25\", \"26\", \"27\", \"28\", \"29\", \"30\", \"31\", \"32\", \"33\", \"34\", \"36\"], \"mode\": \"markers\", \"name\": \"accuracy\", \"stepped\": false, \"type\": \"scatter\", \"data\": [0.7486033519553073, 0.7523277467411545, 0.750465549348231, 0.7672253258845437, 0.7728119180633147, 0.7411545623836125, 0.7057728119180634, 0.7094972067039106, 0.6778398510242085, 0.7448789571694601, 0.7690875232774674, 0.7597765363128491, 0.7430167597765363, 0.7523277467411544, 0.7541899441340782, 0.7672253258845437, 0.7579143389199255, 0.6629422718808193, 0.7560521415270017, 0.7467411545623835, 0.7467411545623835, 0.707635009310987, 0.74487895716946, 0.7560521415270017, 0.7355679702048418, 0.638733705772812, 0.74487895716946, 0.7597765363128491, 0.6554934823091246, 0.7709497206703911, 0.6573556797020484, 0.7560521415270017, 0.7672253258845437, 0.7672253258845437, 0.7653631284916201, 0.7821229050279329]}, {\"categories\": [\"0\", \"1\", \"2\", \"3\", \"4\", \"5\", \"6\", \"7\", \"8\", \"9\", \"10\", \"11\", \"12\", \"13\", \"14\", \"15\", \"16\", \"17\", \"18\", \"19\", \"20\", \"21\", \"22\", \"23\", \"24\", \"25\", \"26\", \"27\", \"28\", \"29\", \"30\", \"31\", \"32\", \"33\", \"34\", \"36\"], \"mode\": \"lines\", \"name\": \"accuracy_max\", \"stepped\": true, \"type\": \"scatter\", \"data\": [0.7486033519553073, 0.7523277467411545, 0.7523277467411545, 0.7672253258845437, 0.7728119180633147, 0.7728119180633147, 0.7728119180633147, 0.7728119180633147, 0.7728119180633147, 0.7728119180633147, 0.7728119180633147, 0.7728119180633147, 0.7728119180633147, 0.7728119180633147, 0.7728119180633147, 0.7728119180633147, 0.7728119180633147, 0.7728119180633147, 0.7728119180633147, 0.7728119180633147, 0.7728119180633147, 0.7728119180633147, 0.7728119180633147, 0.7728119180633147, 0.7728119180633147, 0.7728119180633147, 0.7728119180633147, 0.7728119180633147, 0.7728119180633147, 0.7728119180633147, 0.7728119180633147, 0.7728119180633147, 0.7728119180633147, 0.7728119180633147, 0.7728119180633147, 0.7821229050279329]}], \"matthews_correlation\": [{\"categories\": [\"0\", \"1\", \"2\", \"3\", \"4\", \"5\", \"6\", \"7\", \"8\", \"9\", \"10\", \"11\", \"12\", \"13\", \"14\", \"15\", \"16\", \"17\", \"18\", \"19\", \"20\", \"21\", \"22\", \"23\", \"24\", \"25\", \"26\", \"27\", \"28\", \"29\", \"30\", \"31\", \"32\", \"33\", \"34\", \"36\"], \"mode\": \"markers\", \"name\": \"matthews_correlation\", \"stepped\": false, \"type\": \"scatter\", \"data\": [0.45217853291147136, 0.45681296423652235, 0.4505409027816884, 0.48613997252499913, 0.5120767964313898, 0.41422545372288083, 0.32167625857353316, 0.3265979538985386, 0.2855244524311364, 0.438129253113725, 0.4870923640900033, 0.4654883559348033, 0.4260981702119533, 0.441334422890332, 0.457822093238168, 0.48277413726923285, 0.45744226841031616, 0.24410680528413833, 0.45389320466459643, 0.43512546813831426, 0.4328412074357095, 0.3563086054866664, 0.43110074039480795, 0.4568625798908827, 0.41152971126134785, 0.2934196765238103, 0.4989289498045941, 0.5119856274486448, 0.3417160785881823, 0.48919155253999924, 0.1365522874577638, 0.4553895622732718, 0.4816741915503948, 0.4782924937648932, 0.4790091560974054, 0.5189619969137695]}, {\"categories\": [\"0\", \"1\", \"2\", \"3\", \"4\", \"5\", \"6\", \"7\", \"8\", \"9\", \"10\", \"11\", \"12\", \"13\", \"14\", \"15\", \"16\", \"17\", \"18\", \"19\", \"20\", \"21\", \"22\", \"23\", \"24\", \"25\", \"26\", \"27\", \"28\", \"29\", \"30\", \"31\", \"32\", \"33\", \"34\", \"36\"], \"mode\": \"lines\", \"name\": \"matthews_correlation_max\", \"stepped\": true, \"type\": \"scatter\", \"data\": [0.45217853291147136, 0.45681296423652235, 0.45681296423652235, 0.48613997252499913, 0.5120767964313898, 0.5120767964313898, 0.5120767964313898, 0.5120767964313898, 0.5120767964313898, 0.5120767964313898, 0.5120767964313898, 0.5120767964313898, 0.5120767964313898, 0.5120767964313898, 0.5120767964313898, 0.5120767964313898, 0.5120767964313898, 0.5120767964313898, 0.5120767964313898, 0.5120767964313898, 0.5120767964313898, 0.5120767964313898, 0.5120767964313898, 0.5120767964313898, 0.5120767964313898, 0.5120767964313898, 0.5120767964313898, 0.5120767964313898, 0.5120767964313898, 0.5120767964313898, 0.5120767964313898, 0.5120767964313898, 0.5120767964313898, 0.5120767964313898, 0.5120767964313898, 0.5189619969137695]}], \"norm_macro_recall\": [{\"categories\": [\"0\", \"1\", \"2\", \"3\", \"4\", \"5\", \"6\", \"7\", \"8\", \"9\", \"10\", \"11\", \"12\", \"13\", \"14\", \"15\", \"16\", \"17\", \"18\", \"19\", \"20\", \"21\", \"22\", \"23\", \"24\", \"25\", \"26\", \"27\", \"28\", \"29\", \"30\", \"31\", \"32\", \"33\", \"34\", \"36\"], \"mode\": \"markers\", \"name\": \"norm_macro_recall\", \"stepped\": false, \"type\": \"scatter\", \"data\": [0.4475436757599796, 0.4454619553886588, 0.4281629502443936, 0.47095712989208166, 0.5138921359555244, 0.36176892694991936, 0.23761991753433107, 0.2528167424484861, 0.2721364158403284, 0.42620946057867987, 0.46162909642846545, 0.44224818965367074, 0.39595153470650774, 0.3926671485273847, 0.3478840585088843, 0.4555743974889757, 0.4222312949804525, 0.22697767990605588, 0.41240988581123644, 0.40506543735897815, 0.404285757834335, 0.3405017348749453, 0.4065209343660045, 0.42565178052596647, 0.3954731559443568, 0.3043753010436993, 0.5178404029375193, 0.5281501260909187, 0.35474484731636996, 0.45177042057220956, 0.059954822263820505, 0.4301486016880818, 0.4511230961092223, 0.4336548514591871, 0.45602614893818033, 0.49381383914522553]}, {\"categories\": [\"0\", \"1\", \"2\", \"3\", \"4\", \"5\", \"6\", \"7\", \"8\", \"9\", \"10\", \"11\", \"12\", \"13\", \"14\", \"15\", \"16\", \"17\", \"18\", \"19\", \"20\", \"21\", \"22\", \"23\", \"24\", \"25\", \"26\", \"27\", \"28\", \"29\", \"30\", \"31\", \"32\", \"33\", \"34\", \"36\"], \"mode\": \"lines\", \"name\": \"norm_macro_recall_max\", \"stepped\": true, \"type\": \"scatter\", \"data\": [0.4475436757599796, 0.4475436757599796, 0.4475436757599796, 0.47095712989208166, 0.5138921359555244, 0.5138921359555244, 0.5138921359555244, 0.5138921359555244, 0.5138921359555244, 0.5138921359555244, 0.5138921359555244, 0.5138921359555244, 0.5138921359555244, 0.5138921359555244, 0.5138921359555244, 0.5138921359555244, 0.5138921359555244, 0.5138921359555244, 0.5138921359555244, 0.5138921359555244, 0.5138921359555244, 0.5138921359555244, 0.5138921359555244, 0.5138921359555244, 0.5138921359555244, 0.5138921359555244, 0.5178404029375193, 0.5281501260909187, 0.5281501260909187, 0.5281501260909187, 0.5281501260909187, 0.5281501260909187, 0.5281501260909187, 0.5281501260909187, 0.5281501260909187, 0.5281501260909187]}], \"f1_score_weighted\": [{\"categories\": [\"0\", \"1\", \"2\", \"3\", \"4\", \"5\", \"6\", \"7\", \"8\", \"9\", \"10\", \"11\", \"12\", \"13\", \"14\", \"15\", \"16\", \"17\", \"18\", \"19\", \"20\", \"21\", \"22\", \"23\", \"24\", \"25\", \"26\", \"27\", \"28\", \"29\", \"30\", \"31\", \"32\", \"33\", \"34\", \"36\"], \"mode\": \"markers\", \"name\": \"f1_score_weighted\", \"stepped\": false, \"type\": \"scatter\", \"data\": [0.7476539677744695, 0.7497114601402141, 0.7457644857645617, 0.7636968430002565, 0.7733773759875634, 0.7249877818225691, 0.6657197644658126, 0.6747934871322939, 0.6716294599510265, 0.7417146433358403, 0.7635658553341726, 0.7542095657301484, 0.7341984729596206, 0.7388879899577631, 0.7228050153444103, 0.7612957183084484, 0.7489520967246053, 0.6525578210339981, 0.7458270681143975, 0.7388869989753468, 0.73893488351474, 0.7024519266294864, 0.7364716835347288, 0.7483595395876316, 0.7300786072138806, 0.6451834005994722, 0.7498490319765826, 0.7637525561962942, 0.6612755376130282, 0.7626624960697796, 0.5457686735236389, 0.7493958802470829, 0.7603893198097195, 0.7567547673534354, 0.7602851435683559, 0.7775571393672535]}, {\"categories\": [\"0\", \"1\", \"2\", \"3\", \"4\", \"5\", \"6\", \"7\", \"8\", \"9\", \"10\", \"11\", \"12\", \"13\", \"14\", \"15\", \"16\", \"17\", \"18\", \"19\", \"20\", \"21\", \"22\", \"23\", \"24\", \"25\", \"26\", \"27\", \"28\", \"29\", \"30\", \"31\", \"32\", \"33\", \"34\", \"36\"], \"mode\": \"lines\", \"name\": \"f1_score_weighted_max\", \"stepped\": true, \"type\": \"scatter\", \"data\": [0.7476539677744695, 0.7497114601402141, 0.7497114601402141, 0.7636968430002565, 0.7733773759875634, 0.7733773759875634, 0.7733773759875634, 0.7733773759875634, 0.7733773759875634, 0.7733773759875634, 0.7733773759875634, 0.7733773759875634, 0.7733773759875634, 0.7733773759875634, 0.7733773759875634, 0.7733773759875634, 0.7733773759875634, 0.7733773759875634, 0.7733773759875634, 0.7733773759875634, 0.7733773759875634, 0.7733773759875634, 0.7733773759875634, 0.7733773759875634, 0.7733773759875634, 0.7733773759875634, 0.7733773759875634, 0.7733773759875634, 0.7733773759875634, 0.7733773759875634, 0.7733773759875634, 0.7733773759875634, 0.7733773759875634, 0.7733773759875634, 0.7733773759875634, 0.7775571393672535]}], \"f1_score_micro\": [{\"categories\": [\"0\", \"1\", \"2\", \"3\", \"4\", \"5\", \"6\", \"7\", \"8\", \"9\", \"10\", \"11\", \"12\", \"13\", \"14\", \"15\", \"16\", \"17\", \"18\", \"19\", \"20\", \"21\", \"22\", \"23\", \"24\", \"25\", \"26\", \"27\", \"28\", \"29\", \"30\", \"31\", \"32\", \"33\", \"34\", \"36\"], \"mode\": \"markers\", \"name\": \"f1_score_micro\", \"stepped\": false, \"type\": \"scatter\", \"data\": [0.7486033519553073, 0.7523277467411545, 0.750465549348231, 0.7672253258845437, 0.7728119180633147, 0.7411545623836125, 0.7057728119180634, 0.7094972067039106, 0.6778398510242085, 0.7448789571694601, 0.7690875232774674, 0.7597765363128491, 0.7430167597765363, 0.7523277467411545, 0.7541899441340782, 0.7672253258845437, 0.7579143389199255, 0.6629422718808193, 0.7560521415270017, 0.7467411545623835, 0.7467411545623835, 0.707635009310987, 0.74487895716946, 0.7560521415270017, 0.7355679702048418, 0.638733705772812, 0.74487895716946, 0.7597765363128491, 0.6554934823091246, 0.7709497206703911, 0.6573556797020484, 0.7560521415270017, 0.7672253258845437, 0.7672253258845437, 0.7653631284916201, 0.7821229050279329]}, {\"categories\": [\"0\", \"1\", \"2\", \"3\", \"4\", \"5\", \"6\", \"7\", \"8\", \"9\", \"10\", \"11\", \"12\", \"13\", \"14\", \"15\", \"16\", \"17\", \"18\", \"19\", \"20\", \"21\", \"22\", \"23\", \"24\", \"25\", \"26\", \"27\", \"28\", \"29\", \"30\", \"31\", \"32\", \"33\", \"34\", \"36\"], \"mode\": \"lines\", \"name\": \"f1_score_micro_max\", \"stepped\": true, \"type\": \"scatter\", \"data\": [0.7486033519553073, 0.7523277467411545, 0.7523277467411545, 0.7672253258845437, 0.7728119180633147, 0.7728119180633147, 0.7728119180633147, 0.7728119180633147, 0.7728119180633147, 0.7728119180633147, 0.7728119180633147, 0.7728119180633147, 0.7728119180633147, 0.7728119180633147, 0.7728119180633147, 0.7728119180633147, 0.7728119180633147, 0.7728119180633147, 0.7728119180633147, 0.7728119180633147, 0.7728119180633147, 0.7728119180633147, 0.7728119180633147, 0.7728119180633147, 0.7728119180633147, 0.7728119180633147, 0.7728119180633147, 0.7728119180633147, 0.7728119180633147, 0.7728119180633147, 0.7728119180633147, 0.7728119180633147, 0.7728119180633147, 0.7728119180633147, 0.7728119180633147, 0.7821229050279329]}], \"log_loss\": [{\"categories\": [\"0\", \"1\", \"2\", \"3\", \"4\", \"5\", \"6\", \"7\", \"8\", \"9\", \"10\", \"11\", \"12\", \"13\", \"14\", \"15\", \"16\", \"17\", \"18\", \"19\", \"20\", \"21\", \"22\", \"23\", \"24\", \"25\", \"26\", \"27\", \"28\", \"29\", \"30\", \"31\", \"32\", \"33\", \"34\", \"36\"], \"mode\": \"markers\", \"name\": \"log_loss\", \"stepped\": false, \"type\": \"scatter\", \"data\": [0.6134590347669496, 0.5035496742611344, 0.49459929404731257, 0.49600954423064164, 0.5458378958788441, 0.5490054845359866, 0.5801275713549598, 0.5758675368345181, 0.6092994112371066, 0.4939237060353275, 0.4715965426178294, 0.4832249154119858, 0.5008452285488637, 0.5004207428779561, 0.5404457197289453, 0.47339705585555075, 0.5091143196381602, 0.5975666558228805, 0.5077123847791911, 0.4956395393268444, 0.496139862960242, 0.5564258411788615, 1.4126107351571864, 0.4944594783244636, 0.5312010715716147, 0.6802159396534794, 0.5341833691919504, 0.5386266330193609, 0.6549996501342346, 0.5043534069727768, 0.5789292003571155, 0.5591268465309319, 0.47528253129916775, 0.4976305800448985, 0.4883879494992811, 0.49418261494182375]}, {\"categories\": [\"0\", \"1\", \"2\", \"3\", \"4\", \"5\", \"6\", \"7\", \"8\", \"9\", \"10\", \"11\", \"12\", \"13\", \"14\", \"15\", \"16\", \"17\", \"18\", \"19\", \"20\", \"21\", \"22\", \"23\", \"24\", \"25\", \"26\", \"27\", \"28\", \"29\", \"30\", \"31\", \"32\", \"33\", \"34\", \"36\"], \"mode\": \"lines\", \"name\": \"log_loss_min\", \"stepped\": true, \"type\": \"scatter\", \"data\": [0.6134590347669496, 0.5035496742611344, 0.49459929404731257, 0.49459929404731257, 0.49459929404731257, 0.49459929404731257, 0.49459929404731257, 0.49459929404731257, 0.49459929404731257, 0.4939237060353275, 0.4715965426178294, 0.4715965426178294, 0.4715965426178294, 0.4715965426178294, 0.4715965426178294, 0.4715965426178294, 0.4715965426178294, 0.4715965426178294, 0.4715965426178294, 0.4715965426178294, 0.4715965426178294, 0.4715965426178294, 0.4715965426178294, 0.4715965426178294, 0.4715965426178294, 0.4715965426178294, 0.4715965426178294, 0.4715965426178294, 0.4715965426178294, 0.4715965426178294, 0.4715965426178294, 0.4715965426178294, 0.4715965426178294, 0.4715965426178294, 0.4715965426178294, 0.4715965426178294]}], \"AUC_weighted\": [{\"categories\": [\"0\", \"1\", \"2\", \"3\", \"4\", \"5\", \"6\", \"7\", \"8\", \"9\", \"10\", \"11\", \"12\", \"13\", \"14\", \"15\", \"16\", \"17\", \"18\", \"19\", \"20\", \"21\", \"22\", \"23\", \"24\", \"25\", \"26\", \"27\", \"28\", \"29\", \"30\", \"31\", \"32\", \"33\", \"34\", \"36\"], \"mode\": \"markers\", \"name\": \"AUC_weighted\", \"stepped\": false, \"type\": \"scatter\", \"data\": [0.8112573523556597, 0.8298666012926837, 0.8211716559669072, 0.8261049272585396, 0.8355961165707004, 0.7838751876264863, 0.750805141028895, 0.7578055855445435, 0.6969958294060935, 0.8264129738029341, 0.840524433529907, 0.8329665802057663, 0.8288633560670026, 0.8374736252381134, 0.8321653626781215, 0.8400879823690431, 0.8277421688518792, 0.7092006124297447, 0.8230495517761437, 0.8269924116644463, 0.8281776071012191, 0.763067819416963, 0.7870839805292649, 0.8306748839329993, 0.803405678627722, 0.6634661577351566, 0.8199586133917025, 0.8365515155533654, 0.7004799850848681, 0.820553242347708, 0.8064120248478064, 0.82188068881253, 0.838408550567725, 0.8261476673033069, 0.8274745246757004, 0.8360217922196864]}, {\"categories\": [\"0\", \"1\", \"2\", \"3\", \"4\", \"5\", \"6\", \"7\", \"8\", \"9\", \"10\", \"11\", \"12\", \"13\", \"14\", \"15\", \"16\", \"17\", \"18\", \"19\", \"20\", \"21\", \"22\", \"23\", \"24\", \"25\", \"26\", \"27\", \"28\", \"29\", \"30\", \"31\", \"32\", \"33\", \"34\", \"36\"], \"mode\": \"lines\", \"name\": \"AUC_weighted_max\", \"stepped\": true, \"type\": \"scatter\", \"data\": [0.8112573523556597, 0.8298666012926837, 0.8298666012926837, 0.8298666012926837, 0.8355961165707004, 0.8355961165707004, 0.8355961165707004, 0.8355961165707004, 0.8355961165707004, 0.8355961165707004, 0.840524433529907, 0.840524433529907, 0.840524433529907, 0.840524433529907, 0.840524433529907, 0.840524433529907, 0.840524433529907, 0.840524433529907, 0.840524433529907, 0.840524433529907, 0.840524433529907, 0.840524433529907, 0.840524433529907, 0.840524433529907, 0.840524433529907, 0.840524433529907, 0.840524433529907, 0.840524433529907, 0.840524433529907, 0.840524433529907, 0.840524433529907, 0.840524433529907, 0.840524433529907, 0.840524433529907, 0.840524433529907, 0.840524433529907]}]}, \"metricName\": null, \"primaryMetricName\": \"accuracy\", \"showLegend\": false}, \"run_metrics\": [{\"name\": \"experiment_status\", \"run_id\": \"AutoML_9c657d87-738e-486e-8000-132a529f9873\", \"categories\": [0, 1, 2, 3, 4, 5], \"series\": [{\"data\": [\"DatasetEvaluation\", \"FeaturesGeneration\", \"DatasetFeaturization\", \"DatasetFeaturizationCompleted\", \"DatasetCrossValidationSplit\", \"ModelSelection\"]}]}, {\"name\": \"experiment_status_description\", \"run_id\": \"AutoML_9c657d87-738e-486e-8000-132a529f9873\", \"categories\": [0, 1, 2, 3, 4, 5], \"series\": [{\"data\": [\"Gathering dataset statistics.\", \"Generating features for the dataset.\", \"Beginning to fit featurizers and featurize the dataset.\", \"Completed fit featurizers and featurizing the dataset.\", \"Generating individually featurized CV splits.\", \"Beginning model selection.\"]}]}, {\"name\": \"AUC_weighted\", \"run_id\": \"AutoML_9c657d87-738e-486e-8000-132a529f9873\", \"categories\": [0], \"series\": [{\"data\": [0.8360217922196864]}]}, {\"name\": \"log_loss\", \"run_id\": \"AutoML_9c657d87-738e-486e-8000-132a529f9873\", \"categories\": [0], \"series\": [{\"data\": [0.49418261494182375]}]}, {\"name\": \"precision_score_micro\", \"run_id\": \"AutoML_9c657d87-738e-486e-8000-132a529f9873\", \"categories\": [0], \"series\": [{\"data\": [0.7821229050279329]}]}, {\"name\": \"precision_score_weighted\", \"run_id\": \"AutoML_9c657d87-738e-486e-8000-132a529f9873\", \"categories\": [0], \"series\": [{\"data\": [0.7816021326958054]}]}, {\"name\": \"balanced_accuracy\", \"run_id\": \"AutoML_9c657d87-738e-486e-8000-132a529f9873\", \"categories\": [0], \"series\": [{\"data\": [0.7469069195726128]}]}, {\"name\": \"recall_score_micro\", \"run_id\": \"AutoML_9c657d87-738e-486e-8000-132a529f9873\", \"categories\": [0], \"series\": [{\"data\": [0.7821229050279329]}]}, {\"name\": \"recall_score_weighted\", \"run_id\": \"AutoML_9c657d87-738e-486e-8000-132a529f9873\", \"categories\": [0], \"series\": [{\"data\": [0.7821229050279329]}]}, {\"name\": \"average_precision_score_macro\", \"run_id\": \"AutoML_9c657d87-738e-486e-8000-132a529f9873\", \"categories\": [0], \"series\": [{\"data\": [0.8165950569043906]}]}, {\"name\": \"accuracy\", \"run_id\": \"AutoML_9c657d87-738e-486e-8000-132a529f9873\", \"categories\": [0], \"series\": [{\"data\": [0.7821229050279329]}]}, {\"name\": \"f1_score_macro\", \"run_id\": \"AutoML_9c657d87-738e-486e-8000-132a529f9873\", \"categories\": [0], \"series\": [{\"data\": [0.7548791302819593]}]}, {\"name\": \"average_precision_score_micro\", \"run_id\": \"AutoML_9c657d87-738e-486e-8000-132a529f9873\", \"categories\": [0], \"series\": [{\"data\": [0.8511701054386819]}]}, {\"name\": \"f1_score_micro\", \"run_id\": \"AutoML_9c657d87-738e-486e-8000-132a529f9873\", \"categories\": [0], \"series\": [{\"data\": [0.7821229050279329]}]}, {\"name\": \"recall_score_macro\", \"run_id\": \"AutoML_9c657d87-738e-486e-8000-132a529f9873\", \"categories\": [0], \"series\": [{\"data\": [0.7469069195726128]}]}, {\"name\": \"norm_macro_recall\", \"run_id\": \"AutoML_9c657d87-738e-486e-8000-132a529f9873\", \"categories\": [0], \"series\": [{\"data\": [0.49381383914522553]}]}, {\"name\": \"precision_score_macro\", \"run_id\": \"AutoML_9c657d87-738e-486e-8000-132a529f9873\", \"categories\": [0], \"series\": [{\"data\": [0.7729648174307521]}]}, {\"name\": \"matthews_correlation\", \"run_id\": \"AutoML_9c657d87-738e-486e-8000-132a529f9873\", \"categories\": [0], \"series\": [{\"data\": [0.5189619969137695]}]}, {\"name\": \"AUC_macro\", \"run_id\": \"AutoML_9c657d87-738e-486e-8000-132a529f9873\", \"categories\": [0], \"series\": [{\"data\": [0.8360217922196864]}]}, {\"name\": \"AUC_micro\", \"run_id\": \"AutoML_9c657d87-738e-486e-8000-132a529f9873\", \"categories\": [0], \"series\": [{\"data\": [0.8513467120252177]}]}, {\"name\": \"weighted_accuracy\", \"run_id\": \"AutoML_9c657d87-738e-486e-8000-132a529f9873\", \"categories\": [0], \"series\": [{\"data\": [0.8122974948367427]}]}, {\"name\": \"f1_score_weighted\", \"run_id\": \"AutoML_9c657d87-738e-486e-8000-132a529f9873\", \"categories\": [0], \"series\": [{\"data\": [0.7775571393672535]}]}, {\"name\": \"average_precision_score_weighted\", \"run_id\": \"AutoML_9c657d87-738e-486e-8000-132a529f9873\", \"categories\": [0], \"series\": [{\"data\": [0.8399940562768693]}]}], \"run_logs\": \"\\nRun is completed.\", \"graph\": {}, \"widget_settings\": {\"childWidgetDisplay\": \"popup\", \"send_telemetry\": false, \"log_level\": \"INFO\", \"sdk_version\": \"1.19.0\"}, \"loading\": false}"
     },
     "metadata": {},
     "output_type": "display_data"
    },
    {
     "name": "stdout",
     "output_type": "stream",
     "text": [
      "\n",
      "Current status: FeaturesGeneration. Generating features for the dataset.\n",
      "Current status: ModelSelection. Beginning model selection.\n",
      "\n",
      "****************************************************************************************************\n",
      "DATA GUARDRAILS: \n",
      "\n",
      "TYPE:         Class balancing detection\n",
      "STATUS:       PASSED\n",
      "DESCRIPTION:  Your inputs were analyzed, and all classes are balanced in your training data.\n",
      "              Learn more about imbalanced data: https://aka.ms/AutomatedMLImbalancedData\n",
      "\n",
      "****************************************************************************************************\n",
      "\n",
      "TYPE:         High cardinality feature detection\n",
      "STATUS:       PASSED\n",
      "DESCRIPTION:  Your inputs were analyzed, and no high cardinality features were detected.\n",
      "              Learn more about high cardinality feature handling: https://aka.ms/AutomatedMLFeaturization\n",
      "\n",
      "****************************************************************************************************\n",
      "\n",
      "****************************************************************************************************\n",
      "ITERATION: The iteration being evaluated.\n",
      "PIPELINE: A summary description of the pipeline being evaluated.\n",
      "DURATION: Time taken for the current iteration.\n",
      "METRIC: The result of computing score on the fitted pipeline.\n",
      "BEST: The best observed score thus far.\n",
      "****************************************************************************************************\n",
      "\n",
      " ITERATION   PIPELINE                                       DURATION      METRIC      BEST\n",
      "         2   MinMaxScaler RandomForest                      0:01:15       0.7505    0.7505\n",
      "         3   MinMaxScaler RandomForest                      0:01:01       0.7672    0.7672\n",
      "         1   MaxAbsScaler XGBoostClassifier                 0:00:59       0.7523    0.7672\n",
      "         0   MaxAbsScaler LightGBM                          0:00:58       0.7486    0.7672\n",
      "         7   MinMaxScaler SVM                               0:00:51       0.7095    0.7672\n",
      "         4   MinMaxScaler RandomForest                      0:02:22       0.7728    0.7728\n",
      "         6   MinMaxScaler SVM                               0:02:20       0.7058    0.7728\n",
      "         5   MinMaxScaler SVM                               0:02:31       0.7412    0.7728\n",
      "         8   SparseNormalizer XGBoostClassifier             0:00:59       0.6778    0.7728\n",
      "        10   MaxAbsScaler GradientBoosting                  0:00:49       0.7691    0.7728\n",
      "         9   StandardScalerWrapper LightGBM                 0:00:53       0.7449    0.7728\n",
      "        11   StandardScalerWrapper LightGBM                 0:00:52       0.7598    0.7728\n",
      "        12   StandardScalerWrapper RandomForest             0:00:50       0.7430    0.7728\n",
      "        13   RobustScaler ExtremeRandomTrees                0:00:59       0.7523    0.7728\n",
      "        14   StandardScalerWrapper LightGBM                 0:00:58       0.7542    0.7728\n",
      "        15   StandardScalerWrapper GradientBoosting         0:00:49       0.7672    0.7728\n",
      "        16   MaxAbsScaler LightGBM                          0:01:02       0.7579    0.7728\n",
      "        17   SparseNormalizer XGBoostClassifier             0:00:53       0.6629    0.7728\n",
      "        18   MinMaxScaler LightGBM                          0:00:50       0.7561    0.7728\n",
      "        19   StandardScalerWrapper LightGBM                 0:00:50       0.7467    0.7728\n",
      "        20   StandardScalerWrapper LightGBM                 0:00:53       0.7467    0.7728\n",
      "        21   TruncatedSVDWrapper XGBoostClassifier          0:00:52       0.7076    0.7728\n",
      "        23   MinMaxScaler LogisticRegression                0:00:46       0.7561    0.7728\n",
      "        22   RobustScaler KNN                               0:00:59       0.7449    0.7728\n",
      "        24   StandardScalerWrapper LightGBM                 0:00:56       0.7356    0.7728\n",
      "        25   StandardScalerWrapper RandomForest             0:00:56       0.6387    0.7728\n",
      "        26   StandardScalerWrapper RandomForest             0:00:57       0.7449    0.7728\n",
      "        27   StandardScalerWrapper ExtremeRandomTrees       0:01:21       0.7598    0.7728\n",
      "        28   SparseNormalizer ExtremeRandomTrees            0:01:06       0.6555    0.7728\n",
      "        29   StandardScalerWrapper LightGBM                 0:00:49       0.7709    0.7728\n",
      "        30   MaxAbsScaler RandomForest                      0:00:55       0.6574    0.7728\n",
      "        32   MinMaxScaler RandomForest                      0:00:58       0.7672    0.7728\n",
      "        33   MinMaxScaler ExtremeRandomTrees                0:00:56       0.7672    0.7728\n",
      "        31   StandardScalerWrapper XGBoostClassifier        0:01:19       0.7561    0.7728\n",
      "        34   StandardScalerWrapper XGBoostClassifier        0:00:51       0.7654    0.7728\n",
      "        35                                                  0:00:17          nan    0.7728\n",
      "        36    VotingEnsemble                                0:01:22       0.7821    0.7821\n"
     ]
    },
    {
     "data": {
      "text/plain": [
       "{'runId': 'AutoML_9c657d87-738e-486e-8000-132a529f9873',\n",
       " 'target': 'puru-compute-new',\n",
       " 'status': 'Completed',\n",
       " 'startTimeUtc': '2020-12-27T16:22:16.526806Z',\n",
       " 'endTimeUtc': '2020-12-27T16:45:20.957114Z',\n",
       " 'properties': {'num_iterations': '1000',\n",
       "  'training_type': 'TrainFull',\n",
       "  'acquisition_function': 'EI',\n",
       "  'primary_metric': 'accuracy',\n",
       "  'train_split': '0',\n",
       "  'acquisition_parameter': '0',\n",
       "  'num_cross_validation': '3',\n",
       "  'target': 'puru-compute-new',\n",
       "  'AMLSettingsJsonString': '{\"path\":null,\"name\":\"puru-auto-experiment\",\"subscription_id\":\"610d6e37-4747-4a20-80eb-3aad70a55f43\",\"resource_group\":\"aml-quickstarts-132034\",\"workspace_name\":\"quick-starts-ws-132034\",\"region\":\"southcentralus\",\"compute_target\":\"puru-compute-new\",\"spark_service\":null,\"azure_service\":\"remote\",\"many_models\":false,\"pipeline_fetch_max_batch_size\":1,\"iterations\":1000,\"primary_metric\":\"accuracy\",\"task_type\":\"classification\",\"data_script\":null,\"validation_size\":0.0,\"n_cross_validations\":3,\"y_min\":null,\"y_max\":null,\"num_classes\":null,\"featurization\":\"auto\",\"_ignore_package_version_incompatibilities\":false,\"is_timeseries\":false,\"max_cores_per_iteration\":-1,\"max_concurrent_iterations\":4,\"iteration_timeout_minutes\":5,\"mem_in_mb\":null,\"enforce_time_on_windows\":false,\"experiment_timeout_minutes\":30,\"experiment_exit_score\":null,\"whitelist_models\":null,\"blacklist_algos\":[\"TensorFlowLinearClassifier\",\"TensorFlowDNN\"],\"supported_models\":[\"RandomForest\",\"DecisionTree\",\"BernoulliNaiveBayes\",\"TensorFlowDNN\",\"XGBoostClassifier\",\"TensorFlowLinearClassifier\",\"GradientBoosting\",\"ExtremeRandomTrees\",\"LogisticRegression\",\"MultinomialNaiveBayes\",\"LightGBM\",\"KNN\",\"SGD\",\"AveragedPerceptronClassifier\",\"LinearSVM\",\"SVM\"],\"auto_blacklist\":true,\"blacklist_samples_reached\":false,\"exclude_nan_labels\":true,\"verbosity\":20,\"_debug_log\":\"azureml_automl.log\",\"show_warnings\":false,\"model_explainability\":true,\"service_url\":null,\"sdk_url\":null,\"sdk_packages\":null,\"enable_onnx_compatible_models\":true,\"enable_split_onnx_featurizer_estimator_models\":false,\"vm_type\":\"STANDARD_D12_V2\",\"telemetry_verbosity\":20,\"send_telemetry\":true,\"enable_dnn\":false,\"scenario\":\"SDK-1.13.0\",\"environment_label\":null,\"force_text_dnn\":false,\"enable_feature_sweeping\":false,\"enable_early_stopping\":true,\"early_stopping_n_iters\":10,\"metrics\":null,\"enable_ensembling\":true,\"enable_stack_ensembling\":false,\"ensemble_iterations\":15,\"enable_tf\":false,\"enable_subsampling\":null,\"subsample_seed\":null,\"enable_nimbusml\":false,\"enable_streaming\":false,\"force_streaming\":false,\"track_child_runs\":true,\"allowed_private_models\":[],\"label_column_name\":\"Outcome\",\"weight_column_name\":null,\"cv_split_column_names\":null,\"enable_local_managed\":false,\"_local_managed_run_id\":null,\"cost_mode\":1,\"lag_length\":0,\"metric_operation\":\"maximize\",\"preprocess\":true}',\n",
       "  'DataPrepJsonString': '{\\\\\"training_data\\\\\": \\\\\"{\\\\\\\\\\\\\"blocks\\\\\\\\\\\\\": [{\\\\\\\\\\\\\"id\\\\\\\\\\\\\": \\\\\\\\\\\\\"4b249441-93de-4ee5-a03a-3a4ad617707f\\\\\\\\\\\\\", \\\\\\\\\\\\\"type\\\\\\\\\\\\\": \\\\\\\\\\\\\"Microsoft.DPrep.GetDatastoreFilesBlock\\\\\\\\\\\\\", \\\\\\\\\\\\\"arguments\\\\\\\\\\\\\": {\\\\\\\\\\\\\"datastores\\\\\\\\\\\\\": [{\\\\\\\\\\\\\"datastoreName\\\\\\\\\\\\\": \\\\\\\\\\\\\"workspaceblobstore\\\\\\\\\\\\\", \\\\\\\\\\\\\"path\\\\\\\\\\\\\": \\\\\\\\\\\\\"automlclassifier/train_data.csv\\\\\\\\\\\\\", \\\\\\\\\\\\\"resourceGroup\\\\\\\\\\\\\": \\\\\\\\\\\\\"aml-quickstarts-132034\\\\\\\\\\\\\", \\\\\\\\\\\\\"subscription\\\\\\\\\\\\\": \\\\\\\\\\\\\"610d6e37-4747-4a20-80eb-3aad70a55f43\\\\\\\\\\\\\", \\\\\\\\\\\\\"workspaceName\\\\\\\\\\\\\": \\\\\\\\\\\\\"quick-starts-ws-132034\\\\\\\\\\\\\"}]}, \\\\\\\\\\\\\"localData\\\\\\\\\\\\\": {}, \\\\\\\\\\\\\"isEnabled\\\\\\\\\\\\\": true, \\\\\\\\\\\\\"name\\\\\\\\\\\\\": null, \\\\\\\\\\\\\"annotation\\\\\\\\\\\\\": null}, {\\\\\\\\\\\\\"id\\\\\\\\\\\\\": \\\\\\\\\\\\\"35d1161f-f1c9-4181-ac46-e8ff162ab1d4\\\\\\\\\\\\\", \\\\\\\\\\\\\"type\\\\\\\\\\\\\": \\\\\\\\\\\\\"Microsoft.DPrep.ParseDelimitedBlock\\\\\\\\\\\\\", \\\\\\\\\\\\\"arguments\\\\\\\\\\\\\": {\\\\\\\\\\\\\"columnHeadersMode\\\\\\\\\\\\\": 3, \\\\\\\\\\\\\"fileEncoding\\\\\\\\\\\\\": 0, \\\\\\\\\\\\\"handleQuotedLineBreaks\\\\\\\\\\\\\": false, \\\\\\\\\\\\\"preview\\\\\\\\\\\\\": false, \\\\\\\\\\\\\"separator\\\\\\\\\\\\\": \\\\\\\\\\\\\",\\\\\\\\\\\\\", \\\\\\\\\\\\\"skipRows\\\\\\\\\\\\\": 0, \\\\\\\\\\\\\"skipRowsMode\\\\\\\\\\\\\": 0}, \\\\\\\\\\\\\"localData\\\\\\\\\\\\\": {}, \\\\\\\\\\\\\"isEnabled\\\\\\\\\\\\\": true, \\\\\\\\\\\\\"name\\\\\\\\\\\\\": null, \\\\\\\\\\\\\"annotation\\\\\\\\\\\\\": null}, {\\\\\\\\\\\\\"id\\\\\\\\\\\\\": \\\\\\\\\\\\\"55f2dae0-31e3-4398-ba97-b874aa70f7a9\\\\\\\\\\\\\", \\\\\\\\\\\\\"type\\\\\\\\\\\\\": \\\\\\\\\\\\\"Microsoft.DPrep.DropColumnsBlock\\\\\\\\\\\\\", \\\\\\\\\\\\\"arguments\\\\\\\\\\\\\": {\\\\\\\\\\\\\"columns\\\\\\\\\\\\\": {\\\\\\\\\\\\\"type\\\\\\\\\\\\\": 0, \\\\\\\\\\\\\"details\\\\\\\\\\\\\": {\\\\\\\\\\\\\"selectedColumns\\\\\\\\\\\\\": [\\\\\\\\\\\\\"Path\\\\\\\\\\\\\"]}}}, \\\\\\\\\\\\\"localData\\\\\\\\\\\\\": {}, \\\\\\\\\\\\\"isEnabled\\\\\\\\\\\\\": true, \\\\\\\\\\\\\"name\\\\\\\\\\\\\": null, \\\\\\\\\\\\\"annotation\\\\\\\\\\\\\": null}, {\\\\\\\\\\\\\"id\\\\\\\\\\\\\": \\\\\\\\\\\\\"a23f2250-04c3-4567-97e1-7f50e80285f2\\\\\\\\\\\\\", \\\\\\\\\\\\\"type\\\\\\\\\\\\\": \\\\\\\\\\\\\"Microsoft.DPrep.SetColumnTypesBlock\\\\\\\\\\\\\", \\\\\\\\\\\\\"arguments\\\\\\\\\\\\\": {\\\\\\\\\\\\\"columnConversion\\\\\\\\\\\\\": [{\\\\\\\\\\\\\"column\\\\\\\\\\\\\": {\\\\\\\\\\\\\"type\\\\\\\\\\\\\": 2, \\\\\\\\\\\\\"details\\\\\\\\\\\\\": {\\\\\\\\\\\\\"selectedColumn\\\\\\\\\\\\\": \\\\\\\\\\\\\"Pregnancies\\\\\\\\\\\\\"}}, \\\\\\\\\\\\\"typeProperty\\\\\\\\\\\\\": 2}, {\\\\\\\\\\\\\"column\\\\\\\\\\\\\": {\\\\\\\\\\\\\"type\\\\\\\\\\\\\": 2, \\\\\\\\\\\\\"details\\\\\\\\\\\\\": {\\\\\\\\\\\\\"selectedColumn\\\\\\\\\\\\\": \\\\\\\\\\\\\"Glucose\\\\\\\\\\\\\"}}, \\\\\\\\\\\\\"typeProperty\\\\\\\\\\\\\": 2}, {\\\\\\\\\\\\\"column\\\\\\\\\\\\\": {\\\\\\\\\\\\\"type\\\\\\\\\\\\\": 2, \\\\\\\\\\\\\"details\\\\\\\\\\\\\": {\\\\\\\\\\\\\"selectedColumn\\\\\\\\\\\\\": \\\\\\\\\\\\\"BloodPressure\\\\\\\\\\\\\"}}, \\\\\\\\\\\\\"typeProperty\\\\\\\\\\\\\": 2}, {\\\\\\\\\\\\\"column\\\\\\\\\\\\\": {\\\\\\\\\\\\\"type\\\\\\\\\\\\\": 2, \\\\\\\\\\\\\"details\\\\\\\\\\\\\": {\\\\\\\\\\\\\"selectedColumn\\\\\\\\\\\\\": \\\\\\\\\\\\\"SkinThickness\\\\\\\\\\\\\"}}, \\\\\\\\\\\\\"typeProperty\\\\\\\\\\\\\": 2}, {\\\\\\\\\\\\\"column\\\\\\\\\\\\\": {\\\\\\\\\\\\\"type\\\\\\\\\\\\\": 2, \\\\\\\\\\\\\"details\\\\\\\\\\\\\": {\\\\\\\\\\\\\"selectedColumn\\\\\\\\\\\\\": \\\\\\\\\\\\\"Insulin\\\\\\\\\\\\\"}}, \\\\\\\\\\\\\"typeProperty\\\\\\\\\\\\\": 2}, {\\\\\\\\\\\\\"column\\\\\\\\\\\\\": {\\\\\\\\\\\\\"type\\\\\\\\\\\\\": 2, \\\\\\\\\\\\\"details\\\\\\\\\\\\\": {\\\\\\\\\\\\\"selectedColumn\\\\\\\\\\\\\": \\\\\\\\\\\\\"BMI\\\\\\\\\\\\\"}}, \\\\\\\\\\\\\"typeProperty\\\\\\\\\\\\\": 3}, {\\\\\\\\\\\\\"column\\\\\\\\\\\\\": {\\\\\\\\\\\\\"type\\\\\\\\\\\\\": 2, \\\\\\\\\\\\\"details\\\\\\\\\\\\\": {\\\\\\\\\\\\\"selectedColumn\\\\\\\\\\\\\": \\\\\\\\\\\\\"DiabetesPedigreeFunction\\\\\\\\\\\\\"}}, \\\\\\\\\\\\\"typeProperty\\\\\\\\\\\\\": 3}, {\\\\\\\\\\\\\"column\\\\\\\\\\\\\": {\\\\\\\\\\\\\"type\\\\\\\\\\\\\": 2, \\\\\\\\\\\\\"details\\\\\\\\\\\\\": {\\\\\\\\\\\\\"selectedColumn\\\\\\\\\\\\\": \\\\\\\\\\\\\"Age\\\\\\\\\\\\\"}}, \\\\\\\\\\\\\"typeProperty\\\\\\\\\\\\\": 2}, {\\\\\\\\\\\\\"column\\\\\\\\\\\\\": {\\\\\\\\\\\\\"type\\\\\\\\\\\\\": 2, \\\\\\\\\\\\\"details\\\\\\\\\\\\\": {\\\\\\\\\\\\\"selectedColumn\\\\\\\\\\\\\": \\\\\\\\\\\\\"Outcome\\\\\\\\\\\\\"}}, \\\\\\\\\\\\\"typeProperty\\\\\\\\\\\\\": 2}]}, \\\\\\\\\\\\\"localData\\\\\\\\\\\\\": {}, \\\\\\\\\\\\\"isEnabled\\\\\\\\\\\\\": true, \\\\\\\\\\\\\"name\\\\\\\\\\\\\": null, \\\\\\\\\\\\\"annotation\\\\\\\\\\\\\": null}], \\\\\\\\\\\\\"inspectors\\\\\\\\\\\\\": [], \\\\\\\\\\\\\"meta\\\\\\\\\\\\\": {\\\\\\\\\\\\\"savedDatasetId\\\\\\\\\\\\\": \\\\\\\\\\\\\"3e511d9f-8722-46d0-8acf-5f13c7af94ef\\\\\\\\\\\\\", \\\\\\\\\\\\\"datasetType\\\\\\\\\\\\\": \\\\\\\\\\\\\"tabular\\\\\\\\\\\\\", \\\\\\\\\\\\\"subscriptionId\\\\\\\\\\\\\": \\\\\\\\\\\\\"610d6e37-4747-4a20-80eb-3aad70a55f43\\\\\\\\\\\\\", \\\\\\\\\\\\\"workspaceId\\\\\\\\\\\\\": \\\\\\\\\\\\\"46684fa8-eece-412f-97cd-fd0ffa503bce\\\\\\\\\\\\\", \\\\\\\\\\\\\"workspaceLocation\\\\\\\\\\\\\": \\\\\\\\\\\\\"southcentralus\\\\\\\\\\\\\"}}\\\\\", \\\\\"activities\\\\\": 0}',\n",
       "  'EnableSubsampling': None,\n",
       "  'runTemplate': 'AutoML',\n",
       "  'azureml.runsource': 'automl',\n",
       "  'display_task_type': 'classification',\n",
       "  'dependencies_versions': '{\"azureml-widgets\": \"1.19.0\", \"azureml-train\": \"1.19.0\", \"azureml-train-restclients-hyperdrive\": \"1.19.0\", \"azureml-train-core\": \"1.19.0\", \"azureml-train-automl\": \"1.19.0\", \"azureml-train-automl-runtime\": \"1.19.0\", \"azureml-train-automl-client\": \"1.19.0\", \"azureml-tensorboard\": \"1.19.0\", \"azureml-telemetry\": \"1.19.0\", \"azureml-sdk\": \"1.19.0\", \"azureml-samples\": \"0+unknown\", \"azureml-pipeline\": \"1.19.0\", \"azureml-pipeline-steps\": \"1.19.0\", \"azureml-pipeline-core\": \"1.19.0\", \"azureml-opendatasets\": \"1.19.0\", \"azureml-model-management-sdk\": \"1.0.1b6.post1\", \"azureml-mlflow\": \"1.19.0\", \"azureml-interpret\": \"1.19.0\", \"azureml-explain-model\": \"1.19.0\", \"azureml-defaults\": \"1.19.0\", \"azureml-dataset-runtime\": \"1.19.0\", \"azureml-dataprep\": \"2.6.1\", \"azureml-dataprep-rslex\": \"1.4.0\", \"azureml-dataprep-native\": \"26.0.0\", \"azureml-datadrift\": \"1.19.0\", \"azureml-core\": \"1.19.0\", \"azureml-contrib-services\": \"1.19.0\", \"azureml-contrib-server\": \"1.19.0\", \"azureml-contrib-reinforcementlearning\": \"1.19.0\", \"azureml-contrib-pipeline-steps\": \"1.19.0\", \"azureml-contrib-notebook\": \"1.19.0\", \"azureml-contrib-interpret\": \"1.19.0\", \"azureml-contrib-gbdt\": \"1.19.0\", \"azureml-contrib-fairness\": \"1.19.0\", \"azureml-contrib-dataset\": \"1.19.0\", \"azureml-cli-common\": \"1.19.0\", \"azureml-automl-runtime\": \"1.19.0\", \"azureml-automl-core\": \"1.19.0\", \"azureml-accel-models\": \"1.19.0\"}',\n",
       "  '_aml_system_scenario_identification': 'Remote.Parent',\n",
       "  'ClientType': 'SDK',\n",
       "  'environment_cpu_name': 'AzureML-AutoML',\n",
       "  'environment_cpu_label': 'prod',\n",
       "  'environment_gpu_name': 'AzureML-AutoML-GPU',\n",
       "  'environment_gpu_label': 'prod',\n",
       "  'root_attribution': 'automl',\n",
       "  'attribution': 'AutoML',\n",
       "  'Orchestrator': 'AutoML',\n",
       "  'CancelUri': 'https://southcentralus.experiments.azureml.net/jasmine/v1.0/subscriptions/610d6e37-4747-4a20-80eb-3aad70a55f43/resourceGroups/aml-quickstarts-132034/providers/Microsoft.MachineLearningServices/workspaces/quick-starts-ws-132034/experimentids/8204c92b-a134-44d8-a46a-6f70c77a13a6/cancel/AutoML_9c657d87-738e-486e-8000-132a529f9873',\n",
       "  'ClientSdkVersion': '1.19.0',\n",
       "  'snapshotId': '00000000-0000-0000-0000-000000000000',\n",
       "  'SetupRunId': 'AutoML_9c657d87-738e-486e-8000-132a529f9873_setup',\n",
       "  'SetupRunContainerId': 'dcid.AutoML_9c657d87-738e-486e-8000-132a529f9873_setup',\n",
       "  'FeaturizationRunJsonPath': 'featurizer_container.json',\n",
       "  'FeaturizationRunId': 'AutoML_9c657d87-738e-486e-8000-132a529f9873_featurize',\n",
       "  'ProblemInfoJsonString': '{\"dataset_num_categorical\": 0, \"is_sparse\": false, \"subsampling\": false, \"dataset_classes\": 2, \"dataset_features\": 8, \"dataset_samples\": 537, \"single_frequency_class_detected\": false}',\n",
       "  'ModelExplainRunId': 'AutoML_9c657d87-738e-486e-8000-132a529f9873_ModelExplain'},\n",
       " 'inputDatasets': [{'dataset': {'id': '3e511d9f-8722-46d0-8acf-5f13c7af94ef'}, 'consumptionDetails': {'type': 'RunInput', 'inputName': 'training_data', 'mechanism': 'Direct'}}],\n",
       " 'outputDatasets': [],\n",
       " 'logFiles': {}}"
      ]
     },
     "execution_count": 11,
     "metadata": {},
     "output_type": "execute_result"
    }
   ],
   "source": [
    "from azureml.widgets import RunDetails\n",
    "RunDetails(remote_run).show()\n",
    "\n",
    "# wait for completion\n",
    "remote_run.wait_for_completion(show_output=True)"
   ]
  },
  {
   "cell_type": "markdown",
   "metadata": {},
   "source": [
    "## Best Model\n",
    "\n",
    "TODO: In the cell below, get the best model from the automl experiments and display all the properties of the model.\n",
    "\n"
   ]
  },
  {
   "cell_type": "code",
   "execution_count": 12,
   "metadata": {
    "gather": {
     "logged": 1609087589251
    },
    "jupyter": {
     "outputs_hidden": false,
     "source_hidden": false
    },
    "nteract": {
     "transient": {
      "deleting": false
     }
    }
   },
   "outputs": [
    {
     "name": "stdout",
     "output_type": "stream",
     "text": [
      "Run(Experiment: puru-auto-experiment,\n",
      "Id: AutoML_9c657d87-738e-486e-8000-132a529f9873_36,\n",
      "Type: azureml.scriptrun,\n",
      "Status: Completed)\n",
      "Best Model: AutoML9c657d87736\n"
     ]
    },
    {
     "data": {
      "text/plain": [
       "{'runTemplate': 'automl_child',\n",
       " 'pipeline_id': '__AutoML_Ensemble__',\n",
       " 'pipeline_spec': '{\"pipeline_id\":\"__AutoML_Ensemble__\",\"objects\":[{\"module\":\"azureml.train.automl.ensemble\",\"class_name\":\"Ensemble\",\"spec_class\":\"sklearn\",\"param_args\":[],\"param_kwargs\":{\"automl_settings\":\"{\\'task_type\\':\\'classification\\',\\'primary_metric\\':\\'accuracy\\',\\'verbosity\\':20,\\'ensemble_iterations\\':15,\\'is_timeseries\\':False,\\'name\\':\\'puru-auto-experiment\\',\\'compute_target\\':\\'puru-compute-new\\',\\'subscription_id\\':\\'610d6e37-4747-4a20-80eb-3aad70a55f43\\',\\'region\\':\\'southcentralus\\',\\'spark_service\\':None}\",\"ensemble_run_id\":\"AutoML_9c657d87-738e-486e-8000-132a529f9873_36\",\"experiment_name\":\"puru-auto-experiment\",\"workspace_name\":\"quick-starts-ws-132034\",\"subscription_id\":\"610d6e37-4747-4a20-80eb-3aad70a55f43\",\"resource_group_name\":\"aml-quickstarts-132034\"}}]}',\n",
       " 'training_percent': '100',\n",
       " 'predicted_cost': None,\n",
       " 'iteration': '36',\n",
       " '_aml_system_scenario_identification': 'Remote.Child',\n",
       " '_azureml.ComputeTargetType': 'amlcompute',\n",
       " 'ContentSnapshotId': '78314a77-cfa4-4999-b0ff-779e811ba794',\n",
       " 'ProcessInfoFile': 'azureml-logs/process_info.json',\n",
       " 'ProcessStatusFile': 'azureml-logs/process_status.json',\n",
       " 'run_template': 'automl_child',\n",
       " 'run_preprocessor': '',\n",
       " 'run_algorithm': 'VotingEnsemble',\n",
       " 'conda_env_data_location': 'aml://artifact/ExperimentRun/dcid.AutoML_9c657d87-738e-486e-8000-132a529f9873_36/outputs/conda_env_v_1_0_0.yml',\n",
       " 'model_data_location': 'aml://artifact/ExperimentRun/dcid.AutoML_9c657d87-738e-486e-8000-132a529f9873_36/outputs/model.pkl',\n",
       " 'model_size_on_disk': '1952533',\n",
       " 'scoring_data_location': 'aml://artifact/ExperimentRun/dcid.AutoML_9c657d87-738e-486e-8000-132a529f9873_36/outputs/scoring_file_v_1_0_0.py',\n",
       " 'model_exp_support': 'True',\n",
       " 'pipeline_graph_version': '1.0.0',\n",
       " 'model_name': 'AutoML9c657d87736',\n",
       " 'staticProperties': '{}',\n",
       " 'score': '0.7821229050279329',\n",
       " 'run_properties': \"classification_labels=None,\\n                              estimators=[('4',\\n                                           Pipeline(memory=None,\\n                                                    steps=[('minmaxscaler',\\n                                                            MinMaxScaler(copy=True,\\n                                                                         feature_range=(0,\\n                                                                                        1\",\n",
       " 'pipeline_script': '{\"pipeline_id\":\"__AutoML_Ensemble__\",\"objects\":[{\"module\":\"azureml.train.automl.ensemble\",\"class_name\":\"Ensemble\",\"spec_class\":\"sklearn\",\"param_args\":[],\"param_kwargs\":{\"automl_settings\":\"{\\'task_type\\':\\'classification\\',\\'primary_metric\\':\\'accuracy\\',\\'verbosity\\':20,\\'ensemble_iterations\\':15,\\'is_timeseries\\':False,\\'name\\':\\'puru-auto-experiment\\',\\'compute_target\\':\\'puru-compute-new\\',\\'subscription_id\\':\\'610d6e37-4747-4a20-80eb-3aad70a55f43\\',\\'region\\':\\'southcentralus\\',\\'spark_service\\':None}\",\"ensemble_run_id\":\"AutoML_9c657d87-738e-486e-8000-132a529f9873_36\",\"experiment_name\":\"puru-auto-experiment\",\"workspace_name\":\"quick-starts-ws-132034\",\"subscription_id\":\"610d6e37-4747-4a20-80eb-3aad70a55f43\",\"resource_group_name\":\"aml-quickstarts-132034\"}}]}',\n",
       " 'training_type': 'MeanCrossValidation',\n",
       " 'num_classes': '',\n",
       " 'framework': 'sklearn',\n",
       " 'fit_time': '27',\n",
       " 'goal': 'accuracy_max',\n",
       " 'class_labels': '',\n",
       " 'primary_metric': 'accuracy',\n",
       " 'errors': '{}',\n",
       " 'fitted_pipeline': \"Pipeline(memory=None,\\n         steps=[('datatransformer',\\n                 DataTransformer(enable_dnn=None, enable_feature_sweeping=None,\\n                                 feature_sweeping_config=None,\\n                                 feature_sweeping_timeout=None,\\n                                 featurization_config=None, force_text_dnn=None,\\n                                 is_cross_validation=None,\\n                                 is_onnx_compatible=None, logger=None,\\n                                 observer=None, task=None, working_dir=None)),\\n                ('prefittedsoftvotingclassifier',...\\n                                                                             KNeighborsClassifier(algorithm='auto',\\n                                                                                                  leaf_size=30,\\n                                                                                                  metric='l1',\\n                                                                                                  metric_params=None,\\n                                                                                                  n_jobs=1,\\n                                                                                                  n_neighbors=8,\\n                                                                                                  p=2,\\n                                                                                                  weights='distance'))],\\n                                                                     verbose=False))],\\n                                               flatten_transform=None,\\n                                               weights=[0.09090909090909091,\\n                                                        0.09090909090909091,\\n                                                        0.09090909090909091,\\n                                                        0.09090909090909091,\\n                                                        0.09090909090909091,\\n                                                        0.2727272727272727,\\n                                                        0.09090909090909091,\\n                                                        0.09090909090909091,\\n                                                        0.09090909090909091]))],\\n         verbose=False)\",\n",
       " 'friendly_errors': '{}',\n",
       " 'onnx_model_resource': \"{'RawColumnNameToOnnxNameMap': {'Pregnancies': 'Pregnancies', 'Glucose': 'Glucose', 'BloodPressure': 'BloodPressure', 'SkinThickness': 'SkinThickness', 'Insulin': 'Insulin', 'BMI': 'BMI', 'DiabetesPedigreeFunction': 'DiabetesPedigreeFunction', 'Age': 'Age'}, 'InputRawColumnSchema': {'Pregnancies': 'floating', 'Glucose': 'floating', 'BloodPressure': 'floating', 'SkinThickness': 'floating', 'Insulin': 'floating', 'BMI': 'floating', 'DiabetesPedigreeFunction': 'floating', 'Age': 'floating'}, 'InputOnnxColumnSchema': {'Pregnancies': 'FloatTensorType', 'Glucose': 'FloatTensorType', 'BloodPressure': 'FloatTensorType', 'SkinThickness': 'FloatTensorType', 'Insulin': 'FloatTensorType', 'BMI': 'FloatTensorType', 'DiabetesPedigreeFunction': 'FloatTensorType', 'Age': 'FloatTensorType'}, 'CanEnableBatchMode': False}\",\n",
       " 'error_code': '',\n",
       " 'failure_reason': '',\n",
       " 'feature_skus': 'automatedml_sdk_guardrails',\n",
       " 'dependencies_versions': '{\"azureml-train-automl-runtime\": \"1.19.0\", \"azureml-train-automl-client\": \"1.19.0\", \"azureml-telemetry\": \"1.19.0\", \"azureml-pipeline-core\": \"1.19.0\", \"azureml-model-management-sdk\": \"1.0.1b6.post1\", \"azureml-interpret\": \"1.19.0\", \"azureml-defaults\": \"1.19.0\", \"azureml-dataset-runtime\": \"1.19.0\", \"azureml-dataprep\": \"2.6.1\", \"azureml-dataprep-rslex\": \"1.4.0\", \"azureml-dataprep-native\": \"26.0.0\", \"azureml-core\": \"1.19.0\", \"azureml-automl-runtime\": \"1.19.0\", \"azureml-automl-core\": \"1.19.0\"}',\n",
       " 'num_cores': '4',\n",
       " 'num_logical_cores': '4',\n",
       " 'peak_memory_usage': '617644',\n",
       " 'vm_configuration': 'Intel(R) Xeon(R) Platinum 8171M CPU @ 2.60GHz',\n",
       " 'core_hours': '0.010138269444444445'}"
      ]
     },
     "execution_count": 12,
     "metadata": {},
     "output_type": "execute_result"
    }
   ],
   "source": [
    "# Retrieve the best automl run model\n",
    "best_automl_run, fitted_automl_model = remote_run.get_output()\n",
    "print(best_automl_run)\n",
    "\n",
    "# get best model and display properties\n",
    "model_name = best_automl_run.properties['model_name']\n",
    "print(\"Best Model:\", model_name)\n",
    "\n",
    "# display all the properties of the best model\n",
    "#best_automl_run #.properties\n",
    "best_automl_run.get_properties()"
   ]
  },
  {
   "cell_type": "code",
   "execution_count": 14,
   "metadata": {
    "gather": {
     "logged": 1609087817089
    },
    "jupyter": {
     "outputs_hidden": false,
     "source_hidden": false
    },
    "nteract": {
     "transient": {
      "deleting": false
     }
    }
   },
   "outputs": [
    {
     "name": "stdout",
     "output_type": "stream",
     "text": [
      "RunID: \tAutoML_9c657d87-738e-486e-8000-132a529f9873\n"
     ]
    }
   ],
   "source": [
    "# register best autoML model for future deployment\n",
    "os.makedirs('outputs', exist_ok=True)\n",
    "\n",
    "description = 'Diabetec'\n",
    "tags = {'area': 'health', 'type': 'classification'}\n",
    "automl_model = remote_run.register_model\n",
    "            (model_name = 'automl-best-model', \n",
    "            description = description, tags = tags)\n",
    "\n",
    "print(\"RunID: \", remote_run.id, sep='\\t')"
   ]
  },
  {
   "cell_type": "markdown",
   "metadata": {},
   "source": [
    "## Model Deployment\n",
    "\n",
    "Remember you have to deploy only one of the two models you trained.. Perform the steps in the rest of this notebook only if you wish to deploy this model.\n",
    "\n",
    "TODO: In the cell below, register the model, create an inference config and deploy the model as a web service."
   ]
  },
  {
   "cell_type": "code",
   "execution_count": 17,
   "metadata": {
    "gather": {
     "logged": 1598431435189
    },
    "jupyter": {
     "outputs_hidden": false,
     "source_hidden": false
    },
    "nteract": {
     "transient": {
      "deleting": false
     }
    }
   },
   "outputs": [
    {
     "name": "stdout",
     "output_type": "stream",
     "text": [
      "Tips: You can try get_logs(): https://aka.ms/debugimage#dockerlog or local deployment: https://aka.ms/debugimage#debug-locally to debug if deployment takes longer than 10 minutes.\n",
      "Running.................................."
     ]
    }
   ],
   "source": [
    "# deploy model as a web service\n",
    "from azureml.core.model import InferenceConfig\n",
    "from azureml.core.webservice import AciWebservice\n",
    "from azureml.core import Environment\n",
    "from azureml.core.model import Model\n",
    "\n",
    "service_name = 'puru-automl-service'\n",
    "env = Environment.get(workspace=ws, name=\"AzureML-Tutorial\")  \n",
    "env.python.conda_dependencies.add_pip_package(\"scikit-learn\")\n",
    "\n",
    "inference_config = InferenceConfig(entry_script='score.py', environment=env)\n",
    "aci_config = AciWebservice.deploy_configuration(cpu_cores=1, memory_gb=4, enable_app_insights=True, auth_enabled=True)\n",
    "\n",
    "model = Model(ws,name='automl-best-model')\n",
    "service = Model.deploy(workspace=ws,\n",
    "                       name=service_name,\n",
    "                       models=[model],\n",
    "                       inference_config=inference_config,\n",
    "                       deployment_config=aci_config,\n",
    "                       overwrite=True)\n",
    "\n",
    "service.wait_for_deployment(show_output=True)"
   ]
  },
  {
   "cell_type": "markdown",
   "metadata": {
    "collapsed": true,
    "gather": {
     "logged": 1598431657736
    },
    "jupyter": {
     "outputs_hidden": false,
     "source_hidden": false
    },
    "nteract": {
     "transient": {
      "deleting": false
     }
    }
   },
   "source": [
    "TODO: In the cell below, send a request to the web service you deployed to test it."
   ]
  },
  {
   "cell_type": "code",
   "execution_count": null,
   "metadata": {
    "gather": {
     "logged": 1598432707604
    },
    "jupyter": {
     "outputs_hidden": false,
     "source_hidden": false
    },
    "nteract": {
     "transient": {
      "deleting": false
     }
    }
   },
   "outputs": [],
   "source": [
    "print(service.get_logs())\n"
   ]
  },
  {
   "cell_type": "markdown",
   "metadata": {
    "collapsed": true,
    "gather": {
     "logged": 1598432765711
    },
    "jupyter": {
     "outputs_hidden": false,
     "source_hidden": false
    },
    "nteract": {
     "transient": {
      "deleting": false
     }
    }
   },
   "source": [
    "TODO: In the cell below, print the logs of the web service and delete the service"
   ]
  },
  {
   "cell_type": "code",
   "execution_count": null,
   "metadata": {
    "jupyter": {
     "outputs_hidden": false,
     "source_hidden": false
    },
    "nteract": {
     "transient": {
      "deleting": false
     }
    }
   },
   "outputs": [],
   "source": [
    "print(service.state)\n",
    "print(\"scoring URI: \" + service.scoring_uri)\n",
    "\n",
    "print(\"Swagger URI: \" + service.swagger_uri)\n",
    "\n",
    "print(\"Authetication Key: \" + service.get_keys())"
   ]
  },
  {
   "cell_type": "code",
   "execution_count": null,
   "metadata": {},
   "outputs": [],
   "source": [
    "import json\n",
    "\n",
    "input_payload = json.dumps({\n",
    "    'data': dataset_x[0:2].tolist(),\n",
    "    'method': 'predict'  # If you have a classification model, you can get probabilities by changing this to 'predict_proba'.\n",
    "})\n",
    "\n",
    "output = service.run(input_payload)\n",
    "\n",
    "print(output)"
   ]
  }
 ],
 "metadata": {
  "kernel_info": {
   "name": "python3"
  },
  "kernelspec": {
   "display_name": "Python 3",
   "language": "python",
   "name": "python3"
  },
  "language_info": {
   "codemirror_mode": {
    "name": "ipython",
    "version": 3
   },
   "file_extension": ".py",
   "mimetype": "text/x-python",
   "name": "python",
   "nbconvert_exporter": "python",
   "pygments_lexer": "ipython3",
   "version": "3.6.9"
  },
  "nteract": {
   "version": "nteract-front-end@1.0.0"
  }
 },
 "nbformat": 4,
 "nbformat_minor": 2
}
