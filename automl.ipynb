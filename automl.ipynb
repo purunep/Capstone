{
 "cells": [
  {
   "cell_type": "markdown",
   "metadata": {},
   "source": [
    "# Automated ML\n",
    "\n",
    "TODO: Import Dependencies. In the cell below, import all the dependencies that you will need to complete the project."
   ]
  },
  {
   "cell_type": "code",
   "execution_count": 1,
   "metadata": {
    "gather": {
     "logged": 1609085952213
    },
    "jupyter": {
     "outputs_hidden": false,
     "source_hidden": false
    },
    "nteract": {
     "transient": {
      "deleting": false
     }
    }
   },
   "outputs": [
    {
     "name": "stdout",
     "output_type": "stream",
     "text": [
      "SDK version: 1.19.0\n"
     ]
    }
   ],
   "source": [
    "import logging\n",
    "import os\n",
    "import csv\n",
    "\n",
    "from matplotlib import pyplot as plt\n",
    "import numpy as np\n",
    "import pandas as pd\n",
    "#from sklearn import datasets\n",
    "import pkg_resources\n",
    "\n",
    "import azureml.core\n",
    "from azureml.core.experiment import Experiment\n",
    "from azureml.core.workspace import Workspace\n",
    "from azureml.train.automl import AutoMLConfig\n",
    "#from azureml.core.dataset import Dataset\n",
    "\n",
    "from azureml.pipeline.steps import AutoMLStep\n",
    "\n",
    "# Check core SDK version number\n",
    "print(\"SDK version:\", azureml.core.VERSION)"
   ]
  },
  {
   "cell_type": "markdown",
   "metadata": {},
   "source": [
    "## Dataset\n",
    "\n",
    "### Overview\n",
    "TODO: In this markdown cell, give an overview of the dataset you are using. Also mention the task you will be performing.\n",
    "\n",
    "\n",
    "TODO: Get data. In the cell below, write code to access the data you will be using in this project. Remember that the dataset needs to be external."
   ]
  },
  {
   "cell_type": "code",
   "execution_count": 2,
   "metadata": {
    "gather": {
     "logged": 1609085965307
    },
    "jupyter": {
     "outputs_hidden": false,
     "source_hidden": false
    },
    "nteract": {
     "transient": {
      "deleting": false
     }
    }
   },
   "outputs": [],
   "source": [
    "ws = Workspace.from_config()\n",
    "\n",
    "# choose a name for experiment\n",
    "experiment_name = 'puru-auto-experiment'\n",
    "\n",
    "experiment=Experiment(ws, experiment_name)"
   ]
  },
  {
   "cell_type": "code",
   "execution_count": 3,
   "metadata": {
    "gather": {
     "logged": 1609085971002
    }
   },
   "outputs": [
    {
     "name": "stdout",
     "output_type": "stream",
     "text": [
      "Workspace name: quick-starts-ws-132399\n",
      "Azure region: southcentralus\n",
      "Subscription id: a24a24d5-8d87-4c8a-99b6-91ed2d2df51f\n",
      "Resource group: aml-quickstarts-132399\n"
     ]
    }
   ],
   "source": [
    "print('Workspace name: ' + ws.name, \n",
    "      'Azure region: ' + ws.location, \n",
    "      'Subscription id: ' + ws.subscription_id, \n",
    "      'Resource group: ' + ws.resource_group, sep = '\\n')"
   ]
  },
  {
   "cell_type": "code",
   "execution_count": 4,
   "metadata": {
    "gather": {
     "logged": 1609085988405
    }
   },
   "outputs": [
    {
     "name": "stdout",
     "output_type": "stream",
     "text": [
      "Found existing cluster, using it.\n",
      "Succeeded\n",
      "AmlCompute wait for completion finished\n",
      "\n",
      "Minimum number of nodes requested have been provisioned\n"
     ]
    }
   ],
   "source": [
    "# create or attach an existing compute cluster\n",
    "from azureml.core.compute import ComputeTarget, AmlCompute\n",
    "from azureml.core.compute_target import ComputeTargetException\n",
    "\n",
    "# set name of CPU cluster\n",
    "cpu_cluster_name = \"auto-ml\"\n",
    "\n",
    "# Verify that cluster does not exist already\n",
    "try:\n",
    "    cpu_cluster = ComputeTarget(workspace=ws, name=cpu_cluster_name)\n",
    "    print('Found existing cluster, using it.')\n",
    "except ComputeTargetException:\n",
    "    print('Creating a new compute target...')\n",
    "    compute_config = AmlCompute.provisioning_configuration(vm_size='STANDARD_D2_V2',\n",
    "                                                           max_nodes=4)\n",
    "    cpu_cluster = ComputeTarget.create(ws, cpu_cluster_name, compute_config)\n",
    "\n",
    "# wait for completion\n",
    "cpu_cluster.wait_for_completion(show_output=True)"
   ]
  },
  {
   "cell_type": "code",
   "execution_count": 5,
   "metadata": {
    "gather": {
     "logged": 1609086014420
    }
   },
   "outputs": [
    {
     "data": {
      "text/html": [
       "<div>\n",
       "<style scoped>\n",
       "    .dataframe tbody tr th:only-of-type {\n",
       "        vertical-align: middle;\n",
       "    }\n",
       "\n",
       "    .dataframe tbody tr th {\n",
       "        vertical-align: top;\n",
       "    }\n",
       "\n",
       "    .dataframe thead th {\n",
       "        text-align: right;\n",
       "    }\n",
       "</style>\n",
       "<table border=\"1\" class=\"dataframe\">\n",
       "  <thead>\n",
       "    <tr style=\"text-align: right;\">\n",
       "      <th></th>\n",
       "      <th>Pregnancies</th>\n",
       "      <th>Glucose</th>\n",
       "      <th>BloodPressure</th>\n",
       "      <th>SkinThickness</th>\n",
       "      <th>Insulin</th>\n",
       "      <th>BMI</th>\n",
       "      <th>DiabetesPedigreeFunction</th>\n",
       "      <th>Age</th>\n",
       "      <th>Outcome</th>\n",
       "    </tr>\n",
       "  </thead>\n",
       "  <tbody>\n",
       "    <tr>\n",
       "      <th>count</th>\n",
       "      <td>768.000000</td>\n",
       "      <td>768.000000</td>\n",
       "      <td>768.000000</td>\n",
       "      <td>768.000000</td>\n",
       "      <td>768.000000</td>\n",
       "      <td>768.000000</td>\n",
       "      <td>768.000000</td>\n",
       "      <td>768.000000</td>\n",
       "      <td>768.000000</td>\n",
       "    </tr>\n",
       "    <tr>\n",
       "      <th>mean</th>\n",
       "      <td>3.845052</td>\n",
       "      <td>120.894531</td>\n",
       "      <td>69.105469</td>\n",
       "      <td>20.536458</td>\n",
       "      <td>79.799479</td>\n",
       "      <td>31.992578</td>\n",
       "      <td>0.471876</td>\n",
       "      <td>33.240885</td>\n",
       "      <td>0.348958</td>\n",
       "    </tr>\n",
       "    <tr>\n",
       "      <th>std</th>\n",
       "      <td>3.369578</td>\n",
       "      <td>31.972618</td>\n",
       "      <td>19.355807</td>\n",
       "      <td>15.952218</td>\n",
       "      <td>115.244002</td>\n",
       "      <td>7.884160</td>\n",
       "      <td>0.331329</td>\n",
       "      <td>11.760232</td>\n",
       "      <td>0.476951</td>\n",
       "    </tr>\n",
       "    <tr>\n",
       "      <th>min</th>\n",
       "      <td>0.000000</td>\n",
       "      <td>0.000000</td>\n",
       "      <td>0.000000</td>\n",
       "      <td>0.000000</td>\n",
       "      <td>0.000000</td>\n",
       "      <td>0.000000</td>\n",
       "      <td>0.078000</td>\n",
       "      <td>21.000000</td>\n",
       "      <td>0.000000</td>\n",
       "    </tr>\n",
       "    <tr>\n",
       "      <th>25%</th>\n",
       "      <td>1.000000</td>\n",
       "      <td>99.000000</td>\n",
       "      <td>62.000000</td>\n",
       "      <td>0.000000</td>\n",
       "      <td>0.000000</td>\n",
       "      <td>27.300000</td>\n",
       "      <td>0.243750</td>\n",
       "      <td>24.000000</td>\n",
       "      <td>0.000000</td>\n",
       "    </tr>\n",
       "    <tr>\n",
       "      <th>50%</th>\n",
       "      <td>3.000000</td>\n",
       "      <td>117.000000</td>\n",
       "      <td>72.000000</td>\n",
       "      <td>23.000000</td>\n",
       "      <td>30.500000</td>\n",
       "      <td>32.000000</td>\n",
       "      <td>0.372500</td>\n",
       "      <td>29.000000</td>\n",
       "      <td>0.000000</td>\n",
       "    </tr>\n",
       "    <tr>\n",
       "      <th>75%</th>\n",
       "      <td>6.000000</td>\n",
       "      <td>140.250000</td>\n",
       "      <td>80.000000</td>\n",
       "      <td>32.000000</td>\n",
       "      <td>127.250000</td>\n",
       "      <td>36.600000</td>\n",
       "      <td>0.626250</td>\n",
       "      <td>41.000000</td>\n",
       "      <td>1.000000</td>\n",
       "    </tr>\n",
       "    <tr>\n",
       "      <th>max</th>\n",
       "      <td>17.000000</td>\n",
       "      <td>199.000000</td>\n",
       "      <td>122.000000</td>\n",
       "      <td>99.000000</td>\n",
       "      <td>846.000000</td>\n",
       "      <td>67.100000</td>\n",
       "      <td>2.420000</td>\n",
       "      <td>81.000000</td>\n",
       "      <td>1.000000</td>\n",
       "    </tr>\n",
       "  </tbody>\n",
       "</table>\n",
       "</div>"
      ],
      "text/plain": [
       "       Pregnancies     Glucose  BloodPressure  SkinThickness     Insulin  \\\n",
       "count   768.000000  768.000000     768.000000     768.000000  768.000000   \n",
       "mean      3.845052  120.894531      69.105469      20.536458   79.799479   \n",
       "std       3.369578   31.972618      19.355807      15.952218  115.244002   \n",
       "min       0.000000    0.000000       0.000000       0.000000    0.000000   \n",
       "25%       1.000000   99.000000      62.000000       0.000000    0.000000   \n",
       "50%       3.000000  117.000000      72.000000      23.000000   30.500000   \n",
       "75%       6.000000  140.250000      80.000000      32.000000  127.250000   \n",
       "max      17.000000  199.000000     122.000000      99.000000  846.000000   \n",
       "\n",
       "              BMI  DiabetesPedigreeFunction         Age     Outcome  \n",
       "count  768.000000                768.000000  768.000000  768.000000  \n",
       "mean    31.992578                  0.471876   33.240885    0.348958  \n",
       "std      7.884160                  0.331329   11.760232    0.476951  \n",
       "min      0.000000                  0.078000   21.000000    0.000000  \n",
       "25%     27.300000                  0.243750   24.000000    0.000000  \n",
       "50%     32.000000                  0.372500   29.000000    0.000000  \n",
       "75%     36.600000                  0.626250   41.000000    1.000000  \n",
       "max     67.100000                  2.420000   81.000000    1.000000  "
      ]
     },
     "execution_count": 5,
     "metadata": {},
     "output_type": "execute_result"
    }
   ],
   "source": [
    "from azureml.data.dataset_factory import TabularDatasetFactory\n",
    "from azureml.core import Dataset\n",
    "# NOTE: update the key to match the dataset name\n",
    "found = False\n",
    "key = \"diabetes-classification\"\n",
    "description_text = \"Diabetes datasets for capstone project\"\n",
    "\n",
    "if key in ws.datasets.keys(): \n",
    "        found = True        \n",
    "        dataset = ws.datasets[key] \n",
    "\n",
    "if not found:\n",
    "        # Create Hyperdrive Dataset and register it into Workspace\n",
    "        url = 'https://raw.githubusercontent.com/purunep/Capstone/main/project/data/diabetes.csv'\n",
    "        dataset = Dataset.Tabular.from_delimited_files(url)        \n",
    "        #Register Dataset in Workspace\n",
    "        dataset = dataset.register(workspace=ws,\n",
    "                                   name=key,\n",
    "                                   description=description_text)\n",
    "\n",
    "\n",
    "df = dataset.to_pandas_dataframe()\n",
    "df.describe()\n",
    "\n",
    "#from train import clean_data\n",
    "#[x_data, y_data] = clean_data(dataset)"
   ]
  },
  {
   "cell_type": "code",
   "execution_count": 6,
   "metadata": {
    "gather": {
     "logged": 1609086049040
    }
   },
   "outputs": [
    {
     "data": {
      "text/html": [
       "<div>\n",
       "<style scoped>\n",
       "    .dataframe tbody tr th:only-of-type {\n",
       "        vertical-align: middle;\n",
       "    }\n",
       "\n",
       "    .dataframe tbody tr th {\n",
       "        vertical-align: top;\n",
       "    }\n",
       "\n",
       "    .dataframe thead th {\n",
       "        text-align: right;\n",
       "    }\n",
       "</style>\n",
       "<table border=\"1\" class=\"dataframe\">\n",
       "  <thead>\n",
       "    <tr style=\"text-align: right;\">\n",
       "      <th></th>\n",
       "      <th>Pregnancies</th>\n",
       "      <th>Glucose</th>\n",
       "      <th>BloodPressure</th>\n",
       "      <th>SkinThickness</th>\n",
       "      <th>Insulin</th>\n",
       "      <th>BMI</th>\n",
       "      <th>DiabetesPedigreeFunction</th>\n",
       "      <th>Age</th>\n",
       "      <th>Outcome</th>\n",
       "    </tr>\n",
       "  </thead>\n",
       "  <tbody>\n",
       "    <tr>\n",
       "      <th>603</th>\n",
       "      <td>7</td>\n",
       "      <td>150</td>\n",
       "      <td>78</td>\n",
       "      <td>29</td>\n",
       "      <td>126</td>\n",
       "      <td>35.2</td>\n",
       "      <td>0.692</td>\n",
       "      <td>54</td>\n",
       "      <td>1</td>\n",
       "    </tr>\n",
       "    <tr>\n",
       "      <th>118</th>\n",
       "      <td>4</td>\n",
       "      <td>97</td>\n",
       "      <td>60</td>\n",
       "      <td>23</td>\n",
       "      <td>0</td>\n",
       "      <td>28.2</td>\n",
       "      <td>0.443</td>\n",
       "      <td>22</td>\n",
       "      <td>0</td>\n",
       "    </tr>\n",
       "    <tr>\n",
       "      <th>247</th>\n",
       "      <td>0</td>\n",
       "      <td>165</td>\n",
       "      <td>90</td>\n",
       "      <td>33</td>\n",
       "      <td>680</td>\n",
       "      <td>52.3</td>\n",
       "      <td>0.427</td>\n",
       "      <td>23</td>\n",
       "      <td>0</td>\n",
       "    </tr>\n",
       "    <tr>\n",
       "      <th>157</th>\n",
       "      <td>1</td>\n",
       "      <td>109</td>\n",
       "      <td>56</td>\n",
       "      <td>21</td>\n",
       "      <td>135</td>\n",
       "      <td>25.2</td>\n",
       "      <td>0.833</td>\n",
       "      <td>23</td>\n",
       "      <td>0</td>\n",
       "    </tr>\n",
       "    <tr>\n",
       "      <th>468</th>\n",
       "      <td>8</td>\n",
       "      <td>120</td>\n",
       "      <td>0</td>\n",
       "      <td>0</td>\n",
       "      <td>0</td>\n",
       "      <td>30.0</td>\n",
       "      <td>0.183</td>\n",
       "      <td>38</td>\n",
       "      <td>1</td>\n",
       "    </tr>\n",
       "  </tbody>\n",
       "</table>\n",
       "</div>"
      ],
      "text/plain": [
       "     Pregnancies  Glucose  BloodPressure  SkinThickness  Insulin   BMI  \\\n",
       "603            7      150             78             29      126  35.2   \n",
       "118            4       97             60             23        0  28.2   \n",
       "247            0      165             90             33      680  52.3   \n",
       "157            1      109             56             21      135  25.2   \n",
       "468            8      120              0              0        0  30.0   \n",
       "\n",
       "     DiabetesPedigreeFunction  Age  Outcome  \n",
       "603                     0.692   54        1  \n",
       "118                     0.443   22        0  \n",
       "247                     0.427   23        0  \n",
       "157                     0.833   23        0  \n",
       "468                     0.183   38        1  "
      ]
     },
     "execution_count": 6,
     "metadata": {},
     "output_type": "execute_result"
    }
   ],
   "source": [
    "# prepare dataset for model training\n",
    "#import sys\n",
    "#sys.path.insert(0,./training)\n",
    "\n",
    "from train import clean_data\n",
    "from sklearn.model_selection import train_test_split\n",
    "import pandas as pd\n",
    "\n",
    "# Clean dataset using the clean_data function\n",
    "x, y = clean_data(dataset)\n",
    "\n",
    "# split dataset into train and test sets\n",
    "(x_train, x_test, y_train, y_test) = train_test_split(x, y, test_size= 0.2, random_state = 0)\n",
    "label = 'Outcome'\n",
    "\n",
    "# merge the output x and y dataframes into a single table for AutoML experiment\n",
    "train_data_df = pd.concat([x_train, y_train], axis=1)\n",
    "\n",
    "train_data_df.head()"
   ]
  },
  {
   "cell_type": "code",
   "execution_count": 7,
   "metadata": {
    "gather": {
     "logged": 1609086075784
    }
   },
   "outputs": [
    {
     "name": "stdout",
     "output_type": "stream",
     "text": [
      "Uploading an estimated of 1 files\n",
      "Uploading ./data/train_data.csv\n",
      "Uploaded ./data/train_data.csv, 1 files out of an estimated total of 1\n",
      "Uploaded 1 files\n"
     ]
    }
   ],
   "source": [
    "from azureml.data.dataset_factory import TabularDatasetFactory\n",
    "# save training data in tabular format to allow for remote run\n",
    "if not os.path.isdir('data'):  # create data folder if it does not exist\n",
    "    os.mkdir('data')\n",
    "    \n",
    "if not os.path.exists('project_folder'):  # create project folder if it does not exist\n",
    "    os.makedirs('project_folder')\n",
    "\n",
    "# Save the train data to a csv file to be uploaded to the datastore\n",
    "pd.DataFrame(train_data_df).to_csv(\"data/train_data.csv\", index=False)\n",
    "\n",
    "# Upload the training data as a tabular dataset for access during training on remote compute\n",
    "# upload to data store\n",
    "ds = ws.get_default_datastore()\n",
    "ds.upload(src_dir='./data', target_path='automlclassifier', overwrite=True, show_progress=True)\n",
    "\n",
    " # access datastore during training on remote compute\n",
    "train_data = TabularDatasetFactory.from_delimited_files(path=ds.path('automlclassifier/train_data.csv'))"
   ]
  },
  {
   "cell_type": "markdown",
   "metadata": {},
   "source": [
    "## AutoML Configuration\n",
    "\n",
    "TODO: Explain why you chose the automl settings and cofiguration you used below."
   ]
  },
  {
   "cell_type": "code",
   "execution_count": 10,
   "metadata": {
    "gather": {
     "logged": 1609086107873
    }
   },
   "outputs": [],
   "source": [
    "project_folder = './puruautoml'\n",
    "automl_settings = {\n",
    "    \"enable_early_stopping\" : True,\n",
    "    \"iteration_timeout_minutes\": 5,\n",
    "    \"max_concurrent_iterations\": 4,\n",
    "    \"max_cores_per_iteration\": -1,    \n",
    "    \"featurization\": 'auto',\n",
    "    \"verbosity\": logging.INFO,\n",
    "}\n",
    "\n",
    "# define automl autconfig parameters\n",
    "automl_config = AutoMLConfig(\n",
    "    experiment_timeout_minutes=30,\n",
    "    task= 'classification',\n",
    "    primary_metric='accuracy',\n",
    "    enable_onnx_compatible_models=True,\n",
    "    compute_target=cpu_cluster, # included to allow for remote compute\n",
    "    training_data= train_data,\n",
    "    label_column_name= label,\n",
    "    path = project_folder,\n",
    "    n_cross_validations=3,\n",
    "    debug_log = \"automl_errors.log\",    \n",
    "    **automl_settings)"
   ]
  },
  {
   "cell_type": "code",
   "execution_count": 11,
   "metadata": {
    "gather": {
     "logged": 1609086121536
    },
    "jupyter": {
     "outputs_hidden": false,
     "source_hidden": false
    },
    "nteract": {
     "transient": {
      "deleting": false
     }
    }
   },
   "outputs": [
    {
     "name": "stdout",
     "output_type": "stream",
     "text": [
      "Running on remote.\n"
     ]
    }
   ],
   "source": [
    "# TODO: Submit your experiment\n",
    "remote_run = experiment.submit(automl_config)"
   ]
  },
  {
   "cell_type": "markdown",
   "metadata": {},
   "source": [
    "## Run Details\n",
    "\n",
    "OPTIONAL: Write about the different models trained and their performance. Why do you think some models did better than others?\n",
    "\n",
    "TODO: In the cell below, use the `RunDetails` widget to show the different experiments."
   ]
  },
  {
   "cell_type": "code",
   "execution_count": 12,
   "metadata": {
    "gather": {
     "logged": 1609087524171
    },
    "jupyter": {
     "outputs_hidden": false,
     "source_hidden": false
    },
    "nteract": {
     "transient": {
      "deleting": false
     }
    }
   },
   "outputs": [
    {
     "data": {
      "application/vnd.jupyter.widget-view+json": {
       "model_id": "7ced8b6c2ed34754b0aa0a06948c7295",
       "version_major": 2,
       "version_minor": 0
      },
      "text/plain": [
       "_AutoMLWidget(widget_settings={'childWidgetDisplay': 'popup', 'send_telemetry': False, 'log_level': 'INFO', 's…"
      ]
     },
     "metadata": {},
     "output_type": "display_data"
    },
    {
     "data": {
      "application/aml.mini.widget.v1": "{\"status\": \"Completed\", \"workbench_run_details_uri\": \"https://ml.azure.com/experiments/puru-auto-experiment/runs/AutoML_2ec3f21f-9a94-4fa9-bc86-654faf41cb71?wsid=/subscriptions/a24a24d5-8d87-4c8a-99b6-91ed2d2df51f/resourcegroups/aml-quickstarts-132399/workspaces/quick-starts-ws-132399\", \"run_id\": \"AutoML_2ec3f21f-9a94-4fa9-bc86-654faf41cb71\", \"run_properties\": {\"run_id\": \"AutoML_2ec3f21f-9a94-4fa9-bc86-654faf41cb71\", \"created_utc\": \"2020-12-29T22:42:17.650857Z\", \"properties\": {\"num_iterations\": \"1000\", \"training_type\": \"TrainFull\", \"acquisition_function\": \"EI\", \"primary_metric\": \"accuracy\", \"train_split\": \"0\", \"acquisition_parameter\": \"0\", \"num_cross_validation\": \"3\", \"target\": \"auto-ml\", \"AMLSettingsJsonString\": \"{\\\"path\\\":null,\\\"name\\\":\\\"puru-auto-experiment\\\",\\\"subscription_id\\\":\\\"a24a24d5-8d87-4c8a-99b6-91ed2d2df51f\\\",\\\"resource_group\\\":\\\"aml-quickstarts-132399\\\",\\\"workspace_name\\\":\\\"quick-starts-ws-132399\\\",\\\"region\\\":\\\"southcentralus\\\",\\\"compute_target\\\":\\\"auto-ml\\\",\\\"spark_service\\\":null,\\\"azure_service\\\":\\\"remote\\\",\\\"many_models\\\":false,\\\"pipeline_fetch_max_batch_size\\\":1,\\\"iterations\\\":1000,\\\"primary_metric\\\":\\\"accuracy\\\",\\\"task_type\\\":\\\"classification\\\",\\\"data_script\\\":null,\\\"validation_size\\\":0.0,\\\"n_cross_validations\\\":3,\\\"y_min\\\":null,\\\"y_max\\\":null,\\\"num_classes\\\":null,\\\"featurization\\\":\\\"auto\\\",\\\"_ignore_package_version_incompatibilities\\\":false,\\\"is_timeseries\\\":false,\\\"max_cores_per_iteration\\\":-1,\\\"max_concurrent_iterations\\\":4,\\\"iteration_timeout_minutes\\\":5,\\\"mem_in_mb\\\":null,\\\"enforce_time_on_windows\\\":false,\\\"experiment_timeout_minutes\\\":30,\\\"experiment_exit_score\\\":null,\\\"whitelist_models\\\":null,\\\"blacklist_algos\\\":[\\\"TensorFlowLinearClassifier\\\",\\\"TensorFlowDNN\\\"],\\\"supported_models\\\":[\\\"RandomForest\\\",\\\"KNN\\\",\\\"SGD\\\",\\\"GradientBoosting\\\",\\\"LightGBM\\\",\\\"DecisionTree\\\",\\\"ExtremeRandomTrees\\\",\\\"BernoulliNaiveBayes\\\",\\\"TensorFlowDNN\\\",\\\"LinearSVM\\\",\\\"XGBoostClassifier\\\",\\\"SVM\\\",\\\"AveragedPerceptronClassifier\\\",\\\"MultinomialNaiveBayes\\\",\\\"TensorFlowLinearClassifier\\\",\\\"LogisticRegression\\\"],\\\"auto_blacklist\\\":true,\\\"blacklist_samples_reached\\\":false,\\\"exclude_nan_labels\\\":true,\\\"verbosity\\\":20,\\\"_debug_log\\\":\\\"azureml_automl.log\\\",\\\"show_warnings\\\":false,\\\"model_explainability\\\":true,\\\"service_url\\\":null,\\\"sdk_url\\\":null,\\\"sdk_packages\\\":null,\\\"enable_onnx_compatible_models\\\":true,\\\"enable_split_onnx_featurizer_estimator_models\\\":false,\\\"vm_type\\\":\\\"STANDARD_D2_V2\\\",\\\"telemetry_verbosity\\\":20,\\\"send_telemetry\\\":true,\\\"enable_dnn\\\":false,\\\"scenario\\\":\\\"SDK-1.13.0\\\",\\\"environment_label\\\":null,\\\"force_text_dnn\\\":false,\\\"enable_feature_sweeping\\\":false,\\\"enable_early_stopping\\\":true,\\\"early_stopping_n_iters\\\":10,\\\"metrics\\\":null,\\\"enable_ensembling\\\":true,\\\"enable_stack_ensembling\\\":false,\\\"ensemble_iterations\\\":15,\\\"enable_tf\\\":false,\\\"enable_subsampling\\\":null,\\\"subsample_seed\\\":null,\\\"enable_nimbusml\\\":false,\\\"enable_streaming\\\":false,\\\"force_streaming\\\":false,\\\"track_child_runs\\\":true,\\\"allowed_private_models\\\":[],\\\"label_column_name\\\":\\\"Outcome\\\",\\\"weight_column_name\\\":null,\\\"cv_split_column_names\\\":null,\\\"enable_local_managed\\\":false,\\\"_local_managed_run_id\\\":null,\\\"cost_mode\\\":1,\\\"lag_length\\\":0,\\\"metric_operation\\\":\\\"maximize\\\",\\\"preprocess\\\":true}\", \"DataPrepJsonString\": \"{\\\\\\\"training_data\\\\\\\": \\\\\\\"{\\\\\\\\\\\\\\\"blocks\\\\\\\\\\\\\\\": [{\\\\\\\\\\\\\\\"id\\\\\\\\\\\\\\\": \\\\\\\\\\\\\\\"135e086c-1d7e-4889-b4c5-e8b4506b4ed6\\\\\\\\\\\\\\\", \\\\\\\\\\\\\\\"type\\\\\\\\\\\\\\\": \\\\\\\\\\\\\\\"Microsoft.DPrep.GetDatastoreFilesBlock\\\\\\\\\\\\\\\", \\\\\\\\\\\\\\\"arguments\\\\\\\\\\\\\\\": {\\\\\\\\\\\\\\\"datastores\\\\\\\\\\\\\\\": [{\\\\\\\\\\\\\\\"datastoreName\\\\\\\\\\\\\\\": \\\\\\\\\\\\\\\"workspaceblobstore\\\\\\\\\\\\\\\", \\\\\\\\\\\\\\\"path\\\\\\\\\\\\\\\": \\\\\\\\\\\\\\\"automlclassifier/train_data.csv\\\\\\\\\\\\\\\", \\\\\\\\\\\\\\\"resourceGroup\\\\\\\\\\\\\\\": \\\\\\\\\\\\\\\"aml-quickstarts-132399\\\\\\\\\\\\\\\", \\\\\\\\\\\\\\\"subscription\\\\\\\\\\\\\\\": \\\\\\\\\\\\\\\"a24a24d5-8d87-4c8a-99b6-91ed2d2df51f\\\\\\\\\\\\\\\", \\\\\\\\\\\\\\\"workspaceName\\\\\\\\\\\\\\\": \\\\\\\\\\\\\\\"quick-starts-ws-132399\\\\\\\\\\\\\\\"}]}, \\\\\\\\\\\\\\\"localData\\\\\\\\\\\\\\\": {}, \\\\\\\\\\\\\\\"isEnabled\\\\\\\\\\\\\\\": true, \\\\\\\\\\\\\\\"name\\\\\\\\\\\\\\\": null, \\\\\\\\\\\\\\\"annotation\\\\\\\\\\\\\\\": null}, {\\\\\\\\\\\\\\\"id\\\\\\\\\\\\\\\": \\\\\\\\\\\\\\\"eed64a23-67cd-4b33-a073-629576c7b340\\\\\\\\\\\\\\\", \\\\\\\\\\\\\\\"type\\\\\\\\\\\\\\\": \\\\\\\\\\\\\\\"Microsoft.DPrep.ParseDelimitedBlock\\\\\\\\\\\\\\\", \\\\\\\\\\\\\\\"arguments\\\\\\\\\\\\\\\": {\\\\\\\\\\\\\\\"columnHeadersMode\\\\\\\\\\\\\\\": 3, \\\\\\\\\\\\\\\"fileEncoding\\\\\\\\\\\\\\\": 0, \\\\\\\\\\\\\\\"handleQuotedLineBreaks\\\\\\\\\\\\\\\": false, \\\\\\\\\\\\\\\"preview\\\\\\\\\\\\\\\": false, \\\\\\\\\\\\\\\"separator\\\\\\\\\\\\\\\": \\\\\\\\\\\\\\\",\\\\\\\\\\\\\\\", \\\\\\\\\\\\\\\"skipRows\\\\\\\\\\\\\\\": 0, \\\\\\\\\\\\\\\"skipRowsMode\\\\\\\\\\\\\\\": 0}, \\\\\\\\\\\\\\\"localData\\\\\\\\\\\\\\\": {}, \\\\\\\\\\\\\\\"isEnabled\\\\\\\\\\\\\\\": true, \\\\\\\\\\\\\\\"name\\\\\\\\\\\\\\\": null, \\\\\\\\\\\\\\\"annotation\\\\\\\\\\\\\\\": null}, {\\\\\\\\\\\\\\\"id\\\\\\\\\\\\\\\": \\\\\\\\\\\\\\\"5c4cf450-2533-42dd-9187-3bf7b2803377\\\\\\\\\\\\\\\", \\\\\\\\\\\\\\\"type\\\\\\\\\\\\\\\": \\\\\\\\\\\\\\\"Microsoft.DPrep.DropColumnsBlock\\\\\\\\\\\\\\\", \\\\\\\\\\\\\\\"arguments\\\\\\\\\\\\\\\": {\\\\\\\\\\\\\\\"columns\\\\\\\\\\\\\\\": {\\\\\\\\\\\\\\\"type\\\\\\\\\\\\\\\": 0, \\\\\\\\\\\\\\\"details\\\\\\\\\\\\\\\": {\\\\\\\\\\\\\\\"selectedColumns\\\\\\\\\\\\\\\": [\\\\\\\\\\\\\\\"Path\\\\\\\\\\\\\\\"]}}}, \\\\\\\\\\\\\\\"localData\\\\\\\\\\\\\\\": {}, \\\\\\\\\\\\\\\"isEnabled\\\\\\\\\\\\\\\": true, \\\\\\\\\\\\\\\"name\\\\\\\\\\\\\\\": null, \\\\\\\\\\\\\\\"annotation\\\\\\\\\\\\\\\": null}, {\\\\\\\\\\\\\\\"id\\\\\\\\\\\\\\\": \\\\\\\\\\\\\\\"8a72e267-35b5-46d2-8136-d37fde140ee7\\\\\\\\\\\\\\\", \\\\\\\\\\\\\\\"type\\\\\\\\\\\\\\\": \\\\\\\\\\\\\\\"Microsoft.DPrep.SetColumnTypesBlock\\\\\\\\\\\\\\\", \\\\\\\\\\\\\\\"arguments\\\\\\\\\\\\\\\": {\\\\\\\\\\\\\\\"columnConversion\\\\\\\\\\\\\\\": [{\\\\\\\\\\\\\\\"column\\\\\\\\\\\\\\\": {\\\\\\\\\\\\\\\"type\\\\\\\\\\\\\\\": 2, \\\\\\\\\\\\\\\"details\\\\\\\\\\\\\\\": {\\\\\\\\\\\\\\\"selectedColumn\\\\\\\\\\\\\\\": \\\\\\\\\\\\\\\"Pregnancies\\\\\\\\\\\\\\\"}}, \\\\\\\\\\\\\\\"typeProperty\\\\\\\\\\\\\\\": 2}, {\\\\\\\\\\\\\\\"column\\\\\\\\\\\\\\\": {\\\\\\\\\\\\\\\"type\\\\\\\\\\\\\\\": 2, \\\\\\\\\\\\\\\"details\\\\\\\\\\\\\\\": {\\\\\\\\\\\\\\\"selectedColumn\\\\\\\\\\\\\\\": \\\\\\\\\\\\\\\"Glucose\\\\\\\\\\\\\\\"}}, \\\\\\\\\\\\\\\"typeProperty\\\\\\\\\\\\\\\": 2}, {\\\\\\\\\\\\\\\"column\\\\\\\\\\\\\\\": {\\\\\\\\\\\\\\\"type\\\\\\\\\\\\\\\": 2, \\\\\\\\\\\\\\\"details\\\\\\\\\\\\\\\": {\\\\\\\\\\\\\\\"selectedColumn\\\\\\\\\\\\\\\": \\\\\\\\\\\\\\\"BloodPressure\\\\\\\\\\\\\\\"}}, \\\\\\\\\\\\\\\"typeProperty\\\\\\\\\\\\\\\": 2}, {\\\\\\\\\\\\\\\"column\\\\\\\\\\\\\\\": {\\\\\\\\\\\\\\\"type\\\\\\\\\\\\\\\": 2, \\\\\\\\\\\\\\\"details\\\\\\\\\\\\\\\": {\\\\\\\\\\\\\\\"selectedColumn\\\\\\\\\\\\\\\": \\\\\\\\\\\\\\\"SkinThickness\\\\\\\\\\\\\\\"}}, \\\\\\\\\\\\\\\"typeProperty\\\\\\\\\\\\\\\": 2}, {\\\\\\\\\\\\\\\"column\\\\\\\\\\\\\\\": {\\\\\\\\\\\\\\\"type\\\\\\\\\\\\\\\": 2, \\\\\\\\\\\\\\\"details\\\\\\\\\\\\\\\": {\\\\\\\\\\\\\\\"selectedColumn\\\\\\\\\\\\\\\": \\\\\\\\\\\\\\\"Insulin\\\\\\\\\\\\\\\"}}, \\\\\\\\\\\\\\\"typeProperty\\\\\\\\\\\\\\\": 2}, {\\\\\\\\\\\\\\\"column\\\\\\\\\\\\\\\": {\\\\\\\\\\\\\\\"type\\\\\\\\\\\\\\\": 2, \\\\\\\\\\\\\\\"details\\\\\\\\\\\\\\\": {\\\\\\\\\\\\\\\"selectedColumn\\\\\\\\\\\\\\\": \\\\\\\\\\\\\\\"BMI\\\\\\\\\\\\\\\"}}, \\\\\\\\\\\\\\\"typeProperty\\\\\\\\\\\\\\\": 3}, {\\\\\\\\\\\\\\\"column\\\\\\\\\\\\\\\": {\\\\\\\\\\\\\\\"type\\\\\\\\\\\\\\\": 2, \\\\\\\\\\\\\\\"details\\\\\\\\\\\\\\\": {\\\\\\\\\\\\\\\"selectedColumn\\\\\\\\\\\\\\\": \\\\\\\\\\\\\\\"DiabetesPedigreeFunction\\\\\\\\\\\\\\\"}}, \\\\\\\\\\\\\\\"typeProperty\\\\\\\\\\\\\\\": 3}, {\\\\\\\\\\\\\\\"column\\\\\\\\\\\\\\\": {\\\\\\\\\\\\\\\"type\\\\\\\\\\\\\\\": 2, \\\\\\\\\\\\\\\"details\\\\\\\\\\\\\\\": {\\\\\\\\\\\\\\\"selectedColumn\\\\\\\\\\\\\\\": \\\\\\\\\\\\\\\"Age\\\\\\\\\\\\\\\"}}, \\\\\\\\\\\\\\\"typeProperty\\\\\\\\\\\\\\\": 2}, {\\\\\\\\\\\\\\\"column\\\\\\\\\\\\\\\": {\\\\\\\\\\\\\\\"type\\\\\\\\\\\\\\\": 2, \\\\\\\\\\\\\\\"details\\\\\\\\\\\\\\\": {\\\\\\\\\\\\\\\"selectedColumn\\\\\\\\\\\\\\\": \\\\\\\\\\\\\\\"Outcome\\\\\\\\\\\\\\\"}}, \\\\\\\\\\\\\\\"typeProperty\\\\\\\\\\\\\\\": 2}]}, \\\\\\\\\\\\\\\"localData\\\\\\\\\\\\\\\": {}, \\\\\\\\\\\\\\\"isEnabled\\\\\\\\\\\\\\\": true, \\\\\\\\\\\\\\\"name\\\\\\\\\\\\\\\": null, \\\\\\\\\\\\\\\"annotation\\\\\\\\\\\\\\\": null}], \\\\\\\\\\\\\\\"inspectors\\\\\\\\\\\\\\\": [], \\\\\\\\\\\\\\\"meta\\\\\\\\\\\\\\\": {\\\\\\\\\\\\\\\"savedDatasetId\\\\\\\\\\\\\\\": \\\\\\\\\\\\\\\"39088d6a-562c-44a5-b09e-331f13ab9482\\\\\\\\\\\\\\\", \\\\\\\\\\\\\\\"datasetType\\\\\\\\\\\\\\\": \\\\\\\\\\\\\\\"tabular\\\\\\\\\\\\\\\", \\\\\\\\\\\\\\\"subscriptionId\\\\\\\\\\\\\\\": \\\\\\\\\\\\\\\"a24a24d5-8d87-4c8a-99b6-91ed2d2df51f\\\\\\\\\\\\\\\", \\\\\\\\\\\\\\\"workspaceId\\\\\\\\\\\\\\\": \\\\\\\\\\\\\\\"b53a05d5-7580-4b0e-9c12-3eb1ca3a23e1\\\\\\\\\\\\\\\", \\\\\\\\\\\\\\\"workspaceLocation\\\\\\\\\\\\\\\": \\\\\\\\\\\\\\\"southcentralus\\\\\\\\\\\\\\\"}}\\\\\\\", \\\\\\\"activities\\\\\\\": 0}\", \"EnableSubsampling\": null, \"runTemplate\": \"AutoML\", \"azureml.runsource\": \"automl\", \"display_task_type\": \"classification\", \"dependencies_versions\": \"{\\\"azureml-widgets\\\": \\\"1.19.0\\\", \\\"azureml-train\\\": \\\"1.19.0\\\", \\\"azureml-train-restclients-hyperdrive\\\": \\\"1.19.0\\\", \\\"azureml-train-core\\\": \\\"1.19.0\\\", \\\"azureml-train-automl\\\": \\\"1.19.0\\\", \\\"azureml-train-automl-runtime\\\": \\\"1.19.0\\\", \\\"azureml-train-automl-client\\\": \\\"1.19.0\\\", \\\"azureml-tensorboard\\\": \\\"1.19.0\\\", \\\"azureml-telemetry\\\": \\\"1.19.0\\\", \\\"azureml-sdk\\\": \\\"1.19.0\\\", \\\"azureml-samples\\\": \\\"0+unknown\\\", \\\"azureml-pipeline\\\": \\\"1.19.0\\\", \\\"azureml-pipeline-steps\\\": \\\"1.19.0\\\", \\\"azureml-pipeline-core\\\": \\\"1.19.0\\\", \\\"azureml-opendatasets\\\": \\\"1.19.0\\\", \\\"azureml-model-management-sdk\\\": \\\"1.0.1b6.post1\\\", \\\"azureml-mlflow\\\": \\\"1.19.0\\\", \\\"azureml-interpret\\\": \\\"1.19.0\\\", \\\"azureml-explain-model\\\": \\\"1.19.0\\\", \\\"azureml-defaults\\\": \\\"1.19.0\\\", \\\"azureml-dataset-runtime\\\": \\\"1.19.0\\\", \\\"azureml-dataprep\\\": \\\"2.6.1\\\", \\\"azureml-dataprep-rslex\\\": \\\"1.4.0\\\", \\\"azureml-dataprep-native\\\": \\\"26.0.0\\\", \\\"azureml-datadrift\\\": \\\"1.19.0\\\", \\\"azureml-core\\\": \\\"1.19.0\\\", \\\"azureml-contrib-services\\\": \\\"1.19.0\\\", \\\"azureml-contrib-server\\\": \\\"1.19.0\\\", \\\"azureml-contrib-reinforcementlearning\\\": \\\"1.19.0\\\", \\\"azureml-contrib-pipeline-steps\\\": \\\"1.19.0\\\", \\\"azureml-contrib-notebook\\\": \\\"1.19.0\\\", \\\"azureml-contrib-interpret\\\": \\\"1.19.0\\\", \\\"azureml-contrib-gbdt\\\": \\\"1.19.0\\\", \\\"azureml-contrib-fairness\\\": \\\"1.19.0\\\", \\\"azureml-contrib-dataset\\\": \\\"1.19.0\\\", \\\"azureml-cli-common\\\": \\\"1.19.0\\\", \\\"azureml-automl-runtime\\\": \\\"1.19.0\\\", \\\"azureml-automl-core\\\": \\\"1.19.0\\\", \\\"azureml-accel-models\\\": \\\"1.19.0\\\"}\", \"_aml_system_scenario_identification\": \"Remote.Parent\", \"ClientType\": \"SDK\", \"environment_cpu_name\": \"AzureML-AutoML\", \"environment_cpu_label\": \"prod\", \"environment_gpu_name\": \"AzureML-AutoML-GPU\", \"environment_gpu_label\": \"prod\", \"root_attribution\": \"automl\", \"attribution\": \"AutoML\", \"Orchestrator\": \"AutoML\", \"CancelUri\": \"https://southcentralus.experiments.azureml.net/jasmine/v1.0/subscriptions/a24a24d5-8d87-4c8a-99b6-91ed2d2df51f/resourceGroups/aml-quickstarts-132399/providers/Microsoft.MachineLearningServices/workspaces/quick-starts-ws-132399/experimentids/dda01efc-87a8-4a68-83e7-ce489b76eef8/cancel/AutoML_2ec3f21f-9a94-4fa9-bc86-654faf41cb71\", \"ClientSdkVersion\": \"1.19.0\", \"snapshotId\": \"00000000-0000-0000-0000-000000000000\", \"SetupRunId\": \"AutoML_2ec3f21f-9a94-4fa9-bc86-654faf41cb71_setup\", \"SetupRunContainerId\": \"dcid.AutoML_2ec3f21f-9a94-4fa9-bc86-654faf41cb71_setup\", \"FeaturizationRunJsonPath\": \"featurizer_container.json\", \"FeaturizationRunId\": \"AutoML_2ec3f21f-9a94-4fa9-bc86-654faf41cb71_featurize\", \"ProblemInfoJsonString\": \"{\\\"dataset_num_categorical\\\": 0, \\\"is_sparse\\\": false, \\\"subsampling\\\": false, \\\"dataset_classes\\\": 2, \\\"dataset_features\\\": 8, \\\"dataset_samples\\\": 614, \\\"single_frequency_class_detected\\\": false}\", \"ModelExplainRunId\": \"AutoML_2ec3f21f-9a94-4fa9-bc86-654faf41cb71_ModelExplain\"}, \"tags\": {\"model_explain_run\": \"best_run\", \"_aml_system_azureml.automlComponent\": \"AutoML\", \"pipeline_id\": \"\", \"score\": \"\", \"predicted_cost\": \"\", \"fit_time\": \"\", \"training_percent\": \"\", \"iteration\": \"\", \"run_preprocessor\": \"\", \"run_algorithm\": \"\", \"dynamic_whitelisting_iterations\": \"<25>;<30>;<35>;\", \"automl_best_child_run_id\": \"AutoML_2ec3f21f-9a94-4fa9-bc86-654faf41cb71_36\", \"model_explain_best_run_child_id\": \"AutoML_2ec3f21f-9a94-4fa9-bc86-654faf41cb71_36\"}, \"end_time_utc\": \"2020-12-29T23:10:16.478863Z\", \"status\": \"Completed\", \"log_files\": {}, \"log_groups\": [], \"run_duration\": \"0:27:58\"}, \"child_runs\": [{\"run_id\": \"AutoML_2ec3f21f-9a94-4fa9-bc86-654faf41cb71_0\", \"run_number\": 5, \"metric\": null, \"status\": \"Completed\", \"run_type\": \"azureml.scriptrun\", \"training_percent\": \"100\", \"start_time\": \"2020-12-29T22:54:29.947604Z\", \"end_time\": \"2020-12-29T22:58:26.023799Z\", \"created_time\": \"2020-12-29T22:51:52.27765Z\", \"created_time_dt\": \"2020-12-29T22:51:52.27765Z\", \"duration\": \"0:06:33\", \"iteration\": \"0\", \"goal\": \"accuracy_max\", \"run_name\": \"MaxAbsScaler, LightGBM\", \"run_properties\": \"copy=True\", \"primary_metric\": 0.74595887, \"best_metric\": 0.74595887}, {\"run_id\": \"AutoML_2ec3f21f-9a94-4fa9-bc86-654faf41cb71_3\", \"run_number\": 6, \"metric\": null, \"status\": \"Completed\", \"run_type\": \"azureml.scriptrun\", \"training_percent\": \"100\", \"start_time\": \"2020-12-29T22:52:04.988211Z\", \"end_time\": \"2020-12-29T22:53:24.862837Z\", \"created_time\": \"2020-12-29T22:51:52.433056Z\", \"created_time_dt\": \"2020-12-29T22:51:52.433056Z\", \"duration\": \"0:01:32\", \"iteration\": \"3\", \"goal\": \"accuracy_max\", \"run_name\": \"MinMaxScaler, RandomForest\", \"run_properties\": \"copy=True, feature_range=(0, 1\", \"primary_metric\": 0.73615495, \"best_metric\": 0.74595887}, {\"run_id\": \"AutoML_2ec3f21f-9a94-4fa9-bc86-654faf41cb71_2\", \"run_number\": 7, \"metric\": null, \"status\": \"Completed\", \"run_type\": \"azureml.scriptrun\", \"training_percent\": \"100\", \"start_time\": \"2020-12-29T22:53:29.684147Z\", \"end_time\": \"2020-12-29T22:54:41.90584Z\", \"created_time\": \"2020-12-29T22:51:52.441606Z\", \"created_time_dt\": \"2020-12-29T22:51:52.441606Z\", \"duration\": \"0:02:49\", \"iteration\": \"2\", \"goal\": \"accuracy_max\", \"run_name\": \"MinMaxScaler, RandomForest\", \"run_properties\": \"copy=True, feature_range=(0, 1\", \"primary_metric\": 0.74431691, \"best_metric\": 0.74595887}, {\"run_id\": \"AutoML_2ec3f21f-9a94-4fa9-bc86-654faf41cb71_1\", \"run_number\": 8, \"metric\": null, \"status\": \"Completed\", \"run_type\": \"azureml.scriptrun\", \"training_percent\": \"100\", \"start_time\": \"2020-12-29T22:54:27.447241Z\", \"end_time\": \"2020-12-29T22:58:14.883568Z\", \"created_time\": \"2020-12-29T22:51:52.470488Z\", \"created_time_dt\": \"2020-12-29T22:51:52.470488Z\", \"duration\": \"0:06:22\", \"iteration\": \"1\", \"goal\": \"accuracy_max\", \"run_name\": \"MaxAbsScaler, XGBoostClassifier\", \"run_properties\": \"copy=True\", \"primary_metric\": 0.74430894, \"best_metric\": 0.74595887}, {\"run_id\": \"AutoML_2ec3f21f-9a94-4fa9-bc86-654faf41cb71_4\", \"run_number\": 9, \"metric\": null, \"status\": \"Completed\", \"run_type\": \"azureml.scriptrun\", \"training_percent\": \"100\", \"start_time\": \"2020-12-29T22:54:30.07196Z\", \"end_time\": \"2020-12-29T22:58:21.224387Z\", \"created_time\": \"2020-12-29T22:53:27.630883Z\", \"created_time_dt\": \"2020-12-29T22:53:27.630883Z\", \"duration\": \"0:04:53\", \"iteration\": \"4\", \"goal\": \"accuracy_max\", \"run_name\": \"MinMaxScaler, RandomForest\", \"run_properties\": \"copy=True, feature_range=(0, 1\", \"primary_metric\": 0.73778097, \"best_metric\": 0.74595887}, {\"run_id\": \"AutoML_2ec3f21f-9a94-4fa9-bc86-654faf41cb71_5\", \"run_number\": 10, \"metric\": null, \"status\": \"Completed\", \"run_type\": \"azureml.scriptrun\", \"training_percent\": \"100\", \"start_time\": \"2020-12-29T22:54:55.840769Z\", \"end_time\": \"2020-12-29T22:55:58.494122Z\", \"created_time\": \"2020-12-29T22:54:45.013031Z\", \"created_time_dt\": \"2020-12-29T22:54:45.013031Z\", \"duration\": \"0:01:13\", \"iteration\": \"5\", \"goal\": \"accuracy_max\", \"run_name\": \"MinMaxScaler, SVM\", \"run_properties\": \"copy=True, feature_range=(0, 1\", \"primary_metric\": 0.71333493, \"best_metric\": 0.74595887}, {\"run_id\": \"AutoML_2ec3f21f-9a94-4fa9-bc86-654faf41cb71_6\", \"run_number\": 11, \"metric\": null, \"status\": \"Completed\", \"run_type\": \"azureml.scriptrun\", \"training_percent\": \"100\", \"start_time\": \"2020-12-29T22:56:16.747693Z\", \"end_time\": \"2020-12-29T22:57:30.553515Z\", \"created_time\": \"2020-12-29T22:56:00.837317Z\", \"created_time_dt\": \"2020-12-29T22:56:00.837317Z\", \"duration\": \"0:01:29\", \"iteration\": \"6\", \"goal\": \"accuracy_max\", \"run_name\": \"MaxAbsScaler, GradientBoosting\", \"run_properties\": \"copy=True\", \"primary_metric\": 0.76058505, \"best_metric\": 0.76058505}, {\"run_id\": \"AutoML_2ec3f21f-9a94-4fa9-bc86-654faf41cb71_7\", \"run_number\": 12, \"metric\": null, \"status\": \"Completed\", \"run_type\": \"azureml.scriptrun\", \"training_percent\": \"100\", \"start_time\": \"2020-12-29T22:57:45.08845Z\", \"end_time\": \"2020-12-29T22:58:50.268727Z\", \"created_time\": \"2020-12-29T22:57:33.306375Z\", \"created_time_dt\": \"2020-12-29T22:57:33.306375Z\", \"duration\": \"0:01:16\", \"iteration\": \"7\", \"goal\": \"accuracy_max\", \"run_name\": \"StandardScalerWrapper, RandomForest\", \"run_properties\": \"<azureml.automl.runtime.shared.model_wrappers.StandardScalerWrapper object at 0x7fdf5b294c88\", \"primary_metric\": 0.72309103, \"best_metric\": 0.76058505}, {\"run_id\": \"AutoML_2ec3f21f-9a94-4fa9-bc86-654faf41cb71_8\", \"run_number\": 13, \"metric\": null, \"status\": \"Completed\", \"run_type\": \"azureml.scriptrun\", \"training_percent\": \"100\", \"start_time\": \"2020-12-29T22:58:30.201383Z\", \"end_time\": \"2020-12-29T22:59:47.551708Z\", \"created_time\": \"2020-12-29T22:58:17.352884Z\", \"created_time_dt\": \"2020-12-29T22:58:17.352884Z\", \"duration\": \"0:01:30\", \"iteration\": \"8\", \"goal\": \"accuracy_max\", \"run_name\": \"SparseNormalizer, XGBoostClassifier\", \"run_properties\": \"<azureml.automl.runtime.shared.model_wrappers.SparseNormalizer object at 0x7fa46015b908\", \"primary_metric\": 0.67586482, \"best_metric\": 0.76058505}, {\"run_id\": \"AutoML_2ec3f21f-9a94-4fa9-bc86-654faf41cb71_9\", \"run_number\": 14, \"metric\": null, \"status\": \"Completed\", \"run_type\": \"azureml.scriptrun\", \"training_percent\": \"100\", \"start_time\": \"2020-12-29T22:58:36.179598Z\", \"end_time\": \"2020-12-29T22:59:43.371659Z\", \"created_time\": \"2020-12-29T22:58:23.529377Z\", \"created_time_dt\": \"2020-12-29T22:58:23.529377Z\", \"duration\": \"0:01:19\", \"iteration\": \"9\", \"goal\": \"accuracy_max\", \"run_name\": \"SparseNormalizer, LightGBM\", \"run_properties\": \"<azureml.automl.runtime.shared.model_wrappers.SparseNormalizer object at 0x7f6e17596748\", \"primary_metric\": 0.64658058, \"best_metric\": 0.76058505}, {\"run_id\": \"AutoML_2ec3f21f-9a94-4fa9-bc86-654faf41cb71_10\", \"run_number\": 15, \"metric\": null, \"status\": \"Completed\", \"run_type\": \"azureml.scriptrun\", \"training_percent\": \"100\", \"start_time\": \"2020-12-29T22:58:39.857459Z\", \"end_time\": \"2020-12-29T22:59:47.096114Z\", \"created_time\": \"2020-12-29T22:58:28.136656Z\", \"created_time_dt\": \"2020-12-29T22:58:28.136656Z\", \"duration\": \"0:01:18\", \"iteration\": \"10\", \"goal\": \"accuracy_max\", \"run_name\": \"SparseNormalizer, LightGBM\", \"run_properties\": \"<azureml.automl.runtime.shared.model_wrappers.SparseNormalizer object at 0x7ff1a8b79400\", \"primary_metric\": 0.64005261, \"best_metric\": 0.76058505}, {\"run_id\": \"AutoML_2ec3f21f-9a94-4fa9-bc86-654faf41cb71_11\", \"run_number\": 16, \"metric\": null, \"status\": \"Completed\", \"run_type\": \"azureml.scriptrun\", \"training_percent\": \"100\", \"start_time\": \"2020-12-29T22:59:04.939484Z\", \"end_time\": \"2020-12-29T23:00:18.792557Z\", \"created_time\": \"2020-12-29T22:58:52.673215Z\", \"created_time_dt\": \"2020-12-29T22:58:52.673215Z\", \"duration\": \"0:01:26\", \"iteration\": \"11\", \"goal\": \"accuracy_max\", \"run_name\": \"RobustScaler, GradientBoosting\", \"run_properties\": \"copy=True, quantile_range=[25, 75], with_centering=False,\\n             with_scaling=False\", \"primary_metric\": 0.75083692, \"best_metric\": 0.76058505}, {\"run_id\": \"AutoML_2ec3f21f-9a94-4fa9-bc86-654faf41cb71_12\", \"run_number\": 17, \"metric\": null, \"status\": \"Completed\", \"run_type\": \"azureml.scriptrun\", \"training_percent\": \"100\", \"start_time\": \"2020-12-29T22:59:58.362303Z\", \"end_time\": \"2020-12-29T23:01:04.103062Z\", \"created_time\": \"2020-12-29T22:59:45.657488Z\", \"created_time_dt\": \"2020-12-29T22:59:45.657488Z\", \"duration\": \"0:01:18\", \"iteration\": \"12\", \"goal\": \"accuracy_max\", \"run_name\": \"StandardScalerWrapper, LightGBM\", \"run_properties\": \"<azureml.automl.runtime.shared.model_wrappers.StandardScalerWrapper object at 0x7ff43527d828\", \"primary_metric\": 0.72965088, \"best_metric\": 0.76058505}, {\"run_id\": \"AutoML_2ec3f21f-9a94-4fa9-bc86-654faf41cb71_13\", \"run_number\": 18, \"metric\": null, \"status\": \"Completed\", \"run_type\": \"azureml.scriptrun\", \"training_percent\": \"100\", \"start_time\": \"2020-12-29T23:00:02.864021Z\", \"end_time\": \"2020-12-29T23:01:18.443218Z\", \"created_time\": \"2020-12-29T22:59:52.111805Z\", \"created_time_dt\": \"2020-12-29T22:59:52.111805Z\", \"duration\": \"0:01:26\", \"iteration\": \"13\", \"goal\": \"accuracy_max\", \"run_name\": \"RobustScaler, ExtremeRandomTrees\", \"run_properties\": \"copy=True, quantile_range=[25, 75], with_centering=True,\\n             with_scaling=False\", \"primary_metric\": 0.73450502, \"best_metric\": 0.76058505}, {\"run_id\": \"AutoML_2ec3f21f-9a94-4fa9-bc86-654faf41cb71_14\", \"run_number\": 19, \"metric\": null, \"status\": \"Completed\", \"run_type\": \"azureml.scriptrun\", \"training_percent\": \"100\", \"start_time\": \"2020-12-29T23:00:02.922705Z\", \"end_time\": \"2020-12-29T23:01:09.209205Z\", \"created_time\": \"2020-12-29T22:59:52.220242Z\", \"created_time_dt\": \"2020-12-29T22:59:52.220242Z\", \"duration\": \"0:01:16\", \"iteration\": \"14\", \"goal\": \"accuracy_max\", \"run_name\": \"MaxAbsScaler, LightGBM\", \"run_properties\": \"copy=True\", \"primary_metric\": 0.75567512, \"best_metric\": 0.76058505}, {\"run_id\": \"AutoML_2ec3f21f-9a94-4fa9-bc86-654faf41cb71_15\", \"run_number\": 20, \"metric\": null, \"status\": \"Completed\", \"run_type\": \"azureml.scriptrun\", \"training_percent\": \"100\", \"start_time\": \"2020-12-29T23:00:33.975193Z\", \"end_time\": \"2020-12-29T23:01:38.325825Z\", \"created_time\": \"2020-12-29T23:00:20.903201Z\", \"created_time_dt\": \"2020-12-29T23:00:20.903201Z\", \"duration\": \"0:01:17\", \"iteration\": \"15\", \"goal\": \"accuracy_max\", \"run_name\": \"MinMaxScaler, LightGBM\", \"run_properties\": \"copy=True, feature_range=(0, 1\", \"primary_metric\": 0.7443488, \"best_metric\": 0.76058505}, {\"run_id\": \"AutoML_2ec3f21f-9a94-4fa9-bc86-654faf41cb71_16\", \"run_number\": 21, \"metric\": null, \"status\": \"Completed\", \"run_type\": \"azureml.scriptrun\", \"training_percent\": \"100\", \"start_time\": \"2020-12-29T23:01:16.884093Z\", \"end_time\": \"2020-12-29T23:02:25.798443Z\", \"created_time\": \"2020-12-29T23:01:06.329581Z\", \"created_time_dt\": \"2020-12-29T23:01:06.329581Z\", \"duration\": \"0:01:19\", \"iteration\": \"16\", \"goal\": \"accuracy_max\", \"run_name\": \"SparseNormalizer, XGBoostClassifier\", \"run_properties\": \"<azureml.automl.runtime.shared.model_wrappers.SparseNormalizer object at 0x7f6e79671e10\", \"primary_metric\": 0.67423083, \"best_metric\": 0.76058505}, {\"run_id\": \"AutoML_2ec3f21f-9a94-4fa9-bc86-654faf41cb71_17\", \"run_number\": 22, \"metric\": null, \"status\": \"Completed\", \"run_type\": \"azureml.scriptrun\", \"training_percent\": \"100\", \"start_time\": \"2020-12-29T23:01:24.871051Z\", \"end_time\": \"2020-12-29T23:02:26.470953Z\", \"created_time\": \"2020-12-29T23:01:13.879494Z\", \"created_time_dt\": \"2020-12-29T23:01:13.879494Z\", \"duration\": \"0:01:12\", \"iteration\": \"17\", \"goal\": \"accuracy_max\", \"run_name\": \"SparseNormalizer, XGBoostClassifier\", \"run_properties\": \"<azureml.automl.runtime.shared.model_wrappers.SparseNormalizer object at 0x7fa470deae10\", \"primary_metric\": 0.63510282, \"best_metric\": 0.76058505}, {\"run_id\": \"AutoML_2ec3f21f-9a94-4fa9-bc86-654faf41cb71_18\", \"run_number\": 23, \"metric\": null, \"status\": \"Completed\", \"run_type\": \"azureml.scriptrun\", \"training_percent\": \"100\", \"start_time\": \"2020-12-29T23:01:33.025734Z\", \"end_time\": \"2020-12-29T23:02:38.754314Z\", \"created_time\": \"2020-12-29T23:01:20.632595Z\", \"created_time_dt\": \"2020-12-29T23:01:20.632595Z\", \"duration\": \"0:01:18\", \"iteration\": \"18\", \"goal\": \"accuracy_max\", \"run_name\": \"StandardScalerWrapper, LightGBM\", \"run_properties\": \"<azureml.automl.runtime.shared.model_wrappers.StandardScalerWrapper object at 0x7f9d1c01f9b0\", \"primary_metric\": 0.75734099, \"best_metric\": 0.76058505}, {\"run_id\": \"AutoML_2ec3f21f-9a94-4fa9-bc86-654faf41cb71_19\", \"run_number\": 24, \"metric\": null, \"status\": \"Completed\", \"run_type\": \"azureml.scriptrun\", \"training_percent\": \"100\", \"start_time\": \"2020-12-29T23:01:53.473536Z\", \"end_time\": \"2020-12-29T23:03:11.659602Z\", \"created_time\": \"2020-12-29T23:01:42.653377Z\", \"created_time_dt\": \"2020-12-29T23:01:42.653377Z\", \"duration\": \"0:01:29\", \"iteration\": \"19\", \"goal\": \"accuracy_max\", \"run_name\": \"StandardScalerWrapper, XGBoostClassifier\", \"run_properties\": \"<azureml.automl.runtime.shared.model_wrappers.StandardScalerWrapper object at 0x7f202bc74e10\", \"primary_metric\": 0.75082895, \"best_metric\": 0.76058505}, {\"run_id\": \"AutoML_2ec3f21f-9a94-4fa9-bc86-654faf41cb71_20\", \"run_number\": 25, \"metric\": null, \"status\": \"Completed\", \"run_type\": \"azureml.scriptrun\", \"training_percent\": \"100\", \"start_time\": \"2020-12-29T23:02:41.094867Z\", \"end_time\": \"2020-12-29T23:03:51.758687Z\", \"created_time\": \"2020-12-29T23:02:28.049434Z\", \"created_time_dt\": \"2020-12-29T23:02:28.049434Z\", \"duration\": \"0:01:23\", \"iteration\": \"20\", \"goal\": \"accuracy_max\", \"run_name\": \"TruncatedSVDWrapper, XGBoostClassifier\", \"run_properties\": \"n_components=0.6036842105263158, random_state=None\", \"primary_metric\": 0.70843297, \"best_metric\": 0.76058505}, {\"run_id\": \"AutoML_2ec3f21f-9a94-4fa9-bc86-654faf41cb71_21\", \"run_number\": 26, \"metric\": null, \"status\": \"Completed\", \"run_type\": \"azureml.scriptrun\", \"training_percent\": \"100\", \"start_time\": \"2020-12-29T23:02:44.64703Z\", \"end_time\": \"2020-12-29T23:03:48.565844Z\", \"created_time\": \"2020-12-29T23:02:33.148797Z\", \"created_time_dt\": \"2020-12-29T23:02:33.148797Z\", \"duration\": \"0:01:15\", \"iteration\": \"21\", \"goal\": \"accuracy_max\", \"run_name\": \"StandardScalerWrapper, LightGBM\", \"run_properties\": \"<azureml.automl.runtime.shared.model_wrappers.StandardScalerWrapper object at 0x7f679803c748\", \"primary_metric\": 0.74918699, \"best_metric\": 0.76058505}, {\"run_id\": \"AutoML_2ec3f21f-9a94-4fa9-bc86-654faf41cb71_22\", \"run_number\": 27, \"metric\": null, \"status\": \"Completed\", \"run_type\": \"azureml.scriptrun\", \"training_percent\": \"100\", \"start_time\": \"2020-12-29T23:02:51.62135Z\", \"end_time\": \"2020-12-29T23:04:10.982194Z\", \"created_time\": \"2020-12-29T23:02:41.352284Z\", \"created_time_dt\": \"2020-12-29T23:02:41.352284Z\", \"duration\": \"0:01:29\", \"iteration\": \"22\", \"goal\": \"accuracy_max\", \"run_name\": \"MaxAbsScaler, GradientBoosting\", \"run_properties\": \"copy=True\", \"primary_metric\": 0.75569903, \"best_metric\": 0.76058505}, {\"run_id\": \"AutoML_2ec3f21f-9a94-4fa9-bc86-654faf41cb71_23\", \"run_number\": 28, \"metric\": null, \"status\": \"Completed\", \"run_type\": \"azureml.scriptrun\", \"training_percent\": \"100\", \"start_time\": \"2020-12-29T23:03:26.94509Z\", \"end_time\": \"2020-12-29T23:04:45.015428Z\", \"created_time\": \"2020-12-29T23:03:13.898012Z\", \"created_time_dt\": \"2020-12-29T23:03:13.898012Z\", \"duration\": \"0:01:31\", \"iteration\": \"23\", \"goal\": \"accuracy_max\", \"run_name\": \"SparseNormalizer, XGBoostClassifier\", \"run_properties\": \"<azureml.automl.runtime.shared.model_wrappers.SparseNormalizer object at 0x7fda52b454e0\", \"primary_metric\": 0.64655667, \"best_metric\": 0.76058505}, {\"run_id\": \"AutoML_2ec3f21f-9a94-4fa9-bc86-654faf41cb71_24\", \"run_number\": 29, \"metric\": null, \"status\": \"Completed\", \"run_type\": \"azureml.scriptrun\", \"training_percent\": \"100\", \"start_time\": \"2020-12-29T23:04:02.401938Z\", \"end_time\": \"2020-12-29T23:05:22.276077Z\", \"created_time\": \"2020-12-29T23:03:50.909458Z\", \"created_time_dt\": \"2020-12-29T23:03:50.909458Z\", \"duration\": \"0:01:31\", \"iteration\": \"24\", \"goal\": \"accuracy_max\", \"run_name\": \"SparseNormalizer, XGBoostClassifier\", \"run_properties\": \"<azureml.automl.runtime.shared.model_wrappers.SparseNormalizer object at 0x7f803dfdeb00\", \"primary_metric\": 0.65636059, \"best_metric\": 0.76058505}, {\"run_id\": \"AutoML_2ec3f21f-9a94-4fa9-bc86-654faf41cb71_25\", \"run_number\": 30, \"metric\": null, \"status\": \"Completed\", \"run_type\": \"azureml.scriptrun\", \"training_percent\": \"100\", \"start_time\": \"2020-12-29T23:04:09.290986Z\", \"end_time\": \"2020-12-29T23:05:19.504491Z\", \"created_time\": \"2020-12-29T23:03:55.926121Z\", \"created_time_dt\": \"2020-12-29T23:03:55.926121Z\", \"duration\": \"0:01:23\", \"iteration\": \"25\", \"goal\": \"accuracy_max\", \"run_name\": \"TruncatedSVDWrapper, GradientBoosting\", \"run_properties\": \"n_components=0.7026315789473684, random_state=None\", \"primary_metric\": 0.64003667, \"best_metric\": 0.76058505}, {\"run_id\": \"AutoML_2ec3f21f-9a94-4fa9-bc86-654faf41cb71_26\", \"run_number\": 31, \"metric\": null, \"status\": \"Completed\", \"run_type\": \"azureml.scriptrun\", \"training_percent\": \"100\", \"start_time\": \"2020-12-29T23:04:25.582027Z\", \"end_time\": \"2020-12-29T23:05:34.389023Z\", \"created_time\": \"2020-12-29T23:04:13.435389Z\", \"created_time_dt\": \"2020-12-29T23:04:13.435389Z\", \"duration\": \"0:01:20\", \"iteration\": \"26\", \"goal\": \"accuracy_max\", \"run_name\": \"SparseNormalizer, RandomForest\", \"run_properties\": \"<azureml.automl.runtime.shared.model_wrappers.SparseNormalizer object at 0x7f9c513b7ac8\", \"primary_metric\": 0.64495457, \"best_metric\": 0.76058505}, {\"run_id\": \"AutoML_2ec3f21f-9a94-4fa9-bc86-654faf41cb71_27\", \"run_number\": 32, \"metric\": null, \"status\": \"Completed\", \"run_type\": \"azureml.scriptrun\", \"training_percent\": \"100\", \"start_time\": \"2020-12-29T23:05:05.360745Z\", \"end_time\": \"2020-12-29T23:06:23.552526Z\", \"created_time\": \"2020-12-29T23:04:49.653965Z\", \"created_time_dt\": \"2020-12-29T23:04:49.653965Z\", \"duration\": \"0:01:33\", \"iteration\": \"27\", \"goal\": \"accuracy_max\", \"run_name\": \"MaxAbsScaler, ExtremeRandomTrees\", \"run_properties\": \"copy=True\", \"primary_metric\": 0.73781285, \"best_metric\": 0.76058505}, {\"run_id\": \"AutoML_2ec3f21f-9a94-4fa9-bc86-654faf41cb71_28\", \"run_number\": 33, \"metric\": null, \"status\": \"Completed\", \"run_type\": \"azureml.scriptrun\", \"training_percent\": \"100\", \"start_time\": \"2020-12-29T23:05:32.081345Z\", \"end_time\": \"2020-12-29T23:06:45.535995Z\", \"created_time\": \"2020-12-29T23:05:21.894774Z\", \"created_time_dt\": \"2020-12-29T23:05:21.894774Z\", \"duration\": \"0:01:23\", \"iteration\": \"28\", \"goal\": \"accuracy_max\", \"run_name\": \"StandardScalerWrapper, ExtremeRandomTrees\", \"run_properties\": \"<azureml.automl.runtime.shared.model_wrappers.StandardScalerWrapper object at 0x7f825d6c8780\", \"primary_metric\": 0.74269887, \"best_metric\": 0.76058505}, {\"run_id\": \"AutoML_2ec3f21f-9a94-4fa9-bc86-654faf41cb71_29\", \"run_number\": 34, \"metric\": null, \"status\": \"Completed\", \"run_type\": \"azureml.scriptrun\", \"training_percent\": \"100\", \"start_time\": \"2020-12-29T23:05:37.220632Z\", \"end_time\": \"2020-12-29T23:06:53.489131Z\", \"created_time\": \"2020-12-29T23:05:25.631255Z\", \"created_time_dt\": \"2020-12-29T23:05:25.631255Z\", \"duration\": \"0:01:27\", \"iteration\": \"29\", \"goal\": \"accuracy_max\", \"run_name\": \"MaxAbsScaler, ExtremeRandomTrees\", \"run_properties\": \"copy=True\", \"primary_metric\": 0.7492109, \"best_metric\": 0.76058505}, {\"run_id\": \"AutoML_2ec3f21f-9a94-4fa9-bc86-654faf41cb71_30\", \"run_number\": 35, \"metric\": null, \"status\": \"Completed\", \"run_type\": \"azureml.scriptrun\", \"training_percent\": \"100\", \"start_time\": \"2020-12-29T23:05:50.080604Z\", \"end_time\": \"2020-12-29T23:06:53.725636Z\", \"created_time\": \"2020-12-29T23:05:37.652101Z\", \"created_time_dt\": \"2020-12-29T23:05:37.652101Z\", \"duration\": \"0:01:16\", \"iteration\": \"30\", \"goal\": \"accuracy_max\", \"run_name\": \"StandardScalerWrapper, GradientBoosting\", \"run_properties\": \"<azureml.automl.runtime.shared.model_wrappers.StandardScalerWrapper object at 0x7fab95e7f198\", \"primary_metric\": 0.73130878, \"best_metric\": 0.76058505}, {\"run_id\": \"AutoML_2ec3f21f-9a94-4fa9-bc86-654faf41cb71_31\", \"run_number\": 36, \"metric\": null, \"status\": \"Completed\", \"run_type\": \"azureml.scriptrun\", \"training_percent\": \"100\", \"start_time\": \"2020-12-29T23:06:36.203802Z\", \"end_time\": \"2020-12-29T23:07:44.89398Z\", \"created_time\": \"2020-12-29T23:06:25.740407Z\", \"created_time_dt\": \"2020-12-29T23:06:25.740407Z\", \"duration\": \"0:01:19\", \"iteration\": \"31\", \"goal\": \"accuracy_max\", \"run_name\": \"MinMaxScaler, LightGBM\", \"run_properties\": \"copy=True, feature_range=(0, 1\", \"primary_metric\": 0.74428503, \"best_metric\": 0.76058505}, {\"run_id\": \"AutoML_2ec3f21f-9a94-4fa9-bc86-654faf41cb71_32\", \"run_number\": 37, \"metric\": null, \"status\": \"Completed\", \"run_type\": \"azureml.scriptrun\", \"training_percent\": \"100\", \"start_time\": \"2020-12-29T23:07:01.258211Z\", \"end_time\": \"2020-12-29T23:08:09.219465Z\", \"created_time\": \"2020-12-29T23:06:47.928331Z\", \"created_time_dt\": \"2020-12-29T23:06:47.928331Z\", \"duration\": \"0:01:21\", \"iteration\": \"32\", \"goal\": \"accuracy_max\", \"run_name\": \"StandardScalerWrapper, RandomForest\", \"run_properties\": \"<azureml.automl.runtime.shared.model_wrappers.StandardScalerWrapper object at 0x7fc0281afc88\", \"primary_metric\": 0.74757692, \"best_metric\": 0.76058505}, {\"run_id\": \"AutoML_2ec3f21f-9a94-4fa9-bc86-654faf41cb71_33\", \"run_number\": 38, \"metric\": null, \"status\": \"Canceled\", \"run_type\": \"azureml.scriptrun\", \"training_percent\": \"100\", \"start_time\": \"2020-12-29T23:07:07.254804Z\", \"end_time\": \"2020-12-29T23:08:12.976087Z\", \"created_time\": \"2020-12-29T23:06:55.83518Z\", \"created_time_dt\": \"2020-12-29T23:06:55.83518Z\", \"duration\": \"0:01:17\", \"iteration\": \"33\", \"goal\": \"accuracy_max\", \"run_name\": \"StandardScalerWrapper, KNN\", \"run_properties\": \"<azureml.automl.runtime.shared.model_wrappers.StandardScalerWrapper object at 0x7fce56852c18\", \"primary_metric\": 0.73126096, \"best_metric\": 0.76058505}, {\"run_id\": \"AutoML_2ec3f21f-9a94-4fa9-bc86-654faf41cb71_34\", \"run_number\": 39, \"metric\": null, \"status\": \"Canceled\", \"run_type\": \"azureml.scriptrun\", \"training_percent\": \"100\", \"start_time\": \"2020-12-29T23:07:07.858329Z\", \"end_time\": \"2020-12-29T23:08:17.188835Z\", \"created_time\": \"2020-12-29T23:06:56.025941Z\", \"created_time_dt\": \"2020-12-29T23:06:56.025941Z\", \"duration\": \"0:01:21\", \"iteration\": \"34\", \"goal\": \"accuracy_max\", \"run_name\": \"RobustScaler, KNN\", \"run_properties\": \"copy=True, quantile_range=[25, 75], with_centering=True,\\n             with_scaling=False\", \"primary_metric\": 0.72147298, \"best_metric\": 0.76058505}, {\"run_id\": \"AutoML_2ec3f21f-9a94-4fa9-bc86-654faf41cb71_35\", \"run_number\": 40, \"metric\": null, \"status\": \"Canceled\", \"run_type\": \"azureml.scriptrun\", \"training_percent\": \"100\", \"start_time\": \"2020-12-29T23:07:59.873254Z\", \"end_time\": \"2020-12-29T23:08:16.895675Z\", \"created_time\": \"2020-12-29T23:07:48.226138Z\", \"created_time_dt\": \"2020-12-29T23:07:48.226138Z\", \"duration\": \"0:00:28\", \"iteration\": \"35\", \"goal\": null, \"run_name\": \"Canceled\", \"run_properties\": null}, {\"run_id\": \"AutoML_2ec3f21f-9a94-4fa9-bc86-654faf41cb71_36\", \"run_number\": 41, \"metric\": null, \"status\": \"Completed\", \"run_type\": \"azureml.scriptrun\", \"training_percent\": \"100\", \"start_time\": \"2020-12-29T23:08:31.433642Z\", \"end_time\": \"2020-12-29T23:10:07.31882Z\", \"created_time\": \"2020-12-29T23:08:18.267337Z\", \"created_time_dt\": \"2020-12-29T23:08:18.267337Z\", \"duration\": \"0:01:49\", \"iteration\": \"36\", \"goal\": \"accuracy_max\", \"run_name\": \"VotingEnsemble\", \"run_properties\": \"classification_labels=None,\\n                              estimators=[('6',\\n                                           Pipeline(memory=None,\\n                                                    steps=[('maxabsscaler',\\n                                                            MaxAbsScaler(copy=True\", \"primary_metric\": 0.77527499, \"best_metric\": 0.77527499}], \"children_metrics\": {\"categories\": [0], \"series\": {\"weighted_accuracy\": [{\"categories\": [\"0\", \"1\", \"2\", \"3\", \"4\", \"5\", \"6\", \"7\", \"8\", \"9\", \"10\", \"11\", \"12\", \"13\", \"14\", \"15\", \"16\", \"17\", \"18\", \"19\", \"20\", \"21\", \"22\", \"23\", \"24\", \"25\", \"26\", \"27\", \"28\", \"29\", \"30\", \"31\", \"32\", \"33\", \"34\", \"36\"], \"mode\": \"markers\", \"name\": \"weighted_accuracy\", \"stepped\": false, \"type\": \"scatter\", \"data\": [0.7703331923526053, 0.7715615333630267, 0.7746968300387387, 0.774616873592391, 0.7506656522330587, 0.7718930205087123, 0.7957379990917044, 0.7712039683043193, 0.7161891505812669, 0.732883296248615, 0.6794665180355799, 0.7855697653264978, 0.7991220320929019, 0.7860397295587537, 0.7958954899639066, 0.7782819476120729, 0.7215856645147746, 0.7055564227754859, 0.7870798362865311, 0.7924942508857181, 0.7414194683532944, 0.778734045943859, 0.7998536554632608, 0.7060798978700148, 0.7024734656831346, 0.7586270224089081, 0.6423972608081511, 0.7303541887362376, 0.7407641660133577, 0.7501087662346625, 0.7637015343418678, 0.7950321829391004, 0.7823593439520803, 0.7729810090585704, 0.7615343762804007, 0.8068416095001499]}, {\"categories\": [\"0\", \"1\", \"2\", \"3\", \"4\", \"5\", \"6\", \"7\", \"8\", \"9\", \"10\", \"11\", \"12\", \"13\", \"14\", \"15\", \"16\", \"17\", \"18\", \"19\", \"20\", \"21\", \"22\", \"23\", \"24\", \"25\", \"26\", \"27\", \"28\", \"29\", \"30\", \"31\", \"32\", \"33\", \"34\", \"36\"], \"mode\": \"lines\", \"name\": \"weighted_accuracy_max\", \"stepped\": true, \"type\": \"scatter\", \"data\": [0.7703331923526053, 0.7715615333630267, 0.7746968300387387, 0.7746968300387387, 0.7746968300387387, 0.7746968300387387, 0.7957379990917044, 0.7957379990917044, 0.7957379990917044, 0.7957379990917044, 0.7957379990917044, 0.7957379990917044, 0.7991220320929019, 0.7991220320929019, 0.7991220320929019, 0.7991220320929019, 0.7991220320929019, 0.7991220320929019, 0.7991220320929019, 0.7991220320929019, 0.7991220320929019, 0.7991220320929019, 0.7998536554632608, 0.7998536554632608, 0.7998536554632608, 0.7998536554632608, 0.7998536554632608, 0.7998536554632608, 0.7998536554632608, 0.7998536554632608, 0.7998536554632608, 0.7998536554632608, 0.7998536554632608, 0.7998536554632608, 0.7998536554632608, 0.8068416095001499]}], \"f1_score_macro\": [{\"categories\": [\"0\", \"1\", \"2\", \"3\", \"4\", \"5\", \"6\", \"7\", \"8\", \"9\", \"10\", \"11\", \"12\", \"13\", \"14\", \"15\", \"16\", \"17\", \"18\", \"19\", \"20\", \"21\", \"22\", \"23\", \"24\", \"25\", \"26\", \"27\", \"28\", \"29\", \"30\", \"31\", \"32\", \"33\", \"34\", \"36\"], \"mode\": \"markers\", \"name\": \"f1_score_macro\", \"stepped\": false, \"type\": \"scatter\", \"data\": [0.7197014088315093, 0.7153963252134389, 0.7132418701592212, 0.6960567146048771, 0.7187717008154805, 0.6471563782040687, 0.7267486697189849, 0.67043723656116, 0.6285583892492111, 0.5177311410394118, 0.593883209763263, 0.7164666807247865, 0.650594786318259, 0.6800722833316462, 0.7158608214538497, 0.710603252982767, 0.6198187766753674, 0.5351712101758288, 0.7273002635829289, 0.7103569406756306, 0.6733630271170581, 0.7183632845410649, 0.7127861520352671, 0.5727153284493646, 0.6025037721036304, 0.3901660469453489, 0.6339060612406889, 0.7285800411697524, 0.731190540442285, 0.7365021982252317, 0.6977252564545675, 0.692375162706122, 0.7129706265417352, 0.6886953525407344, 0.6800801271654383, 0.7455426543576312]}, {\"categories\": [\"0\", \"1\", \"2\", \"3\", \"4\", \"5\", \"6\", \"7\", \"8\", \"9\", \"10\", \"11\", \"12\", \"13\", \"14\", \"15\", \"16\", \"17\", \"18\", \"19\", \"20\", \"21\", \"22\", \"23\", \"24\", \"25\", \"26\", \"27\", \"28\", \"29\", \"30\", \"31\", \"32\", \"33\", \"34\", \"36\"], \"mode\": \"lines\", \"name\": \"f1_score_macro_max\", \"stepped\": true, \"type\": \"scatter\", \"data\": [0.7197014088315093, 0.7197014088315093, 0.7197014088315093, 0.7197014088315093, 0.7197014088315093, 0.7197014088315093, 0.7267486697189849, 0.7267486697189849, 0.7267486697189849, 0.7267486697189849, 0.7267486697189849, 0.7267486697189849, 0.7267486697189849, 0.7267486697189849, 0.7267486697189849, 0.7267486697189849, 0.7267486697189849, 0.7267486697189849, 0.7273002635829289, 0.7273002635829289, 0.7273002635829289, 0.7273002635829289, 0.7273002635829289, 0.7273002635829289, 0.7273002635829289, 0.7273002635829289, 0.7273002635829289, 0.7285800411697524, 0.731190540442285, 0.7365021982252317, 0.7365021982252317, 0.7365021982252317, 0.7365021982252317, 0.7365021982252317, 0.7365021982252317, 0.7455426543576312]}], \"matthews_correlation\": [{\"categories\": [\"0\", \"1\", \"2\", \"3\", \"4\", \"5\", \"6\", \"7\", \"8\", \"9\", \"10\", \"11\", \"12\", \"13\", \"14\", \"15\", \"16\", \"17\", \"18\", \"19\", \"20\", \"21\", \"22\", \"23\", \"24\", \"25\", \"26\", \"27\", \"28\", \"29\", \"30\", \"31\", \"32\", \"33\", \"34\", \"36\"], \"mode\": \"markers\", \"name\": \"matthews_correlation\", \"stepped\": false, \"type\": \"scatter\", \"data\": [0.443721955771977, 0.43811083875512713, 0.4334910207263673, 0.4097757995034809, 0.44034168573476934, 0.34189097860935264, 0.46428158878706505, 0.37227728455226977, 0.2727043993909193, 0.1371729172264964, 0.1962912941088043, 0.44496576258119297, 0.384641533100722, 0.39751363260024103, 0.4523479258173553, 0.42926917379704904, 0.2572532435583173, 0.13448364384935604, 0.4639355434579074, 0.4383509460255744, 0.35066772775570126, 0.44725799035691294, 0.44949889325853204, 0.17869987886444025, 0.2195993939046655, 0.0, 0.2851464263546376, 0.47723560671100124, 0.47614181078927764, 0.4841083440048968, 0.4049719127773814, 0.4221431193635339, 0.4374860199771688, 0.39445723443688746, 0.37230590967451643, 0.5011666447513653]}, {\"categories\": [\"0\", \"1\", \"2\", \"3\", \"4\", \"5\", \"6\", \"7\", \"8\", \"9\", \"10\", \"11\", \"12\", \"13\", \"14\", \"15\", \"16\", \"17\", \"18\", \"19\", \"20\", \"21\", \"22\", \"23\", \"24\", \"25\", \"26\", \"27\", \"28\", \"29\", \"30\", \"31\", \"32\", \"33\", \"34\", \"36\"], \"mode\": \"lines\", \"name\": \"matthews_correlation_max\", \"stepped\": true, \"type\": \"scatter\", \"data\": [0.443721955771977, 0.443721955771977, 0.443721955771977, 0.443721955771977, 0.443721955771977, 0.443721955771977, 0.46428158878706505, 0.46428158878706505, 0.46428158878706505, 0.46428158878706505, 0.46428158878706505, 0.46428158878706505, 0.46428158878706505, 0.46428158878706505, 0.46428158878706505, 0.46428158878706505, 0.46428158878706505, 0.46428158878706505, 0.46428158878706505, 0.46428158878706505, 0.46428158878706505, 0.46428158878706505, 0.46428158878706505, 0.46428158878706505, 0.46428158878706505, 0.46428158878706505, 0.46428158878706505, 0.47723560671100124, 0.47723560671100124, 0.4841083440048968, 0.4841083440048968, 0.4841083440048968, 0.4841083440048968, 0.4841083440048968, 0.4841083440048968, 0.5011666447513653]}], \"precision_score_weighted\": [{\"categories\": [\"0\", \"1\", \"2\", \"3\", \"4\", \"5\", \"6\", \"7\", \"8\", \"9\", \"10\", \"11\", \"12\", \"13\", \"14\", \"15\", \"16\", \"17\", \"18\", \"19\", \"20\", \"21\", \"22\", \"23\", \"24\", \"25\", \"26\", \"27\", \"28\", \"29\", \"30\", \"31\", \"32\", \"33\", \"34\", \"36\"], \"mode\": \"markers\", \"name\": \"precision_score_weighted\", \"stepped\": false, \"type\": \"scatter\", \"data\": [0.7456608668779596, 0.7440636782906588, 0.7410407061473553, 0.7332991504285845, 0.7431262912739592, 0.7108881898568388, 0.7570081801321392, 0.7198756283137223, 0.6680399236022101, 0.6245688922498779, 0.6319143595670004, 0.7489634780447819, 0.7443324327727739, 0.7344314823865111, 0.754351076114323, 0.7407085215085923, 0.6611039347855053, 0.6121200305992578, 0.7566093856246875, 0.7474097698943281, 0.7022011097996592, 0.749137198798406, 0.754988776772865, 0.6285267617932172, 0.6434702978964967, 0.41005365868143734, 0.674817733559265, 0.7654140098644068, 0.7632338796190999, 0.7663475066526093, 0.7293316198234484, 0.7459686642972071, 0.7451105476681713, 0.7265254812821818, 0.714396331487857, 0.7742545936357299]}, {\"categories\": [\"0\", \"1\", \"2\", \"3\", \"4\", \"5\", \"6\", \"7\", \"8\", \"9\", \"10\", \"11\", \"12\", \"13\", \"14\", \"15\", \"16\", \"17\", \"18\", \"19\", \"20\", \"21\", \"22\", \"23\", \"24\", \"25\", \"26\", \"27\", \"28\", \"29\", \"30\", \"31\", \"32\", \"33\", \"34\", \"36\"], \"mode\": \"lines\", \"name\": \"precision_score_weighted_max\", \"stepped\": true, \"type\": \"scatter\", \"data\": [0.7456608668779596, 0.7456608668779596, 0.7456608668779596, 0.7456608668779596, 0.7456608668779596, 0.7456608668779596, 0.7570081801321392, 0.7570081801321392, 0.7570081801321392, 0.7570081801321392, 0.7570081801321392, 0.7570081801321392, 0.7570081801321392, 0.7570081801321392, 0.7570081801321392, 0.7570081801321392, 0.7570081801321392, 0.7570081801321392, 0.7570081801321392, 0.7570081801321392, 0.7570081801321392, 0.7570081801321392, 0.7570081801321392, 0.7570081801321392, 0.7570081801321392, 0.7570081801321392, 0.7570081801321392, 0.7654140098644068, 0.7654140098644068, 0.7663475066526093, 0.7663475066526093, 0.7663475066526093, 0.7663475066526093, 0.7663475066526093, 0.7663475066526093, 0.7742545936357299]}], \"average_precision_score_weighted\": [{\"categories\": [\"0\", \"1\", \"2\", \"3\", \"4\", \"5\", \"6\", \"7\", \"8\", \"9\", \"10\", \"11\", \"12\", \"13\", \"14\", \"15\", \"16\", \"17\", \"18\", \"19\", \"20\", \"21\", \"22\", \"23\", \"24\", \"25\", \"26\", \"27\", \"28\", \"29\", \"30\", \"31\", \"32\", \"33\", \"34\", \"36\"], \"mode\": \"markers\", \"name\": \"average_precision_score_weighted\", \"stepped\": false, \"type\": \"scatter\", \"data\": [0.8002373361791034, 0.8147330219387596, 0.8187908658415841, 0.8204331323057561, 0.8151550286946646, 0.7557821414056031, 0.8365855398725675, 0.8147667978384249, 0.6905403612317403, 0.6750750229385415, 0.7044833120752765, 0.8316873753785917, 0.8222168851353787, 0.832331838969563, 0.819865237915427, 0.7977033523560345, 0.7101526352319326, 0.6567565164998821, 0.8324958285152916, 0.8288105766438377, 0.771330561914079, 0.8318421099150113, 0.8353430089779352, 0.6787582488276666, 0.6894880413208555, 0.5400339872178085, 0.7052398784963282, 0.8312997289377023, 0.8346370139512111, 0.824744840465094, 0.8176760259929711, 0.8270587619204711, 0.8264259137060762, 0.7663301225319122, 0.7574009698535562, 0.8283031092716252]}, {\"categories\": [\"0\", \"1\", \"2\", \"3\", \"4\", \"5\", \"6\", \"7\", \"8\", \"9\", \"10\", \"11\", \"12\", \"13\", \"14\", \"15\", \"16\", \"17\", \"18\", \"19\", \"20\", \"21\", \"22\", \"23\", \"24\", \"25\", \"26\", \"27\", \"28\", \"29\", \"30\", \"31\", \"32\", \"33\", \"34\", \"36\"], \"mode\": \"lines\", \"name\": \"average_precision_score_weighted_max\", \"stepped\": true, \"type\": \"scatter\", \"data\": [0.8002373361791034, 0.8147330219387596, 0.8187908658415841, 0.8204331323057561, 0.8204331323057561, 0.8204331323057561, 0.8365855398725675, 0.8365855398725675, 0.8365855398725675, 0.8365855398725675, 0.8365855398725675, 0.8365855398725675, 0.8365855398725675, 0.8365855398725675, 0.8365855398725675, 0.8365855398725675, 0.8365855398725675, 0.8365855398725675, 0.8365855398725675, 0.8365855398725675, 0.8365855398725675, 0.8365855398725675, 0.8365855398725675, 0.8365855398725675, 0.8365855398725675, 0.8365855398725675, 0.8365855398725675, 0.8365855398725675, 0.8365855398725675, 0.8365855398725675, 0.8365855398725675, 0.8365855398725675, 0.8365855398725675, 0.8365855398725675, 0.8365855398725675, 0.8365855398725675]}], \"AUC_weighted\": [{\"categories\": [\"0\", \"1\", \"2\", \"3\", \"4\", \"5\", \"6\", \"7\", \"8\", \"9\", \"10\", \"11\", \"12\", \"13\", \"14\", \"15\", \"16\", \"17\", \"18\", \"19\", \"20\", \"21\", \"22\", \"23\", \"24\", \"25\", \"26\", \"27\", \"28\", \"29\", \"30\", \"31\", \"32\", \"33\", \"34\", \"36\"], \"mode\": \"markers\", \"name\": \"AUC_weighted\", \"stepped\": false, \"type\": \"scatter\", \"data\": [0.801557560850414, 0.8153530249017112, 0.8115348168040146, 0.8150835015395633, 0.8140031852589565, 0.7545106866280827, 0.8330307025712512, 0.8122290726831148, 0.6789882745361057, 0.6446211180222294, 0.6924327192021642, 0.8264630859201202, 0.8174740433162513, 0.8231386490489134, 0.8158500292303783, 0.7952185060955278, 0.696221881572726, 0.6482732379838685, 0.8269037228333841, 0.8232024754749149, 0.7653066574669177, 0.8261362847571814, 0.8288284717396558, 0.6605757436692986, 0.6735513058927781, 0.5, 0.6934343596708535, 0.8229889997138713, 0.8254746731113491, 0.820577027280017, 0.8102798154439078, 0.8225045557319182, 0.8210337046912657, 0.7703724904775445, 0.7557280473627949, 0.8247731786520215]}, {\"categories\": [\"0\", \"1\", \"2\", \"3\", \"4\", \"5\", \"6\", \"7\", \"8\", \"9\", \"10\", \"11\", \"12\", \"13\", \"14\", \"15\", \"16\", \"17\", \"18\", \"19\", \"20\", \"21\", \"22\", \"23\", \"24\", \"25\", \"26\", \"27\", \"28\", \"29\", \"30\", \"31\", \"32\", \"33\", \"34\", \"36\"], \"mode\": \"lines\", \"name\": \"AUC_weighted_max\", \"stepped\": true, \"type\": \"scatter\", \"data\": [0.801557560850414, 0.8153530249017112, 0.8153530249017112, 0.8153530249017112, 0.8153530249017112, 0.8153530249017112, 0.8330307025712512, 0.8330307025712512, 0.8330307025712512, 0.8330307025712512, 0.8330307025712512, 0.8330307025712512, 0.8330307025712512, 0.8330307025712512, 0.8330307025712512, 0.8330307025712512, 0.8330307025712512, 0.8330307025712512, 0.8330307025712512, 0.8330307025712512, 0.8330307025712512, 0.8330307025712512, 0.8330307025712512, 0.8330307025712512, 0.8330307025712512, 0.8330307025712512, 0.8330307025712512, 0.8330307025712512, 0.8330307025712512, 0.8330307025712512, 0.8330307025712512, 0.8330307025712512, 0.8330307025712512, 0.8330307025712512, 0.8330307025712512, 0.8330307025712512]}], \"norm_macro_recall\": [{\"categories\": [\"0\", \"1\", \"2\", \"3\", \"4\", \"5\", \"6\", \"7\", \"8\", \"9\", \"10\", \"11\", \"12\", \"13\", \"14\", \"15\", \"16\", \"17\", \"18\", \"19\", \"20\", \"21\", \"22\", \"23\", \"24\", \"25\", \"26\", \"27\", \"28\", \"29\", \"30\", \"31\", \"32\", \"33\", \"34\", \"36\"], \"mode\": \"markers\", \"name\": \"norm_macro_recall\", \"stepped\": false, \"type\": \"scatter\", \"data\": [0.4350920107140126, 0.42520351740213796, 0.4177634917957904, 0.382965939817244, 0.44557135200522247, 0.2890391086420596, 0.43824011280475955, 0.33364011546215805, 0.25831620610730677, 0.08959920424377454, 0.18753129219705636, 0.4201759472495101, 0.2956303648243748, 0.3480436829605698, 0.41710908786584383, 0.4088538254243687, 0.2377370982024886, 0.10579262670229454, 0.4452429832718239, 0.40351458902459236, 0.3390949442576054, 0.4297610078250105, 0.40754971619817865, 0.1534411787694839, 0.20475747512255094, 0.0, 0.2965119379820271, 0.49393506419212924, 0.49029876861537985, 0.49680395395057886, 0.3869674986231741, 0.36945961093576307, 0.41368130629325184, 0.36477546295568525, 0.34886027416035653, 0.476671601980955]}, {\"categories\": [\"0\", \"1\", \"2\", \"3\", \"4\", \"5\", \"6\", \"7\", \"8\", \"9\", \"10\", \"11\", \"12\", \"13\", \"14\", \"15\", \"16\", \"17\", \"18\", \"19\", \"20\", \"21\", \"22\", \"23\", \"24\", \"25\", \"26\", \"27\", \"28\", \"29\", \"30\", \"31\", \"32\", \"33\", \"34\", \"36\"], \"mode\": \"lines\", \"name\": \"norm_macro_recall_max\", \"stepped\": true, \"type\": \"scatter\", \"data\": [0.4350920107140126, 0.4350920107140126, 0.4350920107140126, 0.4350920107140126, 0.44557135200522247, 0.44557135200522247, 0.44557135200522247, 0.44557135200522247, 0.44557135200522247, 0.44557135200522247, 0.44557135200522247, 0.44557135200522247, 0.44557135200522247, 0.44557135200522247, 0.44557135200522247, 0.44557135200522247, 0.44557135200522247, 0.44557135200522247, 0.44557135200522247, 0.44557135200522247, 0.44557135200522247, 0.44557135200522247, 0.44557135200522247, 0.44557135200522247, 0.44557135200522247, 0.44557135200522247, 0.44557135200522247, 0.49393506419212924, 0.49393506419212924, 0.49680395395057886, 0.49680395395057886, 0.49680395395057886, 0.49680395395057886, 0.49680395395057886, 0.49680395395057886, 0.49680395395057886]}], \"recall_score_macro\": [{\"categories\": [\"0\", \"1\", \"2\", \"3\", \"4\", \"5\", \"6\", \"7\", \"8\", \"9\", \"10\", \"11\", \"12\", \"13\", \"14\", \"15\", \"16\", \"17\", \"18\", \"19\", \"20\", \"21\", \"22\", \"23\", \"24\", \"25\", \"26\", \"27\", \"28\", \"29\", \"30\", \"31\", \"32\", \"33\", \"34\", \"36\"], \"mode\": \"markers\", \"name\": \"recall_score_macro\", \"stepped\": false, \"type\": \"scatter\", \"data\": [0.7175460053570063, 0.712601758701069, 0.7088817458978952, 0.691482969908622, 0.7227856760026112, 0.6445195543210298, 0.7191200564023799, 0.666820057731079, 0.6291581030536534, 0.5447996021218873, 0.5937656460985282, 0.7100879736247551, 0.6478151824121874, 0.6740218414802849, 0.7085545439329218, 0.7044269127121844, 0.6188685491012443, 0.5528963133511473, 0.722621491635912, 0.7017572945122962, 0.6695474721288027, 0.7148805039125051, 0.7037748580990892, 0.5767205893847419, 0.6023787375612755, 0.5, 0.6482559689910136, 0.7469675320960647, 0.7451493843076898, 0.7484019769752894, 0.693483749311587, 0.6847298054678815, 0.7068406531466259, 0.6823877314778426, 0.6744301370801783, 0.7383358009904776]}, {\"categories\": [\"0\", \"1\", \"2\", \"3\", \"4\", \"5\", \"6\", \"7\", \"8\", \"9\", \"10\", \"11\", \"12\", \"13\", \"14\", \"15\", \"16\", \"17\", \"18\", \"19\", \"20\", \"21\", \"22\", \"23\", \"24\", \"25\", \"26\", \"27\", \"28\", \"29\", \"30\", \"31\", \"32\", \"33\", \"34\", \"36\"], \"mode\": \"lines\", \"name\": \"recall_score_macro_max\", \"stepped\": true, \"type\": \"scatter\", \"data\": [0.7175460053570063, 0.7175460053570063, 0.7175460053570063, 0.7175460053570063, 0.7227856760026112, 0.7227856760026112, 0.7227856760026112, 0.7227856760026112, 0.7227856760026112, 0.7227856760026112, 0.7227856760026112, 0.7227856760026112, 0.7227856760026112, 0.7227856760026112, 0.7227856760026112, 0.7227856760026112, 0.7227856760026112, 0.7227856760026112, 0.7227856760026112, 0.7227856760026112, 0.7227856760026112, 0.7227856760026112, 0.7227856760026112, 0.7227856760026112, 0.7227856760026112, 0.7227856760026112, 0.7227856760026112, 0.7469675320960647, 0.7469675320960647, 0.7484019769752894, 0.7484019769752894, 0.7484019769752894, 0.7484019769752894, 0.7484019769752894, 0.7484019769752894, 0.7484019769752894]}], \"AUC_macro\": [{\"categories\": [\"0\", \"1\", \"2\", \"3\", \"4\", \"5\", \"6\", \"7\", \"8\", \"9\", \"10\", \"11\", \"12\", \"13\", \"14\", \"15\", \"16\", \"17\", \"18\", \"19\", \"20\", \"21\", \"22\", \"23\", \"24\", \"25\", \"26\", \"27\", \"28\", \"29\", \"30\", \"31\", \"32\", \"33\", \"34\", \"36\"], \"mode\": \"markers\", \"name\": \"AUC_macro\", \"stepped\": false, \"type\": \"scatter\", \"data\": [0.801557560850414, 0.8153530249017112, 0.8115348168040146, 0.8150835015395633, 0.8140031852589565, 0.7545106866280827, 0.8330307025712512, 0.8122290726831146, 0.6789882745361057, 0.6446211180222294, 0.6924327192021643, 0.8264630859201202, 0.8174740433162512, 0.8231386490489134, 0.8158500292303783, 0.7952185060955278, 0.696221881572726, 0.6482732379838686, 0.8269037228333841, 0.8232024754749151, 0.7653066574669177, 0.8261362847571814, 0.8288284717396558, 0.6605757436692986, 0.6735513058927781, 0.5, 0.6934343596708535, 0.8229889997138713, 0.8254746731113493, 0.820577027280017, 0.8102798154439078, 0.8225045557319182, 0.8210337046912656, 0.7703724904775445, 0.7557280473627949, 0.8247731786520215]}, {\"categories\": [\"0\", \"1\", \"2\", \"3\", \"4\", \"5\", \"6\", \"7\", \"8\", \"9\", \"10\", \"11\", \"12\", \"13\", \"14\", \"15\", \"16\", \"17\", \"18\", \"19\", \"20\", \"21\", \"22\", \"23\", \"24\", \"25\", \"26\", \"27\", \"28\", \"29\", \"30\", \"31\", \"32\", \"33\", \"34\", \"36\"], \"mode\": \"lines\", \"name\": \"AUC_macro_max\", \"stepped\": true, \"type\": \"scatter\", \"data\": [0.801557560850414, 0.8153530249017112, 0.8153530249017112, 0.8153530249017112, 0.8153530249017112, 0.8153530249017112, 0.8330307025712512, 0.8330307025712512, 0.8330307025712512, 0.8330307025712512, 0.8330307025712512, 0.8330307025712512, 0.8330307025712512, 0.8330307025712512, 0.8330307025712512, 0.8330307025712512, 0.8330307025712512, 0.8330307025712512, 0.8330307025712512, 0.8330307025712512, 0.8330307025712512, 0.8330307025712512, 0.8330307025712512, 0.8330307025712512, 0.8330307025712512, 0.8330307025712512, 0.8330307025712512, 0.8330307025712512, 0.8330307025712512, 0.8330307025712512, 0.8330307025712512, 0.8330307025712512, 0.8330307025712512, 0.8330307025712512, 0.8330307025712512, 0.8330307025712512]}], \"accuracy\": [{\"categories\": [\"0\", \"1\", \"2\", \"3\", \"4\", \"5\", \"6\", \"7\", \"8\", \"9\", \"10\", \"11\", \"12\", \"13\", \"14\", \"15\", \"16\", \"17\", \"18\", \"19\", \"20\", \"21\", \"22\", \"23\", \"24\", \"25\", \"26\", \"27\", \"28\", \"29\", \"30\", \"31\", \"32\", \"33\", \"34\", \"36\"], \"mode\": \"markers\", \"name\": \"accuracy\", \"stepped\": false, \"type\": \"scatter\", \"data\": [0.7459588713534194, 0.7443089430894309, 0.7443169137573729, 0.736154949784792, 0.7377809660449546, 0.7133349274669216, 0.7605850470269409, 0.7230910250278972, 0.675864817471704, 0.6465805834528934, 0.640052606408417, 0.7508369201339072, 0.7296508847441415, 0.7345050215208034, 0.7556751155746851, 0.7443487964291408, 0.6742308305435994, 0.6351028216164515, 0.7573409851745576, 0.7508289494659652, 0.7084329666826079, 0.7491869918699187, 0.755699027578511, 0.6465566714490675, 0.6563605930176949, 0.6400366650725331, 0.6449545671927308, 0.7378128487167225, 0.7426988681651522, 0.7492109038737446, 0.731308783676072, 0.744285031085605, 0.74757691694564, 0.7312609596684202, 0.7214729794356768, 0.7752749880439981]}, {\"categories\": [\"0\", \"1\", \"2\", \"3\", \"4\", \"5\", \"6\", \"7\", \"8\", \"9\", \"10\", \"11\", \"12\", \"13\", \"14\", \"15\", \"16\", \"17\", \"18\", \"19\", \"20\", \"21\", \"22\", \"23\", \"24\", \"25\", \"26\", \"27\", \"28\", \"29\", \"30\", \"31\", \"32\", \"33\", \"34\", \"36\"], \"mode\": \"lines\", \"name\": \"accuracy_max\", \"stepped\": true, \"type\": \"scatter\", \"data\": [0.7459588713534194, 0.7459588713534194, 0.7459588713534194, 0.7459588713534194, 0.7459588713534194, 0.7459588713534194, 0.7605850470269409, 0.7605850470269409, 0.7605850470269409, 0.7605850470269409, 0.7605850470269409, 0.7605850470269409, 0.7605850470269409, 0.7605850470269409, 0.7605850470269409, 0.7605850470269409, 0.7605850470269409, 0.7605850470269409, 0.7605850470269409, 0.7605850470269409, 0.7605850470269409, 0.7605850470269409, 0.7605850470269409, 0.7605850470269409, 0.7605850470269409, 0.7605850470269409, 0.7605850470269409, 0.7605850470269409, 0.7605850470269409, 0.7605850470269409, 0.7605850470269409, 0.7605850470269409, 0.7605850470269409, 0.7605850470269409, 0.7605850470269409, 0.7752749880439981]}], \"average_precision_score_micro\": [{\"categories\": [\"0\", \"1\", \"2\", \"3\", \"4\", \"5\", \"6\", \"7\", \"8\", \"9\", \"10\", \"11\", \"12\", \"13\", \"14\", \"15\", \"16\", \"17\", \"18\", \"19\", \"20\", \"21\", \"22\", \"23\", \"24\", \"25\", \"26\", \"27\", \"28\", \"29\", \"30\", \"31\", \"32\", \"33\", \"34\", \"36\"], \"mode\": \"markers\", \"name\": \"average_precision_score_micro\", \"stepped\": false, \"type\": \"scatter\", \"data\": [0.8166117860170772, 0.8275879185031454, 0.8292956537927813, 0.8315546853588485, 0.8224743731524106, 0.7668905016154016, 0.8482841407049843, 0.825386627101945, 0.7128678592457041, 0.7075066971345979, 0.732076513449245, 0.8440894020262149, 0.8175547512510782, 0.8365421321690718, 0.8306178980533575, 0.8108316660353752, 0.7342106668291141, 0.6926083547823182, 0.8455693309498082, 0.8404860833079391, 0.7855066327381247, 0.8433247387663995, 0.8453491636263092, 0.7082491195836011, 0.7103489734166395, 0.5900353261451707, 0.7027374018092386, 0.8196092143855628, 0.8257100115509215, 0.8168806916773375, 0.8315117238976516, 0.83268450547219, 0.8381015550868584, 0.782265226446445, 0.7744926746210394, 0.8417866461787636]}, {\"categories\": [\"0\", \"1\", \"2\", \"3\", \"4\", \"5\", \"6\", \"7\", \"8\", \"9\", \"10\", \"11\", \"12\", \"13\", \"14\", \"15\", \"16\", \"17\", \"18\", \"19\", \"20\", \"21\", \"22\", \"23\", \"24\", \"25\", \"26\", \"27\", \"28\", \"29\", \"30\", \"31\", \"32\", \"33\", \"34\", \"36\"], \"mode\": \"lines\", \"name\": \"average_precision_score_micro_max\", \"stepped\": true, \"type\": \"scatter\", \"data\": [0.8166117860170772, 0.8275879185031454, 0.8292956537927813, 0.8315546853588485, 0.8315546853588485, 0.8315546853588485, 0.8482841407049843, 0.8482841407049843, 0.8482841407049843, 0.8482841407049843, 0.8482841407049843, 0.8482841407049843, 0.8482841407049843, 0.8482841407049843, 0.8482841407049843, 0.8482841407049843, 0.8482841407049843, 0.8482841407049843, 0.8482841407049843, 0.8482841407049843, 0.8482841407049843, 0.8482841407049843, 0.8482841407049843, 0.8482841407049843, 0.8482841407049843, 0.8482841407049843, 0.8482841407049843, 0.8482841407049843, 0.8482841407049843, 0.8482841407049843, 0.8482841407049843, 0.8482841407049843, 0.8482841407049843, 0.8482841407049843, 0.8482841407049843, 0.8482841407049843]}], \"f1_score_micro\": [{\"categories\": [\"0\", \"1\", \"2\", \"3\", \"4\", \"5\", \"6\", \"7\", \"8\", \"9\", \"10\", \"11\", \"12\", \"13\", \"14\", \"15\", \"16\", \"17\", \"18\", \"19\", \"20\", \"21\", \"22\", \"23\", \"24\", \"25\", \"26\", \"27\", \"28\", \"29\", \"30\", \"31\", \"32\", \"33\", \"34\", \"36\"], \"mode\": \"markers\", \"name\": \"f1_score_micro\", \"stepped\": false, \"type\": \"scatter\", \"data\": [0.7459588713534194, 0.7443089430894309, 0.7443169137573729, 0.736154949784792, 0.7377809660449546, 0.7133349274669216, 0.7605850470269409, 0.7230910250278972, 0.675864817471704, 0.6465805834528934, 0.640052606408417, 0.7508369201339072, 0.7296508847441415, 0.7345050215208034, 0.7556751155746851, 0.7443487964291408, 0.6742308305435997, 0.6351028216164515, 0.7573409851745576, 0.7508289494659652, 0.7084329666826079, 0.7491869918699187, 0.755699027578511, 0.6465566714490675, 0.6563605930176949, 0.6400366650725331, 0.6449545671927308, 0.7378128487167226, 0.7426988681651522, 0.7492109038737446, 0.731308783676072, 0.744285031085605, 0.74757691694564, 0.7312609596684202, 0.7214729794356768, 0.7752749880439981]}, {\"categories\": [\"0\", \"1\", \"2\", \"3\", \"4\", \"5\", \"6\", \"7\", \"8\", \"9\", \"10\", \"11\", \"12\", \"13\", \"14\", \"15\", \"16\", \"17\", \"18\", \"19\", \"20\", \"21\", \"22\", \"23\", \"24\", \"25\", \"26\", \"27\", \"28\", \"29\", \"30\", \"31\", \"32\", \"33\", \"34\", \"36\"], \"mode\": \"lines\", \"name\": \"f1_score_micro_max\", \"stepped\": true, \"type\": \"scatter\", \"data\": [0.7459588713534194, 0.7459588713534194, 0.7459588713534194, 0.7459588713534194, 0.7459588713534194, 0.7459588713534194, 0.7605850470269409, 0.7605850470269409, 0.7605850470269409, 0.7605850470269409, 0.7605850470269409, 0.7605850470269409, 0.7605850470269409, 0.7605850470269409, 0.7605850470269409, 0.7605850470269409, 0.7605850470269409, 0.7605850470269409, 0.7605850470269409, 0.7605850470269409, 0.7605850470269409, 0.7605850470269409, 0.7605850470269409, 0.7605850470269409, 0.7605850470269409, 0.7605850470269409, 0.7605850470269409, 0.7605850470269409, 0.7605850470269409, 0.7605850470269409, 0.7605850470269409, 0.7605850470269409, 0.7605850470269409, 0.7605850470269409, 0.7605850470269409, 0.7752749880439981]}], \"precision_score_macro\": [{\"categories\": [\"0\", \"1\", \"2\", \"3\", \"4\", \"5\", \"6\", \"7\", \"8\", \"9\", \"10\", \"11\", \"12\", \"13\", \"14\", \"15\", \"16\", \"17\", \"18\", \"19\", \"20\", \"21\", \"22\", \"23\", \"24\", \"25\", \"26\", \"27\", \"28\", \"29\", \"30\", \"31\", \"32\", \"33\", \"34\", \"36\"], \"mode\": \"markers\", \"name\": \"precision_score_macro\", \"stepped\": false, \"type\": \"scatter\", \"data\": [0.726476160899086, 0.7260784827613822, 0.7251316319752066, 0.7198377573001875, 0.7176794879196363, 0.7035130927897608, 0.7461166165767302, 0.7091211062723897, 0.6444992393823981, 0.6057355090133044, 0.6029993155023942, 0.7360170876916717, 0.7508648164881587, 0.728192905905216, 0.7460361400669195, 0.7254504220431367, 0.6394574312666592, 0.5882344564495595, 0.7421616041929582, 0.738274683549817, 0.6813347471380032, 0.7333059738538067, 0.7483191655138031, 0.6045568172508183, 0.6180079895734117, 0.32001833253626655, 0.6371384751415708, 0.7306447946524025, 0.731292960862448, 0.7359989929901204, 0.7123103105251243, 0.742235092524191, 0.7316767671873355, 0.7135393617613434, 0.698769133237632, 0.7637266009347492]}, {\"categories\": [\"0\", \"1\", \"2\", \"3\", \"4\", \"5\", \"6\", \"7\", \"8\", \"9\", \"10\", \"11\", \"12\", \"13\", \"14\", \"15\", \"16\", \"17\", \"18\", \"19\", \"20\", \"21\", \"22\", \"23\", \"24\", \"25\", \"26\", \"27\", \"28\", \"29\", \"30\", \"31\", \"32\", \"33\", \"34\", \"36\"], \"mode\": \"lines\", \"name\": \"precision_score_macro_max\", \"stepped\": true, \"type\": \"scatter\", \"data\": [0.726476160899086, 0.726476160899086, 0.726476160899086, 0.726476160899086, 0.726476160899086, 0.726476160899086, 0.7461166165767302, 0.7461166165767302, 0.7461166165767302, 0.7461166165767302, 0.7461166165767302, 0.7461166165767302, 0.7508648164881587, 0.7508648164881587, 0.7508648164881587, 0.7508648164881587, 0.7508648164881587, 0.7508648164881587, 0.7508648164881587, 0.7508648164881587, 0.7508648164881587, 0.7508648164881587, 0.7508648164881587, 0.7508648164881587, 0.7508648164881587, 0.7508648164881587, 0.7508648164881587, 0.7508648164881587, 0.7508648164881587, 0.7508648164881587, 0.7508648164881587, 0.7508648164881587, 0.7508648164881587, 0.7508648164881587, 0.7508648164881587, 0.7637266009347492]}], \"log_loss\": [{\"categories\": [\"0\", \"1\", \"2\", \"3\", \"4\", \"5\", \"6\", \"7\", \"8\", \"9\", \"10\", \"11\", \"12\", \"13\", \"14\", \"15\", \"16\", \"17\", \"18\", \"19\", \"20\", \"21\", \"22\", \"23\", \"24\", \"25\", \"26\", \"27\", \"28\", \"29\", \"30\", \"31\", \"32\", \"33\", \"34\", \"36\"], \"mode\": \"markers\", \"name\": \"log_loss\", \"stepped\": false, \"type\": \"scatter\", \"data\": [0.6201588010501355, 0.5256130569555227, 0.5083756390235832, 0.5068877771996237, 0.5611973896650911, 0.5666925448259628, 0.4841525996600005, 0.5217029807199692, 0.6276849814341028, 0.6212837627747013, 0.5992097634240436, 0.4936688417078234, 0.5480841801734698, 0.5164165408242113, 0.5211773476496199, 0.5343421080682028, 0.6124554136252564, 0.633971576923048, 0.4887780863857977, 0.5121982049161432, 0.5519130736014058, 0.490757730798864, 0.49675806184895127, 0.6289363045989116, 0.6474579707345188, 0.6544910844940605, 0.624478207038598, 0.568708495704691, 0.5525588487640595, 0.54144652595638, 0.5073700968937233, 0.5128753220256419, 0.49721347559299217, 1.0621482050036468, 1.17638394617385, 0.4922318827273578]}, {\"categories\": [\"0\", \"1\", \"2\", \"3\", \"4\", \"5\", \"6\", \"7\", \"8\", \"9\", \"10\", \"11\", \"12\", \"13\", \"14\", \"15\", \"16\", \"17\", \"18\", \"19\", \"20\", \"21\", \"22\", \"23\", \"24\", \"25\", \"26\", \"27\", \"28\", \"29\", \"30\", \"31\", \"32\", \"33\", \"34\", \"36\"], \"mode\": \"lines\", \"name\": \"log_loss_min\", \"stepped\": true, \"type\": \"scatter\", \"data\": [0.6201588010501355, 0.5256130569555227, 0.5083756390235832, 0.5068877771996237, 0.5068877771996237, 0.5068877771996237, 0.4841525996600005, 0.4841525996600005, 0.4841525996600005, 0.4841525996600005, 0.4841525996600005, 0.4841525996600005, 0.4841525996600005, 0.4841525996600005, 0.4841525996600005, 0.4841525996600005, 0.4841525996600005, 0.4841525996600005, 0.4841525996600005, 0.4841525996600005, 0.4841525996600005, 0.4841525996600005, 0.4841525996600005, 0.4841525996600005, 0.4841525996600005, 0.4841525996600005, 0.4841525996600005, 0.4841525996600005, 0.4841525996600005, 0.4841525996600005, 0.4841525996600005, 0.4841525996600005, 0.4841525996600005, 0.4841525996600005, 0.4841525996600005, 0.4841525996600005]}], \"average_precision_score_macro\": [{\"categories\": [\"0\", \"1\", \"2\", \"3\", \"4\", \"5\", \"6\", \"7\", \"8\", \"9\", \"10\", \"11\", \"12\", \"13\", \"14\", \"15\", \"16\", \"17\", \"18\", \"19\", \"20\", \"21\", \"22\", \"23\", \"24\", \"25\", \"26\", \"27\", \"28\", \"29\", \"30\", \"31\", \"32\", \"33\", \"34\", \"36\"], \"mode\": \"markers\", \"name\": \"average_precision_score_macro\", \"stepped\": false, \"type\": \"scatter\", \"data\": [0.7692937589625579, 0.785048807722532, 0.7925840359804611, 0.7931548889475121, 0.7873267735644861, 0.7256517637172686, 0.810926920833924, 0.7850509434974731, 0.6559285320097833, 0.6354815677243769, 0.6649182075947729, 0.8036355331905366, 0.7957127642634881, 0.8073895308039859, 0.7928534352509901, 0.7703903610305923, 0.6735081525921659, 0.6175500226380088, 0.8061549643928391, 0.8029038932182623, 0.7440400860384114, 0.8057741113204777, 0.8094101539259277, 0.641851145745915, 0.6540843614523077, 0.5, 0.666490424403228, 0.8053680076757027, 0.8089891149410193, 0.7969769382626635, 0.7891108615126363, 0.8022671154827871, 0.8015485699621662, 0.7378033512961429, 0.7287543719926454, 0.8021205961036179]}, {\"categories\": [\"0\", \"1\", \"2\", \"3\", \"4\", \"5\", \"6\", \"7\", \"8\", \"9\", \"10\", \"11\", \"12\", \"13\", \"14\", \"15\", \"16\", \"17\", \"18\", \"19\", \"20\", \"21\", \"22\", \"23\", \"24\", \"25\", \"26\", \"27\", \"28\", \"29\", \"30\", \"31\", \"32\", \"33\", \"34\", \"36\"], \"mode\": \"lines\", \"name\": \"average_precision_score_macro_max\", \"stepped\": true, \"type\": \"scatter\", \"data\": [0.7692937589625579, 0.785048807722532, 0.7925840359804611, 0.7931548889475121, 0.7931548889475121, 0.7931548889475121, 0.810926920833924, 0.810926920833924, 0.810926920833924, 0.810926920833924, 0.810926920833924, 0.810926920833924, 0.810926920833924, 0.810926920833924, 0.810926920833924, 0.810926920833924, 0.810926920833924, 0.810926920833924, 0.810926920833924, 0.810926920833924, 0.810926920833924, 0.810926920833924, 0.810926920833924, 0.810926920833924, 0.810926920833924, 0.810926920833924, 0.810926920833924, 0.810926920833924, 0.810926920833924, 0.810926920833924, 0.810926920833924, 0.810926920833924, 0.810926920833924, 0.810926920833924, 0.810926920833924, 0.810926920833924]}], \"f1_score_weighted\": [{\"categories\": [\"0\", \"1\", \"2\", \"3\", \"4\", \"5\", \"6\", \"7\", \"8\", \"9\", \"10\", \"11\", \"12\", \"13\", \"14\", \"15\", \"16\", \"17\", \"18\", \"19\", \"20\", \"21\", \"22\", \"23\", \"24\", \"25\", \"26\", \"27\", \"28\", \"29\", \"30\", \"31\", \"32\", \"33\", \"34\", \"36\"], \"mode\": \"markers\", \"name\": \"f1_score_weighted\", \"stepped\": false, \"type\": \"scatter\", \"data\": [0.7437922628335389, 0.7407599038402416, 0.739394796459231, 0.7264618744812404, 0.7391705225611118, 0.6896838761745333, 0.7537807030206986, 0.7066598766089056, 0.6647346862553161, 0.5880340986662925, 0.6320581555004668, 0.7442405332888992, 0.6972563971871776, 0.7168164821787676, 0.7453045330231903, 0.7387610606797067, 0.659531018780299, 0.5938265512855629, 0.7525802709660697, 0.740898076651889, 0.7034888125532369, 0.7442152668238403, 0.7441147990345772, 0.6221992781164393, 0.643189590092668, 0.49974123625436845, 0.6517705620690379, 0.7422103111369166, 0.7465337698754971, 0.7526299265752022, 0.7258443179379551, 0.7274636034945287, 0.7409211468038429, 0.7209233471758084, 0.712295533372605, 0.7700283358985193]}, {\"categories\": [\"0\", \"1\", \"2\", \"3\", \"4\", \"5\", \"6\", \"7\", \"8\", \"9\", \"10\", \"11\", \"12\", \"13\", \"14\", \"15\", \"16\", \"17\", \"18\", \"19\", \"20\", \"21\", \"22\", \"23\", \"24\", \"25\", \"26\", \"27\", \"28\", \"29\", \"30\", \"31\", \"32\", \"33\", \"34\", \"36\"], \"mode\": \"lines\", \"name\": \"f1_score_weighted_max\", \"stepped\": true, \"type\": \"scatter\", \"data\": [0.7437922628335389, 0.7437922628335389, 0.7437922628335389, 0.7437922628335389, 0.7437922628335389, 0.7437922628335389, 0.7537807030206986, 0.7537807030206986, 0.7537807030206986, 0.7537807030206986, 0.7537807030206986, 0.7537807030206986, 0.7537807030206986, 0.7537807030206986, 0.7537807030206986, 0.7537807030206986, 0.7537807030206986, 0.7537807030206986, 0.7537807030206986, 0.7537807030206986, 0.7537807030206986, 0.7537807030206986, 0.7537807030206986, 0.7537807030206986, 0.7537807030206986, 0.7537807030206986, 0.7537807030206986, 0.7537807030206986, 0.7537807030206986, 0.7537807030206986, 0.7537807030206986, 0.7537807030206986, 0.7537807030206986, 0.7537807030206986, 0.7537807030206986, 0.7700283358985193]}], \"balanced_accuracy\": [{\"categories\": [\"0\", \"1\", \"2\", \"3\", \"4\", \"5\", \"6\", \"7\", \"8\", \"9\", \"10\", \"11\", \"12\", \"13\", \"14\", \"15\", \"16\", \"17\", \"18\", \"19\", \"20\", \"21\", \"22\", \"23\", \"24\", \"25\", \"26\", \"27\", \"28\", \"29\", \"30\", \"31\", \"32\", \"33\", \"34\", \"36\"], \"mode\": \"markers\", \"name\": \"balanced_accuracy\", \"stepped\": false, \"type\": \"scatter\", \"data\": [0.7175460053570063, 0.712601758701069, 0.7088817458978952, 0.691482969908622, 0.7227856760026112, 0.6445195543210298, 0.7191200564023799, 0.666820057731079, 0.6291581030536534, 0.5447996021218873, 0.5937656460985282, 0.7100879736247551, 0.6478151824121874, 0.6740218414802849, 0.7085545439329218, 0.7044269127121844, 0.6188685491012443, 0.5528963133511473, 0.722621491635912, 0.7017572945122962, 0.6695474721288027, 0.7148805039125051, 0.7037748580990892, 0.5767205893847419, 0.6023787375612755, 0.5, 0.6482559689910136, 0.7469675320960647, 0.7451493843076898, 0.7484019769752894, 0.693483749311587, 0.6847298054678815, 0.7068406531466259, 0.6823877314778426, 0.6744301370801783, 0.7383358009904776]}, {\"categories\": [\"0\", \"1\", \"2\", \"3\", \"4\", \"5\", \"6\", \"7\", \"8\", \"9\", \"10\", \"11\", \"12\", \"13\", \"14\", \"15\", \"16\", \"17\", \"18\", \"19\", \"20\", \"21\", \"22\", \"23\", \"24\", \"25\", \"26\", \"27\", \"28\", \"29\", \"30\", \"31\", \"32\", \"33\", \"34\", \"36\"], \"mode\": \"lines\", \"name\": \"balanced_accuracy_max\", \"stepped\": true, \"type\": \"scatter\", \"data\": [0.7175460053570063, 0.7175460053570063, 0.7175460053570063, 0.7175460053570063, 0.7227856760026112, 0.7227856760026112, 0.7227856760026112, 0.7227856760026112, 0.7227856760026112, 0.7227856760026112, 0.7227856760026112, 0.7227856760026112, 0.7227856760026112, 0.7227856760026112, 0.7227856760026112, 0.7227856760026112, 0.7227856760026112, 0.7227856760026112, 0.7227856760026112, 0.7227856760026112, 0.7227856760026112, 0.7227856760026112, 0.7227856760026112, 0.7227856760026112, 0.7227856760026112, 0.7227856760026112, 0.7227856760026112, 0.7469675320960647, 0.7469675320960647, 0.7484019769752894, 0.7484019769752894, 0.7484019769752894, 0.7484019769752894, 0.7484019769752894, 0.7484019769752894, 0.7484019769752894]}], \"recall_score_weighted\": [{\"categories\": [\"0\", \"1\", \"2\", \"3\", \"4\", \"5\", \"6\", \"7\", \"8\", \"9\", \"10\", \"11\", \"12\", \"13\", \"14\", \"15\", \"16\", \"17\", \"18\", \"19\", \"20\", \"21\", \"22\", \"23\", \"24\", \"25\", \"26\", \"27\", \"28\", \"29\", \"30\", \"31\", \"32\", \"33\", \"34\", \"36\"], \"mode\": \"markers\", \"name\": \"recall_score_weighted\", \"stepped\": false, \"type\": \"scatter\", \"data\": [0.7459588713534194, 0.7443089430894309, 0.7443169137573729, 0.736154949784792, 0.7377809660449546, 0.7133349274669216, 0.7605850470269409, 0.7230910250278972, 0.675864817471704, 0.6465805834528934, 0.640052606408417, 0.7508369201339072, 0.7296508847441415, 0.7345050215208034, 0.7556751155746851, 0.7443487964291408, 0.6742308305435994, 0.6351028216164515, 0.7573409851745576, 0.7508289494659652, 0.7084329666826079, 0.7491869918699187, 0.755699027578511, 0.6465566714490675, 0.6563605930176949, 0.6400366650725331, 0.6449545671927308, 0.7378128487167225, 0.7426988681651522, 0.7492109038737446, 0.731308783676072, 0.744285031085605, 0.74757691694564, 0.7312609596684202, 0.7214729794356768, 0.7752749880439981]}, {\"categories\": [\"0\", \"1\", \"2\", \"3\", \"4\", \"5\", \"6\", \"7\", \"8\", \"9\", \"10\", \"11\", \"12\", \"13\", \"14\", \"15\", \"16\", \"17\", \"18\", \"19\", \"20\", \"21\", \"22\", \"23\", \"24\", \"25\", \"26\", \"27\", \"28\", \"29\", \"30\", \"31\", \"32\", \"33\", \"34\", \"36\"], \"mode\": \"lines\", \"name\": \"recall_score_weighted_max\", \"stepped\": true, \"type\": \"scatter\", \"data\": [0.7459588713534194, 0.7459588713534194, 0.7459588713534194, 0.7459588713534194, 0.7459588713534194, 0.7459588713534194, 0.7605850470269409, 0.7605850470269409, 0.7605850470269409, 0.7605850470269409, 0.7605850470269409, 0.7605850470269409, 0.7605850470269409, 0.7605850470269409, 0.7605850470269409, 0.7605850470269409, 0.7605850470269409, 0.7605850470269409, 0.7605850470269409, 0.7605850470269409, 0.7605850470269409, 0.7605850470269409, 0.7605850470269409, 0.7605850470269409, 0.7605850470269409, 0.7605850470269409, 0.7605850470269409, 0.7605850470269409, 0.7605850470269409, 0.7605850470269409, 0.7605850470269409, 0.7605850470269409, 0.7605850470269409, 0.7605850470269409, 0.7605850470269409, 0.7752749880439981]}], \"AUC_micro\": [{\"categories\": [\"0\", \"1\", \"2\", \"3\", \"4\", \"5\", \"6\", \"7\", \"8\", \"9\", \"10\", \"11\", \"12\", \"13\", \"14\", \"15\", \"16\", \"17\", \"18\", \"19\", \"20\", \"21\", \"22\", \"23\", \"24\", \"25\", \"26\", \"27\", \"28\", \"29\", \"30\", \"31\", \"32\", \"33\", \"34\", \"36\"], \"mode\": \"markers\", \"name\": \"AUC_micro\", \"stepped\": false, \"type\": \"scatter\", \"data\": [0.8188072049806498, 0.8286293876125527, 0.8283901088089566, 0.8286401455365442, 0.8254387240893254, 0.7817072876262984, 0.8468988839387648, 0.8202024982307098, 0.7234172220403948, 0.7083421698727355, 0.7301687118996544, 0.840749820097717, 0.8142238799381832, 0.8333296047303455, 0.8292195946082451, 0.8179583867856008, 0.7349717693121737, 0.7038962967308521, 0.8424251029763793, 0.8393185517277292, 0.7937394081792394, 0.8414943361371329, 0.8419207817384108, 0.7157724219539716, 0.718520639646293, 0.6400366650725332, 0.7024397122463079, 0.8166505968699939, 0.822123471135547, 0.8166126917887176, 0.8273277952629302, 0.8329103893368243, 0.8391569147011975, 0.7973305779447083, 0.7869766345453705, 0.8410023315061407]}, {\"categories\": [\"0\", \"1\", \"2\", \"3\", \"4\", \"5\", \"6\", \"7\", \"8\", \"9\", \"10\", \"11\", \"12\", \"13\", \"14\", \"15\", \"16\", \"17\", \"18\", \"19\", \"20\", \"21\", \"22\", \"23\", \"24\", \"25\", \"26\", \"27\", \"28\", \"29\", \"30\", \"31\", \"32\", \"33\", \"34\", \"36\"], \"mode\": \"lines\", \"name\": \"AUC_micro_max\", \"stepped\": true, \"type\": \"scatter\", \"data\": [0.8188072049806498, 0.8286293876125527, 0.8286293876125527, 0.8286401455365442, 0.8286401455365442, 0.8286401455365442, 0.8468988839387648, 0.8468988839387648, 0.8468988839387648, 0.8468988839387648, 0.8468988839387648, 0.8468988839387648, 0.8468988839387648, 0.8468988839387648, 0.8468988839387648, 0.8468988839387648, 0.8468988839387648, 0.8468988839387648, 0.8468988839387648, 0.8468988839387648, 0.8468988839387648, 0.8468988839387648, 0.8468988839387648, 0.8468988839387648, 0.8468988839387648, 0.8468988839387648, 0.8468988839387648, 0.8468988839387648, 0.8468988839387648, 0.8468988839387648, 0.8468988839387648, 0.8468988839387648, 0.8468988839387648, 0.8468988839387648, 0.8468988839387648, 0.8468988839387648]}], \"recall_score_micro\": [{\"categories\": [\"0\", \"1\", \"2\", \"3\", \"4\", \"5\", \"6\", \"7\", \"8\", \"9\", \"10\", \"11\", \"12\", \"13\", \"14\", \"15\", \"16\", \"17\", \"18\", \"19\", \"20\", \"21\", \"22\", \"23\", \"24\", \"25\", \"26\", \"27\", \"28\", \"29\", \"30\", \"31\", \"32\", \"33\", \"34\", \"36\"], \"mode\": \"markers\", \"name\": \"recall_score_micro\", \"stepped\": false, \"type\": \"scatter\", \"data\": [0.7459588713534194, 0.7443089430894309, 0.7443169137573729, 0.736154949784792, 0.7377809660449546, 0.7133349274669216, 0.7605850470269409, 0.7230910250278972, 0.675864817471704, 0.6465805834528934, 0.640052606408417, 0.7508369201339072, 0.7296508847441415, 0.7345050215208034, 0.7556751155746851, 0.7443487964291408, 0.6742308305435994, 0.6351028216164515, 0.7573409851745576, 0.7508289494659652, 0.7084329666826079, 0.7491869918699187, 0.755699027578511, 0.6465566714490675, 0.6563605930176949, 0.6400366650725331, 0.6449545671927308, 0.7378128487167225, 0.7426988681651522, 0.7492109038737446, 0.731308783676072, 0.744285031085605, 0.74757691694564, 0.7312609596684202, 0.7214729794356768, 0.7752749880439981]}, {\"categories\": [\"0\", \"1\", \"2\", \"3\", \"4\", \"5\", \"6\", \"7\", \"8\", \"9\", \"10\", \"11\", \"12\", \"13\", \"14\", \"15\", \"16\", \"17\", \"18\", \"19\", \"20\", \"21\", \"22\", \"23\", \"24\", \"25\", \"26\", \"27\", \"28\", \"29\", \"30\", \"31\", \"32\", \"33\", \"34\", \"36\"], \"mode\": \"lines\", \"name\": \"recall_score_micro_max\", \"stepped\": true, \"type\": \"scatter\", \"data\": [0.7459588713534194, 0.7459588713534194, 0.7459588713534194, 0.7459588713534194, 0.7459588713534194, 0.7459588713534194, 0.7605850470269409, 0.7605850470269409, 0.7605850470269409, 0.7605850470269409, 0.7605850470269409, 0.7605850470269409, 0.7605850470269409, 0.7605850470269409, 0.7605850470269409, 0.7605850470269409, 0.7605850470269409, 0.7605850470269409, 0.7605850470269409, 0.7605850470269409, 0.7605850470269409, 0.7605850470269409, 0.7605850470269409, 0.7605850470269409, 0.7605850470269409, 0.7605850470269409, 0.7605850470269409, 0.7605850470269409, 0.7605850470269409, 0.7605850470269409, 0.7605850470269409, 0.7605850470269409, 0.7605850470269409, 0.7605850470269409, 0.7605850470269409, 0.7752749880439981]}], \"precision_score_micro\": [{\"categories\": [\"0\", \"1\", \"2\", \"3\", \"4\", \"5\", \"6\", \"7\", \"8\", \"9\", \"10\", \"11\", \"12\", \"13\", \"14\", \"15\", \"16\", \"17\", \"18\", \"19\", \"20\", \"21\", \"22\", \"23\", \"24\", \"25\", \"26\", \"27\", \"28\", \"29\", \"30\", \"31\", \"32\", \"33\", \"34\", \"36\"], \"mode\": \"markers\", \"name\": \"precision_score_micro\", \"stepped\": false, \"type\": \"scatter\", \"data\": [0.7459588713534194, 0.7443089430894309, 0.7443169137573729, 0.736154949784792, 0.7377809660449546, 0.7133349274669216, 0.7605850470269409, 0.7230910250278972, 0.675864817471704, 0.6465805834528934, 0.640052606408417, 0.7508369201339072, 0.7296508847441415, 0.7345050215208034, 0.7556751155746851, 0.7443487964291408, 0.6742308305435994, 0.6351028216164515, 0.7573409851745576, 0.7508289494659652, 0.7084329666826079, 0.7491869918699187, 0.755699027578511, 0.6465566714490675, 0.6563605930176949, 0.6400366650725331, 0.6449545671927308, 0.7378128487167225, 0.7426988681651522, 0.7492109038737446, 0.731308783676072, 0.744285031085605, 0.74757691694564, 0.7312609596684202, 0.7214729794356768, 0.7752749880439981]}, {\"categories\": [\"0\", \"1\", \"2\", \"3\", \"4\", \"5\", \"6\", \"7\", \"8\", \"9\", \"10\", \"11\", \"12\", \"13\", \"14\", \"15\", \"16\", \"17\", \"18\", \"19\", \"20\", \"21\", \"22\", \"23\", \"24\", \"25\", \"26\", \"27\", \"28\", \"29\", \"30\", \"31\", \"32\", \"33\", \"34\", \"36\"], \"mode\": \"lines\", \"name\": \"precision_score_micro_max\", \"stepped\": true, \"type\": \"scatter\", \"data\": [0.7459588713534194, 0.7459588713534194, 0.7459588713534194, 0.7459588713534194, 0.7459588713534194, 0.7459588713534194, 0.7605850470269409, 0.7605850470269409, 0.7605850470269409, 0.7605850470269409, 0.7605850470269409, 0.7605850470269409, 0.7605850470269409, 0.7605850470269409, 0.7605850470269409, 0.7605850470269409, 0.7605850470269409, 0.7605850470269409, 0.7605850470269409, 0.7605850470269409, 0.7605850470269409, 0.7605850470269409, 0.7605850470269409, 0.7605850470269409, 0.7605850470269409, 0.7605850470269409, 0.7605850470269409, 0.7605850470269409, 0.7605850470269409, 0.7605850470269409, 0.7605850470269409, 0.7605850470269409, 0.7605850470269409, 0.7605850470269409, 0.7605850470269409, 0.7752749880439981]}]}, \"metricName\": null, \"primaryMetricName\": \"accuracy\", \"showLegend\": false}, \"run_metrics\": [{\"name\": \"experiment_status\", \"run_id\": \"AutoML_2ec3f21f-9a94-4fa9-bc86-654faf41cb71\", \"categories\": [0, 1, 2, 3, 4, 5, 6, 7, 8, 9, 10, 11, 12, 13], \"series\": [{\"data\": [\"DatasetEvaluation\", \"FeaturesGeneration\", \"DatasetFeaturization\", \"DatasetFeaturizationCompleted\", \"DatasetCrossValidationSplit\", \"ModelSelection\", \"BestRunExplainModel\", \"ModelExplanationDataSetSetup\", \"PickSurrogateModel\", \"EngineeredFeatureExplanations\", \"EngineeredFeatureExplanations\", \"RawFeaturesExplanations\", \"RawFeaturesExplanations\", \"BestRunExplainModel\"]}]}, {\"name\": \"experiment_status_description\", \"run_id\": \"AutoML_2ec3f21f-9a94-4fa9-bc86-654faf41cb71\", \"categories\": [0, 1, 2, 3, 4, 5, 6, 7, 8, 9, 10, 11, 12, 13], \"series\": [{\"data\": [\"Gathering dataset statistics.\", \"Generating features for the dataset.\", \"Beginning to fit featurizers and featurize the dataset.\", \"Completed fit featurizers and featurizing the dataset.\", \"Generating individually featurized CV splits.\", \"Beginning model selection.\", \"Best run model explanations started\", \"Model explanations data setup completed\", \"Choosing LightGBM as the surrogate model for explanations\", \"Computation of engineered features started\", \"Computation of engineered features completed\", \"Computation of raw features started\", \"Computation of raw features completed\", \"Best run model explanations completed\"]}]}, {\"name\": \"f1_score_weighted\", \"run_id\": \"AutoML_2ec3f21f-9a94-4fa9-bc86-654faf41cb71\", \"categories\": [0], \"series\": [{\"data\": [0.7700283358985193]}]}, {\"name\": \"AUC_weighted\", \"run_id\": \"AutoML_2ec3f21f-9a94-4fa9-bc86-654faf41cb71\", \"categories\": [0], \"series\": [{\"data\": [0.8247731786520215]}]}, {\"name\": \"norm_macro_recall\", \"run_id\": \"AutoML_2ec3f21f-9a94-4fa9-bc86-654faf41cb71\", \"categories\": [0], \"series\": [{\"data\": [0.476671601980955]}]}, {\"name\": \"recall_score_weighted\", \"run_id\": \"AutoML_2ec3f21f-9a94-4fa9-bc86-654faf41cb71\", \"categories\": [0], \"series\": [{\"data\": [0.7752749880439981]}]}, {\"name\": \"precision_score_weighted\", \"run_id\": \"AutoML_2ec3f21f-9a94-4fa9-bc86-654faf41cb71\", \"categories\": [0], \"series\": [{\"data\": [0.7742545936357299]}]}, {\"name\": \"log_loss\", \"run_id\": \"AutoML_2ec3f21f-9a94-4fa9-bc86-654faf41cb71\", \"categories\": [0], \"series\": [{\"data\": [0.4922318827273578]}]}, {\"name\": \"AUC_micro\", \"run_id\": \"AutoML_2ec3f21f-9a94-4fa9-bc86-654faf41cb71\", \"categories\": [0], \"series\": [{\"data\": [0.8410023315061407]}]}, {\"name\": \"recall_score_micro\", \"run_id\": \"AutoML_2ec3f21f-9a94-4fa9-bc86-654faf41cb71\", \"categories\": [0], \"series\": [{\"data\": [0.7752749880439981]}]}, {\"name\": \"AUC_macro\", \"run_id\": \"AutoML_2ec3f21f-9a94-4fa9-bc86-654faf41cb71\", \"categories\": [0], \"series\": [{\"data\": [0.8247731786520215]}]}, {\"name\": \"balanced_accuracy\", \"run_id\": \"AutoML_2ec3f21f-9a94-4fa9-bc86-654faf41cb71\", \"categories\": [0], \"series\": [{\"data\": [0.7383358009904776]}]}, {\"name\": \"average_precision_score_weighted\", \"run_id\": \"AutoML_2ec3f21f-9a94-4fa9-bc86-654faf41cb71\", \"categories\": [0], \"series\": [{\"data\": [0.8283031092716252]}]}, {\"name\": \"average_precision_score_micro\", \"run_id\": \"AutoML_2ec3f21f-9a94-4fa9-bc86-654faf41cb71\", \"categories\": [0], \"series\": [{\"data\": [0.8417866461787636]}]}, {\"name\": \"precision_score_macro\", \"run_id\": \"AutoML_2ec3f21f-9a94-4fa9-bc86-654faf41cb71\", \"categories\": [0], \"series\": [{\"data\": [0.7637266009347492]}]}, {\"name\": \"matthews_correlation\", \"run_id\": \"AutoML_2ec3f21f-9a94-4fa9-bc86-654faf41cb71\", \"categories\": [0], \"series\": [{\"data\": [0.5011666447513653]}]}, {\"name\": \"average_precision_score_macro\", \"run_id\": \"AutoML_2ec3f21f-9a94-4fa9-bc86-654faf41cb71\", \"categories\": [0], \"series\": [{\"data\": [0.8021205961036179]}]}, {\"name\": \"precision_score_micro\", \"run_id\": \"AutoML_2ec3f21f-9a94-4fa9-bc86-654faf41cb71\", \"categories\": [0], \"series\": [{\"data\": [0.7752749880439981]}]}, {\"name\": \"accuracy\", \"run_id\": \"AutoML_2ec3f21f-9a94-4fa9-bc86-654faf41cb71\", \"categories\": [0], \"series\": [{\"data\": [0.7752749880439981]}]}, {\"name\": \"f1_score_macro\", \"run_id\": \"AutoML_2ec3f21f-9a94-4fa9-bc86-654faf41cb71\", \"categories\": [0], \"series\": [{\"data\": [0.7455426543576312]}]}, {\"name\": \"recall_score_macro\", \"run_id\": \"AutoML_2ec3f21f-9a94-4fa9-bc86-654faf41cb71\", \"categories\": [0], \"series\": [{\"data\": [0.7383358009904776]}]}, {\"name\": \"weighted_accuracy\", \"run_id\": \"AutoML_2ec3f21f-9a94-4fa9-bc86-654faf41cb71\", \"categories\": [0], \"series\": [{\"data\": [0.8068416095001499]}]}, {\"name\": \"f1_score_micro\", \"run_id\": \"AutoML_2ec3f21f-9a94-4fa9-bc86-654faf41cb71\", \"categories\": [0], \"series\": [{\"data\": [0.7752749880439981]}]}], \"run_logs\": \"\\nRun is completed.\", \"graph\": {}, \"widget_settings\": {\"childWidgetDisplay\": \"popup\", \"send_telemetry\": false, \"log_level\": \"INFO\", \"sdk_version\": \"1.19.0\"}, \"loading\": false}"
     },
     "metadata": {},
     "output_type": "display_data"
    },
    {
     "name": "stdout",
     "output_type": "stream",
     "text": [
      "\n",
      "Current status: FeaturesGeneration. Generating features for the dataset.\n",
      "Current status: DatasetCrossValidationSplit. Generating individually featurized CV splits.\n",
      "Current status: ModelSelection. Beginning model selection.\n",
      "\n",
      "****************************************************************************************************\n",
      "DATA GUARDRAILS: \n",
      "\n",
      "TYPE:         Class balancing detection\n",
      "STATUS:       PASSED\n",
      "DESCRIPTION:  Your inputs were analyzed, and all classes are balanced in your training data.\n",
      "              Learn more about imbalanced data: https://aka.ms/AutomatedMLImbalancedData\n",
      "\n",
      "****************************************************************************************************\n",
      "\n",
      "TYPE:         High cardinality feature detection\n",
      "STATUS:       PASSED\n",
      "DESCRIPTION:  Your inputs were analyzed, and no high cardinality features were detected.\n",
      "              Learn more about high cardinality feature handling: https://aka.ms/AutomatedMLFeaturization\n",
      "\n",
      "****************************************************************************************************\n",
      "\n",
      "****************************************************************************************************\n",
      "ITERATION: The iteration being evaluated.\n",
      "PIPELINE: A summary description of the pipeline being evaluated.\n",
      "DURATION: Time taken for the current iteration.\n",
      "METRIC: The result of computing score on the fitted pipeline.\n",
      "BEST: The best observed score thus far.\n",
      "****************************************************************************************************\n",
      "\n",
      " ITERATION   PIPELINE                                       DURATION      METRIC      BEST\n",
      "         3   MinMaxScaler RandomForest                      0:01:20       0.7362    0.7362\n",
      "         2   MinMaxScaler RandomForest                      0:01:12       0.7443    0.7443\n",
      "         5   MinMaxScaler SVM                               0:01:03       0.7133    0.7443\n",
      "         6   MaxAbsScaler GradientBoosting                  0:01:14       0.7606    0.7606\n",
      "         1   MaxAbsScaler XGBoostClassifier                 0:03:47       0.7443    0.7606\n",
      "         4   MinMaxScaler RandomForest                      0:03:51       0.7378    0.7606\n",
      "         0   MaxAbsScaler LightGBM                          0:03:56       0.7460    0.7606\n",
      "         7   StandardScalerWrapper RandomForest             0:01:05       0.7231    0.7606\n",
      "        10   SparseNormalizer LightGBM                      0:01:07       0.6401    0.7606\n",
      "         8   SparseNormalizer XGBoostClassifier             0:01:17       0.6759    0.7606\n",
      "         9   SparseNormalizer LightGBM                      0:01:07       0.6466    0.7606\n",
      "        11   RobustScaler GradientBoosting                  0:01:14       0.7508    0.7606\n",
      "        12   StandardScalerWrapper LightGBM                 0:01:06       0.7297    0.7606\n",
      "        14   MaxAbsScaler LightGBM                          0:01:06       0.7557    0.7606\n",
      "        13   RobustScaler ExtremeRandomTrees                0:01:16       0.7345    0.7606\n",
      "        15   MinMaxScaler LightGBM                          0:01:04       0.7443    0.7606\n",
      "        16   SparseNormalizer XGBoostClassifier             0:01:09       0.6742    0.7606\n",
      "        17   SparseNormalizer XGBoostClassifier             0:01:02       0.6351    0.7606\n",
      "        18   StandardScalerWrapper LightGBM                 0:01:06       0.7573    0.7606\n",
      "        19   StandardScalerWrapper XGBoostClassifier        0:01:18       0.7508    0.7606\n",
      "        20   TruncatedSVDWrapper XGBoostClassifier          0:01:11       0.7084    0.7606\n",
      "        21   StandardScalerWrapper LightGBM                 0:01:04       0.7492    0.7606\n",
      "        22   MaxAbsScaler GradientBoosting                  0:01:19       0.7557    0.7606\n",
      "        23   SparseNormalizer XGBoostClassifier             0:01:18       0.6466    0.7606\n",
      "        24   SparseNormalizer XGBoostClassifier             0:01:20       0.6564    0.7606\n",
      "        25   TruncatedSVDWrapper GradientBoosting           0:01:10       0.6400    0.7606\n",
      "        26   SparseNormalizer RandomForest                  0:01:09       0.6450    0.7606\n",
      "        27   MaxAbsScaler ExtremeRandomTrees                0:01:18       0.7378    0.7606\n",
      "        28   StandardScalerWrapper ExtremeRandomTrees       0:01:13       0.7427    0.7606\n",
      "        29   MaxAbsScaler ExtremeRandomTrees                0:01:16       0.7492    0.7606\n",
      "        30   StandardScalerWrapper GradientBoosting         0:01:04       0.7313    0.7606\n",
      "        31   MinMaxScaler LightGBM                          0:01:09       0.7443    0.7606\n",
      "        32   StandardScalerWrapper RandomForest             0:01:08       0.7476    0.7606\n",
      "        33   StandardScalerWrapper KNN                      0:01:06       0.7313    0.7606\n",
      "        35                                                  0:00:17          nan    0.7606\n",
      "        34   RobustScaler KNN                               0:01:09       0.7215    0.7606\n",
      "        36    VotingEnsemble                                0:01:36       0.7753    0.7753\n"
     ]
    },
    {
     "data": {
      "text/plain": [
       "{'runId': 'AutoML_2ec3f21f-9a94-4fa9-bc86-654faf41cb71',\n",
       " 'target': 'auto-ml',\n",
       " 'status': 'Completed',\n",
       " 'startTimeUtc': '2020-12-29T22:42:35.025673Z',\n",
       " 'endTimeUtc': '2020-12-29T23:10:16.478863Z',\n",
       " 'properties': {'num_iterations': '1000',\n",
       "  'training_type': 'TrainFull',\n",
       "  'acquisition_function': 'EI',\n",
       "  'primary_metric': 'accuracy',\n",
       "  'train_split': '0',\n",
       "  'acquisition_parameter': '0',\n",
       "  'num_cross_validation': '3',\n",
       "  'target': 'auto-ml',\n",
       "  'AMLSettingsJsonString': '{\"path\":null,\"name\":\"puru-auto-experiment\",\"subscription_id\":\"a24a24d5-8d87-4c8a-99b6-91ed2d2df51f\",\"resource_group\":\"aml-quickstarts-132399\",\"workspace_name\":\"quick-starts-ws-132399\",\"region\":\"southcentralus\",\"compute_target\":\"auto-ml\",\"spark_service\":null,\"azure_service\":\"remote\",\"many_models\":false,\"pipeline_fetch_max_batch_size\":1,\"iterations\":1000,\"primary_metric\":\"accuracy\",\"task_type\":\"classification\",\"data_script\":null,\"validation_size\":0.0,\"n_cross_validations\":3,\"y_min\":null,\"y_max\":null,\"num_classes\":null,\"featurization\":\"auto\",\"_ignore_package_version_incompatibilities\":false,\"is_timeseries\":false,\"max_cores_per_iteration\":-1,\"max_concurrent_iterations\":4,\"iteration_timeout_minutes\":5,\"mem_in_mb\":null,\"enforce_time_on_windows\":false,\"experiment_timeout_minutes\":30,\"experiment_exit_score\":null,\"whitelist_models\":null,\"blacklist_algos\":[\"TensorFlowLinearClassifier\",\"TensorFlowDNN\"],\"supported_models\":[\"RandomForest\",\"KNN\",\"SGD\",\"GradientBoosting\",\"LightGBM\",\"DecisionTree\",\"ExtremeRandomTrees\",\"BernoulliNaiveBayes\",\"TensorFlowDNN\",\"LinearSVM\",\"XGBoostClassifier\",\"SVM\",\"AveragedPerceptronClassifier\",\"MultinomialNaiveBayes\",\"TensorFlowLinearClassifier\",\"LogisticRegression\"],\"auto_blacklist\":true,\"blacklist_samples_reached\":false,\"exclude_nan_labels\":true,\"verbosity\":20,\"_debug_log\":\"azureml_automl.log\",\"show_warnings\":false,\"model_explainability\":true,\"service_url\":null,\"sdk_url\":null,\"sdk_packages\":null,\"enable_onnx_compatible_models\":true,\"enable_split_onnx_featurizer_estimator_models\":false,\"vm_type\":\"STANDARD_D2_V2\",\"telemetry_verbosity\":20,\"send_telemetry\":true,\"enable_dnn\":false,\"scenario\":\"SDK-1.13.0\",\"environment_label\":null,\"force_text_dnn\":false,\"enable_feature_sweeping\":false,\"enable_early_stopping\":true,\"early_stopping_n_iters\":10,\"metrics\":null,\"enable_ensembling\":true,\"enable_stack_ensembling\":false,\"ensemble_iterations\":15,\"enable_tf\":false,\"enable_subsampling\":null,\"subsample_seed\":null,\"enable_nimbusml\":false,\"enable_streaming\":false,\"force_streaming\":false,\"track_child_runs\":true,\"allowed_private_models\":[],\"label_column_name\":\"Outcome\",\"weight_column_name\":null,\"cv_split_column_names\":null,\"enable_local_managed\":false,\"_local_managed_run_id\":null,\"cost_mode\":1,\"lag_length\":0,\"metric_operation\":\"maximize\",\"preprocess\":true}',\n",
       "  'DataPrepJsonString': '{\\\\\"training_data\\\\\": \\\\\"{\\\\\\\\\\\\\"blocks\\\\\\\\\\\\\": [{\\\\\\\\\\\\\"id\\\\\\\\\\\\\": \\\\\\\\\\\\\"135e086c-1d7e-4889-b4c5-e8b4506b4ed6\\\\\\\\\\\\\", \\\\\\\\\\\\\"type\\\\\\\\\\\\\": \\\\\\\\\\\\\"Microsoft.DPrep.GetDatastoreFilesBlock\\\\\\\\\\\\\", \\\\\\\\\\\\\"arguments\\\\\\\\\\\\\": {\\\\\\\\\\\\\"datastores\\\\\\\\\\\\\": [{\\\\\\\\\\\\\"datastoreName\\\\\\\\\\\\\": \\\\\\\\\\\\\"workspaceblobstore\\\\\\\\\\\\\", \\\\\\\\\\\\\"path\\\\\\\\\\\\\": \\\\\\\\\\\\\"automlclassifier/train_data.csv\\\\\\\\\\\\\", \\\\\\\\\\\\\"resourceGroup\\\\\\\\\\\\\": \\\\\\\\\\\\\"aml-quickstarts-132399\\\\\\\\\\\\\", \\\\\\\\\\\\\"subscription\\\\\\\\\\\\\": \\\\\\\\\\\\\"a24a24d5-8d87-4c8a-99b6-91ed2d2df51f\\\\\\\\\\\\\", \\\\\\\\\\\\\"workspaceName\\\\\\\\\\\\\": \\\\\\\\\\\\\"quick-starts-ws-132399\\\\\\\\\\\\\"}]}, \\\\\\\\\\\\\"localData\\\\\\\\\\\\\": {}, \\\\\\\\\\\\\"isEnabled\\\\\\\\\\\\\": true, \\\\\\\\\\\\\"name\\\\\\\\\\\\\": null, \\\\\\\\\\\\\"annotation\\\\\\\\\\\\\": null}, {\\\\\\\\\\\\\"id\\\\\\\\\\\\\": \\\\\\\\\\\\\"eed64a23-67cd-4b33-a073-629576c7b340\\\\\\\\\\\\\", \\\\\\\\\\\\\"type\\\\\\\\\\\\\": \\\\\\\\\\\\\"Microsoft.DPrep.ParseDelimitedBlock\\\\\\\\\\\\\", \\\\\\\\\\\\\"arguments\\\\\\\\\\\\\": {\\\\\\\\\\\\\"columnHeadersMode\\\\\\\\\\\\\": 3, \\\\\\\\\\\\\"fileEncoding\\\\\\\\\\\\\": 0, \\\\\\\\\\\\\"handleQuotedLineBreaks\\\\\\\\\\\\\": false, \\\\\\\\\\\\\"preview\\\\\\\\\\\\\": false, \\\\\\\\\\\\\"separator\\\\\\\\\\\\\": \\\\\\\\\\\\\",\\\\\\\\\\\\\", \\\\\\\\\\\\\"skipRows\\\\\\\\\\\\\": 0, \\\\\\\\\\\\\"skipRowsMode\\\\\\\\\\\\\": 0}, \\\\\\\\\\\\\"localData\\\\\\\\\\\\\": {}, \\\\\\\\\\\\\"isEnabled\\\\\\\\\\\\\": true, \\\\\\\\\\\\\"name\\\\\\\\\\\\\": null, \\\\\\\\\\\\\"annotation\\\\\\\\\\\\\": null}, {\\\\\\\\\\\\\"id\\\\\\\\\\\\\": \\\\\\\\\\\\\"5c4cf450-2533-42dd-9187-3bf7b2803377\\\\\\\\\\\\\", \\\\\\\\\\\\\"type\\\\\\\\\\\\\": \\\\\\\\\\\\\"Microsoft.DPrep.DropColumnsBlock\\\\\\\\\\\\\", \\\\\\\\\\\\\"arguments\\\\\\\\\\\\\": {\\\\\\\\\\\\\"columns\\\\\\\\\\\\\": {\\\\\\\\\\\\\"type\\\\\\\\\\\\\": 0, \\\\\\\\\\\\\"details\\\\\\\\\\\\\": {\\\\\\\\\\\\\"selectedColumns\\\\\\\\\\\\\": [\\\\\\\\\\\\\"Path\\\\\\\\\\\\\"]}}}, \\\\\\\\\\\\\"localData\\\\\\\\\\\\\": {}, \\\\\\\\\\\\\"isEnabled\\\\\\\\\\\\\": true, \\\\\\\\\\\\\"name\\\\\\\\\\\\\": null, \\\\\\\\\\\\\"annotation\\\\\\\\\\\\\": null}, {\\\\\\\\\\\\\"id\\\\\\\\\\\\\": \\\\\\\\\\\\\"8a72e267-35b5-46d2-8136-d37fde140ee7\\\\\\\\\\\\\", \\\\\\\\\\\\\"type\\\\\\\\\\\\\": \\\\\\\\\\\\\"Microsoft.DPrep.SetColumnTypesBlock\\\\\\\\\\\\\", \\\\\\\\\\\\\"arguments\\\\\\\\\\\\\": {\\\\\\\\\\\\\"columnConversion\\\\\\\\\\\\\": [{\\\\\\\\\\\\\"column\\\\\\\\\\\\\": {\\\\\\\\\\\\\"type\\\\\\\\\\\\\": 2, \\\\\\\\\\\\\"details\\\\\\\\\\\\\": {\\\\\\\\\\\\\"selectedColumn\\\\\\\\\\\\\": \\\\\\\\\\\\\"Pregnancies\\\\\\\\\\\\\"}}, \\\\\\\\\\\\\"typeProperty\\\\\\\\\\\\\": 2}, {\\\\\\\\\\\\\"column\\\\\\\\\\\\\": {\\\\\\\\\\\\\"type\\\\\\\\\\\\\": 2, \\\\\\\\\\\\\"details\\\\\\\\\\\\\": {\\\\\\\\\\\\\"selectedColumn\\\\\\\\\\\\\": \\\\\\\\\\\\\"Glucose\\\\\\\\\\\\\"}}, \\\\\\\\\\\\\"typeProperty\\\\\\\\\\\\\": 2}, {\\\\\\\\\\\\\"column\\\\\\\\\\\\\": {\\\\\\\\\\\\\"type\\\\\\\\\\\\\": 2, \\\\\\\\\\\\\"details\\\\\\\\\\\\\": {\\\\\\\\\\\\\"selectedColumn\\\\\\\\\\\\\": \\\\\\\\\\\\\"BloodPressure\\\\\\\\\\\\\"}}, \\\\\\\\\\\\\"typeProperty\\\\\\\\\\\\\": 2}, {\\\\\\\\\\\\\"column\\\\\\\\\\\\\": {\\\\\\\\\\\\\"type\\\\\\\\\\\\\": 2, \\\\\\\\\\\\\"details\\\\\\\\\\\\\": {\\\\\\\\\\\\\"selectedColumn\\\\\\\\\\\\\": \\\\\\\\\\\\\"SkinThickness\\\\\\\\\\\\\"}}, \\\\\\\\\\\\\"typeProperty\\\\\\\\\\\\\": 2}, {\\\\\\\\\\\\\"column\\\\\\\\\\\\\": {\\\\\\\\\\\\\"type\\\\\\\\\\\\\": 2, \\\\\\\\\\\\\"details\\\\\\\\\\\\\": {\\\\\\\\\\\\\"selectedColumn\\\\\\\\\\\\\": \\\\\\\\\\\\\"Insulin\\\\\\\\\\\\\"}}, \\\\\\\\\\\\\"typeProperty\\\\\\\\\\\\\": 2}, {\\\\\\\\\\\\\"column\\\\\\\\\\\\\": {\\\\\\\\\\\\\"type\\\\\\\\\\\\\": 2, \\\\\\\\\\\\\"details\\\\\\\\\\\\\": {\\\\\\\\\\\\\"selectedColumn\\\\\\\\\\\\\": \\\\\\\\\\\\\"BMI\\\\\\\\\\\\\"}}, \\\\\\\\\\\\\"typeProperty\\\\\\\\\\\\\": 3}, {\\\\\\\\\\\\\"column\\\\\\\\\\\\\": {\\\\\\\\\\\\\"type\\\\\\\\\\\\\": 2, \\\\\\\\\\\\\"details\\\\\\\\\\\\\": {\\\\\\\\\\\\\"selectedColumn\\\\\\\\\\\\\": \\\\\\\\\\\\\"DiabetesPedigreeFunction\\\\\\\\\\\\\"}}, \\\\\\\\\\\\\"typeProperty\\\\\\\\\\\\\": 3}, {\\\\\\\\\\\\\"column\\\\\\\\\\\\\": {\\\\\\\\\\\\\"type\\\\\\\\\\\\\": 2, \\\\\\\\\\\\\"details\\\\\\\\\\\\\": {\\\\\\\\\\\\\"selectedColumn\\\\\\\\\\\\\": \\\\\\\\\\\\\"Age\\\\\\\\\\\\\"}}, \\\\\\\\\\\\\"typeProperty\\\\\\\\\\\\\": 2}, {\\\\\\\\\\\\\"column\\\\\\\\\\\\\": {\\\\\\\\\\\\\"type\\\\\\\\\\\\\": 2, \\\\\\\\\\\\\"details\\\\\\\\\\\\\": {\\\\\\\\\\\\\"selectedColumn\\\\\\\\\\\\\": \\\\\\\\\\\\\"Outcome\\\\\\\\\\\\\"}}, \\\\\\\\\\\\\"typeProperty\\\\\\\\\\\\\": 2}]}, \\\\\\\\\\\\\"localData\\\\\\\\\\\\\": {}, \\\\\\\\\\\\\"isEnabled\\\\\\\\\\\\\": true, \\\\\\\\\\\\\"name\\\\\\\\\\\\\": null, \\\\\\\\\\\\\"annotation\\\\\\\\\\\\\": null}], \\\\\\\\\\\\\"inspectors\\\\\\\\\\\\\": [], \\\\\\\\\\\\\"meta\\\\\\\\\\\\\": {\\\\\\\\\\\\\"savedDatasetId\\\\\\\\\\\\\": \\\\\\\\\\\\\"39088d6a-562c-44a5-b09e-331f13ab9482\\\\\\\\\\\\\", \\\\\\\\\\\\\"datasetType\\\\\\\\\\\\\": \\\\\\\\\\\\\"tabular\\\\\\\\\\\\\", \\\\\\\\\\\\\"subscriptionId\\\\\\\\\\\\\": \\\\\\\\\\\\\"a24a24d5-8d87-4c8a-99b6-91ed2d2df51f\\\\\\\\\\\\\", \\\\\\\\\\\\\"workspaceId\\\\\\\\\\\\\": \\\\\\\\\\\\\"b53a05d5-7580-4b0e-9c12-3eb1ca3a23e1\\\\\\\\\\\\\", \\\\\\\\\\\\\"workspaceLocation\\\\\\\\\\\\\": \\\\\\\\\\\\\"southcentralus\\\\\\\\\\\\\"}}\\\\\", \\\\\"activities\\\\\": 0}',\n",
       "  'EnableSubsampling': None,\n",
       "  'runTemplate': 'AutoML',\n",
       "  'azureml.runsource': 'automl',\n",
       "  'display_task_type': 'classification',\n",
       "  'dependencies_versions': '{\"azureml-widgets\": \"1.19.0\", \"azureml-train\": \"1.19.0\", \"azureml-train-restclients-hyperdrive\": \"1.19.0\", \"azureml-train-core\": \"1.19.0\", \"azureml-train-automl\": \"1.19.0\", \"azureml-train-automl-runtime\": \"1.19.0\", \"azureml-train-automl-client\": \"1.19.0\", \"azureml-tensorboard\": \"1.19.0\", \"azureml-telemetry\": \"1.19.0\", \"azureml-sdk\": \"1.19.0\", \"azureml-samples\": \"0+unknown\", \"azureml-pipeline\": \"1.19.0\", \"azureml-pipeline-steps\": \"1.19.0\", \"azureml-pipeline-core\": \"1.19.0\", \"azureml-opendatasets\": \"1.19.0\", \"azureml-model-management-sdk\": \"1.0.1b6.post1\", \"azureml-mlflow\": \"1.19.0\", \"azureml-interpret\": \"1.19.0\", \"azureml-explain-model\": \"1.19.0\", \"azureml-defaults\": \"1.19.0\", \"azureml-dataset-runtime\": \"1.19.0\", \"azureml-dataprep\": \"2.6.1\", \"azureml-dataprep-rslex\": \"1.4.0\", \"azureml-dataprep-native\": \"26.0.0\", \"azureml-datadrift\": \"1.19.0\", \"azureml-core\": \"1.19.0\", \"azureml-contrib-services\": \"1.19.0\", \"azureml-contrib-server\": \"1.19.0\", \"azureml-contrib-reinforcementlearning\": \"1.19.0\", \"azureml-contrib-pipeline-steps\": \"1.19.0\", \"azureml-contrib-notebook\": \"1.19.0\", \"azureml-contrib-interpret\": \"1.19.0\", \"azureml-contrib-gbdt\": \"1.19.0\", \"azureml-contrib-fairness\": \"1.19.0\", \"azureml-contrib-dataset\": \"1.19.0\", \"azureml-cli-common\": \"1.19.0\", \"azureml-automl-runtime\": \"1.19.0\", \"azureml-automl-core\": \"1.19.0\", \"azureml-accel-models\": \"1.19.0\"}',\n",
       "  '_aml_system_scenario_identification': 'Remote.Parent',\n",
       "  'ClientType': 'SDK',\n",
       "  'environment_cpu_name': 'AzureML-AutoML',\n",
       "  'environment_cpu_label': 'prod',\n",
       "  'environment_gpu_name': 'AzureML-AutoML-GPU',\n",
       "  'environment_gpu_label': 'prod',\n",
       "  'root_attribution': 'automl',\n",
       "  'attribution': 'AutoML',\n",
       "  'Orchestrator': 'AutoML',\n",
       "  'CancelUri': 'https://southcentralus.experiments.azureml.net/jasmine/v1.0/subscriptions/a24a24d5-8d87-4c8a-99b6-91ed2d2df51f/resourceGroups/aml-quickstarts-132399/providers/Microsoft.MachineLearningServices/workspaces/quick-starts-ws-132399/experimentids/dda01efc-87a8-4a68-83e7-ce489b76eef8/cancel/AutoML_2ec3f21f-9a94-4fa9-bc86-654faf41cb71',\n",
       "  'ClientSdkVersion': '1.19.0',\n",
       "  'snapshotId': '00000000-0000-0000-0000-000000000000',\n",
       "  'SetupRunId': 'AutoML_2ec3f21f-9a94-4fa9-bc86-654faf41cb71_setup',\n",
       "  'SetupRunContainerId': 'dcid.AutoML_2ec3f21f-9a94-4fa9-bc86-654faf41cb71_setup',\n",
       "  'FeaturizationRunJsonPath': 'featurizer_container.json',\n",
       "  'FeaturizationRunId': 'AutoML_2ec3f21f-9a94-4fa9-bc86-654faf41cb71_featurize',\n",
       "  'ProblemInfoJsonString': '{\"dataset_num_categorical\": 0, \"is_sparse\": false, \"subsampling\": false, \"dataset_classes\": 2, \"dataset_features\": 8, \"dataset_samples\": 614, \"single_frequency_class_detected\": false}',\n",
       "  'ModelExplainRunId': 'AutoML_2ec3f21f-9a94-4fa9-bc86-654faf41cb71_ModelExplain'},\n",
       " 'inputDatasets': [{'dataset': {'id': '39088d6a-562c-44a5-b09e-331f13ab9482'}, 'consumptionDetails': {'type': 'RunInput', 'inputName': 'training_data', 'mechanism': 'Direct'}}],\n",
       " 'outputDatasets': [],\n",
       " 'logFiles': {}}"
      ]
     },
     "execution_count": 12,
     "metadata": {},
     "output_type": "execute_result"
    }
   ],
   "source": [
    "from azureml.widgets import RunDetails\n",
    "RunDetails(remote_run).show()\n",
    "\n",
    "# wait for completion\n",
    "remote_run.wait_for_completion(show_output=True)"
   ]
  },
  {
   "cell_type": "markdown",
   "metadata": {},
   "source": [
    "## Best Model\n",
    "\n",
    "TODO: In the cell below, get the best model from the automl experiments and display all the properties of the model.\n",
    "\n"
   ]
  },
  {
   "cell_type": "code",
   "execution_count": 14,
   "metadata": {
    "gather": {
     "logged": 1609087589251
    },
    "jupyter": {
     "outputs_hidden": false,
     "source_hidden": false
    },
    "nteract": {
     "transient": {
      "deleting": false
     }
    }
   },
   "outputs": [
    {
     "name": "stdout",
     "output_type": "stream",
     "text": [
      "Run(Experiment: puru-auto-experiment,\n",
      "Id: AutoML_2ec3f21f-9a94-4fa9-bc86-654faf41cb71_36,\n",
      "Type: azureml.scriptrun,\n",
      "Status: Completed)\n",
      "Best Model: AutoML2ec3f21f936\n"
     ]
    },
    {
     "data": {
      "text/plain": [
       "{'runTemplate': 'automl_child',\n",
       " 'pipeline_id': '__AutoML_Ensemble__',\n",
       " 'pipeline_spec': '{\"pipeline_id\":\"__AutoML_Ensemble__\",\"objects\":[{\"module\":\"azureml.train.automl.ensemble\",\"class_name\":\"Ensemble\",\"spec_class\":\"sklearn\",\"param_args\":[],\"param_kwargs\":{\"automl_settings\":\"{\\'task_type\\':\\'classification\\',\\'primary_metric\\':\\'accuracy\\',\\'verbosity\\':20,\\'ensemble_iterations\\':15,\\'is_timeseries\\':False,\\'name\\':\\'puru-auto-experiment\\',\\'compute_target\\':\\'auto-ml\\',\\'subscription_id\\':\\'a24a24d5-8d87-4c8a-99b6-91ed2d2df51f\\',\\'region\\':\\'southcentralus\\',\\'spark_service\\':None}\",\"ensemble_run_id\":\"AutoML_2ec3f21f-9a94-4fa9-bc86-654faf41cb71_36\",\"experiment_name\":\"puru-auto-experiment\",\"workspace_name\":\"quick-starts-ws-132399\",\"subscription_id\":\"a24a24d5-8d87-4c8a-99b6-91ed2d2df51f\",\"resource_group_name\":\"aml-quickstarts-132399\"}}]}',\n",
       " 'training_percent': '100',\n",
       " 'predicted_cost': None,\n",
       " 'iteration': '36',\n",
       " '_aml_system_scenario_identification': 'Remote.Child',\n",
       " '_azureml.ComputeTargetType': 'amlcompute',\n",
       " 'ContentSnapshotId': '61d08fe5-ba02-4b66-be49-04e3216c9f29',\n",
       " 'ProcessInfoFile': 'azureml-logs/process_info.json',\n",
       " 'ProcessStatusFile': 'azureml-logs/process_status.json',\n",
       " 'run_template': 'automl_child',\n",
       " 'run_preprocessor': '',\n",
       " 'run_algorithm': 'VotingEnsemble',\n",
       " 'conda_env_data_location': 'aml://artifact/ExperimentRun/dcid.AutoML_2ec3f21f-9a94-4fa9-bc86-654faf41cb71_36/outputs/conda_env_v_1_0_0.yml',\n",
       " 'model_data_location': 'aml://artifact/ExperimentRun/dcid.AutoML_2ec3f21f-9a94-4fa9-bc86-654faf41cb71_36/outputs/model.pkl',\n",
       " 'model_size_on_disk': '560010',\n",
       " 'scoring_data_location': 'aml://artifact/ExperimentRun/dcid.AutoML_2ec3f21f-9a94-4fa9-bc86-654faf41cb71_36/outputs/scoring_file_v_1_0_0.py',\n",
       " 'model_exp_support': 'True',\n",
       " 'pipeline_graph_version': '1.0.0',\n",
       " 'model_name': 'AutoML2ec3f21f936',\n",
       " 'staticProperties': '{}',\n",
       " 'score': '0.7752749880439981',\n",
       " 'run_properties': \"classification_labels=None,\\n                              estimators=[('6',\\n                                           Pipeline(memory=None,\\n                                                    steps=[('maxabsscaler',\\n                                                            MaxAbsScaler(copy=True\",\n",
       " 'pipeline_script': '{\"pipeline_id\":\"__AutoML_Ensemble__\",\"objects\":[{\"module\":\"azureml.train.automl.ensemble\",\"class_name\":\"Ensemble\",\"spec_class\":\"sklearn\",\"param_args\":[],\"param_kwargs\":{\"automl_settings\":\"{\\'task_type\\':\\'classification\\',\\'primary_metric\\':\\'accuracy\\',\\'verbosity\\':20,\\'ensemble_iterations\\':15,\\'is_timeseries\\':False,\\'name\\':\\'puru-auto-experiment\\',\\'compute_target\\':\\'auto-ml\\',\\'subscription_id\\':\\'a24a24d5-8d87-4c8a-99b6-91ed2d2df51f\\',\\'region\\':\\'southcentralus\\',\\'spark_service\\':None}\",\"ensemble_run_id\":\"AutoML_2ec3f21f-9a94-4fa9-bc86-654faf41cb71_36\",\"experiment_name\":\"puru-auto-experiment\",\"workspace_name\":\"quick-starts-ws-132399\",\"subscription_id\":\"a24a24d5-8d87-4c8a-99b6-91ed2d2df51f\",\"resource_group_name\":\"aml-quickstarts-132399\"}}]}',\n",
       " 'training_type': 'MeanCrossValidation',\n",
       " 'num_classes': '',\n",
       " 'framework': 'sklearn',\n",
       " 'fit_time': '25',\n",
       " 'goal': 'accuracy_max',\n",
       " 'class_labels': '',\n",
       " 'primary_metric': 'accuracy',\n",
       " 'errors': '{}',\n",
       " 'fitted_pipeline': \"Pipeline(memory=None,\\n         steps=[('datatransformer',\\n                 DataTransformer(enable_dnn=None, enable_feature_sweeping=None,\\n                                 feature_sweeping_config=None,\\n                                 feature_sweeping_timeout=None,\\n                                 featurization_config=None, force_text_dnn=None,\\n                                 is_cross_validation=None,\\n                                 is_onnx_compatible=None, logger=None,\\n                                 observer=None, task=None, working_dir=None)),\\n                ('prefittedsoftvotingclassifier',...\\n                                                                            ('kneighborsclassifier',\\n                                                                             KNeighborsClassifier(algorithm='auto',\\n                                                                                                  leaf_size=30,\\n                                                                                                  metric='l1',\\n                                                                                                  metric_params=None,\\n                                                                                                  n_jobs=1,\\n                                                                                                  n_neighbors=8,\\n                                                                                                  p=2,\\n                                                                                                  weights='distance'))],\\n                                                                     verbose=False))],\\n                                               flatten_transform=None,\\n                                               weights=[0.08333333333333333,\\n                                                        0.08333333333333333,\\n                                                        0.16666666666666666,\\n                                                        0.08333333333333333,\\n                                                        0.08333333333333333,\\n                                                        0.16666666666666666,\\n                                                        0.25,\\n                                                        0.08333333333333333]))],\\n         verbose=False)\",\n",
       " 'friendly_errors': '{}',\n",
       " 'onnx_model_resource': \"{'RawColumnNameToOnnxNameMap': {'Pregnancies': 'Pregnancies', 'Glucose': 'Glucose', 'BloodPressure': 'BloodPressure', 'SkinThickness': 'SkinThickness', 'Insulin': 'Insulin', 'BMI': 'BMI', 'DiabetesPedigreeFunction': 'DiabetesPedigreeFunction', 'Age': 'Age'}, 'InputRawColumnSchema': {'Pregnancies': 'floating', 'Glucose': 'floating', 'BloodPressure': 'floating', 'SkinThickness': 'floating', 'Insulin': 'floating', 'BMI': 'floating', 'DiabetesPedigreeFunction': 'floating', 'Age': 'floating'}, 'InputOnnxColumnSchema': {'Pregnancies': 'FloatTensorType', 'Glucose': 'FloatTensorType', 'BloodPressure': 'FloatTensorType', 'SkinThickness': 'FloatTensorType', 'Insulin': 'FloatTensorType', 'BMI': 'FloatTensorType', 'DiabetesPedigreeFunction': 'FloatTensorType', 'Age': 'FloatTensorType'}, 'CanEnableBatchMode': False}\",\n",
       " 'error_code': '',\n",
       " 'failure_reason': '',\n",
       " 'feature_skus': 'automatedml_sdk_guardrails',\n",
       " 'dependencies_versions': '{\"azureml-train-automl-runtime\": \"1.19.0\", \"azureml-train-automl-client\": \"1.19.0\", \"azureml-telemetry\": \"1.19.0\", \"azureml-pipeline-core\": \"1.19.0\", \"azureml-model-management-sdk\": \"1.0.1b6.post1\", \"azureml-interpret\": \"1.19.0\", \"azureml-defaults\": \"1.19.0\", \"azureml-dataset-runtime\": \"1.19.0\", \"azureml-dataprep\": \"2.6.1\", \"azureml-dataprep-rslex\": \"1.4.0\", \"azureml-dataprep-native\": \"26.0.0\", \"azureml-core\": \"1.19.0\", \"azureml-automl-runtime\": \"1.19.0\", \"azureml-automl-core\": \"1.19.0\"}',\n",
       " 'num_cores': '2',\n",
       " 'num_logical_cores': '2',\n",
       " 'peak_memory_usage': '563600',\n",
       " 'vm_configuration': 'Intel(R) Xeon(R) Platinum 8171M CPU @ 2.60GHz',\n",
       " 'core_hours': '0.005330504444444444'}"
      ]
     },
     "execution_count": 14,
     "metadata": {},
     "output_type": "execute_result"
    }
   ],
   "source": [
    "# Retrieve the best automl run model\n",
    "best_automl_run, fitted_automl_model = remote_run.get_output()\n",
    "print(best_automl_run)\n",
    "\n",
    "# get best model and display properties\n",
    "model_name = best_automl_run.properties['model_name']\n",
    "print(\"Best Model:\", model_name)\n",
    "\n",
    "# display all the properties of the best model\n",
    "#best_automl_run #.properties\n",
    "best_automl_run.get_properties()"
   ]
  },
  {
   "cell_type": "code",
   "execution_count": 16,
   "metadata": {
    "gather": {
     "logged": 1609087817089
    },
    "jupyter": {
     "outputs_hidden": false,
     "source_hidden": false
    },
    "nteract": {
     "transient": {
      "deleting": false
     }
    }
   },
   "outputs": [
    {
     "name": "stdout",
     "output_type": "stream",
     "text": [
      "RunID: \tAutoML_2ec3f21f-9a94-4fa9-bc86-654faf41cb71\n"
     ]
    }
   ],
   "source": [
    "# register best autoML model for future deployment\n",
    "os.makedirs('outputs', exist_ok=True)\n",
    "\n",
    "description = 'Diabetec'\n",
    "tags = {'area': 'health', 'type': 'classification'}\n",
    "automl_model = remote_run.register_model(model_name = 'automlbestmodel', \n",
    "            description = description, tags = tags)\n",
    "\n",
    "print(\"RunID: \", remote_run.id, sep='\\t')"
   ]
  },
  {
   "cell_type": "code",
   "execution_count": null,
   "metadata": {},
   "outputs": [],
   "source": [
    "best_automl, best_fit_model = remote_run.get_output()"
   ]
  },
  {
   "cell_type": "code",
   "execution_count": null,
   "metadata": {},
   "outputs": [],
   "source": [
    "print(best_fit_model)"
   ]
  },
  {
   "cell_type": "code",
   "execution_count": null,
   "metadata": {},
   "outputs": [],
   "source": [
    "import joblib\n",
    "joblib.dump(best_fit_model, 'automlbestmodel.pkl')"
   ]
  },
  {
   "cell_type": "code",
   "execution_count": null,
   "metadata": {},
   "outputs": [],
   "source": [
    "# register best autoML model for future deployment\n",
    "from azureml.core.model import Model\n",
    "model= Model.register(workspace = ws, model_name='automlbestmodel', model_path='automlbestmodel.pkl')\n",
    "print(model.name, model.id, model.version, sep='\\t')"
   ]
  },
  {
   "cell_type": "markdown",
   "metadata": {},
   "source": [
    "## Model Deployment\n",
    "\n",
    "Remember you have to deploy only one of the two models you trained.. Perform the steps in the rest of this notebook only if you wish to deploy this model.\n",
    "\n",
    "TODO: In the cell below, register the model, create an inference config and deploy the model as a web service."
   ]
  },
  {
   "cell_type": "code",
   "execution_count": 17,
   "metadata": {},
   "outputs": [],
   "source": [
    "from azureml.core.environment import Environment\n",
    "from azureml.core.model import InferenceConfig\n",
    "from azureml.core.webservice import AciWebservice\n",
    "from azureml.core.model import Model"
   ]
  },
  {
   "cell_type": "code",
   "execution_count": 32,
   "metadata": {},
   "outputs": [
    {
     "name": "stdout",
     "output_type": "stream",
     "text": [
      "Overwriting score.py\n"
     ]
    }
   ],
   "source": [
    "%%writefile score.py\n",
    "import json\n",
    "import numpy as np\n",
    "import os\n",
    "import pickle\n",
    "import joblib\n",
    "from azureml.core.model import Model\n",
    "\n",
    "def init():\n",
    "    global model\n",
    "    # AZUREML_MODEL_DIR is an environment variable created during deployment.\n",
    "    # It is the path to the model folder (./azureml-models/$MODEL_NAME/$VERSION)\n",
    "    # For multiple models, it points to the folder containing all deployed models (./azureml-models)\n",
    "    mypath = os.getenv('AZUREML_MODEL_DIR')\n",
    "    print('puru my path: ' + mypath)\n",
    "    model_path = os.path.join(os.getenv('AZUREML_MODEL_DIR'), './models')\n",
    "    #model_path = os.path.join(os.getenv('AZUREML_MODEL_DIR'), 'model.pkl')\n",
    "    #model_path = Model.get_model_path('automlbestmodel')\n",
    "    print('puru: ' + model_path)\n",
    "    model = joblib.load(model_path + model_path + '/automlbestmodel.pkl')\n",
    "\n",
    "def run(raw_data):\n",
    "    data = np.array(json.loads(raw_data)['data'])\n",
    "    # make prediction\n",
    "    y_hat = model.predict(data)\n",
    "    # you can return any data type as long as it is JSON-serializable\n",
    "    return y_hat.tolist()"
   ]
  },
  {
   "cell_type": "code",
   "execution_count": 19,
   "metadata": {},
   "outputs": [],
   "source": [
    "from azureml.core.webservice import AciWebservice\n",
    "\n",
    "aciconfig = AciWebservice.deploy_configuration(cpu_cores=1, \n",
    "                                               memory_gb=1, \n",
    "                                               enable_app_insights=True, auth_enabled=True,\n",
    "                                               tags={\"data\": \"health\",  \"method\" : \"automl\"}, \n",
    "                                               description='Predict diabetec with AutoML')"
   ]
  },
  {
   "cell_type": "code",
   "execution_count": 29,
   "metadata": {},
   "outputs": [
    {
     "data": {
      "text/plain": [
       "{\n",
       "    \"databricks\": {\n",
       "        \"eggLibraries\": [],\n",
       "        \"jarLibraries\": [],\n",
       "        \"mavenLibraries\": [],\n",
       "        \"pypiLibraries\": [],\n",
       "        \"rcranLibraries\": []\n",
       "    },\n",
       "    \"docker\": {\n",
       "        \"arguments\": [],\n",
       "        \"baseDockerfile\": null,\n",
       "        \"baseImage\": \"mcr.microsoft.com/azureml/intelmpi2018.3-ubuntu16.04:20200821.v1\",\n",
       "        \"baseImageRegistry\": {\n",
       "            \"address\": null,\n",
       "            \"password\": null,\n",
       "            \"registryIdentity\": null,\n",
       "            \"username\": null\n",
       "        },\n",
       "        \"enabled\": false,\n",
       "        \"platform\": {\n",
       "            \"architecture\": \"amd64\",\n",
       "            \"os\": \"Linux\"\n",
       "        },\n",
       "        \"sharedVolumes\": true,\n",
       "        \"shmSize\": null\n",
       "    },\n",
       "    \"environmentVariables\": {\n",
       "        \"EXAMPLE_ENV_VAR\": \"EXAMPLE_VALUE\"\n",
       "    },\n",
       "    \"inferencingStackVersion\": null,\n",
       "    \"name\": \"tutorial-env\",\n",
       "    \"python\": {\n",
       "        \"baseCondaEnvironment\": null,\n",
       "        \"condaDependencies\": {\n",
       "            \"channels\": [\n",
       "                \"anaconda\",\n",
       "                \"conda-forge\"\n",
       "            ],\n",
       "            \"dependencies\": [\n",
       "                \"python=3.6.2\",\n",
       "                {\n",
       "                    \"pip\": [\n",
       "                        \"azureml-dataset-runtime[pandas,fuse]~=1.19.0\",\n",
       "                        \"azureml-defaults~=1.19.0\"\n",
       "                    ]\n",
       "                },\n",
       "                \"scikit-learn==0.22.1\"\n",
       "            ],\n",
       "            \"name\": \"azureml_e9628e39691fa30b1f8588e7375b026c\"\n",
       "        },\n",
       "        \"condaDependenciesFile\": null,\n",
       "        \"interpreterPath\": \"python\",\n",
       "        \"userManagedDependencies\": false\n",
       "    },\n",
       "    \"r\": null,\n",
       "    \"spark\": {\n",
       "        \"packages\": [],\n",
       "        \"precachePackages\": true,\n",
       "        \"repositories\": []\n",
       "    },\n",
       "    \"version\": \"1\"\n",
       "}"
      ]
     },
     "execution_count": 29,
     "metadata": {},
     "output_type": "execute_result"
    }
   ],
   "source": [
    "from azureml.core.environment import Environment\n",
    "from azureml.core.conda_dependencies import CondaDependencies\n",
    "\n",
    "# to install required packages\n",
    "env = Environment('tutorial-env')\n",
    "cd = CondaDependencies.create(pip_packages=['azureml-dataset-runtime[pandas,fuse]', 'azureml-defaults'], conda_packages = ['scikit-learn==0.22.1'])\n",
    "\n",
    "env.python.conda_dependencies = cd\n",
    "\n",
    "# Register environment to re-use later\n",
    "env.register(workspace = ws)"
   ]
  },
  {
   "cell_type": "code",
   "execution_count": null,
   "metadata": {},
   "outputs": [
    {
     "name": "stdout",
     "output_type": "stream",
     "text": [
      "Model(workspace=Workspace.create(name='quick-starts-ws-132399', subscription_id='a24a24d5-8d87-4c8a-99b6-91ed2d2df51f', resource_group='aml-quickstarts-132399'), name=automlbestmodel, id=automlbestmodel:1, version=1, tags={'area': 'health', 'type': 'classification'}, properties={})\n",
      "Tips: You can try get_logs(): https://aka.ms/debugimage#dockerlog or local deployment: https://aka.ms/debugimage#debug-locally to debug if deployment takes longer than 10 minutes.\n",
      "Running.........................................................................................................................................................................................."
     ]
    }
   ],
   "source": [
    "%%time\n",
    "import uuid\n",
    "from azureml.core.webservice import Webservice\n",
    "from azureml.core.model import InferenceConfig\n",
    "from azureml.core.environment import Environment\n",
    "from azureml.core import Workspace\n",
    "from azureml.core.model import Model\n",
    "\n",
    "ws = Workspace.from_config()\n",
    "model = Model(ws, 'automlbestmodel')\n",
    "print(model)\n",
    "\n",
    "#myenv = Environment.get(workspace=ws, name=\"tutorial-env\", version=\"1\")\n",
    "inference_config = InferenceConfig(entry_script=\"score.py\", environment=env)\n",
    "\n",
    "service_name = 'automlsvcfour'\n",
    "service = Model.deploy(workspace=ws, \n",
    "                       name=service_name, \n",
    "                       models=[model], \n",
    "                       inference_config=inference_config, \n",
    "                       deployment_config=aciconfig)\n",
    "\n",
    "service.wait_for_deployment(show_output=True)"
   ]
  },
  {
   "cell_type": "markdown",
   "metadata": {
    "collapsed": true,
    "gather": {
     "logged": 1598431657736
    },
    "jupyter": {
     "outputs_hidden": false,
     "source_hidden": false
    },
    "nteract": {
     "transient": {
      "deleting": false
     }
    }
   },
   "source": [
    "TODO: In the cell below, send a request to the web service you deployed to test it."
   ]
  },
  {
   "cell_type": "code",
   "execution_count": null,
   "metadata": {
    "gather": {
     "logged": 1598432707604
    },
    "jupyter": {
     "outputs_hidden": false,
     "source_hidden": false
    },
    "nteract": {
     "transient": {
      "deleting": false
     }
    }
   },
   "outputs": [],
   "source": [
    "print(service.get_logs())\n"
   ]
  },
  {
   "cell_type": "markdown",
   "metadata": {
    "collapsed": true,
    "gather": {
     "logged": 1598432765711
    },
    "jupyter": {
     "outputs_hidden": false,
     "source_hidden": false
    },
    "nteract": {
     "transient": {
      "deleting": false
     }
    }
   },
   "source": [
    "TODO: In the cell below, print the logs of the web service and delete the service"
   ]
  },
  {
   "cell_type": "code",
   "execution_count": null,
   "metadata": {
    "jupyter": {
     "outputs_hidden": false,
     "source_hidden": false
    },
    "nteract": {
     "transient": {
      "deleting": false
     }
    }
   },
   "outputs": [],
   "source": [
    "print(service.state)\n",
    "print(\"scoring URI: \" + service.scoring_uri)\n",
    "\n",
    "print(\"Swagger URI: \" + service.swagger_uri)\n",
    "\n",
    "print(\"Authetication Key: \" + service.get_keys())"
   ]
  },
  {
   "cell_type": "code",
   "execution_count": null,
   "metadata": {},
   "outputs": [],
   "source": [
    "import json\n",
    "\n",
    "input_payload = json.dumps({\n",
    "    'data': dataset_x[0:2].tolist(),\n",
    "    'method': 'predict'  # If you have a classification model, you can get probabilities by changing this to 'predict_proba'.\n",
    "})\n",
    "\n",
    "output = service.run(input_payload)\n",
    "\n",
    "print(output)"
   ]
  }
 ],
 "metadata": {
  "kernel_info": {
   "name": "python3"
  },
  "kernelspec": {
   "display_name": "Python 3",
   "language": "python",
   "name": "python3"
  },
  "language_info": {
   "codemirror_mode": {
    "name": "ipython",
    "version": 3
   },
   "file_extension": ".py",
   "mimetype": "text/x-python",
   "name": "python",
   "nbconvert_exporter": "python",
   "pygments_lexer": "ipython3",
   "version": "3.6.9"
  },
  "nteract": {
   "version": "nteract-front-end@1.0.0"
  }
 },
 "nbformat": 4,
 "nbformat_minor": 2
}
